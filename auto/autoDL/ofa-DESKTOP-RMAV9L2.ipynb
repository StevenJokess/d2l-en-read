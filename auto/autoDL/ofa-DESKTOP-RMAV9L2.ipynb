{
  "nbformat": 4,
  "nbformat_minor": 0,
  "metadata": {
    "kernelspec": {
      "display_name": "Python 3",
      "language": "python",
      "name": "python3"
    },
    "language_info": {
      "codemirror_mode": {
        "name": "ipython",
        "version": 3
      },
      "file_extension": ".py",
      "mimetype": "text/x-python",
      "name": "python",
      "nbconvert_exporter": "python",
      "pygments_lexer": "ipython3",
      "version": "3.7.4"
    },
    "colab": {
      "name": "ofa.ipynb",
      "provenance": []
    },
    "accelerator": "GPU"
  },
  "cells": [
    {
      "cell_type": "markdown",
      "metadata": {
        "id": "yoV45dg1jv9e"
      },
      "source": [
        "# How to Get Your Specialized Neural Networks on ImageNet in Minutes With OFA Networks\n",
        "\n",
        "In this notebook, we will demonstrate \n",
        "- how to use pretrained specialized OFA sub-networks for efficient inference on diverse hardware platforms\n",
        "- how to get new specialized neural networks on ImageNet with the OFA network within minutes.\n",
        "\n",
        "**[Once-for-All (OFA)](https://github.com/mit-han-lab/once-for-all)** is an efficient AutoML technique\n",
        "that decouples training from search.\n",
        "Different sub-nets can directly grab weights from the OFA network without training.\n",
        "Therefore, getting a new specialized neural network with the OFA network is highly efficient, incurring little computation cost.\n",
        "\n",
        "![](https://hanlab.mit.edu/files/OnceForAll/figures/ofa_search_cost.png)"
      ]
    },
    {
      "cell_type": "markdown",
      "metadata": {
        "id": "p54AzW9Bjv9q"
      },
      "source": [
        "## 1. Preparation\n",
        "Let's first install all the required packages:"
      ]
    },
    {
      "cell_type": "code",
      "metadata": {
        "id": "u4g3bFGtjv9s",
        "outputId": "3bdffc41-053a-4c79-c8d3-32be3dc4021c",
        "colab": {
          "base_uri": "https://localhost:8080/"
        }
      },
      "source": [
        "print('Installing PyTorch...')\n",
        "! pip install torch 1>/dev/null\n",
        "print('Installing torchvision...')\n",
        "! pip install torchvision 1>/dev/null\n",
        "print('Installing numpy...')\n",
        "! pip install numpy 1>/dev/null\n",
        "# thop is a package for FLOPs computing.\n",
        "print('Installing thop (FLOPs counter) ...')\n",
        "! pip install thop 1>/dev/null\n",
        "# ofa is a package containing training code, pretrained specialized models and inference code for the once-for-all networks.\n",
        "print('Installing OFA...')\n",
        "! pip install ofa 1>/dev/null\n",
        "# tqdm is a package for displaying a progress bar.\n",
        "print('Installing tqdm (progress bar) ...')\n",
        "! pip install tqdm 1>/dev/null\n",
        "print('Installing matplotlib...')\n",
        "! pip install matplotlib 1>/dev/null\n",
        "print('All required packages have been successfully installed!')"
      ],
      "execution_count": 1,
      "outputs": [
        {
          "output_type": "stream",
          "text": [
            "Installing PyTorch...\n",
            "Installing torchvision...\n",
            "Installing numpy...\n",
            "Installing thop (FLOPs counter) ...\n",
            "Installing OFA...\n",
            "Installing tqdm (progress bar) ...\n",
            "Installing matplotlib...\n",
            "All required packages have been successfully installed!\n"
          ],
          "name": "stdout"
        }
      ]
    },
    {
      "cell_type": "markdown",
      "metadata": {
        "id": "QdHWVSvxjv9z"
      },
      "source": [
        "Then, we can import the packages used in this tutorial:"
      ]
    },
    {
      "cell_type": "code",
      "metadata": {
        "id": "6jCn5mZzjv90",
        "outputId": "03e64943-9224-457a-b7d9-651f06ca7329",
        "colab": {
          "base_uri": "https://localhost:8080/"
        }
      },
      "source": [
        "import os\n",
        "import torch\n",
        "import torch.nn as nn\n",
        "from torchvision import transforms, datasets\n",
        "import numpy as np\n",
        "import time\n",
        "import random\n",
        "import math\n",
        "import copy\n",
        "from matplotlib import pyplot as plt\n",
        "\n",
        "from ofa.model_zoo import ofa_net\n",
        "from ofa.utils import download_url\n",
        "\n",
        "# from ofa.tutorial.accuracy_predictor import AccuracyPredictor\n",
        "# from ofa.tutorial.flops_table import FLOPsTable\n",
        "# from ofa.tutorial.latency_table import LatencyTable\n",
        "# from ofa.tutorial.evolution_finder import EvolutionFinder\n",
        "# from ofa.tutorial.imagenet_eval_helper import evaluate_ofa_subnet, evaluate_ofa_specialized\n",
        "from ofa.tutorial import AccuracyPredictor, FLOPsTable, LatencyTable, EvolutionFinder\n",
        "from ofa.tutorial import evaluate_ofa_subnet, evaluate_ofa_specialized\n",
        "\n",
        "# set random seed\n",
        "random_seed = 1\n",
        "random.seed(random_seed)\n",
        "np.random.seed(random_seed)\n",
        "torch.manual_seed(random_seed)\n",
        "print('Successfully imported all packages and configured random seed to %d!'%random_seed)"
      ],
      "execution_count": 2,
      "outputs": [
        {
          "output_type": "stream",
          "text": [
            "Successfully imported all packages and configured random seed to 1!\n"
          ],
          "name": "stdout"
        }
      ]
    },
    {
      "cell_type": "markdown",
      "metadata": {
        "id": "K_4xImuMjv93"
      },
      "source": [
        "Now it's time to determine which device to use for neural network inference in the rest of this tutorial. If your machine is equipped with GPU(s), we will use the GPU by default. Otherwise, we will use the CPU."
      ]
    },
    {
      "cell_type": "code",
      "metadata": {
        "pycharm": {
          "name": "#%%\n"
        },
        "id": "YupCqyEljv94",
        "outputId": "ba4c6e2b-f2dc-41c3-ddfc-8a42ff102928",
        "colab": {
          "base_uri": "https://localhost:8080/"
        }
      },
      "source": [
        "#os.environ['CUDA_VISIBLE_DEVICES'] = '0'\n",
        "cuda_available = torch.cuda.is_available()\n",
        "if cuda_available:\n",
        "    torch.backends.cudnn.enabled = True\n",
        "    torch.backends.cudnn.benchmark = True\n",
        "    torch.cuda.manual_seed(random_seed)\n",
        "    print('Using GPU.')\n",
        "else:\n",
        "    print('Using CPU.')"
      ],
      "execution_count": 3,
      "outputs": [
        {
          "output_type": "stream",
          "text": [
            "Using GPU.\n"
          ],
          "name": "stdout"
        }
      ]
    },
    {
      "cell_type": "markdown",
      "metadata": {
        "id": "5otqBsQfjv98"
      },
      "source": [
        "Good! Now you have successfully configured the environment! It's time to import the **OFA network** for the following experiments.\n",
        "The OFA network used in this tutorial is built upon MobileNetV3 with width multiplier 1.2, supporting elastic depth (2, 3, 4) per stage, elastic expand ratio (3, 4, 6), and elastic kernel size (3, 5 7) per block."
      ]
    },
    {
      "cell_type": "code",
      "metadata": {
        "pycharm": {
          "name": "#%%\n"
        },
        "id": "4Vk-69eYjv99",
        "outputId": "984b7db3-c549-4c4a-ff36-37b576cf83d9",
        "colab": {
          "base_uri": "https://localhost:8080/"
        }
      },
      "source": [
        "ofa_network = ofa_net('ofa_mbv3_d234_e346_k357_w1.2', pretrained=True)\n",
        "print('The OFA Network is ready.')"
      ],
      "execution_count": 4,
      "outputs": [
        {
          "output_type": "stream",
          "text": [
            "The OFA Network is ready.\n"
          ],
          "name": "stdout"
        }
      ]
    },
    {
      "cell_type": "markdown",
      "metadata": {
        "pycharm": {
          "name": "#%% md\n"
        },
        "id": "NTwA3JrRjv-A"
      },
      "source": [
        "Now, let's build the ImageNet dataset and the corresponding dataloader. Notice that **if you're using the CPU,\n",
        "we will skip ImageNet evaluation by default** since it will be very slow.\n",
        "If you are using the GPU, in case you don't have the full dataset,\n",
        "we will download a subset of ImageNet which contains 2,000 images (~250M) for testing.\n",
        "If you do have the full ImageNet dataset on your machine, just specify it in `imagenet_data_path` and the downloading script will be skipped."
      ]
    },
    {
      "cell_type": "code",
      "metadata": {
        "pycharm": {
          "name": "#%%\n"
        },
        "id": "mrHl_MCEjv-B",
        "outputId": "57d0c8d0-2e6d-422d-adc2-cefc359d5824",
        "colab": {
          "base_uri": "https://localhost:8080/"
        }
      },
      "source": [
        "if cuda_available:\n",
        "    # path to the ImageNet dataset\n",
        "    print(\"Please input the path to the ImageNet dataset.\\n\")\n",
        "    imagenet_data_path = input()\n",
        "\n",
        "    # if 'imagenet_data_path' is empty, download a subset of ImageNet containing 2000 images (~250M) for test\n",
        "    if not os.path.isdir(imagenet_data_path):\n",
        "        os.makedirs(imagenet_data_path, exist_ok=True)\n",
        "        download_url('https://hanlab.mit.edu/files/OnceForAll/ofa_cvpr_tutorial/imagenet_1k.zip', model_dir='data')\n",
        "        ! cd data && unzip imagenet_1k 1>/dev/null && cd ..\n",
        "        ! cp -r data/imagenet_1k/* $imagenet_data_path\n",
        "        ! rm -rf data\n",
        "        print('%s is empty. Download a subset of ImageNet for test.' % imagenet_data_path)\n",
        "\n",
        "    print('The ImageNet dataset files are ready.')\n",
        "else:\n",
        "    print('Since GPU is not found in the environment, we skip all scripts related to ImageNet evaluation.')"
      ],
      "execution_count": 5,
      "outputs": [
        {
          "output_type": "stream",
          "text": [
            "Please input the path to the ImageNet dataset.\n",
            "\n",
            "ImageNet\n"
          ],
          "name": "stdout"
        },
        {
          "output_type": "stream",
          "text": [
            "Downloading: \"https://hanlab.mit.edu/files/OnceForAll/ofa_cvpr_tutorial/imagenet_1k.zip\" to data/imagenet_1k.zip\n"
          ],
          "name": "stderr"
        },
        {
          "output_type": "stream",
          "text": [
            "ImageNet is empty. Download a subset of ImageNet for test.\n",
            "The ImageNet dataset files are ready.\n"
          ],
          "name": "stdout"
        }
      ]
    },
    {
      "cell_type": "markdown",
      "metadata": {
        "id": "a9tSahECjv-F"
      },
      "source": [
        "Now you have configured the dataset. Let's build the dataloader for evaluation.\n",
        "Again, this will be skipped if you are in a CPU environment."
      ]
    },
    {
      "cell_type": "code",
      "metadata": {
        "id": "oM-Z78nyjv-F",
        "outputId": "705135e6-7430-425a-fd00-7bbe6db85852",
        "colab": {
          "base_uri": "https://localhost:8080/"
        }
      },
      "source": [
        "if cuda_available:\n",
        "    # The following function build the data transforms for test\n",
        "    def build_val_transform(size):\n",
        "        return transforms.Compose([\n",
        "            transforms.Resize(int(math.ceil(size / 0.875))),\n",
        "            transforms.CenterCrop(size),\n",
        "            transforms.ToTensor(),\n",
        "            transforms.Normalize(\n",
        "                mean=[0.485, 0.456, 0.406],\n",
        "                std=[0.229, 0.224, 0.225]\n",
        "            ),\n",
        "        ])\n",
        "\n",
        "    data_loader = torch.utils.data.DataLoader(\n",
        "        datasets.ImageFolder(\n",
        "            root=os.path.join(imagenet_data_path, 'val'),\n",
        "            transform=build_val_transform(224)\n",
        "        ),\n",
        "        batch_size=250,  # test batch size\n",
        "        shuffle=True,\n",
        "        num_workers=16,  # number of workers for the data loader\n",
        "        pin_memory=True,\n",
        "        drop_last=False,\n",
        "    )\n",
        "    print('The ImageNet dataloader is ready.')\n",
        "else:\n",
        "    data_loader = None\n",
        "    print('Since GPU is not found in the environment, we skip all scripts related to ImageNet evaluation.')"
      ],
      "execution_count": 6,
      "outputs": [
        {
          "output_type": "stream",
          "text": [
            "The ImageNet dataloader is ready.\n"
          ],
          "name": "stdout"
        }
      ]
    },
    {
      "cell_type": "markdown",
      "metadata": {
        "id": "ouL1shvcjv-J"
      },
      "source": [
        "## 2. Using Pretrained Specialized OFA Sub-Networks\n",
        "![](https://hanlab.mit.edu/files/OnceForAll/figures/select_subnets.png)\n",
        "The specialized OFA sub-networks are \"small\" networks sampled from the \"big\" OFA network as is indicated in the figure above.\n",
        "The OFA network supports over $10^{19}$ sub-networks simultaneously, so that the deployment cost for multiple scenarios can be saved by 16$\\times$ to 1300$\\times$ under 40 deployment scenarios.\n",
        "Now, let's play with some of the sub-networks through the following interactive command line prompt (**Notice that for CPU users, this will be skipped**).\n",
        "We recommend you to try a smaller sub-network (e.g., the sub-network for pixel1 with 20ms inference latency constraint) so that it takes less time to evaluate the model on ImageNet."
      ]
    },
    {
      "cell_type": "code",
      "metadata": {
        "id": "G2a0jNkMjv-K",
        "outputId": "665f9bd6-46b9-40dc-af3e-7476810773b9",
        "colab": {
          "base_uri": "https://localhost:8080/"
        }
      },
      "source": [
        "if cuda_available:\n",
        "    net_id = evaluate_ofa_specialized(imagenet_data_path, data_loader)\n",
        "    print('Finished evaluating the pretrained sub-network: %s!' % net_id)\n",
        "else:\n",
        "    print('Since GPU is not found in the environment, we skip all scripts related to ImageNet evaluation.')"
      ],
      "execution_count": 7,
      "outputs": [
        {
          "output_type": "stream",
          "text": [
            "Please select a hardware platform from ('pixel1', 'pixel2', 'note10', 'note8', 's7edge', 'lg-g8', '1080ti', 'v100', 'tx2', 'cpu', 'flops')!\n",
            "\n",
            "note10\n",
            "Now, please specify a latency constraint for model specialization among [8, 11, 16, 22, 30, 41, 50, 64] ms. (Please just input the number.) \n",
            "\n",
            "30\n"
          ],
          "name": "stdout"
        },
        {
          "output_type": "stream",
          "text": [
            "Downloading: \"https://hanlab.mit.edu/files/OnceForAll/ofa_specialized/note10_lat@30ms_top1@78.4_finetune@75/net.config\" to .torch/ofa_specialized/note10_lat@30ms_top1@78.4_finetune@75/net.config\n",
            "Downloading: \"https://hanlab.mit.edu/files/OnceForAll/ofa_specialized/note10_lat@30ms_top1@78.4_finetune@75/run.config\" to .torch/ofa_specialized/note10_lat@30ms_top1@78.4_finetune@75/run.config\n",
            "Downloading: \"https://hanlab.mit.edu/files/OnceForAll/ofa_specialized/note10_lat@30ms_top1@78.4_finetune@75/init\" to .torch/ofa_specialized/note10_lat@30ms_top1@78.4_finetune@75/init\n",
            "Validate: 100%|██████████| 4/4 [00:08<00:00,  2.17s/it, loss=0.89, top1=79.1, top5=95.1, img_size=224]"
          ],
          "name": "stderr"
        },
        {
          "output_type": "stream",
          "text": [
            "Results: loss=0.88988,\t top1=79.1,\t top5=95.1\n",
            "Finished evaluating the pretrained sub-network: note10_lat@30ms_top1@78.4_finetune@75!\n"
          ],
          "name": "stdout"
        },
        {
          "output_type": "stream",
          "text": [
            "\n"
          ],
          "name": "stderr"
        }
      ]
    },
    {
      "cell_type": "markdown",
      "metadata": {
        "id": "PUmEi4-Ujv-a"
      },
      "source": [
        "## 3 Efficient Deployment with OFA Networks\n",
        "\n",
        "You have now successfully prepared the whole environment for the experiment!\n",
        "In the next step, we will introduce **how to get efficient, specialized neural networks within minutes**\n",
        "powered by the OFA network.\n",
        "\n",
        "### 3.1 Latency-Constrained Efficient Deployment on Samsung Note10\n",
        "\n",
        "The key components of very fast neural network deployment are **accuracy predictors** and **efficiency predictors**.\n",
        "For the accuracy predictor, it predicts the Top-1 accuracy of a given sub-network on a **holdout validation set**\n",
        "(different from the official 50K validation set) so that we do **NOT** need to run very costly inference on ImageNet\n",
        "while searching for specialized models. Such an accuracy predictor is trained using an accuracy dataset built with the OFA network.\n",
        "\n",
        "![](https://hanlab.mit.edu/files/OnceForAll/figures/predictor_based_search.png)"
      ]
    },
    {
      "cell_type": "code",
      "metadata": {
        "pycharm": {
          "name": "#%%\n"
        },
        "id": "Bhgz2Opkjv-c",
        "outputId": "43e9e6a7-bbc9-411b-c682-e7858765a1ee",
        "colab": {
          "base_uri": "https://localhost:8080/"
        }
      },
      "source": [
        "# accuracy predictor\n",
        "accuracy_predictor = AccuracyPredictor(\n",
        "    pretrained=True,\n",
        "    device='cuda:0' if cuda_available else 'cpu'\n",
        ")\n",
        "\n",
        "print('The accuracy predictor is ready!')\n",
        "print(accuracy_predictor.model)"
      ],
      "execution_count": 8,
      "outputs": [
        {
          "output_type": "stream",
          "text": [
            "Downloading: \"https://hanlab.mit.edu/files/OnceForAll/tutorial/acc_predictor.pth\" to /root/.torch/acc_predictor.pth\n"
          ],
          "name": "stderr"
        },
        {
          "output_type": "stream",
          "text": [
            "The accuracy predictor is ready!\n",
            "Sequential(\n",
            "  (0): Linear(in_features=128, out_features=400, bias=True)\n",
            "  (1): ReLU()\n",
            "  (2): Linear(in_features=400, out_features=400, bias=True)\n",
            "  (3): ReLU()\n",
            "  (4): Linear(in_features=400, out_features=400, bias=True)\n",
            "  (5): ReLU()\n",
            "  (6): Linear(in_features=400, out_features=1, bias=True)\n",
            ")\n"
          ],
          "name": "stdout"
        }
      ]
    },
    {
      "cell_type": "markdown",
      "metadata": {
        "id": "5GgDoGA5jv-k"
      },
      "source": [
        "Now, we have the powerful **accuracy predictor**. We then introduce two types of **efficiency predictors**: the latency predictor and the FLOPs predictor. \n",
        "\n",
        "The intuition of having efficiency predictors, especially the latency predictor, is that measuring the latency of a sub-network on-the-fly is also costly, especially for mobile devices.\n",
        "The latency predictor is designed to eliminate this cost.\n",
        "Let's load a latency predictor we built beforehand for the Samsung Note10."
      ]
    },
    {
      "cell_type": "code",
      "metadata": {
        "pycharm": {
          "name": "#%%\n"
        },
        "id": "hAgKngccjv-l",
        "outputId": "86b31314-eca0-4a6c-c59b-d7c77429ba99",
        "colab": {
          "base_uri": "https://localhost:8080/"
        }
      },
      "source": [
        "target_hardware = 'note10'\n",
        "latency_table = LatencyTable(device=target_hardware)\n",
        "print('The Latency lookup table on %s is ready!' % target_hardware)"
      ],
      "execution_count": 9,
      "outputs": [
        {
          "output_type": "stream",
          "text": [
            "Downloading: \"https://hanlab.mit.edu/files/OnceForAll/tutorial/latency_table@note10/160_lookup_table.yaml\" to /root/.hancai/latency_tools/160_lookup_table.yaml\n"
          ],
          "name": "stderr"
        },
        {
          "output_type": "stream",
          "text": [
            "Built latency table for image size: 160.\n"
          ],
          "name": "stdout"
        },
        {
          "output_type": "stream",
          "text": [
            "Downloading: \"https://hanlab.mit.edu/files/OnceForAll/tutorial/latency_table@note10/176_lookup_table.yaml\" to /root/.hancai/latency_tools/176_lookup_table.yaml\n"
          ],
          "name": "stderr"
        },
        {
          "output_type": "stream",
          "text": [
            "Built latency table for image size: 176.\n"
          ],
          "name": "stdout"
        },
        {
          "output_type": "stream",
          "text": [
            "Downloading: \"https://hanlab.mit.edu/files/OnceForAll/tutorial/latency_table@note10/192_lookup_table.yaml\" to /root/.hancai/latency_tools/192_lookup_table.yaml\n"
          ],
          "name": "stderr"
        },
        {
          "output_type": "stream",
          "text": [
            "Built latency table for image size: 192.\n"
          ],
          "name": "stdout"
        },
        {
          "output_type": "stream",
          "text": [
            "Downloading: \"https://hanlab.mit.edu/files/OnceForAll/tutorial/latency_table@note10/208_lookup_table.yaml\" to /root/.hancai/latency_tools/208_lookup_table.yaml\n"
          ],
          "name": "stderr"
        },
        {
          "output_type": "stream",
          "text": [
            "Built latency table for image size: 208.\n"
          ],
          "name": "stdout"
        },
        {
          "output_type": "stream",
          "text": [
            "Downloading: \"https://hanlab.mit.edu/files/OnceForAll/tutorial/latency_table@note10/224_lookup_table.yaml\" to /root/.hancai/latency_tools/224_lookup_table.yaml\n"
          ],
          "name": "stderr"
        },
        {
          "output_type": "stream",
          "text": [
            "Built latency table for image size: 224.\n",
            "The Latency lookup table on note10 is ready!\n"
          ],
          "name": "stdout"
        }
      ]
    },
    {
      "cell_type": "markdown",
      "metadata": {
        "id": "uIktgRMhjv-r"
      },
      "source": [
        "So far, we have defined both the accuracy predictor and the latency predictor. Now, let's experience **very fast model specialization** on Samsung Note10 with these two powerful predictors! \n",
        "\n",
        "**Notice**: The predicted accuracy is on a holdout validation set of 10K images, not the official 50K validation set.\n",
        "But they are highly positive-correlated."
      ]
    },
    {
      "cell_type": "code",
      "metadata": {
        "pycharm": {
          "name": "#%%    \n"
        },
        "id": "GzgyCIYWjv-s",
        "outputId": "62cae047-e456-45aa-a30f-09b2430ad47a",
        "colab": {
          "base_uri": "https://localhost:8080/"
        }
      },
      "source": [
        "\"\"\" Hyper-parameters for the evolutionary search process\n",
        "    You can modify these hyper-parameters to see how they influence the final ImageNet accuracy of the search sub-net.\n",
        "\"\"\"\n",
        "latency_constraint = 25  # ms, suggested range [15, 33] ms\n",
        "P = 100  # The size of population in each generation\n",
        "N = 500  # How many generations of population to be searched\n",
        "r = 0.25  # The ratio of networks that are used as parents for next generation\n",
        "params = {\n",
        "    'constraint_type': target_hardware, # Let's do FLOPs-constrained search\n",
        "    'efficiency_constraint': latency_constraint,\n",
        "    'mutate_prob': 0.1, # The probability of mutation in evolutionary search\n",
        "    'mutation_ratio': 0.5, # The ratio of networks that are generated through mutation in generation n >= 2.\n",
        "    'efficiency_predictor': latency_table, # To use a predefined efficiency predictor.\n",
        "    'accuracy_predictor': accuracy_predictor, # To use a predefined accuracy_predictor predictor.\n",
        "    'population_size': P,\n",
        "    'max_time_budget': N,\n",
        "    'parent_ratio': r,\n",
        "}\n",
        "\n",
        "# build the evolution finder\n",
        "finder = EvolutionFinder(**params)\n",
        "\n",
        "# start searching\n",
        "result_lis = []\n",
        "st = time.time()\n",
        "best_valids, best_info = finder.run_evolution_search()\n",
        "result_lis.append(best_info)\n",
        "ed = time.time()\n",
        "print('Found best architecture on %s with latency <= %.2f ms in %.2f seconds! '\n",
        "      'It achieves %.2f%s predicted accuracy with %.2f ms latency on %s.' %\n",
        "      (target_hardware, latency_constraint, ed-st, best_info[0] * 100, '%', best_info[-1], target_hardware))\n",
        "\n",
        "# visualize the architecture of the searched sub-net\n",
        "_, net_config, latency = best_info\n",
        "ofa_network.set_active_subnet(ks=net_config['ks'], d=net_config['d'], e=net_config['e'])\n",
        "print('Architecture of the searched sub-net:')\n",
        "print(ofa_network.module_str)"
      ],
      "execution_count": 10,
      "outputs": [
        {
          "output_type": "stream",
          "text": [
            "Searching with note10 constraint (25): 100%|██████████| 500/500 [00:14<00:00, 34.04it/s]"
          ],
          "name": "stderr"
        },
        {
          "output_type": "stream",
          "text": [
            "Found best architecture on note10 with latency <= 25.00 ms in 14.76 seconds! It achieves 81.71% predicted accuracy with 24.73 ms latency on note10.\n",
            "Architecture of the searched sub-net:\n",
            "3x3_Conv_O24_H_SWISH_BN\n",
            "(3x3_MBConv1_RELU_O24_BN, Identity)\n",
            "((O32, E3.0, K5), None)\n",
            "((O32, E3.0, K3), Identity)\n",
            "(SE(O48, E4.0, K5), None)\n",
            "(SE(O48, E4.0, K3), Identity)\n",
            "((O96, E6.0, K7), None)\n",
            "((O96, E3.0, K7), Identity)\n",
            "((O96, E4.0, K3), Identity)\n",
            "(SE(O136, E4.0, K5), None)\n",
            "(SE(O136, E4.0, K5), Identity)\n",
            "(SE(O136, E4.0, K7), Identity)\n",
            "(SE(O136, E3.0, K3), Identity)\n",
            "(SE(O192, E6.0, K3), None)\n",
            "(SE(O192, E6.0, K3), Identity)\n",
            "(SE(O192, E6.0, K5), Identity)\n",
            "1x1_Conv_O1152_H_SWISH_BN\n",
            "1x1_Conv_O1536_H_SWISH\n",
            "1536x1000_Linear\n",
            "\n"
          ],
          "name": "stdout"
        },
        {
          "output_type": "stream",
          "text": [
            "\n"
          ],
          "name": "stderr"
        }
      ]
    },
    {
      "cell_type": "markdown",
      "metadata": {
        "id": "bXxj4GsJjv-y"
      },
      "source": [
        "Great! You get your specialized neural network with **just a few seconds**!\n",
        "You can go back to the last cell and modify the hyper-parameters to see how they affect the search time and the accuracy.\n",
        "\n",
        "We also provided an interface below to draw a figure comparing your searched specialized network and other efficient neural networks such as MobileNetV3 and ProxylessNAS.\n",
        "\n",
        "**Notice**: For ease of comparison, we recommend you to choose a latency constraint between 15ms and 33ms."
      ]
    },
    {
      "cell_type": "code",
      "metadata": {
        "id": "F65Hey7Ojv_A",
        "outputId": "9500142f-f112-4535-f808-ec11ebf9f283",
        "colab": {
          "base_uri": "https://localhost:8080/",
          "height": 351
        }
      },
      "source": [
        "# evaluate the searched model on ImageNet\n",
        "if cuda_available:\n",
        "    top1s = []\n",
        "    latency_list = []\n",
        "    for result in result_lis:\n",
        "        _, net_config, latency = result\n",
        "        print('Evaluating the sub-network with latency = %.1f ms on %s' % (latency, target_hardware))\n",
        "        top1 = evaluate_ofa_subnet(\n",
        "            ofa_network,\n",
        "            imagenet_data_path,\n",
        "            net_config,\n",
        "            data_loader,\n",
        "            batch_size=250,\n",
        "            device='cuda:0' if cuda_available else 'cpu')\n",
        "        top1s.append(top1)\n",
        "        latency_list.append(latency)\n",
        "\n",
        "    plt.figure(figsize=(4,4))\n",
        "    plt.plot(latency_list, top1s, 'x-', marker='*', color='darkred',  linewidth=2, markersize=8, label='OFA')\n",
        "    plt.plot([26, 45], [74.6, 76.7], '--', marker='+', linewidth=2, markersize=8, label='ProxylessNAS')\n",
        "    plt.plot([15.3, 22, 31], [73.3, 75.2, 76.6], '--', marker='>', linewidth=2, markersize=8, label='MobileNetV3')\n",
        "    plt.xlabel('%s Latency (ms)' % target_hardware, size=12)\n",
        "    plt.ylabel('ImageNet Top-1 Accuracy (%)', size=12)\n",
        "    plt.legend(['OFA', 'ProxylessNAS', 'MobileNetV3'], loc='lower right')\n",
        "    plt.grid(True)\n",
        "    plt.show()\n",
        "    print('Successfully draw the tradeoff curve!')\n",
        "else:\n",
        "    print('Since GPU is not found in the environment, we skip all scripts related to ImageNet evaluation.')"
      ],
      "execution_count": 11,
      "outputs": [
        {
          "output_type": "stream",
          "text": [
            "Evaluating the sub-network with latency = 24.7 ms on note10\n"
          ],
          "name": "stdout"
        },
        {
          "output_type": "stream",
          "text": [
            "Validate: 100%|██████████| 4/4 [00:07<00:00,  1.84s/it, loss=0.929, top1=78.9, top5=94.1, img_size=192]"
          ],
          "name": "stderr"
        },
        {
          "output_type": "stream",
          "text": [
            "Results: loss=0.92880,\t top1=78.9,\t top5=94.1\n"
          ],
          "name": "stdout"
        },
        {
          "output_type": "stream",
          "text": [
            "\n"
          ],
          "name": "stderr"
        },
        {
          "output_type": "display_data",
          "data": {
            "image/png": "[encoded data removed]",
            "text/plain": [
              "<Figure size 288x288 with 1 Axes>"
            ]
          },
          "metadata": {
            "tags": [],
            "needs_background": "light"
          }
        },
        {
          "output_type": "stream",
          "text": [
            "Successfully draw the tradeoff curve!\n"
          ],
          "name": "stdout"
        }
      ]
    },
    {
      "cell_type": "markdown",
      "metadata": {
        "id": "d5bc7Dorjv_H"
      },
      "source": [
        "**Notice:** You can further significantly improve the accuracy of the searched sub-net by fine-tuning it on the ImageNet training set.\n",
        "Our results after fine-tuning for 25 epochs are as follows:\n",
        "![](https://hanlab.mit.edu/files/OnceForAll/figures/diverse_hardware.png)\n",
        "\n",
        "\n",
        "### 3.2 FLOPs-Constrained Efficient Deployment\n",
        "\n",
        "Now, let's proceed to the final experiment of this tutorial: efficient deployment under FLOPs constraint. We use the same accuracy predictor since accuracy predictors are agnostic to the types of efficiency constraint (mobile latency / FLOPs). For the efficiency predictor, we change the latency lookup table to a flops lookup table. You can run the code below to setup it in a few seconds."
      ]
    },
    {
      "cell_type": "code",
      "metadata": {
        "pycharm": {
          "is_executing": true,
          "name": "#%%\n"
        },
        "id": "zziLMnvbjv_I",
        "outputId": "bdbe1c05-ca44-47ca-d24d-373a0fe00f8d",
        "colab": {
          "base_uri": "https://localhost:8080/"
        }
      },
      "source": [
        "flops_lookup_table = FLOPsTable(\n",
        "    device='cuda:0' if cuda_available else 'cpu',\n",
        "    batch_size=1,\n",
        ")\n",
        "print('The FLOPs lookup table is ready!')"
      ],
      "execution_count": 12,
      "outputs": [
        {
          "output_type": "stream",
          "text": [
            "Building the flops lookup table (resolution=160)...\n",
            "Built the flops lookup table (resolution=160)!\n",
            "Building the flops lookup table (resolution=176)...\n",
            "Built the flops lookup table (resolution=176)!\n",
            "Building the flops lookup table (resolution=192)...\n",
            "Built the flops lookup table (resolution=192)!\n",
            "Building the flops lookup table (resolution=208)...\n",
            "Built the flops lookup table (resolution=208)!\n",
            "Building the flops lookup table (resolution=224)...\n",
            "Built the flops lookup table (resolution=224)!\n",
            "The FLOPs lookup table is ready!\n"
          ],
          "name": "stdout"
        }
      ]
    },
    {
      "cell_type": "markdown",
      "metadata": {
        "id": "j0VWAdFAjv_O"
      },
      "source": [
        "Now, you can start a FLOPs-constrained neural architecture search. Here, we directly generate **an entire tradeoff curve** for you. Please notice that the time it takes to get each data point will get longer and longer (but always less than 30 seconds) because smaller FLOPs-constraint is more difficult to meet.\n",
        "\n",
        "If you are using CPUs, you will be able to see a \"predicted holdout validation set accuracy - FLOPs\" tradeoff curve, which can be obtained in just a  minute.\n",
        "\n",
        "If you are using GPUs, besides the curve mentioned above, we will also evaluate all the models you designed on the ImageNet validation set (**Again, it will be better if you have the full ImageNet validation set**, but it's also OK if you downloaded the subset above) and generate an \"ImageNet 50K validation set accuracy - FLOPs\" tradeoff curve. We will also plot competing methods such as ProxylessNAS, MobileNetV3, and EfficientNet in this curve for your reference. The estimated time to get the two curves is less than 10 minutes.\n",
        "\n",
        "Please notice that it usually takes ** hundreds/thousands of hours** to generate an accuracy-FLOPs tradeoff curve for ProxylessNAS / MobileNetV3 / EfficientNet, but generating the tradeoff curve for our OFA takes just a few minutes, as you will experience soon."
      ]
    },
    {
      "cell_type": "code",
      "metadata": {
        "pycharm": {
          "name": "#%%\n"
        },
        "id": "DtuLL_Upjv_Q",
        "outputId": "2f8b244a-41aa-4179-dd5e-5daa21fdf811",
        "colab": {
          "base_uri": "https://localhost:8080/",
          "height": 339
        }
      },
      "source": [
        "\"\"\" Hyper-parameters for the evolutionary search process\n",
        "    You can modify these hyper-parameters to see how they influence the final ImageNet accuracy of the search sub-net.\n",
        "\"\"\"\n",
        "P = 100  # The size of population in each generation\n",
        "N = 500  # How many generations of population to be searched\n",
        "r = 0.25  # The ratio of networks that are used as parents for next generation\n",
        "params = {\n",
        "    'constraint_type': 'flops', # Let's do FLOPs-constrained search\n",
        "    'efficiency_constraint': 600,  # FLops constraint (M), suggested range [150, 600]\n",
        "    'mutate_prob': 0.1, # The probability of mutation in evolutionary search\n",
        "    'mutation_ratio': 0.5, # The ratio of networks that are generated through mutation in generation n >= 2.\n",
        "    'efficiency_predictor': flops_lookup_table, # To use a predefined efficiency predictor.\n",
        "    'accuracy_predictor': accuracy_predictor, # To use a predefined accuracy_predictor predictor.\n",
        "    'population_size': P,\n",
        "    'max_time_budget': N,\n",
        "    'parent_ratio': r,\n",
        "}\n",
        "\n",
        "# build the evolution finder\n",
        "finder = EvolutionFinder(**params)\n",
        "\n",
        "# start searching\n",
        "result_lis = []\n",
        "for flops in [600, 400, 350]:\n",
        "    st = time.time()\n",
        "    finder.set_efficiency_constraint(flops)\n",
        "    best_valids, best_info = finder.run_evolution_search()\n",
        "    ed = time.time()\n",
        "    # print('Found best architecture at flops <= %.2f M in %.2f seconds! It achieves %.2f%s predicted accuracy with %.2f MFLOPs.' % (flops, ed-st, best_info[0] * 100, '%', best_info[-1]))\n",
        "    result_lis.append(best_info)\n",
        "\n",
        "plt.figure(figsize=(4,4))\n",
        "plt.plot([x[-1] for x in result_lis], [x[0] * 100 for x in result_lis], 'x-', marker='*', color='darkred',  linewidth=2, markersize=8, label='OFA')\n",
        "plt.xlabel('FLOPs (M)', size=12)\n",
        "plt.ylabel('Predicted Holdout Top-1 Accuracy (%)', size=12)\n",
        "plt.legend(['OFA'], loc='lower right')\n",
        "plt.grid(True)\n",
        "plt.show()"
      ],
      "execution_count": 13,
      "outputs": [
        {
          "output_type": "stream",
          "text": [
            "Searching with flops constraint (600): 100%|██████████| 500/500 [00:07<00:00, 63.35it/s]\n",
            "Searching with flops constraint (400): 100%|██████████| 500/500 [00:08<00:00, 60.52it/s]\n",
            "Searching with flops constraint (350): 100%|██████████| 500/500 [00:08<00:00, 58.82it/s]\n"
          ],
          "name": "stderr"
        },
        {
          "output_type": "display_data",
          "data": {
            "image/png": "[encoded data removed]",
            "text/plain": [
              "<Figure size 288x288 with 1 Axes>"
            ]
          },
          "metadata": {
            "tags": [],
            "needs_background": "light"
          }
        }
      ]
    },
    {
      "cell_type": "markdown",
      "metadata": {
        "id": "NeX5ehXbjv_T"
      },
      "source": [
        "Let's evaluate the searched models on ImageNet if GPU is available:"
      ]
    },
    {
      "cell_type": "code",
      "metadata": {
        "pycharm": {
          "name": "#%%\n"
        },
        "id": "bbsSTYK-jv_U",
        "outputId": "aee562e4-f533-433b-ea3d-65f6a1e1c93c",
        "colab": {
          "base_uri": "https://localhost:8080/",
          "height": 495
        }
      },
      "source": [
        "if cuda_available:\n",
        "    # test the searched model on the test dataset (ImageNet val)\n",
        "    top1s = []\n",
        "    flops_lis = []\n",
        "    for result in result_lis:\n",
        "        _, net_config, flops = result\n",
        "        print('Evaluating the sub-network with FLOPs = %.1fM' % flops)\n",
        "        top1 = evaluate_ofa_subnet(\n",
        "            ofa_network,\n",
        "            imagenet_data_path,\n",
        "            net_config,\n",
        "            data_loader,\n",
        "            batch_size=250,\n",
        "            device='cuda:0' if cuda_available else 'cpu')\n",
        "        print('-' * 45)\n",
        "        top1s.append(top1)\n",
        "        flops_lis.append(flops)\n",
        "\n",
        "    plt.figure(figsize=(8,4))\n",
        "    plt.subplot(1, 2, 1)\n",
        "    plt.plot([x[-1] for x in result_lis], [x[0] * 100 for x in result_lis], 'x-', marker='*', color='darkred',  linewidth=2, markersize=8, label='OFA')\n",
        "    plt.xlabel('FLOPs (M)', size=12)\n",
        "    plt.ylabel('Predicted Holdout Top-1 Accuracy (%)', size=12)\n",
        "    plt.legend(['OFA'], loc='lower right')\n",
        "    plt.grid(True)\n",
        "\n",
        "    plt.subplot(1, 2, 2)\n",
        "    plt.plot(flops_lis, top1s, 'x-', marker='*', color='darkred',  linewidth=2, markersize=8, label='OFA')\n",
        "    plt.plot([320, 581], [74.6, 76.7], '--', marker='+', linewidth=2, markersize=8, label='ProxylessNAS')\n",
        "    plt.plot([219, 343], [75.2, 76.6], '--', marker='^', linewidth=2, markersize=8, label='MobileNetV3')\n",
        "    plt.plot([390, 700], [76.3, 78.8], '--', marker='>', linewidth=2, markersize=8, label='EfficientNet')\n",
        "    plt.xlabel('FLOPs (M)', size=12)\n",
        "    plt.ylabel('ImageNet Top-1 Accuracy (%)', size=12)\n",
        "    plt.legend(['OFA', 'ProxylessNAS', 'MobileNetV3', 'EfficientNet'], loc='lower right')\n",
        "    plt.grid(True)\n",
        "    plt.show()"
      ],
      "execution_count": 14,
      "outputs": [
        {
          "output_type": "stream",
          "text": [
            "Evaluating the sub-network with FLOPs = 574.1M\n"
          ],
          "name": "stdout"
        },
        {
          "output_type": "stream",
          "text": [
            "Validate: 100%|██████████| 4/4 [00:08<00:00,  2.10s/it, loss=0.868, top1=80.3, top5=95.3, img_size=224]\n"
          ],
          "name": "stderr"
        },
        {
          "output_type": "stream",
          "text": [
            "Results: loss=0.86772,\t top1=80.3,\t top5=95.3\n",
            "---------------------------------------------\n",
            "Evaluating the sub-network with FLOPs = 394.7M\n"
          ],
          "name": "stdout"
        },
        {
          "output_type": "stream",
          "text": [
            "Validate: 100%|██████████| 4/4 [00:07<00:00,  1.98s/it, loss=0.903, top1=80.7, top5=95, img_size=208]"
          ],
          "name": "stderr"
        },
        {
          "output_type": "stream",
          "text": [
            "Results: loss=0.90332,\t top1=80.7,\t top5=95.0\n",
            "---------------------------------------------\n",
            "Evaluating the sub-network with FLOPs = 348.2M\n"
          ],
          "name": "stdout"
        },
        {
          "output_type": "stream",
          "text": [
            "\n",
            "Validate: 100%|██████████| 4/4 [00:07<00:00,  1.84s/it, loss=0.912, top1=79.3, top5=94.8, img_size=192]\n"
          ],
          "name": "stderr"
        },
        {
          "output_type": "stream",
          "text": [
            "Results: loss=0.91188,\t top1=79.3,\t top5=94.8\n",
            "---------------------------------------------\n"
          ],
          "name": "stdout"
        },
        {
          "output_type": "display_data",
          "data": {
            "image/png": "[encoded data removed]",
            "text/plain": [
              "<Figure size 576x288 with 2 Axes>"
            ]
          },
          "metadata": {
            "tags": [],
            "needs_background": "light"
          }
        }
      ]
    },
    {
      "cell_type": "markdown",
      "metadata": {
        "id": "M9R7VVuojv_X"
      },
      "source": [
        "**Notice:** Again, you can further improve the accuracy of the search sub-net by fine-tuning it on ImageNet.\n",
        "The final accuracy is much better than training the same architecture from scratch.\n",
        "Our results are as follows:\n",
        "![](https://hanlab.mit.edu/files/OnceForAll/figures/imagenet_80_acc.png)\n",
        "![](https://hanlab.mit.edu/files/OnceForAll/figures/cnn_imagenet_new.png)\n",
        "\n",
        "Congratulations! You've finished all the content of this tutorial!\n",
        "Hope you enjoy playing with the OFA Networks. If you are interested,  please refer to our paper and GitHub Repo for further details.\n",
        "\n",
        "## Reference\n",
        "[1] CVPR'20 tutorial: **AutoML for TinyML with Once-for-All Network**. [[talk]](https://www.youtube.com/watch?v=fptQ_eJ3Uc0&feature=youtu.be).\n",
        "\n",
        "[1] Han Cai, Chuang Gan, Tianzhe Wang, Zhekai Zhang and Song Han.\n",
        "**Once for All: Train One Network and Specialize It for Efficient Deployment**. In *ICLR* 2020.\n",
        "[[paper]](https://arxiv.org/abs/1908.09791), [[code]](https://github.com/mit-han-lab/once-for-all), [[talk]](https://www.youtube.com/watch?v=a_OeT8MXzWI).\n",
        "\n",
        "[2] Han Cai, Ligeng Zhu and Song Han. **ProxylessNAS: Direct Neural Architecture Search on Target Task and Hardware**.\n",
        "In *ICLR* 2019. [[paper]](https://arxiv.org/abs/1812.00332), [[code]](https://github.com/MIT-HAN-LAB/ProxylessNAS).\n"
      ]
    }
  ]
}