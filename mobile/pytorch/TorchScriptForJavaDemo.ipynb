{
  "nbformat": 4,
  "nbformat_minor": 0,
  "metadata": {
    "kernelspec": {
      "display_name": "py3-pytorch-nightly",
      "language": "python",
      "name": "py3-pytorch-nightly"
    },
    "language_info": {
      "codemirror_mode": {
        "name": "ipython",
        "version": 3
      },
      "file_extension": ".py",
      "mimetype": "text/x-python",
      "name": "python",
      "nbconvert_exporter": "python",
      "pygments_lexer": "ipython3",
      "version": "3.7.5"
    },
    "colab": {
      "name": "TorchScriptForJavaDemo.ipynb",
      "provenance": []
    }
  },
  "cells": [
    {
      "cell_type": "markdown",
      "metadata": {
        "id": "Fs70Fx4vlo5L"
      },
      "source": [
        "# Export a simple TorchScript model"
      ]
    },
    {
      "cell_type": "code",
      "metadata": {
        "id": "2DeGpwgllo5T"
      },
      "source": [
        "import torch"
      ],
      "execution_count": 1,
      "outputs": []
    },
    {
      "cell_type": "code",
      "metadata": {
        "id": "JavOuS56lo5T"
      },
      "source": [
        "class DemoModule(torch.nn.Module):\n",
        "    def forward(self, data, incr):\n",
        "        # type: (Tensor, float) -> Tensor\n",
        "        # Add the incr\n",
        "        larger = data + incr\n",
        "        # Then reduce sum over dim 0\n",
        "        thinner = torch.sum(larger, 0)\n",
        "        return thinner"
      ],
      "execution_count": 2,
      "outputs": []
    },
    {
      "cell_type": "code",
      "metadata": {
        "id": "j_dQIX2plo5U",
        "outputId": "ffdc10d6-b21f-4c9e-a0d1-aa7fdcaaea9f",
        "colab": {
          "base_uri": "https://localhost:8080/"
        }
      },
      "source": [
        "model = DemoModule()\n",
        "model.eval()"
      ],
      "execution_count": 3,
      "outputs": [
        {
          "output_type": "execute_result",
          "data": {
            "text/plain": [
              "DemoModule()"
            ]
          },
          "metadata": {
            "tags": []
          },
          "execution_count": 3
        }
      ]
    },
    {
      "cell_type": "code",
      "metadata": {
        "id": "mTtytsS8lo5V",
        "outputId": "8d70402a-cf0f-4e0e-9d4e-419c7b8f0641",
        "colab": {
          "base_uri": "https://localhost:8080/"
        }
      },
      "source": [
        "smod = torch.jit.script(model)\n",
        "smod.eval()"
      ],
      "execution_count": 4,
      "outputs": [
        {
          "output_type": "execute_result",
          "data": {
            "text/plain": [
              "RecursiveScriptModule(original_name=DemoModule)"
            ]
          },
          "metadata": {
            "tags": []
          },
          "execution_count": 4
        }
      ]
    },
    {
      "cell_type": "code",
      "metadata": {
        "id": "spLNEqFWlo5W"
      },
      "source": [
        "smod.save(\"demo-model.pt1\")"
      ],
      "execution_count": 5,
      "outputs": []
    },
    {
      "cell_type": "code",
      "metadata": {
        "id": "GzjbKG86lo5W",
        "outputId": "d36654d5-6e78-48d7-c6d0-80f962677699",
        "colab": {
          "base_uri": "https://localhost:8080/"
        }
      },
      "source": [
        "loaded = torch.jit.load(\"demo-model.pt1\")\n",
        "loaded.eval()"
      ],
      "execution_count": 6,
      "outputs": [
        {
          "output_type": "execute_result",
          "data": {
            "text/plain": [
              "RecursiveScriptModule(original_name=DemoModule)"
            ]
          },
          "metadata": {
            "tags": []
          },
          "execution_count": 6
        }
      ]
    },
    {
      "cell_type": "code",
      "metadata": {
        "id": "iMFDdfyqlo5W",
        "outputId": "29bd1167-fc92-4b75-a817-ace49d7b3ce0",
        "colab": {
          "base_uri": "https://localhost:8080/"
        }
      },
      "source": [
        "loaded(torch.tensor([[1,2,3],[4,5,6]]), 3.0)"
      ],
      "execution_count": 7,
      "outputs": [
        {
          "output_type": "execute_result",
          "data": {
            "text/plain": [
              "tensor([11., 13., 15.])"
            ]
          },
          "metadata": {
            "tags": []
          },
          "execution_count": 7
        }
      ]
    }
  ]
}