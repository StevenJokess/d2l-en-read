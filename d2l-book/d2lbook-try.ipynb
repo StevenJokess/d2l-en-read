{
 "cells": [
  {
   "cell_type": "code",
   "execution_count": 1,
   "metadata": {},
   "outputs": [],
   "source": [
    "!mkdir -p mybook"
   ]
  },
  {
   "cell_type": "code",
   "execution_count": 2,
   "metadata": {},
   "outputs": [
    {
     "name": "stdout",
     "output_type": "stream",
     "text": [
      "Writing mybook/index.md\n"
     ]
    }
   ],
   "source": [
    "%%writefile mybook/index.md\n",
    "# My Book\n",
    "\n",
    "The starting page of my book with `d2lbook`.\n",
    "\n",
    "````toc\n",
    "get_started\n",
    "````"
   ]
  },
  {
   "cell_type": "code",
   "execution_count": 3,
   "metadata": {},
   "outputs": [
    {
     "name": "stdout",
     "output_type": "stream",
     "text": [
      "Writing mybook/get_started.md\n"
     ]
    }
   ],
   "source": [
    "%%writefile mybook/get_started.md\n",
    "# Getting Started\n",
    "\n",
    "Please first install my favorite package `numpy`."
   ]
  },
  {
   "cell_type": "code",
   "execution_count": 4,
   "metadata": {},
   "outputs": [
    {
     "name": "stdout",
     "output_type": "stream",
     "text": [
      "/bin/bash: d2lbook: command not found\r\n"
     ]
    }
   ],
   "source": [
    "!cd mybook && d2lbook build html"
   ]
  },
  {
   "cell_type": "code",
   "execution_count": 5,
   "metadata": {},
   "outputs": [
    {
     "name": "stdout",
     "output_type": "stream",
     "text": [
      "Collecting git+https://github.com/d2l-ai/d2l-book\n",
      "  Cloning https://github.com/d2l-ai/d2l-book to /tmp/pip-req-build-nto04hr2\n",
      "Requirement already satisfied: jupyter in /root/miniconda/lib/python3.8/site-packages (from d2lbook==0.1.17) (1.0.0)\n",
      "Requirement already satisfied: regex in /root/miniconda/lib/python3.8/site-packages (from d2lbook==0.1.17) (2020.11.13)\n",
      "Requirement already satisfied: sphinx>=2.2.1 in /root/miniconda/lib/python3.8/site-packages (from d2lbook==0.1.17) (3.4.1)\n",
      "Requirement already satisfied: recommonmark in /root/miniconda/lib/python3.8/site-packages (from d2lbook==0.1.17) (0.7.1)\n",
      "Requirement already satisfied: nbformat in /root/miniconda/lib/python3.8/site-packages (from d2lbook==0.1.17) (5.0.8)\n",
      "Requirement already satisfied: nbconvert<=5.6.1 in /root/miniconda/lib/python3.8/site-packages (from d2lbook==0.1.17) (5.6.1)\n",
      "Requirement already satisfied: sphinxcontrib-bibtex>=1.0.0 in /root/miniconda/lib/python3.8/site-packages (from d2lbook==0.1.17) (2.0.0)\n",
      "Requirement already satisfied: pybtex-apa-style in /root/miniconda/lib/python3.8/site-packages (from d2lbook==0.1.17) (1.3)\n",
      "Requirement already satisfied: mu-notedown in /root/miniconda/lib/python3.8/site-packages (from d2lbook==0.1.17) (2.0.3)\n",
      "Requirement already satisfied: mxtheme>=0.3.11 in /root/miniconda/lib/python3.8/site-packages (from d2lbook==0.1.17) (0.3.14)\n",
      "Requirement already satisfied: sphinxcontrib-svg2pdfconverter in /root/miniconda/lib/python3.8/site-packages (from d2lbook==0.1.17) (1.1.0)\n",
      "Requirement already satisfied: numpydoc in /root/miniconda/lib/python3.8/site-packages (from d2lbook==0.1.17) (1.1.0)\n",
      "Requirement already satisfied: awscli in /root/miniconda/lib/python3.8/site-packages (from d2lbook==0.1.17) (1.18.203)\n",
      "Collecting gitpython\n",
      "  Using cached GitPython-3.1.11-py3-none-any.whl (159 kB)\n",
      "Collecting sphinx_autodoc_typehints\n",
      "  Using cached sphinx_autodoc_typehints-1.11.1-py3-none-any.whl (8.7 kB)\n",
      "Requirement already satisfied: ipykernel in /root/miniconda/lib/python3.8/site-packages (from jupyter->d2lbook==0.1.17) (5.4.2)\n",
      "Requirement already satisfied: notebook in /root/miniconda/lib/python3.8/site-packages (from jupyter->d2lbook==0.1.17) (6.1.6)\n",
      "Requirement already satisfied: jupyter-console in /root/miniconda/lib/python3.8/site-packages (from jupyter->d2lbook==0.1.17) (6.2.0)\n",
      "Requirement already satisfied: qtconsole in /root/miniconda/lib/python3.8/site-packages (from jupyter->d2lbook==0.1.17) (5.0.1)\n",
      "Requirement already satisfied: ipywidgets in /root/miniconda/lib/python3.8/site-packages (from jupyter->d2lbook==0.1.17) (7.6.2)\n",
      "Requirement already satisfied: sphinxcontrib-qthelp in /root/miniconda/lib/python3.8/site-packages (from sphinx>=2.2.1->d2lbook==0.1.17) (1.0.3)\n",
      "Requirement already satisfied: imagesize in /root/miniconda/lib/python3.8/site-packages (from sphinx>=2.2.1->d2lbook==0.1.17) (1.2.0)\n",
      "Requirement already satisfied: requests>=2.5.0 in /root/miniconda/lib/python3.8/site-packages (from sphinx>=2.2.1->d2lbook==0.1.17) (2.24.0)\n",
      "Requirement already satisfied: setuptools in /root/miniconda/lib/python3.8/site-packages (from sphinx>=2.2.1->d2lbook==0.1.17) (50.3.1.post20201107)\n",
      "Requirement already satisfied: sphinxcontrib-devhelp in /root/miniconda/lib/python3.8/site-packages (from sphinx>=2.2.1->d2lbook==0.1.17) (1.0.2)\n",
      "Requirement already satisfied: Pygments>=2.0 in /root/miniconda/lib/python3.8/site-packages (from sphinx>=2.2.1->d2lbook==0.1.17) (2.7.3)\n",
      "Requirement already satisfied: sphinxcontrib-applehelp in /root/miniconda/lib/python3.8/site-packages (from sphinx>=2.2.1->d2lbook==0.1.17) (1.0.2)\n",
      "Requirement already satisfied: packaging in /root/miniconda/lib/python3.8/site-packages (from sphinx>=2.2.1->d2lbook==0.1.17) (20.8)\n",
      "Requirement already satisfied: sphinxcontrib-htmlhelp in /root/miniconda/lib/python3.8/site-packages (from sphinx>=2.2.1->d2lbook==0.1.17) (1.0.3)\n",
      "Requirement already satisfied: snowballstemmer>=1.1 in /root/miniconda/lib/python3.8/site-packages (from sphinx>=2.2.1->d2lbook==0.1.17) (2.0.0)\n",
      "Requirement already satisfied: babel>=1.3 in /root/miniconda/lib/python3.8/site-packages (from sphinx>=2.2.1->d2lbook==0.1.17) (2.9.0)\n",
      "Requirement already satisfied: sphinxcontrib-jsmath in /root/miniconda/lib/python3.8/site-packages (from sphinx>=2.2.1->d2lbook==0.1.17) (1.0.1)\n",
      "Requirement already satisfied: alabaster<0.8,>=0.7 in /root/miniconda/lib/python3.8/site-packages (from sphinx>=2.2.1->d2lbook==0.1.17) (0.7.12)\n",
      "Requirement already satisfied: Jinja2>=2.3 in /root/miniconda/lib/python3.8/site-packages (from sphinx>=2.2.1->d2lbook==0.1.17) (2.11.2)\n",
      "Requirement already satisfied: docutils>=0.12 in /root/miniconda/lib/python3.8/site-packages (from sphinx>=2.2.1->d2lbook==0.1.17) (0.16)\n",
      "Requirement already satisfied: sphinxcontrib-serializinghtml in /root/miniconda/lib/python3.8/site-packages (from sphinx>=2.2.1->d2lbook==0.1.17) (1.1.4)\n",
      "Requirement already satisfied: commonmark>=0.8.1 in /root/miniconda/lib/python3.8/site-packages (from recommonmark->d2lbook==0.1.17) (0.9.1)\n",
      "Requirement already satisfied: jupyter-core in /root/miniconda/lib/python3.8/site-packages (from nbformat->d2lbook==0.1.17) (4.7.0)\n",
      "Requirement already satisfied: jsonschema!=2.5.0,>=2.4 in /root/miniconda/lib/python3.8/site-packages (from nbformat->d2lbook==0.1.17) (3.2.0)\n",
      "Requirement already satisfied: ipython-genutils in /root/miniconda/lib/python3.8/site-packages (from nbformat->d2lbook==0.1.17) (0.2.0)\n",
      "Requirement already satisfied: traitlets>=4.1 in /root/miniconda/lib/python3.8/site-packages (from nbformat->d2lbook==0.1.17) (5.0.5)\n",
      "Requirement already satisfied: mistune<2,>=0.8.1 in /root/miniconda/lib/python3.8/site-packages (from nbconvert<=5.6.1->d2lbook==0.1.17) (0.8.4)\n",
      "Requirement already satisfied: testpath in /root/miniconda/lib/python3.8/site-packages (from nbconvert<=5.6.1->d2lbook==0.1.17) (0.4.4)\n",
      "Requirement already satisfied: entrypoints>=0.2.2 in /root/miniconda/lib/python3.8/site-packages (from nbconvert<=5.6.1->d2lbook==0.1.17) (0.3)\n",
      "Requirement already satisfied: defusedxml in /root/miniconda/lib/python3.8/site-packages (from nbconvert<=5.6.1->d2lbook==0.1.17) (0.6.0)\n",
      "Requirement already satisfied: bleach in /root/miniconda/lib/python3.8/site-packages (from nbconvert<=5.6.1->d2lbook==0.1.17) (3.2.1)\n",
      "Requirement already satisfied: pandocfilters>=1.4.1 in /root/miniconda/lib/python3.8/site-packages (from nbconvert<=5.6.1->d2lbook==0.1.17) (1.4.3)\n",
      "Requirement already satisfied: pybtex-docutils>=0.2.2 in /root/miniconda/lib/python3.8/site-packages (from sphinxcontrib-bibtex>=1.0.0->d2lbook==0.1.17) (0.2.2)\n",
      "Requirement already satisfied: oset>=0.1.3 in /root/miniconda/lib/python3.8/site-packages (from sphinxcontrib-bibtex>=1.0.0->d2lbook==0.1.17) (0.1.3)\n",
      "Requirement already satisfied: pybtex>=0.20 in /root/miniconda/lib/python3.8/site-packages (from sphinxcontrib-bibtex>=1.0.0->d2lbook==0.1.17) (0.23.0)\n",
      "Requirement already satisfied: six in /root/miniconda/lib/python3.8/site-packages (from mu-notedown->d2lbook==0.1.17) (1.15.0)\n",
      "Requirement already satisfied: pandoc-attributes in /root/miniconda/lib/python3.8/site-packages (from mu-notedown->d2lbook==0.1.17) (0.1.7)\n",
      "Requirement already satisfied: botocore==1.19.43 in /root/miniconda/lib/python3.8/site-packages (from awscli->d2lbook==0.1.17) (1.19.43)\n",
      "Requirement already satisfied: colorama<0.4.4,>=0.2.5; python_version != \"3.4\" in /root/miniconda/lib/python3.8/site-packages (from awscli->d2lbook==0.1.17) (0.4.3)\n",
      "Requirement already satisfied: rsa<=4.5.0,>=3.1.2; python_version != \"3.4\" in /root/miniconda/lib/python3.8/site-packages (from awscli->d2lbook==0.1.17) (4.5)\n",
      "Requirement already satisfied: s3transfer<0.4.0,>=0.3.0 in /root/miniconda/lib/python3.8/site-packages (from awscli->d2lbook==0.1.17) (0.3.3)\n",
      "Requirement already satisfied: PyYAML<5.4,>=3.10; python_version != \"3.4\" in /root/miniconda/lib/python3.8/site-packages (from awscli->d2lbook==0.1.17) (5.3.1)\n",
      "Collecting gitdb<5,>=4.0.1\n",
      "  Using cached gitdb-4.0.5-py3-none-any.whl (63 kB)\n",
      "Requirement already satisfied: tornado>=4.2 in /root/miniconda/lib/python3.8/site-packages (from ipykernel->jupyter->d2lbook==0.1.17) (6.1)\n",
      "Requirement already satisfied: ipython>=5.0.0 in /root/miniconda/lib/python3.8/site-packages (from ipykernel->jupyter->d2lbook==0.1.17) (7.19.0)\n",
      "Requirement already satisfied: jupyter-client in /root/miniconda/lib/python3.8/site-packages (from ipykernel->jupyter->d2lbook==0.1.17) (6.1.7)\n",
      "Requirement already satisfied: prometheus-client in /root/miniconda/lib/python3.8/site-packages (from notebook->jupyter->d2lbook==0.1.17) (0.9.0)\n",
      "Requirement already satisfied: terminado>=0.8.3 in /root/miniconda/lib/python3.8/site-packages (from notebook->jupyter->d2lbook==0.1.17) (0.9.1)\n",
      "Requirement already satisfied: pyzmq>=17 in /root/miniconda/lib/python3.8/site-packages (from notebook->jupyter->d2lbook==0.1.17) (20.0.0)\n",
      "Requirement already satisfied: Send2Trash in /root/miniconda/lib/python3.8/site-packages (from notebook->jupyter->d2lbook==0.1.17) (1.5.0)\n",
      "Requirement already satisfied: argon2-cffi in /root/miniconda/lib/python3.8/site-packages (from notebook->jupyter->d2lbook==0.1.17) (20.1.0)\n",
      "Requirement already satisfied: prompt-toolkit!=3.0.0,!=3.0.1,<3.1.0,>=2.0.0 in /root/miniconda/lib/python3.8/site-packages (from jupyter-console->jupyter->d2lbook==0.1.17) (3.0.8)\n",
      "Requirement already satisfied: qtpy in /root/miniconda/lib/python3.8/site-packages (from qtconsole->jupyter->d2lbook==0.1.17) (1.9.0)\n",
      "Requirement already satisfied: jupyterlab-widgets>=1.0.0; python_version >= \"3.5\" in /root/miniconda/lib/python3.8/site-packages (from ipywidgets->jupyter->d2lbook==0.1.17) (1.0.0)\n",
      "Requirement already satisfied: widgetsnbextension~=3.5.0 in /root/miniconda/lib/python3.8/site-packages (from ipywidgets->jupyter->d2lbook==0.1.17) (3.5.1)\n",
      "Requirement already satisfied: idna<3,>=2.5 in /root/miniconda/lib/python3.8/site-packages (from requests>=2.5.0->sphinx>=2.2.1->d2lbook==0.1.17) (2.10)\n",
      "Requirement already satisfied: certifi>=2017.4.17 in /root/miniconda/lib/python3.8/site-packages (from requests>=2.5.0->sphinx>=2.2.1->d2lbook==0.1.17) (2020.12.5)\n",
      "Requirement already satisfied: chardet<4,>=3.0.2 in /root/miniconda/lib/python3.8/site-packages (from requests>=2.5.0->sphinx>=2.2.1->d2lbook==0.1.17) (3.0.4)\n",
      "Requirement already satisfied: urllib3!=1.25.0,!=1.25.1,<1.26,>=1.21.1 in /root/miniconda/lib/python3.8/site-packages (from requests>=2.5.0->sphinx>=2.2.1->d2lbook==0.1.17) (1.25.11)\n",
      "Requirement already satisfied: pyparsing>=2.0.2 in /root/miniconda/lib/python3.8/site-packages (from packaging->sphinx>=2.2.1->d2lbook==0.1.17) (2.4.7)\n",
      "Requirement already satisfied: pytz>=2015.7 in /root/miniconda/lib/python3.8/site-packages (from babel>=1.3->sphinx>=2.2.1->d2lbook==0.1.17) (2020.5)\n",
      "Requirement already satisfied: MarkupSafe>=0.23 in /root/miniconda/lib/python3.8/site-packages (from Jinja2>=2.3->sphinx>=2.2.1->d2lbook==0.1.17) (1.1.1)\n",
      "Requirement already satisfied: pyrsistent>=0.14.0 in /root/miniconda/lib/python3.8/site-packages (from jsonschema!=2.5.0,>=2.4->nbformat->d2lbook==0.1.17) (0.17.3)\n",
      "Requirement already satisfied: attrs>=17.4.0 in /root/miniconda/lib/python3.8/site-packages (from jsonschema!=2.5.0,>=2.4->nbformat->d2lbook==0.1.17) (20.3.0)\n",
      "Requirement already satisfied: webencodings in /root/miniconda/lib/python3.8/site-packages (from bleach->nbconvert<=5.6.1->d2lbook==0.1.17) (0.5.1)\n",
      "Requirement already satisfied: latexcodec>=1.0.4 in /root/miniconda/lib/python3.8/site-packages (from pybtex>=0.20->sphinxcontrib-bibtex>=1.0.0->d2lbook==0.1.17) (2.0.1)\n",
      "Requirement already satisfied: python-dateutil<3.0.0,>=2.1 in /root/miniconda/lib/python3.8/site-packages (from botocore==1.19.43->awscli->d2lbook==0.1.17) (2.8.1)\n",
      "Requirement already satisfied: jmespath<1.0.0,>=0.7.1 in /root/miniconda/lib/python3.8/site-packages (from botocore==1.19.43->awscli->d2lbook==0.1.17) (0.10.0)\n",
      "Requirement already satisfied: pyasn1>=0.1.3 in /root/miniconda/lib/python3.8/site-packages (from rsa<=4.5.0,>=3.1.2; python_version != \"3.4\"->awscli->d2lbook==0.1.17) (0.4.8)\n",
      "Collecting smmap<4,>=3.0.1\n",
      "  Using cached smmap-3.0.4-py2.py3-none-any.whl (25 kB)\n",
      "Requirement already satisfied: jedi>=0.10 in /root/miniconda/lib/python3.8/site-packages (from ipython>=5.0.0->ipykernel->jupyter->d2lbook==0.1.17) (0.18.0)\n",
      "Requirement already satisfied: pexpect>4.3; sys_platform != \"win32\" in /root/miniconda/lib/python3.8/site-packages (from ipython>=5.0.0->ipykernel->jupyter->d2lbook==0.1.17) (4.8.0)\n",
      "Requirement already satisfied: backcall in /root/miniconda/lib/python3.8/site-packages (from ipython>=5.0.0->ipykernel->jupyter->d2lbook==0.1.17) (0.2.0)\n",
      "Requirement already satisfied: pickleshare in /root/miniconda/lib/python3.8/site-packages (from ipython>=5.0.0->ipykernel->jupyter->d2lbook==0.1.17) (0.7.5)\n",
      "Requirement already satisfied: decorator in /root/miniconda/lib/python3.8/site-packages (from ipython>=5.0.0->ipykernel->jupyter->d2lbook==0.1.17) (4.4.2)\n",
      "Requirement already satisfied: ptyprocess; os_name != \"nt\" in /root/miniconda/lib/python3.8/site-packages (from terminado>=0.8.3->notebook->jupyter->d2lbook==0.1.17) (0.6.0)\n",
      "Requirement already satisfied: cffi>=1.0.0 in /root/miniconda/lib/python3.8/site-packages (from argon2-cffi->notebook->jupyter->d2lbook==0.1.17) (1.14.3)\n",
      "Requirement already satisfied: wcwidth in /root/miniconda/lib/python3.8/site-packages (from prompt-toolkit!=3.0.0,!=3.0.1,<3.1.0,>=2.0.0->jupyter-console->jupyter->d2lbook==0.1.17) (0.2.5)\n",
      "Requirement already satisfied: parso<0.9.0,>=0.8.0 in /root/miniconda/lib/python3.8/site-packages (from jedi>=0.10->ipython>=5.0.0->ipykernel->jupyter->d2lbook==0.1.17) (0.8.1)\n",
      "Requirement already satisfied: pycparser in /root/miniconda/lib/python3.8/site-packages (from cffi>=1.0.0->argon2-cffi->notebook->jupyter->d2lbook==0.1.17) (2.20)\n",
      "Building wheels for collected packages: d2lbook\n",
      "  Building wheel for d2lbook (setup.py) ... \u001b[?25ldone\n",
      "\u001b[?25h  Created wheel for d2lbook: filename=d2lbook-0.1.17-py3-none-any.whl size=49463 sha256=29a005481af3d888836640cd47d2f72f2feb1a4480763dc0cf819a72735445e5\n",
      "  Stored in directory: /tmp/pip-ephem-wheel-cache-ph0473zh/wheels/59/2e/30/3583ef2f9e03fb262c4b01ca992d3380612a496b7b17d8b89c\n",
      "Successfully built d2lbook\n",
      "Installing collected packages: smmap, gitdb, gitpython, sphinx-autodoc-typehints, d2lbook\n",
      "Successfully installed d2lbook-0.1.17 gitdb-4.0.5 gitpython-3.1.11 smmap-3.0.4 sphinx-autodoc-typehints-1.11.1\n"
     ]
    }
   ],
   "source": [
    "!pip install git+https://github.com/d2l-ai/d2l-book"
   ]
  },
  {
   "cell_type": "code",
   "execution_count": 6,
   "metadata": {},
   "outputs": [
    {
     "name": "stdout",
     "output_type": "stream",
     "text": [
      "[d2lbook:build.py:L131] INFO   2 notebooks are outdated\n",
      "[d2lbook:build.py:L133] INFO   [1] ./get_started.md\n",
      "[d2lbook:build.py:L133] INFO   [2] ./index.md\n",
      "[d2lbook:build.py:L138] INFO   [1/2, 00:00:00] Evaluating ./get_started.md, save as _build/eval/get_started.ipynb\n",
      "[d2lbook:execute.py:L404] INFO   Executing notebook with kernel: python\n",
      "[d2lbook:build.py:L145] INFO   Finished in 00:00:03\n",
      "[d2lbook:build.py:L138] INFO   [2/2, 00:00:03] Evaluating ./index.md, save as _build/eval/index.ipynb\n",
      "[d2lbook:execute.py:L404] INFO   Executing notebook with kernel: python\n",
      "[d2lbook:build.py:L145] INFO   Finished in 00:00:02\n",
      "[d2lbook:build.py:L49] INFO   === Finished \"d2lbook build eval\" in 00:00:05\n",
      "[d2lbook:build.py:L247] INFO   2 rst files are outdated\n",
      "[d2lbook:build.py:L249] INFO   Convert _build/eval/index.ipynb to _build/rst/index.rst\n",
      "[d2lbook:build.py:L249] INFO   Convert _build/eval/get_started.ipynb to _build/rst/get_started.rst\n",
      "[d2lbook:build.py:L49] INFO   === Finished \"d2lbook build rst\" in 00:00:06\n",
      "[d2lbook:build.py:L49] INFO   === Finished \"d2lbook build ipynb\" in 00:00:00\n",
      "[d2lbook:build.py:L49] INFO   === Finished \"d2lbook build colab\" in 00:00:00\n",
      "[d2lbook:build.py:L49] INFO   === Finished \"d2lbook build sagemaker\" in 00:00:00\n",
      "\u001b[01mRunning Sphinx v3.4.1\u001b[39;49;00m\n",
      "\u001b[01mmaking output directory... \u001b[39;49;00mdone\n",
      "/root/mybook/mybook/_build/rst/conf.py:104: RemovedInSphinx40Warning: The app.add_javascript() is deprecated. Please use app.add_js_file() instead.\n",
      "  app.add_javascript('d2l.js')\n",
      "/root/mybook/mybook/_build/rst/conf.py:105: RemovedInSphinx40Warning: The app.add_stylesheet() is deprecated. Please use app.add_css_file() instead.\n",
      "  app.add_stylesheet('d2l.css')\n",
      "\n",
      "\u001b[91mExtension error:\u001b[39;49;00m\n",
      "You must configure the bibtex_bibfiles setting\n"
     ]
    }
   ],
   "source": [
    "!cd mybook && d2lbook build html"
   ]
  },
  {
   "cell_type": "code",
   "execution_count": 7,
   "metadata": {},
   "outputs": [
    {
     "name": "stdout",
     "output_type": "stream",
     "text": [
      "Package                        Version\n",
      "------------------------------ -------------------\n",
      "alabaster                      0.7.12\n",
      "argon2-cffi                    20.1.0\n",
      "attrs                          20.3.0\n",
      "awscli                         1.18.203\n",
      "Babel                          2.9.0\n",
      "backcall                       0.2.0\n",
      "bleach                         3.2.1\n",
      "botocore                       1.19.43\n",
      "brotlipy                       0.7.0\n",
      "certifi                        2020.12.5\n",
      "cffi                           1.14.3\n",
      "chardet                        3.0.4\n",
      "colorama                       0.4.3\n",
      "commonmark                     0.9.1\n",
      "conda                          4.9.2\n",
      "conda-package-handling         1.7.2\n",
      "cryptography                   3.2.1\n",
      "d2lbook                        0.1.17\n",
      "decorator                      4.4.2\n",
      "defusedxml                     0.6.0\n",
      "docutils                       0.16\n",
      "entrypoints                    0.3\n",
      "gitdb                          4.0.5\n",
      "GitPython                      3.1.11\n",
      "idna                           2.10\n",
      "imagesize                      1.2.0\n",
      "ipykernel                      5.4.2\n",
      "ipython                        7.19.0\n",
      "ipython-genutils               0.2.0\n",
      "ipywidgets                     7.6.2\n",
      "jedi                           0.18.0\n",
      "Jinja2                         2.11.2\n",
      "jmespath                       0.10.0\n",
      "jsonschema                     3.2.0\n",
      "jupyter                        1.0.0\n",
      "jupyter-client                 6.1.7\n",
      "jupyter-console                6.2.0\n",
      "jupyter-core                   4.7.0\n",
      "jupyterlab-widgets             1.0.0\n",
      "latexcodec                     2.0.1\n",
      "MarkupSafe                     1.1.1\n",
      "mistune                        0.8.4\n",
      "mu-notedown                    2.0.3\n",
      "mxtheme                        0.3.14\n",
      "nbconvert                      5.6.1\n",
      "nbformat                       5.0.8\n",
      "notebook                       6.1.6\n",
      "numpydoc                       1.1.0\n",
      "oset                           0.1.3\n",
      "packaging                      20.8\n",
      "pandoc-attributes              0.1.7\n",
      "pandocfilters                  1.4.3\n",
      "parso                          0.8.1\n",
      "pexpect                        4.8.0\n",
      "pickleshare                    0.7.5\n",
      "pip                            20.2.4\n",
      "prometheus-client              0.9.0\n",
      "prompt-toolkit                 3.0.8\n",
      "ptyprocess                     0.6.0\n",
      "pyasn1                         0.4.8\n",
      "pybtex                         0.23.0\n",
      "pybtex-apa-style               1.3\n",
      "pybtex-docutils                0.2.2\n",
      "pycosat                        0.6.3\n",
      "pycparser                      2.20\n",
      "Pygments                       2.7.3\n",
      "pyOpenSSL                      19.1.0\n",
      "pyparsing                      2.4.7\n",
      "pyrsistent                     0.17.3\n",
      "PySocks                        1.7.1\n",
      "python-dateutil                2.8.1\n",
      "pytz                           2020.5\n",
      "PyYAML                         5.3.1\n",
      "pyzmq                          20.0.0\n",
      "qtconsole                      5.0.1\n",
      "QtPy                           1.9.0\n",
      "recommonmark                   0.7.1\n",
      "regex                          2020.11.13\n",
      "requests                       2.24.0\n",
      "rsa                            4.5\n",
      "ruamel-yaml                    0.15.87\n",
      "s3transfer                     0.3.3\n",
      "Send2Trash                     1.5.0\n",
      "setuptools                     50.3.1.post20201107\n",
      "six                            1.15.0\n",
      "smmap                          3.0.4\n",
      "snowballstemmer                2.0.0\n",
      "Sphinx                         3.4.1\n",
      "sphinx-autodoc-typehints       1.11.1\n",
      "sphinxcontrib-applehelp        1.0.2\n",
      "sphinxcontrib-bibtex           2.0.0\n",
      "sphinxcontrib-devhelp          1.0.2\n",
      "sphinxcontrib-htmlhelp         1.0.3\n",
      "sphinxcontrib-jsmath           1.0.1\n",
      "sphinxcontrib-qthelp           1.0.3\n",
      "sphinxcontrib-serializinghtml  1.1.4\n",
      "sphinxcontrib-svg2pdfconverter 1.1.0\n",
      "terminado                      0.9.1\n",
      "testpath                       0.4.4\n",
      "tornado                        6.1\n",
      "tqdm                           4.51.0\n",
      "traitlets                      5.0.5\n",
      "urllib3                        1.25.11\n",
      "wcwidth                        0.2.5\n",
      "webencodings                   0.5.1\n",
      "wheel                          0.35.1\n",
      "widgetsnbextension             3.5.1\n"
     ]
    }
   ],
   "source": [
    "!pip list sphinx-bibtex"
   ]
  },
  {
   "cell_type": "code",
   "execution_count": 8,
   "metadata": {},
   "outputs": [
    {
     "name": "stdout",
     "output_type": "stream",
     "text": [
      "\u001b[31mERROR: Exception:\r\n",
      "Traceback (most recent call last):\r\n",
      "  File \"/root/miniconda/lib/python3.8/site-packages/pip/_internal/cli/base_command.py\", line 228, in _main\r\n",
      "    status = self.run(options, args)\r\n",
      "  File \"/root/miniconda/lib/python3.8/site-packages/pip/_internal/commands/search.py\", line 60, in run\r\n",
      "    pypi_hits = self.search(query, options)\r\n",
      "  File \"/root/miniconda/lib/python3.8/site-packages/pip/_internal/commands/search.py\", line 80, in search\r\n",
      "    hits = pypi.search({'name': query, 'summary': query}, 'or')\r\n",
      "  File \"/root/miniconda/lib/python3.8/xmlrpc/client.py\", line 1109, in __call__\r\n",
      "    return self.__send(self.__name, args)\r\n",
      "  File \"/root/miniconda/lib/python3.8/xmlrpc/client.py\", line 1450, in __request\r\n",
      "    response = self.__transport.request(\r\n",
      "  File \"/root/miniconda/lib/python3.8/site-packages/pip/_internal/network/xmlrpc.py\", line 45, in request\r\n",
      "    return self.parse_response(response.raw)\r\n",
      "  File \"/root/miniconda/lib/python3.8/xmlrpc/client.py\", line 1341, in parse_response\r\n",
      "    return u.close()\r\n",
      "  File \"/root/miniconda/lib/python3.8/xmlrpc/client.py\", line 655, in close\r\n",
      "    raise Fault(**self._stack[0])\r\n",
      "xmlrpc.client.Fault: <Fault -32500: \"RuntimeError: PyPI's XMLRPC API has been temporarily disabled due to unmanageable load and will be deprecated in the near future. See https://status.python.org/ for more information.\">\u001b[0m\r\n"
     ]
    }
   ],
   "source": [
    "!pip search sphinxcontrib-bibtex"
   ]
  },
  {
   "cell_type": "code",
   "execution_count": 10,
   "metadata": {},
   "outputs": [
    {
     "name": "stdout",
     "output_type": "stream",
     "text": [
      "\u001b[31mERROR: Could not find a version that satisfies the requirement sphinxcontrib-bibtex==1.9.9 (from versions: 0.2.1, 0.2.2, 0.2.3, 0.2.4, 0.2.5, 0.2.6, 0.2.7, 0.2.8, 0.2.9, 0.3.0, 0.3.1, 0.3.2, 0.3.3, 0.3.4, 0.3.5, 0.3.6, 0.4.0, 0.4.1, 0.4.2, 1.0.0, 2.0.0)\u001b[0m\r\n",
      "\u001b[31mERROR: No matching distribution found for sphinxcontrib-bibtex==1.9.9\u001b[0m\r\n"
     ]
    }
   ],
   "source": [
    "!pip install sphinxcontrib-bibtex==1.9.9"
   ]
  },
  {
   "cell_type": "code",
   "execution_count": 11,
   "metadata": {},
   "outputs": [
    {
     "name": "stdout",
     "output_type": "stream",
     "text": [
      "Collecting sphinxcontrib-bibtex==1.0.0\n",
      "  Downloading sphinxcontrib_bibtex-1.0.0-py3-none-any.whl (14 kB)\n",
      "Requirement already satisfied: Sphinx>=2.0 in /root/miniconda/lib/python3.8/site-packages (from sphinxcontrib-bibtex==1.0.0) (3.4.1)\n",
      "Requirement already satisfied: oset>=0.1.3 in /root/miniconda/lib/python3.8/site-packages (from sphinxcontrib-bibtex==1.0.0) (0.1.3)\n",
      "Requirement already satisfied: pybtex-docutils>=0.2.0 in /root/miniconda/lib/python3.8/site-packages (from sphinxcontrib-bibtex==1.0.0) (0.2.2)\n",
      "Requirement already satisfied: pybtex>=0.20 in /root/miniconda/lib/python3.8/site-packages (from sphinxcontrib-bibtex==1.0.0) (0.23.0)\n",
      "Requirement already satisfied: requests>=2.5.0 in /root/miniconda/lib/python3.8/site-packages (from Sphinx>=2.0->sphinxcontrib-bibtex==1.0.0) (2.24.0)\n",
      "Requirement already satisfied: imagesize in /root/miniconda/lib/python3.8/site-packages (from Sphinx>=2.0->sphinxcontrib-bibtex==1.0.0) (1.2.0)\n",
      "Requirement already satisfied: docutils>=0.12 in /root/miniconda/lib/python3.8/site-packages (from Sphinx>=2.0->sphinxcontrib-bibtex==1.0.0) (0.16)\n",
      "Requirement already satisfied: sphinxcontrib-serializinghtml in /root/miniconda/lib/python3.8/site-packages (from Sphinx>=2.0->sphinxcontrib-bibtex==1.0.0) (1.1.4)\n",
      "Requirement already satisfied: setuptools in /root/miniconda/lib/python3.8/site-packages (from Sphinx>=2.0->sphinxcontrib-bibtex==1.0.0) (50.3.1.post20201107)\n",
      "Requirement already satisfied: sphinxcontrib-htmlhelp in /root/miniconda/lib/python3.8/site-packages (from Sphinx>=2.0->sphinxcontrib-bibtex==1.0.0) (1.0.3)\n",
      "Requirement already satisfied: Jinja2>=2.3 in /root/miniconda/lib/python3.8/site-packages (from Sphinx>=2.0->sphinxcontrib-bibtex==1.0.0) (2.11.2)\n",
      "Requirement already satisfied: snowballstemmer>=1.1 in /root/miniconda/lib/python3.8/site-packages (from Sphinx>=2.0->sphinxcontrib-bibtex==1.0.0) (2.0.0)\n",
      "Requirement already satisfied: alabaster<0.8,>=0.7 in /root/miniconda/lib/python3.8/site-packages (from Sphinx>=2.0->sphinxcontrib-bibtex==1.0.0) (0.7.12)\n",
      "Requirement already satisfied: sphinxcontrib-qthelp in /root/miniconda/lib/python3.8/site-packages (from Sphinx>=2.0->sphinxcontrib-bibtex==1.0.0) (1.0.3)\n",
      "Requirement already satisfied: sphinxcontrib-applehelp in /root/miniconda/lib/python3.8/site-packages (from Sphinx>=2.0->sphinxcontrib-bibtex==1.0.0) (1.0.2)\n",
      "Requirement already satisfied: babel>=1.3 in /root/miniconda/lib/python3.8/site-packages (from Sphinx>=2.0->sphinxcontrib-bibtex==1.0.0) (2.9.0)\n",
      "Requirement already satisfied: Pygments>=2.0 in /root/miniconda/lib/python3.8/site-packages (from Sphinx>=2.0->sphinxcontrib-bibtex==1.0.0) (2.7.3)\n",
      "Requirement already satisfied: packaging in /root/miniconda/lib/python3.8/site-packages (from Sphinx>=2.0->sphinxcontrib-bibtex==1.0.0) (20.8)\n",
      "Requirement already satisfied: sphinxcontrib-devhelp in /root/miniconda/lib/python3.8/site-packages (from Sphinx>=2.0->sphinxcontrib-bibtex==1.0.0) (1.0.2)\n",
      "Requirement already satisfied: sphinxcontrib-jsmath in /root/miniconda/lib/python3.8/site-packages (from Sphinx>=2.0->sphinxcontrib-bibtex==1.0.0) (1.0.1)\n",
      "Requirement already satisfied: six in /root/miniconda/lib/python3.8/site-packages (from pybtex-docutils>=0.2.0->sphinxcontrib-bibtex==1.0.0) (1.15.0)\n",
      "Requirement already satisfied: PyYAML>=3.01 in /root/miniconda/lib/python3.8/site-packages (from pybtex>=0.20->sphinxcontrib-bibtex==1.0.0) (5.3.1)\n",
      "Requirement already satisfied: latexcodec>=1.0.4 in /root/miniconda/lib/python3.8/site-packages (from pybtex>=0.20->sphinxcontrib-bibtex==1.0.0) (2.0.1)\n",
      "Requirement already satisfied: certifi>=2017.4.17 in /root/miniconda/lib/python3.8/site-packages (from requests>=2.5.0->Sphinx>=2.0->sphinxcontrib-bibtex==1.0.0) (2020.12.5)\n",
      "Requirement already satisfied: urllib3!=1.25.0,!=1.25.1,<1.26,>=1.21.1 in /root/miniconda/lib/python3.8/site-packages (from requests>=2.5.0->Sphinx>=2.0->sphinxcontrib-bibtex==1.0.0) (1.25.11)\n",
      "Requirement already satisfied: idna<3,>=2.5 in /root/miniconda/lib/python3.8/site-packages (from requests>=2.5.0->Sphinx>=2.0->sphinxcontrib-bibtex==1.0.0) (2.10)\n",
      "Requirement already satisfied: chardet<4,>=3.0.2 in /root/miniconda/lib/python3.8/site-packages (from requests>=2.5.0->Sphinx>=2.0->sphinxcontrib-bibtex==1.0.0) (3.0.4)\n",
      "Requirement already satisfied: MarkupSafe>=0.23 in /root/miniconda/lib/python3.8/site-packages (from Jinja2>=2.3->Sphinx>=2.0->sphinxcontrib-bibtex==1.0.0) (1.1.1)\n",
      "Requirement already satisfied: pytz>=2015.7 in /root/miniconda/lib/python3.8/site-packages (from babel>=1.3->Sphinx>=2.0->sphinxcontrib-bibtex==1.0.0) (2020.5)\n",
      "Requirement already satisfied: pyparsing>=2.0.2 in /root/miniconda/lib/python3.8/site-packages (from packaging->Sphinx>=2.0->sphinxcontrib-bibtex==1.0.0) (2.4.7)\n",
      "Installing collected packages: sphinxcontrib-bibtex\n",
      "  Attempting uninstall: sphinxcontrib-bibtex\n",
      "    Found existing installation: sphinxcontrib-bibtex 2.0.0\n",
      "    Uninstalling sphinxcontrib-bibtex-2.0.0:\n",
      "      Successfully uninstalled sphinxcontrib-bibtex-2.0.0\n",
      "Successfully installed sphinxcontrib-bibtex-1.0.0\n"
     ]
    }
   ],
   "source": [
    "!pip install sphinxcontrib-bibtex==1.0.0"
   ]
  },
  {
   "cell_type": "code",
   "execution_count": 12,
   "metadata": {},
   "outputs": [
    {
     "name": "stdout",
     "output_type": "stream",
     "text": [
      "[d2lbook:build.py:L131] INFO   0 notebooks are outdated\n",
      "[d2lbook:build.py:L49] INFO   === Finished \"d2lbook build eval\" in 00:00:00\n",
      "[d2lbook:build.py:L247] INFO   0 rst files are outdated\n",
      "[d2lbook:build.py:L49] INFO   === Finished \"d2lbook build rst\" in 00:00:00\n",
      "[d2lbook:build.py:L49] INFO   === Finished \"d2lbook build ipynb\" in 00:00:00\n",
      "[d2lbook:build.py:L49] INFO   === Finished \"d2lbook build colab\" in 00:00:00\n",
      "[d2lbook:build.py:L49] INFO   === Finished \"d2lbook build sagemaker\" in 00:00:00\n",
      "\u001b[01mRunning Sphinx v3.4.1\u001b[39;49;00m\n",
      "/root/mybook/mybook/_build/rst/conf.py:104: RemovedInSphinx40Warning: The app.add_javascript() is deprecated. Please use app.add_js_file() instead.\n",
      "  app.add_javascript('d2l.js')\n",
      "/root/mybook/mybook/_build/rst/conf.py:105: RemovedInSphinx40Warning: The app.add_stylesheet() is deprecated. Please use app.add_css_file() instead.\n",
      "  app.add_stylesheet('d2l.css')\n",
      "\u001b[01mbuilding [mo]: \u001b[39;49;00mtargets for 0 po files that are out of date\n",
      "\u001b[01mbuilding [html]: \u001b[39;49;00mtargets for 2 source files that are out of date\n",
      "\u001b[01mupdating environment: \u001b[39;49;00m[new config] 2 added, 0 changed, 0 removed\n",
      "\u001b[01mreading sources... \u001b[39;49;00m[100%] \u001b[35mindex\u001b[39;49;00m                                                 \n",
      "\u001b[01mlooking for now-outdated files... \u001b[39;49;00mnone found\n",
      "\u001b[01mpickling environment... \u001b[39;49;00mdone\n",
      "\u001b[01mchecking consistency... \u001b[39;49;00mdone\n",
      "\u001b[01mpreparing documents... \u001b[39;49;00mdone\n",
      "\u001b[01mwriting output... \u001b[39;49;00m[100%] \u001b[32mindex\u001b[39;49;00m                                                  \n",
      "\u001b[01mwaiting for workers...\u001b[39;49;00m\n",
      "\u001b[01mgenerating indices... \u001b[39;49;00mgenindex done\n",
      "\u001b[01mwriting additional pages... \u001b[39;49;00msearch done\n",
      "\u001b[01mcopying static files... \u001b[39;49;00mdone\n",
      "\u001b[01mcopying extra files... \u001b[39;49;00mdone\n",
      "\u001b[01mdumping search index in English (code: en)... \u001b[39;49;00mdone\n",
      "\u001b[01mdumping object inventory... \u001b[39;49;00mdone\n",
      "\u001b[01mbuild succeeded.\u001b[39;49;00m\n",
      "\n",
      "The HTML pages are in _build/html.\n",
      "[d2lbook:build.py:L49] INFO   === Finished \"d2lbook build html\" in 00:00:03\n"
     ]
    }
   ],
   "source": [
    "!cd mybook && d2lbook build html"
   ]
  },
  {
   "cell_type": "code",
   "execution_count": 13,
   "metadata": {},
   "outputs": [
    {
     "name": "stdout",
     "output_type": "stream",
     "text": [
      "Writing mybook/config.ini\n"
     ]
    }
   ],
   "source": [
    "%%writefile mybook/config.ini\n",
    "\n",
    "[project]\n",
    "# Specify the PDF filename to mybook.pdf\n",
    "name = mybook\n",
    "# Specify the authors names in PDF\n",
    "author = Adam Smith, Alex Li\n",
    "\n",
    "[html]\n",
    "# Add two links on the navbar. A link consists of three\n",
    "# items: name, URL, and a fontawesome icon. Items are separated by commas.\n",
    "header_links = PDF, https://book.d2l.ai/d2l-book.pdf, fas fa-file-pdf,\n",
    "               Github, https://github.com/d2l-ai/d2l-book, fab fa-github"
   ]
  },
  {
   "cell_type": "code",
   "execution_count": 14,
   "metadata": {},
   "outputs": [
    {
     "name": "stdout",
     "output_type": "stream",
     "text": [
      "[d2lbook:config.py:L12] INFO   Load configure from config.ini\n",
      "[d2lbook:build.py:L131] INFO   2 notebooks are outdated\n",
      "[d2lbook:build.py:L133] INFO   [1] ./index.md\n",
      "[d2lbook:build.py:L133] INFO   [2] ./get_started.md\n",
      "[d2lbook:build.py:L138] INFO   [1/2, 00:00:00] Evaluating ./index.md, save as _build/eval/index.ipynb\n",
      "[d2lbook:execute.py:L404] INFO   Executing notebook with kernel: python\n",
      "[d2lbook:build.py:L145] INFO   Finished in 00:00:03\n",
      "[d2lbook:build.py:L138] INFO   [2/2, 00:00:03] Evaluating ./get_started.md, save as _build/eval/get_started.ipynb\n",
      "[d2lbook:execute.py:L404] INFO   Executing notebook with kernel: python\n",
      "[d2lbook:build.py:L145] INFO   Finished in 00:00:02\n",
      "[d2lbook:build.py:L49] INFO   === Finished \"d2lbook build eval\" in 00:00:06\n",
      "[d2lbook:build.py:L247] INFO   2 rst files are outdated\n",
      "[d2lbook:build.py:L249] INFO   Convert _build/eval/index.ipynb to _build/rst/index.rst\n",
      "[d2lbook:build.py:L249] INFO   Convert _build/eval/get_started.ipynb to _build/rst/get_started.rst\n",
      "[d2lbook:build.py:L49] INFO   === Finished \"d2lbook build rst\" in 00:00:06\n",
      "[d2lbook:build.py:L49] INFO   === Finished \"d2lbook build ipynb\" in 00:00:00\n",
      "[d2lbook:build.py:L49] INFO   === Finished \"d2lbook build colab\" in 00:00:00\n",
      "[d2lbook:build.py:L49] INFO   === Finished \"d2lbook build sagemaker\" in 00:00:00\n",
      "\u001b[01mRunning Sphinx v3.4.1\u001b[39;49;00m\n",
      "\u001b[01mmaking output directory... \u001b[39;49;00mdone\n",
      "/root/mybook/mybook/_build/rst/conf.py:104: RemovedInSphinx40Warning: The app.add_javascript() is deprecated. Please use app.add_js_file() instead.\n",
      "  app.add_javascript('d2l.js')\n",
      "/root/mybook/mybook/_build/rst/conf.py:105: RemovedInSphinx40Warning: The app.add_stylesheet() is deprecated. Please use app.add_css_file() instead.\n",
      "  app.add_stylesheet('d2l.css')\n",
      "\u001b[01mbuilding [mo]: \u001b[39;49;00mtargets for 0 po files that are out of date\n",
      "\u001b[01mbuilding [html]: \u001b[39;49;00mtargets for 2 source files that are out of date\n",
      "\u001b[01mupdating environment: \u001b[39;49;00m[new config] 2 added, 0 changed, 0 removed\n",
      "\u001b[01mreading sources... \u001b[39;49;00m[100%] \u001b[35mindex\u001b[39;49;00m                                                 \n",
      "\u001b[01mlooking for now-outdated files... \u001b[39;49;00mnone found\n",
      "\u001b[01mpickling environment... \u001b[39;49;00mdone\n",
      "\u001b[01mchecking consistency... \u001b[39;49;00mdone\n",
      "\u001b[01mpreparing documents... \u001b[39;49;00mdone\n",
      "\u001b[01mwriting output... \u001b[39;49;00m[100%] \u001b[32mindex\u001b[39;49;00m                                                  \n",
      "\u001b[01mwaiting for workers...\u001b[39;49;00m\n",
      "\u001b[01mgenerating indices... \u001b[39;49;00mgenindex done\n",
      "\u001b[01mwriting additional pages... \u001b[39;49;00msearch done\n",
      "\u001b[01mcopying static files... \u001b[39;49;00mdone\n",
      "\u001b[01mcopying extra files... \u001b[39;49;00mdone\n",
      "\u001b[01mdumping search index in English (code: en)... \u001b[39;49;00mdone\n",
      "\u001b[01mdumping object inventory... \u001b[39;49;00mdone\n",
      "\u001b[01mbuild succeeded.\u001b[39;49;00m\n",
      "\n",
      "The HTML pages are in _build/html.\n",
      "[d2lbook:build.py:L49] INFO   === Finished \"d2lbook build html\" in 00:00:09\n"
     ]
    }
   ],
   "source": [
    "!cd mybook && rm -rf _build && d2lbook build html"
   ]
  },
  {
   "cell_type": "code",
   "execution_count": 15,
   "metadata": {
    "scrolled": true
   },
   "outputs": [
    {
     "name": "stdout",
     "output_type": "stream",
     "text": [
      "[d2lbook:config.py:L12] INFO   Load configure from config.ini\n",
      "[d2lbook:build.py:L131] INFO   0 notebooks are outdated\n",
      "[d2lbook:build.py:L49] INFO   === Finished \"d2lbook build eval\" in 00:00:00\n",
      "[d2lbook:build.py:L247] INFO   0 rst files are outdated\n",
      "[d2lbook:build.py:L49] INFO   === Finished \"d2lbook build rst\" in 00:00:00\n",
      "\u001b[01mRunning Sphinx v3.4.1\u001b[39;49;00m\n",
      "\u001b[01mmaking output directory... \u001b[39;49;00mdone\n",
      "/root/mybook/mybook/_build/rst/conf.py:104: RemovedInSphinx40Warning: The app.add_javascript() is deprecated. Please use app.add_js_file() instead.\n",
      "  app.add_javascript('d2l.js')\n",
      "/root/mybook/mybook/_build/rst/conf.py:105: RemovedInSphinx40Warning: The app.add_stylesheet() is deprecated. Please use app.add_css_file() instead.\n",
      "  app.add_stylesheet('d2l.css')\n",
      "\u001b[01mbuilding [mo]: \u001b[39;49;00mtargets for 0 po files that are out of date\n",
      "\u001b[01mbuilding [latex]: \u001b[39;49;00mall documents\n",
      "\u001b[01mupdating environment: \u001b[39;49;00m[new config] 2 added, 0 changed, 0 removed\n",
      "\u001b[01mreading sources... \u001b[39;49;00m[100%] \u001b[35mindex\u001b[39;49;00m                                                 \n",
      "\u001b[01mlooking for now-outdated files... \u001b[39;49;00mnone found\n",
      "\u001b[01mpickling environment... \u001b[39;49;00mdone\n",
      "\u001b[01mchecking consistency... \u001b[39;49;00mdone\n",
      "\u001b[01mprocessing mybook.tex... \u001b[39;49;00m\u001b[32mindex\u001b[39;49;00m \u001b[32mget_started\u001b[39;49;00m \n",
      "resolving references...\n",
      "done\n",
      "\u001b[01mwriting... \u001b[39;49;00mdone\n",
      "\u001b[01mcopying TeX support files... \u001b[39;49;00m\u001b[01mcopying TeX support files...\u001b[39;49;00m\n",
      "done\n",
      "\u001b[01mbuild succeeded.\u001b[39;49;00m\n",
      "\n",
      "The LaTeX files are in _build/pdf.\n",
      "Run 'make' in that directory to run these through (pdf)latex\n",
      "(use `make latexpdf' here to do that automatically).\n",
      "latexmk -pdf -dvi- -ps-  'mybook.tex'\n",
      "make: latexmk: Command not found\n",
      "Makefile:29: recipe for target 'mybook.pdf' failed\n",
      "make: *** [mybook.pdf] Error 127\n"
     ]
    }
   ],
   "source": [
    "!cd mybook && d2lbook build pdf"
   ]
  },
  {
   "cell_type": "code",
   "execution_count": null,
   "metadata": {},
   "outputs": [],
   "source": [
    "!apt-get install texlive -y"
   ]
  }
 ],
 "metadata": {
  "kernelspec": {
   "display_name": "Python 3",
   "language": "python",
   "name": "python3"
  },
  "language_info": {
   "codemirror_mode": {
    "name": "ipython",
    "version": 3
   },
   "file_extension": ".py",
   "mimetype": "text/x-python",
   "name": "python",
   "nbconvert_exporter": "python",
   "pygments_lexer": "ipython3",
   "version": "3.8.5"
  }
 },
 "nbformat": 4,
 "nbformat_minor": 4
}
