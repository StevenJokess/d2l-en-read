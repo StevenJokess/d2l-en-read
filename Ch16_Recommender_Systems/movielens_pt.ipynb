{
  "nbformat": 4,
  "nbformat_minor": 0,
  "metadata": {
    "colab": {
      "name": "movielens-pt.ipynb",
      "provenance": []
    },
    "kernelspec": {
      "name": "python3",
      "display_name": "Python 3"
    },
    "accelerator": "GPU"
  },
  "cells": [
    {
      "cell_type": "code",
      "metadata": {
        "colab": {
          "base_uri": "https://localhost:8080/"
        },
        "id": "F8VBAHjom5QB",
        "outputId": "ff7b01d9-77f5-48ce-d698-81fb8fd791ab"
      },
      "source": [
        "!pip install -U git+https://github.com/d2l-ai/d2l-en.git@master"
      ],
      "execution_count": 1,
      "outputs": [
        {
          "output_type": "stream",
          "text": [
            "Collecting git+https://github.com/d2l-ai/d2l-en.git@master\n",
            "  Cloning https://github.com/d2l-ai/d2l-en.git (to revision master) to /tmp/pip-req-build-w1h4fxui\n",
            "  Running command git clone -q https://github.com/d2l-ai/d2l-en.git /tmp/pip-req-build-w1h4fxui\n",
            "Requirement already satisfied, skipping upgrade: jupyter in /usr/local/lib/python3.6/dist-packages (from d2l==0.15.1) (1.0.0)\n",
            "Requirement already satisfied, skipping upgrade: numpy in /usr/local/lib/python3.6/dist-packages (from d2l==0.15.1) (1.19.4)\n",
            "Requirement already satisfied, skipping upgrade: matplotlib in /usr/local/lib/python3.6/dist-packages (from d2l==0.15.1) (3.2.2)\n",
            "Requirement already satisfied, skipping upgrade: pandas in /usr/local/lib/python3.6/dist-packages (from d2l==0.15.1) (1.1.5)\n",
            "Requirement already satisfied, skipping upgrade: qtconsole in /usr/local/lib/python3.6/dist-packages (from jupyter->d2l==0.15.1) (5.0.1)\n",
            "Requirement already satisfied, skipping upgrade: notebook in /usr/local/lib/python3.6/dist-packages (from jupyter->d2l==0.15.1) (5.3.1)\n",
            "Requirement already satisfied, skipping upgrade: nbconvert in /usr/local/lib/python3.6/dist-packages (from jupyter->d2l==0.15.1) (5.6.1)\n",
            "Requirement already satisfied, skipping upgrade: ipywidgets in /usr/local/lib/python3.6/dist-packages (from jupyter->d2l==0.15.1) (7.5.1)\n",
            "Requirement already satisfied, skipping upgrade: ipykernel in /usr/local/lib/python3.6/dist-packages (from jupyter->d2l==0.15.1) (4.10.1)\n",
            "Requirement already satisfied, skipping upgrade: jupyter-console in /usr/local/lib/python3.6/dist-packages (from jupyter->d2l==0.15.1) (5.2.0)\n",
            "Requirement already satisfied, skipping upgrade: kiwisolver>=1.0.1 in /usr/local/lib/python3.6/dist-packages (from matplotlib->d2l==0.15.1) (1.3.1)\n",
            "Requirement already satisfied, skipping upgrade: python-dateutil>=2.1 in /usr/local/lib/python3.6/dist-packages (from matplotlib->d2l==0.15.1) (2.8.1)\n",
            "Requirement already satisfied, skipping upgrade: pyparsing!=2.0.4,!=2.1.2,!=2.1.6,>=2.0.1 in /usr/local/lib/python3.6/dist-packages (from matplotlib->d2l==0.15.1) (2.4.7)\n",
            "Requirement already satisfied, skipping upgrade: cycler>=0.10 in /usr/local/lib/python3.6/dist-packages (from matplotlib->d2l==0.15.1) (0.10.0)\n",
            "Requirement already satisfied, skipping upgrade: pytz>=2017.2 in /usr/local/lib/python3.6/dist-packages (from pandas->d2l==0.15.1) (2018.9)\n",
            "Requirement already satisfied, skipping upgrade: pygments in /usr/local/lib/python3.6/dist-packages (from qtconsole->jupyter->d2l==0.15.1) (2.6.1)\n",
            "Requirement already satisfied, skipping upgrade: traitlets in /usr/local/lib/python3.6/dist-packages (from qtconsole->jupyter->d2l==0.15.1) (4.3.3)\n",
            "Requirement already satisfied, skipping upgrade: jupyter-core in /usr/local/lib/python3.6/dist-packages (from qtconsole->jupyter->d2l==0.15.1) (4.7.0)\n",
            "Requirement already satisfied, skipping upgrade: qtpy in /usr/local/lib/python3.6/dist-packages (from qtconsole->jupyter->d2l==0.15.1) (1.9.0)\n",
            "Requirement already satisfied, skipping upgrade: jupyter-client>=4.1 in /usr/local/lib/python3.6/dist-packages (from qtconsole->jupyter->d2l==0.15.1) (5.3.5)\n",
            "Requirement already satisfied, skipping upgrade: pyzmq>=17.1 in /usr/local/lib/python3.6/dist-packages (from qtconsole->jupyter->d2l==0.15.1) (20.0.0)\n",
            "Requirement already satisfied, skipping upgrade: ipython-genutils in /usr/local/lib/python3.6/dist-packages (from qtconsole->jupyter->d2l==0.15.1) (0.2.0)\n",
            "Requirement already satisfied, skipping upgrade: Send2Trash in /usr/local/lib/python3.6/dist-packages (from notebook->jupyter->d2l==0.15.1) (1.5.0)\n",
            "Requirement already satisfied, skipping upgrade: nbformat in /usr/local/lib/python3.6/dist-packages (from notebook->jupyter->d2l==0.15.1) (5.0.8)\n",
            "Requirement already satisfied, skipping upgrade: terminado>=0.8.1 in /usr/local/lib/python3.6/dist-packages (from notebook->jupyter->d2l==0.15.1) (0.9.1)\n",
            "Requirement already satisfied, skipping upgrade: jinja2 in /usr/local/lib/python3.6/dist-packages (from notebook->jupyter->d2l==0.15.1) (2.11.2)\n",
            "Requirement already satisfied, skipping upgrade: tornado>=4 in /usr/local/lib/python3.6/dist-packages (from notebook->jupyter->d2l==0.15.1) (5.1.1)\n",
            "Requirement already satisfied, skipping upgrade: testpath in /usr/local/lib/python3.6/dist-packages (from nbconvert->jupyter->d2l==0.15.1) (0.4.4)\n",
            "Requirement already satisfied, skipping upgrade: bleach in /usr/local/lib/python3.6/dist-packages (from nbconvert->jupyter->d2l==0.15.1) (3.2.1)\n",
            "Requirement already satisfied, skipping upgrade: pandocfilters>=1.4.1 in /usr/local/lib/python3.6/dist-packages (from nbconvert->jupyter->d2l==0.15.1) (1.4.3)\n",
            "Requirement already satisfied, skipping upgrade: entrypoints>=0.2.2 in /usr/local/lib/python3.6/dist-packages (from nbconvert->jupyter->d2l==0.15.1) (0.3)\n",
            "Requirement already satisfied, skipping upgrade: defusedxml in /usr/local/lib/python3.6/dist-packages (from nbconvert->jupyter->d2l==0.15.1) (0.6.0)\n",
            "Requirement already satisfied, skipping upgrade: mistune<2,>=0.8.1 in /usr/local/lib/python3.6/dist-packages (from nbconvert->jupyter->d2l==0.15.1) (0.8.4)\n",
            "Requirement already satisfied, skipping upgrade: ipython>=4.0.0; python_version >= \"3.3\" in /usr/local/lib/python3.6/dist-packages (from ipywidgets->jupyter->d2l==0.15.1) (5.5.0)\n",
            "Requirement already satisfied, skipping upgrade: widgetsnbextension~=3.5.0 in /usr/local/lib/python3.6/dist-packages (from ipywidgets->jupyter->d2l==0.15.1) (3.5.1)\n",
            "Requirement already satisfied, skipping upgrade: prompt-toolkit<2.0.0,>=1.0.0 in /usr/local/lib/python3.6/dist-packages (from jupyter-console->jupyter->d2l==0.15.1) (1.0.18)\n",
            "Requirement already satisfied, skipping upgrade: six>=1.5 in /usr/local/lib/python3.6/dist-packages (from python-dateutil>=2.1->matplotlib->d2l==0.15.1) (1.15.0)\n",
            "Requirement already satisfied, skipping upgrade: decorator in /usr/local/lib/python3.6/dist-packages (from traitlets->qtconsole->jupyter->d2l==0.15.1) (4.4.2)\n",
            "Requirement already satisfied, skipping upgrade: jsonschema!=2.5.0,>=2.4 in /usr/local/lib/python3.6/dist-packages (from nbformat->notebook->jupyter->d2l==0.15.1) (2.6.0)\n",
            "Requirement already satisfied, skipping upgrade: ptyprocess; os_name != \"nt\" in /usr/local/lib/python3.6/dist-packages (from terminado>=0.8.1->notebook->jupyter->d2l==0.15.1) (0.6.0)\n",
            "Requirement already satisfied, skipping upgrade: MarkupSafe>=0.23 in /usr/local/lib/python3.6/dist-packages (from jinja2->notebook->jupyter->d2l==0.15.1) (1.1.1)\n",
            "Requirement already satisfied, skipping upgrade: webencodings in /usr/local/lib/python3.6/dist-packages (from bleach->nbconvert->jupyter->d2l==0.15.1) (0.5.1)\n",
            "Requirement already satisfied, skipping upgrade: packaging in /usr/local/lib/python3.6/dist-packages (from bleach->nbconvert->jupyter->d2l==0.15.1) (20.8)\n",
            "Requirement already satisfied, skipping upgrade: setuptools>=18.5 in /usr/local/lib/python3.6/dist-packages (from ipython>=4.0.0; python_version >= \"3.3\"->ipywidgets->jupyter->d2l==0.15.1) (51.0.0)\n",
            "Requirement already satisfied, skipping upgrade: pexpect; sys_platform != \"win32\" in /usr/local/lib/python3.6/dist-packages (from ipython>=4.0.0; python_version >= \"3.3\"->ipywidgets->jupyter->d2l==0.15.1) (4.8.0)\n",
            "Requirement already satisfied, skipping upgrade: pickleshare in /usr/local/lib/python3.6/dist-packages (from ipython>=4.0.0; python_version >= \"3.3\"->ipywidgets->jupyter->d2l==0.15.1) (0.7.5)\n",
            "Requirement already satisfied, skipping upgrade: simplegeneric>0.8 in /usr/local/lib/python3.6/dist-packages (from ipython>=4.0.0; python_version >= \"3.3\"->ipywidgets->jupyter->d2l==0.15.1) (0.8.1)\n",
            "Requirement already satisfied, skipping upgrade: wcwidth in /usr/local/lib/python3.6/dist-packages (from prompt-toolkit<2.0.0,>=1.0.0->jupyter-console->jupyter->d2l==0.15.1) (0.2.5)\n",
            "Building wheels for collected packages: d2l\n",
            "  Building wheel for d2l (setup.py) ... \u001b[?25l\u001b[?25hdone\n",
            "  Created wheel for d2l: filename=d2l-0.15.1-cp36-none-any.whl size=72690 sha256=01ebeaf6771e2a46f6e1534448c24e6e6cba206c8f0d8b80fb2b93bf616931da\n",
            "  Stored in directory: /tmp/pip-ephem-wheel-cache-h4ptwd8v/wheels/0f/41/8f/72ece70ede8a0e37eec72c03087eb4604925ba212b804f8cad\n",
            "Successfully built d2l\n",
            "Installing collected packages: d2l\n",
            "Successfully installed d2l-0.15.1\n"
          ],
          "name": "stdout"
        }
      ]
    },
    {
      "cell_type": "code",
      "metadata": {
        "id": "8MPhePUTmdmF"
      },
      "source": [
        "from d2l import torch as d2l\r\n",
        "import torch\r\n",
        "from torch import nn\r\n",
        "import os\r\n",
        "import pandas as pd"
      ],
      "execution_count": 2,
      "outputs": []
    },
    {
      "cell_type": "code",
      "metadata": {
        "id": "RPjIuex7mpuJ"
      },
      "source": [
        "#@save\r\n",
        "d2l.DATA_HUB['ml-100k'] = (\r\n",
        "    'http://files.grouplens.org/datasets/movielens/ml-100k.zip',\r\n",
        "    'cd4dcac4241c8a4ad7badc7ca635da8a69dddb83')\r\n",
        "\r\n",
        "#@save\r\n",
        "def read_data_ml100k():\r\n",
        "    data_dir = d2l.download_extract('ml-100k')\r\n",
        "    names = ['user_id', 'item_id', 'rating', 'timestamp']\r\n",
        "    data = pd.read_csv(os.path.join(data_dir, 'u.data'), '\\t', names=names,\r\n",
        "                       engine='python')\r\n",
        "    num_users = data.user_id.unique().shape[0]\r\n",
        "    num_items = data.item_id.unique().shape[0]\r\n",
        "    return data, num_users, num_items"
      ],
      "execution_count": 3,
      "outputs": []
    },
    {
      "cell_type": "code",
      "metadata": {
        "colab": {
          "base_uri": "https://localhost:8080/"
        },
        "id": "PIcZ_HSjncPz",
        "outputId": "4546c0c3-662f-4910-a3f3-7dde639e3d32"
      },
      "source": [
        "data, num_users, num_items = read_data_ml100k()\r\n",
        "sparsity = 1 - len(data) / (num_users * num_items)\r\n",
        "print(f'number of users: {num_users}, number of items: {num_items}')\r\n",
        "print(f'matrix sparsity: {sparsity:f}')\r\n",
        "print(data.head(5))"
      ],
      "execution_count": 4,
      "outputs": [
        {
          "output_type": "stream",
          "text": [
            "Downloading ../data/ml-100k.zip from http://files.grouplens.org/datasets/movielens/ml-100k.zip...\n",
            "number of users: 943, number of items: 1682\n",
            "matrix sparsity: 0.936953\n",
            "   user_id  item_id  rating  timestamp\n",
            "0      196      242       3  881250949\n",
            "1      186      302       3  891717742\n",
            "2       22      377       1  878887116\n",
            "3      244       51       2  880606923\n",
            "4      166      346       1  886397596\n"
          ],
          "name": "stdout"
        }
      ]
    },
    {
      "cell_type": "code",
      "metadata": {
        "colab": {
          "base_uri": "https://localhost:8080/",
          "height": 295
        },
        "id": "cR8a--B1ngpd",
        "outputId": "2690101a-a428-4376-c617-da4da94510f8"
      },
      "source": [
        "d2l.plt.hist(data['rating'], bins=5, ec='black')\r\n",
        "d2l.plt.xlabel('Rating')\r\n",
        "d2l.plt.ylabel('Count')\r\n",
        "d2l.plt.title('Distribution of Ratings in MovieLens 100K')\r\n",
        "d2l.plt.show()"
      ],
      "execution_count": 5,
      "outputs": [
        {
          "output_type": "display_data",
          "data": {
            "image/png": "[encoded data removed]",
            "text/plain": [
              "<Figure size 432x288 with 1 Axes>"
            ]
          },
          "metadata": {
            "tags": [],
            "needs_background": "light"
          }
        }
      ]
    },
    {
      "cell_type": "code",
      "metadata": {
        "id": "rU8_KseZnkI1"
      },
      "source": [
        "#@save\r\n",
        "def split_data_ml100k(data, num_users, num_items,\r\n",
        "                      split_mode='random', test_ratio=0.1):\r\n",
        "    \"\"\"Split the dataset in random mode or seq-aware mode.\"\"\"\r\n",
        "    if split_mode == 'seq-aware':\r\n",
        "        train_items, test_items, train_list = {}, {}, []\r\n",
        "        for line in data.itertuples():\r\n",
        "            u, i, rating, time = line[1], line[2], line[3], line[4]\r\n",
        "            train_items.setdefault(u, []).append((u, i, rating, time))\r\n",
        "            if u not in test_items or test_items[u][-1] < time:\r\n",
        "                test_items[u] = (i, rating, time)\r\n",
        "        for u in range(1, num_users + 1):\r\n",
        "            train_list.extend(sorted(train_items[u], key=lambda k: k[3]))\r\n",
        "        test_data = [(key, *value) for key, value in test_items.items()]\r\n",
        "        train_data = [item for item in train_list if item not in test_data]\r\n",
        "        train_data = pd.DataFrame(train_data)\r\n",
        "        test_data = pd.DataFrame(test_data)\r\n",
        "    else:\r\n",
        "        mask = [True if x == 1 else False for x in np.random.uniform(\r\n",
        "            0, 1, (len(data))) < 1 - test_ratio]\r\n",
        "        neg_mask = [not x for x in mask]\r\n",
        "        train_data, test_data = data[mask], data[neg_mask]\r\n",
        "    return train_data, test_data"
      ],
      "execution_count": 6,
      "outputs": []
    },
    {
      "cell_type": "markdown",
      "metadata": {
        "id": "yWOUObuBqHWi"
      },
      "source": [
        "https://discuss.pytorch.org/t/generating-random-tensors-according-to-the-uniform-distribution-pytorch/53030\r\n",
        "\r\n",
        "toch.rand returns a tensor samples uniformly in [0, 1). Scaling it as shown in your example should work."
      ]
    },
    {
      "cell_type": "code",
      "metadata": {
        "id": "HCGSIJGXnrvg"
      },
      "source": [
        "#@save\r\n",
        "def split_data_ml100k(data, num_users, num_items,\r\n",
        "                      split_mode='random', test_ratio=0.1):\r\n",
        "    \"\"\"Split the dataset in random mode or seq-aware mode.\"\"\"\r\n",
        "    if split_mode == 'seq-aware':\r\n",
        "        train_items, test_items, train_list = {}, {}, []\r\n",
        "        for line in data.itertuples():\r\n",
        "            u, i, rating, time = line[1], line[2], line[3], line[4]\r\n",
        "            train_items.setdefault(u, []).append((u, i, rating, time))\r\n",
        "            if u not in test_items or test_items[u][-1] < time:\r\n",
        "                test_items[u] = (i, rating, time)\r\n",
        "        for u in range(1, num_users + 1):\r\n",
        "            train_list.extend(sorted(train_items[u], key=lambda k: k[3]))\r\n",
        "        test_data = [(key, *value) for key, value in test_items.items()]\r\n",
        "        train_data = [item for item in train_list if item not in test_data]\r\n",
        "        train_data = pd.DataFrame(train_data)\r\n",
        "        test_data = pd.DataFrame(test_data)\r\n",
        "    else:\r\n",
        "        mask = [True if x == 1 else False for x in (len(data))*torch.rand()< 1 - test_ratio]\r\n",
        "        neg_mask = [not x for x in mask]\r\n",
        "        train_data, test_data = data[mask], data[neg_mask]\r\n",
        "    return train_data, test_data"
      ],
      "execution_count": 7,
      "outputs": []
    },
    {
      "cell_type": "markdown",
      "metadata": {
        "id": "5gxBSxaDqwFQ"
      },
      "source": [
        "#@save\r\n",
        "def load_data_ml100k(data, num_users, num_items, feedback='explicit'):\r\n",
        "    users, items, scores = [], [], []\r\n",
        "    inter = torch.zeros((num_items, num_users)) if feedback == 'explicit' else {}\r\n",
        "    for line in data.itertuples():\r\n",
        "        user_index, item_index = int(line[1] - 1), int(line[2] - 1)\r\n",
        "        score = int(line[3]) if feedback == 'explicit' else 1\r\n",
        "        users.append(user_index)\r\n",
        "        items.append(item_index)\r\n",
        "        scores.append(score)\r\n",
        "        if feedback == 'implicit':\r\n",
        "            inter.setdefault(user_index, []).append(item_index)\r\n",
        "        else:\r\n",
        "            inter[item_index, user_index] = score\r\n",
        "    return users, items, scores, inter"
      ]
    },
    {
      "cell_type": "code",
      "metadata": {
        "id": "ACw_odNVrE0v"
      },
      "source": [
        "from torch.utils import data"
      ],
      "execution_count": 8,
      "outputs": []
    },
    {
      "cell_type": "code",
      "metadata": {
        "id": "TdsEaFozq05z"
      },
      "source": [
        "#@save\r\n",
        "def split_and_load_ml100k(split_mode='seq-aware', feedback='explicit',\r\n",
        "                          test_ratio=0.1, batch_size=256):\r\n",
        "    data, num_users, num_items = read_data_ml100k()\r\n",
        "    train_data, test_data = split_data_ml100k(\r\n",
        "        data, num_users, num_items, split_mode, test_ratio)\r\n",
        "    train_u, train_i, train_r, _ = load_data_ml100k(\r\n",
        "        train_data, num_users, num_items, feedback)\r\n",
        "    test_u, test_i, test_r, _ = load_data_ml100k(\r\n",
        "        test_data, num_users, num_items, feedback)\r\n",
        "    train_set = data.TensorDataset(\r\n",
        "        torch.tensor(train_u), torch.tensor(train_i), torch.tensor(train_r))\r\n",
        "    test_set = data.ArrayDataset(\r\n",
        "        torch.tensor(test_u), torch.tensor(test_i), torch.tensor(test_r))\r\n",
        "    train_iter = data.DataLoader(\r\n",
        "        train_set, shuffle=True, \r\n",
        "        batch_size=batch_size)\r\n",
        "    test_iter = data.DataLoader(\r\n",
        "        test_set, batch_size=batch_size)\r\n",
        "    return num_users, num_items, train_iter, test_iter"
      ],
      "execution_count": 9,
      "outputs": []
    },
    {
      "cell_type": "markdown",
      "metadata": {
        "id": "ZsFafnY44qI9"
      },
      "source": [
        "last_batch='rollover'"
      ]
    },
    {
      "cell_type": "markdown",
      "metadata": {
        "id": "t7f4jE7f5lMa"
      },
      "source": [
        "class MF(nn.Block):\r\n",
        "    def __init__(self, num_factors, num_users, num_items, **kwargs):\r\n",
        "        super(MF, self).__init__(**kwargs)\r\n",
        "        self.P = nn.Embedding(input_dim=num_users, output_dim=num_factors)\r\n",
        "        self.Q = nn.Embedding(input_dim=num_items, output_dim=num_factors)\r\n",
        "        self.user_bias = nn.Embedding(num_users, 1)\r\n",
        "        self.item_bias = nn.Embedding(num_items, 1)\r\n",
        "\r\n",
        "    def forward(self, user_id, item_id):\r\n",
        "        P_u = self.P(user_id)\r\n",
        "        Q_i = self.Q(item_id)\r\n",
        "        b_u = self.user_bias(user_id)\r\n",
        "        b_i = self.item_bias(item_id)\r\n",
        "        outputs = (P_u * Q_i).sum(axis=1) + np.squeeze(b_u) + np.squeeze(b_i)\r\n",
        "        return outputs.flatten()"
      ]
    },
    {
      "cell_type": "markdown",
      "metadata": {
        "id": "mLdRIZa-77a4"
      },
      "source": [
        "https://pytorch.org/docs/stable/generated/torch.squeeze.html"
      ]
    },
    {
      "cell_type": "code",
      "metadata": {
        "colab": {
          "base_uri": "https://localhost:8080/",
          "height": 238
        },
        "id": "hJ6hoCR35NBt",
        "outputId": "21e8ee8f-69b9-4313-ee4e-a2a68ec61f5f"
      },
      "source": [
        "class MF(nn.Block):\r\n",
        "    def __init__(self, num_factors, num_users, num_items, **kwargs):\r\n",
        "        super(MF, self).__init__(**kwargs)\r\n",
        "        self.P = nn.Embedding(num_embeddings=num_users, embedding_dim=num_factors)\r\n",
        "        self.Q = nn.Embedding(num_embeddings=num_items, embedding_dim=num_factors)\r\n",
        "        self.user_bias = nn.Embedding(num_users, 1)\r\n",
        "        self.item_bias = nn.Embedding(num_items, 1)\r\n",
        "\r\n",
        "    def forward(self, user_id, item_id):\r\n",
        "        P_u = self.P(user_id)\r\n",
        "        Q_i = self.Q(item_id)\r\n",
        "        b_u = self.user_bias(user_id)\r\n",
        "        b_i = self.item_bias(item_id)\r\n",
        "        outputs = (P_u * Q_i).sum(axis=1) + torch.squeeze(b_u) + torch.squeeze(b_i)\r\n",
        "        return outputs.flatten()"
      ],
      "execution_count": 10,
      "outputs": [
        {
          "output_type": "error",
          "ename": "AttributeError",
          "evalue": "ignored",
          "traceback": [
            "\u001b[0;31m---------------------------------------------------------------------------\u001b[0m",
            "\u001b[0;31mAttributeError\u001b[0m                            Traceback (most recent call last)",
            "\u001b[0;32m<ipython-input-10-adc74b9d85f1>\u001b[0m in \u001b[0;36m<module>\u001b[0;34m()\u001b[0m\n\u001b[0;32m----> 1\u001b[0;31m \u001b[0;32mclass\u001b[0m \u001b[0mMF\u001b[0m\u001b[0;34m(\u001b[0m\u001b[0mnn\u001b[0m\u001b[0;34m.\u001b[0m\u001b[0mBlock\u001b[0m\u001b[0;34m)\u001b[0m\u001b[0;34m:\u001b[0m\u001b[0;34m\u001b[0m\u001b[0;34m\u001b[0m\u001b[0m\n\u001b[0m\u001b[1;32m      2\u001b[0m     \u001b[0;32mdef\u001b[0m \u001b[0m__init__\u001b[0m\u001b[0;34m(\u001b[0m\u001b[0mself\u001b[0m\u001b[0;34m,\u001b[0m \u001b[0mnum_factors\u001b[0m\u001b[0;34m,\u001b[0m \u001b[0mnum_users\u001b[0m\u001b[0;34m,\u001b[0m \u001b[0mnum_items\u001b[0m\u001b[0;34m,\u001b[0m \u001b[0;34m**\u001b[0m\u001b[0mkwargs\u001b[0m\u001b[0;34m)\u001b[0m\u001b[0;34m:\u001b[0m\u001b[0;34m\u001b[0m\u001b[0;34m\u001b[0m\u001b[0m\n\u001b[1;32m      3\u001b[0m         \u001b[0msuper\u001b[0m\u001b[0;34m(\u001b[0m\u001b[0mMF\u001b[0m\u001b[0;34m,\u001b[0m \u001b[0mself\u001b[0m\u001b[0;34m)\u001b[0m\u001b[0;34m.\u001b[0m\u001b[0m__init__\u001b[0m\u001b[0;34m(\u001b[0m\u001b[0;34m**\u001b[0m\u001b[0mkwargs\u001b[0m\u001b[0;34m)\u001b[0m\u001b[0;34m\u001b[0m\u001b[0;34m\u001b[0m\u001b[0m\n\u001b[1;32m      4\u001b[0m         \u001b[0mself\u001b[0m\u001b[0;34m.\u001b[0m\u001b[0mP\u001b[0m \u001b[0;34m=\u001b[0m \u001b[0mnn\u001b[0m\u001b[0;34m.\u001b[0m\u001b[0mEmbedding\u001b[0m\u001b[0;34m(\u001b[0m\u001b[0mnum_embeddings\u001b[0m\u001b[0;34m=\u001b[0m\u001b[0mnum_users\u001b[0m\u001b[0;34m,\u001b[0m \u001b[0membedding_dim\u001b[0m\u001b[0;34m=\u001b[0m\u001b[0mnum_factors\u001b[0m\u001b[0;34m)\u001b[0m\u001b[0;34m\u001b[0m\u001b[0;34m\u001b[0m\u001b[0m\n\u001b[1;32m      5\u001b[0m         \u001b[0mself\u001b[0m\u001b[0;34m.\u001b[0m\u001b[0mQ\u001b[0m \u001b[0;34m=\u001b[0m \u001b[0mnn\u001b[0m\u001b[0;34m.\u001b[0m\u001b[0mEmbedding\u001b[0m\u001b[0;34m(\u001b[0m\u001b[0mnum_embeddings\u001b[0m\u001b[0;34m=\u001b[0m\u001b[0mnum_items\u001b[0m\u001b[0;34m,\u001b[0m \u001b[0membedding_dim\u001b[0m\u001b[0;34m=\u001b[0m\u001b[0mnum_factors\u001b[0m\u001b[0;34m)\u001b[0m\u001b[0;34m\u001b[0m\u001b[0;34m\u001b[0m\u001b[0m\n",
            "\u001b[0;31mAttributeError\u001b[0m: module 'torch.nn' has no attribute 'Block'"
          ]
        }
      ]
    },
    {
      "cell_type": "code",
      "metadata": {
        "id": "mk1A556k53wn"
      },
      "source": [
        "class MF(nn.Module):\r\n",
        "    def __init__(self, num_factors, num_users, num_items, **kwargs):\r\n",
        "        super(MF, self).__init__(**kwargs)\r\n",
        "        self.P = nn.Embedding(num_embeddings=num_users, embedding_dim=num_factors)\r\n",
        "        self.Q = nn.Embedding(num_embeddings=num_items, embedding_dim=num_factors)\r\n",
        "        self.user_bias = nn.Embedding(num_users, 1)\r\n",
        "        self.item_bias = nn.Embedding(num_items, 1)\r\n",
        "\r\n",
        "    def forward(self, user_id, item_id):\r\n",
        "        P_u = self.P(user_id)\r\n",
        "        Q_i = self.Q(item_id)\r\n",
        "        b_u = self.user_bias(user_id)\r\n",
        "        b_i = self.item_bias(item_id)\r\n",
        "        outputs = (P_u * Q_i).sum(axis=1) + torch.squeeze(b_u) + torch.squeeze(b_i)\r\n",
        "        return outputs.flatten()"
      ],
      "execution_count": null,
      "outputs": []
    },
    {
      "cell_type": "markdown",
      "metadata": {
        "id": "e7zYtaTn9gn4"
      },
      "source": [
        "https://pytorch-lightning.readthedocs.io/en/0.8.3/api/pytorch_lightning.metrics.regression.html"
      ]
    },
    {
      "cell_type": "markdown",
      "metadata": {
        "id": "4DC3lrBTEcwb"
      },
      "source": [
        "def evaluator(net, test_iter, devices):\r\n",
        "    rmse = mx.metric.RMSE()  # Get the RMSE\r\n",
        "    rmse_list = []\r\n",
        "    for idx, (users, items, ratings) in enumerate(test_iter):\r\n",
        "        u = gluon.utils.split_and_load(users, devices, even_split=False)\r\n",
        "        i = gluon.utils.split_and_load(items, devices, even_split=False)\r\n",
        "        r_ui = gluon.utils.split_and_load(ratings, devices, even_split=False)\r\n",
        "        r_hat = [net(u, i) for u, i in zip(u, i)]\r\n",
        "        rmse.update(labels=r_ui, preds=r_hat)\r\n",
        "        rmse_list.append(rmse.get()[1])\r\n",
        "    return float(np.mean(np.array(rmse_list)))"
      ]
    },
    {
      "cell_type": "code",
      "metadata": {
        "id": "FRgUqn_QGO2g"
      },
      "source": [
        "def evaluator(net, test_iter, devices):\r\n",
        "    rmse = pytorch_lightning.metrics.RMSE()  # Get the RMSE\r\n",
        "    rmse_list = []\r\n",
        "    for idx, (users, items, ratings) in enumerate(test_iter):\r\n",
        "        u = gluon.utils.split_and_load(users, devices, even_split=False)\r\n",
        "        i = gluon.utils.split_and_load(items, devices, even_split=False)\r\n",
        "        r_ui = gluon.utils.split_and_load(ratings, devices, even_split=False)\r\n",
        "        r_hat = [net(u, i) for u, i in zip(u, i)]\r\n",
        "        rmse.update(labels=r_ui, preds=r_hat)\r\n",
        "        rmse_list.append(rmse.get()[1])\r\n",
        "    return float(np.mean(np.array(rmse_list)))"
      ],
      "execution_count": null,
      "outputs": []
    },
    {
      "cell_type": "markdown",
      "metadata": {
        "id": "zDcKxHpjBYCe"
      },
      "source": [
        "https://discuss.pytorch.org/t/l2-loss-in-pytorch/13684\r\n",
        "l2loss\r\n",
        "MSELoss:https://pytorch.org/docs/stable/generated/torch.nn.MSELoss.html"
      ]
    },
    {
      "cell_type": "code",
      "metadata": {
        "id": "SWcfwo7wEgO2"
      },
      "source": [
        "#@save\r\n",
        "def train_recsys_rating(net, train_iter, test_iter, loss, trainer, num_epochs,\r\n",
        "                        devices=d2l.try_all_gpus(), evaluator=None,\r\n",
        "                        **kwargs):\r\n",
        "    timer = d2l.Timer()\r\n",
        "    animator = d2l.Animator(xlabel='epoch', xlim=[1, num_epochs], ylim=[0, 2],\r\n",
        "                            legend=['train loss', 'test RMSE'])\r\n",
        "    for epoch in range(num_epochs):\r\n",
        "        metric, l = d2l.Accumulator(3), 0.\r\n",
        "        for i, values in enumerate(train_iter):\r\n",
        "            timer.start()\r\n",
        "            input_data = []\r\n",
        "            values = values if isinstance(values, list) else [values]\r\n",
        "            for v in values:\r\n",
        "                input_data.append(gluon.utils.split_and_load(v, devices))\r\n",
        "            train_feat = input_data[0:-1] if len(values) > 1 else input_data\r\n",
        "            train_label = input_data[-1]\r\n",
        "            with autograd.record():\r\n",
        "                preds = [net(*t) for t in zip(*train_feat)]\r\n",
        "                ls = [loss(p, s) for p, s in zip(preds, train_label)]\r\n",
        "            [l.backward() for l in ls]\r\n",
        "            l += sum([l.asnumpy() for l in ls]).mean() / len(devices)\r\n",
        "            trainer.step(values[0].shape[0])\r\n",
        "            metric.add(l, values[0].shape[0], values[0].size)\r\n",
        "            timer.stop()\r\n",
        "        if len(kwargs) > 0:  # It will be used in section AutoRec\r\n",
        "            test_rmse = evaluator(net, test_iter, kwargs['inter_mat'],\r\n",
        "                                  devices)\r\n",
        "        else:\r\n",
        "            test_rmse = evaluator(net, test_iter, devices)\r\n",
        "        train_l = l / (i + 1)\r\n",
        "        animator.add(epoch + 1, (train_l, test_rmse))\r\n",
        "    print(f'train loss {metric[0] / metric[1]:.3f}, '\r\n",
        "          f'test RMSE {test_rmse:.3f}')\r\n",
        "    print(f'{metric[2] * num_epochs / timer.sum():.1f} examples/sec '\r\n",
        "          f'on {str(devices)}')"
      ],
      "execution_count": null,
      "outputs": []
    },
    {
      "cell_type": "code",
      "metadata": {
        "id": "RlBa8d9lBxvq"
      },
      "source": [
        "devices = d2l.try_all_gpus()\r\n",
        "num_users, num_items, train_iter, test_iter = d2l.split_and_load_ml100k(\r\n",
        "    test_ratio=0.1, batch_size=512)\r\n",
        "net = MF(30, num_users, num_items)\r\n",
        "\r\n",
        "lr, num_epochs, wd = 0.002, 20, 1e-5\r\n",
        "loss = nn.MSELoss(reduction = 'sum')\r\n",
        "trainer = torch.optim.Adam(net.parameters(), lr=lr, weight_decay=wd)\r\n",
        "TODO:train_recsys_rating(net, train_iter, test_iter, loss, trainer, num_epochs,\r\n",
        "                    devices, evaluator)"
      ],
      "execution_count": null,
      "outputs": []
    },
    {
      "cell_type": "code",
      "metadata": {
        "id": "RGbm58wiD6VF"
      },
      "source": [
        "scores = net(torch.tensor([20], dtype='int', device=devices[0]),\r\n",
        "             torch.tensor([30], dtype='int', device=devices[0]))\r\n",
        "scores"
      ],
      "execution_count": null,
      "outputs": []
    }
  ]
}