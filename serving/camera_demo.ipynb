{
 "metadata": {
  "language_info": {
   "codemirror_mode": {
    "name": "ipython",
    "version": 3
   },
   "file_extension": ".py",
   "mimetype": "text/x-python",
   "name": "python",
   "nbconvert_exporter": "python",
   "pygments_lexer": "ipython3",
   "version": "3.8.5-final"
  },
  "orig_nbformat": 2,
  "kernelspec": {
   "name": "python38364bitpytorchconda70fdc7f787194f4c972bb3207dd25917",
   "display_name": "Python 3.8.3 64-bit ('pytorch': conda)",
   "language": "python"
  }
 },
 "nbformat": 4,
 "nbformat_minor": 2,
 "cells": [
  {
   "source": [
    "https://gist.github.com/zhanghang1989/b413e065041b9bd8679f9b142601ca1d"
   ],
   "cell_type": "markdown",
   "metadata": {}
  },
  {
   "cell_type": "code",
   "execution_count": 1,
   "metadata": {},
   "outputs": [],
   "source": [
    "import cv2"
   ]
  },
  {
   "cell_type": "code",
   "execution_count": 2,
   "metadata": {},
   "outputs": [],
   "source": [
    "def run_demo(mirror=False):\n",
    "\tcam = cv2.VideoCapture(0)\n",
    "\tcam.set(3, 640)\n",
    "\tcam.set(4, 480)\n",
    "\tkey = 0\n",
    "\twhile True:\n",
    "\t\t# read frame\n",
    "\t\tret_val, img = cam.read()\n",
    "\t\tif mirror: \n",
    "\t\t\timg = cv2.flip(img, 1)\n",
    "\n",
    "\t\tcv2.imshow('my webcam', img)\n",
    "\t\tkey = cv2.waitKey(1)\n",
    "\t\tif key == 27: \n",
    "\t\t\tbreak\n",
    "\tcv2.destroyAllWindows()"
   ]
  },
  {
   "cell_type": "code",
   "execution_count": 3,
   "metadata": {},
   "outputs": [],
   "source": [
    "def main():\n",
    "\trun_demo(mirror=True)"
   ]
  },
  {
   "cell_type": "code",
   "execution_count": 4,
   "metadata": {},
   "outputs": [],
   "source": [
    "main()"
   ]
  }
 ]
}