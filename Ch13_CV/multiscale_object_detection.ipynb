{
  "nbformat": 4,
  "nbformat_minor": 0,
  "metadata": {
    "colab": {
      "name": "multiscale-object-detection.ipynb",
      "provenance": []
    },
    "kernelspec": {
      "name": "python3",
      "display_name": "Python 3"
    },
    "accelerator": "GPU"
  },
  "cells": [
    {
      "cell_type": "code",
      "metadata": {
        "colab": {
          "base_uri": "https://localhost:8080/"
        },
        "id": "cN_s12sQJykA",
        "outputId": "1bc8a5f4-04e7-49d5-d83c-3c02f07efc5d"
      },
      "source": [
        "from google.colab import drive\r\n",
        "drive.mount('/content/drive')"
      ],
      "execution_count": 1,
      "outputs": [
        {
          "output_type": "stream",
          "text": [
            "Mounted at /content/drive\n"
          ],
          "name": "stdout"
        }
      ]
    },
    {
      "cell_type": "code",
      "metadata": {
        "colab": {
          "base_uri": "https://localhost:8080/"
        },
        "id": "NixIHoUoJzB-",
        "outputId": "3c3081f9-50de-4305-9821-33b96ad9d1a5"
      },
      "source": [
        "cd drive/My Drive/d2l-en/d2l-pytorch-colab"
      ],
      "execution_count": 2,
      "outputs": [
        {
          "output_type": "stream",
          "text": [
            "/content/drive/My Drive/d2l-en/d2l-pytorch-colab\n"
          ],
          "name": "stdout"
        }
      ]
    },
    {
      "cell_type": "code",
      "metadata": {
        "colab": {
          "base_uri": "https://localhost:8080/"
        },
        "id": "N1gN0My7I6gd",
        "outputId": "24276167-d8aa-454d-b3d0-ee2175d1dcac"
      },
      "source": [
        "%matplotlib inline\r\n",
        "from d2l import torch as d2l\r\n",
        "import torch\r\n",
        "\r\n",
        "img = d2l.plt.imread('./img/catdog.jpg')\r\n",
        "h, w = img.shape[0:2]\r\n",
        "h, w"
      ],
      "execution_count": 4,
      "outputs": [
        {
          "output_type": "execute_result",
          "data": {
            "text/plain": [
              "(561, 728)"
            ]
          },
          "metadata": {
            "tags": []
          },
          "execution_count": 4
        }
      ]
    },
    {
      "cell_type": "code",
      "metadata": {
        "id": "f24O12H7JgCc"
      },
      "source": [
        "def display_anchors(fmap_w, fmap_h, s):\r\n",
        "    d2l.set_figsize()\r\n",
        "    # The values from the first two dimensions will not affect the output\r\n",
        "    fmap = torch.zeros((1, 10, fmap_h, fmap_w))\r\n",
        "    anchors = d2l.multibox_prior(fmap, sizes=s, ratios=[1, 2, 0.5])\r\n",
        "    bbox_scale = torch.tensor((w, h, w, h))\r\n",
        "    d2l.show_bboxes(d2l.plt.imshow(img).axes,\r\n",
        "                    anchors[0] * bbox_scale)"
      ],
      "execution_count": 5,
      "outputs": []
    },
    {
      "cell_type": "code",
      "metadata": {
        "colab": {
          "base_uri": "https://localhost:8080/",
          "height": 292
        },
        "id": "uykcchF5Jhcb",
        "outputId": "f0956ef2-961a-490d-daae-a4e07cfa5ec1"
      },
      "source": [
        "display_anchors(fmap_w=4, fmap_h=4, s=[0.15])"
      ],
      "execution_count": 6,
      "outputs": [
        {
          "output_type": "error",
          "ename": "AttributeError",
          "evalue": "ignored",
          "traceback": [
            "\u001b[0;31m---------------------------------------------------------------------------\u001b[0m",
            "\u001b[0;31mAttributeError\u001b[0m                            Traceback (most recent call last)",
            "\u001b[0;32m<ipython-input-6-9215a07426ba>\u001b[0m in \u001b[0;36m<module>\u001b[0;34m()\u001b[0m\n\u001b[0;32m----> 1\u001b[0;31m \u001b[0mdisplay_anchors\u001b[0m\u001b[0;34m(\u001b[0m\u001b[0mfmap_w\u001b[0m\u001b[0;34m=\u001b[0m\u001b[0;36m4\u001b[0m\u001b[0;34m,\u001b[0m \u001b[0mfmap_h\u001b[0m\u001b[0;34m=\u001b[0m\u001b[0;36m4\u001b[0m\u001b[0;34m,\u001b[0m \u001b[0ms\u001b[0m\u001b[0;34m=\u001b[0m\u001b[0;34m[\u001b[0m\u001b[0;36m0.15\u001b[0m\u001b[0;34m]\u001b[0m\u001b[0;34m)\u001b[0m\u001b[0;34m\u001b[0m\u001b[0;34m\u001b[0m\u001b[0m\n\u001b[0m",
            "\u001b[0;32m<ipython-input-5-c5d151abd42f>\u001b[0m in \u001b[0;36mdisplay_anchors\u001b[0;34m(fmap_w, fmap_h, s)\u001b[0m\n\u001b[1;32m      3\u001b[0m     \u001b[0;31m# The values from the first two dimensions will not affect the output\u001b[0m\u001b[0;34m\u001b[0m\u001b[0;34m\u001b[0m\u001b[0;34m\u001b[0m\u001b[0m\n\u001b[1;32m      4\u001b[0m     \u001b[0mfmap\u001b[0m \u001b[0;34m=\u001b[0m \u001b[0mtorch\u001b[0m\u001b[0;34m.\u001b[0m\u001b[0mzeros\u001b[0m\u001b[0;34m(\u001b[0m\u001b[0;34m(\u001b[0m\u001b[0;36m1\u001b[0m\u001b[0;34m,\u001b[0m \u001b[0;36m10\u001b[0m\u001b[0;34m,\u001b[0m \u001b[0mfmap_h\u001b[0m\u001b[0;34m,\u001b[0m \u001b[0mfmap_w\u001b[0m\u001b[0;34m)\u001b[0m\u001b[0;34m)\u001b[0m\u001b[0;34m\u001b[0m\u001b[0;34m\u001b[0m\u001b[0m\n\u001b[0;32m----> 5\u001b[0;31m     \u001b[0manchors\u001b[0m \u001b[0;34m=\u001b[0m \u001b[0md2l\u001b[0m\u001b[0;34m.\u001b[0m\u001b[0mmultibox_prior\u001b[0m\u001b[0;34m(\u001b[0m\u001b[0mfmap\u001b[0m\u001b[0;34m,\u001b[0m \u001b[0msizes\u001b[0m\u001b[0;34m=\u001b[0m\u001b[0ms\u001b[0m\u001b[0;34m,\u001b[0m \u001b[0mratios\u001b[0m\u001b[0;34m=\u001b[0m\u001b[0;34m[\u001b[0m\u001b[0;36m1\u001b[0m\u001b[0;34m,\u001b[0m \u001b[0;36m2\u001b[0m\u001b[0;34m,\u001b[0m \u001b[0;36m0.5\u001b[0m\u001b[0;34m]\u001b[0m\u001b[0;34m)\u001b[0m\u001b[0;34m\u001b[0m\u001b[0;34m\u001b[0m\u001b[0m\n\u001b[0m\u001b[1;32m      6\u001b[0m     \u001b[0mbbox_scale\u001b[0m \u001b[0;34m=\u001b[0m \u001b[0mtorch\u001b[0m\u001b[0;34m.\u001b[0m\u001b[0mtensor\u001b[0m\u001b[0;34m(\u001b[0m\u001b[0;34m(\u001b[0m\u001b[0mw\u001b[0m\u001b[0;34m,\u001b[0m \u001b[0mh\u001b[0m\u001b[0;34m,\u001b[0m \u001b[0mw\u001b[0m\u001b[0;34m,\u001b[0m \u001b[0mh\u001b[0m\u001b[0;34m)\u001b[0m\u001b[0;34m)\u001b[0m\u001b[0;34m\u001b[0m\u001b[0;34m\u001b[0m\u001b[0m\n\u001b[1;32m      7\u001b[0m     d2l.show_bboxes(d2l.plt.imshow(img).axes,\n",
            "\u001b[0;31mAttributeError\u001b[0m: module 'd2l.torch' has no attribute 'multibox_prior'"
          ]
        }
      ]
    },
    {
      "cell_type": "code",
      "metadata": {
        "colab": {
          "base_uri": "https://localhost:8080/"
        },
        "id": "tDCV9RBzOJgC",
        "outputId": "8dbafb08-5361-4e60-9bbc-c7f8beb121e0"
      },
      "source": [
        "print(d2l)"
      ],
      "execution_count": 7,
      "outputs": [
        {
          "output_type": "stream",
          "text": [
            "<module 'd2l.torch' from '/content/drive/My Drive/d2l-en/d2l-pytorch-colab/d2l/torch.py'>\n"
          ],
          "name": "stdout"
        }
      ]
    },
    {
      "cell_type": "code",
      "metadata": {
        "colab": {
          "base_uri": "https://localhost:8080/"
        },
        "id": "psWXyQ4rOPQx",
        "outputId": "68112050-a6dd-45f9-ed7a-b91976aff46d"
      },
      "source": [
        "dir(d2l)"
      ],
      "execution_count": 8,
      "outputs": [
        {
          "output_type": "execute_result",
          "data": {
            "text/plain": [
              "['Accumulator',\n",
              " 'Animator',\n",
              " 'DATA_HUB',\n",
              " 'DATA_URL',\n",
              " 'Decoder',\n",
              " 'DotProductAttention',\n",
              " 'Encoder',\n",
              " 'EncoderDecoder',\n",
              " 'F',\n",
              " 'MLPAttention',\n",
              " 'MaskedSoftmaxCELoss',\n",
              " 'RNNModelScratch',\n",
              " 'Residual',\n",
              " 'Seq2SeqDecoder',\n",
              " 'Seq2SeqEncoder',\n",
              " 'SeqDataLoader',\n",
              " 'Timer',\n",
              " 'Vocab',\n",
              " '__builtins__',\n",
              " '__cached__',\n",
              " '__doc__',\n",
              " '__file__',\n",
              " '__loader__',\n",
              " '__name__',\n",
              " '__package__',\n",
              " '__spec__',\n",
              " 'abs',\n",
              " 'accuracy',\n",
              " 'annotate',\n",
              " 'arange',\n",
              " 'argmax',\n",
              " 'astype',\n",
              " 'build_array',\n",
              " 'collections',\n",
              " 'concat',\n",
              " 'corr2d',\n",
              " 'cos',\n",
              " 'cosh',\n",
              " 'count_corpus',\n",
              " 'd2l',\n",
              " 'data',\n",
              " 'defaultdict',\n",
              " 'display',\n",
              " 'download',\n",
              " 'download_all',\n",
              " 'download_extract',\n",
              " 'evaluate_accuracy',\n",
              " 'evaluate_accuracy_gpu',\n",
              " 'evaluate_loss',\n",
              " 'exp',\n",
              " 'float32',\n",
              " 'get_data_ch11',\n",
              " 'get_dataloader_workers',\n",
              " 'get_fashion_mnist_labels',\n",
              " 'grad_clipping',\n",
              " 'hashlib',\n",
              " 'int32',\n",
              " 'linreg',\n",
              " 'linspace',\n",
              " 'load_array',\n",
              " 'load_corpus_time_machine',\n",
              " 'load_data_fashion_mnist',\n",
              " 'load_data_nmt',\n",
              " 'load_data_time_machine',\n",
              " 'log',\n",
              " 'masked_softmax',\n",
              " 'math',\n",
              " 'matmul',\n",
              " 'meshgrid',\n",
              " 'mkdir_if_not_exist',\n",
              " 'nn',\n",
              " 'normal',\n",
              " 'np',\n",
              " 'numpy',\n",
              " 'ones',\n",
              " 'os',\n",
              " 'pd',\n",
              " 'plot',\n",
              " 'plt',\n",
              " 'predict_ch3',\n",
              " 'predict_ch8',\n",
              " 'predict_s2s_ch9',\n",
              " 'preprocess_nmt',\n",
              " 'random',\n",
              " 're',\n",
              " 'read_data_nmt',\n",
              " 'read_time_machine',\n",
              " 'reduce_sum',\n",
              " 'requests',\n",
              " 'reshape',\n",
              " 'seq_data_iter_consecutive',\n",
              " 'seq_data_iter_random',\n",
              " 'sequence_mask',\n",
              " 'set_axes',\n",
              " 'set_figsize',\n",
              " 'sgd',\n",
              " 'show_images',\n",
              " 'show_trace_2d',\n",
              " 'shutil',\n",
              " 'sin',\n",
              " 'sinh',\n",
              " 'size',\n",
              " 'squared_loss',\n",
              " 'stack',\n",
              " 'synthetic_data',\n",
              " 'sys',\n",
              " 'tanh',\n",
              " 'tarfile',\n",
              " 'tensor',\n",
              " 'time',\n",
              " 'to',\n",
              " 'tokenize',\n",
              " 'tokenize_nmt',\n",
              " 'torch',\n",
              " 'torchvision',\n",
              " 'train_2d',\n",
              " 'train_ch11',\n",
              " 'train_ch3',\n",
              " 'train_ch6',\n",
              " 'train_ch8',\n",
              " 'train_concise_ch11',\n",
              " 'train_epoch_ch3',\n",
              " 'train_epoch_ch8',\n",
              " 'train_s2s_ch9',\n",
              " 'transforms',\n",
              " 'transpose',\n",
              " 'truncate_pad',\n",
              " 'try_all_gpus',\n",
              " 'try_gpu',\n",
              " 'use_svg_display',\n",
              " 'zeros',\n",
              " 'zipfile']"
            ]
          },
          "metadata": {
            "tags": []
          },
          "execution_count": 8
        }
      ]
    },
    {
      "cell_type": "code",
      "metadata": {
        "colab": {
          "base_uri": "https://localhost:8080/"
        },
        "id": "nbZKjKHfRX4V",
        "outputId": "dc0f6549-5d61-4c74-f788-06673ab050ad"
      },
      "source": [
        "!pip install entrypoints"
      ],
      "execution_count": 9,
      "outputs": [
        {
          "output_type": "stream",
          "text": [
            "Requirement already satisfied: entrypoints in /usr/local/lib/python3.6/dist-packages (0.3)\n"
          ],
          "name": "stdout"
        }
      ]
    },
    {
      "cell_type": "code",
      "metadata": {
        "id": "r3dG9luYJjCi",
        "colab": {
          "base_uri": "https://localhost:8080/",
          "height": 292
        },
        "outputId": "7c224c1f-62e6-4d0e-a58d-d4dd7a76250c"
      },
      "source": [
        "display_anchors(fmap_w=4, fmap_h=4, s=[0.4])"
      ],
      "execution_count": 10,
      "outputs": [
        {
          "output_type": "error",
          "ename": "AttributeError",
          "evalue": "ignored",
          "traceback": [
            "\u001b[0;31m---------------------------------------------------------------------------\u001b[0m",
            "\u001b[0;31mAttributeError\u001b[0m                            Traceback (most recent call last)",
            "\u001b[0;32m<ipython-input-10-5f5af3b717f7>\u001b[0m in \u001b[0;36m<module>\u001b[0;34m()\u001b[0m\n\u001b[0;32m----> 1\u001b[0;31m \u001b[0mdisplay_anchors\u001b[0m\u001b[0;34m(\u001b[0m\u001b[0mfmap_w\u001b[0m\u001b[0;34m=\u001b[0m\u001b[0;36m4\u001b[0m\u001b[0;34m,\u001b[0m \u001b[0mfmap_h\u001b[0m\u001b[0;34m=\u001b[0m\u001b[0;36m4\u001b[0m\u001b[0;34m,\u001b[0m \u001b[0ms\u001b[0m\u001b[0;34m=\u001b[0m\u001b[0;34m[\u001b[0m\u001b[0;36m0.4\u001b[0m\u001b[0;34m]\u001b[0m\u001b[0;34m)\u001b[0m\u001b[0;34m\u001b[0m\u001b[0;34m\u001b[0m\u001b[0m\n\u001b[0m",
            "\u001b[0;32m<ipython-input-5-c5d151abd42f>\u001b[0m in \u001b[0;36mdisplay_anchors\u001b[0;34m(fmap_w, fmap_h, s)\u001b[0m\n\u001b[1;32m      3\u001b[0m     \u001b[0;31m# The values from the first two dimensions will not affect the output\u001b[0m\u001b[0;34m\u001b[0m\u001b[0;34m\u001b[0m\u001b[0;34m\u001b[0m\u001b[0m\n\u001b[1;32m      4\u001b[0m     \u001b[0mfmap\u001b[0m \u001b[0;34m=\u001b[0m \u001b[0mtorch\u001b[0m\u001b[0;34m.\u001b[0m\u001b[0mzeros\u001b[0m\u001b[0;34m(\u001b[0m\u001b[0;34m(\u001b[0m\u001b[0;36m1\u001b[0m\u001b[0;34m,\u001b[0m \u001b[0;36m10\u001b[0m\u001b[0;34m,\u001b[0m \u001b[0mfmap_h\u001b[0m\u001b[0;34m,\u001b[0m \u001b[0mfmap_w\u001b[0m\u001b[0;34m)\u001b[0m\u001b[0;34m)\u001b[0m\u001b[0;34m\u001b[0m\u001b[0;34m\u001b[0m\u001b[0m\n\u001b[0;32m----> 5\u001b[0;31m     \u001b[0manchors\u001b[0m \u001b[0;34m=\u001b[0m \u001b[0md2l\u001b[0m\u001b[0;34m.\u001b[0m\u001b[0mmultibox_prior\u001b[0m\u001b[0;34m(\u001b[0m\u001b[0mfmap\u001b[0m\u001b[0;34m,\u001b[0m \u001b[0msizes\u001b[0m\u001b[0;34m=\u001b[0m\u001b[0ms\u001b[0m\u001b[0;34m,\u001b[0m \u001b[0mratios\u001b[0m\u001b[0;34m=\u001b[0m\u001b[0;34m[\u001b[0m\u001b[0;36m1\u001b[0m\u001b[0;34m,\u001b[0m \u001b[0;36m2\u001b[0m\u001b[0;34m,\u001b[0m \u001b[0;36m0.5\u001b[0m\u001b[0;34m]\u001b[0m\u001b[0;34m)\u001b[0m\u001b[0;34m\u001b[0m\u001b[0;34m\u001b[0m\u001b[0m\n\u001b[0m\u001b[1;32m      6\u001b[0m     \u001b[0mbbox_scale\u001b[0m \u001b[0;34m=\u001b[0m \u001b[0mtorch\u001b[0m\u001b[0;34m.\u001b[0m\u001b[0mtensor\u001b[0m\u001b[0;34m(\u001b[0m\u001b[0;34m(\u001b[0m\u001b[0mw\u001b[0m\u001b[0;34m,\u001b[0m \u001b[0mh\u001b[0m\u001b[0;34m,\u001b[0m \u001b[0mw\u001b[0m\u001b[0;34m,\u001b[0m \u001b[0mh\u001b[0m\u001b[0;34m)\u001b[0m\u001b[0;34m)\u001b[0m\u001b[0;34m\u001b[0m\u001b[0;34m\u001b[0m\u001b[0m\n\u001b[1;32m      7\u001b[0m     d2l.show_bboxes(d2l.plt.imshow(img).axes,\n",
            "\u001b[0;31mAttributeError\u001b[0m: module 'd2l.torch' has no attribute 'multibox_prior'"
          ]
        }
      ]
    },
    {
      "cell_type": "code",
      "metadata": {
        "id": "2JvZSya5Jm1g"
      },
      "source": [
        "display_anchors(fmap_w=1, fmap_h=1, s=[0.8])"
      ],
      "execution_count": null,
      "outputs": []
    },
    {
      "cell_type": "code",
      "metadata": {
        "id": "iwHf0E3-Jwqp"
      },
      "source": [],
      "execution_count": null,
      "outputs": []
    }
  ]
}