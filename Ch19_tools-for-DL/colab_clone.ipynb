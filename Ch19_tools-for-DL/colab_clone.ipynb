{
  "nbformat": 4,
  "nbformat_minor": 0,
  "metadata": {
    "colab": {
      "name": "Untitled3.ipynb",
      "provenance": [],
      "mount_file_id": "1azVSih60pmtCnbtd9WCnlw_GN3YhfS22",
      "authorship_tag": "ABX9TyNgrrafH52Th7QSeCFtGYH6",
      "include_colab_link": true
    },
    "kernelspec": {
      "name": "python3",
      "display_name": "Python 3"
    }
  },
  "cells": [
    {
      "cell_type": "markdown",
      "metadata": {
        "id": "view-in-github",
        "colab_type": "text"
      },
      "source": [
        "<a href=\"https://colab.research.google.com/github/StevenJokes/d2l-en-read/blob/master/colab_clone.ipynb\" target=\"_parent\"><img src=\"https://colab.research.google.com/assets/colab-badge.svg\" alt=\"Open In Colab\"/></a>"
      ]
    },
    {
      "cell_type": "code",
      "metadata": {
        "id": "CvSRRtulfFQB",
        "colab_type": "code",
        "colab": {
          "base_uri": "https://localhost:8080/",
          "height": 33
        },
        "outputId": "b27a043a-2cf7-4a85-922e-d00540e0cfd5"
      },
      "source": [
        "%cd drive/My Drive/d2l-en"
      ],
      "execution_count": 3,
      "outputs": [
        {
          "output_type": "stream",
          "text": [
            "/content/drive/My Drive/d2l-en\n"
          ],
          "name": "stdout"
        }
      ]
    },
    {
      "cell_type": "code",
      "metadata": {
        "id": "AlV3S_CPfyGp",
        "colab_type": "code",
        "colab": {
          "base_uri": "https://localhost:8080/",
          "height": 150
        },
        "outputId": "28685976-910b-4280-b524-f49a7d1ad65b"
      },
      "source": [
        "!git clone https://github.com/d2l-ai/d2l-en-colab.git"
      ],
      "execution_count": 4,
      "outputs": [
        {
          "output_type": "stream",
          "text": [
            "Cloning into 'd2l-en-colab'...\n",
            "remote: Enumerating objects: 1034, done.\u001b[K\n",
            "remote: Counting objects: 100% (1034/1034), done.\u001b[K\n",
            "remote: Compressing objects: 100% (354/354), done.\u001b[K\n",
            "remote: Total 16735 (delta 790), reused 845 (delta 669), pack-reused 15701\u001b[K\n",
            "Receiving objects: 100% (16735/16735), 185.36 MiB | 18.36 MiB/s, done.\n",
            "Resolving deltas: 100% (14202/14202), done.\n",
            "Checking out files: 100% (411/411), done.\n"
          ],
          "name": "stdout"
        }
      ]
    },
    {
      "cell_type": "code",
      "metadata": {
        "id": "Z1QOOYFegVve",
        "colab_type": "code",
        "colab": {
          "base_uri": "https://localhost:8080/",
          "height": 150
        },
        "outputId": "0811ea43-2185-47b8-da16-dba504a4402b"
      },
      "source": [
        "!git clone https://github.com/d2l-ai/d2l-pytorch-colab.git"
      ],
      "execution_count": 5,
      "outputs": [
        {
          "output_type": "stream",
          "text": [
            "Cloning into 'd2l-pytorch-colab'...\n",
            "remote: Enumerating objects: 203, done.\u001b[K\n",
            "remote: Counting objects: 100% (203/203), done.\u001b[K\n",
            "remote: Compressing objects: 100% (121/121), done.\u001b[K\n",
            "remote: Total 2014 (delta 118), reused 119 (delta 78), pack-reused 1811\u001b[K\n",
            "Receiving objects: 100% (2014/2014), 80.96 MiB | 13.69 MiB/s, done.\n",
            "Resolving deltas: 100% (1367/1367), done.\n",
            "Checking out files: 100% (418/418), done.\n"
          ],
          "name": "stdout"
        }
      ]
    },
    {
      "cell_type": "code",
      "metadata": {
        "id": "2KpsnxVhgbhi",
        "colab_type": "code",
        "colab": {
          "base_uri": "https://localhost:8080/",
          "height": 150
        },
        "outputId": "dfff2a05-6ca0-44f3-94a7-88f0b32c201d"
      },
      "source": [
        "!git clone https://github.com/d2l-ai/d2l-tensorflow-colab.git"
      ],
      "execution_count": 6,
      "outputs": [
        {
          "output_type": "stream",
          "text": [
            "Cloning into 'd2l-tensorflow-colab'...\n",
            "remote: Enumerating objects: 1076, done.\u001b[K\n",
            "remote: Counting objects:   0% (1/1076)\u001b[K\rremote: Counting objects:   1% (11/1076)\u001b[K\rremote: Counting objects:   2% (22/1076)\u001b[K\rremote: Counting objects:   3% (33/1076)\u001b[K\rremote: Counting objects:   4% (44/1076)\u001b[K\rremote: Counting objects:   5% (54/1076)\u001b[K\rremote: Counting objects:   6% (65/1076)\u001b[K\rremote: Counting objects:   7% (76/1076)\u001b[K\rremote: Counting objects:   8% (87/1076)\u001b[K\rremote: Counting objects:   9% (97/1076)\u001b[K\rremote: Counting objects:  10% (108/1076)\u001b[K\rremote: Counting objects:  11% (119/1076)\u001b[K\rremote: Counting objects:  12% (130/1076)\u001b[K\rremote: Counting objects:  13% (140/1076)\u001b[K\rremote: Counting objects:  14% (151/1076)\u001b[K\rremote: Counting objects:  15% (162/1076)\u001b[K\rremote: Counting objects:  16% (173/1076)\u001b[K\rremote: Counting objects:  17% (183/1076)\u001b[K\rremote: Counting objects:  18% (194/1076)\u001b[K\rremote: Counting objects:  19% (205/1076)\u001b[K\rremote: Counting objects:  20% (216/1076)\u001b[K\rremote: Counting objects:  21% (226/1076)\u001b[K\rremote: Counting objects:  22% (237/1076)\u001b[K\rremote: Counting objects:  23% (248/1076)\u001b[K\rremote: Counting objects:  24% (259/1076)\u001b[K\rremote: Counting objects:  25% (269/1076)\u001b[K\rremote: Counting objects:  26% (280/1076)\u001b[K\rremote: Counting objects:  27% (291/1076)\u001b[K\rremote: Counting objects:  28% (302/1076)\u001b[K\rremote: Counting objects:  29% (313/1076)\u001b[K\rremote: Counting objects:  30% (323/1076)\u001b[K\rremote: Counting objects:  31% (334/1076)\u001b[K\rremote: Counting objects:  32% (345/1076)\u001b[K\rremote: Counting objects:  33% (356/1076)\u001b[K\rremote: Counting objects:  34% (366/1076)\u001b[K\rremote: Counting objects:  35% (377/1076)\u001b[K\rremote: Counting objects:  36% (388/1076)\u001b[K\rremote: Counting objects:  37% (399/1076)\u001b[K\rremote: Counting objects:  38% (409/1076)\u001b[K\rremote: Counting objects:  39% (420/1076)\u001b[K\rremote: Counting objects:  40% (431/1076)\u001b[K\rremote: Counting objects:  41% (442/1076)\u001b[K\rremote: Counting objects:  42% (452/1076)\u001b[K\rremote: Counting objects:  43% (463/1076)\u001b[K\rremote: Counting objects:  44% (474/1076)\u001b[K\rremote: Counting objects:  45% (485/1076)\u001b[K\rremote: Counting objects:  46% (495/1076)\u001b[K\rremote: Counting objects:  47% (506/1076)\u001b[K\rremote: Counting objects:  48% (517/1076)\u001b[K\rremote: Counting objects:  49% (528/1076)\u001b[K\rremote: Counting objects:  50% (538/1076)\u001b[K\rremote: Counting objects:  51% (549/1076)\u001b[K\rremote: Counting objects:  52% (560/1076)\u001b[K\rremote: Counting objects:  53% (571/1076)\u001b[K\rremote: Counting objects:  54% (582/1076)\u001b[K\rremote: Counting objects:  55% (592/1076)\u001b[K\rremote: Counting objects:  56% (603/1076)\u001b[K\rremote: Counting objects:  57% (614/1076)\u001b[K\rremote: Counting objects:  58% (625/1076)\u001b[K\rremote: Counting objects:  59% (635/1076)\u001b[K\rremote: Counting objects:  60% (646/1076)\u001b[K\rremote: Counting objects:  61% (657/1076)\u001b[K\rremote: Counting objects:  62% (668/1076)\u001b[K\rremote: Counting objects:  63% (678/1076)\u001b[K\rremote: Counting objects:  64% (689/1076)\u001b[K\rremote: Counting objects:  65% (700/1076)\u001b[K\rremote: Counting objects:  66% (711/1076)\u001b[K\rremote: Counting objects:  67% (721/1076)\u001b[K\rremote: Counting objects:  68% (732/1076)\u001b[K\rremote: Counting objects:  69% (743/1076)\u001b[K\rremote: Counting objects:  70% (754/1076)\u001b[K\rremote: Counting objects:  71% (764/1076)\u001b[K\rremote: Counting objects:  72% (775/1076)\u001b[K\rremote: Counting objects:  73% (786/1076)\u001b[K\rremote: Counting objects:  74% (797/1076)\u001b[K\rremote: Counting objects:  75% (807/1076)\u001b[K\rremote: Counting objects:  76% (818/1076)\u001b[K\rremote: Counting objects:  77% (829/1076)\u001b[K\rremote: Counting objects:  78% (840/1076)\u001b[K\rremote: Counting objects:  79% (851/1076)\u001b[K\rremote: Counting objects:  80% (861/1076)\u001b[K\rremote: Counting objects:  81% (872/1076)\u001b[K\rremote: Counting objects:  82% (883/1076)\u001b[K\rremote: Counting objects:  83% (894/1076)\u001b[K\rremote: Counting objects:  84% (904/1076)\u001b[K\rremote: Counting objects:  85% (915/1076)\u001b[K\rremote: Counting objects:  86% (926/1076)\u001b[K\rremote: Counting objects:  87% (937/1076)\u001b[K\rremote: Counting objects:  88% (947/1076)\u001b[K\rremote: Counting objects:  89% (958/1076)\u001b[K\rremote: Counting objects:  90% (969/1076)\u001b[K\rremote: Counting objects:  91% (980/1076)\u001b[K\rremote: Counting objects:  92% (990/1076)\u001b[K\rremote: Counting objects:  93% (1001/1076)\u001b[K\rremote: Counting objects:  94% (1012/1076)\u001b[K\rremote: Counting objects:  95% (1023/1076)\u001b[K\rremote: Counting objects:  96% (1033/1076)\u001b[K\rremote: Counting objects:  97% (1044/1076)\u001b[K\rremote: Counting objects:  98% (1055/1076)\u001b[K\rremote: Counting objects:  99% (1066/1076)\u001b[K\rremote: Counting objects: 100% (1076/1076)\u001b[K\rremote: Counting objects: 100% (1076/1076), done.\u001b[K\n",
            "remote: Compressing objects: 100% (450/450), done.\u001b[K\n",
            "remote: Total 1076 (delta 716), reused 970 (delta 613), pack-reused 0\u001b[K\n",
            "Receiving objects: 100% (1076/1076), 36.45 MiB | 19.02 MiB/s, done.\n",
            "Resolving deltas: 100% (716/716), done.\n",
            "Checking out files: 100% (411/411), done.\n"
          ],
          "name": "stdout"
        }
      ]
    },
    {
      "cell_type": "code",
      "metadata": {
        "id": "_qLjPtWghfSQ",
        "colab_type": "code",
        "colab": {}
      },
      "source": [
        ""
      ],
      "execution_count": null,
      "outputs": []
    }
  ]
}