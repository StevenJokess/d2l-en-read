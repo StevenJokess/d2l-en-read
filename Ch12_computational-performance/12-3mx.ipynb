{
 "metadata": {
  "language_info": {
   "codemirror_mode": {
    "name": "ipython",
    "version": 3
   },
   "file_extension": ".py",
   "mimetype": "text/x-python",
   "name": "python",
   "nbconvert_exporter": "python",
   "pygments_lexer": "ipython3",
   "version": "3.7.8-final"
  },
  "orig_nbformat": 2,
  "kernelspec": {
   "name": "python37864bitmxnetcondac3e65011c15249dab70dcdd7870a1bb4",
   "display_name": "Python 3.7.8 64-bit ('mxnet': conda)"
  }
 },
 "nbformat": 4,
 "nbformat_minor": 2,
 "cells": [
  {
   "cell_type": "markdown",
   "metadata": {},
   "source": [
    "http://preview.d2l.ai/d2l-en/master/chapter_computational-performance/auto-parallelism.html"
   ]
  },
  {
   "cell_type": "markdown",
   "metadata": {},
   "source": [
    "https://mxnet.apache.org/versions/1.6/api/python/docs/tutorials/getting-started/crash-course/6-use_gpus.html"
   ]
  },
  {
   "cell_type": "code",
   "execution_count": 1,
   "metadata": {},
   "outputs": [],
   "source": [
    "from d2l import mxnet as d2l\n",
    "from mxnet import np, npx\n",
    "npx.set_np()"
   ]
  },
  {
   "cell_type": "code",
   "execution_count": 2,
   "metadata": {},
   "outputs": [],
   "source": [
    "def run(x):\n",
    "    return [x.dot(x) for _ in range(10)]\n",
    "\n",
    "x_cpu = np.random.uniform(size=(2000, 2000))\n",
    "x_gpu = np.random.uniform(size=(6000, 6000), ctx=d2l.try_gpu())"
   ]
  },
  {
   "cell_type": "code",
   "execution_count": 3,
   "metadata": {
    "tags": []
   },
   "outputs": [
    {
     "output_type": "stream",
     "name": "stdout",
     "text": "CPU time: 4.7144 sec\nGPU time: 98.0142 sec\n"
    }
   ],
   "source": [
    "run(x_cpu)  # Warm-up both devices\n",
    "run(x_gpu)\n",
    "npx.waitall()\n",
    "\n",
    "with d2l.Benchmark('CPU time'):\n",
    "    run(x_cpu)\n",
    "    npx.waitall()\n",
    "\n",
    "with d2l.Benchmark('GPU time'):\n",
    "    run(x_gpu)\n",
    "    npx.waitall()"
   ]
  },
  {
   "cell_type": "code",
   "execution_count": 4,
   "metadata": {
    "tags": []
   },
   "outputs": [
    {
     "output_type": "stream",
     "name": "stdout",
     "text": "CPU & GPU: 97.4487 sec\n"
    }
   ],
   "source": [
    "with d2l.Benchmark('CPU & GPU'):\n",
    "    run(x_cpu)\n",
    "    run(x_gpu)\n",
    "    npx.waitall()"
   ]
  },
  {
   "cell_type": "code",
   "execution_count": 5,
   "metadata": {
    "tags": []
   },
   "outputs": [
    {
     "output_type": "stream",
     "name": "stdout",
     "text": "Run on GPU: 91.6302 sec\nCopy to CPU: 0.6711 sec\n"
    }
   ],
   "source": [
    "def copy_to_cpu(x):\n",
    "    return [y.copyto(npx.cpu()) for y in x]\n",
    "\n",
    "with d2l.Benchmark('Run on GPU'):\n",
    "    y = run(x_gpu)\n",
    "    npx.waitall()\n",
    "\n",
    "with d2l.Benchmark('Copy to CPU'):\n",
    "    y_cpu = copy_to_cpu(y)\n",
    "    npx.waitall()"
   ]
  },
  {
   "cell_type": "code",
   "execution_count": 6,
   "metadata": {
    "tags": []
   },
   "outputs": [
    {
     "output_type": "stream",
     "name": "stdout",
     "text": "Run on GPU and copy to CPU: 89.1339 sec\n"
    }
   ],
   "source": [
    "with d2l.Benchmark('Run on GPU and copy to CPU'):\n",
    "    y = run(x_gpu)\n",
    "    y_cpu = copy_to_cpu(y)\n",
    "    npx.waitall()"
   ]
  }
 ]
}