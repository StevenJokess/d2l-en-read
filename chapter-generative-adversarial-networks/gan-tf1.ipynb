{
 "metadata": {
  "language_info": {
   "codemirror_mode": {
    "name": "ipython",
    "version": 3
   },
   "file_extension": ".py",
   "mimetype": "text/x-python",
   "name": "python",
   "nbconvert_exporter": "python",
   "pygments_lexer": "ipython3",
   "version": "3.7.8-final"
  },
  "orig_nbformat": 2,
  "kernelspec": {
   "name": "python37864bittf2conda1de394c9651a4d19aa25641a40b8d2d8",
   "display_name": "Python 3.7.8 64-bit ('tf2': conda)"
  }
 },
 "nbformat": 4,
 "nbformat_minor": 2,
 "cells": [
  {
   "cell_type": "markdown",
   "metadata": {},
   "source": [
    "http://preview.d2l.ai/d2l-en/master/chapter_generative-adversarial-networks/gan.html"
   ]
  },
  {
   "cell_type": "code",
   "execution_count": 1,
   "metadata": {},
   "outputs": [],
   "source": [
    "%matplotlib inline\n",
    "from d2l import tensorflow as d2l\n",
    "import tensorflow as tf\n",
    "import numpy as np"
   ]
  },
  {
   "cell_type": "markdown",
   "metadata": {},
   "source": [
    "https://www.tensorflow.org/api_docs/python/tf/random/normal"
   ]
  },
  {
   "cell_type": "markdown",
   "metadata": {},
   "source": [
    "https://www.tensorflow.org/api_docs/python/tf/norm"
   ]
  },
  {
   "cell_type": "code",
   "execution_count": 2,
   "metadata": {},
   "outputs": [],
   "source": [
    "X = d2l.normal([1000, 2], 0.0, 1, tf.float32)"
   ]
  },
  {
   "cell_type": "code",
   "execution_count": 3,
   "metadata": {},
   "outputs": [],
   "source": [
    "A = d2l.tensor([[1, 2], [-0.1, 0.5]], tf.float32)\n",
    "b = d2l.tensor([1, 2], tf.float32)\n",
    "data = d2l.matmul(X, A) + b"
   ]
  },
  {
   "cell_type": "code",
   "execution_count": 4,
   "metadata": {
    "tags": []
   },
   "outputs": [
    {
     "output_type": "stream",
     "name": "stdout",
     "text": "The covariance matrix is\n[[1.01 1.95]\n [1.95 4.25]]\n"
    },
    {
     "output_type": "display_data",
     "data": {
      "text/plain": "<Figure size 252x180 with 1 Axes>",
      "image/svg+xml": "<?xml version=\"1.0\" encoding=\"utf-8\" standalone=\"no\"?>\r\n<!DOCTYPE svg PUBLIC \"-//W3C//DTD SVG 1.1//EN\"\r\n  \"http://www.w3.org/Graphics/SVG/1.1/DTD/svg11.dtd\">\r\n<!-- Created with matplotlib (https://matplotlib.org/) -->\r\n<svg height=\"166.978125pt\" version=\"1.1\" viewBox=\"0 0 240.982812 166.978125\" width=\"240.982812pt\" xmlns=\"http://www.w3.org/2000/svg\" xmlns:xlink=\"http://www.w3.org/1999/xlink\">\r\n <metadata>\r\n  <rdf:RDF xmlns:cc=\"http://creativecommons.org/ns#\" xmlns:dc=\"http://purl.org/dc/elements/1.1/\" xmlns:rdf=\"http://www.w3.org/1999/02/22-rdf-syntax-ns#\">\r\n   <cc:Work>\r\n    <dc:type rdf:resource=\"http://purl.org/dc/dcmitype/StillImage\"/>\r\n    <dc:date>2020-09-03T22:31:51.402091</dc:date>\r\n    <dc:format>image/svg+xml</dc:format>\r\n    <dc:creator>\r\n     <cc:Agent>\r\n      <dc:title>Matplotlib v3.3.1, https://matplotlib.org/</dc:title>\r\n     </cc:Agent>\r\n    </dc:creator>\r\n   </cc:Work>\r\n  </rdf:RDF>\r\n </metadata>\r\n <defs>\r\n  <style type=\"text/css\">*{stroke-linecap:butt;stroke-linejoin:round;}</style>\r\n </defs>\r\n <g id=\"figure_1\">\r\n  <g id=\"patch_1\">\r\n   <path d=\"M -0 166.978125 \r\nL 240.982813 166.978125 \r\nL 240.982813 0 \r\nL -0 0 \r\nz\r\n\" style=\"fill:none;\"/>\r\n  </g>\r\n  <g id=\"axes_1\">\r\n   <g id=\"patch_2\">\r\n    <path d=\"M 38.482813 143.1 \r\nL 233.782813 143.1 \r\nL 233.782813 7.2 \r\nL 38.482813 7.2 \r\nz\r\n\" style=\"fill:#ffffff;\"/>\r\n   </g>\r\n   <g id=\"PathCollection_1\">\r\n    <defs>\r\n     <path d=\"M 0 3 \r\nC 0.795609 3 1.55874 2.683901 2.12132 2.12132 \r\nC 2.683901 1.55874 3 0.795609 3 0 \r\nC 3 -0.795609 2.683901 -1.55874 2.12132 -2.12132 \r\nC 1.55874 -2.683901 0.795609 -3 0 -3 \r\nC -0.795609 -3 -1.55874 -2.683901 -2.12132 -2.12132 \r\nC -2.683901 -1.55874 -3 -0.795609 -3 0 \r\nC -3 0.795609 -2.683901 1.55874 -2.12132 2.12132 \r\nC -1.55874 2.683901 -0.795609 3 0 3 \r\nz\r\n\" id=\"m6f77890ee3\" style=\"stroke:#1f77b4;\"/>\r\n    </defs>\r\n    <g clip-path=\"url(#pfcedfda221)\">\r\n     <use style=\"fill:#1f77b4;stroke:#1f77b4;\" x=\"147.43147\" xlink:href=\"#m6f77890ee3\" y=\"62.536096\"/>\r\n     <use style=\"fill:#1f77b4;stroke:#1f77b4;\" x=\"98.227562\" xlink:href=\"#m6f77890ee3\" y=\"104.694689\"/>\r\n     <use style=\"fill:#1f77b4;stroke:#1f77b4;\" x=\"150.880535\" xlink:href=\"#m6f77890ee3\" y=\"63.115657\"/>\r\n     <use style=\"fill:#1f77b4;stroke:#1f77b4;\" x=\"161.506605\" xlink:href=\"#m6f77890ee3\" y=\"61.951901\"/>\r\n     <use style=\"fill:#1f77b4;stroke:#1f77b4;\" x=\"115.101227\" xlink:href=\"#m6f77890ee3\" y=\"84.990811\"/>\r\n     <use style=\"fill:#1f77b4;stroke:#1f77b4;\" x=\"170.060627\" xlink:href=\"#m6f77890ee3\" y=\"58.349282\"/>\r\n     <use style=\"fill:#1f77b4;stroke:#1f77b4;\" x=\"224.90554\" xlink:href=\"#m6f77890ee3\" y=\"20.833415\"/>\r\n     <use style=\"fill:#1f77b4;stroke:#1f77b4;\" x=\"168.075753\" xlink:href=\"#m6f77890ee3\" y=\"51.985239\"/>\r\n     <use style=\"fill:#1f77b4;stroke:#1f77b4;\" x=\"124.86087\" xlink:href=\"#m6f77890ee3\" y=\"89.61445\"/>\r\n     <use style=\"fill:#1f77b4;stroke:#1f77b4;\" x=\"135.407768\" xlink:href=\"#m6f77890ee3\" y=\"81.875234\"/>\r\n     <use style=\"fill:#1f77b4;stroke:#1f77b4;\" x=\"187.164432\" xlink:href=\"#m6f77890ee3\" y=\"43.608279\"/>\r\n     <use style=\"fill:#1f77b4;stroke:#1f77b4;\" x=\"156.070599\" xlink:href=\"#m6f77890ee3\" y=\"63.28974\"/>\r\n     <use style=\"fill:#1f77b4;stroke:#1f77b4;\" x=\"114.281325\" xlink:href=\"#m6f77890ee3\" y=\"94.432887\"/>\r\n     <use style=\"fill:#1f77b4;stroke:#1f77b4;\" x=\"147.731871\" xlink:href=\"#m6f77890ee3\" y=\"70.246907\"/>\r\n     <use style=\"fill:#1f77b4;stroke:#1f77b4;\" x=\"188.640961\" xlink:href=\"#m6f77890ee3\" y=\"40.886204\"/>\r\n     <use style=\"fill:#1f77b4;stroke:#1f77b4;\" x=\"174.82475\" xlink:href=\"#m6f77890ee3\" y=\"47.057242\"/>\r\n     <use style=\"fill:#1f77b4;stroke:#1f77b4;\" x=\"134.103736\" xlink:href=\"#m6f77890ee3\" y=\"69.852883\"/>\r\n     <use style=\"fill:#1f77b4;stroke:#1f77b4;\" x=\"137.823652\" xlink:href=\"#m6f77890ee3\" y=\"67.00151\"/>\r\n     <use style=\"fill:#1f77b4;stroke:#1f77b4;\" x=\"160.75853\" xlink:href=\"#m6f77890ee3\" y=\"55.540267\"/>\r\n     <use style=\"fill:#1f77b4;stroke:#1f77b4;\" x=\"158.721506\" xlink:href=\"#m6f77890ee3\" y=\"52.224245\"/>\r\n     <use style=\"fill:#1f77b4;stroke:#1f77b4;\" x=\"141.961962\" xlink:href=\"#m6f77890ee3\" y=\"62.29941\"/>\r\n     <use style=\"fill:#1f77b4;stroke:#1f77b4;\" x=\"47.360085\" xlink:href=\"#m6f77890ee3\" y=\"136.922727\"/>\r\n     <use style=\"fill:#1f77b4;stroke:#1f77b4;\" x=\"145.703178\" xlink:href=\"#m6f77890ee3\" y=\"59.120064\"/>\r\n     <use style=\"fill:#1f77b4;stroke:#1f77b4;\" x=\"159.930446\" xlink:href=\"#m6f77890ee3\" y=\"67.884183\"/>\r\n     <use style=\"fill:#1f77b4;stroke:#1f77b4;\" x=\"123.357839\" xlink:href=\"#m6f77890ee3\" y=\"66.808861\"/>\r\n     <use style=\"fill:#1f77b4;stroke:#1f77b4;\" x=\"190.185977\" xlink:href=\"#m6f77890ee3\" y=\"43.987021\"/>\r\n     <use style=\"fill:#1f77b4;stroke:#1f77b4;\" x=\"120.235854\" xlink:href=\"#m6f77890ee3\" y=\"82.754907\"/>\r\n     <use style=\"fill:#1f77b4;stroke:#1f77b4;\" x=\"153.822804\" xlink:href=\"#m6f77890ee3\" y=\"61.963773\"/>\r\n     <use style=\"fill:#1f77b4;stroke:#1f77b4;\" x=\"218.616129\" xlink:href=\"#m6f77890ee3\" y=\"28.570659\"/>\r\n     <use style=\"fill:#1f77b4;stroke:#1f77b4;\" x=\"152.933771\" xlink:href=\"#m6f77890ee3\" y=\"69.114178\"/>\r\n     <use style=\"fill:#1f77b4;stroke:#1f77b4;\" x=\"121.394991\" xlink:href=\"#m6f77890ee3\" y=\"80.052288\"/>\r\n     <use style=\"fill:#1f77b4;stroke:#1f77b4;\" x=\"140.239599\" xlink:href=\"#m6f77890ee3\" y=\"72.603599\"/>\r\n     <use style=\"fill:#1f77b4;stroke:#1f77b4;\" x=\"143.79834\" xlink:href=\"#m6f77890ee3\" y=\"79.117955\"/>\r\n     <use style=\"fill:#1f77b4;stroke:#1f77b4;\" x=\"180.606713\" xlink:href=\"#m6f77890ee3\" y=\"43.970992\"/>\r\n     <use style=\"fill:#1f77b4;stroke:#1f77b4;\" x=\"115.327774\" xlink:href=\"#m6f77890ee3\" y=\"93.971754\"/>\r\n     <use style=\"fill:#1f77b4;stroke:#1f77b4;\" x=\"191.775153\" xlink:href=\"#m6f77890ee3\" y=\"42.630039\"/>\r\n     <use style=\"fill:#1f77b4;stroke:#1f77b4;\" x=\"153.862697\" xlink:href=\"#m6f77890ee3\" y=\"68.448677\"/>\r\n     <use style=\"fill:#1f77b4;stroke:#1f77b4;\" x=\"218.671307\" xlink:href=\"#m6f77890ee3\" y=\"16.80722\"/>\r\n     <use style=\"fill:#1f77b4;stroke:#1f77b4;\" x=\"155.266927\" xlink:href=\"#m6f77890ee3\" y=\"53.619022\"/>\r\n     <use style=\"fill:#1f77b4;stroke:#1f77b4;\" x=\"165.847033\" xlink:href=\"#m6f77890ee3\" y=\"55.720527\"/>\r\n     <use style=\"fill:#1f77b4;stroke:#1f77b4;\" x=\"158.963855\" xlink:href=\"#m6f77890ee3\" y=\"65.421896\"/>\r\n     <use style=\"fill:#1f77b4;stroke:#1f77b4;\" x=\"135.444065\" xlink:href=\"#m6f77890ee3\" y=\"83.143325\"/>\r\n     <use style=\"fill:#1f77b4;stroke:#1f77b4;\" x=\"182.084173\" xlink:href=\"#m6f77890ee3\" y=\"51.290523\"/>\r\n     <use style=\"fill:#1f77b4;stroke:#1f77b4;\" x=\"167.456879\" xlink:href=\"#m6f77890ee3\" y=\"57.404607\"/>\r\n     <use style=\"fill:#1f77b4;stroke:#1f77b4;\" x=\"89.112833\" xlink:href=\"#m6f77890ee3\" y=\"102.747898\"/>\r\n     <use style=\"fill:#1f77b4;stroke:#1f77b4;\" x=\"137.726425\" xlink:href=\"#m6f77890ee3\" y=\"72.218702\"/>\r\n     <use style=\"fill:#1f77b4;stroke:#1f77b4;\" x=\"154.848754\" xlink:href=\"#m6f77890ee3\" y=\"51.456931\"/>\r\n     <use style=\"fill:#1f77b4;stroke:#1f77b4;\" x=\"168.481022\" xlink:href=\"#m6f77890ee3\" y=\"59.575037\"/>\r\n     <use style=\"fill:#1f77b4;stroke:#1f77b4;\" x=\"150.754117\" xlink:href=\"#m6f77890ee3\" y=\"64.341461\"/>\r\n     <use style=\"fill:#1f77b4;stroke:#1f77b4;\" x=\"187.164272\" xlink:href=\"#m6f77890ee3\" y=\"43.486643\"/>\r\n     <use style=\"fill:#1f77b4;stroke:#1f77b4;\" x=\"183.429423\" xlink:href=\"#m6f77890ee3\" y=\"56.776384\"/>\r\n     <use style=\"fill:#1f77b4;stroke:#1f77b4;\" x=\"131.360937\" xlink:href=\"#m6f77890ee3\" y=\"93.20198\"/>\r\n     <use style=\"fill:#1f77b4;stroke:#1f77b4;\" x=\"188.245583\" xlink:href=\"#m6f77890ee3\" y=\"30.745651\"/>\r\n     <use style=\"fill:#1f77b4;stroke:#1f77b4;\" x=\"136.655569\" xlink:href=\"#m6f77890ee3\" y=\"77.06382\"/>\r\n     <use style=\"fill:#1f77b4;stroke:#1f77b4;\" x=\"130.644893\" xlink:href=\"#m6f77890ee3\" y=\"91.932149\"/>\r\n     <use style=\"fill:#1f77b4;stroke:#1f77b4;\" x=\"190.536976\" xlink:href=\"#m6f77890ee3\" y=\"48.876031\"/>\r\n     <use style=\"fill:#1f77b4;stroke:#1f77b4;\" x=\"154.19636\" xlink:href=\"#m6f77890ee3\" y=\"72.455887\"/>\r\n     <use style=\"fill:#1f77b4;stroke:#1f77b4;\" x=\"187.960613\" xlink:href=\"#m6f77890ee3\" y=\"50.441528\"/>\r\n     <use style=\"fill:#1f77b4;stroke:#1f77b4;\" x=\"208.26851\" xlink:href=\"#m6f77890ee3\" y=\"19.559267\"/>\r\n     <use style=\"fill:#1f77b4;stroke:#1f77b4;\" x=\"177.036633\" xlink:href=\"#m6f77890ee3\" y=\"44.897747\"/>\r\n     <use style=\"fill:#1f77b4;stroke:#1f77b4;\" x=\"209.522934\" xlink:href=\"#m6f77890ee3\" y=\"20.175261\"/>\r\n     <use style=\"fill:#1f77b4;stroke:#1f77b4;\" x=\"128.314392\" xlink:href=\"#m6f77890ee3\" y=\"96.344459\"/>\r\n     <use style=\"fill:#1f77b4;stroke:#1f77b4;\" x=\"148.367087\" xlink:href=\"#m6f77890ee3\" y=\"70.240856\"/>\r\n     <use style=\"fill:#1f77b4;stroke:#1f77b4;\" x=\"154.77867\" xlink:href=\"#m6f77890ee3\" y=\"59.701536\"/>\r\n     <use style=\"fill:#1f77b4;stroke:#1f77b4;\" x=\"122.713721\" xlink:href=\"#m6f77890ee3\" y=\"83.832272\"/>\r\n     <use style=\"fill:#1f77b4;stroke:#1f77b4;\" x=\"108.451689\" xlink:href=\"#m6f77890ee3\" y=\"90.614026\"/>\r\n     <use style=\"fill:#1f77b4;stroke:#1f77b4;\" x=\"144.982641\" xlink:href=\"#m6f77890ee3\" y=\"70.728804\"/>\r\n     <use style=\"fill:#1f77b4;stroke:#1f77b4;\" x=\"160.068964\" xlink:href=\"#m6f77890ee3\" y=\"49.042871\"/>\r\n     <use style=\"fill:#1f77b4;stroke:#1f77b4;\" x=\"184.552487\" xlink:href=\"#m6f77890ee3\" y=\"51.688524\"/>\r\n     <use style=\"fill:#1f77b4;stroke:#1f77b4;\" x=\"156.022764\" xlink:href=\"#m6f77890ee3\" y=\"61.056629\"/>\r\n     <use style=\"fill:#1f77b4;stroke:#1f77b4;\" x=\"125.743288\" xlink:href=\"#m6f77890ee3\" y=\"90.236643\"/>\r\n     <use style=\"fill:#1f77b4;stroke:#1f77b4;\" x=\"147.459218\" xlink:href=\"#m6f77890ee3\" y=\"64.098122\"/>\r\n     <use style=\"fill:#1f77b4;stroke:#1f77b4;\" x=\"187.236509\" xlink:href=\"#m6f77890ee3\" y=\"42.327799\"/>\r\n     <use style=\"fill:#1f77b4;stroke:#1f77b4;\" x=\"132.456181\" xlink:href=\"#m6f77890ee3\" y=\"76.846363\"/>\r\n     <use style=\"fill:#1f77b4;stroke:#1f77b4;\" x=\"153.989625\" xlink:href=\"#m6f77890ee3\" y=\"74.161263\"/>\r\n     <use style=\"fill:#1f77b4;stroke:#1f77b4;\" x=\"163.508745\" xlink:href=\"#m6f77890ee3\" y=\"53.236414\"/>\r\n     <use style=\"fill:#1f77b4;stroke:#1f77b4;\" x=\"170.20413\" xlink:href=\"#m6f77890ee3\" y=\"47.230147\"/>\r\n     <use style=\"fill:#1f77b4;stroke:#1f77b4;\" x=\"136.335032\" xlink:href=\"#m6f77890ee3\" y=\"79.589146\"/>\r\n     <use style=\"fill:#1f77b4;stroke:#1f77b4;\" x=\"187.085006\" xlink:href=\"#m6f77890ee3\" y=\"38.627718\"/>\r\n     <use style=\"fill:#1f77b4;stroke:#1f77b4;\" x=\"169.69977\" xlink:href=\"#m6f77890ee3\" y=\"56.00377\"/>\r\n     <use style=\"fill:#1f77b4;stroke:#1f77b4;\" x=\"104.127337\" xlink:href=\"#m6f77890ee3\" y=\"98.410884\"/>\r\n     <use style=\"fill:#1f77b4;stroke:#1f77b4;\" x=\"146.202696\" xlink:href=\"#m6f77890ee3\" y=\"53.909263\"/>\r\n     <use style=\"fill:#1f77b4;stroke:#1f77b4;\" x=\"143.494998\" xlink:href=\"#m6f77890ee3\" y=\"54.507815\"/>\r\n     <use style=\"fill:#1f77b4;stroke:#1f77b4;\" x=\"205.842221\" xlink:href=\"#m6f77890ee3\" y=\"16.815804\"/>\r\n     <use style=\"fill:#1f77b4;stroke:#1f77b4;\" x=\"132.102831\" xlink:href=\"#m6f77890ee3\" y=\"88.282489\"/>\r\n     <use style=\"fill:#1f77b4;stroke:#1f77b4;\" x=\"184.146393\" xlink:href=\"#m6f77890ee3\" y=\"36.637578\"/>\r\n     <use style=\"fill:#1f77b4;stroke:#1f77b4;\" x=\"92.212022\" xlink:href=\"#m6f77890ee3\" y=\"90.179574\"/>\r\n     <use style=\"fill:#1f77b4;stroke:#1f77b4;\" x=\"203.297473\" xlink:href=\"#m6f77890ee3\" y=\"19.025168\"/>\r\n     <use style=\"fill:#1f77b4;stroke:#1f77b4;\" x=\"218.052575\" xlink:href=\"#m6f77890ee3\" y=\"17.338811\"/>\r\n     <use style=\"fill:#1f77b4;stroke:#1f77b4;\" x=\"148.655107\" xlink:href=\"#m6f77890ee3\" y=\"57.789948\"/>\r\n     <use style=\"fill:#1f77b4;stroke:#1f77b4;\" x=\"193.580732\" xlink:href=\"#m6f77890ee3\" y=\"34.020756\"/>\r\n     <use style=\"fill:#1f77b4;stroke:#1f77b4;\" x=\"164.619954\" xlink:href=\"#m6f77890ee3\" y=\"58.044194\"/>\r\n     <use style=\"fill:#1f77b4;stroke:#1f77b4;\" x=\"153.067056\" xlink:href=\"#m6f77890ee3\" y=\"66.80711\"/>\r\n     <use style=\"fill:#1f77b4;stroke:#1f77b4;\" x=\"157.107296\" xlink:href=\"#m6f77890ee3\" y=\"48.622541\"/>\r\n     <use style=\"fill:#1f77b4;stroke:#1f77b4;\" x=\"210.569707\" xlink:href=\"#m6f77890ee3\" y=\"24.780175\"/>\r\n     <use style=\"fill:#1f77b4;stroke:#1f77b4;\" x=\"135.487167\" xlink:href=\"#m6f77890ee3\" y=\"78.327798\"/>\r\n     <use style=\"fill:#1f77b4;stroke:#1f77b4;\" x=\"200.711823\" xlink:href=\"#m6f77890ee3\" y=\"37.845112\"/>\r\n     <use style=\"fill:#1f77b4;stroke:#1f77b4;\" x=\"197.497862\" xlink:href=\"#m6f77890ee3\" y=\"23.639236\"/>\r\n     <use style=\"fill:#1f77b4;stroke:#1f77b4;\" x=\"217.046138\" xlink:href=\"#m6f77890ee3\" y=\"13.377273\"/>\r\n     <use style=\"fill:#1f77b4;stroke:#1f77b4;\" x=\"148.925084\" xlink:href=\"#m6f77890ee3\" y=\"66.66228\"/>\r\n    </g>\r\n   </g>\r\n   <g id=\"matplotlib.axis_1\">\r\n    <g id=\"xtick_1\">\r\n     <g id=\"line2d_1\">\r\n      <defs>\r\n       <path d=\"M 0 0 \r\nL 0 3.5 \r\n\" id=\"m8147e5a3c4\" style=\"stroke:#000000;stroke-width:0.8;\"/>\r\n      </defs>\r\n      <g>\r\n       <use style=\"stroke:#000000;stroke-width:0.8;\" x=\"68.019774\" xlink:href=\"#m8147e5a3c4\" y=\"143.1\"/>\r\n      </g>\r\n     </g>\r\n     <g id=\"text_1\">\r\n      <!-- −2 -->\r\n      <g transform=\"translate(60.64868 157.698438)scale(0.1 -0.1)\">\r\n       <defs>\r\n        <path d=\"M 10.59375 35.5 \r\nL 73.1875 35.5 \r\nL 73.1875 27.203125 \r\nL 10.59375 27.203125 \r\nz\r\n\" id=\"DejaVuSans-8722\"/>\r\n        <path d=\"M 19.1875 8.296875 \r\nL 53.609375 8.296875 \r\nL 53.609375 0 \r\nL 7.328125 0 \r\nL 7.328125 8.296875 \r\nQ 12.9375 14.109375 22.625 23.890625 \r\nQ 32.328125 33.6875 34.8125 36.53125 \r\nQ 39.546875 41.84375 41.421875 45.53125 \r\nQ 43.3125 49.21875 43.3125 52.78125 \r\nQ 43.3125 58.59375 39.234375 62.25 \r\nQ 35.15625 65.921875 28.609375 65.921875 \r\nQ 23.96875 65.921875 18.8125 64.3125 \r\nQ 13.671875 62.703125 7.8125 59.421875 \r\nL 7.8125 69.390625 \r\nQ 13.765625 71.78125 18.9375 73 \r\nQ 24.125 74.21875 28.421875 74.21875 \r\nQ 39.75 74.21875 46.484375 68.546875 \r\nQ 53.21875 62.890625 53.21875 53.421875 \r\nQ 53.21875 48.921875 51.53125 44.890625 \r\nQ 49.859375 40.875 45.40625 35.40625 \r\nQ 44.1875 33.984375 37.640625 27.21875 \r\nQ 31.109375 20.453125 19.1875 8.296875 \r\nz\r\n\" id=\"DejaVuSans-50\"/>\r\n       </defs>\r\n       <use xlink:href=\"#DejaVuSans-8722\"/>\r\n       <use x=\"83.789062\" xlink:href=\"#DejaVuSans-50\"/>\r\n      </g>\r\n     </g>\r\n    </g>\r\n    <g id=\"xtick_2\">\r\n     <g id=\"line2d_2\">\r\n      <g>\r\n       <use style=\"stroke:#000000;stroke-width:0.8;\" x=\"129.028329\" xlink:href=\"#m8147e5a3c4\" y=\"143.1\"/>\r\n      </g>\r\n     </g>\r\n     <g id=\"text_2\">\r\n      <!-- 0 -->\r\n      <g transform=\"translate(125.847079 157.698438)scale(0.1 -0.1)\">\r\n       <defs>\r\n        <path d=\"M 31.78125 66.40625 \r\nQ 24.171875 66.40625 20.328125 58.90625 \r\nQ 16.5 51.421875 16.5 36.375 \r\nQ 16.5 21.390625 20.328125 13.890625 \r\nQ 24.171875 6.390625 31.78125 6.390625 \r\nQ 39.453125 6.390625 43.28125 13.890625 \r\nQ 47.125 21.390625 47.125 36.375 \r\nQ 47.125 51.421875 43.28125 58.90625 \r\nQ 39.453125 66.40625 31.78125 66.40625 \r\nz\r\nM 31.78125 74.21875 \r\nQ 44.046875 74.21875 50.515625 64.515625 \r\nQ 56.984375 54.828125 56.984375 36.375 \r\nQ 56.984375 17.96875 50.515625 8.265625 \r\nQ 44.046875 -1.421875 31.78125 -1.421875 \r\nQ 19.53125 -1.421875 13.0625 8.265625 \r\nQ 6.59375 17.96875 6.59375 36.375 \r\nQ 6.59375 54.828125 13.0625 64.515625 \r\nQ 19.53125 74.21875 31.78125 74.21875 \r\nz\r\n\" id=\"DejaVuSans-48\"/>\r\n       </defs>\r\n       <use xlink:href=\"#DejaVuSans-48\"/>\r\n      </g>\r\n     </g>\r\n    </g>\r\n    <g id=\"xtick_3\">\r\n     <g id=\"line2d_3\">\r\n      <g>\r\n       <use style=\"stroke:#000000;stroke-width:0.8;\" x=\"190.036885\" xlink:href=\"#m8147e5a3c4\" y=\"143.1\"/>\r\n      </g>\r\n     </g>\r\n     <g id=\"text_3\">\r\n      <!-- 2 -->\r\n      <g transform=\"translate(186.855635 157.698438)scale(0.1 -0.1)\">\r\n       <use xlink:href=\"#DejaVuSans-50\"/>\r\n      </g>\r\n     </g>\r\n    </g>\r\n   </g>\r\n   <g id=\"matplotlib.axis_2\">\r\n    <g id=\"ytick_1\">\r\n     <g id=\"line2d_4\">\r\n      <defs>\r\n       <path d=\"M 0 0 \r\nL -3.5 0 \r\n\" id=\"m69754b063a\" style=\"stroke:#000000;stroke-width:0.8;\"/>\r\n      </defs>\r\n      <g>\r\n       <use style=\"stroke:#000000;stroke-width:0.8;\" x=\"38.482813\" xlink:href=\"#m69754b063a\" y=\"134.827775\"/>\r\n      </g>\r\n     </g>\r\n     <g id=\"text_4\">\r\n      <!-- −5.0 -->\r\n      <g transform=\"translate(7.2 138.626994)scale(0.1 -0.1)\">\r\n       <defs>\r\n        <path d=\"M 10.796875 72.90625 \r\nL 49.515625 72.90625 \r\nL 49.515625 64.59375 \r\nL 19.828125 64.59375 \r\nL 19.828125 46.734375 \r\nQ 21.96875 47.46875 24.109375 47.828125 \r\nQ 26.265625 48.1875 28.421875 48.1875 \r\nQ 40.625 48.1875 47.75 41.5 \r\nQ 54.890625 34.8125 54.890625 23.390625 \r\nQ 54.890625 11.625 47.5625 5.09375 \r\nQ 40.234375 -1.421875 26.90625 -1.421875 \r\nQ 22.3125 -1.421875 17.546875 -0.640625 \r\nQ 12.796875 0.140625 7.71875 1.703125 \r\nL 7.71875 11.625 \r\nQ 12.109375 9.234375 16.796875 8.0625 \r\nQ 21.484375 6.890625 26.703125 6.890625 \r\nQ 35.15625 6.890625 40.078125 11.328125 \r\nQ 45.015625 15.765625 45.015625 23.390625 \r\nQ 45.015625 31 40.078125 35.4375 \r\nQ 35.15625 39.890625 26.703125 39.890625 \r\nQ 22.75 39.890625 18.8125 39.015625 \r\nQ 14.890625 38.140625 10.796875 36.28125 \r\nz\r\n\" id=\"DejaVuSans-53\"/>\r\n        <path d=\"M 10.6875 12.40625 \r\nL 21 12.40625 \r\nL 21 0 \r\nL 10.6875 0 \r\nz\r\n\" id=\"DejaVuSans-46\"/>\r\n       </defs>\r\n       <use xlink:href=\"#DejaVuSans-8722\"/>\r\n       <use x=\"83.789062\" xlink:href=\"#DejaVuSans-53\"/>\r\n       <use x=\"147.412109\" xlink:href=\"#DejaVuSans-46\"/>\r\n       <use x=\"179.199219\" xlink:href=\"#DejaVuSans-48\"/>\r\n      </g>\r\n     </g>\r\n    </g>\r\n    <g id=\"ytick_2\">\r\n     <g id=\"line2d_5\">\r\n      <g>\r\n       <use style=\"stroke:#000000;stroke-width:0.8;\" x=\"38.482813\" xlink:href=\"#m69754b063a\" y=\"107.879293\"/>\r\n      </g>\r\n     </g>\r\n     <g id=\"text_5\">\r\n      <!-- −2.5 -->\r\n      <g transform=\"translate(7.2 111.678512)scale(0.1 -0.1)\">\r\n       <use xlink:href=\"#DejaVuSans-8722\"/>\r\n       <use x=\"83.789062\" xlink:href=\"#DejaVuSans-50\"/>\r\n       <use x=\"147.412109\" xlink:href=\"#DejaVuSans-46\"/>\r\n       <use x=\"179.199219\" xlink:href=\"#DejaVuSans-53\"/>\r\n      </g>\r\n     </g>\r\n    </g>\r\n    <g id=\"ytick_3\">\r\n     <g id=\"line2d_6\">\r\n      <g>\r\n       <use style=\"stroke:#000000;stroke-width:0.8;\" x=\"38.482813\" xlink:href=\"#m69754b063a\" y=\"80.930811\"/>\r\n      </g>\r\n     </g>\r\n     <g id=\"text_6\">\r\n      <!-- 0.0 -->\r\n      <g transform=\"translate(15.579688 84.730029)scale(0.1 -0.1)\">\r\n       <use xlink:href=\"#DejaVuSans-48\"/>\r\n       <use x=\"63.623047\" xlink:href=\"#DejaVuSans-46\"/>\r\n       <use x=\"95.410156\" xlink:href=\"#DejaVuSans-48\"/>\r\n      </g>\r\n     </g>\r\n    </g>\r\n    <g id=\"ytick_4\">\r\n     <g id=\"line2d_7\">\r\n      <g>\r\n       <use style=\"stroke:#000000;stroke-width:0.8;\" x=\"38.482813\" xlink:href=\"#m69754b063a\" y=\"53.982328\"/>\r\n      </g>\r\n     </g>\r\n     <g id=\"text_7\">\r\n      <!-- 2.5 -->\r\n      <g transform=\"translate(15.579688 57.781547)scale(0.1 -0.1)\">\r\n       <use xlink:href=\"#DejaVuSans-50\"/>\r\n       <use x=\"63.623047\" xlink:href=\"#DejaVuSans-46\"/>\r\n       <use x=\"95.410156\" xlink:href=\"#DejaVuSans-53\"/>\r\n      </g>\r\n     </g>\r\n    </g>\r\n    <g id=\"ytick_5\">\r\n     <g id=\"line2d_8\">\r\n      <g>\r\n       <use style=\"stroke:#000000;stroke-width:0.8;\" x=\"38.482813\" xlink:href=\"#m69754b063a\" y=\"27.033846\"/>\r\n      </g>\r\n     </g>\r\n     <g id=\"text_8\">\r\n      <!-- 5.0 -->\r\n      <g transform=\"translate(15.579688 30.833064)scale(0.1 -0.1)\">\r\n       <use xlink:href=\"#DejaVuSans-53\"/>\r\n       <use x=\"63.623047\" xlink:href=\"#DejaVuSans-46\"/>\r\n       <use x=\"95.410156\" xlink:href=\"#DejaVuSans-48\"/>\r\n      </g>\r\n     </g>\r\n    </g>\r\n   </g>\r\n   <g id=\"patch_3\">\r\n    <path d=\"M 38.482813 143.1 \r\nL 38.482813 7.2 \r\n\" style=\"fill:none;stroke:#000000;stroke-linecap:square;stroke-linejoin:miter;stroke-width:0.8;\"/>\r\n   </g>\r\n   <g id=\"patch_4\">\r\n    <path d=\"M 233.782813 143.1 \r\nL 233.782813 7.2 \r\n\" style=\"fill:none;stroke:#000000;stroke-linecap:square;stroke-linejoin:miter;stroke-width:0.8;\"/>\r\n   </g>\r\n   <g id=\"patch_5\">\r\n    <path d=\"M 38.482812 143.1 \r\nL 233.782813 143.1 \r\n\" style=\"fill:none;stroke:#000000;stroke-linecap:square;stroke-linejoin:miter;stroke-width:0.8;\"/>\r\n   </g>\r\n   <g id=\"patch_6\">\r\n    <path d=\"M 38.482812 7.2 \r\nL 233.782813 7.2 \r\n\" style=\"fill:none;stroke:#000000;stroke-linecap:square;stroke-linejoin:miter;stroke-width:0.8;\"/>\r\n   </g>\r\n  </g>\r\n </g>\r\n <defs>\r\n  <clipPath id=\"pfcedfda221\">\r\n   <rect height=\"135.9\" width=\"195.3\" x=\"38.482813\" y=\"7.2\"/>\r\n  </clipPath>\r\n </defs>\r\n</svg>\r\n"
     },
     "metadata": {
      "needs_background": "light"
     }
    }
   ],
   "source": [
    "d2l.set_figsize()\n",
    "d2l.plt.scatter(d2l.numpy(data[:100, 0]), d2l.numpy(data[:100, 1]));\n",
    "print(f'The covariance matrix is\\n{d2l.matmul(tf.transpose(A), A)}')"
   ]
  },
  {
   "cell_type": "code",
   "execution_count": 5,
   "metadata": {},
   "outputs": [],
   "source": [
    "batch_size = 8\n",
    "data_iter = d2l.load_array((data,), batch_size)"
   ]
  },
  {
   "cell_type": "code",
   "execution_count": 6,
   "metadata": {},
   "outputs": [],
   "source": [
    "net_G = tf.keras.Sequential()\n",
    "net_G.add(tf.keras.layers.Dense(2))"
   ]
  },
  {
   "cell_type": "markdown",
   "metadata": {},
   "source": [
    "tf.keras.activations.tanh(a)\n",
    "https://www.tensorflow.org/api_docs/python/tf/keras/activations/tanh\n"
   ]
  },
  {
   "cell_type": "code",
   "execution_count": 7,
   "metadata": {},
   "outputs": [],
   "source": [
    "net_D = tf.keras.Sequential()\n",
    "net_D.add(tf.keras.layers.Dense(5, activation='tanh'))\n",
    "net_D.add(tf.keras.layers.Dense(3, activation='tanh'))\n",
    "net_D.add(tf.keras.layers.Dense(1))"
   ]
  },
  {
   "cell_type": "markdown",
   "metadata": {},
   "source": [
    "with tf.GradientTape() as t:\n",
    "http://preview.d2l.ai/d2l-en/master/chapter_preliminaries/autograd.html\n"
   ]
  },
  {
   "cell_type": "markdown",
   "metadata": {},
   "source": [
    "t.gradient(y, x) \n",
    "t.gradient(loss_D, trainer_D) "
   ]
  },
  {
   "cell_type": "code",
   "execution_count": 8,
   "metadata": {},
   "outputs": [],
   "source": [
    "#@save\n",
    "def update_D(X, Z, net_D, net_G, loss, trainer_D):\n",
    "    \"\"\"Update discriminator.\"\"\"\n",
    "    batch_size = np.array(X).shape[0]\n",
    "    ones = tf.ones((batch_size,), tf.float32)\n",
    "    zeros = tf.zeros((batch_size,), tf.float32)\n",
    "    with tf.GradientTape() as t:\n",
    "        real_Y = net_D(X)\n",
    "        fake_X = net_G(Z)\n",
    "        # Do not need to compute gradient for `net_G`, detach it from\n",
    "        # computing gradients.\n",
    "        fake_Y = net_D(fake_X.detach())\n",
    "        loss_D = (loss(real_Y, ones) + loss(fake_Y, zeros)) / 2\n",
    "    t.gradient(loss_D, trainer_D) \n",
    "    trainer_D.step(batch_size)\n",
    "    return float(loss_D.sum())"
   ]
  },
  {
   "cell_type": "code",
   "execution_count": 9,
   "metadata": {},
   "outputs": [],
   "source": [
    "#@save\n",
    "def update_G(Z, net_D, net_G, loss, trainer_G):\n",
    "    \"\"\"Update generator.\"\"\"\n",
    "    batch_size = np.array(Z).shape[0]\n",
    "    ones = tf.ones((batch_size,), tf.float32)\n",
    "    with tf.GradientTape() as t:\n",
    "        # We could reuse `fake_X` from `update_D` to save computation\n",
    "        fake_X = net_G(Z)\n",
    "        # Recomputing `fake_Y` is needed since `net_D` is changed\n",
    "        fake_Y = net_D(fake_X)\n",
    "        loss_G = loss(fake_Y, ones)\n",
    "    t.gradient(loss_G, trainer_G) \n",
    "    trainer_G.step(batch_size)\n",
    "    return float(loss_G.sum())"
   ]
  },
  {
   "cell_type": "markdown",
   "metadata": {},
   "source": [
    "https://www.google.com/search?q=numpy()+tensorflow&rlz=1C1GCEA_enJP909HK909&oq=numpy()+tensorflow&aqs=chrome..69i57j0l7.2792j0j1&sourceid=chrome&ie=UTF-8"
   ]
  },
  {
   "cell_type": "markdown",
   "metadata": {},
   "source": [
    "https://www.tensorflow.org/api_docs/python/tf/keras/optimizers/Adam\n",
    "tf.keras.optimizers.Adam(learning_rate=0.1)\n",
    "m.compile\n",
    "m = tf.keras.models.Sequential([tf.keras.layers.Dense(10)])\n",
    "m.compile(opt, loss='mse')"
   ]
  },
  {
   "cell_type": "markdown",
   "metadata": {},
   "source": [
    "https://stackoverflow.com/questions/55683729/bcewithlogitsloss-in-keras\n",
    "https://www.tensorflow.org/api_docs/python/tf/keras/losses/BinaryCrossentropy\n"
   ]
  },
  {
   "cell_type": "markdown",
   "metadata": {},
   "source": [
    "def weight_variable(shape, w=0.1):\n",
    "  initial = tf.truncated_normal(shape, stddev=w)\n",
    "  return tf.Variable(initial)\n",
    "  https://stackoverflow.com/questions/43489697/tensorflow-weight-initialization\n",
    "\n",
    "  The values generated are similar to values from a tf.keras.initializers.RandomNormal initializer except that values more than two standard deviations from the mean are discarded and re-drawn.\n",
    "  https://keras.io/api/layers/initializers/"
   ]
  },
  {
   "cell_type": "markdown",
   "metadata": {},
   "source": [
    "tf.Variable(initial_value=w_init(\n",
    "            shape=(input_dim, unit), dtype=tf.float32), trainable=True)\n",
    "            https://zhuanlan.zhihu.com/p/59481536"
   ]
  },
  {
   "cell_type": "markdown",
   "metadata": {},
   "source": [
    "https://keras.io/api/layers/initializers/"
   ]
  },
  {
   "cell_type": "markdown",
   "metadata": {},
   "source": [
    "numpy.array\n",
    "https://stackoverflow.com/questions/41198144/attributeerror-tuple-object-has-no-attribute-shape"
   ]
  },
  {
   "cell_type": "code",
   "execution_count": 10,
   "metadata": {},
   "outputs": [],
   "source": [
    "def train(net_D, net_G, data_iter, num_epochs, lr_D, lr_G, latent_dim, data):\n",
    "    loss = tf.keras.losses.BinaryCrossentropy(reduction=\n",
    "                                tf.keras.losses.Reduction.SUM)\n",
    "    tf.keras.initializers.RandomNormal(net_D, stddev=0.02)\n",
    "    tf.keras.initializers.RandomNormal(net_G, stddev=0.02)\n",
    "    trainer_D = net_D.compile(tf.keras.optimizers.Adam(learning_rate=lr_D), loss='mse')\n",
    "    trainer_G = net_G.compile(tf.keras.optimizers.Adam(learning_rate=lr_G), loss='mse')\n",
    "    animator = d2l.Animator(xlabel='epoch', ylabel='loss',\n",
    "                            xlim=[1, num_epochs], nrows=2, figsize=(5, 5),\n",
    "                            legend=['discriminator', 'generator'])\n",
    "    animator.fig.subplots_adjust(hspace=0.3)\n",
    "    for epoch in range(num_epochs):\n",
    "        # Train one epoch\n",
    "        timer = d2l.Timer()\n",
    "        metric = d2l.Accumulator(3)  # loss_D, loss_G, num_examples\n",
    "        for X in data_iter:\n",
    "            batch_size = np.array(X).shape[0]\n",
    "            Z = d2l.normal([batch_size, latent_dim], 0, 1, tf.float32)\n",
    "            metric.add(update_D(X, Z, net_D, net_G, loss, trainer_D),\n",
    "                       update_G(Z, net_D, net_G, loss, trainer_G),\n",
    "                       batch_size)\n",
    "        # Visualize generated examples\n",
    "        Z = d2l.normal([100, latent_dim], 0, 1, tf.float32)\n",
    "        fake_X = net_G(Z).Tensor.numpy()\n",
    "        animator.axes[1].cla()\n",
    "        animator.axes[1].scatter(data[:, 0], data[:, 1])\n",
    "        animator.axes[1].scatter(fake_X[:, 0], fake_X[:, 1])\n",
    "        animator.axes[1].legend(['real', 'generated'])\n",
    "        # Show the losses\n",
    "        loss_D, loss_G = metric[0]/metric[2], metric[1]/metric[2]\n",
    "        animator.add(epoch + 1, (loss_D, loss_G))\n",
    "    print(f'loss_D {loss_D:.3f}, loss_G {loss_G:.3f}, '\n",
    "          f'{metric[2] / timer.stop():.1f} examples/sec')"
   ]
  },
  {
   "cell_type": "code",
   "execution_count": 11,
   "metadata": {},
   "outputs": [
    {
     "output_type": "error",
     "ename": "TypeError",
     "evalue": "ones() got an unexpected keyword argument 'device'",
     "traceback": [
      "\u001b[1;31m---------------------------------------------------------------------------\u001b[0m",
      "\u001b[1;31mTypeError\u001b[0m                                 Traceback (most recent call last)",
      "\u001b[1;32m<ipython-input-11-251159593cac>\u001b[0m in \u001b[0;36m<module>\u001b[1;34m\u001b[0m\n\u001b[0;32m      1\u001b[0m \u001b[0mlr_D\u001b[0m\u001b[1;33m,\u001b[0m \u001b[0mlr_G\u001b[0m\u001b[1;33m,\u001b[0m \u001b[0mlatent_dim\u001b[0m\u001b[1;33m,\u001b[0m \u001b[0mnum_epochs\u001b[0m \u001b[1;33m=\u001b[0m \u001b[1;36m0.05\u001b[0m\u001b[1;33m,\u001b[0m \u001b[1;36m0.005\u001b[0m\u001b[1;33m,\u001b[0m \u001b[1;36m2\u001b[0m\u001b[1;33m,\u001b[0m \u001b[1;36m20\u001b[0m\u001b[1;33m\u001b[0m\u001b[1;33m\u001b[0m\u001b[0m\n\u001b[0;32m      2\u001b[0m train(net_D, net_G, data_iter, num_epochs, lr_D, lr_G,\n\u001b[1;32m----> 3\u001b[1;33m       latent_dim, d2l.numpy(data[:100]))\n\u001b[0m",
      "\u001b[1;32m<ipython-input-10-1556e6dd1300>\u001b[0m in \u001b[0;36mtrain\u001b[1;34m(net_D, net_G, data_iter, num_epochs, lr_D, lr_G, latent_dim, data)\u001b[0m\n\u001b[0;32m     17\u001b[0m             \u001b[0mbatch_size\u001b[0m \u001b[1;33m=\u001b[0m \u001b[0mnp\u001b[0m\u001b[1;33m.\u001b[0m\u001b[0marray\u001b[0m\u001b[1;33m(\u001b[0m\u001b[0mX\u001b[0m\u001b[1;33m)\u001b[0m\u001b[1;33m.\u001b[0m\u001b[0mshape\u001b[0m\u001b[1;33m[\u001b[0m\u001b[1;36m0\u001b[0m\u001b[1;33m]\u001b[0m\u001b[1;33m\u001b[0m\u001b[1;33m\u001b[0m\u001b[0m\n\u001b[0;32m     18\u001b[0m             \u001b[0mZ\u001b[0m \u001b[1;33m=\u001b[0m \u001b[0md2l\u001b[0m\u001b[1;33m.\u001b[0m\u001b[0mnormal\u001b[0m\u001b[1;33m(\u001b[0m\u001b[1;33m[\u001b[0m\u001b[0mbatch_size\u001b[0m\u001b[1;33m,\u001b[0m \u001b[0mlatent_dim\u001b[0m\u001b[1;33m]\u001b[0m\u001b[1;33m,\u001b[0m \u001b[1;36m0\u001b[0m\u001b[1;33m,\u001b[0m \u001b[1;36m1\u001b[0m\u001b[1;33m,\u001b[0m \u001b[0mtf\u001b[0m\u001b[1;33m.\u001b[0m\u001b[0mfloat32\u001b[0m\u001b[1;33m)\u001b[0m\u001b[1;33m\u001b[0m\u001b[1;33m\u001b[0m\u001b[0m\n\u001b[1;32m---> 19\u001b[1;33m             metric.add(update_D(X, Z, net_D, net_G, loss, trainer_D),\n\u001b[0m\u001b[0;32m     20\u001b[0m                        \u001b[0mupdate_G\u001b[0m\u001b[1;33m(\u001b[0m\u001b[0mZ\u001b[0m\u001b[1;33m,\u001b[0m \u001b[0mnet_D\u001b[0m\u001b[1;33m,\u001b[0m \u001b[0mnet_G\u001b[0m\u001b[1;33m,\u001b[0m \u001b[0mloss\u001b[0m\u001b[1;33m,\u001b[0m \u001b[0mtrainer_G\u001b[0m\u001b[1;33m)\u001b[0m\u001b[1;33m,\u001b[0m\u001b[1;33m\u001b[0m\u001b[1;33m\u001b[0m\u001b[0m\n\u001b[0;32m     21\u001b[0m                        batch_size)\n",
      "\u001b[1;32m<ipython-input-8-15c39f30caf7>\u001b[0m in \u001b[0;36mupdate_D\u001b[1;34m(X, Z, net_D, net_G, loss, trainer_D)\u001b[0m\n\u001b[0;32m      3\u001b[0m     \u001b[1;34m\"\"\"Update discriminator.\"\"\"\u001b[0m\u001b[1;33m\u001b[0m\u001b[1;33m\u001b[0m\u001b[0m\n\u001b[0;32m      4\u001b[0m     \u001b[0mbatch_size\u001b[0m \u001b[1;33m=\u001b[0m \u001b[0mnp\u001b[0m\u001b[1;33m.\u001b[0m\u001b[0marray\u001b[0m\u001b[1;33m(\u001b[0m\u001b[0mX\u001b[0m\u001b[1;33m)\u001b[0m\u001b[1;33m.\u001b[0m\u001b[0mshape\u001b[0m\u001b[1;33m[\u001b[0m\u001b[1;36m0\u001b[0m\u001b[1;33m]\u001b[0m\u001b[1;33m\u001b[0m\u001b[1;33m\u001b[0m\u001b[0m\n\u001b[1;32m----> 5\u001b[1;33m     \u001b[0mones\u001b[0m \u001b[1;33m=\u001b[0m \u001b[0mtf\u001b[0m\u001b[1;33m.\u001b[0m\u001b[0mones\u001b[0m\u001b[1;33m(\u001b[0m\u001b[1;33m(\u001b[0m\u001b[0mbatch_size\u001b[0m\u001b[1;33m,\u001b[0m\u001b[1;33m)\u001b[0m\u001b[1;33m,\u001b[0m \u001b[0mtf\u001b[0m\u001b[1;33m.\u001b[0m\u001b[0mfloat32\u001b[0m\u001b[1;33m,\u001b[0m \u001b[0mdevice\u001b[0m\u001b[1;33m=\u001b[0m\u001b[0mtf\u001b[0m\u001b[1;33m.\u001b[0m\u001b[0mconvert_to_tensor\u001b[0m\u001b[1;33m(\u001b[0m\u001b[0mX\u001b[0m\u001b[1;33m)\u001b[0m\u001b[1;33m.\u001b[0m\u001b[0mdevice\u001b[0m\u001b[1;33m)\u001b[0m\u001b[1;33m\u001b[0m\u001b[1;33m\u001b[0m\u001b[0m\n\u001b[0m\u001b[0;32m      6\u001b[0m     \u001b[0mzeros\u001b[0m \u001b[1;33m=\u001b[0m \u001b[0mtf\u001b[0m\u001b[1;33m.\u001b[0m\u001b[0mzeros\u001b[0m\u001b[1;33m(\u001b[0m\u001b[1;33m(\u001b[0m\u001b[0mbatch_size\u001b[0m\u001b[1;33m,\u001b[0m\u001b[1;33m)\u001b[0m\u001b[1;33m,\u001b[0m \u001b[0mtf\u001b[0m\u001b[1;33m.\u001b[0m\u001b[0mfloat32\u001b[0m\u001b[1;33m,\u001b[0m \u001b[0mdevice\u001b[0m\u001b[1;33m=\u001b[0m\u001b[0mtf\u001b[0m\u001b[1;33m.\u001b[0m\u001b[0mconvert_to_tensor\u001b[0m\u001b[1;33m(\u001b[0m\u001b[0mX\u001b[0m\u001b[1;33m)\u001b[0m\u001b[1;33m.\u001b[0m\u001b[0mdevice\u001b[0m\u001b[1;33m)\u001b[0m\u001b[1;33m\u001b[0m\u001b[1;33m\u001b[0m\u001b[0m\n\u001b[0;32m      7\u001b[0m     \u001b[1;32mwith\u001b[0m \u001b[0mtf\u001b[0m\u001b[1;33m.\u001b[0m\u001b[0mGradientTape\u001b[0m\u001b[1;33m(\u001b[0m\u001b[1;33m)\u001b[0m \u001b[1;32mas\u001b[0m \u001b[0mt\u001b[0m\u001b[1;33m:\u001b[0m\u001b[1;33m\u001b[0m\u001b[1;33m\u001b[0m\u001b[0m\n",
      "\u001b[1;32m~\\anaconda3\\envs\\tf2\\lib\\site-packages\\tensorflow\\python\\util\\dispatch.py\u001b[0m in \u001b[0;36mwrapper\u001b[1;34m(*args, **kwargs)\u001b[0m\n\u001b[0;32m    199\u001b[0m     \u001b[1;34m\"\"\"Call target, and fall back on dispatchers if there is a TypeError.\"\"\"\u001b[0m\u001b[1;33m\u001b[0m\u001b[1;33m\u001b[0m\u001b[0m\n\u001b[0;32m    200\u001b[0m     \u001b[1;32mtry\u001b[0m\u001b[1;33m:\u001b[0m\u001b[1;33m\u001b[0m\u001b[1;33m\u001b[0m\u001b[0m\n\u001b[1;32m--> 201\u001b[1;33m       \u001b[1;32mreturn\u001b[0m \u001b[0mtarget\u001b[0m\u001b[1;33m(\u001b[0m\u001b[1;33m*\u001b[0m\u001b[0margs\u001b[0m\u001b[1;33m,\u001b[0m \u001b[1;33m**\u001b[0m\u001b[0mkwargs\u001b[0m\u001b[1;33m)\u001b[0m\u001b[1;33m\u001b[0m\u001b[1;33m\u001b[0m\u001b[0m\n\u001b[0m\u001b[0;32m    202\u001b[0m     \u001b[1;32mexcept\u001b[0m \u001b[1;33m(\u001b[0m\u001b[0mTypeError\u001b[0m\u001b[1;33m,\u001b[0m \u001b[0mValueError\u001b[0m\u001b[1;33m)\u001b[0m\u001b[1;33m:\u001b[0m\u001b[1;33m\u001b[0m\u001b[1;33m\u001b[0m\u001b[0m\n\u001b[0;32m    203\u001b[0m       \u001b[1;31m# Note: convert_to_eager_tensor currently raises a ValueError, not a\u001b[0m\u001b[1;33m\u001b[0m\u001b[1;33m\u001b[0m\u001b[1;33m\u001b[0m\u001b[0m\n",
      "\u001b[1;31mTypeError\u001b[0m: ones() got an unexpected keyword argument 'device'"
     ]
    }
   ],
   "source": [
    "lr_D, lr_G, latent_dim, num_epochs = 0.05, 0.005, 2, 20\n",
    "train(net_D, net_G, data_iter, num_epochs, lr_D, lr_G,\n",
    "      latent_dim, d2l.numpy(data[:100]))"
   ]
  },
  {
   "cell_type": "markdown",
   "metadata": {},
   "source": [
    "https://www.tensorflow.org/api_docs/python/tf/ones"
   ]
  }
 ]
}