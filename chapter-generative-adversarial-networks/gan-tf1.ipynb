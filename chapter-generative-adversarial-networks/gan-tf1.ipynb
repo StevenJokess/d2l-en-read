{
 "metadata": {
  "language_info": {
   "codemirror_mode": {
    "name": "ipython",
    "version": 3
   },
   "file_extension": ".py",
   "mimetype": "text/x-python",
   "name": "python",
   "nbconvert_exporter": "python",
   "pygments_lexer": "ipython3",
   "version": "3.7.8-final"
  },
  "orig_nbformat": 2,
  "kernelspec": {
   "name": "python37864bittf2conda1de394c9651a4d19aa25641a40b8d2d8",
   "display_name": "Python 3.7.8 64-bit ('tf2': conda)"
  }
 },
 "nbformat": 4,
 "nbformat_minor": 2,
 "cells": [
  {
   "cell_type": "markdown",
   "metadata": {},
   "source": [
    "http://preview.d2l.ai/d2l-en/master/chapter_generative-adversarial-networks/gan.html"
   ]
  },
  {
   "cell_type": "code",
   "execution_count": 1,
   "metadata": {},
   "outputs": [],
   "source": [
    "%matplotlib inline\n",
    "from d2l import tensorflow as d2l\n",
    "import tensorflow as tf\n",
    "import numpy as np"
   ]
  },
  {
   "cell_type": "markdown",
   "metadata": {},
   "source": [
    "https://www.tensorflow.org/api_docs/python/tf/random/normal"
   ]
  },
  {
   "cell_type": "markdown",
   "metadata": {},
   "source": [
    "https://www.tensorflow.org/api_docs/python/tf/norm"
   ]
  },
  {
   "cell_type": "code",
   "execution_count": 2,
   "metadata": {},
   "outputs": [],
   "source": [
    "X = d2l.normal([1000, 2], 0.0, 1, tf.float32)"
   ]
  },
  {
   "cell_type": "code",
   "execution_count": 3,
   "metadata": {},
   "outputs": [],
   "source": [
    "A = d2l.tensor([[1, 2], [-0.1, 0.5]], tf.float32)\n",
    "b = d2l.tensor([1, 2], tf.float32)\n",
    "data = d2l.matmul(X, A) + b"
   ]
  },
  {
   "cell_type": "code",
   "execution_count": 4,
   "metadata": {
    "tags": []
   },
   "outputs": [
    {
     "output_type": "stream",
     "name": "stdout",
     "text": "The covariance matrix is\n[[1.01 1.95]\n [1.95 4.25]]\n"
    },
    {
     "output_type": "display_data",
     "data": {
      "text/plain": "<Figure size 252x180 with 1 Axes>",
      "image/svg+xml": "<?xml version=\"1.0\" encoding=\"utf-8\" standalone=\"no\"?>\r\n<!DOCTYPE svg PUBLIC \"-//W3C//DTD SVG 1.1//EN\"\r\n  \"http://www.w3.org/Graphics/SVG/1.1/DTD/svg11.dtd\">\r\n<!-- Created with matplotlib (https://matplotlib.org/) -->\r\n<svg height=\"166.978125pt\" version=\"1.1\" viewBox=\"0 0 240.982812 166.978125\" width=\"240.982812pt\" xmlns=\"http://www.w3.org/2000/svg\" xmlns:xlink=\"http://www.w3.org/1999/xlink\">\r\n <metadata>\r\n  <rdf:RDF xmlns:cc=\"http://creativecommons.org/ns#\" xmlns:dc=\"http://purl.org/dc/elements/1.1/\" xmlns:rdf=\"http://www.w3.org/1999/02/22-rdf-syntax-ns#\">\r\n   <cc:Work>\r\n    <dc:type rdf:resource=\"http://purl.org/dc/dcmitype/StillImage\"/>\r\n    <dc:date>2020-09-03T23:12:33.982731</dc:date>\r\n    <dc:format>image/svg+xml</dc:format>\r\n    <dc:creator>\r\n     <cc:Agent>\r\n      <dc:title>Matplotlib v3.3.1, https://matplotlib.org/</dc:title>\r\n     </cc:Agent>\r\n    </dc:creator>\r\n   </cc:Work>\r\n  </rdf:RDF>\r\n </metadata>\r\n <defs>\r\n  <style type=\"text/css\">*{stroke-linecap:butt;stroke-linejoin:round;}</style>\r\n </defs>\r\n <g id=\"figure_1\">\r\n  <g id=\"patch_1\">\r\n   <path d=\"M -0 166.978125 \r\nL 240.982813 166.978125 \r\nL 240.982813 0 \r\nL -0 0 \r\nz\r\n\" style=\"fill:none;\"/>\r\n  </g>\r\n  <g id=\"axes_1\">\r\n   <g id=\"patch_2\">\r\n    <path d=\"M 38.482813 143.1 \r\nL 233.782813 143.1 \r\nL 233.782813 7.2 \r\nL 38.482813 7.2 \r\nz\r\n\" style=\"fill:#ffffff;\"/>\r\n   </g>\r\n   <g id=\"PathCollection_1\">\r\n    <defs>\r\n     <path d=\"M 0 3 \r\nC 0.795609 3 1.55874 2.683901 2.12132 2.12132 \r\nC 2.683901 1.55874 3 0.795609 3 0 \r\nC 3 -0.795609 2.683901 -1.55874 2.12132 -2.12132 \r\nC 1.55874 -2.683901 0.795609 -3 0 -3 \r\nC -0.795609 -3 -1.55874 -2.683901 -2.12132 -2.12132 \r\nC -2.683901 -1.55874 -3 -0.795609 -3 0 \r\nC -3 0.795609 -2.683901 1.55874 -2.12132 2.12132 \r\nC -1.55874 2.683901 -0.795609 3 0 3 \r\nz\r\n\" id=\"mf6cdd5c5ab\" style=\"stroke:#1f77b4;\"/>\r\n    </defs>\r\n    <g clip-path=\"url(#pe4070778ea)\">\r\n     <use style=\"fill:#1f77b4;stroke:#1f77b4;\" x=\"111.61958\" xlink:href=\"#mf6cdd5c5ab\" y=\"96.441211\"/>\r\n     <use style=\"fill:#1f77b4;stroke:#1f77b4;\" x=\"144.796059\" xlink:href=\"#mf6cdd5c5ab\" y=\"74.075211\"/>\r\n     <use style=\"fill:#1f77b4;stroke:#1f77b4;\" x=\"145.062675\" xlink:href=\"#mf6cdd5c5ab\" y=\"69.543789\"/>\r\n     <use style=\"fill:#1f77b4;stroke:#1f77b4;\" x=\"93.011401\" xlink:href=\"#mf6cdd5c5ab\" y=\"102.144567\"/>\r\n     <use style=\"fill:#1f77b4;stroke:#1f77b4;\" x=\"143.421888\" xlink:href=\"#mf6cdd5c5ab\" y=\"70.192153\"/>\r\n     <use style=\"fill:#1f77b4;stroke:#1f77b4;\" x=\"107.028149\" xlink:href=\"#mf6cdd5c5ab\" y=\"97.724883\"/>\r\n     <use style=\"fill:#1f77b4;stroke:#1f77b4;\" x=\"134.747762\" xlink:href=\"#mf6cdd5c5ab\" y=\"78.640732\"/>\r\n     <use style=\"fill:#1f77b4;stroke:#1f77b4;\" x=\"79.748724\" xlink:href=\"#mf6cdd5c5ab\" y=\"110.956792\"/>\r\n     <use style=\"fill:#1f77b4;stroke:#1f77b4;\" x=\"152.069323\" xlink:href=\"#mf6cdd5c5ab\" y=\"69.163601\"/>\r\n     <use style=\"fill:#1f77b4;stroke:#1f77b4;\" x=\"123.244948\" xlink:href=\"#mf6cdd5c5ab\" y=\"83.232284\"/>\r\n     <use style=\"fill:#1f77b4;stroke:#1f77b4;\" x=\"95.607302\" xlink:href=\"#mf6cdd5c5ab\" y=\"91.79472\"/>\r\n     <use style=\"fill:#1f77b4;stroke:#1f77b4;\" x=\"131.630013\" xlink:href=\"#mf6cdd5c5ab\" y=\"79.228201\"/>\r\n     <use style=\"fill:#1f77b4;stroke:#1f77b4;\" x=\"131.067651\" xlink:href=\"#mf6cdd5c5ab\" y=\"87.792033\"/>\r\n     <use style=\"fill:#1f77b4;stroke:#1f77b4;\" x=\"101.228046\" xlink:href=\"#mf6cdd5c5ab\" y=\"98.610793\"/>\r\n     <use style=\"fill:#1f77b4;stroke:#1f77b4;\" x=\"76.788711\" xlink:href=\"#mf6cdd5c5ab\" y=\"119.428269\"/>\r\n     <use style=\"fill:#1f77b4;stroke:#1f77b4;\" x=\"105.937451\" xlink:href=\"#mf6cdd5c5ab\" y=\"92.832112\"/>\r\n     <use style=\"fill:#1f77b4;stroke:#1f77b4;\" x=\"93.813046\" xlink:href=\"#mf6cdd5c5ab\" y=\"96.629558\"/>\r\n     <use style=\"fill:#1f77b4;stroke:#1f77b4;\" x=\"181.06083\" xlink:href=\"#mf6cdd5c5ab\" y=\"30.79358\"/>\r\n     <use style=\"fill:#1f77b4;stroke:#1f77b4;\" x=\"107.398436\" xlink:href=\"#mf6cdd5c5ab\" y=\"103.54148\"/>\r\n     <use style=\"fill:#1f77b4;stroke:#1f77b4;\" x=\"93.519647\" xlink:href=\"#mf6cdd5c5ab\" y=\"103.282637\"/>\r\n     <use style=\"fill:#1f77b4;stroke:#1f77b4;\" x=\"86.749199\" xlink:href=\"#mf6cdd5c5ab\" y=\"107.533628\"/>\r\n     <use style=\"fill:#1f77b4;stroke:#1f77b4;\" x=\"182.805541\" xlink:href=\"#mf6cdd5c5ab\" y=\"46.227378\"/>\r\n     <use style=\"fill:#1f77b4;stroke:#1f77b4;\" x=\"131.126336\" xlink:href=\"#mf6cdd5c5ab\" y=\"80.760961\"/>\r\n     <use style=\"fill:#1f77b4;stroke:#1f77b4;\" x=\"123.400249\" xlink:href=\"#mf6cdd5c5ab\" y=\"87.967428\"/>\r\n     <use style=\"fill:#1f77b4;stroke:#1f77b4;\" x=\"143.431881\" xlink:href=\"#mf6cdd5c5ab\" y=\"74.894069\"/>\r\n     <use style=\"fill:#1f77b4;stroke:#1f77b4;\" x=\"120.331622\" xlink:href=\"#mf6cdd5c5ab\" y=\"92.042618\"/>\r\n     <use style=\"fill:#1f77b4;stroke:#1f77b4;\" x=\"142.85767\" xlink:href=\"#mf6cdd5c5ab\" y=\"73.525176\"/>\r\n     <use style=\"fill:#1f77b4;stroke:#1f77b4;\" x=\"133.968062\" xlink:href=\"#mf6cdd5c5ab\" y=\"85.46632\"/>\r\n     <use style=\"fill:#1f77b4;stroke:#1f77b4;\" x=\"141.192028\" xlink:href=\"#mf6cdd5c5ab\" y=\"68.061527\"/>\r\n     <use style=\"fill:#1f77b4;stroke:#1f77b4;\" x=\"114.244046\" xlink:href=\"#mf6cdd5c5ab\" y=\"84.747682\"/>\r\n     <use style=\"fill:#1f77b4;stroke:#1f77b4;\" x=\"111.669987\" xlink:href=\"#mf6cdd5c5ab\" y=\"93.804679\"/>\r\n     <use style=\"fill:#1f77b4;stroke:#1f77b4;\" x=\"224.90554\" xlink:href=\"#mf6cdd5c5ab\" y=\"13.377273\"/>\r\n     <use style=\"fill:#1f77b4;stroke:#1f77b4;\" x=\"140.383879\" xlink:href=\"#mf6cdd5c5ab\" y=\"71.58971\"/>\r\n     <use style=\"fill:#1f77b4;stroke:#1f77b4;\" x=\"127.997911\" xlink:href=\"#mf6cdd5c5ab\" y=\"76.917838\"/>\r\n     <use style=\"fill:#1f77b4;stroke:#1f77b4;\" x=\"123.528825\" xlink:href=\"#mf6cdd5c5ab\" y=\"72.494079\"/>\r\n     <use style=\"fill:#1f77b4;stroke:#1f77b4;\" x=\"126.409597\" xlink:href=\"#mf6cdd5c5ab\" y=\"80.402055\"/>\r\n     <use style=\"fill:#1f77b4;stroke:#1f77b4;\" x=\"114.288029\" xlink:href=\"#mf6cdd5c5ab\" y=\"82.804772\"/>\r\n     <use style=\"fill:#1f77b4;stroke:#1f77b4;\" x=\"123.175095\" xlink:href=\"#mf6cdd5c5ab\" y=\"85.01991\"/>\r\n     <use style=\"fill:#1f77b4;stroke:#1f77b4;\" x=\"90.266226\" xlink:href=\"#mf6cdd5c5ab\" y=\"100.121571\"/>\r\n     <use style=\"fill:#1f77b4;stroke:#1f77b4;\" x=\"139.835234\" xlink:href=\"#mf6cdd5c5ab\" y=\"84.50987\"/>\r\n     <use style=\"fill:#1f77b4;stroke:#1f77b4;\" x=\"105.114941\" xlink:href=\"#mf6cdd5c5ab\" y=\"84.586517\"/>\r\n     <use style=\"fill:#1f77b4;stroke:#1f77b4;\" x=\"122.288073\" xlink:href=\"#mf6cdd5c5ab\" y=\"89.247322\"/>\r\n     <use style=\"fill:#1f77b4;stroke:#1f77b4;\" x=\"104.462583\" xlink:href=\"#mf6cdd5c5ab\" y=\"95.312125\"/>\r\n     <use style=\"fill:#1f77b4;stroke:#1f77b4;\" x=\"122.710425\" xlink:href=\"#mf6cdd5c5ab\" y=\"85.378421\"/>\r\n     <use style=\"fill:#1f77b4;stroke:#1f77b4;\" x=\"119.669713\" xlink:href=\"#mf6cdd5c5ab\" y=\"80.036197\"/>\r\n     <use style=\"fill:#1f77b4;stroke:#1f77b4;\" x=\"134.842859\" xlink:href=\"#mf6cdd5c5ab\" y=\"65.418463\"/>\r\n     <use style=\"fill:#1f77b4;stroke:#1f77b4;\" x=\"94.618281\" xlink:href=\"#mf6cdd5c5ab\" y=\"96.448402\"/>\r\n     <use style=\"fill:#1f77b4;stroke:#1f77b4;\" x=\"153.108944\" xlink:href=\"#mf6cdd5c5ab\" y=\"63.015524\"/>\r\n     <use style=\"fill:#1f77b4;stroke:#1f77b4;\" x=\"102.077035\" xlink:href=\"#mf6cdd5c5ab\" y=\"93.030662\"/>\r\n     <use style=\"fill:#1f77b4;stroke:#1f77b4;\" x=\"104.096979\" xlink:href=\"#mf6cdd5c5ab\" y=\"89.700898\"/>\r\n     <use style=\"fill:#1f77b4;stroke:#1f77b4;\" x=\"151.38386\" xlink:href=\"#mf6cdd5c5ab\" y=\"75.837676\"/>\r\n     <use style=\"fill:#1f77b4;stroke:#1f77b4;\" x=\"121.758884\" xlink:href=\"#mf6cdd5c5ab\" y=\"85.140085\"/>\r\n     <use style=\"fill:#1f77b4;stroke:#1f77b4;\" x=\"149.977496\" xlink:href=\"#mf6cdd5c5ab\" y=\"72.667204\"/>\r\n     <use style=\"fill:#1f77b4;stroke:#1f77b4;\" x=\"102.088717\" xlink:href=\"#mf6cdd5c5ab\" y=\"88.966394\"/>\r\n     <use style=\"fill:#1f77b4;stroke:#1f77b4;\" x=\"105.961326\" xlink:href=\"#mf6cdd5c5ab\" y=\"92.961199\"/>\r\n     <use style=\"fill:#1f77b4;stroke:#1f77b4;\" x=\"103.658604\" xlink:href=\"#mf6cdd5c5ab\" y=\"105.566745\"/>\r\n     <use style=\"fill:#1f77b4;stroke:#1f77b4;\" x=\"183.940549\" xlink:href=\"#mf6cdd5c5ab\" y=\"42.120693\"/>\r\n     <use style=\"fill:#1f77b4;stroke:#1f77b4;\" x=\"103.01648\" xlink:href=\"#mf6cdd5c5ab\" y=\"91.723549\"/>\r\n     <use style=\"fill:#1f77b4;stroke:#1f77b4;\" x=\"138.167459\" xlink:href=\"#mf6cdd5c5ab\" y=\"69.257113\"/>\r\n     <use style=\"fill:#1f77b4;stroke:#1f77b4;\" x=\"101.555633\" xlink:href=\"#mf6cdd5c5ab\" y=\"99.243084\"/>\r\n     <use style=\"fill:#1f77b4;stroke:#1f77b4;\" x=\"85.185538\" xlink:href=\"#mf6cdd5c5ab\" y=\"109.048155\"/>\r\n     <use style=\"fill:#1f77b4;stroke:#1f77b4;\" x=\"96.809998\" xlink:href=\"#mf6cdd5c5ab\" y=\"96.023161\"/>\r\n     <use style=\"fill:#1f77b4;stroke:#1f77b4;\" x=\"153.423546\" xlink:href=\"#mf6cdd5c5ab\" y=\"79.795168\"/>\r\n     <use style=\"fill:#1f77b4;stroke:#1f77b4;\" x=\"98.59545\" xlink:href=\"#mf6cdd5c5ab\" y=\"97.990587\"/>\r\n     <use style=\"fill:#1f77b4;stroke:#1f77b4;\" x=\"86.258339\" xlink:href=\"#mf6cdd5c5ab\" y=\"94.61656\"/>\r\n     <use style=\"fill:#1f77b4;stroke:#1f77b4;\" x=\"169.164384\" xlink:href=\"#mf6cdd5c5ab\" y=\"42.520872\"/>\r\n     <use style=\"fill:#1f77b4;stroke:#1f77b4;\" x=\"153.524121\" xlink:href=\"#mf6cdd5c5ab\" y=\"60.693655\"/>\r\n     <use style=\"fill:#1f77b4;stroke:#1f77b4;\" x=\"96.116354\" xlink:href=\"#mf6cdd5c5ab\" y=\"100.664252\"/>\r\n     <use style=\"fill:#1f77b4;stroke:#1f77b4;\" x=\"114.370795\" xlink:href=\"#mf6cdd5c5ab\" y=\"95.206932\"/>\r\n     <use style=\"fill:#1f77b4;stroke:#1f77b4;\" x=\"87.168837\" xlink:href=\"#mf6cdd5c5ab\" y=\"113.552883\"/>\r\n     <use style=\"fill:#1f77b4;stroke:#1f77b4;\" x=\"64.206233\" xlink:href=\"#mf6cdd5c5ab\" y=\"121.777914\"/>\r\n     <use style=\"fill:#1f77b4;stroke:#1f77b4;\" x=\"128.623911\" xlink:href=\"#mf6cdd5c5ab\" y=\"76.460767\"/>\r\n     <use style=\"fill:#1f77b4;stroke:#1f77b4;\" x=\"143.439727\" xlink:href=\"#mf6cdd5c5ab\" y=\"71.878097\"/>\r\n     <use style=\"fill:#1f77b4;stroke:#1f77b4;\" x=\"75.232012\" xlink:href=\"#mf6cdd5c5ab\" y=\"117.66689\"/>\r\n     <use style=\"fill:#1f77b4;stroke:#1f77b4;\" x=\"78.940017\" xlink:href=\"#mf6cdd5c5ab\" y=\"115.570184\"/>\r\n     <use style=\"fill:#1f77b4;stroke:#1f77b4;\" x=\"110.843073\" xlink:href=\"#mf6cdd5c5ab\" y=\"101.496029\"/>\r\n     <use style=\"fill:#1f77b4;stroke:#1f77b4;\" x=\"144.134877\" xlink:href=\"#mf6cdd5c5ab\" y=\"64.209526\"/>\r\n     <use style=\"fill:#1f77b4;stroke:#1f77b4;\" x=\"139.109987\" xlink:href=\"#mf6cdd5c5ab\" y=\"80.877681\"/>\r\n     <use style=\"fill:#1f77b4;stroke:#1f77b4;\" x=\"102.472507\" xlink:href=\"#mf6cdd5c5ab\" y=\"88.863472\"/>\r\n     <use style=\"fill:#1f77b4;stroke:#1f77b4;\" x=\"107.994463\" xlink:href=\"#mf6cdd5c5ab\" y=\"93.366324\"/>\r\n     <use style=\"fill:#1f77b4;stroke:#1f77b4;\" x=\"98.430087\" xlink:href=\"#mf6cdd5c5ab\" y=\"103.831301\"/>\r\n     <use style=\"fill:#1f77b4;stroke:#1f77b4;\" x=\"47.360085\" xlink:href=\"#mf6cdd5c5ab\" y=\"136.922727\"/>\r\n     <use style=\"fill:#1f77b4;stroke:#1f77b4;\" x=\"111.523531\" xlink:href=\"#mf6cdd5c5ab\" y=\"89.845639\"/>\r\n     <use style=\"fill:#1f77b4;stroke:#1f77b4;\" x=\"155.180601\" xlink:href=\"#mf6cdd5c5ab\" y=\"68.273119\"/>\r\n     <use style=\"fill:#1f77b4;stroke:#1f77b4;\" x=\"148.092566\" xlink:href=\"#mf6cdd5c5ab\" y=\"65.449491\"/>\r\n     <use style=\"fill:#1f77b4;stroke:#1f77b4;\" x=\"130.875799\" xlink:href=\"#mf6cdd5c5ab\" y=\"70.691224\"/>\r\n     <use style=\"fill:#1f77b4;stroke:#1f77b4;\" x=\"153.282204\" xlink:href=\"#mf6cdd5c5ab\" y=\"69.843313\"/>\r\n     <use style=\"fill:#1f77b4;stroke:#1f77b4;\" x=\"138.080451\" xlink:href=\"#mf6cdd5c5ab\" y=\"71.399636\"/>\r\n     <use style=\"fill:#1f77b4;stroke:#1f77b4;\" x=\"69.50701\" xlink:href=\"#mf6cdd5c5ab\" y=\"114.95132\"/>\r\n     <use style=\"fill:#1f77b4;stroke:#1f77b4;\" x=\"105.249475\" xlink:href=\"#mf6cdd5c5ab\" y=\"109.463316\"/>\r\n     <use style=\"fill:#1f77b4;stroke:#1f77b4;\" x=\"175.229878\" xlink:href=\"#mf6cdd5c5ab\" y=\"49.105863\"/>\r\n     <use style=\"fill:#1f77b4;stroke:#1f77b4;\" x=\"108.172642\" xlink:href=\"#mf6cdd5c5ab\" y=\"91.242811\"/>\r\n     <use style=\"fill:#1f77b4;stroke:#1f77b4;\" x=\"134.412292\" xlink:href=\"#mf6cdd5c5ab\" y=\"82.042786\"/>\r\n     <use style=\"fill:#1f77b4;stroke:#1f77b4;\" x=\"98.465963\" xlink:href=\"#mf6cdd5c5ab\" y=\"97.266327\"/>\r\n     <use style=\"fill:#1f77b4;stroke:#1f77b4;\" x=\"84.039611\" xlink:href=\"#mf6cdd5c5ab\" y=\"108.716053\"/>\r\n     <use style=\"fill:#1f77b4;stroke:#1f77b4;\" x=\"127.058887\" xlink:href=\"#mf6cdd5c5ab\" y=\"73.277363\"/>\r\n     <use style=\"fill:#1f77b4;stroke:#1f77b4;\" x=\"111.64738\" xlink:href=\"#mf6cdd5c5ab\" y=\"91.303034\"/>\r\n     <use style=\"fill:#1f77b4;stroke:#1f77b4;\" x=\"105.527744\" xlink:href=\"#mf6cdd5c5ab\" y=\"86.620213\"/>\r\n     <use style=\"fill:#1f77b4;stroke:#1f77b4;\" x=\"85.480739\" xlink:href=\"#mf6cdd5c5ab\" y=\"115.097331\"/>\r\n     <use style=\"fill:#1f77b4;stroke:#1f77b4;\" x=\"101.945091\" xlink:href=\"#mf6cdd5c5ab\" y=\"110.195963\"/>\r\n    </g>\r\n   </g>\r\n   <g id=\"matplotlib.axis_1\">\r\n    <g id=\"xtick_1\">\r\n     <g id=\"line2d_1\">\r\n      <defs>\r\n       <path d=\"M 0 0 \r\nL 0 3.5 \r\n\" id=\"meead45dba4\" style=\"stroke:#000000;stroke-width:0.8;\"/>\r\n      </defs>\r\n      <g>\r\n       <use style=\"stroke:#000000;stroke-width:0.8;\" x=\"92.437561\" xlink:href=\"#meead45dba4\" y=\"143.1\"/>\r\n      </g>\r\n     </g>\r\n     <g id=\"text_1\">\r\n      <!-- 0 -->\r\n      <g transform=\"translate(89.256311 157.698438)scale(0.1 -0.1)\">\r\n       <defs>\r\n        <path d=\"M 31.78125 66.40625 \r\nQ 24.171875 66.40625 20.328125 58.90625 \r\nQ 16.5 51.421875 16.5 36.375 \r\nQ 16.5 21.390625 20.328125 13.890625 \r\nQ 24.171875 6.390625 31.78125 6.390625 \r\nQ 39.453125 6.390625 43.28125 13.890625 \r\nQ 47.125 21.390625 47.125 36.375 \r\nQ 47.125 51.421875 43.28125 58.90625 \r\nQ 39.453125 66.40625 31.78125 66.40625 \r\nz\r\nM 31.78125 74.21875 \r\nQ 44.046875 74.21875 50.515625 64.515625 \r\nQ 56.984375 54.828125 56.984375 36.375 \r\nQ 56.984375 17.96875 50.515625 8.265625 \r\nQ 44.046875 -1.421875 31.78125 -1.421875 \r\nQ 19.53125 -1.421875 13.0625 8.265625 \r\nQ 6.59375 17.96875 6.59375 36.375 \r\nQ 6.59375 54.828125 13.0625 64.515625 \r\nQ 19.53125 74.21875 31.78125 74.21875 \r\nz\r\n\" id=\"DejaVuSans-48\"/>\r\n       </defs>\r\n       <use xlink:href=\"#DejaVuSans-48\"/>\r\n      </g>\r\n     </g>\r\n    </g>\r\n    <g id=\"xtick_2\">\r\n     <g id=\"line2d_2\">\r\n      <g>\r\n       <use style=\"stroke:#000000;stroke-width:0.8;\" x=\"148.170505\" xlink:href=\"#meead45dba4\" y=\"143.1\"/>\r\n      </g>\r\n     </g>\r\n     <g id=\"text_2\">\r\n      <!-- 2 -->\r\n      <g transform=\"translate(144.989255 157.698438)scale(0.1 -0.1)\">\r\n       <defs>\r\n        <path d=\"M 19.1875 8.296875 \r\nL 53.609375 8.296875 \r\nL 53.609375 0 \r\nL 7.328125 0 \r\nL 7.328125 8.296875 \r\nQ 12.9375 14.109375 22.625 23.890625 \r\nQ 32.328125 33.6875 34.8125 36.53125 \r\nQ 39.546875 41.84375 41.421875 45.53125 \r\nQ 43.3125 49.21875 43.3125 52.78125 \r\nQ 43.3125 58.59375 39.234375 62.25 \r\nQ 35.15625 65.921875 28.609375 65.921875 \r\nQ 23.96875 65.921875 18.8125 64.3125 \r\nQ 13.671875 62.703125 7.8125 59.421875 \r\nL 7.8125 69.390625 \r\nQ 13.765625 71.78125 18.9375 73 \r\nQ 24.125 74.21875 28.421875 74.21875 \r\nQ 39.75 74.21875 46.484375 68.546875 \r\nQ 53.21875 62.890625 53.21875 53.421875 \r\nQ 53.21875 48.921875 51.53125 44.890625 \r\nQ 49.859375 40.875 45.40625 35.40625 \r\nQ 44.1875 33.984375 37.640625 27.21875 \r\nQ 31.109375 20.453125 19.1875 8.296875 \r\nz\r\n\" id=\"DejaVuSans-50\"/>\r\n       </defs>\r\n       <use xlink:href=\"#DejaVuSans-50\"/>\r\n      </g>\r\n     </g>\r\n    </g>\r\n    <g id=\"xtick_3\">\r\n     <g id=\"line2d_3\">\r\n      <g>\r\n       <use style=\"stroke:#000000;stroke-width:0.8;\" x=\"203.90345\" xlink:href=\"#meead45dba4\" y=\"143.1\"/>\r\n      </g>\r\n     </g>\r\n     <g id=\"text_3\">\r\n      <!-- 4 -->\r\n      <g transform=\"translate(200.7222 157.698438)scale(0.1 -0.1)\">\r\n       <defs>\r\n        <path d=\"M 37.796875 64.3125 \r\nL 12.890625 25.390625 \r\nL 37.796875 25.390625 \r\nz\r\nM 35.203125 72.90625 \r\nL 47.609375 72.90625 \r\nL 47.609375 25.390625 \r\nL 58.015625 25.390625 \r\nL 58.015625 17.1875 \r\nL 47.609375 17.1875 \r\nL 47.609375 0 \r\nL 37.796875 0 \r\nL 37.796875 17.1875 \r\nL 4.890625 17.1875 \r\nL 4.890625 26.703125 \r\nz\r\n\" id=\"DejaVuSans-52\"/>\r\n       </defs>\r\n       <use xlink:href=\"#DejaVuSans-52\"/>\r\n      </g>\r\n     </g>\r\n    </g>\r\n   </g>\r\n   <g id=\"matplotlib.axis_2\">\r\n    <g id=\"ytick_1\">\r\n     <g id=\"line2d_4\">\r\n      <defs>\r\n       <path d=\"M 0 0 \r\nL -3.5 0 \r\n\" id=\"m6848a39fd6\" style=\"stroke:#000000;stroke-width:0.8;\"/>\r\n      </defs>\r\n      <g>\r\n       <use style=\"stroke:#000000;stroke-width:0.8;\" x=\"38.482813\" xlink:href=\"#m6848a39fd6\" y=\"129.671245\"/>\r\n      </g>\r\n     </g>\r\n     <g id=\"text_4\">\r\n      <!-- −2.5 -->\r\n      <g transform=\"translate(7.2 133.470464)scale(0.1 -0.1)\">\r\n       <defs>\r\n        <path d=\"M 10.59375 35.5 \r\nL 73.1875 35.5 \r\nL 73.1875 27.203125 \r\nL 10.59375 27.203125 \r\nz\r\n\" id=\"DejaVuSans-8722\"/>\r\n        <path d=\"M 10.6875 12.40625 \r\nL 21 12.40625 \r\nL 21 0 \r\nL 10.6875 0 \r\nz\r\n\" id=\"DejaVuSans-46\"/>\r\n        <path d=\"M 10.796875 72.90625 \r\nL 49.515625 72.90625 \r\nL 49.515625 64.59375 \r\nL 19.828125 64.59375 \r\nL 19.828125 46.734375 \r\nQ 21.96875 47.46875 24.109375 47.828125 \r\nQ 26.265625 48.1875 28.421875 48.1875 \r\nQ 40.625 48.1875 47.75 41.5 \r\nQ 54.890625 34.8125 54.890625 23.390625 \r\nQ 54.890625 11.625 47.5625 5.09375 \r\nQ 40.234375 -1.421875 26.90625 -1.421875 \r\nQ 22.3125 -1.421875 17.546875 -0.640625 \r\nQ 12.796875 0.140625 7.71875 1.703125 \r\nL 7.71875 11.625 \r\nQ 12.109375 9.234375 16.796875 8.0625 \r\nQ 21.484375 6.890625 26.703125 6.890625 \r\nQ 35.15625 6.890625 40.078125 11.328125 \r\nQ 45.015625 15.765625 45.015625 23.390625 \r\nQ 45.015625 31 40.078125 35.4375 \r\nQ 35.15625 39.890625 26.703125 39.890625 \r\nQ 22.75 39.890625 18.8125 39.015625 \r\nQ 14.890625 38.140625 10.796875 36.28125 \r\nz\r\n\" id=\"DejaVuSans-53\"/>\r\n       </defs>\r\n       <use xlink:href=\"#DejaVuSans-8722\"/>\r\n       <use x=\"83.789062\" xlink:href=\"#DejaVuSans-50\"/>\r\n       <use x=\"147.412109\" xlink:href=\"#DejaVuSans-46\"/>\r\n       <use x=\"179.199219\" xlink:href=\"#DejaVuSans-53\"/>\r\n      </g>\r\n     </g>\r\n    </g>\r\n    <g id=\"ytick_2\">\r\n     <g id=\"line2d_5\">\r\n      <g>\r\n       <use style=\"stroke:#000000;stroke-width:0.8;\" x=\"38.482813\" xlink:href=\"#m6848a39fd6\" y=\"104.920004\"/>\r\n      </g>\r\n     </g>\r\n     <g id=\"text_5\">\r\n      <!-- 0.0 -->\r\n      <g transform=\"translate(15.579688 108.719223)scale(0.1 -0.1)\">\r\n       <use xlink:href=\"#DejaVuSans-48\"/>\r\n       <use x=\"63.623047\" xlink:href=\"#DejaVuSans-46\"/>\r\n       <use x=\"95.410156\" xlink:href=\"#DejaVuSans-48\"/>\r\n      </g>\r\n     </g>\r\n    </g>\r\n    <g id=\"ytick_3\">\r\n     <g id=\"line2d_6\">\r\n      <g>\r\n       <use style=\"stroke:#000000;stroke-width:0.8;\" x=\"38.482813\" xlink:href=\"#m6848a39fd6\" y=\"80.168763\"/>\r\n      </g>\r\n     </g>\r\n     <g id=\"text_6\">\r\n      <!-- 2.5 -->\r\n      <g transform=\"translate(15.579688 83.967982)scale(0.1 -0.1)\">\r\n       <use xlink:href=\"#DejaVuSans-50\"/>\r\n       <use x=\"63.623047\" xlink:href=\"#DejaVuSans-46\"/>\r\n       <use x=\"95.410156\" xlink:href=\"#DejaVuSans-53\"/>\r\n      </g>\r\n     </g>\r\n    </g>\r\n    <g id=\"ytick_4\">\r\n     <g id=\"line2d_7\">\r\n      <g>\r\n       <use style=\"stroke:#000000;stroke-width:0.8;\" x=\"38.482813\" xlink:href=\"#m6848a39fd6\" y=\"55.417522\"/>\r\n      </g>\r\n     </g>\r\n     <g id=\"text_7\">\r\n      <!-- 5.0 -->\r\n      <g transform=\"translate(15.579688 59.216741)scale(0.1 -0.1)\">\r\n       <use xlink:href=\"#DejaVuSans-53\"/>\r\n       <use x=\"63.623047\" xlink:href=\"#DejaVuSans-46\"/>\r\n       <use x=\"95.410156\" xlink:href=\"#DejaVuSans-48\"/>\r\n      </g>\r\n     </g>\r\n    </g>\r\n    <g id=\"ytick_5\">\r\n     <g id=\"line2d_8\">\r\n      <g>\r\n       <use style=\"stroke:#000000;stroke-width:0.8;\" x=\"38.482813\" xlink:href=\"#m6848a39fd6\" y=\"30.666281\"/>\r\n      </g>\r\n     </g>\r\n     <g id=\"text_8\">\r\n      <!-- 7.5 -->\r\n      <g transform=\"translate(15.579688 34.465499)scale(0.1 -0.1)\">\r\n       <defs>\r\n        <path d=\"M 8.203125 72.90625 \r\nL 55.078125 72.90625 \r\nL 55.078125 68.703125 \r\nL 28.609375 0 \r\nL 18.3125 0 \r\nL 43.21875 64.59375 \r\nL 8.203125 64.59375 \r\nz\r\n\" id=\"DejaVuSans-55\"/>\r\n       </defs>\r\n       <use xlink:href=\"#DejaVuSans-55\"/>\r\n       <use x=\"63.623047\" xlink:href=\"#DejaVuSans-46\"/>\r\n       <use x=\"95.410156\" xlink:href=\"#DejaVuSans-53\"/>\r\n      </g>\r\n     </g>\r\n    </g>\r\n   </g>\r\n   <g id=\"patch_3\">\r\n    <path d=\"M 38.482813 143.1 \r\nL 38.482813 7.2 \r\n\" style=\"fill:none;stroke:#000000;stroke-linecap:square;stroke-linejoin:miter;stroke-width:0.8;\"/>\r\n   </g>\r\n   <g id=\"patch_4\">\r\n    <path d=\"M 233.782813 143.1 \r\nL 233.782813 7.2 \r\n\" style=\"fill:none;stroke:#000000;stroke-linecap:square;stroke-linejoin:miter;stroke-width:0.8;\"/>\r\n   </g>\r\n   <g id=\"patch_5\">\r\n    <path d=\"M 38.482813 143.1 \r\nL 233.782813 143.1 \r\n\" style=\"fill:none;stroke:#000000;stroke-linecap:square;stroke-linejoin:miter;stroke-width:0.8;\"/>\r\n   </g>\r\n   <g id=\"patch_6\">\r\n    <path d=\"M 38.482813 7.2 \r\nL 233.782813 7.2 \r\n\" style=\"fill:none;stroke:#000000;stroke-linecap:square;stroke-linejoin:miter;stroke-width:0.8;\"/>\r\n   </g>\r\n  </g>\r\n </g>\r\n <defs>\r\n  <clipPath id=\"pe4070778ea\">\r\n   <rect height=\"135.9\" width=\"195.3\" x=\"38.482813\" y=\"7.2\"/>\r\n  </clipPath>\r\n </defs>\r\n</svg>\r\n"
     },
     "metadata": {
      "needs_background": "light"
     }
    }
   ],
   "source": [
    "d2l.set_figsize()\n",
    "d2l.plt.scatter(d2l.numpy(data[:100, 0]), d2l.numpy(data[:100, 1]));\n",
    "print(f'The covariance matrix is\\n{d2l.matmul(tf.transpose(A), A)}')"
   ]
  },
  {
   "cell_type": "code",
   "execution_count": 5,
   "metadata": {},
   "outputs": [],
   "source": [
    "batch_size = 8\n",
    "data_iter = d2l.load_array((data,), batch_size)"
   ]
  },
  {
   "cell_type": "code",
   "execution_count": 6,
   "metadata": {},
   "outputs": [],
   "source": [
    "net_G = tf.keras.Sequential()\n",
    "net_G.add(tf.keras.layers.Dense(2))"
   ]
  },
  {
   "cell_type": "markdown",
   "metadata": {},
   "source": [
    "tf.keras.activations.tanh(a)\n",
    "https://www.tensorflow.org/api_docs/python/tf/keras/activations/tanh\n"
   ]
  },
  {
   "cell_type": "code",
   "execution_count": 7,
   "metadata": {},
   "outputs": [],
   "source": [
    "net_D = tf.keras.Sequential()\n",
    "net_D.add(tf.keras.layers.Dense(5, activation='tanh'))\n",
    "net_D.add(tf.keras.layers.Dense(3, activation='tanh'))\n",
    "net_D.add(tf.keras.layers.Dense(1))"
   ]
  },
  {
   "cell_type": "markdown",
   "metadata": {},
   "source": [
    "with tf.GradientTape() as t:\n",
    "http://preview.d2l.ai/d2l-en/master/chapter_preliminaries/autograd.html\n"
   ]
  },
  {
   "cell_type": "markdown",
   "metadata": {},
   "source": [
    "t.gradient(y, x) \n",
    "t.gradient(loss_D, trainer_D) "
   ]
  },
  {
   "cell_type": "code",
   "execution_count": 8,
   "metadata": {},
   "outputs": [],
   "source": [
    "#@save\n",
    "def update_D(X, Z, net_D, net_G, loss, trainer_D):\n",
    "    \"\"\"Update discriminator.\"\"\"\n",
    "    batch_size = np.array(X).shape[0]\n",
    "    ones = tf.ones((batch_size,), tf.float32)\n",
    "    zeros = tf.zeros((batch_size,), tf.float32)\n",
    "    with tf.GradientTape() as t:\n",
    "        real_Y = net_D(tf.convert_to_tensor(X))\n",
    "        fake_X = net_G(tf.convert_to_tensor(Z))\n",
    "        # Do not need to compute gradient for `net_G`, detach it from\n",
    "        # computing gradients.\n",
    "        fake_Y = net_D(tf.stop_gradient(fake_X))\n",
    "        loss_D = (loss(real_Y, ones) + loss(fake_Y, zeros)) / 2\n",
    "    t.gradient(loss_D, trainer_D) \n",
    "    trainer_D.step(batch_size)\n",
    "    return float(loss_D.sum())"
   ]
  },
  {
   "cell_type": "code",
   "execution_count": 9,
   "metadata": {},
   "outputs": [],
   "source": [
    "#@save\n",
    "def update_G(Z, net_D, net_G, loss, trainer_G):\n",
    "    \"\"\"Update generator.\"\"\"\n",
    "    batch_size = np.array(Z).shape[0]\n",
    "    ones = tf.ones((batch_size,), tf.float32)\n",
    "    with tf.GradientTape() as t:\n",
    "        # We could reuse `fake_X` from `update_D` to save computation\n",
    "        fake_X = net_G(tf.convert_to_tensor(Z))\n",
    "        # Recomputing `fake_Y` is needed since `net_D` is changed\n",
    "        fake_Y = net_D(fake_X)\n",
    "        loss_G = loss(fake_Y, ones)\n",
    "    t.gradient(loss_G, trainer_G) \n",
    "    trainer_G.step(batch_size)\n",
    "    return float(loss_G.sum())"
   ]
  },
  {
   "cell_type": "markdown",
   "metadata": {},
   "source": [
    "https://www.google.com/search?q=numpy()+tensorflow&rlz=1C1GCEA_enJP909HK909&oq=numpy()+tensorflow&aqs=chrome..69i57j0l7.2792j0j1&sourceid=chrome&ie=UTF-8"
   ]
  },
  {
   "cell_type": "markdown",
   "metadata": {},
   "source": [
    "https://www.tensorflow.org/api_docs/python/tf/keras/optimizers/Adam\n",
    "tf.keras.optimizers.Adam(learning_rate=0.1)\n",
    "m.compile\n",
    "m = tf.keras.models.Sequential([tf.keras.layers.Dense(10)])\n",
    "m.compile(opt, loss='mse')"
   ]
  },
  {
   "cell_type": "markdown",
   "metadata": {},
   "source": [
    "https://stackoverflow.com/questions/55683729/bcewithlogitsloss-in-keras\n",
    "https://www.tensorflow.org/api_docs/python/tf/keras/losses/BinaryCrossentropy\n"
   ]
  },
  {
   "cell_type": "markdown",
   "metadata": {},
   "source": [
    "def weight_variable(shape, w=0.1):\n",
    "  initial = tf.truncated_normal(shape, stddev=w)\n",
    "  return tf.Variable(initial)\n",
    "  https://stackoverflow.com/questions/43489697/tensorflow-weight-initialization\n",
    "\n",
    "  The values generated are similar to values from a tf.keras.initializers.RandomNormal initializer except that values more than two standard deviations from the mean are discarded and re-drawn.\n",
    "  https://keras.io/api/layers/initializers/"
   ]
  },
  {
   "cell_type": "markdown",
   "metadata": {},
   "source": [
    "tf.Variable(initial_value=w_init(\n",
    "            shape=(input_dim, unit), dtype=tf.float32), trainable=True)\n",
    "            https://zhuanlan.zhihu.com/p/59481536"
   ]
  },
  {
   "cell_type": "markdown",
   "metadata": {},
   "source": [
    "https://keras.io/api/layers/initializers/"
   ]
  },
  {
   "cell_type": "markdown",
   "metadata": {},
   "source": [
    "numpy.array\n",
    "https://stackoverflow.com/questions/41198144/attributeerror-tuple-object-has-no-attribute-shape"
   ]
  },
  {
   "cell_type": "markdown",
   "metadata": {},
   "source": [
    "https://github.com/tensorflow/tensorflow/issues/29972"
   ]
  },
  {
   "cell_type": "markdown",
   "metadata": {},
   "source": [
    "http://preview.d2l.ai/d2l-en/master/chapter_preliminaries/autograd.html?highlight=detach"
   ]
  },
  {
   "cell_type": "code",
   "execution_count": 10,
   "metadata": {},
   "outputs": [],
   "source": [
    "def train(net_D, net_G, data_iter, num_epochs, lr_D, lr_G, latent_dim, data):\n",
    "    loss = tf.keras.losses.BinaryCrossentropy(reduction=\n",
    "                                tf.keras.losses.Reduction.SUM)\n",
    "    tf.keras.initializers.RandomNormal(net_D, stddev=0.02)\n",
    "    tf.keras.initializers.RandomNormal(net_G, stddev=0.02)\n",
    "    trainer_D = net_D.compile(tf.keras.optimizers.Adam(learning_rate=lr_D), loss='mse')\n",
    "    trainer_G = net_G.compile(tf.keras.optimizers.Adam(learning_rate=lr_G), loss='mse')\n",
    "    animator = d2l.Animator(xlabel='epoch', ylabel='loss',\n",
    "                            xlim=[1, num_epochs], nrows=2, figsize=(5, 5),\n",
    "                            legend=['discriminator', 'generator'])\n",
    "    animator.fig.subplots_adjust(hspace=0.3)\n",
    "    for epoch in range(num_epochs):\n",
    "        # Train one epoch\n",
    "        timer = d2l.Timer()\n",
    "        metric = d2l.Accumulator(3)  # loss_D, loss_G, num_examples\n",
    "        for X in data_iter:\n",
    "            batch_size = np.array(X).shape[0]\n",
    "            Z = d2l.normal([batch_size, latent_dim], 0, 1, tf.float32)\n",
    "            metric.add(update_D(X, Z, net_D, net_G, loss, trainer_D),\n",
    "                       update_G(Z, net_D, net_G, loss, trainer_G),\n",
    "                       batch_size)\n",
    "        # Visualize generated examples\n",
    "        Z = d2l.normal([100, latent_dim], 0, 1, tf.float32)\n",
    "        fake_X = net_G(Z).Tensor.numpy()\n",
    "        animator.axes[1].cla()\n",
    "        animator.axes[1].scatter(data[:, 0], data[:, 1])\n",
    "        animator.axes[1].scatter(fake_X[:, 0], fake_X[:, 1])\n",
    "        animator.axes[1].legend(['real', 'generated'])\n",
    "        # Show the losses\n",
    "        loss_D, loss_G = metric[0]/metric[2], metric[1]/metric[2]\n",
    "        animator.add(epoch + 1, (loss_D, loss_G))\n",
    "    print(f'loss_D {loss_D:.3f}, loss_G {loss_G:.3f}, '\n",
    "          f'{metric[2] / timer.stop():.1f} examples/sec')"
   ]
  },
  {
   "cell_type": "code",
   "execution_count": 11,
   "metadata": {
    "tags": []
   },
   "outputs": [
    {
     "output_type": "error",
     "ename": "AttributeError",
     "evalue": "'tensorflow.python.framework.ops.EagerTensor' object has no attribute 'stop_gradient'",
     "traceback": [
      "\u001b[1;31m---------------------------------------------------------------------------\u001b[0m",
      "\u001b[1;31mAttributeError\u001b[0m                            Traceback (most recent call last)",
      "\u001b[1;32m<ipython-input-11-251159593cac>\u001b[0m in \u001b[0;36m<module>\u001b[1;34m\u001b[0m\n\u001b[0;32m      1\u001b[0m \u001b[0mlr_D\u001b[0m\u001b[1;33m,\u001b[0m \u001b[0mlr_G\u001b[0m\u001b[1;33m,\u001b[0m \u001b[0mlatent_dim\u001b[0m\u001b[1;33m,\u001b[0m \u001b[0mnum_epochs\u001b[0m \u001b[1;33m=\u001b[0m \u001b[1;36m0.05\u001b[0m\u001b[1;33m,\u001b[0m \u001b[1;36m0.005\u001b[0m\u001b[1;33m,\u001b[0m \u001b[1;36m2\u001b[0m\u001b[1;33m,\u001b[0m \u001b[1;36m20\u001b[0m\u001b[1;33m\u001b[0m\u001b[1;33m\u001b[0m\u001b[0m\n\u001b[0;32m      2\u001b[0m train(net_D, net_G, data_iter, num_epochs, lr_D, lr_G,\n\u001b[1;32m----> 3\u001b[1;33m       latent_dim, d2l.numpy(data[:100]))\n\u001b[0m",
      "\u001b[1;32m<ipython-input-10-1556e6dd1300>\u001b[0m in \u001b[0;36mtrain\u001b[1;34m(net_D, net_G, data_iter, num_epochs, lr_D, lr_G, latent_dim, data)\u001b[0m\n\u001b[0;32m     17\u001b[0m             \u001b[0mbatch_size\u001b[0m \u001b[1;33m=\u001b[0m \u001b[0mnp\u001b[0m\u001b[1;33m.\u001b[0m\u001b[0marray\u001b[0m\u001b[1;33m(\u001b[0m\u001b[0mX\u001b[0m\u001b[1;33m)\u001b[0m\u001b[1;33m.\u001b[0m\u001b[0mshape\u001b[0m\u001b[1;33m[\u001b[0m\u001b[1;36m0\u001b[0m\u001b[1;33m]\u001b[0m\u001b[1;33m\u001b[0m\u001b[1;33m\u001b[0m\u001b[0m\n\u001b[0;32m     18\u001b[0m             \u001b[0mZ\u001b[0m \u001b[1;33m=\u001b[0m \u001b[0md2l\u001b[0m\u001b[1;33m.\u001b[0m\u001b[0mnormal\u001b[0m\u001b[1;33m(\u001b[0m\u001b[1;33m[\u001b[0m\u001b[0mbatch_size\u001b[0m\u001b[1;33m,\u001b[0m \u001b[0mlatent_dim\u001b[0m\u001b[1;33m]\u001b[0m\u001b[1;33m,\u001b[0m \u001b[1;36m0\u001b[0m\u001b[1;33m,\u001b[0m \u001b[1;36m1\u001b[0m\u001b[1;33m,\u001b[0m \u001b[0mtf\u001b[0m\u001b[1;33m.\u001b[0m\u001b[0mfloat32\u001b[0m\u001b[1;33m)\u001b[0m\u001b[1;33m\u001b[0m\u001b[1;33m\u001b[0m\u001b[0m\n\u001b[1;32m---> 19\u001b[1;33m             metric.add(update_D(X, Z, net_D, net_G, loss, trainer_D),\n\u001b[0m\u001b[0;32m     20\u001b[0m                        \u001b[0mupdate_G\u001b[0m\u001b[1;33m(\u001b[0m\u001b[0mZ\u001b[0m\u001b[1;33m,\u001b[0m \u001b[0mnet_D\u001b[0m\u001b[1;33m,\u001b[0m \u001b[0mnet_G\u001b[0m\u001b[1;33m,\u001b[0m \u001b[0mloss\u001b[0m\u001b[1;33m,\u001b[0m \u001b[0mtrainer_G\u001b[0m\u001b[1;33m)\u001b[0m\u001b[1;33m,\u001b[0m\u001b[1;33m\u001b[0m\u001b[1;33m\u001b[0m\u001b[0m\n\u001b[0;32m     21\u001b[0m                        batch_size)\n",
      "\u001b[1;32m<ipython-input-8-154ac51e43a3>\u001b[0m in \u001b[0;36mupdate_D\u001b[1;34m(X, Z, net_D, net_G, loss, trainer_D)\u001b[0m\n\u001b[0;32m     10\u001b[0m         \u001b[1;31m# Do not need to compute gradient for `net_G`, detach it from\u001b[0m\u001b[1;33m\u001b[0m\u001b[1;33m\u001b[0m\u001b[1;33m\u001b[0m\u001b[0m\n\u001b[0;32m     11\u001b[0m         \u001b[1;31m# computing gradients.\u001b[0m\u001b[1;33m\u001b[0m\u001b[1;33m\u001b[0m\u001b[1;33m\u001b[0m\u001b[0m\n\u001b[1;32m---> 12\u001b[1;33m         \u001b[0mfake_Y\u001b[0m \u001b[1;33m=\u001b[0m \u001b[0mnet_D\u001b[0m\u001b[1;33m(\u001b[0m\u001b[0mfake_X\u001b[0m\u001b[1;33m.\u001b[0m\u001b[0mstop_gradient\u001b[0m\u001b[1;33m(\u001b[0m\u001b[1;33m)\u001b[0m\u001b[1;33m)\u001b[0m\u001b[1;33m\u001b[0m\u001b[1;33m\u001b[0m\u001b[0m\n\u001b[0m\u001b[0;32m     13\u001b[0m         \u001b[0mloss_D\u001b[0m \u001b[1;33m=\u001b[0m \u001b[1;33m(\u001b[0m\u001b[0mloss\u001b[0m\u001b[1;33m(\u001b[0m\u001b[0mreal_Y\u001b[0m\u001b[1;33m,\u001b[0m \u001b[0mones\u001b[0m\u001b[1;33m)\u001b[0m \u001b[1;33m+\u001b[0m \u001b[0mloss\u001b[0m\u001b[1;33m(\u001b[0m\u001b[0mfake_Y\u001b[0m\u001b[1;33m,\u001b[0m \u001b[0mzeros\u001b[0m\u001b[1;33m)\u001b[0m\u001b[1;33m)\u001b[0m \u001b[1;33m/\u001b[0m \u001b[1;36m2\u001b[0m\u001b[1;33m\u001b[0m\u001b[1;33m\u001b[0m\u001b[0m\n\u001b[0;32m     14\u001b[0m     \u001b[0mt\u001b[0m\u001b[1;33m.\u001b[0m\u001b[0mgradient\u001b[0m\u001b[1;33m(\u001b[0m\u001b[0mloss_D\u001b[0m\u001b[1;33m,\u001b[0m \u001b[0mtrainer_D\u001b[0m\u001b[1;33m)\u001b[0m\u001b[1;33m\u001b[0m\u001b[1;33m\u001b[0m\u001b[0m\n",
      "\u001b[1;31mAttributeError\u001b[0m: 'tensorflow.python.framework.ops.EagerTensor' object has no attribute 'stop_gradient'"
     ]
    }
   ],
   "source": [
    "lr_D, lr_G, latent_dim, num_epochs = 0.05, 0.005, 2, 20\n",
    "train(net_D, net_G, data_iter, num_epochs, lr_D, lr_G,\n",
    "      latent_dim, d2l.numpy(data[:100]))"
   ]
  },
  {
   "cell_type": "markdown",
   "metadata": {},
   "source": [
    "https://www.tensorflow.org/api_docs/python/tf/ones"
   ]
  }
 ]
}