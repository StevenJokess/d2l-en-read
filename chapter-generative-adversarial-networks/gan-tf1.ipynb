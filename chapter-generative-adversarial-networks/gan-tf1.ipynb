{
 "metadata": {
  "language_info": {
   "codemirror_mode": {
    "name": "ipython",
    "version": 3
   },
   "file_extension": ".py",
   "mimetype": "text/x-python",
   "name": "python",
   "nbconvert_exporter": "python",
   "pygments_lexer": "ipython3",
   "version": "3.7.8-final"
  },
  "orig_nbformat": 2,
  "kernelspec": {
   "name": "python37864bittf2conda1de394c9651a4d19aa25641a40b8d2d8",
   "display_name": "Python 3.7.8 64-bit ('tf2': conda)"
  }
 },
 "nbformat": 4,
 "nbformat_minor": 2,
 "cells": [
  {
   "cell_type": "markdown",
   "metadata": {},
   "source": [
    "http://preview.d2l.ai/d2l-en/master/chapter_generative-adversarial-networks/gan.html"
   ]
  },
  {
   "cell_type": "code",
   "execution_count": 1,
   "metadata": {},
   "outputs": [],
   "source": [
    "%matplotlib inline\n",
    "from d2l import tensorflow as d2l\n",
    "import tensorflow as tf\n",
    "import numpy as np"
   ]
  },
  {
   "cell_type": "markdown",
   "metadata": {},
   "source": [
    "https://www.tensorflow.org/api_docs/python/tf/random/normal"
   ]
  },
  {
   "cell_type": "markdown",
   "metadata": {},
   "source": [
    "https://www.tensorflow.org/api_docs/python/tf/norm"
   ]
  },
  {
   "cell_type": "code",
   "execution_count": 2,
   "metadata": {},
   "outputs": [],
   "source": [
    "X = d2l.normal([1000, 2], 0.0, 1, tf.float32)"
   ]
  },
  {
   "cell_type": "code",
   "execution_count": 3,
   "metadata": {},
   "outputs": [],
   "source": [
    "A = d2l.tensor([[1, 2], [-0.1, 0.5]], tf.float32)\n",
    "b = d2l.tensor([1, 2], tf.float32)\n",
    "data = d2l.matmul(X, A) + b"
   ]
  },
  {
   "cell_type": "code",
   "execution_count": 4,
   "metadata": {
    "tags": []
   },
   "outputs": [
    {
     "output_type": "stream",
     "name": "stdout",
     "text": "The covariance matrix is\n[[1.01 1.95]\n [1.95 4.25]]\n"
    },
    {
     "output_type": "display_data",
     "data": {
      "text/plain": "<Figure size 252x180 with 1 Axes>",
      "image/svg+xml": "<?xml version=\"1.0\" encoding=\"utf-8\" standalone=\"no\"?>\r\n<!DOCTYPE svg PUBLIC \"-//W3C//DTD SVG 1.1//EN\"\r\n  \"http://www.w3.org/Graphics/SVG/1.1/DTD/svg11.dtd\">\r\n<!-- Created with matplotlib (https://matplotlib.org/) -->\r\n<svg height=\"169.516888pt\" version=\"1.1\" viewBox=\"0 0 231.442187 169.516888\" width=\"231.442187pt\" xmlns=\"http://www.w3.org/2000/svg\" xmlns:xlink=\"http://www.w3.org/1999/xlink\">\r\n <metadata>\r\n  <rdf:RDF xmlns:cc=\"http://creativecommons.org/ns#\" xmlns:dc=\"http://purl.org/dc/elements/1.1/\" xmlns:rdf=\"http://www.w3.org/1999/02/22-rdf-syntax-ns#\">\r\n   <cc:Work>\r\n    <dc:type rdf:resource=\"http://purl.org/dc/dcmitype/StillImage\"/>\r\n    <dc:date>2020-09-04T18:30:25.442153</dc:date>\r\n    <dc:format>image/svg+xml</dc:format>\r\n    <dc:creator>\r\n     <cc:Agent>\r\n      <dc:title>Matplotlib v3.3.1, https://matplotlib.org/</dc:title>\r\n     </cc:Agent>\r\n    </dc:creator>\r\n   </cc:Work>\r\n  </rdf:RDF>\r\n </metadata>\r\n <defs>\r\n  <style type=\"text/css\">*{stroke-linecap:butt;stroke-linejoin:round;}</style>\r\n </defs>\r\n <g id=\"figure_1\">\r\n  <g id=\"patch_1\">\r\n   <path d=\"M 0 169.516888 \r\nL 231.442187 169.516888 \r\nL 231.442187 0 \r\nL 0 0 \r\nz\r\n\" style=\"fill:none;\"/>\r\n  </g>\r\n  <g id=\"axes_1\">\r\n   <g id=\"patch_2\">\r\n    <path d=\"M 28.942188 145.638763 \r\nL 224.242188 145.638763 \r\nL 224.242188 9.738763 \r\nL 28.942188 9.738763 \r\nz\r\n\" style=\"fill:#ffffff;\"/>\r\n   </g>\r\n   <g id=\"PathCollection_1\">\r\n    <defs>\r\n     <path d=\"M 0 3 \r\nC 0.795609 3 1.55874 2.683901 2.12132 2.12132 \r\nC 2.683901 1.55874 3 0.795609 3 0 \r\nC 3 -0.795609 2.683901 -1.55874 2.12132 -2.12132 \r\nC 1.55874 -2.683901 0.795609 -3 0 -3 \r\nC -0.795609 -3 -1.55874 -2.683901 -2.12132 -2.12132 \r\nC -2.683901 -1.55874 -3 -0.795609 -3 0 \r\nC -3 0.795609 -2.683901 1.55874 -2.12132 2.12132 \r\nC -1.55874 2.683901 -0.795609 3 0 3 \r\nz\r\n\" id=\"mb9b82fedf9\" style=\"stroke:#1f77b4;\"/>\r\n    </defs>\r\n    <g clip-path=\"url(#p57919d83a7)\">\r\n     <use style=\"fill:#1f77b4;stroke:#1f77b4;\" x=\"150.929109\" xlink:href=\"#mb9b82fedf9\" y=\"55.517577\"/>\r\n     <use style=\"fill:#1f77b4;stroke:#1f77b4;\" x=\"83.211745\" xlink:href=\"#mb9b82fedf9\" y=\"105.942424\"/>\r\n     <use style=\"fill:#1f77b4;stroke:#1f77b4;\" x=\"111.336808\" xlink:href=\"#mb9b82fedf9\" y=\"87.092251\"/>\r\n     <use style=\"fill:#1f77b4;stroke:#1f77b4;\" x=\"42.959906\" xlink:href=\"#mb9b82fedf9\" y=\"139.46149\"/>\r\n     <use style=\"fill:#1f77b4;stroke:#1f77b4;\" x=\"153.540505\" xlink:href=\"#mb9b82fedf9\" y=\"52.96528\"/>\r\n     <use style=\"fill:#1f77b4;stroke:#1f77b4;\" x=\"170.769945\" xlink:href=\"#mb9b82fedf9\" y=\"38.430436\"/>\r\n     <use style=\"fill:#1f77b4;stroke:#1f77b4;\" x=\"160.806186\" xlink:href=\"#mb9b82fedf9\" y=\"50.710252\"/>\r\n     <use style=\"fill:#1f77b4;stroke:#1f77b4;\" x=\"129.229475\" xlink:href=\"#mb9b82fedf9\" y=\"60.951626\"/>\r\n     <use style=\"fill:#1f77b4;stroke:#1f77b4;\" x=\"134.932701\" xlink:href=\"#mb9b82fedf9\" y=\"72.206358\"/>\r\n     <use style=\"fill:#1f77b4;stroke:#1f77b4;\" x=\"125.787801\" xlink:href=\"#mb9b82fedf9\" y=\"71.02426\"/>\r\n     <use style=\"fill:#1f77b4;stroke:#1f77b4;\" x=\"155.785531\" xlink:href=\"#mb9b82fedf9\" y=\"69.610677\"/>\r\n     <use style=\"fill:#1f77b4;stroke:#1f77b4;\" x=\"83.099993\" xlink:href=\"#mb9b82fedf9\" y=\"114.225568\"/>\r\n     <use style=\"fill:#1f77b4;stroke:#1f77b4;\" x=\"85.096365\" xlink:href=\"#mb9b82fedf9\" y=\"89.248522\"/>\r\n     <use style=\"fill:#1f77b4;stroke:#1f77b4;\" x=\"167.191616\" xlink:href=\"#mb9b82fedf9\" y=\"43.600904\"/>\r\n     <use style=\"fill:#1f77b4;stroke:#1f77b4;\" x=\"96.609507\" xlink:href=\"#mb9b82fedf9\" y=\"97.353583\"/>\r\n     <use style=\"fill:#1f77b4;stroke:#1f77b4;\" x=\"53.555576\" xlink:href=\"#mb9b82fedf9\" y=\"118.755608\"/>\r\n     <use style=\"fill:#1f77b4;stroke:#1f77b4;\" x=\"148.274584\" xlink:href=\"#mb9b82fedf9\" y=\"40.517926\"/>\r\n     <use style=\"fill:#1f77b4;stroke:#1f77b4;\" x=\"124.710554\" xlink:href=\"#mb9b82fedf9\" y=\"66.921005\"/>\r\n     <use style=\"fill:#1f77b4;stroke:#1f77b4;\" x=\"76.036212\" xlink:href=\"#mb9b82fedf9\" y=\"114.474719\"/>\r\n     <use style=\"fill:#1f77b4;stroke:#1f77b4;\" x=\"120.158388\" xlink:href=\"#mb9b82fedf9\" y=\"64.261327\"/>\r\n     <use style=\"fill:#1f77b4;stroke:#1f77b4;\" x=\"167.817707\" xlink:href=\"#mb9b82fedf9\" y=\"47.444194\"/>\r\n     <use style=\"fill:#1f77b4;stroke:#1f77b4;\" x=\"91.590962\" xlink:href=\"#mb9b82fedf9\" y=\"93.785724\"/>\r\n     <use style=\"fill:#1f77b4;stroke:#1f77b4;\" x=\"112.133965\" xlink:href=\"#mb9b82fedf9\" y=\"61.911373\"/>\r\n     <use style=\"fill:#1f77b4;stroke:#1f77b4;\" x=\"109.524522\" xlink:href=\"#mb9b82fedf9\" y=\"77.397972\"/>\r\n     <use style=\"fill:#1f77b4;stroke:#1f77b4;\" x=\"102.695823\" xlink:href=\"#mb9b82fedf9\" y=\"92.495162\"/>\r\n     <use style=\"fill:#1f77b4;stroke:#1f77b4;\" x=\"65.091377\" xlink:href=\"#mb9b82fedf9\" y=\"115.379028\"/>\r\n     <use style=\"fill:#1f77b4;stroke:#1f77b4;\" x=\"170.021129\" xlink:href=\"#mb9b82fedf9\" y=\"28.671945\"/>\r\n     <use style=\"fill:#1f77b4;stroke:#1f77b4;\" x=\"103.774485\" xlink:href=\"#mb9b82fedf9\" y=\"86.414328\"/>\r\n     <use style=\"fill:#1f77b4;stroke:#1f77b4;\" x=\"100.305353\" xlink:href=\"#mb9b82fedf9\" y=\"103.451283\"/>\r\n     <use style=\"fill:#1f77b4;stroke:#1f77b4;\" x=\"143.419605\" xlink:href=\"#mb9b82fedf9\" y=\"60.332849\"/>\r\n     <use style=\"fill:#1f77b4;stroke:#1f77b4;\" x=\"119.823966\" xlink:href=\"#mb9b82fedf9\" y=\"93.556269\"/>\r\n     <use style=\"fill:#1f77b4;stroke:#1f77b4;\" x=\"140.007206\" xlink:href=\"#mb9b82fedf9\" y=\"70.834742\"/>\r\n     <use style=\"fill:#1f77b4;stroke:#1f77b4;\" x=\"132.052742\" xlink:href=\"#mb9b82fedf9\" y=\"76.093202\"/>\r\n     <use style=\"fill:#1f77b4;stroke:#1f77b4;\" x=\"107.195164\" xlink:href=\"#mb9b82fedf9\" y=\"81.263456\"/>\r\n     <use style=\"fill:#1f77b4;stroke:#1f77b4;\" x=\"96.758543\" xlink:href=\"#mb9b82fedf9\" y=\"66.050709\"/>\r\n     <use style=\"fill:#1f77b4;stroke:#1f77b4;\" x=\"89.716937\" xlink:href=\"#mb9b82fedf9\" y=\"94.775973\"/>\r\n     <use style=\"fill:#1f77b4;stroke:#1f77b4;\" x=\"107.85442\" xlink:href=\"#mb9b82fedf9\" y=\"93.179175\"/>\r\n     <use style=\"fill:#1f77b4;stroke:#1f77b4;\" x=\"93.467286\" xlink:href=\"#mb9b82fedf9\" y=\"103.974401\"/>\r\n     <use style=\"fill:#1f77b4;stroke:#1f77b4;\" x=\"101.620546\" xlink:href=\"#mb9b82fedf9\" y=\"79.571735\"/>\r\n     <use style=\"fill:#1f77b4;stroke:#1f77b4;\" x=\"152.751488\" xlink:href=\"#mb9b82fedf9\" y=\"56.172243\"/>\r\n     <use style=\"fill:#1f77b4;stroke:#1f77b4;\" x=\"137.608288\" xlink:href=\"#mb9b82fedf9\" y=\"70.577902\"/>\r\n     <use style=\"fill:#1f77b4;stroke:#1f77b4;\" x=\"147.77492\" xlink:href=\"#mb9b82fedf9\" y=\"56.398344\"/>\r\n     <use style=\"fill:#1f77b4;stroke:#1f77b4;\" x=\"112.596972\" xlink:href=\"#mb9b82fedf9\" y=\"88.766595\"/>\r\n     <use style=\"fill:#1f77b4;stroke:#1f77b4;\" x=\"122.954713\" xlink:href=\"#mb9b82fedf9\" y=\"92.562554\"/>\r\n     <use style=\"fill:#1f77b4;stroke:#1f77b4;\" x=\"103.777441\" xlink:href=\"#mb9b82fedf9\" y=\"85.505496\"/>\r\n     <use style=\"fill:#1f77b4;stroke:#1f77b4;\" x=\"119.720907\" xlink:href=\"#mb9b82fedf9\" y=\"96.274956\"/>\r\n     <use style=\"fill:#1f77b4;stroke:#1f77b4;\" x=\"145.554761\" xlink:href=\"#mb9b82fedf9\" y=\"49.872488\"/>\r\n     <use style=\"fill:#1f77b4;stroke:#1f77b4;\" x=\"101.197902\" xlink:href=\"#mb9b82fedf9\" y=\"85.436321\"/>\r\n     <use style=\"fill:#1f77b4;stroke:#1f77b4;\" x=\"177.588681\" xlink:href=\"#mb9b82fedf9\" y=\"34.974379\"/>\r\n     <use style=\"fill:#1f77b4;stroke:#1f77b4;\" x=\"140.071301\" xlink:href=\"#mb9b82fedf9\" y=\"54.209219\"/>\r\n     <use style=\"fill:#1f77b4;stroke:#1f77b4;\" x=\"81.596302\" xlink:href=\"#mb9b82fedf9\" y=\"97.074385\"/>\r\n     <use style=\"fill:#1f77b4;stroke:#1f77b4;\" x=\"98.704451\" xlink:href=\"#mb9b82fedf9\" y=\"89.660112\"/>\r\n     <use style=\"fill:#1f77b4;stroke:#1f77b4;\" x=\"215.364915\" xlink:href=\"#mb9b82fedf9\" y=\"15.916036\"/>\r\n     <use style=\"fill:#1f77b4;stroke:#1f77b4;\" x=\"38.046828\" xlink:href=\"#mb9b82fedf9\" y=\"126.787234\"/>\r\n     <use style=\"fill:#1f77b4;stroke:#1f77b4;\" x=\"126.712117\" xlink:href=\"#mb9b82fedf9\" y=\"82.400192\"/>\r\n     <use style=\"fill:#1f77b4;stroke:#1f77b4;\" x=\"154.624593\" xlink:href=\"#mb9b82fedf9\" y=\"53.735653\"/>\r\n     <use style=\"fill:#1f77b4;stroke:#1f77b4;\" x=\"73.839145\" xlink:href=\"#mb9b82fedf9\" y=\"88.80048\"/>\r\n     <use style=\"fill:#1f77b4;stroke:#1f77b4;\" x=\"190.365261\" xlink:href=\"#mb9b82fedf9\" y=\"37.564397\"/>\r\n     <use style=\"fill:#1f77b4;stroke:#1f77b4;\" x=\"37.81946\" xlink:href=\"#mb9b82fedf9\" y=\"125.926608\"/>\r\n     <use style=\"fill:#1f77b4;stroke:#1f77b4;\" x=\"172.715014\" xlink:href=\"#mb9b82fedf9\" y=\"32.608974\"/>\r\n     <use style=\"fill:#1f77b4;stroke:#1f77b4;\" x=\"78.933706\" xlink:href=\"#mb9b82fedf9\" y=\"106.686547\"/>\r\n     <use style=\"fill:#1f77b4;stroke:#1f77b4;\" x=\"107.106275\" xlink:href=\"#mb9b82fedf9\" y=\"94.72989\"/>\r\n     <use style=\"fill:#1f77b4;stroke:#1f77b4;\" x=\"172.338523\" xlink:href=\"#mb9b82fedf9\" y=\"50.845652\"/>\r\n     <use style=\"fill:#1f77b4;stroke:#1f77b4;\" x=\"151.429571\" xlink:href=\"#mb9b82fedf9\" y=\"52.552487\"/>\r\n     <use style=\"fill:#1f77b4;stroke:#1f77b4;\" x=\"101.803419\" xlink:href=\"#mb9b82fedf9\" y=\"79.378596\"/>\r\n     <use style=\"fill:#1f77b4;stroke:#1f77b4;\" x=\"151.296171\" xlink:href=\"#mb9b82fedf9\" y=\"72.162546\"/>\r\n     <use style=\"fill:#1f77b4;stroke:#1f77b4;\" x=\"182.977398\" xlink:href=\"#mb9b82fedf9\" y=\"38.283828\"/>\r\n     <use style=\"fill:#1f77b4;stroke:#1f77b4;\" x=\"100.441518\" xlink:href=\"#mb9b82fedf9\" y=\"92.256658\"/>\r\n     <use style=\"fill:#1f77b4;stroke:#1f77b4;\" x=\"168.903436\" xlink:href=\"#mb9b82fedf9\" y=\"45.897557\"/>\r\n     <use style=\"fill:#1f77b4;stroke:#1f77b4;\" x=\"142.870823\" xlink:href=\"#mb9b82fedf9\" y=\"56.773277\"/>\r\n     <use style=\"fill:#1f77b4;stroke:#1f77b4;\" x=\"87.575373\" xlink:href=\"#mb9b82fedf9\" y=\"120.329725\"/>\r\n     <use style=\"fill:#1f77b4;stroke:#1f77b4;\" x=\"139.021097\" xlink:href=\"#mb9b82fedf9\" y=\"52.997789\"/>\r\n     <use style=\"fill:#1f77b4;stroke:#1f77b4;\" x=\"84.881828\" xlink:href=\"#mb9b82fedf9\" y=\"105.933033\"/>\r\n     <use style=\"fill:#1f77b4;stroke:#1f77b4;\" x=\"150.159776\" xlink:href=\"#mb9b82fedf9\" y=\"58.30073\"/>\r\n     <use style=\"fill:#1f77b4;stroke:#1f77b4;\" x=\"152.387996\" xlink:href=\"#mb9b82fedf9\" y=\"60.952125\"/>\r\n     <use style=\"fill:#1f77b4;stroke:#1f77b4;\" x=\"166.506167\" xlink:href=\"#mb9b82fedf9\" y=\"39.282746\"/>\r\n     <use style=\"fill:#1f77b4;stroke:#1f77b4;\" x=\"136.097288\" xlink:href=\"#mb9b82fedf9\" y=\"76.167489\"/>\r\n     <use style=\"fill:#1f77b4;stroke:#1f77b4;\" x=\"179.205556\" xlink:href=\"#mb9b82fedf9\" y=\"47.302562\"/>\r\n     <use style=\"fill:#1f77b4;stroke:#1f77b4;\" x=\"99.286602\" xlink:href=\"#mb9b82fedf9\" y=\"74.864474\"/>\r\n     <use style=\"fill:#1f77b4;stroke:#1f77b4;\" x=\"121.134707\" xlink:href=\"#mb9b82fedf9\" y=\"74.318424\"/>\r\n     <use style=\"fill:#1f77b4;stroke:#1f77b4;\" x=\"72.50754\" xlink:href=\"#mb9b82fedf9\" y=\"102.504803\"/>\r\n     <use style=\"fill:#1f77b4;stroke:#1f77b4;\" x=\"86.633046\" xlink:href=\"#mb9b82fedf9\" y=\"97.507531\"/>\r\n     <use style=\"fill:#1f77b4;stroke:#1f77b4;\" x=\"124.075498\" xlink:href=\"#mb9b82fedf9\" y=\"81.88259\"/>\r\n     <use style=\"fill:#1f77b4;stroke:#1f77b4;\" x=\"150.258897\" xlink:href=\"#mb9b82fedf9\" y=\"62.002447\"/>\r\n     <use style=\"fill:#1f77b4;stroke:#1f77b4;\" x=\"176.200757\" xlink:href=\"#mb9b82fedf9\" y=\"44.526374\"/>\r\n     <use style=\"fill:#1f77b4;stroke:#1f77b4;\" x=\"97.656596\" xlink:href=\"#mb9b82fedf9\" y=\"94.741792\"/>\r\n     <use style=\"fill:#1f77b4;stroke:#1f77b4;\" x=\"140.613345\" xlink:href=\"#mb9b82fedf9\" y=\"83.291494\"/>\r\n     <use style=\"fill:#1f77b4;stroke:#1f77b4;\" x=\"164.439233\" xlink:href=\"#mb9b82fedf9\" y=\"51.401261\"/>\r\n     <use style=\"fill:#1f77b4;stroke:#1f77b4;\" x=\"62.983396\" xlink:href=\"#mb9b82fedf9\" y=\"113.023202\"/>\r\n     <use style=\"fill:#1f77b4;stroke:#1f77b4;\" x=\"84.128618\" xlink:href=\"#mb9b82fedf9\" y=\"94.091876\"/>\r\n     <use style=\"fill:#1f77b4;stroke:#1f77b4;\" x=\"66.598855\" xlink:href=\"#mb9b82fedf9\" y=\"105.520907\"/>\r\n     <use style=\"fill:#1f77b4;stroke:#1f77b4;\" x=\"120.932988\" xlink:href=\"#mb9b82fedf9\" y=\"88.074411\"/>\r\n     <use style=\"fill:#1f77b4;stroke:#1f77b4;\" x=\"108.345521\" xlink:href=\"#mb9b82fedf9\" y=\"74.459065\"/>\r\n     <use style=\"fill:#1f77b4;stroke:#1f77b4;\" x=\"80.144599\" xlink:href=\"#mb9b82fedf9\" y=\"104.059387\"/>\r\n     <use style=\"fill:#1f77b4;stroke:#1f77b4;\" x=\"126.830803\" xlink:href=\"#mb9b82fedf9\" y=\"79.58441\"/>\r\n     <use style=\"fill:#1f77b4;stroke:#1f77b4;\" x=\"77.532092\" xlink:href=\"#mb9b82fedf9\" y=\"82.252577\"/>\r\n     <use style=\"fill:#1f77b4;stroke:#1f77b4;\" x=\"171.143858\" xlink:href=\"#mb9b82fedf9\" y=\"61.864937\"/>\r\n     <use style=\"fill:#1f77b4;stroke:#1f77b4;\" x=\"122.482772\" xlink:href=\"#mb9b82fedf9\" y=\"69.62585\"/>\r\n     <use style=\"fill:#1f77b4;stroke:#1f77b4;\" x=\"169.083406\" xlink:href=\"#mb9b82fedf9\" y=\"60.470122\"/>\r\n     <use style=\"fill:#1f77b4;stroke:#1f77b4;\" x=\"145.136236\" xlink:href=\"#mb9b82fedf9\" y=\"46.004727\"/>\r\n    </g>\r\n   </g>\r\n   <g id=\"matplotlib.axis_1\">\r\n    <g id=\"xtick_1\">\r\n     <g id=\"line2d_1\">\r\n      <defs>\r\n       <path d=\"M 0 0 \r\nL 0 3.5 \r\n\" id=\"m6638d2ecae\" style=\"stroke:#000000;stroke-width:0.8;\"/>\r\n      </defs>\r\n      <g>\r\n       <use style=\"stroke:#000000;stroke-width:0.8;\" x=\"35.038898\" xlink:href=\"#m6638d2ecae\" y=\"145.638763\"/>\r\n      </g>\r\n     </g>\r\n     <g id=\"text_1\">\r\n      <!-- −1 -->\r\n      <g transform=\"translate(27.667804 160.237201)scale(0.1 -0.1)\">\r\n       <defs>\r\n        <path d=\"M 10.59375 35.5 \r\nL 73.1875 35.5 \r\nL 73.1875 27.203125 \r\nL 10.59375 27.203125 \r\nz\r\n\" id=\"DejaVuSans-8722\"/>\r\n        <path d=\"M 12.40625 8.296875 \r\nL 28.515625 8.296875 \r\nL 28.515625 63.921875 \r\nL 10.984375 60.40625 \r\nL 10.984375 69.390625 \r\nL 28.421875 72.90625 \r\nL 38.28125 72.90625 \r\nL 38.28125 8.296875 \r\nL 54.390625 8.296875 \r\nL 54.390625 0 \r\nL 12.40625 0 \r\nz\r\n\" id=\"DejaVuSans-49\"/>\r\n       </defs>\r\n       <use xlink:href=\"#DejaVuSans-8722\"/>\r\n       <use x=\"83.789062\" xlink:href=\"#DejaVuSans-49\"/>\r\n      </g>\r\n     </g>\r\n    </g>\r\n    <g id=\"xtick_2\">\r\n     <g id=\"line2d_2\">\r\n      <g>\r\n       <use style=\"stroke:#000000;stroke-width:0.8;\" x=\"71.830181\" xlink:href=\"#m6638d2ecae\" y=\"145.638763\"/>\r\n      </g>\r\n     </g>\r\n     <g id=\"text_2\">\r\n      <!-- 0 -->\r\n      <g transform=\"translate(68.648931 160.237201)scale(0.1 -0.1)\">\r\n       <defs>\r\n        <path d=\"M 31.78125 66.40625 \r\nQ 24.171875 66.40625 20.328125 58.90625 \r\nQ 16.5 51.421875 16.5 36.375 \r\nQ 16.5 21.390625 20.328125 13.890625 \r\nQ 24.171875 6.390625 31.78125 6.390625 \r\nQ 39.453125 6.390625 43.28125 13.890625 \r\nQ 47.125 21.390625 47.125 36.375 \r\nQ 47.125 51.421875 43.28125 58.90625 \r\nQ 39.453125 66.40625 31.78125 66.40625 \r\nz\r\nM 31.78125 74.21875 \r\nQ 44.046875 74.21875 50.515625 64.515625 \r\nQ 56.984375 54.828125 56.984375 36.375 \r\nQ 56.984375 17.96875 50.515625 8.265625 \r\nQ 44.046875 -1.421875 31.78125 -1.421875 \r\nQ 19.53125 -1.421875 13.0625 8.265625 \r\nQ 6.59375 17.96875 6.59375 36.375 \r\nQ 6.59375 54.828125 13.0625 64.515625 \r\nQ 19.53125 74.21875 31.78125 74.21875 \r\nz\r\n\" id=\"DejaVuSans-48\"/>\r\n       </defs>\r\n       <use xlink:href=\"#DejaVuSans-48\"/>\r\n      </g>\r\n     </g>\r\n    </g>\r\n    <g id=\"xtick_3\">\r\n     <g id=\"line2d_3\">\r\n      <g>\r\n       <use style=\"stroke:#000000;stroke-width:0.8;\" x=\"108.621464\" xlink:href=\"#m6638d2ecae\" y=\"145.638763\"/>\r\n      </g>\r\n     </g>\r\n     <g id=\"text_3\">\r\n      <!-- 1 -->\r\n      <g transform=\"translate(105.440214 160.237201)scale(0.1 -0.1)\">\r\n       <use xlink:href=\"#DejaVuSans-49\"/>\r\n      </g>\r\n     </g>\r\n    </g>\r\n    <g id=\"xtick_4\">\r\n     <g id=\"line2d_4\">\r\n      <g>\r\n       <use style=\"stroke:#000000;stroke-width:0.8;\" x=\"145.412747\" xlink:href=\"#m6638d2ecae\" y=\"145.638763\"/>\r\n      </g>\r\n     </g>\r\n     <g id=\"text_4\">\r\n      <!-- 2 -->\r\n      <g transform=\"translate(142.231497 160.237201)scale(0.1 -0.1)\">\r\n       <defs>\r\n        <path d=\"M 19.1875 8.296875 \r\nL 53.609375 8.296875 \r\nL 53.609375 0 \r\nL 7.328125 0 \r\nL 7.328125 8.296875 \r\nQ 12.9375 14.109375 22.625 23.890625 \r\nQ 32.328125 33.6875 34.8125 36.53125 \r\nQ 39.546875 41.84375 41.421875 45.53125 \r\nQ 43.3125 49.21875 43.3125 52.78125 \r\nQ 43.3125 58.59375 39.234375 62.25 \r\nQ 35.15625 65.921875 28.609375 65.921875 \r\nQ 23.96875 65.921875 18.8125 64.3125 \r\nQ 13.671875 62.703125 7.8125 59.421875 \r\nL 7.8125 69.390625 \r\nQ 13.765625 71.78125 18.9375 73 \r\nQ 24.125 74.21875 28.421875 74.21875 \r\nQ 39.75 74.21875 46.484375 68.546875 \r\nQ 53.21875 62.890625 53.21875 53.421875 \r\nQ 53.21875 48.921875 51.53125 44.890625 \r\nQ 49.859375 40.875 45.40625 35.40625 \r\nQ 44.1875 33.984375 37.640625 27.21875 \r\nQ 31.109375 20.453125 19.1875 8.296875 \r\nz\r\n\" id=\"DejaVuSans-50\"/>\r\n       </defs>\r\n       <use xlink:href=\"#DejaVuSans-50\"/>\r\n      </g>\r\n     </g>\r\n    </g>\r\n    <g id=\"xtick_5\">\r\n     <g id=\"line2d_5\">\r\n      <g>\r\n       <use style=\"stroke:#000000;stroke-width:0.8;\" x=\"182.20403\" xlink:href=\"#m6638d2ecae\" y=\"145.638763\"/>\r\n      </g>\r\n     </g>\r\n     <g id=\"text_5\">\r\n      <!-- 3 -->\r\n      <g transform=\"translate(179.02278 160.237201)scale(0.1 -0.1)\">\r\n       <defs>\r\n        <path d=\"M 40.578125 39.3125 \r\nQ 47.65625 37.796875 51.625 33 \r\nQ 55.609375 28.21875 55.609375 21.1875 \r\nQ 55.609375 10.40625 48.1875 4.484375 \r\nQ 40.765625 -1.421875 27.09375 -1.421875 \r\nQ 22.515625 -1.421875 17.65625 -0.515625 \r\nQ 12.796875 0.390625 7.625 2.203125 \r\nL 7.625 11.71875 \r\nQ 11.71875 9.328125 16.59375 8.109375 \r\nQ 21.484375 6.890625 26.8125 6.890625 \r\nQ 36.078125 6.890625 40.9375 10.546875 \r\nQ 45.796875 14.203125 45.796875 21.1875 \r\nQ 45.796875 27.640625 41.28125 31.265625 \r\nQ 36.765625 34.90625 28.71875 34.90625 \r\nL 20.21875 34.90625 \r\nL 20.21875 43.015625 \r\nL 29.109375 43.015625 \r\nQ 36.375 43.015625 40.234375 45.921875 \r\nQ 44.09375 48.828125 44.09375 54.296875 \r\nQ 44.09375 59.90625 40.109375 62.90625 \r\nQ 36.140625 65.921875 28.71875 65.921875 \r\nQ 24.65625 65.921875 20.015625 65.03125 \r\nQ 15.375 64.15625 9.8125 62.3125 \r\nL 9.8125 71.09375 \r\nQ 15.4375 72.65625 20.34375 73.4375 \r\nQ 25.25 74.21875 29.59375 74.21875 \r\nQ 40.828125 74.21875 47.359375 69.109375 \r\nQ 53.90625 64.015625 53.90625 55.328125 \r\nQ 53.90625 49.265625 50.4375 45.09375 \r\nQ 46.96875 40.921875 40.578125 39.3125 \r\nz\r\n\" id=\"DejaVuSans-51\"/>\r\n       </defs>\r\n       <use xlink:href=\"#DejaVuSans-51\"/>\r\n      </g>\r\n     </g>\r\n    </g>\r\n    <g id=\"xtick_6\">\r\n     <g id=\"line2d_6\">\r\n      <g>\r\n       <use style=\"stroke:#000000;stroke-width:0.8;\" x=\"218.995313\" xlink:href=\"#m6638d2ecae\" y=\"145.638763\"/>\r\n      </g>\r\n     </g>\r\n     <g id=\"text_6\">\r\n      <!-- 4 -->\r\n      <g transform=\"translate(215.814063 160.237201)scale(0.1 -0.1)\">\r\n       <defs>\r\n        <path d=\"M 37.796875 64.3125 \r\nL 12.890625 25.390625 \r\nL 37.796875 25.390625 \r\nz\r\nM 35.203125 72.90625 \r\nL 47.609375 72.90625 \r\nL 47.609375 25.390625 \r\nL 58.015625 25.390625 \r\nL 58.015625 17.1875 \r\nL 47.609375 17.1875 \r\nL 47.609375 0 \r\nL 37.796875 0 \r\nL 37.796875 17.1875 \r\nL 4.890625 17.1875 \r\nL 4.890625 26.703125 \r\nz\r\n\" id=\"DejaVuSans-52\"/>\r\n       </defs>\r\n       <use xlink:href=\"#DejaVuSans-52\"/>\r\n      </g>\r\n     </g>\r\n    </g>\r\n   </g>\r\n   <g id=\"matplotlib.axis_2\">\r\n    <g id=\"ytick_1\">\r\n     <g id=\"line2d_7\">\r\n      <defs>\r\n       <path d=\"M 0 0 \r\nL -3.5 0 \r\n\" id=\"m2a2f6fa4d6\" style=\"stroke:#000000;stroke-width:0.8;\"/>\r\n      </defs>\r\n      <g>\r\n       <use style=\"stroke:#000000;stroke-width:0.8;\" x=\"28.942188\" xlink:href=\"#m2a2f6fa4d6\" y=\"133.949221\"/>\r\n      </g>\r\n     </g>\r\n     <g id=\"text_7\">\r\n      <!-- −2 -->\r\n      <g transform=\"translate(7.2 137.74844)scale(0.1 -0.1)\">\r\n       <use xlink:href=\"#DejaVuSans-8722\"/>\r\n       <use x=\"83.789062\" xlink:href=\"#DejaVuSans-50\"/>\r\n      </g>\r\n     </g>\r\n    </g>\r\n    <g id=\"ytick_2\">\r\n     <g id=\"line2d_8\">\r\n      <g>\r\n       <use style=\"stroke:#000000;stroke-width:0.8;\" x=\"28.942188\" xlink:href=\"#m2a2f6fa4d6\" y=\"109.359221\"/>\r\n      </g>\r\n     </g>\r\n     <g id=\"text_8\">\r\n      <!-- 0 -->\r\n      <g transform=\"translate(15.579688 113.158439)scale(0.1 -0.1)\">\r\n       <use xlink:href=\"#DejaVuSans-48\"/>\r\n      </g>\r\n     </g>\r\n    </g>\r\n    <g id=\"ytick_3\">\r\n     <g id=\"line2d_9\">\r\n      <g>\r\n       <use style=\"stroke:#000000;stroke-width:0.8;\" x=\"28.942188\" xlink:href=\"#m2a2f6fa4d6\" y=\"84.76922\"/>\r\n      </g>\r\n     </g>\r\n     <g id=\"text_9\">\r\n      <!-- 2 -->\r\n      <g transform=\"translate(15.579688 88.568439)scale(0.1 -0.1)\">\r\n       <use xlink:href=\"#DejaVuSans-50\"/>\r\n      </g>\r\n     </g>\r\n    </g>\r\n    <g id=\"ytick_4\">\r\n     <g id=\"line2d_10\">\r\n      <g>\r\n       <use style=\"stroke:#000000;stroke-width:0.8;\" x=\"28.942188\" xlink:href=\"#m2a2f6fa4d6\" y=\"60.17922\"/>\r\n      </g>\r\n     </g>\r\n     <g id=\"text_10\">\r\n      <!-- 4 -->\r\n      <g transform=\"translate(15.579688 63.978438)scale(0.1 -0.1)\">\r\n       <use xlink:href=\"#DejaVuSans-52\"/>\r\n      </g>\r\n     </g>\r\n    </g>\r\n    <g id=\"ytick_5\">\r\n     <g id=\"line2d_11\">\r\n      <g>\r\n       <use style=\"stroke:#000000;stroke-width:0.8;\" x=\"28.942188\" xlink:href=\"#m2a2f6fa4d6\" y=\"35.589219\"/>\r\n      </g>\r\n     </g>\r\n     <g id=\"text_11\">\r\n      <!-- 6 -->\r\n      <g transform=\"translate(15.579688 39.388438)scale(0.1 -0.1)\">\r\n       <defs>\r\n        <path d=\"M 33.015625 40.375 \r\nQ 26.375 40.375 22.484375 35.828125 \r\nQ 18.609375 31.296875 18.609375 23.390625 \r\nQ 18.609375 15.53125 22.484375 10.953125 \r\nQ 26.375 6.390625 33.015625 6.390625 \r\nQ 39.65625 6.390625 43.53125 10.953125 \r\nQ 47.40625 15.53125 47.40625 23.390625 \r\nQ 47.40625 31.296875 43.53125 35.828125 \r\nQ 39.65625 40.375 33.015625 40.375 \r\nz\r\nM 52.59375 71.296875 \r\nL 52.59375 62.3125 \r\nQ 48.875 64.0625 45.09375 64.984375 \r\nQ 41.3125 65.921875 37.59375 65.921875 \r\nQ 27.828125 65.921875 22.671875 59.328125 \r\nQ 17.53125 52.734375 16.796875 39.40625 \r\nQ 19.671875 43.65625 24.015625 45.921875 \r\nQ 28.375 48.1875 33.59375 48.1875 \r\nQ 44.578125 48.1875 50.953125 41.515625 \r\nQ 57.328125 34.859375 57.328125 23.390625 \r\nQ 57.328125 12.15625 50.6875 5.359375 \r\nQ 44.046875 -1.421875 33.015625 -1.421875 \r\nQ 20.359375 -1.421875 13.671875 8.265625 \r\nQ 6.984375 17.96875 6.984375 36.375 \r\nQ 6.984375 53.65625 15.1875 63.9375 \r\nQ 23.390625 74.21875 37.203125 74.21875 \r\nQ 40.921875 74.21875 44.703125 73.484375 \r\nQ 48.484375 72.75 52.59375 71.296875 \r\nz\r\n\" id=\"DejaVuSans-54\"/>\r\n       </defs>\r\n       <use xlink:href=\"#DejaVuSans-54\"/>\r\n      </g>\r\n     </g>\r\n    </g>\r\n    <g id=\"ytick_6\">\r\n     <g id=\"line2d_12\">\r\n      <g>\r\n       <use style=\"stroke:#000000;stroke-width:0.8;\" x=\"28.942188\" xlink:href=\"#m2a2f6fa4d6\" y=\"10.999219\"/>\r\n      </g>\r\n     </g>\r\n     <g id=\"text_12\">\r\n      <!-- 8 -->\r\n      <g transform=\"translate(15.579688 14.798437)scale(0.1 -0.1)\">\r\n       <defs>\r\n        <path d=\"M 31.78125 34.625 \r\nQ 24.75 34.625 20.71875 30.859375 \r\nQ 16.703125 27.09375 16.703125 20.515625 \r\nQ 16.703125 13.921875 20.71875 10.15625 \r\nQ 24.75 6.390625 31.78125 6.390625 \r\nQ 38.8125 6.390625 42.859375 10.171875 \r\nQ 46.921875 13.96875 46.921875 20.515625 \r\nQ 46.921875 27.09375 42.890625 30.859375 \r\nQ 38.875 34.625 31.78125 34.625 \r\nz\r\nM 21.921875 38.8125 \r\nQ 15.578125 40.375 12.03125 44.71875 \r\nQ 8.5 49.078125 8.5 55.328125 \r\nQ 8.5 64.0625 14.71875 69.140625 \r\nQ 20.953125 74.21875 31.78125 74.21875 \r\nQ 42.671875 74.21875 48.875 69.140625 \r\nQ 55.078125 64.0625 55.078125 55.328125 \r\nQ 55.078125 49.078125 51.53125 44.71875 \r\nQ 48 40.375 41.703125 38.8125 \r\nQ 48.828125 37.15625 52.796875 32.3125 \r\nQ 56.78125 27.484375 56.78125 20.515625 \r\nQ 56.78125 9.90625 50.3125 4.234375 \r\nQ 43.84375 -1.421875 31.78125 -1.421875 \r\nQ 19.734375 -1.421875 13.25 4.234375 \r\nQ 6.78125 9.90625 6.78125 20.515625 \r\nQ 6.78125 27.484375 10.78125 32.3125 \r\nQ 14.796875 37.15625 21.921875 38.8125 \r\nz\r\nM 18.3125 54.390625 \r\nQ 18.3125 48.734375 21.84375 45.5625 \r\nQ 25.390625 42.390625 31.78125 42.390625 \r\nQ 38.140625 42.390625 41.71875 45.5625 \r\nQ 45.3125 48.734375 45.3125 54.390625 \r\nQ 45.3125 60.0625 41.71875 63.234375 \r\nQ 38.140625 66.40625 31.78125 66.40625 \r\nQ 25.390625 66.40625 21.84375 63.234375 \r\nQ 18.3125 60.0625 18.3125 54.390625 \r\nz\r\n\" id=\"DejaVuSans-56\"/>\r\n       </defs>\r\n       <use xlink:href=\"#DejaVuSans-56\"/>\r\n      </g>\r\n     </g>\r\n    </g>\r\n   </g>\r\n   <g id=\"patch_3\">\r\n    <path d=\"M 28.942188 145.638763 \r\nL 28.942188 9.738763 \r\n\" style=\"fill:none;stroke:#000000;stroke-linecap:square;stroke-linejoin:miter;stroke-width:0.8;\"/>\r\n   </g>\r\n   <g id=\"patch_4\">\r\n    <path d=\"M 224.242188 145.638763 \r\nL 224.242188 9.738763 \r\n\" style=\"fill:none;stroke:#000000;stroke-linecap:square;stroke-linejoin:miter;stroke-width:0.8;\"/>\r\n   </g>\r\n   <g id=\"patch_5\">\r\n    <path d=\"M 28.942188 145.638763 \r\nL 224.242188 145.638763 \r\n\" style=\"fill:none;stroke:#000000;stroke-linecap:square;stroke-linejoin:miter;stroke-width:0.8;\"/>\r\n   </g>\r\n   <g id=\"patch_6\">\r\n    <path d=\"M 28.942188 9.738763 \r\nL 224.242188 9.738763 \r\n\" style=\"fill:none;stroke:#000000;stroke-linecap:square;stroke-linejoin:miter;stroke-width:0.8;\"/>\r\n   </g>\r\n  </g>\r\n </g>\r\n <defs>\r\n  <clipPath id=\"p57919d83a7\">\r\n   <rect height=\"135.9\" width=\"195.3\" x=\"28.942188\" y=\"9.738763\"/>\r\n  </clipPath>\r\n </defs>\r\n</svg>\r\n"
     },
     "metadata": {
      "needs_background": "light"
     }
    }
   ],
   "source": [
    "d2l.set_figsize()\n",
    "d2l.plt.scatter(d2l.numpy(data[:100, 0]), d2l.numpy(data[:100, 1]));\n",
    "print(f'The covariance matrix is\\n{d2l.matmul(tf.transpose(A), A)}')"
   ]
  },
  {
   "cell_type": "code",
   "execution_count": 5,
   "metadata": {},
   "outputs": [],
   "source": [
    "batch_size = 8\n",
    "data_iter = d2l.load_array((data,), batch_size)"
   ]
  },
  {
   "cell_type": "code",
   "execution_count": 6,
   "metadata": {},
   "outputs": [],
   "source": [
    "net_G = tf.keras.Sequential()\n",
    "net_G.add(tf.keras.layers.Dense(2))"
   ]
  },
  {
   "cell_type": "markdown",
   "metadata": {},
   "source": [
    "tf.keras.activations.tanh(a)\n",
    "https://www.tensorflow.org/api_docs/python/tf/keras/activations/tanh\n"
   ]
  },
  {
   "cell_type": "code",
   "execution_count": 7,
   "metadata": {},
   "outputs": [],
   "source": [
    "net_D = tf.keras.Sequential()\n",
    "net_D.add(tf.keras.layers.Dense(5, activation='tanh'))\n",
    "net_D.add(tf.keras.layers.Dense(3, activation='tanh'))\n",
    "net_D.add(tf.keras.layers.Dense(1))"
   ]
  },
  {
   "cell_type": "markdown",
   "metadata": {},
   "source": [
    "with tf.GradientTape() as t:\n",
    "http://preview.d2l.ai/d2l-en/master/chapter_preliminaries/autograd.html\n"
   ]
  },
  {
   "cell_type": "markdown",
   "metadata": {},
   "source": [
    "t.gradient(y, x) \n",
    "t.gradient(loss_D, trainer_D) "
   ]
  },
  {
   "cell_type": "code",
   "execution_count": 8,
   "metadata": {},
   "outputs": [],
   "source": [
    "#@save\n",
    "def update_D(X, Z, net_D, net_G, loss, trainer_D):\n",
    "    \"\"\"Update discriminator.\"\"\"\n",
    "    batch_size = np.array(X).shape[0]\n",
    "    ones = tf.ones((batch_size,), tf.float32)\n",
    "    zeros = tf.zeros((batch_size,), tf.float32)\n",
    "    with tf.GradientTape() as t:\n",
    "        real_Y = net_D(tf.convert_to_tensor(X))\n",
    "        fake_X = net_G(tf.convert_to_tensor(Z))\n",
    "        # Do not need to compute gradient for `net_G`, detach it from\n",
    "        # computing gradients.\n",
    "        fake_Y = net_D(tf.stop_gradient(fake_X))\n",
    "        loss_D = (loss(real_Y, ones) + loss(fake_Y, zeros)) / 2\n",
    "    t.gradient(loss_D, trainer_D) \n",
    "    trainer_D.step(batch_size)\n",
    "    return float(loss_D.sum())"
   ]
  },
  {
   "cell_type": "code",
   "execution_count": 9,
   "metadata": {},
   "outputs": [],
   "source": [
    "#@save\n",
    "def update_G(Z, net_D, net_G, loss, trainer_G):\n",
    "    \"\"\"Update generator.\"\"\"\n",
    "    batch_size = np.array(Z).shape[0]\n",
    "    ones = tf.ones((batch_size,), tf.float32)\n",
    "    with tf.GradientTape() as t:\n",
    "        # We could reuse `fake_X` from `update_D` to save computation\n",
    "        fake_X = net_G(tf.convert_to_tensor(Z))\n",
    "        # Recomputing `fake_Y` is needed since `net_D` is changed\n",
    "        fake_Y = net_D(tf.stop_gradient(fake_X))\n",
    "        loss_G = loss(fake_Y, ones)\n",
    "    t.gradient(loss_G, trainer_G) \n",
    "    trainer_G.step(batch_size)\n",
    "    return float(loss_G.sum())"
   ]
  },
  {
   "cell_type": "markdown",
   "metadata": {},
   "source": [
    "https://www.google.com/search?q=numpy()+tensorflow&rlz=1C1GCEA_enJP909HK909&oq=numpy()+tensorflow&aqs=chrome..69i57j0l7.2792j0j1&sourceid=chrome&ie=UTF-8"
   ]
  },
  {
   "cell_type": "markdown",
   "metadata": {},
   "source": [
    "https://www.tensorflow.org/api_docs/python/tf/keras/optimizers/Adam\n",
    "tf.keras.optimizers.Adam(learning_rate=0.1)\n",
    "m.compile\n",
    "m = tf.keras.models.Sequential([tf.keras.layers.Dense(10)])\n",
    "m.compile(opt, loss='mse')"
   ]
  },
  {
   "cell_type": "markdown",
   "metadata": {},
   "source": [
    "https://stackoverflow.com/questions/55683729/bcewithlogitsloss-in-keras\n",
    "https://www.tensorflow.org/api_docs/python/tf/keras/losses/BinaryCrossentropy\n"
   ]
  },
  {
   "cell_type": "markdown",
   "metadata": {},
   "source": [
    "def weight_variable(shape, w=0.1):\n",
    "  initial = tf.truncated_normal(shape, stddev=w)\n",
    "  return tf.Variable(initial)\n",
    "  https://stackoverflow.com/questions/43489697/tensorflow-weight-initialization\n",
    "\n",
    "  The values generated are similar to values from a tf.keras.initializers.RandomNormal initializer except that values more than two standard deviations from the mean are discarded and re-drawn.\n",
    "  https://keras.io/api/layers/initializers/"
   ]
  },
  {
   "cell_type": "markdown",
   "metadata": {},
   "source": [
    "tf.Variable(initial_value=w_init(\n",
    "            shape=(input_dim, unit), dtype=tf.float32), trainable=True)\n",
    "            https://zhuanlan.zhihu.com/p/59481536"
   ]
  },
  {
   "cell_type": "markdown",
   "metadata": {},
   "source": [
    "https://keras.io/api/layers/initializers/"
   ]
  },
  {
   "cell_type": "markdown",
   "metadata": {},
   "source": [
    "numpy.array\n",
    "https://stackoverflow.com/questions/41198144/attributeerror-tuple-object-has-no-attribute-shape"
   ]
  },
  {
   "cell_type": "markdown",
   "metadata": {},
   "source": [
    "https://github.com/tensorflow/tensorflow/issues/29972"
   ]
  },
  {
   "cell_type": "markdown",
   "metadata": {},
   "source": [
    "tf.stop_gradient(y)\n",
    "http://preview.d2l.ai/d2l-en/master/chapter_preliminaries/autograd.html?highlight=detach"
   ]
  },
  {
   "cell_type": "code",
   "execution_count": 10,
   "metadata": {},
   "outputs": [],
   "source": [
    "def train(net_D, net_G, data_iter, num_epochs, lr_D, lr_G, latent_dim, data):\n",
    "    loss = tf.keras.losses.BinaryCrossentropy(reduction=\n",
    "                                tf.keras.losses.Reduction.SUM)\n",
    "    tf.keras.initializers.RandomNormal(net_D, stddev=0.02)\n",
    "    tf.keras.initializers.RandomNormal(net_G, stddev=0.02)\n",
    "    trainer_D = net_D.compile(tf.keras.optimizers.Adam(learning_rate=lr_D), loss='mse')\n",
    "    trainer_G = net_G.compile(tf.keras.optimizers.Adam(learning_rate=lr_G), loss='mse')\n",
    "    animator = d2l.Animator(xlabel='epoch', ylabel='loss',\n",
    "                            xlim=[1, num_epochs], nrows=2, figsize=(5, 5),\n",
    "                            legend=['discriminator', 'generator'])\n",
    "    animator.fig.subplots_adjust(hspace=0.3)\n",
    "    for epoch in range(num_epochs):\n",
    "        # Train one epoch\n",
    "        timer = d2l.Timer()\n",
    "        metric = d2l.Accumulator(3)  # loss_D, loss_G, num_examples\n",
    "        for X in data_iter:\n",
    "            batch_size = np.array(X).shape[0]\n",
    "            Z = d2l.normal([batch_size, latent_dim], 0, 1, tf.float32)\n",
    "            metric.add(update_D(X, Z, net_D, net_G, loss, trainer_D),\n",
    "                       update_G(Z, net_D, net_G, loss, trainer_G),\n",
    "                       batch_size)\n",
    "        # Visualize generated examples\n",
    "        Z = d2l.normal([100, latent_dim], 0, 1, tf.float32)\n",
    "        fake_X = net_G(Z).Tensor.numpy()\n",
    "        animator.axes[1].cla()\n",
    "        animator.axes[1].scatter(data[:, 0], data[:, 1])\n",
    "        animator.axes[1].scatter(fake_X[:, 0], fake_X[:, 1])\n",
    "        animator.axes[1].legend(['real', 'generated'])\n",
    "        # Show the losses\n",
    "        loss_D, loss_G = metric[0]/metric[2], metric[1]/metric[2]\n",
    "        animator.add(epoch + 1, (loss_D, loss_G))\n",
    "    print(f'loss_D {loss_D:.3f}, loss_G {loss_G:.3f}, '\n",
    "          f'{metric[2] / timer.stop():.1f} examples/sec')"
   ]
  },
  {
   "cell_type": "code",
   "execution_count": 11,
   "metadata": {
    "tags": []
   },
   "outputs": [
    {
     "output_type": "error",
     "ename": "TypeError",
     "evalue": "Cannot convert value None to a TensorFlow DType.",
     "traceback": [
      "\u001b[1;31m---------------------------------------------------------------------------\u001b[0m",
      "\u001b[1;31mTypeError\u001b[0m                                 Traceback (most recent call last)",
      "\u001b[1;32m<ipython-input-11-251159593cac>\u001b[0m in \u001b[0;36m<module>\u001b[1;34m\u001b[0m\n\u001b[0;32m      1\u001b[0m \u001b[0mlr_D\u001b[0m\u001b[1;33m,\u001b[0m \u001b[0mlr_G\u001b[0m\u001b[1;33m,\u001b[0m \u001b[0mlatent_dim\u001b[0m\u001b[1;33m,\u001b[0m \u001b[0mnum_epochs\u001b[0m \u001b[1;33m=\u001b[0m \u001b[1;36m0.05\u001b[0m\u001b[1;33m,\u001b[0m \u001b[1;36m0.005\u001b[0m\u001b[1;33m,\u001b[0m \u001b[1;36m2\u001b[0m\u001b[1;33m,\u001b[0m \u001b[1;36m20\u001b[0m\u001b[1;33m\u001b[0m\u001b[1;33m\u001b[0m\u001b[0m\n\u001b[0;32m      2\u001b[0m train(net_D, net_G, data_iter, num_epochs, lr_D, lr_G,\n\u001b[1;32m----> 3\u001b[1;33m       latent_dim, d2l.numpy(data[:100]))\n\u001b[0m",
      "\u001b[1;32m<ipython-input-10-1556e6dd1300>\u001b[0m in \u001b[0;36mtrain\u001b[1;34m(net_D, net_G, data_iter, num_epochs, lr_D, lr_G, latent_dim, data)\u001b[0m\n\u001b[0;32m     17\u001b[0m             \u001b[0mbatch_size\u001b[0m \u001b[1;33m=\u001b[0m \u001b[0mnp\u001b[0m\u001b[1;33m.\u001b[0m\u001b[0marray\u001b[0m\u001b[1;33m(\u001b[0m\u001b[0mX\u001b[0m\u001b[1;33m)\u001b[0m\u001b[1;33m.\u001b[0m\u001b[0mshape\u001b[0m\u001b[1;33m[\u001b[0m\u001b[1;36m0\u001b[0m\u001b[1;33m]\u001b[0m\u001b[1;33m\u001b[0m\u001b[1;33m\u001b[0m\u001b[0m\n\u001b[0;32m     18\u001b[0m             \u001b[0mZ\u001b[0m \u001b[1;33m=\u001b[0m \u001b[0md2l\u001b[0m\u001b[1;33m.\u001b[0m\u001b[0mnormal\u001b[0m\u001b[1;33m(\u001b[0m\u001b[1;33m[\u001b[0m\u001b[0mbatch_size\u001b[0m\u001b[1;33m,\u001b[0m \u001b[0mlatent_dim\u001b[0m\u001b[1;33m]\u001b[0m\u001b[1;33m,\u001b[0m \u001b[1;36m0\u001b[0m\u001b[1;33m,\u001b[0m \u001b[1;36m1\u001b[0m\u001b[1;33m,\u001b[0m \u001b[0mtf\u001b[0m\u001b[1;33m.\u001b[0m\u001b[0mfloat32\u001b[0m\u001b[1;33m)\u001b[0m\u001b[1;33m\u001b[0m\u001b[1;33m\u001b[0m\u001b[0m\n\u001b[1;32m---> 19\u001b[1;33m             metric.add(update_D(X, Z, net_D, net_G, loss, trainer_D),\n\u001b[0m\u001b[0;32m     20\u001b[0m                        \u001b[0mupdate_G\u001b[0m\u001b[1;33m(\u001b[0m\u001b[0mZ\u001b[0m\u001b[1;33m,\u001b[0m \u001b[0mnet_D\u001b[0m\u001b[1;33m,\u001b[0m \u001b[0mnet_G\u001b[0m\u001b[1;33m,\u001b[0m \u001b[0mloss\u001b[0m\u001b[1;33m,\u001b[0m \u001b[0mtrainer_G\u001b[0m\u001b[1;33m)\u001b[0m\u001b[1;33m,\u001b[0m\u001b[1;33m\u001b[0m\u001b[1;33m\u001b[0m\u001b[0m\n\u001b[0;32m     21\u001b[0m                        batch_size)\n",
      "\u001b[1;32m<ipython-input-8-b611c02f523d>\u001b[0m in \u001b[0;36mupdate_D\u001b[1;34m(X, Z, net_D, net_G, loss, trainer_D)\u001b[0m\n\u001b[0;32m     12\u001b[0m         \u001b[0mfake_Y\u001b[0m \u001b[1;33m=\u001b[0m \u001b[0mnet_D\u001b[0m\u001b[1;33m(\u001b[0m\u001b[0mtf\u001b[0m\u001b[1;33m.\u001b[0m\u001b[0mstop_gradient\u001b[0m\u001b[1;33m(\u001b[0m\u001b[0mfake_X\u001b[0m\u001b[1;33m)\u001b[0m\u001b[1;33m)\u001b[0m\u001b[1;33m\u001b[0m\u001b[1;33m\u001b[0m\u001b[0m\n\u001b[0;32m     13\u001b[0m         \u001b[0mloss_D\u001b[0m \u001b[1;33m=\u001b[0m \u001b[1;33m(\u001b[0m\u001b[0mloss\u001b[0m\u001b[1;33m(\u001b[0m\u001b[0mreal_Y\u001b[0m\u001b[1;33m,\u001b[0m \u001b[0mones\u001b[0m\u001b[1;33m)\u001b[0m \u001b[1;33m+\u001b[0m \u001b[0mloss\u001b[0m\u001b[1;33m(\u001b[0m\u001b[0mfake_Y\u001b[0m\u001b[1;33m,\u001b[0m \u001b[0mzeros\u001b[0m\u001b[1;33m)\u001b[0m\u001b[1;33m)\u001b[0m \u001b[1;33m/\u001b[0m \u001b[1;36m2\u001b[0m\u001b[1;33m\u001b[0m\u001b[1;33m\u001b[0m\u001b[0m\n\u001b[1;32m---> 14\u001b[1;33m     \u001b[0mt\u001b[0m\u001b[1;33m.\u001b[0m\u001b[0mgradient\u001b[0m\u001b[1;33m(\u001b[0m\u001b[0mloss_D\u001b[0m\u001b[1;33m,\u001b[0m \u001b[0mtrainer_D\u001b[0m\u001b[1;33m)\u001b[0m\u001b[1;33m\u001b[0m\u001b[1;33m\u001b[0m\u001b[0m\n\u001b[0m\u001b[0;32m     15\u001b[0m     \u001b[0mtrainer_D\u001b[0m\u001b[1;33m.\u001b[0m\u001b[0mstep\u001b[0m\u001b[1;33m(\u001b[0m\u001b[0mbatch_size\u001b[0m\u001b[1;33m)\u001b[0m\u001b[1;33m\u001b[0m\u001b[1;33m\u001b[0m\u001b[0m\n\u001b[0;32m     16\u001b[0m     \u001b[1;32mreturn\u001b[0m \u001b[0mfloat\u001b[0m\u001b[1;33m(\u001b[0m\u001b[0mloss_D\u001b[0m\u001b[1;33m.\u001b[0m\u001b[0msum\u001b[0m\u001b[1;33m(\u001b[0m\u001b[1;33m)\u001b[0m\u001b[1;33m)\u001b[0m\u001b[1;33m\u001b[0m\u001b[1;33m\u001b[0m\u001b[0m\n",
      "\u001b[1;32m~\\anaconda3\\envs\\tf2\\lib\\site-packages\\tensorflow\\python\\eager\\backprop.py\u001b[0m in \u001b[0;36mgradient\u001b[1;34m(self, target, sources, output_gradients, unconnected_gradients)\u001b[0m\n\u001b[0;32m   1051\u001b[0m     \u001b[0mflat_sources\u001b[0m \u001b[1;33m=\u001b[0m \u001b[1;33m[\u001b[0m\u001b[0m_handle_or_self\u001b[0m\u001b[1;33m(\u001b[0m\u001b[0mx\u001b[0m\u001b[1;33m)\u001b[0m \u001b[1;32mfor\u001b[0m \u001b[0mx\u001b[0m \u001b[1;32min\u001b[0m \u001b[0mflat_sources\u001b[0m\u001b[1;33m]\u001b[0m\u001b[1;33m\u001b[0m\u001b[1;33m\u001b[0m\u001b[0m\n\u001b[0;32m   1052\u001b[0m     \u001b[1;32mfor\u001b[0m \u001b[0mt\u001b[0m \u001b[1;32min\u001b[0m \u001b[0mflat_sources_raw\u001b[0m\u001b[1;33m:\u001b[0m\u001b[1;33m\u001b[0m\u001b[1;33m\u001b[0m\u001b[0m\n\u001b[1;32m-> 1053\u001b[1;33m       \u001b[1;32mif\u001b[0m \u001b[1;32mnot\u001b[0m \u001b[0mbackprop_util\u001b[0m\u001b[1;33m.\u001b[0m\u001b[0mIsTrainable\u001b[0m\u001b[1;33m(\u001b[0m\u001b[0mt\u001b[0m\u001b[1;33m)\u001b[0m\u001b[1;33m:\u001b[0m\u001b[1;33m\u001b[0m\u001b[1;33m\u001b[0m\u001b[0m\n\u001b[0m\u001b[0;32m   1054\u001b[0m         logging.vlog(\n\u001b[0;32m   1055\u001b[0m             \u001b[0mlogging\u001b[0m\u001b[1;33m.\u001b[0m\u001b[0mWARN\u001b[0m\u001b[1;33m,\u001b[0m \u001b[1;34m\"The dtype of the source tensor must be \"\u001b[0m\u001b[1;33m\u001b[0m\u001b[1;33m\u001b[0m\u001b[0m\n",
      "\u001b[1;32m~\\anaconda3\\envs\\tf2\\lib\\site-packages\\tensorflow\\python\\eager\\backprop_util.py\u001b[0m in \u001b[0;36mIsTrainable\u001b[1;34m(tensor_or_dtype)\u001b[0m\n\u001b[0;32m     28\u001b[0m   \u001b[1;32melse\u001b[0m\u001b[1;33m:\u001b[0m\u001b[1;33m\u001b[0m\u001b[1;33m\u001b[0m\u001b[0m\n\u001b[0;32m     29\u001b[0m     \u001b[0mdtype\u001b[0m \u001b[1;33m=\u001b[0m \u001b[0mtensor_or_dtype\u001b[0m\u001b[1;33m\u001b[0m\u001b[1;33m\u001b[0m\u001b[0m\n\u001b[1;32m---> 30\u001b[1;33m   \u001b[0mdtype\u001b[0m \u001b[1;33m=\u001b[0m \u001b[0mdtypes\u001b[0m\u001b[1;33m.\u001b[0m\u001b[0mas_dtype\u001b[0m\u001b[1;33m(\u001b[0m\u001b[0mdtype\u001b[0m\u001b[1;33m)\u001b[0m\u001b[1;33m\u001b[0m\u001b[1;33m\u001b[0m\u001b[0m\n\u001b[0m\u001b[0;32m     31\u001b[0m   return dtype.base_dtype in (dtypes.float16, dtypes.float32, dtypes.float64,\n\u001b[0;32m     32\u001b[0m                               \u001b[0mdtypes\u001b[0m\u001b[1;33m.\u001b[0m\u001b[0mcomplex64\u001b[0m\u001b[1;33m,\u001b[0m \u001b[0mdtypes\u001b[0m\u001b[1;33m.\u001b[0m\u001b[0mcomplex128\u001b[0m\u001b[1;33m,\u001b[0m\u001b[1;33m\u001b[0m\u001b[1;33m\u001b[0m\u001b[0m\n",
      "\u001b[1;32m~\\anaconda3\\envs\\tf2\\lib\\site-packages\\tensorflow\\python\\framework\\dtypes.py\u001b[0m in \u001b[0;36mas_dtype\u001b[1;34m(type_value)\u001b[0m\n\u001b[0;32m    648\u001b[0m \u001b[1;33m\u001b[0m\u001b[0m\n\u001b[0;32m    649\u001b[0m   raise TypeError(\"Cannot convert value %r to a TensorFlow DType.\" %\n\u001b[1;32m--> 650\u001b[1;33m                   (type_value,))\n\u001b[0m",
      "\u001b[1;31mTypeError\u001b[0m: Cannot convert value None to a TensorFlow DType."
     ]
    }
   ],
   "source": [
    "lr_D, lr_G, latent_dim, num_epochs = 0.05, 0.005, 2, 20\n",
    "train(net_D, net_G, data_iter, num_epochs, lr_D, lr_G,\n",
    "      latent_dim, d2l.numpy(data[:100]))"
   ]
  },
  {
   "cell_type": "markdown",
   "metadata": {},
   "source": [
    "https://www.tensorflow.org/api_docs/python/tf/ones"
   ]
  }
 ]
}