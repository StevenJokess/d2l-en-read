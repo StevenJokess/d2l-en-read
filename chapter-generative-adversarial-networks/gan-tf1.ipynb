{
 "metadata": {
  "language_info": {
   "codemirror_mode": {
    "name": "ipython",
    "version": 3
   },
   "file_extension": ".py",
   "mimetype": "text/x-python",
   "name": "python",
   "nbconvert_exporter": "python",
   "pygments_lexer": "ipython3",
   "version": "3.7.8-final"
  },
  "orig_nbformat": 2,
  "kernelspec": {
   "name": "python37864bittf2conda1de394c9651a4d19aa25641a40b8d2d8",
   "display_name": "Python 3.7.8 64-bit ('tf2': conda)"
  }
 },
 "nbformat": 4,
 "nbformat_minor": 2,
 "cells": [
  {
   "cell_type": "markdown",
   "metadata": {},
   "source": [
    "http://preview.d2l.ai/d2l-en/master/chapter_generative-adversarial-networks/gan.html"
   ]
  },
  {
   "cell_type": "code",
   "execution_count": 1,
   "metadata": {},
   "outputs": [],
   "source": [
    "%matplotlib inline\n",
    "from d2l import tensorflow as d2l\n",
    "import tensorflow as tf\n",
    "import numpy as np"
   ]
  },
  {
   "cell_type": "markdown",
   "metadata": {},
   "source": [
    "https://www.tensorflow.org/api_docs/python/tf/random/normal"
   ]
  },
  {
   "cell_type": "markdown",
   "metadata": {},
   "source": [
    "https://www.tensorflow.org/api_docs/python/tf/norm"
   ]
  },
  {
   "cell_type": "code",
   "execution_count": 2,
   "metadata": {},
   "outputs": [],
   "source": [
    "X = d2l.normal([1000, 2], 0.0, 1, tf.float32)"
   ]
  },
  {
   "cell_type": "code",
   "execution_count": 3,
   "metadata": {},
   "outputs": [],
   "source": [
    "A = d2l.tensor([[1, 2], [-0.1, 0.5]], tf.float32)\n",
    "b = d2l.tensor([1, 2], tf.float32)\n",
    "data = d2l.matmul(X, A) + b"
   ]
  },
  {
   "cell_type": "code",
   "execution_count": 4,
   "metadata": {
    "tags": []
   },
   "outputs": [
    {
     "output_type": "stream",
     "name": "stdout",
     "text": "The covariance matrix is\n[[1.01 1.95]\n [1.95 4.25]]\n"
    },
    {
     "output_type": "display_data",
     "data": {
      "text/plain": "<Figure size 252x180 with 1 Axes>",
      "image/svg+xml": "<?xml version=\"1.0\" encoding=\"utf-8\" standalone=\"no\"?>\r\n<!DOCTYPE svg PUBLIC \"-//W3C//DTD SVG 1.1//EN\"\r\n  \"http://www.w3.org/Graphics/SVG/1.1/DTD/svg11.dtd\">\r\n<!-- Created with matplotlib (https://matplotlib.org/) -->\r\n<svg height=\"166.978125pt\" version=\"1.1\" viewBox=\"0 0 240.982812 166.978125\" width=\"240.982812pt\" xmlns=\"http://www.w3.org/2000/svg\" xmlns:xlink=\"http://www.w3.org/1999/xlink\">\r\n <metadata>\r\n  <rdf:RDF xmlns:cc=\"http://creativecommons.org/ns#\" xmlns:dc=\"http://purl.org/dc/elements/1.1/\" xmlns:rdf=\"http://www.w3.org/1999/02/22-rdf-syntax-ns#\">\r\n   <cc:Work>\r\n    <dc:type rdf:resource=\"http://purl.org/dc/dcmitype/StillImage\"/>\r\n    <dc:date>2020-09-04T19:49:42.486978</dc:date>\r\n    <dc:format>image/svg+xml</dc:format>\r\n    <dc:creator>\r\n     <cc:Agent>\r\n      <dc:title>Matplotlib v3.3.1, https://matplotlib.org/</dc:title>\r\n     </cc:Agent>\r\n    </dc:creator>\r\n   </cc:Work>\r\n  </rdf:RDF>\r\n </metadata>\r\n <defs>\r\n  <style type=\"text/css\">*{stroke-linecap:butt;stroke-linejoin:round;}</style>\r\n </defs>\r\n <g id=\"figure_1\">\r\n  <g id=\"patch_1\">\r\n   <path d=\"M -0 166.978125 \r\nL 240.982813 166.978125 \r\nL 240.982813 0 \r\nL -0 0 \r\nz\r\n\" style=\"fill:none;\"/>\r\n  </g>\r\n  <g id=\"axes_1\">\r\n   <g id=\"patch_2\">\r\n    <path d=\"M 38.482813 143.1 \r\nL 233.782813 143.1 \r\nL 233.782813 7.2 \r\nL 38.482813 7.2 \r\nz\r\n\" style=\"fill:#ffffff;\"/>\r\n   </g>\r\n   <g id=\"PathCollection_1\">\r\n    <defs>\r\n     <path d=\"M 0 3 \r\nC 0.795609 3 1.55874 2.683901 2.12132 2.12132 \r\nC 2.683901 1.55874 3 0.795609 3 0 \r\nC 3 -0.795609 2.683901 -1.55874 2.12132 -2.12132 \r\nC 1.55874 -2.683901 0.795609 -3 0 -3 \r\nC -0.795609 -3 -1.55874 -2.683901 -2.12132 -2.12132 \r\nC -2.683901 -1.55874 -3 -0.795609 -3 0 \r\nC -3 0.795609 -2.683901 1.55874 -2.12132 2.12132 \r\nC -1.55874 2.683901 -0.795609 3 0 3 \r\nz\r\n\" id=\"mdfc03d0730\" style=\"stroke:#1f77b4;\"/>\r\n    </defs>\r\n    <g clip-path=\"url(#p9e40597d2c)\">\r\n     <use style=\"fill:#1f77b4;stroke:#1f77b4;\" x=\"151.571675\" xlink:href=\"#mdfc03d0730\" y=\"63.11175\"/>\r\n     <use style=\"fill:#1f77b4;stroke:#1f77b4;\" x=\"155.109794\" xlink:href=\"#mdfc03d0730\" y=\"60.032117\"/>\r\n     <use style=\"fill:#1f77b4;stroke:#1f77b4;\" x=\"224.90554\" xlink:href=\"#mdfc03d0730\" y=\"13.377273\"/>\r\n     <use style=\"fill:#1f77b4;stroke:#1f77b4;\" x=\"144.601793\" xlink:href=\"#mdfc03d0730\" y=\"58.489929\"/>\r\n     <use style=\"fill:#1f77b4;stroke:#1f77b4;\" x=\"129.588521\" xlink:href=\"#mdfc03d0730\" y=\"87.720973\"/>\r\n     <use style=\"fill:#1f77b4;stroke:#1f77b4;\" x=\"140.162885\" xlink:href=\"#mdfc03d0730\" y=\"73.644559\"/>\r\n     <use style=\"fill:#1f77b4;stroke:#1f77b4;\" x=\"135.836931\" xlink:href=\"#mdfc03d0730\" y=\"83.910102\"/>\r\n     <use style=\"fill:#1f77b4;stroke:#1f77b4;\" x=\"159.55428\" xlink:href=\"#mdfc03d0730\" y=\"56.852498\"/>\r\n     <use style=\"fill:#1f77b4;stroke:#1f77b4;\" x=\"75.199742\" xlink:href=\"#mdfc03d0730\" y=\"115.766682\"/>\r\n     <use style=\"fill:#1f77b4;stroke:#1f77b4;\" x=\"154.252774\" xlink:href=\"#mdfc03d0730\" y=\"57.279986\"/>\r\n     <use style=\"fill:#1f77b4;stroke:#1f77b4;\" x=\"145.047734\" xlink:href=\"#mdfc03d0730\" y=\"64.045564\"/>\r\n     <use style=\"fill:#1f77b4;stroke:#1f77b4;\" x=\"157.193447\" xlink:href=\"#mdfc03d0730\" y=\"74.969943\"/>\r\n     <use style=\"fill:#1f77b4;stroke:#1f77b4;\" x=\"142.296845\" xlink:href=\"#mdfc03d0730\" y=\"82.25234\"/>\r\n     <use style=\"fill:#1f77b4;stroke:#1f77b4;\" x=\"157.761527\" xlink:href=\"#mdfc03d0730\" y=\"75.968105\"/>\r\n     <use style=\"fill:#1f77b4;stroke:#1f77b4;\" x=\"154.299033\" xlink:href=\"#mdfc03d0730\" y=\"58.765407\"/>\r\n     <use style=\"fill:#1f77b4;stroke:#1f77b4;\" x=\"187.323598\" xlink:href=\"#mdfc03d0730\" y=\"38.475537\"/>\r\n     <use style=\"fill:#1f77b4;stroke:#1f77b4;\" x=\"142.291688\" xlink:href=\"#mdfc03d0730\" y=\"75.00167\"/>\r\n     <use style=\"fill:#1f77b4;stroke:#1f77b4;\" x=\"114.074276\" xlink:href=\"#mdfc03d0730\" y=\"88.682196\"/>\r\n     <use style=\"fill:#1f77b4;stroke:#1f77b4;\" x=\"167.617183\" xlink:href=\"#mdfc03d0730\" y=\"44.143567\"/>\r\n     <use style=\"fill:#1f77b4;stroke:#1f77b4;\" x=\"183.22002\" xlink:href=\"#mdfc03d0730\" y=\"39.325982\"/>\r\n     <use style=\"fill:#1f77b4;stroke:#1f77b4;\" x=\"197.506328\" xlink:href=\"#mdfc03d0730\" y=\"27.764727\"/>\r\n     <use style=\"fill:#1f77b4;stroke:#1f77b4;\" x=\"159.095097\" xlink:href=\"#mdfc03d0730\" y=\"60.675099\"/>\r\n     <use style=\"fill:#1f77b4;stroke:#1f77b4;\" x=\"105.659444\" xlink:href=\"#mdfc03d0730\" y=\"88.440624\"/>\r\n     <use style=\"fill:#1f77b4;stroke:#1f77b4;\" x=\"193.856054\" xlink:href=\"#mdfc03d0730\" y=\"33.970623\"/>\r\n     <use style=\"fill:#1f77b4;stroke:#1f77b4;\" x=\"93.655755\" xlink:href=\"#mdfc03d0730\" y=\"102.62949\"/>\r\n     <use style=\"fill:#1f77b4;stroke:#1f77b4;\" x=\"136.796725\" xlink:href=\"#mdfc03d0730\" y=\"79.863749\"/>\r\n     <use style=\"fill:#1f77b4;stroke:#1f77b4;\" x=\"140.799744\" xlink:href=\"#mdfc03d0730\" y=\"74.603564\"/>\r\n     <use style=\"fill:#1f77b4;stroke:#1f77b4;\" x=\"206.126584\" xlink:href=\"#mdfc03d0730\" y=\"33.298285\"/>\r\n     <use style=\"fill:#1f77b4;stroke:#1f77b4;\" x=\"197.885828\" xlink:href=\"#mdfc03d0730\" y=\"39.781132\"/>\r\n     <use style=\"fill:#1f77b4;stroke:#1f77b4;\" x=\"164.069257\" xlink:href=\"#mdfc03d0730\" y=\"71.164315\"/>\r\n     <use style=\"fill:#1f77b4;stroke:#1f77b4;\" x=\"140.893177\" xlink:href=\"#mdfc03d0730\" y=\"63.783016\"/>\r\n     <use style=\"fill:#1f77b4;stroke:#1f77b4;\" x=\"116.184666\" xlink:href=\"#mdfc03d0730\" y=\"98.2601\"/>\r\n     <use style=\"fill:#1f77b4;stroke:#1f77b4;\" x=\"166.961146\" xlink:href=\"#mdfc03d0730\" y=\"45.393155\"/>\r\n     <use style=\"fill:#1f77b4;stroke:#1f77b4;\" x=\"174.862972\" xlink:href=\"#mdfc03d0730\" y=\"35.395385\"/>\r\n     <use style=\"fill:#1f77b4;stroke:#1f77b4;\" x=\"157.424229\" xlink:href=\"#mdfc03d0730\" y=\"70.29311\"/>\r\n     <use style=\"fill:#1f77b4;stroke:#1f77b4;\" x=\"140.034505\" xlink:href=\"#mdfc03d0730\" y=\"62.965637\"/>\r\n     <use style=\"fill:#1f77b4;stroke:#1f77b4;\" x=\"146.817344\" xlink:href=\"#mdfc03d0730\" y=\"60.148595\"/>\r\n     <use style=\"fill:#1f77b4;stroke:#1f77b4;\" x=\"106.348618\" xlink:href=\"#mdfc03d0730\" y=\"110.255414\"/>\r\n     <use style=\"fill:#1f77b4;stroke:#1f77b4;\" x=\"160.884175\" xlink:href=\"#mdfc03d0730\" y=\"58.028474\"/>\r\n     <use style=\"fill:#1f77b4;stroke:#1f77b4;\" x=\"74.719037\" xlink:href=\"#mdfc03d0730\" y=\"108.233655\"/>\r\n     <use style=\"fill:#1f77b4;stroke:#1f77b4;\" x=\"165.100996\" xlink:href=\"#mdfc03d0730\" y=\"61.829378\"/>\r\n     <use style=\"fill:#1f77b4;stroke:#1f77b4;\" x=\"204.437233\" xlink:href=\"#mdfc03d0730\" y=\"28.452762\"/>\r\n     <use style=\"fill:#1f77b4;stroke:#1f77b4;\" x=\"159.941539\" xlink:href=\"#mdfc03d0730\" y=\"58.220279\"/>\r\n     <use style=\"fill:#1f77b4;stroke:#1f77b4;\" x=\"147.191454\" xlink:href=\"#mdfc03d0730\" y=\"65.159344\"/>\r\n     <use style=\"fill:#1f77b4;stroke:#1f77b4;\" x=\"146.480109\" xlink:href=\"#mdfc03d0730\" y=\"70.66038\"/>\r\n     <use style=\"fill:#1f77b4;stroke:#1f77b4;\" x=\"130.247414\" xlink:href=\"#mdfc03d0730\" y=\"78.915293\"/>\r\n     <use style=\"fill:#1f77b4;stroke:#1f77b4;\" x=\"153.871143\" xlink:href=\"#mdfc03d0730\" y=\"54.190658\"/>\r\n     <use style=\"fill:#1f77b4;stroke:#1f77b4;\" x=\"103.463332\" xlink:href=\"#mdfc03d0730\" y=\"97.618622\"/>\r\n     <use style=\"fill:#1f77b4;stroke:#1f77b4;\" x=\"128.608628\" xlink:href=\"#mdfc03d0730\" y=\"63.208141\"/>\r\n     <use style=\"fill:#1f77b4;stroke:#1f77b4;\" x=\"145.688604\" xlink:href=\"#mdfc03d0730\" y=\"81.81129\"/>\r\n     <use style=\"fill:#1f77b4;stroke:#1f77b4;\" x=\"129.194272\" xlink:href=\"#mdfc03d0730\" y=\"90.839246\"/>\r\n     <use style=\"fill:#1f77b4;stroke:#1f77b4;\" x=\"148.461094\" xlink:href=\"#mdfc03d0730\" y=\"64.971109\"/>\r\n     <use style=\"fill:#1f77b4;stroke:#1f77b4;\" x=\"134.086594\" xlink:href=\"#mdfc03d0730\" y=\"73.825338\"/>\r\n     <use style=\"fill:#1f77b4;stroke:#1f77b4;\" x=\"143.510476\" xlink:href=\"#mdfc03d0730\" y=\"72.296582\"/>\r\n     <use style=\"fill:#1f77b4;stroke:#1f77b4;\" x=\"148.188919\" xlink:href=\"#mdfc03d0730\" y=\"66.896379\"/>\r\n     <use style=\"fill:#1f77b4;stroke:#1f77b4;\" x=\"177.684868\" xlink:href=\"#mdfc03d0730\" y=\"53.562265\"/>\r\n     <use style=\"fill:#1f77b4;stroke:#1f77b4;\" x=\"181.11284\" xlink:href=\"#mdfc03d0730\" y=\"46.127578\"/>\r\n     <use style=\"fill:#1f77b4;stroke:#1f77b4;\" x=\"116.736185\" xlink:href=\"#mdfc03d0730\" y=\"80.920644\"/>\r\n     <use style=\"fill:#1f77b4;stroke:#1f77b4;\" x=\"125.36939\" xlink:href=\"#mdfc03d0730\" y=\"73.54059\"/>\r\n     <use style=\"fill:#1f77b4;stroke:#1f77b4;\" x=\"145.062468\" xlink:href=\"#mdfc03d0730\" y=\"56.693605\"/>\r\n     <use style=\"fill:#1f77b4;stroke:#1f77b4;\" x=\"154.795893\" xlink:href=\"#mdfc03d0730\" y=\"59.72832\"/>\r\n     <use style=\"fill:#1f77b4;stroke:#1f77b4;\" x=\"121.25583\" xlink:href=\"#mdfc03d0730\" y=\"93.697269\"/>\r\n     <use style=\"fill:#1f77b4;stroke:#1f77b4;\" x=\"148.671077\" xlink:href=\"#mdfc03d0730\" y=\"69.084107\"/>\r\n     <use style=\"fill:#1f77b4;stroke:#1f77b4;\" x=\"103.443738\" xlink:href=\"#mdfc03d0730\" y=\"108.952194\"/>\r\n     <use style=\"fill:#1f77b4;stroke:#1f77b4;\" x=\"135.455533\" xlink:href=\"#mdfc03d0730\" y=\"76.320645\"/>\r\n     <use style=\"fill:#1f77b4;stroke:#1f77b4;\" x=\"135.698374\" xlink:href=\"#mdfc03d0730\" y=\"70.395081\"/>\r\n     <use style=\"fill:#1f77b4;stroke:#1f77b4;\" x=\"134.613323\" xlink:href=\"#mdfc03d0730\" y=\"66.219079\"/>\r\n     <use style=\"fill:#1f77b4;stroke:#1f77b4;\" x=\"208.144519\" xlink:href=\"#mdfc03d0730\" y=\"21.352412\"/>\r\n     <use style=\"fill:#1f77b4;stroke:#1f77b4;\" x=\"47.360085\" xlink:href=\"#mdfc03d0730\" y=\"136.922727\"/>\r\n     <use style=\"fill:#1f77b4;stroke:#1f77b4;\" x=\"90.469275\" xlink:href=\"#mdfc03d0730\" y=\"104.902003\"/>\r\n     <use style=\"fill:#1f77b4;stroke:#1f77b4;\" x=\"166.78511\" xlink:href=\"#mdfc03d0730\" y=\"59.129767\"/>\r\n     <use style=\"fill:#1f77b4;stroke:#1f77b4;\" x=\"158.715827\" xlink:href=\"#mdfc03d0730\" y=\"58.238683\"/>\r\n     <use style=\"fill:#1f77b4;stroke:#1f77b4;\" x=\"81.423648\" xlink:href=\"#mdfc03d0730\" y=\"125.512202\"/>\r\n     <use style=\"fill:#1f77b4;stroke:#1f77b4;\" x=\"127.797488\" xlink:href=\"#mdfc03d0730\" y=\"85.092243\"/>\r\n     <use style=\"fill:#1f77b4;stroke:#1f77b4;\" x=\"158.204811\" xlink:href=\"#mdfc03d0730\" y=\"50.663626\"/>\r\n     <use style=\"fill:#1f77b4;stroke:#1f77b4;\" x=\"116.748768\" xlink:href=\"#mdfc03d0730\" y=\"92.94467\"/>\r\n     <use style=\"fill:#1f77b4;stroke:#1f77b4;\" x=\"124.14475\" xlink:href=\"#mdfc03d0730\" y=\"84.542426\"/>\r\n     <use style=\"fill:#1f77b4;stroke:#1f77b4;\" x=\"131.684818\" xlink:href=\"#mdfc03d0730\" y=\"88.683044\"/>\r\n     <use style=\"fill:#1f77b4;stroke:#1f77b4;\" x=\"100.285058\" xlink:href=\"#mdfc03d0730\" y=\"110.044177\"/>\r\n     <use style=\"fill:#1f77b4;stroke:#1f77b4;\" x=\"124.66159\" xlink:href=\"#mdfc03d0730\" y=\"83.72405\"/>\r\n     <use style=\"fill:#1f77b4;stroke:#1f77b4;\" x=\"150.322826\" xlink:href=\"#mdfc03d0730\" y=\"68.197007\"/>\r\n     <use style=\"fill:#1f77b4;stroke:#1f77b4;\" x=\"159.681857\" xlink:href=\"#mdfc03d0730\" y=\"60.44135\"/>\r\n     <use style=\"fill:#1f77b4;stroke:#1f77b4;\" x=\"189.146691\" xlink:href=\"#mdfc03d0730\" y=\"44.098294\"/>\r\n     <use style=\"fill:#1f77b4;stroke:#1f77b4;\" x=\"208.649526\" xlink:href=\"#mdfc03d0730\" y=\"17.989896\"/>\r\n     <use style=\"fill:#1f77b4;stroke:#1f77b4;\" x=\"133.920625\" xlink:href=\"#mdfc03d0730\" y=\"85.37704\"/>\r\n     <use style=\"fill:#1f77b4;stroke:#1f77b4;\" x=\"162.835333\" xlink:href=\"#mdfc03d0730\" y=\"57.802367\"/>\r\n     <use style=\"fill:#1f77b4;stroke:#1f77b4;\" x=\"177.604167\" xlink:href=\"#mdfc03d0730\" y=\"39.902374\"/>\r\n     <use style=\"fill:#1f77b4;stroke:#1f77b4;\" x=\"120.470402\" xlink:href=\"#mdfc03d0730\" y=\"89.537625\"/>\r\n     <use style=\"fill:#1f77b4;stroke:#1f77b4;\" x=\"122.637922\" xlink:href=\"#mdfc03d0730\" y=\"96.394757\"/>\r\n     <use style=\"fill:#1f77b4;stroke:#1f77b4;\" x=\"163.065953\" xlink:href=\"#mdfc03d0730\" y=\"59.1406\"/>\r\n     <use style=\"fill:#1f77b4;stroke:#1f77b4;\" x=\"120.163595\" xlink:href=\"#mdfc03d0730\" y=\"97.187724\"/>\r\n     <use style=\"fill:#1f77b4;stroke:#1f77b4;\" x=\"191.599258\" xlink:href=\"#mdfc03d0730\" y=\"30.135912\"/>\r\n     <use style=\"fill:#1f77b4;stroke:#1f77b4;\" x=\"143.166688\" xlink:href=\"#mdfc03d0730\" y=\"72.581173\"/>\r\n     <use style=\"fill:#1f77b4;stroke:#1f77b4;\" x=\"156.248053\" xlink:href=\"#mdfc03d0730\" y=\"78.281015\"/>\r\n     <use style=\"fill:#1f77b4;stroke:#1f77b4;\" x=\"128.535931\" xlink:href=\"#mdfc03d0730\" y=\"82.07543\"/>\r\n     <use style=\"fill:#1f77b4;stroke:#1f77b4;\" x=\"154.123876\" xlink:href=\"#mdfc03d0730\" y=\"72.578979\"/>\r\n     <use style=\"fill:#1f77b4;stroke:#1f77b4;\" x=\"189.190554\" xlink:href=\"#mdfc03d0730\" y=\"40.660075\"/>\r\n     <use style=\"fill:#1f77b4;stroke:#1f77b4;\" x=\"160.649461\" xlink:href=\"#mdfc03d0730\" y=\"58.876083\"/>\r\n     <use style=\"fill:#1f77b4;stroke:#1f77b4;\" x=\"173.368004\" xlink:href=\"#mdfc03d0730\" y=\"49.542361\"/>\r\n     <use style=\"fill:#1f77b4;stroke:#1f77b4;\" x=\"140.719413\" xlink:href=\"#mdfc03d0730\" y=\"70.478044\"/>\r\n    </g>\r\n   </g>\r\n   <g id=\"matplotlib.axis_1\">\r\n    <g id=\"xtick_1\">\r\n     <g id=\"line2d_1\">\r\n      <defs>\r\n       <path d=\"M 0 0 \r\nL 0 3.5 \r\n\" id=\"m3ade54dd24\" style=\"stroke:#000000;stroke-width:0.8;\"/>\r\n      </defs>\r\n      <g>\r\n       <use style=\"stroke:#000000;stroke-width:0.8;\" x=\"65.651755\" xlink:href=\"#m3ade54dd24\" y=\"143.1\"/>\r\n      </g>\r\n     </g>\r\n     <g id=\"text_1\">\r\n      <!-- −2 -->\r\n      <g transform=\"translate(58.280661 157.698438)scale(0.1 -0.1)\">\r\n       <defs>\r\n        <path d=\"M 10.59375 35.5 \r\nL 73.1875 35.5 \r\nL 73.1875 27.203125 \r\nL 10.59375 27.203125 \r\nz\r\n\" id=\"DejaVuSans-8722\"/>\r\n        <path d=\"M 19.1875 8.296875 \r\nL 53.609375 8.296875 \r\nL 53.609375 0 \r\nL 7.328125 0 \r\nL 7.328125 8.296875 \r\nQ 12.9375 14.109375 22.625 23.890625 \r\nQ 32.328125 33.6875 34.8125 36.53125 \r\nQ 39.546875 41.84375 41.421875 45.53125 \r\nQ 43.3125 49.21875 43.3125 52.78125 \r\nQ 43.3125 58.59375 39.234375 62.25 \r\nQ 35.15625 65.921875 28.609375 65.921875 \r\nQ 23.96875 65.921875 18.8125 64.3125 \r\nQ 13.671875 62.703125 7.8125 59.421875 \r\nL 7.8125 69.390625 \r\nQ 13.765625 71.78125 18.9375 73 \r\nQ 24.125 74.21875 28.421875 74.21875 \r\nQ 39.75 74.21875 46.484375 68.546875 \r\nQ 53.21875 62.890625 53.21875 53.421875 \r\nQ 53.21875 48.921875 51.53125 44.890625 \r\nQ 49.859375 40.875 45.40625 35.40625 \r\nQ 44.1875 33.984375 37.640625 27.21875 \r\nQ 31.109375 20.453125 19.1875 8.296875 \r\nz\r\n\" id=\"DejaVuSans-50\"/>\r\n       </defs>\r\n       <use xlink:href=\"#DejaVuSans-8722\"/>\r\n       <use x=\"83.789062\" xlink:href=\"#DejaVuSans-50\"/>\r\n      </g>\r\n     </g>\r\n    </g>\r\n    <g id=\"xtick_2\">\r\n     <g id=\"line2d_2\">\r\n      <g>\r\n       <use style=\"stroke:#000000;stroke-width:0.8;\" x=\"119.826529\" xlink:href=\"#m3ade54dd24\" y=\"143.1\"/>\r\n      </g>\r\n     </g>\r\n     <g id=\"text_2\">\r\n      <!-- 0 -->\r\n      <g transform=\"translate(116.645279 157.698438)scale(0.1 -0.1)\">\r\n       <defs>\r\n        <path d=\"M 31.78125 66.40625 \r\nQ 24.171875 66.40625 20.328125 58.90625 \r\nQ 16.5 51.421875 16.5 36.375 \r\nQ 16.5 21.390625 20.328125 13.890625 \r\nQ 24.171875 6.390625 31.78125 6.390625 \r\nQ 39.453125 6.390625 43.28125 13.890625 \r\nQ 47.125 21.390625 47.125 36.375 \r\nQ 47.125 51.421875 43.28125 58.90625 \r\nQ 39.453125 66.40625 31.78125 66.40625 \r\nz\r\nM 31.78125 74.21875 \r\nQ 44.046875 74.21875 50.515625 64.515625 \r\nQ 56.984375 54.828125 56.984375 36.375 \r\nQ 56.984375 17.96875 50.515625 8.265625 \r\nQ 44.046875 -1.421875 31.78125 -1.421875 \r\nQ 19.53125 -1.421875 13.0625 8.265625 \r\nQ 6.59375 17.96875 6.59375 36.375 \r\nQ 6.59375 54.828125 13.0625 64.515625 \r\nQ 19.53125 74.21875 31.78125 74.21875 \r\nz\r\n\" id=\"DejaVuSans-48\"/>\r\n       </defs>\r\n       <use xlink:href=\"#DejaVuSans-48\"/>\r\n      </g>\r\n     </g>\r\n    </g>\r\n    <g id=\"xtick_3\">\r\n     <g id=\"line2d_3\">\r\n      <g>\r\n       <use style=\"stroke:#000000;stroke-width:0.8;\" x=\"174.001302\" xlink:href=\"#m3ade54dd24\" y=\"143.1\"/>\r\n      </g>\r\n     </g>\r\n     <g id=\"text_3\">\r\n      <!-- 2 -->\r\n      <g transform=\"translate(170.820052 157.698438)scale(0.1 -0.1)\">\r\n       <use xlink:href=\"#DejaVuSans-50\"/>\r\n      </g>\r\n     </g>\r\n    </g>\r\n    <g id=\"xtick_4\">\r\n     <g id=\"line2d_4\">\r\n      <g>\r\n       <use style=\"stroke:#000000;stroke-width:0.8;\" x=\"228.176076\" xlink:href=\"#m3ade54dd24\" y=\"143.1\"/>\r\n      </g>\r\n     </g>\r\n     <g id=\"text_4\">\r\n      <!-- 4 -->\r\n      <g transform=\"translate(224.994826 157.698438)scale(0.1 -0.1)\">\r\n       <defs>\r\n        <path d=\"M 37.796875 64.3125 \r\nL 12.890625 25.390625 \r\nL 37.796875 25.390625 \r\nz\r\nM 35.203125 72.90625 \r\nL 47.609375 72.90625 \r\nL 47.609375 25.390625 \r\nL 58.015625 25.390625 \r\nL 58.015625 17.1875 \r\nL 47.609375 17.1875 \r\nL 47.609375 0 \r\nL 37.796875 0 \r\nL 37.796875 17.1875 \r\nL 4.890625 17.1875 \r\nL 4.890625 26.703125 \r\nz\r\n\" id=\"DejaVuSans-52\"/>\r\n       </defs>\r\n       <use xlink:href=\"#DejaVuSans-52\"/>\r\n      </g>\r\n     </g>\r\n    </g>\r\n   </g>\r\n   <g id=\"matplotlib.axis_2\">\r\n    <g id=\"ytick_1\">\r\n     <g id=\"line2d_5\">\r\n      <defs>\r\n       <path d=\"M 0 0 \r\nL -3.5 0 \r\n\" id=\"m302a16ad1f\" style=\"stroke:#000000;stroke-width:0.8;\"/>\r\n      </defs>\r\n      <g>\r\n       <use style=\"stroke:#000000;stroke-width:0.8;\" x=\"38.482813\" xlink:href=\"#m302a16ad1f\" y=\"136.370461\"/>\r\n      </g>\r\n     </g>\r\n     <g id=\"text_5\">\r\n      <!-- −5.0 -->\r\n      <g transform=\"translate(7.2 140.169679)scale(0.1 -0.1)\">\r\n       <defs>\r\n        <path d=\"M 10.796875 72.90625 \r\nL 49.515625 72.90625 \r\nL 49.515625 64.59375 \r\nL 19.828125 64.59375 \r\nL 19.828125 46.734375 \r\nQ 21.96875 47.46875 24.109375 47.828125 \r\nQ 26.265625 48.1875 28.421875 48.1875 \r\nQ 40.625 48.1875 47.75 41.5 \r\nQ 54.890625 34.8125 54.890625 23.390625 \r\nQ 54.890625 11.625 47.5625 5.09375 \r\nQ 40.234375 -1.421875 26.90625 -1.421875 \r\nQ 22.3125 -1.421875 17.546875 -0.640625 \r\nQ 12.796875 0.140625 7.71875 1.703125 \r\nL 7.71875 11.625 \r\nQ 12.109375 9.234375 16.796875 8.0625 \r\nQ 21.484375 6.890625 26.703125 6.890625 \r\nQ 35.15625 6.890625 40.078125 11.328125 \r\nQ 45.015625 15.765625 45.015625 23.390625 \r\nQ 45.015625 31 40.078125 35.4375 \r\nQ 35.15625 39.890625 26.703125 39.890625 \r\nQ 22.75 39.890625 18.8125 39.015625 \r\nQ 14.890625 38.140625 10.796875 36.28125 \r\nz\r\n\" id=\"DejaVuSans-53\"/>\r\n        <path d=\"M 10.6875 12.40625 \r\nL 21 12.40625 \r\nL 21 0 \r\nL 10.6875 0 \r\nz\r\n\" id=\"DejaVuSans-46\"/>\r\n       </defs>\r\n       <use xlink:href=\"#DejaVuSans-8722\"/>\r\n       <use x=\"83.789062\" xlink:href=\"#DejaVuSans-53\"/>\r\n       <use x=\"147.412109\" xlink:href=\"#DejaVuSans-46\"/>\r\n       <use x=\"179.199219\" xlink:href=\"#DejaVuSans-48\"/>\r\n      </g>\r\n     </g>\r\n    </g>\r\n    <g id=\"ytick_2\">\r\n     <g id=\"line2d_6\">\r\n      <g>\r\n       <use style=\"stroke:#000000;stroke-width:0.8;\" x=\"38.482813\" xlink:href=\"#m302a16ad1f\" y=\"111.819077\"/>\r\n      </g>\r\n     </g>\r\n     <g id=\"text_6\">\r\n      <!-- −2.5 -->\r\n      <g transform=\"translate(7.2 115.618296)scale(0.1 -0.1)\">\r\n       <use xlink:href=\"#DejaVuSans-8722\"/>\r\n       <use x=\"83.789062\" xlink:href=\"#DejaVuSans-50\"/>\r\n       <use x=\"147.412109\" xlink:href=\"#DejaVuSans-46\"/>\r\n       <use x=\"179.199219\" xlink:href=\"#DejaVuSans-53\"/>\r\n      </g>\r\n     </g>\r\n    </g>\r\n    <g id=\"ytick_3\">\r\n     <g id=\"line2d_7\">\r\n      <g>\r\n       <use style=\"stroke:#000000;stroke-width:0.8;\" x=\"38.482813\" xlink:href=\"#m302a16ad1f\" y=\"87.267694\"/>\r\n      </g>\r\n     </g>\r\n     <g id=\"text_7\">\r\n      <!-- 0.0 -->\r\n      <g transform=\"translate(15.579688 91.066913)scale(0.1 -0.1)\">\r\n       <use xlink:href=\"#DejaVuSans-48\"/>\r\n       <use x=\"63.623047\" xlink:href=\"#DejaVuSans-46\"/>\r\n       <use x=\"95.410156\" xlink:href=\"#DejaVuSans-48\"/>\r\n      </g>\r\n     </g>\r\n    </g>\r\n    <g id=\"ytick_4\">\r\n     <g id=\"line2d_8\">\r\n      <g>\r\n       <use style=\"stroke:#000000;stroke-width:0.8;\" x=\"38.482813\" xlink:href=\"#m302a16ad1f\" y=\"62.71631\"/>\r\n      </g>\r\n     </g>\r\n     <g id=\"text_8\">\r\n      <!-- 2.5 -->\r\n      <g transform=\"translate(15.579688 66.515529)scale(0.1 -0.1)\">\r\n       <use xlink:href=\"#DejaVuSans-50\"/>\r\n       <use x=\"63.623047\" xlink:href=\"#DejaVuSans-46\"/>\r\n       <use x=\"95.410156\" xlink:href=\"#DejaVuSans-53\"/>\r\n      </g>\r\n     </g>\r\n    </g>\r\n    <g id=\"ytick_5\">\r\n     <g id=\"line2d_9\">\r\n      <g>\r\n       <use style=\"stroke:#000000;stroke-width:0.8;\" x=\"38.482813\" xlink:href=\"#m302a16ad1f\" y=\"38.164927\"/>\r\n      </g>\r\n     </g>\r\n     <g id=\"text_9\">\r\n      <!-- 5.0 -->\r\n      <g transform=\"translate(15.579688 41.964146)scale(0.1 -0.1)\">\r\n       <use xlink:href=\"#DejaVuSans-53\"/>\r\n       <use x=\"63.623047\" xlink:href=\"#DejaVuSans-46\"/>\r\n       <use x=\"95.410156\" xlink:href=\"#DejaVuSans-48\"/>\r\n      </g>\r\n     </g>\r\n    </g>\r\n    <g id=\"ytick_6\">\r\n     <g id=\"line2d_10\">\r\n      <g>\r\n       <use style=\"stroke:#000000;stroke-width:0.8;\" x=\"38.482813\" xlink:href=\"#m302a16ad1f\" y=\"13.613544\"/>\r\n      </g>\r\n     </g>\r\n     <g id=\"text_10\">\r\n      <!-- 7.5 -->\r\n      <g transform=\"translate(15.579688 17.412762)scale(0.1 -0.1)\">\r\n       <defs>\r\n        <path d=\"M 8.203125 72.90625 \r\nL 55.078125 72.90625 \r\nL 55.078125 68.703125 \r\nL 28.609375 0 \r\nL 18.3125 0 \r\nL 43.21875 64.59375 \r\nL 8.203125 64.59375 \r\nz\r\n\" id=\"DejaVuSans-55\"/>\r\n       </defs>\r\n       <use xlink:href=\"#DejaVuSans-55\"/>\r\n       <use x=\"63.623047\" xlink:href=\"#DejaVuSans-46\"/>\r\n       <use x=\"95.410156\" xlink:href=\"#DejaVuSans-53\"/>\r\n      </g>\r\n     </g>\r\n    </g>\r\n   </g>\r\n   <g id=\"patch_3\">\r\n    <path d=\"M 38.482813 143.1 \r\nL 38.482813 7.2 \r\n\" style=\"fill:none;stroke:#000000;stroke-linecap:square;stroke-linejoin:miter;stroke-width:0.8;\"/>\r\n   </g>\r\n   <g id=\"patch_4\">\r\n    <path d=\"M 233.782813 143.1 \r\nL 233.782813 7.2 \r\n\" style=\"fill:none;stroke:#000000;stroke-linecap:square;stroke-linejoin:miter;stroke-width:0.8;\"/>\r\n   </g>\r\n   <g id=\"patch_5\">\r\n    <path d=\"M 38.482813 143.1 \r\nL 233.782813 143.1 \r\n\" style=\"fill:none;stroke:#000000;stroke-linecap:square;stroke-linejoin:miter;stroke-width:0.8;\"/>\r\n   </g>\r\n   <g id=\"patch_6\">\r\n    <path d=\"M 38.482813 7.2 \r\nL 233.782813 7.2 \r\n\" style=\"fill:none;stroke:#000000;stroke-linecap:square;stroke-linejoin:miter;stroke-width:0.8;\"/>\r\n   </g>\r\n  </g>\r\n </g>\r\n <defs>\r\n  <clipPath id=\"p9e40597d2c\">\r\n   <rect height=\"135.9\" width=\"195.3\" x=\"38.482813\" y=\"7.2\"/>\r\n  </clipPath>\r\n </defs>\r\n</svg>\r\n"
     },
     "metadata": {
      "needs_background": "light"
     }
    }
   ],
   "source": [
    "d2l.set_figsize()\n",
    "d2l.plt.scatter(d2l.numpy(data[:100, 0]), d2l.numpy(data[:100, 1]));\n",
    "print(f'The covariance matrix is\\n{d2l.matmul(tf.transpose(A), A)}')"
   ]
  },
  {
   "cell_type": "code",
   "execution_count": 5,
   "metadata": {},
   "outputs": [],
   "source": [
    "batch_size = 8\n",
    "data_iter = d2l.load_array((data,), batch_size)"
   ]
  },
  {
   "cell_type": "code",
   "execution_count": 6,
   "metadata": {},
   "outputs": [],
   "source": [
    "net_G = tf.keras.Sequential()\n",
    "net_G.add(tf.keras.layers.Dense(2))"
   ]
  },
  {
   "cell_type": "markdown",
   "metadata": {},
   "source": [
    "tf.keras.activations.tanh(a)\n",
    "https://www.tensorflow.org/api_docs/python/tf/keras/activations/tanh\n"
   ]
  },
  {
   "cell_type": "code",
   "execution_count": 7,
   "metadata": {},
   "outputs": [],
   "source": [
    "net_D = tf.keras.Sequential()\n",
    "net_D.add(tf.keras.layers.Dense(5, activation='tanh'))\n",
    "net_D.add(tf.keras.layers.Dense(3, activation='tanh'))\n",
    "net_D.add(tf.keras.layers.Dense(1))"
   ]
  },
  {
   "cell_type": "markdown",
   "metadata": {},
   "source": [
    "with tf.GradientTape() as t:\n",
    "http://preview.d2l.ai/d2l-en/master/chapter_preliminaries/autograd.html\n"
   ]
  },
  {
   "cell_type": "markdown",
   "metadata": {},
   "source": [
    "t.gradient(y, x) \n",
    "t.gradient(loss_D, trainer_D) "
   ]
  },
  {
   "cell_type": "code",
   "execution_count": 8,
   "metadata": {},
   "outputs": [],
   "source": [
    "#@save\n",
    "def update_D(X, Z, net_D, net_G, loss, trainer_D):\n",
    "    \"\"\"Update discriminator.\"\"\"\n",
    "    batch_size = np.array(X).shape[0]\n",
    "    ones = tf.ones((batch_size,), tf.float32)\n",
    "    zeros = tf.zeros((batch_size,), tf.float32)\n",
    "    with tf.GradientTape() as t:\n",
    "        real_Y = net_D(tf.convert_to_tensor(X))\n",
    "        fake_X = net_G(tf.convert_to_tensor(Z))\n",
    "        # Do not need to compute gradient for `net_G`, detach it from\n",
    "        # computing gradients.\n",
    "        fake_Y = net_D(tf.stop_gradient(fake_X))\n",
    "        loss_D = (loss(real_Y, ones) + loss(fake_Y, zeros)) / 2\n",
    "    t.gradient(loss_D, net_D.trainable_variables) \n",
    "    trainer_D.step(batch_size)\n",
    "    return float(loss_D.sum())"
   ]
  },
  {
   "cell_type": "code",
   "execution_count": 9,
   "metadata": {},
   "outputs": [],
   "source": [
    "#@save\n",
    "def update_G(Z, net_D, net_G, loss, trainer_G):\n",
    "    \"\"\"Update generator.\"\"\"\n",
    "    batch_size = np.array(Z).shape[0]\n",
    "    ones = tf.ones((batch_size,), tf.float32)\n",
    "    with tf.GradientTape() as t:\n",
    "        # We could reuse `fake_X` from `update_D` to save computation\n",
    "        fake_X = net_G(tf.convert_to_tensor(Z))\n",
    "        # Recomputing `fake_Y` is needed since `net_D` is changed\n",
    "        fake_Y = net_D(tf.stop_gradient(fake_X))\n",
    "        loss_G = loss(fake_Y, ones)\n",
    "    t.gradient(loss_G, net_G.trainable_variables) \n",
    "    trainer_G.step(batch_size)\n",
    "    return float(loss_G.sum())"
   ]
  },
  {
   "cell_type": "markdown",
   "metadata": {},
   "source": [
    "https://www.google.com/search?q=numpy()+tensorflow&rlz=1C1GCEA_enJP909HK909&oq=numpy()+tensorflow&aqs=chrome..69i57j0l7.2792j0j1&sourceid=chrome&ie=UTF-8"
   ]
  },
  {
   "cell_type": "markdown",
   "metadata": {},
   "source": [
    "https://www.tensorflow.org/api_docs/python/tf/keras/optimizers/Adam\n",
    "tf.keras.optimizers.Adam(learning_rate=0.1)\n",
    "m.compile\n",
    "m = tf.keras.models.Sequential([tf.keras.layers.Dense(10)])\n",
    "m.compile(opt, loss='mse')"
   ]
  },
  {
   "cell_type": "markdown",
   "metadata": {},
   "source": [
    "https://stackoverflow.com/questions/55683729/bcewithlogitsloss-in-keras\n",
    "https://www.tensorflow.org/api_docs/python/tf/keras/losses/BinaryCrossentropy\n"
   ]
  },
  {
   "cell_type": "markdown",
   "metadata": {},
   "source": [
    "def weight_variable(shape, w=0.1):\n",
    "  initial = tf.truncated_normal(shape, stddev=w)\n",
    "  return tf.Variable(initial)\n",
    "  https://stackoverflow.com/questions/43489697/tensorflow-weight-initialization\n",
    "\n",
    "  The values generated are similar to values from a tf.keras.initializers.RandomNormal initializer except that values more than two standard deviations from the mean are discarded and re-drawn.\n",
    "  https://keras.io/api/layers/initializers/"
   ]
  },
  {
   "cell_type": "markdown",
   "metadata": {},
   "source": [
    "tf.Variable(initial_value=w_init(\n",
    "            shape=(input_dim, unit), dtype=tf.float32), trainable=True)\n",
    "            https://zhuanlan.zhihu.com/p/59481536"
   ]
  },
  {
   "cell_type": "markdown",
   "metadata": {},
   "source": [
    "https://keras.io/api/layers/initializers/"
   ]
  },
  {
   "cell_type": "markdown",
   "metadata": {},
   "source": [
    "numpy.array\n",
    "https://stackoverflow.com/questions/41198144/attributeerror-tuple-object-has-no-attribute-shape"
   ]
  },
  {
   "cell_type": "markdown",
   "metadata": {},
   "source": [
    "https://github.com/tensorflow/tensorflow/issues/29972"
   ]
  },
  {
   "cell_type": "markdown",
   "metadata": {},
   "source": [
    "tf.stop_gradient(y)\n",
    "http://preview.d2l.ai/d2l-en/master/chapter_preliminaries/autograd.html?highlight=detach"
   ]
  },
  {
   "cell_type": "markdown",
   "metadata": {},
   "source": [
    " from_logits=True 9.2.4 TensorFlow 2.0 神经网络实践"
   ]
  },
  {
   "cell_type": "code",
   "execution_count": 10,
   "metadata": {},
   "outputs": [],
   "source": [
    "def train(net_D, net_G, data_iter, num_epochs, lr_D, lr_G, latent_dim, data):\n",
    "    loss = tf.keras.losses.BinaryCrossentropy(reduction=\n",
    "                    tf.keras.losses.Reduction.SUM)\n",
    "    tf.keras.initializers.RandomNormal(net_D, stddev=0.02)\n",
    "    tf.keras.initializers.RandomNormal(net_G, stddev=0.02)\n",
    "    trainer_D = net_D.compile(tf.keras.optimizers.Adam(learning_rate=lr_D), loss=loss)\n",
    "    trainer_G = net_G.compile(tf.keras.optimizers.Adam(learning_rate=lr_G), loss=loss)\n",
    "    animator = d2l.Animator(xlabel='epoch', ylabel='loss',\n",
    "                            xlim=[1, num_epochs], nrows=2, figsize=(5, 5),\n",
    "                            legend=['discriminator', 'generator'])\n",
    "    animator.fig.subplots_adjust(hspace=0.3)\n",
    "    for epoch in range(num_epochs):\n",
    "        # Train one epoch\n",
    "        timer = d2l.Timer()\n",
    "        metric = d2l.Accumulator(3)  # loss_D, loss_G, num_examples\n",
    "        for X in data_iter:\n",
    "            batch_size = np.array(X).shape[0]\n",
    "            Z = d2l.normal([batch_size, latent_dim], 0, 1, tf.float32)\n",
    "            metric.add(update_D(X, Z, net_D, net_G, loss, trainer_D),\n",
    "                       update_G(Z, net_D, net_G, loss, trainer_G),\n",
    "                       batch_size)\n",
    "        # Visualize generated examples\n",
    "        Z = d2l.normal([100, latent_dim], 0, 1, tf.float32)\n",
    "        fake_X = net_G(Z).Tensor.numpy()\n",
    "        animator.axes[1].cla()\n",
    "        animator.axes[1].scatter(data[:, 0], data[:, 1])\n",
    "        animator.axes[1].scatter(fake_X[:, 0], fake_X[:, 1])\n",
    "        animator.axes[1].legend(['real', 'generated'])\n",
    "        # Show the losses\n",
    "        loss_D, loss_G = metric[0]/metric[2], metric[1]/metric[2]\n",
    "        animator.add(epoch + 1, (loss_D, loss_G))\n",
    "    print(f'loss_D {loss_D:.3f}, loss_G {loss_G:.3f}, '\n",
    "          f'{metric[2] / timer.stop():.1f} examples/sec')"
   ]
  },
  {
   "cell_type": "code",
   "execution_count": 11,
   "metadata": {
    "tags": []
   },
   "outputs": [
    {
     "output_type": "error",
     "ename": "AttributeError",
     "evalue": "'NoneType' object has no attribute 'step'",
     "traceback": [
      "\u001b[1;31m---------------------------------------------------------------------------\u001b[0m",
      "\u001b[1;31mAttributeError\u001b[0m                            Traceback (most recent call last)",
      "\u001b[1;32m<ipython-input-11-251159593cac>\u001b[0m in \u001b[0;36m<module>\u001b[1;34m\u001b[0m\n\u001b[0;32m      1\u001b[0m \u001b[0mlr_D\u001b[0m\u001b[1;33m,\u001b[0m \u001b[0mlr_G\u001b[0m\u001b[1;33m,\u001b[0m \u001b[0mlatent_dim\u001b[0m\u001b[1;33m,\u001b[0m \u001b[0mnum_epochs\u001b[0m \u001b[1;33m=\u001b[0m \u001b[1;36m0.05\u001b[0m\u001b[1;33m,\u001b[0m \u001b[1;36m0.005\u001b[0m\u001b[1;33m,\u001b[0m \u001b[1;36m2\u001b[0m\u001b[1;33m,\u001b[0m \u001b[1;36m20\u001b[0m\u001b[1;33m\u001b[0m\u001b[1;33m\u001b[0m\u001b[0m\n\u001b[0;32m      2\u001b[0m train(net_D, net_G, data_iter, num_epochs, lr_D, lr_G,\n\u001b[1;32m----> 3\u001b[1;33m       latent_dim, d2l.numpy(data[:100]))\n\u001b[0m",
      "\u001b[1;32m<ipython-input-10-fb2e44b40e46>\u001b[0m in \u001b[0;36mtrain\u001b[1;34m(net_D, net_G, data_iter, num_epochs, lr_D, lr_G, latent_dim, data)\u001b[0m\n\u001b[0;32m     17\u001b[0m             \u001b[0mbatch_size\u001b[0m \u001b[1;33m=\u001b[0m \u001b[0mnp\u001b[0m\u001b[1;33m.\u001b[0m\u001b[0marray\u001b[0m\u001b[1;33m(\u001b[0m\u001b[0mX\u001b[0m\u001b[1;33m)\u001b[0m\u001b[1;33m.\u001b[0m\u001b[0mshape\u001b[0m\u001b[1;33m[\u001b[0m\u001b[1;36m0\u001b[0m\u001b[1;33m]\u001b[0m\u001b[1;33m\u001b[0m\u001b[1;33m\u001b[0m\u001b[0m\n\u001b[0;32m     18\u001b[0m             \u001b[0mZ\u001b[0m \u001b[1;33m=\u001b[0m \u001b[0md2l\u001b[0m\u001b[1;33m.\u001b[0m\u001b[0mnormal\u001b[0m\u001b[1;33m(\u001b[0m\u001b[1;33m[\u001b[0m\u001b[0mbatch_size\u001b[0m\u001b[1;33m,\u001b[0m \u001b[0mlatent_dim\u001b[0m\u001b[1;33m]\u001b[0m\u001b[1;33m,\u001b[0m \u001b[1;36m0\u001b[0m\u001b[1;33m,\u001b[0m \u001b[1;36m1\u001b[0m\u001b[1;33m,\u001b[0m \u001b[0mtf\u001b[0m\u001b[1;33m.\u001b[0m\u001b[0mfloat32\u001b[0m\u001b[1;33m)\u001b[0m\u001b[1;33m\u001b[0m\u001b[1;33m\u001b[0m\u001b[0m\n\u001b[1;32m---> 19\u001b[1;33m             metric.add(update_D(X, Z, net_D, net_G, loss, trainer_D),\n\u001b[0m\u001b[0;32m     20\u001b[0m                        \u001b[0mupdate_G\u001b[0m\u001b[1;33m(\u001b[0m\u001b[0mZ\u001b[0m\u001b[1;33m,\u001b[0m \u001b[0mnet_D\u001b[0m\u001b[1;33m,\u001b[0m \u001b[0mnet_G\u001b[0m\u001b[1;33m,\u001b[0m \u001b[0mloss\u001b[0m\u001b[1;33m,\u001b[0m \u001b[0mtrainer_G\u001b[0m\u001b[1;33m)\u001b[0m\u001b[1;33m,\u001b[0m\u001b[1;33m\u001b[0m\u001b[1;33m\u001b[0m\u001b[0m\n\u001b[0;32m     21\u001b[0m                        batch_size)\n",
      "\u001b[1;32m<ipython-input-8-bfc54d9868ec>\u001b[0m in \u001b[0;36mupdate_D\u001b[1;34m(X, Z, net_D, net_G, loss, trainer_D)\u001b[0m\n\u001b[0;32m     13\u001b[0m         \u001b[0mloss_D\u001b[0m \u001b[1;33m=\u001b[0m \u001b[1;33m(\u001b[0m\u001b[0mloss\u001b[0m\u001b[1;33m(\u001b[0m\u001b[0mreal_Y\u001b[0m\u001b[1;33m,\u001b[0m \u001b[0mones\u001b[0m\u001b[1;33m)\u001b[0m \u001b[1;33m+\u001b[0m \u001b[0mloss\u001b[0m\u001b[1;33m(\u001b[0m\u001b[0mfake_Y\u001b[0m\u001b[1;33m,\u001b[0m \u001b[0mzeros\u001b[0m\u001b[1;33m)\u001b[0m\u001b[1;33m)\u001b[0m \u001b[1;33m/\u001b[0m \u001b[1;36m2\u001b[0m\u001b[1;33m\u001b[0m\u001b[1;33m\u001b[0m\u001b[0m\n\u001b[0;32m     14\u001b[0m     \u001b[0mt\u001b[0m\u001b[1;33m.\u001b[0m\u001b[0mgradient\u001b[0m\u001b[1;33m(\u001b[0m\u001b[0mloss_D\u001b[0m\u001b[1;33m,\u001b[0m \u001b[0mnet_D\u001b[0m\u001b[1;33m.\u001b[0m\u001b[0mtrainable_variables\u001b[0m\u001b[1;33m)\u001b[0m\u001b[1;33m\u001b[0m\u001b[1;33m\u001b[0m\u001b[0m\n\u001b[1;32m---> 15\u001b[1;33m     \u001b[0mtrainer_D\u001b[0m\u001b[1;33m.\u001b[0m\u001b[0mstep\u001b[0m\u001b[1;33m(\u001b[0m\u001b[0mbatch_size\u001b[0m\u001b[1;33m)\u001b[0m\u001b[1;33m\u001b[0m\u001b[1;33m\u001b[0m\u001b[0m\n\u001b[0m\u001b[0;32m     16\u001b[0m     \u001b[1;32mreturn\u001b[0m \u001b[0mfloat\u001b[0m\u001b[1;33m(\u001b[0m\u001b[0mloss_D\u001b[0m\u001b[1;33m.\u001b[0m\u001b[0msum\u001b[0m\u001b[1;33m(\u001b[0m\u001b[1;33m)\u001b[0m\u001b[1;33m)\u001b[0m\u001b[1;33m\u001b[0m\u001b[1;33m\u001b[0m\u001b[0m\n",
      "\u001b[1;31mAttributeError\u001b[0m: 'NoneType' object has no attribute 'step'"
     ]
    }
   ],
   "source": [
    "lr_D, lr_G, latent_dim, num_epochs = 0.05, 0.005, 2, 20\n",
    "train(net_D, net_G, data_iter, num_epochs, lr_D, lr_G,\n",
    "      latent_dim, d2l.numpy(data[:100]))"
   ]
  },
  {
   "cell_type": "markdown",
   "metadata": {},
   "source": [
    "https://www.tensorflow.org/api_docs/python/tf/ones"
   ]
  }
 ]
}