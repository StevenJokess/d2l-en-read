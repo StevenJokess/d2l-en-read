{
 "metadata": {
  "language_info": {
   "codemirror_mode": {
    "name": "ipython",
    "version": 3
   },
   "file_extension": ".py",
   "mimetype": "text/x-python",
   "name": "python",
   "nbconvert_exporter": "python",
   "pygments_lexer": "ipython3",
   "version": "3.7.8-final"
  },
  "orig_nbformat": 2,
  "kernelspec": {
   "name": "python37864bittf2conda1de394c9651a4d19aa25641a40b8d2d8",
   "display_name": "Python 3.7.8 64-bit ('tf2': conda)"
  }
 },
 "nbformat": 4,
 "nbformat_minor": 2,
 "cells": [
  {
   "cell_type": "markdown",
   "metadata": {},
   "source": [
    "http://preview.d2l.ai/d2l-en/master/chapter_generative-adversarial-networks/gan.html"
   ]
  },
  {
   "cell_type": "code",
   "execution_count": 1,
   "metadata": {},
   "outputs": [],
   "source": [
    "%matplotlib inline\n",
    "from d2l import tensorflow as d2l\n",
    "import tensorflow as tf"
   ]
  },
  {
   "cell_type": "markdown",
   "metadata": {},
   "source": [
    "https://www.tensorflow.org/api_docs/python/tf/random/normal"
   ]
  },
  {
   "cell_type": "markdown",
   "metadata": {},
   "source": [
    "https://www.tensorflow.org/api_docs/python/tf/norm"
   ]
  },
  {
   "cell_type": "code",
   "execution_count": 2,
   "metadata": {},
   "outputs": [],
   "source": [
    "X = d2l.normal([1000, 2], 0.0, 1, tf.float32)"
   ]
  },
  {
   "cell_type": "code",
   "execution_count": 3,
   "metadata": {},
   "outputs": [],
   "source": [
    "A = d2l.tensor([[1, 2], [-0.1, 0.5]], tf.float32)\n",
    "b = d2l.tensor([1, 2], tf.float32)\n",
    "data = d2l.matmul(X, A) + b"
   ]
  },
  {
   "cell_type": "code",
   "execution_count": 4,
   "metadata": {
    "tags": []
   },
   "outputs": [
    {
     "output_type": "stream",
     "name": "stdout",
     "text": "The covariance matrix is\n[[1.01 1.95]\n [1.95 4.25]]\n"
    },
    {
     "output_type": "display_data",
     "data": {
      "text/plain": "<Figure size 252x180 with 1 Axes>",
      "image/svg+xml": "<?xml version=\"1.0\" encoding=\"utf-8\" standalone=\"no\"?>\r\n<!DOCTYPE svg PUBLIC \"-//W3C//DTD SVG 1.1//EN\"\r\n  \"http://www.w3.org/Graphics/SVG/1.1/DTD/svg11.dtd\">\r\n<!-- Created with matplotlib (https://matplotlib.org/) -->\r\n<svg height=\"166.978125pt\" version=\"1.1\" viewBox=\"0 0 231.442187 166.978125\" width=\"231.442187pt\" xmlns=\"http://www.w3.org/2000/svg\" xmlns:xlink=\"http://www.w3.org/1999/xlink\">\r\n <metadata>\r\n  <rdf:RDF xmlns:cc=\"http://creativecommons.org/ns#\" xmlns:dc=\"http://purl.org/dc/elements/1.1/\" xmlns:rdf=\"http://www.w3.org/1999/02/22-rdf-syntax-ns#\">\r\n   <cc:Work>\r\n    <dc:type rdf:resource=\"http://purl.org/dc/dcmitype/StillImage\"/>\r\n    <dc:date>2020-09-03T17:14:55.852777</dc:date>\r\n    <dc:format>image/svg+xml</dc:format>\r\n    <dc:creator>\r\n     <cc:Agent>\r\n      <dc:title>Matplotlib v3.3.1, https://matplotlib.org/</dc:title>\r\n     </cc:Agent>\r\n    </dc:creator>\r\n   </cc:Work>\r\n  </rdf:RDF>\r\n </metadata>\r\n <defs>\r\n  <style type=\"text/css\">*{stroke-linecap:butt;stroke-linejoin:round;}</style>\r\n </defs>\r\n <g id=\"figure_1\">\r\n  <g id=\"patch_1\">\r\n   <path d=\"M 0 166.978125 \r\nL 231.442187 166.978125 \r\nL 231.442187 0 \r\nL 0 0 \r\nz\r\n\" style=\"fill:none;\"/>\r\n  </g>\r\n  <g id=\"axes_1\">\r\n   <g id=\"patch_2\">\r\n    <path d=\"M 28.942188 143.1 \r\nL 224.242188 143.1 \r\nL 224.242188 7.2 \r\nL 28.942188 7.2 \r\nz\r\n\" style=\"fill:#ffffff;\"/>\r\n   </g>\r\n   <g id=\"PathCollection_1\">\r\n    <defs>\r\n     <path d=\"M 0 3 \r\nC 0.795609 3 1.55874 2.683901 2.12132 2.12132 \r\nC 2.683901 1.55874 3 0.795609 3 0 \r\nC 3 -0.795609 2.683901 -1.55874 2.12132 -2.12132 \r\nC 1.55874 -2.683901 0.795609 -3 0 -3 \r\nC -0.795609 -3 -1.55874 -2.683901 -2.12132 -2.12132 \r\nC -2.683901 -1.55874 -3 -0.795609 -3 0 \r\nC -3 0.795609 -2.683901 1.55874 -2.12132 2.12132 \r\nC -1.55874 2.683901 -0.795609 3 0 3 \r\nz\r\n\" id=\"mbb40edf92a\" style=\"stroke:#1f77b4;\"/>\r\n    </defs>\r\n    <g clip-path=\"url(#pf0a71eb89a)\">\r\n     <use style=\"fill:#1f77b4;stroke:#1f77b4;\" x=\"99.579717\" xlink:href=\"#mbb40edf92a\" y=\"109.221505\"/>\r\n     <use style=\"fill:#1f77b4;stroke:#1f77b4;\" x=\"129.184372\" xlink:href=\"#mbb40edf92a\" y=\"79.075831\"/>\r\n     <use style=\"fill:#1f77b4;stroke:#1f77b4;\" x=\"115.189645\" xlink:href=\"#mbb40edf92a\" y=\"82.009394\"/>\r\n     <use style=\"fill:#1f77b4;stroke:#1f77b4;\" x=\"126.034948\" xlink:href=\"#mbb40edf92a\" y=\"68.824762\"/>\r\n     <use style=\"fill:#1f77b4;stroke:#1f77b4;\" x=\"126.671137\" xlink:href=\"#mbb40edf92a\" y=\"82.753608\"/>\r\n     <use style=\"fill:#1f77b4;stroke:#1f77b4;\" x=\"170.724028\" xlink:href=\"#mbb40edf92a\" y=\"40.387608\"/>\r\n     <use style=\"fill:#1f77b4;stroke:#1f77b4;\" x=\"125.419966\" xlink:href=\"#mbb40edf92a\" y=\"78.799699\"/>\r\n     <use style=\"fill:#1f77b4;stroke:#1f77b4;\" x=\"129.686157\" xlink:href=\"#mbb40edf92a\" y=\"88.860512\"/>\r\n     <use style=\"fill:#1f77b4;stroke:#1f77b4;\" x=\"126.212278\" xlink:href=\"#mbb40edf92a\" y=\"80.950214\"/>\r\n     <use style=\"fill:#1f77b4;stroke:#1f77b4;\" x=\"121.003222\" xlink:href=\"#mbb40edf92a\" y=\"81.05659\"/>\r\n     <use style=\"fill:#1f77b4;stroke:#1f77b4;\" x=\"144.603667\" xlink:href=\"#mbb40edf92a\" y=\"67.191694\"/>\r\n     <use style=\"fill:#1f77b4;stroke:#1f77b4;\" x=\"52.756693\" xlink:href=\"#mbb40edf92a\" y=\"126.675793\"/>\r\n     <use style=\"fill:#1f77b4;stroke:#1f77b4;\" x=\"102.82545\" xlink:href=\"#mbb40edf92a\" y=\"113.088524\"/>\r\n     <use style=\"fill:#1f77b4;stroke:#1f77b4;\" x=\"111.538815\" xlink:href=\"#mbb40edf92a\" y=\"87.77653\"/>\r\n     <use style=\"fill:#1f77b4;stroke:#1f77b4;\" x=\"110.145905\" xlink:href=\"#mbb40edf92a\" y=\"68.452813\"/>\r\n     <use style=\"fill:#1f77b4;stroke:#1f77b4;\" x=\"112.102148\" xlink:href=\"#mbb40edf92a\" y=\"80.43136\"/>\r\n     <use style=\"fill:#1f77b4;stroke:#1f77b4;\" x=\"87.376507\" xlink:href=\"#mbb40edf92a\" y=\"112.626418\"/>\r\n     <use style=\"fill:#1f77b4;stroke:#1f77b4;\" x=\"131.795743\" xlink:href=\"#mbb40edf92a\" y=\"66.42723\"/>\r\n     <use style=\"fill:#1f77b4;stroke:#1f77b4;\" x=\"154.384554\" xlink:href=\"#mbb40edf92a\" y=\"55.184611\"/>\r\n     <use style=\"fill:#1f77b4;stroke:#1f77b4;\" x=\"107.406774\" xlink:href=\"#mbb40edf92a\" y=\"86.461235\"/>\r\n     <use style=\"fill:#1f77b4;stroke:#1f77b4;\" x=\"126.737365\" xlink:href=\"#mbb40edf92a\" y=\"85.770531\"/>\r\n     <use style=\"fill:#1f77b4;stroke:#1f77b4;\" x=\"113.487157\" xlink:href=\"#mbb40edf92a\" y=\"93.960275\"/>\r\n     <use style=\"fill:#1f77b4;stroke:#1f77b4;\" x=\"99.06217\" xlink:href=\"#mbb40edf92a\" y=\"101.003588\"/>\r\n     <use style=\"fill:#1f77b4;stroke:#1f77b4;\" x=\"149.281371\" xlink:href=\"#mbb40edf92a\" y=\"67.927851\"/>\r\n     <use style=\"fill:#1f77b4;stroke:#1f77b4;\" x=\"127.39438\" xlink:href=\"#mbb40edf92a\" y=\"92.83321\"/>\r\n     <use style=\"fill:#1f77b4;stroke:#1f77b4;\" x=\"141.010494\" xlink:href=\"#mbb40edf92a\" y=\"76.933645\"/>\r\n     <use style=\"fill:#1f77b4;stroke:#1f77b4;\" x=\"154.020342\" xlink:href=\"#mbb40edf92a\" y=\"77.761799\"/>\r\n     <use style=\"fill:#1f77b4;stroke:#1f77b4;\" x=\"188.046925\" xlink:href=\"#mbb40edf92a\" y=\"41.947611\"/>\r\n     <use style=\"fill:#1f77b4;stroke:#1f77b4;\" x=\"81.091766\" xlink:href=\"#mbb40edf92a\" y=\"128.619005\"/>\r\n     <use style=\"fill:#1f77b4;stroke:#1f77b4;\" x=\"125.079485\" xlink:href=\"#mbb40edf92a\" y=\"89.149718\"/>\r\n     <use style=\"fill:#1f77b4;stroke:#1f77b4;\" x=\"88.851553\" xlink:href=\"#mbb40edf92a\" y=\"128.806381\"/>\r\n     <use style=\"fill:#1f77b4;stroke:#1f77b4;\" x=\"82.148937\" xlink:href=\"#mbb40edf92a\" y=\"116.895347\"/>\r\n     <use style=\"fill:#1f77b4;stroke:#1f77b4;\" x=\"111.747486\" xlink:href=\"#mbb40edf92a\" y=\"84.774995\"/>\r\n     <use style=\"fill:#1f77b4;stroke:#1f77b4;\" x=\"139.197443\" xlink:href=\"#mbb40edf92a\" y=\"58.650266\"/>\r\n     <use style=\"fill:#1f77b4;stroke:#1f77b4;\" x=\"85.290656\" xlink:href=\"#mbb40edf92a\" y=\"117.608411\"/>\r\n     <use style=\"fill:#1f77b4;stroke:#1f77b4;\" x=\"114.732042\" xlink:href=\"#mbb40edf92a\" y=\"95.191982\"/>\r\n     <use style=\"fill:#1f77b4;stroke:#1f77b4;\" x=\"149.844175\" xlink:href=\"#mbb40edf92a\" y=\"73.448731\"/>\r\n     <use style=\"fill:#1f77b4;stroke:#1f77b4;\" x=\"76.628771\" xlink:href=\"#mbb40edf92a\" y=\"120.062779\"/>\r\n     <use style=\"fill:#1f77b4;stroke:#1f77b4;\" x=\"104.696702\" xlink:href=\"#mbb40edf92a\" y=\"102.63732\"/>\r\n     <use style=\"fill:#1f77b4;stroke:#1f77b4;\" x=\"215.364915\" xlink:href=\"#mbb40edf92a\" y=\"13.377273\"/>\r\n     <use style=\"fill:#1f77b4;stroke:#1f77b4;\" x=\"110.006716\" xlink:href=\"#mbb40edf92a\" y=\"103.355237\"/>\r\n     <use style=\"fill:#1f77b4;stroke:#1f77b4;\" x=\"103.80257\" xlink:href=\"#mbb40edf92a\" y=\"108.480418\"/>\r\n     <use style=\"fill:#1f77b4;stroke:#1f77b4;\" x=\"135.325809\" xlink:href=\"#mbb40edf92a\" y=\"82.382547\"/>\r\n     <use style=\"fill:#1f77b4;stroke:#1f77b4;\" x=\"85.496101\" xlink:href=\"#mbb40edf92a\" y=\"117.257952\"/>\r\n     <use style=\"fill:#1f77b4;stroke:#1f77b4;\" x=\"132.743753\" xlink:href=\"#mbb40edf92a\" y=\"98.323092\"/>\r\n     <use style=\"fill:#1f77b4;stroke:#1f77b4;\" x=\"83.681286\" xlink:href=\"#mbb40edf92a\" y=\"115.098327\"/>\r\n     <use style=\"fill:#1f77b4;stroke:#1f77b4;\" x=\"160.359987\" xlink:href=\"#mbb40edf92a\" y=\"53.11211\"/>\r\n     <use style=\"fill:#1f77b4;stroke:#1f77b4;\" x=\"144.87564\" xlink:href=\"#mbb40edf92a\" y=\"69.082225\"/>\r\n     <use style=\"fill:#1f77b4;stroke:#1f77b4;\" x=\"142.417872\" xlink:href=\"#mbb40edf92a\" y=\"70.403659\"/>\r\n     <use style=\"fill:#1f77b4;stroke:#1f77b4;\" x=\"159.771596\" xlink:href=\"#mbb40edf92a\" y=\"60.271188\"/>\r\n     <use style=\"fill:#1f77b4;stroke:#1f77b4;\" x=\"94.382448\" xlink:href=\"#mbb40edf92a\" y=\"94.105206\"/>\r\n     <use style=\"fill:#1f77b4;stroke:#1f77b4;\" x=\"163.762221\" xlink:href=\"#mbb40edf92a\" y=\"54.698191\"/>\r\n     <use style=\"fill:#1f77b4;stroke:#1f77b4;\" x=\"162.007794\" xlink:href=\"#mbb40edf92a\" y=\"56.459665\"/>\r\n     <use style=\"fill:#1f77b4;stroke:#1f77b4;\" x=\"138.910833\" xlink:href=\"#mbb40edf92a\" y=\"69.140407\"/>\r\n     <use style=\"fill:#1f77b4;stroke:#1f77b4;\" x=\"154.373361\" xlink:href=\"#mbb40edf92a\" y=\"65.654233\"/>\r\n     <use style=\"fill:#1f77b4;stroke:#1f77b4;\" x=\"102.207183\" xlink:href=\"#mbb40edf92a\" y=\"99.585926\"/>\r\n     <use style=\"fill:#1f77b4;stroke:#1f77b4;\" x=\"123.595994\" xlink:href=\"#mbb40edf92a\" y=\"86.534877\"/>\r\n     <use style=\"fill:#1f77b4;stroke:#1f77b4;\" x=\"115.570561\" xlink:href=\"#mbb40edf92a\" y=\"80.951745\"/>\r\n     <use style=\"fill:#1f77b4;stroke:#1f77b4;\" x=\"140.635833\" xlink:href=\"#mbb40edf92a\" y=\"71.971003\"/>\r\n     <use style=\"fill:#1f77b4;stroke:#1f77b4;\" x=\"95.248592\" xlink:href=\"#mbb40edf92a\" y=\"106.328254\"/>\r\n     <use style=\"fill:#1f77b4;stroke:#1f77b4;\" x=\"104.668996\" xlink:href=\"#mbb40edf92a\" y=\"77.388663\"/>\r\n     <use style=\"fill:#1f77b4;stroke:#1f77b4;\" x=\"123.203423\" xlink:href=\"#mbb40edf92a\" y=\"106.330576\"/>\r\n     <use style=\"fill:#1f77b4;stroke:#1f77b4;\" x=\"70.543986\" xlink:href=\"#mbb40edf92a\" y=\"136.922727\"/>\r\n     <use style=\"fill:#1f77b4;stroke:#1f77b4;\" x=\"77.735257\" xlink:href=\"#mbb40edf92a\" y=\"111.60458\"/>\r\n     <use style=\"fill:#1f77b4;stroke:#1f77b4;\" x=\"112.349624\" xlink:href=\"#mbb40edf92a\" y=\"87.22071\"/>\r\n     <use style=\"fill:#1f77b4;stroke:#1f77b4;\" x=\"135.651784\" xlink:href=\"#mbb40edf92a\" y=\"67.756357\"/>\r\n     <use style=\"fill:#1f77b4;stroke:#1f77b4;\" x=\"78.606558\" xlink:href=\"#mbb40edf92a\" y=\"122.69633\"/>\r\n     <use style=\"fill:#1f77b4;stroke:#1f77b4;\" x=\"168.026815\" xlink:href=\"#mbb40edf92a\" y=\"59.934127\"/>\r\n     <use style=\"fill:#1f77b4;stroke:#1f77b4;\" x=\"133.105005\" xlink:href=\"#mbb40edf92a\" y=\"78.015431\"/>\r\n     <use style=\"fill:#1f77b4;stroke:#1f77b4;\" x=\"128.86787\" xlink:href=\"#mbb40edf92a\" y=\"68.641258\"/>\r\n     <use style=\"fill:#1f77b4;stroke:#1f77b4;\" x=\"119.131392\" xlink:href=\"#mbb40edf92a\" y=\"81.125355\"/>\r\n     <use style=\"fill:#1f77b4;stroke:#1f77b4;\" x=\"89.176176\" xlink:href=\"#mbb40edf92a\" y=\"105.862403\"/>\r\n     <use style=\"fill:#1f77b4;stroke:#1f77b4;\" x=\"95.586409\" xlink:href=\"#mbb40edf92a\" y=\"100.422004\"/>\r\n     <use style=\"fill:#1f77b4;stroke:#1f77b4;\" x=\"150.080223\" xlink:href=\"#mbb40edf92a\" y=\"71.318344\"/>\r\n     <use style=\"fill:#1f77b4;stroke:#1f77b4;\" x=\"152.849601\" xlink:href=\"#mbb40edf92a\" y=\"61.973846\"/>\r\n     <use style=\"fill:#1f77b4;stroke:#1f77b4;\" x=\"143.558329\" xlink:href=\"#mbb40edf92a\" y=\"71.931575\"/>\r\n     <use style=\"fill:#1f77b4;stroke:#1f77b4;\" x=\"128.982428\" xlink:href=\"#mbb40edf92a\" y=\"78.101035\"/>\r\n     <use style=\"fill:#1f77b4;stroke:#1f77b4;\" x=\"122.48269\" xlink:href=\"#mbb40edf92a\" y=\"96.761922\"/>\r\n     <use style=\"fill:#1f77b4;stroke:#1f77b4;\" x=\"135.479195\" xlink:href=\"#mbb40edf92a\" y=\"83.343314\"/>\r\n     <use style=\"fill:#1f77b4;stroke:#1f77b4;\" x=\"98.505203\" xlink:href=\"#mbb40edf92a\" y=\"109.018229\"/>\r\n     <use style=\"fill:#1f77b4;stroke:#1f77b4;\" x=\"148.001969\" xlink:href=\"#mbb40edf92a\" y=\"66.74994\"/>\r\n     <use style=\"fill:#1f77b4;stroke:#1f77b4;\" x=\"122.604439\" xlink:href=\"#mbb40edf92a\" y=\"83.103235\"/>\r\n     <use style=\"fill:#1f77b4;stroke:#1f77b4;\" x=\"96.467067\" xlink:href=\"#mbb40edf92a\" y=\"105.385546\"/>\r\n     <use style=\"fill:#1f77b4;stroke:#1f77b4;\" x=\"37.81946\" xlink:href=\"#mbb40edf92a\" y=\"126.438475\"/>\r\n     <use style=\"fill:#1f77b4;stroke:#1f77b4;\" x=\"162.858824\" xlink:href=\"#mbb40edf92a\" y=\"51.646872\"/>\r\n     <use style=\"fill:#1f77b4;stroke:#1f77b4;\" x=\"105.337737\" xlink:href=\"#mbb40edf92a\" y=\"90.868877\"/>\r\n     <use style=\"fill:#1f77b4;stroke:#1f77b4;\" x=\"177.469074\" xlink:href=\"#mbb40edf92a\" y=\"33.676317\"/>\r\n     <use style=\"fill:#1f77b4;stroke:#1f77b4;\" x=\"135.096809\" xlink:href=\"#mbb40edf92a\" y=\"65.415957\"/>\r\n     <use style=\"fill:#1f77b4;stroke:#1f77b4;\" x=\"90.481886\" xlink:href=\"#mbb40edf92a\" y=\"108.853687\"/>\r\n     <use style=\"fill:#1f77b4;stroke:#1f77b4;\" x=\"155.64493\" xlink:href=\"#mbb40edf92a\" y=\"49.129693\"/>\r\n     <use style=\"fill:#1f77b4;stroke:#1f77b4;\" x=\"176.539594\" xlink:href=\"#mbb40edf92a\" y=\"40.147578\"/>\r\n     <use style=\"fill:#1f77b4;stroke:#1f77b4;\" x=\"180.162198\" xlink:href=\"#mbb40edf92a\" y=\"38.807369\"/>\r\n     <use style=\"fill:#1f77b4;stroke:#1f77b4;\" x=\"93.02527\" xlink:href=\"#mbb40edf92a\" y=\"125.087949\"/>\r\n     <use style=\"fill:#1f77b4;stroke:#1f77b4;\" x=\"132.861119\" xlink:href=\"#mbb40edf92a\" y=\"89.724511\"/>\r\n     <use style=\"fill:#1f77b4;stroke:#1f77b4;\" x=\"111.462895\" xlink:href=\"#mbb40edf92a\" y=\"103.362051\"/>\r\n     <use style=\"fill:#1f77b4;stroke:#1f77b4;\" x=\"191.068513\" xlink:href=\"#mbb40edf92a\" y=\"27.828548\"/>\r\n     <use style=\"fill:#1f77b4;stroke:#1f77b4;\" x=\"139.750078\" xlink:href=\"#mbb40edf92a\" y=\"69.804828\"/>\r\n     <use style=\"fill:#1f77b4;stroke:#1f77b4;\" x=\"122.107485\" xlink:href=\"#mbb40edf92a\" y=\"102.918368\"/>\r\n     <use style=\"fill:#1f77b4;stroke:#1f77b4;\" x=\"92.937598\" xlink:href=\"#mbb40edf92a\" y=\"113.698133\"/>\r\n     <use style=\"fill:#1f77b4;stroke:#1f77b4;\" x=\"121.55432\" xlink:href=\"#mbb40edf92a\" y=\"92.732358\"/>\r\n    </g>\r\n   </g>\r\n   <g id=\"matplotlib.axis_1\">\r\n    <g id=\"xtick_1\">\r\n     <g id=\"line2d_1\">\r\n      <defs>\r\n       <path d=\"M 0 0 \r\nL 0 3.5 \r\n\" id=\"m4965dec371\" style=\"stroke:#000000;stroke-width:0.8;\"/>\r\n      </defs>\r\n      <g>\r\n       <use style=\"stroke:#000000;stroke-width:0.8;\" x=\"57.260548\" xlink:href=\"#m4965dec371\" y=\"143.1\"/>\r\n      </g>\r\n     </g>\r\n     <g id=\"text_1\">\r\n      <!-- −1 -->\r\n      <g transform=\"translate(49.889454 157.698438)scale(0.1 -0.1)\">\r\n       <defs>\r\n        <path d=\"M 10.59375 35.5 \r\nL 73.1875 35.5 \r\nL 73.1875 27.203125 \r\nL 10.59375 27.203125 \r\nz\r\n\" id=\"DejaVuSans-8722\"/>\r\n        <path d=\"M 12.40625 8.296875 \r\nL 28.515625 8.296875 \r\nL 28.515625 63.921875 \r\nL 10.984375 60.40625 \r\nL 10.984375 69.390625 \r\nL 28.421875 72.90625 \r\nL 38.28125 72.90625 \r\nL 38.28125 8.296875 \r\nL 54.390625 8.296875 \r\nL 54.390625 0 \r\nL 12.40625 0 \r\nz\r\n\" id=\"DejaVuSans-49\"/>\r\n       </defs>\r\n       <use xlink:href=\"#DejaVuSans-8722\"/>\r\n       <use x=\"83.789062\" xlink:href=\"#DejaVuSans-49\"/>\r\n      </g>\r\n     </g>\r\n    </g>\r\n    <g id=\"xtick_2\">\r\n     <g id=\"line2d_2\">\r\n      <g>\r\n       <use style=\"stroke:#000000;stroke-width:0.8;\" x=\"90.819026\" xlink:href=\"#m4965dec371\" y=\"143.1\"/>\r\n      </g>\r\n     </g>\r\n     <g id=\"text_2\">\r\n      <!-- 0 -->\r\n      <g transform=\"translate(87.637776 157.698438)scale(0.1 -0.1)\">\r\n       <defs>\r\n        <path d=\"M 31.78125 66.40625 \r\nQ 24.171875 66.40625 20.328125 58.90625 \r\nQ 16.5 51.421875 16.5 36.375 \r\nQ 16.5 21.390625 20.328125 13.890625 \r\nQ 24.171875 6.390625 31.78125 6.390625 \r\nQ 39.453125 6.390625 43.28125 13.890625 \r\nQ 47.125 21.390625 47.125 36.375 \r\nQ 47.125 51.421875 43.28125 58.90625 \r\nQ 39.453125 66.40625 31.78125 66.40625 \r\nz\r\nM 31.78125 74.21875 \r\nQ 44.046875 74.21875 50.515625 64.515625 \r\nQ 56.984375 54.828125 56.984375 36.375 \r\nQ 56.984375 17.96875 50.515625 8.265625 \r\nQ 44.046875 -1.421875 31.78125 -1.421875 \r\nQ 19.53125 -1.421875 13.0625 8.265625 \r\nQ 6.59375 17.96875 6.59375 36.375 \r\nQ 6.59375 54.828125 13.0625 64.515625 \r\nQ 19.53125 74.21875 31.78125 74.21875 \r\nz\r\n\" id=\"DejaVuSans-48\"/>\r\n       </defs>\r\n       <use xlink:href=\"#DejaVuSans-48\"/>\r\n      </g>\r\n     </g>\r\n    </g>\r\n    <g id=\"xtick_3\">\r\n     <g id=\"line2d_3\">\r\n      <g>\r\n       <use style=\"stroke:#000000;stroke-width:0.8;\" x=\"124.377504\" xlink:href=\"#m4965dec371\" y=\"143.1\"/>\r\n      </g>\r\n     </g>\r\n     <g id=\"text_3\">\r\n      <!-- 1 -->\r\n      <g transform=\"translate(121.196254 157.698438)scale(0.1 -0.1)\">\r\n       <use xlink:href=\"#DejaVuSans-49\"/>\r\n      </g>\r\n     </g>\r\n    </g>\r\n    <g id=\"xtick_4\">\r\n     <g id=\"line2d_4\">\r\n      <g>\r\n       <use style=\"stroke:#000000;stroke-width:0.8;\" x=\"157.935983\" xlink:href=\"#m4965dec371\" y=\"143.1\"/>\r\n      </g>\r\n     </g>\r\n     <g id=\"text_4\">\r\n      <!-- 2 -->\r\n      <g transform=\"translate(154.754733 157.698438)scale(0.1 -0.1)\">\r\n       <defs>\r\n        <path d=\"M 19.1875 8.296875 \r\nL 53.609375 8.296875 \r\nL 53.609375 0 \r\nL 7.328125 0 \r\nL 7.328125 8.296875 \r\nQ 12.9375 14.109375 22.625 23.890625 \r\nQ 32.328125 33.6875 34.8125 36.53125 \r\nQ 39.546875 41.84375 41.421875 45.53125 \r\nQ 43.3125 49.21875 43.3125 52.78125 \r\nQ 43.3125 58.59375 39.234375 62.25 \r\nQ 35.15625 65.921875 28.609375 65.921875 \r\nQ 23.96875 65.921875 18.8125 64.3125 \r\nQ 13.671875 62.703125 7.8125 59.421875 \r\nL 7.8125 69.390625 \r\nQ 13.765625 71.78125 18.9375 73 \r\nQ 24.125 74.21875 28.421875 74.21875 \r\nQ 39.75 74.21875 46.484375 68.546875 \r\nQ 53.21875 62.890625 53.21875 53.421875 \r\nQ 53.21875 48.921875 51.53125 44.890625 \r\nQ 49.859375 40.875 45.40625 35.40625 \r\nQ 44.1875 33.984375 37.640625 27.21875 \r\nQ 31.109375 20.453125 19.1875 8.296875 \r\nz\r\n\" id=\"DejaVuSans-50\"/>\r\n       </defs>\r\n       <use xlink:href=\"#DejaVuSans-50\"/>\r\n      </g>\r\n     </g>\r\n    </g>\r\n    <g id=\"xtick_5\">\r\n     <g id=\"line2d_5\">\r\n      <g>\r\n       <use style=\"stroke:#000000;stroke-width:0.8;\" x=\"191.494461\" xlink:href=\"#m4965dec371\" y=\"143.1\"/>\r\n      </g>\r\n     </g>\r\n     <g id=\"text_5\">\r\n      <!-- 3 -->\r\n      <g transform=\"translate(188.313211 157.698438)scale(0.1 -0.1)\">\r\n       <defs>\r\n        <path d=\"M 40.578125 39.3125 \r\nQ 47.65625 37.796875 51.625 33 \r\nQ 55.609375 28.21875 55.609375 21.1875 \r\nQ 55.609375 10.40625 48.1875 4.484375 \r\nQ 40.765625 -1.421875 27.09375 -1.421875 \r\nQ 22.515625 -1.421875 17.65625 -0.515625 \r\nQ 12.796875 0.390625 7.625 2.203125 \r\nL 7.625 11.71875 \r\nQ 11.71875 9.328125 16.59375 8.109375 \r\nQ 21.484375 6.890625 26.8125 6.890625 \r\nQ 36.078125 6.890625 40.9375 10.546875 \r\nQ 45.796875 14.203125 45.796875 21.1875 \r\nQ 45.796875 27.640625 41.28125 31.265625 \r\nQ 36.765625 34.90625 28.71875 34.90625 \r\nL 20.21875 34.90625 \r\nL 20.21875 43.015625 \r\nL 29.109375 43.015625 \r\nQ 36.375 43.015625 40.234375 45.921875 \r\nQ 44.09375 48.828125 44.09375 54.296875 \r\nQ 44.09375 59.90625 40.109375 62.90625 \r\nQ 36.140625 65.921875 28.71875 65.921875 \r\nQ 24.65625 65.921875 20.015625 65.03125 \r\nQ 15.375 64.15625 9.8125 62.3125 \r\nL 9.8125 71.09375 \r\nQ 15.4375 72.65625 20.34375 73.4375 \r\nQ 25.25 74.21875 29.59375 74.21875 \r\nQ 40.828125 74.21875 47.359375 69.109375 \r\nQ 53.90625 64.015625 53.90625 55.328125 \r\nQ 53.90625 49.265625 50.4375 45.09375 \r\nQ 46.96875 40.921875 40.578125 39.3125 \r\nz\r\n\" id=\"DejaVuSans-51\"/>\r\n       </defs>\r\n       <use xlink:href=\"#DejaVuSans-51\"/>\r\n      </g>\r\n     </g>\r\n    </g>\r\n   </g>\r\n   <g id=\"matplotlib.axis_2\">\r\n    <g id=\"ytick_1\">\r\n     <g id=\"line2d_6\">\r\n      <defs>\r\n       <path d=\"M 0 0 \r\nL -3.5 0 \r\n\" id=\"ma4c383288c\" style=\"stroke:#000000;stroke-width:0.8;\"/>\r\n      </defs>\r\n      <g>\r\n       <use style=\"stroke:#000000;stroke-width:0.8;\" x=\"28.942188\" xlink:href=\"#ma4c383288c\" y=\"140.44424\"/>\r\n      </g>\r\n     </g>\r\n     <g id=\"text_6\">\r\n      <!-- −2 -->\r\n      <g transform=\"translate(7.2 144.243459)scale(0.1 -0.1)\">\r\n       <use xlink:href=\"#DejaVuSans-8722\"/>\r\n       <use x=\"83.789062\" xlink:href=\"#DejaVuSans-50\"/>\r\n      </g>\r\n     </g>\r\n    </g>\r\n    <g id=\"ytick_2\">\r\n     <g id=\"line2d_7\">\r\n      <g>\r\n       <use style=\"stroke:#000000;stroke-width:0.8;\" x=\"28.942188\" xlink:href=\"#ma4c383288c\" y=\"111.855287\"/>\r\n      </g>\r\n     </g>\r\n     <g id=\"text_7\">\r\n      <!-- 0 -->\r\n      <g transform=\"translate(15.579688 115.654506)scale(0.1 -0.1)\">\r\n       <use xlink:href=\"#DejaVuSans-48\"/>\r\n      </g>\r\n     </g>\r\n    </g>\r\n    <g id=\"ytick_3\">\r\n     <g id=\"line2d_8\">\r\n      <g>\r\n       <use style=\"stroke:#000000;stroke-width:0.8;\" x=\"28.942188\" xlink:href=\"#ma4c383288c\" y=\"83.266335\"/>\r\n      </g>\r\n     </g>\r\n     <g id=\"text_8\">\r\n      <!-- 2 -->\r\n      <g transform=\"translate(15.579688 87.065553)scale(0.1 -0.1)\">\r\n       <use xlink:href=\"#DejaVuSans-50\"/>\r\n      </g>\r\n     </g>\r\n    </g>\r\n    <g id=\"ytick_4\">\r\n     <g id=\"line2d_9\">\r\n      <g>\r\n       <use style=\"stroke:#000000;stroke-width:0.8;\" x=\"28.942188\" xlink:href=\"#ma4c383288c\" y=\"54.677382\"/>\r\n      </g>\r\n     </g>\r\n     <g id=\"text_9\">\r\n      <!-- 4 -->\r\n      <g transform=\"translate(15.579688 58.4766)scale(0.1 -0.1)\">\r\n       <defs>\r\n        <path d=\"M 37.796875 64.3125 \r\nL 12.890625 25.390625 \r\nL 37.796875 25.390625 \r\nz\r\nM 35.203125 72.90625 \r\nL 47.609375 72.90625 \r\nL 47.609375 25.390625 \r\nL 58.015625 25.390625 \r\nL 58.015625 17.1875 \r\nL 47.609375 17.1875 \r\nL 47.609375 0 \r\nL 37.796875 0 \r\nL 37.796875 17.1875 \r\nL 4.890625 17.1875 \r\nL 4.890625 26.703125 \r\nz\r\n\" id=\"DejaVuSans-52\"/>\r\n       </defs>\r\n       <use xlink:href=\"#DejaVuSans-52\"/>\r\n      </g>\r\n     </g>\r\n    </g>\r\n    <g id=\"ytick_5\">\r\n     <g id=\"line2d_10\">\r\n      <g>\r\n       <use style=\"stroke:#000000;stroke-width:0.8;\" x=\"28.942188\" xlink:href=\"#ma4c383288c\" y=\"26.088429\"/>\r\n      </g>\r\n     </g>\r\n     <g id=\"text_10\">\r\n      <!-- 6 -->\r\n      <g transform=\"translate(15.579688 29.887647)scale(0.1 -0.1)\">\r\n       <defs>\r\n        <path d=\"M 33.015625 40.375 \r\nQ 26.375 40.375 22.484375 35.828125 \r\nQ 18.609375 31.296875 18.609375 23.390625 \r\nQ 18.609375 15.53125 22.484375 10.953125 \r\nQ 26.375 6.390625 33.015625 6.390625 \r\nQ 39.65625 6.390625 43.53125 10.953125 \r\nQ 47.40625 15.53125 47.40625 23.390625 \r\nQ 47.40625 31.296875 43.53125 35.828125 \r\nQ 39.65625 40.375 33.015625 40.375 \r\nz\r\nM 52.59375 71.296875 \r\nL 52.59375 62.3125 \r\nQ 48.875 64.0625 45.09375 64.984375 \r\nQ 41.3125 65.921875 37.59375 65.921875 \r\nQ 27.828125 65.921875 22.671875 59.328125 \r\nQ 17.53125 52.734375 16.796875 39.40625 \r\nQ 19.671875 43.65625 24.015625 45.921875 \r\nQ 28.375 48.1875 33.59375 48.1875 \r\nQ 44.578125 48.1875 50.953125 41.515625 \r\nQ 57.328125 34.859375 57.328125 23.390625 \r\nQ 57.328125 12.15625 50.6875 5.359375 \r\nQ 44.046875 -1.421875 33.015625 -1.421875 \r\nQ 20.359375 -1.421875 13.671875 8.265625 \r\nQ 6.984375 17.96875 6.984375 36.375 \r\nQ 6.984375 53.65625 15.1875 63.9375 \r\nQ 23.390625 74.21875 37.203125 74.21875 \r\nQ 40.921875 74.21875 44.703125 73.484375 \r\nQ 48.484375 72.75 52.59375 71.296875 \r\nz\r\n\" id=\"DejaVuSans-54\"/>\r\n       </defs>\r\n       <use xlink:href=\"#DejaVuSans-54\"/>\r\n      </g>\r\n     </g>\r\n    </g>\r\n   </g>\r\n   <g id=\"patch_3\">\r\n    <path d=\"M 28.942188 143.1 \r\nL 28.942188 7.2 \r\n\" style=\"fill:none;stroke:#000000;stroke-linecap:square;stroke-linejoin:miter;stroke-width:0.8;\"/>\r\n   </g>\r\n   <g id=\"patch_4\">\r\n    <path d=\"M 224.242188 143.1 \r\nL 224.242188 7.2 \r\n\" style=\"fill:none;stroke:#000000;stroke-linecap:square;stroke-linejoin:miter;stroke-width:0.8;\"/>\r\n   </g>\r\n   <g id=\"patch_5\">\r\n    <path d=\"M 28.942188 143.1 \r\nL 224.242188 143.1 \r\n\" style=\"fill:none;stroke:#000000;stroke-linecap:square;stroke-linejoin:miter;stroke-width:0.8;\"/>\r\n   </g>\r\n   <g id=\"patch_6\">\r\n    <path d=\"M 28.942188 7.2 \r\nL 224.242188 7.2 \r\n\" style=\"fill:none;stroke:#000000;stroke-linecap:square;stroke-linejoin:miter;stroke-width:0.8;\"/>\r\n   </g>\r\n  </g>\r\n </g>\r\n <defs>\r\n  <clipPath id=\"pf0a71eb89a\">\r\n   <rect height=\"135.9\" width=\"195.3\" x=\"28.942188\" y=\"7.2\"/>\r\n  </clipPath>\r\n </defs>\r\n</svg>\r\n"
     },
     "metadata": {
      "needs_background": "light"
     }
    }
   ],
   "source": [
    "d2l.set_figsize()\n",
    "d2l.plt.scatter(d2l.numpy(data[:100, 0]), d2l.numpy(data[:100, 1]));\n",
    "print(f'The covariance matrix is\\n{d2l.matmul(tf.transpose(A), A)}')"
   ]
  },
  {
   "cell_type": "code",
   "execution_count": 5,
   "metadata": {},
   "outputs": [],
   "source": [
    "batch_size = 8\n",
    "data_iter = d2l.load_array((data,), batch_size)"
   ]
  },
  {
   "cell_type": "code",
   "execution_count": 6,
   "metadata": {},
   "outputs": [],
   "source": [
    "net_G = tf.keras.Sequential()\n",
    "net_G.add(tf.keras.layers.Dense(2))"
   ]
  },
  {
   "cell_type": "markdown",
   "metadata": {},
   "source": [
    "tf.keras.activations.tanh(a)\n",
    "https://www.tensorflow.org/api_docs/python/tf/keras/activations/tanh\n"
   ]
  },
  {
   "cell_type": "code",
   "execution_count": 7,
   "metadata": {},
   "outputs": [],
   "source": [
    "net_D = tf.keras.Sequential()\n",
    "net_D.add(tf.keras.layers.Dense(5, activation='tanh'))\n",
    "net_D.add(tf.keras.layers.Dense(3, activation='tanh'))\n",
    "net_D.add(tf.keras.layers.Dense(1))"
   ]
  },
  {
   "cell_type": "markdown",
   "metadata": {},
   "source": [
    "with tf.GradientTape() as t:\n",
    "http://preview.d2l.ai/d2l-en/master/chapter_preliminaries/autograd.html\n"
   ]
  },
  {
   "cell_type": "markdown",
   "metadata": {},
   "source": [
    "t.gradient(y, x) \n",
    "t.gradient(loss_D, trainer_D) "
   ]
  },
  {
   "cell_type": "code",
   "execution_count": 8,
   "metadata": {},
   "outputs": [],
   "source": [
    "#@save\n",
    "def update_D(X, Z, net_D, net_G, loss, trainer_D):\n",
    "    \"\"\"Update discriminator.\"\"\"\n",
    "    batch_size = X.shape[0]\n",
    "    ones = tf.ones((batch_size,), tf.float32, device=X.device)\n",
    "    zeros = tf.zeros((batch_size,), tf.float32, device=X.device)\n",
    "    with tf.GradientTape() as t:\n",
    "        real_Y = net_D(X)\n",
    "        fake_X = net_G(Z)\n",
    "        # Do not need to compute gradient for `net_G`, detach it from\n",
    "        # computing gradients.\n",
    "        fake_Y = net_D(fake_X.detach())\n",
    "        loss_D = (loss(real_Y, ones) + loss(fake_Y, zeros)) / 2\n",
    "    t.gradient(loss_D, trainer_D) \n",
    "    trainer_D.step(batch_size)\n",
    "    return float(loss_D.sum())"
   ]
  },
  {
   "cell_type": "code",
   "execution_count": 9,
   "metadata": {},
   "outputs": [],
   "source": [
    "#@save\n",
    "def update_G(Z, net_D, net_G, loss, trainer_G):\n",
    "    \"\"\"Update generator.\"\"\"\n",
    "    batch_size = Z.shape[0]\n",
    "    ones = tf.ones((batch_size,), tf.float32, device=X.device)\n",
    "    with tf.GradientTape() as t:\n",
    "        # We could reuse `fake_X` from `update_D` to save computation\n",
    "        fake_X = net_G(Z)\n",
    "        # Recomputing `fake_Y` is needed since `net_D` is changed\n",
    "        fake_Y = net_D(fake_X)\n",
    "        loss_G = loss(fake_Y, ones)\n",
    "    t.gradient(loss_G, trainer_G) \n",
    "    trainer_G.step(batch_size)\n",
    "    return float(loss_G.sum())"
   ]
  },
  {
   "cell_type": "markdown",
   "metadata": {},
   "source": [
    "https://www.google.com/search?q=numpy()+tensorflow&rlz=1C1GCEA_enJP909HK909&oq=numpy()+tensorflow&aqs=chrome..69i57j0l7.2792j0j1&sourceid=chrome&ie=UTF-8"
   ]
  },
  {
   "cell_type": "markdown",
   "metadata": {},
   "source": [
    "https://www.tensorflow.org/api_docs/python/tf/keras/optimizers/Adam\n",
    "tf.keras.optimizers.Adam(learning_rate=0.1)\n",
    "m.compile\n",
    "m = tf.keras.models.Sequential([tf.keras.layers.Dense(10)])\n",
    "m.compile(opt, loss='mse')"
   ]
  },
  {
   "cell_type": "markdown",
   "metadata": {},
   "source": [
    "https://stackoverflow.com/questions/55683729/bcewithlogitsloss-in-keras\n",
    "https://www.tensorflow.org/api_docs/python/tf/keras/losses/BinaryCrossentropy\n"
   ]
  },
  {
   "cell_type": "markdown",
   "metadata": {},
   "source": [
    "def weight_variable(shape, w=0.1):\n",
    "  initial = tf.truncated_normal(shape, stddev=w)\n",
    "  return tf.Variable(initial)\n",
    "  https://stackoverflow.com/questions/43489697/tensorflow-weight-initialization\n",
    "\n",
    "  The values generated are similar to values from a tf.keras.initializers.RandomNormal initializer except that values more than two standard deviations from the mean are discarded and re-drawn.\n",
    "  https://keras.io/api/layers/initializers/"
   ]
  },
  {
   "cell_type": "markdown",
   "metadata": {},
   "source": [
    "tf.Variable(initial_value=w_init(\n",
    "            shape=(input_dim, unit), dtype=tf.float32), trainable=True)\n",
    "            https://zhuanlan.zhihu.com/p/59481536"
   ]
  },
  {
   "cell_type": "markdown",
   "metadata": {},
   "source": [
    "https://keras.io/api/layers/initializers/"
   ]
  },
  {
   "cell_type": "code",
   "execution_count": null,
   "metadata": {},
   "outputs": [],
   "source": [
    "def train(net_D, net_G, data_iter, num_epochs, lr_D, lr_G, latent_dim, data):\n",
    "    loss = tf.keras.losses.BinaryCrossentropy(reduction=\n",
    "                                tf.keras.losses.Reduction.SUM)\n",
    "    net_D.initializers.RandomNormal(stddev=0.02)\n",
    "    net_G.initializers.RandomNormal(stddev=0.02)\n",
    "    trainer_D = net_D.compile(tf.keras.optimizers.Adam(learning_rate=lr_D), loss='mse')\n",
    "    trainer_G = net_G.compile(tf.keras.optimizers.Adam(learning_rate=lr_G), loss='mse')\n",
    "    animator = d2l.Animator(xlabel='epoch', ylabel='loss',\n",
    "                            xlim=[1, num_epochs], nrows=2, figsize=(5, 5),\n",
    "                            legend=['discriminator', 'generator'])\n",
    "    animator.fig.subplots_adjust(hspace=0.3)\n",
    "    for epoch in range(num_epochs):\n",
    "        # Train one epoch\n",
    "        timer = d2l.Timer()\n",
    "        metric = d2l.Accumulator(3)  # loss_D, loss_G, num_examples\n",
    "        for X in data_iter:\n",
    "            batch_size = X.shape[0]\n",
    "            Z = d2l.normal([batch_size, latent_dim], 0, 1, tf.float32)\n",
    "            metric.add(update_D(X, Z, net_D, net_G, loss, trainer_D),\n",
    "                       update_G(Z, net_D, net_G, loss, trainer_G),\n",
    "                       batch_size)\n",
    "        # Visualize generated examples\n",
    "        Z = d2l.normal([100, latent_dim], 0, 1, tf.float32)\n",
    "        fake_X = net_G(Z).Tensor.numpy()\n",
    "        animator.axes[1].cla()\n",
    "        animator.axes[1].scatter(data[:, 0], data[:, 1])\n",
    "        animator.axes[1].scatter(fake_X[:, 0], fake_X[:, 1])\n",
    "        animator.axes[1].legend(['real', 'generated'])\n",
    "        # Show the losses\n",
    "        loss_D, loss_G = metric[0]/metric[2], metric[1]/metric[2]\n",
    "        animator.add(epoch + 1, (loss_D, loss_G))\n",
    "    print(f'loss_D {loss_D:.3f}, loss_G {loss_G:.3f}, '\n",
    "          f'{metric[2] / timer.stop():.1f} examples/sec')"
   ]
  },
  {
   "cell_type": "code",
   "execution_count": null,
   "metadata": {},
   "outputs": [],
   "source": [
    "lr_D, lr_G, latent_dim, num_epochs = 0.05, 0.005, 2, 20\n",
    "train(net_D, net_G, data_iter, num_epochs, lr_D, lr_G,\n",
    "      latent_dim, d2l.numpy(data[:100]))"
   ]
  },
  {
   "cell_type": "code",
   "execution_count": 9,
   "metadata": {},
   "outputs": [],
   "source": [
    "net_G = tf.keras.Sequential()\n",
    "net_G.add(tf.keras.layers.Dense(2))"
   ]
  },
  {
   "cell_type": "code",
   "execution_count": null,
   "metadata": {},
   "outputs": [],
   "source": [
    "net_D = tf.keras.Sequential()\n",
    "tf.keras.Sequential()nn.Linear(2, 5), nn.Tanh(),\n",
    "    nn.Linear(5, 3), nn.Tanh(),\n",
    "    nn.Linear(3, 1))"
   ]
  }
 ]
}