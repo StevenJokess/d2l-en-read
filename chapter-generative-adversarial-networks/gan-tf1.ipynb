{
 "metadata": {
  "language_info": {
   "codemirror_mode": {
    "name": "ipython",
    "version": 3
   },
   "file_extension": ".py",
   "mimetype": "text/x-python",
   "name": "python",
   "nbconvert_exporter": "python",
   "pygments_lexer": "ipython3",
   "version": "3.7.8-final"
  },
  "orig_nbformat": 2,
  "kernelspec": {
   "name": "python37864bittf2conda1de394c9651a4d19aa25641a40b8d2d8",
   "display_name": "Python 3.7.8 64-bit ('tf2': conda)"
  }
 },
 "nbformat": 4,
 "nbformat_minor": 2,
 "cells": [
  {
   "cell_type": "markdown",
   "metadata": {},
   "source": [
    "http://preview.d2l.ai/d2l-en/master/chapter_generative-adversarial-networks/gan.html"
   ]
  },
  {
   "cell_type": "code",
   "execution_count": 1,
   "metadata": {},
   "outputs": [],
   "source": [
    "%matplotlib inline\n",
    "from d2l import tensorflow as d2l\n",
    "import tensorflow as tf"
   ]
  },
  {
   "cell_type": "markdown",
   "metadata": {},
   "source": [
    "https://www.tensorflow.org/api_docs/python/tf/random/normal"
   ]
  },
  {
   "cell_type": "markdown",
   "metadata": {},
   "source": [
    "https://www.tensorflow.org/api_docs/python/tf/norm"
   ]
  },
  {
   "cell_type": "code",
   "execution_count": 2,
   "metadata": {},
   "outputs": [],
   "source": [
    "X = d2l.normal([1000, 2], 0.0, 1, tf.float32)"
   ]
  },
  {
   "cell_type": "code",
   "execution_count": 3,
   "metadata": {},
   "outputs": [],
   "source": [
    "A = d2l.tensor([[1, 2], [-0.1, 0.5]], tf.float32)\n",
    "b = d2l.tensor([1, 2], tf.float32)\n",
    "data = d2l.matmul(X, A) + b"
   ]
  },
  {
   "cell_type": "code",
   "execution_count": 4,
   "metadata": {
    "tags": []
   },
   "outputs": [
    {
     "output_type": "stream",
     "name": "stdout",
     "text": "The covariance matrix is\n[[1.01 1.95]\n [1.95 4.25]]\n"
    },
    {
     "output_type": "display_data",
     "data": {
      "text/plain": "<Figure size 252x180 with 1 Axes>",
      "image/svg+xml": "<?xml version=\"1.0\" encoding=\"utf-8\" standalone=\"no\"?>\r\n<!DOCTYPE svg PUBLIC \"-//W3C//DTD SVG 1.1//EN\"\r\n  \"http://www.w3.org/Graphics/SVG/1.1/DTD/svg11.dtd\">\r\n<!-- Created with matplotlib (https://matplotlib.org/) -->\r\n<svg height=\"166.978125pt\" version=\"1.1\" viewBox=\"0 0 240.982812 166.978125\" width=\"240.982812pt\" xmlns=\"http://www.w3.org/2000/svg\" xmlns:xlink=\"http://www.w3.org/1999/xlink\">\r\n <metadata>\r\n  <rdf:RDF xmlns:cc=\"http://creativecommons.org/ns#\" xmlns:dc=\"http://purl.org/dc/elements/1.1/\" xmlns:rdf=\"http://www.w3.org/1999/02/22-rdf-syntax-ns#\">\r\n   <cc:Work>\r\n    <dc:type rdf:resource=\"http://purl.org/dc/dcmitype/StillImage\"/>\r\n    <dc:date>2020-09-04T22:55:13.849364</dc:date>\r\n    <dc:format>image/svg+xml</dc:format>\r\n    <dc:creator>\r\n     <cc:Agent>\r\n      <dc:title>Matplotlib v3.3.1, https://matplotlib.org/</dc:title>\r\n     </cc:Agent>\r\n    </dc:creator>\r\n   </cc:Work>\r\n  </rdf:RDF>\r\n </metadata>\r\n <defs>\r\n  <style type=\"text/css\">*{stroke-linecap:butt;stroke-linejoin:round;}</style>\r\n </defs>\r\n <g id=\"figure_1\">\r\n  <g id=\"patch_1\">\r\n   <path d=\"M -0 166.978125 \r\nL 240.982813 166.978125 \r\nL 240.982813 0 \r\nL -0 0 \r\nz\r\n\" style=\"fill:none;\"/>\r\n  </g>\r\n  <g id=\"axes_1\">\r\n   <g id=\"patch_2\">\r\n    <path d=\"M 38.482813 143.1 \r\nL 233.782813 143.1 \r\nL 233.782813 7.2 \r\nL 38.482813 7.2 \r\nz\r\n\" style=\"fill:#ffffff;\"/>\r\n   </g>\r\n   <g id=\"PathCollection_1\">\r\n    <defs>\r\n     <path d=\"M 0 3 \r\nC 0.795609 3 1.55874 2.683901 2.12132 2.12132 \r\nC 2.683901 1.55874 3 0.795609 3 0 \r\nC 3 -0.795609 2.683901 -1.55874 2.12132 -2.12132 \r\nC 1.55874 -2.683901 0.795609 -3 0 -3 \r\nC -0.795609 -3 -1.55874 -2.683901 -2.12132 -2.12132 \r\nC -2.683901 -1.55874 -3 -0.795609 -3 0 \r\nC -3 0.795609 -2.683901 1.55874 -2.12132 2.12132 \r\nC -1.55874 2.683901 -0.795609 3 0 3 \r\nz\r\n\" id=\"maf3758947e\" style=\"stroke:#1f77b4;\"/>\r\n    </defs>\r\n    <g clip-path=\"url(#pb7da93b340)\">\r\n     <use style=\"fill:#1f77b4;stroke:#1f77b4;\" x=\"162.585958\" xlink:href=\"#maf3758947e\" y=\"55.454875\"/>\r\n     <use style=\"fill:#1f77b4;stroke:#1f77b4;\" x=\"149.856214\" xlink:href=\"#maf3758947e\" y=\"68.193112\"/>\r\n     <use style=\"fill:#1f77b4;stroke:#1f77b4;\" x=\"95.547982\" xlink:href=\"#maf3758947e\" y=\"99.654974\"/>\r\n     <use style=\"fill:#1f77b4;stroke:#1f77b4;\" x=\"47.360085\" xlink:href=\"#maf3758947e\" y=\"136.922727\"/>\r\n     <use style=\"fill:#1f77b4;stroke:#1f77b4;\" x=\"146.56509\" xlink:href=\"#maf3758947e\" y=\"73.470602\"/>\r\n     <use style=\"fill:#1f77b4;stroke:#1f77b4;\" x=\"153.487049\" xlink:href=\"#maf3758947e\" y=\"62.347868\"/>\r\n     <use style=\"fill:#1f77b4;stroke:#1f77b4;\" x=\"195.150741\" xlink:href=\"#maf3758947e\" y=\"42.484736\"/>\r\n     <use style=\"fill:#1f77b4;stroke:#1f77b4;\" x=\"147.208168\" xlink:href=\"#maf3758947e\" y=\"66.985613\"/>\r\n     <use style=\"fill:#1f77b4;stroke:#1f77b4;\" x=\"134.69281\" xlink:href=\"#maf3758947e\" y=\"65.675543\"/>\r\n     <use style=\"fill:#1f77b4;stroke:#1f77b4;\" x=\"146.042391\" xlink:href=\"#maf3758947e\" y=\"59.568712\"/>\r\n     <use style=\"fill:#1f77b4;stroke:#1f77b4;\" x=\"142.411815\" xlink:href=\"#maf3758947e\" y=\"78.127501\"/>\r\n     <use style=\"fill:#1f77b4;stroke:#1f77b4;\" x=\"129.307672\" xlink:href=\"#maf3758947e\" y=\"78.189641\"/>\r\n     <use style=\"fill:#1f77b4;stroke:#1f77b4;\" x=\"146.192233\" xlink:href=\"#maf3758947e\" y=\"72.225214\"/>\r\n     <use style=\"fill:#1f77b4;stroke:#1f77b4;\" x=\"215.958779\" xlink:href=\"#maf3758947e\" y=\"23.374526\"/>\r\n     <use style=\"fill:#1f77b4;stroke:#1f77b4;\" x=\"148.074975\" xlink:href=\"#maf3758947e\" y=\"72.644884\"/>\r\n     <use style=\"fill:#1f77b4;stroke:#1f77b4;\" x=\"95.794249\" xlink:href=\"#maf3758947e\" y=\"101.939058\"/>\r\n     <use style=\"fill:#1f77b4;stroke:#1f77b4;\" x=\"124.859109\" xlink:href=\"#maf3758947e\" y=\"84.148968\"/>\r\n     <use style=\"fill:#1f77b4;stroke:#1f77b4;\" x=\"100.768531\" xlink:href=\"#maf3758947e\" y=\"105.407553\"/>\r\n     <use style=\"fill:#1f77b4;stroke:#1f77b4;\" x=\"163.617539\" xlink:href=\"#maf3758947e\" y=\"62.356454\"/>\r\n     <use style=\"fill:#1f77b4;stroke:#1f77b4;\" x=\"184.733301\" xlink:href=\"#maf3758947e\" y=\"43.90594\"/>\r\n     <use style=\"fill:#1f77b4;stroke:#1f77b4;\" x=\"91.939477\" xlink:href=\"#maf3758947e\" y=\"102.120207\"/>\r\n     <use style=\"fill:#1f77b4;stroke:#1f77b4;\" x=\"128.984244\" xlink:href=\"#maf3758947e\" y=\"80.777744\"/>\r\n     <use style=\"fill:#1f77b4;stroke:#1f77b4;\" x=\"145.919081\" xlink:href=\"#maf3758947e\" y=\"69.165623\"/>\r\n     <use style=\"fill:#1f77b4;stroke:#1f77b4;\" x=\"185.952439\" xlink:href=\"#maf3758947e\" y=\"44.667468\"/>\r\n     <use style=\"fill:#1f77b4;stroke:#1f77b4;\" x=\"179.345198\" xlink:href=\"#maf3758947e\" y=\"43.768048\"/>\r\n     <use style=\"fill:#1f77b4;stroke:#1f77b4;\" x=\"149.824329\" xlink:href=\"#maf3758947e\" y=\"52.722135\"/>\r\n     <use style=\"fill:#1f77b4;stroke:#1f77b4;\" x=\"203.102802\" xlink:href=\"#maf3758947e\" y=\"33.521747\"/>\r\n     <use style=\"fill:#1f77b4;stroke:#1f77b4;\" x=\"143.356806\" xlink:href=\"#maf3758947e\" y=\"62.57843\"/>\r\n     <use style=\"fill:#1f77b4;stroke:#1f77b4;\" x=\"172.775065\" xlink:href=\"#maf3758947e\" y=\"65.07093\"/>\r\n     <use style=\"fill:#1f77b4;stroke:#1f77b4;\" x=\"121.321069\" xlink:href=\"#maf3758947e\" y=\"92.865928\"/>\r\n     <use style=\"fill:#1f77b4;stroke:#1f77b4;\" x=\"108.010033\" xlink:href=\"#maf3758947e\" y=\"90.659945\"/>\r\n     <use style=\"fill:#1f77b4;stroke:#1f77b4;\" x=\"100.15565\" xlink:href=\"#maf3758947e\" y=\"104.642226\"/>\r\n     <use style=\"fill:#1f77b4;stroke:#1f77b4;\" x=\"105.928336\" xlink:href=\"#maf3758947e\" y=\"104.602011\"/>\r\n     <use style=\"fill:#1f77b4;stroke:#1f77b4;\" x=\"107.147057\" xlink:href=\"#maf3758947e\" y=\"94.310712\"/>\r\n     <use style=\"fill:#1f77b4;stroke:#1f77b4;\" x=\"111.330835\" xlink:href=\"#maf3758947e\" y=\"92.011814\"/>\r\n     <use style=\"fill:#1f77b4;stroke:#1f77b4;\" x=\"169.625828\" xlink:href=\"#maf3758947e\" y=\"45.865814\"/>\r\n     <use style=\"fill:#1f77b4;stroke:#1f77b4;\" x=\"145.709276\" xlink:href=\"#maf3758947e\" y=\"70.099189\"/>\r\n     <use style=\"fill:#1f77b4;stroke:#1f77b4;\" x=\"87.728239\" xlink:href=\"#maf3758947e\" y=\"107.463731\"/>\r\n     <use style=\"fill:#1f77b4;stroke:#1f77b4;\" x=\"102.514916\" xlink:href=\"#maf3758947e\" y=\"102.135961\"/>\r\n     <use style=\"fill:#1f77b4;stroke:#1f77b4;\" x=\"144.319696\" xlink:href=\"#maf3758947e\" y=\"75.085645\"/>\r\n     <use style=\"fill:#1f77b4;stroke:#1f77b4;\" x=\"133.961893\" xlink:href=\"#maf3758947e\" y=\"72.850149\"/>\r\n     <use style=\"fill:#1f77b4;stroke:#1f77b4;\" x=\"128.171744\" xlink:href=\"#maf3758947e\" y=\"80.953417\"/>\r\n     <use style=\"fill:#1f77b4;stroke:#1f77b4;\" x=\"61.080404\" xlink:href=\"#maf3758947e\" y=\"128.877732\"/>\r\n     <use style=\"fill:#1f77b4;stroke:#1f77b4;\" x=\"203.252517\" xlink:href=\"#maf3758947e\" y=\"35.179422\"/>\r\n     <use style=\"fill:#1f77b4;stroke:#1f77b4;\" x=\"158.073334\" xlink:href=\"#maf3758947e\" y=\"63.059633\"/>\r\n     <use style=\"fill:#1f77b4;stroke:#1f77b4;\" x=\"172.35091\" xlink:href=\"#maf3758947e\" y=\"56.811149\"/>\r\n     <use style=\"fill:#1f77b4;stroke:#1f77b4;\" x=\"132.038371\" xlink:href=\"#maf3758947e\" y=\"69.106838\"/>\r\n     <use style=\"fill:#1f77b4;stroke:#1f77b4;\" x=\"178.191766\" xlink:href=\"#maf3758947e\" y=\"37.287247\"/>\r\n     <use style=\"fill:#1f77b4;stroke:#1f77b4;\" x=\"133.215121\" xlink:href=\"#maf3758947e\" y=\"78.517468\"/>\r\n     <use style=\"fill:#1f77b4;stroke:#1f77b4;\" x=\"169.415743\" xlink:href=\"#maf3758947e\" y=\"41.194988\"/>\r\n     <use style=\"fill:#1f77b4;stroke:#1f77b4;\" x=\"122.903196\" xlink:href=\"#maf3758947e\" y=\"83.042214\"/>\r\n     <use style=\"fill:#1f77b4;stroke:#1f77b4;\" x=\"174.026985\" xlink:href=\"#maf3758947e\" y=\"50.928225\"/>\r\n     <use style=\"fill:#1f77b4;stroke:#1f77b4;\" x=\"133.400729\" xlink:href=\"#maf3758947e\" y=\"77.37046\"/>\r\n     <use style=\"fill:#1f77b4;stroke:#1f77b4;\" x=\"170.060178\" xlink:href=\"#maf3758947e\" y=\"49.871804\"/>\r\n     <use style=\"fill:#1f77b4;stroke:#1f77b4;\" x=\"169.903379\" xlink:href=\"#maf3758947e\" y=\"52.352998\"/>\r\n     <use style=\"fill:#1f77b4;stroke:#1f77b4;\" x=\"161.280338\" xlink:href=\"#maf3758947e\" y=\"64.571902\"/>\r\n     <use style=\"fill:#1f77b4;stroke:#1f77b4;\" x=\"145.472077\" xlink:href=\"#maf3758947e\" y=\"61.208732\"/>\r\n     <use style=\"fill:#1f77b4;stroke:#1f77b4;\" x=\"118.93219\" xlink:href=\"#maf3758947e\" y=\"82.528154\"/>\r\n     <use style=\"fill:#1f77b4;stroke:#1f77b4;\" x=\"142.940249\" xlink:href=\"#maf3758947e\" y=\"81.980404\"/>\r\n     <use style=\"fill:#1f77b4;stroke:#1f77b4;\" x=\"153.303073\" xlink:href=\"#maf3758947e\" y=\"59.340269\"/>\r\n     <use style=\"fill:#1f77b4;stroke:#1f77b4;\" x=\"207.117038\" xlink:href=\"#maf3758947e\" y=\"32.309816\"/>\r\n     <use style=\"fill:#1f77b4;stroke:#1f77b4;\" x=\"201.874978\" xlink:href=\"#maf3758947e\" y=\"32.063531\"/>\r\n     <use style=\"fill:#1f77b4;stroke:#1f77b4;\" x=\"143.225247\" xlink:href=\"#maf3758947e\" y=\"69.304663\"/>\r\n     <use style=\"fill:#1f77b4;stroke:#1f77b4;\" x=\"124.876823\" xlink:href=\"#maf3758947e\" y=\"82.685946\"/>\r\n     <use style=\"fill:#1f77b4;stroke:#1f77b4;\" x=\"135.935083\" xlink:href=\"#maf3758947e\" y=\"91.842787\"/>\r\n     <use style=\"fill:#1f77b4;stroke:#1f77b4;\" x=\"100.616744\" xlink:href=\"#maf3758947e\" y=\"93.710237\"/>\r\n     <use style=\"fill:#1f77b4;stroke:#1f77b4;\" x=\"176.775449\" xlink:href=\"#maf3758947e\" y=\"37.436641\"/>\r\n     <use style=\"fill:#1f77b4;stroke:#1f77b4;\" x=\"163.030572\" xlink:href=\"#maf3758947e\" y=\"66.417837\"/>\r\n     <use style=\"fill:#1f77b4;stroke:#1f77b4;\" x=\"224.90554\" xlink:href=\"#maf3758947e\" y=\"13.377273\"/>\r\n     <use style=\"fill:#1f77b4;stroke:#1f77b4;\" x=\"194.171423\" xlink:href=\"#maf3758947e\" y=\"40.536774\"/>\r\n     <use style=\"fill:#1f77b4;stroke:#1f77b4;\" x=\"136.466772\" xlink:href=\"#maf3758947e\" y=\"70.35391\"/>\r\n     <use style=\"fill:#1f77b4;stroke:#1f77b4;\" x=\"80.767636\" xlink:href=\"#maf3758947e\" y=\"117.323975\"/>\r\n     <use style=\"fill:#1f77b4;stroke:#1f77b4;\" x=\"103.988586\" xlink:href=\"#maf3758947e\" y=\"95.898416\"/>\r\n     <use style=\"fill:#1f77b4;stroke:#1f77b4;\" x=\"174.508279\" xlink:href=\"#maf3758947e\" y=\"52.402667\"/>\r\n     <use style=\"fill:#1f77b4;stroke:#1f77b4;\" x=\"157.883291\" xlink:href=\"#maf3758947e\" y=\"59.792005\"/>\r\n     <use style=\"fill:#1f77b4;stroke:#1f77b4;\" x=\"78.868574\" xlink:href=\"#maf3758947e\" y=\"123.510757\"/>\r\n     <use style=\"fill:#1f77b4;stroke:#1f77b4;\" x=\"197.193113\" xlink:href=\"#maf3758947e\" y=\"52.125095\"/>\r\n     <use style=\"fill:#1f77b4;stroke:#1f77b4;\" x=\"151.7919\" xlink:href=\"#maf3758947e\" y=\"71.490073\"/>\r\n     <use style=\"fill:#1f77b4;stroke:#1f77b4;\" x=\"136.541117\" xlink:href=\"#maf3758947e\" y=\"81.959331\"/>\r\n     <use style=\"fill:#1f77b4;stroke:#1f77b4;\" x=\"141.247428\" xlink:href=\"#maf3758947e\" y=\"84.067451\"/>\r\n     <use style=\"fill:#1f77b4;stroke:#1f77b4;\" x=\"157.294848\" xlink:href=\"#maf3758947e\" y=\"67.109006\"/>\r\n     <use style=\"fill:#1f77b4;stroke:#1f77b4;\" x=\"177.049251\" xlink:href=\"#maf3758947e\" y=\"47.297335\"/>\r\n     <use style=\"fill:#1f77b4;stroke:#1f77b4;\" x=\"148.432793\" xlink:href=\"#maf3758947e\" y=\"68.341564\"/>\r\n     <use style=\"fill:#1f77b4;stroke:#1f77b4;\" x=\"147.460106\" xlink:href=\"#maf3758947e\" y=\"56.928271\"/>\r\n     <use style=\"fill:#1f77b4;stroke:#1f77b4;\" x=\"149.969334\" xlink:href=\"#maf3758947e\" y=\"68.773409\"/>\r\n     <use style=\"fill:#1f77b4;stroke:#1f77b4;\" x=\"163.451666\" xlink:href=\"#maf3758947e\" y=\"66.611658\"/>\r\n     <use style=\"fill:#1f77b4;stroke:#1f77b4;\" x=\"135.623503\" xlink:href=\"#maf3758947e\" y=\"73.751392\"/>\r\n     <use style=\"fill:#1f77b4;stroke:#1f77b4;\" x=\"108.467249\" xlink:href=\"#maf3758947e\" y=\"102.351639\"/>\r\n     <use style=\"fill:#1f77b4;stroke:#1f77b4;\" x=\"160.452585\" xlink:href=\"#maf3758947e\" y=\"62.395186\"/>\r\n     <use style=\"fill:#1f77b4;stroke:#1f77b4;\" x=\"144.200862\" xlink:href=\"#maf3758947e\" y=\"70.475741\"/>\r\n     <use style=\"fill:#1f77b4;stroke:#1f77b4;\" x=\"134.219351\" xlink:href=\"#maf3758947e\" y=\"74.004446\"/>\r\n     <use style=\"fill:#1f77b4;stroke:#1f77b4;\" x=\"146.210962\" xlink:href=\"#maf3758947e\" y=\"61.119211\"/>\r\n     <use style=\"fill:#1f77b4;stroke:#1f77b4;\" x=\"104.622283\" xlink:href=\"#maf3758947e\" y=\"98.986697\"/>\r\n     <use style=\"fill:#1f77b4;stroke:#1f77b4;\" x=\"150.295394\" xlink:href=\"#maf3758947e\" y=\"72.602266\"/>\r\n     <use style=\"fill:#1f77b4;stroke:#1f77b4;\" x=\"206.102551\" xlink:href=\"#maf3758947e\" y=\"36.124584\"/>\r\n     <use style=\"fill:#1f77b4;stroke:#1f77b4;\" x=\"79.981676\" xlink:href=\"#maf3758947e\" y=\"112.63643\"/>\r\n     <use style=\"fill:#1f77b4;stroke:#1f77b4;\" x=\"100.189513\" xlink:href=\"#maf3758947e\" y=\"111.95906\"/>\r\n     <use style=\"fill:#1f77b4;stroke:#1f77b4;\" x=\"130.32069\" xlink:href=\"#maf3758947e\" y=\"81.527656\"/>\r\n     <use style=\"fill:#1f77b4;stroke:#1f77b4;\" x=\"156.750949\" xlink:href=\"#maf3758947e\" y=\"59.527849\"/>\r\n     <use style=\"fill:#1f77b4;stroke:#1f77b4;\" x=\"137.300768\" xlink:href=\"#maf3758947e\" y=\"75.564063\"/>\r\n    </g>\r\n   </g>\r\n   <g id=\"matplotlib.axis_1\">\r\n    <g id=\"xtick_1\">\r\n     <g id=\"line2d_1\">\r\n      <defs>\r\n       <path d=\"M 0 0 \r\nL 0 3.5 \r\n\" id=\"m1e0f0430f1\" style=\"stroke:#000000;stroke-width:0.8;\"/>\r\n      </defs>\r\n      <g>\r\n       <use style=\"stroke:#000000;stroke-width:0.8;\" x=\"56.455134\" xlink:href=\"#m1e0f0430f1\" y=\"143.1\"/>\r\n      </g>\r\n     </g>\r\n     <g id=\"text_1\">\r\n      <!-- −2 -->\r\n      <g transform=\"translate(49.08404 157.698438)scale(0.1 -0.1)\">\r\n       <defs>\r\n        <path d=\"M 10.59375 35.5 \r\nL 73.1875 35.5 \r\nL 73.1875 27.203125 \r\nL 10.59375 27.203125 \r\nz\r\n\" id=\"DejaVuSans-8722\"/>\r\n        <path d=\"M 19.1875 8.296875 \r\nL 53.609375 8.296875 \r\nL 53.609375 0 \r\nL 7.328125 0 \r\nL 7.328125 8.296875 \r\nQ 12.9375 14.109375 22.625 23.890625 \r\nQ 32.328125 33.6875 34.8125 36.53125 \r\nQ 39.546875 41.84375 41.421875 45.53125 \r\nQ 43.3125 49.21875 43.3125 52.78125 \r\nQ 43.3125 58.59375 39.234375 62.25 \r\nQ 35.15625 65.921875 28.609375 65.921875 \r\nQ 23.96875 65.921875 18.8125 64.3125 \r\nQ 13.671875 62.703125 7.8125 59.421875 \r\nL 7.8125 69.390625 \r\nQ 13.765625 71.78125 18.9375 73 \r\nQ 24.125 74.21875 28.421875 74.21875 \r\nQ 39.75 74.21875 46.484375 68.546875 \r\nQ 53.21875 62.890625 53.21875 53.421875 \r\nQ 53.21875 48.921875 51.53125 44.890625 \r\nQ 49.859375 40.875 45.40625 35.40625 \r\nQ 44.1875 33.984375 37.640625 27.21875 \r\nQ 31.109375 20.453125 19.1875 8.296875 \r\nz\r\n\" id=\"DejaVuSans-50\"/>\r\n       </defs>\r\n       <use xlink:href=\"#DejaVuSans-8722\"/>\r\n       <use x=\"83.789062\" xlink:href=\"#DejaVuSans-50\"/>\r\n      </g>\r\n     </g>\r\n    </g>\r\n    <g id=\"xtick_2\">\r\n     <g id=\"line2d_2\">\r\n      <g>\r\n       <use style=\"stroke:#000000;stroke-width:0.8;\" x=\"115.695654\" xlink:href=\"#m1e0f0430f1\" y=\"143.1\"/>\r\n      </g>\r\n     </g>\r\n     <g id=\"text_2\">\r\n      <!-- 0 -->\r\n      <g transform=\"translate(112.514404 157.698438)scale(0.1 -0.1)\">\r\n       <defs>\r\n        <path d=\"M 31.78125 66.40625 \r\nQ 24.171875 66.40625 20.328125 58.90625 \r\nQ 16.5 51.421875 16.5 36.375 \r\nQ 16.5 21.390625 20.328125 13.890625 \r\nQ 24.171875 6.390625 31.78125 6.390625 \r\nQ 39.453125 6.390625 43.28125 13.890625 \r\nQ 47.125 21.390625 47.125 36.375 \r\nQ 47.125 51.421875 43.28125 58.90625 \r\nQ 39.453125 66.40625 31.78125 66.40625 \r\nz\r\nM 31.78125 74.21875 \r\nQ 44.046875 74.21875 50.515625 64.515625 \r\nQ 56.984375 54.828125 56.984375 36.375 \r\nQ 56.984375 17.96875 50.515625 8.265625 \r\nQ 44.046875 -1.421875 31.78125 -1.421875 \r\nQ 19.53125 -1.421875 13.0625 8.265625 \r\nQ 6.59375 17.96875 6.59375 36.375 \r\nQ 6.59375 54.828125 13.0625 64.515625 \r\nQ 19.53125 74.21875 31.78125 74.21875 \r\nz\r\n\" id=\"DejaVuSans-48\"/>\r\n       </defs>\r\n       <use xlink:href=\"#DejaVuSans-48\"/>\r\n      </g>\r\n     </g>\r\n    </g>\r\n    <g id=\"xtick_3\">\r\n     <g id=\"line2d_3\">\r\n      <g>\r\n       <use style=\"stroke:#000000;stroke-width:0.8;\" x=\"174.936174\" xlink:href=\"#m1e0f0430f1\" y=\"143.1\"/>\r\n      </g>\r\n     </g>\r\n     <g id=\"text_3\">\r\n      <!-- 2 -->\r\n      <g transform=\"translate(171.754924 157.698438)scale(0.1 -0.1)\">\r\n       <use xlink:href=\"#DejaVuSans-50\"/>\r\n      </g>\r\n     </g>\r\n    </g>\r\n   </g>\r\n   <g id=\"matplotlib.axis_2\">\r\n    <g id=\"ytick_1\">\r\n     <g id=\"line2d_4\">\r\n      <defs>\r\n       <path d=\"M 0 0 \r\nL -3.5 0 \r\n\" id=\"m773ad1da0e\" style=\"stroke:#000000;stroke-width:0.8;\"/>\r\n      </defs>\r\n      <g>\r\n       <use style=\"stroke:#000000;stroke-width:0.8;\" x=\"38.482813\" xlink:href=\"#m773ad1da0e\" y=\"140.602503\"/>\r\n      </g>\r\n     </g>\r\n     <g id=\"text_4\">\r\n      <!-- −5.0 -->\r\n      <g transform=\"translate(7.2 144.401721)scale(0.1 -0.1)\">\r\n       <defs>\r\n        <path d=\"M 10.796875 72.90625 \r\nL 49.515625 72.90625 \r\nL 49.515625 64.59375 \r\nL 19.828125 64.59375 \r\nL 19.828125 46.734375 \r\nQ 21.96875 47.46875 24.109375 47.828125 \r\nQ 26.265625 48.1875 28.421875 48.1875 \r\nQ 40.625 48.1875 47.75 41.5 \r\nQ 54.890625 34.8125 54.890625 23.390625 \r\nQ 54.890625 11.625 47.5625 5.09375 \r\nQ 40.234375 -1.421875 26.90625 -1.421875 \r\nQ 22.3125 -1.421875 17.546875 -0.640625 \r\nQ 12.796875 0.140625 7.71875 1.703125 \r\nL 7.71875 11.625 \r\nQ 12.109375 9.234375 16.796875 8.0625 \r\nQ 21.484375 6.890625 26.703125 6.890625 \r\nQ 35.15625 6.890625 40.078125 11.328125 \r\nQ 45.015625 15.765625 45.015625 23.390625 \r\nQ 45.015625 31 40.078125 35.4375 \r\nQ 35.15625 39.890625 26.703125 39.890625 \r\nQ 22.75 39.890625 18.8125 39.015625 \r\nQ 14.890625 38.140625 10.796875 36.28125 \r\nz\r\n\" id=\"DejaVuSans-53\"/>\r\n        <path d=\"M 10.6875 12.40625 \r\nL 21 12.40625 \r\nL 21 0 \r\nL 10.6875 0 \r\nz\r\n\" id=\"DejaVuSans-46\"/>\r\n       </defs>\r\n       <use xlink:href=\"#DejaVuSans-8722\"/>\r\n       <use x=\"83.789062\" xlink:href=\"#DejaVuSans-53\"/>\r\n       <use x=\"147.412109\" xlink:href=\"#DejaVuSans-46\"/>\r\n       <use x=\"179.199219\" xlink:href=\"#DejaVuSans-48\"/>\r\n      </g>\r\n     </g>\r\n    </g>\r\n    <g id=\"ytick_2\">\r\n     <g id=\"line2d_5\">\r\n      <g>\r\n       <use style=\"stroke:#000000;stroke-width:0.8;\" x=\"38.482813\" xlink:href=\"#m773ad1da0e\" y=\"115.551218\"/>\r\n      </g>\r\n     </g>\r\n     <g id=\"text_5\">\r\n      <!-- −2.5 -->\r\n      <g transform=\"translate(7.2 119.350437)scale(0.1 -0.1)\">\r\n       <use xlink:href=\"#DejaVuSans-8722\"/>\r\n       <use x=\"83.789062\" xlink:href=\"#DejaVuSans-50\"/>\r\n       <use x=\"147.412109\" xlink:href=\"#DejaVuSans-46\"/>\r\n       <use x=\"179.199219\" xlink:href=\"#DejaVuSans-53\"/>\r\n      </g>\r\n     </g>\r\n    </g>\r\n    <g id=\"ytick_3\">\r\n     <g id=\"line2d_6\">\r\n      <g>\r\n       <use style=\"stroke:#000000;stroke-width:0.8;\" x=\"38.482813\" xlink:href=\"#m773ad1da0e\" y=\"90.499934\"/>\r\n      </g>\r\n     </g>\r\n     <g id=\"text_6\">\r\n      <!-- 0.0 -->\r\n      <g transform=\"translate(15.579688 94.299153)scale(0.1 -0.1)\">\r\n       <use xlink:href=\"#DejaVuSans-48\"/>\r\n       <use x=\"63.623047\" xlink:href=\"#DejaVuSans-46\"/>\r\n       <use x=\"95.410156\" xlink:href=\"#DejaVuSans-48\"/>\r\n      </g>\r\n     </g>\r\n    </g>\r\n    <g id=\"ytick_4\">\r\n     <g id=\"line2d_7\">\r\n      <g>\r\n       <use style=\"stroke:#000000;stroke-width:0.8;\" x=\"38.482813\" xlink:href=\"#m773ad1da0e\" y=\"65.44865\"/>\r\n      </g>\r\n     </g>\r\n     <g id=\"text_7\">\r\n      <!-- 2.5 -->\r\n      <g transform=\"translate(15.579688 69.247869)scale(0.1 -0.1)\">\r\n       <use xlink:href=\"#DejaVuSans-50\"/>\r\n       <use x=\"63.623047\" xlink:href=\"#DejaVuSans-46\"/>\r\n       <use x=\"95.410156\" xlink:href=\"#DejaVuSans-53\"/>\r\n      </g>\r\n     </g>\r\n    </g>\r\n    <g id=\"ytick_5\">\r\n     <g id=\"line2d_8\">\r\n      <g>\r\n       <use style=\"stroke:#000000;stroke-width:0.8;\" x=\"38.482813\" xlink:href=\"#m773ad1da0e\" y=\"40.397366\"/>\r\n      </g>\r\n     </g>\r\n     <g id=\"text_8\">\r\n      <!-- 5.0 -->\r\n      <g transform=\"translate(15.579688 44.196585)scale(0.1 -0.1)\">\r\n       <use xlink:href=\"#DejaVuSans-53\"/>\r\n       <use x=\"63.623047\" xlink:href=\"#DejaVuSans-46\"/>\r\n       <use x=\"95.410156\" xlink:href=\"#DejaVuSans-48\"/>\r\n      </g>\r\n     </g>\r\n    </g>\r\n    <g id=\"ytick_6\">\r\n     <g id=\"line2d_9\">\r\n      <g>\r\n       <use style=\"stroke:#000000;stroke-width:0.8;\" x=\"38.482813\" xlink:href=\"#m773ad1da0e\" y=\"15.346082\"/>\r\n      </g>\r\n     </g>\r\n     <g id=\"text_9\">\r\n      <!-- 7.5 -->\r\n      <g transform=\"translate(15.579688 19.145301)scale(0.1 -0.1)\">\r\n       <defs>\r\n        <path d=\"M 8.203125 72.90625 \r\nL 55.078125 72.90625 \r\nL 55.078125 68.703125 \r\nL 28.609375 0 \r\nL 18.3125 0 \r\nL 43.21875 64.59375 \r\nL 8.203125 64.59375 \r\nz\r\n\" id=\"DejaVuSans-55\"/>\r\n       </defs>\r\n       <use xlink:href=\"#DejaVuSans-55\"/>\r\n       <use x=\"63.623047\" xlink:href=\"#DejaVuSans-46\"/>\r\n       <use x=\"95.410156\" xlink:href=\"#DejaVuSans-53\"/>\r\n      </g>\r\n     </g>\r\n    </g>\r\n   </g>\r\n   <g id=\"patch_3\">\r\n    <path d=\"M 38.482813 143.1 \r\nL 38.482813 7.2 \r\n\" style=\"fill:none;stroke:#000000;stroke-linecap:square;stroke-linejoin:miter;stroke-width:0.8;\"/>\r\n   </g>\r\n   <g id=\"patch_4\">\r\n    <path d=\"M 233.782813 143.1 \r\nL 233.782813 7.2 \r\n\" style=\"fill:none;stroke:#000000;stroke-linecap:square;stroke-linejoin:miter;stroke-width:0.8;\"/>\r\n   </g>\r\n   <g id=\"patch_5\">\r\n    <path d=\"M 38.482813 143.1 \r\nL 233.782813 143.1 \r\n\" style=\"fill:none;stroke:#000000;stroke-linecap:square;stroke-linejoin:miter;stroke-width:0.8;\"/>\r\n   </g>\r\n   <g id=\"patch_6\">\r\n    <path d=\"M 38.482813 7.2 \r\nL 233.782813 7.2 \r\n\" style=\"fill:none;stroke:#000000;stroke-linecap:square;stroke-linejoin:miter;stroke-width:0.8;\"/>\r\n   </g>\r\n  </g>\r\n </g>\r\n <defs>\r\n  <clipPath id=\"pb7da93b340\">\r\n   <rect height=\"135.9\" width=\"195.3\" x=\"38.482813\" y=\"7.2\"/>\r\n  </clipPath>\r\n </defs>\r\n</svg>\r\n"
     },
     "metadata": {
      "needs_background": "light"
     }
    }
   ],
   "source": [
    "d2l.set_figsize()\n",
    "d2l.plt.scatter(d2l.numpy(data[:100, 0]), d2l.numpy(data[:100, 1]));\n",
    "print(f'The covariance matrix is\\n{d2l.matmul(tf.transpose(A), A)}')"
   ]
  },
  {
   "cell_type": "code",
   "execution_count": 5,
   "metadata": {},
   "outputs": [],
   "source": [
    "batch_size = 8\n",
    "data_iter = d2l.load_array((data,), batch_size)"
   ]
  },
  {
   "cell_type": "code",
   "execution_count": 6,
   "metadata": {},
   "outputs": [],
   "source": [
    "net_G = tf.keras.Sequential()\n",
    "net_G.add(tf.keras.layers.Dense(2))"
   ]
  },
  {
   "cell_type": "markdown",
   "metadata": {},
   "source": [
    "tf.keras.activations.tanh(a)\n",
    "https://www.tensorflow.org/api_docs/python/tf/keras/activations/tanh\n"
   ]
  },
  {
   "cell_type": "code",
   "execution_count": 7,
   "metadata": {},
   "outputs": [],
   "source": [
    "net_D = tf.keras.Sequential()\n",
    "net_D.add(tf.keras.layers.Dense(5, activation='tanh'))\n",
    "net_D.add(tf.keras.layers.Dense(3, activation='tanh'))\n",
    "net_D.add(tf.keras.layers.Dense(1))"
   ]
  },
  {
   "cell_type": "markdown",
   "metadata": {},
   "source": [
    "with tf.GradientTape() as t:\n",
    "http://preview.d2l.ai/d2l-en/master/chapter_preliminaries/autograd.html\n"
   ]
  },
  {
   "cell_type": "markdown",
   "metadata": {},
   "source": [
    "t.gradient(y, x) \n",
    "t.gradient(loss_D, trainer_D) "
   ]
  },
  {
   "cell_type": "markdown",
   "metadata": {},
   "source": [
    ".apply_gradients(zip(grads, self.generator.trainable_weights))\n",
    "https://keras.io/examples/generative/dcgan_overriding_train_step/"
   ]
  },
  {
   "cell_type": "code",
   "execution_count": 8,
   "metadata": {},
   "outputs": [],
   "source": [
    "#@save\n",
    "def update_D(X, Z, net_D, net_G, loss, trainer_D):\n",
    "    \"\"\"Update discriminator.\"\"\"\n",
    "    batch_size = tf.shape(X)[0]\n",
    "    ones = tf.ones((batch_size, ), tf.float32)\n",
    "    zeros = tf.zeros((batch_size, ), tf.float32)\n",
    "    with tf.GradientTape() as t:\n",
    "        real_Y = net_D(tf.convert_to_tensor(X))\n",
    "        fake_X = net_G(tf.convert_to_tensor(Z))\n",
    "        # Do not need to compute gradient for `net_G`, detach it from\n",
    "        # computing gradients.\n",
    "        fake_Y = net_D(tf.stop_gradient(fake_X))\n",
    "        loss_D = (loss(real_Y, tf.reshape(ones, tf.shape(real_Y.shape)))\n",
    "                + loss(fake_Y, tf.reshape(zeros, tf.shape(fake_Y.shape)))) / 2\n",
    "    grads = t.gradient(loss_D, net_D.trainable_variables)\n",
    "    trainer_D.apply_gradients(zip(grads, net_D.trainable_weights))\n",
    "    return float(loss_D)"
   ]
  },
  {
   "cell_type": "markdown",
   "metadata": {},
   "source": [
    "https://www.tensorflow.org/api_docs/python/tf/reshape"
   ]
  },
  {
   "cell_type": "code",
   "execution_count": 9,
   "metadata": {},
   "outputs": [],
   "source": [
    "#@save\n",
    "def update_G(Z, net_D, net_G, loss, trainer_G):\n",
    "    \"\"\"Update generator.\"\"\"\n",
    "    batch_size = tf.shape(Z)[0]\n",
    "    ones = tf.ones((batch_size, ), tf.float32)\n",
    "    with tf.GradientTape() as t:\n",
    "        # We could reuse `fake_X` from `update_D` to save computation\n",
    "        fake_X = net_G(tf.convert_to_tensor(Z))\n",
    "        # Recomputing `fake_Y` is needed since `net_D` is changed\n",
    "        fake_Y = net_D(fake_X)\n",
    "        loss_G = loss(fake_Y, tf.reshape(ones, tf.shape(fake_Y)))\n",
    "    grads = t.gradient(loss_G, net_G.trainable_variables) \n",
    "    trainer_G.apply_gradients(zip(grads, net_G.trainable_weights))\n",
    "    return float(loss_G)"
   ]
  },
  {
   "cell_type": "markdown",
   "metadata": {},
   "source": [
    "https://www.google.com/search?q=numpy()+tensorflow&rlz=1C1GCEA_enJP909HK909&oq=numpy()+tensorflow&aqs=chrome..69i57j0l7.2792j0j1&sourceid=chrome&ie=UTF-8"
   ]
  },
  {
   "cell_type": "markdown",
   "metadata": {},
   "source": [
    "https://www.tensorflow.org/api_docs/python/tf/keras/optimizers/Adam\n",
    "tf.keras.optimizers.Adam(learning_rate=0.1)\n",
    "m.compile\n",
    "m = tf.keras.models.Sequential([tf.keras.layers.Dense(10)])\n",
    "m.compile(opt, loss='mse')"
   ]
  },
  {
   "cell_type": "markdown",
   "metadata": {},
   "source": [
    "https://stackoverflow.com/questions/55683729/bcewithlogitsloss-in-keras\n",
    "https://www.tensorflow.org/api_docs/python/tf/keras/losses/BinaryCrossentropy\n"
   ]
  },
  {
   "cell_type": "markdown",
   "metadata": {},
   "source": [
    "def weight_variable(shape, w=0.1):\n",
    "  initial = tf.truncated_normal(shape, stddev=w)\n",
    "  return tf.Variable(initial)\n",
    "  https://stackoverflow.com/questions/43489697/tensorflow-weight-initialization\n",
    "\n",
    "  The values generated are similar to values from a tf.keras.initializers.RandomNormal initializer except that values more than two standard deviations from the mean are discarded and re-drawn.\n",
    "  https://keras.io/api/layers/initializers/"
   ]
  },
  {
   "cell_type": "markdown",
   "metadata": {},
   "source": [
    "tf.Variable(initial_value=w_init(\n",
    "            shape=(input_dim, unit), dtype=tf.float32), trainable=True)\n",
    "            https://zhuanlan.zhihu.com/p/59481536"
   ]
  },
  {
   "cell_type": "markdown",
   "metadata": {},
   "source": [
    "https://keras.io/api/layers/initializers/"
   ]
  },
  {
   "cell_type": "markdown",
   "metadata": {},
   "source": [
    "numpy.array\n",
    "https://stackoverflow.com/questions/41198144/attributeerror-tuple-object-has-no-attribute-shape"
   ]
  },
  {
   "cell_type": "markdown",
   "metadata": {},
   "source": [
    "https://github.com/tensorflow/tensorflow/issues/29972"
   ]
  },
  {
   "cell_type": "markdown",
   "metadata": {},
   "source": [
    "tf.stop_gradient(y)\n",
    "http://preview.d2l.ai/d2l-en/master/chapter_preliminaries/autograd.html?highlight=detach"
   ]
  },
  {
   "cell_type": "markdown",
   "metadata": {},
   "source": [
    " from_logits=True 9.2.4 TensorFlow 2.0 神经网络实践"
   ]
  },
  {
   "cell_type": "code",
   "execution_count": 10,
   "metadata": {},
   "outputs": [],
   "source": [
    "def train(net_D, net_G, data_iter, num_epochs, lr_D, lr_G, latent_dim, data):\n",
    "    loss = tf.keras.losses.BinaryCrossentropy(reduction=\n",
    "                tf.keras.losses.Reduction.SUM, from_logits=True)\n",
    "    tf.keras.initializers.RandomNormal(net_D, stddev=0.02)\n",
    "    tf.keras.initializers.RandomNormal(net_G, stddev=0.02)\n",
    "    trainer_D = tf.keras.optimizers.Adam(learning_rate=lr_D)\n",
    "    trainer_G = tf.keras.optimizers.Adam(learning_rate=lr_G)\n",
    "    animator = d2l.Animator(xlabel='epoch', ylabel='loss',\n",
    "                            xlim=[1, num_epochs], nrows=2, figsize=(5, 5),\n",
    "                            legend=['discriminator', 'generator'])\n",
    "    animator.fig.subplots_adjust(hspace=0.3)\n",
    "    for epoch in range(num_epochs):\n",
    "        # Train one epoch\n",
    "        timer = d2l.Timer()\n",
    "        metric = d2l.Accumulator(3)  # loss_D, loss_G, num_examples\n",
    "        for X in data_iter:\n",
    "            batch_size = tf.shape(X)[0]\n",
    "            Z = d2l.normal([batch_size, latent_dim], 0, 1, tf.float32)\n",
    "            metric.add(update_D(X, Z, net_D, net_G, loss, trainer_D),\n",
    "                       update_G(Z, net_D, net_G, loss, trainer_G),\n",
    "                       batch_size)\n",
    "        # Visualize generated examples\n",
    "        Z = d2l.normal([100, latent_dim], 0, 1, tf.float32)\n",
    "        fake_X = net_G(Z).numpy()\n",
    "        animator.axes[1].cla()\n",
    "        animator.axes[1].scatter(data[:, 0], data[:, 1])\n",
    "        animator.axes[1].scatter(fake_X[:, 0], fake_X[:, 1])\n",
    "        animator.axes[1].legend(['real', 'generated'])\n",
    "        # Show the losses\n",
    "        loss_D, loss_G = metric[0]/metric[2], metric[1]/metric[2]\n",
    "        animator.add(epoch + 1, (loss_D, loss_G))\n",
    "    print(f'loss_D {loss_D:.3f}, loss_G {loss_G:.3f}, '\n",
    "          f'{metric[2] / timer.stop():.1f} examples/sec')"
   ]
  },
  {
   "cell_type": "code",
   "execution_count": 11,
   "metadata": {
    "tags": []
   },
   "outputs": [
    {
     "output_type": "error",
     "ename": "InvalidArgumentError",
     "evalue": "Input to reshape is a tensor with 1 values, but the requested shape has 3 [Op:Reshape]",
     "traceback": [
      "\u001b[1;31m---------------------------------------------------------------------------\u001b[0m",
      "\u001b[1;31mInvalidArgumentError\u001b[0m                      Traceback (most recent call last)",
      "\u001b[1;32m<ipython-input-11-251159593cac>\u001b[0m in \u001b[0;36m<module>\u001b[1;34m\u001b[0m\n\u001b[0;32m      1\u001b[0m \u001b[0mlr_D\u001b[0m\u001b[1;33m,\u001b[0m \u001b[0mlr_G\u001b[0m\u001b[1;33m,\u001b[0m \u001b[0mlatent_dim\u001b[0m\u001b[1;33m,\u001b[0m \u001b[0mnum_epochs\u001b[0m \u001b[1;33m=\u001b[0m \u001b[1;36m0.05\u001b[0m\u001b[1;33m,\u001b[0m \u001b[1;36m0.005\u001b[0m\u001b[1;33m,\u001b[0m \u001b[1;36m2\u001b[0m\u001b[1;33m,\u001b[0m \u001b[1;36m20\u001b[0m\u001b[1;33m\u001b[0m\u001b[1;33m\u001b[0m\u001b[0m\n\u001b[0;32m      2\u001b[0m train(net_D, net_G, data_iter, num_epochs, lr_D, lr_G,\n\u001b[1;32m----> 3\u001b[1;33m       latent_dim, d2l.numpy(data[:100]))\n\u001b[0m",
      "\u001b[1;32m<ipython-input-10-70ac2e200092>\u001b[0m in \u001b[0;36mtrain\u001b[1;34m(net_D, net_G, data_iter, num_epochs, lr_D, lr_G, latent_dim, data)\u001b[0m\n\u001b[0;32m     17\u001b[0m             \u001b[0mbatch_size\u001b[0m \u001b[1;33m=\u001b[0m \u001b[0mtf\u001b[0m\u001b[1;33m.\u001b[0m\u001b[0mshape\u001b[0m\u001b[1;33m(\u001b[0m\u001b[0mX\u001b[0m\u001b[1;33m)\u001b[0m\u001b[1;33m[\u001b[0m\u001b[1;36m0\u001b[0m\u001b[1;33m]\u001b[0m\u001b[1;33m\u001b[0m\u001b[1;33m\u001b[0m\u001b[0m\n\u001b[0;32m     18\u001b[0m             \u001b[0mZ\u001b[0m \u001b[1;33m=\u001b[0m \u001b[0md2l\u001b[0m\u001b[1;33m.\u001b[0m\u001b[0mnormal\u001b[0m\u001b[1;33m(\u001b[0m\u001b[1;33m[\u001b[0m\u001b[0mbatch_size\u001b[0m\u001b[1;33m,\u001b[0m \u001b[0mlatent_dim\u001b[0m\u001b[1;33m]\u001b[0m\u001b[1;33m,\u001b[0m \u001b[1;36m0\u001b[0m\u001b[1;33m,\u001b[0m \u001b[1;36m1\u001b[0m\u001b[1;33m,\u001b[0m \u001b[0mtf\u001b[0m\u001b[1;33m.\u001b[0m\u001b[0mfloat32\u001b[0m\u001b[1;33m)\u001b[0m\u001b[1;33m\u001b[0m\u001b[1;33m\u001b[0m\u001b[0m\n\u001b[1;32m---> 19\u001b[1;33m             metric.add(update_D(X, Z, net_D, net_G, loss, trainer_D),\n\u001b[0m\u001b[0;32m     20\u001b[0m                        \u001b[0mupdate_G\u001b[0m\u001b[1;33m(\u001b[0m\u001b[0mZ\u001b[0m\u001b[1;33m,\u001b[0m \u001b[0mnet_D\u001b[0m\u001b[1;33m,\u001b[0m \u001b[0mnet_G\u001b[0m\u001b[1;33m,\u001b[0m \u001b[0mloss\u001b[0m\u001b[1;33m,\u001b[0m \u001b[0mtrainer_G\u001b[0m\u001b[1;33m)\u001b[0m\u001b[1;33m,\u001b[0m\u001b[1;33m\u001b[0m\u001b[1;33m\u001b[0m\u001b[0m\n\u001b[0;32m     21\u001b[0m                        batch_size)\n",
      "\u001b[1;32m<ipython-input-8-b4e5168c709f>\u001b[0m in \u001b[0;36mupdate_D\u001b[1;34m(X, Z, net_D, net_G, loss, trainer_D)\u001b[0m\n\u001b[0;32m     11\u001b[0m         \u001b[1;31m# computing gradients.\u001b[0m\u001b[1;33m\u001b[0m\u001b[1;33m\u001b[0m\u001b[1;33m\u001b[0m\u001b[0m\n\u001b[0;32m     12\u001b[0m         \u001b[0mfake_Y\u001b[0m \u001b[1;33m=\u001b[0m \u001b[0mnet_D\u001b[0m\u001b[1;33m(\u001b[0m\u001b[0mtf\u001b[0m\u001b[1;33m.\u001b[0m\u001b[0mstop_gradient\u001b[0m\u001b[1;33m(\u001b[0m\u001b[0mfake_X\u001b[0m\u001b[1;33m)\u001b[0m\u001b[1;33m)\u001b[0m\u001b[1;33m\u001b[0m\u001b[1;33m\u001b[0m\u001b[0m\n\u001b[1;32m---> 13\u001b[1;33m         loss_D = (loss(real_Y, tf.reshape(ones, tf.shape(real_Y.shape)))\n\u001b[0m\u001b[0;32m     14\u001b[0m                 + loss(fake_Y, tf.reshape(zeros, tf.shape(fake_Y.shape)))) / 2\n\u001b[0;32m     15\u001b[0m     \u001b[0mgrads\u001b[0m \u001b[1;33m=\u001b[0m \u001b[0mt\u001b[0m\u001b[1;33m.\u001b[0m\u001b[0mgradient\u001b[0m\u001b[1;33m(\u001b[0m\u001b[0mloss_D\u001b[0m\u001b[1;33m,\u001b[0m \u001b[0mnet_D\u001b[0m\u001b[1;33m.\u001b[0m\u001b[0mtrainable_variables\u001b[0m\u001b[1;33m)\u001b[0m\u001b[1;33m\u001b[0m\u001b[1;33m\u001b[0m\u001b[0m\n",
      "\u001b[1;32m~\\anaconda3\\envs\\tf2\\lib\\site-packages\\tensorflow\\python\\util\\dispatch.py\u001b[0m in \u001b[0;36mwrapper\u001b[1;34m(*args, **kwargs)\u001b[0m\n\u001b[0;32m    199\u001b[0m     \u001b[1;34m\"\"\"Call target, and fall back on dispatchers if there is a TypeError.\"\"\"\u001b[0m\u001b[1;33m\u001b[0m\u001b[1;33m\u001b[0m\u001b[0m\n\u001b[0;32m    200\u001b[0m     \u001b[1;32mtry\u001b[0m\u001b[1;33m:\u001b[0m\u001b[1;33m\u001b[0m\u001b[1;33m\u001b[0m\u001b[0m\n\u001b[1;32m--> 201\u001b[1;33m       \u001b[1;32mreturn\u001b[0m \u001b[0mtarget\u001b[0m\u001b[1;33m(\u001b[0m\u001b[1;33m*\u001b[0m\u001b[0margs\u001b[0m\u001b[1;33m,\u001b[0m \u001b[1;33m**\u001b[0m\u001b[0mkwargs\u001b[0m\u001b[1;33m)\u001b[0m\u001b[1;33m\u001b[0m\u001b[1;33m\u001b[0m\u001b[0m\n\u001b[0m\u001b[0;32m    202\u001b[0m     \u001b[1;32mexcept\u001b[0m \u001b[1;33m(\u001b[0m\u001b[0mTypeError\u001b[0m\u001b[1;33m,\u001b[0m \u001b[0mValueError\u001b[0m\u001b[1;33m)\u001b[0m\u001b[1;33m:\u001b[0m\u001b[1;33m\u001b[0m\u001b[1;33m\u001b[0m\u001b[0m\n\u001b[0;32m    203\u001b[0m       \u001b[1;31m# Note: convert_to_eager_tensor currently raises a ValueError, not a\u001b[0m\u001b[1;33m\u001b[0m\u001b[1;33m\u001b[0m\u001b[1;33m\u001b[0m\u001b[0m\n",
      "\u001b[1;32m~\\anaconda3\\envs\\tf2\\lib\\site-packages\\tensorflow\\python\\ops\\array_ops.py\u001b[0m in \u001b[0;36mreshape\u001b[1;34m(tensor, shape, name)\u001b[0m\n\u001b[0;32m    193\u001b[0m     \u001b[0mA\u001b[0m\u001b[0;31m \u001b[0m\u001b[0;31m`\u001b[0m\u001b[0mTensor\u001b[0m\u001b[0;31m`\u001b[0m\u001b[1;33m.\u001b[0m \u001b[0mHas\u001b[0m \u001b[0mthe\u001b[0m \u001b[0msame\u001b[0m \u001b[0mtype\u001b[0m \u001b[1;32mas\u001b[0m\u001b[0;31m \u001b[0m\u001b[0;31m`\u001b[0m\u001b[0mtensor\u001b[0m\u001b[0;31m`\u001b[0m\u001b[1;33m.\u001b[0m\u001b[1;33m\u001b[0m\u001b[1;33m\u001b[0m\u001b[0m\n\u001b[0;32m    194\u001b[0m   \"\"\"\n\u001b[1;32m--> 195\u001b[1;33m   \u001b[0mresult\u001b[0m \u001b[1;33m=\u001b[0m \u001b[0mgen_array_ops\u001b[0m\u001b[1;33m.\u001b[0m\u001b[0mreshape\u001b[0m\u001b[1;33m(\u001b[0m\u001b[0mtensor\u001b[0m\u001b[1;33m,\u001b[0m \u001b[0mshape\u001b[0m\u001b[1;33m,\u001b[0m \u001b[0mname\u001b[0m\u001b[1;33m)\u001b[0m\u001b[1;33m\u001b[0m\u001b[1;33m\u001b[0m\u001b[0m\n\u001b[0m\u001b[0;32m    196\u001b[0m   \u001b[0mtensor_util\u001b[0m\u001b[1;33m.\u001b[0m\u001b[0mmaybe_set_static_shape\u001b[0m\u001b[1;33m(\u001b[0m\u001b[0mresult\u001b[0m\u001b[1;33m,\u001b[0m \u001b[0mshape\u001b[0m\u001b[1;33m)\u001b[0m\u001b[1;33m\u001b[0m\u001b[1;33m\u001b[0m\u001b[0m\n\u001b[0;32m    197\u001b[0m   \u001b[1;32mreturn\u001b[0m \u001b[0mresult\u001b[0m\u001b[1;33m\u001b[0m\u001b[1;33m\u001b[0m\u001b[0m\n",
      "\u001b[1;32m~\\anaconda3\\envs\\tf2\\lib\\site-packages\\tensorflow\\python\\ops\\gen_array_ops.py\u001b[0m in \u001b[0;36mreshape\u001b[1;34m(tensor, shape, name)\u001b[0m\n\u001b[0;32m   8222\u001b[0m       \u001b[1;32mreturn\u001b[0m \u001b[0m_result\u001b[0m\u001b[1;33m\u001b[0m\u001b[1;33m\u001b[0m\u001b[0m\n\u001b[0;32m   8223\u001b[0m     \u001b[1;32mexcept\u001b[0m \u001b[0m_core\u001b[0m\u001b[1;33m.\u001b[0m\u001b[0m_NotOkStatusException\u001b[0m \u001b[1;32mas\u001b[0m \u001b[0me\u001b[0m\u001b[1;33m:\u001b[0m\u001b[1;33m\u001b[0m\u001b[1;33m\u001b[0m\u001b[0m\n\u001b[1;32m-> 8224\u001b[1;33m       \u001b[0m_ops\u001b[0m\u001b[1;33m.\u001b[0m\u001b[0mraise_from_not_ok_status\u001b[0m\u001b[1;33m(\u001b[0m\u001b[0me\u001b[0m\u001b[1;33m,\u001b[0m \u001b[0mname\u001b[0m\u001b[1;33m)\u001b[0m\u001b[1;33m\u001b[0m\u001b[1;33m\u001b[0m\u001b[0m\n\u001b[0m\u001b[0;32m   8225\u001b[0m     \u001b[1;32mexcept\u001b[0m \u001b[0m_core\u001b[0m\u001b[1;33m.\u001b[0m\u001b[0m_FallbackException\u001b[0m\u001b[1;33m:\u001b[0m\u001b[1;33m\u001b[0m\u001b[1;33m\u001b[0m\u001b[0m\n\u001b[0;32m   8226\u001b[0m       \u001b[1;32mpass\u001b[0m\u001b[1;33m\u001b[0m\u001b[1;33m\u001b[0m\u001b[0m\n",
      "\u001b[1;32m~\\anaconda3\\envs\\tf2\\lib\\site-packages\\tensorflow\\python\\framework\\ops.py\u001b[0m in \u001b[0;36mraise_from_not_ok_status\u001b[1;34m(e, name)\u001b[0m\n\u001b[0;32m   6841\u001b[0m   \u001b[0mmessage\u001b[0m \u001b[1;33m=\u001b[0m \u001b[0me\u001b[0m\u001b[1;33m.\u001b[0m\u001b[0mmessage\u001b[0m \u001b[1;33m+\u001b[0m \u001b[1;33m(\u001b[0m\u001b[1;34m\" name: \"\u001b[0m \u001b[1;33m+\u001b[0m \u001b[0mname\u001b[0m \u001b[1;32mif\u001b[0m \u001b[0mname\u001b[0m \u001b[1;32mis\u001b[0m \u001b[1;32mnot\u001b[0m \u001b[1;32mNone\u001b[0m \u001b[1;32melse\u001b[0m \u001b[1;34m\"\"\u001b[0m\u001b[1;33m)\u001b[0m\u001b[1;33m\u001b[0m\u001b[1;33m\u001b[0m\u001b[0m\n\u001b[0;32m   6842\u001b[0m   \u001b[1;31m# pylint: disable=protected-access\u001b[0m\u001b[1;33m\u001b[0m\u001b[1;33m\u001b[0m\u001b[1;33m\u001b[0m\u001b[0m\n\u001b[1;32m-> 6843\u001b[1;33m   \u001b[0msix\u001b[0m\u001b[1;33m.\u001b[0m\u001b[0mraise_from\u001b[0m\u001b[1;33m(\u001b[0m\u001b[0mcore\u001b[0m\u001b[1;33m.\u001b[0m\u001b[0m_status_to_exception\u001b[0m\u001b[1;33m(\u001b[0m\u001b[0me\u001b[0m\u001b[1;33m.\u001b[0m\u001b[0mcode\u001b[0m\u001b[1;33m,\u001b[0m \u001b[0mmessage\u001b[0m\u001b[1;33m)\u001b[0m\u001b[1;33m,\u001b[0m \u001b[1;32mNone\u001b[0m\u001b[1;33m)\u001b[0m\u001b[1;33m\u001b[0m\u001b[1;33m\u001b[0m\u001b[0m\n\u001b[0m\u001b[0;32m   6844\u001b[0m   \u001b[1;31m# pylint: enable=protected-access\u001b[0m\u001b[1;33m\u001b[0m\u001b[1;33m\u001b[0m\u001b[1;33m\u001b[0m\u001b[0m\n\u001b[0;32m   6845\u001b[0m \u001b[1;33m\u001b[0m\u001b[0m\n",
      "\u001b[1;32m~\\anaconda3\\envs\\tf2\\lib\\site-packages\\six.py\u001b[0m in \u001b[0;36mraise_from\u001b[1;34m(value, from_value)\u001b[0m\n",
      "\u001b[1;31mInvalidArgumentError\u001b[0m: Input to reshape is a tensor with 1 values, but the requested shape has 3 [Op:Reshape]"
     ]
    }
   ],
   "source": [
    "lr_D, lr_G, latent_dim, num_epochs = 0.05, 0.005, 2, 20\n",
    "train(net_D, net_G, data_iter, num_epochs, lr_D, lr_G,\n",
    "      latent_dim, d2l.numpy(data[:100]))"
   ]
  },
  {
   "cell_type": "markdown",
   "metadata": {},
   "source": [
    "https://www.tensorflow.org/api_docs/python/tf/ones"
   ]
  }
 ]
}