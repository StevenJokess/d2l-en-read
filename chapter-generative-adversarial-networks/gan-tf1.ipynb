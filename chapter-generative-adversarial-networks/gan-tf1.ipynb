{
 "metadata": {
  "language_info": {
   "codemirror_mode": {
    "name": "ipython",
    "version": 3
   },
   "file_extension": ".py",
   "mimetype": "text/x-python",
   "name": "python",
   "nbconvert_exporter": "python",
   "pygments_lexer": "ipython3",
   "version": "3.7.8-final"
  },
  "orig_nbformat": 2,
  "kernelspec": {
   "name": "python37864bittf2conda1de394c9651a4d19aa25641a40b8d2d8",
   "display_name": "Python 3.7.8 64-bit ('tf2': conda)"
  }
 },
 "nbformat": 4,
 "nbformat_minor": 2,
 "cells": [
  {
   "cell_type": "markdown",
   "metadata": {},
   "source": [
    "http://preview.d2l.ai/d2l-en/master/chapter_generative-adversarial-networks/gan.html"
   ]
  },
  {
   "cell_type": "code",
   "execution_count": 1,
   "metadata": {},
   "outputs": [],
   "source": [
    "%matplotlib inline\n",
    "from d2l import tensorflow as d2l\n",
    "import tensorflow as tf\n",
    "import numpy as np"
   ]
  },
  {
   "cell_type": "markdown",
   "metadata": {},
   "source": [
    "https://www.tensorflow.org/api_docs/python/tf/random/normal"
   ]
  },
  {
   "cell_type": "markdown",
   "metadata": {},
   "source": [
    "https://www.tensorflow.org/api_docs/python/tf/norm"
   ]
  },
  {
   "cell_type": "code",
   "execution_count": 2,
   "metadata": {},
   "outputs": [],
   "source": [
    "X = d2l.normal([1000, 2], 0.0, 1, tf.float32)"
   ]
  },
  {
   "cell_type": "code",
   "execution_count": 3,
   "metadata": {},
   "outputs": [],
   "source": [
    "A = d2l.tensor([[1, 2], [-0.1, 0.5]], tf.float32)\n",
    "b = d2l.tensor([1, 2], tf.float32)\n",
    "data = d2l.matmul(X, A) + b"
   ]
  },
  {
   "cell_type": "code",
   "execution_count": 4,
   "metadata": {
    "tags": []
   },
   "outputs": [
    {
     "output_type": "stream",
     "name": "stdout",
     "text": "The covariance matrix is\n[[1.01 1.95]\n [1.95 4.25]]\n"
    },
    {
     "output_type": "display_data",
     "data": {
      "text/plain": "<Figure size 252x180 with 1 Axes>",
      "image/svg+xml": "<?xml version=\"1.0\" encoding=\"utf-8\" standalone=\"no\"?>\r\n<!DOCTYPE svg PUBLIC \"-//W3C//DTD SVG 1.1//EN\"\r\n  \"http://www.w3.org/Graphics/SVG/1.1/DTD/svg11.dtd\">\r\n<!-- Created with matplotlib (https://matplotlib.org/) -->\r\n<svg height=\"166.978125pt\" version=\"1.1\" viewBox=\"0 0 240.982812 166.978125\" width=\"240.982812pt\" xmlns=\"http://www.w3.org/2000/svg\" xmlns:xlink=\"http://www.w3.org/1999/xlink\">\r\n <metadata>\r\n  <rdf:RDF xmlns:cc=\"http://creativecommons.org/ns#\" xmlns:dc=\"http://purl.org/dc/elements/1.1/\" xmlns:rdf=\"http://www.w3.org/1999/02/22-rdf-syntax-ns#\">\r\n   <cc:Work>\r\n    <dc:type rdf:resource=\"http://purl.org/dc/dcmitype/StillImage\"/>\r\n    <dc:date>2020-09-03T22:28:07.403635</dc:date>\r\n    <dc:format>image/svg+xml</dc:format>\r\n    <dc:creator>\r\n     <cc:Agent>\r\n      <dc:title>Matplotlib v3.3.1, https://matplotlib.org/</dc:title>\r\n     </cc:Agent>\r\n    </dc:creator>\r\n   </cc:Work>\r\n  </rdf:RDF>\r\n </metadata>\r\n <defs>\r\n  <style type=\"text/css\">*{stroke-linecap:butt;stroke-linejoin:round;}</style>\r\n </defs>\r\n <g id=\"figure_1\">\r\n  <g id=\"patch_1\">\r\n   <path d=\"M -0 166.978125 \r\nL 240.982813 166.978125 \r\nL 240.982813 0 \r\nL -0 0 \r\nz\r\n\" style=\"fill:none;\"/>\r\n  </g>\r\n  <g id=\"axes_1\">\r\n   <g id=\"patch_2\">\r\n    <path d=\"M 38.482813 143.1 \r\nL 233.782813 143.1 \r\nL 233.782813 7.2 \r\nL 38.482813 7.2 \r\nz\r\n\" style=\"fill:#ffffff;\"/>\r\n   </g>\r\n   <g id=\"PathCollection_1\">\r\n    <defs>\r\n     <path d=\"M 0 3 \r\nC 0.795609 3 1.55874 2.683901 2.12132 2.12132 \r\nC 2.683901 1.55874 3 0.795609 3 0 \r\nC 3 -0.795609 2.683901 -1.55874 2.12132 -2.12132 \r\nC 1.55874 -2.683901 0.795609 -3 0 -3 \r\nC -0.795609 -3 -1.55874 -2.683901 -2.12132 -2.12132 \r\nC -2.683901 -1.55874 -3 -0.795609 -3 0 \r\nC -3 0.795609 -2.683901 1.55874 -2.12132 2.12132 \r\nC -1.55874 2.683901 -0.795609 3 0 3 \r\nz\r\n\" id=\"me54ae0bb71\" style=\"stroke:#1f77b4;\"/>\r\n    </defs>\r\n    <g clip-path=\"url(#p3cf7fb59bb)\">\r\n     <use style=\"fill:#1f77b4;stroke:#1f77b4;\" x=\"119.6747\" xlink:href=\"#me54ae0bb71\" y=\"93.200959\"/>\r\n     <use style=\"fill:#1f77b4;stroke:#1f77b4;\" x=\"126.506466\" xlink:href=\"#me54ae0bb71\" y=\"88.773354\"/>\r\n     <use style=\"fill:#1f77b4;stroke:#1f77b4;\" x=\"121.577746\" xlink:href=\"#me54ae0bb71\" y=\"87.127853\"/>\r\n     <use style=\"fill:#1f77b4;stroke:#1f77b4;\" x=\"124.209323\" xlink:href=\"#me54ae0bb71\" y=\"72.032168\"/>\r\n     <use style=\"fill:#1f77b4;stroke:#1f77b4;\" x=\"84.189328\" xlink:href=\"#me54ae0bb71\" y=\"109.95102\"/>\r\n     <use style=\"fill:#1f77b4;stroke:#1f77b4;\" x=\"174.387396\" xlink:href=\"#me54ae0bb71\" y=\"59.517969\"/>\r\n     <use style=\"fill:#1f77b4;stroke:#1f77b4;\" x=\"93.915173\" xlink:href=\"#me54ae0bb71\" y=\"101.211897\"/>\r\n     <use style=\"fill:#1f77b4;stroke:#1f77b4;\" x=\"126.420123\" xlink:href=\"#me54ae0bb71\" y=\"85.886286\"/>\r\n     <use style=\"fill:#1f77b4;stroke:#1f77b4;\" x=\"186.956733\" xlink:href=\"#me54ae0bb71\" y=\"39.445348\"/>\r\n     <use style=\"fill:#1f77b4;stroke:#1f77b4;\" x=\"158.54783\" xlink:href=\"#me54ae0bb71\" y=\"68.518052\"/>\r\n     <use style=\"fill:#1f77b4;stroke:#1f77b4;\" x=\"210.924868\" xlink:href=\"#me54ae0bb71\" y=\"33.802693\"/>\r\n     <use style=\"fill:#1f77b4;stroke:#1f77b4;\" x=\"194.710777\" xlink:href=\"#me54ae0bb71\" y=\"45.460806\"/>\r\n     <use style=\"fill:#1f77b4;stroke:#1f77b4;\" x=\"136.964548\" xlink:href=\"#me54ae0bb71\" y=\"96.360552\"/>\r\n     <use style=\"fill:#1f77b4;stroke:#1f77b4;\" x=\"104.890638\" xlink:href=\"#me54ae0bb71\" y=\"107.871176\"/>\r\n     <use style=\"fill:#1f77b4;stroke:#1f77b4;\" x=\"112.076352\" xlink:href=\"#me54ae0bb71\" y=\"92.704535\"/>\r\n     <use style=\"fill:#1f77b4;stroke:#1f77b4;\" x=\"197.352603\" xlink:href=\"#me54ae0bb71\" y=\"29.233838\"/>\r\n     <use style=\"fill:#1f77b4;stroke:#1f77b4;\" x=\"155.832322\" xlink:href=\"#me54ae0bb71\" y=\"77.02056\"/>\r\n     <use style=\"fill:#1f77b4;stroke:#1f77b4;\" x=\"145.975085\" xlink:href=\"#me54ae0bb71\" y=\"80.300946\"/>\r\n     <use style=\"fill:#1f77b4;stroke:#1f77b4;\" x=\"127.500629\" xlink:href=\"#me54ae0bb71\" y=\"84.021088\"/>\r\n     <use style=\"fill:#1f77b4;stroke:#1f77b4;\" x=\"160.686918\" xlink:href=\"#me54ae0bb71\" y=\"72.516982\"/>\r\n     <use style=\"fill:#1f77b4;stroke:#1f77b4;\" x=\"107.495303\" xlink:href=\"#me54ae0bb71\" y=\"99.981646\"/>\r\n     <use style=\"fill:#1f77b4;stroke:#1f77b4;\" x=\"145.028107\" xlink:href=\"#me54ae0bb71\" y=\"87.251272\"/>\r\n     <use style=\"fill:#1f77b4;stroke:#1f77b4;\" x=\"167.199722\" xlink:href=\"#me54ae0bb71\" y=\"50.402981\"/>\r\n     <use style=\"fill:#1f77b4;stroke:#1f77b4;\" x=\"194.93837\" xlink:href=\"#me54ae0bb71\" y=\"37.29995\"/>\r\n     <use style=\"fill:#1f77b4;stroke:#1f77b4;\" x=\"127.339964\" xlink:href=\"#me54ae0bb71\" y=\"90.022606\"/>\r\n     <use style=\"fill:#1f77b4;stroke:#1f77b4;\" x=\"142.056415\" xlink:href=\"#me54ae0bb71\" y=\"62.973873\"/>\r\n     <use style=\"fill:#1f77b4;stroke:#1f77b4;\" x=\"160.49119\" xlink:href=\"#me54ae0bb71\" y=\"49.442098\"/>\r\n     <use style=\"fill:#1f77b4;stroke:#1f77b4;\" x=\"176.800638\" xlink:href=\"#me54ae0bb71\" y=\"53.562857\"/>\r\n     <use style=\"fill:#1f77b4;stroke:#1f77b4;\" x=\"74.052362\" xlink:href=\"#me54ae0bb71\" y=\"129.322182\"/>\r\n     <use style=\"fill:#1f77b4;stroke:#1f77b4;\" x=\"160.183331\" xlink:href=\"#me54ae0bb71\" y=\"66.878201\"/>\r\n     <use style=\"fill:#1f77b4;stroke:#1f77b4;\" x=\"99.348845\" xlink:href=\"#me54ae0bb71\" y=\"102.497359\"/>\r\n     <use style=\"fill:#1f77b4;stroke:#1f77b4;\" x=\"131.454806\" xlink:href=\"#me54ae0bb71\" y=\"76.914704\"/>\r\n     <use style=\"fill:#1f77b4;stroke:#1f77b4;\" x=\"161.919501\" xlink:href=\"#me54ae0bb71\" y=\"69.402602\"/>\r\n     <use style=\"fill:#1f77b4;stroke:#1f77b4;\" x=\"142.098022\" xlink:href=\"#me54ae0bb71\" y=\"65.86356\"/>\r\n     <use style=\"fill:#1f77b4;stroke:#1f77b4;\" x=\"129.472901\" xlink:href=\"#me54ae0bb71\" y=\"73.480587\"/>\r\n     <use style=\"fill:#1f77b4;stroke:#1f77b4;\" x=\"162.207759\" xlink:href=\"#me54ae0bb71\" y=\"58.43387\"/>\r\n     <use style=\"fill:#1f77b4;stroke:#1f77b4;\" x=\"125.558402\" xlink:href=\"#me54ae0bb71\" y=\"79.035931\"/>\r\n     <use style=\"fill:#1f77b4;stroke:#1f77b4;\" x=\"105.518027\" xlink:href=\"#me54ae0bb71\" y=\"104.305755\"/>\r\n     <use style=\"fill:#1f77b4;stroke:#1f77b4;\" x=\"159.920503\" xlink:href=\"#me54ae0bb71\" y=\"61.274808\"/>\r\n     <use style=\"fill:#1f77b4;stroke:#1f77b4;\" x=\"79.796003\" xlink:href=\"#me54ae0bb71\" y=\"102.032123\"/>\r\n     <use style=\"fill:#1f77b4;stroke:#1f77b4;\" x=\"135.674882\" xlink:href=\"#me54ae0bb71\" y=\"80.621647\"/>\r\n     <use style=\"fill:#1f77b4;stroke:#1f77b4;\" x=\"143.033701\" xlink:href=\"#me54ae0bb71\" y=\"78.25924\"/>\r\n     <use style=\"fill:#1f77b4;stroke:#1f77b4;\" x=\"113.21414\" xlink:href=\"#me54ae0bb71\" y=\"90.050687\"/>\r\n     <use style=\"fill:#1f77b4;stroke:#1f77b4;\" x=\"135.355917\" xlink:href=\"#me54ae0bb71\" y=\"73.226697\"/>\r\n     <use style=\"fill:#1f77b4;stroke:#1f77b4;\" x=\"148.765291\" xlink:href=\"#me54ae0bb71\" y=\"87.683589\"/>\r\n     <use style=\"fill:#1f77b4;stroke:#1f77b4;\" x=\"144.684388\" xlink:href=\"#me54ae0bb71\" y=\"70.264761\"/>\r\n     <use style=\"fill:#1f77b4;stroke:#1f77b4;\" x=\"101.700799\" xlink:href=\"#me54ae0bb71\" y=\"103.015276\"/>\r\n     <use style=\"fill:#1f77b4;stroke:#1f77b4;\" x=\"143.763883\" xlink:href=\"#me54ae0bb71\" y=\"78.589358\"/>\r\n     <use style=\"fill:#1f77b4;stroke:#1f77b4;\" x=\"213.881301\" xlink:href=\"#me54ae0bb71\" y=\"30.518384\"/>\r\n     <use style=\"fill:#1f77b4;stroke:#1f77b4;\" x=\"145.986073\" xlink:href=\"#me54ae0bb71\" y=\"80.62923\"/>\r\n     <use style=\"fill:#1f77b4;stroke:#1f77b4;\" x=\"85.034636\" xlink:href=\"#me54ae0bb71\" y=\"115.679397\"/>\r\n     <use style=\"fill:#1f77b4;stroke:#1f77b4;\" x=\"147.657087\" xlink:href=\"#me54ae0bb71\" y=\"70.970651\"/>\r\n     <use style=\"fill:#1f77b4;stroke:#1f77b4;\" x=\"141.039496\" xlink:href=\"#me54ae0bb71\" y=\"71.522533\"/>\r\n     <use style=\"fill:#1f77b4;stroke:#1f77b4;\" x=\"114.036684\" xlink:href=\"#me54ae0bb71\" y=\"92.298421\"/>\r\n     <use style=\"fill:#1f77b4;stroke:#1f77b4;\" x=\"212.056711\" xlink:href=\"#me54ae0bb71\" y=\"28.762195\"/>\r\n     <use style=\"fill:#1f77b4;stroke:#1f77b4;\" x=\"98.541449\" xlink:href=\"#me54ae0bb71\" y=\"105.405486\"/>\r\n     <use style=\"fill:#1f77b4;stroke:#1f77b4;\" x=\"127.493516\" xlink:href=\"#me54ae0bb71\" y=\"95.144769\"/>\r\n     <use style=\"fill:#1f77b4;stroke:#1f77b4;\" x=\"224.90554\" xlink:href=\"#me54ae0bb71\" y=\"13.377273\"/>\r\n     <use style=\"fill:#1f77b4;stroke:#1f77b4;\" x=\"158.261669\" xlink:href=\"#me54ae0bb71\" y=\"67.53601\"/>\r\n     <use style=\"fill:#1f77b4;stroke:#1f77b4;\" x=\"182.126277\" xlink:href=\"#me54ae0bb71\" y=\"43.863858\"/>\r\n     <use style=\"fill:#1f77b4;stroke:#1f77b4;\" x=\"102.212688\" xlink:href=\"#me54ae0bb71\" y=\"90.320677\"/>\r\n     <use style=\"fill:#1f77b4;stroke:#1f77b4;\" x=\"136.513909\" xlink:href=\"#me54ae0bb71\" y=\"77.172014\"/>\r\n     <use style=\"fill:#1f77b4;stroke:#1f77b4;\" x=\"142.007787\" xlink:href=\"#me54ae0bb71\" y=\"75.27672\"/>\r\n     <use style=\"fill:#1f77b4;stroke:#1f77b4;\" x=\"127.261658\" xlink:href=\"#me54ae0bb71\" y=\"86.492187\"/>\r\n     <use style=\"fill:#1f77b4;stroke:#1f77b4;\" x=\"67.305258\" xlink:href=\"#me54ae0bb71\" y=\"124.856635\"/>\r\n     <use style=\"fill:#1f77b4;stroke:#1f77b4;\" x=\"173.668858\" xlink:href=\"#me54ae0bb71\" y=\"62.733069\"/>\r\n     <use style=\"fill:#1f77b4;stroke:#1f77b4;\" x=\"170.377064\" xlink:href=\"#me54ae0bb71\" y=\"60.123561\"/>\r\n     <use style=\"fill:#1f77b4;stroke:#1f77b4;\" x=\"132.129636\" xlink:href=\"#me54ae0bb71\" y=\"72.912257\"/>\r\n     <use style=\"fill:#1f77b4;stroke:#1f77b4;\" x=\"47.360085\" xlink:href=\"#me54ae0bb71\" y=\"136.922727\"/>\r\n     <use style=\"fill:#1f77b4;stroke:#1f77b4;\" x=\"144.599118\" xlink:href=\"#me54ae0bb71\" y=\"58.095363\"/>\r\n     <use style=\"fill:#1f77b4;stroke:#1f77b4;\" x=\"115.398194\" xlink:href=\"#me54ae0bb71\" y=\"95.494182\"/>\r\n     <use style=\"fill:#1f77b4;stroke:#1f77b4;\" x=\"153.247021\" xlink:href=\"#me54ae0bb71\" y=\"58.130212\"/>\r\n     <use style=\"fill:#1f77b4;stroke:#1f77b4;\" x=\"172.794411\" xlink:href=\"#me54ae0bb71\" y=\"59.999732\"/>\r\n     <use style=\"fill:#1f77b4;stroke:#1f77b4;\" x=\"107.546923\" xlink:href=\"#me54ae0bb71\" y=\"105.881349\"/>\r\n     <use style=\"fill:#1f77b4;stroke:#1f77b4;\" x=\"108.403073\" xlink:href=\"#me54ae0bb71\" y=\"91.937833\"/>\r\n     <use style=\"fill:#1f77b4;stroke:#1f77b4;\" x=\"118.894881\" xlink:href=\"#me54ae0bb71\" y=\"90.323571\"/>\r\n     <use style=\"fill:#1f77b4;stroke:#1f77b4;\" x=\"133.985783\" xlink:href=\"#me54ae0bb71\" y=\"82.404924\"/>\r\n     <use style=\"fill:#1f77b4;stroke:#1f77b4;\" x=\"119.842558\" xlink:href=\"#me54ae0bb71\" y=\"88.18838\"/>\r\n     <use style=\"fill:#1f77b4;stroke:#1f77b4;\" x=\"58.919866\" xlink:href=\"#me54ae0bb71\" y=\"131.929353\"/>\r\n     <use style=\"fill:#1f77b4;stroke:#1f77b4;\" x=\"181.027023\" xlink:href=\"#me54ae0bb71\" y=\"51.173819\"/>\r\n     <use style=\"fill:#1f77b4;stroke:#1f77b4;\" x=\"175.552985\" xlink:href=\"#me54ae0bb71\" y=\"58.296313\"/>\r\n     <use style=\"fill:#1f77b4;stroke:#1f77b4;\" x=\"172.193356\" xlink:href=\"#me54ae0bb71\" y=\"57.838404\"/>\r\n     <use style=\"fill:#1f77b4;stroke:#1f77b4;\" x=\"122.719659\" xlink:href=\"#me54ae0bb71\" y=\"73.861704\"/>\r\n     <use style=\"fill:#1f77b4;stroke:#1f77b4;\" x=\"179.314224\" xlink:href=\"#me54ae0bb71\" y=\"52.965619\"/>\r\n     <use style=\"fill:#1f77b4;stroke:#1f77b4;\" x=\"99.73301\" xlink:href=\"#me54ae0bb71\" y=\"99.021538\"/>\r\n     <use style=\"fill:#1f77b4;stroke:#1f77b4;\" x=\"136.647342\" xlink:href=\"#me54ae0bb71\" y=\"72.155623\"/>\r\n     <use style=\"fill:#1f77b4;stroke:#1f77b4;\" x=\"162.851672\" xlink:href=\"#me54ae0bb71\" y=\"65.800696\"/>\r\n     <use style=\"fill:#1f77b4;stroke:#1f77b4;\" x=\"61.538875\" xlink:href=\"#me54ae0bb71\" y=\"121.232288\"/>\r\n     <use style=\"fill:#1f77b4;stroke:#1f77b4;\" x=\"139.031387\" xlink:href=\"#me54ae0bb71\" y=\"73.629536\"/>\r\n     <use style=\"fill:#1f77b4;stroke:#1f77b4;\" x=\"165.428996\" xlink:href=\"#me54ae0bb71\" y=\"70.493859\"/>\r\n     <use style=\"fill:#1f77b4;stroke:#1f77b4;\" x=\"108.526518\" xlink:href=\"#me54ae0bb71\" y=\"99.791656\"/>\r\n     <use style=\"fill:#1f77b4;stroke:#1f77b4;\" x=\"90.923098\" xlink:href=\"#me54ae0bb71\" y=\"102.588643\"/>\r\n     <use style=\"fill:#1f77b4;stroke:#1f77b4;\" x=\"99.050702\" xlink:href=\"#me54ae0bb71\" y=\"107.727806\"/>\r\n     <use style=\"fill:#1f77b4;stroke:#1f77b4;\" x=\"100.357088\" xlink:href=\"#me54ae0bb71\" y=\"112.305488\"/>\r\n     <use style=\"fill:#1f77b4;stroke:#1f77b4;\" x=\"127.457538\" xlink:href=\"#me54ae0bb71\" y=\"81.464366\"/>\r\n     <use style=\"fill:#1f77b4;stroke:#1f77b4;\" x=\"145.084849\" xlink:href=\"#me54ae0bb71\" y=\"57.513853\"/>\r\n     <use style=\"fill:#1f77b4;stroke:#1f77b4;\" x=\"135.485891\" xlink:href=\"#me54ae0bb71\" y=\"86.610045\"/>\r\n     <use style=\"fill:#1f77b4;stroke:#1f77b4;\" x=\"145.487801\" xlink:href=\"#me54ae0bb71\" y=\"86.45089\"/>\r\n     <use style=\"fill:#1f77b4;stroke:#1f77b4;\" x=\"173.417475\" xlink:href=\"#me54ae0bb71\" y=\"46.53891\"/>\r\n     <use style=\"fill:#1f77b4;stroke:#1f77b4;\" x=\"101.750659\" xlink:href=\"#me54ae0bb71\" y=\"103.441297\"/>\r\n    </g>\r\n   </g>\r\n   <g id=\"matplotlib.axis_1\">\r\n    <g id=\"xtick_1\">\r\n     <g id=\"line2d_1\">\r\n      <defs>\r\n       <path d=\"M 0 0 \r\nL 0 3.5 \r\n\" id=\"mcd05b78f14\" style=\"stroke:#000000;stroke-width:0.8;\"/>\r\n      </defs>\r\n      <g>\r\n       <use style=\"stroke:#000000;stroke-width:0.8;\" x=\"51.227674\" xlink:href=\"#mcd05b78f14\" y=\"143.1\"/>\r\n      </g>\r\n     </g>\r\n     <g id=\"text_1\">\r\n      <!-- −2 -->\r\n      <g transform=\"translate(43.856581 157.698438)scale(0.1 -0.1)\">\r\n       <defs>\r\n        <path d=\"M 10.59375 35.5 \r\nL 73.1875 35.5 \r\nL 73.1875 27.203125 \r\nL 10.59375 27.203125 \r\nz\r\n\" id=\"DejaVuSans-8722\"/>\r\n        <path d=\"M 19.1875 8.296875 \r\nL 53.609375 8.296875 \r\nL 53.609375 0 \r\nL 7.328125 0 \r\nL 7.328125 8.296875 \r\nQ 12.9375 14.109375 22.625 23.890625 \r\nQ 32.328125 33.6875 34.8125 36.53125 \r\nQ 39.546875 41.84375 41.421875 45.53125 \r\nQ 43.3125 49.21875 43.3125 52.78125 \r\nQ 43.3125 58.59375 39.234375 62.25 \r\nQ 35.15625 65.921875 28.609375 65.921875 \r\nQ 23.96875 65.921875 18.8125 64.3125 \r\nQ 13.671875 62.703125 7.8125 59.421875 \r\nL 7.8125 69.390625 \r\nQ 13.765625 71.78125 18.9375 73 \r\nQ 24.125 74.21875 28.421875 74.21875 \r\nQ 39.75 74.21875 46.484375 68.546875 \r\nQ 53.21875 62.890625 53.21875 53.421875 \r\nQ 53.21875 48.921875 51.53125 44.890625 \r\nQ 49.859375 40.875 45.40625 35.40625 \r\nQ 44.1875 33.984375 37.640625 27.21875 \r\nQ 31.109375 20.453125 19.1875 8.296875 \r\nz\r\n\" id=\"DejaVuSans-50\"/>\r\n       </defs>\r\n       <use xlink:href=\"#DejaVuSans-8722\"/>\r\n       <use x=\"83.789062\" xlink:href=\"#DejaVuSans-50\"/>\r\n      </g>\r\n     </g>\r\n    </g>\r\n    <g id=\"xtick_2\">\r\n     <g id=\"line2d_2\">\r\n      <g>\r\n       <use style=\"stroke:#000000;stroke-width:0.8;\" x=\"114.479365\" xlink:href=\"#mcd05b78f14\" y=\"143.1\"/>\r\n      </g>\r\n     </g>\r\n     <g id=\"text_2\">\r\n      <!-- 0 -->\r\n      <g transform=\"translate(111.298115 157.698438)scale(0.1 -0.1)\">\r\n       <defs>\r\n        <path d=\"M 31.78125 66.40625 \r\nQ 24.171875 66.40625 20.328125 58.90625 \r\nQ 16.5 51.421875 16.5 36.375 \r\nQ 16.5 21.390625 20.328125 13.890625 \r\nQ 24.171875 6.390625 31.78125 6.390625 \r\nQ 39.453125 6.390625 43.28125 13.890625 \r\nQ 47.125 21.390625 47.125 36.375 \r\nQ 47.125 51.421875 43.28125 58.90625 \r\nQ 39.453125 66.40625 31.78125 66.40625 \r\nz\r\nM 31.78125 74.21875 \r\nQ 44.046875 74.21875 50.515625 64.515625 \r\nQ 56.984375 54.828125 56.984375 36.375 \r\nQ 56.984375 17.96875 50.515625 8.265625 \r\nQ 44.046875 -1.421875 31.78125 -1.421875 \r\nQ 19.53125 -1.421875 13.0625 8.265625 \r\nQ 6.59375 17.96875 6.59375 36.375 \r\nQ 6.59375 54.828125 13.0625 64.515625 \r\nQ 19.53125 74.21875 31.78125 74.21875 \r\nz\r\n\" id=\"DejaVuSans-48\"/>\r\n       </defs>\r\n       <use xlink:href=\"#DejaVuSans-48\"/>\r\n      </g>\r\n     </g>\r\n    </g>\r\n    <g id=\"xtick_3\">\r\n     <g id=\"line2d_3\">\r\n      <g>\r\n       <use style=\"stroke:#000000;stroke-width:0.8;\" x=\"177.731055\" xlink:href=\"#mcd05b78f14\" y=\"143.1\"/>\r\n      </g>\r\n     </g>\r\n     <g id=\"text_3\">\r\n      <!-- 2 -->\r\n      <g transform=\"translate(174.549805 157.698438)scale(0.1 -0.1)\">\r\n       <use xlink:href=\"#DejaVuSans-50\"/>\r\n      </g>\r\n     </g>\r\n    </g>\r\n   </g>\r\n   <g id=\"matplotlib.axis_2\">\r\n    <g id=\"ytick_1\">\r\n     <g id=\"line2d_4\">\r\n      <defs>\r\n       <path d=\"M 0 0 \r\nL -3.5 0 \r\n\" id=\"m51dbffd5f8\" style=\"stroke:#000000;stroke-width:0.8;\"/>\r\n      </defs>\r\n      <g>\r\n       <use style=\"stroke:#000000;stroke-width:0.8;\" x=\"38.482813\" xlink:href=\"#m51dbffd5f8\" y=\"120.63355\"/>\r\n      </g>\r\n     </g>\r\n     <g id=\"text_4\">\r\n      <!-- −2.5 -->\r\n      <g transform=\"translate(7.2 124.432769)scale(0.1 -0.1)\">\r\n       <defs>\r\n        <path d=\"M 10.6875 12.40625 \r\nL 21 12.40625 \r\nL 21 0 \r\nL 10.6875 0 \r\nz\r\n\" id=\"DejaVuSans-46\"/>\r\n        <path d=\"M 10.796875 72.90625 \r\nL 49.515625 72.90625 \r\nL 49.515625 64.59375 \r\nL 19.828125 64.59375 \r\nL 19.828125 46.734375 \r\nQ 21.96875 47.46875 24.109375 47.828125 \r\nQ 26.265625 48.1875 28.421875 48.1875 \r\nQ 40.625 48.1875 47.75 41.5 \r\nQ 54.890625 34.8125 54.890625 23.390625 \r\nQ 54.890625 11.625 47.5625 5.09375 \r\nQ 40.234375 -1.421875 26.90625 -1.421875 \r\nQ 22.3125 -1.421875 17.546875 -0.640625 \r\nQ 12.796875 0.140625 7.71875 1.703125 \r\nL 7.71875 11.625 \r\nQ 12.109375 9.234375 16.796875 8.0625 \r\nQ 21.484375 6.890625 26.703125 6.890625 \r\nQ 35.15625 6.890625 40.078125 11.328125 \r\nQ 45.015625 15.765625 45.015625 23.390625 \r\nQ 45.015625 31 40.078125 35.4375 \r\nQ 35.15625 39.890625 26.703125 39.890625 \r\nQ 22.75 39.890625 18.8125 39.015625 \r\nQ 14.890625 38.140625 10.796875 36.28125 \r\nz\r\n\" id=\"DejaVuSans-53\"/>\r\n       </defs>\r\n       <use xlink:href=\"#DejaVuSans-8722\"/>\r\n       <use x=\"83.789062\" xlink:href=\"#DejaVuSans-50\"/>\r\n       <use x=\"147.412109\" xlink:href=\"#DejaVuSans-46\"/>\r\n       <use x=\"179.199219\" xlink:href=\"#DejaVuSans-53\"/>\r\n      </g>\r\n     </g>\r\n    </g>\r\n    <g id=\"ytick_2\">\r\n     <g id=\"line2d_5\">\r\n      <g>\r\n       <use style=\"stroke:#000000;stroke-width:0.8;\" x=\"38.482813\" xlink:href=\"#m51dbffd5f8\" y=\"93.796215\"/>\r\n      </g>\r\n     </g>\r\n     <g id=\"text_5\">\r\n      <!-- 0.0 -->\r\n      <g transform=\"translate(15.579688 97.595434)scale(0.1 -0.1)\">\r\n       <use xlink:href=\"#DejaVuSans-48\"/>\r\n       <use x=\"63.623047\" xlink:href=\"#DejaVuSans-46\"/>\r\n       <use x=\"95.410156\" xlink:href=\"#DejaVuSans-48\"/>\r\n      </g>\r\n     </g>\r\n    </g>\r\n    <g id=\"ytick_3\">\r\n     <g id=\"line2d_6\">\r\n      <g>\r\n       <use style=\"stroke:#000000;stroke-width:0.8;\" x=\"38.482813\" xlink:href=\"#m51dbffd5f8\" y=\"66.958879\"/>\r\n      </g>\r\n     </g>\r\n     <g id=\"text_6\">\r\n      <!-- 2.5 -->\r\n      <g transform=\"translate(15.579688 70.758098)scale(0.1 -0.1)\">\r\n       <use xlink:href=\"#DejaVuSans-50\"/>\r\n       <use x=\"63.623047\" xlink:href=\"#DejaVuSans-46\"/>\r\n       <use x=\"95.410156\" xlink:href=\"#DejaVuSans-53\"/>\r\n      </g>\r\n     </g>\r\n    </g>\r\n    <g id=\"ytick_4\">\r\n     <g id=\"line2d_7\">\r\n      <g>\r\n       <use style=\"stroke:#000000;stroke-width:0.8;\" x=\"38.482813\" xlink:href=\"#m51dbffd5f8\" y=\"40.121543\"/>\r\n      </g>\r\n     </g>\r\n     <g id=\"text_7\">\r\n      <!-- 5.0 -->\r\n      <g transform=\"translate(15.579688 43.920762)scale(0.1 -0.1)\">\r\n       <use xlink:href=\"#DejaVuSans-53\"/>\r\n       <use x=\"63.623047\" xlink:href=\"#DejaVuSans-46\"/>\r\n       <use x=\"95.410156\" xlink:href=\"#DejaVuSans-48\"/>\r\n      </g>\r\n     </g>\r\n    </g>\r\n    <g id=\"ytick_5\">\r\n     <g id=\"line2d_8\">\r\n      <g>\r\n       <use style=\"stroke:#000000;stroke-width:0.8;\" x=\"38.482813\" xlink:href=\"#m51dbffd5f8\" y=\"13.284208\"/>\r\n      </g>\r\n     </g>\r\n     <g id=\"text_8\">\r\n      <!-- 7.5 -->\r\n      <g transform=\"translate(15.579688 17.083426)scale(0.1 -0.1)\">\r\n       <defs>\r\n        <path d=\"M 8.203125 72.90625 \r\nL 55.078125 72.90625 \r\nL 55.078125 68.703125 \r\nL 28.609375 0 \r\nL 18.3125 0 \r\nL 43.21875 64.59375 \r\nL 8.203125 64.59375 \r\nz\r\n\" id=\"DejaVuSans-55\"/>\r\n       </defs>\r\n       <use xlink:href=\"#DejaVuSans-55\"/>\r\n       <use x=\"63.623047\" xlink:href=\"#DejaVuSans-46\"/>\r\n       <use x=\"95.410156\" xlink:href=\"#DejaVuSans-53\"/>\r\n      </g>\r\n     </g>\r\n    </g>\r\n   </g>\r\n   <g id=\"patch_3\">\r\n    <path d=\"M 38.482813 143.1 \r\nL 38.482813 7.2 \r\n\" style=\"fill:none;stroke:#000000;stroke-linecap:square;stroke-linejoin:miter;stroke-width:0.8;\"/>\r\n   </g>\r\n   <g id=\"patch_4\">\r\n    <path d=\"M 233.782813 143.1 \r\nL 233.782813 7.2 \r\n\" style=\"fill:none;stroke:#000000;stroke-linecap:square;stroke-linejoin:miter;stroke-width:0.8;\"/>\r\n   </g>\r\n   <g id=\"patch_5\">\r\n    <path d=\"M 38.482813 143.1 \r\nL 233.782813 143.1 \r\n\" style=\"fill:none;stroke:#000000;stroke-linecap:square;stroke-linejoin:miter;stroke-width:0.8;\"/>\r\n   </g>\r\n   <g id=\"patch_6\">\r\n    <path d=\"M 38.482813 7.2 \r\nL 233.782813 7.2 \r\n\" style=\"fill:none;stroke:#000000;stroke-linecap:square;stroke-linejoin:miter;stroke-width:0.8;\"/>\r\n   </g>\r\n  </g>\r\n </g>\r\n <defs>\r\n  <clipPath id=\"p3cf7fb59bb\">\r\n   <rect height=\"135.9\" width=\"195.3\" x=\"38.482813\" y=\"7.2\"/>\r\n  </clipPath>\r\n </defs>\r\n</svg>\r\n"
     },
     "metadata": {
      "needs_background": "light"
     }
    }
   ],
   "source": [
    "d2l.set_figsize()\n",
    "d2l.plt.scatter(d2l.numpy(data[:100, 0]), d2l.numpy(data[:100, 1]));\n",
    "print(f'The covariance matrix is\\n{d2l.matmul(tf.transpose(A), A)}')"
   ]
  },
  {
   "cell_type": "code",
   "execution_count": 5,
   "metadata": {},
   "outputs": [],
   "source": [
    "batch_size = 8\n",
    "data_iter = d2l.load_array((data,), batch_size)"
   ]
  },
  {
   "cell_type": "code",
   "execution_count": 6,
   "metadata": {},
   "outputs": [],
   "source": [
    "net_G = tf.keras.Sequential()\n",
    "net_G.add(tf.keras.layers.Dense(2))"
   ]
  },
  {
   "cell_type": "markdown",
   "metadata": {},
   "source": [
    "tf.keras.activations.tanh(a)\n",
    "https://www.tensorflow.org/api_docs/python/tf/keras/activations/tanh\n"
   ]
  },
  {
   "cell_type": "code",
   "execution_count": 7,
   "metadata": {},
   "outputs": [],
   "source": [
    "net_D = tf.keras.Sequential()\n",
    "net_D.add(tf.keras.layers.Dense(5, activation='tanh'))\n",
    "net_D.add(tf.keras.layers.Dense(3, activation='tanh'))\n",
    "net_D.add(tf.keras.layers.Dense(1))"
   ]
  },
  {
   "cell_type": "markdown",
   "metadata": {},
   "source": [
    "with tf.GradientTape() as t:\n",
    "http://preview.d2l.ai/d2l-en/master/chapter_preliminaries/autograd.html\n"
   ]
  },
  {
   "cell_type": "markdown",
   "metadata": {},
   "source": [
    "t.gradient(y, x) \n",
    "t.gradient(loss_D, trainer_D) "
   ]
  },
  {
   "cell_type": "code",
   "execution_count": 8,
   "metadata": {},
   "outputs": [],
   "source": [
    "#@save\n",
    "def update_D(X, Z, net_D, net_G, loss, trainer_D):\n",
    "    \"\"\"Update discriminator.\"\"\"\n",
    "    batch_size = np.array(X).shape[0]\n",
    "    ones = tf.ones((batch_size,), tf.float32, device=X.device)\n",
    "    zeros = tf.zeros((batch_size,), tf.float32, device=X.device)\n",
    "    with tf.GradientTape() as t:\n",
    "        real_Y = net_D(X)\n",
    "        fake_X = net_G(Z)\n",
    "        # Do not need to compute gradient for `net_G`, detach it from\n",
    "        # computing gradients.\n",
    "        fake_Y = net_D(fake_X.detach())\n",
    "        loss_D = (loss(real_Y, ones) + loss(fake_Y, zeros)) / 2\n",
    "    t.gradient(loss_D, trainer_D) \n",
    "    trainer_D.step(batch_size)\n",
    "    return float(loss_D.sum())"
   ]
  },
  {
   "cell_type": "code",
   "execution_count": 9,
   "metadata": {},
   "outputs": [],
   "source": [
    "#@save\n",
    "def update_G(Z, net_D, net_G, loss, trainer_G):\n",
    "    \"\"\"Update generator.\"\"\"\n",
    "    batch_size = np.array(Z).shape[0]\n",
    "    ones = tf.ones((batch_size,), tf.float32, device=X.device)\n",
    "    with tf.GradientTape() as t:\n",
    "        # We could reuse `fake_X` from `update_D` to save computation\n",
    "        fake_X = net_G(Z)\n",
    "        # Recomputing `fake_Y` is needed since `net_D` is changed\n",
    "        fake_Y = net_D(fake_X)\n",
    "        loss_G = loss(fake_Y, ones)\n",
    "    t.gradient(loss_G, trainer_G) \n",
    "    trainer_G.step(batch_size)\n",
    "    return float(loss_G.sum())"
   ]
  },
  {
   "cell_type": "markdown",
   "metadata": {},
   "source": [
    "https://www.google.com/search?q=numpy()+tensorflow&rlz=1C1GCEA_enJP909HK909&oq=numpy()+tensorflow&aqs=chrome..69i57j0l7.2792j0j1&sourceid=chrome&ie=UTF-8"
   ]
  },
  {
   "cell_type": "markdown",
   "metadata": {},
   "source": [
    "https://www.tensorflow.org/api_docs/python/tf/keras/optimizers/Adam\n",
    "tf.keras.optimizers.Adam(learning_rate=0.1)\n",
    "m.compile\n",
    "m = tf.keras.models.Sequential([tf.keras.layers.Dense(10)])\n",
    "m.compile(opt, loss='mse')"
   ]
  },
  {
   "cell_type": "markdown",
   "metadata": {},
   "source": [
    "https://stackoverflow.com/questions/55683729/bcewithlogitsloss-in-keras\n",
    "https://www.tensorflow.org/api_docs/python/tf/keras/losses/BinaryCrossentropy\n"
   ]
  },
  {
   "cell_type": "markdown",
   "metadata": {},
   "source": [
    "def weight_variable(shape, w=0.1):\n",
    "  initial = tf.truncated_normal(shape, stddev=w)\n",
    "  return tf.Variable(initial)\n",
    "  https://stackoverflow.com/questions/43489697/tensorflow-weight-initialization\n",
    "\n",
    "  The values generated are similar to values from a tf.keras.initializers.RandomNormal initializer except that values more than two standard deviations from the mean are discarded and re-drawn.\n",
    "  https://keras.io/api/layers/initializers/"
   ]
  },
  {
   "cell_type": "markdown",
   "metadata": {},
   "source": [
    "tf.Variable(initial_value=w_init(\n",
    "            shape=(input_dim, unit), dtype=tf.float32), trainable=True)\n",
    "            https://zhuanlan.zhihu.com/p/59481536"
   ]
  },
  {
   "cell_type": "markdown",
   "metadata": {},
   "source": [
    "https://keras.io/api/layers/initializers/"
   ]
  },
  {
   "cell_type": "markdown",
   "metadata": {},
   "source": [
    "numpy.array\n",
    "https://stackoverflow.com/questions/41198144/attributeerror-tuple-object-has-no-attribute-shape"
   ]
  },
  {
   "cell_type": "code",
   "execution_count": 10,
   "metadata": {},
   "outputs": [],
   "source": [
    "def train(net_D, net_G, data_iter, num_epochs, lr_D, lr_G, latent_dim, data):\n",
    "    loss = tf.keras.losses.BinaryCrossentropy(reduction=\n",
    "                                tf.keras.losses.Reduction.SUM)\n",
    "    tf.keras.initializers.RandomNormal(net_D, stddev=0.02)\n",
    "    tf.keras.initializers.RandomNormal(net_G, stddev=0.02)\n",
    "    trainer_D = net_D.compile(tf.keras.optimizers.Adam(learning_rate=lr_D), loss='mse')\n",
    "    trainer_G = net_G.compile(tf.keras.optimizers.Adam(learning_rate=lr_G), loss='mse')\n",
    "    animator = d2l.Animator(xlabel='epoch', ylabel='loss',\n",
    "                            xlim=[1, num_epochs], nrows=2, figsize=(5, 5),\n",
    "                            legend=['discriminator', 'generator'])\n",
    "    animator.fig.subplots_adjust(hspace=0.3)\n",
    "    for epoch in range(num_epochs):\n",
    "        # Train one epoch\n",
    "        timer = d2l.Timer()\n",
    "        metric = d2l.Accumulator(3)  # loss_D, loss_G, num_examples\n",
    "        for X in data_iter:\n",
    "            batch_size = np.array(X).shape[0]\n",
    "            Z = d2l.normal([batch_size, latent_dim], 0, 1, tf.float32)\n",
    "            metric.add(update_D(X, Z, net_D, net_G, loss, trainer_D),\n",
    "                       update_G(Z, net_D, net_G, loss, trainer_G),\n",
    "                       batch_size)\n",
    "        # Visualize generated examples\n",
    "        Z = d2l.normal([100, latent_dim], 0, 1, tf.float32)\n",
    "        fake_X = net_G(Z).Tensor.numpy()\n",
    "        animator.axes[1].cla()\n",
    "        animator.axes[1].scatter(data[:, 0], data[:, 1])\n",
    "        animator.axes[1].scatter(fake_X[:, 0], fake_X[:, 1])\n",
    "        animator.axes[1].legend(['real', 'generated'])\n",
    "        # Show the losses\n",
    "        loss_D, loss_G = metric[0]/metric[2], metric[1]/metric[2]\n",
    "        animator.add(epoch + 1, (loss_D, loss_G))\n",
    "    print(f'loss_D {loss_D:.3f}, loss_G {loss_G:.3f}, '\n",
    "          f'{metric[2] / timer.stop():.1f} examples/sec')"
   ]
  },
  {
   "cell_type": "code",
   "execution_count": 11,
   "metadata": {},
   "outputs": [
    {
     "output_type": "error",
     "ename": "AttributeError",
     "evalue": "'tuple' object has no attribute 'device'",
     "traceback": [
      "\u001b[1;31m---------------------------------------------------------------------------\u001b[0m",
      "\u001b[1;31mAttributeError\u001b[0m                            Traceback (most recent call last)",
      "\u001b[1;32m<ipython-input-11-251159593cac>\u001b[0m in \u001b[0;36m<module>\u001b[1;34m\u001b[0m\n\u001b[0;32m      1\u001b[0m \u001b[0mlr_D\u001b[0m\u001b[1;33m,\u001b[0m \u001b[0mlr_G\u001b[0m\u001b[1;33m,\u001b[0m \u001b[0mlatent_dim\u001b[0m\u001b[1;33m,\u001b[0m \u001b[0mnum_epochs\u001b[0m \u001b[1;33m=\u001b[0m \u001b[1;36m0.05\u001b[0m\u001b[1;33m,\u001b[0m \u001b[1;36m0.005\u001b[0m\u001b[1;33m,\u001b[0m \u001b[1;36m2\u001b[0m\u001b[1;33m,\u001b[0m \u001b[1;36m20\u001b[0m\u001b[1;33m\u001b[0m\u001b[1;33m\u001b[0m\u001b[0m\n\u001b[0;32m      2\u001b[0m train(net_D, net_G, data_iter, num_epochs, lr_D, lr_G,\n\u001b[1;32m----> 3\u001b[1;33m       latent_dim, d2l.numpy(data[:100]))\n\u001b[0m",
      "\u001b[1;32m<ipython-input-10-1556e6dd1300>\u001b[0m in \u001b[0;36mtrain\u001b[1;34m(net_D, net_G, data_iter, num_epochs, lr_D, lr_G, latent_dim, data)\u001b[0m\n\u001b[0;32m     17\u001b[0m             \u001b[0mbatch_size\u001b[0m \u001b[1;33m=\u001b[0m \u001b[0mnp\u001b[0m\u001b[1;33m.\u001b[0m\u001b[0marray\u001b[0m\u001b[1;33m(\u001b[0m\u001b[0mX\u001b[0m\u001b[1;33m)\u001b[0m\u001b[1;33m.\u001b[0m\u001b[0mshape\u001b[0m\u001b[1;33m[\u001b[0m\u001b[1;36m0\u001b[0m\u001b[1;33m]\u001b[0m\u001b[1;33m\u001b[0m\u001b[1;33m\u001b[0m\u001b[0m\n\u001b[0;32m     18\u001b[0m             \u001b[0mZ\u001b[0m \u001b[1;33m=\u001b[0m \u001b[0md2l\u001b[0m\u001b[1;33m.\u001b[0m\u001b[0mnormal\u001b[0m\u001b[1;33m(\u001b[0m\u001b[1;33m[\u001b[0m\u001b[0mbatch_size\u001b[0m\u001b[1;33m,\u001b[0m \u001b[0mlatent_dim\u001b[0m\u001b[1;33m]\u001b[0m\u001b[1;33m,\u001b[0m \u001b[1;36m0\u001b[0m\u001b[1;33m,\u001b[0m \u001b[1;36m1\u001b[0m\u001b[1;33m,\u001b[0m \u001b[0mtf\u001b[0m\u001b[1;33m.\u001b[0m\u001b[0mfloat32\u001b[0m\u001b[1;33m)\u001b[0m\u001b[1;33m\u001b[0m\u001b[1;33m\u001b[0m\u001b[0m\n\u001b[1;32m---> 19\u001b[1;33m             metric.add(update_D(X, Z, net_D, net_G, loss, trainer_D),\n\u001b[0m\u001b[0;32m     20\u001b[0m                        \u001b[0mupdate_G\u001b[0m\u001b[1;33m(\u001b[0m\u001b[0mZ\u001b[0m\u001b[1;33m,\u001b[0m \u001b[0mnet_D\u001b[0m\u001b[1;33m,\u001b[0m \u001b[0mnet_G\u001b[0m\u001b[1;33m,\u001b[0m \u001b[0mloss\u001b[0m\u001b[1;33m,\u001b[0m \u001b[0mtrainer_G\u001b[0m\u001b[1;33m)\u001b[0m\u001b[1;33m,\u001b[0m\u001b[1;33m\u001b[0m\u001b[1;33m\u001b[0m\u001b[0m\n\u001b[0;32m     21\u001b[0m                        batch_size)\n",
      "\u001b[1;32m<ipython-input-8-fa8cfc25e32e>\u001b[0m in \u001b[0;36mupdate_D\u001b[1;34m(X, Z, net_D, net_G, loss, trainer_D)\u001b[0m\n\u001b[0;32m      3\u001b[0m     \u001b[1;34m\"\"\"Update discriminator.\"\"\"\u001b[0m\u001b[1;33m\u001b[0m\u001b[1;33m\u001b[0m\u001b[0m\n\u001b[0;32m      4\u001b[0m     \u001b[0mbatch_size\u001b[0m \u001b[1;33m=\u001b[0m \u001b[0mnp\u001b[0m\u001b[1;33m.\u001b[0m\u001b[0marray\u001b[0m\u001b[1;33m(\u001b[0m\u001b[0mX\u001b[0m\u001b[1;33m)\u001b[0m\u001b[1;33m.\u001b[0m\u001b[0mshape\u001b[0m\u001b[1;33m[\u001b[0m\u001b[1;36m0\u001b[0m\u001b[1;33m]\u001b[0m\u001b[1;33m\u001b[0m\u001b[1;33m\u001b[0m\u001b[0m\n\u001b[1;32m----> 5\u001b[1;33m     \u001b[0mones\u001b[0m \u001b[1;33m=\u001b[0m \u001b[0mtf\u001b[0m\u001b[1;33m.\u001b[0m\u001b[0mones\u001b[0m\u001b[1;33m(\u001b[0m\u001b[1;33m(\u001b[0m\u001b[0mbatch_size\u001b[0m\u001b[1;33m,\u001b[0m\u001b[1;33m)\u001b[0m\u001b[1;33m,\u001b[0m \u001b[0mtf\u001b[0m\u001b[1;33m.\u001b[0m\u001b[0mfloat32\u001b[0m\u001b[1;33m,\u001b[0m \u001b[0mdevice\u001b[0m\u001b[1;33m=\u001b[0m\u001b[0mX\u001b[0m\u001b[1;33m.\u001b[0m\u001b[0mdevice\u001b[0m\u001b[1;33m)\u001b[0m\u001b[1;33m\u001b[0m\u001b[1;33m\u001b[0m\u001b[0m\n\u001b[0m\u001b[0;32m      6\u001b[0m     \u001b[0mzeros\u001b[0m \u001b[1;33m=\u001b[0m \u001b[0mtf\u001b[0m\u001b[1;33m.\u001b[0m\u001b[0mzeros\u001b[0m\u001b[1;33m(\u001b[0m\u001b[1;33m(\u001b[0m\u001b[0mbatch_size\u001b[0m\u001b[1;33m,\u001b[0m\u001b[1;33m)\u001b[0m\u001b[1;33m,\u001b[0m \u001b[0mtf\u001b[0m\u001b[1;33m.\u001b[0m\u001b[0mfloat32\u001b[0m\u001b[1;33m,\u001b[0m \u001b[0mdevice\u001b[0m\u001b[1;33m=\u001b[0m\u001b[0mX\u001b[0m\u001b[1;33m.\u001b[0m\u001b[0mdevice\u001b[0m\u001b[1;33m)\u001b[0m\u001b[1;33m\u001b[0m\u001b[1;33m\u001b[0m\u001b[0m\n\u001b[0;32m      7\u001b[0m     \u001b[1;32mwith\u001b[0m \u001b[0mtf\u001b[0m\u001b[1;33m.\u001b[0m\u001b[0mGradientTape\u001b[0m\u001b[1;33m(\u001b[0m\u001b[1;33m)\u001b[0m \u001b[1;32mas\u001b[0m \u001b[0mt\u001b[0m\u001b[1;33m:\u001b[0m\u001b[1;33m\u001b[0m\u001b[1;33m\u001b[0m\u001b[0m\n",
      "\u001b[1;31mAttributeError\u001b[0m: 'tuple' object has no attribute 'device'"
     ]
    }
   ],
   "source": [
    "lr_D, lr_G, latent_dim, num_epochs = 0.05, 0.005, 2, 20\n",
    "train(net_D, net_G, data_iter, num_epochs, lr_D, lr_G,\n",
    "      latent_dim, d2l.numpy(data[:100]))"
   ]
  },
  {
   "cell_type": "code",
   "execution_count": null,
   "metadata": {},
   "outputs": [],
   "source": []
  },
  {
   "cell_type": "code",
   "execution_count": 12,
   "metadata": {},
   "outputs": [],
   "source": [
    "net_G = tf.keras.Sequential()\n",
    "net_G.add(tf.keras.layers.Dense(2))"
   ]
  },
  {
   "cell_type": "code",
   "execution_count": 13,
   "metadata": {},
   "outputs": [
    {
     "output_type": "error",
     "ename": "SyntaxError",
     "evalue": "invalid syntax (<ipython-input-13-7d1b6ab6f0d3>, line 2)",
     "traceback": [
      "\u001b[1;36m  File \u001b[1;32m\"<ipython-input-13-7d1b6ab6f0d3>\"\u001b[1;36m, line \u001b[1;32m2\u001b[0m\n\u001b[1;33m    tf.keras.Sequential()nn.Linear(2, 5), nn.Tanh(),\u001b[0m\n\u001b[1;37m                          ^\u001b[0m\n\u001b[1;31mSyntaxError\u001b[0m\u001b[1;31m:\u001b[0m invalid syntax\n"
     ]
    }
   ],
   "source": [
    "net_D = tf.keras.Sequential()\n",
    "tf.keras.Sequential()nn.Linear(2, 5), nn.Tanh(),\n",
    "    nn.Linear(5, 3), nn.Tanh(),\n",
    "    nn.Linear(3, 1))"
   ]
  }
 ]
}