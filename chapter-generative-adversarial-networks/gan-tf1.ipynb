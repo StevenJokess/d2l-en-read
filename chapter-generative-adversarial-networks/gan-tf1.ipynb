{
 "metadata": {
  "language_info": {
   "codemirror_mode": {
    "name": "ipython",
    "version": 3
   },
   "file_extension": ".py",
   "mimetype": "text/x-python",
   "name": "python",
   "nbconvert_exporter": "python",
   "pygments_lexer": "ipython3",
   "version": "3.7.8-final"
  },
  "orig_nbformat": 2,
  "kernelspec": {
   "name": "python37864bittf2conda1de394c9651a4d19aa25641a40b8d2d8",
   "display_name": "Python 3.7.8 64-bit ('tf2': conda)"
  }
 },
 "nbformat": 4,
 "nbformat_minor": 2,
 "cells": [
  {
   "cell_type": "markdown",
   "metadata": {},
   "source": [
    "http://preview.d2l.ai/d2l-en/master/chapter_generative-adversarial-networks/gan.html"
   ]
  },
  {
   "cell_type": "code",
   "execution_count": 1,
   "metadata": {},
   "outputs": [],
   "source": [
    "%matplotlib inline\n",
    "from d2l import tensorflow as d2l\n",
    "import tensorflow as tf\n",
    "import numpy as np"
   ]
  },
  {
   "cell_type": "markdown",
   "metadata": {},
   "source": [
    "https://www.tensorflow.org/api_docs/python/tf/random/normal"
   ]
  },
  {
   "cell_type": "markdown",
   "metadata": {},
   "source": [
    "https://www.tensorflow.org/api_docs/python/tf/norm"
   ]
  },
  {
   "cell_type": "code",
   "execution_count": 2,
   "metadata": {},
   "outputs": [],
   "source": [
    "X = d2l.normal([1000, 2], 0.0, 1, tf.float32)"
   ]
  },
  {
   "cell_type": "code",
   "execution_count": 3,
   "metadata": {},
   "outputs": [],
   "source": [
    "A = d2l.tensor([[1, 2], [-0.1, 0.5]], tf.float32)\n",
    "b = d2l.tensor([1, 2], tf.float32)\n",
    "data = d2l.matmul(X, A) + b"
   ]
  },
  {
   "cell_type": "code",
   "execution_count": 4,
   "metadata": {
    "tags": []
   },
   "outputs": [
    {
     "output_type": "stream",
     "name": "stdout",
     "text": "The covariance matrix is\n[[1.01 1.95]\n [1.95 4.25]]\n"
    },
    {
     "output_type": "display_data",
     "data": {
      "text/plain": "<Figure size 252x180 with 1 Axes>",
      "image/svg+xml": "<?xml version=\"1.0\" encoding=\"utf-8\" standalone=\"no\"?>\r\n<!DOCTYPE svg PUBLIC \"-//W3C//DTD SVG 1.1//EN\"\r\n  \"http://www.w3.org/Graphics/SVG/1.1/DTD/svg11.dtd\">\r\n<!-- Created with matplotlib (https://matplotlib.org/) -->\r\n<svg height=\"166.978125pt\" version=\"1.1\" viewBox=\"0 0 240.982812 166.978125\" width=\"240.982812pt\" xmlns=\"http://www.w3.org/2000/svg\" xmlns:xlink=\"http://www.w3.org/1999/xlink\">\r\n <metadata>\r\n  <rdf:RDF xmlns:cc=\"http://creativecommons.org/ns#\" xmlns:dc=\"http://purl.org/dc/elements/1.1/\" xmlns:rdf=\"http://www.w3.org/1999/02/22-rdf-syntax-ns#\">\r\n   <cc:Work>\r\n    <dc:type rdf:resource=\"http://purl.org/dc/dcmitype/StillImage\"/>\r\n    <dc:date>2020-09-03T22:50:18.932602</dc:date>\r\n    <dc:format>image/svg+xml</dc:format>\r\n    <dc:creator>\r\n     <cc:Agent>\r\n      <dc:title>Matplotlib v3.3.1, https://matplotlib.org/</dc:title>\r\n     </cc:Agent>\r\n    </dc:creator>\r\n   </cc:Work>\r\n  </rdf:RDF>\r\n </metadata>\r\n <defs>\r\n  <style type=\"text/css\">*{stroke-linecap:butt;stroke-linejoin:round;}</style>\r\n </defs>\r\n <g id=\"figure_1\">\r\n  <g id=\"patch_1\">\r\n   <path d=\"M -0 166.978125 \r\nL 240.982813 166.978125 \r\nL 240.982813 0 \r\nL -0 0 \r\nz\r\n\" style=\"fill:none;\"/>\r\n  </g>\r\n  <g id=\"axes_1\">\r\n   <g id=\"patch_2\">\r\n    <path d=\"M 38.482813 143.1 \r\nL 233.782813 143.1 \r\nL 233.782813 7.2 \r\nL 38.482813 7.2 \r\nz\r\n\" style=\"fill:#ffffff;\"/>\r\n   </g>\r\n   <g id=\"PathCollection_1\">\r\n    <defs>\r\n     <path d=\"M 0 3 \r\nC 0.795609 3 1.55874 2.683901 2.12132 2.12132 \r\nC 2.683901 1.55874 3 0.795609 3 0 \r\nC 3 -0.795609 2.683901 -1.55874 2.12132 -2.12132 \r\nC 1.55874 -2.683901 0.795609 -3 0 -3 \r\nC -0.795609 -3 -1.55874 -2.683901 -2.12132 -2.12132 \r\nC -2.683901 -1.55874 -3 -0.795609 -3 0 \r\nC -3 0.795609 -2.683901 1.55874 -2.12132 2.12132 \r\nC -1.55874 2.683901 -0.795609 3 0 3 \r\nz\r\n\" id=\"mea590305b2\" style=\"stroke:#1f77b4;\"/>\r\n    </defs>\r\n    <g clip-path=\"url(#p364d3ea8ac)\">\r\n     <use style=\"fill:#1f77b4;stroke:#1f77b4;\" x=\"98.00263\" xlink:href=\"#mea590305b2\" y=\"113.450456\"/>\r\n     <use style=\"fill:#1f77b4;stroke:#1f77b4;\" x=\"182.660328\" xlink:href=\"#mea590305b2\" y=\"59.277308\"/>\r\n     <use style=\"fill:#1f77b4;stroke:#1f77b4;\" x=\"131.148416\" xlink:href=\"#mea590305b2\" y=\"84.687919\"/>\r\n     <use style=\"fill:#1f77b4;stroke:#1f77b4;\" x=\"180.912677\" xlink:href=\"#mea590305b2\" y=\"55.806407\"/>\r\n     <use style=\"fill:#1f77b4;stroke:#1f77b4;\" x=\"190.955735\" xlink:href=\"#mea590305b2\" y=\"37.148742\"/>\r\n     <use style=\"fill:#1f77b4;stroke:#1f77b4;\" x=\"131.611295\" xlink:href=\"#mea590305b2\" y=\"87.433066\"/>\r\n     <use style=\"fill:#1f77b4;stroke:#1f77b4;\" x=\"139.914375\" xlink:href=\"#mea590305b2\" y=\"87.115151\"/>\r\n     <use style=\"fill:#1f77b4;stroke:#1f77b4;\" x=\"151.163469\" xlink:href=\"#mea590305b2\" y=\"72.06317\"/>\r\n     <use style=\"fill:#1f77b4;stroke:#1f77b4;\" x=\"130.213707\" xlink:href=\"#mea590305b2\" y=\"98.548867\"/>\r\n     <use style=\"fill:#1f77b4;stroke:#1f77b4;\" x=\"203.221241\" xlink:href=\"#mea590305b2\" y=\"47.242987\"/>\r\n     <use style=\"fill:#1f77b4;stroke:#1f77b4;\" x=\"186.069616\" xlink:href=\"#mea590305b2\" y=\"55.413588\"/>\r\n     <use style=\"fill:#1f77b4;stroke:#1f77b4;\" x=\"175.419591\" xlink:href=\"#mea590305b2\" y=\"54.005621\"/>\r\n     <use style=\"fill:#1f77b4;stroke:#1f77b4;\" x=\"139.141133\" xlink:href=\"#mea590305b2\" y=\"81.607075\"/>\r\n     <use style=\"fill:#1f77b4;stroke:#1f77b4;\" x=\"71.402898\" xlink:href=\"#mea590305b2\" y=\"117.197582\"/>\r\n     <use style=\"fill:#1f77b4;stroke:#1f77b4;\" x=\"167.320861\" xlink:href=\"#mea590305b2\" y=\"64.137152\"/>\r\n     <use style=\"fill:#1f77b4;stroke:#1f77b4;\" x=\"87.326299\" xlink:href=\"#mea590305b2\" y=\"118.071851\"/>\r\n     <use style=\"fill:#1f77b4;stroke:#1f77b4;\" x=\"173.279244\" xlink:href=\"#mea590305b2\" y=\"46.882081\"/>\r\n     <use style=\"fill:#1f77b4;stroke:#1f77b4;\" x=\"209.17032\" xlink:href=\"#mea590305b2\" y=\"37.124688\"/>\r\n     <use style=\"fill:#1f77b4;stroke:#1f77b4;\" x=\"193.469661\" xlink:href=\"#mea590305b2\" y=\"54.518832\"/>\r\n     <use style=\"fill:#1f77b4;stroke:#1f77b4;\" x=\"163.585079\" xlink:href=\"#mea590305b2\" y=\"70.325521\"/>\r\n     <use style=\"fill:#1f77b4;stroke:#1f77b4;\" x=\"150.654142\" xlink:href=\"#mea590305b2\" y=\"72.036023\"/>\r\n     <use style=\"fill:#1f77b4;stroke:#1f77b4;\" x=\"90.649023\" xlink:href=\"#mea590305b2\" y=\"107.574983\"/>\r\n     <use style=\"fill:#1f77b4;stroke:#1f77b4;\" x=\"211.195292\" xlink:href=\"#mea590305b2\" y=\"42.265078\"/>\r\n     <use style=\"fill:#1f77b4;stroke:#1f77b4;\" x=\"165.405128\" xlink:href=\"#mea590305b2\" y=\"65.885316\"/>\r\n     <use style=\"fill:#1f77b4;stroke:#1f77b4;\" x=\"70.488845\" xlink:href=\"#mea590305b2\" y=\"121.341057\"/>\r\n     <use style=\"fill:#1f77b4;stroke:#1f77b4;\" x=\"99.521705\" xlink:href=\"#mea590305b2\" y=\"100.683327\"/>\r\n     <use style=\"fill:#1f77b4;stroke:#1f77b4;\" x=\"125.823912\" xlink:href=\"#mea590305b2\" y=\"86.007439\"/>\r\n     <use style=\"fill:#1f77b4;stroke:#1f77b4;\" x=\"146.899509\" xlink:href=\"#mea590305b2\" y=\"68.451189\"/>\r\n     <use style=\"fill:#1f77b4;stroke:#1f77b4;\" x=\"162.471599\" xlink:href=\"#mea590305b2\" y=\"74.126803\"/>\r\n     <use style=\"fill:#1f77b4;stroke:#1f77b4;\" x=\"128.684896\" xlink:href=\"#mea590305b2\" y=\"83.874131\"/>\r\n     <use style=\"fill:#1f77b4;stroke:#1f77b4;\" x=\"132.251625\" xlink:href=\"#mea590305b2\" y=\"90.25968\"/>\r\n     <use style=\"fill:#1f77b4;stroke:#1f77b4;\" x=\"86.801066\" xlink:href=\"#mea590305b2\" y=\"114.590558\"/>\r\n     <use style=\"fill:#1f77b4;stroke:#1f77b4;\" x=\"217.350782\" xlink:href=\"#mea590305b2\" y=\"50.566205\"/>\r\n     <use style=\"fill:#1f77b4;stroke:#1f77b4;\" x=\"189.715055\" xlink:href=\"#mea590305b2\" y=\"56.276212\"/>\r\n     <use style=\"fill:#1f77b4;stroke:#1f77b4;\" x=\"172.832345\" xlink:href=\"#mea590305b2\" y=\"60.42777\"/>\r\n     <use style=\"fill:#1f77b4;stroke:#1f77b4;\" x=\"181.411345\" xlink:href=\"#mea590305b2\" y=\"63.639193\"/>\r\n     <use style=\"fill:#1f77b4;stroke:#1f77b4;\" x=\"177.865767\" xlink:href=\"#mea590305b2\" y=\"62.04087\"/>\r\n     <use style=\"fill:#1f77b4;stroke:#1f77b4;\" x=\"173.853162\" xlink:href=\"#mea590305b2\" y=\"49.158674\"/>\r\n     <use style=\"fill:#1f77b4;stroke:#1f77b4;\" x=\"135.109398\" xlink:href=\"#mea590305b2\" y=\"76.936017\"/>\r\n     <use style=\"fill:#1f77b4;stroke:#1f77b4;\" x=\"179.048337\" xlink:href=\"#mea590305b2\" y=\"61.524545\"/>\r\n     <use style=\"fill:#1f77b4;stroke:#1f77b4;\" x=\"133.365519\" xlink:href=\"#mea590305b2\" y=\"77.3353\"/>\r\n     <use style=\"fill:#1f77b4;stroke:#1f77b4;\" x=\"200.668306\" xlink:href=\"#mea590305b2\" y=\"44.514422\"/>\r\n     <use style=\"fill:#1f77b4;stroke:#1f77b4;\" x=\"176.326484\" xlink:href=\"#mea590305b2\" y=\"52.94596\"/>\r\n     <use style=\"fill:#1f77b4;stroke:#1f77b4;\" x=\"164.285461\" xlink:href=\"#mea590305b2\" y=\"62.793151\"/>\r\n     <use style=\"fill:#1f77b4;stroke:#1f77b4;\" x=\"137.739117\" xlink:href=\"#mea590305b2\" y=\"76.998884\"/>\r\n     <use style=\"fill:#1f77b4;stroke:#1f77b4;\" x=\"144.024397\" xlink:href=\"#mea590305b2\" y=\"75.481984\"/>\r\n     <use style=\"fill:#1f77b4;stroke:#1f77b4;\" x=\"110.611742\" xlink:href=\"#mea590305b2\" y=\"82.195575\"/>\r\n     <use style=\"fill:#1f77b4;stroke:#1f77b4;\" x=\"167.237923\" xlink:href=\"#mea590305b2\" y=\"57.533362\"/>\r\n     <use style=\"fill:#1f77b4;stroke:#1f77b4;\" x=\"134.215038\" xlink:href=\"#mea590305b2\" y=\"79.668592\"/>\r\n     <use style=\"fill:#1f77b4;stroke:#1f77b4;\" x=\"47.360085\" xlink:href=\"#mea590305b2\" y=\"136.922727\"/>\r\n     <use style=\"fill:#1f77b4;stroke:#1f77b4;\" x=\"137.743171\" xlink:href=\"#mea590305b2\" y=\"74.29319\"/>\r\n     <use style=\"fill:#1f77b4;stroke:#1f77b4;\" x=\"180.156288\" xlink:href=\"#mea590305b2\" y=\"55.726005\"/>\r\n     <use style=\"fill:#1f77b4;stroke:#1f77b4;\" x=\"147.127391\" xlink:href=\"#mea590305b2\" y=\"63.836292\"/>\r\n     <use style=\"fill:#1f77b4;stroke:#1f77b4;\" x=\"151.396182\" xlink:href=\"#mea590305b2\" y=\"69.194825\"/>\r\n     <use style=\"fill:#1f77b4;stroke:#1f77b4;\" x=\"126.871418\" xlink:href=\"#mea590305b2\" y=\"88.450319\"/>\r\n     <use style=\"fill:#1f77b4;stroke:#1f77b4;\" x=\"170.990777\" xlink:href=\"#mea590305b2\" y=\"62.367155\"/>\r\n     <use style=\"fill:#1f77b4;stroke:#1f77b4;\" x=\"158.608046\" xlink:href=\"#mea590305b2\" y=\"57.416746\"/>\r\n     <use style=\"fill:#1f77b4;stroke:#1f77b4;\" x=\"178.668574\" xlink:href=\"#mea590305b2\" y=\"51.542595\"/>\r\n     <use style=\"fill:#1f77b4;stroke:#1f77b4;\" x=\"208.549948\" xlink:href=\"#mea590305b2\" y=\"41.976928\"/>\r\n     <use style=\"fill:#1f77b4;stroke:#1f77b4;\" x=\"138.010226\" xlink:href=\"#mea590305b2\" y=\"80.737697\"/>\r\n     <use style=\"fill:#1f77b4;stroke:#1f77b4;\" x=\"169.791654\" xlink:href=\"#mea590305b2\" y=\"51.406946\"/>\r\n     <use style=\"fill:#1f77b4;stroke:#1f77b4;\" x=\"157.421785\" xlink:href=\"#mea590305b2\" y=\"66.677311\"/>\r\n     <use style=\"fill:#1f77b4;stroke:#1f77b4;\" x=\"155.485186\" xlink:href=\"#mea590305b2\" y=\"65.662958\"/>\r\n     <use style=\"fill:#1f77b4;stroke:#1f77b4;\" x=\"80.963458\" xlink:href=\"#mea590305b2\" y=\"99.471149\"/>\r\n     <use style=\"fill:#1f77b4;stroke:#1f77b4;\" x=\"150.134826\" xlink:href=\"#mea590305b2\" y=\"67.075284\"/>\r\n     <use style=\"fill:#1f77b4;stroke:#1f77b4;\" x=\"132.68296\" xlink:href=\"#mea590305b2\" y=\"81.396683\"/>\r\n     <use style=\"fill:#1f77b4;stroke:#1f77b4;\" x=\"185.953565\" xlink:href=\"#mea590305b2\" y=\"47.025874\"/>\r\n     <use style=\"fill:#1f77b4;stroke:#1f77b4;\" x=\"176.85595\" xlink:href=\"#mea590305b2\" y=\"40.569045\"/>\r\n     <use style=\"fill:#1f77b4;stroke:#1f77b4;\" x=\"109.006911\" xlink:href=\"#mea590305b2\" y=\"89.017524\"/>\r\n     <use style=\"fill:#1f77b4;stroke:#1f77b4;\" x=\"162.788041\" xlink:href=\"#mea590305b2\" y=\"65.278721\"/>\r\n     <use style=\"fill:#1f77b4;stroke:#1f77b4;\" x=\"116.070874\" xlink:href=\"#mea590305b2\" y=\"87.352029\"/>\r\n     <use style=\"fill:#1f77b4;stroke:#1f77b4;\" x=\"101.422823\" xlink:href=\"#mea590305b2\" y=\"100.019649\"/>\r\n     <use style=\"fill:#1f77b4;stroke:#1f77b4;\" x=\"173.575\" xlink:href=\"#mea590305b2\" y=\"58.893796\"/>\r\n     <use style=\"fill:#1f77b4;stroke:#1f77b4;\" x=\"168.396205\" xlink:href=\"#mea590305b2\" y=\"62.126654\"/>\r\n     <use style=\"fill:#1f77b4;stroke:#1f77b4;\" x=\"165.185414\" xlink:href=\"#mea590305b2\" y=\"67.795373\"/>\r\n     <use style=\"fill:#1f77b4;stroke:#1f77b4;\" x=\"161.989154\" xlink:href=\"#mea590305b2\" y=\"68.165167\"/>\r\n     <use style=\"fill:#1f77b4;stroke:#1f77b4;\" x=\"187.579194\" xlink:href=\"#mea590305b2\" y=\"54.128856\"/>\r\n     <use style=\"fill:#1f77b4;stroke:#1f77b4;\" x=\"188.938554\" xlink:href=\"#mea590305b2\" y=\"63.433473\"/>\r\n     <use style=\"fill:#1f77b4;stroke:#1f77b4;\" x=\"98.07548\" xlink:href=\"#mea590305b2\" y=\"104.696293\"/>\r\n     <use style=\"fill:#1f77b4;stroke:#1f77b4;\" x=\"74.888068\" xlink:href=\"#mea590305b2\" y=\"116.899452\"/>\r\n     <use style=\"fill:#1f77b4;stroke:#1f77b4;\" x=\"180.736016\" xlink:href=\"#mea590305b2\" y=\"66.949116\"/>\r\n     <use style=\"fill:#1f77b4;stroke:#1f77b4;\" x=\"224.90554\" xlink:href=\"#mea590305b2\" y=\"13.377273\"/>\r\n     <use style=\"fill:#1f77b4;stroke:#1f77b4;\" x=\"109.743712\" xlink:href=\"#mea590305b2\" y=\"110.853674\"/>\r\n     <use style=\"fill:#1f77b4;stroke:#1f77b4;\" x=\"108.880407\" xlink:href=\"#mea590305b2\" y=\"97.189368\"/>\r\n     <use style=\"fill:#1f77b4;stroke:#1f77b4;\" x=\"109.446191\" xlink:href=\"#mea590305b2\" y=\"91.41086\"/>\r\n     <use style=\"fill:#1f77b4;stroke:#1f77b4;\" x=\"160.629922\" xlink:href=\"#mea590305b2\" y=\"64.231563\"/>\r\n     <use style=\"fill:#1f77b4;stroke:#1f77b4;\" x=\"152.791333\" xlink:href=\"#mea590305b2\" y=\"70.503386\"/>\r\n     <use style=\"fill:#1f77b4;stroke:#1f77b4;\" x=\"153.777356\" xlink:href=\"#mea590305b2\" y=\"65.527509\"/>\r\n     <use style=\"fill:#1f77b4;stroke:#1f77b4;\" x=\"151.177034\" xlink:href=\"#mea590305b2\" y=\"64.514587\"/>\r\n     <use style=\"fill:#1f77b4;stroke:#1f77b4;\" x=\"129.321071\" xlink:href=\"#mea590305b2\" y=\"100.519886\"/>\r\n     <use style=\"fill:#1f77b4;stroke:#1f77b4;\" x=\"144.252103\" xlink:href=\"#mea590305b2\" y=\"76.117885\"/>\r\n     <use style=\"fill:#1f77b4;stroke:#1f77b4;\" x=\"161.034235\" xlink:href=\"#mea590305b2\" y=\"74.400925\"/>\r\n     <use style=\"fill:#1f77b4;stroke:#1f77b4;\" x=\"150.099446\" xlink:href=\"#mea590305b2\" y=\"83.902614\"/>\r\n     <use style=\"fill:#1f77b4;stroke:#1f77b4;\" x=\"143.917345\" xlink:href=\"#mea590305b2\" y=\"83.922149\"/>\r\n     <use style=\"fill:#1f77b4;stroke:#1f77b4;\" x=\"149.198514\" xlink:href=\"#mea590305b2\" y=\"77.506613\"/>\r\n     <use style=\"fill:#1f77b4;stroke:#1f77b4;\" x=\"209.060718\" xlink:href=\"#mea590305b2\" y=\"31.417123\"/>\r\n     <use style=\"fill:#1f77b4;stroke:#1f77b4;\" x=\"156.890136\" xlink:href=\"#mea590305b2\" y=\"66.838857\"/>\r\n     <use style=\"fill:#1f77b4;stroke:#1f77b4;\" x=\"98.890064\" xlink:href=\"#mea590305b2\" y=\"104.446157\"/>\r\n     <use style=\"fill:#1f77b4;stroke:#1f77b4;\" x=\"172.821714\" xlink:href=\"#mea590305b2\" y=\"51.078525\"/>\r\n     <use style=\"fill:#1f77b4;stroke:#1f77b4;\" x=\"144.350899\" xlink:href=\"#mea590305b2\" y=\"71.448044\"/>\r\n    </g>\r\n   </g>\r\n   <g id=\"matplotlib.axis_1\">\r\n    <g id=\"xtick_1\">\r\n     <g id=\"line2d_1\">\r\n      <defs>\r\n       <path d=\"M 0 0 \r\nL 0 3.5 \r\n\" id=\"m1e5c833d33\" style=\"stroke:#000000;stroke-width:0.8;\"/>\r\n      </defs>\r\n      <g>\r\n       <use style=\"stroke:#000000;stroke-width:0.8;\" x=\"49.143113\" xlink:href=\"#m1e5c833d33\" y=\"143.1\"/>\r\n      </g>\r\n     </g>\r\n     <g id=\"text_1\">\r\n      <!-- −2 -->\r\n      <g transform=\"translate(41.772019 157.698438)scale(0.1 -0.1)\">\r\n       <defs>\r\n        <path d=\"M 10.59375 35.5 \r\nL 73.1875 35.5 \r\nL 73.1875 27.203125 \r\nL 10.59375 27.203125 \r\nz\r\n\" id=\"DejaVuSans-8722\"/>\r\n        <path d=\"M 19.1875 8.296875 \r\nL 53.609375 8.296875 \r\nL 53.609375 0 \r\nL 7.328125 0 \r\nL 7.328125 8.296875 \r\nQ 12.9375 14.109375 22.625 23.890625 \r\nQ 32.328125 33.6875 34.8125 36.53125 \r\nQ 39.546875 41.84375 41.421875 45.53125 \r\nQ 43.3125 49.21875 43.3125 52.78125 \r\nQ 43.3125 58.59375 39.234375 62.25 \r\nQ 35.15625 65.921875 28.609375 65.921875 \r\nQ 23.96875 65.921875 18.8125 64.3125 \r\nQ 13.671875 62.703125 7.8125 59.421875 \r\nL 7.8125 69.390625 \r\nQ 13.765625 71.78125 18.9375 73 \r\nQ 24.125 74.21875 28.421875 74.21875 \r\nQ 39.75 74.21875 46.484375 68.546875 \r\nQ 53.21875 62.890625 53.21875 53.421875 \r\nQ 53.21875 48.921875 51.53125 44.890625 \r\nQ 49.859375 40.875 45.40625 35.40625 \r\nQ 44.1875 33.984375 37.640625 27.21875 \r\nQ 31.109375 20.453125 19.1875 8.296875 \r\nz\r\n\" id=\"DejaVuSans-50\"/>\r\n       </defs>\r\n       <use xlink:href=\"#DejaVuSans-8722\"/>\r\n       <use x=\"83.789062\" xlink:href=\"#DejaVuSans-50\"/>\r\n      </g>\r\n     </g>\r\n    </g>\r\n    <g id=\"xtick_2\">\r\n     <g id=\"line2d_2\">\r\n      <g>\r\n       <use style=\"stroke:#000000;stroke-width:0.8;\" x=\"82.870434\" xlink:href=\"#m1e5c833d33\" y=\"143.1\"/>\r\n      </g>\r\n     </g>\r\n     <g id=\"text_2\">\r\n      <!-- −1 -->\r\n      <g transform=\"translate(75.49934 157.698438)scale(0.1 -0.1)\">\r\n       <defs>\r\n        <path d=\"M 12.40625 8.296875 \r\nL 28.515625 8.296875 \r\nL 28.515625 63.921875 \r\nL 10.984375 60.40625 \r\nL 10.984375 69.390625 \r\nL 28.421875 72.90625 \r\nL 38.28125 72.90625 \r\nL 38.28125 8.296875 \r\nL 54.390625 8.296875 \r\nL 54.390625 0 \r\nL 12.40625 0 \r\nz\r\n\" id=\"DejaVuSans-49\"/>\r\n       </defs>\r\n       <use xlink:href=\"#DejaVuSans-8722\"/>\r\n       <use x=\"83.789062\" xlink:href=\"#DejaVuSans-49\"/>\r\n      </g>\r\n     </g>\r\n    </g>\r\n    <g id=\"xtick_3\">\r\n     <g id=\"line2d_3\">\r\n      <g>\r\n       <use style=\"stroke:#000000;stroke-width:0.8;\" x=\"116.597754\" xlink:href=\"#m1e5c833d33\" y=\"143.1\"/>\r\n      </g>\r\n     </g>\r\n     <g id=\"text_3\">\r\n      <!-- 0 -->\r\n      <g transform=\"translate(113.416504 157.698438)scale(0.1 -0.1)\">\r\n       <defs>\r\n        <path d=\"M 31.78125 66.40625 \r\nQ 24.171875 66.40625 20.328125 58.90625 \r\nQ 16.5 51.421875 16.5 36.375 \r\nQ 16.5 21.390625 20.328125 13.890625 \r\nQ 24.171875 6.390625 31.78125 6.390625 \r\nQ 39.453125 6.390625 43.28125 13.890625 \r\nQ 47.125 21.390625 47.125 36.375 \r\nQ 47.125 51.421875 43.28125 58.90625 \r\nQ 39.453125 66.40625 31.78125 66.40625 \r\nz\r\nM 31.78125 74.21875 \r\nQ 44.046875 74.21875 50.515625 64.515625 \r\nQ 56.984375 54.828125 56.984375 36.375 \r\nQ 56.984375 17.96875 50.515625 8.265625 \r\nQ 44.046875 -1.421875 31.78125 -1.421875 \r\nQ 19.53125 -1.421875 13.0625 8.265625 \r\nQ 6.59375 17.96875 6.59375 36.375 \r\nQ 6.59375 54.828125 13.0625 64.515625 \r\nQ 19.53125 74.21875 31.78125 74.21875 \r\nz\r\n\" id=\"DejaVuSans-48\"/>\r\n       </defs>\r\n       <use xlink:href=\"#DejaVuSans-48\"/>\r\n      </g>\r\n     </g>\r\n    </g>\r\n    <g id=\"xtick_4\">\r\n     <g id=\"line2d_4\">\r\n      <g>\r\n       <use style=\"stroke:#000000;stroke-width:0.8;\" x=\"150.325075\" xlink:href=\"#m1e5c833d33\" y=\"143.1\"/>\r\n      </g>\r\n     </g>\r\n     <g id=\"text_4\">\r\n      <!-- 1 -->\r\n      <g transform=\"translate(147.143825 157.698438)scale(0.1 -0.1)\">\r\n       <use xlink:href=\"#DejaVuSans-49\"/>\r\n      </g>\r\n     </g>\r\n    </g>\r\n    <g id=\"xtick_5\">\r\n     <g id=\"line2d_5\">\r\n      <g>\r\n       <use style=\"stroke:#000000;stroke-width:0.8;\" x=\"184.052396\" xlink:href=\"#m1e5c833d33\" y=\"143.1\"/>\r\n      </g>\r\n     </g>\r\n     <g id=\"text_5\">\r\n      <!-- 2 -->\r\n      <g transform=\"translate(180.871146 157.698438)scale(0.1 -0.1)\">\r\n       <use xlink:href=\"#DejaVuSans-50\"/>\r\n      </g>\r\n     </g>\r\n    </g>\r\n    <g id=\"xtick_6\">\r\n     <g id=\"line2d_6\">\r\n      <g>\r\n       <use style=\"stroke:#000000;stroke-width:0.8;\" x=\"217.779716\" xlink:href=\"#m1e5c833d33\" y=\"143.1\"/>\r\n      </g>\r\n     </g>\r\n     <g id=\"text_6\">\r\n      <!-- 3 -->\r\n      <g transform=\"translate(214.598466 157.698438)scale(0.1 -0.1)\">\r\n       <defs>\r\n        <path d=\"M 40.578125 39.3125 \r\nQ 47.65625 37.796875 51.625 33 \r\nQ 55.609375 28.21875 55.609375 21.1875 \r\nQ 55.609375 10.40625 48.1875 4.484375 \r\nQ 40.765625 -1.421875 27.09375 -1.421875 \r\nQ 22.515625 -1.421875 17.65625 -0.515625 \r\nQ 12.796875 0.390625 7.625 2.203125 \r\nL 7.625 11.71875 \r\nQ 11.71875 9.328125 16.59375 8.109375 \r\nQ 21.484375 6.890625 26.8125 6.890625 \r\nQ 36.078125 6.890625 40.9375 10.546875 \r\nQ 45.796875 14.203125 45.796875 21.1875 \r\nQ 45.796875 27.640625 41.28125 31.265625 \r\nQ 36.765625 34.90625 28.71875 34.90625 \r\nL 20.21875 34.90625 \r\nL 20.21875 43.015625 \r\nL 29.109375 43.015625 \r\nQ 36.375 43.015625 40.234375 45.921875 \r\nQ 44.09375 48.828125 44.09375 54.296875 \r\nQ 44.09375 59.90625 40.109375 62.90625 \r\nQ 36.140625 65.921875 28.71875 65.921875 \r\nQ 24.65625 65.921875 20.015625 65.03125 \r\nQ 15.375 64.15625 9.8125 62.3125 \r\nL 9.8125 71.09375 \r\nQ 15.4375 72.65625 20.34375 73.4375 \r\nQ 25.25 74.21875 29.59375 74.21875 \r\nQ 40.828125 74.21875 47.359375 69.109375 \r\nQ 53.90625 64.015625 53.90625 55.328125 \r\nQ 53.90625 49.265625 50.4375 45.09375 \r\nQ 46.96875 40.921875 40.578125 39.3125 \r\nz\r\n\" id=\"DejaVuSans-51\"/>\r\n       </defs>\r\n       <use xlink:href=\"#DejaVuSans-51\"/>\r\n      </g>\r\n     </g>\r\n    </g>\r\n   </g>\r\n   <g id=\"matplotlib.axis_2\">\r\n    <g id=\"ytick_1\">\r\n     <g id=\"line2d_7\">\r\n      <defs>\r\n       <path d=\"M 0 0 \r\nL -3.5 0 \r\n\" id=\"mcd9f593dc4\" style=\"stroke:#000000;stroke-width:0.8;\"/>\r\n      </defs>\r\n      <g>\r\n       <use style=\"stroke:#000000;stroke-width:0.8;\" x=\"38.482813\" xlink:href=\"#mcd9f593dc4\" y=\"119.436317\"/>\r\n      </g>\r\n     </g>\r\n     <g id=\"text_7\">\r\n      <!-- −2.5 -->\r\n      <g transform=\"translate(7.2 123.235535)scale(0.1 -0.1)\">\r\n       <defs>\r\n        <path d=\"M 10.6875 12.40625 \r\nL 21 12.40625 \r\nL 21 0 \r\nL 10.6875 0 \r\nz\r\n\" id=\"DejaVuSans-46\"/>\r\n        <path d=\"M 10.796875 72.90625 \r\nL 49.515625 72.90625 \r\nL 49.515625 64.59375 \r\nL 19.828125 64.59375 \r\nL 19.828125 46.734375 \r\nQ 21.96875 47.46875 24.109375 47.828125 \r\nQ 26.265625 48.1875 28.421875 48.1875 \r\nQ 40.625 48.1875 47.75 41.5 \r\nQ 54.890625 34.8125 54.890625 23.390625 \r\nQ 54.890625 11.625 47.5625 5.09375 \r\nQ 40.234375 -1.421875 26.90625 -1.421875 \r\nQ 22.3125 -1.421875 17.546875 -0.640625 \r\nQ 12.796875 0.140625 7.71875 1.703125 \r\nL 7.71875 11.625 \r\nQ 12.109375 9.234375 16.796875 8.0625 \r\nQ 21.484375 6.890625 26.703125 6.890625 \r\nQ 35.15625 6.890625 40.078125 11.328125 \r\nQ 45.015625 15.765625 45.015625 23.390625 \r\nQ 45.015625 31 40.078125 35.4375 \r\nQ 35.15625 39.890625 26.703125 39.890625 \r\nQ 22.75 39.890625 18.8125 39.015625 \r\nQ 14.890625 38.140625 10.796875 36.28125 \r\nz\r\n\" id=\"DejaVuSans-53\"/>\r\n       </defs>\r\n       <use xlink:href=\"#DejaVuSans-8722\"/>\r\n       <use x=\"83.789062\" xlink:href=\"#DejaVuSans-50\"/>\r\n       <use x=\"147.412109\" xlink:href=\"#DejaVuSans-46\"/>\r\n       <use x=\"179.199219\" xlink:href=\"#DejaVuSans-53\"/>\r\n      </g>\r\n     </g>\r\n    </g>\r\n    <g id=\"ytick_2\">\r\n     <g id=\"line2d_8\">\r\n      <g>\r\n       <use style=\"stroke:#000000;stroke-width:0.8;\" x=\"38.482813\" xlink:href=\"#mcd9f593dc4\" y=\"93.41868\"/>\r\n      </g>\r\n     </g>\r\n     <g id=\"text_8\">\r\n      <!-- 0.0 -->\r\n      <g transform=\"translate(15.579688 97.217898)scale(0.1 -0.1)\">\r\n       <use xlink:href=\"#DejaVuSans-48\"/>\r\n       <use x=\"63.623047\" xlink:href=\"#DejaVuSans-46\"/>\r\n       <use x=\"95.410156\" xlink:href=\"#DejaVuSans-48\"/>\r\n      </g>\r\n     </g>\r\n    </g>\r\n    <g id=\"ytick_3\">\r\n     <g id=\"line2d_9\">\r\n      <g>\r\n       <use style=\"stroke:#000000;stroke-width:0.8;\" x=\"38.482813\" xlink:href=\"#mcd9f593dc4\" y=\"67.401043\"/>\r\n      </g>\r\n     </g>\r\n     <g id=\"text_9\">\r\n      <!-- 2.5 -->\r\n      <g transform=\"translate(15.579688 71.200262)scale(0.1 -0.1)\">\r\n       <use xlink:href=\"#DejaVuSans-50\"/>\r\n       <use x=\"63.623047\" xlink:href=\"#DejaVuSans-46\"/>\r\n       <use x=\"95.410156\" xlink:href=\"#DejaVuSans-53\"/>\r\n      </g>\r\n     </g>\r\n    </g>\r\n    <g id=\"ytick_4\">\r\n     <g id=\"line2d_10\">\r\n      <g>\r\n       <use style=\"stroke:#000000;stroke-width:0.8;\" x=\"38.482813\" xlink:href=\"#mcd9f593dc4\" y=\"41.383406\"/>\r\n      </g>\r\n     </g>\r\n     <g id=\"text_10\">\r\n      <!-- 5.0 -->\r\n      <g transform=\"translate(15.579688 45.182625)scale(0.1 -0.1)\">\r\n       <use xlink:href=\"#DejaVuSans-53\"/>\r\n       <use x=\"63.623047\" xlink:href=\"#DejaVuSans-46\"/>\r\n       <use x=\"95.410156\" xlink:href=\"#DejaVuSans-48\"/>\r\n      </g>\r\n     </g>\r\n    </g>\r\n    <g id=\"ytick_5\">\r\n     <g id=\"line2d_11\">\r\n      <g>\r\n       <use style=\"stroke:#000000;stroke-width:0.8;\" x=\"38.482813\" xlink:href=\"#mcd9f593dc4\" y=\"15.365769\"/>\r\n      </g>\r\n     </g>\r\n     <g id=\"text_11\">\r\n      <!-- 7.5 -->\r\n      <g transform=\"translate(15.579688 19.164988)scale(0.1 -0.1)\">\r\n       <defs>\r\n        <path d=\"M 8.203125 72.90625 \r\nL 55.078125 72.90625 \r\nL 55.078125 68.703125 \r\nL 28.609375 0 \r\nL 18.3125 0 \r\nL 43.21875 64.59375 \r\nL 8.203125 64.59375 \r\nz\r\n\" id=\"DejaVuSans-55\"/>\r\n       </defs>\r\n       <use xlink:href=\"#DejaVuSans-55\"/>\r\n       <use x=\"63.623047\" xlink:href=\"#DejaVuSans-46\"/>\r\n       <use x=\"95.410156\" xlink:href=\"#DejaVuSans-53\"/>\r\n      </g>\r\n     </g>\r\n    </g>\r\n   </g>\r\n   <g id=\"patch_3\">\r\n    <path d=\"M 38.482813 143.1 \r\nL 38.482813 7.2 \r\n\" style=\"fill:none;stroke:#000000;stroke-linecap:square;stroke-linejoin:miter;stroke-width:0.8;\"/>\r\n   </g>\r\n   <g id=\"patch_4\">\r\n    <path d=\"M 233.782813 143.1 \r\nL 233.782813 7.2 \r\n\" style=\"fill:none;stroke:#000000;stroke-linecap:square;stroke-linejoin:miter;stroke-width:0.8;\"/>\r\n   </g>\r\n   <g id=\"patch_5\">\r\n    <path d=\"M 38.482813 143.1 \r\nL 233.782813 143.1 \r\n\" style=\"fill:none;stroke:#000000;stroke-linecap:square;stroke-linejoin:miter;stroke-width:0.8;\"/>\r\n   </g>\r\n   <g id=\"patch_6\">\r\n    <path d=\"M 38.482813 7.2 \r\nL 233.782813 7.2 \r\n\" style=\"fill:none;stroke:#000000;stroke-linecap:square;stroke-linejoin:miter;stroke-width:0.8;\"/>\r\n   </g>\r\n  </g>\r\n </g>\r\n <defs>\r\n  <clipPath id=\"p364d3ea8ac\">\r\n   <rect height=\"135.9\" width=\"195.3\" x=\"38.482813\" y=\"7.2\"/>\r\n  </clipPath>\r\n </defs>\r\n</svg>\r\n"
     },
     "metadata": {
      "needs_background": "light"
     }
    }
   ],
   "source": [
    "d2l.set_figsize()\n",
    "d2l.plt.scatter(d2l.numpy(data[:100, 0]), d2l.numpy(data[:100, 1]));\n",
    "print(f'The covariance matrix is\\n{d2l.matmul(tf.transpose(A), A)}')"
   ]
  },
  {
   "cell_type": "code",
   "execution_count": 5,
   "metadata": {},
   "outputs": [],
   "source": [
    "batch_size = 8\n",
    "data_iter = d2l.load_array((data,), batch_size)"
   ]
  },
  {
   "cell_type": "code",
   "execution_count": 6,
   "metadata": {},
   "outputs": [],
   "source": [
    "net_G = tf.keras.Sequential()\n",
    "net_G.add(tf.keras.layers.Dense(2))"
   ]
  },
  {
   "cell_type": "markdown",
   "metadata": {},
   "source": [
    "tf.keras.activations.tanh(a)\n",
    "https://www.tensorflow.org/api_docs/python/tf/keras/activations/tanh\n"
   ]
  },
  {
   "cell_type": "code",
   "execution_count": 7,
   "metadata": {},
   "outputs": [],
   "source": [
    "net_D = tf.keras.Sequential()\n",
    "net_D.add(tf.keras.layers.Dense(5, activation='tanh'))\n",
    "net_D.add(tf.keras.layers.Dense(3, activation='tanh'))\n",
    "net_D.add(tf.keras.layers.Dense(1))"
   ]
  },
  {
   "cell_type": "markdown",
   "metadata": {},
   "source": [
    "with tf.GradientTape() as t:\n",
    "http://preview.d2l.ai/d2l-en/master/chapter_preliminaries/autograd.html\n"
   ]
  },
  {
   "cell_type": "markdown",
   "metadata": {},
   "source": [
    "t.gradient(y, x) \n",
    "t.gradient(loss_D, trainer_D) "
   ]
  },
  {
   "cell_type": "code",
   "execution_count": 8,
   "metadata": {},
   "outputs": [],
   "source": [
    "#@save\n",
    "def update_D(X, Z, net_D, net_G, loss, trainer_D):\n",
    "    \"\"\"Update discriminator.\"\"\"\n",
    "    batch_size = np.array(X).shape[0]\n",
    "    ones = tf.ones((batch_size,), tf.float32)\n",
    "    zeros = tf.zeros((batch_size,), tf.float32)\n",
    "    with tf.GradientTape() as t:\n",
    "        real_Y = net_D(tf.convert_to_tensor(X))\n",
    "        fake_X = net_G(tf.convert_to_tensor(Z))\n",
    "        # Do not need to compute gradient for `net_G`, detach it from\n",
    "        # computing gradients.\n",
    "        fake_Y = net_D(fake_X.stop_gradient())\n",
    "        loss_D = (loss(real_Y, ones) + loss(fake_Y, zeros)) / 2\n",
    "    t.gradient(loss_D, trainer_D) \n",
    "    trainer_D.step(batch_size)\n",
    "    return float(loss_D.sum())"
   ]
  },
  {
   "cell_type": "code",
   "execution_count": 9,
   "metadata": {},
   "outputs": [],
   "source": [
    "#@save\n",
    "def update_G(Z, net_D, net_G, loss, trainer_G):\n",
    "    \"\"\"Update generator.\"\"\"\n",
    "    batch_size = np.array(Z).shape[0]\n",
    "    ones = tf.ones((batch_size,), tf.float32)\n",
    "    with tf.GradientTape() as t:\n",
    "        # We could reuse `fake_X` from `update_D` to save computation\n",
    "        fake_X = net_G(tf.convert_to_tensor(Z))\n",
    "        # Recomputing `fake_Y` is needed since `net_D` is changed\n",
    "        fake_Y = net_D(fake_X)\n",
    "        loss_G = loss(fake_Y, ones)\n",
    "    t.gradient(loss_G, trainer_G) \n",
    "    trainer_G.step(batch_size)\n",
    "    return float(loss_G.sum())"
   ]
  },
  {
   "cell_type": "markdown",
   "metadata": {},
   "source": [
    "https://www.google.com/search?q=numpy()+tensorflow&rlz=1C1GCEA_enJP909HK909&oq=numpy()+tensorflow&aqs=chrome..69i57j0l7.2792j0j1&sourceid=chrome&ie=UTF-8"
   ]
  },
  {
   "cell_type": "markdown",
   "metadata": {},
   "source": [
    "https://www.tensorflow.org/api_docs/python/tf/keras/optimizers/Adam\n",
    "tf.keras.optimizers.Adam(learning_rate=0.1)\n",
    "m.compile\n",
    "m = tf.keras.models.Sequential([tf.keras.layers.Dense(10)])\n",
    "m.compile(opt, loss='mse')"
   ]
  },
  {
   "cell_type": "markdown",
   "metadata": {},
   "source": [
    "https://stackoverflow.com/questions/55683729/bcewithlogitsloss-in-keras\n",
    "https://www.tensorflow.org/api_docs/python/tf/keras/losses/BinaryCrossentropy\n"
   ]
  },
  {
   "cell_type": "markdown",
   "metadata": {},
   "source": [
    "def weight_variable(shape, w=0.1):\n",
    "  initial = tf.truncated_normal(shape, stddev=w)\n",
    "  return tf.Variable(initial)\n",
    "  https://stackoverflow.com/questions/43489697/tensorflow-weight-initialization\n",
    "\n",
    "  The values generated are similar to values from a tf.keras.initializers.RandomNormal initializer except that values more than two standard deviations from the mean are discarded and re-drawn.\n",
    "  https://keras.io/api/layers/initializers/"
   ]
  },
  {
   "cell_type": "markdown",
   "metadata": {},
   "source": [
    "tf.Variable(initial_value=w_init(\n",
    "            shape=(input_dim, unit), dtype=tf.float32), trainable=True)\n",
    "            https://zhuanlan.zhihu.com/p/59481536"
   ]
  },
  {
   "cell_type": "markdown",
   "metadata": {},
   "source": [
    "https://keras.io/api/layers/initializers/"
   ]
  },
  {
   "cell_type": "markdown",
   "metadata": {},
   "source": [
    "numpy.array\n",
    "https://stackoverflow.com/questions/41198144/attributeerror-tuple-object-has-no-attribute-shape"
   ]
  },
  {
   "cell_type": "markdown",
   "metadata": {},
   "source": [
    "https://github.com/tensorflow/tensorflow/issues/29972"
   ]
  },
  {
   "cell_type": "markdown",
   "metadata": {},
   "source": [
    "http://preview.d2l.ai/d2l-en/master/chapter_preliminaries/autograd.html?highlight=detach"
   ]
  },
  {
   "cell_type": "code",
   "execution_count": 10,
   "metadata": {},
   "outputs": [],
   "source": [
    "def train(net_D, net_G, data_iter, num_epochs, lr_D, lr_G, latent_dim, data):\n",
    "    loss = tf.keras.losses.BinaryCrossentropy(reduction=\n",
    "                                tf.keras.losses.Reduction.SUM)\n",
    "    tf.keras.initializers.RandomNormal(net_D, stddev=0.02)\n",
    "    tf.keras.initializers.RandomNormal(net_G, stddev=0.02)\n",
    "    trainer_D = net_D.compile(tf.keras.optimizers.Adam(learning_rate=lr_D), loss='mse')\n",
    "    trainer_G = net_G.compile(tf.keras.optimizers.Adam(learning_rate=lr_G), loss='mse')\n",
    "    animator = d2l.Animator(xlabel='epoch', ylabel='loss',\n",
    "                            xlim=[1, num_epochs], nrows=2, figsize=(5, 5),\n",
    "                            legend=['discriminator', 'generator'])\n",
    "    animator.fig.subplots_adjust(hspace=0.3)\n",
    "    for epoch in range(num_epochs):\n",
    "        # Train one epoch\n",
    "        timer = d2l.Timer()\n",
    "        metric = d2l.Accumulator(3)  # loss_D, loss_G, num_examples\n",
    "        for X in data_iter:\n",
    "            batch_size = np.array(X).shape[0]\n",
    "            Z = d2l.normal([batch_size, latent_dim], 0, 1, tf.float32)\n",
    "            metric.add(update_D(X, Z, net_D, net_G, loss, trainer_D),\n",
    "                       update_G(Z, net_D, net_G, loss, trainer_G),\n",
    "                       batch_size)\n",
    "        # Visualize generated examples\n",
    "        Z = d2l.normal([100, latent_dim], 0, 1, tf.float32)\n",
    "        fake_X = net_G(Z).Tensor.numpy()\n",
    "        animator.axes[1].cla()\n",
    "        animator.axes[1].scatter(data[:, 0], data[:, 1])\n",
    "        animator.axes[1].scatter(fake_X[:, 0], fake_X[:, 1])\n",
    "        animator.axes[1].legend(['real', 'generated'])\n",
    "        # Show the losses\n",
    "        loss_D, loss_G = metric[0]/metric[2], metric[1]/metric[2]\n",
    "        animator.add(epoch + 1, (loss_D, loss_G))\n",
    "    print(f'loss_D {loss_D:.3f}, loss_G {loss_G:.3f}, '\n",
    "          f'{metric[2] / timer.stop():.1f} examples/sec')"
   ]
  },
  {
   "cell_type": "code",
   "execution_count": 11,
   "metadata": {
    "tags": []
   },
   "outputs": [
    {
     "output_type": "error",
     "ename": "AttributeError",
     "evalue": "'tensorflow.python.framework.ops.EagerTensor' object has no attribute 'detach'",
     "traceback": [
      "\u001b[1;31m---------------------------------------------------------------------------\u001b[0m",
      "\u001b[1;31mAttributeError\u001b[0m                            Traceback (most recent call last)",
      "\u001b[1;32m<ipython-input-11-251159593cac>\u001b[0m in \u001b[0;36m<module>\u001b[1;34m\u001b[0m\n\u001b[0;32m      1\u001b[0m \u001b[0mlr_D\u001b[0m\u001b[1;33m,\u001b[0m \u001b[0mlr_G\u001b[0m\u001b[1;33m,\u001b[0m \u001b[0mlatent_dim\u001b[0m\u001b[1;33m,\u001b[0m \u001b[0mnum_epochs\u001b[0m \u001b[1;33m=\u001b[0m \u001b[1;36m0.05\u001b[0m\u001b[1;33m,\u001b[0m \u001b[1;36m0.005\u001b[0m\u001b[1;33m,\u001b[0m \u001b[1;36m2\u001b[0m\u001b[1;33m,\u001b[0m \u001b[1;36m20\u001b[0m\u001b[1;33m\u001b[0m\u001b[1;33m\u001b[0m\u001b[0m\n\u001b[0;32m      2\u001b[0m train(net_D, net_G, data_iter, num_epochs, lr_D, lr_G,\n\u001b[1;32m----> 3\u001b[1;33m       latent_dim, d2l.numpy(data[:100]))\n\u001b[0m",
      "\u001b[1;32m<ipython-input-10-1556e6dd1300>\u001b[0m in \u001b[0;36mtrain\u001b[1;34m(net_D, net_G, data_iter, num_epochs, lr_D, lr_G, latent_dim, data)\u001b[0m\n\u001b[0;32m     17\u001b[0m             \u001b[0mbatch_size\u001b[0m \u001b[1;33m=\u001b[0m \u001b[0mnp\u001b[0m\u001b[1;33m.\u001b[0m\u001b[0marray\u001b[0m\u001b[1;33m(\u001b[0m\u001b[0mX\u001b[0m\u001b[1;33m)\u001b[0m\u001b[1;33m.\u001b[0m\u001b[0mshape\u001b[0m\u001b[1;33m[\u001b[0m\u001b[1;36m0\u001b[0m\u001b[1;33m]\u001b[0m\u001b[1;33m\u001b[0m\u001b[1;33m\u001b[0m\u001b[0m\n\u001b[0;32m     18\u001b[0m             \u001b[0mZ\u001b[0m \u001b[1;33m=\u001b[0m \u001b[0md2l\u001b[0m\u001b[1;33m.\u001b[0m\u001b[0mnormal\u001b[0m\u001b[1;33m(\u001b[0m\u001b[1;33m[\u001b[0m\u001b[0mbatch_size\u001b[0m\u001b[1;33m,\u001b[0m \u001b[0mlatent_dim\u001b[0m\u001b[1;33m]\u001b[0m\u001b[1;33m,\u001b[0m \u001b[1;36m0\u001b[0m\u001b[1;33m,\u001b[0m \u001b[1;36m1\u001b[0m\u001b[1;33m,\u001b[0m \u001b[0mtf\u001b[0m\u001b[1;33m.\u001b[0m\u001b[0mfloat32\u001b[0m\u001b[1;33m)\u001b[0m\u001b[1;33m\u001b[0m\u001b[1;33m\u001b[0m\u001b[0m\n\u001b[1;32m---> 19\u001b[1;33m             metric.add(update_D(X, Z, net_D, net_G, loss, trainer_D),\n\u001b[0m\u001b[0;32m     20\u001b[0m                        \u001b[0mupdate_G\u001b[0m\u001b[1;33m(\u001b[0m\u001b[0mZ\u001b[0m\u001b[1;33m,\u001b[0m \u001b[0mnet_D\u001b[0m\u001b[1;33m,\u001b[0m \u001b[0mnet_G\u001b[0m\u001b[1;33m,\u001b[0m \u001b[0mloss\u001b[0m\u001b[1;33m,\u001b[0m \u001b[0mtrainer_G\u001b[0m\u001b[1;33m)\u001b[0m\u001b[1;33m,\u001b[0m\u001b[1;33m\u001b[0m\u001b[1;33m\u001b[0m\u001b[0m\n\u001b[0;32m     21\u001b[0m                        batch_size)\n",
      "\u001b[1;32m<ipython-input-8-d3305c5c0283>\u001b[0m in \u001b[0;36mupdate_D\u001b[1;34m(X, Z, net_D, net_G, loss, trainer_D)\u001b[0m\n\u001b[0;32m     10\u001b[0m         \u001b[1;31m# Do not need to compute gradient for `net_G`, detach it from\u001b[0m\u001b[1;33m\u001b[0m\u001b[1;33m\u001b[0m\u001b[1;33m\u001b[0m\u001b[0m\n\u001b[0;32m     11\u001b[0m         \u001b[1;31m# computing gradients.\u001b[0m\u001b[1;33m\u001b[0m\u001b[1;33m\u001b[0m\u001b[1;33m\u001b[0m\u001b[0m\n\u001b[1;32m---> 12\u001b[1;33m         \u001b[0mfake_Y\u001b[0m \u001b[1;33m=\u001b[0m \u001b[0mnet_D\u001b[0m\u001b[1;33m(\u001b[0m\u001b[0mfake_X\u001b[0m\u001b[1;33m.\u001b[0m\u001b[0mdetach\u001b[0m\u001b[1;33m(\u001b[0m\u001b[1;33m)\u001b[0m\u001b[1;33m)\u001b[0m\u001b[1;33m\u001b[0m\u001b[1;33m\u001b[0m\u001b[0m\n\u001b[0m\u001b[0;32m     13\u001b[0m         \u001b[0mloss_D\u001b[0m \u001b[1;33m=\u001b[0m \u001b[1;33m(\u001b[0m\u001b[0mloss\u001b[0m\u001b[1;33m(\u001b[0m\u001b[0mreal_Y\u001b[0m\u001b[1;33m,\u001b[0m \u001b[0mones\u001b[0m\u001b[1;33m)\u001b[0m \u001b[1;33m+\u001b[0m \u001b[0mloss\u001b[0m\u001b[1;33m(\u001b[0m\u001b[0mfake_Y\u001b[0m\u001b[1;33m,\u001b[0m \u001b[0mzeros\u001b[0m\u001b[1;33m)\u001b[0m\u001b[1;33m)\u001b[0m \u001b[1;33m/\u001b[0m \u001b[1;36m2\u001b[0m\u001b[1;33m\u001b[0m\u001b[1;33m\u001b[0m\u001b[0m\n\u001b[0;32m     14\u001b[0m     \u001b[0mt\u001b[0m\u001b[1;33m.\u001b[0m\u001b[0mgradient\u001b[0m\u001b[1;33m(\u001b[0m\u001b[0mloss_D\u001b[0m\u001b[1;33m,\u001b[0m \u001b[0mtrainer_D\u001b[0m\u001b[1;33m)\u001b[0m\u001b[1;33m\u001b[0m\u001b[1;33m\u001b[0m\u001b[0m\n",
      "\u001b[1;31mAttributeError\u001b[0m: 'tensorflow.python.framework.ops.EagerTensor' object has no attribute 'detach'"
     ]
    }
   ],
   "source": [
    "lr_D, lr_G, latent_dim, num_epochs = 0.05, 0.005, 2, 20\n",
    "train(net_D, net_G, data_iter, num_epochs, lr_D, lr_G,\n",
    "      latent_dim, d2l.numpy(data[:100]))"
   ]
  },
  {
   "cell_type": "markdown",
   "metadata": {},
   "source": [
    "https://www.tensorflow.org/api_docs/python/tf/ones"
   ]
  }
 ]
}