{
 "metadata": {
  "language_info": {
   "codemirror_mode": {
    "name": "ipython",
    "version": 3
   },
   "file_extension": ".py",
   "mimetype": "text/x-python",
   "name": "python",
   "nbconvert_exporter": "python",
   "pygments_lexer": "ipython3",
   "version": "3.7.8-final"
  },
  "orig_nbformat": 2,
  "kernelspec": {
   "name": "python37864bittf2conda1de394c9651a4d19aa25641a40b8d2d8",
   "display_name": "Python 3.7.8 64-bit ('tf2': conda)"
  }
 },
 "nbformat": 4,
 "nbformat_minor": 2,
 "cells": [
  {
   "cell_type": "markdown",
   "metadata": {},
   "source": [
    "http://preview.d2l.ai/d2l-en/master/chapter_generative-adversarial-networks/gan.html"
   ]
  },
  {
   "cell_type": "code",
   "execution_count": 1,
   "metadata": {},
   "outputs": [],
   "source": [
    "%matplotlib inline\n",
    "from d2l import tensorflow as d2l\n",
    "import tensorflow as tf\n",
    "import numpy as np"
   ]
  },
  {
   "cell_type": "markdown",
   "metadata": {},
   "source": [
    "https://www.tensorflow.org/api_docs/python/tf/random/normal"
   ]
  },
  {
   "cell_type": "markdown",
   "metadata": {},
   "source": [
    "https://www.tensorflow.org/api_docs/python/tf/norm"
   ]
  },
  {
   "cell_type": "code",
   "execution_count": 2,
   "metadata": {},
   "outputs": [],
   "source": [
    "X = d2l.normal([1000, 2], 0.0, 1, tf.float32)"
   ]
  },
  {
   "cell_type": "code",
   "execution_count": 3,
   "metadata": {},
   "outputs": [],
   "source": [
    "A = d2l.tensor([[1, 2], [-0.1, 0.5]], tf.float32)\n",
    "b = d2l.tensor([1, 2], tf.float32)\n",
    "data = d2l.matmul(X, A) + b"
   ]
  },
  {
   "cell_type": "code",
   "execution_count": 4,
   "metadata": {
    "tags": []
   },
   "outputs": [
    {
     "output_type": "stream",
     "name": "stdout",
     "text": "The covariance matrix is\n[[1.01 1.95]\n [1.95 4.25]]\n"
    },
    {
     "output_type": "display_data",
     "data": {
      "text/plain": "<Figure size 252x180 with 1 Axes>",
      "image/svg+xml": "<?xml version=\"1.0\" encoding=\"utf-8\" standalone=\"no\"?>\r\n<!DOCTYPE svg PUBLIC \"-//W3C//DTD SVG 1.1//EN\"\r\n  \"http://www.w3.org/Graphics/SVG/1.1/DTD/svg11.dtd\">\r\n<!-- Created with matplotlib (https://matplotlib.org/) -->\r\n<svg height=\"166.978125pt\" version=\"1.1\" viewBox=\"0 0 231.442187 166.978125\" width=\"231.442187pt\" xmlns=\"http://www.w3.org/2000/svg\" xmlns:xlink=\"http://www.w3.org/1999/xlink\">\r\n <metadata>\r\n  <rdf:RDF xmlns:cc=\"http://creativecommons.org/ns#\" xmlns:dc=\"http://purl.org/dc/elements/1.1/\" xmlns:rdf=\"http://www.w3.org/1999/02/22-rdf-syntax-ns#\">\r\n   <cc:Work>\r\n    <dc:type rdf:resource=\"http://purl.org/dc/dcmitype/StillImage\"/>\r\n    <dc:date>2020-09-04T19:52:37.285013</dc:date>\r\n    <dc:format>image/svg+xml</dc:format>\r\n    <dc:creator>\r\n     <cc:Agent>\r\n      <dc:title>Matplotlib v3.3.1, https://matplotlib.org/</dc:title>\r\n     </cc:Agent>\r\n    </dc:creator>\r\n   </cc:Work>\r\n  </rdf:RDF>\r\n </metadata>\r\n <defs>\r\n  <style type=\"text/css\">*{stroke-linecap:butt;stroke-linejoin:round;}</style>\r\n </defs>\r\n <g id=\"figure_1\">\r\n  <g id=\"patch_1\">\r\n   <path d=\"M 0 166.978125 \r\nL 231.442187 166.978125 \r\nL 231.442187 0 \r\nL 0 0 \r\nz\r\n\" style=\"fill:none;\"/>\r\n  </g>\r\n  <g id=\"axes_1\">\r\n   <g id=\"patch_2\">\r\n    <path d=\"M 28.942188 143.1 \r\nL 224.242188 143.1 \r\nL 224.242188 7.2 \r\nL 28.942188 7.2 \r\nz\r\n\" style=\"fill:#ffffff;\"/>\r\n   </g>\r\n   <g id=\"PathCollection_1\">\r\n    <defs>\r\n     <path d=\"M 0 3 \r\nC 0.795609 3 1.55874 2.683901 2.12132 2.12132 \r\nC 2.683901 1.55874 3 0.795609 3 0 \r\nC 3 -0.795609 2.683901 -1.55874 2.12132 -2.12132 \r\nC 1.55874 -2.683901 0.795609 -3 0 -3 \r\nC -0.795609 -3 -1.55874 -2.683901 -2.12132 -2.12132 \r\nC -2.683901 -1.55874 -3 -0.795609 -3 0 \r\nC -3 0.795609 -2.683901 1.55874 -2.12132 2.12132 \r\nC -1.55874 2.683901 -0.795609 3 0 3 \r\nz\r\n\" id=\"mb6ba12e324\" style=\"stroke:#1f77b4;\"/>\r\n    </defs>\r\n    <g clip-path=\"url(#pf268a88e9e)\">\r\n     <use style=\"fill:#1f77b4;stroke:#1f77b4;\" x=\"119.412813\" xlink:href=\"#mb6ba12e324\" y=\"101.781983\"/>\r\n     <use style=\"fill:#1f77b4;stroke:#1f77b4;\" x=\"117.896417\" xlink:href=\"#mb6ba12e324\" y=\"94.410971\"/>\r\n     <use style=\"fill:#1f77b4;stroke:#1f77b4;\" x=\"157.041639\" xlink:href=\"#mb6ba12e324\" y=\"66.295792\"/>\r\n     <use style=\"fill:#1f77b4;stroke:#1f77b4;\" x=\"71.236903\" xlink:href=\"#mb6ba12e324\" y=\"100.761662\"/>\r\n     <use style=\"fill:#1f77b4;stroke:#1f77b4;\" x=\"157.127139\" xlink:href=\"#mb6ba12e324\" y=\"54.342996\"/>\r\n     <use style=\"fill:#1f77b4;stroke:#1f77b4;\" x=\"73.573665\" xlink:href=\"#mb6ba12e324\" y=\"114.934701\"/>\r\n     <use style=\"fill:#1f77b4;stroke:#1f77b4;\" x=\"122.61937\" xlink:href=\"#mb6ba12e324\" y=\"86.697669\"/>\r\n     <use style=\"fill:#1f77b4;stroke:#1f77b4;\" x=\"146.689491\" xlink:href=\"#mb6ba12e324\" y=\"70.944135\"/>\r\n     <use style=\"fill:#1f77b4;stroke:#1f77b4;\" x=\"114.371607\" xlink:href=\"#mb6ba12e324\" y=\"107.148443\"/>\r\n     <use style=\"fill:#1f77b4;stroke:#1f77b4;\" x=\"175.969873\" xlink:href=\"#mb6ba12e324\" y=\"58.828642\"/>\r\n     <use style=\"fill:#1f77b4;stroke:#1f77b4;\" x=\"139.765864\" xlink:href=\"#mb6ba12e324\" y=\"63.694029\"/>\r\n     <use style=\"fill:#1f77b4;stroke:#1f77b4;\" x=\"162.083569\" xlink:href=\"#mb6ba12e324\" y=\"55.652317\"/>\r\n     <use style=\"fill:#1f77b4;stroke:#1f77b4;\" x=\"169.760154\" xlink:href=\"#mb6ba12e324\" y=\"60.705987\"/>\r\n     <use style=\"fill:#1f77b4;stroke:#1f77b4;\" x=\"145.053004\" xlink:href=\"#mb6ba12e324\" y=\"80.278168\"/>\r\n     <use style=\"fill:#1f77b4;stroke:#1f77b4;\" x=\"174.952481\" xlink:href=\"#mb6ba12e324\" y=\"46.204169\"/>\r\n     <use style=\"fill:#1f77b4;stroke:#1f77b4;\" x=\"143.827114\" xlink:href=\"#mb6ba12e324\" y=\"77.704733\"/>\r\n     <use style=\"fill:#1f77b4;stroke:#1f77b4;\" x=\"193.921183\" xlink:href=\"#mb6ba12e324\" y=\"48.187373\"/>\r\n     <use style=\"fill:#1f77b4;stroke:#1f77b4;\" x=\"164.35672\" xlink:href=\"#mb6ba12e324\" y=\"59.119286\"/>\r\n     <use style=\"fill:#1f77b4;stroke:#1f77b4;\" x=\"211.079942\" xlink:href=\"#mb6ba12e324\" y=\"23.954043\"/>\r\n     <use style=\"fill:#1f77b4;stroke:#1f77b4;\" x=\"118.205917\" xlink:href=\"#mb6ba12e324\" y=\"74.789196\"/>\r\n     <use style=\"fill:#1f77b4;stroke:#1f77b4;\" x=\"142.998142\" xlink:href=\"#mb6ba12e324\" y=\"65.848392\"/>\r\n     <use style=\"fill:#1f77b4;stroke:#1f77b4;\" x=\"65.835991\" xlink:href=\"#mb6ba12e324\" y=\"116.299906\"/>\r\n     <use style=\"fill:#1f77b4;stroke:#1f77b4;\" x=\"155.752082\" xlink:href=\"#mb6ba12e324\" y=\"69.182238\"/>\r\n     <use style=\"fill:#1f77b4;stroke:#1f77b4;\" x=\"188.794937\" xlink:href=\"#mb6ba12e324\" y=\"38.665589\"/>\r\n     <use style=\"fill:#1f77b4;stroke:#1f77b4;\" x=\"171.629864\" xlink:href=\"#mb6ba12e324\" y=\"60.392072\"/>\r\n     <use style=\"fill:#1f77b4;stroke:#1f77b4;\" x=\"138.067143\" xlink:href=\"#mb6ba12e324\" y=\"64.592174\"/>\r\n     <use style=\"fill:#1f77b4;stroke:#1f77b4;\" x=\"136.436339\" xlink:href=\"#mb6ba12e324\" y=\"83.599504\"/>\r\n     <use style=\"fill:#1f77b4;stroke:#1f77b4;\" x=\"129.445389\" xlink:href=\"#mb6ba12e324\" y=\"101.630837\"/>\r\n     <use style=\"fill:#1f77b4;stroke:#1f77b4;\" x=\"64.207347\" xlink:href=\"#mb6ba12e324\" y=\"136.922727\"/>\r\n     <use style=\"fill:#1f77b4;stroke:#1f77b4;\" x=\"112.431296\" xlink:href=\"#mb6ba12e324\" y=\"84.272653\"/>\r\n     <use style=\"fill:#1f77b4;stroke:#1f77b4;\" x=\"144.110585\" xlink:href=\"#mb6ba12e324\" y=\"75.935895\"/>\r\n     <use style=\"fill:#1f77b4;stroke:#1f77b4;\" x=\"109.798797\" xlink:href=\"#mb6ba12e324\" y=\"93.489011\"/>\r\n     <use style=\"fill:#1f77b4;stroke:#1f77b4;\" x=\"100.593422\" xlink:href=\"#mb6ba12e324\" y=\"91.664071\"/>\r\n     <use style=\"fill:#1f77b4;stroke:#1f77b4;\" x=\"116.176431\" xlink:href=\"#mb6ba12e324\" y=\"81.506274\"/>\r\n     <use style=\"fill:#1f77b4;stroke:#1f77b4;\" x=\"140.261676\" xlink:href=\"#mb6ba12e324\" y=\"85.742663\"/>\r\n     <use style=\"fill:#1f77b4;stroke:#1f77b4;\" x=\"113.508847\" xlink:href=\"#mb6ba12e324\" y=\"92.438982\"/>\r\n     <use style=\"fill:#1f77b4;stroke:#1f77b4;\" x=\"201.324813\" xlink:href=\"#mb6ba12e324\" y=\"29.303124\"/>\r\n     <use style=\"fill:#1f77b4;stroke:#1f77b4;\" x=\"172.167379\" xlink:href=\"#mb6ba12e324\" y=\"52.208839\"/>\r\n     <use style=\"fill:#1f77b4;stroke:#1f77b4;\" x=\"208.679747\" xlink:href=\"#mb6ba12e324\" y=\"34.111705\"/>\r\n     <use style=\"fill:#1f77b4;stroke:#1f77b4;\" x=\"194.671649\" xlink:href=\"#mb6ba12e324\" y=\"24.737657\"/>\r\n     <use style=\"fill:#1f77b4;stroke:#1f77b4;\" x=\"153.635235\" xlink:href=\"#mb6ba12e324\" y=\"59.471664\"/>\r\n     <use style=\"fill:#1f77b4;stroke:#1f77b4;\" x=\"143.047236\" xlink:href=\"#mb6ba12e324\" y=\"72.254932\"/>\r\n     <use style=\"fill:#1f77b4;stroke:#1f77b4;\" x=\"117.668915\" xlink:href=\"#mb6ba12e324\" y=\"82.073053\"/>\r\n     <use style=\"fill:#1f77b4;stroke:#1f77b4;\" x=\"131.647294\" xlink:href=\"#mb6ba12e324\" y=\"90.828872\"/>\r\n     <use style=\"fill:#1f77b4;stroke:#1f77b4;\" x=\"141.534185\" xlink:href=\"#mb6ba12e324\" y=\"75.030585\"/>\r\n     <use style=\"fill:#1f77b4;stroke:#1f77b4;\" x=\"119.055821\" xlink:href=\"#mb6ba12e324\" y=\"87.569851\"/>\r\n     <use style=\"fill:#1f77b4;stroke:#1f77b4;\" x=\"123.079488\" xlink:href=\"#mb6ba12e324\" y=\"85.4189\"/>\r\n     <use style=\"fill:#1f77b4;stroke:#1f77b4;\" x=\"111.551586\" xlink:href=\"#mb6ba12e324\" y=\"72.657216\"/>\r\n     <use style=\"fill:#1f77b4;stroke:#1f77b4;\" x=\"128.91511\" xlink:href=\"#mb6ba12e324\" y=\"89.800927\"/>\r\n     <use style=\"fill:#1f77b4;stroke:#1f77b4;\" x=\"121.103732\" xlink:href=\"#mb6ba12e324\" y=\"83.733108\"/>\r\n     <use style=\"fill:#1f77b4;stroke:#1f77b4;\" x=\"85.591463\" xlink:href=\"#mb6ba12e324\" y=\"117.841672\"/>\r\n     <use style=\"fill:#1f77b4;stroke:#1f77b4;\" x=\"117.302039\" xlink:href=\"#mb6ba12e324\" y=\"76.411416\"/>\r\n     <use style=\"fill:#1f77b4;stroke:#1f77b4;\" x=\"121.300859\" xlink:href=\"#mb6ba12e324\" y=\"87.516849\"/>\r\n     <use style=\"fill:#1f77b4;stroke:#1f77b4;\" x=\"192.898601\" xlink:href=\"#mb6ba12e324\" y=\"30.876241\"/>\r\n     <use style=\"fill:#1f77b4;stroke:#1f77b4;\" x=\"169.452741\" xlink:href=\"#mb6ba12e324\" y=\"37.748252\"/>\r\n     <use style=\"fill:#1f77b4;stroke:#1f77b4;\" x=\"51.623355\" xlink:href=\"#mb6ba12e324\" y=\"132.225201\"/>\r\n     <use style=\"fill:#1f77b4;stroke:#1f77b4;\" x=\"85.592912\" xlink:href=\"#mb6ba12e324\" y=\"91.056126\"/>\r\n     <use style=\"fill:#1f77b4;stroke:#1f77b4;\" x=\"82.821971\" xlink:href=\"#mb6ba12e324\" y=\"130.208699\"/>\r\n     <use style=\"fill:#1f77b4;stroke:#1f77b4;\" x=\"140.366752\" xlink:href=\"#mb6ba12e324\" y=\"58.080042\"/>\r\n     <use style=\"fill:#1f77b4;stroke:#1f77b4;\" x=\"98.319115\" xlink:href=\"#mb6ba12e324\" y=\"103.824831\"/>\r\n     <use style=\"fill:#1f77b4;stroke:#1f77b4;\" x=\"195.271856\" xlink:href=\"#mb6ba12e324\" y=\"18.431947\"/>\r\n     <use style=\"fill:#1f77b4;stroke:#1f77b4;\" x=\"68.8051\" xlink:href=\"#mb6ba12e324\" y=\"117.62067\"/>\r\n     <use style=\"fill:#1f77b4;stroke:#1f77b4;\" x=\"194.094226\" xlink:href=\"#mb6ba12e324\" y=\"46.190003\"/>\r\n     <use style=\"fill:#1f77b4;stroke:#1f77b4;\" x=\"139.993872\" xlink:href=\"#mb6ba12e324\" y=\"77.292696\"/>\r\n     <use style=\"fill:#1f77b4;stroke:#1f77b4;\" x=\"127.014888\" xlink:href=\"#mb6ba12e324\" y=\"84.37268\"/>\r\n     <use style=\"fill:#1f77b4;stroke:#1f77b4;\" x=\"37.81946\" xlink:href=\"#mb6ba12e324\" y=\"135.300586\"/>\r\n     <use style=\"fill:#1f77b4;stroke:#1f77b4;\" x=\"198.041398\" xlink:href=\"#mb6ba12e324\" y=\"40.066464\"/>\r\n     <use style=\"fill:#1f77b4;stroke:#1f77b4;\" x=\"149.107473\" xlink:href=\"#mb6ba12e324\" y=\"75.325823\"/>\r\n     <use style=\"fill:#1f77b4;stroke:#1f77b4;\" x=\"163.079301\" xlink:href=\"#mb6ba12e324\" y=\"75.810518\"/>\r\n     <use style=\"fill:#1f77b4;stroke:#1f77b4;\" x=\"74.250399\" xlink:href=\"#mb6ba12e324\" y=\"100.889667\"/>\r\n     <use style=\"fill:#1f77b4;stroke:#1f77b4;\" x=\"148.619687\" xlink:href=\"#mb6ba12e324\" y=\"70.38812\"/>\r\n     <use style=\"fill:#1f77b4;stroke:#1f77b4;\" x=\"77.720125\" xlink:href=\"#mb6ba12e324\" y=\"111.651904\"/>\r\n     <use style=\"fill:#1f77b4;stroke:#1f77b4;\" x=\"115.596587\" xlink:href=\"#mb6ba12e324\" y=\"86.210296\"/>\r\n     <use style=\"fill:#1f77b4;stroke:#1f77b4;\" x=\"185.58901\" xlink:href=\"#mb6ba12e324\" y=\"39.097457\"/>\r\n     <use style=\"fill:#1f77b4;stroke:#1f77b4;\" x=\"186.086515\" xlink:href=\"#mb6ba12e324\" y=\"41.633197\"/>\r\n     <use style=\"fill:#1f77b4;stroke:#1f77b4;\" x=\"203.686092\" xlink:href=\"#mb6ba12e324\" y=\"34.279016\"/>\r\n     <use style=\"fill:#1f77b4;stroke:#1f77b4;\" x=\"80.931013\" xlink:href=\"#mb6ba12e324\" y=\"97.221806\"/>\r\n     <use style=\"fill:#1f77b4;stroke:#1f77b4;\" x=\"136.819901\" xlink:href=\"#mb6ba12e324\" y=\"60.818315\"/>\r\n     <use style=\"fill:#1f77b4;stroke:#1f77b4;\" x=\"92.535748\" xlink:href=\"#mb6ba12e324\" y=\"108.638507\"/>\r\n     <use style=\"fill:#1f77b4;stroke:#1f77b4;\" x=\"144.389506\" xlink:href=\"#mb6ba12e324\" y=\"73.007291\"/>\r\n     <use style=\"fill:#1f77b4;stroke:#1f77b4;\" x=\"162.738238\" xlink:href=\"#mb6ba12e324\" y=\"51.533204\"/>\r\n     <use style=\"fill:#1f77b4;stroke:#1f77b4;\" x=\"117.857597\" xlink:href=\"#mb6ba12e324\" y=\"92.158448\"/>\r\n     <use style=\"fill:#1f77b4;stroke:#1f77b4;\" x=\"122.722176\" xlink:href=\"#mb6ba12e324\" y=\"78.738625\"/>\r\n     <use style=\"fill:#1f77b4;stroke:#1f77b4;\" x=\"205.436397\" xlink:href=\"#mb6ba12e324\" y=\"38.886577\"/>\r\n     <use style=\"fill:#1f77b4;stroke:#1f77b4;\" x=\"98.878655\" xlink:href=\"#mb6ba12e324\" y=\"95.54022\"/>\r\n     <use style=\"fill:#1f77b4;stroke:#1f77b4;\" x=\"204.390809\" xlink:href=\"#mb6ba12e324\" y=\"13.377273\"/>\r\n     <use style=\"fill:#1f77b4;stroke:#1f77b4;\" x=\"128.632623\" xlink:href=\"#mb6ba12e324\" y=\"92.501183\"/>\r\n     <use style=\"fill:#1f77b4;stroke:#1f77b4;\" x=\"114.18272\" xlink:href=\"#mb6ba12e324\" y=\"109.139783\"/>\r\n     <use style=\"fill:#1f77b4;stroke:#1f77b4;\" x=\"113.05195\" xlink:href=\"#mb6ba12e324\" y=\"93.563562\"/>\r\n     <use style=\"fill:#1f77b4;stroke:#1f77b4;\" x=\"118.485166\" xlink:href=\"#mb6ba12e324\" y=\"100.302582\"/>\r\n     <use style=\"fill:#1f77b4;stroke:#1f77b4;\" x=\"110.509071\" xlink:href=\"#mb6ba12e324\" y=\"95.205139\"/>\r\n     <use style=\"fill:#1f77b4;stroke:#1f77b4;\" x=\"185.972997\" xlink:href=\"#mb6ba12e324\" y=\"53.984096\"/>\r\n     <use style=\"fill:#1f77b4;stroke:#1f77b4;\" x=\"145.168678\" xlink:href=\"#mb6ba12e324\" y=\"72.458186\"/>\r\n     <use style=\"fill:#1f77b4;stroke:#1f77b4;\" x=\"215.364915\" xlink:href=\"#mb6ba12e324\" y=\"42.343151\"/>\r\n     <use style=\"fill:#1f77b4;stroke:#1f77b4;\" x=\"106.198563\" xlink:href=\"#mb6ba12e324\" y=\"92.159744\"/>\r\n     <use style=\"fill:#1f77b4;stroke:#1f77b4;\" x=\"102.86479\" xlink:href=\"#mb6ba12e324\" y=\"115.344037\"/>\r\n     <use style=\"fill:#1f77b4;stroke:#1f77b4;\" x=\"167.494054\" xlink:href=\"#mb6ba12e324\" y=\"48.932877\"/>\r\n     <use style=\"fill:#1f77b4;stroke:#1f77b4;\" x=\"190.300872\" xlink:href=\"#mb6ba12e324\" y=\"32.570865\"/>\r\n     <use style=\"fill:#1f77b4;stroke:#1f77b4;\" x=\"100.697628\" xlink:href=\"#mb6ba12e324\" y=\"99.154808\"/>\r\n     <use style=\"fill:#1f77b4;stroke:#1f77b4;\" x=\"117.53958\" xlink:href=\"#mb6ba12e324\" y=\"92.781127\"/>\r\n    </g>\r\n   </g>\r\n   <g id=\"matplotlib.axis_1\">\r\n    <g id=\"xtick_1\">\r\n     <g id=\"line2d_1\">\r\n      <defs>\r\n       <path d=\"M 0 0 \r\nL 0 3.5 \r\n\" id=\"mfd7b476505\" style=\"stroke:#000000;stroke-width:0.8;\"/>\r\n      </defs>\r\n      <g>\r\n       <use style=\"stroke:#000000;stroke-width:0.8;\" x=\"53.75727\" xlink:href=\"#mfd7b476505\" y=\"143.1\"/>\r\n      </g>\r\n     </g>\r\n     <g id=\"text_1\">\r\n      <!-- −1 -->\r\n      <g transform=\"translate(46.386177 157.698438)scale(0.1 -0.1)\">\r\n       <defs>\r\n        <path d=\"M 10.59375 35.5 \r\nL 73.1875 35.5 \r\nL 73.1875 27.203125 \r\nL 10.59375 27.203125 \r\nz\r\n\" id=\"DejaVuSans-8722\"/>\r\n        <path d=\"M 12.40625 8.296875 \r\nL 28.515625 8.296875 \r\nL 28.515625 63.921875 \r\nL 10.984375 60.40625 \r\nL 10.984375 69.390625 \r\nL 28.421875 72.90625 \r\nL 38.28125 72.90625 \r\nL 38.28125 8.296875 \r\nL 54.390625 8.296875 \r\nL 54.390625 0 \r\nL 12.40625 0 \r\nz\r\n\" id=\"DejaVuSans-49\"/>\r\n       </defs>\r\n       <use xlink:href=\"#DejaVuSans-8722\"/>\r\n       <use x=\"83.789062\" xlink:href=\"#DejaVuSans-49\"/>\r\n      </g>\r\n     </g>\r\n    </g>\r\n    <g id=\"xtick_2\">\r\n     <g id=\"line2d_2\">\r\n      <g>\r\n       <use style=\"stroke:#000000;stroke-width:0.8;\" x=\"96.398422\" xlink:href=\"#mfd7b476505\" y=\"143.1\"/>\r\n      </g>\r\n     </g>\r\n     <g id=\"text_2\">\r\n      <!-- 0 -->\r\n      <g transform=\"translate(93.217172 157.698438)scale(0.1 -0.1)\">\r\n       <defs>\r\n        <path d=\"M 31.78125 66.40625 \r\nQ 24.171875 66.40625 20.328125 58.90625 \r\nQ 16.5 51.421875 16.5 36.375 \r\nQ 16.5 21.390625 20.328125 13.890625 \r\nQ 24.171875 6.390625 31.78125 6.390625 \r\nQ 39.453125 6.390625 43.28125 13.890625 \r\nQ 47.125 21.390625 47.125 36.375 \r\nQ 47.125 51.421875 43.28125 58.90625 \r\nQ 39.453125 66.40625 31.78125 66.40625 \r\nz\r\nM 31.78125 74.21875 \r\nQ 44.046875 74.21875 50.515625 64.515625 \r\nQ 56.984375 54.828125 56.984375 36.375 \r\nQ 56.984375 17.96875 50.515625 8.265625 \r\nQ 44.046875 -1.421875 31.78125 -1.421875 \r\nQ 19.53125 -1.421875 13.0625 8.265625 \r\nQ 6.59375 17.96875 6.59375 36.375 \r\nQ 6.59375 54.828125 13.0625 64.515625 \r\nQ 19.53125 74.21875 31.78125 74.21875 \r\nz\r\n\" id=\"DejaVuSans-48\"/>\r\n       </defs>\r\n       <use xlink:href=\"#DejaVuSans-48\"/>\r\n      </g>\r\n     </g>\r\n    </g>\r\n    <g id=\"xtick_3\">\r\n     <g id=\"line2d_3\">\r\n      <g>\r\n       <use style=\"stroke:#000000;stroke-width:0.8;\" x=\"139.039573\" xlink:href=\"#mfd7b476505\" y=\"143.1\"/>\r\n      </g>\r\n     </g>\r\n     <g id=\"text_3\">\r\n      <!-- 1 -->\r\n      <g transform=\"translate(135.858323 157.698438)scale(0.1 -0.1)\">\r\n       <use xlink:href=\"#DejaVuSans-49\"/>\r\n      </g>\r\n     </g>\r\n    </g>\r\n    <g id=\"xtick_4\">\r\n     <g id=\"line2d_4\">\r\n      <g>\r\n       <use style=\"stroke:#000000;stroke-width:0.8;\" x=\"181.680725\" xlink:href=\"#mfd7b476505\" y=\"143.1\"/>\r\n      </g>\r\n     </g>\r\n     <g id=\"text_4\">\r\n      <!-- 2 -->\r\n      <g transform=\"translate(178.499475 157.698438)scale(0.1 -0.1)\">\r\n       <defs>\r\n        <path d=\"M 19.1875 8.296875 \r\nL 53.609375 8.296875 \r\nL 53.609375 0 \r\nL 7.328125 0 \r\nL 7.328125 8.296875 \r\nQ 12.9375 14.109375 22.625 23.890625 \r\nQ 32.328125 33.6875 34.8125 36.53125 \r\nQ 39.546875 41.84375 41.421875 45.53125 \r\nQ 43.3125 49.21875 43.3125 52.78125 \r\nQ 43.3125 58.59375 39.234375 62.25 \r\nQ 35.15625 65.921875 28.609375 65.921875 \r\nQ 23.96875 65.921875 18.8125 64.3125 \r\nQ 13.671875 62.703125 7.8125 59.421875 \r\nL 7.8125 69.390625 \r\nQ 13.765625 71.78125 18.9375 73 \r\nQ 24.125 74.21875 28.421875 74.21875 \r\nQ 39.75 74.21875 46.484375 68.546875 \r\nQ 53.21875 62.890625 53.21875 53.421875 \r\nQ 53.21875 48.921875 51.53125 44.890625 \r\nQ 49.859375 40.875 45.40625 35.40625 \r\nQ 44.1875 33.984375 37.640625 27.21875 \r\nQ 31.109375 20.453125 19.1875 8.296875 \r\nz\r\n\" id=\"DejaVuSans-50\"/>\r\n       </defs>\r\n       <use xlink:href=\"#DejaVuSans-50\"/>\r\n      </g>\r\n     </g>\r\n    </g>\r\n   </g>\r\n   <g id=\"matplotlib.axis_2\">\r\n    <g id=\"ytick_1\">\r\n     <g id=\"line2d_5\">\r\n      <defs>\r\n       <path d=\"M 0 0 \r\nL -3.5 0 \r\n\" id=\"maa6a339efa\" style=\"stroke:#000000;stroke-width:0.8;\"/>\r\n      </defs>\r\n      <g>\r\n       <use style=\"stroke:#000000;stroke-width:0.8;\" x=\"28.942188\" xlink:href=\"#maa6a339efa\" y=\"134.677835\"/>\r\n      </g>\r\n     </g>\r\n     <g id=\"text_5\">\r\n      <!-- −2 -->\r\n      <g transform=\"translate(7.2 138.477053)scale(0.1 -0.1)\">\r\n       <use xlink:href=\"#DejaVuSans-8722\"/>\r\n       <use x=\"83.789062\" xlink:href=\"#DejaVuSans-50\"/>\r\n      </g>\r\n     </g>\r\n    </g>\r\n    <g id=\"ytick_2\">\r\n     <g id=\"line2d_6\">\r\n      <g>\r\n       <use style=\"stroke:#000000;stroke-width:0.8;\" x=\"28.942188\" xlink:href=\"#maa6a339efa\" y=\"104.924902\"/>\r\n      </g>\r\n     </g>\r\n     <g id=\"text_6\">\r\n      <!-- 0 -->\r\n      <g transform=\"translate(15.579688 108.724121)scale(0.1 -0.1)\">\r\n       <use xlink:href=\"#DejaVuSans-48\"/>\r\n      </g>\r\n     </g>\r\n    </g>\r\n    <g id=\"ytick_3\">\r\n     <g id=\"line2d_7\">\r\n      <g>\r\n       <use style=\"stroke:#000000;stroke-width:0.8;\" x=\"28.942188\" xlink:href=\"#maa6a339efa\" y=\"75.171969\"/>\r\n      </g>\r\n     </g>\r\n     <g id=\"text_7\">\r\n      <!-- 2 -->\r\n      <g transform=\"translate(15.579688 78.971188)scale(0.1 -0.1)\">\r\n       <use xlink:href=\"#DejaVuSans-50\"/>\r\n      </g>\r\n     </g>\r\n    </g>\r\n    <g id=\"ytick_4\">\r\n     <g id=\"line2d_8\">\r\n      <g>\r\n       <use style=\"stroke:#000000;stroke-width:0.8;\" x=\"28.942188\" xlink:href=\"#maa6a339efa\" y=\"45.419036\"/>\r\n      </g>\r\n     </g>\r\n     <g id=\"text_8\">\r\n      <!-- 4 -->\r\n      <g transform=\"translate(15.579688 49.218255)scale(0.1 -0.1)\">\r\n       <defs>\r\n        <path d=\"M 37.796875 64.3125 \r\nL 12.890625 25.390625 \r\nL 37.796875 25.390625 \r\nz\r\nM 35.203125 72.90625 \r\nL 47.609375 72.90625 \r\nL 47.609375 25.390625 \r\nL 58.015625 25.390625 \r\nL 58.015625 17.1875 \r\nL 47.609375 17.1875 \r\nL 47.609375 0 \r\nL 37.796875 0 \r\nL 37.796875 17.1875 \r\nL 4.890625 17.1875 \r\nL 4.890625 26.703125 \r\nz\r\n\" id=\"DejaVuSans-52\"/>\r\n       </defs>\r\n       <use xlink:href=\"#DejaVuSans-52\"/>\r\n      </g>\r\n     </g>\r\n    </g>\r\n    <g id=\"ytick_5\">\r\n     <g id=\"line2d_9\">\r\n      <g>\r\n       <use style=\"stroke:#000000;stroke-width:0.8;\" x=\"28.942188\" xlink:href=\"#maa6a339efa\" y=\"15.666103\"/>\r\n      </g>\r\n     </g>\r\n     <g id=\"text_9\">\r\n      <!-- 6 -->\r\n      <g transform=\"translate(15.579688 19.465322)scale(0.1 -0.1)\">\r\n       <defs>\r\n        <path d=\"M 33.015625 40.375 \r\nQ 26.375 40.375 22.484375 35.828125 \r\nQ 18.609375 31.296875 18.609375 23.390625 \r\nQ 18.609375 15.53125 22.484375 10.953125 \r\nQ 26.375 6.390625 33.015625 6.390625 \r\nQ 39.65625 6.390625 43.53125 10.953125 \r\nQ 47.40625 15.53125 47.40625 23.390625 \r\nQ 47.40625 31.296875 43.53125 35.828125 \r\nQ 39.65625 40.375 33.015625 40.375 \r\nz\r\nM 52.59375 71.296875 \r\nL 52.59375 62.3125 \r\nQ 48.875 64.0625 45.09375 64.984375 \r\nQ 41.3125 65.921875 37.59375 65.921875 \r\nQ 27.828125 65.921875 22.671875 59.328125 \r\nQ 17.53125 52.734375 16.796875 39.40625 \r\nQ 19.671875 43.65625 24.015625 45.921875 \r\nQ 28.375 48.1875 33.59375 48.1875 \r\nQ 44.578125 48.1875 50.953125 41.515625 \r\nQ 57.328125 34.859375 57.328125 23.390625 \r\nQ 57.328125 12.15625 50.6875 5.359375 \r\nQ 44.046875 -1.421875 33.015625 -1.421875 \r\nQ 20.359375 -1.421875 13.671875 8.265625 \r\nQ 6.984375 17.96875 6.984375 36.375 \r\nQ 6.984375 53.65625 15.1875 63.9375 \r\nQ 23.390625 74.21875 37.203125 74.21875 \r\nQ 40.921875 74.21875 44.703125 73.484375 \r\nQ 48.484375 72.75 52.59375 71.296875 \r\nz\r\n\" id=\"DejaVuSans-54\"/>\r\n       </defs>\r\n       <use xlink:href=\"#DejaVuSans-54\"/>\r\n      </g>\r\n     </g>\r\n    </g>\r\n   </g>\r\n   <g id=\"patch_3\">\r\n    <path d=\"M 28.942188 143.1 \r\nL 28.942188 7.2 \r\n\" style=\"fill:none;stroke:#000000;stroke-linecap:square;stroke-linejoin:miter;stroke-width:0.8;\"/>\r\n   </g>\r\n   <g id=\"patch_4\">\r\n    <path d=\"M 224.242188 143.1 \r\nL 224.242188 7.2 \r\n\" style=\"fill:none;stroke:#000000;stroke-linecap:square;stroke-linejoin:miter;stroke-width:0.8;\"/>\r\n   </g>\r\n   <g id=\"patch_5\">\r\n    <path d=\"M 28.942188 143.1 \r\nL 224.242188 143.1 \r\n\" style=\"fill:none;stroke:#000000;stroke-linecap:square;stroke-linejoin:miter;stroke-width:0.8;\"/>\r\n   </g>\r\n   <g id=\"patch_6\">\r\n    <path d=\"M 28.942188 7.2 \r\nL 224.242188 7.2 \r\n\" style=\"fill:none;stroke:#000000;stroke-linecap:square;stroke-linejoin:miter;stroke-width:0.8;\"/>\r\n   </g>\r\n  </g>\r\n </g>\r\n <defs>\r\n  <clipPath id=\"pf268a88e9e\">\r\n   <rect height=\"135.9\" width=\"195.3\" x=\"28.942188\" y=\"7.2\"/>\r\n  </clipPath>\r\n </defs>\r\n</svg>\r\n"
     },
     "metadata": {
      "needs_background": "light"
     }
    }
   ],
   "source": [
    "d2l.set_figsize()\n",
    "d2l.plt.scatter(d2l.numpy(data[:100, 0]), d2l.numpy(data[:100, 1]));\n",
    "print(f'The covariance matrix is\\n{d2l.matmul(tf.transpose(A), A)}')"
   ]
  },
  {
   "cell_type": "code",
   "execution_count": 5,
   "metadata": {},
   "outputs": [],
   "source": [
    "batch_size = 8\n",
    "data_iter = d2l.load_array((data,), batch_size)"
   ]
  },
  {
   "cell_type": "code",
   "execution_count": 6,
   "metadata": {},
   "outputs": [],
   "source": [
    "net_G = tf.keras.Sequential()\n",
    "net_G.add(tf.keras.layers.Dense(2))"
   ]
  },
  {
   "cell_type": "markdown",
   "metadata": {},
   "source": [
    "tf.keras.activations.tanh(a)\n",
    "https://www.tensorflow.org/api_docs/python/tf/keras/activations/tanh\n"
   ]
  },
  {
   "cell_type": "code",
   "execution_count": 7,
   "metadata": {},
   "outputs": [],
   "source": [
    "net_D = tf.keras.Sequential()\n",
    "net_D.add(tf.keras.layers.Dense(5, activation='tanh'))\n",
    "net_D.add(tf.keras.layers.Dense(3, activation='tanh'))\n",
    "net_D.add(tf.keras.layers.Dense(1))"
   ]
  },
  {
   "cell_type": "markdown",
   "metadata": {},
   "source": [
    "with tf.GradientTape() as t:\n",
    "http://preview.d2l.ai/d2l-en/master/chapter_preliminaries/autograd.html\n"
   ]
  },
  {
   "cell_type": "markdown",
   "metadata": {},
   "source": [
    "t.gradient(y, x) \n",
    "t.gradient(loss_D, trainer_D) "
   ]
  },
  {
   "cell_type": "code",
   "execution_count": 8,
   "metadata": {},
   "outputs": [],
   "source": [
    "#@save\n",
    "def update_D(X, Z, net_D, net_G, loss, trainer_D):\n",
    "    \"\"\"Update discriminator.\"\"\"\n",
    "    batch_size = np.array(X).shape[0]\n",
    "    ones = tf.ones((batch_size,), tf.float32)\n",
    "    zeros = tf.zeros((batch_size,), tf.float32)\n",
    "    with tf.GradientTape() as t:\n",
    "        real_Y = net_D(tf.convert_to_tensor(X))\n",
    "        fake_X = net_G(tf.convert_to_tensor(Z))\n",
    "        # Do not need to compute gradient for `net_G`, detach it from\n",
    "        # computing gradients.\n",
    "        fake_Y = net_D(tf.stop_gradient(fake_X))\n",
    "        loss_D = (loss(real_Y, ones) + loss(fake_Y, zeros)) / 2\n",
    "    t.gradient(loss_D, net_D.trainable_variables) \n",
    "    trainer_D.train_on_batch(batch_size)\n",
    "    return float(loss_D.sum())"
   ]
  },
  {
   "cell_type": "code",
   "execution_count": 9,
   "metadata": {},
   "outputs": [],
   "source": [
    "#@save\n",
    "def update_G(Z, net_D, net_G, loss, trainer_G):\n",
    "    \"\"\"Update generator.\"\"\"\n",
    "    batch_size = np.array(Z).shape[0]\n",
    "    ones = tf.ones((batch_size,), tf.float32)\n",
    "    with tf.GradientTape() as t:\n",
    "        # We could reuse `fake_X` from `update_D` to save computation\n",
    "        fake_X = net_G(tf.convert_to_tensor(Z))\n",
    "        # Recomputing `fake_Y` is needed since `net_D` is changed\n",
    "        fake_Y = net_D(tf.stop_gradient(fake_X))\n",
    "        loss_G = loss(fake_Y, ones)\n",
    "    t.gradient(loss_G, net_G.trainable_variables) \n",
    "    trainer_G.train_on_batch(batch_size)\n",
    "    return float(loss_G.sum())"
   ]
  },
  {
   "cell_type": "markdown",
   "metadata": {},
   "source": [
    "https://www.google.com/search?q=numpy()+tensorflow&rlz=1C1GCEA_enJP909HK909&oq=numpy()+tensorflow&aqs=chrome..69i57j0l7.2792j0j1&sourceid=chrome&ie=UTF-8"
   ]
  },
  {
   "cell_type": "markdown",
   "metadata": {},
   "source": [
    "https://www.tensorflow.org/api_docs/python/tf/keras/optimizers/Adam\n",
    "tf.keras.optimizers.Adam(learning_rate=0.1)\n",
    "m.compile\n",
    "m = tf.keras.models.Sequential([tf.keras.layers.Dense(10)])\n",
    "m.compile(opt, loss='mse')"
   ]
  },
  {
   "cell_type": "markdown",
   "metadata": {},
   "source": [
    "https://stackoverflow.com/questions/55683729/bcewithlogitsloss-in-keras\n",
    "https://www.tensorflow.org/api_docs/python/tf/keras/losses/BinaryCrossentropy\n"
   ]
  },
  {
   "cell_type": "markdown",
   "metadata": {},
   "source": [
    "def weight_variable(shape, w=0.1):\n",
    "  initial = tf.truncated_normal(shape, stddev=w)\n",
    "  return tf.Variable(initial)\n",
    "  https://stackoverflow.com/questions/43489697/tensorflow-weight-initialization\n",
    "\n",
    "  The values generated are similar to values from a tf.keras.initializers.RandomNormal initializer except that values more than two standard deviations from the mean are discarded and re-drawn.\n",
    "  https://keras.io/api/layers/initializers/"
   ]
  },
  {
   "cell_type": "markdown",
   "metadata": {},
   "source": [
    "tf.Variable(initial_value=w_init(\n",
    "            shape=(input_dim, unit), dtype=tf.float32), trainable=True)\n",
    "            https://zhuanlan.zhihu.com/p/59481536"
   ]
  },
  {
   "cell_type": "markdown",
   "metadata": {},
   "source": [
    "https://keras.io/api/layers/initializers/"
   ]
  },
  {
   "cell_type": "markdown",
   "metadata": {},
   "source": [
    "numpy.array\n",
    "https://stackoverflow.com/questions/41198144/attributeerror-tuple-object-has-no-attribute-shape"
   ]
  },
  {
   "cell_type": "markdown",
   "metadata": {},
   "source": [
    "https://github.com/tensorflow/tensorflow/issues/29972"
   ]
  },
  {
   "cell_type": "markdown",
   "metadata": {},
   "source": [
    "tf.stop_gradient(y)\n",
    "http://preview.d2l.ai/d2l-en/master/chapter_preliminaries/autograd.html?highlight=detach"
   ]
  },
  {
   "cell_type": "markdown",
   "metadata": {},
   "source": [
    " from_logits=True 9.2.4 TensorFlow 2.0 神经网络实践"
   ]
  },
  {
   "cell_type": "code",
   "execution_count": 10,
   "metadata": {},
   "outputs": [],
   "source": [
    "def train(net_D, net_G, data_iter, num_epochs, lr_D, lr_G, latent_dim, data):\n",
    "    loss = tf.keras.losses.BinaryCrossentropy(reduction=\n",
    "                    tf.keras.losses.Reduction.SUM)\n",
    "    tf.keras.initializers.RandomNormal(net_D, stddev=0.02)\n",
    "    tf.keras.initializers.RandomNormal(net_G, stddev=0.02)\n",
    "    trainer_D = net_D.compile(tf.keras.optimizers.Adam(learning_rate=lr_D), loss=loss)\n",
    "    trainer_G = net_G.compile(tf.keras.optimizers.Adam(learning_rate=lr_G), loss=loss)\n",
    "    animator = d2l.Animator(xlabel='epoch', ylabel='loss',\n",
    "                            xlim=[1, num_epochs], nrows=2, figsize=(5, 5),\n",
    "                            legend=['discriminator', 'generator'])\n",
    "    animator.fig.subplots_adjust(hspace=0.3)\n",
    "    for epoch in range(num_epochs):\n",
    "        # Train one epoch\n",
    "        timer = d2l.Timer()\n",
    "        metric = d2l.Accumulator(3)  # loss_D, loss_G, num_examples\n",
    "        for X in data_iter:\n",
    "            batch_size = np.array(X).shape[0]\n",
    "            Z = d2l.normal([batch_size, latent_dim], 0, 1, tf.float32)\n",
    "            metric.add(update_D(X, Z, net_D, net_G, loss, trainer_D),\n",
    "                       update_G(Z, net_D, net_G, loss, trainer_G),\n",
    "                       batch_size)\n",
    "        # Visualize generated examples\n",
    "        Z = d2l.normal([100, latent_dim], 0, 1, tf.float32)\n",
    "        fake_X = net_G(Z).Tensor.numpy()\n",
    "        animator.axes[1].cla()\n",
    "        animator.axes[1].scatter(data[:, 0], data[:, 1])\n",
    "        animator.axes[1].scatter(fake_X[:, 0], fake_X[:, 1])\n",
    "        animator.axes[1].legend(['real', 'generated'])\n",
    "        # Show the losses\n",
    "        loss_D, loss_G = metric[0]/metric[2], metric[1]/metric[2]\n",
    "        animator.add(epoch + 1, (loss_D, loss_G))\n",
    "    print(f'loss_D {loss_D:.3f}, loss_G {loss_G:.3f}, '\n",
    "          f'{metric[2] / timer.stop():.1f} examples/sec')"
   ]
  },
  {
   "cell_type": "code",
   "execution_count": 11,
   "metadata": {
    "tags": []
   },
   "outputs": [
    {
     "output_type": "error",
     "ename": "AttributeError",
     "evalue": "'NoneType' object has no attribute 'train_on_batch'",
     "traceback": [
      "\u001b[1;31m---------------------------------------------------------------------------\u001b[0m",
      "\u001b[1;31mAttributeError\u001b[0m                            Traceback (most recent call last)",
      "\u001b[1;32m<ipython-input-11-251159593cac>\u001b[0m in \u001b[0;36m<module>\u001b[1;34m\u001b[0m\n\u001b[0;32m      1\u001b[0m \u001b[0mlr_D\u001b[0m\u001b[1;33m,\u001b[0m \u001b[0mlr_G\u001b[0m\u001b[1;33m,\u001b[0m \u001b[0mlatent_dim\u001b[0m\u001b[1;33m,\u001b[0m \u001b[0mnum_epochs\u001b[0m \u001b[1;33m=\u001b[0m \u001b[1;36m0.05\u001b[0m\u001b[1;33m,\u001b[0m \u001b[1;36m0.005\u001b[0m\u001b[1;33m,\u001b[0m \u001b[1;36m2\u001b[0m\u001b[1;33m,\u001b[0m \u001b[1;36m20\u001b[0m\u001b[1;33m\u001b[0m\u001b[1;33m\u001b[0m\u001b[0m\n\u001b[0;32m      2\u001b[0m train(net_D, net_G, data_iter, num_epochs, lr_D, lr_G,\n\u001b[1;32m----> 3\u001b[1;33m       latent_dim, d2l.numpy(data[:100]))\n\u001b[0m",
      "\u001b[1;32m<ipython-input-10-fb2e44b40e46>\u001b[0m in \u001b[0;36mtrain\u001b[1;34m(net_D, net_G, data_iter, num_epochs, lr_D, lr_G, latent_dim, data)\u001b[0m\n\u001b[0;32m     17\u001b[0m             \u001b[0mbatch_size\u001b[0m \u001b[1;33m=\u001b[0m \u001b[0mnp\u001b[0m\u001b[1;33m.\u001b[0m\u001b[0marray\u001b[0m\u001b[1;33m(\u001b[0m\u001b[0mX\u001b[0m\u001b[1;33m)\u001b[0m\u001b[1;33m.\u001b[0m\u001b[0mshape\u001b[0m\u001b[1;33m[\u001b[0m\u001b[1;36m0\u001b[0m\u001b[1;33m]\u001b[0m\u001b[1;33m\u001b[0m\u001b[1;33m\u001b[0m\u001b[0m\n\u001b[0;32m     18\u001b[0m             \u001b[0mZ\u001b[0m \u001b[1;33m=\u001b[0m \u001b[0md2l\u001b[0m\u001b[1;33m.\u001b[0m\u001b[0mnormal\u001b[0m\u001b[1;33m(\u001b[0m\u001b[1;33m[\u001b[0m\u001b[0mbatch_size\u001b[0m\u001b[1;33m,\u001b[0m \u001b[0mlatent_dim\u001b[0m\u001b[1;33m]\u001b[0m\u001b[1;33m,\u001b[0m \u001b[1;36m0\u001b[0m\u001b[1;33m,\u001b[0m \u001b[1;36m1\u001b[0m\u001b[1;33m,\u001b[0m \u001b[0mtf\u001b[0m\u001b[1;33m.\u001b[0m\u001b[0mfloat32\u001b[0m\u001b[1;33m)\u001b[0m\u001b[1;33m\u001b[0m\u001b[1;33m\u001b[0m\u001b[0m\n\u001b[1;32m---> 19\u001b[1;33m             metric.add(update_D(X, Z, net_D, net_G, loss, trainer_D),\n\u001b[0m\u001b[0;32m     20\u001b[0m                        \u001b[0mupdate_G\u001b[0m\u001b[1;33m(\u001b[0m\u001b[0mZ\u001b[0m\u001b[1;33m,\u001b[0m \u001b[0mnet_D\u001b[0m\u001b[1;33m,\u001b[0m \u001b[0mnet_G\u001b[0m\u001b[1;33m,\u001b[0m \u001b[0mloss\u001b[0m\u001b[1;33m,\u001b[0m \u001b[0mtrainer_G\u001b[0m\u001b[1;33m)\u001b[0m\u001b[1;33m,\u001b[0m\u001b[1;33m\u001b[0m\u001b[1;33m\u001b[0m\u001b[0m\n\u001b[0;32m     21\u001b[0m                        batch_size)\n",
      "\u001b[1;32m<ipython-input-8-9dc8b20b3f4a>\u001b[0m in \u001b[0;36mupdate_D\u001b[1;34m(X, Z, net_D, net_G, loss, trainer_D)\u001b[0m\n\u001b[0;32m     13\u001b[0m         \u001b[0mloss_D\u001b[0m \u001b[1;33m=\u001b[0m \u001b[1;33m(\u001b[0m\u001b[0mloss\u001b[0m\u001b[1;33m(\u001b[0m\u001b[0mreal_Y\u001b[0m\u001b[1;33m,\u001b[0m \u001b[0mones\u001b[0m\u001b[1;33m)\u001b[0m \u001b[1;33m+\u001b[0m \u001b[0mloss\u001b[0m\u001b[1;33m(\u001b[0m\u001b[0mfake_Y\u001b[0m\u001b[1;33m,\u001b[0m \u001b[0mzeros\u001b[0m\u001b[1;33m)\u001b[0m\u001b[1;33m)\u001b[0m \u001b[1;33m/\u001b[0m \u001b[1;36m2\u001b[0m\u001b[1;33m\u001b[0m\u001b[1;33m\u001b[0m\u001b[0m\n\u001b[0;32m     14\u001b[0m     \u001b[0mt\u001b[0m\u001b[1;33m.\u001b[0m\u001b[0mgradient\u001b[0m\u001b[1;33m(\u001b[0m\u001b[0mloss_D\u001b[0m\u001b[1;33m,\u001b[0m \u001b[0mnet_D\u001b[0m\u001b[1;33m.\u001b[0m\u001b[0mtrainable_variables\u001b[0m\u001b[1;33m)\u001b[0m\u001b[1;33m\u001b[0m\u001b[1;33m\u001b[0m\u001b[0m\n\u001b[1;32m---> 15\u001b[1;33m     \u001b[0mtrainer_D\u001b[0m\u001b[1;33m.\u001b[0m\u001b[0mtrain_on_batch\u001b[0m\u001b[1;33m(\u001b[0m\u001b[0mbatch_size\u001b[0m\u001b[1;33m)\u001b[0m\u001b[1;33m\u001b[0m\u001b[1;33m\u001b[0m\u001b[0m\n\u001b[0m\u001b[0;32m     16\u001b[0m     \u001b[1;32mreturn\u001b[0m \u001b[0mfloat\u001b[0m\u001b[1;33m(\u001b[0m\u001b[0mloss_D\u001b[0m\u001b[1;33m.\u001b[0m\u001b[0msum\u001b[0m\u001b[1;33m(\u001b[0m\u001b[1;33m)\u001b[0m\u001b[1;33m)\u001b[0m\u001b[1;33m\u001b[0m\u001b[1;33m\u001b[0m\u001b[0m\n",
      "\u001b[1;31mAttributeError\u001b[0m: 'NoneType' object has no attribute 'train_on_batch'"
     ]
    }
   ],
   "source": [
    "lr_D, lr_G, latent_dim, num_epochs = 0.05, 0.005, 2, 20\n",
    "train(net_D, net_G, data_iter, num_epochs, lr_D, lr_G,\n",
    "      latent_dim, d2l.numpy(data[:100]))"
   ]
  },
  {
   "cell_type": "markdown",
   "metadata": {},
   "source": [
    "https://www.tensorflow.org/api_docs/python/tf/ones"
   ]
  }
 ]
}