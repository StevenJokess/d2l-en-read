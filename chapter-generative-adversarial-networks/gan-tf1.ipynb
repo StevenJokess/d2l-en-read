{
 "metadata": {
  "language_info": {
   "codemirror_mode": {
    "name": "ipython",
    "version": 3
   },
   "file_extension": ".py",
   "mimetype": "text/x-python",
   "name": "python",
   "nbconvert_exporter": "python",
   "pygments_lexer": "ipython3",
   "version": "3.7.8-final"
  },
  "orig_nbformat": 2,
  "kernelspec": {
   "name": "python37864bittf2conda1de394c9651a4d19aa25641a40b8d2d8",
   "display_name": "Python 3.7.8 64-bit ('tf2': conda)"
  }
 },
 "nbformat": 4,
 "nbformat_minor": 2,
 "cells": [
  {
   "cell_type": "markdown",
   "metadata": {},
   "source": [
    "http://preview.d2l.ai/d2l-en/master/chapter_generative-adversarial-networks/gan.html"
   ]
  },
  {
   "cell_type": "code",
   "execution_count": 1,
   "metadata": {},
   "outputs": [],
   "source": [
    "%matplotlib inline\n",
    "from d2l import tensorflow as d2l\n",
    "import tensorflow as tf\n",
    "import numpy as np"
   ]
  },
  {
   "cell_type": "markdown",
   "metadata": {},
   "source": [
    "https://www.tensorflow.org/api_docs/python/tf/random/normal"
   ]
  },
  {
   "cell_type": "markdown",
   "metadata": {},
   "source": [
    "https://www.tensorflow.org/api_docs/python/tf/norm"
   ]
  },
  {
   "cell_type": "code",
   "execution_count": 2,
   "metadata": {},
   "outputs": [],
   "source": [
    "X = d2l.normal([1000, 2], 0.0, 1, tf.float32)"
   ]
  },
  {
   "cell_type": "code",
   "execution_count": 3,
   "metadata": {},
   "outputs": [],
   "source": [
    "A = d2l.tensor([[1, 2], [-0.1, 0.5]], tf.float32)\n",
    "b = d2l.tensor([1, 2], tf.float32)\n",
    "data = d2l.matmul(X, A) + b"
   ]
  },
  {
   "cell_type": "code",
   "execution_count": 4,
   "metadata": {
    "tags": []
   },
   "outputs": [
    {
     "output_type": "stream",
     "name": "stdout",
     "text": "The covariance matrix is\n[[1.01 1.95]\n [1.95 4.25]]\n"
    },
    {
     "output_type": "display_data",
     "data": {
      "text/plain": "<Figure size 252x180 with 1 Axes>",
      "image/svg+xml": "<?xml version=\"1.0\" encoding=\"utf-8\" standalone=\"no\"?>\r\n<!DOCTYPE svg PUBLIC \"-//W3C//DTD SVG 1.1//EN\"\r\n  \"http://www.w3.org/Graphics/SVG/1.1/DTD/svg11.dtd\">\r\n<!-- Created with matplotlib (https://matplotlib.org/) -->\r\n<svg height=\"166.978125pt\" version=\"1.1\" viewBox=\"0 0 231.442187 166.978125\" width=\"231.442187pt\" xmlns=\"http://www.w3.org/2000/svg\" xmlns:xlink=\"http://www.w3.org/1999/xlink\">\r\n <metadata>\r\n  <rdf:RDF xmlns:cc=\"http://creativecommons.org/ns#\" xmlns:dc=\"http://purl.org/dc/elements/1.1/\" xmlns:rdf=\"http://www.w3.org/1999/02/22-rdf-syntax-ns#\">\r\n   <cc:Work>\r\n    <dc:type rdf:resource=\"http://purl.org/dc/dcmitype/StillImage\"/>\r\n    <dc:date>2020-09-03T23:19:07.782914</dc:date>\r\n    <dc:format>image/svg+xml</dc:format>\r\n    <dc:creator>\r\n     <cc:Agent>\r\n      <dc:title>Matplotlib v3.3.1, https://matplotlib.org/</dc:title>\r\n     </cc:Agent>\r\n    </dc:creator>\r\n   </cc:Work>\r\n  </rdf:RDF>\r\n </metadata>\r\n <defs>\r\n  <style type=\"text/css\">*{stroke-linecap:butt;stroke-linejoin:round;}</style>\r\n </defs>\r\n <g id=\"figure_1\">\r\n  <g id=\"patch_1\">\r\n   <path d=\"M 0 166.978125 \r\nL 231.442187 166.978125 \r\nL 231.442187 0 \r\nL 0 0 \r\nz\r\n\" style=\"fill:none;\"/>\r\n  </g>\r\n  <g id=\"axes_1\">\r\n   <g id=\"patch_2\">\r\n    <path d=\"M 28.942188 143.1 \r\nL 224.242188 143.1 \r\nL 224.242188 7.2 \r\nL 28.942188 7.2 \r\nz\r\n\" style=\"fill:#ffffff;\"/>\r\n   </g>\r\n   <g id=\"PathCollection_1\">\r\n    <defs>\r\n     <path d=\"M 0 3 \r\nC 0.795609 3 1.55874 2.683901 2.12132 2.12132 \r\nC 2.683901 1.55874 3 0.795609 3 0 \r\nC 3 -0.795609 2.683901 -1.55874 2.12132 -2.12132 \r\nC 1.55874 -2.683901 0.795609 -3 0 -3 \r\nC -0.795609 -3 -1.55874 -2.683901 -2.12132 -2.12132 \r\nC -2.683901 -1.55874 -3 -0.795609 -3 0 \r\nC -3 0.795609 -2.683901 1.55874 -2.12132 2.12132 \r\nC -1.55874 2.683901 -0.795609 3 0 3 \r\nz\r\n\" id=\"m4b35cfce1f\" style=\"stroke:#1f77b4;\"/>\r\n    </defs>\r\n    <g clip-path=\"url(#p39a1a0d5bf)\">\r\n     <use style=\"fill:#1f77b4;stroke:#1f77b4;\" x=\"178.597137\" xlink:href=\"#m4b35cfce1f\" y=\"44.754761\"/>\r\n     <use style=\"fill:#1f77b4;stroke:#1f77b4;\" x=\"73.358912\" xlink:href=\"#m4b35cfce1f\" y=\"118.264693\"/>\r\n     <use style=\"fill:#1f77b4;stroke:#1f77b4;\" x=\"173.356254\" xlink:href=\"#m4b35cfce1f\" y=\"42.817431\"/>\r\n     <use style=\"fill:#1f77b4;stroke:#1f77b4;\" x=\"157.834299\" xlink:href=\"#m4b35cfce1f\" y=\"71.90912\"/>\r\n     <use style=\"fill:#1f77b4;stroke:#1f77b4;\" x=\"75.61273\" xlink:href=\"#m4b35cfce1f\" y=\"113.50329\"/>\r\n     <use style=\"fill:#1f77b4;stroke:#1f77b4;\" x=\"148.863237\" xlink:href=\"#m4b35cfce1f\" y=\"54.397704\"/>\r\n     <use style=\"fill:#1f77b4;stroke:#1f77b4;\" x=\"179.747026\" xlink:href=\"#m4b35cfce1f\" y=\"25.026829\"/>\r\n     <use style=\"fill:#1f77b4;stroke:#1f77b4;\" x=\"153.390316\" xlink:href=\"#m4b35cfce1f\" y=\"52.688799\"/>\r\n     <use style=\"fill:#1f77b4;stroke:#1f77b4;\" x=\"92.55494\" xlink:href=\"#m4b35cfce1f\" y=\"108.718523\"/>\r\n     <use style=\"fill:#1f77b4;stroke:#1f77b4;\" x=\"85.964706\" xlink:href=\"#m4b35cfce1f\" y=\"90.528589\"/>\r\n     <use style=\"fill:#1f77b4;stroke:#1f77b4;\" x=\"37.81946\" xlink:href=\"#m4b35cfce1f\" y=\"136.922727\"/>\r\n     <use style=\"fill:#1f77b4;stroke:#1f77b4;\" x=\"103.101691\" xlink:href=\"#m4b35cfce1f\" y=\"93.703001\"/>\r\n     <use style=\"fill:#1f77b4;stroke:#1f77b4;\" x=\"119.78686\" xlink:href=\"#m4b35cfce1f\" y=\"86.349282\"/>\r\n     <use style=\"fill:#1f77b4;stroke:#1f77b4;\" x=\"84.120515\" xlink:href=\"#m4b35cfce1f\" y=\"123.882789\"/>\r\n     <use style=\"fill:#1f77b4;stroke:#1f77b4;\" x=\"109.663382\" xlink:href=\"#m4b35cfce1f\" y=\"95.224439\"/>\r\n     <use style=\"fill:#1f77b4;stroke:#1f77b4;\" x=\"126.799901\" xlink:href=\"#m4b35cfce1f\" y=\"79.621337\"/>\r\n     <use style=\"fill:#1f77b4;stroke:#1f77b4;\" x=\"167.215492\" xlink:href=\"#m4b35cfce1f\" y=\"55.073091\"/>\r\n     <use style=\"fill:#1f77b4;stroke:#1f77b4;\" x=\"124.673712\" xlink:href=\"#m4b35cfce1f\" y=\"71.839197\"/>\r\n     <use style=\"fill:#1f77b4;stroke:#1f77b4;\" x=\"174.757646\" xlink:href=\"#m4b35cfce1f\" y=\"46.701613\"/>\r\n     <use style=\"fill:#1f77b4;stroke:#1f77b4;\" x=\"114.283127\" xlink:href=\"#m4b35cfce1f\" y=\"82.191636\"/>\r\n     <use style=\"fill:#1f77b4;stroke:#1f77b4;\" x=\"202.385927\" xlink:href=\"#m4b35cfce1f\" y=\"24.310517\"/>\r\n     <use style=\"fill:#1f77b4;stroke:#1f77b4;\" x=\"155.806066\" xlink:href=\"#m4b35cfce1f\" y=\"55.923638\"/>\r\n     <use style=\"fill:#1f77b4;stroke:#1f77b4;\" x=\"132.790121\" xlink:href=\"#m4b35cfce1f\" y=\"76.434463\"/>\r\n     <use style=\"fill:#1f77b4;stroke:#1f77b4;\" x=\"123.446382\" xlink:href=\"#m4b35cfce1f\" y=\"69.177922\"/>\r\n     <use style=\"fill:#1f77b4;stroke:#1f77b4;\" x=\"68.519836\" xlink:href=\"#m4b35cfce1f\" y=\"101.43998\"/>\r\n     <use style=\"fill:#1f77b4;stroke:#1f77b4;\" x=\"126.808112\" xlink:href=\"#m4b35cfce1f\" y=\"79.366618\"/>\r\n     <use style=\"fill:#1f77b4;stroke:#1f77b4;\" x=\"125.352076\" xlink:href=\"#m4b35cfce1f\" y=\"86.130737\"/>\r\n     <use style=\"fill:#1f77b4;stroke:#1f77b4;\" x=\"98.782935\" xlink:href=\"#m4b35cfce1f\" y=\"93.207248\"/>\r\n     <use style=\"fill:#1f77b4;stroke:#1f77b4;\" x=\"138.138211\" xlink:href=\"#m4b35cfce1f\" y=\"93.03757\"/>\r\n     <use style=\"fill:#1f77b4;stroke:#1f77b4;\" x=\"119.323606\" xlink:href=\"#m4b35cfce1f\" y=\"75.989305\"/>\r\n     <use style=\"fill:#1f77b4;stroke:#1f77b4;\" x=\"163.195349\" xlink:href=\"#m4b35cfce1f\" y=\"61.977217\"/>\r\n     <use style=\"fill:#1f77b4;stroke:#1f77b4;\" x=\"54.119698\" xlink:href=\"#m4b35cfce1f\" y=\"116.871511\"/>\r\n     <use style=\"fill:#1f77b4;stroke:#1f77b4;\" x=\"121.593985\" xlink:href=\"#m4b35cfce1f\" y=\"83.973102\"/>\r\n     <use style=\"fill:#1f77b4;stroke:#1f77b4;\" x=\"200.839308\" xlink:href=\"#m4b35cfce1f\" y=\"13.377273\"/>\r\n     <use style=\"fill:#1f77b4;stroke:#1f77b4;\" x=\"95.050916\" xlink:href=\"#m4b35cfce1f\" y=\"96.340905\"/>\r\n     <use style=\"fill:#1f77b4;stroke:#1f77b4;\" x=\"95.0717\" xlink:href=\"#m4b35cfce1f\" y=\"90.135444\"/>\r\n     <use style=\"fill:#1f77b4;stroke:#1f77b4;\" x=\"101.718443\" xlink:href=\"#m4b35cfce1f\" y=\"91.765366\"/>\r\n     <use style=\"fill:#1f77b4;stroke:#1f77b4;\" x=\"141.636044\" xlink:href=\"#m4b35cfce1f\" y=\"61.760011\"/>\r\n     <use style=\"fill:#1f77b4;stroke:#1f77b4;\" x=\"100.338206\" xlink:href=\"#m4b35cfce1f\" y=\"101.197311\"/>\r\n     <use style=\"fill:#1f77b4;stroke:#1f77b4;\" x=\"101.123305\" xlink:href=\"#m4b35cfce1f\" y=\"93.008159\"/>\r\n     <use style=\"fill:#1f77b4;stroke:#1f77b4;\" x=\"178.935975\" xlink:href=\"#m4b35cfce1f\" y=\"44.750744\"/>\r\n     <use style=\"fill:#1f77b4;stroke:#1f77b4;\" x=\"95.249884\" xlink:href=\"#m4b35cfce1f\" y=\"88.591657\"/>\r\n     <use style=\"fill:#1f77b4;stroke:#1f77b4;\" x=\"169.849446\" xlink:href=\"#m4b35cfce1f\" y=\"44.717239\"/>\r\n     <use style=\"fill:#1f77b4;stroke:#1f77b4;\" x=\"128.049802\" xlink:href=\"#m4b35cfce1f\" y=\"76.188159\"/>\r\n     <use style=\"fill:#1f77b4;stroke:#1f77b4;\" x=\"119.381279\" xlink:href=\"#m4b35cfce1f\" y=\"87.31387\"/>\r\n     <use style=\"fill:#1f77b4;stroke:#1f77b4;\" x=\"141.056274\" xlink:href=\"#m4b35cfce1f\" y=\"62.620866\"/>\r\n     <use style=\"fill:#1f77b4;stroke:#1f77b4;\" x=\"139.552864\" xlink:href=\"#m4b35cfce1f\" y=\"63.458969\"/>\r\n     <use style=\"fill:#1f77b4;stroke:#1f77b4;\" x=\"108.749706\" xlink:href=\"#m4b35cfce1f\" y=\"78.229088\"/>\r\n     <use style=\"fill:#1f77b4;stroke:#1f77b4;\" x=\"68.941464\" xlink:href=\"#m4b35cfce1f\" y=\"107.141389\"/>\r\n     <use style=\"fill:#1f77b4;stroke:#1f77b4;\" x=\"145.481884\" xlink:href=\"#m4b35cfce1f\" y=\"83.326076\"/>\r\n     <use style=\"fill:#1f77b4;stroke:#1f77b4;\" x=\"215.364915\" xlink:href=\"#m4b35cfce1f\" y=\"22.433905\"/>\r\n     <use style=\"fill:#1f77b4;stroke:#1f77b4;\" x=\"152.320702\" xlink:href=\"#m4b35cfce1f\" y=\"49.517214\"/>\r\n     <use style=\"fill:#1f77b4;stroke:#1f77b4;\" x=\"128.88641\" xlink:href=\"#m4b35cfce1f\" y=\"60.876072\"/>\r\n     <use style=\"fill:#1f77b4;stroke:#1f77b4;\" x=\"68.92439\" xlink:href=\"#m4b35cfce1f\" y=\"104.582968\"/>\r\n     <use style=\"fill:#1f77b4;stroke:#1f77b4;\" x=\"147.595021\" xlink:href=\"#m4b35cfce1f\" y=\"61.977005\"/>\r\n     <use style=\"fill:#1f77b4;stroke:#1f77b4;\" x=\"147.482242\" xlink:href=\"#m4b35cfce1f\" y=\"64.692715\"/>\r\n     <use style=\"fill:#1f77b4;stroke:#1f77b4;\" x=\"150.928241\" xlink:href=\"#m4b35cfce1f\" y=\"50.435057\"/>\r\n     <use style=\"fill:#1f77b4;stroke:#1f77b4;\" x=\"68.495904\" xlink:href=\"#m4b35cfce1f\" y=\"115.414131\"/>\r\n     <use style=\"fill:#1f77b4;stroke:#1f77b4;\" x=\"151.921832\" xlink:href=\"#m4b35cfce1f\" y=\"65.390763\"/>\r\n     <use style=\"fill:#1f77b4;stroke:#1f77b4;\" x=\"135.599864\" xlink:href=\"#m4b35cfce1f\" y=\"72.863298\"/>\r\n     <use style=\"fill:#1f77b4;stroke:#1f77b4;\" x=\"128.029405\" xlink:href=\"#m4b35cfce1f\" y=\"63.821473\"/>\r\n     <use style=\"fill:#1f77b4;stroke:#1f77b4;\" x=\"129.477285\" xlink:href=\"#m4b35cfce1f\" y=\"75.409911\"/>\r\n     <use style=\"fill:#1f77b4;stroke:#1f77b4;\" x=\"186.198127\" xlink:href=\"#m4b35cfce1f\" y=\"45.442685\"/>\r\n     <use style=\"fill:#1f77b4;stroke:#1f77b4;\" x=\"130.9055\" xlink:href=\"#m4b35cfce1f\" y=\"54.948495\"/>\r\n     <use style=\"fill:#1f77b4;stroke:#1f77b4;\" x=\"110.636569\" xlink:href=\"#m4b35cfce1f\" y=\"85.877847\"/>\r\n     <use style=\"fill:#1f77b4;stroke:#1f77b4;\" x=\"99.991893\" xlink:href=\"#m4b35cfce1f\" y=\"96.222102\"/>\r\n     <use style=\"fill:#1f77b4;stroke:#1f77b4;\" x=\"155.074014\" xlink:href=\"#m4b35cfce1f\" y=\"59.513902\"/>\r\n     <use style=\"fill:#1f77b4;stroke:#1f77b4;\" x=\"130.169408\" xlink:href=\"#m4b35cfce1f\" y=\"65.443148\"/>\r\n     <use style=\"fill:#1f77b4;stroke:#1f77b4;\" x=\"137.774537\" xlink:href=\"#m4b35cfce1f\" y=\"78.009826\"/>\r\n     <use style=\"fill:#1f77b4;stroke:#1f77b4;\" x=\"206.596939\" xlink:href=\"#m4b35cfce1f\" y=\"25.688877\"/>\r\n     <use style=\"fill:#1f77b4;stroke:#1f77b4;\" x=\"117.086017\" xlink:href=\"#m4b35cfce1f\" y=\"73.225781\"/>\r\n     <use style=\"fill:#1f77b4;stroke:#1f77b4;\" x=\"95.842064\" xlink:href=\"#m4b35cfce1f\" y=\"103.370381\"/>\r\n     <use style=\"fill:#1f77b4;stroke:#1f77b4;\" x=\"128.610908\" xlink:href=\"#m4b35cfce1f\" y=\"62.320775\"/>\r\n     <use style=\"fill:#1f77b4;stroke:#1f77b4;\" x=\"150.572351\" xlink:href=\"#m4b35cfce1f\" y=\"49.324247\"/>\r\n     <use style=\"fill:#1f77b4;stroke:#1f77b4;\" x=\"133.686765\" xlink:href=\"#m4b35cfce1f\" y=\"71.906753\"/>\r\n     <use style=\"fill:#1f77b4;stroke:#1f77b4;\" x=\"100.787154\" xlink:href=\"#m4b35cfce1f\" y=\"88.768585\"/>\r\n     <use style=\"fill:#1f77b4;stroke:#1f77b4;\" x=\"164.438546\" xlink:href=\"#m4b35cfce1f\" y=\"59.907835\"/>\r\n     <use style=\"fill:#1f77b4;stroke:#1f77b4;\" x=\"111.230513\" xlink:href=\"#m4b35cfce1f\" y=\"83.317717\"/>\r\n     <use style=\"fill:#1f77b4;stroke:#1f77b4;\" x=\"189.579975\" xlink:href=\"#m4b35cfce1f\" y=\"36.325096\"/>\r\n     <use style=\"fill:#1f77b4;stroke:#1f77b4;\" x=\"186.214944\" xlink:href=\"#m4b35cfce1f\" y=\"36.165033\"/>\r\n     <use style=\"fill:#1f77b4;stroke:#1f77b4;\" x=\"128.179378\" xlink:href=\"#m4b35cfce1f\" y=\"81.980081\"/>\r\n     <use style=\"fill:#1f77b4;stroke:#1f77b4;\" x=\"74.062333\" xlink:href=\"#m4b35cfce1f\" y=\"112.86197\"/>\r\n     <use style=\"fill:#1f77b4;stroke:#1f77b4;\" x=\"133.87367\" xlink:href=\"#m4b35cfce1f\" y=\"81.820908\"/>\r\n     <use style=\"fill:#1f77b4;stroke:#1f77b4;\" x=\"138.661007\" xlink:href=\"#m4b35cfce1f\" y=\"72.741835\"/>\r\n     <use style=\"fill:#1f77b4;stroke:#1f77b4;\" x=\"139.444668\" xlink:href=\"#m4b35cfce1f\" y=\"69.530143\"/>\r\n     <use style=\"fill:#1f77b4;stroke:#1f77b4;\" x=\"94.02149\" xlink:href=\"#m4b35cfce1f\" y=\"84.208845\"/>\r\n     <use style=\"fill:#1f77b4;stroke:#1f77b4;\" x=\"182.604302\" xlink:href=\"#m4b35cfce1f\" y=\"42.876979\"/>\r\n     <use style=\"fill:#1f77b4;stroke:#1f77b4;\" x=\"107.643067\" xlink:href=\"#m4b35cfce1f\" y=\"86.182161\"/>\r\n     <use style=\"fill:#1f77b4;stroke:#1f77b4;\" x=\"118.333963\" xlink:href=\"#m4b35cfce1f\" y=\"68.568371\"/>\r\n     <use style=\"fill:#1f77b4;stroke:#1f77b4;\" x=\"173.735257\" xlink:href=\"#m4b35cfce1f\" y=\"38.43027\"/>\r\n     <use style=\"fill:#1f77b4;stroke:#1f77b4;\" x=\"93.454685\" xlink:href=\"#m4b35cfce1f\" y=\"80.787166\"/>\r\n     <use style=\"fill:#1f77b4;stroke:#1f77b4;\" x=\"119.410616\" xlink:href=\"#m4b35cfce1f\" y=\"70.325907\"/>\r\n     <use style=\"fill:#1f77b4;stroke:#1f77b4;\" x=\"149.621406\" xlink:href=\"#m4b35cfce1f\" y=\"47.274738\"/>\r\n     <use style=\"fill:#1f77b4;stroke:#1f77b4;\" x=\"120.002443\" xlink:href=\"#m4b35cfce1f\" y=\"67.756049\"/>\r\n     <use style=\"fill:#1f77b4;stroke:#1f77b4;\" x=\"158.748888\" xlink:href=\"#m4b35cfce1f\" y=\"66.308998\"/>\r\n     <use style=\"fill:#1f77b4;stroke:#1f77b4;\" x=\"144.922799\" xlink:href=\"#m4b35cfce1f\" y=\"53.11613\"/>\r\n     <use style=\"fill:#1f77b4;stroke:#1f77b4;\" x=\"134.993135\" xlink:href=\"#m4b35cfce1f\" y=\"57.282091\"/>\r\n     <use style=\"fill:#1f77b4;stroke:#1f77b4;\" x=\"128.173427\" xlink:href=\"#m4b35cfce1f\" y=\"73.305162\"/>\r\n     <use style=\"fill:#1f77b4;stroke:#1f77b4;\" x=\"101.449639\" xlink:href=\"#m4b35cfce1f\" y=\"78.596792\"/>\r\n     <use style=\"fill:#1f77b4;stroke:#1f77b4;\" x=\"147.550215\" xlink:href=\"#m4b35cfce1f\" y=\"74.899806\"/>\r\n    </g>\r\n   </g>\r\n   <g id=\"matplotlib.axis_1\">\r\n    <g id=\"xtick_1\">\r\n     <g id=\"line2d_1\">\r\n      <defs>\r\n       <path d=\"M 0 0 \r\nL 0 3.5 \r\n\" id=\"mc7af289328\" style=\"stroke:#000000;stroke-width:0.8;\"/>\r\n      </defs>\r\n      <g>\r\n       <use style=\"stroke:#000000;stroke-width:0.8;\" x=\"62.138921\" xlink:href=\"#mc7af289328\" y=\"143.1\"/>\r\n      </g>\r\n     </g>\r\n     <g id=\"text_1\">\r\n      <!-- −1 -->\r\n      <g transform=\"translate(54.767827 157.698438)scale(0.1 -0.1)\">\r\n       <defs>\r\n        <path d=\"M 10.59375 35.5 \r\nL 73.1875 35.5 \r\nL 73.1875 27.203125 \r\nL 10.59375 27.203125 \r\nz\r\n\" id=\"DejaVuSans-8722\"/>\r\n        <path d=\"M 12.40625 8.296875 \r\nL 28.515625 8.296875 \r\nL 28.515625 63.921875 \r\nL 10.984375 60.40625 \r\nL 10.984375 69.390625 \r\nL 28.421875 72.90625 \r\nL 38.28125 72.90625 \r\nL 38.28125 8.296875 \r\nL 54.390625 8.296875 \r\nL 54.390625 0 \r\nL 12.40625 0 \r\nz\r\n\" id=\"DejaVuSans-49\"/>\r\n       </defs>\r\n       <use xlink:href=\"#DejaVuSans-8722\"/>\r\n       <use x=\"83.789062\" xlink:href=\"#DejaVuSans-49\"/>\r\n      </g>\r\n     </g>\r\n    </g>\r\n    <g id=\"xtick_2\">\r\n     <g id=\"line2d_2\">\r\n      <g>\r\n       <use style=\"stroke:#000000;stroke-width:0.8;\" x=\"99.860341\" xlink:href=\"#mc7af289328\" y=\"143.1\"/>\r\n      </g>\r\n     </g>\r\n     <g id=\"text_2\">\r\n      <!-- 0 -->\r\n      <g transform=\"translate(96.679091 157.698438)scale(0.1 -0.1)\">\r\n       <defs>\r\n        <path d=\"M 31.78125 66.40625 \r\nQ 24.171875 66.40625 20.328125 58.90625 \r\nQ 16.5 51.421875 16.5 36.375 \r\nQ 16.5 21.390625 20.328125 13.890625 \r\nQ 24.171875 6.390625 31.78125 6.390625 \r\nQ 39.453125 6.390625 43.28125 13.890625 \r\nQ 47.125 21.390625 47.125 36.375 \r\nQ 47.125 51.421875 43.28125 58.90625 \r\nQ 39.453125 66.40625 31.78125 66.40625 \r\nz\r\nM 31.78125 74.21875 \r\nQ 44.046875 74.21875 50.515625 64.515625 \r\nQ 56.984375 54.828125 56.984375 36.375 \r\nQ 56.984375 17.96875 50.515625 8.265625 \r\nQ 44.046875 -1.421875 31.78125 -1.421875 \r\nQ 19.53125 -1.421875 13.0625 8.265625 \r\nQ 6.59375 17.96875 6.59375 36.375 \r\nQ 6.59375 54.828125 13.0625 64.515625 \r\nQ 19.53125 74.21875 31.78125 74.21875 \r\nz\r\n\" id=\"DejaVuSans-48\"/>\r\n       </defs>\r\n       <use xlink:href=\"#DejaVuSans-48\"/>\r\n      </g>\r\n     </g>\r\n    </g>\r\n    <g id=\"xtick_3\">\r\n     <g id=\"line2d_3\">\r\n      <g>\r\n       <use style=\"stroke:#000000;stroke-width:0.8;\" x=\"137.581762\" xlink:href=\"#mc7af289328\" y=\"143.1\"/>\r\n      </g>\r\n     </g>\r\n     <g id=\"text_3\">\r\n      <!-- 1 -->\r\n      <g transform=\"translate(134.400512 157.698438)scale(0.1 -0.1)\">\r\n       <use xlink:href=\"#DejaVuSans-49\"/>\r\n      </g>\r\n     </g>\r\n    </g>\r\n    <g id=\"xtick_4\">\r\n     <g id=\"line2d_4\">\r\n      <g>\r\n       <use style=\"stroke:#000000;stroke-width:0.8;\" x=\"175.303182\" xlink:href=\"#mc7af289328\" y=\"143.1\"/>\r\n      </g>\r\n     </g>\r\n     <g id=\"text_4\">\r\n      <!-- 2 -->\r\n      <g transform=\"translate(172.121932 157.698438)scale(0.1 -0.1)\">\r\n       <defs>\r\n        <path d=\"M 19.1875 8.296875 \r\nL 53.609375 8.296875 \r\nL 53.609375 0 \r\nL 7.328125 0 \r\nL 7.328125 8.296875 \r\nQ 12.9375 14.109375 22.625 23.890625 \r\nQ 32.328125 33.6875 34.8125 36.53125 \r\nQ 39.546875 41.84375 41.421875 45.53125 \r\nQ 43.3125 49.21875 43.3125 52.78125 \r\nQ 43.3125 58.59375 39.234375 62.25 \r\nQ 35.15625 65.921875 28.609375 65.921875 \r\nQ 23.96875 65.921875 18.8125 64.3125 \r\nQ 13.671875 62.703125 7.8125 59.421875 \r\nL 7.8125 69.390625 \r\nQ 13.765625 71.78125 18.9375 73 \r\nQ 24.125 74.21875 28.421875 74.21875 \r\nQ 39.75 74.21875 46.484375 68.546875 \r\nQ 53.21875 62.890625 53.21875 53.421875 \r\nQ 53.21875 48.921875 51.53125 44.890625 \r\nQ 49.859375 40.875 45.40625 35.40625 \r\nQ 44.1875 33.984375 37.640625 27.21875 \r\nQ 31.109375 20.453125 19.1875 8.296875 \r\nz\r\n\" id=\"DejaVuSans-50\"/>\r\n       </defs>\r\n       <use xlink:href=\"#DejaVuSans-50\"/>\r\n      </g>\r\n     </g>\r\n    </g>\r\n    <g id=\"xtick_5\">\r\n     <g id=\"line2d_5\">\r\n      <g>\r\n       <use style=\"stroke:#000000;stroke-width:0.8;\" x=\"213.024602\" xlink:href=\"#mc7af289328\" y=\"143.1\"/>\r\n      </g>\r\n     </g>\r\n     <g id=\"text_5\">\r\n      <!-- 3 -->\r\n      <g transform=\"translate(209.843352 157.698438)scale(0.1 -0.1)\">\r\n       <defs>\r\n        <path d=\"M 40.578125 39.3125 \r\nQ 47.65625 37.796875 51.625 33 \r\nQ 55.609375 28.21875 55.609375 21.1875 \r\nQ 55.609375 10.40625 48.1875 4.484375 \r\nQ 40.765625 -1.421875 27.09375 -1.421875 \r\nQ 22.515625 -1.421875 17.65625 -0.515625 \r\nQ 12.796875 0.390625 7.625 2.203125 \r\nL 7.625 11.71875 \r\nQ 11.71875 9.328125 16.59375 8.109375 \r\nQ 21.484375 6.890625 26.8125 6.890625 \r\nQ 36.078125 6.890625 40.9375 10.546875 \r\nQ 45.796875 14.203125 45.796875 21.1875 \r\nQ 45.796875 27.640625 41.28125 31.265625 \r\nQ 36.765625 34.90625 28.71875 34.90625 \r\nL 20.21875 34.90625 \r\nL 20.21875 43.015625 \r\nL 29.109375 43.015625 \r\nQ 36.375 43.015625 40.234375 45.921875 \r\nQ 44.09375 48.828125 44.09375 54.296875 \r\nQ 44.09375 59.90625 40.109375 62.90625 \r\nQ 36.140625 65.921875 28.71875 65.921875 \r\nQ 24.65625 65.921875 20.015625 65.03125 \r\nQ 15.375 64.15625 9.8125 62.3125 \r\nL 9.8125 71.09375 \r\nQ 15.4375 72.65625 20.34375 73.4375 \r\nQ 25.25 74.21875 29.59375 74.21875 \r\nQ 40.828125 74.21875 47.359375 69.109375 \r\nQ 53.90625 64.015625 53.90625 55.328125 \r\nQ 53.90625 49.265625 50.4375 45.09375 \r\nQ 46.96875 40.921875 40.578125 39.3125 \r\nz\r\n\" id=\"DejaVuSans-51\"/>\r\n       </defs>\r\n       <use xlink:href=\"#DejaVuSans-51\"/>\r\n      </g>\r\n     </g>\r\n    </g>\r\n   </g>\r\n   <g id=\"matplotlib.axis_2\">\r\n    <g id=\"ytick_1\">\r\n     <g id=\"line2d_6\">\r\n      <defs>\r\n       <path d=\"M 0 0 \r\nL -3.5 0 \r\n\" id=\"mdd90826130\" style=\"stroke:#000000;stroke-width:0.8;\"/>\r\n      </defs>\r\n      <g>\r\n       <use style=\"stroke:#000000;stroke-width:0.8;\" x=\"28.942188\" xlink:href=\"#mdd90826130\" y=\"143.047988\"/>\r\n      </g>\r\n     </g>\r\n     <g id=\"text_6\">\r\n      <!-- −4 -->\r\n      <g transform=\"translate(7.2 146.847207)scale(0.1 -0.1)\">\r\n       <defs>\r\n        <path d=\"M 37.796875 64.3125 \r\nL 12.890625 25.390625 \r\nL 37.796875 25.390625 \r\nz\r\nM 35.203125 72.90625 \r\nL 47.609375 72.90625 \r\nL 47.609375 25.390625 \r\nL 58.015625 25.390625 \r\nL 58.015625 17.1875 \r\nL 47.609375 17.1875 \r\nL 47.609375 0 \r\nL 37.796875 0 \r\nL 37.796875 17.1875 \r\nL 4.890625 17.1875 \r\nL 4.890625 26.703125 \r\nz\r\n\" id=\"DejaVuSans-52\"/>\r\n       </defs>\r\n       <use xlink:href=\"#DejaVuSans-8722\"/>\r\n       <use x=\"83.789062\" xlink:href=\"#DejaVuSans-52\"/>\r\n      </g>\r\n     </g>\r\n    </g>\r\n    <g id=\"ytick_2\">\r\n     <g id=\"line2d_7\">\r\n      <g>\r\n       <use style=\"stroke:#000000;stroke-width:0.8;\" x=\"28.942188\" xlink:href=\"#mdd90826130\" y=\"117.960071\"/>\r\n      </g>\r\n     </g>\r\n     <g id=\"text_7\">\r\n      <!-- −2 -->\r\n      <g transform=\"translate(7.2 121.75929)scale(0.1 -0.1)\">\r\n       <use xlink:href=\"#DejaVuSans-8722\"/>\r\n       <use x=\"83.789062\" xlink:href=\"#DejaVuSans-50\"/>\r\n      </g>\r\n     </g>\r\n    </g>\r\n    <g id=\"ytick_3\">\r\n     <g id=\"line2d_8\">\r\n      <g>\r\n       <use style=\"stroke:#000000;stroke-width:0.8;\" x=\"28.942188\" xlink:href=\"#mdd90826130\" y=\"92.872154\"/>\r\n      </g>\r\n     </g>\r\n     <g id=\"text_8\">\r\n      <!-- 0 -->\r\n      <g transform=\"translate(15.579688 96.671372)scale(0.1 -0.1)\">\r\n       <use xlink:href=\"#DejaVuSans-48\"/>\r\n      </g>\r\n     </g>\r\n    </g>\r\n    <g id=\"ytick_4\">\r\n     <g id=\"line2d_9\">\r\n      <g>\r\n       <use style=\"stroke:#000000;stroke-width:0.8;\" x=\"28.942188\" xlink:href=\"#mdd90826130\" y=\"67.784236\"/>\r\n      </g>\r\n     </g>\r\n     <g id=\"text_9\">\r\n      <!-- 2 -->\r\n      <g transform=\"translate(15.579688 71.583455)scale(0.1 -0.1)\">\r\n       <use xlink:href=\"#DejaVuSans-50\"/>\r\n      </g>\r\n     </g>\r\n    </g>\r\n    <g id=\"ytick_5\">\r\n     <g id=\"line2d_10\">\r\n      <g>\r\n       <use style=\"stroke:#000000;stroke-width:0.8;\" x=\"28.942188\" xlink:href=\"#mdd90826130\" y=\"42.696319\"/>\r\n      </g>\r\n     </g>\r\n     <g id=\"text_10\">\r\n      <!-- 4 -->\r\n      <g transform=\"translate(15.579688 46.495538)scale(0.1 -0.1)\">\r\n       <use xlink:href=\"#DejaVuSans-52\"/>\r\n      </g>\r\n     </g>\r\n    </g>\r\n    <g id=\"ytick_6\">\r\n     <g id=\"line2d_11\">\r\n      <g>\r\n       <use style=\"stroke:#000000;stroke-width:0.8;\" x=\"28.942188\" xlink:href=\"#mdd90826130\" y=\"17.608402\"/>\r\n      </g>\r\n     </g>\r\n     <g id=\"text_11\">\r\n      <!-- 6 -->\r\n      <g transform=\"translate(15.579688 21.40762)scale(0.1 -0.1)\">\r\n       <defs>\r\n        <path d=\"M 33.015625 40.375 \r\nQ 26.375 40.375 22.484375 35.828125 \r\nQ 18.609375 31.296875 18.609375 23.390625 \r\nQ 18.609375 15.53125 22.484375 10.953125 \r\nQ 26.375 6.390625 33.015625 6.390625 \r\nQ 39.65625 6.390625 43.53125 10.953125 \r\nQ 47.40625 15.53125 47.40625 23.390625 \r\nQ 47.40625 31.296875 43.53125 35.828125 \r\nQ 39.65625 40.375 33.015625 40.375 \r\nz\r\nM 52.59375 71.296875 \r\nL 52.59375 62.3125 \r\nQ 48.875 64.0625 45.09375 64.984375 \r\nQ 41.3125 65.921875 37.59375 65.921875 \r\nQ 27.828125 65.921875 22.671875 59.328125 \r\nQ 17.53125 52.734375 16.796875 39.40625 \r\nQ 19.671875 43.65625 24.015625 45.921875 \r\nQ 28.375 48.1875 33.59375 48.1875 \r\nQ 44.578125 48.1875 50.953125 41.515625 \r\nQ 57.328125 34.859375 57.328125 23.390625 \r\nQ 57.328125 12.15625 50.6875 5.359375 \r\nQ 44.046875 -1.421875 33.015625 -1.421875 \r\nQ 20.359375 -1.421875 13.671875 8.265625 \r\nQ 6.984375 17.96875 6.984375 36.375 \r\nQ 6.984375 53.65625 15.1875 63.9375 \r\nQ 23.390625 74.21875 37.203125 74.21875 \r\nQ 40.921875 74.21875 44.703125 73.484375 \r\nQ 48.484375 72.75 52.59375 71.296875 \r\nz\r\n\" id=\"DejaVuSans-54\"/>\r\n       </defs>\r\n       <use xlink:href=\"#DejaVuSans-54\"/>\r\n      </g>\r\n     </g>\r\n    </g>\r\n   </g>\r\n   <g id=\"patch_3\">\r\n    <path d=\"M 28.942188 143.1 \r\nL 28.942188 7.2 \r\n\" style=\"fill:none;stroke:#000000;stroke-linecap:square;stroke-linejoin:miter;stroke-width:0.8;\"/>\r\n   </g>\r\n   <g id=\"patch_4\">\r\n    <path d=\"M 224.242188 143.1 \r\nL 224.242188 7.2 \r\n\" style=\"fill:none;stroke:#000000;stroke-linecap:square;stroke-linejoin:miter;stroke-width:0.8;\"/>\r\n   </g>\r\n   <g id=\"patch_5\">\r\n    <path d=\"M 28.942188 143.1 \r\nL 224.242188 143.1 \r\n\" style=\"fill:none;stroke:#000000;stroke-linecap:square;stroke-linejoin:miter;stroke-width:0.8;\"/>\r\n   </g>\r\n   <g id=\"patch_6\">\r\n    <path d=\"M 28.942188 7.2 \r\nL 224.242188 7.2 \r\n\" style=\"fill:none;stroke:#000000;stroke-linecap:square;stroke-linejoin:miter;stroke-width:0.8;\"/>\r\n   </g>\r\n  </g>\r\n </g>\r\n <defs>\r\n  <clipPath id=\"p39a1a0d5bf\">\r\n   <rect height=\"135.9\" width=\"195.3\" x=\"28.942188\" y=\"7.2\"/>\r\n  </clipPath>\r\n </defs>\r\n</svg>\r\n"
     },
     "metadata": {
      "needs_background": "light"
     }
    }
   ],
   "source": [
    "d2l.set_figsize()\n",
    "d2l.plt.scatter(d2l.numpy(data[:100, 0]), d2l.numpy(data[:100, 1]));\n",
    "print(f'The covariance matrix is\\n{d2l.matmul(tf.transpose(A), A)}')"
   ]
  },
  {
   "cell_type": "code",
   "execution_count": 5,
   "metadata": {},
   "outputs": [],
   "source": [
    "batch_size = 8\n",
    "data_iter = d2l.load_array((data,), batch_size)"
   ]
  },
  {
   "cell_type": "code",
   "execution_count": 6,
   "metadata": {},
   "outputs": [],
   "source": [
    "net_G = tf.keras.Sequential()\n",
    "net_G.add(tf.keras.layers.Dense(2))"
   ]
  },
  {
   "cell_type": "markdown",
   "metadata": {},
   "source": [
    "tf.keras.activations.tanh(a)\n",
    "https://www.tensorflow.org/api_docs/python/tf/keras/activations/tanh\n"
   ]
  },
  {
   "cell_type": "code",
   "execution_count": 7,
   "metadata": {},
   "outputs": [],
   "source": [
    "net_D = tf.keras.Sequential()\n",
    "net_D.add(tf.keras.layers.Dense(5, activation='tanh'))\n",
    "net_D.add(tf.keras.layers.Dense(3, activation='tanh'))\n",
    "net_D.add(tf.keras.layers.Dense(1))"
   ]
  },
  {
   "cell_type": "markdown",
   "metadata": {},
   "source": [
    "with tf.GradientTape() as t:\n",
    "http://preview.d2l.ai/d2l-en/master/chapter_preliminaries/autograd.html\n"
   ]
  },
  {
   "cell_type": "markdown",
   "metadata": {},
   "source": [
    "t.gradient(y, x) \n",
    "t.gradient(loss_D, trainer_D) "
   ]
  },
  {
   "cell_type": "code",
   "execution_count": 8,
   "metadata": {},
   "outputs": [],
   "source": [
    "#@save\n",
    "def update_D(X, Z, net_D, net_G, loss, trainer_D):\n",
    "    \"\"\"Update discriminator.\"\"\"\n",
    "    batch_size = np.array(X).shape[0]\n",
    "    ones = tf.ones((batch_size,), tf.float32)\n",
    "    zeros = tf.zeros((batch_size,), tf.float32)\n",
    "    with tf.GradientTape() as t:\n",
    "        real_Y = net_D(tf.convert_to_tensor(X))\n",
    "        fake_X = net_G(tf.convert_to_tensor(Z))\n",
    "        # Do not need to compute gradient for `net_G`, detach it from\n",
    "        # computing gradients.\n",
    "        fake_Y = net_D(tf.stop_gradient(fake_X))\n",
    "        loss_D = (loss(real_Y, ones) + loss(fake_Y, zeros)) / 2\n",
    "    t.gradient(loss_D, trainer_D) \n",
    "    trainer_D.step(batch_size)\n",
    "    return float(loss_D.sum())"
   ]
  },
  {
   "cell_type": "code",
   "execution_count": 9,
   "metadata": {},
   "outputs": [],
   "source": [
    "#@save\n",
    "def update_G(Z, net_D, net_G, loss, trainer_G):\n",
    "    \"\"\"Update generator.\"\"\"\n",
    "    batch_size = np.array(Z).shape[0]\n",
    "    ones = tf.ones((batch_size,), tf.float32)\n",
    "    with tf.GradientTape() as t:\n",
    "        # We could reuse `fake_X` from `update_D` to save computation\n",
    "        fake_X = net_G(tf.convert_to_tensor(Z))\n",
    "        # Recomputing `fake_Y` is needed since `net_D` is changed\n",
    "        fake_Y = net_D(fake_X)\n",
    "        loss_G = loss(fake_Y, ones)\n",
    "    t.gradient(loss_G, trainer_G) \n",
    "    trainer_G.step(batch_size)\n",
    "    return float(loss_G.sum())"
   ]
  },
  {
   "cell_type": "markdown",
   "metadata": {},
   "source": [
    "https://www.google.com/search?q=numpy()+tensorflow&rlz=1C1GCEA_enJP909HK909&oq=numpy()+tensorflow&aqs=chrome..69i57j0l7.2792j0j1&sourceid=chrome&ie=UTF-8"
   ]
  },
  {
   "cell_type": "markdown",
   "metadata": {},
   "source": [
    "https://www.tensorflow.org/api_docs/python/tf/keras/optimizers/Adam\n",
    "tf.keras.optimizers.Adam(learning_rate=0.1)\n",
    "m.compile\n",
    "m = tf.keras.models.Sequential([tf.keras.layers.Dense(10)])\n",
    "m.compile(opt, loss='mse')"
   ]
  },
  {
   "cell_type": "markdown",
   "metadata": {},
   "source": [
    "https://stackoverflow.com/questions/55683729/bcewithlogitsloss-in-keras\n",
    "https://www.tensorflow.org/api_docs/python/tf/keras/losses/BinaryCrossentropy\n"
   ]
  },
  {
   "cell_type": "markdown",
   "metadata": {},
   "source": [
    "def weight_variable(shape, w=0.1):\n",
    "  initial = tf.truncated_normal(shape, stddev=w)\n",
    "  return tf.Variable(initial)\n",
    "  https://stackoverflow.com/questions/43489697/tensorflow-weight-initialization\n",
    "\n",
    "  The values generated are similar to values from a tf.keras.initializers.RandomNormal initializer except that values more than two standard deviations from the mean are discarded and re-drawn.\n",
    "  https://keras.io/api/layers/initializers/"
   ]
  },
  {
   "cell_type": "markdown",
   "metadata": {},
   "source": [
    "tf.Variable(initial_value=w_init(\n",
    "            shape=(input_dim, unit), dtype=tf.float32), trainable=True)\n",
    "            https://zhuanlan.zhihu.com/p/59481536"
   ]
  },
  {
   "cell_type": "markdown",
   "metadata": {},
   "source": [
    "https://keras.io/api/layers/initializers/"
   ]
  },
  {
   "cell_type": "markdown",
   "metadata": {},
   "source": [
    "numpy.array\n",
    "https://stackoverflow.com/questions/41198144/attributeerror-tuple-object-has-no-attribute-shape"
   ]
  },
  {
   "cell_type": "markdown",
   "metadata": {},
   "source": [
    "https://github.com/tensorflow/tensorflow/issues/29972"
   ]
  },
  {
   "cell_type": "markdown",
   "metadata": {},
   "source": [
    "http://preview.d2l.ai/d2l-en/master/chapter_preliminaries/autograd.html?highlight=detach"
   ]
  },
  {
   "cell_type": "code",
   "execution_count": 10,
   "metadata": {},
   "outputs": [],
   "source": [
    "def train(net_D, net_G, data_iter, num_epochs, lr_D, lr_G, latent_dim, data):\n",
    "    loss = tf.keras.losses.BinaryCrossentropy(reduction=\n",
    "                                tf.keras.losses.Reduction.SUM)\n",
    "    tf.keras.initializers.RandomNormal(net_D, stddev=0.02)\n",
    "    tf.keras.initializers.RandomNormal(net_G, stddev=0.02)\n",
    "    trainer_D = net_D.compile(tf.keras.optimizers.Adam(learning_rate=lr_D), loss='mse')\n",
    "    trainer_G = net_G.compile(tf.keras.optimizers.Adam(learning_rate=lr_G), loss='mse')\n",
    "    animator = d2l.Animator(xlabel='epoch', ylabel='loss',\n",
    "                            xlim=[1, num_epochs], nrows=2, figsize=(5, 5),\n",
    "                            legend=['discriminator', 'generator'])\n",
    "    animator.fig.subplots_adjust(hspace=0.3)\n",
    "    for epoch in range(num_epochs):\n",
    "        # Train one epoch\n",
    "        timer = d2l.Timer()\n",
    "        metric = d2l.Accumulator(3)  # loss_D, loss_G, num_examples\n",
    "        for X in data_iter:\n",
    "            batch_size = np.array(X).shape[0]\n",
    "            Z = d2l.normal([batch_size, latent_dim], 0, 1, tf.float32)\n",
    "            metric.add(update_D(X, Z, net_D, net_G, loss, trainer_D),\n",
    "                       update_G(Z, net_D, net_G, loss, trainer_G),\n",
    "                       batch_size)\n",
    "        # Visualize generated examples\n",
    "        Z = d2l.normal([100, latent_dim], 0, 1, tf.float32)\n",
    "        fake_X = net_G(Z).Tensor.numpy()\n",
    "        animator.axes[1].cla()\n",
    "        animator.axes[1].scatter(data[:, 0], data[:, 1])\n",
    "        animator.axes[1].scatter(fake_X[:, 0], fake_X[:, 1])\n",
    "        animator.axes[1].legend(['real', 'generated'])\n",
    "        # Show the losses\n",
    "        loss_D, loss_G = metric[0]/metric[2], metric[1]/metric[2]\n",
    "        animator.add(epoch + 1, (loss_D, loss_G))\n",
    "    print(f'loss_D {loss_D:.3f}, loss_G {loss_G:.3f}, '\n",
    "          f'{metric[2] / timer.stop():.1f} examples/sec')"
   ]
  },
  {
   "cell_type": "code",
   "execution_count": 11,
   "metadata": {
    "tags": []
   },
   "outputs": [
    {
     "output_type": "error",
     "ename": "TypeError",
     "evalue": "Cannot convert value None to a TensorFlow DType.",
     "traceback": [
      "\u001b[1;31m---------------------------------------------------------------------------\u001b[0m",
      "\u001b[1;31mTypeError\u001b[0m                                 Traceback (most recent call last)",
      "\u001b[1;32m<ipython-input-11-251159593cac>\u001b[0m in \u001b[0;36m<module>\u001b[1;34m\u001b[0m\n\u001b[0;32m      1\u001b[0m \u001b[0mlr_D\u001b[0m\u001b[1;33m,\u001b[0m \u001b[0mlr_G\u001b[0m\u001b[1;33m,\u001b[0m \u001b[0mlatent_dim\u001b[0m\u001b[1;33m,\u001b[0m \u001b[0mnum_epochs\u001b[0m \u001b[1;33m=\u001b[0m \u001b[1;36m0.05\u001b[0m\u001b[1;33m,\u001b[0m \u001b[1;36m0.005\u001b[0m\u001b[1;33m,\u001b[0m \u001b[1;36m2\u001b[0m\u001b[1;33m,\u001b[0m \u001b[1;36m20\u001b[0m\u001b[1;33m\u001b[0m\u001b[1;33m\u001b[0m\u001b[0m\n\u001b[0;32m      2\u001b[0m train(net_D, net_G, data_iter, num_epochs, lr_D, lr_G,\n\u001b[1;32m----> 3\u001b[1;33m       latent_dim, d2l.numpy(data[:100]))\n\u001b[0m",
      "\u001b[1;32m<ipython-input-10-1556e6dd1300>\u001b[0m in \u001b[0;36mtrain\u001b[1;34m(net_D, net_G, data_iter, num_epochs, lr_D, lr_G, latent_dim, data)\u001b[0m\n\u001b[0;32m     17\u001b[0m             \u001b[0mbatch_size\u001b[0m \u001b[1;33m=\u001b[0m \u001b[0mnp\u001b[0m\u001b[1;33m.\u001b[0m\u001b[0marray\u001b[0m\u001b[1;33m(\u001b[0m\u001b[0mX\u001b[0m\u001b[1;33m)\u001b[0m\u001b[1;33m.\u001b[0m\u001b[0mshape\u001b[0m\u001b[1;33m[\u001b[0m\u001b[1;36m0\u001b[0m\u001b[1;33m]\u001b[0m\u001b[1;33m\u001b[0m\u001b[1;33m\u001b[0m\u001b[0m\n\u001b[0;32m     18\u001b[0m             \u001b[0mZ\u001b[0m \u001b[1;33m=\u001b[0m \u001b[0md2l\u001b[0m\u001b[1;33m.\u001b[0m\u001b[0mnormal\u001b[0m\u001b[1;33m(\u001b[0m\u001b[1;33m[\u001b[0m\u001b[0mbatch_size\u001b[0m\u001b[1;33m,\u001b[0m \u001b[0mlatent_dim\u001b[0m\u001b[1;33m]\u001b[0m\u001b[1;33m,\u001b[0m \u001b[1;36m0\u001b[0m\u001b[1;33m,\u001b[0m \u001b[1;36m1\u001b[0m\u001b[1;33m,\u001b[0m \u001b[0mtf\u001b[0m\u001b[1;33m.\u001b[0m\u001b[0mfloat32\u001b[0m\u001b[1;33m)\u001b[0m\u001b[1;33m\u001b[0m\u001b[1;33m\u001b[0m\u001b[0m\n\u001b[1;32m---> 19\u001b[1;33m             metric.add(update_D(X, Z, net_D, net_G, loss, trainer_D),\n\u001b[0m\u001b[0;32m     20\u001b[0m                        \u001b[0mupdate_G\u001b[0m\u001b[1;33m(\u001b[0m\u001b[0mZ\u001b[0m\u001b[1;33m,\u001b[0m \u001b[0mnet_D\u001b[0m\u001b[1;33m,\u001b[0m \u001b[0mnet_G\u001b[0m\u001b[1;33m,\u001b[0m \u001b[0mloss\u001b[0m\u001b[1;33m,\u001b[0m \u001b[0mtrainer_G\u001b[0m\u001b[1;33m)\u001b[0m\u001b[1;33m,\u001b[0m\u001b[1;33m\u001b[0m\u001b[1;33m\u001b[0m\u001b[0m\n\u001b[0;32m     21\u001b[0m                        batch_size)\n",
      "\u001b[1;32m<ipython-input-8-b611c02f523d>\u001b[0m in \u001b[0;36mupdate_D\u001b[1;34m(X, Z, net_D, net_G, loss, trainer_D)\u001b[0m\n\u001b[0;32m     12\u001b[0m         \u001b[0mfake_Y\u001b[0m \u001b[1;33m=\u001b[0m \u001b[0mnet_D\u001b[0m\u001b[1;33m(\u001b[0m\u001b[0mtf\u001b[0m\u001b[1;33m.\u001b[0m\u001b[0mstop_gradient\u001b[0m\u001b[1;33m(\u001b[0m\u001b[0mfake_X\u001b[0m\u001b[1;33m)\u001b[0m\u001b[1;33m)\u001b[0m\u001b[1;33m\u001b[0m\u001b[1;33m\u001b[0m\u001b[0m\n\u001b[0;32m     13\u001b[0m         \u001b[0mloss_D\u001b[0m \u001b[1;33m=\u001b[0m \u001b[1;33m(\u001b[0m\u001b[0mloss\u001b[0m\u001b[1;33m(\u001b[0m\u001b[0mreal_Y\u001b[0m\u001b[1;33m,\u001b[0m \u001b[0mones\u001b[0m\u001b[1;33m)\u001b[0m \u001b[1;33m+\u001b[0m \u001b[0mloss\u001b[0m\u001b[1;33m(\u001b[0m\u001b[0mfake_Y\u001b[0m\u001b[1;33m,\u001b[0m \u001b[0mzeros\u001b[0m\u001b[1;33m)\u001b[0m\u001b[1;33m)\u001b[0m \u001b[1;33m/\u001b[0m \u001b[1;36m2\u001b[0m\u001b[1;33m\u001b[0m\u001b[1;33m\u001b[0m\u001b[0m\n\u001b[1;32m---> 14\u001b[1;33m     \u001b[0mt\u001b[0m\u001b[1;33m.\u001b[0m\u001b[0mgradient\u001b[0m\u001b[1;33m(\u001b[0m\u001b[0mloss_D\u001b[0m\u001b[1;33m,\u001b[0m \u001b[0mtrainer_D\u001b[0m\u001b[1;33m)\u001b[0m\u001b[1;33m\u001b[0m\u001b[1;33m\u001b[0m\u001b[0m\n\u001b[0m\u001b[0;32m     15\u001b[0m     \u001b[0mtrainer_D\u001b[0m\u001b[1;33m.\u001b[0m\u001b[0mstep\u001b[0m\u001b[1;33m(\u001b[0m\u001b[0mbatch_size\u001b[0m\u001b[1;33m)\u001b[0m\u001b[1;33m\u001b[0m\u001b[1;33m\u001b[0m\u001b[0m\n\u001b[0;32m     16\u001b[0m     \u001b[1;32mreturn\u001b[0m \u001b[0mfloat\u001b[0m\u001b[1;33m(\u001b[0m\u001b[0mloss_D\u001b[0m\u001b[1;33m.\u001b[0m\u001b[0msum\u001b[0m\u001b[1;33m(\u001b[0m\u001b[1;33m)\u001b[0m\u001b[1;33m)\u001b[0m\u001b[1;33m\u001b[0m\u001b[1;33m\u001b[0m\u001b[0m\n",
      "\u001b[1;32m~\\anaconda3\\envs\\tf2\\lib\\site-packages\\tensorflow\\python\\eager\\backprop.py\u001b[0m in \u001b[0;36mgradient\u001b[1;34m(self, target, sources, output_gradients, unconnected_gradients)\u001b[0m\n\u001b[0;32m   1051\u001b[0m     \u001b[0mflat_sources\u001b[0m \u001b[1;33m=\u001b[0m \u001b[1;33m[\u001b[0m\u001b[0m_handle_or_self\u001b[0m\u001b[1;33m(\u001b[0m\u001b[0mx\u001b[0m\u001b[1;33m)\u001b[0m \u001b[1;32mfor\u001b[0m \u001b[0mx\u001b[0m \u001b[1;32min\u001b[0m \u001b[0mflat_sources\u001b[0m\u001b[1;33m]\u001b[0m\u001b[1;33m\u001b[0m\u001b[1;33m\u001b[0m\u001b[0m\n\u001b[0;32m   1052\u001b[0m     \u001b[1;32mfor\u001b[0m \u001b[0mt\u001b[0m \u001b[1;32min\u001b[0m \u001b[0mflat_sources_raw\u001b[0m\u001b[1;33m:\u001b[0m\u001b[1;33m\u001b[0m\u001b[1;33m\u001b[0m\u001b[0m\n\u001b[1;32m-> 1053\u001b[1;33m       \u001b[1;32mif\u001b[0m \u001b[1;32mnot\u001b[0m \u001b[0mbackprop_util\u001b[0m\u001b[1;33m.\u001b[0m\u001b[0mIsTrainable\u001b[0m\u001b[1;33m(\u001b[0m\u001b[0mt\u001b[0m\u001b[1;33m)\u001b[0m\u001b[1;33m:\u001b[0m\u001b[1;33m\u001b[0m\u001b[1;33m\u001b[0m\u001b[0m\n\u001b[0m\u001b[0;32m   1054\u001b[0m         logging.vlog(\n\u001b[0;32m   1055\u001b[0m             \u001b[0mlogging\u001b[0m\u001b[1;33m.\u001b[0m\u001b[0mWARN\u001b[0m\u001b[1;33m,\u001b[0m \u001b[1;34m\"The dtype of the source tensor must be \"\u001b[0m\u001b[1;33m\u001b[0m\u001b[1;33m\u001b[0m\u001b[0m\n",
      "\u001b[1;32m~\\anaconda3\\envs\\tf2\\lib\\site-packages\\tensorflow\\python\\eager\\backprop_util.py\u001b[0m in \u001b[0;36mIsTrainable\u001b[1;34m(tensor_or_dtype)\u001b[0m\n\u001b[0;32m     28\u001b[0m   \u001b[1;32melse\u001b[0m\u001b[1;33m:\u001b[0m\u001b[1;33m\u001b[0m\u001b[1;33m\u001b[0m\u001b[0m\n\u001b[0;32m     29\u001b[0m     \u001b[0mdtype\u001b[0m \u001b[1;33m=\u001b[0m \u001b[0mtensor_or_dtype\u001b[0m\u001b[1;33m\u001b[0m\u001b[1;33m\u001b[0m\u001b[0m\n\u001b[1;32m---> 30\u001b[1;33m   \u001b[0mdtype\u001b[0m \u001b[1;33m=\u001b[0m \u001b[0mdtypes\u001b[0m\u001b[1;33m.\u001b[0m\u001b[0mas_dtype\u001b[0m\u001b[1;33m(\u001b[0m\u001b[0mdtype\u001b[0m\u001b[1;33m)\u001b[0m\u001b[1;33m\u001b[0m\u001b[1;33m\u001b[0m\u001b[0m\n\u001b[0m\u001b[0;32m     31\u001b[0m   return dtype.base_dtype in (dtypes.float16, dtypes.float32, dtypes.float64,\n\u001b[0;32m     32\u001b[0m                               \u001b[0mdtypes\u001b[0m\u001b[1;33m.\u001b[0m\u001b[0mcomplex64\u001b[0m\u001b[1;33m,\u001b[0m \u001b[0mdtypes\u001b[0m\u001b[1;33m.\u001b[0m\u001b[0mcomplex128\u001b[0m\u001b[1;33m,\u001b[0m\u001b[1;33m\u001b[0m\u001b[1;33m\u001b[0m\u001b[0m\n",
      "\u001b[1;32m~\\anaconda3\\envs\\tf2\\lib\\site-packages\\tensorflow\\python\\framework\\dtypes.py\u001b[0m in \u001b[0;36mas_dtype\u001b[1;34m(type_value)\u001b[0m\n\u001b[0;32m    648\u001b[0m \u001b[1;33m\u001b[0m\u001b[0m\n\u001b[0;32m    649\u001b[0m   raise TypeError(\"Cannot convert value %r to a TensorFlow DType.\" %\n\u001b[1;32m--> 650\u001b[1;33m                   (type_value,))\n\u001b[0m",
      "\u001b[1;31mTypeError\u001b[0m: Cannot convert value None to a TensorFlow DType."
     ]
    }
   ],
   "source": [
    "lr_D, lr_G, latent_dim, num_epochs = 0.05, 0.005, 2, 20\n",
    "train(net_D, net_G, data_iter, num_epochs, lr_D, lr_G,\n",
    "      latent_dim, d2l.numpy(data[:100]))"
   ]
  },
  {
   "cell_type": "markdown",
   "metadata": {},
   "source": [
    "https://www.tensorflow.org/api_docs/python/tf/ones"
   ]
  }
 ]
}