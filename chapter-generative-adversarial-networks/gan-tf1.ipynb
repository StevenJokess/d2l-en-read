{
 "metadata": {
  "language_info": {
   "codemirror_mode": {
    "name": "ipython",
    "version": 3
   },
   "file_extension": ".py",
   "mimetype": "text/x-python",
   "name": "python",
   "nbconvert_exporter": "python",
   "pygments_lexer": "ipython3",
   "version": "3.7.8-final"
  },
  "orig_nbformat": 2,
  "kernelspec": {
   "name": "python37864bittf2conda1de394c9651a4d19aa25641a40b8d2d8",
   "display_name": "Python 3.7.8 64-bit ('tf2': conda)"
  }
 },
 "nbformat": 4,
 "nbformat_minor": 2,
 "cells": [
  {
   "cell_type": "markdown",
   "metadata": {},
   "source": [
    "http://preview.d2l.ai/d2l-en/master/chapter_generative-adversarial-networks/gan.html"
   ]
  },
  {
   "cell_type": "code",
   "execution_count": 1,
   "metadata": {},
   "outputs": [],
   "source": [
    "%matplotlib inline\n",
    "from d2l import tensorflow as d2l\n",
    "import tensorflow as tf\n",
    "import numpy as np"
   ]
  },
  {
   "cell_type": "markdown",
   "metadata": {},
   "source": [
    "https://www.tensorflow.org/api_docs/python/tf/random/normal"
   ]
  },
  {
   "cell_type": "markdown",
   "metadata": {},
   "source": [
    "https://www.tensorflow.org/api_docs/python/tf/norm"
   ]
  },
  {
   "cell_type": "code",
   "execution_count": 2,
   "metadata": {},
   "outputs": [],
   "source": [
    "X = d2l.normal([1000, 2], 0.0, 1, tf.float32)"
   ]
  },
  {
   "cell_type": "code",
   "execution_count": 3,
   "metadata": {},
   "outputs": [],
   "source": [
    "A = d2l.tensor([[1, 2], [-0.1, 0.5]], tf.float32)\n",
    "b = d2l.tensor([1, 2], tf.float32)\n",
    "data = d2l.matmul(X, A) + b"
   ]
  },
  {
   "cell_type": "code",
   "execution_count": 4,
   "metadata": {
    "tags": []
   },
   "outputs": [
    {
     "output_type": "stream",
     "name": "stdout",
     "text": "The covariance matrix is\n[[1.01 1.95]\n [1.95 4.25]]\n"
    },
    {
     "output_type": "display_data",
     "data": {
      "text/plain": "<Figure size 252x180 with 1 Axes>",
      "image/svg+xml": "<?xml version=\"1.0\" encoding=\"utf-8\" standalone=\"no\"?>\r\n<!DOCTYPE svg PUBLIC \"-//W3C//DTD SVG 1.1//EN\"\r\n  \"http://www.w3.org/Graphics/SVG/1.1/DTD/svg11.dtd\">\r\n<!-- Created with matplotlib (https://matplotlib.org/) -->\r\n<svg height=\"166.978125pt\" version=\"1.1\" viewBox=\"0 0 231.442187 166.978125\" width=\"231.442187pt\" xmlns=\"http://www.w3.org/2000/svg\" xmlns:xlink=\"http://www.w3.org/1999/xlink\">\r\n <metadata>\r\n  <rdf:RDF xmlns:cc=\"http://creativecommons.org/ns#\" xmlns:dc=\"http://purl.org/dc/elements/1.1/\" xmlns:rdf=\"http://www.w3.org/1999/02/22-rdf-syntax-ns#\">\r\n   <cc:Work>\r\n    <dc:type rdf:resource=\"http://purl.org/dc/dcmitype/StillImage\"/>\r\n    <dc:date>2020-09-03T22:29:57.102582</dc:date>\r\n    <dc:format>image/svg+xml</dc:format>\r\n    <dc:creator>\r\n     <cc:Agent>\r\n      <dc:title>Matplotlib v3.3.1, https://matplotlib.org/</dc:title>\r\n     </cc:Agent>\r\n    </dc:creator>\r\n   </cc:Work>\r\n  </rdf:RDF>\r\n </metadata>\r\n <defs>\r\n  <style type=\"text/css\">*{stroke-linecap:butt;stroke-linejoin:round;}</style>\r\n </defs>\r\n <g id=\"figure_1\">\r\n  <g id=\"patch_1\">\r\n   <path d=\"M 0 166.978125 \r\nL 231.442187 166.978125 \r\nL 231.442187 0 \r\nL 0 0 \r\nz\r\n\" style=\"fill:none;\"/>\r\n  </g>\r\n  <g id=\"axes_1\">\r\n   <g id=\"patch_2\">\r\n    <path d=\"M 28.942188 143.1 \r\nL 224.242188 143.1 \r\nL 224.242188 7.2 \r\nL 28.942188 7.2 \r\nz\r\n\" style=\"fill:#ffffff;\"/>\r\n   </g>\r\n   <g id=\"PathCollection_1\">\r\n    <defs>\r\n     <path d=\"M 0 3 \r\nC 0.795609 3 1.55874 2.683901 2.12132 2.12132 \r\nC 2.683901 1.55874 3 0.795609 3 0 \r\nC 3 -0.795609 2.683901 -1.55874 2.12132 -2.12132 \r\nC 1.55874 -2.683901 0.795609 -3 0 -3 \r\nC -0.795609 -3 -1.55874 -2.683901 -2.12132 -2.12132 \r\nC -2.683901 -1.55874 -3 -0.795609 -3 0 \r\nC -3 0.795609 -2.683901 1.55874 -2.12132 2.12132 \r\nC -1.55874 2.683901 -0.795609 3 0 3 \r\nz\r\n\" id=\"mf7271b507b\" style=\"stroke:#1f77b4;\"/>\r\n    </defs>\r\n    <g clip-path=\"url(#pe4086e4c0d)\">\r\n     <use style=\"fill:#1f77b4;stroke:#1f77b4;\" x=\"60.918737\" xlink:href=\"#mf7271b507b\" y=\"119.836243\"/>\r\n     <use style=\"fill:#1f77b4;stroke:#1f77b4;\" x=\"157.932264\" xlink:href=\"#mf7271b507b\" y=\"56.15902\"/>\r\n     <use style=\"fill:#1f77b4;stroke:#1f77b4;\" x=\"148.741965\" xlink:href=\"#mf7271b507b\" y=\"79.755603\"/>\r\n     <use style=\"fill:#1f77b4;stroke:#1f77b4;\" x=\"202.692553\" xlink:href=\"#mf7271b507b\" y=\"34.122325\"/>\r\n     <use style=\"fill:#1f77b4;stroke:#1f77b4;\" x=\"168.770917\" xlink:href=\"#mf7271b507b\" y=\"40.211017\"/>\r\n     <use style=\"fill:#1f77b4;stroke:#1f77b4;\" x=\"168.938387\" xlink:href=\"#mf7271b507b\" y=\"50.812139\"/>\r\n     <use style=\"fill:#1f77b4;stroke:#1f77b4;\" x=\"151.451764\" xlink:href=\"#mf7271b507b\" y=\"60.006903\"/>\r\n     <use style=\"fill:#1f77b4;stroke:#1f77b4;\" x=\"115.804979\" xlink:href=\"#mf7271b507b\" y=\"71.776783\"/>\r\n     <use style=\"fill:#1f77b4;stroke:#1f77b4;\" x=\"142.907054\" xlink:href=\"#mf7271b507b\" y=\"87.042342\"/>\r\n     <use style=\"fill:#1f77b4;stroke:#1f77b4;\" x=\"37.81946\" xlink:href=\"#mf7271b507b\" y=\"126.703109\"/>\r\n     <use style=\"fill:#1f77b4;stroke:#1f77b4;\" x=\"146.871779\" xlink:href=\"#mf7271b507b\" y=\"68.487182\"/>\r\n     <use style=\"fill:#1f77b4;stroke:#1f77b4;\" x=\"115.262309\" xlink:href=\"#mf7271b507b\" y=\"97.59681\"/>\r\n     <use style=\"fill:#1f77b4;stroke:#1f77b4;\" x=\"169.79998\" xlink:href=\"#mf7271b507b\" y=\"52.921898\"/>\r\n     <use style=\"fill:#1f77b4;stroke:#1f77b4;\" x=\"99.214124\" xlink:href=\"#mf7271b507b\" y=\"84.045189\"/>\r\n     <use style=\"fill:#1f77b4;stroke:#1f77b4;\" x=\"82.462205\" xlink:href=\"#mf7271b507b\" y=\"103.638087\"/>\r\n     <use style=\"fill:#1f77b4;stroke:#1f77b4;\" x=\"80.322929\" xlink:href=\"#mf7271b507b\" y=\"110.052199\"/>\r\n     <use style=\"fill:#1f77b4;stroke:#1f77b4;\" x=\"133.909193\" xlink:href=\"#mf7271b507b\" y=\"68.056534\"/>\r\n     <use style=\"fill:#1f77b4;stroke:#1f77b4;\" x=\"119.245849\" xlink:href=\"#mf7271b507b\" y=\"80.88175\"/>\r\n     <use style=\"fill:#1f77b4;stroke:#1f77b4;\" x=\"152.082014\" xlink:href=\"#mf7271b507b\" y=\"71.378349\"/>\r\n     <use style=\"fill:#1f77b4;stroke:#1f77b4;\" x=\"156.74552\" xlink:href=\"#mf7271b507b\" y=\"57.952829\"/>\r\n     <use style=\"fill:#1f77b4;stroke:#1f77b4;\" x=\"112.462819\" xlink:href=\"#mf7271b507b\" y=\"81.635277\"/>\r\n     <use style=\"fill:#1f77b4;stroke:#1f77b4;\" x=\"77.768122\" xlink:href=\"#mf7271b507b\" y=\"110.751538\"/>\r\n     <use style=\"fill:#1f77b4;stroke:#1f77b4;\" x=\"92.425689\" xlink:href=\"#mf7271b507b\" y=\"98.701841\"/>\r\n     <use style=\"fill:#1f77b4;stroke:#1f77b4;\" x=\"76.635135\" xlink:href=\"#mf7271b507b\" y=\"122.451925\"/>\r\n     <use style=\"fill:#1f77b4;stroke:#1f77b4;\" x=\"128.173583\" xlink:href=\"#mf7271b507b\" y=\"74.55244\"/>\r\n     <use style=\"fill:#1f77b4;stroke:#1f77b4;\" x=\"105.762001\" xlink:href=\"#mf7271b507b\" y=\"89.646998\"/>\r\n     <use style=\"fill:#1f77b4;stroke:#1f77b4;\" x=\"215.364915\" xlink:href=\"#mf7271b507b\" y=\"13.377273\"/>\r\n     <use style=\"fill:#1f77b4;stroke:#1f77b4;\" x=\"145.584361\" xlink:href=\"#mf7271b507b\" y=\"67.40853\"/>\r\n     <use style=\"fill:#1f77b4;stroke:#1f77b4;\" x=\"122.733851\" xlink:href=\"#mf7271b507b\" y=\"91.35096\"/>\r\n     <use style=\"fill:#1f77b4;stroke:#1f77b4;\" x=\"154.314649\" xlink:href=\"#mf7271b507b\" y=\"55.814822\"/>\r\n     <use style=\"fill:#1f77b4;stroke:#1f77b4;\" x=\"60.820868\" xlink:href=\"#mf7271b507b\" y=\"132.245392\"/>\r\n     <use style=\"fill:#1f77b4;stroke:#1f77b4;\" x=\"89.21197\" xlink:href=\"#mf7271b507b\" y=\"105.056369\"/>\r\n     <use style=\"fill:#1f77b4;stroke:#1f77b4;\" x=\"171.507499\" xlink:href=\"#mf7271b507b\" y=\"52.605032\"/>\r\n     <use style=\"fill:#1f77b4;stroke:#1f77b4;\" x=\"148.358902\" xlink:href=\"#mf7271b507b\" y=\"61.371261\"/>\r\n     <use style=\"fill:#1f77b4;stroke:#1f77b4;\" x=\"133.029094\" xlink:href=\"#mf7271b507b\" y=\"67.67658\"/>\r\n     <use style=\"fill:#1f77b4;stroke:#1f77b4;\" x=\"96.439007\" xlink:href=\"#mf7271b507b\" y=\"89.85369\"/>\r\n     <use style=\"fill:#1f77b4;stroke:#1f77b4;\" x=\"155.226071\" xlink:href=\"#mf7271b507b\" y=\"48.208556\"/>\r\n     <use style=\"fill:#1f77b4;stroke:#1f77b4;\" x=\"163.015258\" xlink:href=\"#mf7271b507b\" y=\"52.619524\"/>\r\n     <use style=\"fill:#1f77b4;stroke:#1f77b4;\" x=\"117.58903\" xlink:href=\"#mf7271b507b\" y=\"87.833178\"/>\r\n     <use style=\"fill:#1f77b4;stroke:#1f77b4;\" x=\"129.846214\" xlink:href=\"#mf7271b507b\" y=\"65.101833\"/>\r\n     <use style=\"fill:#1f77b4;stroke:#1f77b4;\" x=\"140.498155\" xlink:href=\"#mf7271b507b\" y=\"56.581032\"/>\r\n     <use style=\"fill:#1f77b4;stroke:#1f77b4;\" x=\"100.657015\" xlink:href=\"#mf7271b507b\" y=\"96.819952\"/>\r\n     <use style=\"fill:#1f77b4;stroke:#1f77b4;\" x=\"168.335139\" xlink:href=\"#mf7271b507b\" y=\"49.641915\"/>\r\n     <use style=\"fill:#1f77b4;stroke:#1f77b4;\" x=\"124.743281\" xlink:href=\"#mf7271b507b\" y=\"82.053537\"/>\r\n     <use style=\"fill:#1f77b4;stroke:#1f77b4;\" x=\"54.866151\" xlink:href=\"#mf7271b507b\" y=\"114.523376\"/>\r\n     <use style=\"fill:#1f77b4;stroke:#1f77b4;\" x=\"139.293356\" xlink:href=\"#mf7271b507b\" y=\"88.229583\"/>\r\n     <use style=\"fill:#1f77b4;stroke:#1f77b4;\" x=\"136.815023\" xlink:href=\"#mf7271b507b\" y=\"78.709247\"/>\r\n     <use style=\"fill:#1f77b4;stroke:#1f77b4;\" x=\"46.765206\" xlink:href=\"#mf7271b507b\" y=\"136.673401\"/>\r\n     <use style=\"fill:#1f77b4;stroke:#1f77b4;\" x=\"188.875823\" xlink:href=\"#mf7271b507b\" y=\"15.646484\"/>\r\n     <use style=\"fill:#1f77b4;stroke:#1f77b4;\" x=\"108.240942\" xlink:href=\"#mf7271b507b\" y=\"83.569363\"/>\r\n     <use style=\"fill:#1f77b4;stroke:#1f77b4;\" x=\"43.719999\" xlink:href=\"#mf7271b507b\" y=\"136.922727\"/>\r\n     <use style=\"fill:#1f77b4;stroke:#1f77b4;\" x=\"157.641668\" xlink:href=\"#mf7271b507b\" y=\"49.272924\"/>\r\n     <use style=\"fill:#1f77b4;stroke:#1f77b4;\" x=\"101.294366\" xlink:href=\"#mf7271b507b\" y=\"104.962527\"/>\r\n     <use style=\"fill:#1f77b4;stroke:#1f77b4;\" x=\"138.729277\" xlink:href=\"#mf7271b507b\" y=\"82.163315\"/>\r\n     <use style=\"fill:#1f77b4;stroke:#1f77b4;\" x=\"66.68417\" xlink:href=\"#mf7271b507b\" y=\"112.417785\"/>\r\n     <use style=\"fill:#1f77b4;stroke:#1f77b4;\" x=\"173.892712\" xlink:href=\"#mf7271b507b\" y=\"48.596162\"/>\r\n     <use style=\"fill:#1f77b4;stroke:#1f77b4;\" x=\"66.810451\" xlink:href=\"#mf7271b507b\" y=\"112.75978\"/>\r\n     <use style=\"fill:#1f77b4;stroke:#1f77b4;\" x=\"130.97336\" xlink:href=\"#mf7271b507b\" y=\"55.84474\"/>\r\n     <use style=\"fill:#1f77b4;stroke:#1f77b4;\" x=\"68.312432\" xlink:href=\"#mf7271b507b\" y=\"107.404248\"/>\r\n     <use style=\"fill:#1f77b4;stroke:#1f77b4;\" x=\"81.261212\" xlink:href=\"#mf7271b507b\" y=\"101.070198\"/>\r\n     <use style=\"fill:#1f77b4;stroke:#1f77b4;\" x=\"67.109232\" xlink:href=\"#mf7271b507b\" y=\"133.638435\"/>\r\n     <use style=\"fill:#1f77b4;stroke:#1f77b4;\" x=\"138.419513\" xlink:href=\"#mf7271b507b\" y=\"67.786715\"/>\r\n     <use style=\"fill:#1f77b4;stroke:#1f77b4;\" x=\"140.823482\" xlink:href=\"#mf7271b507b\" y=\"66.075031\"/>\r\n     <use style=\"fill:#1f77b4;stroke:#1f77b4;\" x=\"142.754932\" xlink:href=\"#mf7271b507b\" y=\"66.325532\"/>\r\n     <use style=\"fill:#1f77b4;stroke:#1f77b4;\" x=\"201.346585\" xlink:href=\"#mf7271b507b\" y=\"33.136691\"/>\r\n     <use style=\"fill:#1f77b4;stroke:#1f77b4;\" x=\"115.315388\" xlink:href=\"#mf7271b507b\" y=\"85.037293\"/>\r\n     <use style=\"fill:#1f77b4;stroke:#1f77b4;\" x=\"104.527798\" xlink:href=\"#mf7271b507b\" y=\"110.799713\"/>\r\n     <use style=\"fill:#1f77b4;stroke:#1f77b4;\" x=\"98.838643\" xlink:href=\"#mf7271b507b\" y=\"110.87291\"/>\r\n     <use style=\"fill:#1f77b4;stroke:#1f77b4;\" x=\"145.228068\" xlink:href=\"#mf7271b507b\" y=\"62.141468\"/>\r\n     <use style=\"fill:#1f77b4;stroke:#1f77b4;\" x=\"172.266501\" xlink:href=\"#mf7271b507b\" y=\"50.936621\"/>\r\n     <use style=\"fill:#1f77b4;stroke:#1f77b4;\" x=\"103.378632\" xlink:href=\"#mf7271b507b\" y=\"100.195953\"/>\r\n     <use style=\"fill:#1f77b4;stroke:#1f77b4;\" x=\"141.593844\" xlink:href=\"#mf7271b507b\" y=\"71.349986\"/>\r\n     <use style=\"fill:#1f77b4;stroke:#1f77b4;\" x=\"111.737663\" xlink:href=\"#mf7271b507b\" y=\"112.307545\"/>\r\n     <use style=\"fill:#1f77b4;stroke:#1f77b4;\" x=\"110.061395\" xlink:href=\"#mf7271b507b\" y=\"77.776556\"/>\r\n     <use style=\"fill:#1f77b4;stroke:#1f77b4;\" x=\"111.308198\" xlink:href=\"#mf7271b507b\" y=\"80.016588\"/>\r\n     <use style=\"fill:#1f77b4;stroke:#1f77b4;\" x=\"108.001105\" xlink:href=\"#mf7271b507b\" y=\"93.45412\"/>\r\n     <use style=\"fill:#1f77b4;stroke:#1f77b4;\" x=\"129.835555\" xlink:href=\"#mf7271b507b\" y=\"74.079724\"/>\r\n     <use style=\"fill:#1f77b4;stroke:#1f77b4;\" x=\"55.494245\" xlink:href=\"#mf7271b507b\" y=\"126.317507\"/>\r\n     <use style=\"fill:#1f77b4;stroke:#1f77b4;\" x=\"125.162892\" xlink:href=\"#mf7271b507b\" y=\"74.237585\"/>\r\n     <use style=\"fill:#1f77b4;stroke:#1f77b4;\" x=\"98.00512\" xlink:href=\"#mf7271b507b\" y=\"115.483273\"/>\r\n     <use style=\"fill:#1f77b4;stroke:#1f77b4;\" x=\"115.252725\" xlink:href=\"#mf7271b507b\" y=\"91.159434\"/>\r\n     <use style=\"fill:#1f77b4;stroke:#1f77b4;\" x=\"90.809524\" xlink:href=\"#mf7271b507b\" y=\"95.020931\"/>\r\n     <use style=\"fill:#1f77b4;stroke:#1f77b4;\" x=\"98.659592\" xlink:href=\"#mf7271b507b\" y=\"92.085671\"/>\r\n     <use style=\"fill:#1f77b4;stroke:#1f77b4;\" x=\"140.698765\" xlink:href=\"#mf7271b507b\" y=\"80.568321\"/>\r\n     <use style=\"fill:#1f77b4;stroke:#1f77b4;\" x=\"144.415089\" xlink:href=\"#mf7271b507b\" y=\"67.017985\"/>\r\n     <use style=\"fill:#1f77b4;stroke:#1f77b4;\" x=\"154.735325\" xlink:href=\"#mf7271b507b\" y=\"62.324162\"/>\r\n     <use style=\"fill:#1f77b4;stroke:#1f77b4;\" x=\"107.661689\" xlink:href=\"#mf7271b507b\" y=\"91.053532\"/>\r\n     <use style=\"fill:#1f77b4;stroke:#1f77b4;\" x=\"127.538799\" xlink:href=\"#mf7271b507b\" y=\"85.226118\"/>\r\n     <use style=\"fill:#1f77b4;stroke:#1f77b4;\" x=\"142.138838\" xlink:href=\"#mf7271b507b\" y=\"70.494797\"/>\r\n     <use style=\"fill:#1f77b4;stroke:#1f77b4;\" x=\"79.714227\" xlink:href=\"#mf7271b507b\" y=\"101.173697\"/>\r\n     <use style=\"fill:#1f77b4;stroke:#1f77b4;\" x=\"95.421397\" xlink:href=\"#mf7271b507b\" y=\"105.347472\"/>\r\n     <use style=\"fill:#1f77b4;stroke:#1f77b4;\" x=\"208.702518\" xlink:href=\"#mf7271b507b\" y=\"31.301564\"/>\r\n     <use style=\"fill:#1f77b4;stroke:#1f77b4;\" x=\"172.7136\" xlink:href=\"#mf7271b507b\" y=\"59.850969\"/>\r\n     <use style=\"fill:#1f77b4;stroke:#1f77b4;\" x=\"123.052706\" xlink:href=\"#mf7271b507b\" y=\"79.504993\"/>\r\n     <use style=\"fill:#1f77b4;stroke:#1f77b4;\" x=\"161.016114\" xlink:href=\"#mf7271b507b\" y=\"64.01627\"/>\r\n     <use style=\"fill:#1f77b4;stroke:#1f77b4;\" x=\"101.956633\" xlink:href=\"#mf7271b507b\" y=\"102.533218\"/>\r\n     <use style=\"fill:#1f77b4;stroke:#1f77b4;\" x=\"109.296312\" xlink:href=\"#mf7271b507b\" y=\"93.020369\"/>\r\n     <use style=\"fill:#1f77b4;stroke:#1f77b4;\" x=\"113.835611\" xlink:href=\"#mf7271b507b\" y=\"105.858909\"/>\r\n     <use style=\"fill:#1f77b4;stroke:#1f77b4;\" x=\"89.096644\" xlink:href=\"#mf7271b507b\" y=\"105.414418\"/>\r\n     <use style=\"fill:#1f77b4;stroke:#1f77b4;\" x=\"153.25522\" xlink:href=\"#mf7271b507b\" y=\"61.042203\"/>\r\n    </g>\r\n   </g>\r\n   <g id=\"matplotlib.axis_1\">\r\n    <g id=\"xtick_1\">\r\n     <g id=\"line2d_1\">\r\n      <defs>\r\n       <path d=\"M 0 0 \r\nL 0 3.5 \r\n\" id=\"m71c6f8d123\" style=\"stroke:#000000;stroke-width:0.8;\"/>\r\n      </defs>\r\n      <g>\r\n       <use style=\"stroke:#000000;stroke-width:0.8;\" x=\"50.065122\" xlink:href=\"#m71c6f8d123\" y=\"143.1\"/>\r\n      </g>\r\n     </g>\r\n     <g id=\"text_1\">\r\n      <!-- −1 -->\r\n      <g transform=\"translate(42.694028 157.698438)scale(0.1 -0.1)\">\r\n       <defs>\r\n        <path d=\"M 10.59375 35.5 \r\nL 73.1875 35.5 \r\nL 73.1875 27.203125 \r\nL 10.59375 27.203125 \r\nz\r\n\" id=\"DejaVuSans-8722\"/>\r\n        <path d=\"M 12.40625 8.296875 \r\nL 28.515625 8.296875 \r\nL 28.515625 63.921875 \r\nL 10.984375 60.40625 \r\nL 10.984375 69.390625 \r\nL 28.421875 72.90625 \r\nL 38.28125 72.90625 \r\nL 38.28125 8.296875 \r\nL 54.390625 8.296875 \r\nL 54.390625 0 \r\nL 12.40625 0 \r\nz\r\n\" id=\"DejaVuSans-49\"/>\r\n       </defs>\r\n       <use xlink:href=\"#DejaVuSans-8722\"/>\r\n       <use x=\"83.789062\" xlink:href=\"#DejaVuSans-49\"/>\r\n      </g>\r\n     </g>\r\n    </g>\r\n    <g id=\"xtick_2\">\r\n     <g id=\"line2d_2\">\r\n      <g>\r\n       <use style=\"stroke:#000000;stroke-width:0.8;\" x=\"86.817835\" xlink:href=\"#m71c6f8d123\" y=\"143.1\"/>\r\n      </g>\r\n     </g>\r\n     <g id=\"text_2\">\r\n      <!-- 0 -->\r\n      <g transform=\"translate(83.636585 157.698438)scale(0.1 -0.1)\">\r\n       <defs>\r\n        <path d=\"M 31.78125 66.40625 \r\nQ 24.171875 66.40625 20.328125 58.90625 \r\nQ 16.5 51.421875 16.5 36.375 \r\nQ 16.5 21.390625 20.328125 13.890625 \r\nQ 24.171875 6.390625 31.78125 6.390625 \r\nQ 39.453125 6.390625 43.28125 13.890625 \r\nQ 47.125 21.390625 47.125 36.375 \r\nQ 47.125 51.421875 43.28125 58.90625 \r\nQ 39.453125 66.40625 31.78125 66.40625 \r\nz\r\nM 31.78125 74.21875 \r\nQ 44.046875 74.21875 50.515625 64.515625 \r\nQ 56.984375 54.828125 56.984375 36.375 \r\nQ 56.984375 17.96875 50.515625 8.265625 \r\nQ 44.046875 -1.421875 31.78125 -1.421875 \r\nQ 19.53125 -1.421875 13.0625 8.265625 \r\nQ 6.59375 17.96875 6.59375 36.375 \r\nQ 6.59375 54.828125 13.0625 64.515625 \r\nQ 19.53125 74.21875 31.78125 74.21875 \r\nz\r\n\" id=\"DejaVuSans-48\"/>\r\n       </defs>\r\n       <use xlink:href=\"#DejaVuSans-48\"/>\r\n      </g>\r\n     </g>\r\n    </g>\r\n    <g id=\"xtick_3\">\r\n     <g id=\"line2d_3\">\r\n      <g>\r\n       <use style=\"stroke:#000000;stroke-width:0.8;\" x=\"123.570547\" xlink:href=\"#m71c6f8d123\" y=\"143.1\"/>\r\n      </g>\r\n     </g>\r\n     <g id=\"text_3\">\r\n      <!-- 1 -->\r\n      <g transform=\"translate(120.389297 157.698438)scale(0.1 -0.1)\">\r\n       <use xlink:href=\"#DejaVuSans-49\"/>\r\n      </g>\r\n     </g>\r\n    </g>\r\n    <g id=\"xtick_4\">\r\n     <g id=\"line2d_4\">\r\n      <g>\r\n       <use style=\"stroke:#000000;stroke-width:0.8;\" x=\"160.32326\" xlink:href=\"#m71c6f8d123\" y=\"143.1\"/>\r\n      </g>\r\n     </g>\r\n     <g id=\"text_4\">\r\n      <!-- 2 -->\r\n      <g transform=\"translate(157.14201 157.698438)scale(0.1 -0.1)\">\r\n       <defs>\r\n        <path d=\"M 19.1875 8.296875 \r\nL 53.609375 8.296875 \r\nL 53.609375 0 \r\nL 7.328125 0 \r\nL 7.328125 8.296875 \r\nQ 12.9375 14.109375 22.625 23.890625 \r\nQ 32.328125 33.6875 34.8125 36.53125 \r\nQ 39.546875 41.84375 41.421875 45.53125 \r\nQ 43.3125 49.21875 43.3125 52.78125 \r\nQ 43.3125 58.59375 39.234375 62.25 \r\nQ 35.15625 65.921875 28.609375 65.921875 \r\nQ 23.96875 65.921875 18.8125 64.3125 \r\nQ 13.671875 62.703125 7.8125 59.421875 \r\nL 7.8125 69.390625 \r\nQ 13.765625 71.78125 18.9375 73 \r\nQ 24.125 74.21875 28.421875 74.21875 \r\nQ 39.75 74.21875 46.484375 68.546875 \r\nQ 53.21875 62.890625 53.21875 53.421875 \r\nQ 53.21875 48.921875 51.53125 44.890625 \r\nQ 49.859375 40.875 45.40625 35.40625 \r\nQ 44.1875 33.984375 37.640625 27.21875 \r\nQ 31.109375 20.453125 19.1875 8.296875 \r\nz\r\n\" id=\"DejaVuSans-50\"/>\r\n       </defs>\r\n       <use xlink:href=\"#DejaVuSans-50\"/>\r\n      </g>\r\n     </g>\r\n    </g>\r\n    <g id=\"xtick_5\">\r\n     <g id=\"line2d_5\">\r\n      <g>\r\n       <use style=\"stroke:#000000;stroke-width:0.8;\" x=\"197.075973\" xlink:href=\"#m71c6f8d123\" y=\"143.1\"/>\r\n      </g>\r\n     </g>\r\n     <g id=\"text_5\">\r\n      <!-- 3 -->\r\n      <g transform=\"translate(193.894723 157.698438)scale(0.1 -0.1)\">\r\n       <defs>\r\n        <path d=\"M 40.578125 39.3125 \r\nQ 47.65625 37.796875 51.625 33 \r\nQ 55.609375 28.21875 55.609375 21.1875 \r\nQ 55.609375 10.40625 48.1875 4.484375 \r\nQ 40.765625 -1.421875 27.09375 -1.421875 \r\nQ 22.515625 -1.421875 17.65625 -0.515625 \r\nQ 12.796875 0.390625 7.625 2.203125 \r\nL 7.625 11.71875 \r\nQ 11.71875 9.328125 16.59375 8.109375 \r\nQ 21.484375 6.890625 26.8125 6.890625 \r\nQ 36.078125 6.890625 40.9375 10.546875 \r\nQ 45.796875 14.203125 45.796875 21.1875 \r\nQ 45.796875 27.640625 41.28125 31.265625 \r\nQ 36.765625 34.90625 28.71875 34.90625 \r\nL 20.21875 34.90625 \r\nL 20.21875 43.015625 \r\nL 29.109375 43.015625 \r\nQ 36.375 43.015625 40.234375 45.921875 \r\nQ 44.09375 48.828125 44.09375 54.296875 \r\nQ 44.09375 59.90625 40.109375 62.90625 \r\nQ 36.140625 65.921875 28.71875 65.921875 \r\nQ 24.65625 65.921875 20.015625 65.03125 \r\nQ 15.375 64.15625 9.8125 62.3125 \r\nL 9.8125 71.09375 \r\nQ 15.4375 72.65625 20.34375 73.4375 \r\nQ 25.25 74.21875 29.59375 74.21875 \r\nQ 40.828125 74.21875 47.359375 69.109375 \r\nQ 53.90625 64.015625 53.90625 55.328125 \r\nQ 53.90625 49.265625 50.4375 45.09375 \r\nQ 46.96875 40.921875 40.578125 39.3125 \r\nz\r\n\" id=\"DejaVuSans-51\"/>\r\n       </defs>\r\n       <use xlink:href=\"#DejaVuSans-51\"/>\r\n      </g>\r\n     </g>\r\n    </g>\r\n   </g>\r\n   <g id=\"matplotlib.axis_2\">\r\n    <g id=\"ytick_1\">\r\n     <g id=\"line2d_6\">\r\n      <defs>\r\n       <path d=\"M 0 0 \r\nL -3.5 0 \r\n\" id=\"mc44b909ae7\" style=\"stroke:#000000;stroke-width:0.8;\"/>\r\n      </defs>\r\n      <g>\r\n       <use style=\"stroke:#000000;stroke-width:0.8;\" x=\"28.942188\" xlink:href=\"#mc44b909ae7\" y=\"130.83987\"/>\r\n      </g>\r\n     </g>\r\n     <g id=\"text_6\">\r\n      <!-- −2 -->\r\n      <g transform=\"translate(7.2 134.639089)scale(0.1 -0.1)\">\r\n       <use xlink:href=\"#DejaVuSans-8722\"/>\r\n       <use x=\"83.789062\" xlink:href=\"#DejaVuSans-50\"/>\r\n      </g>\r\n     </g>\r\n    </g>\r\n    <g id=\"ytick_2\">\r\n     <g id=\"line2d_7\">\r\n      <g>\r\n       <use style=\"stroke:#000000;stroke-width:0.8;\" x=\"28.942188\" xlink:href=\"#mc44b909ae7\" y=\"105.555793\"/>\r\n      </g>\r\n     </g>\r\n     <g id=\"text_7\">\r\n      <!-- 0 -->\r\n      <g transform=\"translate(15.579688 109.355012)scale(0.1 -0.1)\">\r\n       <use xlink:href=\"#DejaVuSans-48\"/>\r\n      </g>\r\n     </g>\r\n    </g>\r\n    <g id=\"ytick_3\">\r\n     <g id=\"line2d_8\">\r\n      <g>\r\n       <use style=\"stroke:#000000;stroke-width:0.8;\" x=\"28.942188\" xlink:href=\"#mc44b909ae7\" y=\"80.271716\"/>\r\n      </g>\r\n     </g>\r\n     <g id=\"text_8\">\r\n      <!-- 2 -->\r\n      <g transform=\"translate(15.579688 84.070935)scale(0.1 -0.1)\">\r\n       <use xlink:href=\"#DejaVuSans-50\"/>\r\n      </g>\r\n     </g>\r\n    </g>\r\n    <g id=\"ytick_4\">\r\n     <g id=\"line2d_9\">\r\n      <g>\r\n       <use style=\"stroke:#000000;stroke-width:0.8;\" x=\"28.942188\" xlink:href=\"#mc44b909ae7\" y=\"54.987639\"/>\r\n      </g>\r\n     </g>\r\n     <g id=\"text_9\">\r\n      <!-- 4 -->\r\n      <g transform=\"translate(15.579688 58.786858)scale(0.1 -0.1)\">\r\n       <defs>\r\n        <path d=\"M 37.796875 64.3125 \r\nL 12.890625 25.390625 \r\nL 37.796875 25.390625 \r\nz\r\nM 35.203125 72.90625 \r\nL 47.609375 72.90625 \r\nL 47.609375 25.390625 \r\nL 58.015625 25.390625 \r\nL 58.015625 17.1875 \r\nL 47.609375 17.1875 \r\nL 47.609375 0 \r\nL 37.796875 0 \r\nL 37.796875 17.1875 \r\nL 4.890625 17.1875 \r\nL 4.890625 26.703125 \r\nz\r\n\" id=\"DejaVuSans-52\"/>\r\n       </defs>\r\n       <use xlink:href=\"#DejaVuSans-52\"/>\r\n      </g>\r\n     </g>\r\n    </g>\r\n    <g id=\"ytick_5\">\r\n     <g id=\"line2d_10\">\r\n      <g>\r\n       <use style=\"stroke:#000000;stroke-width:0.8;\" x=\"28.942188\" xlink:href=\"#mc44b909ae7\" y=\"29.703562\"/>\r\n      </g>\r\n     </g>\r\n     <g id=\"text_10\">\r\n      <!-- 6 -->\r\n      <g transform=\"translate(15.579688 33.502781)scale(0.1 -0.1)\">\r\n       <defs>\r\n        <path d=\"M 33.015625 40.375 \r\nQ 26.375 40.375 22.484375 35.828125 \r\nQ 18.609375 31.296875 18.609375 23.390625 \r\nQ 18.609375 15.53125 22.484375 10.953125 \r\nQ 26.375 6.390625 33.015625 6.390625 \r\nQ 39.65625 6.390625 43.53125 10.953125 \r\nQ 47.40625 15.53125 47.40625 23.390625 \r\nQ 47.40625 31.296875 43.53125 35.828125 \r\nQ 39.65625 40.375 33.015625 40.375 \r\nz\r\nM 52.59375 71.296875 \r\nL 52.59375 62.3125 \r\nQ 48.875 64.0625 45.09375 64.984375 \r\nQ 41.3125 65.921875 37.59375 65.921875 \r\nQ 27.828125 65.921875 22.671875 59.328125 \r\nQ 17.53125 52.734375 16.796875 39.40625 \r\nQ 19.671875 43.65625 24.015625 45.921875 \r\nQ 28.375 48.1875 33.59375 48.1875 \r\nQ 44.578125 48.1875 50.953125 41.515625 \r\nQ 57.328125 34.859375 57.328125 23.390625 \r\nQ 57.328125 12.15625 50.6875 5.359375 \r\nQ 44.046875 -1.421875 33.015625 -1.421875 \r\nQ 20.359375 -1.421875 13.671875 8.265625 \r\nQ 6.984375 17.96875 6.984375 36.375 \r\nQ 6.984375 53.65625 15.1875 63.9375 \r\nQ 23.390625 74.21875 37.203125 74.21875 \r\nQ 40.921875 74.21875 44.703125 73.484375 \r\nQ 48.484375 72.75 52.59375 71.296875 \r\nz\r\n\" id=\"DejaVuSans-54\"/>\r\n       </defs>\r\n       <use xlink:href=\"#DejaVuSans-54\"/>\r\n      </g>\r\n     </g>\r\n    </g>\r\n   </g>\r\n   <g id=\"patch_3\">\r\n    <path d=\"M 28.942188 143.1 \r\nL 28.942188 7.2 \r\n\" style=\"fill:none;stroke:#000000;stroke-linecap:square;stroke-linejoin:miter;stroke-width:0.8;\"/>\r\n   </g>\r\n   <g id=\"patch_4\">\r\n    <path d=\"M 224.242188 143.1 \r\nL 224.242188 7.2 \r\n\" style=\"fill:none;stroke:#000000;stroke-linecap:square;stroke-linejoin:miter;stroke-width:0.8;\"/>\r\n   </g>\r\n   <g id=\"patch_5\">\r\n    <path d=\"M 28.942188 143.1 \r\nL 224.242188 143.1 \r\n\" style=\"fill:none;stroke:#000000;stroke-linecap:square;stroke-linejoin:miter;stroke-width:0.8;\"/>\r\n   </g>\r\n   <g id=\"patch_6\">\r\n    <path d=\"M 28.942188 7.2 \r\nL 224.242188 7.2 \r\n\" style=\"fill:none;stroke:#000000;stroke-linecap:square;stroke-linejoin:miter;stroke-width:0.8;\"/>\r\n   </g>\r\n  </g>\r\n </g>\r\n <defs>\r\n  <clipPath id=\"pe4086e4c0d\">\r\n   <rect height=\"135.9\" width=\"195.3\" x=\"28.942188\" y=\"7.2\"/>\r\n  </clipPath>\r\n </defs>\r\n</svg>\r\n"
     },
     "metadata": {
      "needs_background": "light"
     }
    }
   ],
   "source": [
    "d2l.set_figsize()\n",
    "d2l.plt.scatter(d2l.numpy(data[:100, 0]), d2l.numpy(data[:100, 1]));\n",
    "print(f'The covariance matrix is\\n{d2l.matmul(tf.transpose(A), A)}')"
   ]
  },
  {
   "cell_type": "code",
   "execution_count": 5,
   "metadata": {},
   "outputs": [],
   "source": [
    "batch_size = 8\n",
    "data_iter = d2l.load_array((data,), batch_size)"
   ]
  },
  {
   "cell_type": "code",
   "execution_count": 6,
   "metadata": {},
   "outputs": [],
   "source": [
    "net_G = tf.keras.Sequential()\n",
    "net_G.add(tf.keras.layers.Dense(2))"
   ]
  },
  {
   "cell_type": "markdown",
   "metadata": {},
   "source": [
    "tf.keras.activations.tanh(a)\n",
    "https://www.tensorflow.org/api_docs/python/tf/keras/activations/tanh\n"
   ]
  },
  {
   "cell_type": "code",
   "execution_count": 7,
   "metadata": {},
   "outputs": [],
   "source": [
    "net_D = tf.keras.Sequential()\n",
    "net_D.add(tf.keras.layers.Dense(5, activation='tanh'))\n",
    "net_D.add(tf.keras.layers.Dense(3, activation='tanh'))\n",
    "net_D.add(tf.keras.layers.Dense(1))"
   ]
  },
  {
   "cell_type": "markdown",
   "metadata": {},
   "source": [
    "with tf.GradientTape() as t:\n",
    "http://preview.d2l.ai/d2l-en/master/chapter_preliminaries/autograd.html\n"
   ]
  },
  {
   "cell_type": "markdown",
   "metadata": {},
   "source": [
    "t.gradient(y, x) \n",
    "t.gradient(loss_D, trainer_D) "
   ]
  },
  {
   "cell_type": "code",
   "execution_count": 8,
   "metadata": {},
   "outputs": [],
   "source": [
    "#@save\n",
    "def update_D(X, Z, net_D, net_G, loss, trainer_D):\n",
    "    \"\"\"Update discriminator.\"\"\"\n",
    "    batch_size = np.array(X).shape[0]\n",
    "    ones = tf.ones((batch_size,), tf.float32, device=np.array(X).device)\n",
    "    zeros = tf.zeros((batch_size,), tf.float32, device=np.array(X).device)\n",
    "    with tf.GradientTape() as t:\n",
    "        real_Y = net_D(X)\n",
    "        fake_X = net_G(Z)\n",
    "        # Do not need to compute gradient for `net_G`, detach it from\n",
    "        # computing gradients.\n",
    "        fake_Y = net_D(fake_X.detach())\n",
    "        loss_D = (loss(real_Y, ones) + loss(fake_Y, zeros)) / 2\n",
    "    t.gradient(loss_D, trainer_D) \n",
    "    trainer_D.step(batch_size)\n",
    "    return float(loss_D.sum())"
   ]
  },
  {
   "cell_type": "code",
   "execution_count": 9,
   "metadata": {},
   "outputs": [],
   "source": [
    "#@save\n",
    "def update_G(Z, net_D, net_G, loss, trainer_G):\n",
    "    \"\"\"Update generator.\"\"\"\n",
    "    batch_size = np.array(Z).shape[0]\n",
    "    ones = tf.ones((batch_size,), tf.float32, device=np.array(Z).device)\n",
    "    with tf.GradientTape() as t:\n",
    "        # We could reuse `fake_X` from `update_D` to save computation\n",
    "        fake_X = net_G(Z)\n",
    "        # Recomputing `fake_Y` is needed since `net_D` is changed\n",
    "        fake_Y = net_D(fake_X)\n",
    "        loss_G = loss(fake_Y, ones)\n",
    "    t.gradient(loss_G, trainer_G) \n",
    "    trainer_G.step(batch_size)\n",
    "    return float(loss_G.sum())"
   ]
  },
  {
   "cell_type": "markdown",
   "metadata": {},
   "source": [
    "https://www.google.com/search?q=numpy()+tensorflow&rlz=1C1GCEA_enJP909HK909&oq=numpy()+tensorflow&aqs=chrome..69i57j0l7.2792j0j1&sourceid=chrome&ie=UTF-8"
   ]
  },
  {
   "cell_type": "markdown",
   "metadata": {},
   "source": [
    "https://www.tensorflow.org/api_docs/python/tf/keras/optimizers/Adam\n",
    "tf.keras.optimizers.Adam(learning_rate=0.1)\n",
    "m.compile\n",
    "m = tf.keras.models.Sequential([tf.keras.layers.Dense(10)])\n",
    "m.compile(opt, loss='mse')"
   ]
  },
  {
   "cell_type": "markdown",
   "metadata": {},
   "source": [
    "https://stackoverflow.com/questions/55683729/bcewithlogitsloss-in-keras\n",
    "https://www.tensorflow.org/api_docs/python/tf/keras/losses/BinaryCrossentropy\n"
   ]
  },
  {
   "cell_type": "markdown",
   "metadata": {},
   "source": [
    "def weight_variable(shape, w=0.1):\n",
    "  initial = tf.truncated_normal(shape, stddev=w)\n",
    "  return tf.Variable(initial)\n",
    "  https://stackoverflow.com/questions/43489697/tensorflow-weight-initialization\n",
    "\n",
    "  The values generated are similar to values from a tf.keras.initializers.RandomNormal initializer except that values more than two standard deviations from the mean are discarded and re-drawn.\n",
    "  https://keras.io/api/layers/initializers/"
   ]
  },
  {
   "cell_type": "markdown",
   "metadata": {},
   "source": [
    "tf.Variable(initial_value=w_init(\n",
    "            shape=(input_dim, unit), dtype=tf.float32), trainable=True)\n",
    "            https://zhuanlan.zhihu.com/p/59481536"
   ]
  },
  {
   "cell_type": "markdown",
   "metadata": {},
   "source": [
    "https://keras.io/api/layers/initializers/"
   ]
  },
  {
   "cell_type": "markdown",
   "metadata": {},
   "source": [
    "numpy.array\n",
    "https://stackoverflow.com/questions/41198144/attributeerror-tuple-object-has-no-attribute-shape"
   ]
  },
  {
   "cell_type": "code",
   "execution_count": 10,
   "metadata": {},
   "outputs": [],
   "source": [
    "def train(net_D, net_G, data_iter, num_epochs, lr_D, lr_G, latent_dim, data):\n",
    "    loss = tf.keras.losses.BinaryCrossentropy(reduction=\n",
    "                                tf.keras.losses.Reduction.SUM)\n",
    "    tf.keras.initializers.RandomNormal(net_D, stddev=0.02)\n",
    "    tf.keras.initializers.RandomNormal(net_G, stddev=0.02)\n",
    "    trainer_D = net_D.compile(tf.keras.optimizers.Adam(learning_rate=lr_D), loss='mse')\n",
    "    trainer_G = net_G.compile(tf.keras.optimizers.Adam(learning_rate=lr_G), loss='mse')\n",
    "    animator = d2l.Animator(xlabel='epoch', ylabel='loss',\n",
    "                            xlim=[1, num_epochs], nrows=2, figsize=(5, 5),\n",
    "                            legend=['discriminator', 'generator'])\n",
    "    animator.fig.subplots_adjust(hspace=0.3)\n",
    "    for epoch in range(num_epochs):\n",
    "        # Train one epoch\n",
    "        timer = d2l.Timer()\n",
    "        metric = d2l.Accumulator(3)  # loss_D, loss_G, num_examples\n",
    "        for X in data_iter:\n",
    "            batch_size = np.array(X).shape[0]\n",
    "            Z = d2l.normal([batch_size, latent_dim], 0, 1, tf.float32)\n",
    "            metric.add(update_D(X, Z, net_D, net_G, loss, trainer_D),\n",
    "                       update_G(Z, net_D, net_G, loss, trainer_G),\n",
    "                       batch_size)\n",
    "        # Visualize generated examples\n",
    "        Z = d2l.normal([100, latent_dim], 0, 1, tf.float32)\n",
    "        fake_X = net_G(Z).Tensor.numpy()\n",
    "        animator.axes[1].cla()\n",
    "        animator.axes[1].scatter(data[:, 0], data[:, 1])\n",
    "        animator.axes[1].scatter(fake_X[:, 0], fake_X[:, 1])\n",
    "        animator.axes[1].legend(['real', 'generated'])\n",
    "        # Show the losses\n",
    "        loss_D, loss_G = metric[0]/metric[2], metric[1]/metric[2]\n",
    "        animator.add(epoch + 1, (loss_D, loss_G))\n",
    "    print(f'loss_D {loss_D:.3f}, loss_G {loss_G:.3f}, '\n",
    "          f'{metric[2] / timer.stop():.1f} examples/sec')"
   ]
  },
  {
   "cell_type": "code",
   "execution_count": 11,
   "metadata": {},
   "outputs": [
    {
     "output_type": "error",
     "ename": "AttributeError",
     "evalue": "'numpy.ndarray' object has no attribute 'device'",
     "traceback": [
      "\u001b[1;31m---------------------------------------------------------------------------\u001b[0m",
      "\u001b[1;31mAttributeError\u001b[0m                            Traceback (most recent call last)",
      "\u001b[1;32m<ipython-input-11-251159593cac>\u001b[0m in \u001b[0;36m<module>\u001b[1;34m\u001b[0m\n\u001b[0;32m      1\u001b[0m \u001b[0mlr_D\u001b[0m\u001b[1;33m,\u001b[0m \u001b[0mlr_G\u001b[0m\u001b[1;33m,\u001b[0m \u001b[0mlatent_dim\u001b[0m\u001b[1;33m,\u001b[0m \u001b[0mnum_epochs\u001b[0m \u001b[1;33m=\u001b[0m \u001b[1;36m0.05\u001b[0m\u001b[1;33m,\u001b[0m \u001b[1;36m0.005\u001b[0m\u001b[1;33m,\u001b[0m \u001b[1;36m2\u001b[0m\u001b[1;33m,\u001b[0m \u001b[1;36m20\u001b[0m\u001b[1;33m\u001b[0m\u001b[1;33m\u001b[0m\u001b[0m\n\u001b[0;32m      2\u001b[0m train(net_D, net_G, data_iter, num_epochs, lr_D, lr_G,\n\u001b[1;32m----> 3\u001b[1;33m       latent_dim, d2l.numpy(data[:100]))\n\u001b[0m",
      "\u001b[1;32m<ipython-input-10-1556e6dd1300>\u001b[0m in \u001b[0;36mtrain\u001b[1;34m(net_D, net_G, data_iter, num_epochs, lr_D, lr_G, latent_dim, data)\u001b[0m\n\u001b[0;32m     17\u001b[0m             \u001b[0mbatch_size\u001b[0m \u001b[1;33m=\u001b[0m \u001b[0mnp\u001b[0m\u001b[1;33m.\u001b[0m\u001b[0marray\u001b[0m\u001b[1;33m(\u001b[0m\u001b[0mX\u001b[0m\u001b[1;33m)\u001b[0m\u001b[1;33m.\u001b[0m\u001b[0mshape\u001b[0m\u001b[1;33m[\u001b[0m\u001b[1;36m0\u001b[0m\u001b[1;33m]\u001b[0m\u001b[1;33m\u001b[0m\u001b[1;33m\u001b[0m\u001b[0m\n\u001b[0;32m     18\u001b[0m             \u001b[0mZ\u001b[0m \u001b[1;33m=\u001b[0m \u001b[0md2l\u001b[0m\u001b[1;33m.\u001b[0m\u001b[0mnormal\u001b[0m\u001b[1;33m(\u001b[0m\u001b[1;33m[\u001b[0m\u001b[0mbatch_size\u001b[0m\u001b[1;33m,\u001b[0m \u001b[0mlatent_dim\u001b[0m\u001b[1;33m]\u001b[0m\u001b[1;33m,\u001b[0m \u001b[1;36m0\u001b[0m\u001b[1;33m,\u001b[0m \u001b[1;36m1\u001b[0m\u001b[1;33m,\u001b[0m \u001b[0mtf\u001b[0m\u001b[1;33m.\u001b[0m\u001b[0mfloat32\u001b[0m\u001b[1;33m)\u001b[0m\u001b[1;33m\u001b[0m\u001b[1;33m\u001b[0m\u001b[0m\n\u001b[1;32m---> 19\u001b[1;33m             metric.add(update_D(X, Z, net_D, net_G, loss, trainer_D),\n\u001b[0m\u001b[0;32m     20\u001b[0m                        \u001b[0mupdate_G\u001b[0m\u001b[1;33m(\u001b[0m\u001b[0mZ\u001b[0m\u001b[1;33m,\u001b[0m \u001b[0mnet_D\u001b[0m\u001b[1;33m,\u001b[0m \u001b[0mnet_G\u001b[0m\u001b[1;33m,\u001b[0m \u001b[0mloss\u001b[0m\u001b[1;33m,\u001b[0m \u001b[0mtrainer_G\u001b[0m\u001b[1;33m)\u001b[0m\u001b[1;33m,\u001b[0m\u001b[1;33m\u001b[0m\u001b[1;33m\u001b[0m\u001b[0m\n\u001b[0;32m     21\u001b[0m                        batch_size)\n",
      "\u001b[1;32m<ipython-input-8-a4ce7c48d101>\u001b[0m in \u001b[0;36mupdate_D\u001b[1;34m(X, Z, net_D, net_G, loss, trainer_D)\u001b[0m\n\u001b[0;32m      3\u001b[0m     \u001b[1;34m\"\"\"Update discriminator.\"\"\"\u001b[0m\u001b[1;33m\u001b[0m\u001b[1;33m\u001b[0m\u001b[0m\n\u001b[0;32m      4\u001b[0m     \u001b[0mbatch_size\u001b[0m \u001b[1;33m=\u001b[0m \u001b[0mnp\u001b[0m\u001b[1;33m.\u001b[0m\u001b[0marray\u001b[0m\u001b[1;33m(\u001b[0m\u001b[0mX\u001b[0m\u001b[1;33m)\u001b[0m\u001b[1;33m.\u001b[0m\u001b[0mshape\u001b[0m\u001b[1;33m[\u001b[0m\u001b[1;36m0\u001b[0m\u001b[1;33m]\u001b[0m\u001b[1;33m\u001b[0m\u001b[1;33m\u001b[0m\u001b[0m\n\u001b[1;32m----> 5\u001b[1;33m     \u001b[0mones\u001b[0m \u001b[1;33m=\u001b[0m \u001b[0mtf\u001b[0m\u001b[1;33m.\u001b[0m\u001b[0mones\u001b[0m\u001b[1;33m(\u001b[0m\u001b[1;33m(\u001b[0m\u001b[0mbatch_size\u001b[0m\u001b[1;33m,\u001b[0m\u001b[1;33m)\u001b[0m\u001b[1;33m,\u001b[0m \u001b[0mtf\u001b[0m\u001b[1;33m.\u001b[0m\u001b[0mfloat32\u001b[0m\u001b[1;33m,\u001b[0m \u001b[0mdevice\u001b[0m\u001b[1;33m=\u001b[0m\u001b[0mnp\u001b[0m\u001b[1;33m.\u001b[0m\u001b[0marray\u001b[0m\u001b[1;33m(\u001b[0m\u001b[0mX\u001b[0m\u001b[1;33m)\u001b[0m\u001b[1;33m.\u001b[0m\u001b[0mdevice\u001b[0m\u001b[1;33m)\u001b[0m\u001b[1;33m\u001b[0m\u001b[1;33m\u001b[0m\u001b[0m\n\u001b[0m\u001b[0;32m      6\u001b[0m     \u001b[0mzeros\u001b[0m \u001b[1;33m=\u001b[0m \u001b[0mtf\u001b[0m\u001b[1;33m.\u001b[0m\u001b[0mzeros\u001b[0m\u001b[1;33m(\u001b[0m\u001b[1;33m(\u001b[0m\u001b[0mbatch_size\u001b[0m\u001b[1;33m,\u001b[0m\u001b[1;33m)\u001b[0m\u001b[1;33m,\u001b[0m \u001b[0mtf\u001b[0m\u001b[1;33m.\u001b[0m\u001b[0mfloat32\u001b[0m\u001b[1;33m,\u001b[0m \u001b[0mdevice\u001b[0m\u001b[1;33m=\u001b[0m\u001b[0mnp\u001b[0m\u001b[1;33m.\u001b[0m\u001b[0marray\u001b[0m\u001b[1;33m(\u001b[0m\u001b[0mX\u001b[0m\u001b[1;33m)\u001b[0m\u001b[1;33m.\u001b[0m\u001b[0mdevice\u001b[0m\u001b[1;33m)\u001b[0m\u001b[1;33m\u001b[0m\u001b[1;33m\u001b[0m\u001b[0m\n\u001b[0;32m      7\u001b[0m     \u001b[1;32mwith\u001b[0m \u001b[0mtf\u001b[0m\u001b[1;33m.\u001b[0m\u001b[0mGradientTape\u001b[0m\u001b[1;33m(\u001b[0m\u001b[1;33m)\u001b[0m \u001b[1;32mas\u001b[0m \u001b[0mt\u001b[0m\u001b[1;33m:\u001b[0m\u001b[1;33m\u001b[0m\u001b[1;33m\u001b[0m\u001b[0m\n",
      "\u001b[1;31mAttributeError\u001b[0m: 'numpy.ndarray' object has no attribute 'device'"
     ]
    }
   ],
   "source": [
    "lr_D, lr_G, latent_dim, num_epochs = 0.05, 0.005, 2, 20\n",
    "train(net_D, net_G, data_iter, num_epochs, lr_D, lr_G,\n",
    "      latent_dim, d2l.numpy(data[:100]))"
   ]
  },
  {
   "cell_type": "code",
   "execution_count": null,
   "metadata": {},
   "outputs": [],
   "source": []
  }
 ]
}