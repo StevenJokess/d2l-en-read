{
 "metadata": {
  "language_info": {
   "codemirror_mode": {
    "name": "ipython",
    "version": 3
   },
   "file_extension": ".py",
   "mimetype": "text/x-python",
   "name": "python",
   "nbconvert_exporter": "python",
   "pygments_lexer": "ipython3",
   "version": "3.7.8-final"
  },
  "orig_nbformat": 2,
  "kernelspec": {
   "name": "python37864bittf2conda1de394c9651a4d19aa25641a40b8d2d8",
   "display_name": "Python 3.7.8 64-bit ('tf2': conda)"
  }
 },
 "nbformat": 4,
 "nbformat_minor": 2,
 "cells": [
  {
   "cell_type": "markdown",
   "metadata": {},
   "source": [
    "http://preview.d2l.ai/d2l-en/master/chapter_generative-adversarial-networks/gan.html"
   ]
  },
  {
   "cell_type": "code",
   "execution_count": 1,
   "metadata": {},
   "outputs": [],
   "source": [
    "%matplotlib inline\n",
    "from d2l import tensorflow as d2l\n",
    "import tensorflow as tf\n",
    "import numpy as np"
   ]
  },
  {
   "cell_type": "markdown",
   "metadata": {},
   "source": [
    "https://www.tensorflow.org/api_docs/python/tf/random/normal"
   ]
  },
  {
   "cell_type": "markdown",
   "metadata": {},
   "source": [
    "https://www.tensorflow.org/api_docs/python/tf/norm"
   ]
  },
  {
   "cell_type": "code",
   "execution_count": 2,
   "metadata": {},
   "outputs": [],
   "source": [
    "X = d2l.normal([1000, 2], 0.0, 1, tf.float32)"
   ]
  },
  {
   "cell_type": "code",
   "execution_count": 3,
   "metadata": {},
   "outputs": [],
   "source": [
    "A = d2l.tensor([[1, 2], [-0.1, 0.5]], tf.float32)\n",
    "b = d2l.tensor([1, 2], tf.float32)\n",
    "data = d2l.matmul(X, A) + b"
   ]
  },
  {
   "cell_type": "code",
   "execution_count": 4,
   "metadata": {
    "tags": []
   },
   "outputs": [
    {
     "output_type": "stream",
     "name": "stdout",
     "text": "The covariance matrix is\n[[1.01 1.95]\n [1.95 4.25]]\n"
    },
    {
     "output_type": "display_data",
     "data": {
      "text/plain": "<Figure size 252x180 with 1 Axes>",
      "image/svg+xml": "<?xml version=\"1.0\" encoding=\"utf-8\" standalone=\"no\"?>\r\n<!DOCTYPE svg PUBLIC \"-//W3C//DTD SVG 1.1//EN\"\r\n  \"http://www.w3.org/Graphics/SVG/1.1/DTD/svg11.dtd\">\r\n<!-- Created with matplotlib (https://matplotlib.org/) -->\r\n<svg height=\"166.978125pt\" version=\"1.1\" viewBox=\"0 0 240.982812 166.978125\" width=\"240.982812pt\" xmlns=\"http://www.w3.org/2000/svg\" xmlns:xlink=\"http://www.w3.org/1999/xlink\">\r\n <metadata>\r\n  <rdf:RDF xmlns:cc=\"http://creativecommons.org/ns#\" xmlns:dc=\"http://purl.org/dc/elements/1.1/\" xmlns:rdf=\"http://www.w3.org/1999/02/22-rdf-syntax-ns#\">\r\n   <cc:Work>\r\n    <dc:type rdf:resource=\"http://purl.org/dc/dcmitype/StillImage\"/>\r\n    <dc:date>2020-09-04T19:21:47.908493</dc:date>\r\n    <dc:format>image/svg+xml</dc:format>\r\n    <dc:creator>\r\n     <cc:Agent>\r\n      <dc:title>Matplotlib v3.3.1, https://matplotlib.org/</dc:title>\r\n     </cc:Agent>\r\n    </dc:creator>\r\n   </cc:Work>\r\n  </rdf:RDF>\r\n </metadata>\r\n <defs>\r\n  <style type=\"text/css\">*{stroke-linecap:butt;stroke-linejoin:round;}</style>\r\n </defs>\r\n <g id=\"figure_1\">\r\n  <g id=\"patch_1\">\r\n   <path d=\"M -0 166.978125 \r\nL 240.982813 166.978125 \r\nL 240.982813 0 \r\nL -0 0 \r\nz\r\n\" style=\"fill:none;\"/>\r\n  </g>\r\n  <g id=\"axes_1\">\r\n   <g id=\"patch_2\">\r\n    <path d=\"M 38.482813 143.1 \r\nL 233.782813 143.1 \r\nL 233.782813 7.2 \r\nL 38.482813 7.2 \r\nz\r\n\" style=\"fill:#ffffff;\"/>\r\n   </g>\r\n   <g id=\"PathCollection_1\">\r\n    <defs>\r\n     <path d=\"M 0 3 \r\nC 0.795609 3 1.55874 2.683901 2.12132 2.12132 \r\nC 2.683901 1.55874 3 0.795609 3 0 \r\nC 3 -0.795609 2.683901 -1.55874 2.12132 -2.12132 \r\nC 1.55874 -2.683901 0.795609 -3 0 -3 \r\nC -0.795609 -3 -1.55874 -2.683901 -2.12132 -2.12132 \r\nC -2.683901 -1.55874 -3 -0.795609 -3 0 \r\nC -3 0.795609 -2.683901 1.55874 -2.12132 2.12132 \r\nC -1.55874 2.683901 -0.795609 3 0 3 \r\nz\r\n\" id=\"m27e059e5a7\" style=\"stroke:#1f77b4;\"/>\r\n    </defs>\r\n    <g clip-path=\"url(#p873002737a)\">\r\n     <use style=\"fill:#1f77b4;stroke:#1f77b4;\" x=\"112.056633\" xlink:href=\"#m27e059e5a7\" y=\"87.691069\"/>\r\n     <use style=\"fill:#1f77b4;stroke:#1f77b4;\" x=\"148.854801\" xlink:href=\"#m27e059e5a7\" y=\"63.634578\"/>\r\n     <use style=\"fill:#1f77b4;stroke:#1f77b4;\" x=\"102.633478\" xlink:href=\"#m27e059e5a7\" y=\"95.326739\"/>\r\n     <use style=\"fill:#1f77b4;stroke:#1f77b4;\" x=\"124.946313\" xlink:href=\"#m27e059e5a7\" y=\"84.107151\"/>\r\n     <use style=\"fill:#1f77b4;stroke:#1f77b4;\" x=\"136.709957\" xlink:href=\"#m27e059e5a7\" y=\"72.326737\"/>\r\n     <use style=\"fill:#1f77b4;stroke:#1f77b4;\" x=\"176.021027\" xlink:href=\"#m27e059e5a7\" y=\"41.905932\"/>\r\n     <use style=\"fill:#1f77b4;stroke:#1f77b4;\" x=\"125.028497\" xlink:href=\"#m27e059e5a7\" y=\"96.1857\"/>\r\n     <use style=\"fill:#1f77b4;stroke:#1f77b4;\" x=\"106.262817\" xlink:href=\"#m27e059e5a7\" y=\"89.776388\"/>\r\n     <use style=\"fill:#1f77b4;stroke:#1f77b4;\" x=\"224.90554\" xlink:href=\"#m27e059e5a7\" y=\"13.377273\"/>\r\n     <use style=\"fill:#1f77b4;stroke:#1f77b4;\" x=\"120.17581\" xlink:href=\"#m27e059e5a7\" y=\"96.605964\"/>\r\n     <use style=\"fill:#1f77b4;stroke:#1f77b4;\" x=\"114.697912\" xlink:href=\"#m27e059e5a7\" y=\"106.083888\"/>\r\n     <use style=\"fill:#1f77b4;stroke:#1f77b4;\" x=\"145.229632\" xlink:href=\"#m27e059e5a7\" y=\"74.265717\"/>\r\n     <use style=\"fill:#1f77b4;stroke:#1f77b4;\" x=\"154.27982\" xlink:href=\"#m27e059e5a7\" y=\"76.312611\"/>\r\n     <use style=\"fill:#1f77b4;stroke:#1f77b4;\" x=\"93.931607\" xlink:href=\"#m27e059e5a7\" y=\"108.176869\"/>\r\n     <use style=\"fill:#1f77b4;stroke:#1f77b4;\" x=\"87.174418\" xlink:href=\"#m27e059e5a7\" y=\"105.494503\"/>\r\n     <use style=\"fill:#1f77b4;stroke:#1f77b4;\" x=\"148.770719\" xlink:href=\"#m27e059e5a7\" y=\"68.747227\"/>\r\n     <use style=\"fill:#1f77b4;stroke:#1f77b4;\" x=\"124.611217\" xlink:href=\"#m27e059e5a7\" y=\"77.218288\"/>\r\n     <use style=\"fill:#1f77b4;stroke:#1f77b4;\" x=\"138.790648\" xlink:href=\"#m27e059e5a7\" y=\"75.692902\"/>\r\n     <use style=\"fill:#1f77b4;stroke:#1f77b4;\" x=\"157.318824\" xlink:href=\"#m27e059e5a7\" y=\"54.544346\"/>\r\n     <use style=\"fill:#1f77b4;stroke:#1f77b4;\" x=\"133.810857\" xlink:href=\"#m27e059e5a7\" y=\"74.748514\"/>\r\n     <use style=\"fill:#1f77b4;stroke:#1f77b4;\" x=\"175.431347\" xlink:href=\"#m27e059e5a7\" y=\"46.345547\"/>\r\n     <use style=\"fill:#1f77b4;stroke:#1f77b4;\" x=\"96.449127\" xlink:href=\"#m27e059e5a7\" y=\"106.048182\"/>\r\n     <use style=\"fill:#1f77b4;stroke:#1f77b4;\" x=\"120.26999\" xlink:href=\"#m27e059e5a7\" y=\"70.914385\"/>\r\n     <use style=\"fill:#1f77b4;stroke:#1f77b4;\" x=\"94.962925\" xlink:href=\"#m27e059e5a7\" y=\"86.055912\"/>\r\n     <use style=\"fill:#1f77b4;stroke:#1f77b4;\" x=\"178.410302\" xlink:href=\"#m27e059e5a7\" y=\"48.954177\"/>\r\n     <use style=\"fill:#1f77b4;stroke:#1f77b4;\" x=\"112.117845\" xlink:href=\"#m27e059e5a7\" y=\"95.110206\"/>\r\n     <use style=\"fill:#1f77b4;stroke:#1f77b4;\" x=\"161.377883\" xlink:href=\"#m27e059e5a7\" y=\"64.947244\"/>\r\n     <use style=\"fill:#1f77b4;stroke:#1f77b4;\" x=\"47.360085\" xlink:href=\"#m27e059e5a7\" y=\"136.922727\"/>\r\n     <use style=\"fill:#1f77b4;stroke:#1f77b4;\" x=\"137.506422\" xlink:href=\"#m27e059e5a7\" y=\"71.708247\"/>\r\n     <use style=\"fill:#1f77b4;stroke:#1f77b4;\" x=\"163.931215\" xlink:href=\"#m27e059e5a7\" y=\"55.779691\"/>\r\n     <use style=\"fill:#1f77b4;stroke:#1f77b4;\" x=\"168.549573\" xlink:href=\"#m27e059e5a7\" y=\"56.481922\"/>\r\n     <use style=\"fill:#1f77b4;stroke:#1f77b4;\" x=\"98.123577\" xlink:href=\"#m27e059e5a7\" y=\"105.030317\"/>\r\n     <use style=\"fill:#1f77b4;stroke:#1f77b4;\" x=\"98.003661\" xlink:href=\"#m27e059e5a7\" y=\"90.803883\"/>\r\n     <use style=\"fill:#1f77b4;stroke:#1f77b4;\" x=\"135.436579\" xlink:href=\"#m27e059e5a7\" y=\"67.710059\"/>\r\n     <use style=\"fill:#1f77b4;stroke:#1f77b4;\" x=\"111.033064\" xlink:href=\"#m27e059e5a7\" y=\"107.54559\"/>\r\n     <use style=\"fill:#1f77b4;stroke:#1f77b4;\" x=\"102.750004\" xlink:href=\"#m27e059e5a7\" y=\"93.560779\"/>\r\n     <use style=\"fill:#1f77b4;stroke:#1f77b4;\" x=\"126.340706\" xlink:href=\"#m27e059e5a7\" y=\"85.376765\"/>\r\n     <use style=\"fill:#1f77b4;stroke:#1f77b4;\" x=\"122.714517\" xlink:href=\"#m27e059e5a7\" y=\"81.651412\"/>\r\n     <use style=\"fill:#1f77b4;stroke:#1f77b4;\" x=\"154.758204\" xlink:href=\"#m27e059e5a7\" y=\"58.083763\"/>\r\n     <use style=\"fill:#1f77b4;stroke:#1f77b4;\" x=\"160.582229\" xlink:href=\"#m27e059e5a7\" y=\"56.459137\"/>\r\n     <use style=\"fill:#1f77b4;stroke:#1f77b4;\" x=\"142.148913\" xlink:href=\"#m27e059e5a7\" y=\"71.355283\"/>\r\n     <use style=\"fill:#1f77b4;stroke:#1f77b4;\" x=\"77.237995\" xlink:href=\"#m27e059e5a7\" y=\"98.342815\"/>\r\n     <use style=\"fill:#1f77b4;stroke:#1f77b4;\" x=\"169.46652\" xlink:href=\"#m27e059e5a7\" y=\"45.195925\"/>\r\n     <use style=\"fill:#1f77b4;stroke:#1f77b4;\" x=\"131.032278\" xlink:href=\"#m27e059e5a7\" y=\"88.872177\"/>\r\n     <use style=\"fill:#1f77b4;stroke:#1f77b4;\" x=\"61.763385\" xlink:href=\"#m27e059e5a7\" y=\"116.705925\"/>\r\n     <use style=\"fill:#1f77b4;stroke:#1f77b4;\" x=\"96.956403\" xlink:href=\"#m27e059e5a7\" y=\"90.76924\"/>\r\n     <use style=\"fill:#1f77b4;stroke:#1f77b4;\" x=\"114.964736\" xlink:href=\"#m27e059e5a7\" y=\"80.332188\"/>\r\n     <use style=\"fill:#1f77b4;stroke:#1f77b4;\" x=\"107.541862\" xlink:href=\"#m27e059e5a7\" y=\"92.062144\"/>\r\n     <use style=\"fill:#1f77b4;stroke:#1f77b4;\" x=\"108.846811\" xlink:href=\"#m27e059e5a7\" y=\"96.045878\"/>\r\n     <use style=\"fill:#1f77b4;stroke:#1f77b4;\" x=\"112.338439\" xlink:href=\"#m27e059e5a7\" y=\"96.088719\"/>\r\n     <use style=\"fill:#1f77b4;stroke:#1f77b4;\" x=\"73.021942\" xlink:href=\"#m27e059e5a7\" y=\"117.588494\"/>\r\n     <use style=\"fill:#1f77b4;stroke:#1f77b4;\" x=\"150.658509\" xlink:href=\"#m27e059e5a7\" y=\"62.153716\"/>\r\n     <use style=\"fill:#1f77b4;stroke:#1f77b4;\" x=\"155.888515\" xlink:href=\"#m27e059e5a7\" y=\"76.579552\"/>\r\n     <use style=\"fill:#1f77b4;stroke:#1f77b4;\" x=\"130.686948\" xlink:href=\"#m27e059e5a7\" y=\"78.629362\"/>\r\n     <use style=\"fill:#1f77b4;stroke:#1f77b4;\" x=\"127.826935\" xlink:href=\"#m27e059e5a7\" y=\"80.6779\"/>\r\n     <use style=\"fill:#1f77b4;stroke:#1f77b4;\" x=\"60.414802\" xlink:href=\"#m27e059e5a7\" y=\"130.313823\"/>\r\n     <use style=\"fill:#1f77b4;stroke:#1f77b4;\" x=\"149.764277\" xlink:href=\"#m27e059e5a7\" y=\"64.128513\"/>\r\n     <use style=\"fill:#1f77b4;stroke:#1f77b4;\" x=\"148.208191\" xlink:href=\"#m27e059e5a7\" y=\"74.711437\"/>\r\n     <use style=\"fill:#1f77b4;stroke:#1f77b4;\" x=\"105.146267\" xlink:href=\"#m27e059e5a7\" y=\"90.759534\"/>\r\n     <use style=\"fill:#1f77b4;stroke:#1f77b4;\" x=\"107.044875\" xlink:href=\"#m27e059e5a7\" y=\"83.609767\"/>\r\n     <use style=\"fill:#1f77b4;stroke:#1f77b4;\" x=\"129.689062\" xlink:href=\"#m27e059e5a7\" y=\"82.264234\"/>\r\n     <use style=\"fill:#1f77b4;stroke:#1f77b4;\" x=\"107.911119\" xlink:href=\"#m27e059e5a7\" y=\"96.894638\"/>\r\n     <use style=\"fill:#1f77b4;stroke:#1f77b4;\" x=\"97.026475\" xlink:href=\"#m27e059e5a7\" y=\"108.358669\"/>\r\n     <use style=\"fill:#1f77b4;stroke:#1f77b4;\" x=\"65.058857\" xlink:href=\"#m27e059e5a7\" y=\"126.564203\"/>\r\n     <use style=\"fill:#1f77b4;stroke:#1f77b4;\" x=\"124.893587\" xlink:href=\"#m27e059e5a7\" y=\"89.225109\"/>\r\n     <use style=\"fill:#1f77b4;stroke:#1f77b4;\" x=\"123.01507\" xlink:href=\"#m27e059e5a7\" y=\"90.532998\"/>\r\n     <use style=\"fill:#1f77b4;stroke:#1f77b4;\" x=\"92.565619\" xlink:href=\"#m27e059e5a7\" y=\"100.833897\"/>\r\n     <use style=\"fill:#1f77b4;stroke:#1f77b4;\" x=\"121.551841\" xlink:href=\"#m27e059e5a7\" y=\"80.631909\"/>\r\n     <use style=\"fill:#1f77b4;stroke:#1f77b4;\" x=\"74.705055\" xlink:href=\"#m27e059e5a7\" y=\"118.91107\"/>\r\n     <use style=\"fill:#1f77b4;stroke:#1f77b4;\" x=\"133.198627\" xlink:href=\"#m27e059e5a7\" y=\"81.565616\"/>\r\n     <use style=\"fill:#1f77b4;stroke:#1f77b4;\" x=\"89.572786\" xlink:href=\"#m27e059e5a7\" y=\"104.968796\"/>\r\n     <use style=\"fill:#1f77b4;stroke:#1f77b4;\" x=\"82.042179\" xlink:href=\"#m27e059e5a7\" y=\"114.225499\"/>\r\n     <use style=\"fill:#1f77b4;stroke:#1f77b4;\" x=\"99.9584\" xlink:href=\"#m27e059e5a7\" y=\"98.002118\"/>\r\n     <use style=\"fill:#1f77b4;stroke:#1f77b4;\" x=\"109.524631\" xlink:href=\"#m27e059e5a7\" y=\"108.05143\"/>\r\n     <use style=\"fill:#1f77b4;stroke:#1f77b4;\" x=\"104.106493\" xlink:href=\"#m27e059e5a7\" y=\"87.099984\"/>\r\n     <use style=\"fill:#1f77b4;stroke:#1f77b4;\" x=\"146.338038\" xlink:href=\"#m27e059e5a7\" y=\"78.569747\"/>\r\n     <use style=\"fill:#1f77b4;stroke:#1f77b4;\" x=\"96.545735\" xlink:href=\"#m27e059e5a7\" y=\"89.337537\"/>\r\n     <use style=\"fill:#1f77b4;stroke:#1f77b4;\" x=\"154.036152\" xlink:href=\"#m27e059e5a7\" y=\"58.938957\"/>\r\n     <use style=\"fill:#1f77b4;stroke:#1f77b4;\" x=\"136.228239\" xlink:href=\"#m27e059e5a7\" y=\"66.962612\"/>\r\n     <use style=\"fill:#1f77b4;stroke:#1f77b4;\" x=\"140.79575\" xlink:href=\"#m27e059e5a7\" y=\"61.674661\"/>\r\n     <use style=\"fill:#1f77b4;stroke:#1f77b4;\" x=\"105.212683\" xlink:href=\"#m27e059e5a7\" y=\"103.7083\"/>\r\n     <use style=\"fill:#1f77b4;stroke:#1f77b4;\" x=\"119.247952\" xlink:href=\"#m27e059e5a7\" y=\"92.80064\"/>\r\n     <use style=\"fill:#1f77b4;stroke:#1f77b4;\" x=\"87.33798\" xlink:href=\"#m27e059e5a7\" y=\"112.620618\"/>\r\n     <use style=\"fill:#1f77b4;stroke:#1f77b4;\" x=\"140.951893\" xlink:href=\"#m27e059e5a7\" y=\"63.156232\"/>\r\n     <use style=\"fill:#1f77b4;stroke:#1f77b4;\" x=\"144.13207\" xlink:href=\"#m27e059e5a7\" y=\"77.504064\"/>\r\n     <use style=\"fill:#1f77b4;stroke:#1f77b4;\" x=\"121.311038\" xlink:href=\"#m27e059e5a7\" y=\"83.060248\"/>\r\n     <use style=\"fill:#1f77b4;stroke:#1f77b4;\" x=\"64.603728\" xlink:href=\"#m27e059e5a7\" y=\"121.425525\"/>\r\n     <use style=\"fill:#1f77b4;stroke:#1f77b4;\" x=\"112.354171\" xlink:href=\"#m27e059e5a7\" y=\"97.78618\"/>\r\n     <use style=\"fill:#1f77b4;stroke:#1f77b4;\" x=\"131.665758\" xlink:href=\"#m27e059e5a7\" y=\"77.38828\"/>\r\n     <use style=\"fill:#1f77b4;stroke:#1f77b4;\" x=\"178.229564\" xlink:href=\"#m27e059e5a7\" y=\"45.361082\"/>\r\n     <use style=\"fill:#1f77b4;stroke:#1f77b4;\" x=\"135.384544\" xlink:href=\"#m27e059e5a7\" y=\"86.289781\"/>\r\n     <use style=\"fill:#1f77b4;stroke:#1f77b4;\" x=\"130.342448\" xlink:href=\"#m27e059e5a7\" y=\"77.376329\"/>\r\n     <use style=\"fill:#1f77b4;stroke:#1f77b4;\" x=\"117.519098\" xlink:href=\"#m27e059e5a7\" y=\"94.938806\"/>\r\n     <use style=\"fill:#1f77b4;stroke:#1f77b4;\" x=\"114.525204\" xlink:href=\"#m27e059e5a7\" y=\"85.9644\"/>\r\n     <use style=\"fill:#1f77b4;stroke:#1f77b4;\" x=\"95.636416\" xlink:href=\"#m27e059e5a7\" y=\"104.03844\"/>\r\n     <use style=\"fill:#1f77b4;stroke:#1f77b4;\" x=\"67.712865\" xlink:href=\"#m27e059e5a7\" y=\"127.228695\"/>\r\n     <use style=\"fill:#1f77b4;stroke:#1f77b4;\" x=\"125.854757\" xlink:href=\"#m27e059e5a7\" y=\"81.393531\"/>\r\n     <use style=\"fill:#1f77b4;stroke:#1f77b4;\" x=\"79.067563\" xlink:href=\"#m27e059e5a7\" y=\"111.185631\"/>\r\n     <use style=\"fill:#1f77b4;stroke:#1f77b4;\" x=\"176.531012\" xlink:href=\"#m27e059e5a7\" y=\"60.18234\"/>\r\n     <use style=\"fill:#1f77b4;stroke:#1f77b4;\" x=\"129.858522\" xlink:href=\"#m27e059e5a7\" y=\"85.620311\"/>\r\n    </g>\r\n   </g>\r\n   <g id=\"matplotlib.axis_1\">\r\n    <g id=\"xtick_1\">\r\n     <g id=\"line2d_1\">\r\n      <defs>\r\n       <path d=\"M 0 0 \r\nL 0 3.5 \r\n\" id=\"m0b64df2f44\" style=\"stroke:#000000;stroke-width:0.8;\"/>\r\n      </defs>\r\n      <g>\r\n       <use style=\"stroke:#000000;stroke-width:0.8;\" x=\"53.17749\" xlink:href=\"#m0b64df2f44\" y=\"143.1\"/>\r\n      </g>\r\n     </g>\r\n     <g id=\"text_1\">\r\n      <!-- −1 -->\r\n      <g transform=\"translate(45.806396 157.698438)scale(0.1 -0.1)\">\r\n       <defs>\r\n        <path d=\"M 10.59375 35.5 \r\nL 73.1875 35.5 \r\nL 73.1875 27.203125 \r\nL 10.59375 27.203125 \r\nz\r\n\" id=\"DejaVuSans-8722\"/>\r\n        <path d=\"M 12.40625 8.296875 \r\nL 28.515625 8.296875 \r\nL 28.515625 63.921875 \r\nL 10.984375 60.40625 \r\nL 10.984375 69.390625 \r\nL 28.421875 72.90625 \r\nL 38.28125 72.90625 \r\nL 38.28125 8.296875 \r\nL 54.390625 8.296875 \r\nL 54.390625 0 \r\nL 12.40625 0 \r\nz\r\n\" id=\"DejaVuSans-49\"/>\r\n       </defs>\r\n       <use xlink:href=\"#DejaVuSans-8722\"/>\r\n       <use x=\"83.789062\" xlink:href=\"#DejaVuSans-49\"/>\r\n      </g>\r\n     </g>\r\n    </g>\r\n    <g id=\"xtick_2\">\r\n     <g id=\"line2d_2\">\r\n      <g>\r\n       <use style=\"stroke:#000000;stroke-width:0.8;\" x=\"85.735039\" xlink:href=\"#m0b64df2f44\" y=\"143.1\"/>\r\n      </g>\r\n     </g>\r\n     <g id=\"text_2\">\r\n      <!-- 0 -->\r\n      <g transform=\"translate(82.553789 157.698438)scale(0.1 -0.1)\">\r\n       <defs>\r\n        <path d=\"M 31.78125 66.40625 \r\nQ 24.171875 66.40625 20.328125 58.90625 \r\nQ 16.5 51.421875 16.5 36.375 \r\nQ 16.5 21.390625 20.328125 13.890625 \r\nQ 24.171875 6.390625 31.78125 6.390625 \r\nQ 39.453125 6.390625 43.28125 13.890625 \r\nQ 47.125 21.390625 47.125 36.375 \r\nQ 47.125 51.421875 43.28125 58.90625 \r\nQ 39.453125 66.40625 31.78125 66.40625 \r\nz\r\nM 31.78125 74.21875 \r\nQ 44.046875 74.21875 50.515625 64.515625 \r\nQ 56.984375 54.828125 56.984375 36.375 \r\nQ 56.984375 17.96875 50.515625 8.265625 \r\nQ 44.046875 -1.421875 31.78125 -1.421875 \r\nQ 19.53125 -1.421875 13.0625 8.265625 \r\nQ 6.59375 17.96875 6.59375 36.375 \r\nQ 6.59375 54.828125 13.0625 64.515625 \r\nQ 19.53125 74.21875 31.78125 74.21875 \r\nz\r\n\" id=\"DejaVuSans-48\"/>\r\n       </defs>\r\n       <use xlink:href=\"#DejaVuSans-48\"/>\r\n      </g>\r\n     </g>\r\n    </g>\r\n    <g id=\"xtick_3\">\r\n     <g id=\"line2d_3\">\r\n      <g>\r\n       <use style=\"stroke:#000000;stroke-width:0.8;\" x=\"118.292588\" xlink:href=\"#m0b64df2f44\" y=\"143.1\"/>\r\n      </g>\r\n     </g>\r\n     <g id=\"text_3\">\r\n      <!-- 1 -->\r\n      <g transform=\"translate(115.111338 157.698438)scale(0.1 -0.1)\">\r\n       <use xlink:href=\"#DejaVuSans-49\"/>\r\n      </g>\r\n     </g>\r\n    </g>\r\n    <g id=\"xtick_4\">\r\n     <g id=\"line2d_4\">\r\n      <g>\r\n       <use style=\"stroke:#000000;stroke-width:0.8;\" x=\"150.850137\" xlink:href=\"#m0b64df2f44\" y=\"143.1\"/>\r\n      </g>\r\n     </g>\r\n     <g id=\"text_4\">\r\n      <!-- 2 -->\r\n      <g transform=\"translate(147.668887 157.698438)scale(0.1 -0.1)\">\r\n       <defs>\r\n        <path d=\"M 19.1875 8.296875 \r\nL 53.609375 8.296875 \r\nL 53.609375 0 \r\nL 7.328125 0 \r\nL 7.328125 8.296875 \r\nQ 12.9375 14.109375 22.625 23.890625 \r\nQ 32.328125 33.6875 34.8125 36.53125 \r\nQ 39.546875 41.84375 41.421875 45.53125 \r\nQ 43.3125 49.21875 43.3125 52.78125 \r\nQ 43.3125 58.59375 39.234375 62.25 \r\nQ 35.15625 65.921875 28.609375 65.921875 \r\nQ 23.96875 65.921875 18.8125 64.3125 \r\nQ 13.671875 62.703125 7.8125 59.421875 \r\nL 7.8125 69.390625 \r\nQ 13.765625 71.78125 18.9375 73 \r\nQ 24.125 74.21875 28.421875 74.21875 \r\nQ 39.75 74.21875 46.484375 68.546875 \r\nQ 53.21875 62.890625 53.21875 53.421875 \r\nQ 53.21875 48.921875 51.53125 44.890625 \r\nQ 49.859375 40.875 45.40625 35.40625 \r\nQ 44.1875 33.984375 37.640625 27.21875 \r\nQ 31.109375 20.453125 19.1875 8.296875 \r\nz\r\n\" id=\"DejaVuSans-50\"/>\r\n       </defs>\r\n       <use xlink:href=\"#DejaVuSans-50\"/>\r\n      </g>\r\n     </g>\r\n    </g>\r\n    <g id=\"xtick_5\">\r\n     <g id=\"line2d_5\">\r\n      <g>\r\n       <use style=\"stroke:#000000;stroke-width:0.8;\" x=\"183.407687\" xlink:href=\"#m0b64df2f44\" y=\"143.1\"/>\r\n      </g>\r\n     </g>\r\n     <g id=\"text_5\">\r\n      <!-- 3 -->\r\n      <g transform=\"translate(180.226437 157.698438)scale(0.1 -0.1)\">\r\n       <defs>\r\n        <path d=\"M 40.578125 39.3125 \r\nQ 47.65625 37.796875 51.625 33 \r\nQ 55.609375 28.21875 55.609375 21.1875 \r\nQ 55.609375 10.40625 48.1875 4.484375 \r\nQ 40.765625 -1.421875 27.09375 -1.421875 \r\nQ 22.515625 -1.421875 17.65625 -0.515625 \r\nQ 12.796875 0.390625 7.625 2.203125 \r\nL 7.625 11.71875 \r\nQ 11.71875 9.328125 16.59375 8.109375 \r\nQ 21.484375 6.890625 26.8125 6.890625 \r\nQ 36.078125 6.890625 40.9375 10.546875 \r\nQ 45.796875 14.203125 45.796875 21.1875 \r\nQ 45.796875 27.640625 41.28125 31.265625 \r\nQ 36.765625 34.90625 28.71875 34.90625 \r\nL 20.21875 34.90625 \r\nL 20.21875 43.015625 \r\nL 29.109375 43.015625 \r\nQ 36.375 43.015625 40.234375 45.921875 \r\nQ 44.09375 48.828125 44.09375 54.296875 \r\nQ 44.09375 59.90625 40.109375 62.90625 \r\nQ 36.140625 65.921875 28.71875 65.921875 \r\nQ 24.65625 65.921875 20.015625 65.03125 \r\nQ 15.375 64.15625 9.8125 62.3125 \r\nL 9.8125 71.09375 \r\nQ 15.4375 72.65625 20.34375 73.4375 \r\nQ 25.25 74.21875 29.59375 74.21875 \r\nQ 40.828125 74.21875 47.359375 69.109375 \r\nQ 53.90625 64.015625 53.90625 55.328125 \r\nQ 53.90625 49.265625 50.4375 45.09375 \r\nQ 46.96875 40.921875 40.578125 39.3125 \r\nz\r\n\" id=\"DejaVuSans-51\"/>\r\n       </defs>\r\n       <use xlink:href=\"#DejaVuSans-51\"/>\r\n      </g>\r\n     </g>\r\n    </g>\r\n    <g id=\"xtick_6\">\r\n     <g id=\"line2d_6\">\r\n      <g>\r\n       <use style=\"stroke:#000000;stroke-width:0.8;\" x=\"215.965236\" xlink:href=\"#m0b64df2f44\" y=\"143.1\"/>\r\n      </g>\r\n     </g>\r\n     <g id=\"text_6\">\r\n      <!-- 4 -->\r\n      <g transform=\"translate(212.783986 157.698438)scale(0.1 -0.1)\">\r\n       <defs>\r\n        <path d=\"M 37.796875 64.3125 \r\nL 12.890625 25.390625 \r\nL 37.796875 25.390625 \r\nz\r\nM 35.203125 72.90625 \r\nL 47.609375 72.90625 \r\nL 47.609375 25.390625 \r\nL 58.015625 25.390625 \r\nL 58.015625 17.1875 \r\nL 47.609375 17.1875 \r\nL 47.609375 0 \r\nL 37.796875 0 \r\nL 37.796875 17.1875 \r\nL 4.890625 17.1875 \r\nL 4.890625 26.703125 \r\nz\r\n\" id=\"DejaVuSans-52\"/>\r\n       </defs>\r\n       <use xlink:href=\"#DejaVuSans-52\"/>\r\n      </g>\r\n     </g>\r\n    </g>\r\n   </g>\r\n   <g id=\"matplotlib.axis_2\">\r\n    <g id=\"ytick_1\">\r\n     <g id=\"line2d_7\">\r\n      <defs>\r\n       <path d=\"M 0 0 \r\nL -3.5 0 \r\n\" id=\"m5da8473ce0\" style=\"stroke:#000000;stroke-width:0.8;\"/>\r\n      </defs>\r\n      <g>\r\n       <use style=\"stroke:#000000;stroke-width:0.8;\" x=\"38.482813\" xlink:href=\"#m5da8473ce0\" y=\"136.644677\"/>\r\n      </g>\r\n     </g>\r\n     <g id=\"text_7\">\r\n      <!-- −2.5 -->\r\n      <g transform=\"translate(7.2 140.443896)scale(0.1 -0.1)\">\r\n       <defs>\r\n        <path d=\"M 10.6875 12.40625 \r\nL 21 12.40625 \r\nL 21 0 \r\nL 10.6875 0 \r\nz\r\n\" id=\"DejaVuSans-46\"/>\r\n        <path d=\"M 10.796875 72.90625 \r\nL 49.515625 72.90625 \r\nL 49.515625 64.59375 \r\nL 19.828125 64.59375 \r\nL 19.828125 46.734375 \r\nQ 21.96875 47.46875 24.109375 47.828125 \r\nQ 26.265625 48.1875 28.421875 48.1875 \r\nQ 40.625 48.1875 47.75 41.5 \r\nQ 54.890625 34.8125 54.890625 23.390625 \r\nQ 54.890625 11.625 47.5625 5.09375 \r\nQ 40.234375 -1.421875 26.90625 -1.421875 \r\nQ 22.3125 -1.421875 17.546875 -0.640625 \r\nQ 12.796875 0.140625 7.71875 1.703125 \r\nL 7.71875 11.625 \r\nQ 12.109375 9.234375 16.796875 8.0625 \r\nQ 21.484375 6.890625 26.703125 6.890625 \r\nQ 35.15625 6.890625 40.078125 11.328125 \r\nQ 45.015625 15.765625 45.015625 23.390625 \r\nQ 45.015625 31 40.078125 35.4375 \r\nQ 35.15625 39.890625 26.703125 39.890625 \r\nQ 22.75 39.890625 18.8125 39.015625 \r\nQ 14.890625 38.140625 10.796875 36.28125 \r\nz\r\n\" id=\"DejaVuSans-53\"/>\r\n       </defs>\r\n       <use xlink:href=\"#DejaVuSans-8722\"/>\r\n       <use x=\"83.789062\" xlink:href=\"#DejaVuSans-50\"/>\r\n       <use x=\"147.412109\" xlink:href=\"#DejaVuSans-46\"/>\r\n       <use x=\"179.199219\" xlink:href=\"#DejaVuSans-53\"/>\r\n      </g>\r\n     </g>\r\n    </g>\r\n    <g id=\"ytick_2\">\r\n     <g id=\"line2d_8\">\r\n      <g>\r\n       <use style=\"stroke:#000000;stroke-width:0.8;\" x=\"38.482813\" xlink:href=\"#m5da8473ce0\" y=\"108.88266\"/>\r\n      </g>\r\n     </g>\r\n     <g id=\"text_8\">\r\n      <!-- 0.0 -->\r\n      <g transform=\"translate(15.579688 112.681879)scale(0.1 -0.1)\">\r\n       <use xlink:href=\"#DejaVuSans-48\"/>\r\n       <use x=\"63.623047\" xlink:href=\"#DejaVuSans-46\"/>\r\n       <use x=\"95.410156\" xlink:href=\"#DejaVuSans-48\"/>\r\n      </g>\r\n     </g>\r\n    </g>\r\n    <g id=\"ytick_3\">\r\n     <g id=\"line2d_9\">\r\n      <g>\r\n       <use style=\"stroke:#000000;stroke-width:0.8;\" x=\"38.482813\" xlink:href=\"#m5da8473ce0\" y=\"81.120644\"/>\r\n      </g>\r\n     </g>\r\n     <g id=\"text_9\">\r\n      <!-- 2.5 -->\r\n      <g transform=\"translate(15.579688 84.919862)scale(0.1 -0.1)\">\r\n       <use xlink:href=\"#DejaVuSans-50\"/>\r\n       <use x=\"63.623047\" xlink:href=\"#DejaVuSans-46\"/>\r\n       <use x=\"95.410156\" xlink:href=\"#DejaVuSans-53\"/>\r\n      </g>\r\n     </g>\r\n    </g>\r\n    <g id=\"ytick_4\">\r\n     <g id=\"line2d_10\">\r\n      <g>\r\n       <use style=\"stroke:#000000;stroke-width:0.8;\" x=\"38.482813\" xlink:href=\"#m5da8473ce0\" y=\"53.358627\"/>\r\n      </g>\r\n     </g>\r\n     <g id=\"text_10\">\r\n      <!-- 5.0 -->\r\n      <g transform=\"translate(15.579688 57.157845)scale(0.1 -0.1)\">\r\n       <use xlink:href=\"#DejaVuSans-53\"/>\r\n       <use x=\"63.623047\" xlink:href=\"#DejaVuSans-46\"/>\r\n       <use x=\"95.410156\" xlink:href=\"#DejaVuSans-48\"/>\r\n      </g>\r\n     </g>\r\n    </g>\r\n    <g id=\"ytick_5\">\r\n     <g id=\"line2d_11\">\r\n      <g>\r\n       <use style=\"stroke:#000000;stroke-width:0.8;\" x=\"38.482813\" xlink:href=\"#m5da8473ce0\" y=\"25.59661\"/>\r\n      </g>\r\n     </g>\r\n     <g id=\"text_11\">\r\n      <!-- 7.5 -->\r\n      <g transform=\"translate(15.579688 29.395829)scale(0.1 -0.1)\">\r\n       <defs>\r\n        <path d=\"M 8.203125 72.90625 \r\nL 55.078125 72.90625 \r\nL 55.078125 68.703125 \r\nL 28.609375 0 \r\nL 18.3125 0 \r\nL 43.21875 64.59375 \r\nL 8.203125 64.59375 \r\nz\r\n\" id=\"DejaVuSans-55\"/>\r\n       </defs>\r\n       <use xlink:href=\"#DejaVuSans-55\"/>\r\n       <use x=\"63.623047\" xlink:href=\"#DejaVuSans-46\"/>\r\n       <use x=\"95.410156\" xlink:href=\"#DejaVuSans-53\"/>\r\n      </g>\r\n     </g>\r\n    </g>\r\n   </g>\r\n   <g id=\"patch_3\">\r\n    <path d=\"M 38.482813 143.1 \r\nL 38.482813 7.2 \r\n\" style=\"fill:none;stroke:#000000;stroke-linecap:square;stroke-linejoin:miter;stroke-width:0.8;\"/>\r\n   </g>\r\n   <g id=\"patch_4\">\r\n    <path d=\"M 233.782813 143.1 \r\nL 233.782813 7.2 \r\n\" style=\"fill:none;stroke:#000000;stroke-linecap:square;stroke-linejoin:miter;stroke-width:0.8;\"/>\r\n   </g>\r\n   <g id=\"patch_5\">\r\n    <path d=\"M 38.482813 143.1 \r\nL 233.782813 143.1 \r\n\" style=\"fill:none;stroke:#000000;stroke-linecap:square;stroke-linejoin:miter;stroke-width:0.8;\"/>\r\n   </g>\r\n   <g id=\"patch_6\">\r\n    <path d=\"M 38.482813 7.2 \r\nL 233.782813 7.2 \r\n\" style=\"fill:none;stroke:#000000;stroke-linecap:square;stroke-linejoin:miter;stroke-width:0.8;\"/>\r\n   </g>\r\n  </g>\r\n </g>\r\n <defs>\r\n  <clipPath id=\"p873002737a\">\r\n   <rect height=\"135.9\" width=\"195.3\" x=\"38.482813\" y=\"7.2\"/>\r\n  </clipPath>\r\n </defs>\r\n</svg>\r\n"
     },
     "metadata": {
      "needs_background": "light"
     }
    }
   ],
   "source": [
    "d2l.set_figsize()\n",
    "d2l.plt.scatter(d2l.numpy(data[:100, 0]), d2l.numpy(data[:100, 1]));\n",
    "print(f'The covariance matrix is\\n{d2l.matmul(tf.transpose(A), A)}')"
   ]
  },
  {
   "cell_type": "code",
   "execution_count": 5,
   "metadata": {},
   "outputs": [],
   "source": [
    "batch_size = 8\n",
    "data_iter = d2l.load_array((data,), batch_size)"
   ]
  },
  {
   "cell_type": "code",
   "execution_count": 6,
   "metadata": {},
   "outputs": [],
   "source": [
    "net_G = tf.keras.Sequential()\n",
    "net_G.add(tf.keras.layers.Dense(2))"
   ]
  },
  {
   "cell_type": "markdown",
   "metadata": {},
   "source": [
    "tf.keras.activations.tanh(a)\n",
    "https://www.tensorflow.org/api_docs/python/tf/keras/activations/tanh\n"
   ]
  },
  {
   "cell_type": "code",
   "execution_count": 7,
   "metadata": {},
   "outputs": [],
   "source": [
    "net_D = tf.keras.Sequential()\n",
    "net_D.add(tf.keras.layers.Dense(5, activation='tanh'))\n",
    "net_D.add(tf.keras.layers.Dense(3, activation='tanh'))\n",
    "net_D.add(tf.keras.layers.Dense(1))"
   ]
  },
  {
   "cell_type": "markdown",
   "metadata": {},
   "source": [
    "with tf.GradientTape() as t:\n",
    "http://preview.d2l.ai/d2l-en/master/chapter_preliminaries/autograd.html\n"
   ]
  },
  {
   "cell_type": "markdown",
   "metadata": {},
   "source": [
    "t.gradient(y, x) \n",
    "t.gradient(loss_D, trainer_D) "
   ]
  },
  {
   "cell_type": "code",
   "execution_count": 8,
   "metadata": {},
   "outputs": [],
   "source": [
    "#@save\n",
    "def update_D(X, Z, net_D, net_G, loss, trainer_D):\n",
    "    \"\"\"Update discriminator.\"\"\"\n",
    "    batch_size = np.array(X).shape[0]\n",
    "    ones = tf.ones((batch_size,), tf.float32)\n",
    "    zeros = tf.zeros((batch_size,), tf.float32)\n",
    "    with tf.GradientTape() as t:\n",
    "        real_Y = net_D(tf.convert_to_tensor(X))\n",
    "        fake_X = net_G(tf.convert_to_tensor(Z))\n",
    "        # Do not need to compute gradient for `net_G`, detach it from\n",
    "        # computing gradients.\n",
    "        fake_Y = net_D(tf.stop_gradient(fake_X))\n",
    "        loss_D = (loss(real_Y, ones) + loss(fake_Y, zeros)) / 2\n",
    "    t.gradient(loss_D, net_D.trainable_variables) \n",
    "    trainer_D.step(batch_size)\n",
    "    return float(loss_D.sum())"
   ]
  },
  {
   "cell_type": "code",
   "execution_count": 9,
   "metadata": {},
   "outputs": [],
   "source": [
    "#@save\n",
    "def update_G(Z, net_D, net_G, loss, trainer_G):\n",
    "    \"\"\"Update generator.\"\"\"\n",
    "    batch_size = np.array(Z).shape[0]\n",
    "    ones = tf.ones((batch_size,), tf.float32)\n",
    "    with tf.GradientTape() as t:\n",
    "        # We could reuse `fake_X` from `update_D` to save computation\n",
    "        fake_X = net_G(tf.convert_to_tensor(Z))\n",
    "        # Recomputing `fake_Y` is needed since `net_D` is changed\n",
    "        fake_Y = net_D(tf.stop_gradient(fake_X))\n",
    "        loss_G = loss(fake_Y, ones)\n",
    "    t.gradient(loss_G, net_G.trainable_variables) \n",
    "    trainer_G.step(batch_size)\n",
    "    return float(loss_G.sum())"
   ]
  },
  {
   "cell_type": "markdown",
   "metadata": {},
   "source": [
    "https://www.google.com/search?q=numpy()+tensorflow&rlz=1C1GCEA_enJP909HK909&oq=numpy()+tensorflow&aqs=chrome..69i57j0l7.2792j0j1&sourceid=chrome&ie=UTF-8"
   ]
  },
  {
   "cell_type": "markdown",
   "metadata": {},
   "source": [
    "https://www.tensorflow.org/api_docs/python/tf/keras/optimizers/Adam\n",
    "tf.keras.optimizers.Adam(learning_rate=0.1)\n",
    "m.compile\n",
    "m = tf.keras.models.Sequential([tf.keras.layers.Dense(10)])\n",
    "m.compile(opt, loss='mse')"
   ]
  },
  {
   "cell_type": "markdown",
   "metadata": {},
   "source": [
    "https://stackoverflow.com/questions/55683729/bcewithlogitsloss-in-keras\n",
    "https://www.tensorflow.org/api_docs/python/tf/keras/losses/BinaryCrossentropy\n"
   ]
  },
  {
   "cell_type": "markdown",
   "metadata": {},
   "source": [
    "def weight_variable(shape, w=0.1):\n",
    "  initial = tf.truncated_normal(shape, stddev=w)\n",
    "  return tf.Variable(initial)\n",
    "  https://stackoverflow.com/questions/43489697/tensorflow-weight-initialization\n",
    "\n",
    "  The values generated are similar to values from a tf.keras.initializers.RandomNormal initializer except that values more than two standard deviations from the mean are discarded and re-drawn.\n",
    "  https://keras.io/api/layers/initializers/"
   ]
  },
  {
   "cell_type": "markdown",
   "metadata": {},
   "source": [
    "tf.Variable(initial_value=w_init(\n",
    "            shape=(input_dim, unit), dtype=tf.float32), trainable=True)\n",
    "            https://zhuanlan.zhihu.com/p/59481536"
   ]
  },
  {
   "cell_type": "markdown",
   "metadata": {},
   "source": [
    "https://keras.io/api/layers/initializers/"
   ]
  },
  {
   "cell_type": "markdown",
   "metadata": {},
   "source": [
    "numpy.array\n",
    "https://stackoverflow.com/questions/41198144/attributeerror-tuple-object-has-no-attribute-shape"
   ]
  },
  {
   "cell_type": "markdown",
   "metadata": {},
   "source": [
    "https://github.com/tensorflow/tensorflow/issues/29972"
   ]
  },
  {
   "cell_type": "markdown",
   "metadata": {},
   "source": [
    "tf.stop_gradient(y)\n",
    "http://preview.d2l.ai/d2l-en/master/chapter_preliminaries/autograd.html?highlight=detach"
   ]
  },
  {
   "cell_type": "markdown",
   "metadata": {},
   "source": [
    " from_logits=True 9.2.4 TensorFlow 2.0 神经网络实践"
   ]
  },
  {
   "cell_type": "code",
   "execution_count": 10,
   "metadata": {},
   "outputs": [],
   "source": [
    "def train(net_D, net_G, data_iter, num_epochs, lr_D, lr_G, latent_dim, data):\n",
    "    loss = tf.keras.losses.BinaryCrossentropy(reduction=\n",
    "                    tf.keras.losses.Reduction.SUM)\n",
    "    tf.keras.initializers.RandomNormal(net_D, stddev=0.02)\n",
    "    tf.keras.initializers.RandomNormal(net_G, stddev=0.02)\n",
    "    trainer_D = net_D.compile(tf.keras.optimizers.Adam(learning_rate=lr_D), loss='mse')\n",
    "    trainer_G = net_G.compile(tf.keras.optimizers.Adam(learning_rate=lr_G), loss='mse')\n",
    "    animator = d2l.Animator(xlabel='epoch', ylabel='loss',\n",
    "                            xlim=[1, num_epochs], nrows=2, figsize=(5, 5),\n",
    "                            legend=['discriminator', 'generator'])\n",
    "    animator.fig.subplots_adjust(hspace=0.3)\n",
    "    for epoch in range(num_epochs):\n",
    "        # Train one epoch\n",
    "        timer = d2l.Timer()\n",
    "        metric = d2l.Accumulator(3)  # loss_D, loss_G, num_examples\n",
    "        for X in data_iter:\n",
    "            batch_size = np.array(X).shape[0]\n",
    "            Z = d2l.normal([batch_size, latent_dim], 0, 1, tf.float32)\n",
    "            metric.add(update_D(X, Z, net_D, net_G, loss, trainer_D),\n",
    "                       update_G(Z, net_D, net_G, loss, trainer_G),\n",
    "                       batch_size)\n",
    "        # Visualize generated examples\n",
    "        Z = d2l.normal([100, latent_dim], 0, 1, tf.float32)\n",
    "        fake_X = net_G(Z).Tensor.numpy()\n",
    "        animator.axes[1].cla()\n",
    "        animator.axes[1].scatter(data[:, 0], data[:, 1])\n",
    "        animator.axes[1].scatter(fake_X[:, 0], fake_X[:, 1])\n",
    "        animator.axes[1].legend(['real', 'generated'])\n",
    "        # Show the losses\n",
    "        loss_D, loss_G = metric[0]/metric[2], metric[1]/metric[2]\n",
    "        animator.add(epoch + 1, (loss_D, loss_G))\n",
    "    print(f'loss_D {loss_D:.3f}, loss_G {loss_G:.3f}, '\n",
    "          f'{metric[2] / timer.stop():.1f} examples/sec')"
   ]
  },
  {
   "cell_type": "code",
   "execution_count": 11,
   "metadata": {
    "tags": []
   },
   "outputs": [
    {
     "output_type": "error",
     "ename": "AttributeError",
     "evalue": "'NoneType' object has no attribute 'step'",
     "traceback": [
      "\u001b[1;31m---------------------------------------------------------------------------\u001b[0m",
      "\u001b[1;31mAttributeError\u001b[0m                            Traceback (most recent call last)",
      "\u001b[1;32m<ipython-input-11-251159593cac>\u001b[0m in \u001b[0;36m<module>\u001b[1;34m\u001b[0m\n\u001b[0;32m      1\u001b[0m \u001b[0mlr_D\u001b[0m\u001b[1;33m,\u001b[0m \u001b[0mlr_G\u001b[0m\u001b[1;33m,\u001b[0m \u001b[0mlatent_dim\u001b[0m\u001b[1;33m,\u001b[0m \u001b[0mnum_epochs\u001b[0m \u001b[1;33m=\u001b[0m \u001b[1;36m0.05\u001b[0m\u001b[1;33m,\u001b[0m \u001b[1;36m0.005\u001b[0m\u001b[1;33m,\u001b[0m \u001b[1;36m2\u001b[0m\u001b[1;33m,\u001b[0m \u001b[1;36m20\u001b[0m\u001b[1;33m\u001b[0m\u001b[1;33m\u001b[0m\u001b[0m\n\u001b[0;32m      2\u001b[0m train(net_D, net_G, data_iter, num_epochs, lr_D, lr_G,\n\u001b[1;32m----> 3\u001b[1;33m       latent_dim, d2l.numpy(data[:100]))\n\u001b[0m",
      "\u001b[1;32m<ipython-input-10-8095cf7bebaa>\u001b[0m in \u001b[0;36mtrain\u001b[1;34m(net_D, net_G, data_iter, num_epochs, lr_D, lr_G, latent_dim, data)\u001b[0m\n\u001b[0;32m     17\u001b[0m             \u001b[0mbatch_size\u001b[0m \u001b[1;33m=\u001b[0m \u001b[0mnp\u001b[0m\u001b[1;33m.\u001b[0m\u001b[0marray\u001b[0m\u001b[1;33m(\u001b[0m\u001b[0mX\u001b[0m\u001b[1;33m)\u001b[0m\u001b[1;33m.\u001b[0m\u001b[0mshape\u001b[0m\u001b[1;33m[\u001b[0m\u001b[1;36m0\u001b[0m\u001b[1;33m]\u001b[0m\u001b[1;33m\u001b[0m\u001b[1;33m\u001b[0m\u001b[0m\n\u001b[0;32m     18\u001b[0m             \u001b[0mZ\u001b[0m \u001b[1;33m=\u001b[0m \u001b[0md2l\u001b[0m\u001b[1;33m.\u001b[0m\u001b[0mnormal\u001b[0m\u001b[1;33m(\u001b[0m\u001b[1;33m[\u001b[0m\u001b[0mbatch_size\u001b[0m\u001b[1;33m,\u001b[0m \u001b[0mlatent_dim\u001b[0m\u001b[1;33m]\u001b[0m\u001b[1;33m,\u001b[0m \u001b[1;36m0\u001b[0m\u001b[1;33m,\u001b[0m \u001b[1;36m1\u001b[0m\u001b[1;33m,\u001b[0m \u001b[0mtf\u001b[0m\u001b[1;33m.\u001b[0m\u001b[0mfloat32\u001b[0m\u001b[1;33m)\u001b[0m\u001b[1;33m\u001b[0m\u001b[1;33m\u001b[0m\u001b[0m\n\u001b[1;32m---> 19\u001b[1;33m             metric.add(update_D(X, Z, net_D, net_G, loss, trainer_D),\n\u001b[0m\u001b[0;32m     20\u001b[0m                        \u001b[0mupdate_G\u001b[0m\u001b[1;33m(\u001b[0m\u001b[0mZ\u001b[0m\u001b[1;33m,\u001b[0m \u001b[0mnet_D\u001b[0m\u001b[1;33m,\u001b[0m \u001b[0mnet_G\u001b[0m\u001b[1;33m,\u001b[0m \u001b[0mloss\u001b[0m\u001b[1;33m,\u001b[0m \u001b[0mtrainer_G\u001b[0m\u001b[1;33m)\u001b[0m\u001b[1;33m,\u001b[0m\u001b[1;33m\u001b[0m\u001b[1;33m\u001b[0m\u001b[0m\n\u001b[0;32m     21\u001b[0m                        batch_size)\n",
      "\u001b[1;32m<ipython-input-8-bfc54d9868ec>\u001b[0m in \u001b[0;36mupdate_D\u001b[1;34m(X, Z, net_D, net_G, loss, trainer_D)\u001b[0m\n\u001b[0;32m     13\u001b[0m         \u001b[0mloss_D\u001b[0m \u001b[1;33m=\u001b[0m \u001b[1;33m(\u001b[0m\u001b[0mloss\u001b[0m\u001b[1;33m(\u001b[0m\u001b[0mreal_Y\u001b[0m\u001b[1;33m,\u001b[0m \u001b[0mones\u001b[0m\u001b[1;33m)\u001b[0m \u001b[1;33m+\u001b[0m \u001b[0mloss\u001b[0m\u001b[1;33m(\u001b[0m\u001b[0mfake_Y\u001b[0m\u001b[1;33m,\u001b[0m \u001b[0mzeros\u001b[0m\u001b[1;33m)\u001b[0m\u001b[1;33m)\u001b[0m \u001b[1;33m/\u001b[0m \u001b[1;36m2\u001b[0m\u001b[1;33m\u001b[0m\u001b[1;33m\u001b[0m\u001b[0m\n\u001b[0;32m     14\u001b[0m     \u001b[0mt\u001b[0m\u001b[1;33m.\u001b[0m\u001b[0mgradient\u001b[0m\u001b[1;33m(\u001b[0m\u001b[0mloss_D\u001b[0m\u001b[1;33m,\u001b[0m \u001b[0mnet_D\u001b[0m\u001b[1;33m.\u001b[0m\u001b[0mtrainable_variables\u001b[0m\u001b[1;33m)\u001b[0m\u001b[1;33m\u001b[0m\u001b[1;33m\u001b[0m\u001b[0m\n\u001b[1;32m---> 15\u001b[1;33m     \u001b[0mtrainer_D\u001b[0m\u001b[1;33m.\u001b[0m\u001b[0mstep\u001b[0m\u001b[1;33m(\u001b[0m\u001b[0mbatch_size\u001b[0m\u001b[1;33m)\u001b[0m\u001b[1;33m\u001b[0m\u001b[1;33m\u001b[0m\u001b[0m\n\u001b[0m\u001b[0;32m     16\u001b[0m     \u001b[1;32mreturn\u001b[0m \u001b[0mfloat\u001b[0m\u001b[1;33m(\u001b[0m\u001b[0mloss_D\u001b[0m\u001b[1;33m.\u001b[0m\u001b[0msum\u001b[0m\u001b[1;33m(\u001b[0m\u001b[1;33m)\u001b[0m\u001b[1;33m)\u001b[0m\u001b[1;33m\u001b[0m\u001b[1;33m\u001b[0m\u001b[0m\n",
      "\u001b[1;31mAttributeError\u001b[0m: 'NoneType' object has no attribute 'step'"
     ]
    }
   ],
   "source": [
    "lr_D, lr_G, latent_dim, num_epochs = 0.05, 0.005, 2, 20\n",
    "train(net_D, net_G, data_iter, num_epochs, lr_D, lr_G,\n",
    "      latent_dim, d2l.numpy(data[:100]))"
   ]
  },
  {
   "cell_type": "markdown",
   "metadata": {},
   "source": [
    "https://www.tensorflow.org/api_docs/python/tf/ones"
   ]
  }
 ]
}