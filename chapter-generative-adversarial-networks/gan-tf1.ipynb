{
 "metadata": {
  "language_info": {
   "codemirror_mode": {
    "name": "ipython",
    "version": 3
   },
   "file_extension": ".py",
   "mimetype": "text/x-python",
   "name": "python",
   "nbconvert_exporter": "python",
   "pygments_lexer": "ipython3",
   "version": "3.7.8-final"
  },
  "orig_nbformat": 2,
  "kernelspec": {
   "name": "python37864bittf2conda1de394c9651a4d19aa25641a40b8d2d8",
   "display_name": "Python 3.7.8 64-bit ('tf2': conda)"
  }
 },
 "nbformat": 4,
 "nbformat_minor": 2,
 "cells": [
  {
   "cell_type": "markdown",
   "metadata": {},
   "source": [
    "http://preview.d2l.ai/d2l-en/master/chapter_generative-adversarial-networks/gan.html"
   ]
  },
  {
   "cell_type": "code",
   "execution_count": 1,
   "metadata": {},
   "outputs": [],
   "source": [
    "%matplotlib inline\n",
    "from d2l import tensorflow as d2l\n",
    "import tensorflow as tf"
   ]
  },
  {
   "cell_type": "markdown",
   "metadata": {},
   "source": [
    "https://www.tensorflow.org/api_docs/python/tf/random/normal"
   ]
  },
  {
   "cell_type": "markdown",
   "metadata": {},
   "source": [
    "https://www.tensorflow.org/api_docs/python/tf/norm"
   ]
  },
  {
   "cell_type": "code",
   "execution_count": 2,
   "metadata": {},
   "outputs": [],
   "source": [
    "X = d2l.normal([1000, 2], 0.0, 1, tf.float32)"
   ]
  },
  {
   "cell_type": "code",
   "execution_count": 3,
   "metadata": {},
   "outputs": [],
   "source": [
    "A = d2l.tensor([[1, 2], [-0.1, 0.5]], tf.float32)\n",
    "b = d2l.tensor([1, 2], tf.float32)\n",
    "data = d2l.matmul(X, A) + b"
   ]
  },
  {
   "cell_type": "code",
   "execution_count": 4,
   "metadata": {
    "tags": []
   },
   "outputs": [
    {
     "output_type": "stream",
     "name": "stdout",
     "text": "The covariance matrix is\n[[1.01 1.95]\n [1.95 4.25]]\n"
    },
    {
     "output_type": "display_data",
     "data": {
      "text/plain": "<Figure size 252x180 with 1 Axes>",
      "image/svg+xml": "<?xml version=\"1.0\" encoding=\"utf-8\" standalone=\"no\"?>\r\n<!DOCTYPE svg PUBLIC \"-//W3C//DTD SVG 1.1//EN\"\r\n  \"http://www.w3.org/Graphics/SVG/1.1/DTD/svg11.dtd\">\r\n<!-- Created with matplotlib (https://matplotlib.org/) -->\r\n<svg height=\"166.978125pt\" version=\"1.1\" viewBox=\"0 0 231.442187 166.978125\" width=\"231.442187pt\" xmlns=\"http://www.w3.org/2000/svg\" xmlns:xlink=\"http://www.w3.org/1999/xlink\">\r\n <metadata>\r\n  <rdf:RDF xmlns:cc=\"http://creativecommons.org/ns#\" xmlns:dc=\"http://purl.org/dc/elements/1.1/\" xmlns:rdf=\"http://www.w3.org/1999/02/22-rdf-syntax-ns#\">\r\n   <cc:Work>\r\n    <dc:type rdf:resource=\"http://purl.org/dc/dcmitype/StillImage\"/>\r\n    <dc:date>2020-09-03T17:02:00.953756</dc:date>\r\n    <dc:format>image/svg+xml</dc:format>\r\n    <dc:creator>\r\n     <cc:Agent>\r\n      <dc:title>Matplotlib v3.3.1, https://matplotlib.org/</dc:title>\r\n     </cc:Agent>\r\n    </dc:creator>\r\n   </cc:Work>\r\n  </rdf:RDF>\r\n </metadata>\r\n <defs>\r\n  <style type=\"text/css\">*{stroke-linecap:butt;stroke-linejoin:round;}</style>\r\n </defs>\r\n <g id=\"figure_1\">\r\n  <g id=\"patch_1\">\r\n   <path d=\"M 0 166.978125 \r\nL 231.442187 166.978125 \r\nL 231.442187 0 \r\nL 0 0 \r\nz\r\n\" style=\"fill:none;\"/>\r\n  </g>\r\n  <g id=\"axes_1\">\r\n   <g id=\"patch_2\">\r\n    <path d=\"M 28.942188 143.1 \r\nL 224.242188 143.1 \r\nL 224.242188 7.2 \r\nL 28.942188 7.2 \r\nz\r\n\" style=\"fill:#ffffff;\"/>\r\n   </g>\r\n   <g id=\"PathCollection_1\">\r\n    <defs>\r\n     <path d=\"M 0 3 \r\nC 0.795609 3 1.55874 2.683901 2.12132 2.12132 \r\nC 2.683901 1.55874 3 0.795609 3 0 \r\nC 3 -0.795609 2.683901 -1.55874 2.12132 -2.12132 \r\nC 1.55874 -2.683901 0.795609 -3 0 -3 \r\nC -0.795609 -3 -1.55874 -2.683901 -2.12132 -2.12132 \r\nC -2.683901 -1.55874 -3 -0.795609 -3 0 \r\nC -3 0.795609 -2.683901 1.55874 -2.12132 2.12132 \r\nC -1.55874 2.683901 -0.795609 3 0 3 \r\nz\r\n\" id=\"ma8f93d7451\" style=\"stroke:#1f77b4;\"/>\r\n    </defs>\r\n    <g clip-path=\"url(#pb936be085d)\">\r\n     <use style=\"fill:#1f77b4;stroke:#1f77b4;\" x=\"117.174906\" xlink:href=\"#ma8f93d7451\" y=\"79.546665\"/>\r\n     <use style=\"fill:#1f77b4;stroke:#1f77b4;\" x=\"180.113519\" xlink:href=\"#ma8f93d7451\" y=\"33.2518\"/>\r\n     <use style=\"fill:#1f77b4;stroke:#1f77b4;\" x=\"81.742904\" xlink:href=\"#ma8f93d7451\" y=\"125.936327\"/>\r\n     <use style=\"fill:#1f77b4;stroke:#1f77b4;\" x=\"106.181593\" xlink:href=\"#ma8f93d7451\" y=\"80.732056\"/>\r\n     <use style=\"fill:#1f77b4;stroke:#1f77b4;\" x=\"124.800878\" xlink:href=\"#ma8f93d7451\" y=\"51.229281\"/>\r\n     <use style=\"fill:#1f77b4;stroke:#1f77b4;\" x=\"161.905973\" xlink:href=\"#ma8f93d7451\" y=\"28.049024\"/>\r\n     <use style=\"fill:#1f77b4;stroke:#1f77b4;\" x=\"128.167919\" xlink:href=\"#ma8f93d7451\" y=\"72.815138\"/>\r\n     <use style=\"fill:#1f77b4;stroke:#1f77b4;\" x=\"152.405075\" xlink:href=\"#ma8f93d7451\" y=\"76.997387\"/>\r\n     <use style=\"fill:#1f77b4;stroke:#1f77b4;\" x=\"41.727438\" xlink:href=\"#ma8f93d7451\" y=\"130.245904\"/>\r\n     <use style=\"fill:#1f77b4;stroke:#1f77b4;\" x=\"79.382644\" xlink:href=\"#ma8f93d7451\" y=\"103.409732\"/>\r\n     <use style=\"fill:#1f77b4;stroke:#1f77b4;\" x=\"146.632181\" xlink:href=\"#ma8f93d7451\" y=\"71.144635\"/>\r\n     <use style=\"fill:#1f77b4;stroke:#1f77b4;\" x=\"157.000513\" xlink:href=\"#ma8f93d7451\" y=\"53.961103\"/>\r\n     <use style=\"fill:#1f77b4;stroke:#1f77b4;\" x=\"126.499777\" xlink:href=\"#ma8f93d7451\" y=\"91.230774\"/>\r\n     <use style=\"fill:#1f77b4;stroke:#1f77b4;\" x=\"118.108881\" xlink:href=\"#ma8f93d7451\" y=\"88.111577\"/>\r\n     <use style=\"fill:#1f77b4;stroke:#1f77b4;\" x=\"211.928668\" xlink:href=\"#ma8f93d7451\" y=\"25.542031\"/>\r\n     <use style=\"fill:#1f77b4;stroke:#1f77b4;\" x=\"187.016858\" xlink:href=\"#ma8f93d7451\" y=\"36.873202\"/>\r\n     <use style=\"fill:#1f77b4;stroke:#1f77b4;\" x=\"75.803579\" xlink:href=\"#ma8f93d7451\" y=\"101.843572\"/>\r\n     <use style=\"fill:#1f77b4;stroke:#1f77b4;\" x=\"192.088203\" xlink:href=\"#ma8f93d7451\" y=\"29.530682\"/>\r\n     <use style=\"fill:#1f77b4;stroke:#1f77b4;\" x=\"153.135656\" xlink:href=\"#ma8f93d7451\" y=\"43.467827\"/>\r\n     <use style=\"fill:#1f77b4;stroke:#1f77b4;\" x=\"115.498036\" xlink:href=\"#ma8f93d7451\" y=\"95.536395\"/>\r\n     <use style=\"fill:#1f77b4;stroke:#1f77b4;\" x=\"86.165178\" xlink:href=\"#ma8f93d7451\" y=\"110.251913\"/>\r\n     <use style=\"fill:#1f77b4;stroke:#1f77b4;\" x=\"127.078717\" xlink:href=\"#ma8f93d7451\" y=\"73.782899\"/>\r\n     <use style=\"fill:#1f77b4;stroke:#1f77b4;\" x=\"100.490544\" xlink:href=\"#ma8f93d7451\" y=\"91.372036\"/>\r\n     <use style=\"fill:#1f77b4;stroke:#1f77b4;\" x=\"125.3569\" xlink:href=\"#ma8f93d7451\" y=\"73.19255\"/>\r\n     <use style=\"fill:#1f77b4;stroke:#1f77b4;\" x=\"37.81946\" xlink:href=\"#ma8f93d7451\" y=\"136.922727\"/>\r\n     <use style=\"fill:#1f77b4;stroke:#1f77b4;\" x=\"132.921766\" xlink:href=\"#ma8f93d7451\" y=\"58.183723\"/>\r\n     <use style=\"fill:#1f77b4;stroke:#1f77b4;\" x=\"105.427646\" xlink:href=\"#ma8f93d7451\" y=\"86.735106\"/>\r\n     <use style=\"fill:#1f77b4;stroke:#1f77b4;\" x=\"125.832077\" xlink:href=\"#ma8f93d7451\" y=\"59.476037\"/>\r\n     <use style=\"fill:#1f77b4;stroke:#1f77b4;\" x=\"91.139844\" xlink:href=\"#ma8f93d7451\" y=\"92.073026\"/>\r\n     <use style=\"fill:#1f77b4;stroke:#1f77b4;\" x=\"160.13839\" xlink:href=\"#ma8f93d7451\" y=\"43.895307\"/>\r\n     <use style=\"fill:#1f77b4;stroke:#1f77b4;\" x=\"113.895974\" xlink:href=\"#ma8f93d7451\" y=\"73.441059\"/>\r\n     <use style=\"fill:#1f77b4;stroke:#1f77b4;\" x=\"117.336064\" xlink:href=\"#ma8f93d7451\" y=\"80.985812\"/>\r\n     <use style=\"fill:#1f77b4;stroke:#1f77b4;\" x=\"121.080978\" xlink:href=\"#ma8f93d7451\" y=\"81.360662\"/>\r\n     <use style=\"fill:#1f77b4;stroke:#1f77b4;\" x=\"130.462317\" xlink:href=\"#ma8f93d7451\" y=\"61.082168\"/>\r\n     <use style=\"fill:#1f77b4;stroke:#1f77b4;\" x=\"137.937679\" xlink:href=\"#ma8f93d7451\" y=\"88.105707\"/>\r\n     <use style=\"fill:#1f77b4;stroke:#1f77b4;\" x=\"65.29989\" xlink:href=\"#ma8f93d7451\" y=\"124.328024\"/>\r\n     <use style=\"fill:#1f77b4;stroke:#1f77b4;\" x=\"125.8086\" xlink:href=\"#ma8f93d7451\" y=\"74.427195\"/>\r\n     <use style=\"fill:#1f77b4;stroke:#1f77b4;\" x=\"105.696518\" xlink:href=\"#ma8f93d7451\" y=\"92.026323\"/>\r\n     <use style=\"fill:#1f77b4;stroke:#1f77b4;\" x=\"89.963321\" xlink:href=\"#ma8f93d7451\" y=\"95.073238\"/>\r\n     <use style=\"fill:#1f77b4;stroke:#1f77b4;\" x=\"94.941729\" xlink:href=\"#ma8f93d7451\" y=\"84.188533\"/>\r\n     <use style=\"fill:#1f77b4;stroke:#1f77b4;\" x=\"129.659801\" xlink:href=\"#ma8f93d7451\" y=\"73.252346\"/>\r\n     <use style=\"fill:#1f77b4;stroke:#1f77b4;\" x=\"110.160716\" xlink:href=\"#ma8f93d7451\" y=\"104.345436\"/>\r\n     <use style=\"fill:#1f77b4;stroke:#1f77b4;\" x=\"87.076814\" xlink:href=\"#ma8f93d7451\" y=\"97.65098\"/>\r\n     <use style=\"fill:#1f77b4;stroke:#1f77b4;\" x=\"121.700455\" xlink:href=\"#ma8f93d7451\" y=\"83.320468\"/>\r\n     <use style=\"fill:#1f77b4;stroke:#1f77b4;\" x=\"134.310437\" xlink:href=\"#ma8f93d7451\" y=\"71.432481\"/>\r\n     <use style=\"fill:#1f77b4;stroke:#1f77b4;\" x=\"162.395998\" xlink:href=\"#ma8f93d7451\" y=\"29.95259\"/>\r\n     <use style=\"fill:#1f77b4;stroke:#1f77b4;\" x=\"155.93808\" xlink:href=\"#ma8f93d7451\" y=\"57.386218\"/>\r\n     <use style=\"fill:#1f77b4;stroke:#1f77b4;\" x=\"88.218287\" xlink:href=\"#ma8f93d7451\" y=\"116.163228\"/>\r\n     <use style=\"fill:#1f77b4;stroke:#1f77b4;\" x=\"186.49466\" xlink:href=\"#ma8f93d7451\" y=\"27.313324\"/>\r\n     <use style=\"fill:#1f77b4;stroke:#1f77b4;\" x=\"92.544143\" xlink:href=\"#ma8f93d7451\" y=\"97.03135\"/>\r\n     <use style=\"fill:#1f77b4;stroke:#1f77b4;\" x=\"147.364066\" xlink:href=\"#ma8f93d7451\" y=\"47.966289\"/>\r\n     <use style=\"fill:#1f77b4;stroke:#1f77b4;\" x=\"158.840068\" xlink:href=\"#ma8f93d7451\" y=\"49.160496\"/>\r\n     <use style=\"fill:#1f77b4;stroke:#1f77b4;\" x=\"133.064163\" xlink:href=\"#ma8f93d7451\" y=\"75.641071\"/>\r\n     <use style=\"fill:#1f77b4;stroke:#1f77b4;\" x=\"176.78396\" xlink:href=\"#ma8f93d7451\" y=\"43.262025\"/>\r\n     <use style=\"fill:#1f77b4;stroke:#1f77b4;\" x=\"110.584535\" xlink:href=\"#ma8f93d7451\" y=\"71.011392\"/>\r\n     <use style=\"fill:#1f77b4;stroke:#1f77b4;\" x=\"83.000418\" xlink:href=\"#ma8f93d7451\" y=\"108.98466\"/>\r\n     <use style=\"fill:#1f77b4;stroke:#1f77b4;\" x=\"125.779377\" xlink:href=\"#ma8f93d7451\" y=\"80.760995\"/>\r\n     <use style=\"fill:#1f77b4;stroke:#1f77b4;\" x=\"140.533974\" xlink:href=\"#ma8f93d7451\" y=\"63.864952\"/>\r\n     <use style=\"fill:#1f77b4;stroke:#1f77b4;\" x=\"136.290497\" xlink:href=\"#ma8f93d7451\" y=\"75.46449\"/>\r\n     <use style=\"fill:#1f77b4;stroke:#1f77b4;\" x=\"138.052882\" xlink:href=\"#ma8f93d7451\" y=\"55.816189\"/>\r\n     <use style=\"fill:#1f77b4;stroke:#1f77b4;\" x=\"102.632626\" xlink:href=\"#ma8f93d7451\" y=\"85.452353\"/>\r\n     <use style=\"fill:#1f77b4;stroke:#1f77b4;\" x=\"94.719117\" xlink:href=\"#ma8f93d7451\" y=\"110.75959\"/>\r\n     <use style=\"fill:#1f77b4;stroke:#1f77b4;\" x=\"148.544625\" xlink:href=\"#ma8f93d7451\" y=\"88.275599\"/>\r\n     <use style=\"fill:#1f77b4;stroke:#1f77b4;\" x=\"168.876562\" xlink:href=\"#ma8f93d7451\" y=\"43.649776\"/>\r\n     <use style=\"fill:#1f77b4;stroke:#1f77b4;\" x=\"190.604827\" xlink:href=\"#ma8f93d7451\" y=\"42.79248\"/>\r\n     <use style=\"fill:#1f77b4;stroke:#1f77b4;\" x=\"131.232147\" xlink:href=\"#ma8f93d7451\" y=\"66.511455\"/>\r\n     <use style=\"fill:#1f77b4;stroke:#1f77b4;\" x=\"177.374342\" xlink:href=\"#ma8f93d7451\" y=\"15.408669\"/>\r\n     <use style=\"fill:#1f77b4;stroke:#1f77b4;\" x=\"90.249548\" xlink:href=\"#ma8f93d7451\" y=\"89.357482\"/>\r\n     <use style=\"fill:#1f77b4;stroke:#1f77b4;\" x=\"175.249769\" xlink:href=\"#ma8f93d7451\" y=\"51.668218\"/>\r\n     <use style=\"fill:#1f77b4;stroke:#1f77b4;\" x=\"84.581531\" xlink:href=\"#ma8f93d7451\" y=\"112.44526\"/>\r\n     <use style=\"fill:#1f77b4;stroke:#1f77b4;\" x=\"109.918237\" xlink:href=\"#ma8f93d7451\" y=\"100.909099\"/>\r\n     <use style=\"fill:#1f77b4;stroke:#1f77b4;\" x=\"110.120143\" xlink:href=\"#ma8f93d7451\" y=\"95.520164\"/>\r\n     <use style=\"fill:#1f77b4;stroke:#1f77b4;\" x=\"113.866504\" xlink:href=\"#ma8f93d7451\" y=\"76.620257\"/>\r\n     <use style=\"fill:#1f77b4;stroke:#1f77b4;\" x=\"165.709892\" xlink:href=\"#ma8f93d7451\" y=\"45.060506\"/>\r\n     <use style=\"fill:#1f77b4;stroke:#1f77b4;\" x=\"117.566495\" xlink:href=\"#ma8f93d7451\" y=\"90.376508\"/>\r\n     <use style=\"fill:#1f77b4;stroke:#1f77b4;\" x=\"75.554751\" xlink:href=\"#ma8f93d7451\" y=\"109.890121\"/>\r\n     <use style=\"fill:#1f77b4;stroke:#1f77b4;\" x=\"138.608311\" xlink:href=\"#ma8f93d7451\" y=\"58.220528\"/>\r\n     <use style=\"fill:#1f77b4;stroke:#1f77b4;\" x=\"124.004822\" xlink:href=\"#ma8f93d7451\" y=\"77.016095\"/>\r\n     <use style=\"fill:#1f77b4;stroke:#1f77b4;\" x=\"107.330466\" xlink:href=\"#ma8f93d7451\" y=\"74.457054\"/>\r\n     <use style=\"fill:#1f77b4;stroke:#1f77b4;\" x=\"215.364915\" xlink:href=\"#ma8f93d7451\" y=\"13.377273\"/>\r\n     <use style=\"fill:#1f77b4;stroke:#1f77b4;\" x=\"174.415524\" xlink:href=\"#ma8f93d7451\" y=\"30.961353\"/>\r\n     <use style=\"fill:#1f77b4;stroke:#1f77b4;\" x=\"106.588471\" xlink:href=\"#ma8f93d7451\" y=\"91.661791\"/>\r\n     <use style=\"fill:#1f77b4;stroke:#1f77b4;\" x=\"106.412731\" xlink:href=\"#ma8f93d7451\" y=\"91.870679\"/>\r\n     <use style=\"fill:#1f77b4;stroke:#1f77b4;\" x=\"103.347441\" xlink:href=\"#ma8f93d7451\" y=\"82.046267\"/>\r\n     <use style=\"fill:#1f77b4;stroke:#1f77b4;\" x=\"103.843638\" xlink:href=\"#ma8f93d7451\" y=\"92.145874\"/>\r\n     <use style=\"fill:#1f77b4;stroke:#1f77b4;\" x=\"83.94081\" xlink:href=\"#ma8f93d7451\" y=\"105.246574\"/>\r\n     <use style=\"fill:#1f77b4;stroke:#1f77b4;\" x=\"99.335148\" xlink:href=\"#ma8f93d7451\" y=\"70.076982\"/>\r\n     <use style=\"fill:#1f77b4;stroke:#1f77b4;\" x=\"122.812728\" xlink:href=\"#ma8f93d7451\" y=\"80.17956\"/>\r\n     <use style=\"fill:#1f77b4;stroke:#1f77b4;\" x=\"52.829094\" xlink:href=\"#ma8f93d7451\" y=\"118.298775\"/>\r\n     <use style=\"fill:#1f77b4;stroke:#1f77b4;\" x=\"127.32733\" xlink:href=\"#ma8f93d7451\" y=\"82.049193\"/>\r\n     <use style=\"fill:#1f77b4;stroke:#1f77b4;\" x=\"79.358349\" xlink:href=\"#ma8f93d7451\" y=\"96.082315\"/>\r\n     <use style=\"fill:#1f77b4;stroke:#1f77b4;\" x=\"74.393568\" xlink:href=\"#ma8f93d7451\" y=\"109.694604\"/>\r\n     <use style=\"fill:#1f77b4;stroke:#1f77b4;\" x=\"133.154297\" xlink:href=\"#ma8f93d7451\" y=\"74.745302\"/>\r\n     <use style=\"fill:#1f77b4;stroke:#1f77b4;\" x=\"85.088252\" xlink:href=\"#ma8f93d7451\" y=\"101.092701\"/>\r\n     <use style=\"fill:#1f77b4;stroke:#1f77b4;\" x=\"77.903267\" xlink:href=\"#ma8f93d7451\" y=\"97.064138\"/>\r\n     <use style=\"fill:#1f77b4;stroke:#1f77b4;\" x=\"141.525703\" xlink:href=\"#ma8f93d7451\" y=\"67.292833\"/>\r\n     <use style=\"fill:#1f77b4;stroke:#1f77b4;\" x=\"161.680281\" xlink:href=\"#ma8f93d7451\" y=\"46.084362\"/>\r\n     <use style=\"fill:#1f77b4;stroke:#1f77b4;\" x=\"134.367221\" xlink:href=\"#ma8f93d7451\" y=\"59.861543\"/>\r\n     <use style=\"fill:#1f77b4;stroke:#1f77b4;\" x=\"87.798975\" xlink:href=\"#ma8f93d7451\" y=\"102.731056\"/>\r\n     <use style=\"fill:#1f77b4;stroke:#1f77b4;\" x=\"121.07703\" xlink:href=\"#ma8f93d7451\" y=\"94.416712\"/>\r\n    </g>\r\n   </g>\r\n   <g id=\"matplotlib.axis_1\">\r\n    <g id=\"xtick_1\">\r\n     <g id=\"line2d_1\">\r\n      <defs>\r\n       <path d=\"M 0 0 \r\nL 0 3.5 \r\n\" id=\"m24998384a6\" style=\"stroke:#000000;stroke-width:0.8;\"/>\r\n      </defs>\r\n      <g>\r\n       <use style=\"stroke:#000000;stroke-width:0.8;\" x=\"48.996671\" xlink:href=\"#m24998384a6\" y=\"143.1\"/>\r\n      </g>\r\n     </g>\r\n     <g id=\"text_1\">\r\n      <!-- −1 -->\r\n      <g transform=\"translate(41.625577 157.698438)scale(0.1 -0.1)\">\r\n       <defs>\r\n        <path d=\"M 10.59375 35.5 \r\nL 73.1875 35.5 \r\nL 73.1875 27.203125 \r\nL 10.59375 27.203125 \r\nz\r\n\" id=\"DejaVuSans-8722\"/>\r\n        <path d=\"M 12.40625 8.296875 \r\nL 28.515625 8.296875 \r\nL 28.515625 63.921875 \r\nL 10.984375 60.40625 \r\nL 10.984375 69.390625 \r\nL 28.421875 72.90625 \r\nL 38.28125 72.90625 \r\nL 38.28125 8.296875 \r\nL 54.390625 8.296875 \r\nL 54.390625 0 \r\nL 12.40625 0 \r\nz\r\n\" id=\"DejaVuSans-49\"/>\r\n       </defs>\r\n       <use xlink:href=\"#DejaVuSans-8722\"/>\r\n       <use x=\"83.789062\" xlink:href=\"#DejaVuSans-49\"/>\r\n      </g>\r\n     </g>\r\n    </g>\r\n    <g id=\"xtick_2\">\r\n     <g id=\"line2d_2\">\r\n      <g>\r\n       <use style=\"stroke:#000000;stroke-width:0.8;\" x=\"87.420196\" xlink:href=\"#m24998384a6\" y=\"143.1\"/>\r\n      </g>\r\n     </g>\r\n     <g id=\"text_2\">\r\n      <!-- 0 -->\r\n      <g transform=\"translate(84.238946 157.698438)scale(0.1 -0.1)\">\r\n       <defs>\r\n        <path d=\"M 31.78125 66.40625 \r\nQ 24.171875 66.40625 20.328125 58.90625 \r\nQ 16.5 51.421875 16.5 36.375 \r\nQ 16.5 21.390625 20.328125 13.890625 \r\nQ 24.171875 6.390625 31.78125 6.390625 \r\nQ 39.453125 6.390625 43.28125 13.890625 \r\nQ 47.125 21.390625 47.125 36.375 \r\nQ 47.125 51.421875 43.28125 58.90625 \r\nQ 39.453125 66.40625 31.78125 66.40625 \r\nz\r\nM 31.78125 74.21875 \r\nQ 44.046875 74.21875 50.515625 64.515625 \r\nQ 56.984375 54.828125 56.984375 36.375 \r\nQ 56.984375 17.96875 50.515625 8.265625 \r\nQ 44.046875 -1.421875 31.78125 -1.421875 \r\nQ 19.53125 -1.421875 13.0625 8.265625 \r\nQ 6.59375 17.96875 6.59375 36.375 \r\nQ 6.59375 54.828125 13.0625 64.515625 \r\nQ 19.53125 74.21875 31.78125 74.21875 \r\nz\r\n\" id=\"DejaVuSans-48\"/>\r\n       </defs>\r\n       <use xlink:href=\"#DejaVuSans-48\"/>\r\n      </g>\r\n     </g>\r\n    </g>\r\n    <g id=\"xtick_3\">\r\n     <g id=\"line2d_3\">\r\n      <g>\r\n       <use style=\"stroke:#000000;stroke-width:0.8;\" x=\"125.843721\" xlink:href=\"#m24998384a6\" y=\"143.1\"/>\r\n      </g>\r\n     </g>\r\n     <g id=\"text_3\">\r\n      <!-- 1 -->\r\n      <g transform=\"translate(122.662471 157.698438)scale(0.1 -0.1)\">\r\n       <use xlink:href=\"#DejaVuSans-49\"/>\r\n      </g>\r\n     </g>\r\n    </g>\r\n    <g id=\"xtick_4\">\r\n     <g id=\"line2d_4\">\r\n      <g>\r\n       <use style=\"stroke:#000000;stroke-width:0.8;\" x=\"164.267245\" xlink:href=\"#m24998384a6\" y=\"143.1\"/>\r\n      </g>\r\n     </g>\r\n     <g id=\"text_4\">\r\n      <!-- 2 -->\r\n      <g transform=\"translate(161.085995 157.698438)scale(0.1 -0.1)\">\r\n       <defs>\r\n        <path d=\"M 19.1875 8.296875 \r\nL 53.609375 8.296875 \r\nL 53.609375 0 \r\nL 7.328125 0 \r\nL 7.328125 8.296875 \r\nQ 12.9375 14.109375 22.625 23.890625 \r\nQ 32.328125 33.6875 34.8125 36.53125 \r\nQ 39.546875 41.84375 41.421875 45.53125 \r\nQ 43.3125 49.21875 43.3125 52.78125 \r\nQ 43.3125 58.59375 39.234375 62.25 \r\nQ 35.15625 65.921875 28.609375 65.921875 \r\nQ 23.96875 65.921875 18.8125 64.3125 \r\nQ 13.671875 62.703125 7.8125 59.421875 \r\nL 7.8125 69.390625 \r\nQ 13.765625 71.78125 18.9375 73 \r\nQ 24.125 74.21875 28.421875 74.21875 \r\nQ 39.75 74.21875 46.484375 68.546875 \r\nQ 53.21875 62.890625 53.21875 53.421875 \r\nQ 53.21875 48.921875 51.53125 44.890625 \r\nQ 49.859375 40.875 45.40625 35.40625 \r\nQ 44.1875 33.984375 37.640625 27.21875 \r\nQ 31.109375 20.453125 19.1875 8.296875 \r\nz\r\n\" id=\"DejaVuSans-50\"/>\r\n       </defs>\r\n       <use xlink:href=\"#DejaVuSans-50\"/>\r\n      </g>\r\n     </g>\r\n    </g>\r\n    <g id=\"xtick_5\">\r\n     <g id=\"line2d_5\">\r\n      <g>\r\n       <use style=\"stroke:#000000;stroke-width:0.8;\" x=\"202.69077\" xlink:href=\"#m24998384a6\" y=\"143.1\"/>\r\n      </g>\r\n     </g>\r\n     <g id=\"text_5\">\r\n      <!-- 3 -->\r\n      <g transform=\"translate(199.50952 157.698438)scale(0.1 -0.1)\">\r\n       <defs>\r\n        <path d=\"M 40.578125 39.3125 \r\nQ 47.65625 37.796875 51.625 33 \r\nQ 55.609375 28.21875 55.609375 21.1875 \r\nQ 55.609375 10.40625 48.1875 4.484375 \r\nQ 40.765625 -1.421875 27.09375 -1.421875 \r\nQ 22.515625 -1.421875 17.65625 -0.515625 \r\nQ 12.796875 0.390625 7.625 2.203125 \r\nL 7.625 11.71875 \r\nQ 11.71875 9.328125 16.59375 8.109375 \r\nQ 21.484375 6.890625 26.8125 6.890625 \r\nQ 36.078125 6.890625 40.9375 10.546875 \r\nQ 45.796875 14.203125 45.796875 21.1875 \r\nQ 45.796875 27.640625 41.28125 31.265625 \r\nQ 36.765625 34.90625 28.71875 34.90625 \r\nL 20.21875 34.90625 \r\nL 20.21875 43.015625 \r\nL 29.109375 43.015625 \r\nQ 36.375 43.015625 40.234375 45.921875 \r\nQ 44.09375 48.828125 44.09375 54.296875 \r\nQ 44.09375 59.90625 40.109375 62.90625 \r\nQ 36.140625 65.921875 28.71875 65.921875 \r\nQ 24.65625 65.921875 20.015625 65.03125 \r\nQ 15.375 64.15625 9.8125 62.3125 \r\nL 9.8125 71.09375 \r\nQ 15.4375 72.65625 20.34375 73.4375 \r\nQ 25.25 74.21875 29.59375 74.21875 \r\nQ 40.828125 74.21875 47.359375 69.109375 \r\nQ 53.90625 64.015625 53.90625 55.328125 \r\nQ 53.90625 49.265625 50.4375 45.09375 \r\nQ 46.96875 40.921875 40.578125 39.3125 \r\nz\r\n\" id=\"DejaVuSans-51\"/>\r\n       </defs>\r\n       <use xlink:href=\"#DejaVuSans-51\"/>\r\n      </g>\r\n     </g>\r\n    </g>\r\n   </g>\r\n   <g id=\"matplotlib.axis_2\">\r\n    <g id=\"ytick_1\">\r\n     <g id=\"line2d_6\">\r\n      <defs>\r\n       <path d=\"M 0 0 \r\nL -3.5 0 \r\n\" id=\"m3cf8abf54d\" style=\"stroke:#000000;stroke-width:0.8;\"/>\r\n      </defs>\r\n      <g>\r\n       <use style=\"stroke:#000000;stroke-width:0.8;\" x=\"28.942188\" xlink:href=\"#m3cf8abf54d\" y=\"131.361197\"/>\r\n      </g>\r\n     </g>\r\n     <g id=\"text_6\">\r\n      <!-- −2 -->\r\n      <g transform=\"translate(7.2 135.160416)scale(0.1 -0.1)\">\r\n       <use xlink:href=\"#DejaVuSans-8722\"/>\r\n       <use x=\"83.789062\" xlink:href=\"#DejaVuSans-50\"/>\r\n      </g>\r\n     </g>\r\n    </g>\r\n    <g id=\"ytick_2\">\r\n     <g id=\"line2d_7\">\r\n      <g>\r\n       <use style=\"stroke:#000000;stroke-width:0.8;\" x=\"28.942188\" xlink:href=\"#m3cf8abf54d\" y=\"103.0365\"/>\r\n      </g>\r\n     </g>\r\n     <g id=\"text_7\">\r\n      <!-- 0 -->\r\n      <g transform=\"translate(15.579688 106.835719)scale(0.1 -0.1)\">\r\n       <use xlink:href=\"#DejaVuSans-48\"/>\r\n      </g>\r\n     </g>\r\n    </g>\r\n    <g id=\"ytick_3\">\r\n     <g id=\"line2d_8\">\r\n      <g>\r\n       <use style=\"stroke:#000000;stroke-width:0.8;\" x=\"28.942188\" xlink:href=\"#m3cf8abf54d\" y=\"74.711803\"/>\r\n      </g>\r\n     </g>\r\n     <g id=\"text_8\">\r\n      <!-- 2 -->\r\n      <g transform=\"translate(15.579688 78.511021)scale(0.1 -0.1)\">\r\n       <use xlink:href=\"#DejaVuSans-50\"/>\r\n      </g>\r\n     </g>\r\n    </g>\r\n    <g id=\"ytick_4\">\r\n     <g id=\"line2d_9\">\r\n      <g>\r\n       <use style=\"stroke:#000000;stroke-width:0.8;\" x=\"28.942188\" xlink:href=\"#m3cf8abf54d\" y=\"46.387105\"/>\r\n      </g>\r\n     </g>\r\n     <g id=\"text_9\">\r\n      <!-- 4 -->\r\n      <g transform=\"translate(15.579688 50.186324)scale(0.1 -0.1)\">\r\n       <defs>\r\n        <path d=\"M 37.796875 64.3125 \r\nL 12.890625 25.390625 \r\nL 37.796875 25.390625 \r\nz\r\nM 35.203125 72.90625 \r\nL 47.609375 72.90625 \r\nL 47.609375 25.390625 \r\nL 58.015625 25.390625 \r\nL 58.015625 17.1875 \r\nL 47.609375 17.1875 \r\nL 47.609375 0 \r\nL 37.796875 0 \r\nL 37.796875 17.1875 \r\nL 4.890625 17.1875 \r\nL 4.890625 26.703125 \r\nz\r\n\" id=\"DejaVuSans-52\"/>\r\n       </defs>\r\n       <use xlink:href=\"#DejaVuSans-52\"/>\r\n      </g>\r\n     </g>\r\n    </g>\r\n    <g id=\"ytick_5\">\r\n     <g id=\"line2d_10\">\r\n      <g>\r\n       <use style=\"stroke:#000000;stroke-width:0.8;\" x=\"28.942188\" xlink:href=\"#m3cf8abf54d\" y=\"18.062408\"/>\r\n      </g>\r\n     </g>\r\n     <g id=\"text_10\">\r\n      <!-- 6 -->\r\n      <g transform=\"translate(15.579688 21.861627)scale(0.1 -0.1)\">\r\n       <defs>\r\n        <path d=\"M 33.015625 40.375 \r\nQ 26.375 40.375 22.484375 35.828125 \r\nQ 18.609375 31.296875 18.609375 23.390625 \r\nQ 18.609375 15.53125 22.484375 10.953125 \r\nQ 26.375 6.390625 33.015625 6.390625 \r\nQ 39.65625 6.390625 43.53125 10.953125 \r\nQ 47.40625 15.53125 47.40625 23.390625 \r\nQ 47.40625 31.296875 43.53125 35.828125 \r\nQ 39.65625 40.375 33.015625 40.375 \r\nz\r\nM 52.59375 71.296875 \r\nL 52.59375 62.3125 \r\nQ 48.875 64.0625 45.09375 64.984375 \r\nQ 41.3125 65.921875 37.59375 65.921875 \r\nQ 27.828125 65.921875 22.671875 59.328125 \r\nQ 17.53125 52.734375 16.796875 39.40625 \r\nQ 19.671875 43.65625 24.015625 45.921875 \r\nQ 28.375 48.1875 33.59375 48.1875 \r\nQ 44.578125 48.1875 50.953125 41.515625 \r\nQ 57.328125 34.859375 57.328125 23.390625 \r\nQ 57.328125 12.15625 50.6875 5.359375 \r\nQ 44.046875 -1.421875 33.015625 -1.421875 \r\nQ 20.359375 -1.421875 13.671875 8.265625 \r\nQ 6.984375 17.96875 6.984375 36.375 \r\nQ 6.984375 53.65625 15.1875 63.9375 \r\nQ 23.390625 74.21875 37.203125 74.21875 \r\nQ 40.921875 74.21875 44.703125 73.484375 \r\nQ 48.484375 72.75 52.59375 71.296875 \r\nz\r\n\" id=\"DejaVuSans-54\"/>\r\n       </defs>\r\n       <use xlink:href=\"#DejaVuSans-54\"/>\r\n      </g>\r\n     </g>\r\n    </g>\r\n   </g>\r\n   <g id=\"patch_3\">\r\n    <path d=\"M 28.942188 143.1 \r\nL 28.942188 7.2 \r\n\" style=\"fill:none;stroke:#000000;stroke-linecap:square;stroke-linejoin:miter;stroke-width:0.8;\"/>\r\n   </g>\r\n   <g id=\"patch_4\">\r\n    <path d=\"M 224.242188 143.1 \r\nL 224.242188 7.2 \r\n\" style=\"fill:none;stroke:#000000;stroke-linecap:square;stroke-linejoin:miter;stroke-width:0.8;\"/>\r\n   </g>\r\n   <g id=\"patch_5\">\r\n    <path d=\"M 28.942188 143.1 \r\nL 224.242188 143.1 \r\n\" style=\"fill:none;stroke:#000000;stroke-linecap:square;stroke-linejoin:miter;stroke-width:0.8;\"/>\r\n   </g>\r\n   <g id=\"patch_6\">\r\n    <path d=\"M 28.942188 7.2 \r\nL 224.242188 7.2 \r\n\" style=\"fill:none;stroke:#000000;stroke-linecap:square;stroke-linejoin:miter;stroke-width:0.8;\"/>\r\n   </g>\r\n  </g>\r\n </g>\r\n <defs>\r\n  <clipPath id=\"pb936be085d\">\r\n   <rect height=\"135.9\" width=\"195.3\" x=\"28.942188\" y=\"7.2\"/>\r\n  </clipPath>\r\n </defs>\r\n</svg>\r\n"
     },
     "metadata": {
      "needs_background": "light"
     }
    }
   ],
   "source": [
    "d2l.set_figsize()\n",
    "d2l.plt.scatter(d2l.numpy(data[:100, 0]), d2l.numpy(data[:100, 1]));\n",
    "print(f'The covariance matrix is\\n{d2l.matmul(tf.transpose(A), A)}')"
   ]
  },
  {
   "cell_type": "code",
   "execution_count": 5,
   "metadata": {},
   "outputs": [],
   "source": [
    "batch_size = 8\n",
    "data_iter = d2l.load_array((data,), batch_size)"
   ]
  },
  {
   "cell_type": "code",
   "execution_count": 7,
   "metadata": {},
   "outputs": [],
   "source": [
    "net_G = tf.keras.Sequential()\n",
    "net_G.add(tf.keras.layers.Dense(2))"
   ]
  },
  {
   "cell_type": "code",
   "execution_count": null,
   "metadata": {},
   "outputs": [],
   "source": []
  },
  {
   "cell_type": "code",
   "execution_count": 9,
   "metadata": {},
   "outputs": [],
   "source": [
    "net_G = tf.keras.Sequential()\n",
    "net_G.add(tf.keras.layers.Dense(2))"
   ]
  },
  {
   "cell_type": "code",
   "execution_count": null,
   "metadata": {},
   "outputs": [],
   "source": [
    "net_D = tf.keras.Sequential()\n",
    "tf.keras.Sequential()nn.Linear(2, 5), nn.Tanh(),\n",
    "    nn.Linear(5, 3), nn.Tanh(),\n",
    "    nn.Linear(3, 1))"
   ]
  }
 ]
}