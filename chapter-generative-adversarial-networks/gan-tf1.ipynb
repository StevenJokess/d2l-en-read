{
 "metadata": {
  "language_info": {
   "codemirror_mode": {
    "name": "ipython",
    "version": 3
   },
   "file_extension": ".py",
   "mimetype": "text/x-python",
   "name": "python",
   "nbconvert_exporter": "python",
   "pygments_lexer": "ipython3",
   "version": "3.7.8-final"
  },
  "orig_nbformat": 2,
  "kernelspec": {
   "name": "python37864bittf2conda1de394c9651a4d19aa25641a40b8d2d8",
   "display_name": "Python 3.7.8 64-bit ('tf2': conda)"
  }
 },
 "nbformat": 4,
 "nbformat_minor": 2,
 "cells": [
  {
   "cell_type": "markdown",
   "metadata": {},
   "source": [
    "http://preview.d2l.ai/d2l-en/master/chapter_generative-adversarial-networks/gan.html"
   ]
  },
  {
   "cell_type": "code",
   "execution_count": 1,
   "metadata": {},
   "outputs": [],
   "source": [
    "%matplotlib inline\n",
    "from d2l import tensorflow as d2l\n",
    "import tensorflow as tf\n",
    "import numpy as np"
   ]
  },
  {
   "cell_type": "markdown",
   "metadata": {},
   "source": [
    "https://www.tensorflow.org/api_docs/python/tf/random/normal"
   ]
  },
  {
   "cell_type": "markdown",
   "metadata": {},
   "source": [
    "https://www.tensorflow.org/api_docs/python/tf/norm"
   ]
  },
  {
   "cell_type": "code",
   "execution_count": 2,
   "metadata": {},
   "outputs": [],
   "source": [
    "X = d2l.normal([1000, 2], 0.0, 1, tf.float32)"
   ]
  },
  {
   "cell_type": "code",
   "execution_count": 3,
   "metadata": {},
   "outputs": [],
   "source": [
    "A = d2l.tensor([[1, 2], [-0.1, 0.5]], tf.float32)\n",
    "b = d2l.tensor([1, 2], tf.float32)\n",
    "data = d2l.matmul(X, A) + b"
   ]
  },
  {
   "cell_type": "code",
   "execution_count": 4,
   "metadata": {
    "tags": []
   },
   "outputs": [
    {
     "output_type": "stream",
     "name": "stdout",
     "text": "The covariance matrix is\n[[1.01 1.95]\n [1.95 4.25]]\n"
    },
    {
     "output_type": "display_data",
     "data": {
      "text/plain": "<Figure size 252x180 with 1 Axes>",
      "image/svg+xml": "<?xml version=\"1.0\" encoding=\"utf-8\" standalone=\"no\"?>\r\n<!DOCTYPE svg PUBLIC \"-//W3C//DTD SVG 1.1//EN\"\r\n  \"http://www.w3.org/Graphics/SVG/1.1/DTD/svg11.dtd\">\r\n<!-- Created with matplotlib (https://matplotlib.org/) -->\r\n<svg height=\"166.978125pt\" version=\"1.1\" viewBox=\"0 0 240.982812 166.978125\" width=\"240.982812pt\" xmlns=\"http://www.w3.org/2000/svg\" xmlns:xlink=\"http://www.w3.org/1999/xlink\">\r\n <metadata>\r\n  <rdf:RDF xmlns:cc=\"http://creativecommons.org/ns#\" xmlns:dc=\"http://purl.org/dc/elements/1.1/\" xmlns:rdf=\"http://www.w3.org/1999/02/22-rdf-syntax-ns#\">\r\n   <cc:Work>\r\n    <dc:type rdf:resource=\"http://purl.org/dc/dcmitype/StillImage\"/>\r\n    <dc:date>2020-09-04T19:56:26.618900</dc:date>\r\n    <dc:format>image/svg+xml</dc:format>\r\n    <dc:creator>\r\n     <cc:Agent>\r\n      <dc:title>Matplotlib v3.3.1, https://matplotlib.org/</dc:title>\r\n     </cc:Agent>\r\n    </dc:creator>\r\n   </cc:Work>\r\n  </rdf:RDF>\r\n </metadata>\r\n <defs>\r\n  <style type=\"text/css\">*{stroke-linecap:butt;stroke-linejoin:round;}</style>\r\n </defs>\r\n <g id=\"figure_1\">\r\n  <g id=\"patch_1\">\r\n   <path d=\"M -0 166.978125 \r\nL 240.982813 166.978125 \r\nL 240.982813 0 \r\nL -0 0 \r\nz\r\n\" style=\"fill:none;\"/>\r\n  </g>\r\n  <g id=\"axes_1\">\r\n   <g id=\"patch_2\">\r\n    <path d=\"M 38.482813 143.1 \r\nL 233.782813 143.1 \r\nL 233.782813 7.2 \r\nL 38.482813 7.2 \r\nz\r\n\" style=\"fill:#ffffff;\"/>\r\n   </g>\r\n   <g id=\"PathCollection_1\">\r\n    <defs>\r\n     <path d=\"M 0 3 \r\nC 0.795609 3 1.55874 2.683901 2.12132 2.12132 \r\nC 2.683901 1.55874 3 0.795609 3 0 \r\nC 3 -0.795609 2.683901 -1.55874 2.12132 -2.12132 \r\nC 1.55874 -2.683901 0.795609 -3 0 -3 \r\nC -0.795609 -3 -1.55874 -2.683901 -2.12132 -2.12132 \r\nC -2.683901 -1.55874 -3 -0.795609 -3 0 \r\nC -3 0.795609 -2.683901 1.55874 -2.12132 2.12132 \r\nC -1.55874 2.683901 -0.795609 3 0 3 \r\nz\r\n\" id=\"m8e43ecc4e6\" style=\"stroke:#1f77b4;\"/>\r\n    </defs>\r\n    <g clip-path=\"url(#p85fe9cb319)\">\r\n     <use style=\"fill:#1f77b4;stroke:#1f77b4;\" x=\"103.531758\" xlink:href=\"#m8e43ecc4e6\" y=\"82.839022\"/>\r\n     <use style=\"fill:#1f77b4;stroke:#1f77b4;\" x=\"93.529955\" xlink:href=\"#m8e43ecc4e6\" y=\"107.348246\"/>\r\n     <use style=\"fill:#1f77b4;stroke:#1f77b4;\" x=\"166.608192\" xlink:href=\"#m8e43ecc4e6\" y=\"69.143504\"/>\r\n     <use style=\"fill:#1f77b4;stroke:#1f77b4;\" x=\"131.399472\" xlink:href=\"#m8e43ecc4e6\" y=\"74.658633\"/>\r\n     <use style=\"fill:#1f77b4;stroke:#1f77b4;\" x=\"140.959287\" xlink:href=\"#m8e43ecc4e6\" y=\"78.91153\"/>\r\n     <use style=\"fill:#1f77b4;stroke:#1f77b4;\" x=\"197.579828\" xlink:href=\"#m8e43ecc4e6\" y=\"56.656706\"/>\r\n     <use style=\"fill:#1f77b4;stroke:#1f77b4;\" x=\"73.8558\" xlink:href=\"#m8e43ecc4e6\" y=\"113.950299\"/>\r\n     <use style=\"fill:#1f77b4;stroke:#1f77b4;\" x=\"102.459982\" xlink:href=\"#m8e43ecc4e6\" y=\"98.656478\"/>\r\n     <use style=\"fill:#1f77b4;stroke:#1f77b4;\" x=\"181.658861\" xlink:href=\"#m8e43ecc4e6\" y=\"52.632535\"/>\r\n     <use style=\"fill:#1f77b4;stroke:#1f77b4;\" x=\"139.791139\" xlink:href=\"#m8e43ecc4e6\" y=\"79.144116\"/>\r\n     <use style=\"fill:#1f77b4;stroke:#1f77b4;\" x=\"202.320777\" xlink:href=\"#m8e43ecc4e6\" y=\"51.599018\"/>\r\n     <use style=\"fill:#1f77b4;stroke:#1f77b4;\" x=\"111.496776\" xlink:href=\"#m8e43ecc4e6\" y=\"78.841735\"/>\r\n     <use style=\"fill:#1f77b4;stroke:#1f77b4;\" x=\"168.950157\" xlink:href=\"#m8e43ecc4e6\" y=\"60.14755\"/>\r\n     <use style=\"fill:#1f77b4;stroke:#1f77b4;\" x=\"109.853695\" xlink:href=\"#m8e43ecc4e6\" y=\"88.087991\"/>\r\n     <use style=\"fill:#1f77b4;stroke:#1f77b4;\" x=\"118.055117\" xlink:href=\"#m8e43ecc4e6\" y=\"86.453207\"/>\r\n     <use style=\"fill:#1f77b4;stroke:#1f77b4;\" x=\"208.651476\" xlink:href=\"#m8e43ecc4e6\" y=\"22.376932\"/>\r\n     <use style=\"fill:#1f77b4;stroke:#1f77b4;\" x=\"118.986353\" xlink:href=\"#m8e43ecc4e6\" y=\"86.899716\"/>\r\n     <use style=\"fill:#1f77b4;stroke:#1f77b4;\" x=\"159.678843\" xlink:href=\"#m8e43ecc4e6\" y=\"75.131301\"/>\r\n     <use style=\"fill:#1f77b4;stroke:#1f77b4;\" x=\"216.534944\" xlink:href=\"#m8e43ecc4e6\" y=\"36.966318\"/>\r\n     <use style=\"fill:#1f77b4;stroke:#1f77b4;\" x=\"167.977697\" xlink:href=\"#m8e43ecc4e6\" y=\"68.643045\"/>\r\n     <use style=\"fill:#1f77b4;stroke:#1f77b4;\" x=\"119.996853\" xlink:href=\"#m8e43ecc4e6\" y=\"92.226944\"/>\r\n     <use style=\"fill:#1f77b4;stroke:#1f77b4;\" x=\"212.600617\" xlink:href=\"#m8e43ecc4e6\" y=\"45.983937\"/>\r\n     <use style=\"fill:#1f77b4;stroke:#1f77b4;\" x=\"189.875659\" xlink:href=\"#m8e43ecc4e6\" y=\"49.062122\"/>\r\n     <use style=\"fill:#1f77b4;stroke:#1f77b4;\" x=\"97.146568\" xlink:href=\"#m8e43ecc4e6\" y=\"93.775213\"/>\r\n     <use style=\"fill:#1f77b4;stroke:#1f77b4;\" x=\"79.111399\" xlink:href=\"#m8e43ecc4e6\" y=\"101.265224\"/>\r\n     <use style=\"fill:#1f77b4;stroke:#1f77b4;\" x=\"62.944688\" xlink:href=\"#m8e43ecc4e6\" y=\"129.263072\"/>\r\n     <use style=\"fill:#1f77b4;stroke:#1f77b4;\" x=\"133.726373\" xlink:href=\"#m8e43ecc4e6\" y=\"77.063886\"/>\r\n     <use style=\"fill:#1f77b4;stroke:#1f77b4;\" x=\"151.277513\" xlink:href=\"#m8e43ecc4e6\" y=\"75.068016\"/>\r\n     <use style=\"fill:#1f77b4;stroke:#1f77b4;\" x=\"174.792255\" xlink:href=\"#m8e43ecc4e6\" y=\"49.202582\"/>\r\n     <use style=\"fill:#1f77b4;stroke:#1f77b4;\" x=\"56.164172\" xlink:href=\"#m8e43ecc4e6\" y=\"112.507054\"/>\r\n     <use style=\"fill:#1f77b4;stroke:#1f77b4;\" x=\"206.696984\" xlink:href=\"#m8e43ecc4e6\" y=\"33.102485\"/>\r\n     <use style=\"fill:#1f77b4;stroke:#1f77b4;\" x=\"113.371641\" xlink:href=\"#m8e43ecc4e6\" y=\"97.701487\"/>\r\n     <use style=\"fill:#1f77b4;stroke:#1f77b4;\" x=\"130.898697\" xlink:href=\"#m8e43ecc4e6\" y=\"83.5548\"/>\r\n     <use style=\"fill:#1f77b4;stroke:#1f77b4;\" x=\"134.030937\" xlink:href=\"#m8e43ecc4e6\" y=\"91.618787\"/>\r\n     <use style=\"fill:#1f77b4;stroke:#1f77b4;\" x=\"47.360085\" xlink:href=\"#m8e43ecc4e6\" y=\"136.922727\"/>\r\n     <use style=\"fill:#1f77b4;stroke:#1f77b4;\" x=\"131.484193\" xlink:href=\"#m8e43ecc4e6\" y=\"72.010633\"/>\r\n     <use style=\"fill:#1f77b4;stroke:#1f77b4;\" x=\"139.627111\" xlink:href=\"#m8e43ecc4e6\" y=\"74.616922\"/>\r\n     <use style=\"fill:#1f77b4;stroke:#1f77b4;\" x=\"180.571952\" xlink:href=\"#m8e43ecc4e6\" y=\"55.949702\"/>\r\n     <use style=\"fill:#1f77b4;stroke:#1f77b4;\" x=\"135.996206\" xlink:href=\"#m8e43ecc4e6\" y=\"73.209067\"/>\r\n     <use style=\"fill:#1f77b4;stroke:#1f77b4;\" x=\"101.118201\" xlink:href=\"#m8e43ecc4e6\" y=\"106.825911\"/>\r\n     <use style=\"fill:#1f77b4;stroke:#1f77b4;\" x=\"75.807291\" xlink:href=\"#m8e43ecc4e6\" y=\"118.368135\"/>\r\n     <use style=\"fill:#1f77b4;stroke:#1f77b4;\" x=\"117.459552\" xlink:href=\"#m8e43ecc4e6\" y=\"83.260042\"/>\r\n     <use style=\"fill:#1f77b4;stroke:#1f77b4;\" x=\"127.489159\" xlink:href=\"#m8e43ecc4e6\" y=\"77.486749\"/>\r\n     <use style=\"fill:#1f77b4;stroke:#1f77b4;\" x=\"170.705699\" xlink:href=\"#m8e43ecc4e6\" y=\"53.000152\"/>\r\n     <use style=\"fill:#1f77b4;stroke:#1f77b4;\" x=\"186.284854\" xlink:href=\"#m8e43ecc4e6\" y=\"58.294412\"/>\r\n     <use style=\"fill:#1f77b4;stroke:#1f77b4;\" x=\"182.951567\" xlink:href=\"#m8e43ecc4e6\" y=\"59.243415\"/>\r\n     <use style=\"fill:#1f77b4;stroke:#1f77b4;\" x=\"107.578166\" xlink:href=\"#m8e43ecc4e6\" y=\"105.695445\"/>\r\n     <use style=\"fill:#1f77b4;stroke:#1f77b4;\" x=\"165.324409\" xlink:href=\"#m8e43ecc4e6\" y=\"68.313863\"/>\r\n     <use style=\"fill:#1f77b4;stroke:#1f77b4;\" x=\"205.756921\" xlink:href=\"#m8e43ecc4e6\" y=\"43.862045\"/>\r\n     <use style=\"fill:#1f77b4;stroke:#1f77b4;\" x=\"134.705209\" xlink:href=\"#m8e43ecc4e6\" y=\"83.136342\"/>\r\n     <use style=\"fill:#1f77b4;stroke:#1f77b4;\" x=\"148.547952\" xlink:href=\"#m8e43ecc4e6\" y=\"68.28985\"/>\r\n     <use style=\"fill:#1f77b4;stroke:#1f77b4;\" x=\"149.744569\" xlink:href=\"#m8e43ecc4e6\" y=\"69.073646\"/>\r\n     <use style=\"fill:#1f77b4;stroke:#1f77b4;\" x=\"118.435252\" xlink:href=\"#m8e43ecc4e6\" y=\"75.026027\"/>\r\n     <use style=\"fill:#1f77b4;stroke:#1f77b4;\" x=\"202.221753\" xlink:href=\"#m8e43ecc4e6\" y=\"38.158904\"/>\r\n     <use style=\"fill:#1f77b4;stroke:#1f77b4;\" x=\"165.248878\" xlink:href=\"#m8e43ecc4e6\" y=\"77.353107\"/>\r\n     <use style=\"fill:#1f77b4;stroke:#1f77b4;\" x=\"114.816317\" xlink:href=\"#m8e43ecc4e6\" y=\"95.803197\"/>\r\n     <use style=\"fill:#1f77b4;stroke:#1f77b4;\" x=\"193.162478\" xlink:href=\"#m8e43ecc4e6\" y=\"49.772408\"/>\r\n     <use style=\"fill:#1f77b4;stroke:#1f77b4;\" x=\"170.554702\" xlink:href=\"#m8e43ecc4e6\" y=\"69.415659\"/>\r\n     <use style=\"fill:#1f77b4;stroke:#1f77b4;\" x=\"147.832638\" xlink:href=\"#m8e43ecc4e6\" y=\"86.166495\"/>\r\n     <use style=\"fill:#1f77b4;stroke:#1f77b4;\" x=\"93.828352\" xlink:href=\"#m8e43ecc4e6\" y=\"94.112772\"/>\r\n     <use style=\"fill:#1f77b4;stroke:#1f77b4;\" x=\"192.626957\" xlink:href=\"#m8e43ecc4e6\" y=\"61.128371\"/>\r\n     <use style=\"fill:#1f77b4;stroke:#1f77b4;\" x=\"118.359714\" xlink:href=\"#m8e43ecc4e6\" y=\"89.334018\"/>\r\n     <use style=\"fill:#1f77b4;stroke:#1f77b4;\" x=\"94.03856\" xlink:href=\"#m8e43ecc4e6\" y=\"99.319222\"/>\r\n     <use style=\"fill:#1f77b4;stroke:#1f77b4;\" x=\"145.511774\" xlink:href=\"#m8e43ecc4e6\" y=\"59.510375\"/>\r\n     <use style=\"fill:#1f77b4;stroke:#1f77b4;\" x=\"151.047274\" xlink:href=\"#m8e43ecc4e6\" y=\"84.141013\"/>\r\n     <use style=\"fill:#1f77b4;stroke:#1f77b4;\" x=\"94.858158\" xlink:href=\"#m8e43ecc4e6\" y=\"116.041302\"/>\r\n     <use style=\"fill:#1f77b4;stroke:#1f77b4;\" x=\"178.855693\" xlink:href=\"#m8e43ecc4e6\" y=\"71.73533\"/>\r\n     <use style=\"fill:#1f77b4;stroke:#1f77b4;\" x=\"136.289535\" xlink:href=\"#m8e43ecc4e6\" y=\"87.365508\"/>\r\n     <use style=\"fill:#1f77b4;stroke:#1f77b4;\" x=\"195.716836\" xlink:href=\"#m8e43ecc4e6\" y=\"43.393503\"/>\r\n     <use style=\"fill:#1f77b4;stroke:#1f77b4;\" x=\"202.353485\" xlink:href=\"#m8e43ecc4e6\" y=\"50.660592\"/>\r\n     <use style=\"fill:#1f77b4;stroke:#1f77b4;\" x=\"224.90554\" xlink:href=\"#m8e43ecc4e6\" y=\"13.377273\"/>\r\n     <use style=\"fill:#1f77b4;stroke:#1f77b4;\" x=\"133.98162\" xlink:href=\"#m8e43ecc4e6\" y=\"81.060531\"/>\r\n     <use style=\"fill:#1f77b4;stroke:#1f77b4;\" x=\"211.746926\" xlink:href=\"#m8e43ecc4e6\" y=\"42.332339\"/>\r\n     <use style=\"fill:#1f77b4;stroke:#1f77b4;\" x=\"133.066243\" xlink:href=\"#m8e43ecc4e6\" y=\"89.053679\"/>\r\n     <use style=\"fill:#1f77b4;stroke:#1f77b4;\" x=\"69.662405\" xlink:href=\"#m8e43ecc4e6\" y=\"114.695105\"/>\r\n     <use style=\"fill:#1f77b4;stroke:#1f77b4;\" x=\"140.807623\" xlink:href=\"#m8e43ecc4e6\" y=\"72.483288\"/>\r\n     <use style=\"fill:#1f77b4;stroke:#1f77b4;\" x=\"141.728866\" xlink:href=\"#m8e43ecc4e6\" y=\"82.324929\"/>\r\n     <use style=\"fill:#1f77b4;stroke:#1f77b4;\" x=\"116.775001\" xlink:href=\"#m8e43ecc4e6\" y=\"86.356188\"/>\r\n     <use style=\"fill:#1f77b4;stroke:#1f77b4;\" x=\"157.745787\" xlink:href=\"#m8e43ecc4e6\" y=\"60.169741\"/>\r\n     <use style=\"fill:#1f77b4;stroke:#1f77b4;\" x=\"155.764491\" xlink:href=\"#m8e43ecc4e6\" y=\"66.424485\"/>\r\n     <use style=\"fill:#1f77b4;stroke:#1f77b4;\" x=\"147.797032\" xlink:href=\"#m8e43ecc4e6\" y=\"71.5526\"/>\r\n     <use style=\"fill:#1f77b4;stroke:#1f77b4;\" x=\"124.708084\" xlink:href=\"#m8e43ecc4e6\" y=\"81.472785\"/>\r\n     <use style=\"fill:#1f77b4;stroke:#1f77b4;\" x=\"140.242865\" xlink:href=\"#m8e43ecc4e6\" y=\"76.231811\"/>\r\n     <use style=\"fill:#1f77b4;stroke:#1f77b4;\" x=\"145.999761\" xlink:href=\"#m8e43ecc4e6\" y=\"79.568412\"/>\r\n     <use style=\"fill:#1f77b4;stroke:#1f77b4;\" x=\"158.992404\" xlink:href=\"#m8e43ecc4e6\" y=\"75.653267\"/>\r\n     <use style=\"fill:#1f77b4;stroke:#1f77b4;\" x=\"90.462826\" xlink:href=\"#m8e43ecc4e6\" y=\"118.782093\"/>\r\n     <use style=\"fill:#1f77b4;stroke:#1f77b4;\" x=\"187.952109\" xlink:href=\"#m8e43ecc4e6\" y=\"69.861395\"/>\r\n     <use style=\"fill:#1f77b4;stroke:#1f77b4;\" x=\"90.88482\" xlink:href=\"#m8e43ecc4e6\" y=\"103.905437\"/>\r\n     <use style=\"fill:#1f77b4;stroke:#1f77b4;\" x=\"158.955174\" xlink:href=\"#m8e43ecc4e6\" y=\"65.044798\"/>\r\n     <use style=\"fill:#1f77b4;stroke:#1f77b4;\" x=\"160.200956\" xlink:href=\"#m8e43ecc4e6\" y=\"75.014678\"/>\r\n     <use style=\"fill:#1f77b4;stroke:#1f77b4;\" x=\"172.292998\" xlink:href=\"#m8e43ecc4e6\" y=\"51.611529\"/>\r\n     <use style=\"fill:#1f77b4;stroke:#1f77b4;\" x=\"119.257089\" xlink:href=\"#m8e43ecc4e6\" y=\"82.546962\"/>\r\n     <use style=\"fill:#1f77b4;stroke:#1f77b4;\" x=\"174.023479\" xlink:href=\"#m8e43ecc4e6\" y=\"56.487746\"/>\r\n     <use style=\"fill:#1f77b4;stroke:#1f77b4;\" x=\"120.778989\" xlink:href=\"#m8e43ecc4e6\" y=\"85.91745\"/>\r\n     <use style=\"fill:#1f77b4;stroke:#1f77b4;\" x=\"133.693297\" xlink:href=\"#m8e43ecc4e6\" y=\"79.170803\"/>\r\n     <use style=\"fill:#1f77b4;stroke:#1f77b4;\" x=\"189.145753\" xlink:href=\"#m8e43ecc4e6\" y=\"51.354025\"/>\r\n     <use style=\"fill:#1f77b4;stroke:#1f77b4;\" x=\"183.3138\" xlink:href=\"#m8e43ecc4e6\" y=\"64.407599\"/>\r\n     <use style=\"fill:#1f77b4;stroke:#1f77b4;\" x=\"189.868605\" xlink:href=\"#m8e43ecc4e6\" y=\"52.61329\"/>\r\n     <use style=\"fill:#1f77b4;stroke:#1f77b4;\" x=\"148.595486\" xlink:href=\"#m8e43ecc4e6\" y=\"69.544198\"/>\r\n     <use style=\"fill:#1f77b4;stroke:#1f77b4;\" x=\"160.17387\" xlink:href=\"#m8e43ecc4e6\" y=\"51.703989\"/>\r\n    </g>\r\n   </g>\r\n   <g id=\"matplotlib.axis_1\">\r\n    <g id=\"xtick_1\">\r\n     <g id=\"line2d_1\">\r\n      <defs>\r\n       <path d=\"M 0 0 \r\nL 0 3.5 \r\n\" id=\"m252f54e06b\" style=\"stroke:#000000;stroke-width:0.8;\"/>\r\n      </defs>\r\n      <g>\r\n       <use style=\"stroke:#000000;stroke-width:0.8;\" x=\"63.181803\" xlink:href=\"#m252f54e06b\" y=\"143.1\"/>\r\n      </g>\r\n     </g>\r\n     <g id=\"text_1\">\r\n      <!-- −1 -->\r\n      <g transform=\"translate(55.810709 157.698438)scale(0.1 -0.1)\">\r\n       <defs>\r\n        <path d=\"M 10.59375 35.5 \r\nL 73.1875 35.5 \r\nL 73.1875 27.203125 \r\nL 10.59375 27.203125 \r\nz\r\n\" id=\"DejaVuSans-8722\"/>\r\n        <path d=\"M 12.40625 8.296875 \r\nL 28.515625 8.296875 \r\nL 28.515625 63.921875 \r\nL 10.984375 60.40625 \r\nL 10.984375 69.390625 \r\nL 28.421875 72.90625 \r\nL 38.28125 72.90625 \r\nL 38.28125 8.296875 \r\nL 54.390625 8.296875 \r\nL 54.390625 0 \r\nL 12.40625 0 \r\nz\r\n\" id=\"DejaVuSans-49\"/>\r\n       </defs>\r\n       <use xlink:href=\"#DejaVuSans-8722\"/>\r\n       <use x=\"83.789062\" xlink:href=\"#DejaVuSans-49\"/>\r\n      </g>\r\n     </g>\r\n    </g>\r\n    <g id=\"xtick_2\">\r\n     <g id=\"line2d_2\">\r\n      <g>\r\n       <use style=\"stroke:#000000;stroke-width:0.8;\" x=\"102.58016\" xlink:href=\"#m252f54e06b\" y=\"143.1\"/>\r\n      </g>\r\n     </g>\r\n     <g id=\"text_2\">\r\n      <!-- 0 -->\r\n      <g transform=\"translate(99.39891 157.698438)scale(0.1 -0.1)\">\r\n       <defs>\r\n        <path d=\"M 31.78125 66.40625 \r\nQ 24.171875 66.40625 20.328125 58.90625 \r\nQ 16.5 51.421875 16.5 36.375 \r\nQ 16.5 21.390625 20.328125 13.890625 \r\nQ 24.171875 6.390625 31.78125 6.390625 \r\nQ 39.453125 6.390625 43.28125 13.890625 \r\nQ 47.125 21.390625 47.125 36.375 \r\nQ 47.125 51.421875 43.28125 58.90625 \r\nQ 39.453125 66.40625 31.78125 66.40625 \r\nz\r\nM 31.78125 74.21875 \r\nQ 44.046875 74.21875 50.515625 64.515625 \r\nQ 56.984375 54.828125 56.984375 36.375 \r\nQ 56.984375 17.96875 50.515625 8.265625 \r\nQ 44.046875 -1.421875 31.78125 -1.421875 \r\nQ 19.53125 -1.421875 13.0625 8.265625 \r\nQ 6.59375 17.96875 6.59375 36.375 \r\nQ 6.59375 54.828125 13.0625 64.515625 \r\nQ 19.53125 74.21875 31.78125 74.21875 \r\nz\r\n\" id=\"DejaVuSans-48\"/>\r\n       </defs>\r\n       <use xlink:href=\"#DejaVuSans-48\"/>\r\n      </g>\r\n     </g>\r\n    </g>\r\n    <g id=\"xtick_3\">\r\n     <g id=\"line2d_3\">\r\n      <g>\r\n       <use style=\"stroke:#000000;stroke-width:0.8;\" x=\"141.978517\" xlink:href=\"#m252f54e06b\" y=\"143.1\"/>\r\n      </g>\r\n     </g>\r\n     <g id=\"text_3\">\r\n      <!-- 1 -->\r\n      <g transform=\"translate(138.797267 157.698438)scale(0.1 -0.1)\">\r\n       <use xlink:href=\"#DejaVuSans-49\"/>\r\n      </g>\r\n     </g>\r\n    </g>\r\n    <g id=\"xtick_4\">\r\n     <g id=\"line2d_4\">\r\n      <g>\r\n       <use style=\"stroke:#000000;stroke-width:0.8;\" x=\"181.376874\" xlink:href=\"#m252f54e06b\" y=\"143.1\"/>\r\n      </g>\r\n     </g>\r\n     <g id=\"text_4\">\r\n      <!-- 2 -->\r\n      <g transform=\"translate(178.195624 157.698438)scale(0.1 -0.1)\">\r\n       <defs>\r\n        <path d=\"M 19.1875 8.296875 \r\nL 53.609375 8.296875 \r\nL 53.609375 0 \r\nL 7.328125 0 \r\nL 7.328125 8.296875 \r\nQ 12.9375 14.109375 22.625 23.890625 \r\nQ 32.328125 33.6875 34.8125 36.53125 \r\nQ 39.546875 41.84375 41.421875 45.53125 \r\nQ 43.3125 49.21875 43.3125 52.78125 \r\nQ 43.3125 58.59375 39.234375 62.25 \r\nQ 35.15625 65.921875 28.609375 65.921875 \r\nQ 23.96875 65.921875 18.8125 64.3125 \r\nQ 13.671875 62.703125 7.8125 59.421875 \r\nL 7.8125 69.390625 \r\nQ 13.765625 71.78125 18.9375 73 \r\nQ 24.125 74.21875 28.421875 74.21875 \r\nQ 39.75 74.21875 46.484375 68.546875 \r\nQ 53.21875 62.890625 53.21875 53.421875 \r\nQ 53.21875 48.921875 51.53125 44.890625 \r\nQ 49.859375 40.875 45.40625 35.40625 \r\nQ 44.1875 33.984375 37.640625 27.21875 \r\nQ 31.109375 20.453125 19.1875 8.296875 \r\nz\r\n\" id=\"DejaVuSans-50\"/>\r\n       </defs>\r\n       <use xlink:href=\"#DejaVuSans-50\"/>\r\n      </g>\r\n     </g>\r\n    </g>\r\n    <g id=\"xtick_5\">\r\n     <g id=\"line2d_5\">\r\n      <g>\r\n       <use style=\"stroke:#000000;stroke-width:0.8;\" x=\"220.775231\" xlink:href=\"#m252f54e06b\" y=\"143.1\"/>\r\n      </g>\r\n     </g>\r\n     <g id=\"text_5\">\r\n      <!-- 3 -->\r\n      <g transform=\"translate(217.593981 157.698438)scale(0.1 -0.1)\">\r\n       <defs>\r\n        <path d=\"M 40.578125 39.3125 \r\nQ 47.65625 37.796875 51.625 33 \r\nQ 55.609375 28.21875 55.609375 21.1875 \r\nQ 55.609375 10.40625 48.1875 4.484375 \r\nQ 40.765625 -1.421875 27.09375 -1.421875 \r\nQ 22.515625 -1.421875 17.65625 -0.515625 \r\nQ 12.796875 0.390625 7.625 2.203125 \r\nL 7.625 11.71875 \r\nQ 11.71875 9.328125 16.59375 8.109375 \r\nQ 21.484375 6.890625 26.8125 6.890625 \r\nQ 36.078125 6.890625 40.9375 10.546875 \r\nQ 45.796875 14.203125 45.796875 21.1875 \r\nQ 45.796875 27.640625 41.28125 31.265625 \r\nQ 36.765625 34.90625 28.71875 34.90625 \r\nL 20.21875 34.90625 \r\nL 20.21875 43.015625 \r\nL 29.109375 43.015625 \r\nQ 36.375 43.015625 40.234375 45.921875 \r\nQ 44.09375 48.828125 44.09375 54.296875 \r\nQ 44.09375 59.90625 40.109375 62.90625 \r\nQ 36.140625 65.921875 28.71875 65.921875 \r\nQ 24.65625 65.921875 20.015625 65.03125 \r\nQ 15.375 64.15625 9.8125 62.3125 \r\nL 9.8125 71.09375 \r\nQ 15.4375 72.65625 20.34375 73.4375 \r\nQ 25.25 74.21875 29.59375 74.21875 \r\nQ 40.828125 74.21875 47.359375 69.109375 \r\nQ 53.90625 64.015625 53.90625 55.328125 \r\nQ 53.90625 49.265625 50.4375 45.09375 \r\nQ 46.96875 40.921875 40.578125 39.3125 \r\nz\r\n\" id=\"DejaVuSans-51\"/>\r\n       </defs>\r\n       <use xlink:href=\"#DejaVuSans-51\"/>\r\n      </g>\r\n     </g>\r\n    </g>\r\n   </g>\r\n   <g id=\"matplotlib.axis_2\">\r\n    <g id=\"ytick_1\">\r\n     <g id=\"line2d_6\">\r\n      <defs>\r\n       <path d=\"M 0 0 \r\nL -3.5 0 \r\n\" id=\"mac1b71756a\" style=\"stroke:#000000;stroke-width:0.8;\"/>\r\n      </defs>\r\n      <g>\r\n       <use style=\"stroke:#000000;stroke-width:0.8;\" x=\"38.482813\" xlink:href=\"#mac1b71756a\" y=\"127.067664\"/>\r\n      </g>\r\n     </g>\r\n     <g id=\"text_6\">\r\n      <!-- −2.5 -->\r\n      <g transform=\"translate(7.2 130.866882)scale(0.1 -0.1)\">\r\n       <defs>\r\n        <path d=\"M 10.6875 12.40625 \r\nL 21 12.40625 \r\nL 21 0 \r\nL 10.6875 0 \r\nz\r\n\" id=\"DejaVuSans-46\"/>\r\n        <path d=\"M 10.796875 72.90625 \r\nL 49.515625 72.90625 \r\nL 49.515625 64.59375 \r\nL 19.828125 64.59375 \r\nL 19.828125 46.734375 \r\nQ 21.96875 47.46875 24.109375 47.828125 \r\nQ 26.265625 48.1875 28.421875 48.1875 \r\nQ 40.625 48.1875 47.75 41.5 \r\nQ 54.890625 34.8125 54.890625 23.390625 \r\nQ 54.890625 11.625 47.5625 5.09375 \r\nQ 40.234375 -1.421875 26.90625 -1.421875 \r\nQ 22.3125 -1.421875 17.546875 -0.640625 \r\nQ 12.796875 0.140625 7.71875 1.703125 \r\nL 7.71875 11.625 \r\nQ 12.109375 9.234375 16.796875 8.0625 \r\nQ 21.484375 6.890625 26.703125 6.890625 \r\nQ 35.15625 6.890625 40.078125 11.328125 \r\nQ 45.015625 15.765625 45.015625 23.390625 \r\nQ 45.015625 31 40.078125 35.4375 \r\nQ 35.15625 39.890625 26.703125 39.890625 \r\nQ 22.75 39.890625 18.8125 39.015625 \r\nQ 14.890625 38.140625 10.796875 36.28125 \r\nz\r\n\" id=\"DejaVuSans-53\"/>\r\n       </defs>\r\n       <use xlink:href=\"#DejaVuSans-8722\"/>\r\n       <use x=\"83.789062\" xlink:href=\"#DejaVuSans-50\"/>\r\n       <use x=\"147.412109\" xlink:href=\"#DejaVuSans-46\"/>\r\n       <use x=\"179.199219\" xlink:href=\"#DejaVuSans-53\"/>\r\n      </g>\r\n     </g>\r\n    </g>\r\n    <g id=\"ytick_2\">\r\n     <g id=\"line2d_7\">\r\n      <g>\r\n       <use style=\"stroke:#000000;stroke-width:0.8;\" x=\"38.482813\" xlink:href=\"#mac1b71756a\" y=\"99.805212\"/>\r\n      </g>\r\n     </g>\r\n     <g id=\"text_7\">\r\n      <!-- 0.0 -->\r\n      <g transform=\"translate(15.579688 103.60443)scale(0.1 -0.1)\">\r\n       <use xlink:href=\"#DejaVuSans-48\"/>\r\n       <use x=\"63.623047\" xlink:href=\"#DejaVuSans-46\"/>\r\n       <use x=\"95.410156\" xlink:href=\"#DejaVuSans-48\"/>\r\n      </g>\r\n     </g>\r\n    </g>\r\n    <g id=\"ytick_3\">\r\n     <g id=\"line2d_8\">\r\n      <g>\r\n       <use style=\"stroke:#000000;stroke-width:0.8;\" x=\"38.482813\" xlink:href=\"#mac1b71756a\" y=\"72.54276\"/>\r\n      </g>\r\n     </g>\r\n     <g id=\"text_8\">\r\n      <!-- 2.5 -->\r\n      <g transform=\"translate(15.579688 76.341978)scale(0.1 -0.1)\">\r\n       <use xlink:href=\"#DejaVuSans-50\"/>\r\n       <use x=\"63.623047\" xlink:href=\"#DejaVuSans-46\"/>\r\n       <use x=\"95.410156\" xlink:href=\"#DejaVuSans-53\"/>\r\n      </g>\r\n     </g>\r\n    </g>\r\n    <g id=\"ytick_4\">\r\n     <g id=\"line2d_9\">\r\n      <g>\r\n       <use style=\"stroke:#000000;stroke-width:0.8;\" x=\"38.482813\" xlink:href=\"#mac1b71756a\" y=\"45.280308\"/>\r\n      </g>\r\n     </g>\r\n     <g id=\"text_9\">\r\n      <!-- 5.0 -->\r\n      <g transform=\"translate(15.579688 49.079527)scale(0.1 -0.1)\">\r\n       <use xlink:href=\"#DejaVuSans-53\"/>\r\n       <use x=\"63.623047\" xlink:href=\"#DejaVuSans-46\"/>\r\n       <use x=\"95.410156\" xlink:href=\"#DejaVuSans-48\"/>\r\n      </g>\r\n     </g>\r\n    </g>\r\n    <g id=\"ytick_5\">\r\n     <g id=\"line2d_10\">\r\n      <g>\r\n       <use style=\"stroke:#000000;stroke-width:0.8;\" x=\"38.482813\" xlink:href=\"#mac1b71756a\" y=\"18.017856\"/>\r\n      </g>\r\n     </g>\r\n     <g id=\"text_10\">\r\n      <!-- 7.5 -->\r\n      <g transform=\"translate(15.579688 21.817075)scale(0.1 -0.1)\">\r\n       <defs>\r\n        <path d=\"M 8.203125 72.90625 \r\nL 55.078125 72.90625 \r\nL 55.078125 68.703125 \r\nL 28.609375 0 \r\nL 18.3125 0 \r\nL 43.21875 64.59375 \r\nL 8.203125 64.59375 \r\nz\r\n\" id=\"DejaVuSans-55\"/>\r\n       </defs>\r\n       <use xlink:href=\"#DejaVuSans-55\"/>\r\n       <use x=\"63.623047\" xlink:href=\"#DejaVuSans-46\"/>\r\n       <use x=\"95.410156\" xlink:href=\"#DejaVuSans-53\"/>\r\n      </g>\r\n     </g>\r\n    </g>\r\n   </g>\r\n   <g id=\"patch_3\">\r\n    <path d=\"M 38.482813 143.1 \r\nL 38.482813 7.2 \r\n\" style=\"fill:none;stroke:#000000;stroke-linecap:square;stroke-linejoin:miter;stroke-width:0.8;\"/>\r\n   </g>\r\n   <g id=\"patch_4\">\r\n    <path d=\"M 233.782813 143.1 \r\nL 233.782813 7.2 \r\n\" style=\"fill:none;stroke:#000000;stroke-linecap:square;stroke-linejoin:miter;stroke-width:0.8;\"/>\r\n   </g>\r\n   <g id=\"patch_5\">\r\n    <path d=\"M 38.482813 143.1 \r\nL 233.782813 143.1 \r\n\" style=\"fill:none;stroke:#000000;stroke-linecap:square;stroke-linejoin:miter;stroke-width:0.8;\"/>\r\n   </g>\r\n   <g id=\"patch_6\">\r\n    <path d=\"M 38.482813 7.2 \r\nL 233.782813 7.2 \r\n\" style=\"fill:none;stroke:#000000;stroke-linecap:square;stroke-linejoin:miter;stroke-width:0.8;\"/>\r\n   </g>\r\n  </g>\r\n </g>\r\n <defs>\r\n  <clipPath id=\"p85fe9cb319\">\r\n   <rect height=\"135.9\" width=\"195.3\" x=\"38.482813\" y=\"7.2\"/>\r\n  </clipPath>\r\n </defs>\r\n</svg>\r\n"
     },
     "metadata": {
      "needs_background": "light"
     }
    }
   ],
   "source": [
    "d2l.set_figsize()\n",
    "d2l.plt.scatter(d2l.numpy(data[:100, 0]), d2l.numpy(data[:100, 1]));\n",
    "print(f'The covariance matrix is\\n{d2l.matmul(tf.transpose(A), A)}')"
   ]
  },
  {
   "cell_type": "code",
   "execution_count": 5,
   "metadata": {},
   "outputs": [],
   "source": [
    "batch_size = 8\n",
    "data_iter = d2l.load_array((data,), batch_size)"
   ]
  },
  {
   "cell_type": "code",
   "execution_count": 6,
   "metadata": {},
   "outputs": [],
   "source": [
    "net_G = tf.keras.Sequential()\n",
    "net_G.add(tf.keras.layers.Dense(2))"
   ]
  },
  {
   "cell_type": "markdown",
   "metadata": {},
   "source": [
    "tf.keras.activations.tanh(a)\n",
    "https://www.tensorflow.org/api_docs/python/tf/keras/activations/tanh\n"
   ]
  },
  {
   "cell_type": "code",
   "execution_count": 7,
   "metadata": {},
   "outputs": [],
   "source": [
    "net_D = tf.keras.Sequential()\n",
    "net_D.add(tf.keras.layers.Dense(5, activation='tanh'))\n",
    "net_D.add(tf.keras.layers.Dense(3, activation='tanh'))\n",
    "net_D.add(tf.keras.layers.Dense(1))"
   ]
  },
  {
   "cell_type": "markdown",
   "metadata": {},
   "source": [
    "with tf.GradientTape() as t:\n",
    "http://preview.d2l.ai/d2l-en/master/chapter_preliminaries/autograd.html\n"
   ]
  },
  {
   "cell_type": "markdown",
   "metadata": {},
   "source": [
    "t.gradient(y, x) \n",
    "t.gradient(loss_D, trainer_D) "
   ]
  },
  {
   "cell_type": "code",
   "execution_count": 8,
   "metadata": {},
   "outputs": [],
   "source": [
    "#@save\n",
    "def update_D(X, Z, net_D, net_G, loss, trainer_D):\n",
    "    \"\"\"Update discriminator.\"\"\"\n",
    "    batch_size = np.array(X).shape[0]\n",
    "    ones = tf.ones((batch_size,), tf.float32)\n",
    "    zeros = tf.zeros((batch_size,), tf.float32)\n",
    "    with tf.GradientTape() as t:\n",
    "        real_Y = net_D(tf.convert_to_tensor(X))\n",
    "        fake_X = net_G(tf.convert_to_tensor(Z))\n",
    "        # Do not need to compute gradient for `net_G`, detach it from\n",
    "        # computing gradients.\n",
    "        fake_Y = net_D(tf.stop_gradient(fake_X))\n",
    "        loss_D = (loss(real_Y, ones) + loss(fake_Y, zeros)) / 2\n",
    "    t.gradient(loss_D, net_D.trainable_variables) \n",
    "    return float(loss_D)"
   ]
  },
  {
   "cell_type": "code",
   "execution_count": 9,
   "metadata": {},
   "outputs": [
    {
     "output_type": "error",
     "ename": "SyntaxError",
     "evalue": "invalid syntax (<ipython-input-9-81459f844e2d>, line 10)",
     "traceback": [
      "\u001b[1;36m  File \u001b[1;32m\"<ipython-input-9-81459f844e2d>\"\u001b[1;36m, line \u001b[1;32m10\u001b[0m\n\u001b[1;33m    fake_Y = net_D.train_on_batch(tf.stop_gradient(fake_X))\u001b[0m\n\u001b[1;37m         ^\u001b[0m\n\u001b[1;31mSyntaxError\u001b[0m\u001b[1;31m:\u001b[0m invalid syntax\n"
     ]
    }
   ],
   "source": [
    "#@save\n",
    "def update_G(Z, net_D, net_G, loss, trainer_G):\n",
    "    \"\"\"Update generator.\"\"\"\n",
    "    batch_size = np.array(Z).shape[0]\n",
    "    ones = tf.ones((batch_size,), tf.float32)\n",
    "    with tf.GradientTape() as t:\n",
    "        # We could reuse `fake_X` from `update_D` to save computation\n",
    "        fake_X = net_G.train_on_batch(tf.convert_to_tensor(Z)\n",
    "        # Recomputing `fake_Y` is needed since `net_D` is changed\n",
    "        fake_Y = net_D.train_on_batch(tf.stop_gradient(fake_X))\n",
    "        loss_G = loss(fake_Y, ones)\n",
    "    t.gradient(loss_G, net_G.trainable_variables) \n",
    "    return float(loss_G)"
   ]
  },
  {
   "cell_type": "markdown",
   "metadata": {},
   "source": [
    "https://www.google.com/search?q=numpy()+tensorflow&rlz=1C1GCEA_enJP909HK909&oq=numpy()+tensorflow&aqs=chrome..69i57j0l7.2792j0j1&sourceid=chrome&ie=UTF-8"
   ]
  },
  {
   "cell_type": "markdown",
   "metadata": {},
   "source": [
    "https://www.tensorflow.org/api_docs/python/tf/keras/optimizers/Adam\n",
    "tf.keras.optimizers.Adam(learning_rate=0.1)\n",
    "m.compile\n",
    "m = tf.keras.models.Sequential([tf.keras.layers.Dense(10)])\n",
    "m.compile(opt, loss='mse')"
   ]
  },
  {
   "cell_type": "markdown",
   "metadata": {},
   "source": [
    "https://stackoverflow.com/questions/55683729/bcewithlogitsloss-in-keras\n",
    "https://www.tensorflow.org/api_docs/python/tf/keras/losses/BinaryCrossentropy\n"
   ]
  },
  {
   "cell_type": "markdown",
   "metadata": {},
   "source": [
    "def weight_variable(shape, w=0.1):\n",
    "  initial = tf.truncated_normal(shape, stddev=w)\n",
    "  return tf.Variable(initial)\n",
    "  https://stackoverflow.com/questions/43489697/tensorflow-weight-initialization\n",
    "\n",
    "  The values generated are similar to values from a tf.keras.initializers.RandomNormal initializer except that values more than two standard deviations from the mean are discarded and re-drawn.\n",
    "  https://keras.io/api/layers/initializers/"
   ]
  },
  {
   "cell_type": "markdown",
   "metadata": {},
   "source": [
    "tf.Variable(initial_value=w_init(\n",
    "            shape=(input_dim, unit), dtype=tf.float32), trainable=True)\n",
    "            https://zhuanlan.zhihu.com/p/59481536"
   ]
  },
  {
   "cell_type": "markdown",
   "metadata": {},
   "source": [
    "https://keras.io/api/layers/initializers/"
   ]
  },
  {
   "cell_type": "markdown",
   "metadata": {},
   "source": [
    "numpy.array\n",
    "https://stackoverflow.com/questions/41198144/attributeerror-tuple-object-has-no-attribute-shape"
   ]
  },
  {
   "cell_type": "markdown",
   "metadata": {},
   "source": [
    "https://github.com/tensorflow/tensorflow/issues/29972"
   ]
  },
  {
   "cell_type": "markdown",
   "metadata": {},
   "source": [
    "tf.stop_gradient(y)\n",
    "http://preview.d2l.ai/d2l-en/master/chapter_preliminaries/autograd.html?highlight=detach"
   ]
  },
  {
   "cell_type": "markdown",
   "metadata": {},
   "source": [
    " from_logits=True 9.2.4 TensorFlow 2.0 神经网络实践"
   ]
  },
  {
   "cell_type": "code",
   "execution_count": 10,
   "metadata": {},
   "outputs": [],
   "source": [
    "def train(net_D, net_G, data_iter, num_epochs, lr_D, lr_G, latent_dim, data):\n",
    "    loss = tf.keras.losses.BinaryCrossentropy(reduction=\n",
    "                    tf.keras.losses.Reduction.SUM)\n",
    "    tf.keras.initializers.RandomNormal(net_D, stddev=0.02)\n",
    "    tf.keras.initializers.RandomNormal(net_G, stddev=0.02)\n",
    "    trainer_D = net_D.compile(tf.keras.optimizers.Adam(learning_rate=lr_D), loss=loss)\n",
    "    trainer_G = net_G.compile(tf.keras.optimizers.Adam(learning_rate=lr_G), loss=loss)\n",
    "    animator = d2l.Animator(xlabel='epoch', ylabel='loss',\n",
    "                            xlim=[1, num_epochs], nrows=2, figsize=(5, 5),\n",
    "                            legend=['discriminator', 'generator'])\n",
    "    animator.fig.subplots_adjust(hspace=0.3)\n",
    "    for epoch in range(num_epochs):\n",
    "        # Train one epoch\n",
    "        timer = d2l.Timer()\n",
    "        metric = d2l.Accumulator(3)  # loss_D, loss_G, num_examples\n",
    "        for X in data_iter:\n",
    "            batch_size = np.array(X).shape[0]\n",
    "            Z = d2l.normal([batch_size, latent_dim], 0, 1, tf.float32)\n",
    "            metric.add(update_D(X, Z, net_D, net_G, loss, trainer_D),\n",
    "                       update_G(Z, net_D, net_G, loss, trainer_G),\n",
    "                       batch_size)\n",
    "        # Visualize generated examples\n",
    "        Z = d2l.normal([100, latent_dim], 0, 1, tf.float32)\n",
    "        fake_X = net_G(Z).Tensor.numpy()\n",
    "        animator.axes[1].cla()\n",
    "        animator.axes[1].scatter(data[:, 0], data[:, 1])\n",
    "        animator.axes[1].scatter(fake_X[:, 0], fake_X[:, 1])\n",
    "        animator.axes[1].legend(['real', 'generated'])\n",
    "        # Show the losses\n",
    "        loss_D, loss_G = metric[0]/metric[2], metric[1]/metric[2]\n",
    "        animator.add(epoch + 1, (loss_D, loss_G))\n",
    "    print(f'loss_D {loss_D:.3f}, loss_G {loss_G:.3f}, '\n",
    "          f'{metric[2] / timer.stop():.1f} examples/sec')"
   ]
  },
  {
   "cell_type": "code",
   "execution_count": 11,
   "metadata": {
    "tags": []
   },
   "outputs": [
    {
     "output_type": "error",
     "ename": "AttributeError",
     "evalue": "'tensorflow.python.framework.ops.EagerTensor' object has no attribute 'sum'",
     "traceback": [
      "\u001b[1;31m---------------------------------------------------------------------------\u001b[0m",
      "\u001b[1;31mAttributeError\u001b[0m                            Traceback (most recent call last)",
      "\u001b[1;32m<ipython-input-11-251159593cac>\u001b[0m in \u001b[0;36m<module>\u001b[1;34m\u001b[0m\n\u001b[0;32m      1\u001b[0m \u001b[0mlr_D\u001b[0m\u001b[1;33m,\u001b[0m \u001b[0mlr_G\u001b[0m\u001b[1;33m,\u001b[0m \u001b[0mlatent_dim\u001b[0m\u001b[1;33m,\u001b[0m \u001b[0mnum_epochs\u001b[0m \u001b[1;33m=\u001b[0m \u001b[1;36m0.05\u001b[0m\u001b[1;33m,\u001b[0m \u001b[1;36m0.005\u001b[0m\u001b[1;33m,\u001b[0m \u001b[1;36m2\u001b[0m\u001b[1;33m,\u001b[0m \u001b[1;36m20\u001b[0m\u001b[1;33m\u001b[0m\u001b[1;33m\u001b[0m\u001b[0m\n\u001b[0;32m      2\u001b[0m train(net_D, net_G, data_iter, num_epochs, lr_D, lr_G,\n\u001b[1;32m----> 3\u001b[1;33m       latent_dim, d2l.numpy(data[:100]))\n\u001b[0m",
      "\u001b[1;32m<ipython-input-10-fb2e44b40e46>\u001b[0m in \u001b[0;36mtrain\u001b[1;34m(net_D, net_G, data_iter, num_epochs, lr_D, lr_G, latent_dim, data)\u001b[0m\n\u001b[0;32m     17\u001b[0m             \u001b[0mbatch_size\u001b[0m \u001b[1;33m=\u001b[0m \u001b[0mnp\u001b[0m\u001b[1;33m.\u001b[0m\u001b[0marray\u001b[0m\u001b[1;33m(\u001b[0m\u001b[0mX\u001b[0m\u001b[1;33m)\u001b[0m\u001b[1;33m.\u001b[0m\u001b[0mshape\u001b[0m\u001b[1;33m[\u001b[0m\u001b[1;36m0\u001b[0m\u001b[1;33m]\u001b[0m\u001b[1;33m\u001b[0m\u001b[1;33m\u001b[0m\u001b[0m\n\u001b[0;32m     18\u001b[0m             \u001b[0mZ\u001b[0m \u001b[1;33m=\u001b[0m \u001b[0md2l\u001b[0m\u001b[1;33m.\u001b[0m\u001b[0mnormal\u001b[0m\u001b[1;33m(\u001b[0m\u001b[1;33m[\u001b[0m\u001b[0mbatch_size\u001b[0m\u001b[1;33m,\u001b[0m \u001b[0mlatent_dim\u001b[0m\u001b[1;33m]\u001b[0m\u001b[1;33m,\u001b[0m \u001b[1;36m0\u001b[0m\u001b[1;33m,\u001b[0m \u001b[1;36m1\u001b[0m\u001b[1;33m,\u001b[0m \u001b[0mtf\u001b[0m\u001b[1;33m.\u001b[0m\u001b[0mfloat32\u001b[0m\u001b[1;33m)\u001b[0m\u001b[1;33m\u001b[0m\u001b[1;33m\u001b[0m\u001b[0m\n\u001b[1;32m---> 19\u001b[1;33m             metric.add(update_D(X, Z, net_D, net_G, loss, trainer_D),\n\u001b[0m\u001b[0;32m     20\u001b[0m                        \u001b[0mupdate_G\u001b[0m\u001b[1;33m(\u001b[0m\u001b[0mZ\u001b[0m\u001b[1;33m,\u001b[0m \u001b[0mnet_D\u001b[0m\u001b[1;33m,\u001b[0m \u001b[0mnet_G\u001b[0m\u001b[1;33m,\u001b[0m \u001b[0mloss\u001b[0m\u001b[1;33m,\u001b[0m \u001b[0mtrainer_G\u001b[0m\u001b[1;33m)\u001b[0m\u001b[1;33m,\u001b[0m\u001b[1;33m\u001b[0m\u001b[1;33m\u001b[0m\u001b[0m\n\u001b[0;32m     21\u001b[0m                        batch_size)\n",
      "\u001b[1;32m<ipython-input-8-bd42e5998ff9>\u001b[0m in \u001b[0;36mupdate_D\u001b[1;34m(X, Z, net_D, net_G, loss, trainer_D)\u001b[0m\n\u001b[0;32m     13\u001b[0m         \u001b[0mloss_D\u001b[0m \u001b[1;33m=\u001b[0m \u001b[1;33m(\u001b[0m\u001b[0mloss\u001b[0m\u001b[1;33m(\u001b[0m\u001b[0mreal_Y\u001b[0m\u001b[1;33m,\u001b[0m \u001b[0mones\u001b[0m\u001b[1;33m)\u001b[0m \u001b[1;33m+\u001b[0m \u001b[0mloss\u001b[0m\u001b[1;33m(\u001b[0m\u001b[0mfake_Y\u001b[0m\u001b[1;33m,\u001b[0m \u001b[0mzeros\u001b[0m\u001b[1;33m)\u001b[0m\u001b[1;33m)\u001b[0m \u001b[1;33m/\u001b[0m \u001b[1;36m2\u001b[0m\u001b[1;33m\u001b[0m\u001b[1;33m\u001b[0m\u001b[0m\n\u001b[0;32m     14\u001b[0m     \u001b[0mt\u001b[0m\u001b[1;33m.\u001b[0m\u001b[0mgradient\u001b[0m\u001b[1;33m(\u001b[0m\u001b[0mloss_D\u001b[0m\u001b[1;33m,\u001b[0m \u001b[0mnet_D\u001b[0m\u001b[1;33m.\u001b[0m\u001b[0mtrainable_variables\u001b[0m\u001b[1;33m)\u001b[0m\u001b[1;33m\u001b[0m\u001b[1;33m\u001b[0m\u001b[0m\n\u001b[1;32m---> 15\u001b[1;33m     \u001b[1;32mreturn\u001b[0m \u001b[0mfloat\u001b[0m\u001b[1;33m(\u001b[0m\u001b[0mloss_D\u001b[0m\u001b[1;33m.\u001b[0m\u001b[0msum\u001b[0m\u001b[1;33m(\u001b[0m\u001b[1;33m)\u001b[0m\u001b[1;33m)\u001b[0m\u001b[1;33m\u001b[0m\u001b[1;33m\u001b[0m\u001b[0m\n\u001b[0m",
      "\u001b[1;31mAttributeError\u001b[0m: 'tensorflow.python.framework.ops.EagerTensor' object has no attribute 'sum'"
     ]
    }
   ],
   "source": [
    "lr_D, lr_G, latent_dim, num_epochs = 0.05, 0.005, 2, 20\n",
    "train(net_D, net_G, data_iter, num_epochs, lr_D, lr_G,\n",
    "      latent_dim, d2l.numpy(data[:100]))"
   ]
  },
  {
   "cell_type": "markdown",
   "metadata": {},
   "source": [
    "https://www.tensorflow.org/api_docs/python/tf/ones"
   ]
  }
 ]
}