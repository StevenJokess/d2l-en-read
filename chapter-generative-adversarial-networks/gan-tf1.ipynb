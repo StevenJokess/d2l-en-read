{
 "metadata": {
  "language_info": {
   "codemirror_mode": {
    "name": "ipython",
    "version": 3
   },
   "file_extension": ".py",
   "mimetype": "text/x-python",
   "name": "python",
   "nbconvert_exporter": "python",
   "pygments_lexer": "ipython3",
   "version": "3.7.8-final"
  },
  "orig_nbformat": 2,
  "kernelspec": {
   "name": "python37864bittf2conda1de394c9651a4d19aa25641a40b8d2d8",
   "display_name": "Python 3.7.8 64-bit ('tf2': conda)"
  }
 },
 "nbformat": 4,
 "nbformat_minor": 2,
 "cells": [
  {
   "cell_type": "markdown",
   "metadata": {},
   "source": [
    "http://preview.d2l.ai/d2l-en/master/chapter_generative-adversarial-networks/gan.html"
   ]
  },
  {
   "cell_type": "code",
   "execution_count": 1,
   "metadata": {},
   "outputs": [],
   "source": [
    "%matplotlib inline\n",
    "from d2l import tensorflow as d2l\n",
    "import tensorflow as tf"
   ]
  },
  {
   "cell_type": "markdown",
   "metadata": {},
   "source": [
    "https://www.tensorflow.org/api_docs/python/tf/random/normal"
   ]
  },
  {
   "cell_type": "markdown",
   "metadata": {},
   "source": [
    "https://www.tensorflow.org/api_docs/python/tf/norm"
   ]
  },
  {
   "cell_type": "code",
   "execution_count": 2,
   "metadata": {},
   "outputs": [],
   "source": [
    "X = d2l.normal([1000, 2], 0.0, 1, tf.float32)"
   ]
  },
  {
   "cell_type": "code",
   "execution_count": 3,
   "metadata": {},
   "outputs": [],
   "source": [
    "A = d2l.tensor([[1, 2], [-0.1, 0.5]], tf.float32)\n",
    "b = d2l.tensor([1, 2], tf.float32)\n",
    "data = d2l.matmul(X, A) + b"
   ]
  },
  {
   "cell_type": "code",
   "execution_count": 6,
   "metadata": {
    "tags": []
   },
   "outputs": [
    {
     "output_type": "stream",
     "name": "stdout",
     "text": "The covariance matrix is\n[[1.01 1.95]\n [1.95 4.25]]\n"
    },
    {
     "output_type": "display_data",
     "data": {
      "text/plain": "<Figure size 252x180 with 1 Axes>",
      "image/svg+xml": "<?xml version=\"1.0\" encoding=\"utf-8\" standalone=\"no\"?>\r\n<!DOCTYPE svg PUBLIC \"-//W3C//DTD SVG 1.1//EN\"\r\n  \"http://www.w3.org/Graphics/SVG/1.1/DTD/svg11.dtd\">\r\n<!-- Created with matplotlib (https://matplotlib.org/) -->\r\n<svg height=\"166.978125pt\" version=\"1.1\" viewBox=\"0 0 231.442187 166.978125\" width=\"231.442187pt\" xmlns=\"http://www.w3.org/2000/svg\" xmlns:xlink=\"http://www.w3.org/1999/xlink\">\r\n <metadata>\r\n  <rdf:RDF xmlns:cc=\"http://creativecommons.org/ns#\" xmlns:dc=\"http://purl.org/dc/elements/1.1/\" xmlns:rdf=\"http://www.w3.org/1999/02/22-rdf-syntax-ns#\">\r\n   <cc:Work>\r\n    <dc:type rdf:resource=\"http://purl.org/dc/dcmitype/StillImage\"/>\r\n    <dc:date>2020-09-03T16:51:40.216456</dc:date>\r\n    <dc:format>image/svg+xml</dc:format>\r\n    <dc:creator>\r\n     <cc:Agent>\r\n      <dc:title>Matplotlib v3.3.1, https://matplotlib.org/</dc:title>\r\n     </cc:Agent>\r\n    </dc:creator>\r\n   </cc:Work>\r\n  </rdf:RDF>\r\n </metadata>\r\n <defs>\r\n  <style type=\"text/css\">*{stroke-linecap:butt;stroke-linejoin:round;}</style>\r\n </defs>\r\n <g id=\"figure_1\">\r\n  <g id=\"patch_1\">\r\n   <path d=\"M 0 166.978125 \r\nL 231.442187 166.978125 \r\nL 231.442187 0 \r\nL 0 0 \r\nz\r\n\" style=\"fill:none;\"/>\r\n  </g>\r\n  <g id=\"axes_1\">\r\n   <g id=\"patch_2\">\r\n    <path d=\"M 28.942188 143.1 \r\nL 224.242188 143.1 \r\nL 224.242188 7.2 \r\nL 28.942188 7.2 \r\nz\r\n\" style=\"fill:#ffffff;\"/>\r\n   </g>\r\n   <g id=\"PathCollection_1\">\r\n    <defs>\r\n     <path d=\"M 0 3 \r\nC 0.795609 3 1.55874 2.683901 2.12132 2.12132 \r\nC 2.683901 1.55874 3 0.795609 3 0 \r\nC 3 -0.795609 2.683901 -1.55874 2.12132 -2.12132 \r\nC 1.55874 -2.683901 0.795609 -3 0 -3 \r\nC -0.795609 -3 -1.55874 -2.683901 -2.12132 -2.12132 \r\nC -2.683901 -1.55874 -3 -0.795609 -3 0 \r\nC -3 0.795609 -2.683901 1.55874 -2.12132 2.12132 \r\nC -1.55874 2.683901 -0.795609 3 0 3 \r\nz\r\n\" id=\"me38765c2c2\" style=\"stroke:#1f77b4;\"/>\r\n    </defs>\r\n    <g clip-path=\"url(#pd4d6b89664)\">\r\n     <use style=\"fill:#1f77b4;stroke:#1f77b4;\" x=\"182.62527\" xlink:href=\"#me38765c2c2\" y=\"29.533311\"/>\r\n     <use style=\"fill:#1f77b4;stroke:#1f77b4;\" x=\"76.876049\" xlink:href=\"#me38765c2c2\" y=\"126.570713\"/>\r\n     <use style=\"fill:#1f77b4;stroke:#1f77b4;\" x=\"188.079488\" xlink:href=\"#me38765c2c2\" y=\"47.732801\"/>\r\n     <use style=\"fill:#1f77b4;stroke:#1f77b4;\" x=\"57.328188\" xlink:href=\"#me38765c2c2\" y=\"136.922727\"/>\r\n     <use style=\"fill:#1f77b4;stroke:#1f77b4;\" x=\"157.74758\" xlink:href=\"#me38765c2c2\" y=\"66.180033\"/>\r\n     <use style=\"fill:#1f77b4;stroke:#1f77b4;\" x=\"91.037081\" xlink:href=\"#me38765c2c2\" y=\"110.281074\"/>\r\n     <use style=\"fill:#1f77b4;stroke:#1f77b4;\" x=\"143.939143\" xlink:href=\"#me38765c2c2\" y=\"76.498565\"/>\r\n     <use style=\"fill:#1f77b4;stroke:#1f77b4;\" x=\"76.103033\" xlink:href=\"#me38765c2c2\" y=\"116.031603\"/>\r\n     <use style=\"fill:#1f77b4;stroke:#1f77b4;\" x=\"117.46333\" xlink:href=\"#me38765c2c2\" y=\"99.703375\"/>\r\n     <use style=\"fill:#1f77b4;stroke:#1f77b4;\" x=\"185.141798\" xlink:href=\"#me38765c2c2\" y=\"54.474947\"/>\r\n     <use style=\"fill:#1f77b4;stroke:#1f77b4;\" x=\"163.396399\" xlink:href=\"#me38765c2c2\" y=\"61.416298\"/>\r\n     <use style=\"fill:#1f77b4;stroke:#1f77b4;\" x=\"62.870504\" xlink:href=\"#me38765c2c2\" y=\"131.505052\"/>\r\n     <use style=\"fill:#1f77b4;stroke:#1f77b4;\" x=\"37.81946\" xlink:href=\"#me38765c2c2\" y=\"135.791532\"/>\r\n     <use style=\"fill:#1f77b4;stroke:#1f77b4;\" x=\"99.172644\" xlink:href=\"#me38765c2c2\" y=\"96.786787\"/>\r\n     <use style=\"fill:#1f77b4;stroke:#1f77b4;\" x=\"120.060715\" xlink:href=\"#me38765c2c2\" y=\"90.033134\"/>\r\n     <use style=\"fill:#1f77b4;stroke:#1f77b4;\" x=\"169.818362\" xlink:href=\"#me38765c2c2\" y=\"49.736288\"/>\r\n     <use style=\"fill:#1f77b4;stroke:#1f77b4;\" x=\"142.088762\" xlink:href=\"#me38765c2c2\" y=\"80.311216\"/>\r\n     <use style=\"fill:#1f77b4;stroke:#1f77b4;\" x=\"79.281305\" xlink:href=\"#me38765c2c2\" y=\"118.742962\"/>\r\n     <use style=\"fill:#1f77b4;stroke:#1f77b4;\" x=\"190.648827\" xlink:href=\"#me38765c2c2\" y=\"52.00793\"/>\r\n     <use style=\"fill:#1f77b4;stroke:#1f77b4;\" x=\"84.253866\" xlink:href=\"#me38765c2c2\" y=\"121.438029\"/>\r\n     <use style=\"fill:#1f77b4;stroke:#1f77b4;\" x=\"161.552103\" xlink:href=\"#me38765c2c2\" y=\"55.864161\"/>\r\n     <use style=\"fill:#1f77b4;stroke:#1f77b4;\" x=\"174.295456\" xlink:href=\"#me38765c2c2\" y=\"46.820362\"/>\r\n     <use style=\"fill:#1f77b4;stroke:#1f77b4;\" x=\"78.566947\" xlink:href=\"#me38765c2c2\" y=\"118.979005\"/>\r\n     <use style=\"fill:#1f77b4;stroke:#1f77b4;\" x=\"205.620053\" xlink:href=\"#me38765c2c2\" y=\"27.593899\"/>\r\n     <use style=\"fill:#1f77b4;stroke:#1f77b4;\" x=\"202.855515\" xlink:href=\"#me38765c2c2\" y=\"40.362924\"/>\r\n     <use style=\"fill:#1f77b4;stroke:#1f77b4;\" x=\"91.54698\" xlink:href=\"#me38765c2c2\" y=\"103.70878\"/>\r\n     <use style=\"fill:#1f77b4;stroke:#1f77b4;\" x=\"131.921617\" xlink:href=\"#me38765c2c2\" y=\"87.88456\"/>\r\n     <use style=\"fill:#1f77b4;stroke:#1f77b4;\" x=\"215.364915\" xlink:href=\"#me38765c2c2\" y=\"27.760258\"/>\r\n     <use style=\"fill:#1f77b4;stroke:#1f77b4;\" x=\"80.669622\" xlink:href=\"#me38765c2c2\" y=\"106.085097\"/>\r\n     <use style=\"fill:#1f77b4;stroke:#1f77b4;\" x=\"161.354113\" xlink:href=\"#me38765c2c2\" y=\"62.960638\"/>\r\n     <use style=\"fill:#1f77b4;stroke:#1f77b4;\" x=\"145.219203\" xlink:href=\"#me38765c2c2\" y=\"74.511242\"/>\r\n     <use style=\"fill:#1f77b4;stroke:#1f77b4;\" x=\"118.75218\" xlink:href=\"#me38765c2c2\" y=\"78.995994\"/>\r\n     <use style=\"fill:#1f77b4;stroke:#1f77b4;\" x=\"106.006066\" xlink:href=\"#me38765c2c2\" y=\"90.597834\"/>\r\n     <use style=\"fill:#1f77b4;stroke:#1f77b4;\" x=\"108.054973\" xlink:href=\"#me38765c2c2\" y=\"106.161769\"/>\r\n     <use style=\"fill:#1f77b4;stroke:#1f77b4;\" x=\"81.315893\" xlink:href=\"#me38765c2c2\" y=\"128.791132\"/>\r\n     <use style=\"fill:#1f77b4;stroke:#1f77b4;\" x=\"151.786533\" xlink:href=\"#me38765c2c2\" y=\"74.469424\"/>\r\n     <use style=\"fill:#1f77b4;stroke:#1f77b4;\" x=\"203.874317\" xlink:href=\"#me38765c2c2\" y=\"35.373674\"/>\r\n     <use style=\"fill:#1f77b4;stroke:#1f77b4;\" x=\"175.599025\" xlink:href=\"#me38765c2c2\" y=\"34.737063\"/>\r\n     <use style=\"fill:#1f77b4;stroke:#1f77b4;\" x=\"186.759016\" xlink:href=\"#me38765c2c2\" y=\"34.699912\"/>\r\n     <use style=\"fill:#1f77b4;stroke:#1f77b4;\" x=\"140.333167\" xlink:href=\"#me38765c2c2\" y=\"73.43281\"/>\r\n     <use style=\"fill:#1f77b4;stroke:#1f77b4;\" x=\"141.186825\" xlink:href=\"#me38765c2c2\" y=\"79.211186\"/>\r\n     <use style=\"fill:#1f77b4;stroke:#1f77b4;\" x=\"134.659642\" xlink:href=\"#me38765c2c2\" y=\"79.005347\"/>\r\n     <use style=\"fill:#1f77b4;stroke:#1f77b4;\" x=\"113.957762\" xlink:href=\"#me38765c2c2\" y=\"104.0032\"/>\r\n     <use style=\"fill:#1f77b4;stroke:#1f77b4;\" x=\"117.00669\" xlink:href=\"#me38765c2c2\" y=\"89.139825\"/>\r\n     <use style=\"fill:#1f77b4;stroke:#1f77b4;\" x=\"204.638923\" xlink:href=\"#me38765c2c2\" y=\"37.963448\"/>\r\n     <use style=\"fill:#1f77b4;stroke:#1f77b4;\" x=\"132.996782\" xlink:href=\"#me38765c2c2\" y=\"75.549885\"/>\r\n     <use style=\"fill:#1f77b4;stroke:#1f77b4;\" x=\"160.974505\" xlink:href=\"#me38765c2c2\" y=\"68.483815\"/>\r\n     <use style=\"fill:#1f77b4;stroke:#1f77b4;\" x=\"140.783096\" xlink:href=\"#me38765c2c2\" y=\"81.431976\"/>\r\n     <use style=\"fill:#1f77b4;stroke:#1f77b4;\" x=\"149.077021\" xlink:href=\"#me38765c2c2\" y=\"60.733832\"/>\r\n     <use style=\"fill:#1f77b4;stroke:#1f77b4;\" x=\"127.423097\" xlink:href=\"#me38765c2c2\" y=\"87.930222\"/>\r\n     <use style=\"fill:#1f77b4;stroke:#1f77b4;\" x=\"203.262067\" xlink:href=\"#me38765c2c2\" y=\"22.886919\"/>\r\n     <use style=\"fill:#1f77b4;stroke:#1f77b4;\" x=\"149.690481\" xlink:href=\"#me38765c2c2\" y=\"70.150156\"/>\r\n     <use style=\"fill:#1f77b4;stroke:#1f77b4;\" x=\"134.869575\" xlink:href=\"#me38765c2c2\" y=\"84.492087\"/>\r\n     <use style=\"fill:#1f77b4;stroke:#1f77b4;\" x=\"147.153898\" xlink:href=\"#me38765c2c2\" y=\"69.207638\"/>\r\n     <use style=\"fill:#1f77b4;stroke:#1f77b4;\" x=\"162.943865\" xlink:href=\"#me38765c2c2\" y=\"58.612198\"/>\r\n     <use style=\"fill:#1f77b4;stroke:#1f77b4;\" x=\"131.929674\" xlink:href=\"#me38765c2c2\" y=\"80.46415\"/>\r\n     <use style=\"fill:#1f77b4;stroke:#1f77b4;\" x=\"145.853842\" xlink:href=\"#me38765c2c2\" y=\"77.278491\"/>\r\n     <use style=\"fill:#1f77b4;stroke:#1f77b4;\" x=\"119.723461\" xlink:href=\"#me38765c2c2\" y=\"88.512463\"/>\r\n     <use style=\"fill:#1f77b4;stroke:#1f77b4;\" x=\"96.762649\" xlink:href=\"#me38765c2c2\" y=\"100.167828\"/>\r\n     <use style=\"fill:#1f77b4;stroke:#1f77b4;\" x=\"198.405397\" xlink:href=\"#me38765c2c2\" y=\"13.377273\"/>\r\n     <use style=\"fill:#1f77b4;stroke:#1f77b4;\" x=\"198.688557\" xlink:href=\"#me38765c2c2\" y=\"31.922142\"/>\r\n     <use style=\"fill:#1f77b4;stroke:#1f77b4;\" x=\"95.802967\" xlink:href=\"#me38765c2c2\" y=\"100.488295\"/>\r\n     <use style=\"fill:#1f77b4;stroke:#1f77b4;\" x=\"183.4797\" xlink:href=\"#me38765c2c2\" y=\"42.487375\"/>\r\n     <use style=\"fill:#1f77b4;stroke:#1f77b4;\" x=\"121.624437\" xlink:href=\"#me38765c2c2\" y=\"77.31076\"/>\r\n     <use style=\"fill:#1f77b4;stroke:#1f77b4;\" x=\"188.293199\" xlink:href=\"#me38765c2c2\" y=\"62.40689\"/>\r\n     <use style=\"fill:#1f77b4;stroke:#1f77b4;\" x=\"140.960502\" xlink:href=\"#me38765c2c2\" y=\"72.915505\"/>\r\n     <use style=\"fill:#1f77b4;stroke:#1f77b4;\" x=\"204.912242\" xlink:href=\"#me38765c2c2\" y=\"32.476604\"/>\r\n     <use style=\"fill:#1f77b4;stroke:#1f77b4;\" x=\"191.839474\" xlink:href=\"#me38765c2c2\" y=\"56.756559\"/>\r\n     <use style=\"fill:#1f77b4;stroke:#1f77b4;\" x=\"143.142951\" xlink:href=\"#me38765c2c2\" y=\"77.292223\"/>\r\n     <use style=\"fill:#1f77b4;stroke:#1f77b4;\" x=\"62.123066\" xlink:href=\"#me38765c2c2\" y=\"134.134214\"/>\r\n     <use style=\"fill:#1f77b4;stroke:#1f77b4;\" x=\"64.110704\" xlink:href=\"#me38765c2c2\" y=\"121.174948\"/>\r\n     <use style=\"fill:#1f77b4;stroke:#1f77b4;\" x=\"116.033815\" xlink:href=\"#me38765c2c2\" y=\"83.995247\"/>\r\n     <use style=\"fill:#1f77b4;stroke:#1f77b4;\" x=\"168.077399\" xlink:href=\"#me38765c2c2\" y=\"59.627511\"/>\r\n     <use style=\"fill:#1f77b4;stroke:#1f77b4;\" x=\"147.416837\" xlink:href=\"#me38765c2c2\" y=\"71.848587\"/>\r\n     <use style=\"fill:#1f77b4;stroke:#1f77b4;\" x=\"103.793513\" xlink:href=\"#me38765c2c2\" y=\"99.931594\"/>\r\n     <use style=\"fill:#1f77b4;stroke:#1f77b4;\" x=\"103.137806\" xlink:href=\"#me38765c2c2\" y=\"98.060305\"/>\r\n     <use style=\"fill:#1f77b4;stroke:#1f77b4;\" x=\"94.23613\" xlink:href=\"#me38765c2c2\" y=\"111.461287\"/>\r\n     <use style=\"fill:#1f77b4;stroke:#1f77b4;\" x=\"160.934609\" xlink:href=\"#me38765c2c2\" y=\"38.457335\"/>\r\n     <use style=\"fill:#1f77b4;stroke:#1f77b4;\" x=\"151.454492\" xlink:href=\"#me38765c2c2\" y=\"88.590868\"/>\r\n     <use style=\"fill:#1f77b4;stroke:#1f77b4;\" x=\"93.249184\" xlink:href=\"#me38765c2c2\" y=\"75.979746\"/>\r\n     <use style=\"fill:#1f77b4;stroke:#1f77b4;\" x=\"194.829866\" xlink:href=\"#me38765c2c2\" y=\"36.353052\"/>\r\n     <use style=\"fill:#1f77b4;stroke:#1f77b4;\" x=\"200.442014\" xlink:href=\"#me38765c2c2\" y=\"34.546463\"/>\r\n     <use style=\"fill:#1f77b4;stroke:#1f77b4;\" x=\"64.701642\" xlink:href=\"#me38765c2c2\" y=\"132.75417\"/>\r\n     <use style=\"fill:#1f77b4;stroke:#1f77b4;\" x=\"197.362593\" xlink:href=\"#me38765c2c2\" y=\"48.553484\"/>\r\n     <use style=\"fill:#1f77b4;stroke:#1f77b4;\" x=\"62.850229\" xlink:href=\"#me38765c2c2\" y=\"125.955761\"/>\r\n     <use style=\"fill:#1f77b4;stroke:#1f77b4;\" x=\"115.214217\" xlink:href=\"#me38765c2c2\" y=\"96.263997\"/>\r\n     <use style=\"fill:#1f77b4;stroke:#1f77b4;\" x=\"148.415127\" xlink:href=\"#me38765c2c2\" y=\"79.457356\"/>\r\n     <use style=\"fill:#1f77b4;stroke:#1f77b4;\" x=\"157.578156\" xlink:href=\"#me38765c2c2\" y=\"76.228536\"/>\r\n     <use style=\"fill:#1f77b4;stroke:#1f77b4;\" x=\"104.900999\" xlink:href=\"#me38765c2c2\" y=\"100.605235\"/>\r\n     <use style=\"fill:#1f77b4;stroke:#1f77b4;\" x=\"175.524761\" xlink:href=\"#me38765c2c2\" y=\"71.010405\"/>\r\n     <use style=\"fill:#1f77b4;stroke:#1f77b4;\" x=\"70.677751\" xlink:href=\"#me38765c2c2\" y=\"125.072913\"/>\r\n     <use style=\"fill:#1f77b4;stroke:#1f77b4;\" x=\"108.669685\" xlink:href=\"#me38765c2c2\" y=\"93.500012\"/>\r\n     <use style=\"fill:#1f77b4;stroke:#1f77b4;\" x=\"135.805208\" xlink:href=\"#me38765c2c2\" y=\"90.476456\"/>\r\n     <use style=\"fill:#1f77b4;stroke:#1f77b4;\" x=\"138.42369\" xlink:href=\"#me38765c2c2\" y=\"80.069985\"/>\r\n     <use style=\"fill:#1f77b4;stroke:#1f77b4;\" x=\"98.00779\" xlink:href=\"#me38765c2c2\" y=\"119.645493\"/>\r\n     <use style=\"fill:#1f77b4;stroke:#1f77b4;\" x=\"148.126878\" xlink:href=\"#me38765c2c2\" y=\"71.100787\"/>\r\n     <use style=\"fill:#1f77b4;stroke:#1f77b4;\" x=\"178.908602\" xlink:href=\"#me38765c2c2\" y=\"56.584846\"/>\r\n     <use style=\"fill:#1f77b4;stroke:#1f77b4;\" x=\"105.525905\" xlink:href=\"#me38765c2c2\" y=\"94.173208\"/>\r\n     <use style=\"fill:#1f77b4;stroke:#1f77b4;\" x=\"128.702803\" xlink:href=\"#me38765c2c2\" y=\"84.852755\"/>\r\n     <use style=\"fill:#1f77b4;stroke:#1f77b4;\" x=\"106.326337\" xlink:href=\"#me38765c2c2\" y=\"91.97392\"/>\r\n    </g>\r\n   </g>\r\n   <g id=\"matplotlib.axis_1\">\r\n    <g id=\"xtick_1\">\r\n     <g id=\"line2d_1\">\r\n      <defs>\r\n       <path d=\"M 0 0 \r\nL 0 3.5 \r\n\" id=\"m9b994ae88c\" style=\"stroke:#000000;stroke-width:0.8;\"/>\r\n      </defs>\r\n      <g>\r\n       <use style=\"stroke:#000000;stroke-width:0.8;\" x=\"57.910368\" xlink:href=\"#m9b994ae88c\" y=\"143.1\"/>\r\n      </g>\r\n     </g>\r\n     <g id=\"text_1\">\r\n      <!-- −1 -->\r\n      <g transform=\"translate(50.539275 157.698438)scale(0.1 -0.1)\">\r\n       <defs>\r\n        <path d=\"M 10.59375 35.5 \r\nL 73.1875 35.5 \r\nL 73.1875 27.203125 \r\nL 10.59375 27.203125 \r\nz\r\n\" id=\"DejaVuSans-8722\"/>\r\n        <path d=\"M 12.40625 8.296875 \r\nL 28.515625 8.296875 \r\nL 28.515625 63.921875 \r\nL 10.984375 60.40625 \r\nL 10.984375 69.390625 \r\nL 28.421875 72.90625 \r\nL 38.28125 72.90625 \r\nL 38.28125 8.296875 \r\nL 54.390625 8.296875 \r\nL 54.390625 0 \r\nL 12.40625 0 \r\nz\r\n\" id=\"DejaVuSans-49\"/>\r\n       </defs>\r\n       <use xlink:href=\"#DejaVuSans-8722\"/>\r\n       <use x=\"83.789062\" xlink:href=\"#DejaVuSans-49\"/>\r\n      </g>\r\n     </g>\r\n    </g>\r\n    <g id=\"xtick_2\">\r\n     <g id=\"line2d_2\">\r\n      <g>\r\n       <use style=\"stroke:#000000;stroke-width:0.8;\" x=\"96.232987\" xlink:href=\"#m9b994ae88c\" y=\"143.1\"/>\r\n      </g>\r\n     </g>\r\n     <g id=\"text_2\">\r\n      <!-- 0 -->\r\n      <g transform=\"translate(93.051737 157.698438)scale(0.1 -0.1)\">\r\n       <defs>\r\n        <path d=\"M 31.78125 66.40625 \r\nQ 24.171875 66.40625 20.328125 58.90625 \r\nQ 16.5 51.421875 16.5 36.375 \r\nQ 16.5 21.390625 20.328125 13.890625 \r\nQ 24.171875 6.390625 31.78125 6.390625 \r\nQ 39.453125 6.390625 43.28125 13.890625 \r\nQ 47.125 21.390625 47.125 36.375 \r\nQ 47.125 51.421875 43.28125 58.90625 \r\nQ 39.453125 66.40625 31.78125 66.40625 \r\nz\r\nM 31.78125 74.21875 \r\nQ 44.046875 74.21875 50.515625 64.515625 \r\nQ 56.984375 54.828125 56.984375 36.375 \r\nQ 56.984375 17.96875 50.515625 8.265625 \r\nQ 44.046875 -1.421875 31.78125 -1.421875 \r\nQ 19.53125 -1.421875 13.0625 8.265625 \r\nQ 6.59375 17.96875 6.59375 36.375 \r\nQ 6.59375 54.828125 13.0625 64.515625 \r\nQ 19.53125 74.21875 31.78125 74.21875 \r\nz\r\n\" id=\"DejaVuSans-48\"/>\r\n       </defs>\r\n       <use xlink:href=\"#DejaVuSans-48\"/>\r\n      </g>\r\n     </g>\r\n    </g>\r\n    <g id=\"xtick_3\">\r\n     <g id=\"line2d_3\">\r\n      <g>\r\n       <use style=\"stroke:#000000;stroke-width:0.8;\" x=\"134.555606\" xlink:href=\"#m9b994ae88c\" y=\"143.1\"/>\r\n      </g>\r\n     </g>\r\n     <g id=\"text_3\">\r\n      <!-- 1 -->\r\n      <g transform=\"translate(131.374356 157.698438)scale(0.1 -0.1)\">\r\n       <use xlink:href=\"#DejaVuSans-49\"/>\r\n      </g>\r\n     </g>\r\n    </g>\r\n    <g id=\"xtick_4\">\r\n     <g id=\"line2d_4\">\r\n      <g>\r\n       <use style=\"stroke:#000000;stroke-width:0.8;\" x=\"172.878225\" xlink:href=\"#m9b994ae88c\" y=\"143.1\"/>\r\n      </g>\r\n     </g>\r\n     <g id=\"text_4\">\r\n      <!-- 2 -->\r\n      <g transform=\"translate(169.696975 157.698438)scale(0.1 -0.1)\">\r\n       <defs>\r\n        <path d=\"M 19.1875 8.296875 \r\nL 53.609375 8.296875 \r\nL 53.609375 0 \r\nL 7.328125 0 \r\nL 7.328125 8.296875 \r\nQ 12.9375 14.109375 22.625 23.890625 \r\nQ 32.328125 33.6875 34.8125 36.53125 \r\nQ 39.546875 41.84375 41.421875 45.53125 \r\nQ 43.3125 49.21875 43.3125 52.78125 \r\nQ 43.3125 58.59375 39.234375 62.25 \r\nQ 35.15625 65.921875 28.609375 65.921875 \r\nQ 23.96875 65.921875 18.8125 64.3125 \r\nQ 13.671875 62.703125 7.8125 59.421875 \r\nL 7.8125 69.390625 \r\nQ 13.765625 71.78125 18.9375 73 \r\nQ 24.125 74.21875 28.421875 74.21875 \r\nQ 39.75 74.21875 46.484375 68.546875 \r\nQ 53.21875 62.890625 53.21875 53.421875 \r\nQ 53.21875 48.921875 51.53125 44.890625 \r\nQ 49.859375 40.875 45.40625 35.40625 \r\nQ 44.1875 33.984375 37.640625 27.21875 \r\nQ 31.109375 20.453125 19.1875 8.296875 \r\nz\r\n\" id=\"DejaVuSans-50\"/>\r\n       </defs>\r\n       <use xlink:href=\"#DejaVuSans-50\"/>\r\n      </g>\r\n     </g>\r\n    </g>\r\n    <g id=\"xtick_5\">\r\n     <g id=\"line2d_5\">\r\n      <g>\r\n       <use style=\"stroke:#000000;stroke-width:0.8;\" x=\"211.200844\" xlink:href=\"#m9b994ae88c\" y=\"143.1\"/>\r\n      </g>\r\n     </g>\r\n     <g id=\"text_5\">\r\n      <!-- 3 -->\r\n      <g transform=\"translate(208.019594 157.698438)scale(0.1 -0.1)\">\r\n       <defs>\r\n        <path d=\"M 40.578125 39.3125 \r\nQ 47.65625 37.796875 51.625 33 \r\nQ 55.609375 28.21875 55.609375 21.1875 \r\nQ 55.609375 10.40625 48.1875 4.484375 \r\nQ 40.765625 -1.421875 27.09375 -1.421875 \r\nQ 22.515625 -1.421875 17.65625 -0.515625 \r\nQ 12.796875 0.390625 7.625 2.203125 \r\nL 7.625 11.71875 \r\nQ 11.71875 9.328125 16.59375 8.109375 \r\nQ 21.484375 6.890625 26.8125 6.890625 \r\nQ 36.078125 6.890625 40.9375 10.546875 \r\nQ 45.796875 14.203125 45.796875 21.1875 \r\nQ 45.796875 27.640625 41.28125 31.265625 \r\nQ 36.765625 34.90625 28.71875 34.90625 \r\nL 20.21875 34.90625 \r\nL 20.21875 43.015625 \r\nL 29.109375 43.015625 \r\nQ 36.375 43.015625 40.234375 45.921875 \r\nQ 44.09375 48.828125 44.09375 54.296875 \r\nQ 44.09375 59.90625 40.109375 62.90625 \r\nQ 36.140625 65.921875 28.71875 65.921875 \r\nQ 24.65625 65.921875 20.015625 65.03125 \r\nQ 15.375 64.15625 9.8125 62.3125 \r\nL 9.8125 71.09375 \r\nQ 15.4375 72.65625 20.34375 73.4375 \r\nQ 25.25 74.21875 29.59375 74.21875 \r\nQ 40.828125 74.21875 47.359375 69.109375 \r\nQ 53.90625 64.015625 53.90625 55.328125 \r\nQ 53.90625 49.265625 50.4375 45.09375 \r\nQ 46.96875 40.921875 40.578125 39.3125 \r\nz\r\n\" id=\"DejaVuSans-51\"/>\r\n       </defs>\r\n       <use xlink:href=\"#DejaVuSans-51\"/>\r\n      </g>\r\n     </g>\r\n    </g>\r\n   </g>\r\n   <g id=\"matplotlib.axis_2\">\r\n    <g id=\"ytick_1\">\r\n     <g id=\"line2d_6\">\r\n      <defs>\r\n       <path d=\"M 0 0 \r\nL -3.5 0 \r\n\" id=\"mf12499ddf3\" style=\"stroke:#000000;stroke-width:0.8;\"/>\r\n      </defs>\r\n      <g>\r\n       <use style=\"stroke:#000000;stroke-width:0.8;\" x=\"28.942188\" xlink:href=\"#mf12499ddf3\" y=\"134.0925\"/>\r\n      </g>\r\n     </g>\r\n     <g id=\"text_6\">\r\n      <!-- −2 -->\r\n      <g transform=\"translate(7.2 137.891719)scale(0.1 -0.1)\">\r\n       <use xlink:href=\"#DejaVuSans-8722\"/>\r\n       <use x=\"83.789062\" xlink:href=\"#DejaVuSans-50\"/>\r\n      </g>\r\n     </g>\r\n    </g>\r\n    <g id=\"ytick_2\">\r\n     <g id=\"line2d_7\">\r\n      <g>\r\n       <use style=\"stroke:#000000;stroke-width:0.8;\" x=\"28.942188\" xlink:href=\"#mf12499ddf3\" y=\"106.716571\"/>\r\n      </g>\r\n     </g>\r\n     <g id=\"text_7\">\r\n      <!-- 0 -->\r\n      <g transform=\"translate(15.579688 110.51579)scale(0.1 -0.1)\">\r\n       <use xlink:href=\"#DejaVuSans-48\"/>\r\n      </g>\r\n     </g>\r\n    </g>\r\n    <g id=\"ytick_3\">\r\n     <g id=\"line2d_8\">\r\n      <g>\r\n       <use style=\"stroke:#000000;stroke-width:0.8;\" x=\"28.942188\" xlink:href=\"#mf12499ddf3\" y=\"79.340642\"/>\r\n      </g>\r\n     </g>\r\n     <g id=\"text_8\">\r\n      <!-- 2 -->\r\n      <g transform=\"translate(15.579688 83.13986)scale(0.1 -0.1)\">\r\n       <use xlink:href=\"#DejaVuSans-50\"/>\r\n      </g>\r\n     </g>\r\n    </g>\r\n    <g id=\"ytick_4\">\r\n     <g id=\"line2d_9\">\r\n      <g>\r\n       <use style=\"stroke:#000000;stroke-width:0.8;\" x=\"28.942188\" xlink:href=\"#mf12499ddf3\" y=\"51.964712\"/>\r\n      </g>\r\n     </g>\r\n     <g id=\"text_9\">\r\n      <!-- 4 -->\r\n      <g transform=\"translate(15.579688 55.763931)scale(0.1 -0.1)\">\r\n       <defs>\r\n        <path d=\"M 37.796875 64.3125 \r\nL 12.890625 25.390625 \r\nL 37.796875 25.390625 \r\nz\r\nM 35.203125 72.90625 \r\nL 47.609375 72.90625 \r\nL 47.609375 25.390625 \r\nL 58.015625 25.390625 \r\nL 58.015625 17.1875 \r\nL 47.609375 17.1875 \r\nL 47.609375 0 \r\nL 37.796875 0 \r\nL 37.796875 17.1875 \r\nL 4.890625 17.1875 \r\nL 4.890625 26.703125 \r\nz\r\n\" id=\"DejaVuSans-52\"/>\r\n       </defs>\r\n       <use xlink:href=\"#DejaVuSans-52\"/>\r\n      </g>\r\n     </g>\r\n    </g>\r\n    <g id=\"ytick_5\">\r\n     <g id=\"line2d_10\">\r\n      <g>\r\n       <use style=\"stroke:#000000;stroke-width:0.8;\" x=\"28.942188\" xlink:href=\"#mf12499ddf3\" y=\"24.588783\"/>\r\n      </g>\r\n     </g>\r\n     <g id=\"text_10\">\r\n      <!-- 6 -->\r\n      <g transform=\"translate(15.579688 28.388002)scale(0.1 -0.1)\">\r\n       <defs>\r\n        <path d=\"M 33.015625 40.375 \r\nQ 26.375 40.375 22.484375 35.828125 \r\nQ 18.609375 31.296875 18.609375 23.390625 \r\nQ 18.609375 15.53125 22.484375 10.953125 \r\nQ 26.375 6.390625 33.015625 6.390625 \r\nQ 39.65625 6.390625 43.53125 10.953125 \r\nQ 47.40625 15.53125 47.40625 23.390625 \r\nQ 47.40625 31.296875 43.53125 35.828125 \r\nQ 39.65625 40.375 33.015625 40.375 \r\nz\r\nM 52.59375 71.296875 \r\nL 52.59375 62.3125 \r\nQ 48.875 64.0625 45.09375 64.984375 \r\nQ 41.3125 65.921875 37.59375 65.921875 \r\nQ 27.828125 65.921875 22.671875 59.328125 \r\nQ 17.53125 52.734375 16.796875 39.40625 \r\nQ 19.671875 43.65625 24.015625 45.921875 \r\nQ 28.375 48.1875 33.59375 48.1875 \r\nQ 44.578125 48.1875 50.953125 41.515625 \r\nQ 57.328125 34.859375 57.328125 23.390625 \r\nQ 57.328125 12.15625 50.6875 5.359375 \r\nQ 44.046875 -1.421875 33.015625 -1.421875 \r\nQ 20.359375 -1.421875 13.671875 8.265625 \r\nQ 6.984375 17.96875 6.984375 36.375 \r\nQ 6.984375 53.65625 15.1875 63.9375 \r\nQ 23.390625 74.21875 37.203125 74.21875 \r\nQ 40.921875 74.21875 44.703125 73.484375 \r\nQ 48.484375 72.75 52.59375 71.296875 \r\nz\r\n\" id=\"DejaVuSans-54\"/>\r\n       </defs>\r\n       <use xlink:href=\"#DejaVuSans-54\"/>\r\n      </g>\r\n     </g>\r\n    </g>\r\n   </g>\r\n   <g id=\"patch_3\">\r\n    <path d=\"M 28.942188 143.1 \r\nL 28.942188 7.2 \r\n\" style=\"fill:none;stroke:#000000;stroke-linecap:square;stroke-linejoin:miter;stroke-width:0.8;\"/>\r\n   </g>\r\n   <g id=\"patch_4\">\r\n    <path d=\"M 224.242188 143.1 \r\nL 224.242188 7.2 \r\n\" style=\"fill:none;stroke:#000000;stroke-linecap:square;stroke-linejoin:miter;stroke-width:0.8;\"/>\r\n   </g>\r\n   <g id=\"patch_5\">\r\n    <path d=\"M 28.942188 143.1 \r\nL 224.242188 143.1 \r\n\" style=\"fill:none;stroke:#000000;stroke-linecap:square;stroke-linejoin:miter;stroke-width:0.8;\"/>\r\n   </g>\r\n   <g id=\"patch_6\">\r\n    <path d=\"M 28.942188 7.2 \r\nL 224.242188 7.2 \r\n\" style=\"fill:none;stroke:#000000;stroke-linecap:square;stroke-linejoin:miter;stroke-width:0.8;\"/>\r\n   </g>\r\n  </g>\r\n </g>\r\n <defs>\r\n  <clipPath id=\"pd4d6b89664\">\r\n   <rect height=\"135.9\" width=\"195.3\" x=\"28.942188\" y=\"7.2\"/>\r\n  </clipPath>\r\n </defs>\r\n</svg>\r\n"
     },
     "metadata": {
      "needs_background": "light"
     }
    }
   ],
   "source": [
    "d2l.set_figsize()\n",
    "d2l.plt.scatter(d2l.numpy(data[:100, 0]), d2l.numpy(data[:100, 1]));\n",
    "print(f'The covariance matrix is\\n{d2l.matmul(tf.transpose(A), A)}')"
   ]
  },
  {
   "cell_type": "code",
   "execution_count": 7,
   "metadata": {},
   "outputs": [],
   "source": [
    "batch_size = 8\n",
    "data_iter = d2l.load_array((data,), batch_size)"
   ]
  },
  {
   "cell_type": "code",
   "execution_count": 8,
   "metadata": {},
   "outputs": [
    {
     "output_type": "error",
     "ename": "NameError",
     "evalue": "name 'nn' is not defined",
     "traceback": [
      "\u001b[1;31m---------------------------------------------------------------------------\u001b[0m",
      "\u001b[1;31mNameError\u001b[0m                                 Traceback (most recent call last)",
      "\u001b[1;32m<ipython-input-8-bbc8e35790e2>\u001b[0m in \u001b[0;36m<module>\u001b[1;34m\u001b[0m\n\u001b[1;32m----> 1\u001b[1;33m \u001b[0mnet_G\u001b[0m \u001b[1;33m=\u001b[0m \u001b[0mnn\u001b[0m\u001b[1;33m.\u001b[0m\u001b[0mSequential\u001b[0m\u001b[1;33m(\u001b[0m\u001b[0mnn\u001b[0m\u001b[1;33m.\u001b[0m\u001b[0mLinear\u001b[0m\u001b[1;33m(\u001b[0m\u001b[1;36m2\u001b[0m\u001b[1;33m,\u001b[0m \u001b[1;36m2\u001b[0m\u001b[1;33m)\u001b[0m\u001b[1;33m)\u001b[0m\u001b[1;33m\u001b[0m\u001b[1;33m\u001b[0m\u001b[0m\n\u001b[0m",
      "\u001b[1;31mNameError\u001b[0m: name 'nn' is not defined"
     ]
    }
   ],
   "source": [
    "net_G = nn.Sequential(nn.Linear(2, 2))"
   ]
  },
  {
   "cell_type": "code",
   "execution_count": null,
   "metadata": {},
   "outputs": [],
   "source": []
  }
 ]
}