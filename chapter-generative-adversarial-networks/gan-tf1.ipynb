{
 "metadata": {
  "language_info": {
   "codemirror_mode": {
    "name": "ipython",
    "version": 3
   },
   "file_extension": ".py",
   "mimetype": "text/x-python",
   "name": "python",
   "nbconvert_exporter": "python",
   "pygments_lexer": "ipython3",
   "version": "3.7.8-final"
  },
  "orig_nbformat": 2,
  "kernelspec": {
   "name": "python37864bittf2conda1de394c9651a4d19aa25641a40b8d2d8",
   "display_name": "Python 3.7.8 64-bit ('tf2': conda)"
  }
 },
 "nbformat": 4,
 "nbformat_minor": 2,
 "cells": [
  {
   "cell_type": "markdown",
   "metadata": {},
   "source": [
    "http://preview.d2l.ai/d2l-en/master/chapter_generative-adversarial-networks/gan.html"
   ]
  },
  {
   "cell_type": "code",
   "execution_count": 1,
   "metadata": {},
   "outputs": [],
   "source": [
    "%matplotlib inline\n",
    "from d2l import tensorflow as d2l\n",
    "import tensorflow as tf\n",
    "import numpy as np"
   ]
  },
  {
   "cell_type": "markdown",
   "metadata": {},
   "source": [
    "https://www.tensorflow.org/api_docs/python/tf/random/normal"
   ]
  },
  {
   "cell_type": "markdown",
   "metadata": {},
   "source": [
    "https://www.tensorflow.org/api_docs/python/tf/norm"
   ]
  },
  {
   "cell_type": "code",
   "execution_count": 2,
   "metadata": {},
   "outputs": [],
   "source": [
    "X = d2l.normal([1000, 2], 0.0, 1, tf.float32)"
   ]
  },
  {
   "cell_type": "code",
   "execution_count": 3,
   "metadata": {},
   "outputs": [],
   "source": [
    "A = d2l.tensor([[1, 2], [-0.1, 0.5]], tf.float32)\n",
    "b = d2l.tensor([1, 2], tf.float32)\n",
    "data = d2l.matmul(X, A) + b"
   ]
  },
  {
   "cell_type": "code",
   "execution_count": 4,
   "metadata": {
    "tags": []
   },
   "outputs": [
    {
     "output_type": "stream",
     "name": "stdout",
     "text": "The covariance matrix is\n[[1.01 1.95]\n [1.95 4.25]]\n"
    },
    {
     "output_type": "display_data",
     "data": {
      "text/plain": "<Figure size 252x180 with 1 Axes>",
      "image/svg+xml": "<?xml version=\"1.0\" encoding=\"utf-8\" standalone=\"no\"?>\r\n<!DOCTYPE svg PUBLIC \"-//W3C//DTD SVG 1.1//EN\"\r\n  \"http://www.w3.org/Graphics/SVG/1.1/DTD/svg11.dtd\">\r\n<!-- Created with matplotlib (https://matplotlib.org/) -->\r\n<svg height=\"166.978125pt\" version=\"1.1\" viewBox=\"0 0 231.442187 166.978125\" width=\"231.442187pt\" xmlns=\"http://www.w3.org/2000/svg\" xmlns:xlink=\"http://www.w3.org/1999/xlink\">\r\n <metadata>\r\n  <rdf:RDF xmlns:cc=\"http://creativecommons.org/ns#\" xmlns:dc=\"http://purl.org/dc/elements/1.1/\" xmlns:rdf=\"http://www.w3.org/1999/02/22-rdf-syntax-ns#\">\r\n   <cc:Work>\r\n    <dc:type rdf:resource=\"http://purl.org/dc/dcmitype/StillImage\"/>\r\n    <dc:date>2020-09-04T21:22:53.325034</dc:date>\r\n    <dc:format>image/svg+xml</dc:format>\r\n    <dc:creator>\r\n     <cc:Agent>\r\n      <dc:title>Matplotlib v3.3.1, https://matplotlib.org/</dc:title>\r\n     </cc:Agent>\r\n    </dc:creator>\r\n   </cc:Work>\r\n  </rdf:RDF>\r\n </metadata>\r\n <defs>\r\n  <style type=\"text/css\">*{stroke-linecap:butt;stroke-linejoin:round;}</style>\r\n </defs>\r\n <g id=\"figure_1\">\r\n  <g id=\"patch_1\">\r\n   <path d=\"M 0 166.978125 \r\nL 231.442187 166.978125 \r\nL 231.442187 0 \r\nL 0 0 \r\nz\r\n\" style=\"fill:none;\"/>\r\n  </g>\r\n  <g id=\"axes_1\">\r\n   <g id=\"patch_2\">\r\n    <path d=\"M 28.942188 143.1 \r\nL 224.242188 143.1 \r\nL 224.242188 7.2 \r\nL 28.942188 7.2 \r\nz\r\n\" style=\"fill:#ffffff;\"/>\r\n   </g>\r\n   <g id=\"PathCollection_1\">\r\n    <defs>\r\n     <path d=\"M 0 3 \r\nC 0.795609 3 1.55874 2.683901 2.12132 2.12132 \r\nC 2.683901 1.55874 3 0.795609 3 0 \r\nC 3 -0.795609 2.683901 -1.55874 2.12132 -2.12132 \r\nC 1.55874 -2.683901 0.795609 -3 0 -3 \r\nC -0.795609 -3 -1.55874 -2.683901 -2.12132 -2.12132 \r\nC -2.683901 -1.55874 -3 -0.795609 -3 0 \r\nC -3 0.795609 -2.683901 1.55874 -2.12132 2.12132 \r\nC -1.55874 2.683901 -0.795609 3 0 3 \r\nz\r\n\" id=\"m0a44749fc1\" style=\"stroke:#1f77b4;\"/>\r\n    </defs>\r\n    <g clip-path=\"url(#pb5277cf189)\">\r\n     <use style=\"fill:#1f77b4;stroke:#1f77b4;\" x=\"140.42218\" xlink:href=\"#m0a44749fc1\" y=\"68.202025\"/>\r\n     <use style=\"fill:#1f77b4;stroke:#1f77b4;\" x=\"214.44041\" xlink:href=\"#m0a44749fc1\" y=\"13.377273\"/>\r\n     <use style=\"fill:#1f77b4;stroke:#1f77b4;\" x=\"122.126933\" xlink:href=\"#m0a44749fc1\" y=\"83.927617\"/>\r\n     <use style=\"fill:#1f77b4;stroke:#1f77b4;\" x=\"106.564451\" xlink:href=\"#m0a44749fc1\" y=\"96.99017\"/>\r\n     <use style=\"fill:#1f77b4;stroke:#1f77b4;\" x=\"166.955288\" xlink:href=\"#m0a44749fc1\" y=\"60.645898\"/>\r\n     <use style=\"fill:#1f77b4;stroke:#1f77b4;\" x=\"176.778015\" xlink:href=\"#m0a44749fc1\" y=\"60.19279\"/>\r\n     <use style=\"fill:#1f77b4;stroke:#1f77b4;\" x=\"56.303594\" xlink:href=\"#m0a44749fc1\" y=\"126.031024\"/>\r\n     <use style=\"fill:#1f77b4;stroke:#1f77b4;\" x=\"152.986338\" xlink:href=\"#m0a44749fc1\" y=\"73.722135\"/>\r\n     <use style=\"fill:#1f77b4;stroke:#1f77b4;\" x=\"175.377266\" xlink:href=\"#m0a44749fc1\" y=\"64.232311\"/>\r\n     <use style=\"fill:#1f77b4;stroke:#1f77b4;\" x=\"121.336618\" xlink:href=\"#m0a44749fc1\" y=\"102.124082\"/>\r\n     <use style=\"fill:#1f77b4;stroke:#1f77b4;\" x=\"126.950484\" xlink:href=\"#m0a44749fc1\" y=\"84.339818\"/>\r\n     <use style=\"fill:#1f77b4;stroke:#1f77b4;\" x=\"185.022255\" xlink:href=\"#m0a44749fc1\" y=\"46.81113\"/>\r\n     <use style=\"fill:#1f77b4;stroke:#1f77b4;\" x=\"203.482511\" xlink:href=\"#m0a44749fc1\" y=\"50.947986\"/>\r\n     <use style=\"fill:#1f77b4;stroke:#1f77b4;\" x=\"152.876561\" xlink:href=\"#m0a44749fc1\" y=\"65.61558\"/>\r\n     <use style=\"fill:#1f77b4;stroke:#1f77b4;\" x=\"177.738653\" xlink:href=\"#m0a44749fc1\" y=\"46.043779\"/>\r\n     <use style=\"fill:#1f77b4;stroke:#1f77b4;\" x=\"196.020972\" xlink:href=\"#m0a44749fc1\" y=\"31.445762\"/>\r\n     <use style=\"fill:#1f77b4;stroke:#1f77b4;\" x=\"190.245811\" xlink:href=\"#m0a44749fc1\" y=\"41.302108\"/>\r\n     <use style=\"fill:#1f77b4;stroke:#1f77b4;\" x=\"81.683504\" xlink:href=\"#m0a44749fc1\" y=\"111.401143\"/>\r\n     <use style=\"fill:#1f77b4;stroke:#1f77b4;\" x=\"138.431784\" xlink:href=\"#m0a44749fc1\" y=\"70.340341\"/>\r\n     <use style=\"fill:#1f77b4;stroke:#1f77b4;\" x=\"152.601844\" xlink:href=\"#m0a44749fc1\" y=\"64.209165\"/>\r\n     <use style=\"fill:#1f77b4;stroke:#1f77b4;\" x=\"125.043247\" xlink:href=\"#m0a44749fc1\" y=\"91.631575\"/>\r\n     <use style=\"fill:#1f77b4;stroke:#1f77b4;\" x=\"156.443456\" xlink:href=\"#m0a44749fc1\" y=\"48.61284\"/>\r\n     <use style=\"fill:#1f77b4;stroke:#1f77b4;\" x=\"146.938459\" xlink:href=\"#m0a44749fc1\" y=\"67.521745\"/>\r\n     <use style=\"fill:#1f77b4;stroke:#1f77b4;\" x=\"125.010474\" xlink:href=\"#m0a44749fc1\" y=\"80.781208\"/>\r\n     <use style=\"fill:#1f77b4;stroke:#1f77b4;\" x=\"182.959269\" xlink:href=\"#m0a44749fc1\" y=\"48.277729\"/>\r\n     <use style=\"fill:#1f77b4;stroke:#1f77b4;\" x=\"120.103894\" xlink:href=\"#m0a44749fc1\" y=\"88.894743\"/>\r\n     <use style=\"fill:#1f77b4;stroke:#1f77b4;\" x=\"37.81946\" xlink:href=\"#m0a44749fc1\" y=\"136.922727\"/>\r\n     <use style=\"fill:#1f77b4;stroke:#1f77b4;\" x=\"58.828591\" xlink:href=\"#m0a44749fc1\" y=\"129.550876\"/>\r\n     <use style=\"fill:#1f77b4;stroke:#1f77b4;\" x=\"174.974227\" xlink:href=\"#m0a44749fc1\" y=\"48.921837\"/>\r\n     <use style=\"fill:#1f77b4;stroke:#1f77b4;\" x=\"79.784691\" xlink:href=\"#m0a44749fc1\" y=\"121.10196\"/>\r\n     <use style=\"fill:#1f77b4;stroke:#1f77b4;\" x=\"150.890395\" xlink:href=\"#m0a44749fc1\" y=\"61.889116\"/>\r\n     <use style=\"fill:#1f77b4;stroke:#1f77b4;\" x=\"144.915288\" xlink:href=\"#m0a44749fc1\" y=\"68.292819\"/>\r\n     <use style=\"fill:#1f77b4;stroke:#1f77b4;\" x=\"154.980436\" xlink:href=\"#m0a44749fc1\" y=\"67.113255\"/>\r\n     <use style=\"fill:#1f77b4;stroke:#1f77b4;\" x=\"110.574057\" xlink:href=\"#m0a44749fc1\" y=\"95.314919\"/>\r\n     <use style=\"fill:#1f77b4;stroke:#1f77b4;\" x=\"160.889974\" xlink:href=\"#m0a44749fc1\" y=\"67.91839\"/>\r\n     <use style=\"fill:#1f77b4;stroke:#1f77b4;\" x=\"150.755769\" xlink:href=\"#m0a44749fc1\" y=\"64.859452\"/>\r\n     <use style=\"fill:#1f77b4;stroke:#1f77b4;\" x=\"141.976596\" xlink:href=\"#m0a44749fc1\" y=\"86.040942\"/>\r\n     <use style=\"fill:#1f77b4;stroke:#1f77b4;\" x=\"102.684745\" xlink:href=\"#m0a44749fc1\" y=\"114.737763\"/>\r\n     <use style=\"fill:#1f77b4;stroke:#1f77b4;\" x=\"134.277785\" xlink:href=\"#m0a44749fc1\" y=\"68.113529\"/>\r\n     <use style=\"fill:#1f77b4;stroke:#1f77b4;\" x=\"175.108325\" xlink:href=\"#m0a44749fc1\" y=\"53.162203\"/>\r\n     <use style=\"fill:#1f77b4;stroke:#1f77b4;\" x=\"105.778699\" xlink:href=\"#m0a44749fc1\" y=\"95.508843\"/>\r\n     <use style=\"fill:#1f77b4;stroke:#1f77b4;\" x=\"176.246796\" xlink:href=\"#m0a44749fc1\" y=\"33.628035\"/>\r\n     <use style=\"fill:#1f77b4;stroke:#1f77b4;\" x=\"110.776799\" xlink:href=\"#m0a44749fc1\" y=\"90.153006\"/>\r\n     <use style=\"fill:#1f77b4;stroke:#1f77b4;\" x=\"193.494532\" xlink:href=\"#m0a44749fc1\" y=\"49.092116\"/>\r\n     <use style=\"fill:#1f77b4;stroke:#1f77b4;\" x=\"147.489536\" xlink:href=\"#m0a44749fc1\" y=\"68.121002\"/>\r\n     <use style=\"fill:#1f77b4;stroke:#1f77b4;\" x=\"123.641305\" xlink:href=\"#m0a44749fc1\" y=\"74.876953\"/>\r\n     <use style=\"fill:#1f77b4;stroke:#1f77b4;\" x=\"149.098419\" xlink:href=\"#m0a44749fc1\" y=\"67.924791\"/>\r\n     <use style=\"fill:#1f77b4;stroke:#1f77b4;\" x=\"129.150073\" xlink:href=\"#m0a44749fc1\" y=\"80.564614\"/>\r\n     <use style=\"fill:#1f77b4;stroke:#1f77b4;\" x=\"137.871222\" xlink:href=\"#m0a44749fc1\" y=\"76.666931\"/>\r\n     <use style=\"fill:#1f77b4;stroke:#1f77b4;\" x=\"157.275772\" xlink:href=\"#m0a44749fc1\" y=\"56.296713\"/>\r\n     <use style=\"fill:#1f77b4;stroke:#1f77b4;\" x=\"149.508796\" xlink:href=\"#m0a44749fc1\" y=\"49.939126\"/>\r\n     <use style=\"fill:#1f77b4;stroke:#1f77b4;\" x=\"168.4375\" xlink:href=\"#m0a44749fc1\" y=\"58.144902\"/>\r\n     <use style=\"fill:#1f77b4;stroke:#1f77b4;\" x=\"138.3665\" xlink:href=\"#m0a44749fc1\" y=\"73.974663\"/>\r\n     <use style=\"fill:#1f77b4;stroke:#1f77b4;\" x=\"210.453639\" xlink:href=\"#m0a44749fc1\" y=\"34.408676\"/>\r\n     <use style=\"fill:#1f77b4;stroke:#1f77b4;\" x=\"163.558936\" xlink:href=\"#m0a44749fc1\" y=\"58.6089\"/>\r\n     <use style=\"fill:#1f77b4;stroke:#1f77b4;\" x=\"104.474407\" xlink:href=\"#m0a44749fc1\" y=\"99.927569\"/>\r\n     <use style=\"fill:#1f77b4;stroke:#1f77b4;\" x=\"180.419398\" xlink:href=\"#m0a44749fc1\" y=\"53.73748\"/>\r\n     <use style=\"fill:#1f77b4;stroke:#1f77b4;\" x=\"76.13974\" xlink:href=\"#m0a44749fc1\" y=\"117.136596\"/>\r\n     <use style=\"fill:#1f77b4;stroke:#1f77b4;\" x=\"159.038274\" xlink:href=\"#m0a44749fc1\" y=\"59.603701\"/>\r\n     <use style=\"fill:#1f77b4;stroke:#1f77b4;\" x=\"81.297571\" xlink:href=\"#m0a44749fc1\" y=\"109.858665\"/>\r\n     <use style=\"fill:#1f77b4;stroke:#1f77b4;\" x=\"165.432423\" xlink:href=\"#m0a44749fc1\" y=\"70.627698\"/>\r\n     <use style=\"fill:#1f77b4;stroke:#1f77b4;\" x=\"215.364915\" xlink:href=\"#m0a44749fc1\" y=\"34.633169\"/>\r\n     <use style=\"fill:#1f77b4;stroke:#1f77b4;\" x=\"152.337064\" xlink:href=\"#m0a44749fc1\" y=\"63.745073\"/>\r\n     <use style=\"fill:#1f77b4;stroke:#1f77b4;\" x=\"149.960478\" xlink:href=\"#m0a44749fc1\" y=\"59.637978\"/>\r\n     <use style=\"fill:#1f77b4;stroke:#1f77b4;\" x=\"116.306139\" xlink:href=\"#m0a44749fc1\" y=\"86.076713\"/>\r\n     <use style=\"fill:#1f77b4;stroke:#1f77b4;\" x=\"76.505651\" xlink:href=\"#m0a44749fc1\" y=\"100.947911\"/>\r\n     <use style=\"fill:#1f77b4;stroke:#1f77b4;\" x=\"135.379498\" xlink:href=\"#m0a44749fc1\" y=\"71.212324\"/>\r\n     <use style=\"fill:#1f77b4;stroke:#1f77b4;\" x=\"121.380339\" xlink:href=\"#m0a44749fc1\" y=\"86.934306\"/>\r\n     <use style=\"fill:#1f77b4;stroke:#1f77b4;\" x=\"173.817253\" xlink:href=\"#m0a44749fc1\" y=\"48.140191\"/>\r\n     <use style=\"fill:#1f77b4;stroke:#1f77b4;\" x=\"142.401923\" xlink:href=\"#m0a44749fc1\" y=\"60.302412\"/>\r\n     <use style=\"fill:#1f77b4;stroke:#1f77b4;\" x=\"124.068538\" xlink:href=\"#m0a44749fc1\" y=\"86.683206\"/>\r\n     <use style=\"fill:#1f77b4;stroke:#1f77b4;\" x=\"159.927698\" xlink:href=\"#m0a44749fc1\" y=\"71.518141\"/>\r\n     <use style=\"fill:#1f77b4;stroke:#1f77b4;\" x=\"184.136133\" xlink:href=\"#m0a44749fc1\" y=\"47.405065\"/>\r\n     <use style=\"fill:#1f77b4;stroke:#1f77b4;\" x=\"111.626329\" xlink:href=\"#m0a44749fc1\" y=\"95.14756\"/>\r\n     <use style=\"fill:#1f77b4;stroke:#1f77b4;\" x=\"104.979163\" xlink:href=\"#m0a44749fc1\" y=\"93.744906\"/>\r\n     <use style=\"fill:#1f77b4;stroke:#1f77b4;\" x=\"187.902578\" xlink:href=\"#m0a44749fc1\" y=\"45.426551\"/>\r\n     <use style=\"fill:#1f77b4;stroke:#1f77b4;\" x=\"150.898993\" xlink:href=\"#m0a44749fc1\" y=\"66.349549\"/>\r\n     <use style=\"fill:#1f77b4;stroke:#1f77b4;\" x=\"210.743787\" xlink:href=\"#m0a44749fc1\" y=\"34.471458\"/>\r\n     <use style=\"fill:#1f77b4;stroke:#1f77b4;\" x=\"169.540792\" xlink:href=\"#m0a44749fc1\" y=\"40.249444\"/>\r\n     <use style=\"fill:#1f77b4;stroke:#1f77b4;\" x=\"148.138026\" xlink:href=\"#m0a44749fc1\" y=\"83.616391\"/>\r\n     <use style=\"fill:#1f77b4;stroke:#1f77b4;\" x=\"200.845581\" xlink:href=\"#m0a44749fc1\" y=\"53.477261\"/>\r\n     <use style=\"fill:#1f77b4;stroke:#1f77b4;\" x=\"162.545092\" xlink:href=\"#m0a44749fc1\" y=\"58.370683\"/>\r\n     <use style=\"fill:#1f77b4;stroke:#1f77b4;\" x=\"96.092359\" xlink:href=\"#m0a44749fc1\" y=\"98.923987\"/>\r\n     <use style=\"fill:#1f77b4;stroke:#1f77b4;\" x=\"170.676436\" xlink:href=\"#m0a44749fc1\" y=\"60.436261\"/>\r\n     <use style=\"fill:#1f77b4;stroke:#1f77b4;\" x=\"153.372677\" xlink:href=\"#m0a44749fc1\" y=\"75.005108\"/>\r\n     <use style=\"fill:#1f77b4;stroke:#1f77b4;\" x=\"134.499842\" xlink:href=\"#m0a44749fc1\" y=\"70.557054\"/>\r\n     <use style=\"fill:#1f77b4;stroke:#1f77b4;\" x=\"125.468954\" xlink:href=\"#m0a44749fc1\" y=\"71.7658\"/>\r\n     <use style=\"fill:#1f77b4;stroke:#1f77b4;\" x=\"72.449648\" xlink:href=\"#m0a44749fc1\" y=\"114.65119\"/>\r\n     <use style=\"fill:#1f77b4;stroke:#1f77b4;\" x=\"191.773188\" xlink:href=\"#m0a44749fc1\" y=\"53.617119\"/>\r\n     <use style=\"fill:#1f77b4;stroke:#1f77b4;\" x=\"158.666035\" xlink:href=\"#m0a44749fc1\" y=\"50.03692\"/>\r\n     <use style=\"fill:#1f77b4;stroke:#1f77b4;\" x=\"137.044394\" xlink:href=\"#m0a44749fc1\" y=\"72.950105\"/>\r\n     <use style=\"fill:#1f77b4;stroke:#1f77b4;\" x=\"182.977126\" xlink:href=\"#m0a44749fc1\" y=\"49.8512\"/>\r\n     <use style=\"fill:#1f77b4;stroke:#1f77b4;\" x=\"90.028271\" xlink:href=\"#m0a44749fc1\" y=\"102.023636\"/>\r\n     <use style=\"fill:#1f77b4;stroke:#1f77b4;\" x=\"154.614275\" xlink:href=\"#m0a44749fc1\" y=\"46.822729\"/>\r\n     <use style=\"fill:#1f77b4;stroke:#1f77b4;\" x=\"145.50497\" xlink:href=\"#m0a44749fc1\" y=\"70.289361\"/>\r\n     <use style=\"fill:#1f77b4;stroke:#1f77b4;\" x=\"90.151765\" xlink:href=\"#m0a44749fc1\" y=\"101.814455\"/>\r\n     <use style=\"fill:#1f77b4;stroke:#1f77b4;\" x=\"102.309226\" xlink:href=\"#m0a44749fc1\" y=\"97.344239\"/>\r\n     <use style=\"fill:#1f77b4;stroke:#1f77b4;\" x=\"109.44245\" xlink:href=\"#m0a44749fc1\" y=\"76.347025\"/>\r\n     <use style=\"fill:#1f77b4;stroke:#1f77b4;\" x=\"187.601132\" xlink:href=\"#m0a44749fc1\" y=\"41.798544\"/>\r\n     <use style=\"fill:#1f77b4;stroke:#1f77b4;\" x=\"85.745207\" xlink:href=\"#m0a44749fc1\" y=\"112.097598\"/>\r\n    </g>\r\n   </g>\r\n   <g id=\"matplotlib.axis_1\">\r\n    <g id=\"xtick_1\">\r\n     <g id=\"line2d_1\">\r\n      <defs>\r\n       <path d=\"M 0 0 \r\nL 0 3.5 \r\n\" id=\"m54e117d1d8\" style=\"stroke:#000000;stroke-width:0.8;\"/>\r\n      </defs>\r\n      <g>\r\n       <use style=\"stroke:#000000;stroke-width:0.8;\" x=\"60.806286\" xlink:href=\"#m54e117d1d8\" y=\"143.1\"/>\r\n      </g>\r\n     </g>\r\n     <g id=\"text_1\">\r\n      <!-- −1 -->\r\n      <g transform=\"translate(53.435193 157.698438)scale(0.1 -0.1)\">\r\n       <defs>\r\n        <path d=\"M 10.59375 35.5 \r\nL 73.1875 35.5 \r\nL 73.1875 27.203125 \r\nL 10.59375 27.203125 \r\nz\r\n\" id=\"DejaVuSans-8722\"/>\r\n        <path d=\"M 12.40625 8.296875 \r\nL 28.515625 8.296875 \r\nL 28.515625 63.921875 \r\nL 10.984375 60.40625 \r\nL 10.984375 69.390625 \r\nL 28.421875 72.90625 \r\nL 38.28125 72.90625 \r\nL 38.28125 8.296875 \r\nL 54.390625 8.296875 \r\nL 54.390625 0 \r\nL 12.40625 0 \r\nz\r\n\" id=\"DejaVuSans-49\"/>\r\n       </defs>\r\n       <use xlink:href=\"#DejaVuSans-8722\"/>\r\n       <use x=\"83.789062\" xlink:href=\"#DejaVuSans-49\"/>\r\n      </g>\r\n     </g>\r\n    </g>\r\n    <g id=\"xtick_2\">\r\n     <g id=\"line2d_2\">\r\n      <g>\r\n       <use style=\"stroke:#000000;stroke-width:0.8;\" x=\"100.391561\" xlink:href=\"#m54e117d1d8\" y=\"143.1\"/>\r\n      </g>\r\n     </g>\r\n     <g id=\"text_2\">\r\n      <!-- 0 -->\r\n      <g transform=\"translate(97.210311 157.698438)scale(0.1 -0.1)\">\r\n       <defs>\r\n        <path d=\"M 31.78125 66.40625 \r\nQ 24.171875 66.40625 20.328125 58.90625 \r\nQ 16.5 51.421875 16.5 36.375 \r\nQ 16.5 21.390625 20.328125 13.890625 \r\nQ 24.171875 6.390625 31.78125 6.390625 \r\nQ 39.453125 6.390625 43.28125 13.890625 \r\nQ 47.125 21.390625 47.125 36.375 \r\nQ 47.125 51.421875 43.28125 58.90625 \r\nQ 39.453125 66.40625 31.78125 66.40625 \r\nz\r\nM 31.78125 74.21875 \r\nQ 44.046875 74.21875 50.515625 64.515625 \r\nQ 56.984375 54.828125 56.984375 36.375 \r\nQ 56.984375 17.96875 50.515625 8.265625 \r\nQ 44.046875 -1.421875 31.78125 -1.421875 \r\nQ 19.53125 -1.421875 13.0625 8.265625 \r\nQ 6.59375 17.96875 6.59375 36.375 \r\nQ 6.59375 54.828125 13.0625 64.515625 \r\nQ 19.53125 74.21875 31.78125 74.21875 \r\nz\r\n\" id=\"DejaVuSans-48\"/>\r\n       </defs>\r\n       <use xlink:href=\"#DejaVuSans-48\"/>\r\n      </g>\r\n     </g>\r\n    </g>\r\n    <g id=\"xtick_3\">\r\n     <g id=\"line2d_3\">\r\n      <g>\r\n       <use style=\"stroke:#000000;stroke-width:0.8;\" x=\"139.976835\" xlink:href=\"#m54e117d1d8\" y=\"143.1\"/>\r\n      </g>\r\n     </g>\r\n     <g id=\"text_3\">\r\n      <!-- 1 -->\r\n      <g transform=\"translate(136.795585 157.698438)scale(0.1 -0.1)\">\r\n       <use xlink:href=\"#DejaVuSans-49\"/>\r\n      </g>\r\n     </g>\r\n    </g>\r\n    <g id=\"xtick_4\">\r\n     <g id=\"line2d_4\">\r\n      <g>\r\n       <use style=\"stroke:#000000;stroke-width:0.8;\" x=\"179.56211\" xlink:href=\"#m54e117d1d8\" y=\"143.1\"/>\r\n      </g>\r\n     </g>\r\n     <g id=\"text_4\">\r\n      <!-- 2 -->\r\n      <g transform=\"translate(176.38086 157.698438)scale(0.1 -0.1)\">\r\n       <defs>\r\n        <path d=\"M 19.1875 8.296875 \r\nL 53.609375 8.296875 \r\nL 53.609375 0 \r\nL 7.328125 0 \r\nL 7.328125 8.296875 \r\nQ 12.9375 14.109375 22.625 23.890625 \r\nQ 32.328125 33.6875 34.8125 36.53125 \r\nQ 39.546875 41.84375 41.421875 45.53125 \r\nQ 43.3125 49.21875 43.3125 52.78125 \r\nQ 43.3125 58.59375 39.234375 62.25 \r\nQ 35.15625 65.921875 28.609375 65.921875 \r\nQ 23.96875 65.921875 18.8125 64.3125 \r\nQ 13.671875 62.703125 7.8125 59.421875 \r\nL 7.8125 69.390625 \r\nQ 13.765625 71.78125 18.9375 73 \r\nQ 24.125 74.21875 28.421875 74.21875 \r\nQ 39.75 74.21875 46.484375 68.546875 \r\nQ 53.21875 62.890625 53.21875 53.421875 \r\nQ 53.21875 48.921875 51.53125 44.890625 \r\nQ 49.859375 40.875 45.40625 35.40625 \r\nQ 44.1875 33.984375 37.640625 27.21875 \r\nQ 31.109375 20.453125 19.1875 8.296875 \r\nz\r\n\" id=\"DejaVuSans-50\"/>\r\n       </defs>\r\n       <use xlink:href=\"#DejaVuSans-50\"/>\r\n      </g>\r\n     </g>\r\n    </g>\r\n    <g id=\"xtick_5\">\r\n     <g id=\"line2d_5\">\r\n      <g>\r\n       <use style=\"stroke:#000000;stroke-width:0.8;\" x=\"219.147385\" xlink:href=\"#m54e117d1d8\" y=\"143.1\"/>\r\n      </g>\r\n     </g>\r\n     <g id=\"text_5\">\r\n      <!-- 3 -->\r\n      <g transform=\"translate(215.966135 157.698438)scale(0.1 -0.1)\">\r\n       <defs>\r\n        <path d=\"M 40.578125 39.3125 \r\nQ 47.65625 37.796875 51.625 33 \r\nQ 55.609375 28.21875 55.609375 21.1875 \r\nQ 55.609375 10.40625 48.1875 4.484375 \r\nQ 40.765625 -1.421875 27.09375 -1.421875 \r\nQ 22.515625 -1.421875 17.65625 -0.515625 \r\nQ 12.796875 0.390625 7.625 2.203125 \r\nL 7.625 11.71875 \r\nQ 11.71875 9.328125 16.59375 8.109375 \r\nQ 21.484375 6.890625 26.8125 6.890625 \r\nQ 36.078125 6.890625 40.9375 10.546875 \r\nQ 45.796875 14.203125 45.796875 21.1875 \r\nQ 45.796875 27.640625 41.28125 31.265625 \r\nQ 36.765625 34.90625 28.71875 34.90625 \r\nL 20.21875 34.90625 \r\nL 20.21875 43.015625 \r\nL 29.109375 43.015625 \r\nQ 36.375 43.015625 40.234375 45.921875 \r\nQ 44.09375 48.828125 44.09375 54.296875 \r\nQ 44.09375 59.90625 40.109375 62.90625 \r\nQ 36.140625 65.921875 28.71875 65.921875 \r\nQ 24.65625 65.921875 20.015625 65.03125 \r\nQ 15.375 64.15625 9.8125 62.3125 \r\nL 9.8125 71.09375 \r\nQ 15.4375 72.65625 20.34375 73.4375 \r\nQ 25.25 74.21875 29.59375 74.21875 \r\nQ 40.828125 74.21875 47.359375 69.109375 \r\nQ 53.90625 64.015625 53.90625 55.328125 \r\nQ 53.90625 49.265625 50.4375 45.09375 \r\nQ 46.96875 40.921875 40.578125 39.3125 \r\nz\r\n\" id=\"DejaVuSans-51\"/>\r\n       </defs>\r\n       <use xlink:href=\"#DejaVuSans-51\"/>\r\n      </g>\r\n     </g>\r\n    </g>\r\n   </g>\r\n   <g id=\"matplotlib.axis_2\">\r\n    <g id=\"ytick_1\">\r\n     <g id=\"line2d_6\">\r\n      <defs>\r\n       <path d=\"M 0 0 \r\nL -3.5 0 \r\n\" id=\"m1d96f14fd8\" style=\"stroke:#000000;stroke-width:0.8;\"/>\r\n      </defs>\r\n      <g>\r\n       <use style=\"stroke:#000000;stroke-width:0.8;\" x=\"28.942188\" xlink:href=\"#m1d96f14fd8\" y=\"120.893708\"/>\r\n      </g>\r\n     </g>\r\n     <g id=\"text_6\">\r\n      <!-- −2 -->\r\n      <g transform=\"translate(7.2 124.692926)scale(0.1 -0.1)\">\r\n       <use xlink:href=\"#DejaVuSans-8722\"/>\r\n       <use x=\"83.789062\" xlink:href=\"#DejaVuSans-50\"/>\r\n      </g>\r\n     </g>\r\n    </g>\r\n    <g id=\"ytick_2\">\r\n     <g id=\"line2d_7\">\r\n      <g>\r\n       <use style=\"stroke:#000000;stroke-width:0.8;\" x=\"28.942188\" xlink:href=\"#m1d96f14fd8\" y=\"97.093292\"/>\r\n      </g>\r\n     </g>\r\n     <g id=\"text_7\">\r\n      <!-- 0 -->\r\n      <g transform=\"translate(15.579688 100.892511)scale(0.1 -0.1)\">\r\n       <use xlink:href=\"#DejaVuSans-48\"/>\r\n      </g>\r\n     </g>\r\n    </g>\r\n    <g id=\"ytick_3\">\r\n     <g id=\"line2d_8\">\r\n      <g>\r\n       <use style=\"stroke:#000000;stroke-width:0.8;\" x=\"28.942188\" xlink:href=\"#m1d96f14fd8\" y=\"73.292877\"/>\r\n      </g>\r\n     </g>\r\n     <g id=\"text_8\">\r\n      <!-- 2 -->\r\n      <g transform=\"translate(15.579688 77.092095)scale(0.1 -0.1)\">\r\n       <use xlink:href=\"#DejaVuSans-50\"/>\r\n      </g>\r\n     </g>\r\n    </g>\r\n    <g id=\"ytick_4\">\r\n     <g id=\"line2d_9\">\r\n      <g>\r\n       <use style=\"stroke:#000000;stroke-width:0.8;\" x=\"28.942188\" xlink:href=\"#m1d96f14fd8\" y=\"49.492461\"/>\r\n      </g>\r\n     </g>\r\n     <g id=\"text_9\">\r\n      <!-- 4 -->\r\n      <g transform=\"translate(15.579688 53.29168)scale(0.1 -0.1)\">\r\n       <defs>\r\n        <path d=\"M 37.796875 64.3125 \r\nL 12.890625 25.390625 \r\nL 37.796875 25.390625 \r\nz\r\nM 35.203125 72.90625 \r\nL 47.609375 72.90625 \r\nL 47.609375 25.390625 \r\nL 58.015625 25.390625 \r\nL 58.015625 17.1875 \r\nL 47.609375 17.1875 \r\nL 47.609375 0 \r\nL 37.796875 0 \r\nL 37.796875 17.1875 \r\nL 4.890625 17.1875 \r\nL 4.890625 26.703125 \r\nz\r\n\" id=\"DejaVuSans-52\"/>\r\n       </defs>\r\n       <use xlink:href=\"#DejaVuSans-52\"/>\r\n      </g>\r\n     </g>\r\n    </g>\r\n    <g id=\"ytick_5\">\r\n     <g id=\"line2d_10\">\r\n      <g>\r\n       <use style=\"stroke:#000000;stroke-width:0.8;\" x=\"28.942188\" xlink:href=\"#m1d96f14fd8\" y=\"25.692045\"/>\r\n      </g>\r\n     </g>\r\n     <g id=\"text_10\">\r\n      <!-- 6 -->\r\n      <g transform=\"translate(15.579688 29.491264)scale(0.1 -0.1)\">\r\n       <defs>\r\n        <path d=\"M 33.015625 40.375 \r\nQ 26.375 40.375 22.484375 35.828125 \r\nQ 18.609375 31.296875 18.609375 23.390625 \r\nQ 18.609375 15.53125 22.484375 10.953125 \r\nQ 26.375 6.390625 33.015625 6.390625 \r\nQ 39.65625 6.390625 43.53125 10.953125 \r\nQ 47.40625 15.53125 47.40625 23.390625 \r\nQ 47.40625 31.296875 43.53125 35.828125 \r\nQ 39.65625 40.375 33.015625 40.375 \r\nz\r\nM 52.59375 71.296875 \r\nL 52.59375 62.3125 \r\nQ 48.875 64.0625 45.09375 64.984375 \r\nQ 41.3125 65.921875 37.59375 65.921875 \r\nQ 27.828125 65.921875 22.671875 59.328125 \r\nQ 17.53125 52.734375 16.796875 39.40625 \r\nQ 19.671875 43.65625 24.015625 45.921875 \r\nQ 28.375 48.1875 33.59375 48.1875 \r\nQ 44.578125 48.1875 50.953125 41.515625 \r\nQ 57.328125 34.859375 57.328125 23.390625 \r\nQ 57.328125 12.15625 50.6875 5.359375 \r\nQ 44.046875 -1.421875 33.015625 -1.421875 \r\nQ 20.359375 -1.421875 13.671875 8.265625 \r\nQ 6.984375 17.96875 6.984375 36.375 \r\nQ 6.984375 53.65625 15.1875 63.9375 \r\nQ 23.390625 74.21875 37.203125 74.21875 \r\nQ 40.921875 74.21875 44.703125 73.484375 \r\nQ 48.484375 72.75 52.59375 71.296875 \r\nz\r\n\" id=\"DejaVuSans-54\"/>\r\n       </defs>\r\n       <use xlink:href=\"#DejaVuSans-54\"/>\r\n      </g>\r\n     </g>\r\n    </g>\r\n   </g>\r\n   <g id=\"patch_3\">\r\n    <path d=\"M 28.942188 143.1 \r\nL 28.942188 7.2 \r\n\" style=\"fill:none;stroke:#000000;stroke-linecap:square;stroke-linejoin:miter;stroke-width:0.8;\"/>\r\n   </g>\r\n   <g id=\"patch_4\">\r\n    <path d=\"M 224.242188 143.1 \r\nL 224.242188 7.2 \r\n\" style=\"fill:none;stroke:#000000;stroke-linecap:square;stroke-linejoin:miter;stroke-width:0.8;\"/>\r\n   </g>\r\n   <g id=\"patch_5\">\r\n    <path d=\"M 28.942188 143.1 \r\nL 224.242188 143.1 \r\n\" style=\"fill:none;stroke:#000000;stroke-linecap:square;stroke-linejoin:miter;stroke-width:0.8;\"/>\r\n   </g>\r\n   <g id=\"patch_6\">\r\n    <path d=\"M 28.942188 7.2 \r\nL 224.242188 7.2 \r\n\" style=\"fill:none;stroke:#000000;stroke-linecap:square;stroke-linejoin:miter;stroke-width:0.8;\"/>\r\n   </g>\r\n  </g>\r\n </g>\r\n <defs>\r\n  <clipPath id=\"pb5277cf189\">\r\n   <rect height=\"135.9\" width=\"195.3\" x=\"28.942188\" y=\"7.2\"/>\r\n  </clipPath>\r\n </defs>\r\n</svg>\r\n"
     },
     "metadata": {
      "needs_background": "light"
     }
    }
   ],
   "source": [
    "d2l.set_figsize()\n",
    "d2l.plt.scatter(d2l.numpy(data[:100, 0]), d2l.numpy(data[:100, 1]));\n",
    "print(f'The covariance matrix is\\n{d2l.matmul(tf.transpose(A), A)}')"
   ]
  },
  {
   "cell_type": "code",
   "execution_count": 5,
   "metadata": {},
   "outputs": [],
   "source": [
    "batch_size = 8\n",
    "data_iter = d2l.load_array((data,), batch_size)"
   ]
  },
  {
   "cell_type": "code",
   "execution_count": 6,
   "metadata": {},
   "outputs": [],
   "source": [
    "net_G = tf.keras.Sequential()\n",
    "net_G.add(tf.keras.layers.Dense(2))"
   ]
  },
  {
   "cell_type": "markdown",
   "metadata": {},
   "source": [
    "tf.keras.activations.tanh(a)\n",
    "https://www.tensorflow.org/api_docs/python/tf/keras/activations/tanh\n"
   ]
  },
  {
   "cell_type": "code",
   "execution_count": 7,
   "metadata": {},
   "outputs": [],
   "source": [
    "net_D = tf.keras.Sequential()\n",
    "net_D.add(tf.keras.layers.Dense(5, activation='tanh'))\n",
    "net_D.add(tf.keras.layers.Dense(3, activation='tanh'))\n",
    "net_D.add(tf.keras.layers.Dense(1))"
   ]
  },
  {
   "cell_type": "markdown",
   "metadata": {},
   "source": [
    "with tf.GradientTape() as t:\n",
    "http://preview.d2l.ai/d2l-en/master/chapter_preliminaries/autograd.html\n"
   ]
  },
  {
   "cell_type": "markdown",
   "metadata": {},
   "source": [
    "t.gradient(y, x) \n",
    "t.gradient(loss_D, trainer_D) "
   ]
  },
  {
   "cell_type": "markdown",
   "metadata": {},
   "source": [
    ".apply_gradients(zip(grads, self.generator.trainable_weights))\n",
    "https://keras.io/examples/generative/dcgan_overriding_train_step/"
   ]
  },
  {
   "cell_type": "code",
   "execution_count": 8,
   "metadata": {},
   "outputs": [],
   "source": [
    "#@save\n",
    "def update_D(X, Z, net_D, net_G, loss, trainer_D):\n",
    "    \"\"\"Update discriminator.\"\"\"\n",
    "    batch_size = np.array(X).shape[0]\n",
    "    ones = tf.ones((batch_size,), tf.float32)\n",
    "    zeros = tf.zeros((batch_size,), tf.float32)\n",
    "    with tf.GradientTape() as t:\n",
    "        real_Y = net_D(tf.convert_to_tensor(X))\n",
    "        fake_X = net_G(tf.convert_to_tensor(Z))\n",
    "        # Do not need to compute gradient for `net_G`, detach it from\n",
    "        # computing gradients.\n",
    "        fake_Y = net_D(fake_X)\n",
    "        loss_D = (loss(real_Y, ones) + loss(fake_Y, zeros)) / 2\n",
    "    grads = t.gradient(loss_D, net_D.trainable_variables)\n",
    "    trainer_D.apply_gradients(zip(grads, net_D.trainable_weights))\n",
    "    return float(loss_D)"
   ]
  },
  {
   "cell_type": "code",
   "execution_count": 9,
   "metadata": {},
   "outputs": [],
   "source": [
    "#@save\n",
    "def update_G(Z, net_D, net_G, loss, trainer_G):\n",
    "    \"\"\"Update generator.\"\"\"\n",
    "    batch_size = np.array(Z).shape[0]\n",
    "    ones = tf.ones((batch_size,), tf.float32)\n",
    "    with tf.GradientTape() as t:\n",
    "        # We could reuse `fake_X` from `update_D` to save computation\n",
    "        fake_X = net_G(tf.convert_to_tensor(Z))\n",
    "        # Recomputing `fake_Y` is needed since `net_D` is changed\n",
    "        fake_Y = net_D(fake_X)\n",
    "        loss_G = loss(fake_Y, ones)\n",
    "    grads = t.gradient(loss_G, net_G.trainable_variables) \n",
    "    trainer_G.apply_gradients(zip(grads, net_G.trainable_weights))\n",
    "    return float(loss_G)"
   ]
  },
  {
   "cell_type": "markdown",
   "metadata": {},
   "source": [
    "https://www.google.com/search?q=numpy()+tensorflow&rlz=1C1GCEA_enJP909HK909&oq=numpy()+tensorflow&aqs=chrome..69i57j0l7.2792j0j1&sourceid=chrome&ie=UTF-8"
   ]
  },
  {
   "cell_type": "markdown",
   "metadata": {},
   "source": [
    "https://www.tensorflow.org/api_docs/python/tf/keras/optimizers/Adam\n",
    "tf.keras.optimizers.Adam(learning_rate=0.1)\n",
    "m.compile\n",
    "m = tf.keras.models.Sequential([tf.keras.layers.Dense(10)])\n",
    "m.compile(opt, loss='mse')"
   ]
  },
  {
   "cell_type": "markdown",
   "metadata": {},
   "source": [
    "https://stackoverflow.com/questions/55683729/bcewithlogitsloss-in-keras\n",
    "https://www.tensorflow.org/api_docs/python/tf/keras/losses/BinaryCrossentropy\n"
   ]
  },
  {
   "cell_type": "markdown",
   "metadata": {},
   "source": [
    "def weight_variable(shape, w=0.1):\n",
    "  initial = tf.truncated_normal(shape, stddev=w)\n",
    "  return tf.Variable(initial)\n",
    "  https://stackoverflow.com/questions/43489697/tensorflow-weight-initialization\n",
    "\n",
    "  The values generated are similar to values from a tf.keras.initializers.RandomNormal initializer except that values more than two standard deviations from the mean are discarded and re-drawn.\n",
    "  https://keras.io/api/layers/initializers/"
   ]
  },
  {
   "cell_type": "markdown",
   "metadata": {},
   "source": [
    "tf.Variable(initial_value=w_init(\n",
    "            shape=(input_dim, unit), dtype=tf.float32), trainable=True)\n",
    "            https://zhuanlan.zhihu.com/p/59481536"
   ]
  },
  {
   "cell_type": "markdown",
   "metadata": {},
   "source": [
    "https://keras.io/api/layers/initializers/"
   ]
  },
  {
   "cell_type": "markdown",
   "metadata": {},
   "source": [
    "numpy.array\n",
    "https://stackoverflow.com/questions/41198144/attributeerror-tuple-object-has-no-attribute-shape"
   ]
  },
  {
   "cell_type": "markdown",
   "metadata": {},
   "source": [
    "https://github.com/tensorflow/tensorflow/issues/29972"
   ]
  },
  {
   "cell_type": "markdown",
   "metadata": {},
   "source": [
    "tf.stop_gradient(y)\n",
    "http://preview.d2l.ai/d2l-en/master/chapter_preliminaries/autograd.html?highlight=detach"
   ]
  },
  {
   "cell_type": "markdown",
   "metadata": {},
   "source": [
    " from_logits=True 9.2.4 TensorFlow 2.0 神经网络实践"
   ]
  },
  {
   "cell_type": "code",
   "execution_count": 10,
   "metadata": {},
   "outputs": [],
   "source": [
    "def train(net_D, net_G, data_iter, num_epochs, lr_D, lr_G, latent_dim, data):\n",
    "    loss = tf.keras.losses.BinaryCrossentropy(reduction=\n",
    "                    tf.keras.losses.Reduction.SUM)\n",
    "    tf.keras.initializers.RandomNormal(net_D, stddev=0.02)\n",
    "    tf.keras.initializers.RandomNormal(net_G, stddev=0.02)\n",
    "    trainer_D = tf.keras.optimizers.Adam(learning_rate=lr_D)\n",
    "    trainer_G = tf.keras.optimizers.Adam(learning_rate=lr_G)\n",
    "    animator = d2l.Animator(xlabel='epoch', ylabel='loss',\n",
    "                            xlim=[1, num_epochs], nrows=2, figsize=(5, 5),\n",
    "                            legend=['discriminator', 'generator'])\n",
    "    animator.fig.subplots_adjust(hspace=0.3)\n",
    "    for epoch in range(num_epochs):\n",
    "        # Train one epoch\n",
    "        timer = d2l.Timer()\n",
    "        metric = d2l.Accumulator(3)  # loss_D, loss_G, num_examples\n",
    "        for X in data_iter:\n",
    "            batch_size = np.array(X).shape[0]\n",
    "            Z = d2l.normal([batch_size, latent_dim], 0, 1, tf.float32)\n",
    "            metric.add(update_D(X, Z, net_D, net_G, loss, trainer_D),\n",
    "                       update_G(Z, net_D, net_G, loss, trainer_G),\n",
    "                       batch_size)\n",
    "        # Visualize generated examples\n",
    "        Z = d2l.normal([100, latent_dim], 0, 1, tf.float32)\n",
    "        fake_X = net_G(Z).numpy()\n",
    "        animator.axes[1].cla()\n",
    "        animator.axes[1].scatter(data[:, 0], data[:, 1])\n",
    "        animator.axes[1].scatter(fake_X[:, 0], fake_X[:, 1])\n",
    "        animator.axes[1].legend(['real', 'generated'])\n",
    "        # Show the losses\n",
    "        loss_D, loss_G = metric[0]/metric[2], metric[1]/metric[2]\n",
    "        animator.add(epoch + 1, (loss_D, loss_G))\n",
    "    print(f'loss_D {loss_D:.3f}, loss_G {loss_G:.3f}, '\n",
    "          f'{metric[2] / timer.stop():.1f} examples/sec')"
   ]
  },
  {
   "cell_type": "code",
   "execution_count": 11,
   "metadata": {
    "tags": []
   },
   "outputs": [
    {
     "output_type": "error",
     "ename": "AttributeError",
     "evalue": "'NoneType' object has no attribute 'apply_gradients'",
     "traceback": [
      "\u001b[1;31m---------------------------------------------------------------------------\u001b[0m",
      "\u001b[1;31mAttributeError\u001b[0m                            Traceback (most recent call last)",
      "\u001b[1;32m<ipython-input-11-251159593cac>\u001b[0m in \u001b[0;36m<module>\u001b[1;34m\u001b[0m\n\u001b[0;32m      1\u001b[0m \u001b[0mlr_D\u001b[0m\u001b[1;33m,\u001b[0m \u001b[0mlr_G\u001b[0m\u001b[1;33m,\u001b[0m \u001b[0mlatent_dim\u001b[0m\u001b[1;33m,\u001b[0m \u001b[0mnum_epochs\u001b[0m \u001b[1;33m=\u001b[0m \u001b[1;36m0.05\u001b[0m\u001b[1;33m,\u001b[0m \u001b[1;36m0.005\u001b[0m\u001b[1;33m,\u001b[0m \u001b[1;36m2\u001b[0m\u001b[1;33m,\u001b[0m \u001b[1;36m20\u001b[0m\u001b[1;33m\u001b[0m\u001b[1;33m\u001b[0m\u001b[0m\n\u001b[0;32m      2\u001b[0m train(net_D, net_G, data_iter, num_epochs, lr_D, lr_G,\n\u001b[1;32m----> 3\u001b[1;33m       latent_dim, d2l.numpy(data[:100]))\n\u001b[0m",
      "\u001b[1;32m<ipython-input-10-1415645c306d>\u001b[0m in \u001b[0;36mtrain\u001b[1;34m(net_D, net_G, data_iter, num_epochs, lr_D, lr_G, latent_dim, data)\u001b[0m\n\u001b[0;32m     17\u001b[0m             \u001b[0mbatch_size\u001b[0m \u001b[1;33m=\u001b[0m \u001b[0mnp\u001b[0m\u001b[1;33m.\u001b[0m\u001b[0marray\u001b[0m\u001b[1;33m(\u001b[0m\u001b[0mX\u001b[0m\u001b[1;33m)\u001b[0m\u001b[1;33m.\u001b[0m\u001b[0mshape\u001b[0m\u001b[1;33m[\u001b[0m\u001b[1;36m0\u001b[0m\u001b[1;33m]\u001b[0m\u001b[1;33m\u001b[0m\u001b[1;33m\u001b[0m\u001b[0m\n\u001b[0;32m     18\u001b[0m             \u001b[0mZ\u001b[0m \u001b[1;33m=\u001b[0m \u001b[0md2l\u001b[0m\u001b[1;33m.\u001b[0m\u001b[0mnormal\u001b[0m\u001b[1;33m(\u001b[0m\u001b[1;33m[\u001b[0m\u001b[0mbatch_size\u001b[0m\u001b[1;33m,\u001b[0m \u001b[0mlatent_dim\u001b[0m\u001b[1;33m]\u001b[0m\u001b[1;33m,\u001b[0m \u001b[1;36m0\u001b[0m\u001b[1;33m,\u001b[0m \u001b[1;36m1\u001b[0m\u001b[1;33m,\u001b[0m \u001b[0mtf\u001b[0m\u001b[1;33m.\u001b[0m\u001b[0mfloat32\u001b[0m\u001b[1;33m)\u001b[0m\u001b[1;33m\u001b[0m\u001b[1;33m\u001b[0m\u001b[0m\n\u001b[1;32m---> 19\u001b[1;33m             metric.add(update_D(X, Z, net_D, net_G, loss, trainer_D),\n\u001b[0m\u001b[0;32m     20\u001b[0m                        \u001b[0mupdate_G\u001b[0m\u001b[1;33m(\u001b[0m\u001b[0mZ\u001b[0m\u001b[1;33m,\u001b[0m \u001b[0mnet_D\u001b[0m\u001b[1;33m,\u001b[0m \u001b[0mnet_G\u001b[0m\u001b[1;33m,\u001b[0m \u001b[0mloss\u001b[0m\u001b[1;33m,\u001b[0m \u001b[0mtrainer_G\u001b[0m\u001b[1;33m)\u001b[0m\u001b[1;33m,\u001b[0m\u001b[1;33m\u001b[0m\u001b[1;33m\u001b[0m\u001b[0m\n\u001b[0;32m     21\u001b[0m                        batch_size)\n",
      "\u001b[1;32m<ipython-input-8-1ff1530e327e>\u001b[0m in \u001b[0;36mupdate_D\u001b[1;34m(X, Z, net_D, net_G, loss, trainer_D)\u001b[0m\n\u001b[0;32m     13\u001b[0m         \u001b[0mloss_D\u001b[0m \u001b[1;33m=\u001b[0m \u001b[1;33m(\u001b[0m\u001b[0mloss\u001b[0m\u001b[1;33m(\u001b[0m\u001b[0mreal_Y\u001b[0m\u001b[1;33m,\u001b[0m \u001b[0mones\u001b[0m\u001b[1;33m)\u001b[0m \u001b[1;33m+\u001b[0m \u001b[0mloss\u001b[0m\u001b[1;33m(\u001b[0m\u001b[0mfake_Y\u001b[0m\u001b[1;33m,\u001b[0m \u001b[0mzeros\u001b[0m\u001b[1;33m)\u001b[0m\u001b[1;33m)\u001b[0m \u001b[1;33m/\u001b[0m \u001b[1;36m2\u001b[0m\u001b[1;33m\u001b[0m\u001b[1;33m\u001b[0m\u001b[0m\n\u001b[0;32m     14\u001b[0m     \u001b[0mgrads\u001b[0m \u001b[1;33m=\u001b[0m \u001b[0mt\u001b[0m\u001b[1;33m.\u001b[0m\u001b[0mgradient\u001b[0m\u001b[1;33m(\u001b[0m\u001b[0mloss_D\u001b[0m\u001b[1;33m,\u001b[0m \u001b[0mnet_D\u001b[0m\u001b[1;33m.\u001b[0m\u001b[0mtrainable_variables\u001b[0m\u001b[1;33m)\u001b[0m\u001b[1;33m\u001b[0m\u001b[1;33m\u001b[0m\u001b[0m\n\u001b[1;32m---> 15\u001b[1;33m     \u001b[0mtrainer_D\u001b[0m\u001b[1;33m.\u001b[0m\u001b[0mapply_gradients\u001b[0m\u001b[1;33m(\u001b[0m\u001b[0mzip\u001b[0m\u001b[1;33m(\u001b[0m\u001b[0mgrads\u001b[0m\u001b[1;33m,\u001b[0m \u001b[0mnet_D\u001b[0m\u001b[1;33m.\u001b[0m\u001b[0mtrainable_weights\u001b[0m\u001b[1;33m)\u001b[0m\u001b[1;33m)\u001b[0m\u001b[1;33m\u001b[0m\u001b[1;33m\u001b[0m\u001b[0m\n\u001b[0m\u001b[0;32m     16\u001b[0m     \u001b[1;32mreturn\u001b[0m \u001b[0mfloat\u001b[0m\u001b[1;33m(\u001b[0m\u001b[0mloss_D\u001b[0m\u001b[1;33m)\u001b[0m\u001b[1;33m\u001b[0m\u001b[1;33m\u001b[0m\u001b[0m\n",
      "\u001b[1;31mAttributeError\u001b[0m: 'NoneType' object has no attribute 'apply_gradients'"
     ]
    }
   ],
   "source": [
    "lr_D, lr_G, latent_dim, num_epochs = 0.05, 0.005, 2, 20\n",
    "train(net_D, net_G, data_iter, num_epochs, lr_D, lr_G,\n",
    "      latent_dim, d2l.numpy(data[:100]))"
   ]
  },
  {
   "cell_type": "markdown",
   "metadata": {},
   "source": [
    "https://www.tensorflow.org/api_docs/python/tf/ones"
   ]
  }
 ]
}