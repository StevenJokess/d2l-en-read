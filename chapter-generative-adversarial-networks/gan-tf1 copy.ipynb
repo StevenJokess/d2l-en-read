{
 "metadata": {
  "language_info": {
   "codemirror_mode": {
    "name": "ipython",
    "version": 3
   },
   "file_extension": ".py",
   "mimetype": "text/x-python",
   "name": "python",
   "nbconvert_exporter": "python",
   "pygments_lexer": "ipython3",
   "version": "3.7.8-final"
  },
  "orig_nbformat": 2,
  "kernelspec": {
   "name": "python37864bittf2conda1de394c9651a4d19aa25641a40b8d2d8",
   "display_name": "Python 3.7.8 64-bit ('tf2': conda)"
  }
 },
 "nbformat": 4,
 "nbformat_minor": 2,
 "cells": [
  {
   "cell_type": "markdown",
   "metadata": {},
   "source": [
    "http://preview.d2l.ai/d2l-en/master/chapter_generative-adversarial-networks/gan.html"
   ]
  },
  {
   "cell_type": "code",
   "execution_count": 1,
   "metadata": {},
   "outputs": [],
   "source": [
    "%matplotlib inline\n",
    "from d2l import tensorflow as d2l\n",
    "import tensorflow as tf"
   ]
  },
  {
   "cell_type": "markdown",
   "metadata": {},
   "source": [
    "https://www.tensorflow.org/api_docs/python/tf/random/normal"
   ]
  },
  {
   "cell_type": "markdown",
   "metadata": {},
   "source": [
    "https://www.tensorflow.org/api_docs/python/tf/norm"
   ]
  },
  {
   "cell_type": "code",
   "execution_count": 2,
   "metadata": {},
   "outputs": [],
   "source": [
    "X = d2l.normal([1000, 2], 0.0, 1, tf.float32)"
   ]
  },
  {
   "cell_type": "code",
   "execution_count": 3,
   "metadata": {},
   "outputs": [],
   "source": [
    "A = d2l.tensor([[1, 2], [-0.1, 0.5]], tf.float32)\n",
    "b = d2l.tensor([1, 2], tf.float32)\n",
    "data = d2l.matmul(X, A) + b"
   ]
  },
  {
   "cell_type": "code",
   "execution_count": 4,
   "metadata": {
    "tags": []
   },
   "outputs": [
    {
     "output_type": "stream",
     "name": "stdout",
     "text": "The covariance matrix is\n[[1.01 1.95]\n [1.95 4.25]]\n"
    },
    {
     "output_type": "display_data",
     "data": {
      "text/plain": "<Figure size 252x180 with 1 Axes>",
      "image/svg+xml": "<?xml version=\"1.0\" encoding=\"utf-8\" standalone=\"no\"?>\r\n<!DOCTYPE svg PUBLIC \"-//W3C//DTD SVG 1.1//EN\"\r\n  \"http://www.w3.org/Graphics/SVG/1.1/DTD/svg11.dtd\">\r\n<!-- Created with matplotlib (https://matplotlib.org/) -->\r\n<svg height=\"166.978125pt\" version=\"1.1\" viewBox=\"0 0 231.442187 166.978125\" width=\"231.442187pt\" xmlns=\"http://www.w3.org/2000/svg\" xmlns:xlink=\"http://www.w3.org/1999/xlink\">\r\n <metadata>\r\n  <rdf:RDF xmlns:cc=\"http://creativecommons.org/ns#\" xmlns:dc=\"http://purl.org/dc/elements/1.1/\" xmlns:rdf=\"http://www.w3.org/1999/02/22-rdf-syntax-ns#\">\r\n   <cc:Work>\r\n    <dc:type rdf:resource=\"http://purl.org/dc/dcmitype/StillImage\"/>\r\n    <dc:date>2020-09-06T18:36:26.453117</dc:date>\r\n    <dc:format>image/svg+xml</dc:format>\r\n    <dc:creator>\r\n     <cc:Agent>\r\n      <dc:title>Matplotlib v3.3.1, https://matplotlib.org/</dc:title>\r\n     </cc:Agent>\r\n    </dc:creator>\r\n   </cc:Work>\r\n  </rdf:RDF>\r\n </metadata>\r\n <defs>\r\n  <style type=\"text/css\">*{stroke-linecap:butt;stroke-linejoin:round;}</style>\r\n </defs>\r\n <g id=\"figure_1\">\r\n  <g id=\"patch_1\">\r\n   <path d=\"M 0 166.978125 \r\nL 231.442187 166.978125 \r\nL 231.442187 0 \r\nL 0 0 \r\nz\r\n\" style=\"fill:none;\"/>\r\n  </g>\r\n  <g id=\"axes_1\">\r\n   <g id=\"patch_2\">\r\n    <path d=\"M 28.942188 143.1 \r\nL 224.242188 143.1 \r\nL 224.242188 7.2 \r\nL 28.942188 7.2 \r\nz\r\n\" style=\"fill:#ffffff;\"/>\r\n   </g>\r\n   <g id=\"PathCollection_1\">\r\n    <defs>\r\n     <path d=\"M 0 3 \r\nC 0.795609 3 1.55874 2.683901 2.12132 2.12132 \r\nC 2.683901 1.55874 3 0.795609 3 0 \r\nC 3 -0.795609 2.683901 -1.55874 2.12132 -2.12132 \r\nC 1.55874 -2.683901 0.795609 -3 0 -3 \r\nC -0.795609 -3 -1.55874 -2.683901 -2.12132 -2.12132 \r\nC -2.683901 -1.55874 -3 -0.795609 -3 0 \r\nC -3 0.795609 -2.683901 1.55874 -2.12132 2.12132 \r\nC -1.55874 2.683901 -0.795609 3 0 3 \r\nz\r\n\" id=\"m5f86fc0d29\" style=\"stroke:#1f77b4;\"/>\r\n    </defs>\r\n    <g clip-path=\"url(#pa2c18fbee3)\">\r\n     <use style=\"fill:#1f77b4;stroke:#1f77b4;\" x=\"102.639396\" xlink:href=\"#m5f86fc0d29\" y=\"86.312042\"/>\r\n     <use style=\"fill:#1f77b4;stroke:#1f77b4;\" x=\"184.102891\" xlink:href=\"#m5f86fc0d29\" y=\"29.365223\"/>\r\n     <use style=\"fill:#1f77b4;stroke:#1f77b4;\" x=\"100.116091\" xlink:href=\"#m5f86fc0d29\" y=\"104.721949\"/>\r\n     <use style=\"fill:#1f77b4;stroke:#1f77b4;\" x=\"161.008323\" xlink:href=\"#m5f86fc0d29\" y=\"35.867404\"/>\r\n     <use style=\"fill:#1f77b4;stroke:#1f77b4;\" x=\"167.483798\" xlink:href=\"#m5f86fc0d29\" y=\"41.390727\"/>\r\n     <use style=\"fill:#1f77b4;stroke:#1f77b4;\" x=\"119.468994\" xlink:href=\"#m5f86fc0d29\" y=\"74.243245\"/>\r\n     <use style=\"fill:#1f77b4;stroke:#1f77b4;\" x=\"141.852571\" xlink:href=\"#m5f86fc0d29\" y=\"65.895198\"/>\r\n     <use style=\"fill:#1f77b4;stroke:#1f77b4;\" x=\"172.481549\" xlink:href=\"#m5f86fc0d29\" y=\"47.365454\"/>\r\n     <use style=\"fill:#1f77b4;stroke:#1f77b4;\" x=\"84.872268\" xlink:href=\"#m5f86fc0d29\" y=\"109.105651\"/>\r\n     <use style=\"fill:#1f77b4;stroke:#1f77b4;\" x=\"132.924344\" xlink:href=\"#m5f86fc0d29\" y=\"65.256347\"/>\r\n     <use style=\"fill:#1f77b4;stroke:#1f77b4;\" x=\"129.981673\" xlink:href=\"#m5f86fc0d29\" y=\"61.336081\"/>\r\n     <use style=\"fill:#1f77b4;stroke:#1f77b4;\" x=\"97.701229\" xlink:href=\"#m5f86fc0d29\" y=\"79.182964\"/>\r\n     <use style=\"fill:#1f77b4;stroke:#1f77b4;\" x=\"133.850981\" xlink:href=\"#m5f86fc0d29\" y=\"65.000972\"/>\r\n     <use style=\"fill:#1f77b4;stroke:#1f77b4;\" x=\"109.360423\" xlink:href=\"#m5f86fc0d29\" y=\"85.892789\"/>\r\n     <use style=\"fill:#1f77b4;stroke:#1f77b4;\" x=\"108.36248\" xlink:href=\"#m5f86fc0d29\" y=\"76.336041\"/>\r\n     <use style=\"fill:#1f77b4;stroke:#1f77b4;\" x=\"80.68367\" xlink:href=\"#m5f86fc0d29\" y=\"97.349213\"/>\r\n     <use style=\"fill:#1f77b4;stroke:#1f77b4;\" x=\"128.421094\" xlink:href=\"#m5f86fc0d29\" y=\"63.376648\"/>\r\n     <use style=\"fill:#1f77b4;stroke:#1f77b4;\" x=\"153.386883\" xlink:href=\"#m5f86fc0d29\" y=\"42.666323\"/>\r\n     <use style=\"fill:#1f77b4;stroke:#1f77b4;\" x=\"129.189796\" xlink:href=\"#m5f86fc0d29\" y=\"63.691543\"/>\r\n     <use style=\"fill:#1f77b4;stroke:#1f77b4;\" x=\"149.987459\" xlink:href=\"#m5f86fc0d29\" y=\"66.139762\"/>\r\n     <use style=\"fill:#1f77b4;stroke:#1f77b4;\" x=\"135.362726\" xlink:href=\"#m5f86fc0d29\" y=\"78.571506\"/>\r\n     <use style=\"fill:#1f77b4;stroke:#1f77b4;\" x=\"84.85708\" xlink:href=\"#m5f86fc0d29\" y=\"91.92279\"/>\r\n     <use style=\"fill:#1f77b4;stroke:#1f77b4;\" x=\"109.18972\" xlink:href=\"#m5f86fc0d29\" y=\"74.034855\"/>\r\n     <use style=\"fill:#1f77b4;stroke:#1f77b4;\" x=\"105.748399\" xlink:href=\"#m5f86fc0d29\" y=\"84.474614\"/>\r\n     <use style=\"fill:#1f77b4;stroke:#1f77b4;\" x=\"91.500699\" xlink:href=\"#m5f86fc0d29\" y=\"88.418238\"/>\r\n     <use style=\"fill:#1f77b4;stroke:#1f77b4;\" x=\"110.944636\" xlink:href=\"#m5f86fc0d29\" y=\"72.030664\"/>\r\n     <use style=\"fill:#1f77b4;stroke:#1f77b4;\" x=\"41.978823\" xlink:href=\"#m5f86fc0d29\" y=\"127.054744\"/>\r\n     <use style=\"fill:#1f77b4;stroke:#1f77b4;\" x=\"195.241852\" xlink:href=\"#m5f86fc0d29\" y=\"20.850949\"/>\r\n     <use style=\"fill:#1f77b4;stroke:#1f77b4;\" x=\"117.442118\" xlink:href=\"#m5f86fc0d29\" y=\"60.75709\"/>\r\n     <use style=\"fill:#1f77b4;stroke:#1f77b4;\" x=\"157.885999\" xlink:href=\"#m5f86fc0d29\" y=\"41.170507\"/>\r\n     <use style=\"fill:#1f77b4;stroke:#1f77b4;\" x=\"119.354812\" xlink:href=\"#m5f86fc0d29\" y=\"64.236039\"/>\r\n     <use style=\"fill:#1f77b4;stroke:#1f77b4;\" x=\"74.084524\" xlink:href=\"#m5f86fc0d29\" y=\"97.968912\"/>\r\n     <use style=\"fill:#1f77b4;stroke:#1f77b4;\" x=\"100.614436\" xlink:href=\"#m5f86fc0d29\" y=\"85.402609\"/>\r\n     <use style=\"fill:#1f77b4;stroke:#1f77b4;\" x=\"167.513987\" xlink:href=\"#m5f86fc0d29\" y=\"40.897194\"/>\r\n     <use style=\"fill:#1f77b4;stroke:#1f77b4;\" x=\"132.96027\" xlink:href=\"#m5f86fc0d29\" y=\"62.563334\"/>\r\n     <use style=\"fill:#1f77b4;stroke:#1f77b4;\" x=\"105.516398\" xlink:href=\"#m5f86fc0d29\" y=\"85.116902\"/>\r\n     <use style=\"fill:#1f77b4;stroke:#1f77b4;\" x=\"102.093134\" xlink:href=\"#m5f86fc0d29\" y=\"91.77339\"/>\r\n     <use style=\"fill:#1f77b4;stroke:#1f77b4;\" x=\"157.89898\" xlink:href=\"#m5f86fc0d29\" y=\"47.727916\"/>\r\n     <use style=\"fill:#1f77b4;stroke:#1f77b4;\" x=\"147.209938\" xlink:href=\"#m5f86fc0d29\" y=\"49.828694\"/>\r\n     <use style=\"fill:#1f77b4;stroke:#1f77b4;\" x=\"158.321067\" xlink:href=\"#m5f86fc0d29\" y=\"42.711888\"/>\r\n     <use style=\"fill:#1f77b4;stroke:#1f77b4;\" x=\"171.207683\" xlink:href=\"#m5f86fc0d29\" y=\"13.377273\"/>\r\n     <use style=\"fill:#1f77b4;stroke:#1f77b4;\" x=\"135.241082\" xlink:href=\"#m5f86fc0d29\" y=\"63.332467\"/>\r\n     <use style=\"fill:#1f77b4;stroke:#1f77b4;\" x=\"215.364915\" xlink:href=\"#m5f86fc0d29\" y=\"13.721331\"/>\r\n     <use style=\"fill:#1f77b4;stroke:#1f77b4;\" x=\"155.532777\" xlink:href=\"#m5f86fc0d29\" y=\"45.178419\"/>\r\n     <use style=\"fill:#1f77b4;stroke:#1f77b4;\" x=\"95.546976\" xlink:href=\"#m5f86fc0d29\" y=\"88.270849\"/>\r\n     <use style=\"fill:#1f77b4;stroke:#1f77b4;\" x=\"117.169539\" xlink:href=\"#m5f86fc0d29\" y=\"83.972054\"/>\r\n     <use style=\"fill:#1f77b4;stroke:#1f77b4;\" x=\"143.076524\" xlink:href=\"#m5f86fc0d29\" y=\"46.057258\"/>\r\n     <use style=\"fill:#1f77b4;stroke:#1f77b4;\" x=\"104.320122\" xlink:href=\"#m5f86fc0d29\" y=\"92.003279\"/>\r\n     <use style=\"fill:#1f77b4;stroke:#1f77b4;\" x=\"83.275583\" xlink:href=\"#m5f86fc0d29\" y=\"97.373166\"/>\r\n     <use style=\"fill:#1f77b4;stroke:#1f77b4;\" x=\"71.381423\" xlink:href=\"#m5f86fc0d29\" y=\"102.912564\"/>\r\n     <use style=\"fill:#1f77b4;stroke:#1f77b4;\" x=\"154.628377\" xlink:href=\"#m5f86fc0d29\" y=\"42.964228\"/>\r\n     <use style=\"fill:#1f77b4;stroke:#1f77b4;\" x=\"178.483941\" xlink:href=\"#m5f86fc0d29\" y=\"39.531288\"/>\r\n     <use style=\"fill:#1f77b4;stroke:#1f77b4;\" x=\"193.743059\" xlink:href=\"#m5f86fc0d29\" y=\"21.611394\"/>\r\n     <use style=\"fill:#1f77b4;stroke:#1f77b4;\" x=\"124.154607\" xlink:href=\"#m5f86fc0d29\" y=\"78.888061\"/>\r\n     <use style=\"fill:#1f77b4;stroke:#1f77b4;\" x=\"193.2927\" xlink:href=\"#m5f86fc0d29\" y=\"16.008238\"/>\r\n     <use style=\"fill:#1f77b4;stroke:#1f77b4;\" x=\"143.998721\" xlink:href=\"#m5f86fc0d29\" y=\"62.457841\"/>\r\n     <use style=\"fill:#1f77b4;stroke:#1f77b4;\" x=\"113.235992\" xlink:href=\"#m5f86fc0d29\" y=\"67.980767\"/>\r\n     <use style=\"fill:#1f77b4;stroke:#1f77b4;\" x=\"105.158009\" xlink:href=\"#m5f86fc0d29\" y=\"89.587524\"/>\r\n     <use style=\"fill:#1f77b4;stroke:#1f77b4;\" x=\"54.969427\" xlink:href=\"#m5f86fc0d29\" y=\"119.420443\"/>\r\n     <use style=\"fill:#1f77b4;stroke:#1f77b4;\" x=\"94.795327\" xlink:href=\"#m5f86fc0d29\" y=\"111.112559\"/>\r\n     <use style=\"fill:#1f77b4;stroke:#1f77b4;\" x=\"82.245495\" xlink:href=\"#m5f86fc0d29\" y=\"103.303759\"/>\r\n     <use style=\"fill:#1f77b4;stroke:#1f77b4;\" x=\"82.673302\" xlink:href=\"#m5f86fc0d29\" y=\"85.355292\"/>\r\n     <use style=\"fill:#1f77b4;stroke:#1f77b4;\" x=\"93.857507\" xlink:href=\"#m5f86fc0d29\" y=\"79.463019\"/>\r\n     <use style=\"fill:#1f77b4;stroke:#1f77b4;\" x=\"82.83144\" xlink:href=\"#m5f86fc0d29\" y=\"93.612222\"/>\r\n     <use style=\"fill:#1f77b4;stroke:#1f77b4;\" x=\"38.449532\" xlink:href=\"#m5f86fc0d29\" y=\"134.154706\"/>\r\n     <use style=\"fill:#1f77b4;stroke:#1f77b4;\" x=\"100.063818\" xlink:href=\"#m5f86fc0d29\" y=\"82.928164\"/>\r\n     <use style=\"fill:#1f77b4;stroke:#1f77b4;\" x=\"111.183636\" xlink:href=\"#m5f86fc0d29\" y=\"63.001134\"/>\r\n     <use style=\"fill:#1f77b4;stroke:#1f77b4;\" x=\"100.394553\" xlink:href=\"#m5f86fc0d29\" y=\"77.160566\"/>\r\n     <use style=\"fill:#1f77b4;stroke:#1f77b4;\" x=\"158.370519\" xlink:href=\"#m5f86fc0d29\" y=\"47.587076\"/>\r\n     <use style=\"fill:#1f77b4;stroke:#1f77b4;\" x=\"150.049244\" xlink:href=\"#m5f86fc0d29\" y=\"41.910471\"/>\r\n     <use style=\"fill:#1f77b4;stroke:#1f77b4;\" x=\"126.975788\" xlink:href=\"#m5f86fc0d29\" y=\"68.308557\"/>\r\n     <use style=\"fill:#1f77b4;stroke:#1f77b4;\" x=\"100.450197\" xlink:href=\"#m5f86fc0d29\" y=\"91.256524\"/>\r\n     <use style=\"fill:#1f77b4;stroke:#1f77b4;\" x=\"112.491531\" xlink:href=\"#m5f86fc0d29\" y=\"101.073875\"/>\r\n     <use style=\"fill:#1f77b4;stroke:#1f77b4;\" x=\"37.81946\" xlink:href=\"#m5f86fc0d29\" y=\"136.922727\"/>\r\n     <use style=\"fill:#1f77b4;stroke:#1f77b4;\" x=\"158.76344\" xlink:href=\"#m5f86fc0d29\" y=\"33.160413\"/>\r\n     <use style=\"fill:#1f77b4;stroke:#1f77b4;\" x=\"60.684698\" xlink:href=\"#m5f86fc0d29\" y=\"107.407377\"/>\r\n     <use style=\"fill:#1f77b4;stroke:#1f77b4;\" x=\"141.775538\" xlink:href=\"#m5f86fc0d29\" y=\"50.795573\"/>\r\n     <use style=\"fill:#1f77b4;stroke:#1f77b4;\" x=\"193.676765\" xlink:href=\"#m5f86fc0d29\" y=\"35.781423\"/>\r\n     <use style=\"fill:#1f77b4;stroke:#1f77b4;\" x=\"107.256642\" xlink:href=\"#m5f86fc0d29\" y=\"78.188538\"/>\r\n     <use style=\"fill:#1f77b4;stroke:#1f77b4;\" x=\"59.91727\" xlink:href=\"#m5f86fc0d29\" y=\"120.555373\"/>\r\n     <use style=\"fill:#1f77b4;stroke:#1f77b4;\" x=\"168.399687\" xlink:href=\"#m5f86fc0d29\" y=\"44.98129\"/>\r\n     <use style=\"fill:#1f77b4;stroke:#1f77b4;\" x=\"148.121319\" xlink:href=\"#m5f86fc0d29\" y=\"38.680515\"/>\r\n     <use style=\"fill:#1f77b4;stroke:#1f77b4;\" x=\"87.528393\" xlink:href=\"#m5f86fc0d29\" y=\"94.89504\"/>\r\n     <use style=\"fill:#1f77b4;stroke:#1f77b4;\" x=\"121.429994\" xlink:href=\"#m5f86fc0d29\" y=\"83.402712\"/>\r\n     <use style=\"fill:#1f77b4;stroke:#1f77b4;\" x=\"114.094373\" xlink:href=\"#m5f86fc0d29\" y=\"88.778162\"/>\r\n     <use style=\"fill:#1f77b4;stroke:#1f77b4;\" x=\"177.122006\" xlink:href=\"#m5f86fc0d29\" y=\"39.889596\"/>\r\n     <use style=\"fill:#1f77b4;stroke:#1f77b4;\" x=\"98.548562\" xlink:href=\"#m5f86fc0d29\" y=\"92.467199\"/>\r\n     <use style=\"fill:#1f77b4;stroke:#1f77b4;\" x=\"158.185837\" xlink:href=\"#m5f86fc0d29\" y=\"35.139331\"/>\r\n     <use style=\"fill:#1f77b4;stroke:#1f77b4;\" x=\"123.790486\" xlink:href=\"#m5f86fc0d29\" y=\"69.244143\"/>\r\n     <use style=\"fill:#1f77b4;stroke:#1f77b4;\" x=\"61.163022\" xlink:href=\"#m5f86fc0d29\" y=\"103.794676\"/>\r\n     <use style=\"fill:#1f77b4;stroke:#1f77b4;\" x=\"102.224513\" xlink:href=\"#m5f86fc0d29\" y=\"86.810658\"/>\r\n     <use style=\"fill:#1f77b4;stroke:#1f77b4;\" x=\"85.204065\" xlink:href=\"#m5f86fc0d29\" y=\"93.292083\"/>\r\n     <use style=\"fill:#1f77b4;stroke:#1f77b4;\" x=\"102.253677\" xlink:href=\"#m5f86fc0d29\" y=\"69.77585\"/>\r\n     <use style=\"fill:#1f77b4;stroke:#1f77b4;\" x=\"121.811609\" xlink:href=\"#m5f86fc0d29\" y=\"74.773305\"/>\r\n     <use style=\"fill:#1f77b4;stroke:#1f77b4;\" x=\"97.353138\" xlink:href=\"#m5f86fc0d29\" y=\"93.138356\"/>\r\n     <use style=\"fill:#1f77b4;stroke:#1f77b4;\" x=\"106.442631\" xlink:href=\"#m5f86fc0d29\" y=\"82.3728\"/>\r\n     <use style=\"fill:#1f77b4;stroke:#1f77b4;\" x=\"68.880123\" xlink:href=\"#m5f86fc0d29\" y=\"103.495814\"/>\r\n     <use style=\"fill:#1f77b4;stroke:#1f77b4;\" x=\"75.816329\" xlink:href=\"#m5f86fc0d29\" y=\"95.990254\"/>\r\n     <use style=\"fill:#1f77b4;stroke:#1f77b4;\" x=\"124.786967\" xlink:href=\"#m5f86fc0d29\" y=\"61.436145\"/>\r\n     <use style=\"fill:#1f77b4;stroke:#1f77b4;\" x=\"100.235016\" xlink:href=\"#m5f86fc0d29\" y=\"87.080145\"/>\r\n    </g>\r\n   </g>\r\n   <g id=\"matplotlib.axis_1\">\r\n    <g id=\"xtick_1\">\r\n     <g id=\"line2d_1\">\r\n      <defs>\r\n       <path d=\"M 0 0 \r\nL 0 3.5 \r\n\" id=\"m95428d3cb7\" style=\"stroke:#000000;stroke-width:0.8;\"/>\r\n      </defs>\r\n      <g>\r\n       <use style=\"stroke:#000000;stroke-width:0.8;\" x=\"45.722568\" xlink:href=\"#m95428d3cb7\" y=\"143.1\"/>\r\n      </g>\r\n     </g>\r\n     <g id=\"text_1\">\r\n      <!-- −1 -->\r\n      <g transform=\"translate(38.351474 157.698438)scale(0.1 -0.1)\">\r\n       <defs>\r\n        <path d=\"M 10.59375 35.5 \r\nL 73.1875 35.5 \r\nL 73.1875 27.203125 \r\nL 10.59375 27.203125 \r\nz\r\n\" id=\"DejaVuSans-8722\"/>\r\n        <path d=\"M 12.40625 8.296875 \r\nL 28.515625 8.296875 \r\nL 28.515625 63.921875 \r\nL 10.984375 60.40625 \r\nL 10.984375 69.390625 \r\nL 28.421875 72.90625 \r\nL 38.28125 72.90625 \r\nL 38.28125 8.296875 \r\nL 54.390625 8.296875 \r\nL 54.390625 0 \r\nL 12.40625 0 \r\nz\r\n\" id=\"DejaVuSans-49\"/>\r\n       </defs>\r\n       <use xlink:href=\"#DejaVuSans-8722\"/>\r\n       <use x=\"83.789062\" xlink:href=\"#DejaVuSans-49\"/>\r\n      </g>\r\n     </g>\r\n    </g>\r\n    <g id=\"xtick_2\">\r\n     <g id=\"line2d_2\">\r\n      <g>\r\n       <use style=\"stroke:#000000;stroke-width:0.8;\" x=\"81.471596\" xlink:href=\"#m95428d3cb7\" y=\"143.1\"/>\r\n      </g>\r\n     </g>\r\n     <g id=\"text_2\">\r\n      <!-- 0 -->\r\n      <g transform=\"translate(78.290346 157.698438)scale(0.1 -0.1)\">\r\n       <defs>\r\n        <path d=\"M 31.78125 66.40625 \r\nQ 24.171875 66.40625 20.328125 58.90625 \r\nQ 16.5 51.421875 16.5 36.375 \r\nQ 16.5 21.390625 20.328125 13.890625 \r\nQ 24.171875 6.390625 31.78125 6.390625 \r\nQ 39.453125 6.390625 43.28125 13.890625 \r\nQ 47.125 21.390625 47.125 36.375 \r\nQ 47.125 51.421875 43.28125 58.90625 \r\nQ 39.453125 66.40625 31.78125 66.40625 \r\nz\r\nM 31.78125 74.21875 \r\nQ 44.046875 74.21875 50.515625 64.515625 \r\nQ 56.984375 54.828125 56.984375 36.375 \r\nQ 56.984375 17.96875 50.515625 8.265625 \r\nQ 44.046875 -1.421875 31.78125 -1.421875 \r\nQ 19.53125 -1.421875 13.0625 8.265625 \r\nQ 6.59375 17.96875 6.59375 36.375 \r\nQ 6.59375 54.828125 13.0625 64.515625 \r\nQ 19.53125 74.21875 31.78125 74.21875 \r\nz\r\n\" id=\"DejaVuSans-48\"/>\r\n       </defs>\r\n       <use xlink:href=\"#DejaVuSans-48\"/>\r\n      </g>\r\n     </g>\r\n    </g>\r\n    <g id=\"xtick_3\">\r\n     <g id=\"line2d_3\">\r\n      <g>\r\n       <use style=\"stroke:#000000;stroke-width:0.8;\" x=\"117.220625\" xlink:href=\"#m95428d3cb7\" y=\"143.1\"/>\r\n      </g>\r\n     </g>\r\n     <g id=\"text_3\">\r\n      <!-- 1 -->\r\n      <g transform=\"translate(114.039375 157.698438)scale(0.1 -0.1)\">\r\n       <use xlink:href=\"#DejaVuSans-49\"/>\r\n      </g>\r\n     </g>\r\n    </g>\r\n    <g id=\"xtick_4\">\r\n     <g id=\"line2d_4\">\r\n      <g>\r\n       <use style=\"stroke:#000000;stroke-width:0.8;\" x=\"152.969653\" xlink:href=\"#m95428d3cb7\" y=\"143.1\"/>\r\n      </g>\r\n     </g>\r\n     <g id=\"text_4\">\r\n      <!-- 2 -->\r\n      <g transform=\"translate(149.788403 157.698438)scale(0.1 -0.1)\">\r\n       <defs>\r\n        <path d=\"M 19.1875 8.296875 \r\nL 53.609375 8.296875 \r\nL 53.609375 0 \r\nL 7.328125 0 \r\nL 7.328125 8.296875 \r\nQ 12.9375 14.109375 22.625 23.890625 \r\nQ 32.328125 33.6875 34.8125 36.53125 \r\nQ 39.546875 41.84375 41.421875 45.53125 \r\nQ 43.3125 49.21875 43.3125 52.78125 \r\nQ 43.3125 58.59375 39.234375 62.25 \r\nQ 35.15625 65.921875 28.609375 65.921875 \r\nQ 23.96875 65.921875 18.8125 64.3125 \r\nQ 13.671875 62.703125 7.8125 59.421875 \r\nL 7.8125 69.390625 \r\nQ 13.765625 71.78125 18.9375 73 \r\nQ 24.125 74.21875 28.421875 74.21875 \r\nQ 39.75 74.21875 46.484375 68.546875 \r\nQ 53.21875 62.890625 53.21875 53.421875 \r\nQ 53.21875 48.921875 51.53125 44.890625 \r\nQ 49.859375 40.875 45.40625 35.40625 \r\nQ 44.1875 33.984375 37.640625 27.21875 \r\nQ 31.109375 20.453125 19.1875 8.296875 \r\nz\r\n\" id=\"DejaVuSans-50\"/>\r\n       </defs>\r\n       <use xlink:href=\"#DejaVuSans-50\"/>\r\n      </g>\r\n     </g>\r\n    </g>\r\n    <g id=\"xtick_5\">\r\n     <g id=\"line2d_5\">\r\n      <g>\r\n       <use style=\"stroke:#000000;stroke-width:0.8;\" x=\"188.718682\" xlink:href=\"#m95428d3cb7\" y=\"143.1\"/>\r\n      </g>\r\n     </g>\r\n     <g id=\"text_5\">\r\n      <!-- 3 -->\r\n      <g transform=\"translate(185.537432 157.698438)scale(0.1 -0.1)\">\r\n       <defs>\r\n        <path d=\"M 40.578125 39.3125 \r\nQ 47.65625 37.796875 51.625 33 \r\nQ 55.609375 28.21875 55.609375 21.1875 \r\nQ 55.609375 10.40625 48.1875 4.484375 \r\nQ 40.765625 -1.421875 27.09375 -1.421875 \r\nQ 22.515625 -1.421875 17.65625 -0.515625 \r\nQ 12.796875 0.390625 7.625 2.203125 \r\nL 7.625 11.71875 \r\nQ 11.71875 9.328125 16.59375 8.109375 \r\nQ 21.484375 6.890625 26.8125 6.890625 \r\nQ 36.078125 6.890625 40.9375 10.546875 \r\nQ 45.796875 14.203125 45.796875 21.1875 \r\nQ 45.796875 27.640625 41.28125 31.265625 \r\nQ 36.765625 34.90625 28.71875 34.90625 \r\nL 20.21875 34.90625 \r\nL 20.21875 43.015625 \r\nL 29.109375 43.015625 \r\nQ 36.375 43.015625 40.234375 45.921875 \r\nQ 44.09375 48.828125 44.09375 54.296875 \r\nQ 44.09375 59.90625 40.109375 62.90625 \r\nQ 36.140625 65.921875 28.71875 65.921875 \r\nQ 24.65625 65.921875 20.015625 65.03125 \r\nQ 15.375 64.15625 9.8125 62.3125 \r\nL 9.8125 71.09375 \r\nQ 15.4375 72.65625 20.34375 73.4375 \r\nQ 25.25 74.21875 29.59375 74.21875 \r\nQ 40.828125 74.21875 47.359375 69.109375 \r\nQ 53.90625 64.015625 53.90625 55.328125 \r\nQ 53.90625 49.265625 50.4375 45.09375 \r\nQ 46.96875 40.921875 40.578125 39.3125 \r\nz\r\n\" id=\"DejaVuSans-51\"/>\r\n       </defs>\r\n       <use xlink:href=\"#DejaVuSans-51\"/>\r\n      </g>\r\n     </g>\r\n    </g>\r\n   </g>\r\n   <g id=\"matplotlib.axis_2\">\r\n    <g id=\"ytick_1\">\r\n     <g id=\"line2d_6\">\r\n      <defs>\r\n       <path d=\"M 0 0 \r\nL -3.5 0 \r\n\" id=\"m937122c98c\" style=\"stroke:#000000;stroke-width:0.8;\"/>\r\n      </defs>\r\n      <g>\r\n       <use style=\"stroke:#000000;stroke-width:0.8;\" x=\"28.942188\" xlink:href=\"#m937122c98c\" y=\"123.117236\"/>\r\n      </g>\r\n     </g>\r\n     <g id=\"text_6\">\r\n      <!-- −2 -->\r\n      <g transform=\"translate(7.2 126.916455)scale(0.1 -0.1)\">\r\n       <use xlink:href=\"#DejaVuSans-8722\"/>\r\n       <use x=\"83.789062\" xlink:href=\"#DejaVuSans-50\"/>\r\n      </g>\r\n     </g>\r\n    </g>\r\n    <g id=\"ytick_2\">\r\n     <g id=\"line2d_7\">\r\n      <g>\r\n       <use style=\"stroke:#000000;stroke-width:0.8;\" x=\"28.942188\" xlink:href=\"#m937122c98c\" y=\"98.510979\"/>\r\n      </g>\r\n     </g>\r\n     <g id=\"text_7\">\r\n      <!-- 0 -->\r\n      <g transform=\"translate(15.579688 102.310198)scale(0.1 -0.1)\">\r\n       <use xlink:href=\"#DejaVuSans-48\"/>\r\n      </g>\r\n     </g>\r\n    </g>\r\n    <g id=\"ytick_3\">\r\n     <g id=\"line2d_8\">\r\n      <g>\r\n       <use style=\"stroke:#000000;stroke-width:0.8;\" x=\"28.942188\" xlink:href=\"#m937122c98c\" y=\"73.904723\"/>\r\n      </g>\r\n     </g>\r\n     <g id=\"text_8\">\r\n      <!-- 2 -->\r\n      <g transform=\"translate(15.579688 77.703941)scale(0.1 -0.1)\">\r\n       <use xlink:href=\"#DejaVuSans-50\"/>\r\n      </g>\r\n     </g>\r\n    </g>\r\n    <g id=\"ytick_4\">\r\n     <g id=\"line2d_9\">\r\n      <g>\r\n       <use style=\"stroke:#000000;stroke-width:0.8;\" x=\"28.942188\" xlink:href=\"#m937122c98c\" y=\"49.298466\"/>\r\n      </g>\r\n     </g>\r\n     <g id=\"text_9\">\r\n      <!-- 4 -->\r\n      <g transform=\"translate(15.579688 53.097685)scale(0.1 -0.1)\">\r\n       <defs>\r\n        <path d=\"M 37.796875 64.3125 \r\nL 12.890625 25.390625 \r\nL 37.796875 25.390625 \r\nz\r\nM 35.203125 72.90625 \r\nL 47.609375 72.90625 \r\nL 47.609375 25.390625 \r\nL 58.015625 25.390625 \r\nL 58.015625 17.1875 \r\nL 47.609375 17.1875 \r\nL 47.609375 0 \r\nL 37.796875 0 \r\nL 37.796875 17.1875 \r\nL 4.890625 17.1875 \r\nL 4.890625 26.703125 \r\nz\r\n\" id=\"DejaVuSans-52\"/>\r\n       </defs>\r\n       <use xlink:href=\"#DejaVuSans-52\"/>\r\n      </g>\r\n     </g>\r\n    </g>\r\n    <g id=\"ytick_5\">\r\n     <g id=\"line2d_10\">\r\n      <g>\r\n       <use style=\"stroke:#000000;stroke-width:0.8;\" x=\"28.942188\" xlink:href=\"#m937122c98c\" y=\"24.692209\"/>\r\n      </g>\r\n     </g>\r\n     <g id=\"text_10\">\r\n      <!-- 6 -->\r\n      <g transform=\"translate(15.579688 28.491428)scale(0.1 -0.1)\">\r\n       <defs>\r\n        <path d=\"M 33.015625 40.375 \r\nQ 26.375 40.375 22.484375 35.828125 \r\nQ 18.609375 31.296875 18.609375 23.390625 \r\nQ 18.609375 15.53125 22.484375 10.953125 \r\nQ 26.375 6.390625 33.015625 6.390625 \r\nQ 39.65625 6.390625 43.53125 10.953125 \r\nQ 47.40625 15.53125 47.40625 23.390625 \r\nQ 47.40625 31.296875 43.53125 35.828125 \r\nQ 39.65625 40.375 33.015625 40.375 \r\nz\r\nM 52.59375 71.296875 \r\nL 52.59375 62.3125 \r\nQ 48.875 64.0625 45.09375 64.984375 \r\nQ 41.3125 65.921875 37.59375 65.921875 \r\nQ 27.828125 65.921875 22.671875 59.328125 \r\nQ 17.53125 52.734375 16.796875 39.40625 \r\nQ 19.671875 43.65625 24.015625 45.921875 \r\nQ 28.375 48.1875 33.59375 48.1875 \r\nQ 44.578125 48.1875 50.953125 41.515625 \r\nQ 57.328125 34.859375 57.328125 23.390625 \r\nQ 57.328125 12.15625 50.6875 5.359375 \r\nQ 44.046875 -1.421875 33.015625 -1.421875 \r\nQ 20.359375 -1.421875 13.671875 8.265625 \r\nQ 6.984375 17.96875 6.984375 36.375 \r\nQ 6.984375 53.65625 15.1875 63.9375 \r\nQ 23.390625 74.21875 37.203125 74.21875 \r\nQ 40.921875 74.21875 44.703125 73.484375 \r\nQ 48.484375 72.75 52.59375 71.296875 \r\nz\r\n\" id=\"DejaVuSans-54\"/>\r\n       </defs>\r\n       <use xlink:href=\"#DejaVuSans-54\"/>\r\n      </g>\r\n     </g>\r\n    </g>\r\n   </g>\r\n   <g id=\"patch_3\">\r\n    <path d=\"M 28.942188 143.1 \r\nL 28.942188 7.2 \r\n\" style=\"fill:none;stroke:#000000;stroke-linecap:square;stroke-linejoin:miter;stroke-width:0.8;\"/>\r\n   </g>\r\n   <g id=\"patch_4\">\r\n    <path d=\"M 224.242188 143.1 \r\nL 224.242188 7.2 \r\n\" style=\"fill:none;stroke:#000000;stroke-linecap:square;stroke-linejoin:miter;stroke-width:0.8;\"/>\r\n   </g>\r\n   <g id=\"patch_5\">\r\n    <path d=\"M 28.942187 143.1 \r\nL 224.242188 143.1 \r\n\" style=\"fill:none;stroke:#000000;stroke-linecap:square;stroke-linejoin:miter;stroke-width:0.8;\"/>\r\n   </g>\r\n   <g id=\"patch_6\">\r\n    <path d=\"M 28.942187 7.2 \r\nL 224.242188 7.2 \r\n\" style=\"fill:none;stroke:#000000;stroke-linecap:square;stroke-linejoin:miter;stroke-width:0.8;\"/>\r\n   </g>\r\n  </g>\r\n </g>\r\n <defs>\r\n  <clipPath id=\"pa2c18fbee3\">\r\n   <rect height=\"135.9\" width=\"195.3\" x=\"28.942188\" y=\"7.2\"/>\r\n  </clipPath>\r\n </defs>\r\n</svg>\r\n"
     },
     "metadata": {
      "needs_background": "light"
     }
    }
   ],
   "source": [
    "d2l.set_figsize()\n",
    "d2l.plt.scatter(d2l.numpy(data[:100, 0]), d2l.numpy(data[:100, 1]));\n",
    "print(f'The covariance matrix is\\n{d2l.matmul(tf.transpose(A), A)}')"
   ]
  },
  {
   "cell_type": "code",
   "execution_count": 5,
   "metadata": {},
   "outputs": [],
   "source": [
    "batch_size = 8\n",
    "data_iter = d2l.load_array((data,), batch_size)"
   ]
  },
  {
   "cell_type": "markdown",
   "metadata": {},
   "source": [
    "https://learning.oreilly.com/library/view/hands-on-generative-adversarial/9781789538205/e5a3d881-308a-4971-a086-9ae66bcdab38.xhtml"
   ]
  },
  {
   "cell_type": "code",
   "execution_count": 6,
   "metadata": {
    "tags": []
   },
   "outputs": [],
   "source": [
    "net_G = tf.keras.Sequential()\n",
    "net_G.add(tf.keras.layers.Dense(2))"
   ]
  },
  {
   "cell_type": "markdown",
   "metadata": {},
   "source": [
    "tf.keras.activations.tanh(a)\n",
    "https://www.tensorflow.org/api_docs/python/tf/keras/activations/tanh\n"
   ]
  },
  {
   "cell_type": "code",
   "execution_count": 7,
   "metadata": {
    "tags": []
   },
   "outputs": [],
   "source": [
    "net_D = tf.keras.Sequential()\n",
    "net_D.add(tf.keras.layers.Dense(5, activation='tanh'))\n",
    "net_D.add(tf.keras.layers.Dense(3, activation='tanh'))\n",
    "net_D.add(tf.keras.layers.Dense(1, activation='sigmoid'))"
   ]
  },
  {
   "cell_type": "markdown",
   "metadata": {},
   "source": [
    "with tf.GradientTape() as t:\n",
    "http://preview.d2l.ai/d2l-en/master/chapter_preliminaries/autograd.html\n"
   ]
  },
  {
   "cell_type": "markdown",
   "metadata": {},
   "source": [
    "t.gradient(y, x) \n",
    "t.gradient(loss_D, trainer_D) "
   ]
  },
  {
   "cell_type": "markdown",
   "metadata": {},
   "source": [
    ".apply_gradients(zip(grads, self.generator.trainable_weights))\n",
    "https://keras.io/examples/generative/dcgan_overriding_train_step/"
   ]
  },
  {
   "cell_type": "code",
   "execution_count": 8,
   "metadata": {},
   "outputs": [],
   "source": [
    "#@save\n",
    "def update_D(X, Z, net_D, net_G, loss, trainer_D):\n",
    "    \"\"\"Update discriminator.\"\"\"\n",
    "    batch_size = tf.shape(X)[0]\n",
    "    ones = tf.ones((batch_size, ), tf.float32)\n",
    "    zeros = tf.zeros((batch_size, ), tf.float32)\n",
    "    with tf.GradientTape() as t:\n",
    "        real_Y = net_D(tf.convert_to_tensor(X))\n",
    "        fake_X = net_G(tf.convert_to_tensor(Z))\n",
    "        # Do not need to compute gradient for `net_G`, detach it from\n",
    "        # computing gradients.\n",
    "        fake_Y = net_D(tf.stop_gradient(fake_X))\n",
    "        loss_D = (loss(real_Y, ones)\n",
    "                + loss(fake_Y, zeros)) / 2\n",
    "    grads = t.gradient(loss_D, net_D.trainable_variables)\n",
    "    trainer_D.apply_gradients(zip(grads, net_D.trainable_weights))\n",
    "    return float(loss_D)"
   ]
  },
  {
   "cell_type": "markdown",
   "metadata": {},
   "source": [
    "https://www.tensorflow.org/api_docs/python/tf/reshape"
   ]
  },
  {
   "cell_type": "code",
   "execution_count": 9,
   "metadata": {},
   "outputs": [],
   "source": [
    "#@save\n",
    "def update_G(Z, net_D, net_G, loss, trainer_G):\n",
    "    \"\"\"Update generator.\"\"\"\n",
    "    batch_size = tf.shape(Z)[0]\n",
    "    ones = tf.ones((batch_size, ), tf.float32)\n",
    "    with tf.GradientTape() as t:\n",
    "        # We could reuse `fake_X` from `update_D` to save computation\n",
    "        fake_X = net_G(tf.convert_to_tensor(Z))\n",
    "        # Recomputing `fake_Y` is needed since `net_D` is changed\n",
    "        fake_Y = net_D(fake_X)\n",
    "        loss_G = loss(fake_Y, ones)\n",
    "    grads = t.gradient(loss_G, net_G.trainable_variables) \n",
    "    trainer_G.apply_gradients(zip(grads, net_G.trainable_weights))\n",
    "    return float(loss_G)"
   ]
  },
  {
   "cell_type": "markdown",
   "metadata": {},
   "source": [
    "https://www.google.com/search?q=numpy()+tensorflow&rlz=1C1GCEA_enJP909HK909&oq=numpy()+tensorflow&aqs=chrome..69i57j0l7.2792j0j1&sourceid=chrome&ie=UTF-8"
   ]
  },
  {
   "cell_type": "markdown",
   "metadata": {},
   "source": [
    "https://www.tensorflow.org/api_docs/python/tf/keras/optimizers/Adam\n",
    "tf.keras.optimizers.Adam(learning_rate=0.1)\n",
    "m.compile\n",
    "m = tf.keras.models.Sequential([tf.keras.layers.Dense(10)])\n",
    "m.compile(opt, loss='mse')"
   ]
  },
  {
   "cell_type": "markdown",
   "metadata": {},
   "source": [
    "https://stackoverflow.com/questions/55683729/bcewithlogitsloss-in-keras\n",
    "https://www.tensorflow.org/api_docs/python/tf/keras/losses/BinaryCrossentropy\n"
   ]
  },
  {
   "cell_type": "markdown",
   "metadata": {},
   "source": [
    "def weight_variable(shape, w=0.1):\n",
    "  initial = tf.truncated_normal(shape, stddev=w)\n",
    "  return tf.Variable(initial)\n",
    "  https://stackoverflow.com/questions/43489697/tensorflow-weight-initialization\n",
    "\n",
    "  The values generated are similar to values from a tf.keras.initializers.RandomNormal initializer except that values more than two standard deviations from the mean are discarded and re-drawn.\n",
    "  https://keras.io/api/layers/initializers/"
   ]
  },
  {
   "cell_type": "markdown",
   "metadata": {},
   "source": [
    "tf.Variable(initial_value=w_init(\n",
    "            shape=(input_dim, unit), dtype=tf.float32), trainable=True)\n",
    "            https://zhuanlan.zhihu.com/p/59481536"
   ]
  },
  {
   "cell_type": "markdown",
   "metadata": {},
   "source": [
    "https://keras.io/api/layers/initializers/"
   ]
  },
  {
   "cell_type": "markdown",
   "metadata": {},
   "source": [
    "numpy.array\n",
    "https://stackoverflow.com/questions/41198144/attributeerror-tuple-object-has-no-attribute-shape"
   ]
  },
  {
   "cell_type": "markdown",
   "metadata": {},
   "source": [
    "https://github.com/tensorflow/tensorflow/issues/29972"
   ]
  },
  {
   "cell_type": "markdown",
   "metadata": {},
   "source": [
    "tf.stop_gradient(y)\n",
    "http://preview.d2l.ai/d2l-en/master/chapter_preliminaries/autograd.html?highlight=detach"
   ]
  },
  {
   "cell_type": "markdown",
   "metadata": {},
   "source": [
    " from_logits=True 9.2.4 TensorFlow 2.0 神经网络实践"
   ]
  },
  {
   "cell_type": "code",
   "execution_count": 10,
   "metadata": {},
   "outputs": [],
   "source": [
    "def train(net_D, net_G, data_iter, num_epochs, lr_D, lr_G, latent_dim, data):\n",
    "    loss = tf.keras.losses.BinaryCrossentropy(reduction=\n",
    "                tf.keras.losses.Reduction.SUM)\n",
    "    tf.keras.initializers.RandomNormal(net_D, stddev=0.02)\n",
    "    tf.keras.initializers.RandomNormal(net_G, stddev=0.02)\n",
    "    trainer_D = net_D.compile(optimizer=tf.keras.optimizers.Adam(learning_rate=lr_D))\n",
    "    trainer_G = net_G.compile(optimizer=tf.keras.optimizers.Adam(learning_rate=lr_G))\n",
    "    animator = d2l.Animator(xlabel='epoch', ylabel='loss',\n",
    "                            xlim=[1, num_epochs], nrows=2, figsize=(5, 5),\n",
    "                            legend=['discriminator', 'generator'])\n",
    "    animator.fig.subplots_adjust(hspace=0.3)\n",
    "    for epoch in range(num_epochs):\n",
    "        # Train one epoch\n",
    "        timer = d2l.Timer()\n",
    "        metric = d2l.Accumulator(3)  # loss_D, loss_G, num_examples\n",
    "        for X in data_iter:\n",
    "            batch_size = tf.shape(X)[0]\n",
    "            Z = d2l.normal([batch_size, latent_dim], 0, 1, tf.float32)\n",
    "            metric.add(update_D(X, Z, net_D, net_G, loss, trainer_D),\n",
    "                       update_G(Z, net_D, net_G, loss, trainer_G),\n",
    "                       batch_size)\n",
    "        # Visualize generated examples\n",
    "        Z = d2l.normal([100, latent_dim], 0, 1, tf.float32)\n",
    "        fake_X = net_G(Z).numpy()\n",
    "        animator.axes[1].cla()\n",
    "        animator.axes[1].scatter(data[:, 0], data[:, 1])\n",
    "        animator.axes[1].scatter(fake_X[:, 0], fake_X[:, 1])\n",
    "        animator.axes[1].legend(['real', 'generated'])\n",
    "        # Show the losses\n",
    "        loss_D, loss_G = metric[0]/metric[2], metric[1]/metric[2]\n",
    "        animator.add(epoch + 1, (loss_D, loss_G))\n",
    "    print(f'loss_D {loss_D:.3f}, loss_G {loss_G:.3f}, '\n",
    "          f'{metric[2] / timer.stop():.1f} examples/sec')"
   ]
  },
  {
   "cell_type": "code",
   "execution_count": 11,
   "metadata": {
    "tags": []
   },
   "outputs": [
    {
     "output_type": "error",
     "ename": "AttributeError",
     "evalue": "'NoneType' object has no attribute 'apply_gradients'",
     "traceback": [
      "\u001b[1;31m---------------------------------------------------------------------------\u001b[0m",
      "\u001b[1;31mAttributeError\u001b[0m                            Traceback (most recent call last)",
      "\u001b[1;32m<ipython-input-11-251159593cac>\u001b[0m in \u001b[0;36m<module>\u001b[1;34m\u001b[0m\n\u001b[0;32m      1\u001b[0m \u001b[0mlr_D\u001b[0m\u001b[1;33m,\u001b[0m \u001b[0mlr_G\u001b[0m\u001b[1;33m,\u001b[0m \u001b[0mlatent_dim\u001b[0m\u001b[1;33m,\u001b[0m \u001b[0mnum_epochs\u001b[0m \u001b[1;33m=\u001b[0m \u001b[1;36m0.05\u001b[0m\u001b[1;33m,\u001b[0m \u001b[1;36m0.005\u001b[0m\u001b[1;33m,\u001b[0m \u001b[1;36m2\u001b[0m\u001b[1;33m,\u001b[0m \u001b[1;36m20\u001b[0m\u001b[1;33m\u001b[0m\u001b[1;33m\u001b[0m\u001b[0m\n\u001b[0;32m      2\u001b[0m train(net_D, net_G, data_iter, num_epochs, lr_D, lr_G,\n\u001b[1;32m----> 3\u001b[1;33m       latent_dim, d2l.numpy(data[:100]))\n\u001b[0m",
      "\u001b[1;32m<ipython-input-10-b61feb4df80c>\u001b[0m in \u001b[0;36mtrain\u001b[1;34m(net_D, net_G, data_iter, num_epochs, lr_D, lr_G, latent_dim, data)\u001b[0m\n\u001b[0;32m     17\u001b[0m             \u001b[0mbatch_size\u001b[0m \u001b[1;33m=\u001b[0m \u001b[0mtf\u001b[0m\u001b[1;33m.\u001b[0m\u001b[0mshape\u001b[0m\u001b[1;33m(\u001b[0m\u001b[0mX\u001b[0m\u001b[1;33m)\u001b[0m\u001b[1;33m[\u001b[0m\u001b[1;36m0\u001b[0m\u001b[1;33m]\u001b[0m\u001b[1;33m\u001b[0m\u001b[1;33m\u001b[0m\u001b[0m\n\u001b[0;32m     18\u001b[0m             \u001b[0mZ\u001b[0m \u001b[1;33m=\u001b[0m \u001b[0md2l\u001b[0m\u001b[1;33m.\u001b[0m\u001b[0mnormal\u001b[0m\u001b[1;33m(\u001b[0m\u001b[1;33m[\u001b[0m\u001b[0mbatch_size\u001b[0m\u001b[1;33m,\u001b[0m \u001b[0mlatent_dim\u001b[0m\u001b[1;33m]\u001b[0m\u001b[1;33m,\u001b[0m \u001b[1;36m0\u001b[0m\u001b[1;33m,\u001b[0m \u001b[1;36m1\u001b[0m\u001b[1;33m,\u001b[0m \u001b[0mtf\u001b[0m\u001b[1;33m.\u001b[0m\u001b[0mfloat32\u001b[0m\u001b[1;33m)\u001b[0m\u001b[1;33m\u001b[0m\u001b[1;33m\u001b[0m\u001b[0m\n\u001b[1;32m---> 19\u001b[1;33m             metric.add(update_D(X, Z, net_D, net_G, loss, trainer_D),\n\u001b[0m\u001b[0;32m     20\u001b[0m                        \u001b[0mupdate_G\u001b[0m\u001b[1;33m(\u001b[0m\u001b[0mZ\u001b[0m\u001b[1;33m,\u001b[0m \u001b[0mnet_D\u001b[0m\u001b[1;33m,\u001b[0m \u001b[0mnet_G\u001b[0m\u001b[1;33m,\u001b[0m \u001b[0mloss\u001b[0m\u001b[1;33m,\u001b[0m \u001b[0mtrainer_G\u001b[0m\u001b[1;33m)\u001b[0m\u001b[1;33m,\u001b[0m\u001b[1;33m\u001b[0m\u001b[1;33m\u001b[0m\u001b[0m\n\u001b[0;32m     21\u001b[0m                        batch_size)\n",
      "\u001b[1;32m<ipython-input-8-55e391c50b63>\u001b[0m in \u001b[0;36mupdate_D\u001b[1;34m(X, Z, net_D, net_G, loss, trainer_D)\u001b[0m\n\u001b[0;32m     14\u001b[0m                 + loss(fake_Y, zeros)) / 2\n\u001b[0;32m     15\u001b[0m     \u001b[0mgrads\u001b[0m \u001b[1;33m=\u001b[0m \u001b[0mt\u001b[0m\u001b[1;33m.\u001b[0m\u001b[0mgradient\u001b[0m\u001b[1;33m(\u001b[0m\u001b[0mloss_D\u001b[0m\u001b[1;33m,\u001b[0m \u001b[0mnet_D\u001b[0m\u001b[1;33m.\u001b[0m\u001b[0mtrainable_variables\u001b[0m\u001b[1;33m)\u001b[0m\u001b[1;33m\u001b[0m\u001b[1;33m\u001b[0m\u001b[0m\n\u001b[1;32m---> 16\u001b[1;33m     \u001b[0mtrainer_D\u001b[0m\u001b[1;33m.\u001b[0m\u001b[0mapply_gradients\u001b[0m\u001b[1;33m(\u001b[0m\u001b[0mzip\u001b[0m\u001b[1;33m(\u001b[0m\u001b[0mgrads\u001b[0m\u001b[1;33m,\u001b[0m \u001b[0mnet_D\u001b[0m\u001b[1;33m.\u001b[0m\u001b[0mtrainable_weights\u001b[0m\u001b[1;33m)\u001b[0m\u001b[1;33m)\u001b[0m\u001b[1;33m\u001b[0m\u001b[1;33m\u001b[0m\u001b[0m\n\u001b[0m\u001b[0;32m     17\u001b[0m     \u001b[1;32mreturn\u001b[0m \u001b[0mfloat\u001b[0m\u001b[1;33m(\u001b[0m\u001b[0mloss_D\u001b[0m\u001b[1;33m)\u001b[0m\u001b[1;33m\u001b[0m\u001b[1;33m\u001b[0m\u001b[0m\n",
      "\u001b[1;31mAttributeError\u001b[0m: 'NoneType' object has no attribute 'apply_gradients'"
     ]
    }
   ],
   "source": [
    "lr_D, lr_G, latent_dim, num_epochs = 0.05, 0.005, 2, 20\n",
    "train(net_D, net_G, data_iter, num_epochs, lr_D, lr_G,\n",
    "      latent_dim, d2l.numpy(data[:100]))"
   ]
  },
  {
   "cell_type": "markdown",
   "metadata": {},
   "source": [
    "https://www.tensorflow.org/api_docs/python/tf/ones"
   ]
  }
 ]
}