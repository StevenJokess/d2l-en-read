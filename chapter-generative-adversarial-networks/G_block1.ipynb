{
 "metadata": {
  "language_info": {
   "codemirror_mode": {
    "name": "ipython",
    "version": 3
   },
   "file_extension": ".py",
   "mimetype": "text/x-python",
   "name": "python",
   "nbconvert_exporter": "python",
   "pygments_lexer": "ipython3",
   "version": "3.8.3-final"
  },
  "orig_nbformat": 2,
  "kernelspec": {
   "name": "python38364bitpytorchconda70fdc7f787194f4c972bb3207dd25917",
   "display_name": "Python 3.8.3 64-bit ('pytorch': conda)"
  }
 },
 "nbformat": 4,
 "nbformat_minor": 2,
 "cells": [
  {
   "cell_type": "code",
   "execution_count": 1,
   "metadata": {},
   "outputs": [],
   "source": [
    "from d2l import torch as d2l\n",
    "import torch\n",
    "import torchvision\n",
    "from torch import nn"
   ]
  },
  {
   "cell_type": "code",
   "execution_count": 2,
   "metadata": {},
   "outputs": [],
   "source": [
    "class G_block(nn.Module):\n",
    "        def __init__(self, channels, nc=3, kernel_size=4, strides=2,\n",
    "                 padding=1, alpha=0.2, **kwargs):\n",
    "            super(G_block, self).__init__(**kwargs)\n",
    "            self.conv2d = nn.ConvTranspose2d(\n",
    "                nc, channels, kernel_size, strides, padding, bias=False)\n",
    "            self.batch_norm = nn.BatchNorm2d(channels)\n",
    "            self.activation = nn.ReLU(alpha)\n",
    "\n",
    "        def forward(self, X):\n",
    "            return self.activation(self.batch_norm(self.conv2d(X)))"
   ]
  },
  {
   "cell_type": "code",
   "execution_count": 3,
   "metadata": {},
   "outputs": [
    {
     "output_type": "execute_result",
     "data": {
      "text/plain": "torch.Size([2, 20, 32, 32])"
     },
     "metadata": {},
     "execution_count": 3
    }
   ],
   "source": [
    "x = torch.zeros((2, 3, 16, 16))\n",
    "g_blk = G_block(20)\n",
    "g_blk(x).shape"
   ]
  },
  {
   "cell_type": "code",
   "execution_count": 4,
   "metadata": {},
   "outputs": [
    {
     "output_type": "execute_result",
     "data": {
      "text/plain": "torch.Size([2, 20, 4, 4])"
     },
     "metadata": {},
     "execution_count": 4
    }
   ],
   "source": [
    "x = torch.zeros((2, 3, 1, 1))\n",
    "g_blk = G_block(20, strides=1, padding=0)\n",
    "g_blk(x).shape"
   ]
  },
  {
   "cell_type": "code",
   "execution_count": 5,
   "metadata": {},
   "outputs": [],
   "source": [
    "def Conv2DTranspose(channels, kernel_size, strides, padding, use_bias, nc=3):\n",
    "    return nn.ConvTranspose2d(nc, channels, kernel_size=kernel_size,stride=strides, padding=padding, bias=use_bias)"
   ]
  },
  {
   "cell_type": "code",
   "execution_count": 6,
   "metadata": {},
   "outputs": [],
   "source": [
    "n_G = 64\n",
    "net_G = nn.Sequential(\n",
    "    G_block(n_G*8, strides=1, padding=0),  # Output: (64 * 8, 4, 4)\n",
    "    G_block(n_G*4, n_G*8),  # Output: (64 * 4, 8, 8)\n",
    "    G_block(n_G*2, n_G*4),  # Output: (64 * 2, 16, 16)\n",
    "    G_block(n_G, n_G*2),    # Output: (64, 32, 32)\n",
    "    Conv2DTranspose(\n",
    "              3, nc=n_G, kernel_size=4, strides=2, padding=1, use_bias=False),\n",
    "    nn.Tanh()               # Output: (3, 64, 64)\n",
    ")"
   ]
  },
  {
   "cell_type": "code",
   "execution_count": 7,
   "metadata": {},
   "outputs": [
    {
     "output_type": "execute_result",
     "data": {
      "text/plain": "torch.Size([1, 3, 64, 64])"
     },
     "metadata": {},
     "execution_count": 7
    }
   ],
   "source": [
    "x = torch.zeros((1, 3, 1, 1))\n",
    "net_G(x).shape"
   ]
  },
  {
   "cell_type": "code",
   "execution_count": null,
   "metadata": {},
   "outputs": [],
   "source": []
  }
 ]
}