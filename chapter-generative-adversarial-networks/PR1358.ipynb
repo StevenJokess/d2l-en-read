{
 "metadata": {
  "language_info": {
   "codemirror_mode": {
    "name": "ipython",
    "version": 3
   },
   "file_extension": ".py",
   "mimetype": "text/x-python",
   "name": "python",
   "nbconvert_exporter": "python",
   "pygments_lexer": "ipython3",
   "version": "3.8.3-final"
  },
  "orig_nbformat": 2,
  "kernelspec": {
   "name": "python38364bitpytorchconda70fdc7f787194f4c972bb3207dd25917",
   "display_name": "Python 3.8.3 64-bit ('pytorch': conda)"
  }
 },
 "nbformat": 4,
 "nbformat_minor": 2,
 "cells": [
  {
   "cell_type": "markdown",
   "metadata": {},
   "source": [
    "https://github.com/d2l-ai/d2l-en/pull/1358"
   ]
  },
  {
   "cell_type": "code",
   "execution_count": 1,
   "metadata": {},
   "outputs": [],
   "source": [
    "%matplotlib inline\n",
    "from d2l import torch as d2l\n",
    "import torch\n",
    "from torch import nn"
   ]
  },
  {
   "cell_type": "code",
   "execution_count": 2,
   "metadata": {},
   "outputs": [],
   "source": [
    "X = torch.normal(0.0, 1, (1000, 2))\n",
    "A = torch.tensor([[1, 2], [-0.1, 0.5]])\n",
    "b = torch.tensor([1, 2])\n",
    "data = torch.mm(X, A) + b"
   ]
  },
  {
   "cell_type": "code",
   "execution_count": 3,
   "metadata": {
    "tags": []
   },
   "outputs": [
    {
     "output_type": "stream",
     "name": "stdout",
     "text": "The covariance matrix is\ntensor([[1.0100, 1.9500],\n        [1.9500, 4.2500]])\n"
    },
    {
     "output_type": "display_data",
     "data": {
      "text/plain": "<Figure size 252x180 with 1 Axes>",
      "image/svg+xml": "<?xml version=\"1.0\" encoding=\"utf-8\" standalone=\"no\"?>\r\n<!DOCTYPE svg PUBLIC \"-//W3C//DTD SVG 1.1//EN\"\r\n  \"http://www.w3.org/Graphics/SVG/1.1/DTD/svg11.dtd\">\r\n<!-- Created with matplotlib (https://matplotlib.org/) -->\r\n<svg height=\"168.408119pt\" version=\"1.1\" viewBox=\"0 0 231.442187 168.408119\" width=\"231.442187pt\" xmlns=\"http://www.w3.org/2000/svg\" xmlns:xlink=\"http://www.w3.org/1999/xlink\">\r\n <metadata>\r\n  <rdf:RDF xmlns:cc=\"http://creativecommons.org/ns#\" xmlns:dc=\"http://purl.org/dc/elements/1.1/\" xmlns:rdf=\"http://www.w3.org/1999/02/22-rdf-syntax-ns#\">\r\n   <cc:Work>\r\n    <dc:type rdf:resource=\"http://purl.org/dc/dcmitype/StillImage\"/>\r\n    <dc:date>2020-08-22T11:27:36.895438</dc:date>\r\n    <dc:format>image/svg+xml</dc:format>\r\n    <dc:creator>\r\n     <cc:Agent>\r\n      <dc:title>Matplotlib v3.3.0, https://matplotlib.org/</dc:title>\r\n     </cc:Agent>\r\n    </dc:creator>\r\n   </cc:Work>\r\n  </rdf:RDF>\r\n </metadata>\r\n <defs>\r\n  <style type=\"text/css\">*{stroke-linecap:butt;stroke-linejoin:round;}</style>\r\n </defs>\r\n <g id=\"figure_1\">\r\n  <g id=\"patch_1\">\r\n   <path d=\"M 0 168.408119 \r\nL 231.442187 168.408119 \r\nL 231.442187 0 \r\nL 0 0 \r\nz\r\n\" style=\"fill:none;\"/>\r\n  </g>\r\n  <g id=\"axes_1\">\r\n   <g id=\"patch_2\">\r\n    <path d=\"M 28.942188 144.529994 \r\nL 224.242188 144.529994 \r\nL 224.242188 8.629994 \r\nL 28.942188 8.629994 \r\nz\r\n\" style=\"fill:#ffffff;\"/>\r\n   </g>\r\n   <g id=\"PathCollection_1\">\r\n    <defs>\r\n     <path d=\"M 0 3 \r\nC 0.795609 3 1.55874 2.683901 2.12132 2.12132 \r\nC 2.683901 1.55874 3 0.795609 3 0 \r\nC 3 -0.795609 2.683901 -1.55874 2.12132 -2.12132 \r\nC 1.55874 -2.683901 0.795609 -3 0 -3 \r\nC -0.795609 -3 -1.55874 -2.683901 -2.12132 -2.12132 \r\nC -2.683901 -1.55874 -3 -0.795609 -3 0 \r\nC -3 0.795609 -2.683901 1.55874 -2.12132 2.12132 \r\nC -1.55874 2.683901 -0.795609 3 0 3 \r\nz\r\n\" id=\"m368a8a17b2\" style=\"stroke:#1f77b4;\"/>\r\n    </defs>\r\n    <g clip-path=\"url(#p523f9ecc1e)\">\r\n     <use style=\"fill:#1f77b4;stroke:#1f77b4;\" x=\"128.735884\" xlink:href=\"#m368a8a17b2\" y=\"95.031854\"/>\r\n     <use style=\"fill:#1f77b4;stroke:#1f77b4;\" x=\"155.546995\" xlink:href=\"#m368a8a17b2\" y=\"59.456653\"/>\r\n     <use style=\"fill:#1f77b4;stroke:#1f77b4;\" x=\"146.548216\" xlink:href=\"#m368a8a17b2\" y=\"61.075657\"/>\r\n     <use style=\"fill:#1f77b4;stroke:#1f77b4;\" x=\"109.603051\" xlink:href=\"#m368a8a17b2\" y=\"88.654759\"/>\r\n     <use style=\"fill:#1f77b4;stroke:#1f77b4;\" x=\"129.430413\" xlink:href=\"#m368a8a17b2\" y=\"72.948084\"/>\r\n     <use style=\"fill:#1f77b4;stroke:#1f77b4;\" x=\"78.065645\" xlink:href=\"#m368a8a17b2\" y=\"110.156913\"/>\r\n     <use style=\"fill:#1f77b4;stroke:#1f77b4;\" x=\"173.592055\" xlink:href=\"#m368a8a17b2\" y=\"55.469006\"/>\r\n     <use style=\"fill:#1f77b4;stroke:#1f77b4;\" x=\"138.306478\" xlink:href=\"#m368a8a17b2\" y=\"71.704248\"/>\r\n     <use style=\"fill:#1f77b4;stroke:#1f77b4;\" x=\"87.000371\" xlink:href=\"#m368a8a17b2\" y=\"117.016493\"/>\r\n     <use style=\"fill:#1f77b4;stroke:#1f77b4;\" x=\"114.389491\" xlink:href=\"#m368a8a17b2\" y=\"102.200151\"/>\r\n     <use style=\"fill:#1f77b4;stroke:#1f77b4;\" x=\"70.581335\" xlink:href=\"#m368a8a17b2\" y=\"134.243607\"/>\r\n     <use style=\"fill:#1f77b4;stroke:#1f77b4;\" x=\"119.393477\" xlink:href=\"#m368a8a17b2\" y=\"101.877297\"/>\r\n     <use style=\"fill:#1f77b4;stroke:#1f77b4;\" x=\"37.81946\" xlink:href=\"#m368a8a17b2\" y=\"138.352722\"/>\r\n     <use style=\"fill:#1f77b4;stroke:#1f77b4;\" x=\"99.015273\" xlink:href=\"#m368a8a17b2\" y=\"106.606314\"/>\r\n     <use style=\"fill:#1f77b4;stroke:#1f77b4;\" x=\"46.572154\" xlink:href=\"#m368a8a17b2\" y=\"134.559428\"/>\r\n     <use style=\"fill:#1f77b4;stroke:#1f77b4;\" x=\"178.226488\" xlink:href=\"#m368a8a17b2\" y=\"38.751124\"/>\r\n     <use style=\"fill:#1f77b4;stroke:#1f77b4;\" x=\"104.564076\" xlink:href=\"#m368a8a17b2\" y=\"95.854765\"/>\r\n     <use style=\"fill:#1f77b4;stroke:#1f77b4;\" x=\"177.337925\" xlink:href=\"#m368a8a17b2\" y=\"47.612029\"/>\r\n     <use style=\"fill:#1f77b4;stroke:#1f77b4;\" x=\"125.960593\" xlink:href=\"#m368a8a17b2\" y=\"82.107485\"/>\r\n     <use style=\"fill:#1f77b4;stroke:#1f77b4;\" x=\"141.254849\" xlink:href=\"#m368a8a17b2\" y=\"63.13956\"/>\r\n     <use style=\"fill:#1f77b4;stroke:#1f77b4;\" x=\"102.200459\" xlink:href=\"#m368a8a17b2\" y=\"99.381761\"/>\r\n     <use style=\"fill:#1f77b4;stroke:#1f77b4;\" x=\"88.598328\" xlink:href=\"#m368a8a17b2\" y=\"122.184349\"/>\r\n     <use style=\"fill:#1f77b4;stroke:#1f77b4;\" x=\"121.150774\" xlink:href=\"#m368a8a17b2\" y=\"74.801717\"/>\r\n     <use style=\"fill:#1f77b4;stroke:#1f77b4;\" x=\"145.662329\" xlink:href=\"#m368a8a17b2\" y=\"68.306143\"/>\r\n     <use style=\"fill:#1f77b4;stroke:#1f77b4;\" x=\"94.490239\" xlink:href=\"#m368a8a17b2\" y=\"87.519312\"/>\r\n     <use style=\"fill:#1f77b4;stroke:#1f77b4;\" x=\"187.057451\" xlink:href=\"#m368a8a17b2\" y=\"43.932259\"/>\r\n     <use style=\"fill:#1f77b4;stroke:#1f77b4;\" x=\"66.473998\" xlink:href=\"#m368a8a17b2\" y=\"122.558114\"/>\r\n     <use style=\"fill:#1f77b4;stroke:#1f77b4;\" x=\"84.343445\" xlink:href=\"#m368a8a17b2\" y=\"125.009358\"/>\r\n     <use style=\"fill:#1f77b4;stroke:#1f77b4;\" x=\"85.349666\" xlink:href=\"#m368a8a17b2\" y=\"115.966739\"/>\r\n     <use style=\"fill:#1f77b4;stroke:#1f77b4;\" x=\"128.80142\" xlink:href=\"#m368a8a17b2\" y=\"77.137165\"/>\r\n     <use style=\"fill:#1f77b4;stroke:#1f77b4;\" x=\"188.042728\" xlink:href=\"#m368a8a17b2\" y=\"35.734586\"/>\r\n     <use style=\"fill:#1f77b4;stroke:#1f77b4;\" x=\"130.709594\" xlink:href=\"#m368a8a17b2\" y=\"81.65348\"/>\r\n     <use style=\"fill:#1f77b4;stroke:#1f77b4;\" x=\"107.841918\" xlink:href=\"#m368a8a17b2\" y=\"108.506387\"/>\r\n     <use style=\"fill:#1f77b4;stroke:#1f77b4;\" x=\"87.293687\" xlink:href=\"#m368a8a17b2\" y=\"94.744837\"/>\r\n     <use style=\"fill:#1f77b4;stroke:#1f77b4;\" x=\"111.85185\" xlink:href=\"#m368a8a17b2\" y=\"87.224083\"/>\r\n     <use style=\"fill:#1f77b4;stroke:#1f77b4;\" x=\"112.951695\" xlink:href=\"#m368a8a17b2\" y=\"113.386392\"/>\r\n     <use style=\"fill:#1f77b4;stroke:#1f77b4;\" x=\"84.34751\" xlink:href=\"#m368a8a17b2\" y=\"112.501729\"/>\r\n     <use style=\"fill:#1f77b4;stroke:#1f77b4;\" x=\"122.438074\" xlink:href=\"#m368a8a17b2\" y=\"80.397702\"/>\r\n     <use style=\"fill:#1f77b4;stroke:#1f77b4;\" x=\"118.833348\" xlink:href=\"#m368a8a17b2\" y=\"88.964662\"/>\r\n     <use style=\"fill:#1f77b4;stroke:#1f77b4;\" x=\"135.222234\" xlink:href=\"#m368a8a17b2\" y=\"73.71527\"/>\r\n     <use style=\"fill:#1f77b4;stroke:#1f77b4;\" x=\"112.719384\" xlink:href=\"#m368a8a17b2\" y=\"92.964477\"/>\r\n     <use style=\"fill:#1f77b4;stroke:#1f77b4;\" x=\"101.414704\" xlink:href=\"#m368a8a17b2\" y=\"112.269258\"/>\r\n     <use style=\"fill:#1f77b4;stroke:#1f77b4;\" x=\"198.765482\" xlink:href=\"#m368a8a17b2\" y=\"43.619993\"/>\r\n     <use style=\"fill:#1f77b4;stroke:#1f77b4;\" x=\"87.116315\" xlink:href=\"#m368a8a17b2\" y=\"87.168131\"/>\r\n     <use style=\"fill:#1f77b4;stroke:#1f77b4;\" x=\"109.192087\" xlink:href=\"#m368a8a17b2\" y=\"100.507737\"/>\r\n     <use style=\"fill:#1f77b4;stroke:#1f77b4;\" x=\"165.568928\" xlink:href=\"#m368a8a17b2\" y=\"66.903671\"/>\r\n     <use style=\"fill:#1f77b4;stroke:#1f77b4;\" x=\"121.474592\" xlink:href=\"#m368a8a17b2\" y=\"94.465284\"/>\r\n     <use style=\"fill:#1f77b4;stroke:#1f77b4;\" x=\"215.364915\" xlink:href=\"#m368a8a17b2\" y=\"14.807267\"/>\r\n     <use style=\"fill:#1f77b4;stroke:#1f77b4;\" x=\"123.589761\" xlink:href=\"#m368a8a17b2\" y=\"72.294281\"/>\r\n     <use style=\"fill:#1f77b4;stroke:#1f77b4;\" x=\"168.250323\" xlink:href=\"#m368a8a17b2\" y=\"65.691409\"/>\r\n     <use style=\"fill:#1f77b4;stroke:#1f77b4;\" x=\"102.026125\" xlink:href=\"#m368a8a17b2\" y=\"112.37966\"/>\r\n     <use style=\"fill:#1f77b4;stroke:#1f77b4;\" x=\"132.757718\" xlink:href=\"#m368a8a17b2\" y=\"82.652426\"/>\r\n     <use style=\"fill:#1f77b4;stroke:#1f77b4;\" x=\"100.363383\" xlink:href=\"#m368a8a17b2\" y=\"123.596014\"/>\r\n     <use style=\"fill:#1f77b4;stroke:#1f77b4;\" x=\"152.853261\" xlink:href=\"#m368a8a17b2\" y=\"50.257094\"/>\r\n     <use style=\"fill:#1f77b4;stroke:#1f77b4;\" x=\"125.395587\" xlink:href=\"#m368a8a17b2\" y=\"80.838101\"/>\r\n     <use style=\"fill:#1f77b4;stroke:#1f77b4;\" x=\"179.607434\" xlink:href=\"#m368a8a17b2\" y=\"61.61035\"/>\r\n     <use style=\"fill:#1f77b4;stroke:#1f77b4;\" x=\"132.533111\" xlink:href=\"#m368a8a17b2\" y=\"71.240644\"/>\r\n     <use style=\"fill:#1f77b4;stroke:#1f77b4;\" x=\"137.649756\" xlink:href=\"#m368a8a17b2\" y=\"69.891897\"/>\r\n     <use style=\"fill:#1f77b4;stroke:#1f77b4;\" x=\"127.815547\" xlink:href=\"#m368a8a17b2\" y=\"93.23272\"/>\r\n     <use style=\"fill:#1f77b4;stroke:#1f77b4;\" x=\"97.848991\" xlink:href=\"#m368a8a17b2\" y=\"106.214574\"/>\r\n     <use style=\"fill:#1f77b4;stroke:#1f77b4;\" x=\"149.042717\" xlink:href=\"#m368a8a17b2\" y=\"76.96027\"/>\r\n     <use style=\"fill:#1f77b4;stroke:#1f77b4;\" x=\"118.539339\" xlink:href=\"#m368a8a17b2\" y=\"92.947837\"/>\r\n     <use style=\"fill:#1f77b4;stroke:#1f77b4;\" x=\"155.70789\" xlink:href=\"#m368a8a17b2\" y=\"75.497405\"/>\r\n     <use style=\"fill:#1f77b4;stroke:#1f77b4;\" x=\"109.553365\" xlink:href=\"#m368a8a17b2\" y=\"98.836485\"/>\r\n     <use style=\"fill:#1f77b4;stroke:#1f77b4;\" x=\"137.566419\" xlink:href=\"#m368a8a17b2\" y=\"74.373364\"/>\r\n     <use style=\"fill:#1f77b4;stroke:#1f77b4;\" x=\"88.955192\" xlink:href=\"#m368a8a17b2\" y=\"97.091529\"/>\r\n     <use style=\"fill:#1f77b4;stroke:#1f77b4;\" x=\"95.670309\" xlink:href=\"#m368a8a17b2\" y=\"116.020394\"/>\r\n     <use style=\"fill:#1f77b4;stroke:#1f77b4;\" x=\"126.613374\" xlink:href=\"#m368a8a17b2\" y=\"68.150271\"/>\r\n     <use style=\"fill:#1f77b4;stroke:#1f77b4;\" x=\"125.620264\" xlink:href=\"#m368a8a17b2\" y=\"85.332792\"/>\r\n     <use style=\"fill:#1f77b4;stroke:#1f77b4;\" x=\"135.337418\" xlink:href=\"#m368a8a17b2\" y=\"77.356452\"/>\r\n     <use style=\"fill:#1f77b4;stroke:#1f77b4;\" x=\"85.983283\" xlink:href=\"#m368a8a17b2\" y=\"113.835229\"/>\r\n     <use style=\"fill:#1f77b4;stroke:#1f77b4;\" x=\"106.738381\" xlink:href=\"#m368a8a17b2\" y=\"85.031165\"/>\r\n     <use style=\"fill:#1f77b4;stroke:#1f77b4;\" x=\"147.297913\" xlink:href=\"#m368a8a17b2\" y=\"65.569697\"/>\r\n     <use style=\"fill:#1f77b4;stroke:#1f77b4;\" x=\"122.651392\" xlink:href=\"#m368a8a17b2\" y=\"79.384308\"/>\r\n     <use style=\"fill:#1f77b4;stroke:#1f77b4;\" x=\"144.79792\" xlink:href=\"#m368a8a17b2\" y=\"61.801048\"/>\r\n     <use style=\"fill:#1f77b4;stroke:#1f77b4;\" x=\"164.88277\" xlink:href=\"#m368a8a17b2\" y=\"44.583864\"/>\r\n     <use style=\"fill:#1f77b4;stroke:#1f77b4;\" x=\"107.538971\" xlink:href=\"#m368a8a17b2\" y=\"104.742305\"/>\r\n     <use style=\"fill:#1f77b4;stroke:#1f77b4;\" x=\"131.764509\" xlink:href=\"#m368a8a17b2\" y=\"83.595304\"/>\r\n     <use style=\"fill:#1f77b4;stroke:#1f77b4;\" x=\"121.796369\" xlink:href=\"#m368a8a17b2\" y=\"88.467791\"/>\r\n     <use style=\"fill:#1f77b4;stroke:#1f77b4;\" x=\"112.927268\" xlink:href=\"#m368a8a17b2\" y=\"89.390527\"/>\r\n     <use style=\"fill:#1f77b4;stroke:#1f77b4;\" x=\"151.271308\" xlink:href=\"#m368a8a17b2\" y=\"65.266721\"/>\r\n     <use style=\"fill:#1f77b4;stroke:#1f77b4;\" x=\"84.471412\" xlink:href=\"#m368a8a17b2\" y=\"122.006675\"/>\r\n     <use style=\"fill:#1f77b4;stroke:#1f77b4;\" x=\"132.181525\" xlink:href=\"#m368a8a17b2\" y=\"84.318583\"/>\r\n     <use style=\"fill:#1f77b4;stroke:#1f77b4;\" x=\"137.75587\" xlink:href=\"#m368a8a17b2\" y=\"82.58701\"/>\r\n     <use style=\"fill:#1f77b4;stroke:#1f77b4;\" x=\"129.096709\" xlink:href=\"#m368a8a17b2\" y=\"78.722401\"/>\r\n     <use style=\"fill:#1f77b4;stroke:#1f77b4;\" x=\"138.349821\" xlink:href=\"#m368a8a17b2\" y=\"96.796152\"/>\r\n     <use style=\"fill:#1f77b4;stroke:#1f77b4;\" x=\"182.258811\" xlink:href=\"#m368a8a17b2\" y=\"50.405419\"/>\r\n     <use style=\"fill:#1f77b4;stroke:#1f77b4;\" x=\"145.78651\" xlink:href=\"#m368a8a17b2\" y=\"74.581809\"/>\r\n     <use style=\"fill:#1f77b4;stroke:#1f77b4;\" x=\"92.788556\" xlink:href=\"#m368a8a17b2\" y=\"106.533553\"/>\r\n     <use style=\"fill:#1f77b4;stroke:#1f77b4;\" x=\"132.257254\" xlink:href=\"#m368a8a17b2\" y=\"81.067981\"/>\r\n     <use style=\"fill:#1f77b4;stroke:#1f77b4;\" x=\"100.831544\" xlink:href=\"#m368a8a17b2\" y=\"106.74932\"/>\r\n     <use style=\"fill:#1f77b4;stroke:#1f77b4;\" x=\"176.24806\" xlink:href=\"#m368a8a17b2\" y=\"54.509893\"/>\r\n     <use style=\"fill:#1f77b4;stroke:#1f77b4;\" x=\"78.130618\" xlink:href=\"#m368a8a17b2\" y=\"126.761193\"/>\r\n     <use style=\"fill:#1f77b4;stroke:#1f77b4;\" x=\"126.835535\" xlink:href=\"#m368a8a17b2\" y=\"85.454793\"/>\r\n     <use style=\"fill:#1f77b4;stroke:#1f77b4;\" x=\"164.811479\" xlink:href=\"#m368a8a17b2\" y=\"52.111843\"/>\r\n     <use style=\"fill:#1f77b4;stroke:#1f77b4;\" x=\"137.401201\" xlink:href=\"#m368a8a17b2\" y=\"82.749718\"/>\r\n     <use style=\"fill:#1f77b4;stroke:#1f77b4;\" x=\"103.297649\" xlink:href=\"#m368a8a17b2\" y=\"105.692897\"/>\r\n     <use style=\"fill:#1f77b4;stroke:#1f77b4;\" x=\"100.450005\" xlink:href=\"#m368a8a17b2\" y=\"108.194827\"/>\r\n     <use style=\"fill:#1f77b4;stroke:#1f77b4;\" x=\"115.235118\" xlink:href=\"#m368a8a17b2\" y=\"86.602564\"/>\r\n     <use style=\"fill:#1f77b4;stroke:#1f77b4;\" x=\"101.86682\" xlink:href=\"#m368a8a17b2\" y=\"93.130675\"/>\r\n    </g>\r\n   </g>\r\n   <g id=\"matplotlib.axis_1\">\r\n    <g id=\"xtick_1\">\r\n     <g id=\"line2d_1\">\r\n      <defs>\r\n       <path d=\"M 0 0 \r\nL 0 3.5 \r\n\" id=\"mf6a2c81179\" style=\"stroke:#000000;stroke-width:0.8;\"/>\r\n      </defs>\r\n      <g>\r\n       <use style=\"stroke:#000000;stroke-width:0.8;\" x=\"54.794062\" xlink:href=\"#mf6a2c81179\" y=\"144.529994\"/>\r\n      </g>\r\n     </g>\r\n     <g id=\"text_1\">\r\n      <!-- −1 -->\r\n      <g transform=\"translate(47.422968 159.128432)scale(0.1 -0.1)\">\r\n       <defs>\r\n        <path d=\"M 10.59375 35.5 \r\nL 73.1875 35.5 \r\nL 73.1875 27.203125 \r\nL 10.59375 27.203125 \r\nz\r\n\" id=\"DejaVuSans-8722\"/>\r\n        <path d=\"M 12.40625 8.296875 \r\nL 28.515625 8.296875 \r\nL 28.515625 63.921875 \r\nL 10.984375 60.40625 \r\nL 10.984375 69.390625 \r\nL 28.421875 72.90625 \r\nL 38.28125 72.90625 \r\nL 38.28125 8.296875 \r\nL 54.390625 8.296875 \r\nL 54.390625 0 \r\nL 12.40625 0 \r\nz\r\n\" id=\"DejaVuSans-49\"/>\r\n       </defs>\r\n       <use xlink:href=\"#DejaVuSans-8722\"/>\r\n       <use x=\"83.789062\" xlink:href=\"#DejaVuSans-49\"/>\r\n      </g>\r\n     </g>\r\n    </g>\r\n    <g id=\"xtick_2\">\r\n     <g id=\"line2d_2\">\r\n      <g>\r\n       <use style=\"stroke:#000000;stroke-width:0.8;\" x=\"89.270483\" xlink:href=\"#mf6a2c81179\" y=\"144.529994\"/>\r\n      </g>\r\n     </g>\r\n     <g id=\"text_2\">\r\n      <!-- 0 -->\r\n      <g transform=\"translate(86.089233 159.128432)scale(0.1 -0.1)\">\r\n       <defs>\r\n        <path d=\"M 31.78125 66.40625 \r\nQ 24.171875 66.40625 20.328125 58.90625 \r\nQ 16.5 51.421875 16.5 36.375 \r\nQ 16.5 21.390625 20.328125 13.890625 \r\nQ 24.171875 6.390625 31.78125 6.390625 \r\nQ 39.453125 6.390625 43.28125 13.890625 \r\nQ 47.125 21.390625 47.125 36.375 \r\nQ 47.125 51.421875 43.28125 58.90625 \r\nQ 39.453125 66.40625 31.78125 66.40625 \r\nz\r\nM 31.78125 74.21875 \r\nQ 44.046875 74.21875 50.515625 64.515625 \r\nQ 56.984375 54.828125 56.984375 36.375 \r\nQ 56.984375 17.96875 50.515625 8.265625 \r\nQ 44.046875 -1.421875 31.78125 -1.421875 \r\nQ 19.53125 -1.421875 13.0625 8.265625 \r\nQ 6.59375 17.96875 6.59375 36.375 \r\nQ 6.59375 54.828125 13.0625 64.515625 \r\nQ 19.53125 74.21875 31.78125 74.21875 \r\nz\r\n\" id=\"DejaVuSans-48\"/>\r\n       </defs>\r\n       <use xlink:href=\"#DejaVuSans-48\"/>\r\n      </g>\r\n     </g>\r\n    </g>\r\n    <g id=\"xtick_3\">\r\n     <g id=\"line2d_3\">\r\n      <g>\r\n       <use style=\"stroke:#000000;stroke-width:0.8;\" x=\"123.746905\" xlink:href=\"#mf6a2c81179\" y=\"144.529994\"/>\r\n      </g>\r\n     </g>\r\n     <g id=\"text_3\">\r\n      <!-- 1 -->\r\n      <g transform=\"translate(120.565655 159.128432)scale(0.1 -0.1)\">\r\n       <use xlink:href=\"#DejaVuSans-49\"/>\r\n      </g>\r\n     </g>\r\n    </g>\r\n    <g id=\"xtick_4\">\r\n     <g id=\"line2d_4\">\r\n      <g>\r\n       <use style=\"stroke:#000000;stroke-width:0.8;\" x=\"158.223327\" xlink:href=\"#mf6a2c81179\" y=\"144.529994\"/>\r\n      </g>\r\n     </g>\r\n     <g id=\"text_4\">\r\n      <!-- 2 -->\r\n      <g transform=\"translate(155.042077 159.128432)scale(0.1 -0.1)\">\r\n       <defs>\r\n        <path d=\"M 19.1875 8.296875 \r\nL 53.609375 8.296875 \r\nL 53.609375 0 \r\nL 7.328125 0 \r\nL 7.328125 8.296875 \r\nQ 12.9375 14.109375 22.625 23.890625 \r\nQ 32.328125 33.6875 34.8125 36.53125 \r\nQ 39.546875 41.84375 41.421875 45.53125 \r\nQ 43.3125 49.21875 43.3125 52.78125 \r\nQ 43.3125 58.59375 39.234375 62.25 \r\nQ 35.15625 65.921875 28.609375 65.921875 \r\nQ 23.96875 65.921875 18.8125 64.3125 \r\nQ 13.671875 62.703125 7.8125 59.421875 \r\nL 7.8125 69.390625 \r\nQ 13.765625 71.78125 18.9375 73 \r\nQ 24.125 74.21875 28.421875 74.21875 \r\nQ 39.75 74.21875 46.484375 68.546875 \r\nQ 53.21875 62.890625 53.21875 53.421875 \r\nQ 53.21875 48.921875 51.53125 44.890625 \r\nQ 49.859375 40.875 45.40625 35.40625 \r\nQ 44.1875 33.984375 37.640625 27.21875 \r\nQ 31.109375 20.453125 19.1875 8.296875 \r\nz\r\n\" id=\"DejaVuSans-50\"/>\r\n       </defs>\r\n       <use xlink:href=\"#DejaVuSans-50\"/>\r\n      </g>\r\n     </g>\r\n    </g>\r\n    <g id=\"xtick_5\">\r\n     <g id=\"line2d_5\">\r\n      <g>\r\n       <use style=\"stroke:#000000;stroke-width:0.8;\" x=\"192.699749\" xlink:href=\"#mf6a2c81179\" y=\"144.529994\"/>\r\n      </g>\r\n     </g>\r\n     <g id=\"text_5\">\r\n      <!-- 3 -->\r\n      <g transform=\"translate(189.518499 159.128432)scale(0.1 -0.1)\">\r\n       <defs>\r\n        <path d=\"M 40.578125 39.3125 \r\nQ 47.65625 37.796875 51.625 33 \r\nQ 55.609375 28.21875 55.609375 21.1875 \r\nQ 55.609375 10.40625 48.1875 4.484375 \r\nQ 40.765625 -1.421875 27.09375 -1.421875 \r\nQ 22.515625 -1.421875 17.65625 -0.515625 \r\nQ 12.796875 0.390625 7.625 2.203125 \r\nL 7.625 11.71875 \r\nQ 11.71875 9.328125 16.59375 8.109375 \r\nQ 21.484375 6.890625 26.8125 6.890625 \r\nQ 36.078125 6.890625 40.9375 10.546875 \r\nQ 45.796875 14.203125 45.796875 21.1875 \r\nQ 45.796875 27.640625 41.28125 31.265625 \r\nQ 36.765625 34.90625 28.71875 34.90625 \r\nL 20.21875 34.90625 \r\nL 20.21875 43.015625 \r\nL 29.109375 43.015625 \r\nQ 36.375 43.015625 40.234375 45.921875 \r\nQ 44.09375 48.828125 44.09375 54.296875 \r\nQ 44.09375 59.90625 40.109375 62.90625 \r\nQ 36.140625 65.921875 28.71875 65.921875 \r\nQ 24.65625 65.921875 20.015625 65.03125 \r\nQ 15.375 64.15625 9.8125 62.3125 \r\nL 9.8125 71.09375 \r\nQ 15.4375 72.65625 20.34375 73.4375 \r\nQ 25.25 74.21875 29.59375 74.21875 \r\nQ 40.828125 74.21875 47.359375 69.109375 \r\nQ 53.90625 64.015625 53.90625 55.328125 \r\nQ 53.90625 49.265625 50.4375 45.09375 \r\nQ 46.96875 40.921875 40.578125 39.3125 \r\nz\r\n\" id=\"DejaVuSans-51\"/>\r\n       </defs>\r\n       <use xlink:href=\"#DejaVuSans-51\"/>\r\n      </g>\r\n     </g>\r\n    </g>\r\n   </g>\r\n   <g id=\"matplotlib.axis_2\">\r\n    <g id=\"ytick_1\">\r\n     <g id=\"line2d_6\">\r\n      <defs>\r\n       <path d=\"M 0 0 \r\nL -3.5 0 \r\n\" id=\"mbb4c16cc32\" style=\"stroke:#000000;stroke-width:0.8;\"/>\r\n      </defs>\r\n      <g>\r\n       <use style=\"stroke:#000000;stroke-width:0.8;\" x=\"28.942188\" xlink:href=\"#mbb4c16cc32\" y=\"138.12867\"/>\r\n      </g>\r\n     </g>\r\n     <g id=\"text_6\">\r\n      <!-- −2 -->\r\n      <g transform=\"translate(7.2 141.927889)scale(0.1 -0.1)\">\r\n       <use xlink:href=\"#DejaVuSans-8722\"/>\r\n       <use x=\"83.789062\" xlink:href=\"#DejaVuSans-50\"/>\r\n      </g>\r\n     </g>\r\n    </g>\r\n    <g id=\"ytick_2\">\r\n     <g id=\"line2d_7\">\r\n      <g>\r\n       <use style=\"stroke:#000000;stroke-width:0.8;\" x=\"28.942188\" xlink:href=\"#mbb4c16cc32\" y=\"112.70278\"/>\r\n      </g>\r\n     </g>\r\n     <g id=\"text_7\">\r\n      <!-- 0 -->\r\n      <g transform=\"translate(15.579688 116.501998)scale(0.1 -0.1)\">\r\n       <use xlink:href=\"#DejaVuSans-48\"/>\r\n      </g>\r\n     </g>\r\n    </g>\r\n    <g id=\"ytick_3\">\r\n     <g id=\"line2d_8\">\r\n      <g>\r\n       <use style=\"stroke:#000000;stroke-width:0.8;\" x=\"28.942188\" xlink:href=\"#mbb4c16cc32\" y=\"87.276889\"/>\r\n      </g>\r\n     </g>\r\n     <g id=\"text_8\">\r\n      <!-- 2 -->\r\n      <g transform=\"translate(15.579688 91.076108)scale(0.1 -0.1)\">\r\n       <use xlink:href=\"#DejaVuSans-50\"/>\r\n      </g>\r\n     </g>\r\n    </g>\r\n    <g id=\"ytick_4\">\r\n     <g id=\"line2d_9\">\r\n      <g>\r\n       <use style=\"stroke:#000000;stroke-width:0.8;\" x=\"28.942188\" xlink:href=\"#mbb4c16cc32\" y=\"61.850999\"/>\r\n      </g>\r\n     </g>\r\n     <g id=\"text_9\">\r\n      <!-- 4 -->\r\n      <g transform=\"translate(15.579688 65.650218)scale(0.1 -0.1)\">\r\n       <defs>\r\n        <path d=\"M 37.796875 64.3125 \r\nL 12.890625 25.390625 \r\nL 37.796875 25.390625 \r\nz\r\nM 35.203125 72.90625 \r\nL 47.609375 72.90625 \r\nL 47.609375 25.390625 \r\nL 58.015625 25.390625 \r\nL 58.015625 17.1875 \r\nL 47.609375 17.1875 \r\nL 47.609375 0 \r\nL 37.796875 0 \r\nL 37.796875 17.1875 \r\nL 4.890625 17.1875 \r\nL 4.890625 26.703125 \r\nz\r\n\" id=\"DejaVuSans-52\"/>\r\n       </defs>\r\n       <use xlink:href=\"#DejaVuSans-52\"/>\r\n      </g>\r\n     </g>\r\n    </g>\r\n    <g id=\"ytick_5\">\r\n     <g id=\"line2d_10\">\r\n      <g>\r\n       <use style=\"stroke:#000000;stroke-width:0.8;\" x=\"28.942188\" xlink:href=\"#mbb4c16cc32\" y=\"36.425109\"/>\r\n      </g>\r\n     </g>\r\n     <g id=\"text_10\">\r\n      <!-- 6 -->\r\n      <g transform=\"translate(15.579688 40.224328)scale(0.1 -0.1)\">\r\n       <defs>\r\n        <path d=\"M 33.015625 40.375 \r\nQ 26.375 40.375 22.484375 35.828125 \r\nQ 18.609375 31.296875 18.609375 23.390625 \r\nQ 18.609375 15.53125 22.484375 10.953125 \r\nQ 26.375 6.390625 33.015625 6.390625 \r\nQ 39.65625 6.390625 43.53125 10.953125 \r\nQ 47.40625 15.53125 47.40625 23.390625 \r\nQ 47.40625 31.296875 43.53125 35.828125 \r\nQ 39.65625 40.375 33.015625 40.375 \r\nz\r\nM 52.59375 71.296875 \r\nL 52.59375 62.3125 \r\nQ 48.875 64.0625 45.09375 64.984375 \r\nQ 41.3125 65.921875 37.59375 65.921875 \r\nQ 27.828125 65.921875 22.671875 59.328125 \r\nQ 17.53125 52.734375 16.796875 39.40625 \r\nQ 19.671875 43.65625 24.015625 45.921875 \r\nQ 28.375 48.1875 33.59375 48.1875 \r\nQ 44.578125 48.1875 50.953125 41.515625 \r\nQ 57.328125 34.859375 57.328125 23.390625 \r\nQ 57.328125 12.15625 50.6875 5.359375 \r\nQ 44.046875 -1.421875 33.015625 -1.421875 \r\nQ 20.359375 -1.421875 13.671875 8.265625 \r\nQ 6.984375 17.96875 6.984375 36.375 \r\nQ 6.984375 53.65625 15.1875 63.9375 \r\nQ 23.390625 74.21875 37.203125 74.21875 \r\nQ 40.921875 74.21875 44.703125 73.484375 \r\nQ 48.484375 72.75 52.59375 71.296875 \r\nz\r\n\" id=\"DejaVuSans-54\"/>\r\n       </defs>\r\n       <use xlink:href=\"#DejaVuSans-54\"/>\r\n      </g>\r\n     </g>\r\n    </g>\r\n    <g id=\"ytick_6\">\r\n     <g id=\"line2d_11\">\r\n      <g>\r\n       <use style=\"stroke:#000000;stroke-width:0.8;\" x=\"28.942188\" xlink:href=\"#mbb4c16cc32\" y=\"10.999219\"/>\r\n      </g>\r\n     </g>\r\n     <g id=\"text_11\">\r\n      <!-- 8 -->\r\n      <g transform=\"translate(15.579688 14.798438)scale(0.1 -0.1)\">\r\n       <defs>\r\n        <path d=\"M 31.78125 34.625 \r\nQ 24.75 34.625 20.71875 30.859375 \r\nQ 16.703125 27.09375 16.703125 20.515625 \r\nQ 16.703125 13.921875 20.71875 10.15625 \r\nQ 24.75 6.390625 31.78125 6.390625 \r\nQ 38.8125 6.390625 42.859375 10.171875 \r\nQ 46.921875 13.96875 46.921875 20.515625 \r\nQ 46.921875 27.09375 42.890625 30.859375 \r\nQ 38.875 34.625 31.78125 34.625 \r\nz\r\nM 21.921875 38.8125 \r\nQ 15.578125 40.375 12.03125 44.71875 \r\nQ 8.5 49.078125 8.5 55.328125 \r\nQ 8.5 64.0625 14.71875 69.140625 \r\nQ 20.953125 74.21875 31.78125 74.21875 \r\nQ 42.671875 74.21875 48.875 69.140625 \r\nQ 55.078125 64.0625 55.078125 55.328125 \r\nQ 55.078125 49.078125 51.53125 44.71875 \r\nQ 48 40.375 41.703125 38.8125 \r\nQ 48.828125 37.15625 52.796875 32.3125 \r\nQ 56.78125 27.484375 56.78125 20.515625 \r\nQ 56.78125 9.90625 50.3125 4.234375 \r\nQ 43.84375 -1.421875 31.78125 -1.421875 \r\nQ 19.734375 -1.421875 13.25 4.234375 \r\nQ 6.78125 9.90625 6.78125 20.515625 \r\nQ 6.78125 27.484375 10.78125 32.3125 \r\nQ 14.796875 37.15625 21.921875 38.8125 \r\nz\r\nM 18.3125 54.390625 \r\nQ 18.3125 48.734375 21.84375 45.5625 \r\nQ 25.390625 42.390625 31.78125 42.390625 \r\nQ 38.140625 42.390625 41.71875 45.5625 \r\nQ 45.3125 48.734375 45.3125 54.390625 \r\nQ 45.3125 60.0625 41.71875 63.234375 \r\nQ 38.140625 66.40625 31.78125 66.40625 \r\nQ 25.390625 66.40625 21.84375 63.234375 \r\nQ 18.3125 60.0625 18.3125 54.390625 \r\nz\r\n\" id=\"DejaVuSans-56\"/>\r\n       </defs>\r\n       <use xlink:href=\"#DejaVuSans-56\"/>\r\n      </g>\r\n     </g>\r\n    </g>\r\n   </g>\r\n   <g id=\"patch_3\">\r\n    <path d=\"M 28.942188 144.529994 \r\nL 28.942188 8.629994 \r\n\" style=\"fill:none;stroke:#000000;stroke-linecap:square;stroke-linejoin:miter;stroke-width:0.8;\"/>\r\n   </g>\r\n   <g id=\"patch_4\">\r\n    <path d=\"M 224.242188 144.529994 \r\nL 224.242188 8.629994 \r\n\" style=\"fill:none;stroke:#000000;stroke-linecap:square;stroke-linejoin:miter;stroke-width:0.8;\"/>\r\n   </g>\r\n   <g id=\"patch_5\">\r\n    <path d=\"M 28.942188 144.529994 \r\nL 224.242188 144.529994 \r\n\" style=\"fill:none;stroke:#000000;stroke-linecap:square;stroke-linejoin:miter;stroke-width:0.8;\"/>\r\n   </g>\r\n   <g id=\"patch_6\">\r\n    <path d=\"M 28.942188 8.629994 \r\nL 224.242188 8.629994 \r\n\" style=\"fill:none;stroke:#000000;stroke-linecap:square;stroke-linejoin:miter;stroke-width:0.8;\"/>\r\n   </g>\r\n  </g>\r\n </g>\r\n <defs>\r\n  <clipPath id=\"p523f9ecc1e\">\r\n   <rect height=\"135.9\" width=\"195.3\" x=\"28.942188\" y=\"8.629994\"/>\r\n  </clipPath>\r\n </defs>\r\n</svg>\r\n"
     },
     "metadata": {
      "needs_background": "light"
     }
    }
   ],
   "source": [
    "d2l.set_figsize()\n",
    "d2l.plt.scatter(data[:100, 0].numpy(), data[:100, 1].numpy());\n",
    "print(f'The covariance matrix is\\n{torch.mm(A.T, A)}')"
   ]
  },
  {
   "cell_type": "code",
   "execution_count": 4,
   "metadata": {},
   "outputs": [],
   "source": [
    "batch_size = 8\n",
    "data_iter = d2l.load_array(data, batch_size=batch_size)"
   ]
  },
  {
   "cell_type": "code",
   "execution_count": 5,
   "metadata": {},
   "outputs": [],
   "source": [
    "net_G = nn.Sequential(nn.Linear(2, 2))"
   ]
  },
  {
   "cell_type": "code",
   "execution_count": 6,
   "metadata": {},
   "outputs": [],
   "source": [
    "net_D = nn.Sequential(\n",
    "    nn.Linear(2, 5), nn.Tanh(), \n",
    "    nn.Linear(5, 3), nn.Tanh(), \n",
    "    nn.Linear(3, 1)\n",
    "    )"
   ]
  },
  {
   "cell_type": "code",
   "execution_count": 7,
   "metadata": {},
   "outputs": [],
   "source": [
    "def update_D(X, Z, net_D, net_G, loss, trainer_D):  #@save\n",
    "    \"\"\"Update discriminator.\"\"\"\n",
    "    batch_size = X.shape[0]\n",
    "    ones = torch.ones(batch_size)\n",
    "    zeros = torch.zeros(batch_size)\n",
    "    trainer_D.zero_grad()\n",
    "    real_Y = net_D(X)\n",
    "    fake_X = net_G(Z)\n",
    "    # Do not need to compute gradient for `net_G`, detach it from\n",
    "    # computing gradients.\n",
    "    fake_Y = net_D(fake_X.detach())\n",
    "    loss_D = (loss(real_Y, ones) + loss(fake_Y, zeros)) / 2\n",
    "    loss_D.backward()\n",
    "    trainer_D.step()\n",
    "    return loss_D"
   ]
  },
  {
   "cell_type": "code",
   "execution_count": 8,
   "metadata": {},
   "outputs": [],
   "source": [
    "def update_G(Z, net_D, net_G, loss, trainer_G):  #@save\n",
    "    \"\"\"Update generator.\"\"\"\n",
    "    batch_size = Z.shape[0]\n",
    "    ones = torch.ones(batch_size)\n",
    "    trainer_G.zero_grad()\n",
    "    # We could reuse `fake_X` from `update_D` to save computation\n",
    "    fake_X = net_G(Z)\n",
    "    # Recomputing `fake_Y` is needed since `net_D` is changed\n",
    "    fake_Y = net_D(fake_X)\n",
    "    loss_G=loss(fake_Y,ones)\n",
    "    loss_G.backward()\n",
    "    trainer_G.step()\n",
    "    return loss_G"
   ]
  },
  {
   "cell_type": "code",
   "execution_count": 9,
   "metadata": {},
   "outputs": [],
   "source": [
    "def train(net_D, net_G, data_iter, num_epochs, lr_D, lr_G, latent_dim, data):\n",
    "    loss = nn.BCEWithLogitsLoss()\n",
    "    for w in net_D.parameters():\n",
    "        nn.init.normal_(w, 0, 0.02)\n",
    "    for w in net_G.parameters():\n",
    "        nn.init.normal_(w, 0, 0.02)\n",
    "    net_D.zero_grad()\n",
    "    net_G.zero_grad()\n",
    "    trainer_D = torch.optim.Adam(net_D.parameters(), lr=lr_D)\n",
    "    trainer_G = torch.optim.Adam(net_G.parameters(), lr=lr_G)\n",
    "    animator = d2l.Animator(xlabel='epoch', ylabel='loss',\n",
    "                            xlim=[1, num_epochs], nrows=2, figsize=(5, 5),\n",
    "                            legend=['discriminator', 'generator'])\n",
    "    animator.fig.subplots_adjust(hspace=0.3)\n",
    "    for epoch in range(num_epochs):\n",
    "        # Train one epoch\n",
    "        timer = d2l.Timer()\n",
    "        metric = d2l.Accumulator(3)  # loss_D, loss_G, num_examples\n",
    "        for X in data_iter:\n",
    "            batch_size = X.shape[0]\n",
    "            Z = torch.normal(0, 1, size=(batch_size, latent_dim))\n",
    "            metric.add(update_D(X, Z, net_D, net_G, loss, trainer_D),\n",
    "                       update_G(Z, net_D, net_G, loss, trainer_G),\n",
    "                       batch_size)\n",
    "        # Visualize generated examples\n",
    "        Z = torch.normal(0, 1, size=(100, latent_dim))\n",
    "        fake_X = net_G(Z).detach().numpy()\n",
    "        animator.axes[1].cla()\n",
    "        animator.axes[1].scatter(data[:, 0], data[:, 1])\n",
    "        animator.axes[1].scatter(fake_X[:, 0], fake_X[:, 1])\n",
    "        animator.axes[1].legend(['real', 'generated'])\n",
    "        # Show the losses\n",
    "        loss_D, loss_G = metric[0]/metric[2], metric[1]/metric[2]\n",
    "        animator.add(epoch + 1, (loss_D, loss_G))\n",
    "    print(f'loss_D {loss_D:.3f}, loss_G {loss_G:.3f}, '\n",
    "          f'{metric[2] / timer.stop():.1f} examples/sec')"
   ]
  },
  {
   "cell_type": "code",
   "execution_count": 10,
   "metadata": {},
   "outputs": [
    {
     "output_type": "error",
     "ename": "AttributeError",
     "evalue": "'list' object has no attribute 'shape'",
     "traceback": [
      "\u001b[1;31m---------------------------------------------------------------------------\u001b[0m",
      "\u001b[1;31mAttributeError\u001b[0m                            Traceback (most recent call last)",
      "\u001b[1;32m<ipython-input-10-46803ce9c191>\u001b[0m in \u001b[0;36m<module>\u001b[1;34m\u001b[0m\n\u001b[0;32m      1\u001b[0m \u001b[0mlr_D\u001b[0m\u001b[1;33m,\u001b[0m \u001b[0mlr_G\u001b[0m\u001b[1;33m,\u001b[0m \u001b[0mlatent_dim\u001b[0m\u001b[1;33m,\u001b[0m \u001b[0mnum_epochs\u001b[0m \u001b[1;33m=\u001b[0m \u001b[1;36m0.05\u001b[0m\u001b[1;33m,\u001b[0m \u001b[1;36m0.005\u001b[0m\u001b[1;33m,\u001b[0m \u001b[1;36m2\u001b[0m\u001b[1;33m,\u001b[0m \u001b[1;36m20\u001b[0m\u001b[1;33m\u001b[0m\u001b[1;33m\u001b[0m\u001b[0m\n\u001b[1;32m----> 2\u001b[1;33m train(net_D, net_G, data_iter, num_epochs, lr_D, lr_G,\n\u001b[0m\u001b[0;32m      3\u001b[0m       latent_dim, data[:100].numpy())\n",
      "\u001b[1;32m<ipython-input-9-d7c313347c79>\u001b[0m in \u001b[0;36mtrain\u001b[1;34m(net_D, net_G, data_iter, num_epochs, lr_D, lr_G, latent_dim, data)\u001b[0m\n\u001b[0;32m     18\u001b[0m         \u001b[0mmetric\u001b[0m \u001b[1;33m=\u001b[0m \u001b[0md2l\u001b[0m\u001b[1;33m.\u001b[0m\u001b[0mAccumulator\u001b[0m\u001b[1;33m(\u001b[0m\u001b[1;36m3\u001b[0m\u001b[1;33m)\u001b[0m  \u001b[1;31m# loss_D, loss_G, num_examples\u001b[0m\u001b[1;33m\u001b[0m\u001b[1;33m\u001b[0m\u001b[0m\n\u001b[0;32m     19\u001b[0m         \u001b[1;32mfor\u001b[0m \u001b[0mX\u001b[0m \u001b[1;32min\u001b[0m \u001b[0mdata_iter\u001b[0m\u001b[1;33m:\u001b[0m\u001b[1;33m\u001b[0m\u001b[1;33m\u001b[0m\u001b[0m\n\u001b[1;32m---> 20\u001b[1;33m             \u001b[0mbatch_size\u001b[0m \u001b[1;33m=\u001b[0m \u001b[0mX\u001b[0m\u001b[1;33m.\u001b[0m\u001b[0mshape\u001b[0m\u001b[1;33m[\u001b[0m\u001b[1;36m0\u001b[0m\u001b[1;33m]\u001b[0m\u001b[1;33m\u001b[0m\u001b[1;33m\u001b[0m\u001b[0m\n\u001b[0m\u001b[0;32m     21\u001b[0m             \u001b[0mZ\u001b[0m \u001b[1;33m=\u001b[0m \u001b[0mtorch\u001b[0m\u001b[1;33m.\u001b[0m\u001b[0mnormal\u001b[0m\u001b[1;33m(\u001b[0m\u001b[1;36m0\u001b[0m\u001b[1;33m,\u001b[0m \u001b[1;36m1\u001b[0m\u001b[1;33m,\u001b[0m \u001b[0msize\u001b[0m\u001b[1;33m=\u001b[0m\u001b[1;33m(\u001b[0m\u001b[0mbatch_size\u001b[0m\u001b[1;33m,\u001b[0m \u001b[0mlatent_dim\u001b[0m\u001b[1;33m)\u001b[0m\u001b[1;33m)\u001b[0m\u001b[1;33m\u001b[0m\u001b[1;33m\u001b[0m\u001b[0m\n\u001b[0;32m     22\u001b[0m             metric.add(update_D(X, Z, net_D, net_G, loss, trainer_D),\n",
      "\u001b[1;31mAttributeError\u001b[0m: 'list' object has no attribute 'shape'"
     ]
    }
   ],
   "source": [
    "lr_D, lr_G, latent_dim, num_epochs = 0.05, 0.005, 2, 20\n",
    "train(net_D, net_G, data_iter, num_epochs, lr_D, lr_G,\n",
    "      latent_dim, data[:100].numpy())"
   ]
  }
 ]
}