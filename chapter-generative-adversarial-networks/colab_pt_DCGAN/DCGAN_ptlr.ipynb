{
  "nbformat": 4,
  "nbformat_minor": 0,
  "metadata": {
    "colab": {
      "name": "DCGAN_ptlr.ipynb",
      "provenance": []
    },
    "kernelspec": {
      "name": "python3",
      "display_name": "Python 3"
    }
  },
  "cells": [
    {
      "cell_type": "code",
      "metadata": {
        "id": "wae3QcKPXBLf",
        "colab_type": "code",
        "colab": {
          "base_uri": "https://localhost:8080/",
          "height": 887
        },
        "outputId": "de8b005f-712c-4ad2-eb13-c3bfe59c34cf"
      },
      "source": [
        "!pip install d2l"
      ],
      "execution_count": 1,
      "outputs": [
        {
          "output_type": "stream",
          "text": [
            "Requirement already satisfied: d2l in /usr/local/lib/python3.6/dist-packages (0.14.3)\n",
            "Requirement already satisfied: pandas in /usr/local/lib/python3.6/dist-packages (from d2l) (1.0.5)\n",
            "Requirement already satisfied: jupyter in /usr/local/lib/python3.6/dist-packages (from d2l) (1.0.0)\n",
            "Requirement already satisfied: numpy in /usr/local/lib/python3.6/dist-packages (from d2l) (1.18.5)\n",
            "Requirement already satisfied: matplotlib in /usr/local/lib/python3.6/dist-packages (from d2l) (3.2.2)\n",
            "Requirement already satisfied: python-dateutil>=2.6.1 in /usr/local/lib/python3.6/dist-packages (from pandas->d2l) (2.8.1)\n",
            "Requirement already satisfied: pytz>=2017.2 in /usr/local/lib/python3.6/dist-packages (from pandas->d2l) (2018.9)\n",
            "Requirement already satisfied: qtconsole in /usr/local/lib/python3.6/dist-packages (from jupyter->d2l) (4.7.6)\n",
            "Requirement already satisfied: nbconvert in /usr/local/lib/python3.6/dist-packages (from jupyter->d2l) (5.6.1)\n",
            "Requirement already satisfied: ipywidgets in /usr/local/lib/python3.6/dist-packages (from jupyter->d2l) (7.5.1)\n",
            "Requirement already satisfied: notebook in /usr/local/lib/python3.6/dist-packages (from jupyter->d2l) (5.3.1)\n",
            "Requirement already satisfied: ipykernel in /usr/local/lib/python3.6/dist-packages (from jupyter->d2l) (4.10.1)\n",
            "Requirement already satisfied: jupyter-console in /usr/local/lib/python3.6/dist-packages (from jupyter->d2l) (5.2.0)\n",
            "Requirement already satisfied: kiwisolver>=1.0.1 in /usr/local/lib/python3.6/dist-packages (from matplotlib->d2l) (1.2.0)\n",
            "Requirement already satisfied: pyparsing!=2.0.4,!=2.1.2,!=2.1.6,>=2.0.1 in /usr/local/lib/python3.6/dist-packages (from matplotlib->d2l) (2.4.7)\n",
            "Requirement already satisfied: cycler>=0.10 in /usr/local/lib/python3.6/dist-packages (from matplotlib->d2l) (0.10.0)\n",
            "Requirement already satisfied: six>=1.5 in /usr/local/lib/python3.6/dist-packages (from python-dateutil>=2.6.1->pandas->d2l) (1.15.0)\n",
            "Requirement already satisfied: qtpy in /usr/local/lib/python3.6/dist-packages (from qtconsole->jupyter->d2l) (1.9.0)\n",
            "Requirement already satisfied: pyzmq>=17.1 in /usr/local/lib/python3.6/dist-packages (from qtconsole->jupyter->d2l) (19.0.2)\n",
            "Requirement already satisfied: ipython-genutils in /usr/local/lib/python3.6/dist-packages (from qtconsole->jupyter->d2l) (0.2.0)\n",
            "Requirement already satisfied: jupyter-core in /usr/local/lib/python3.6/dist-packages (from qtconsole->jupyter->d2l) (4.6.3)\n",
            "Requirement already satisfied: pygments in /usr/local/lib/python3.6/dist-packages (from qtconsole->jupyter->d2l) (2.1.3)\n",
            "Requirement already satisfied: jupyter-client>=4.1 in /usr/local/lib/python3.6/dist-packages (from qtconsole->jupyter->d2l) (5.3.5)\n",
            "Requirement already satisfied: traitlets in /usr/local/lib/python3.6/dist-packages (from qtconsole->jupyter->d2l) (4.3.3)\n",
            "Requirement already satisfied: pandocfilters>=1.4.1 in /usr/local/lib/python3.6/dist-packages (from nbconvert->jupyter->d2l) (1.4.2)\n",
            "Requirement already satisfied: jinja2>=2.4 in /usr/local/lib/python3.6/dist-packages (from nbconvert->jupyter->d2l) (2.11.2)\n",
            "Requirement already satisfied: entrypoints>=0.2.2 in /usr/local/lib/python3.6/dist-packages (from nbconvert->jupyter->d2l) (0.3)\n",
            "Requirement already satisfied: testpath in /usr/local/lib/python3.6/dist-packages (from nbconvert->jupyter->d2l) (0.4.4)\n",
            "Requirement already satisfied: mistune<2,>=0.8.1 in /usr/local/lib/python3.6/dist-packages (from nbconvert->jupyter->d2l) (0.8.4)\n",
            "Requirement already satisfied: bleach in /usr/local/lib/python3.6/dist-packages (from nbconvert->jupyter->d2l) (3.1.5)\n",
            "Requirement already satisfied: defusedxml in /usr/local/lib/python3.6/dist-packages (from nbconvert->jupyter->d2l) (0.6.0)\n",
            "Requirement already satisfied: nbformat>=4.4 in /usr/local/lib/python3.6/dist-packages (from nbconvert->jupyter->d2l) (5.0.7)\n",
            "Requirement already satisfied: ipython>=4.0.0; python_version >= \"3.3\" in /usr/local/lib/python3.6/dist-packages (from ipywidgets->jupyter->d2l) (5.5.0)\n",
            "Requirement already satisfied: widgetsnbextension~=3.5.0 in /usr/local/lib/python3.6/dist-packages (from ipywidgets->jupyter->d2l) (3.5.1)\n",
            "Requirement already satisfied: terminado>=0.8.1 in /usr/local/lib/python3.6/dist-packages (from notebook->jupyter->d2l) (0.8.3)\n",
            "Requirement already satisfied: Send2Trash in /usr/local/lib/python3.6/dist-packages (from notebook->jupyter->d2l) (1.5.0)\n",
            "Requirement already satisfied: tornado>=4 in /usr/local/lib/python3.6/dist-packages (from notebook->jupyter->d2l) (5.1.1)\n",
            "Requirement already satisfied: prompt-toolkit<2.0.0,>=1.0.0 in /usr/local/lib/python3.6/dist-packages (from jupyter-console->jupyter->d2l) (1.0.18)\n",
            "Requirement already satisfied: decorator in /usr/local/lib/python3.6/dist-packages (from traitlets->qtconsole->jupyter->d2l) (4.4.2)\n",
            "Requirement already satisfied: MarkupSafe>=0.23 in /usr/local/lib/python3.6/dist-packages (from jinja2>=2.4->nbconvert->jupyter->d2l) (1.1.1)\n",
            "Requirement already satisfied: packaging in /usr/local/lib/python3.6/dist-packages (from bleach->nbconvert->jupyter->d2l) (20.4)\n",
            "Requirement already satisfied: webencodings in /usr/local/lib/python3.6/dist-packages (from bleach->nbconvert->jupyter->d2l) (0.5.1)\n",
            "Requirement already satisfied: jsonschema!=2.5.0,>=2.4 in /usr/local/lib/python3.6/dist-packages (from nbformat>=4.4->nbconvert->jupyter->d2l) (2.6.0)\n",
            "Requirement already satisfied: setuptools>=18.5 in /usr/local/lib/python3.6/dist-packages (from ipython>=4.0.0; python_version >= \"3.3\"->ipywidgets->jupyter->d2l) (49.6.0)\n",
            "Requirement already satisfied: pexpect; sys_platform != \"win32\" in /usr/local/lib/python3.6/dist-packages (from ipython>=4.0.0; python_version >= \"3.3\"->ipywidgets->jupyter->d2l) (4.8.0)\n",
            "Requirement already satisfied: simplegeneric>0.8 in /usr/local/lib/python3.6/dist-packages (from ipython>=4.0.0; python_version >= \"3.3\"->ipywidgets->jupyter->d2l) (0.8.1)\n",
            "Requirement already satisfied: pickleshare in /usr/local/lib/python3.6/dist-packages (from ipython>=4.0.0; python_version >= \"3.3\"->ipywidgets->jupyter->d2l) (0.7.5)\n",
            "Requirement already satisfied: ptyprocess; os_name != \"nt\" in /usr/local/lib/python3.6/dist-packages (from terminado>=0.8.1->notebook->jupyter->d2l) (0.6.0)\n",
            "Requirement already satisfied: wcwidth in /usr/local/lib/python3.6/dist-packages (from prompt-toolkit<2.0.0,>=1.0.0->jupyter-console->jupyter->d2l) (0.2.5)\n"
          ],
          "name": "stdout"
        }
      ]
    },
    {
      "cell_type": "code",
      "metadata": {
        "id": "oGF7wNr1XGpF",
        "colab_type": "code",
        "colab": {}
      },
      "source": [
        "import d2l.torch as d2l"
      ],
      "execution_count": 2,
      "outputs": []
    },
    {
      "cell_type": "code",
      "metadata": {
        "id": "fY3wUcuyXK_9",
        "colab_type": "code",
        "colab": {}
      },
      "source": [
        "import torchvision\n",
        "import torch\n",
        "from matplotlib import pyplot as plt\n",
        "import torch.nn as nn\n",
        "import numpy as np"
      ],
      "execution_count": 3,
      "outputs": []
    },
    {
      "cell_type": "code",
      "metadata": {
        "id": "fbq8GBypXPHi",
        "colab_type": "code",
        "colab": {}
      },
      "source": [
        "d2l.DATA_HUB['pokemon'] = (d2l.DATA_URL + 'pokemon.zip',\n",
        "                           'c065c0e2593b8b161a2d7873e42418bf6a21106c')\n",
        "data_dir = d2l.download_extract('pokemon')"
      ],
      "execution_count": 4,
      "outputs": []
    },
    {
      "cell_type": "code",
      "metadata": {
        "id": "DDx-0y05XSq_",
        "colab_type": "code",
        "colab": {}
      },
      "source": [
        "batch_size = 256\n",
        "transformer = torchvision.transforms.Compose([\n",
        "    torchvision.transforms.Resize((64, 64)),\n",
        "    torchvision.transforms.ToTensor(),\n",
        "    torchvision.transforms.Normalize(0.5, 0.5)\n",
        "])\n",
        "pokemon = torchvision.datasets.ImageFolder(data_dir, transformer)\n",
        "data_iter = torch.utils.data.DataLoader(\n",
        "    pokemon, batch_size=batch_size,\n",
        "    shuffle=True, num_workers=d2l.get_dataloader_workers())"
      ],
      "execution_count": 5,
      "outputs": []
    },
    {
      "cell_type": "markdown",
      "metadata": {
        "id": "4Hj5pEOPXrGR",
        "colab_type": "text"
      },
      "source": [
        "d2l.set_figsize((4, 4))\n",
        "for X, y in data_iter:\n",
        "    imgs = X[0:20,:,:,:].permute(0, 2, 3, 1)/2+0.5\n",
        "    d2l.show_images(imgs, num_rows=4, num_cols=5)\n",
        "    break"
      ]
    },
    {
      "cell_type": "code",
      "metadata": {
        "id": "78eO-p2EYHLr",
        "colab_type": "code",
        "colab": {}
      },
      "source": [
        "class G_block(nn.Module):\n",
        "        def __init__(self, channels, nz=3, kernel_size=4, strides=2,\n",
        "                 padding=1, **kwargs):\n",
        "            super(G_block, self).__init__(**kwargs)\n",
        "            self.conv2d = nn.ConvTranspose2d(\n",
        "                nz, channels, kernel_size, strides, padding, bias=False)\n",
        "            self.batch_norm = nn.BatchNorm2d(channels)\n",
        "            self.activation = nn.ReLU()\n",
        "        def forward(self, X):\n",
        "            return self.activation(self.batch_norm(self.conv2d(X)))"
      ],
      "execution_count": 6,
      "outputs": []
    },
    {
      "cell_type": "code",
      "metadata": {
        "id": "456gfFTLYUhn",
        "colab_type": "code",
        "colab": {
          "base_uri": "https://localhost:8080/",
          "height": 35
        },
        "outputId": "e7a01182-f10e-4ac3-a4d8-eacc236d7e16"
      },
      "source": [
        "x = torch.zeros((2, 3, 16, 16))\n",
        "g_blk = G_block(20)\n",
        "g_blk(x).shape"
      ],
      "execution_count": 7,
      "outputs": [
        {
          "output_type": "execute_result",
          "data": {
            "text/plain": [
              "torch.Size([2, 20, 32, 32])"
            ]
          },
          "metadata": {
            "tags": []
          },
          "execution_count": 7
        }
      ]
    },
    {
      "cell_type": "code",
      "metadata": {
        "id": "Lwdcq7baYdrj",
        "colab_type": "code",
        "colab": {
          "base_uri": "https://localhost:8080/",
          "height": 35
        },
        "outputId": "07b79c31-d24f-4014-ad69-5b02b0c95512"
      },
      "source": [
        "x = torch.zeros((2, 3, 1, 1))\n",
        "g_blk = G_block(20, strides=1, padding=0)\n",
        "g_blk(x).shape"
      ],
      "execution_count": 8,
      "outputs": [
        {
          "output_type": "execute_result",
          "data": {
            "text/plain": [
              "torch.Size([2, 20, 4, 4])"
            ]
          },
          "metadata": {
            "tags": []
          },
          "execution_count": 8
        }
      ]
    },
    {
      "cell_type": "code",
      "metadata": {
        "id": "H7RfubIuYuKV",
        "colab_type": "code",
        "colab": {}
      },
      "source": [
        "def Conv2DTranspose(channels, kernel_size, strides, padding, use_bias, nc=3):\n",
        "    return nn.ConvTranspose2d(nc, channels, kernel_size=kernel_size,stride=strides, padding=padding, bias=use_bias)"
      ],
      "execution_count": 9,
      "outputs": []
    },
    {
      "cell_type": "code",
      "metadata": {
        "id": "5Sxw3J6QYq35",
        "colab_type": "code",
        "colab": {}
      },
      "source": [
        "n_G = 64\n",
        "net_G = nn.Sequential(\n",
        "    G_block(n_G*8, nz=100, strides=1, padding=0),  # Output: (64 * 8, 4, 4)\n",
        "    G_block(n_G*4, n_G*8),  # Output: (64 * 4, 8, 8)\n",
        "    G_block(n_G*2, n_G*4),  # Output: (64 * 2, 16, 16)\n",
        "    G_block(n_G, n_G*2),    # Output: (64, 32, 32)\n",
        "    Conv2DTranspose(\n",
        "              3, nc=n_G, kernel_size=4, strides=2, padding=1, use_bias=False),\n",
        "    nn.Tanh()               # Output: (3, 64, 64)\n",
        ")"
      ],
      "execution_count": 10,
      "outputs": []
    },
    {
      "cell_type": "code",
      "metadata": {
        "id": "er6-3aKVZBO3",
        "colab_type": "code",
        "colab": {
          "base_uri": "https://localhost:8080/",
          "height": 453
        },
        "outputId": "a91be221-7618-45fb-fc08-df7e7ffe0f9f"
      },
      "source": [
        "print(net_G)"
      ],
      "execution_count": 11,
      "outputs": [
        {
          "output_type": "stream",
          "text": [
            "Sequential(\n",
            "  (0): G_block(\n",
            "    (conv2d): ConvTranspose2d(100, 512, kernel_size=(4, 4), stride=(1, 1), bias=False)\n",
            "    (batch_norm): BatchNorm2d(512, eps=1e-05, momentum=0.1, affine=True, track_running_stats=True)\n",
            "    (activation): ReLU()\n",
            "  )\n",
            "  (1): G_block(\n",
            "    (conv2d): ConvTranspose2d(512, 256, kernel_size=(4, 4), stride=(2, 2), padding=(1, 1), bias=False)\n",
            "    (batch_norm): BatchNorm2d(256, eps=1e-05, momentum=0.1, affine=True, track_running_stats=True)\n",
            "    (activation): ReLU()\n",
            "  )\n",
            "  (2): G_block(\n",
            "    (conv2d): ConvTranspose2d(256, 128, kernel_size=(4, 4), stride=(2, 2), padding=(1, 1), bias=False)\n",
            "    (batch_norm): BatchNorm2d(128, eps=1e-05, momentum=0.1, affine=True, track_running_stats=True)\n",
            "    (activation): ReLU()\n",
            "  )\n",
            "  (3): G_block(\n",
            "    (conv2d): ConvTranspose2d(128, 64, kernel_size=(4, 4), stride=(2, 2), padding=(1, 1), bias=False)\n",
            "    (batch_norm): BatchNorm2d(64, eps=1e-05, momentum=0.1, affine=True, track_running_stats=True)\n",
            "    (activation): ReLU()\n",
            "  )\n",
            "  (4): ConvTranspose2d(64, 3, kernel_size=(4, 4), stride=(2, 2), padding=(1, 1), bias=False)\n",
            "  (5): Tanh()\n",
            ")\n"
          ],
          "name": "stdout"
        }
      ]
    },
    {
      "cell_type": "code",
      "metadata": {
        "id": "V9amf1uLZFJZ",
        "colab_type": "code",
        "colab": {
          "base_uri": "https://localhost:8080/",
          "height": 35
        },
        "outputId": "7b5786f4-4749-4d7e-b5c5-9d0b621ca167"
      },
      "source": [
        "x = torch.zeros((1, 100, 1, 1))\n",
        "net_G(x).shape"
      ],
      "execution_count": 12,
      "outputs": [
        {
          "output_type": "execute_result",
          "data": {
            "text/plain": [
              "torch.Size([1, 3, 64, 64])"
            ]
          },
          "metadata": {
            "tags": []
          },
          "execution_count": 12
        }
      ]
    },
    {
      "cell_type": "code",
      "metadata": {
        "id": "m8LSIHiDZHeG",
        "colab_type": "code",
        "colab": {
          "base_uri": "https://localhost:8080/",
          "height": 267
        },
        "outputId": "4dcbf24c-4841-4633-8638-f142efaf2091"
      },
      "source": [
        "alphas = [0, 0.2, 0.4, .6, .8, 1]\n",
        "x = torch.arange(-2, 1, 0.1)\n",
        "Y = [nn.LeakyReLU(alpha)(x).numpy() for alpha in alphas]\n",
        "d2l.plot(x.numpy(), Y, 'x', 'y', alphas)"
      ],
      "execution_count": 13,
      "outputs": [
        {
          "output_type": "display_data",
          "data": {
            "text/plain": [
              "<Figure size 252x180 with 1 Axes>"
            ],
            "image/svg+xml": "<?xml version=\"1.0\" encoding=\"utf-8\" standalone=\"no\"?>\n<!DOCTYPE svg PUBLIC \"-//W3C//DTD SVG 1.1//EN\"\n  \"http://www.w3.org/Graphics/SVG/1.1/DTD/svg11.dtd\">\n<!-- Created with matplotlib (https://matplotlib.org/) -->\n<svg height=\"184.161314pt\" version=\"1.1\" viewBox=\"0 0 255.087173 184.161314\" width=\"255.087173pt\" xmlns=\"http://www.w3.org/2000/svg\" xmlns:xlink=\"http://www.w3.org/1999/xlink\">\n <defs>\n  <style type=\"text/css\">\n*{stroke-linecap:butt;stroke-linejoin:round;}\n  </style>\n </defs>\n <g id=\"figure_1\">\n  <g id=\"patch_1\">\n   <path d=\"M 0 184.161314 \nL 255.087173 184.161314 \nL 255.087173 -0 \nL 0 -0 \nz\n\" style=\"fill:none;\"/>\n  </g>\n  <g id=\"axes_1\">\n   <g id=\"patch_2\">\n    <path d=\"M 52.160938 146.605064 \nL 247.460938 146.605064 \nL 247.460938 10.705064 \nL 52.160938 10.705064 \nz\n\" style=\"fill:#ffffff;\"/>\n   </g>\n   <g id=\"matplotlib.axis_1\">\n    <g id=\"xtick_1\">\n     <g id=\"line2d_1\">\n      <path clip-path=\"url(#pb89fa8fb2f)\" d=\"M 61.03821 146.605064 \nL 61.03821 10.705064 \n\" style=\"fill:none;stroke:#b0b0b0;stroke-linecap:square;stroke-width:0.8;\"/>\n     </g>\n     <g id=\"line2d_2\">\n      <defs>\n       <path d=\"M 0 0 \nL 0 3.5 \n\" id=\"m161789399e\" style=\"stroke:#000000;stroke-width:0.8;\"/>\n      </defs>\n      <g>\n       <use style=\"stroke:#000000;stroke-width:0.8;\" x=\"61.03821\" xlink:href=\"#m161789399e\" y=\"146.605064\"/>\n      </g>\n     </g>\n     <g id=\"text_1\">\n      <!-- −2 -->\n      <defs>\n       <path d=\"M 10.59375 35.5 \nL 73.1875 35.5 \nL 73.1875 27.203125 \nL 10.59375 27.203125 \nz\n\" id=\"DejaVuSans-8722\"/>\n       <path d=\"M 19.1875 8.296875 \nL 53.609375 8.296875 \nL 53.609375 0 \nL 7.328125 0 \nL 7.328125 8.296875 \nQ 12.9375 14.109375 22.625 23.890625 \nQ 32.328125 33.6875 34.8125 36.53125 \nQ 39.546875 41.84375 41.421875 45.53125 \nQ 43.3125 49.21875 43.3125 52.78125 \nQ 43.3125 58.59375 39.234375 62.25 \nQ 35.15625 65.921875 28.609375 65.921875 \nQ 23.96875 65.921875 18.8125 64.3125 \nQ 13.671875 62.703125 7.8125 59.421875 \nL 7.8125 69.390625 \nQ 13.765625 71.78125 18.9375 73 \nQ 24.125 74.21875 28.421875 74.21875 \nQ 39.75 74.21875 46.484375 68.546875 \nQ 53.21875 62.890625 53.21875 53.421875 \nQ 53.21875 48.921875 51.53125 44.890625 \nQ 49.859375 40.875 45.40625 35.40625 \nQ 44.1875 33.984375 37.640625 27.21875 \nQ 31.109375 20.453125 19.1875 8.296875 \nz\n\" id=\"DejaVuSans-50\"/>\n      </defs>\n      <g transform=\"translate(53.667116 161.203502)scale(0.1 -0.1)\">\n       <use xlink:href=\"#DejaVuSans-8722\"/>\n       <use x=\"83.789062\" xlink:href=\"#DejaVuSans-50\"/>\n      </g>\n     </g>\n    </g>\n    <g id=\"xtick_2\">\n     <g id=\"line2d_3\">\n      <path clip-path=\"url(#pb89fa8fb2f)\" d=\"M 122.260781 146.605064 \nL 122.260781 10.705064 \n\" style=\"fill:none;stroke:#b0b0b0;stroke-linecap:square;stroke-width:0.8;\"/>\n     </g>\n     <g id=\"line2d_4\">\n      <g>\n       <use style=\"stroke:#000000;stroke-width:0.8;\" x=\"122.260781\" xlink:href=\"#m161789399e\" y=\"146.605064\"/>\n      </g>\n     </g>\n     <g id=\"text_2\">\n      <!-- −1 -->\n      <defs>\n       <path d=\"M 12.40625 8.296875 \nL 28.515625 8.296875 \nL 28.515625 63.921875 \nL 10.984375 60.40625 \nL 10.984375 69.390625 \nL 28.421875 72.90625 \nL 38.28125 72.90625 \nL 38.28125 8.296875 \nL 54.390625 8.296875 \nL 54.390625 0 \nL 12.40625 0 \nz\n\" id=\"DejaVuSans-49\"/>\n      </defs>\n      <g transform=\"translate(114.889688 161.203502)scale(0.1 -0.1)\">\n       <use xlink:href=\"#DejaVuSans-8722\"/>\n       <use x=\"83.789062\" xlink:href=\"#DejaVuSans-49\"/>\n      </g>\n     </g>\n    </g>\n    <g id=\"xtick_3\">\n     <g id=\"line2d_5\">\n      <path clip-path=\"url(#pb89fa8fb2f)\" d=\"M 183.483352 146.605064 \nL 183.483352 10.705064 \n\" style=\"fill:none;stroke:#b0b0b0;stroke-linecap:square;stroke-width:0.8;\"/>\n     </g>\n     <g id=\"line2d_6\">\n      <g>\n       <use style=\"stroke:#000000;stroke-width:0.8;\" x=\"183.483352\" xlink:href=\"#m161789399e\" y=\"146.605064\"/>\n      </g>\n     </g>\n     <g id=\"text_3\">\n      <!-- 0 -->\n      <defs>\n       <path d=\"M 31.78125 66.40625 \nQ 24.171875 66.40625 20.328125 58.90625 \nQ 16.5 51.421875 16.5 36.375 \nQ 16.5 21.390625 20.328125 13.890625 \nQ 24.171875 6.390625 31.78125 6.390625 \nQ 39.453125 6.390625 43.28125 13.890625 \nQ 47.125 21.390625 47.125 36.375 \nQ 47.125 51.421875 43.28125 58.90625 \nQ 39.453125 66.40625 31.78125 66.40625 \nz\nM 31.78125 74.21875 \nQ 44.046875 74.21875 50.515625 64.515625 \nQ 56.984375 54.828125 56.984375 36.375 \nQ 56.984375 17.96875 50.515625 8.265625 \nQ 44.046875 -1.421875 31.78125 -1.421875 \nQ 19.53125 -1.421875 13.0625 8.265625 \nQ 6.59375 17.96875 6.59375 36.375 \nQ 6.59375 54.828125 13.0625 64.515625 \nQ 19.53125 74.21875 31.78125 74.21875 \nz\n\" id=\"DejaVuSans-48\"/>\n      </defs>\n      <g transform=\"translate(180.302102 161.203502)scale(0.1 -0.1)\">\n       <use xlink:href=\"#DejaVuSans-48\"/>\n      </g>\n     </g>\n    </g>\n    <g id=\"xtick_4\">\n     <g id=\"line2d_7\">\n      <path clip-path=\"url(#pb89fa8fb2f)\" d=\"M 244.705923 146.605064 \nL 244.705923 10.705064 \n\" style=\"fill:none;stroke:#b0b0b0;stroke-linecap:square;stroke-width:0.8;\"/>\n     </g>\n     <g id=\"line2d_8\">\n      <g>\n       <use style=\"stroke:#000000;stroke-width:0.8;\" x=\"244.705923\" xlink:href=\"#m161789399e\" y=\"146.605064\"/>\n      </g>\n     </g>\n     <g id=\"text_4\">\n      <!-- 1 -->\n      <g transform=\"translate(241.524673 161.203502)scale(0.1 -0.1)\">\n       <use xlink:href=\"#DejaVuSans-49\"/>\n      </g>\n     </g>\n    </g>\n    <g id=\"text_5\">\n     <!-- x -->\n     <defs>\n      <path d=\"M 54.890625 54.6875 \nL 35.109375 28.078125 \nL 55.90625 0 \nL 45.3125 0 \nL 29.390625 21.484375 \nL 13.484375 0 \nL 2.875 0 \nL 24.125 28.609375 \nL 4.6875 54.6875 \nL 15.28125 54.6875 \nL 29.78125 35.203125 \nL 44.28125 54.6875 \nz\n\" id=\"DejaVuSans-120\"/>\n     </defs>\n     <g transform=\"translate(146.851563 174.881627)scale(0.1 -0.1)\">\n      <use xlink:href=\"#DejaVuSans-120\"/>\n     </g>\n    </g>\n   </g>\n   <g id=\"matplotlib.axis_2\">\n    <g id=\"ytick_1\">\n     <g id=\"line2d_9\">\n      <path clip-path=\"url(#pb89fa8fb2f)\" d=\"M 52.160938 128.661555 \nL 247.460938 128.661555 \n\" style=\"fill:none;stroke:#b0b0b0;stroke-linecap:square;stroke-width:0.8;\"/>\n     </g>\n     <g id=\"line2d_10\">\n      <defs>\n       <path d=\"M 0 0 \nL -3.5 0 \n\" id=\"mc73f07f461\" style=\"stroke:#000000;stroke-width:0.8;\"/>\n      </defs>\n      <g>\n       <use style=\"stroke:#000000;stroke-width:0.8;\" x=\"52.160938\" xlink:href=\"#mc73f07f461\" y=\"128.661555\"/>\n      </g>\n     </g>\n     <g id=\"text_6\">\n      <!-- −1.0 -->\n      <defs>\n       <path d=\"M 10.6875 12.40625 \nL 21 12.40625 \nL 21 0 \nL 10.6875 0 \nz\n\" id=\"DejaVuSans-46\"/>\n      </defs>\n      <g transform=\"translate(20.878125 132.460774)scale(0.1 -0.1)\">\n       <use xlink:href=\"#DejaVuSans-8722\"/>\n       <use x=\"83.789062\" xlink:href=\"#DejaVuSans-49\"/>\n       <use x=\"147.412109\" xlink:href=\"#DejaVuSans-46\"/>\n       <use x=\"179.199219\" xlink:href=\"#DejaVuSans-48\"/>\n      </g>\n     </g>\n    </g>\n    <g id=\"ytick_2\">\n     <g id=\"line2d_11\">\n      <path clip-path=\"url(#pb89fa8fb2f)\" d=\"M 52.160938 99.245971 \nL 247.460938 99.245971 \n\" style=\"fill:none;stroke:#b0b0b0;stroke-linecap:square;stroke-width:0.8;\"/>\n     </g>\n     <g id=\"line2d_12\">\n      <g>\n       <use style=\"stroke:#000000;stroke-width:0.8;\" x=\"52.160938\" xlink:href=\"#mc73f07f461\" y=\"99.245971\"/>\n      </g>\n     </g>\n     <g id=\"text_7\">\n      <!-- −0.5 -->\n      <defs>\n       <path d=\"M 10.796875 72.90625 \nL 49.515625 72.90625 \nL 49.515625 64.59375 \nL 19.828125 64.59375 \nL 19.828125 46.734375 \nQ 21.96875 47.46875 24.109375 47.828125 \nQ 26.265625 48.1875 28.421875 48.1875 \nQ 40.625 48.1875 47.75 41.5 \nQ 54.890625 34.8125 54.890625 23.390625 \nQ 54.890625 11.625 47.5625 5.09375 \nQ 40.234375 -1.421875 26.90625 -1.421875 \nQ 22.3125 -1.421875 17.546875 -0.640625 \nQ 12.796875 0.140625 7.71875 1.703125 \nL 7.71875 11.625 \nQ 12.109375 9.234375 16.796875 8.0625 \nQ 21.484375 6.890625 26.703125 6.890625 \nQ 35.15625 6.890625 40.078125 11.328125 \nQ 45.015625 15.765625 45.015625 23.390625 \nQ 45.015625 31 40.078125 35.4375 \nQ 35.15625 39.890625 26.703125 39.890625 \nQ 22.75 39.890625 18.8125 39.015625 \nQ 14.890625 38.140625 10.796875 36.28125 \nz\n\" id=\"DejaVuSans-53\"/>\n      </defs>\n      <g transform=\"translate(20.878125 103.04519)scale(0.1 -0.1)\">\n       <use xlink:href=\"#DejaVuSans-8722\"/>\n       <use x=\"83.789062\" xlink:href=\"#DejaVuSans-48\"/>\n       <use x=\"147.412109\" xlink:href=\"#DejaVuSans-46\"/>\n       <use x=\"179.199219\" xlink:href=\"#DejaVuSans-53\"/>\n      </g>\n     </g>\n    </g>\n    <g id=\"ytick_3\">\n     <g id=\"line2d_13\">\n      <path clip-path=\"url(#pb89fa8fb2f)\" d=\"M 52.160938 69.830387 \nL 247.460938 69.830387 \n\" style=\"fill:none;stroke:#b0b0b0;stroke-linecap:square;stroke-width:0.8;\"/>\n     </g>\n     <g id=\"line2d_14\">\n      <g>\n       <use style=\"stroke:#000000;stroke-width:0.8;\" x=\"52.160938\" xlink:href=\"#mc73f07f461\" y=\"69.830387\"/>\n      </g>\n     </g>\n     <g id=\"text_8\">\n      <!-- 0.0 -->\n      <g transform=\"translate(29.257812 73.629606)scale(0.1 -0.1)\">\n       <use xlink:href=\"#DejaVuSans-48\"/>\n       <use x=\"63.623047\" xlink:href=\"#DejaVuSans-46\"/>\n       <use x=\"95.410156\" xlink:href=\"#DejaVuSans-48\"/>\n      </g>\n     </g>\n    </g>\n    <g id=\"ytick_4\">\n     <g id=\"line2d_15\">\n      <path clip-path=\"url(#pb89fa8fb2f)\" d=\"M 52.160938 40.414803 \nL 247.460938 40.414803 \n\" style=\"fill:none;stroke:#b0b0b0;stroke-linecap:square;stroke-width:0.8;\"/>\n     </g>\n     <g id=\"line2d_16\">\n      <g>\n       <use style=\"stroke:#000000;stroke-width:0.8;\" x=\"52.160938\" xlink:href=\"#mc73f07f461\" y=\"40.414803\"/>\n      </g>\n     </g>\n     <g id=\"text_9\">\n      <!-- 0.5 -->\n      <g transform=\"translate(29.257812 44.214022)scale(0.1 -0.1)\">\n       <use xlink:href=\"#DejaVuSans-48\"/>\n       <use x=\"63.623047\" xlink:href=\"#DejaVuSans-46\"/>\n       <use x=\"95.410156\" xlink:href=\"#DejaVuSans-53\"/>\n      </g>\n     </g>\n    </g>\n    <g id=\"ytick_5\">\n     <g id=\"line2d_17\">\n      <path clip-path=\"url(#pb89fa8fb2f)\" d=\"M 52.160938 10.999219 \nL 247.460938 10.999219 \n\" style=\"fill:none;stroke:#b0b0b0;stroke-linecap:square;stroke-width:0.8;\"/>\n     </g>\n     <g id=\"line2d_18\">\n      <g>\n       <use style=\"stroke:#000000;stroke-width:0.8;\" x=\"52.160938\" xlink:href=\"#mc73f07f461\" y=\"10.999219\"/>\n      </g>\n     </g>\n     <g id=\"text_10\">\n      <!-- 1.0 -->\n      <g transform=\"translate(29.257812 14.798437)scale(0.1 -0.1)\">\n       <use xlink:href=\"#DejaVuSans-49\"/>\n       <use x=\"63.623047\" xlink:href=\"#DejaVuSans-46\"/>\n       <use x=\"95.410156\" xlink:href=\"#DejaVuSans-48\"/>\n      </g>\n     </g>\n    </g>\n    <g id=\"text_11\">\n     <!-- y -->\n     <defs>\n      <path d=\"M 32.171875 -5.078125 \nQ 28.375 -14.84375 24.75 -17.8125 \nQ 21.140625 -20.796875 15.09375 -20.796875 \nL 7.90625 -20.796875 \nL 7.90625 -13.28125 \nL 13.1875 -13.28125 \nQ 16.890625 -13.28125 18.9375 -11.515625 \nQ 21 -9.765625 23.484375 -3.21875 \nL 25.09375 0.875 \nL 2.984375 54.6875 \nL 12.5 54.6875 \nL 29.59375 11.921875 \nL 46.6875 54.6875 \nL 56.203125 54.6875 \nz\n\" id=\"DejaVuSans-121\"/>\n     </defs>\n     <g transform=\"translate(14.798438 81.614439)rotate(-90)scale(0.1 -0.1)\">\n      <use xlink:href=\"#DejaVuSans-121\"/>\n     </g>\n    </g>\n   </g>\n   <g id=\"line2d_19\">\n    <path clip-path=\"url(#pb89fa8fb2f)\" d=\"M 61.03821 69.830387 \nL 67.160469 69.830387 \nL 73.282727 69.830387 \nL 79.404979 69.830387 \nL 85.527237 69.830387 \nL 91.649496 69.830387 \nL 97.771754 69.830387 \nL 103.894013 69.830387 \nL 110.016264 69.830387 \nL 116.138523 69.830387 \nL 122.260781 69.830387 \nL 128.38304 69.830387 \nL 134.505295 69.830387 \nL 140.627553 69.830387 \nL 146.749808 69.830387 \nL 152.872067 69.830387 \nL 158.994324 69.830387 \nL 165.11658 69.830387 \nL 171.238838 69.830387 \nL 177.361095 69.830387 \nL 183.483352 69.830387 \nL 189.605609 63.94727 \nL 195.727867 58.064153 \nL 201.850124 52.181036 \nL 207.972381 46.297919 \nL 214.094638 40.414803 \nL 220.216896 34.531685 \nL 226.339151 28.64857 \nL 232.46141 22.765452 \nL 238.583665 16.882337 \n\" style=\"fill:none;stroke:#1f77b4;stroke-linecap:square;stroke-width:1.5;\"/>\n   </g>\n   <g id=\"line2d_20\">\n    <path clip-path=\"url(#pb89fa8fb2f)\" d=\"M 61.03821 93.362855 \nL 67.160469 92.186231 \nL 73.282727 91.009607 \nL 79.404979 89.832984 \nL 85.527237 88.656362 \nL 91.649496 87.479738 \nL 97.771754 86.303114 \nL 103.894013 85.12649 \nL 110.016264 83.949868 \nL 116.138523 82.773245 \nL 122.260781 81.596621 \nL 128.38304 80.419997 \nL 134.505295 79.243374 \nL 140.627553 78.06675 \nL 146.749808 76.890127 \nL 152.872067 75.713504 \nL 158.994324 74.536881 \nL 165.11658 73.360257 \nL 171.238838 72.183634 \nL 177.361095 71.00701 \nL 183.483352 69.830387 \nL 189.605609 63.94727 \nL 195.727867 58.064153 \nL 201.850124 52.181036 \nL 207.972381 46.297919 \nL 214.094638 40.414803 \nL 220.216896 34.531685 \nL 226.339151 28.64857 \nL 232.46141 22.765452 \nL 238.583665 16.882337 \n\" style=\"fill:none;stroke:#bf00bf;stroke-dasharray:5.55,2.4;stroke-dashoffset:0;stroke-width:1.5;\"/>\n   </g>\n   <g id=\"line2d_21\">\n    <path clip-path=\"url(#pb89fa8fb2f)\" d=\"M 61.03821 116.895322 \nL 67.160469 114.542074 \nL 73.282727 112.188826 \nL 79.404979 109.835582 \nL 85.527237 107.482337 \nL 91.649496 105.129089 \nL 97.771754 102.775841 \nL 103.894013 100.422593 \nL 110.016264 98.069349 \nL 116.138523 95.716103 \nL 122.260781 93.362855 \nL 128.38304 91.009607 \nL 134.505295 88.656362 \nL 140.627553 86.303114 \nL 146.749808 83.949868 \nL 152.872067 81.596621 \nL 158.994324 79.243374 \nL 165.11658 76.890127 \nL 171.238838 74.536881 \nL 177.361095 72.183634 \nL 183.483352 69.830387 \nL 189.605609 63.94727 \nL 195.727867 58.064153 \nL 201.850124 52.181036 \nL 207.972381 46.297919 \nL 214.094638 40.414803 \nL 220.216896 34.531685 \nL 226.339151 28.64857 \nL 232.46141 22.765452 \nL 238.583665 16.882337 \n\" style=\"fill:none;stroke:#008000;stroke-dasharray:9.6,2.4,1.5,2.4;stroke-dashoffset:0;stroke-width:1.5;\"/>\n   </g>\n   <g id=\"line2d_22\">\n    <path clip-path=\"url(#pb89fa8fb2f)\" d=\"M 61.03821 140.427792 \nL 67.160469 136.897918 \nL 73.282727 133.368051 \nL 79.404979 129.838184 \nL 85.527237 126.308311 \nL 91.649496 122.77844 \nL 97.771754 119.24857 \nL 103.894013 115.7187 \nL 110.016264 112.18883 \nL 116.138523 108.658959 \nL 122.260781 105.129089 \nL 128.38304 101.599219 \nL 134.505295 98.069349 \nL 140.627553 94.539479 \nL 146.749808 91.009608 \nL 152.872067 87.479738 \nL 158.994324 83.949868 \nL 165.11658 80.419998 \nL 171.238838 76.890127 \nL 177.361095 73.360257 \nL 183.483352 69.830387 \nL 189.605609 63.94727 \nL 195.727867 58.064153 \nL 201.850124 52.181036 \nL 207.972381 46.297919 \nL 214.094638 40.414803 \nL 220.216896 34.531685 \nL 226.339151 28.64857 \nL 232.46141 22.765452 \nL 238.583665 16.882337 \n\" style=\"fill:none;stroke:#ff0000;stroke-dasharray:1.5,2.475;stroke-dashoffset:0;stroke-width:1.5;\"/>\n   </g>\n   <g id=\"patch_3\">\n    <path d=\"M 52.160938 146.605064 \nL 52.160938 10.705064 \n\" style=\"fill:none;stroke:#000000;stroke-linecap:square;stroke-linejoin:miter;stroke-width:0.8;\"/>\n   </g>\n   <g id=\"patch_4\">\n    <path d=\"M 247.460938 146.605064 \nL 247.460938 10.705064 \n\" style=\"fill:none;stroke:#000000;stroke-linecap:square;stroke-linejoin:miter;stroke-width:0.8;\"/>\n   </g>\n   <g id=\"patch_5\">\n    <path d=\"M 52.160938 146.605064 \nL 247.460938 146.605064 \n\" style=\"fill:none;stroke:#000000;stroke-linecap:square;stroke-linejoin:miter;stroke-width:0.8;\"/>\n   </g>\n   <g id=\"patch_6\">\n    <path d=\"M 52.160938 10.705064 \nL 247.460938 10.705064 \n\" style=\"fill:none;stroke:#000000;stroke-linecap:square;stroke-linejoin:miter;stroke-width:0.8;\"/>\n   </g>\n   <g id=\"legend_1\">\n    <g id=\"patch_7\">\n     <path d=\"M 192.557813 141.605064 \nL 240.460938 141.605064 \nQ 242.460938 141.605064 242.460938 139.605064 \nL 242.460938 81.892564 \nQ 242.460938 79.892564 240.460938 79.892564 \nL 192.557813 79.892564 \nQ 190.557813 79.892564 190.557813 81.892564 \nL 190.557813 139.605064 \nQ 190.557813 141.605064 192.557813 141.605064 \nz\n\" style=\"fill:#ffffff;opacity:0.8;stroke:#cccccc;stroke-linejoin:miter;\"/>\n    </g>\n    <g id=\"line2d_23\">\n     <path d=\"M 194.557813 87.991002 \nL 214.557813 87.991002 \n\" style=\"fill:none;stroke:#1f77b4;stroke-linecap:square;stroke-width:1.5;\"/>\n    </g>\n    <g id=\"line2d_24\"/>\n    <g id=\"text_12\">\n     <!-- 0 -->\n     <g transform=\"translate(222.557813 91.491002)scale(0.1 -0.1)\">\n      <use xlink:href=\"#DejaVuSans-48\"/>\n     </g>\n    </g>\n    <g id=\"line2d_25\">\n     <path d=\"M 194.557813 102.669127 \nL 214.557813 102.669127 \n\" style=\"fill:none;stroke:#bf00bf;stroke-dasharray:5.55,2.4;stroke-dashoffset:0;stroke-width:1.5;\"/>\n    </g>\n    <g id=\"line2d_26\"/>\n    <g id=\"text_13\">\n     <!-- 0.2 -->\n     <g transform=\"translate(222.557813 106.169127)scale(0.1 -0.1)\">\n      <use xlink:href=\"#DejaVuSans-48\"/>\n      <use x=\"63.623047\" xlink:href=\"#DejaVuSans-46\"/>\n      <use x=\"95.410156\" xlink:href=\"#DejaVuSans-50\"/>\n     </g>\n    </g>\n    <g id=\"line2d_27\">\n     <path d=\"M 194.557813 117.347252 \nL 214.557813 117.347252 \n\" style=\"fill:none;stroke:#008000;stroke-dasharray:9.6,2.4,1.5,2.4;stroke-dashoffset:0;stroke-width:1.5;\"/>\n    </g>\n    <g id=\"line2d_28\"/>\n    <g id=\"text_14\">\n     <!-- 0.4 -->\n     <defs>\n      <path d=\"M 37.796875 64.3125 \nL 12.890625 25.390625 \nL 37.796875 25.390625 \nz\nM 35.203125 72.90625 \nL 47.609375 72.90625 \nL 47.609375 25.390625 \nL 58.015625 25.390625 \nL 58.015625 17.1875 \nL 47.609375 17.1875 \nL 47.609375 0 \nL 37.796875 0 \nL 37.796875 17.1875 \nL 4.890625 17.1875 \nL 4.890625 26.703125 \nz\n\" id=\"DejaVuSans-52\"/>\n     </defs>\n     <g transform=\"translate(222.557813 120.847252)scale(0.1 -0.1)\">\n      <use xlink:href=\"#DejaVuSans-48\"/>\n      <use x=\"63.623047\" xlink:href=\"#DejaVuSans-46\"/>\n      <use x=\"95.410156\" xlink:href=\"#DejaVuSans-52\"/>\n     </g>\n    </g>\n    <g id=\"line2d_29\">\n     <path d=\"M 194.557813 132.025377 \nL 214.557813 132.025377 \n\" style=\"fill:none;stroke:#ff0000;stroke-dasharray:1.5,2.475;stroke-dashoffset:0;stroke-width:1.5;\"/>\n    </g>\n    <g id=\"line2d_30\"/>\n    <g id=\"text_15\">\n     <!-- 0.6 -->\n     <defs>\n      <path d=\"M 33.015625 40.375 \nQ 26.375 40.375 22.484375 35.828125 \nQ 18.609375 31.296875 18.609375 23.390625 \nQ 18.609375 15.53125 22.484375 10.953125 \nQ 26.375 6.390625 33.015625 6.390625 \nQ 39.65625 6.390625 43.53125 10.953125 \nQ 47.40625 15.53125 47.40625 23.390625 \nQ 47.40625 31.296875 43.53125 35.828125 \nQ 39.65625 40.375 33.015625 40.375 \nz\nM 52.59375 71.296875 \nL 52.59375 62.3125 \nQ 48.875 64.0625 45.09375 64.984375 \nQ 41.3125 65.921875 37.59375 65.921875 \nQ 27.828125 65.921875 22.671875 59.328125 \nQ 17.53125 52.734375 16.796875 39.40625 \nQ 19.671875 43.65625 24.015625 45.921875 \nQ 28.375 48.1875 33.59375 48.1875 \nQ 44.578125 48.1875 50.953125 41.515625 \nQ 57.328125 34.859375 57.328125 23.390625 \nQ 57.328125 12.15625 50.6875 5.359375 \nQ 44.046875 -1.421875 33.015625 -1.421875 \nQ 20.359375 -1.421875 13.671875 8.265625 \nQ 6.984375 17.96875 6.984375 36.375 \nQ 6.984375 53.65625 15.1875 63.9375 \nQ 23.390625 74.21875 37.203125 74.21875 \nQ 40.921875 74.21875 44.703125 73.484375 \nQ 48.484375 72.75 52.59375 71.296875 \nz\n\" id=\"DejaVuSans-54\"/>\n     </defs>\n     <g transform=\"translate(222.557813 135.525377)scale(0.1 -0.1)\">\n      <use xlink:href=\"#DejaVuSans-48\"/>\n      <use x=\"63.623047\" xlink:href=\"#DejaVuSans-46\"/>\n      <use x=\"95.410156\" xlink:href=\"#DejaVuSans-54\"/>\n     </g>\n    </g>\n   </g>\n  </g>\n </g>\n <defs>\n  <clipPath id=\"pb89fa8fb2f\">\n   <rect height=\"135.9\" width=\"195.3\" x=\"52.160938\" y=\"10.705064\"/>\n  </clipPath>\n </defs>\n</svg>\n"
          },
          "metadata": {
            "tags": [],
            "needs_background": "light"
          }
        }
      ]
    },
    {
      "cell_type": "code",
      "metadata": {
        "id": "4VC43EPMZKMf",
        "colab_type": "code",
        "colab": {}
      },
      "source": [
        "class D_block(nn.Module):\n",
        "        def __init__(self, channels, nc=3, kernel_size=4, strides=2,\n",
        "                 padding=1, alpha=0.2, **kwargs):# nc: in_channels\n",
        "            super(D_block, self).__init__(**kwargs)\n",
        "            self.conv2d = nn.Conv2d(\n",
        "                nc, channels, kernel_size, strides, padding, bias=False)\n",
        "            self.batch_norm = nn.BatchNorm2d(channels)\n",
        "            self.activation = nn.LeakyReLU(alpha)\n",
        "\n",
        "        def forward(self, X):\n",
        "            return self.activation(self.batch_norm(self.conv2d(X)))"
      ],
      "execution_count": 14,
      "outputs": []
    },
    {
      "cell_type": "code",
      "metadata": {
        "id": "L-60LZ2uZUA2",
        "colab_type": "code",
        "colab": {
          "base_uri": "https://localhost:8080/",
          "height": 35
        },
        "outputId": "226519bc-a2cf-49ab-abd5-5ab1a2656bc5"
      },
      "source": [
        "x = torch.zeros((2, 3, 16, 16))\n",
        "d_blk = D_block(20)\n",
        "d_blk(x).shape"
      ],
      "execution_count": 15,
      "outputs": [
        {
          "output_type": "execute_result",
          "data": {
            "text/plain": [
              "torch.Size([2, 20, 8, 8])"
            ]
          },
          "metadata": {
            "tags": []
          },
          "execution_count": 15
        }
      ]
    },
    {
      "cell_type": "code",
      "metadata": {
        "id": "DEHcAjDzZXSu",
        "colab_type": "code",
        "colab": {}
      },
      "source": [
        "def Conv2D(channels, kernel_size, use_bias, nc=3):\n",
        "    return nn.Conv2d(nc, channels, kernel_size=kernel_size, bias=use_bias)"
      ],
      "execution_count": 16,
      "outputs": []
    },
    {
      "cell_type": "code",
      "metadata": {
        "id": "F6ZEBVQqZZpD",
        "colab_type": "code",
        "colab": {}
      },
      "source": [
        "n_D = 64\n",
        "net_D = nn.Sequential(\n",
        "    D_block(n_D),    # Output: (64, 32, 32)\n",
        "    D_block(n_D*2, n_D),  # Output: (64 * 2, 16, 16)\n",
        "    D_block(n_D*4, n_D*2),  # Output: (64 * 4, 8, 8)\n",
        "    D_block(n_D*8, n_D*4),  # Output: (64 * 8, 4, 4)\n",
        "    Conv2D(1, nc=n_D*8, kernel_size=4, use_bias=False) # Output: (1, 1, 1)\n",
        ")"
      ],
      "execution_count": 17,
      "outputs": []
    },
    {
      "cell_type": "code",
      "metadata": {
        "id": "2aZ9q5UeZcbT",
        "colab_type": "code",
        "colab": {
          "base_uri": "https://localhost:8080/",
          "height": 436
        },
        "outputId": "85888725-f9a6-4fb0-c339-e17ee95f4c65"
      },
      "source": [
        "print(net_D)"
      ],
      "execution_count": 18,
      "outputs": [
        {
          "output_type": "stream",
          "text": [
            "Sequential(\n",
            "  (0): D_block(\n",
            "    (conv2d): Conv2d(3, 64, kernel_size=(4, 4), stride=(2, 2), padding=(1, 1), bias=False)\n",
            "    (batch_norm): BatchNorm2d(64, eps=1e-05, momentum=0.1, affine=True, track_running_stats=True)\n",
            "    (activation): LeakyReLU(negative_slope=0.2)\n",
            "  )\n",
            "  (1): D_block(\n",
            "    (conv2d): Conv2d(64, 128, kernel_size=(4, 4), stride=(2, 2), padding=(1, 1), bias=False)\n",
            "    (batch_norm): BatchNorm2d(128, eps=1e-05, momentum=0.1, affine=True, track_running_stats=True)\n",
            "    (activation): LeakyReLU(negative_slope=0.2)\n",
            "  )\n",
            "  (2): D_block(\n",
            "    (conv2d): Conv2d(128, 256, kernel_size=(4, 4), stride=(2, 2), padding=(1, 1), bias=False)\n",
            "    (batch_norm): BatchNorm2d(256, eps=1e-05, momentum=0.1, affine=True, track_running_stats=True)\n",
            "    (activation): LeakyReLU(negative_slope=0.2)\n",
            "  )\n",
            "  (3): D_block(\n",
            "    (conv2d): Conv2d(256, 512, kernel_size=(4, 4), stride=(2, 2), padding=(1, 1), bias=False)\n",
            "    (batch_norm): BatchNorm2d(512, eps=1e-05, momentum=0.1, affine=True, track_running_stats=True)\n",
            "    (activation): LeakyReLU(negative_slope=0.2)\n",
            "  )\n",
            "  (4): Conv2d(512, 1, kernel_size=(4, 4), stride=(1, 1), bias=False)\n",
            ")\n"
          ],
          "name": "stdout"
        }
      ]
    },
    {
      "cell_type": "code",
      "metadata": {
        "id": "ZhPGr10pZe-8",
        "colab_type": "code",
        "colab": {
          "base_uri": "https://localhost:8080/",
          "height": 35
        },
        "outputId": "618394fd-6942-43d3-a3fe-b2b218780e58"
      },
      "source": [
        "x = torch.zeros((1, 3, 64, 64))\n",
        "net_D(x).shape"
      ],
      "execution_count": 19,
      "outputs": [
        {
          "output_type": "execute_result",
          "data": {
            "text/plain": [
              "torch.Size([1, 1, 1, 1])"
            ]
          },
          "metadata": {
            "tags": []
          },
          "execution_count": 19
        }
      ]
    },
    {
      "cell_type": "code",
      "metadata": {
        "id": "EDutHKDMZyW1",
        "colab_type": "code",
        "colab": {}
      },
      "source": [
        "def update_D(X, Z, net_D, net_G, loss, trainer_D):\n",
        "    \"\"\"Update discriminator.\"\"\"\n",
        "    batch_size = X.shape[0]\n",
        "    ones = torch.ones((batch_size, 1, 1, 1), device=d2l.try_gpu())\n",
        "    zeros = torch.zeros((batch_size, 1, 1, 1), device=d2l.try_gpu())\n",
        "    trainer_D.zero_grad()\n",
        "    real_Y = net_D(X)\n",
        "    fake_X = net_G(Z)\n",
        "    # Do not need to compute gradient for `net_G`, detach it from\n",
        "    # computing gradients.\n",
        "    fake_Y = net_D(fake_X.detach())\n",
        "    loss_D = (loss(real_Y, ones) + loss(fake_Y, zeros)) / 2\n",
        "    loss_D.backward()\n",
        "    trainer_D.step()\n",
        "    return loss_D"
      ],
      "execution_count": 20,
      "outputs": []
    },
    {
      "cell_type": "code",
      "metadata": {
        "id": "i6Kzhm3XatKy",
        "colab_type": "code",
        "colab": {}
      },
      "source": [
        "def update_G(Z, net_D, net_G, loss, trainer_G):  #@save\n",
        "    \"\"\"Update generator.\"\"\"\n",
        "    batch_size = Z.shape[0]\n",
        "    ones = torch.ones((batch_size,1,1,1), device=d2l.try_gpu()) \n",
        "    # We could reuse `fake_X` from `update_D` to save computation\n",
        "    fake_X = net_G(Z)\n",
        "    # Recomputing `fake_Y` is needed since `net_D` is changed\n",
        "    fake_Y = net_D(fake_X)\n",
        "    loss_G = loss(fake_Y, ones)\n",
        "    loss_G.backward()\n",
        "    trainer_G.step()\n",
        "    return loss_G"
      ],
      "execution_count": 21,
      "outputs": []
    },
    {
      "cell_type": "code",
      "metadata": {
        "id": "tEj8AAXSc78v",
        "colab_type": "code",
        "colab": {}
      },
      "source": [
        "import numpy as np"
      ],
      "execution_count": 22,
      "outputs": []
    },
    {
      "cell_type": "code",
      "metadata": {
        "id": "v7Z-YgkZbJO0",
        "colab_type": "code",
        "colab": {}
      },
      "source": [
        "def train(net_D, net_G, data_iter, num_epochs, lr, latent_dim, device=d2l.try_gpu()):\n",
        "    loss = nn.BCEWithLogitsLoss(reduction='sum')\n",
        "    for w in net_D.parameters():\n",
        "        nn.init.normal_(w, 0, 0.02)\n",
        "    for w in net_G.parameters():\n",
        "        nn.init.normal_(w, 0, 0.02)\n",
        "    net_D.zero_grad()\n",
        "    net_G.zero_grad()\n",
        "    trainer_hp = {'lr': lr, 'betas': [0.5,0.999]}\n",
        "    trainer_D = torch.optim.Adam(net_D.parameters(), **trainer_hp)\n",
        "    trainer_G = torch.optim.Adam(net_G.parameters(), **trainer_hp)\n",
        "    animator = d2l.Animator(xlabel='epoch', ylabel='loss',\n",
        "                            xlim=[1, num_epochs], nrows=2, figsize=(5, 5),\n",
        "                            legend=['discriminator', 'generator'])\n",
        "    animator.fig.subplots_adjust(hspace=0.3)\n",
        "    for epoch in range(1, num_epochs + 1):\n",
        "        print('Epoch',epoch)\n",
        "        # Train one epoch\n",
        "        timer = d2l.Timer()\n",
        "        metric = d2l.Accumulator(3)  # loss_D, loss_G, num_examples\n",
        "        for X, _ in data_iter:\n",
        "            print('Processing batch')\n",
        "            batch_size = X.shape[0]\n",
        "            Z = torch.normal(0, 1, size=(batch_size, latent_dim, 1, 1))\n",
        "            X, Z = X.to(device), Z.to(device)\n",
        "            metric.add(update_D(X, Z, net_D, net_G, loss, trainer_D),\n",
        "                       update_G(Z, net_D, net_G, loss, trainer_G),\n",
        "                       batch_size)\n",
        "        # Show generated examples\n",
        "        Z = torch.normal(0, 1, size=(21, latent_dim, 1, 1), device=device)\n",
        "        # Normalize the synthetic data to N(0, 1)\n",
        "        fake_x = net_G(Z).permute(0, 2, 3, 1) / 2 + 0.5\n",
        "        imgs = np.concatenate(\n",
        "             [np.concatenate([fake_x[i * 7 + j].detach().numpy() for j in range(7)], axis=1)\n",
        "              for i in range(len(fake_x)//7)], axis=0)\n",
        "        animator.axes[1].cla()\n",
        "        animator.axes[1].imshow(imgs)\n",
        "        # Show the losses\n",
        "        loss_D, loss_G = metric[0] / metric[2], metric[1] / metric[2]\n",
        "        animator.add(epoch, (loss_D, loss_G))\n",
        "    print(f'loss_D {loss_D:.3f}, loss_G {loss_G:.3f}, '\n",
        "          f'{metric[2] / timer.stop():.1f} examples/sec on {str(device)}')"
      ],
      "execution_count": 23,
      "outputs": []
    },
    {
      "cell_type": "code",
      "metadata": {
        "id": "22toldMJce9J",
        "colab_type": "code",
        "colab": {
          "base_uri": "https://localhost:8080/",
          "height": 193
        },
        "outputId": "681a4f2a-1fc1-4fd1-b4da-706ba82bc5c7"
      },
      "source": [
        "latent_dim, lr, num_epochs = 100, 0.005, 1\n",
        "train(net_D, net_G, data_iter, num_epochs, lr, latent_dim)"
      ],
      "execution_count": null,
      "outputs": [
        {
          "output_type": "stream",
          "text": [
            "Epoch 1\n"
          ],
          "name": "stdout"
        },
        {
          "output_type": "stream",
          "text": [
            "/usr/local/lib/python3.6/dist-packages/PIL/Image.py:932: UserWarning: Palette images with Transparency expressed in bytes should be converted to RGBA images\n",
            "  \"Palette images with Transparency expressed in bytes should be \"\n",
            "/usr/local/lib/python3.6/dist-packages/PIL/Image.py:932: UserWarning: Palette images with Transparency expressed in bytes should be converted to RGBA images\n",
            "  \"Palette images with Transparency expressed in bytes should be \"\n",
            "/usr/local/lib/python3.6/dist-packages/PIL/Image.py:932: UserWarning: Palette images with Transparency expressed in bytes should be converted to RGBA images\n",
            "  \"Palette images with Transparency expressed in bytes should be \"\n",
            "/usr/local/lib/python3.6/dist-packages/PIL/Image.py:932: UserWarning: Palette images with Transparency expressed in bytes should be converted to RGBA images\n",
            "  \"Palette images with Transparency expressed in bytes should be \"\n"
          ],
          "name": "stderr"
        }
      ]
    }
  ]
}