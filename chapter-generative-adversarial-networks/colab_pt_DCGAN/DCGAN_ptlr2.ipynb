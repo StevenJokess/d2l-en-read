{
  "nbformat": 4,
  "nbformat_minor": 0,
  "metadata": {
    "colab": {
      "name": "DCGAN_ptlr2.ipynb",
      "provenance": []
    },
    "kernelspec": {
      "name": "python3",
      "display_name": "Python 3"
    }
  },
  "cells": [
    {
      "cell_type": "code",
      "metadata": {
        "id": "wae3QcKPXBLf",
        "colab_type": "code",
        "colab": {
          "base_uri": "https://localhost:8080/",
          "height": 887
        },
        "outputId": "a7947c42-bca8-4f6f-d540-03ee39be1602"
      },
      "source": [
        "!pip install d2l"
      ],
      "execution_count": 1,
      "outputs": [
        {
          "output_type": "stream",
          "text": [
            "Requirement already satisfied: d2l in /usr/local/lib/python3.6/dist-packages (0.14.3)\n",
            "Requirement already satisfied: numpy in /usr/local/lib/python3.6/dist-packages (from d2l) (1.18.5)\n",
            "Requirement already satisfied: pandas in /usr/local/lib/python3.6/dist-packages (from d2l) (1.0.5)\n",
            "Requirement already satisfied: jupyter in /usr/local/lib/python3.6/dist-packages (from d2l) (1.0.0)\n",
            "Requirement already satisfied: matplotlib in /usr/local/lib/python3.6/dist-packages (from d2l) (3.2.2)\n",
            "Requirement already satisfied: python-dateutil>=2.6.1 in /usr/local/lib/python3.6/dist-packages (from pandas->d2l) (2.8.1)\n",
            "Requirement already satisfied: pytz>=2017.2 in /usr/local/lib/python3.6/dist-packages (from pandas->d2l) (2018.9)\n",
            "Requirement already satisfied: notebook in /usr/local/lib/python3.6/dist-packages (from jupyter->d2l) (5.3.1)\n",
            "Requirement already satisfied: ipykernel in /usr/local/lib/python3.6/dist-packages (from jupyter->d2l) (4.10.1)\n",
            "Requirement already satisfied: qtconsole in /usr/local/lib/python3.6/dist-packages (from jupyter->d2l) (4.7.6)\n",
            "Requirement already satisfied: nbconvert in /usr/local/lib/python3.6/dist-packages (from jupyter->d2l) (5.6.1)\n",
            "Requirement already satisfied: ipywidgets in /usr/local/lib/python3.6/dist-packages (from jupyter->d2l) (7.5.1)\n",
            "Requirement already satisfied: jupyter-console in /usr/local/lib/python3.6/dist-packages (from jupyter->d2l) (5.2.0)\n",
            "Requirement already satisfied: kiwisolver>=1.0.1 in /usr/local/lib/python3.6/dist-packages (from matplotlib->d2l) (1.2.0)\n",
            "Requirement already satisfied: cycler>=0.10 in /usr/local/lib/python3.6/dist-packages (from matplotlib->d2l) (0.10.0)\n",
            "Requirement already satisfied: pyparsing!=2.0.4,!=2.1.2,!=2.1.6,>=2.0.1 in /usr/local/lib/python3.6/dist-packages (from matplotlib->d2l) (2.4.7)\n",
            "Requirement already satisfied: six>=1.5 in /usr/local/lib/python3.6/dist-packages (from python-dateutil>=2.6.1->pandas->d2l) (1.15.0)\n",
            "Requirement already satisfied: nbformat in /usr/local/lib/python3.6/dist-packages (from notebook->jupyter->d2l) (5.0.7)\n",
            "Requirement already satisfied: Send2Trash in /usr/local/lib/python3.6/dist-packages (from notebook->jupyter->d2l) (1.5.0)\n",
            "Requirement already satisfied: traitlets>=4.2.1 in /usr/local/lib/python3.6/dist-packages (from notebook->jupyter->d2l) (4.3.3)\n",
            "Requirement already satisfied: jupyter-core>=4.4.0 in /usr/local/lib/python3.6/dist-packages (from notebook->jupyter->d2l) (4.6.3)\n",
            "Requirement already satisfied: jinja2 in /usr/local/lib/python3.6/dist-packages (from notebook->jupyter->d2l) (2.11.2)\n",
            "Requirement already satisfied: tornado>=4 in /usr/local/lib/python3.6/dist-packages (from notebook->jupyter->d2l) (5.1.1)\n",
            "Requirement already satisfied: terminado>=0.8.1 in /usr/local/lib/python3.6/dist-packages (from notebook->jupyter->d2l) (0.8.3)\n",
            "Requirement already satisfied: ipython-genutils in /usr/local/lib/python3.6/dist-packages (from notebook->jupyter->d2l) (0.2.0)\n",
            "Requirement already satisfied: jupyter-client>=5.2.0 in /usr/local/lib/python3.6/dist-packages (from notebook->jupyter->d2l) (5.3.5)\n",
            "Requirement already satisfied: ipython>=4.0.0 in /usr/local/lib/python3.6/dist-packages (from ipykernel->jupyter->d2l) (5.5.0)\n",
            "Requirement already satisfied: qtpy in /usr/local/lib/python3.6/dist-packages (from qtconsole->jupyter->d2l) (1.9.0)\n",
            "Requirement already satisfied: pygments in /usr/local/lib/python3.6/dist-packages (from qtconsole->jupyter->d2l) (2.1.3)\n",
            "Requirement already satisfied: pyzmq>=17.1 in /usr/local/lib/python3.6/dist-packages (from qtconsole->jupyter->d2l) (19.0.2)\n",
            "Requirement already satisfied: bleach in /usr/local/lib/python3.6/dist-packages (from nbconvert->jupyter->d2l) (3.1.5)\n",
            "Requirement already satisfied: mistune<2,>=0.8.1 in /usr/local/lib/python3.6/dist-packages (from nbconvert->jupyter->d2l) (0.8.4)\n",
            "Requirement already satisfied: defusedxml in /usr/local/lib/python3.6/dist-packages (from nbconvert->jupyter->d2l) (0.6.0)\n",
            "Requirement already satisfied: testpath in /usr/local/lib/python3.6/dist-packages (from nbconvert->jupyter->d2l) (0.4.4)\n",
            "Requirement already satisfied: pandocfilters>=1.4.1 in /usr/local/lib/python3.6/dist-packages (from nbconvert->jupyter->d2l) (1.4.2)\n",
            "Requirement already satisfied: entrypoints>=0.2.2 in /usr/local/lib/python3.6/dist-packages (from nbconvert->jupyter->d2l) (0.3)\n",
            "Requirement already satisfied: widgetsnbextension~=3.5.0 in /usr/local/lib/python3.6/dist-packages (from ipywidgets->jupyter->d2l) (3.5.1)\n",
            "Requirement already satisfied: prompt-toolkit<2.0.0,>=1.0.0 in /usr/local/lib/python3.6/dist-packages (from jupyter-console->jupyter->d2l) (1.0.18)\n",
            "Requirement already satisfied: jsonschema!=2.5.0,>=2.4 in /usr/local/lib/python3.6/dist-packages (from nbformat->notebook->jupyter->d2l) (2.6.0)\n",
            "Requirement already satisfied: decorator in /usr/local/lib/python3.6/dist-packages (from traitlets>=4.2.1->notebook->jupyter->d2l) (4.4.2)\n",
            "Requirement already satisfied: MarkupSafe>=0.23 in /usr/local/lib/python3.6/dist-packages (from jinja2->notebook->jupyter->d2l) (1.1.1)\n",
            "Requirement already satisfied: ptyprocess; os_name != \"nt\" in /usr/local/lib/python3.6/dist-packages (from terminado>=0.8.1->notebook->jupyter->d2l) (0.6.0)\n",
            "Requirement already satisfied: pexpect; sys_platform != \"win32\" in /usr/local/lib/python3.6/dist-packages (from ipython>=4.0.0->ipykernel->jupyter->d2l) (4.8.0)\n",
            "Requirement already satisfied: setuptools>=18.5 in /usr/local/lib/python3.6/dist-packages (from ipython>=4.0.0->ipykernel->jupyter->d2l) (49.6.0)\n",
            "Requirement already satisfied: simplegeneric>0.8 in /usr/local/lib/python3.6/dist-packages (from ipython>=4.0.0->ipykernel->jupyter->d2l) (0.8.1)\n",
            "Requirement already satisfied: pickleshare in /usr/local/lib/python3.6/dist-packages (from ipython>=4.0.0->ipykernel->jupyter->d2l) (0.7.5)\n",
            "Requirement already satisfied: packaging in /usr/local/lib/python3.6/dist-packages (from bleach->nbconvert->jupyter->d2l) (20.4)\n",
            "Requirement already satisfied: webencodings in /usr/local/lib/python3.6/dist-packages (from bleach->nbconvert->jupyter->d2l) (0.5.1)\n",
            "Requirement already satisfied: wcwidth in /usr/local/lib/python3.6/dist-packages (from prompt-toolkit<2.0.0,>=1.0.0->jupyter-console->jupyter->d2l) (0.2.5)\n"
          ],
          "name": "stdout"
        }
      ]
    },
    {
      "cell_type": "code",
      "metadata": {
        "id": "oGF7wNr1XGpF",
        "colab_type": "code",
        "colab": {}
      },
      "source": [
        "import d2l.torch as d2l"
      ],
      "execution_count": 2,
      "outputs": []
    },
    {
      "cell_type": "code",
      "metadata": {
        "id": "fY3wUcuyXK_9",
        "colab_type": "code",
        "colab": {}
      },
      "source": [
        "import torchvision\n",
        "import torch\n",
        "from matplotlib import pyplot as plt\n",
        "import torch.nn as nn\n",
        "import numpy as np"
      ],
      "execution_count": 3,
      "outputs": []
    },
    {
      "cell_type": "code",
      "metadata": {
        "id": "fbq8GBypXPHi",
        "colab_type": "code",
        "colab": {}
      },
      "source": [
        "d2l.DATA_HUB['pokemon'] = (d2l.DATA_URL + 'pokemon.zip',\n",
        "                           'c065c0e2593b8b161a2d7873e42418bf6a21106c')\n",
        "data_dir = d2l.download_extract('pokemon')"
      ],
      "execution_count": 4,
      "outputs": []
    },
    {
      "cell_type": "code",
      "metadata": {
        "id": "DDx-0y05XSq_",
        "colab_type": "code",
        "colab": {}
      },
      "source": [
        "batch_size = 256\n",
        "transformer = torchvision.transforms.Compose([\n",
        "    torchvision.transforms.Resize((64, 64)),\n",
        "    torchvision.transforms.ToTensor(),\n",
        "    torchvision.transforms.Normalize(0.5, 0.5)\n",
        "])\n",
        "pokemon = torchvision.datasets.ImageFolder(data_dir, transformer)\n",
        "data_iter = torch.utils.data.DataLoader(\n",
        "    pokemon, batch_size=batch_size,\n",
        "    shuffle=True, num_workers=d2l.get_dataloader_workers())"
      ],
      "execution_count": 5,
      "outputs": []
    },
    {
      "cell_type": "markdown",
      "metadata": {
        "id": "4Hj5pEOPXrGR",
        "colab_type": "text"
      },
      "source": [
        "d2l.set_figsize((4, 4))\n",
        "for X, y in data_iter:\n",
        "    imgs = X[0:20,:,:,:].permute(0, 2, 3, 1)/2+0.5\n",
        "    d2l.show_images(imgs, num_rows=4, num_cols=5)\n",
        "    break"
      ]
    },
    {
      "cell_type": "code",
      "metadata": {
        "id": "78eO-p2EYHLr",
        "colab_type": "code",
        "colab": {}
      },
      "source": [
        "class G_block(nn.Module):\n",
        "    def __init__(self, in_channels, out_channels, kernel_size=4,\n",
        "                 strides=2, padding=1, **kwargs):\n",
        "        nn.Module.__init__(self)\n",
        "        self.conv2d_trans = nn.ConvTranspose2d(\n",
        "            in_channels, out_channels, kernel_size, strides, padding, bias=False)\n",
        "        self.batch_norm = nn.BatchNorm2d(out_channels)\n",
        "        self.activation = nn.ReLU()\n",
        "\n",
        "    def forward(self, X):\n",
        "        return self.activation(self.batch_norm(self.conv2d_trans(X)))"
      ],
      "execution_count": 6,
      "outputs": []
    },
    {
      "cell_type": "code",
      "metadata": {
        "id": "4dGGydD5hFgt",
        "colab_type": "code",
        "colab": {
          "base_uri": "https://localhost:8080/",
          "height": 35
        },
        "outputId": "6b8f6f6b-fe58-4b55-e0a1-3ba45531c1f4"
      },
      "source": [
        "g_blk = G_block(3,20)\n",
        "x = torch.zeros((2,3,1,1))\n",
        "g_blk = G_block(3,20,strides=1,padding=0)\n",
        "g_blk(x).shape"
      ],
      "execution_count": 7,
      "outputs": [
        {
          "output_type": "execute_result",
          "data": {
            "text/plain": [
              "torch.Size([2, 20, 4, 4])"
            ]
          },
          "metadata": {
            "tags": []
          },
          "execution_count": 7
        }
      ]
    },
    {
      "cell_type": "code",
      "metadata": {
        "id": "PojXyD-rhc-J",
        "colab_type": "code",
        "colab": {}
      },
      "source": [
        "n_G = 64\n",
        "net_G = nn.Sequential(\n",
        "    G_block(10,n_G*8, strides=1, padding=0),\n",
        "    G_block(n_G*8,n_G*4),\n",
        "    G_block(n_G*4,n_G*2),\n",
        "    G_block(n_G*2,n_G),\n",
        "    nn.ConvTranspose2d(n_G,3,kernel_size=4, stride=2, padding=1, bias=False),\n",
        "    nn.ReLU())"
      ],
      "execution_count": 8,
      "outputs": []
    },
    {
      "cell_type": "code",
      "metadata": {
        "id": "_cVYhj0fhfeG",
        "colab_type": "code",
        "colab": {
          "base_uri": "https://localhost:8080/",
          "height": 35
        },
        "outputId": "f207430a-3f76-458f-e339-570cce0d14f5"
      },
      "source": [
        "x = torch.zeros((1,10,1,1))\n",
        "net_G(x).shape"
      ],
      "execution_count": 9,
      "outputs": [
        {
          "output_type": "execute_result",
          "data": {
            "text/plain": [
              "torch.Size([1, 3, 64, 64])"
            ]
          },
          "metadata": {
            "tags": []
          },
          "execution_count": 9
        }
      ]
    },
    {
      "cell_type": "code",
      "metadata": {
        "id": "er6-3aKVZBO3",
        "colab_type": "code",
        "colab": {
          "base_uri": "https://localhost:8080/",
          "height": 453
        },
        "outputId": "8a742ab9-90a4-433b-d2cf-9af58b9bcf3a"
      },
      "source": [
        "print(net_G)"
      ],
      "execution_count": 10,
      "outputs": [
        {
          "output_type": "stream",
          "text": [
            "Sequential(\n",
            "  (0): G_block(\n",
            "    (conv2d_trans): ConvTranspose2d(10, 512, kernel_size=(4, 4), stride=(1, 1), bias=False)\n",
            "    (batch_norm): BatchNorm2d(512, eps=1e-05, momentum=0.1, affine=True, track_running_stats=True)\n",
            "    (activation): ReLU()\n",
            "  )\n",
            "  (1): G_block(\n",
            "    (conv2d_trans): ConvTranspose2d(512, 256, kernel_size=(4, 4), stride=(2, 2), padding=(1, 1), bias=False)\n",
            "    (batch_norm): BatchNorm2d(256, eps=1e-05, momentum=0.1, affine=True, track_running_stats=True)\n",
            "    (activation): ReLU()\n",
            "  )\n",
            "  (2): G_block(\n",
            "    (conv2d_trans): ConvTranspose2d(256, 128, kernel_size=(4, 4), stride=(2, 2), padding=(1, 1), bias=False)\n",
            "    (batch_norm): BatchNorm2d(128, eps=1e-05, momentum=0.1, affine=True, track_running_stats=True)\n",
            "    (activation): ReLU()\n",
            "  )\n",
            "  (3): G_block(\n",
            "    (conv2d_trans): ConvTranspose2d(128, 64, kernel_size=(4, 4), stride=(2, 2), padding=(1, 1), bias=False)\n",
            "    (batch_norm): BatchNorm2d(64, eps=1e-05, momentum=0.1, affine=True, track_running_stats=True)\n",
            "    (activation): ReLU()\n",
            "  )\n",
            "  (4): ConvTranspose2d(64, 3, kernel_size=(4, 4), stride=(2, 2), padding=(1, 1), bias=False)\n",
            "  (5): ReLU()\n",
            ")\n"
          ],
          "name": "stdout"
        }
      ]
    },
    {
      "cell_type": "code",
      "metadata": {
        "id": "V9amf1uLZFJZ",
        "colab_type": "code",
        "colab": {}
      },
      "source": [
        "# Define discriminator\n",
        "class D_block(nn.Module):\n",
        "    def __init__(self, in_channels, out_channels, kernel_size=4, strides=2,\n",
        "                 padding=1, alpha=0.2, **kwargs):\n",
        "        nn.Module.__init__(self)\n",
        "        self.conv2d = nn.Conv2d(\n",
        "            in_channels, out_channels, kernel_size, strides, padding, bias=False)\n",
        "        self.batch_norm = nn.BatchNorm2d(out_channels)\n",
        "        self.activation = nn.LeakyReLU(alpha)\n",
        "\n",
        "    def forward(self, X):\n",
        "        return self.activation(self.batch_norm(self.conv2d(X)))"
      ],
      "execution_count": 11,
      "outputs": []
    },
    {
      "cell_type": "code",
      "metadata": {
        "id": "m8LSIHiDZHeG",
        "colab_type": "code",
        "colab": {}
      },
      "source": [
        "n_D = 64\n",
        "net_D = nn.Sequential(\n",
        "          D_block(3,n_D),   # Output: (64, 32, 32)\n",
        "          D_block(n_D,n_D*2),  # Output: (64 * 2, 16, 16)\n",
        "          D_block(n_D*2,n_D*4),  # Output: (64 * 4, 8, 8)\n",
        "          D_block(n_D*4,n_D*8),  # Output: (64 * 8, 4, 4)\n",
        "          nn.Conv2d(n_D*8, 1, kernel_size=4, bias=False)\n",
        "          )  # Output: (1, 1, 1)"
      ],
      "execution_count": 12,
      "outputs": []
    },
    {
      "cell_type": "code",
      "metadata": {
        "id": "4VC43EPMZKMf",
        "colab_type": "code",
        "colab": {}
      },
      "source": [
        "def update_D(X, Z, net_D, net_G, loss, trainer_D):\n",
        "    \"\"\"Update discriminator.\"\"\"\n",
        "    batch_size = X.shape[0]\n",
        "    ones = torch.ones((batch_size,1,1,1)) # ctx=X.ctx)\n",
        "    zeros = torch.zeros((batch_size,1,1,1)) # ctx=X.ctx)\n",
        "    real_Y = net_D(X)\n",
        "    fake_X = net_G(Z)\n",
        "    # Do not need to compute gradient for `net_G`, detach it from\n",
        "    # computing gradients.\n",
        "    fake_Y = net_D(fake_X.detach())\n",
        "    loss_D = (loss(real_Y, ones) + loss(fake_Y, zeros)) / 2\n",
        "    loss_D.backward()\n",
        "    with torch.no_grad():\n",
        "        trainer_D.step()\n",
        "    return float(loss_D.sum())"
      ],
      "execution_count": 13,
      "outputs": []
    },
    {
      "cell_type": "code",
      "metadata": {
        "id": "L-60LZ2uZUA2",
        "colab_type": "code",
        "colab": {}
      },
      "source": [
        "def update_G(Z, net_D, net_G, loss, trainer_G):  #@save\n",
        "    \"\"\"Update generator.\"\"\"\n",
        "    batch_size = Z.shape[0]\n",
        "    ones = torch.ones((batch_size,1,1,1)) # ctx=Z.ctx)\n",
        "    # We could reuse `fake_X` from `update_D` to save computation\n",
        "    fake_X = net_G(Z)\n",
        "    # Recomputing `fake_Y` is needed since `net_D` is changed\n",
        "    fake_Y = net_D(fake_X)\n",
        "    loss_G = loss(fake_Y, ones)\n",
        "    loss_G.backward()\n",
        "    with torch.no_grad():\n",
        "        trainer_G.step()\n",
        "    return float(loss_G.sum())"
      ],
      "execution_count": 14,
      "outputs": []
    },
    {
      "cell_type": "code",
      "metadata": {
        "id": "DEHcAjDzZXSu",
        "colab_type": "code",
        "colab": {}
      },
      "source": [
        "def train(net_D, net_G, data_iter, num_epochs, lr, latent_dim,\n",
        "          device=d2l.try_gpu()):\n",
        "    loss = torch.nn.BCEWithLogitsLoss()\n",
        "    # net_D.initialize(init=init.Normal(0.02), force_reinit=True, ctx=device)\n",
        "    # net_G.initialize(init=init.Normal(0.02), force_reinit=True, ctx=device)\n",
        "    trainer_hp = {'lr': lr, 'betas': [0.5,0.999]}\n",
        "    trainer_D = torch.optim.Adam(net_D.parameters(), **trainer_hp)\n",
        "    trainer_G = torch.optim.Adam(net_G.parameters(), **trainer_hp)\n",
        "    for epoch in range(1, num_epochs + 1):\n",
        "        print('Epoch',epoch)\n",
        "        # Train one epoch\n",
        "        timer = d2l.Timer()\n",
        "        metric = d2l.Accumulator(3)  # loss_D, loss_G, num_examples\n",
        "        for X, _ in data_iter:\n",
        "            print('Processing batch')\n",
        "            batch_size = X.shape[0]\n",
        "            Z = torch.normal(0, 1, size=(batch_size, latent_dim, 1, 1))\n",
        "            # X, Z = X.as_in_ctx(device), Z.as_in_ctx(device),\n",
        "            metric.add(update_D(X, Z, net_D, net_G, loss, trainer_D),\n",
        "                       update_G(Z, net_D, net_G, loss, trainer_G),\n",
        "                       batch_size)\n",
        "        # Show the losses\n",
        "        loss_D, loss_G = metric[0] / metric[2], metric[1] / metric[2]\n",
        "        print(f'loss_D {loss_D:.3f}, loss_G {loss_G:.3f}')\n",
        "    print(f'loss_D {loss_D:.3f}, loss_G {loss_G:.3f}, '\n",
        "          f'{metric[2] / timer.stop():.1f} examples/sec on {str(device)}')"
      ],
      "execution_count": 15,
      "outputs": []
    },
    {
      "cell_type": "code",
      "metadata": {
        "id": "F6ZEBVQqZZpD",
        "colab_type": "code",
        "colab": {
          "base_uri": "https://localhost:8080/",
          "height": 488
        },
        "outputId": "f5a0249a-c90f-48fd-e55f-06a2a9672d5e"
      },
      "source": [
        "latent_dim, lr, num_epochs = 10, 0.005, 1 # 20\n",
        "print('Starting training')\n",
        "train(net_D, net_G, data_iter, num_epochs, lr, latent_dim)"
      ],
      "execution_count": null,
      "outputs": [
        {
          "output_type": "stream",
          "text": [
            "Starting training\n",
            "Epoch 1\n"
          ],
          "name": "stdout"
        },
        {
          "output_type": "stream",
          "text": [
            "/usr/local/lib/python3.6/dist-packages/PIL/Image.py:932: UserWarning: Palette images with Transparency expressed in bytes should be converted to RGBA images\n",
            "  \"Palette images with Transparency expressed in bytes should be \"\n",
            "/usr/local/lib/python3.6/dist-packages/PIL/Image.py:932: UserWarning: Palette images with Transparency expressed in bytes should be converted to RGBA images\n",
            "  \"Palette images with Transparency expressed in bytes should be \"\n"
          ],
          "name": "stderr"
        },
        {
          "output_type": "stream",
          "text": [
            "Processing batch\n",
            "Processing batch\n",
            "Processing batch\n"
          ],
          "name": "stdout"
        },
        {
          "output_type": "stream",
          "text": [
            "/usr/local/lib/python3.6/dist-packages/PIL/Image.py:932: UserWarning: Palette images with Transparency expressed in bytes should be converted to RGBA images\n",
            "  \"Palette images with Transparency expressed in bytes should be \"\n"
          ],
          "name": "stderr"
        },
        {
          "output_type": "stream",
          "text": [
            "Processing batch\n",
            "Processing batch\n",
            "Processing batch\n"
          ],
          "name": "stdout"
        },
        {
          "output_type": "stream",
          "text": [
            "/usr/local/lib/python3.6/dist-packages/PIL/Image.py:932: UserWarning: Palette images with Transparency expressed in bytes should be converted to RGBA images\n",
            "  \"Palette images with Transparency expressed in bytes should be \"\n"
          ],
          "name": "stderr"
        },
        {
          "output_type": "stream",
          "text": [
            "Processing batch\n",
            "Processing batch\n",
            "Processing batch\n",
            "Processing batch\n",
            "Processing batch\n",
            "Processing batch\n",
            "Processing batch\n",
            "Processing batch\n",
            "Processing batch\n",
            "Processing batch\n"
          ],
          "name": "stdout"
        }
      ]
    }
  ]
}