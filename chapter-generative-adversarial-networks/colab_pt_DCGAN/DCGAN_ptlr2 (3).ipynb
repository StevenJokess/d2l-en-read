{
  "nbformat": 4,
  "nbformat_minor": 0,
  "metadata": {
    "colab": {
      "name": "DCGAN_ptlr2.ipynb",
      "provenance": []
    },
    "kernelspec": {
      "name": "python3",
      "display_name": "Python 3"
    }
  },
  "cells": [
    {
      "cell_type": "code",
      "metadata": {
        "id": "wae3QcKPXBLf",
        "colab_type": "code",
        "colab": {
          "base_uri": "https://localhost:8080/",
          "height": 956
        },
        "outputId": "d29fd225-4bba-4580-cf8e-08ed68aceecb"
      },
      "source": [
        "!pip install d2l"
      ],
      "execution_count": 1,
      "outputs": [
        {
          "output_type": "stream",
          "text": [
            "Collecting d2l\n",
            "\u001b[?25l  Downloading https://files.pythonhosted.org/packages/ba/c1/c39e1c7571effc1738bdd7c846b4a9a8ad7c58f672f05ca4cbd8367eda57/d2l-0.14.3-py3-none-any.whl (53kB)\n",
            "\r\u001b[K     |██████▏                         | 10kB 18.2MB/s eta 0:00:01\r\u001b[K     |████████████▍                   | 20kB 1.6MB/s eta 0:00:01\r\u001b[K     |██████████████████▌             | 30kB 2.1MB/s eta 0:00:01\r\u001b[K     |████████████████████████▊       | 40kB 2.4MB/s eta 0:00:01\r\u001b[K     |██████████████████████████████▉ | 51kB 1.9MB/s eta 0:00:01\r\u001b[K     |████████████████████████████████| 61kB 1.8MB/s \n",
            "\u001b[?25hRequirement already satisfied: jupyter in /usr/local/lib/python3.6/dist-packages (from d2l) (1.0.0)\n",
            "Requirement already satisfied: numpy in /usr/local/lib/python3.6/dist-packages (from d2l) (1.18.5)\n",
            "Requirement already satisfied: pandas in /usr/local/lib/python3.6/dist-packages (from d2l) (1.0.5)\n",
            "Requirement already satisfied: matplotlib in /usr/local/lib/python3.6/dist-packages (from d2l) (3.2.2)\n",
            "Requirement already satisfied: ipywidgets in /usr/local/lib/python3.6/dist-packages (from jupyter->d2l) (7.5.1)\n",
            "Requirement already satisfied: ipykernel in /usr/local/lib/python3.6/dist-packages (from jupyter->d2l) (4.10.1)\n",
            "Requirement already satisfied: jupyter-console in /usr/local/lib/python3.6/dist-packages (from jupyter->d2l) (5.2.0)\n",
            "Requirement already satisfied: nbconvert in /usr/local/lib/python3.6/dist-packages (from jupyter->d2l) (5.6.1)\n",
            "Requirement already satisfied: qtconsole in /usr/local/lib/python3.6/dist-packages (from jupyter->d2l) (4.7.6)\n",
            "Requirement already satisfied: notebook in /usr/local/lib/python3.6/dist-packages (from jupyter->d2l) (5.3.1)\n",
            "Requirement already satisfied: pytz>=2017.2 in /usr/local/lib/python3.6/dist-packages (from pandas->d2l) (2018.9)\n",
            "Requirement already satisfied: python-dateutil>=2.6.1 in /usr/local/lib/python3.6/dist-packages (from pandas->d2l) (2.8.1)\n",
            "Requirement already satisfied: pyparsing!=2.0.4,!=2.1.2,!=2.1.6,>=2.0.1 in /usr/local/lib/python3.6/dist-packages (from matplotlib->d2l) (2.4.7)\n",
            "Requirement already satisfied: kiwisolver>=1.0.1 in /usr/local/lib/python3.6/dist-packages (from matplotlib->d2l) (1.2.0)\n",
            "Requirement already satisfied: cycler>=0.10 in /usr/local/lib/python3.6/dist-packages (from matplotlib->d2l) (0.10.0)\n",
            "Requirement already satisfied: ipython>=4.0.0; python_version >= \"3.3\" in /usr/local/lib/python3.6/dist-packages (from ipywidgets->jupyter->d2l) (5.5.0)\n",
            "Requirement already satisfied: nbformat>=4.2.0 in /usr/local/lib/python3.6/dist-packages (from ipywidgets->jupyter->d2l) (5.0.7)\n",
            "Requirement already satisfied: traitlets>=4.3.1 in /usr/local/lib/python3.6/dist-packages (from ipywidgets->jupyter->d2l) (4.3.3)\n",
            "Requirement already satisfied: widgetsnbextension~=3.5.0 in /usr/local/lib/python3.6/dist-packages (from ipywidgets->jupyter->d2l) (3.5.1)\n",
            "Requirement already satisfied: tornado>=4.0 in /usr/local/lib/python3.6/dist-packages (from ipykernel->jupyter->d2l) (5.1.1)\n",
            "Requirement already satisfied: jupyter-client in /usr/local/lib/python3.6/dist-packages (from ipykernel->jupyter->d2l) (5.3.5)\n",
            "Requirement already satisfied: prompt-toolkit<2.0.0,>=1.0.0 in /usr/local/lib/python3.6/dist-packages (from jupyter-console->jupyter->d2l) (1.0.18)\n",
            "Requirement already satisfied: pygments in /usr/local/lib/python3.6/dist-packages (from jupyter-console->jupyter->d2l) (2.1.3)\n",
            "Requirement already satisfied: jupyter-core in /usr/local/lib/python3.6/dist-packages (from nbconvert->jupyter->d2l) (4.6.3)\n",
            "Requirement already satisfied: pandocfilters>=1.4.1 in /usr/local/lib/python3.6/dist-packages (from nbconvert->jupyter->d2l) (1.4.2)\n",
            "Requirement already satisfied: defusedxml in /usr/local/lib/python3.6/dist-packages (from nbconvert->jupyter->d2l) (0.6.0)\n",
            "Requirement already satisfied: entrypoints>=0.2.2 in /usr/local/lib/python3.6/dist-packages (from nbconvert->jupyter->d2l) (0.3)\n",
            "Requirement already satisfied: jinja2>=2.4 in /usr/local/lib/python3.6/dist-packages (from nbconvert->jupyter->d2l) (2.11.2)\n",
            "Requirement already satisfied: testpath in /usr/local/lib/python3.6/dist-packages (from nbconvert->jupyter->d2l) (0.4.4)\n",
            "Requirement already satisfied: mistune<2,>=0.8.1 in /usr/local/lib/python3.6/dist-packages (from nbconvert->jupyter->d2l) (0.8.4)\n",
            "Requirement already satisfied: bleach in /usr/local/lib/python3.6/dist-packages (from nbconvert->jupyter->d2l) (3.1.5)\n",
            "Requirement already satisfied: pyzmq>=17.1 in /usr/local/lib/python3.6/dist-packages (from qtconsole->jupyter->d2l) (19.0.2)\n",
            "Requirement already satisfied: ipython-genutils in /usr/local/lib/python3.6/dist-packages (from qtconsole->jupyter->d2l) (0.2.0)\n",
            "Requirement already satisfied: qtpy in /usr/local/lib/python3.6/dist-packages (from qtconsole->jupyter->d2l) (1.9.0)\n",
            "Requirement already satisfied: Send2Trash in /usr/local/lib/python3.6/dist-packages (from notebook->jupyter->d2l) (1.5.0)\n",
            "Requirement already satisfied: terminado>=0.8.1 in /usr/local/lib/python3.6/dist-packages (from notebook->jupyter->d2l) (0.8.3)\n",
            "Requirement already satisfied: six>=1.5 in /usr/local/lib/python3.6/dist-packages (from python-dateutil>=2.6.1->pandas->d2l) (1.15.0)\n",
            "Requirement already satisfied: simplegeneric>0.8 in /usr/local/lib/python3.6/dist-packages (from ipython>=4.0.0; python_version >= \"3.3\"->ipywidgets->jupyter->d2l) (0.8.1)\n",
            "Requirement already satisfied: decorator in /usr/local/lib/python3.6/dist-packages (from ipython>=4.0.0; python_version >= \"3.3\"->ipywidgets->jupyter->d2l) (4.4.2)\n",
            "Requirement already satisfied: pexpect; sys_platform != \"win32\" in /usr/local/lib/python3.6/dist-packages (from ipython>=4.0.0; python_version >= \"3.3\"->ipywidgets->jupyter->d2l) (4.8.0)\n",
            "Requirement already satisfied: setuptools>=18.5 in /usr/local/lib/python3.6/dist-packages (from ipython>=4.0.0; python_version >= \"3.3\"->ipywidgets->jupyter->d2l) (49.6.0)\n",
            "Requirement already satisfied: pickleshare in /usr/local/lib/python3.6/dist-packages (from ipython>=4.0.0; python_version >= \"3.3\"->ipywidgets->jupyter->d2l) (0.7.5)\n",
            "Requirement already satisfied: jsonschema!=2.5.0,>=2.4 in /usr/local/lib/python3.6/dist-packages (from nbformat>=4.2.0->ipywidgets->jupyter->d2l) (2.6.0)\n",
            "Requirement already satisfied: wcwidth in /usr/local/lib/python3.6/dist-packages (from prompt-toolkit<2.0.0,>=1.0.0->jupyter-console->jupyter->d2l) (0.2.5)\n",
            "Requirement already satisfied: MarkupSafe>=0.23 in /usr/local/lib/python3.6/dist-packages (from jinja2>=2.4->nbconvert->jupyter->d2l) (1.1.1)\n",
            "Requirement already satisfied: webencodings in /usr/local/lib/python3.6/dist-packages (from bleach->nbconvert->jupyter->d2l) (0.5.1)\n",
            "Requirement already satisfied: packaging in /usr/local/lib/python3.6/dist-packages (from bleach->nbconvert->jupyter->d2l) (20.4)\n",
            "Requirement already satisfied: ptyprocess; os_name != \"nt\" in /usr/local/lib/python3.6/dist-packages (from terminado>=0.8.1->notebook->jupyter->d2l) (0.6.0)\n",
            "Installing collected packages: d2l\n",
            "Successfully installed d2l-0.14.3\n"
          ],
          "name": "stdout"
        }
      ]
    },
    {
      "cell_type": "code",
      "metadata": {
        "id": "oGF7wNr1XGpF",
        "colab_type": "code",
        "colab": {}
      },
      "source": [
        "import d2l.torch as d2l"
      ],
      "execution_count": 2,
      "outputs": []
    },
    {
      "cell_type": "code",
      "metadata": {
        "id": "fY3wUcuyXK_9",
        "colab_type": "code",
        "colab": {}
      },
      "source": [
        "import torchvision\n",
        "import torch\n",
        "from matplotlib import pyplot as plt\n",
        "import torch.nn as nn\n",
        "import numpy as np"
      ],
      "execution_count": 3,
      "outputs": []
    },
    {
      "cell_type": "code",
      "metadata": {
        "id": "fbq8GBypXPHi",
        "colab_type": "code",
        "colab": {
          "base_uri": "https://localhost:8080/",
          "height": 35
        },
        "outputId": "e65d14f7-a591-4489-fde2-df6a1707bf3f"
      },
      "source": [
        "d2l.DATA_HUB['pokemon'] = (d2l.DATA_URL + 'pokemon.zip',\n",
        "                           'c065c0e2593b8b161a2d7873e42418bf6a21106c')\n",
        "data_dir = d2l.download_extract('pokemon')"
      ],
      "execution_count": 4,
      "outputs": [
        {
          "output_type": "stream",
          "text": [
            "Downloading ../data/pokemon.zip from http://d2l-data.s3-accelerate.amazonaws.com/pokemon.zip...\n"
          ],
          "name": "stdout"
        }
      ]
    },
    {
      "cell_type": "code",
      "metadata": {
        "id": "DDx-0y05XSq_",
        "colab_type": "code",
        "colab": {}
      },
      "source": [
        "batch_size = 256\n",
        "transformer = torchvision.transforms.Compose([\n",
        "    torchvision.transforms.Resize((64, 64)),\n",
        "    torchvision.transforms.ToTensor(),\n",
        "    torchvision.transforms.Normalize(0.5, 0.5)\n",
        "])\n",
        "pokemon = torchvision.datasets.ImageFolder(data_dir, transformer)\n",
        "data_iter = torch.utils.data.DataLoader(\n",
        "    pokemon, batch_size=batch_size,\n",
        "    shuffle=True, num_workers=d2l.get_dataloader_workers())"
      ],
      "execution_count": 5,
      "outputs": []
    },
    {
      "cell_type": "markdown",
      "metadata": {
        "id": "4Hj5pEOPXrGR",
        "colab_type": "text"
      },
      "source": [
        "d2l.set_figsize((4, 4))\n",
        "for X, y in data_iter:\n",
        "    imgs = X[0:20,:,:,:].permute(0, 2, 3, 1)/2+0.5\n",
        "    d2l.show_images(imgs, num_rows=4, num_cols=5)\n",
        "    break"
      ]
    },
    {
      "cell_type": "code",
      "metadata": {
        "id": "78eO-p2EYHLr",
        "colab_type": "code",
        "colab": {}
      },
      "source": [
        "class G_block(nn.Module):\n",
        "        def __init__(self, channels, nz=3, kernel_size=4, strides=2,\n",
        "                 padding=1, **kwargs):\n",
        "            super(G_block, self).__init__(**kwargs)\n",
        "            self.conv2d = nn.ConvTranspose2d(\n",
        "                nz, channels, kernel_size, strides, padding, bias=False)\n",
        "            self.batch_norm = nn.BatchNorm2d(channels)\n",
        "            self.activation = nn.ReLU()\n",
        "        def forward(self, X):\n",
        "            return self.activation(self.batch_norm(self.conv2d(X)))"
      ],
      "execution_count": 6,
      "outputs": []
    },
    {
      "cell_type": "code",
      "metadata": {
        "id": "456gfFTLYUhn",
        "colab_type": "code",
        "colab": {
          "base_uri": "https://localhost:8080/",
          "height": 35
        },
        "outputId": "577425da-387e-40cc-c5dd-1fa232672c20"
      },
      "source": [
        "x = torch.zeros((2, 3, 16, 16))\n",
        "g_blk = G_block(20)\n",
        "g_blk(x).shape"
      ],
      "execution_count": 7,
      "outputs": [
        {
          "output_type": "execute_result",
          "data": {
            "text/plain": [
              "torch.Size([2, 20, 32, 32])"
            ]
          },
          "metadata": {
            "tags": []
          },
          "execution_count": 7
        }
      ]
    },
    {
      "cell_type": "code",
      "metadata": {
        "id": "Lwdcq7baYdrj",
        "colab_type": "code",
        "colab": {
          "base_uri": "https://localhost:8080/",
          "height": 35
        },
        "outputId": "a8e10bba-0ed6-4b26-d411-25b4a9d88a5c"
      },
      "source": [
        "x = torch.zeros((2, 3, 1, 1))\n",
        "g_blk = G_block(20, strides=1, padding=0)\n",
        "g_blk(x).shape"
      ],
      "execution_count": 8,
      "outputs": [
        {
          "output_type": "execute_result",
          "data": {
            "text/plain": [
              "torch.Size([2, 20, 4, 4])"
            ]
          },
          "metadata": {
            "tags": []
          },
          "execution_count": 8
        }
      ]
    },
    {
      "cell_type": "code",
      "metadata": {
        "id": "H7RfubIuYuKV",
        "colab_type": "code",
        "colab": {}
      },
      "source": [
        "def Conv2DTranspose(channels, kernel_size, strides, padding, use_bias, nc=3):\n",
        "    return nn.ConvTranspose2d(nc, channels, kernel_size=kernel_size,stride=strides, padding=padding, bias=use_bias)"
      ],
      "execution_count": 9,
      "outputs": []
    },
    {
      "cell_type": "code",
      "metadata": {
        "id": "5Sxw3J6QYq35",
        "colab_type": "code",
        "colab": {}
      },
      "source": [
        "n_G = 64\n",
        "net_G = nn.Sequential(\n",
        "    G_block(n_G*8, nz=100, strides=1, padding=0),  # Output: (64 * 8, 4, 4)\n",
        "    G_block(n_G*4, n_G*8),  # Output: (64 * 4, 8, 8)\n",
        "    G_block(n_G*2, n_G*4),  # Output: (64 * 2, 16, 16)\n",
        "    G_block(n_G, n_G*2),    # Output: (64, 32, 32)\n",
        "    Conv2DTranspose(\n",
        "              3, nc=n_G, kernel_size=4, strides=2, padding=1, use_bias=False),\n",
        "    nn.Tanh()               # Output: (3, 64, 64)\n",
        ")"
      ],
      "execution_count": 10,
      "outputs": []
    },
    {
      "cell_type": "code",
      "metadata": {
        "id": "er6-3aKVZBO3",
        "colab_type": "code",
        "colab": {
          "base_uri": "https://localhost:8080/",
          "height": 453
        },
        "outputId": "4d5825c8-3ed7-4df4-9b1a-47a3c1a85103"
      },
      "source": [
        "print(net_G)"
      ],
      "execution_count": 11,
      "outputs": [
        {
          "output_type": "stream",
          "text": [
            "Sequential(\n",
            "  (0): G_block(\n",
            "    (conv2d): ConvTranspose2d(100, 512, kernel_size=(4, 4), stride=(1, 1), bias=False)\n",
            "    (batch_norm): BatchNorm2d(512, eps=1e-05, momentum=0.1, affine=True, track_running_stats=True)\n",
            "    (activation): ReLU()\n",
            "  )\n",
            "  (1): G_block(\n",
            "    (conv2d): ConvTranspose2d(512, 256, kernel_size=(4, 4), stride=(2, 2), padding=(1, 1), bias=False)\n",
            "    (batch_norm): BatchNorm2d(256, eps=1e-05, momentum=0.1, affine=True, track_running_stats=True)\n",
            "    (activation): ReLU()\n",
            "  )\n",
            "  (2): G_block(\n",
            "    (conv2d): ConvTranspose2d(256, 128, kernel_size=(4, 4), stride=(2, 2), padding=(1, 1), bias=False)\n",
            "    (batch_norm): BatchNorm2d(128, eps=1e-05, momentum=0.1, affine=True, track_running_stats=True)\n",
            "    (activation): ReLU()\n",
            "  )\n",
            "  (3): G_block(\n",
            "    (conv2d): ConvTranspose2d(128, 64, kernel_size=(4, 4), stride=(2, 2), padding=(1, 1), bias=False)\n",
            "    (batch_norm): BatchNorm2d(64, eps=1e-05, momentum=0.1, affine=True, track_running_stats=True)\n",
            "    (activation): ReLU()\n",
            "  )\n",
            "  (4): ConvTranspose2d(64, 3, kernel_size=(4, 4), stride=(2, 2), padding=(1, 1), bias=False)\n",
            "  (5): Tanh()\n",
            ")\n"
          ],
          "name": "stdout"
        }
      ]
    },
    {
      "cell_type": "code",
      "metadata": {
        "id": "V9amf1uLZFJZ",
        "colab_type": "code",
        "colab": {
          "base_uri": "https://localhost:8080/",
          "height": 35
        },
        "outputId": "4c6e8094-b738-4b85-991f-08edc77ffed1"
      },
      "source": [
        "x = torch.zeros((1, 100, 1, 1))\n",
        "net_G(x).shape"
      ],
      "execution_count": 12,
      "outputs": [
        {
          "output_type": "execute_result",
          "data": {
            "text/plain": [
              "torch.Size([1, 3, 64, 64])"
            ]
          },
          "metadata": {
            "tags": []
          },
          "execution_count": 12
        }
      ]
    },
    {
      "cell_type": "code",
      "metadata": {
        "id": "m8LSIHiDZHeG",
        "colab_type": "code",
        "colab": {
          "base_uri": "https://localhost:8080/",
          "height": 267
        },
        "outputId": "3758d421-7913-479e-8300-f10fff460cc6"
      },
      "source": [
        "alphas = [0, 0.2, 0.4, .6, .8, 1]\n",
        "x = torch.arange(-2, 1, 0.1)\n",
        "Y = [nn.LeakyReLU(alpha)(x).numpy() for alpha in alphas]\n",
        "d2l.plot(x.numpy(), Y, 'x', 'y', alphas)"
      ],
      "execution_count": 13,
      "outputs": [
        {
          "output_type": "display_data",
          "data": {
            "text/plain": [
              "<Figure size 252x180 with 1 Axes>"
            ],
            "image/svg+xml": "<?xml version=\"1.0\" encoding=\"utf-8\" standalone=\"no\"?>\n<!DOCTYPE svg PUBLIC \"-//W3C//DTD SVG 1.1//EN\"\n  \"http://www.w3.org/Graphics/SVG/1.1/DTD/svg11.dtd\">\n<!-- Created with matplotlib (https://matplotlib.org/) -->\n<svg height=\"184.161314pt\" version=\"1.1\" viewBox=\"0 0 255.087173 184.161314\" width=\"255.087173pt\" xmlns=\"http://www.w3.org/2000/svg\" xmlns:xlink=\"http://www.w3.org/1999/xlink\">\n <defs>\n  <style type=\"text/css\">\n*{stroke-linecap:butt;stroke-linejoin:round;}\n  </style>\n </defs>\n <g id=\"figure_1\">\n  <g id=\"patch_1\">\n   <path d=\"M 0 184.161314 \nL 255.087173 184.161314 \nL 255.087173 -0 \nL 0 -0 \nz\n\" style=\"fill:none;\"/>\n  </g>\n  <g id=\"axes_1\">\n   <g id=\"patch_2\">\n    <path d=\"M 52.160938 146.605064 \nL 247.460938 146.605064 \nL 247.460938 10.705064 \nL 52.160938 10.705064 \nz\n\" style=\"fill:#ffffff;\"/>\n   </g>\n   <g id=\"matplotlib.axis_1\">\n    <g id=\"xtick_1\">\n     <g id=\"line2d_1\">\n      <path clip-path=\"url(#p5fbf2f6227)\" d=\"M 61.03821 146.605064 \nL 61.03821 10.705064 \n\" style=\"fill:none;stroke:#b0b0b0;stroke-linecap:square;stroke-width:0.8;\"/>\n     </g>\n     <g id=\"line2d_2\">\n      <defs>\n       <path d=\"M 0 0 \nL 0 3.5 \n\" id=\"me60e9be941\" style=\"stroke:#000000;stroke-width:0.8;\"/>\n      </defs>\n      <g>\n       <use style=\"stroke:#000000;stroke-width:0.8;\" x=\"61.03821\" xlink:href=\"#me60e9be941\" y=\"146.605064\"/>\n      </g>\n     </g>\n     <g id=\"text_1\">\n      <!-- −2 -->\n      <defs>\n       <path d=\"M 10.59375 35.5 \nL 73.1875 35.5 \nL 73.1875 27.203125 \nL 10.59375 27.203125 \nz\n\" id=\"DejaVuSans-8722\"/>\n       <path d=\"M 19.1875 8.296875 \nL 53.609375 8.296875 \nL 53.609375 0 \nL 7.328125 0 \nL 7.328125 8.296875 \nQ 12.9375 14.109375 22.625 23.890625 \nQ 32.328125 33.6875 34.8125 36.53125 \nQ 39.546875 41.84375 41.421875 45.53125 \nQ 43.3125 49.21875 43.3125 52.78125 \nQ 43.3125 58.59375 39.234375 62.25 \nQ 35.15625 65.921875 28.609375 65.921875 \nQ 23.96875 65.921875 18.8125 64.3125 \nQ 13.671875 62.703125 7.8125 59.421875 \nL 7.8125 69.390625 \nQ 13.765625 71.78125 18.9375 73 \nQ 24.125 74.21875 28.421875 74.21875 \nQ 39.75 74.21875 46.484375 68.546875 \nQ 53.21875 62.890625 53.21875 53.421875 \nQ 53.21875 48.921875 51.53125 44.890625 \nQ 49.859375 40.875 45.40625 35.40625 \nQ 44.1875 33.984375 37.640625 27.21875 \nQ 31.109375 20.453125 19.1875 8.296875 \nz\n\" id=\"DejaVuSans-50\"/>\n      </defs>\n      <g transform=\"translate(53.667116 161.203502)scale(0.1 -0.1)\">\n       <use xlink:href=\"#DejaVuSans-8722\"/>\n       <use x=\"83.789062\" xlink:href=\"#DejaVuSans-50\"/>\n      </g>\n     </g>\n    </g>\n    <g id=\"xtick_2\">\n     <g id=\"line2d_3\">\n      <path clip-path=\"url(#p5fbf2f6227)\" d=\"M 122.260781 146.605064 \nL 122.260781 10.705064 \n\" style=\"fill:none;stroke:#b0b0b0;stroke-linecap:square;stroke-width:0.8;\"/>\n     </g>\n     <g id=\"line2d_4\">\n      <g>\n       <use style=\"stroke:#000000;stroke-width:0.8;\" x=\"122.260781\" xlink:href=\"#me60e9be941\" y=\"146.605064\"/>\n      </g>\n     </g>\n     <g id=\"text_2\">\n      <!-- −1 -->\n      <defs>\n       <path d=\"M 12.40625 8.296875 \nL 28.515625 8.296875 \nL 28.515625 63.921875 \nL 10.984375 60.40625 \nL 10.984375 69.390625 \nL 28.421875 72.90625 \nL 38.28125 72.90625 \nL 38.28125 8.296875 \nL 54.390625 8.296875 \nL 54.390625 0 \nL 12.40625 0 \nz\n\" id=\"DejaVuSans-49\"/>\n      </defs>\n      <g transform=\"translate(114.889688 161.203502)scale(0.1 -0.1)\">\n       <use xlink:href=\"#DejaVuSans-8722\"/>\n       <use x=\"83.789062\" xlink:href=\"#DejaVuSans-49\"/>\n      </g>\n     </g>\n    </g>\n    <g id=\"xtick_3\">\n     <g id=\"line2d_5\">\n      <path clip-path=\"url(#p5fbf2f6227)\" d=\"M 183.483352 146.605064 \nL 183.483352 10.705064 \n\" style=\"fill:none;stroke:#b0b0b0;stroke-linecap:square;stroke-width:0.8;\"/>\n     </g>\n     <g id=\"line2d_6\">\n      <g>\n       <use style=\"stroke:#000000;stroke-width:0.8;\" x=\"183.483352\" xlink:href=\"#me60e9be941\" y=\"146.605064\"/>\n      </g>\n     </g>\n     <g id=\"text_3\">\n      <!-- 0 -->\n      <defs>\n       <path d=\"M 31.78125 66.40625 \nQ 24.171875 66.40625 20.328125 58.90625 \nQ 16.5 51.421875 16.5 36.375 \nQ 16.5 21.390625 20.328125 13.890625 \nQ 24.171875 6.390625 31.78125 6.390625 \nQ 39.453125 6.390625 43.28125 13.890625 \nQ 47.125 21.390625 47.125 36.375 \nQ 47.125 51.421875 43.28125 58.90625 \nQ 39.453125 66.40625 31.78125 66.40625 \nz\nM 31.78125 74.21875 \nQ 44.046875 74.21875 50.515625 64.515625 \nQ 56.984375 54.828125 56.984375 36.375 \nQ 56.984375 17.96875 50.515625 8.265625 \nQ 44.046875 -1.421875 31.78125 -1.421875 \nQ 19.53125 -1.421875 13.0625 8.265625 \nQ 6.59375 17.96875 6.59375 36.375 \nQ 6.59375 54.828125 13.0625 64.515625 \nQ 19.53125 74.21875 31.78125 74.21875 \nz\n\" id=\"DejaVuSans-48\"/>\n      </defs>\n      <g transform=\"translate(180.302102 161.203502)scale(0.1 -0.1)\">\n       <use xlink:href=\"#DejaVuSans-48\"/>\n      </g>\n     </g>\n    </g>\n    <g id=\"xtick_4\">\n     <g id=\"line2d_7\">\n      <path clip-path=\"url(#p5fbf2f6227)\" d=\"M 244.705923 146.605064 \nL 244.705923 10.705064 \n\" style=\"fill:none;stroke:#b0b0b0;stroke-linecap:square;stroke-width:0.8;\"/>\n     </g>\n     <g id=\"line2d_8\">\n      <g>\n       <use style=\"stroke:#000000;stroke-width:0.8;\" x=\"244.705923\" xlink:href=\"#me60e9be941\" y=\"146.605064\"/>\n      </g>\n     </g>\n     <g id=\"text_4\">\n      <!-- 1 -->\n      <g transform=\"translate(241.524673 161.203502)scale(0.1 -0.1)\">\n       <use xlink:href=\"#DejaVuSans-49\"/>\n      </g>\n     </g>\n    </g>\n    <g id=\"text_5\">\n     <!-- x -->\n     <defs>\n      <path d=\"M 54.890625 54.6875 \nL 35.109375 28.078125 \nL 55.90625 0 \nL 45.3125 0 \nL 29.390625 21.484375 \nL 13.484375 0 \nL 2.875 0 \nL 24.125 28.609375 \nL 4.6875 54.6875 \nL 15.28125 54.6875 \nL 29.78125 35.203125 \nL 44.28125 54.6875 \nz\n\" id=\"DejaVuSans-120\"/>\n     </defs>\n     <g transform=\"translate(146.851563 174.881627)scale(0.1 -0.1)\">\n      <use xlink:href=\"#DejaVuSans-120\"/>\n     </g>\n    </g>\n   </g>\n   <g id=\"matplotlib.axis_2\">\n    <g id=\"ytick_1\">\n     <g id=\"line2d_9\">\n      <path clip-path=\"url(#p5fbf2f6227)\" d=\"M 52.160938 128.661555 \nL 247.460938 128.661555 \n\" style=\"fill:none;stroke:#b0b0b0;stroke-linecap:square;stroke-width:0.8;\"/>\n     </g>\n     <g id=\"line2d_10\">\n      <defs>\n       <path d=\"M 0 0 \nL -3.5 0 \n\" id=\"m1d2d99cd42\" style=\"stroke:#000000;stroke-width:0.8;\"/>\n      </defs>\n      <g>\n       <use style=\"stroke:#000000;stroke-width:0.8;\" x=\"52.160938\" xlink:href=\"#m1d2d99cd42\" y=\"128.661555\"/>\n      </g>\n     </g>\n     <g id=\"text_6\">\n      <!-- −1.0 -->\n      <defs>\n       <path d=\"M 10.6875 12.40625 \nL 21 12.40625 \nL 21 0 \nL 10.6875 0 \nz\n\" id=\"DejaVuSans-46\"/>\n      </defs>\n      <g transform=\"translate(20.878125 132.460774)scale(0.1 -0.1)\">\n       <use xlink:href=\"#DejaVuSans-8722\"/>\n       <use x=\"83.789062\" xlink:href=\"#DejaVuSans-49\"/>\n       <use x=\"147.412109\" xlink:href=\"#DejaVuSans-46\"/>\n       <use x=\"179.199219\" xlink:href=\"#DejaVuSans-48\"/>\n      </g>\n     </g>\n    </g>\n    <g id=\"ytick_2\">\n     <g id=\"line2d_11\">\n      <path clip-path=\"url(#p5fbf2f6227)\" d=\"M 52.160938 99.245971 \nL 247.460938 99.245971 \n\" style=\"fill:none;stroke:#b0b0b0;stroke-linecap:square;stroke-width:0.8;\"/>\n     </g>\n     <g id=\"line2d_12\">\n      <g>\n       <use style=\"stroke:#000000;stroke-width:0.8;\" x=\"52.160938\" xlink:href=\"#m1d2d99cd42\" y=\"99.245971\"/>\n      </g>\n     </g>\n     <g id=\"text_7\">\n      <!-- −0.5 -->\n      <defs>\n       <path d=\"M 10.796875 72.90625 \nL 49.515625 72.90625 \nL 49.515625 64.59375 \nL 19.828125 64.59375 \nL 19.828125 46.734375 \nQ 21.96875 47.46875 24.109375 47.828125 \nQ 26.265625 48.1875 28.421875 48.1875 \nQ 40.625 48.1875 47.75 41.5 \nQ 54.890625 34.8125 54.890625 23.390625 \nQ 54.890625 11.625 47.5625 5.09375 \nQ 40.234375 -1.421875 26.90625 -1.421875 \nQ 22.3125 -1.421875 17.546875 -0.640625 \nQ 12.796875 0.140625 7.71875 1.703125 \nL 7.71875 11.625 \nQ 12.109375 9.234375 16.796875 8.0625 \nQ 21.484375 6.890625 26.703125 6.890625 \nQ 35.15625 6.890625 40.078125 11.328125 \nQ 45.015625 15.765625 45.015625 23.390625 \nQ 45.015625 31 40.078125 35.4375 \nQ 35.15625 39.890625 26.703125 39.890625 \nQ 22.75 39.890625 18.8125 39.015625 \nQ 14.890625 38.140625 10.796875 36.28125 \nz\n\" id=\"DejaVuSans-53\"/>\n      </defs>\n      <g transform=\"translate(20.878125 103.04519)scale(0.1 -0.1)\">\n       <use xlink:href=\"#DejaVuSans-8722\"/>\n       <use x=\"83.789062\" xlink:href=\"#DejaVuSans-48\"/>\n       <use x=\"147.412109\" xlink:href=\"#DejaVuSans-46\"/>\n       <use x=\"179.199219\" xlink:href=\"#DejaVuSans-53\"/>\n      </g>\n     </g>\n    </g>\n    <g id=\"ytick_3\">\n     <g id=\"line2d_13\">\n      <path clip-path=\"url(#p5fbf2f6227)\" d=\"M 52.160938 69.830387 \nL 247.460938 69.830387 \n\" style=\"fill:none;stroke:#b0b0b0;stroke-linecap:square;stroke-width:0.8;\"/>\n     </g>\n     <g id=\"line2d_14\">\n      <g>\n       <use style=\"stroke:#000000;stroke-width:0.8;\" x=\"52.160938\" xlink:href=\"#m1d2d99cd42\" y=\"69.830387\"/>\n      </g>\n     </g>\n     <g id=\"text_8\">\n      <!-- 0.0 -->\n      <g transform=\"translate(29.257812 73.629606)scale(0.1 -0.1)\">\n       <use xlink:href=\"#DejaVuSans-48\"/>\n       <use x=\"63.623047\" xlink:href=\"#DejaVuSans-46\"/>\n       <use x=\"95.410156\" xlink:href=\"#DejaVuSans-48\"/>\n      </g>\n     </g>\n    </g>\n    <g id=\"ytick_4\">\n     <g id=\"line2d_15\">\n      <path clip-path=\"url(#p5fbf2f6227)\" d=\"M 52.160938 40.414803 \nL 247.460938 40.414803 \n\" style=\"fill:none;stroke:#b0b0b0;stroke-linecap:square;stroke-width:0.8;\"/>\n     </g>\n     <g id=\"line2d_16\">\n      <g>\n       <use style=\"stroke:#000000;stroke-width:0.8;\" x=\"52.160938\" xlink:href=\"#m1d2d99cd42\" y=\"40.414803\"/>\n      </g>\n     </g>\n     <g id=\"text_9\">\n      <!-- 0.5 -->\n      <g transform=\"translate(29.257812 44.214022)scale(0.1 -0.1)\">\n       <use xlink:href=\"#DejaVuSans-48\"/>\n       <use x=\"63.623047\" xlink:href=\"#DejaVuSans-46\"/>\n       <use x=\"95.410156\" xlink:href=\"#DejaVuSans-53\"/>\n      </g>\n     </g>\n    </g>\n    <g id=\"ytick_5\">\n     <g id=\"line2d_17\">\n      <path clip-path=\"url(#p5fbf2f6227)\" d=\"M 52.160938 10.999219 \nL 247.460938 10.999219 \n\" style=\"fill:none;stroke:#b0b0b0;stroke-linecap:square;stroke-width:0.8;\"/>\n     </g>\n     <g id=\"line2d_18\">\n      <g>\n       <use style=\"stroke:#000000;stroke-width:0.8;\" x=\"52.160938\" xlink:href=\"#m1d2d99cd42\" y=\"10.999219\"/>\n      </g>\n     </g>\n     <g id=\"text_10\">\n      <!-- 1.0 -->\n      <g transform=\"translate(29.257812 14.798437)scale(0.1 -0.1)\">\n       <use xlink:href=\"#DejaVuSans-49\"/>\n       <use x=\"63.623047\" xlink:href=\"#DejaVuSans-46\"/>\n       <use x=\"95.410156\" xlink:href=\"#DejaVuSans-48\"/>\n      </g>\n     </g>\n    </g>\n    <g id=\"text_11\">\n     <!-- y -->\n     <defs>\n      <path d=\"M 32.171875 -5.078125 \nQ 28.375 -14.84375 24.75 -17.8125 \nQ 21.140625 -20.796875 15.09375 -20.796875 \nL 7.90625 -20.796875 \nL 7.90625 -13.28125 \nL 13.1875 -13.28125 \nQ 16.890625 -13.28125 18.9375 -11.515625 \nQ 21 -9.765625 23.484375 -3.21875 \nL 25.09375 0.875 \nL 2.984375 54.6875 \nL 12.5 54.6875 \nL 29.59375 11.921875 \nL 46.6875 54.6875 \nL 56.203125 54.6875 \nz\n\" id=\"DejaVuSans-121\"/>\n     </defs>\n     <g transform=\"translate(14.798438 81.614439)rotate(-90)scale(0.1 -0.1)\">\n      <use xlink:href=\"#DejaVuSans-121\"/>\n     </g>\n    </g>\n   </g>\n   <g id=\"line2d_19\">\n    <path clip-path=\"url(#p5fbf2f6227)\" d=\"M 61.03821 69.830387 \nL 67.160469 69.830387 \nL 73.282727 69.830387 \nL 79.404979 69.830387 \nL 85.527237 69.830387 \nL 91.649496 69.830387 \nL 97.771754 69.830387 \nL 103.894013 69.830387 \nL 110.016264 69.830387 \nL 116.138523 69.830387 \nL 122.260781 69.830387 \nL 128.38304 69.830387 \nL 134.505295 69.830387 \nL 140.627553 69.830387 \nL 146.749808 69.830387 \nL 152.872067 69.830387 \nL 158.994324 69.830387 \nL 165.11658 69.830387 \nL 171.238838 69.830387 \nL 177.361095 69.830387 \nL 183.483352 69.830387 \nL 189.605609 63.94727 \nL 195.727867 58.064153 \nL 201.850124 52.181036 \nL 207.972381 46.297919 \nL 214.094638 40.414803 \nL 220.216896 34.531685 \nL 226.339151 28.64857 \nL 232.46141 22.765452 \nL 238.583665 16.882337 \n\" style=\"fill:none;stroke:#1f77b4;stroke-linecap:square;stroke-width:1.5;\"/>\n   </g>\n   <g id=\"line2d_20\">\n    <path clip-path=\"url(#p5fbf2f6227)\" d=\"M 61.03821 93.362855 \nL 67.160469 92.186231 \nL 73.282727 91.009607 \nL 79.404979 89.832984 \nL 85.527237 88.656362 \nL 91.649496 87.479738 \nL 97.771754 86.303114 \nL 103.894013 85.12649 \nL 110.016264 83.949868 \nL 116.138523 82.773245 \nL 122.260781 81.596621 \nL 128.38304 80.419997 \nL 134.505295 79.243374 \nL 140.627553 78.06675 \nL 146.749808 76.890127 \nL 152.872067 75.713504 \nL 158.994324 74.536881 \nL 165.11658 73.360257 \nL 171.238838 72.183634 \nL 177.361095 71.00701 \nL 183.483352 69.830387 \nL 189.605609 63.94727 \nL 195.727867 58.064153 \nL 201.850124 52.181036 \nL 207.972381 46.297919 \nL 214.094638 40.414803 \nL 220.216896 34.531685 \nL 226.339151 28.64857 \nL 232.46141 22.765452 \nL 238.583665 16.882337 \n\" style=\"fill:none;stroke:#bf00bf;stroke-dasharray:5.55,2.4;stroke-dashoffset:0;stroke-width:1.5;\"/>\n   </g>\n   <g id=\"line2d_21\">\n    <path clip-path=\"url(#p5fbf2f6227)\" d=\"M 61.03821 116.895322 \nL 67.160469 114.542074 \nL 73.282727 112.188826 \nL 79.404979 109.835582 \nL 85.527237 107.482337 \nL 91.649496 105.129089 \nL 97.771754 102.775841 \nL 103.894013 100.422593 \nL 110.016264 98.069349 \nL 116.138523 95.716103 \nL 122.260781 93.362855 \nL 128.38304 91.009607 \nL 134.505295 88.656362 \nL 140.627553 86.303114 \nL 146.749808 83.949868 \nL 152.872067 81.596621 \nL 158.994324 79.243374 \nL 165.11658 76.890127 \nL 171.238838 74.536881 \nL 177.361095 72.183634 \nL 183.483352 69.830387 \nL 189.605609 63.94727 \nL 195.727867 58.064153 \nL 201.850124 52.181036 \nL 207.972381 46.297919 \nL 214.094638 40.414803 \nL 220.216896 34.531685 \nL 226.339151 28.64857 \nL 232.46141 22.765452 \nL 238.583665 16.882337 \n\" style=\"fill:none;stroke:#008000;stroke-dasharray:9.6,2.4,1.5,2.4;stroke-dashoffset:0;stroke-width:1.5;\"/>\n   </g>\n   <g id=\"line2d_22\">\n    <path clip-path=\"url(#p5fbf2f6227)\" d=\"M 61.03821 140.427792 \nL 67.160469 136.897918 \nL 73.282727 133.368051 \nL 79.404979 129.838184 \nL 85.527237 126.308311 \nL 91.649496 122.77844 \nL 97.771754 119.24857 \nL 103.894013 115.7187 \nL 110.016264 112.18883 \nL 116.138523 108.658959 \nL 122.260781 105.129089 \nL 128.38304 101.599219 \nL 134.505295 98.069349 \nL 140.627553 94.539479 \nL 146.749808 91.009608 \nL 152.872067 87.479738 \nL 158.994324 83.949868 \nL 165.11658 80.419998 \nL 171.238838 76.890127 \nL 177.361095 73.360257 \nL 183.483352 69.830387 \nL 189.605609 63.94727 \nL 195.727867 58.064153 \nL 201.850124 52.181036 \nL 207.972381 46.297919 \nL 214.094638 40.414803 \nL 220.216896 34.531685 \nL 226.339151 28.64857 \nL 232.46141 22.765452 \nL 238.583665 16.882337 \n\" style=\"fill:none;stroke:#ff0000;stroke-dasharray:1.5,2.475;stroke-dashoffset:0;stroke-width:1.5;\"/>\n   </g>\n   <g id=\"patch_3\">\n    <path d=\"M 52.160938 146.605064 \nL 52.160938 10.705064 \n\" style=\"fill:none;stroke:#000000;stroke-linecap:square;stroke-linejoin:miter;stroke-width:0.8;\"/>\n   </g>\n   <g id=\"patch_4\">\n    <path d=\"M 247.460938 146.605064 \nL 247.460938 10.705064 \n\" style=\"fill:none;stroke:#000000;stroke-linecap:square;stroke-linejoin:miter;stroke-width:0.8;\"/>\n   </g>\n   <g id=\"patch_5\">\n    <path d=\"M 52.160938 146.605064 \nL 247.460938 146.605064 \n\" style=\"fill:none;stroke:#000000;stroke-linecap:square;stroke-linejoin:miter;stroke-width:0.8;\"/>\n   </g>\n   <g id=\"patch_6\">\n    <path d=\"M 52.160938 10.705064 \nL 247.460938 10.705064 \n\" style=\"fill:none;stroke:#000000;stroke-linecap:square;stroke-linejoin:miter;stroke-width:0.8;\"/>\n   </g>\n   <g id=\"legend_1\">\n    <g id=\"patch_7\">\n     <path d=\"M 192.557813 141.605064 \nL 240.460938 141.605064 \nQ 242.460938 141.605064 242.460938 139.605064 \nL 242.460938 81.892564 \nQ 242.460938 79.892564 240.460938 79.892564 \nL 192.557813 79.892564 \nQ 190.557813 79.892564 190.557813 81.892564 \nL 190.557813 139.605064 \nQ 190.557813 141.605064 192.557813 141.605064 \nz\n\" style=\"fill:#ffffff;opacity:0.8;stroke:#cccccc;stroke-linejoin:miter;\"/>\n    </g>\n    <g id=\"line2d_23\">\n     <path d=\"M 194.557813 87.991002 \nL 214.557813 87.991002 \n\" style=\"fill:none;stroke:#1f77b4;stroke-linecap:square;stroke-width:1.5;\"/>\n    </g>\n    <g id=\"line2d_24\"/>\n    <g id=\"text_12\">\n     <!-- 0 -->\n     <g transform=\"translate(222.557813 91.491002)scale(0.1 -0.1)\">\n      <use xlink:href=\"#DejaVuSans-48\"/>\n     </g>\n    </g>\n    <g id=\"line2d_25\">\n     <path d=\"M 194.557813 102.669127 \nL 214.557813 102.669127 \n\" style=\"fill:none;stroke:#bf00bf;stroke-dasharray:5.55,2.4;stroke-dashoffset:0;stroke-width:1.5;\"/>\n    </g>\n    <g id=\"line2d_26\"/>\n    <g id=\"text_13\">\n     <!-- 0.2 -->\n     <g transform=\"translate(222.557813 106.169127)scale(0.1 -0.1)\">\n      <use xlink:href=\"#DejaVuSans-48\"/>\n      <use x=\"63.623047\" xlink:href=\"#DejaVuSans-46\"/>\n      <use x=\"95.410156\" xlink:href=\"#DejaVuSans-50\"/>\n     </g>\n    </g>\n    <g id=\"line2d_27\">\n     <path d=\"M 194.557813 117.347252 \nL 214.557813 117.347252 \n\" style=\"fill:none;stroke:#008000;stroke-dasharray:9.6,2.4,1.5,2.4;stroke-dashoffset:0;stroke-width:1.5;\"/>\n    </g>\n    <g id=\"line2d_28\"/>\n    <g id=\"text_14\">\n     <!-- 0.4 -->\n     <defs>\n      <path d=\"M 37.796875 64.3125 \nL 12.890625 25.390625 \nL 37.796875 25.390625 \nz\nM 35.203125 72.90625 \nL 47.609375 72.90625 \nL 47.609375 25.390625 \nL 58.015625 25.390625 \nL 58.015625 17.1875 \nL 47.609375 17.1875 \nL 47.609375 0 \nL 37.796875 0 \nL 37.796875 17.1875 \nL 4.890625 17.1875 \nL 4.890625 26.703125 \nz\n\" id=\"DejaVuSans-52\"/>\n     </defs>\n     <g transform=\"translate(222.557813 120.847252)scale(0.1 -0.1)\">\n      <use xlink:href=\"#DejaVuSans-48\"/>\n      <use x=\"63.623047\" xlink:href=\"#DejaVuSans-46\"/>\n      <use x=\"95.410156\" xlink:href=\"#DejaVuSans-52\"/>\n     </g>\n    </g>\n    <g id=\"line2d_29\">\n     <path d=\"M 194.557813 132.025377 \nL 214.557813 132.025377 \n\" style=\"fill:none;stroke:#ff0000;stroke-dasharray:1.5,2.475;stroke-dashoffset:0;stroke-width:1.5;\"/>\n    </g>\n    <g id=\"line2d_30\"/>\n    <g id=\"text_15\">\n     <!-- 0.6 -->\n     <defs>\n      <path d=\"M 33.015625 40.375 \nQ 26.375 40.375 22.484375 35.828125 \nQ 18.609375 31.296875 18.609375 23.390625 \nQ 18.609375 15.53125 22.484375 10.953125 \nQ 26.375 6.390625 33.015625 6.390625 \nQ 39.65625 6.390625 43.53125 10.953125 \nQ 47.40625 15.53125 47.40625 23.390625 \nQ 47.40625 31.296875 43.53125 35.828125 \nQ 39.65625 40.375 33.015625 40.375 \nz\nM 52.59375 71.296875 \nL 52.59375 62.3125 \nQ 48.875 64.0625 45.09375 64.984375 \nQ 41.3125 65.921875 37.59375 65.921875 \nQ 27.828125 65.921875 22.671875 59.328125 \nQ 17.53125 52.734375 16.796875 39.40625 \nQ 19.671875 43.65625 24.015625 45.921875 \nQ 28.375 48.1875 33.59375 48.1875 \nQ 44.578125 48.1875 50.953125 41.515625 \nQ 57.328125 34.859375 57.328125 23.390625 \nQ 57.328125 12.15625 50.6875 5.359375 \nQ 44.046875 -1.421875 33.015625 -1.421875 \nQ 20.359375 -1.421875 13.671875 8.265625 \nQ 6.984375 17.96875 6.984375 36.375 \nQ 6.984375 53.65625 15.1875 63.9375 \nQ 23.390625 74.21875 37.203125 74.21875 \nQ 40.921875 74.21875 44.703125 73.484375 \nQ 48.484375 72.75 52.59375 71.296875 \nz\n\" id=\"DejaVuSans-54\"/>\n     </defs>\n     <g transform=\"translate(222.557813 135.525377)scale(0.1 -0.1)\">\n      <use xlink:href=\"#DejaVuSans-48\"/>\n      <use x=\"63.623047\" xlink:href=\"#DejaVuSans-46\"/>\n      <use x=\"95.410156\" xlink:href=\"#DejaVuSans-54\"/>\n     </g>\n    </g>\n   </g>\n  </g>\n </g>\n <defs>\n  <clipPath id=\"p5fbf2f6227\">\n   <rect height=\"135.9\" width=\"195.3\" x=\"52.160938\" y=\"10.705064\"/>\n  </clipPath>\n </defs>\n</svg>\n"
          },
          "metadata": {
            "tags": [],
            "needs_background": "light"
          }
        }
      ]
    },
    {
      "cell_type": "code",
      "metadata": {
        "id": "4VC43EPMZKMf",
        "colab_type": "code",
        "colab": {}
      },
      "source": [
        "class D_block(nn.Module):\n",
        "        def __init__(self, channels, nc=3, kernel_size=4, strides=2,\n",
        "                 padding=1, alpha=0.2, **kwargs):# nc: in_channels\n",
        "            super(D_block, self).__init__(**kwargs)\n",
        "            self.conv2d = nn.Conv2d(\n",
        "                nc, channels, kernel_size, strides, padding, bias=False)\n",
        "            self.batch_norm = nn.BatchNorm2d(channels)\n",
        "            self.activation = nn.LeakyReLU(alpha)\n",
        "\n",
        "        def forward(self, X):\n",
        "            return self.activation(self.batch_norm(self.conv2d(X)))"
      ],
      "execution_count": 14,
      "outputs": []
    },
    {
      "cell_type": "code",
      "metadata": {
        "id": "L-60LZ2uZUA2",
        "colab_type": "code",
        "colab": {
          "base_uri": "https://localhost:8080/",
          "height": 35
        },
        "outputId": "ad7ae327-58fc-4218-cc25-ba348ae09194"
      },
      "source": [
        "x = torch.zeros((2, 3, 16, 16))\n",
        "d_blk = D_block(20)\n",
        "d_blk(x).shape"
      ],
      "execution_count": 15,
      "outputs": [
        {
          "output_type": "execute_result",
          "data": {
            "text/plain": [
              "torch.Size([2, 20, 8, 8])"
            ]
          },
          "metadata": {
            "tags": []
          },
          "execution_count": 15
        }
      ]
    },
    {
      "cell_type": "code",
      "metadata": {
        "id": "DEHcAjDzZXSu",
        "colab_type": "code",
        "colab": {}
      },
      "source": [
        "def Conv2D(channels, kernel_size, use_bias, nc=3):\n",
        "    return nn.Conv2d(nc, channels, kernel_size=kernel_size, bias=use_bias)"
      ],
      "execution_count": 16,
      "outputs": []
    },
    {
      "cell_type": "code",
      "metadata": {
        "id": "F6ZEBVQqZZpD",
        "colab_type": "code",
        "colab": {}
      },
      "source": [
        "n_D = 64\n",
        "net_D = nn.Sequential(\n",
        "    D_block(n_D),    # Output: (64, 32, 32)\n",
        "    D_block(n_D*2, n_D),  # Output: (64 * 2, 16, 16)\n",
        "    D_block(n_D*4, n_D*2),  # Output: (64 * 4, 8, 8)\n",
        "    D_block(n_D*8, n_D*4),  # Output: (64 * 8, 4, 4)\n",
        "    Conv2D(1, nc=n_D*8, kernel_size=4, use_bias=False) # Output: (1, 1, 1)\n",
        ")"
      ],
      "execution_count": 17,
      "outputs": []
    },
    {
      "cell_type": "code",
      "metadata": {
        "id": "2aZ9q5UeZcbT",
        "colab_type": "code",
        "colab": {
          "base_uri": "https://localhost:8080/",
          "height": 436
        },
        "outputId": "232d54f5-7c84-497d-cc3d-6636bda1c026"
      },
      "source": [
        "print(net_D)"
      ],
      "execution_count": 18,
      "outputs": [
        {
          "output_type": "stream",
          "text": [
            "Sequential(\n",
            "  (0): D_block(\n",
            "    (conv2d): Conv2d(3, 64, kernel_size=(4, 4), stride=(2, 2), padding=(1, 1), bias=False)\n",
            "    (batch_norm): BatchNorm2d(64, eps=1e-05, momentum=0.1, affine=True, track_running_stats=True)\n",
            "    (activation): LeakyReLU(negative_slope=0.2)\n",
            "  )\n",
            "  (1): D_block(\n",
            "    (conv2d): Conv2d(64, 128, kernel_size=(4, 4), stride=(2, 2), padding=(1, 1), bias=False)\n",
            "    (batch_norm): BatchNorm2d(128, eps=1e-05, momentum=0.1, affine=True, track_running_stats=True)\n",
            "    (activation): LeakyReLU(negative_slope=0.2)\n",
            "  )\n",
            "  (2): D_block(\n",
            "    (conv2d): Conv2d(128, 256, kernel_size=(4, 4), stride=(2, 2), padding=(1, 1), bias=False)\n",
            "    (batch_norm): BatchNorm2d(256, eps=1e-05, momentum=0.1, affine=True, track_running_stats=True)\n",
            "    (activation): LeakyReLU(negative_slope=0.2)\n",
            "  )\n",
            "  (3): D_block(\n",
            "    (conv2d): Conv2d(256, 512, kernel_size=(4, 4), stride=(2, 2), padding=(1, 1), bias=False)\n",
            "    (batch_norm): BatchNorm2d(512, eps=1e-05, momentum=0.1, affine=True, track_running_stats=True)\n",
            "    (activation): LeakyReLU(negative_slope=0.2)\n",
            "  )\n",
            "  (4): Conv2d(512, 1, kernel_size=(4, 4), stride=(1, 1), bias=False)\n",
            ")\n"
          ],
          "name": "stdout"
        }
      ]
    },
    {
      "cell_type": "code",
      "metadata": {
        "id": "ZhPGr10pZe-8",
        "colab_type": "code",
        "colab": {
          "base_uri": "https://localhost:8080/",
          "height": 35
        },
        "outputId": "14ce077d-bac6-4264-b51b-5d31e4bf4753"
      },
      "source": [
        "x = torch.zeros((1, 3, 64, 64))\n",
        "net_D(x).shape"
      ],
      "execution_count": 19,
      "outputs": [
        {
          "output_type": "execute_result",
          "data": {
            "text/plain": [
              "torch.Size([1, 1, 1, 1])"
            ]
          },
          "metadata": {
            "tags": []
          },
          "execution_count": 19
        }
      ]
    },
    {
      "cell_type": "code",
      "metadata": {
        "id": "EDutHKDMZyW1",
        "colab_type": "code",
        "colab": {}
      },
      "source": [
        "def update_D(X, Z, net_D, net_G, loss, trainer_D):\n",
        "    \"\"\"Update discriminator.\"\"\"\n",
        "    batch_size = X.shape[0]\n",
        "    ones = torch.ones((batch_size, 1, 1, 1), device=d2l.try_gpu())\n",
        "    zeros = torch.zeros((batch_size, 1, 1, 1), device=d2l.try_gpu())\n",
        "    trainer_D.zero_grad()\n",
        "    real_Y = net_D(X)\n",
        "    fake_X = net_G(Z)\n",
        "    # Do not need to compute gradient for `net_G`, detach it from\n",
        "    # computing gradients.\n",
        "    fake_Y = net_D(fake_X.detach())\n",
        "    loss_D = (loss(real_Y, ones) + loss(fake_Y, zeros)) / 2\n",
        "    loss_D.backward()\n",
        "    trainer_D.step()\n",
        "    return loss_D"
      ],
      "execution_count": 20,
      "outputs": []
    },
    {
      "cell_type": "code",
      "metadata": {
        "id": "i6Kzhm3XatKy",
        "colab_type": "code",
        "colab": {}
      },
      "source": [
        "def update_G(Z, net_D, net_G, loss, trainer_G):  #@save\n",
        "    \"\"\"Update generator.\"\"\"\n",
        "    batch_size = Z.shape[0]\n",
        "    ones = torch.ones((batch_size,1,1,1), device=d2l.try_gpu()) \n",
        "    # We could reuse `fake_X` from `update_D` to save computation\n",
        "    fake_X = net_G(Z)\n",
        "    # Recomputing `fake_Y` is needed since `net_D` is changed\n",
        "    fake_Y = net_D(fake_X)\n",
        "    loss_G = loss(fake_Y, ones)\n",
        "    loss_G.backward()\n",
        "    trainer_G.step()\n",
        "    return loss_G"
      ],
      "execution_count": 21,
      "outputs": []
    },
    {
      "cell_type": "code",
      "metadata": {
        "id": "tEj8AAXSc78v",
        "colab_type": "code",
        "colab": {}
      },
      "source": [
        "import numpy as np"
      ],
      "execution_count": 22,
      "outputs": []
    },
    {
      "cell_type": "code",
      "metadata": {
        "id": "v7Z-YgkZbJO0",
        "colab_type": "code",
        "colab": {}
      },
      "source": [
        "def train(net_D, net_G, data_iter, num_epochs, lr, latent_dim, device=d2l.try_gpu()):\n",
        "    loss = nn.BCEWithLogitsLoss()\n",
        "    for w in net_D.parameters():\n",
        "        nn.init.normal_(w, 0, 0.02)\n",
        "    for w in net_G.parameters():\n",
        "        nn.init.normal_(w, 0, 0.02)\n",
        "    net_D.zero_grad()\n",
        "    net_G.zero_grad()\n",
        "    trainer_hp = {'lr': lr, 'betas': [0.5,0.999]}\n",
        "    trainer_D = torch.optim.Adam(net_D.parameters(), **trainer_hp)\n",
        "    trainer_G = torch.optim.Adam(net_G.parameters(), **trainer_hp)\n",
        "    animator = d2l.Animator(xlabel='epoch', ylabel='loss',\n",
        "                            xlim=[1, num_epochs], nrows=2, figsize=(5, 5),\n",
        "                            legend=['discriminator', 'generator'])\n",
        "    animator.fig.subplots_adjust(hspace=0.3)\n",
        "    for epoch in range(1, num_epochs + 1):\n",
        "        print('Epoch',epoch)\n",
        "        # Train one epoch\n",
        "        timer = d2l.Timer()\n",
        "        metric = d2l.Accumulator(3)  # loss_D, loss_G, num_examples\n",
        "        for X, _ in data_iter:\n",
        "            print('Processing batch')\n",
        "            batch_size = X.shape[0]\n",
        "            Z = torch.normal(0, 1, size=(batch_size, latent_dim, 1, 1))\n",
        "            X, Z = X.to(device), Z.to(device)\n",
        "            metric.add(update_D(X, Z, net_D, net_G, loss, trainer_D),\n",
        "                       update_G(Z, net_D, net_G, loss, trainer_G),\n",
        "                       batch_size)\n",
        "        # Show generated examples\n",
        "        Z = torch.normal(0, 1, size=(21, latent_dim, 1, 1), device=device)\n",
        "        # Normalize the synthetic data to N(0, 1)\n",
        "        fake_x = net_G(Z).permute(0, 2, 3, 1) / 2 + 0.5\n",
        "        imgs = np.concatenate(\n",
        "             [np.concatenate([fake_x[i * 7 + j].detach().numpy() for j in range(7)], axis=1)\n",
        "              for i in range(len(fake_x)//7)], axis=0)\n",
        "        animator.axes[1].cla()\n",
        "        animator.axes[1].imshow(imgs)\n",
        "        # Show the losses\n",
        "        loss_D, loss_G = metric[0] / metric[2], metric[1] / metric[2]\n",
        "        animator.add(epoch, (loss_D, loss_G))\n",
        "    print(f'loss_D {loss_D:.3f}, loss_G {loss_G:.3f}, '\n",
        "          f'{metric[2] / timer.stop():.1f} examples/sec on {str(device)}')"
      ],
      "execution_count": 23,
      "outputs": []
    },
    {
      "cell_type": "code",
      "metadata": {
        "id": "22toldMJce9J",
        "colab_type": "code",
        "colab": {
          "base_uri": "https://localhost:8080/",
          "height": 442
        },
        "outputId": "7109de30-5efb-4b6b-8bb2-46902c76b510"
      },
      "source": [
        "latent_dim, lr, num_epochs = 100, 0.005, 1\n",
        "train(net_D, net_G, data_iter, num_epochs, lr, latent_dim)"
      ],
      "execution_count": 24,
      "outputs": [
        {
          "output_type": "stream",
          "text": [
            "loss_D 0.001, loss_G 0.024, 13.2 examples/sec on cpu\n"
          ],
          "name": "stdout"
        },
        {
          "output_type": "display_data",
          "data": {
            "text/plain": [
              "<Figure size 360x360 with 2 Axes>"
            ],
            "image/svg+xml": "<?xml version=\"1.0\" encoding=\"utf-8\" standalone=\"no\"?>\n<!DOCTYPE svg PUBLIC \"-//W3C//DTD SVG 1.1//EN\"\n  \"http://www.w3.org/Graphics/SVG/1.1/DTD/svg11.dtd\">\n<!-- Created with matplotlib (https://matplotlib.org/) -->\n<svg height=\"302.878125pt\" version=\"1.1\" viewBox=\"0 0 336.34375 302.878125\" width=\"336.34375pt\" xmlns=\"http://www.w3.org/2000/svg\" xmlns:xlink=\"http://www.w3.org/1999/xlink\">\n <defs>\n  <style type=\"text/css\">\n*{stroke-linecap:butt;stroke-linejoin:round;}\n  </style>\n </defs>\n <g id=\"figure_1\">\n  <g id=\"patch_1\">\n   <path d=\"M 0 302.878125 \nL 336.34375 302.878125 \nL 336.34375 0 \nL 0 0 \nz\n\" style=\"fill:none;\"/>\n  </g>\n  <g id=\"axes_1\">\n   <g id=\"patch_2\">\n    <path d=\"M 50.14375 125.373913 \nL 329.14375 125.373913 \nL 329.14375 7.2 \nL 50.14375 7.2 \nz\n\" style=\"fill:#ffffff;\"/>\n   </g>\n   <g id=\"matplotlib.axis_1\">\n    <g id=\"xtick_1\">\n     <g id=\"line2d_1\">\n      <path clip-path=\"url(#p160bc3c38c)\" d=\"M 78.04375 125.373913 \nL 78.04375 7.2 \n\" style=\"fill:none;stroke:#b0b0b0;stroke-linecap:square;stroke-width:0.8;\"/>\n     </g>\n     <g id=\"line2d_2\">\n      <defs>\n       <path d=\"M 0 0 \nL 0 3.5 \n\" id=\"md942698286\" style=\"stroke:#000000;stroke-width:0.8;\"/>\n      </defs>\n      <g>\n       <use style=\"stroke:#000000;stroke-width:0.8;\" x=\"78.04375\" xlink:href=\"#md942698286\" y=\"125.373913\"/>\n      </g>\n     </g>\n     <g id=\"text_1\">\n      <!-- 0.96 -->\n      <defs>\n       <path d=\"M 31.78125 66.40625 \nQ 24.171875 66.40625 20.328125 58.90625 \nQ 16.5 51.421875 16.5 36.375 \nQ 16.5 21.390625 20.328125 13.890625 \nQ 24.171875 6.390625 31.78125 6.390625 \nQ 39.453125 6.390625 43.28125 13.890625 \nQ 47.125 21.390625 47.125 36.375 \nQ 47.125 51.421875 43.28125 58.90625 \nQ 39.453125 66.40625 31.78125 66.40625 \nz\nM 31.78125 74.21875 \nQ 44.046875 74.21875 50.515625 64.515625 \nQ 56.984375 54.828125 56.984375 36.375 \nQ 56.984375 17.96875 50.515625 8.265625 \nQ 44.046875 -1.421875 31.78125 -1.421875 \nQ 19.53125 -1.421875 13.0625 8.265625 \nQ 6.59375 17.96875 6.59375 36.375 \nQ 6.59375 54.828125 13.0625 64.515625 \nQ 19.53125 74.21875 31.78125 74.21875 \nz\n\" id=\"DejaVuSans-48\"/>\n       <path d=\"M 10.6875 12.40625 \nL 21 12.40625 \nL 21 0 \nL 10.6875 0 \nz\n\" id=\"DejaVuSans-46\"/>\n       <path d=\"M 10.984375 1.515625 \nL 10.984375 10.5 \nQ 14.703125 8.734375 18.5 7.8125 \nQ 22.3125 6.890625 25.984375 6.890625 \nQ 35.75 6.890625 40.890625 13.453125 \nQ 46.046875 20.015625 46.78125 33.40625 \nQ 43.953125 29.203125 39.59375 26.953125 \nQ 35.25 24.703125 29.984375 24.703125 \nQ 19.046875 24.703125 12.671875 31.3125 \nQ 6.296875 37.9375 6.296875 49.421875 \nQ 6.296875 60.640625 12.9375 67.421875 \nQ 19.578125 74.21875 30.609375 74.21875 \nQ 43.265625 74.21875 49.921875 64.515625 \nQ 56.59375 54.828125 56.59375 36.375 \nQ 56.59375 19.140625 48.40625 8.859375 \nQ 40.234375 -1.421875 26.421875 -1.421875 \nQ 22.703125 -1.421875 18.890625 -0.6875 \nQ 15.09375 0.046875 10.984375 1.515625 \nz\nM 30.609375 32.421875 \nQ 37.25 32.421875 41.125 36.953125 \nQ 45.015625 41.5 45.015625 49.421875 \nQ 45.015625 57.28125 41.125 61.84375 \nQ 37.25 66.40625 30.609375 66.40625 \nQ 23.96875 66.40625 20.09375 61.84375 \nQ 16.21875 57.28125 16.21875 49.421875 \nQ 16.21875 41.5 20.09375 36.953125 \nQ 23.96875 32.421875 30.609375 32.421875 \nz\n\" id=\"DejaVuSans-57\"/>\n       <path d=\"M 33.015625 40.375 \nQ 26.375 40.375 22.484375 35.828125 \nQ 18.609375 31.296875 18.609375 23.390625 \nQ 18.609375 15.53125 22.484375 10.953125 \nQ 26.375 6.390625 33.015625 6.390625 \nQ 39.65625 6.390625 43.53125 10.953125 \nQ 47.40625 15.53125 47.40625 23.390625 \nQ 47.40625 31.296875 43.53125 35.828125 \nQ 39.65625 40.375 33.015625 40.375 \nz\nM 52.59375 71.296875 \nL 52.59375 62.3125 \nQ 48.875 64.0625 45.09375 64.984375 \nQ 41.3125 65.921875 37.59375 65.921875 \nQ 27.828125 65.921875 22.671875 59.328125 \nQ 17.53125 52.734375 16.796875 39.40625 \nQ 19.671875 43.65625 24.015625 45.921875 \nQ 28.375 48.1875 33.59375 48.1875 \nQ 44.578125 48.1875 50.953125 41.515625 \nQ 57.328125 34.859375 57.328125 23.390625 \nQ 57.328125 12.15625 50.6875 5.359375 \nQ 44.046875 -1.421875 33.015625 -1.421875 \nQ 20.359375 -1.421875 13.671875 8.265625 \nQ 6.984375 17.96875 6.984375 36.375 \nQ 6.984375 53.65625 15.1875 63.9375 \nQ 23.390625 74.21875 37.203125 74.21875 \nQ 40.921875 74.21875 44.703125 73.484375 \nQ 48.484375 72.75 52.59375 71.296875 \nz\n\" id=\"DejaVuSans-54\"/>\n      </defs>\n      <g transform=\"translate(66.910938 139.972351)scale(0.1 -0.1)\">\n       <use xlink:href=\"#DejaVuSans-48\"/>\n       <use x=\"63.623047\" xlink:href=\"#DejaVuSans-46\"/>\n       <use x=\"95.410156\" xlink:href=\"#DejaVuSans-57\"/>\n       <use x=\"159.033203\" xlink:href=\"#DejaVuSans-54\"/>\n      </g>\n     </g>\n    </g>\n    <g id=\"xtick_2\">\n     <g id=\"line2d_3\">\n      <path clip-path=\"url(#p160bc3c38c)\" d=\"M 133.84375 125.373913 \nL 133.84375 7.2 \n\" style=\"fill:none;stroke:#b0b0b0;stroke-linecap:square;stroke-width:0.8;\"/>\n     </g>\n     <g id=\"line2d_4\">\n      <g>\n       <use style=\"stroke:#000000;stroke-width:0.8;\" x=\"133.84375\" xlink:href=\"#md942698286\" y=\"125.373913\"/>\n      </g>\n     </g>\n     <g id=\"text_2\">\n      <!-- 0.98 -->\n      <defs>\n       <path d=\"M 31.78125 34.625 \nQ 24.75 34.625 20.71875 30.859375 \nQ 16.703125 27.09375 16.703125 20.515625 \nQ 16.703125 13.921875 20.71875 10.15625 \nQ 24.75 6.390625 31.78125 6.390625 \nQ 38.8125 6.390625 42.859375 10.171875 \nQ 46.921875 13.96875 46.921875 20.515625 \nQ 46.921875 27.09375 42.890625 30.859375 \nQ 38.875 34.625 31.78125 34.625 \nz\nM 21.921875 38.8125 \nQ 15.578125 40.375 12.03125 44.71875 \nQ 8.5 49.078125 8.5 55.328125 \nQ 8.5 64.0625 14.71875 69.140625 \nQ 20.953125 74.21875 31.78125 74.21875 \nQ 42.671875 74.21875 48.875 69.140625 \nQ 55.078125 64.0625 55.078125 55.328125 \nQ 55.078125 49.078125 51.53125 44.71875 \nQ 48 40.375 41.703125 38.8125 \nQ 48.828125 37.15625 52.796875 32.3125 \nQ 56.78125 27.484375 56.78125 20.515625 \nQ 56.78125 9.90625 50.3125 4.234375 \nQ 43.84375 -1.421875 31.78125 -1.421875 \nQ 19.734375 -1.421875 13.25 4.234375 \nQ 6.78125 9.90625 6.78125 20.515625 \nQ 6.78125 27.484375 10.78125 32.3125 \nQ 14.796875 37.15625 21.921875 38.8125 \nz\nM 18.3125 54.390625 \nQ 18.3125 48.734375 21.84375 45.5625 \nQ 25.390625 42.390625 31.78125 42.390625 \nQ 38.140625 42.390625 41.71875 45.5625 \nQ 45.3125 48.734375 45.3125 54.390625 \nQ 45.3125 60.0625 41.71875 63.234375 \nQ 38.140625 66.40625 31.78125 66.40625 \nQ 25.390625 66.40625 21.84375 63.234375 \nQ 18.3125 60.0625 18.3125 54.390625 \nz\n\" id=\"DejaVuSans-56\"/>\n      </defs>\n      <g transform=\"translate(122.710938 139.972351)scale(0.1 -0.1)\">\n       <use xlink:href=\"#DejaVuSans-48\"/>\n       <use x=\"63.623047\" xlink:href=\"#DejaVuSans-46\"/>\n       <use x=\"95.410156\" xlink:href=\"#DejaVuSans-57\"/>\n       <use x=\"159.033203\" xlink:href=\"#DejaVuSans-56\"/>\n      </g>\n     </g>\n    </g>\n    <g id=\"xtick_3\">\n     <g id=\"line2d_5\">\n      <path clip-path=\"url(#p160bc3c38c)\" d=\"M 189.64375 125.373913 \nL 189.64375 7.2 \n\" style=\"fill:none;stroke:#b0b0b0;stroke-linecap:square;stroke-width:0.8;\"/>\n     </g>\n     <g id=\"line2d_6\">\n      <g>\n       <use style=\"stroke:#000000;stroke-width:0.8;\" x=\"189.64375\" xlink:href=\"#md942698286\" y=\"125.373913\"/>\n      </g>\n     </g>\n     <g id=\"text_3\">\n      <!-- 1.00 -->\n      <defs>\n       <path d=\"M 12.40625 8.296875 \nL 28.515625 8.296875 \nL 28.515625 63.921875 \nL 10.984375 60.40625 \nL 10.984375 69.390625 \nL 28.421875 72.90625 \nL 38.28125 72.90625 \nL 38.28125 8.296875 \nL 54.390625 8.296875 \nL 54.390625 0 \nL 12.40625 0 \nz\n\" id=\"DejaVuSans-49\"/>\n      </defs>\n      <g transform=\"translate(178.510938 139.972351)scale(0.1 -0.1)\">\n       <use xlink:href=\"#DejaVuSans-49\"/>\n       <use x=\"63.623047\" xlink:href=\"#DejaVuSans-46\"/>\n       <use x=\"95.410156\" xlink:href=\"#DejaVuSans-48\"/>\n       <use x=\"159.033203\" xlink:href=\"#DejaVuSans-48\"/>\n      </g>\n     </g>\n    </g>\n    <g id=\"xtick_4\">\n     <g id=\"line2d_7\">\n      <path clip-path=\"url(#p160bc3c38c)\" d=\"M 245.44375 125.373913 \nL 245.44375 7.2 \n\" style=\"fill:none;stroke:#b0b0b0;stroke-linecap:square;stroke-width:0.8;\"/>\n     </g>\n     <g id=\"line2d_8\">\n      <g>\n       <use style=\"stroke:#000000;stroke-width:0.8;\" x=\"245.44375\" xlink:href=\"#md942698286\" y=\"125.373913\"/>\n      </g>\n     </g>\n     <g id=\"text_4\">\n      <!-- 1.02 -->\n      <defs>\n       <path d=\"M 19.1875 8.296875 \nL 53.609375 8.296875 \nL 53.609375 0 \nL 7.328125 0 \nL 7.328125 8.296875 \nQ 12.9375 14.109375 22.625 23.890625 \nQ 32.328125 33.6875 34.8125 36.53125 \nQ 39.546875 41.84375 41.421875 45.53125 \nQ 43.3125 49.21875 43.3125 52.78125 \nQ 43.3125 58.59375 39.234375 62.25 \nQ 35.15625 65.921875 28.609375 65.921875 \nQ 23.96875 65.921875 18.8125 64.3125 \nQ 13.671875 62.703125 7.8125 59.421875 \nL 7.8125 69.390625 \nQ 13.765625 71.78125 18.9375 73 \nQ 24.125 74.21875 28.421875 74.21875 \nQ 39.75 74.21875 46.484375 68.546875 \nQ 53.21875 62.890625 53.21875 53.421875 \nQ 53.21875 48.921875 51.53125 44.890625 \nQ 49.859375 40.875 45.40625 35.40625 \nQ 44.1875 33.984375 37.640625 27.21875 \nQ 31.109375 20.453125 19.1875 8.296875 \nz\n\" id=\"DejaVuSans-50\"/>\n      </defs>\n      <g transform=\"translate(234.310938 139.972351)scale(0.1 -0.1)\">\n       <use xlink:href=\"#DejaVuSans-49\"/>\n       <use x=\"63.623047\" xlink:href=\"#DejaVuSans-46\"/>\n       <use x=\"95.410156\" xlink:href=\"#DejaVuSans-48\"/>\n       <use x=\"159.033203\" xlink:href=\"#DejaVuSans-50\"/>\n      </g>\n     </g>\n    </g>\n    <g id=\"xtick_5\">\n     <g id=\"line2d_9\">\n      <path clip-path=\"url(#p160bc3c38c)\" d=\"M 301.24375 125.373913 \nL 301.24375 7.2 \n\" style=\"fill:none;stroke:#b0b0b0;stroke-linecap:square;stroke-width:0.8;\"/>\n     </g>\n     <g id=\"line2d_10\">\n      <g>\n       <use style=\"stroke:#000000;stroke-width:0.8;\" x=\"301.24375\" xlink:href=\"#md942698286\" y=\"125.373913\"/>\n      </g>\n     </g>\n     <g id=\"text_5\">\n      <!-- 1.04 -->\n      <defs>\n       <path d=\"M 37.796875 64.3125 \nL 12.890625 25.390625 \nL 37.796875 25.390625 \nz\nM 35.203125 72.90625 \nL 47.609375 72.90625 \nL 47.609375 25.390625 \nL 58.015625 25.390625 \nL 58.015625 17.1875 \nL 47.609375 17.1875 \nL 47.609375 0 \nL 37.796875 0 \nL 37.796875 17.1875 \nL 4.890625 17.1875 \nL 4.890625 26.703125 \nz\n\" id=\"DejaVuSans-52\"/>\n      </defs>\n      <g transform=\"translate(290.110938 139.972351)scale(0.1 -0.1)\">\n       <use xlink:href=\"#DejaVuSans-49\"/>\n       <use x=\"63.623047\" xlink:href=\"#DejaVuSans-46\"/>\n       <use x=\"95.410156\" xlink:href=\"#DejaVuSans-48\"/>\n       <use x=\"159.033203\" xlink:href=\"#DejaVuSans-52\"/>\n      </g>\n     </g>\n    </g>\n    <g id=\"text_6\">\n     <!-- epoch -->\n     <defs>\n      <path d=\"M 56.203125 29.59375 \nL 56.203125 25.203125 \nL 14.890625 25.203125 \nQ 15.484375 15.921875 20.484375 11.0625 \nQ 25.484375 6.203125 34.421875 6.203125 \nQ 39.59375 6.203125 44.453125 7.46875 \nQ 49.3125 8.734375 54.109375 11.28125 \nL 54.109375 2.78125 \nQ 49.265625 0.734375 44.1875 -0.34375 \nQ 39.109375 -1.421875 33.890625 -1.421875 \nQ 20.796875 -1.421875 13.15625 6.1875 \nQ 5.515625 13.8125 5.515625 26.8125 \nQ 5.515625 40.234375 12.765625 48.109375 \nQ 20.015625 56 32.328125 56 \nQ 43.359375 56 49.78125 48.890625 \nQ 56.203125 41.796875 56.203125 29.59375 \nz\nM 47.21875 32.234375 \nQ 47.125 39.59375 43.09375 43.984375 \nQ 39.0625 48.390625 32.421875 48.390625 \nQ 24.90625 48.390625 20.390625 44.140625 \nQ 15.875 39.890625 15.1875 32.171875 \nz\n\" id=\"DejaVuSans-101\"/>\n      <path d=\"M 18.109375 8.203125 \nL 18.109375 -20.796875 \nL 9.078125 -20.796875 \nL 9.078125 54.6875 \nL 18.109375 54.6875 \nL 18.109375 46.390625 \nQ 20.953125 51.265625 25.265625 53.625 \nQ 29.59375 56 35.59375 56 \nQ 45.5625 56 51.78125 48.09375 \nQ 58.015625 40.1875 58.015625 27.296875 \nQ 58.015625 14.40625 51.78125 6.484375 \nQ 45.5625 -1.421875 35.59375 -1.421875 \nQ 29.59375 -1.421875 25.265625 0.953125 \nQ 20.953125 3.328125 18.109375 8.203125 \nz\nM 48.6875 27.296875 \nQ 48.6875 37.203125 44.609375 42.84375 \nQ 40.53125 48.484375 33.40625 48.484375 \nQ 26.265625 48.484375 22.1875 42.84375 \nQ 18.109375 37.203125 18.109375 27.296875 \nQ 18.109375 17.390625 22.1875 11.75 \nQ 26.265625 6.109375 33.40625 6.109375 \nQ 40.53125 6.109375 44.609375 11.75 \nQ 48.6875 17.390625 48.6875 27.296875 \nz\n\" id=\"DejaVuSans-112\"/>\n      <path d=\"M 30.609375 48.390625 \nQ 23.390625 48.390625 19.1875 42.75 \nQ 14.984375 37.109375 14.984375 27.296875 \nQ 14.984375 17.484375 19.15625 11.84375 \nQ 23.34375 6.203125 30.609375 6.203125 \nQ 37.796875 6.203125 41.984375 11.859375 \nQ 46.1875 17.53125 46.1875 27.296875 \nQ 46.1875 37.015625 41.984375 42.703125 \nQ 37.796875 48.390625 30.609375 48.390625 \nz\nM 30.609375 56 \nQ 42.328125 56 49.015625 48.375 \nQ 55.71875 40.765625 55.71875 27.296875 \nQ 55.71875 13.875 49.015625 6.21875 \nQ 42.328125 -1.421875 30.609375 -1.421875 \nQ 18.84375 -1.421875 12.171875 6.21875 \nQ 5.515625 13.875 5.515625 27.296875 \nQ 5.515625 40.765625 12.171875 48.375 \nQ 18.84375 56 30.609375 56 \nz\n\" id=\"DejaVuSans-111\"/>\n      <path d=\"M 48.78125 52.59375 \nL 48.78125 44.1875 \nQ 44.96875 46.296875 41.140625 47.34375 \nQ 37.3125 48.390625 33.40625 48.390625 \nQ 24.65625 48.390625 19.8125 42.84375 \nQ 14.984375 37.3125 14.984375 27.296875 \nQ 14.984375 17.28125 19.8125 11.734375 \nQ 24.65625 6.203125 33.40625 6.203125 \nQ 37.3125 6.203125 41.140625 7.25 \nQ 44.96875 8.296875 48.78125 10.40625 \nL 48.78125 2.09375 \nQ 45.015625 0.34375 40.984375 -0.53125 \nQ 36.96875 -1.421875 32.421875 -1.421875 \nQ 20.0625 -1.421875 12.78125 6.34375 \nQ 5.515625 14.109375 5.515625 27.296875 \nQ 5.515625 40.671875 12.859375 48.328125 \nQ 20.21875 56 33.015625 56 \nQ 37.15625 56 41.109375 55.140625 \nQ 45.0625 54.296875 48.78125 52.59375 \nz\n\" id=\"DejaVuSans-99\"/>\n      <path d=\"M 54.890625 33.015625 \nL 54.890625 0 \nL 45.90625 0 \nL 45.90625 32.71875 \nQ 45.90625 40.484375 42.875 44.328125 \nQ 39.84375 48.1875 33.796875 48.1875 \nQ 26.515625 48.1875 22.3125 43.546875 \nQ 18.109375 38.921875 18.109375 30.90625 \nL 18.109375 0 \nL 9.078125 0 \nL 9.078125 75.984375 \nL 18.109375 75.984375 \nL 18.109375 46.1875 \nQ 21.34375 51.125 25.703125 53.5625 \nQ 30.078125 56 35.796875 56 \nQ 45.21875 56 50.046875 50.171875 \nQ 54.890625 44.34375 54.890625 33.015625 \nz\n\" id=\"DejaVuSans-104\"/>\n     </defs>\n     <g transform=\"translate(174.415625 153.650476)scale(0.1 -0.1)\">\n      <use xlink:href=\"#DejaVuSans-101\"/>\n      <use x=\"61.523438\" xlink:href=\"#DejaVuSans-112\"/>\n      <use x=\"125\" xlink:href=\"#DejaVuSans-111\"/>\n      <use x=\"186.181641\" xlink:href=\"#DejaVuSans-99\"/>\n      <use x=\"241.162109\" xlink:href=\"#DejaVuSans-104\"/>\n     </g>\n    </g>\n   </g>\n   <g id=\"matplotlib.axis_2\">\n    <g id=\"ytick_1\">\n     <g id=\"line2d_11\">\n      <path clip-path=\"url(#p160bc3c38c)\" d=\"M 50.14375 123.334652 \nL 329.14375 123.334652 \n\" style=\"fill:none;stroke:#b0b0b0;stroke-linecap:square;stroke-width:0.8;\"/>\n     </g>\n     <g id=\"line2d_12\">\n      <defs>\n       <path d=\"M 0 0 \nL -3.5 0 \n\" id=\"m79f1a4a163\" style=\"stroke:#000000;stroke-width:0.8;\"/>\n      </defs>\n      <g>\n       <use style=\"stroke:#000000;stroke-width:0.8;\" x=\"50.14375\" xlink:href=\"#m79f1a4a163\" y=\"123.334652\"/>\n      </g>\n     </g>\n     <g id=\"text_7\">\n      <!-- 0.00 -->\n      <g transform=\"translate(20.878125 127.13387)scale(0.1 -0.1)\">\n       <use xlink:href=\"#DejaVuSans-48\"/>\n       <use x=\"63.623047\" xlink:href=\"#DejaVuSans-46\"/>\n       <use x=\"95.410156\" xlink:href=\"#DejaVuSans-48\"/>\n       <use x=\"159.033203\" xlink:href=\"#DejaVuSans-48\"/>\n      </g>\n     </g>\n    </g>\n    <g id=\"ytick_2\">\n     <g id=\"line2d_13\">\n      <path clip-path=\"url(#p160bc3c38c)\" d=\"M 50.14375 77.193931 \nL 329.14375 77.193931 \n\" style=\"fill:none;stroke:#b0b0b0;stroke-linecap:square;stroke-width:0.8;\"/>\n     </g>\n     <g id=\"line2d_14\">\n      <g>\n       <use style=\"stroke:#000000;stroke-width:0.8;\" x=\"50.14375\" xlink:href=\"#m79f1a4a163\" y=\"77.193931\"/>\n      </g>\n     </g>\n     <g id=\"text_8\">\n      <!-- 0.01 -->\n      <g transform=\"translate(20.878125 80.993149)scale(0.1 -0.1)\">\n       <use xlink:href=\"#DejaVuSans-48\"/>\n       <use x=\"63.623047\" xlink:href=\"#DejaVuSans-46\"/>\n       <use x=\"95.410156\" xlink:href=\"#DejaVuSans-48\"/>\n       <use x=\"159.033203\" xlink:href=\"#DejaVuSans-49\"/>\n      </g>\n     </g>\n    </g>\n    <g id=\"ytick_3\">\n     <g id=\"line2d_15\">\n      <path clip-path=\"url(#p160bc3c38c)\" d=\"M 50.14375 31.05321 \nL 329.14375 31.05321 \n\" style=\"fill:none;stroke:#b0b0b0;stroke-linecap:square;stroke-width:0.8;\"/>\n     </g>\n     <g id=\"line2d_16\">\n      <g>\n       <use style=\"stroke:#000000;stroke-width:0.8;\" x=\"50.14375\" xlink:href=\"#m79f1a4a163\" y=\"31.05321\"/>\n      </g>\n     </g>\n     <g id=\"text_9\">\n      <!-- 0.02 -->\n      <g transform=\"translate(20.878125 34.852428)scale(0.1 -0.1)\">\n       <use xlink:href=\"#DejaVuSans-48\"/>\n       <use x=\"63.623047\" xlink:href=\"#DejaVuSans-46\"/>\n       <use x=\"95.410156\" xlink:href=\"#DejaVuSans-48\"/>\n       <use x=\"159.033203\" xlink:href=\"#DejaVuSans-50\"/>\n      </g>\n     </g>\n    </g>\n    <g id=\"text_10\">\n     <!-- loss -->\n     <defs>\n      <path d=\"M 9.421875 75.984375 \nL 18.40625 75.984375 \nL 18.40625 0 \nL 9.421875 0 \nz\n\" id=\"DejaVuSans-108\"/>\n      <path d=\"M 44.28125 53.078125 \nL 44.28125 44.578125 \nQ 40.484375 46.53125 36.375 47.5 \nQ 32.28125 48.484375 27.875 48.484375 \nQ 21.1875 48.484375 17.84375 46.4375 \nQ 14.5 44.390625 14.5 40.28125 \nQ 14.5 37.15625 16.890625 35.375 \nQ 19.28125 33.59375 26.515625 31.984375 \nL 29.59375 31.296875 \nQ 39.15625 29.25 43.1875 25.515625 \nQ 47.21875 21.78125 47.21875 15.09375 \nQ 47.21875 7.46875 41.1875 3.015625 \nQ 35.15625 -1.421875 24.609375 -1.421875 \nQ 20.21875 -1.421875 15.453125 -0.5625 \nQ 10.6875 0.296875 5.421875 2 \nL 5.421875 11.28125 \nQ 10.40625 8.6875 15.234375 7.390625 \nQ 20.0625 6.109375 24.8125 6.109375 \nQ 31.15625 6.109375 34.5625 8.28125 \nQ 37.984375 10.453125 37.984375 14.40625 \nQ 37.984375 18.0625 35.515625 20.015625 \nQ 33.0625 21.96875 24.703125 23.78125 \nL 21.578125 24.515625 \nQ 13.234375 26.265625 9.515625 29.90625 \nQ 5.8125 33.546875 5.8125 39.890625 \nQ 5.8125 47.609375 11.28125 51.796875 \nQ 16.75 56 26.8125 56 \nQ 31.78125 56 36.171875 55.265625 \nQ 40.578125 54.546875 44.28125 53.078125 \nz\n\" id=\"DejaVuSans-115\"/>\n     </defs>\n     <g transform=\"translate(14.798438 75.944769)rotate(-90)scale(0.1 -0.1)\">\n      <use xlink:href=\"#DejaVuSans-108\"/>\n      <use x=\"27.783203\" xlink:href=\"#DejaVuSans-111\"/>\n      <use x=\"88.964844\" xlink:href=\"#DejaVuSans-115\"/>\n      <use x=\"141.064453\" xlink:href=\"#DejaVuSans-115\"/>\n     </g>\n    </g>\n   </g>\n   <g id=\"line2d_17\">\n    <path clip-path=\"url(#p160bc3c38c)\" d=\"M 189.64375 120.002372 \n\" style=\"fill:none;stroke:#1f77b4;stroke-linecap:square;stroke-width:1.5;\"/>\n   </g>\n   <g id=\"line2d_18\">\n    <path clip-path=\"url(#p160bc3c38c)\" d=\"M 189.64375 12.571542 \n\" style=\"fill:none;stroke:#bf00bf;stroke-dasharray:5.55,2.4;stroke-dashoffset:0;stroke-width:1.5;\"/>\n   </g>\n   <g id=\"patch_3\">\n    <path d=\"M 50.14375 125.373913 \nL 50.14375 7.2 \n\" style=\"fill:none;stroke:#000000;stroke-linecap:square;stroke-linejoin:miter;stroke-width:0.8;\"/>\n   </g>\n   <g id=\"patch_4\">\n    <path d=\"M 329.14375 125.373913 \nL 329.14375 7.2 \n\" style=\"fill:none;stroke:#000000;stroke-linecap:square;stroke-linejoin:miter;stroke-width:0.8;\"/>\n   </g>\n   <g id=\"patch_5\">\n    <path d=\"M 50.14375 125.373913 \nL 329.14375 125.373913 \n\" style=\"fill:none;stroke:#000000;stroke-linecap:square;stroke-linejoin:miter;stroke-width:0.8;\"/>\n   </g>\n   <g id=\"patch_6\">\n    <path d=\"M 50.14375 7.2 \nL 329.14375 7.2 \n\" style=\"fill:none;stroke:#000000;stroke-linecap:square;stroke-linejoin:miter;stroke-width:0.8;\"/>\n   </g>\n   <g id=\"legend_1\">\n    <g id=\"patch_7\">\n     <path d=\"M 224.285937 44.55625 \nL 322.14375 44.55625 \nQ 324.14375 44.55625 324.14375 42.55625 \nL 324.14375 14.2 \nQ 324.14375 12.2 322.14375 12.2 \nL 224.285937 12.2 \nQ 222.285937 12.2 222.285937 14.2 \nL 222.285937 42.55625 \nQ 222.285937 44.55625 224.285937 44.55625 \nz\n\" style=\"fill:#ffffff;opacity:0.8;stroke:#cccccc;stroke-linejoin:miter;\"/>\n    </g>\n    <g id=\"line2d_19\">\n     <path d=\"M 226.285937 20.298437 \nL 246.285937 20.298437 \n\" style=\"fill:none;stroke:#1f77b4;stroke-linecap:square;stroke-width:1.5;\"/>\n    </g>\n    <g id=\"line2d_20\"/>\n    <g id=\"text_11\">\n     <!-- discriminator -->\n     <defs>\n      <path d=\"M 45.40625 46.390625 \nL 45.40625 75.984375 \nL 54.390625 75.984375 \nL 54.390625 0 \nL 45.40625 0 \nL 45.40625 8.203125 \nQ 42.578125 3.328125 38.25 0.953125 \nQ 33.9375 -1.421875 27.875 -1.421875 \nQ 17.96875 -1.421875 11.734375 6.484375 \nQ 5.515625 14.40625 5.515625 27.296875 \nQ 5.515625 40.1875 11.734375 48.09375 \nQ 17.96875 56 27.875 56 \nQ 33.9375 56 38.25 53.625 \nQ 42.578125 51.265625 45.40625 46.390625 \nz\nM 14.796875 27.296875 \nQ 14.796875 17.390625 18.875 11.75 \nQ 22.953125 6.109375 30.078125 6.109375 \nQ 37.203125 6.109375 41.296875 11.75 \nQ 45.40625 17.390625 45.40625 27.296875 \nQ 45.40625 37.203125 41.296875 42.84375 \nQ 37.203125 48.484375 30.078125 48.484375 \nQ 22.953125 48.484375 18.875 42.84375 \nQ 14.796875 37.203125 14.796875 27.296875 \nz\n\" id=\"DejaVuSans-100\"/>\n      <path d=\"M 9.421875 54.6875 \nL 18.40625 54.6875 \nL 18.40625 0 \nL 9.421875 0 \nz\nM 9.421875 75.984375 \nL 18.40625 75.984375 \nL 18.40625 64.59375 \nL 9.421875 64.59375 \nz\n\" id=\"DejaVuSans-105\"/>\n      <path d=\"M 41.109375 46.296875 \nQ 39.59375 47.171875 37.8125 47.578125 \nQ 36.03125 48 33.890625 48 \nQ 26.265625 48 22.1875 43.046875 \nQ 18.109375 38.09375 18.109375 28.8125 \nL 18.109375 0 \nL 9.078125 0 \nL 9.078125 54.6875 \nL 18.109375 54.6875 \nL 18.109375 46.1875 \nQ 20.953125 51.171875 25.484375 53.578125 \nQ 30.03125 56 36.53125 56 \nQ 37.453125 56 38.578125 55.875 \nQ 39.703125 55.765625 41.0625 55.515625 \nz\n\" id=\"DejaVuSans-114\"/>\n      <path d=\"M 52 44.1875 \nQ 55.375 50.25 60.0625 53.125 \nQ 64.75 56 71.09375 56 \nQ 79.640625 56 84.28125 50.015625 \nQ 88.921875 44.046875 88.921875 33.015625 \nL 88.921875 0 \nL 79.890625 0 \nL 79.890625 32.71875 \nQ 79.890625 40.578125 77.09375 44.375 \nQ 74.3125 48.1875 68.609375 48.1875 \nQ 61.625 48.1875 57.5625 43.546875 \nQ 53.515625 38.921875 53.515625 30.90625 \nL 53.515625 0 \nL 44.484375 0 \nL 44.484375 32.71875 \nQ 44.484375 40.625 41.703125 44.40625 \nQ 38.921875 48.1875 33.109375 48.1875 \nQ 26.21875 48.1875 22.15625 43.53125 \nQ 18.109375 38.875 18.109375 30.90625 \nL 18.109375 0 \nL 9.078125 0 \nL 9.078125 54.6875 \nL 18.109375 54.6875 \nL 18.109375 46.1875 \nQ 21.1875 51.21875 25.484375 53.609375 \nQ 29.78125 56 35.6875 56 \nQ 41.65625 56 45.828125 52.96875 \nQ 50 49.953125 52 44.1875 \nz\n\" id=\"DejaVuSans-109\"/>\n      <path d=\"M 54.890625 33.015625 \nL 54.890625 0 \nL 45.90625 0 \nL 45.90625 32.71875 \nQ 45.90625 40.484375 42.875 44.328125 \nQ 39.84375 48.1875 33.796875 48.1875 \nQ 26.515625 48.1875 22.3125 43.546875 \nQ 18.109375 38.921875 18.109375 30.90625 \nL 18.109375 0 \nL 9.078125 0 \nL 9.078125 54.6875 \nL 18.109375 54.6875 \nL 18.109375 46.1875 \nQ 21.34375 51.125 25.703125 53.5625 \nQ 30.078125 56 35.796875 56 \nQ 45.21875 56 50.046875 50.171875 \nQ 54.890625 44.34375 54.890625 33.015625 \nz\n\" id=\"DejaVuSans-110\"/>\n      <path d=\"M 34.28125 27.484375 \nQ 23.390625 27.484375 19.1875 25 \nQ 14.984375 22.515625 14.984375 16.5 \nQ 14.984375 11.71875 18.140625 8.90625 \nQ 21.296875 6.109375 26.703125 6.109375 \nQ 34.1875 6.109375 38.703125 11.40625 \nQ 43.21875 16.703125 43.21875 25.484375 \nL 43.21875 27.484375 \nz\nM 52.203125 31.203125 \nL 52.203125 0 \nL 43.21875 0 \nL 43.21875 8.296875 \nQ 40.140625 3.328125 35.546875 0.953125 \nQ 30.953125 -1.421875 24.3125 -1.421875 \nQ 15.921875 -1.421875 10.953125 3.296875 \nQ 6 8.015625 6 15.921875 \nQ 6 25.140625 12.171875 29.828125 \nQ 18.359375 34.515625 30.609375 34.515625 \nL 43.21875 34.515625 \nL 43.21875 35.40625 \nQ 43.21875 41.609375 39.140625 45 \nQ 35.0625 48.390625 27.6875 48.390625 \nQ 23 48.390625 18.546875 47.265625 \nQ 14.109375 46.140625 10.015625 43.890625 \nL 10.015625 52.203125 \nQ 14.9375 54.109375 19.578125 55.046875 \nQ 24.21875 56 28.609375 56 \nQ 40.484375 56 46.34375 49.84375 \nQ 52.203125 43.703125 52.203125 31.203125 \nz\n\" id=\"DejaVuSans-97\"/>\n      <path d=\"M 18.3125 70.21875 \nL 18.3125 54.6875 \nL 36.8125 54.6875 \nL 36.8125 47.703125 \nL 18.3125 47.703125 \nL 18.3125 18.015625 \nQ 18.3125 11.328125 20.140625 9.421875 \nQ 21.96875 7.515625 27.59375 7.515625 \nL 36.8125 7.515625 \nL 36.8125 0 \nL 27.59375 0 \nQ 17.1875 0 13.234375 3.875 \nQ 9.28125 7.765625 9.28125 18.015625 \nL 9.28125 47.703125 \nL 2.6875 47.703125 \nL 2.6875 54.6875 \nL 9.28125 54.6875 \nL 9.28125 70.21875 \nz\n\" id=\"DejaVuSans-116\"/>\n     </defs>\n     <g transform=\"translate(254.285937 23.798437)scale(0.1 -0.1)\">\n      <use xlink:href=\"#DejaVuSans-100\"/>\n      <use x=\"63.476562\" xlink:href=\"#DejaVuSans-105\"/>\n      <use x=\"91.259766\" xlink:href=\"#DejaVuSans-115\"/>\n      <use x=\"143.359375\" xlink:href=\"#DejaVuSans-99\"/>\n      <use x=\"198.339844\" xlink:href=\"#DejaVuSans-114\"/>\n      <use x=\"239.453125\" xlink:href=\"#DejaVuSans-105\"/>\n      <use x=\"267.236328\" xlink:href=\"#DejaVuSans-109\"/>\n      <use x=\"364.648438\" xlink:href=\"#DejaVuSans-105\"/>\n      <use x=\"392.431641\" xlink:href=\"#DejaVuSans-110\"/>\n      <use x=\"455.810547\" xlink:href=\"#DejaVuSans-97\"/>\n      <use x=\"517.089844\" xlink:href=\"#DejaVuSans-116\"/>\n      <use x=\"556.298828\" xlink:href=\"#DejaVuSans-111\"/>\n      <use x=\"617.480469\" xlink:href=\"#DejaVuSans-114\"/>\n     </g>\n    </g>\n    <g id=\"line2d_21\">\n     <path d=\"M 226.285937 34.976562 \nL 246.285937 34.976562 \n\" style=\"fill:none;stroke:#bf00bf;stroke-dasharray:5.55,2.4;stroke-dashoffset:0;stroke-width:1.5;\"/>\n    </g>\n    <g id=\"line2d_22\"/>\n    <g id=\"text_12\">\n     <!-- generator -->\n     <defs>\n      <path d=\"M 45.40625 27.984375 \nQ 45.40625 37.75 41.375 43.109375 \nQ 37.359375 48.484375 30.078125 48.484375 \nQ 22.859375 48.484375 18.828125 43.109375 \nQ 14.796875 37.75 14.796875 27.984375 \nQ 14.796875 18.265625 18.828125 12.890625 \nQ 22.859375 7.515625 30.078125 7.515625 \nQ 37.359375 7.515625 41.375 12.890625 \nQ 45.40625 18.265625 45.40625 27.984375 \nz\nM 54.390625 6.78125 \nQ 54.390625 -7.171875 48.1875 -13.984375 \nQ 42 -20.796875 29.203125 -20.796875 \nQ 24.46875 -20.796875 20.265625 -20.09375 \nQ 16.0625 -19.390625 12.109375 -17.921875 \nL 12.109375 -9.1875 \nQ 16.0625 -11.328125 19.921875 -12.34375 \nQ 23.78125 -13.375 27.78125 -13.375 \nQ 36.625 -13.375 41.015625 -8.765625 \nQ 45.40625 -4.15625 45.40625 5.171875 \nL 45.40625 9.625 \nQ 42.625 4.78125 38.28125 2.390625 \nQ 33.9375 0 27.875 0 \nQ 17.828125 0 11.671875 7.65625 \nQ 5.515625 15.328125 5.515625 27.984375 \nQ 5.515625 40.671875 11.671875 48.328125 \nQ 17.828125 56 27.875 56 \nQ 33.9375 56 38.28125 53.609375 \nQ 42.625 51.21875 45.40625 46.390625 \nL 45.40625 54.6875 \nL 54.390625 54.6875 \nz\n\" id=\"DejaVuSans-103\"/>\n     </defs>\n     <g transform=\"translate(254.285937 38.476562)scale(0.1 -0.1)\">\n      <use xlink:href=\"#DejaVuSans-103\"/>\n      <use x=\"63.476562\" xlink:href=\"#DejaVuSans-101\"/>\n      <use x=\"125\" xlink:href=\"#DejaVuSans-110\"/>\n      <use x=\"188.378906\" xlink:href=\"#DejaVuSans-101\"/>\n      <use x=\"249.902344\" xlink:href=\"#DejaVuSans-114\"/>\n      <use x=\"291.015625\" xlink:href=\"#DejaVuSans-97\"/>\n      <use x=\"352.294922\" xlink:href=\"#DejaVuSans-116\"/>\n      <use x=\"391.503906\" xlink:href=\"#DejaVuSans-111\"/>\n      <use x=\"452.685547\" xlink:href=\"#DejaVuSans-114\"/>\n     </g>\n    </g>\n   </g>\n  </g>\n  <g id=\"axes_2\">\n   <g id=\"patch_8\">\n    <path d=\"M 51.774185 279 \nL 327.513315 279 \nL 327.513315 160.826087 \nL 51.774185 160.826087 \nz\n\" style=\"fill:#ffffff;\"/>\n   </g>\n   <g clip-path=\"url(#p5e547c916a)\">\n    <image height=\"119\" id=\"image4348725d2b\" transform=\"scale(1 -1)translate(0 -119)\" width=\"276\" x=\"51.774185\" xlink:href=\"data:image/png;base64,\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\" y=\"-160\"/>\n   </g>\n   <g id=\"matplotlib.axis_3\">\n    <g id=\"xtick_6\">\n     <g id=\"line2d_23\">\n      <g>\n       <use style=\"stroke:#000000;stroke-width:0.8;\" x=\"52.081929\" xlink:href=\"#md942698286\" y=\"279\"/>\n      </g>\n     </g>\n     <g id=\"text_13\">\n      <!-- 0 -->\n      <g transform=\"translate(48.900679 293.598437)scale(0.1 -0.1)\">\n       <use xlink:href=\"#DejaVuSans-48\"/>\n      </g>\n     </g>\n    </g>\n    <g id=\"xtick_7\">\n     <g id=\"line2d_24\">\n      <g>\n       <use style=\"stroke:#000000;stroke-width:0.8;\" x=\"82.856386\" xlink:href=\"#md942698286\" y=\"279\"/>\n      </g>\n     </g>\n     <g id=\"text_14\">\n      <!-- 50 -->\n      <defs>\n       <path d=\"M 10.796875 72.90625 \nL 49.515625 72.90625 \nL 49.515625 64.59375 \nL 19.828125 64.59375 \nL 19.828125 46.734375 \nQ 21.96875 47.46875 24.109375 47.828125 \nQ 26.265625 48.1875 28.421875 48.1875 \nQ 40.625 48.1875 47.75 41.5 \nQ 54.890625 34.8125 54.890625 23.390625 \nQ 54.890625 11.625 47.5625 5.09375 \nQ 40.234375 -1.421875 26.90625 -1.421875 \nQ 22.3125 -1.421875 17.546875 -0.640625 \nQ 12.796875 0.140625 7.71875 1.703125 \nL 7.71875 11.625 \nQ 12.109375 9.234375 16.796875 8.0625 \nQ 21.484375 6.890625 26.703125 6.890625 \nQ 35.15625 6.890625 40.078125 11.328125 \nQ 45.015625 15.765625 45.015625 23.390625 \nQ 45.015625 31 40.078125 35.4375 \nQ 35.15625 39.890625 26.703125 39.890625 \nQ 22.75 39.890625 18.8125 39.015625 \nQ 14.890625 38.140625 10.796875 36.28125 \nz\n\" id=\"DejaVuSans-53\"/>\n      </defs>\n      <g transform=\"translate(76.493886 293.598437)scale(0.1 -0.1)\">\n       <use xlink:href=\"#DejaVuSans-53\"/>\n       <use x=\"63.623047\" xlink:href=\"#DejaVuSans-48\"/>\n      </g>\n     </g>\n    </g>\n    <g id=\"xtick_8\">\n     <g id=\"line2d_25\">\n      <g>\n       <use style=\"stroke:#000000;stroke-width:0.8;\" x=\"113.630842\" xlink:href=\"#md942698286\" y=\"279\"/>\n      </g>\n     </g>\n     <g id=\"text_15\">\n      <!-- 100 -->\n      <g transform=\"translate(104.087092 293.598437)scale(0.1 -0.1)\">\n       <use xlink:href=\"#DejaVuSans-49\"/>\n       <use x=\"63.623047\" xlink:href=\"#DejaVuSans-48\"/>\n       <use x=\"127.246094\" xlink:href=\"#DejaVuSans-48\"/>\n      </g>\n     </g>\n    </g>\n    <g id=\"xtick_9\">\n     <g id=\"line2d_26\">\n      <g>\n       <use style=\"stroke:#000000;stroke-width:0.8;\" x=\"144.405299\" xlink:href=\"#md942698286\" y=\"279\"/>\n      </g>\n     </g>\n     <g id=\"text_16\">\n      <!-- 150 -->\n      <g transform=\"translate(134.861549 293.598437)scale(0.1 -0.1)\">\n       <use xlink:href=\"#DejaVuSans-49\"/>\n       <use x=\"63.623047\" xlink:href=\"#DejaVuSans-53\"/>\n       <use x=\"127.246094\" xlink:href=\"#DejaVuSans-48\"/>\n      </g>\n     </g>\n    </g>\n    <g id=\"xtick_10\">\n     <g id=\"line2d_27\">\n      <g>\n       <use style=\"stroke:#000000;stroke-width:0.8;\" x=\"175.179755\" xlink:href=\"#md942698286\" y=\"279\"/>\n      </g>\n     </g>\n     <g id=\"text_17\">\n      <!-- 200 -->\n      <g transform=\"translate(165.636005 293.598437)scale(0.1 -0.1)\">\n       <use xlink:href=\"#DejaVuSans-50\"/>\n       <use x=\"63.623047\" xlink:href=\"#DejaVuSans-48\"/>\n       <use x=\"127.246094\" xlink:href=\"#DejaVuSans-48\"/>\n      </g>\n     </g>\n    </g>\n    <g id=\"xtick_11\">\n     <g id=\"line2d_28\">\n      <g>\n       <use style=\"stroke:#000000;stroke-width:0.8;\" x=\"205.954212\" xlink:href=\"#md942698286\" y=\"279\"/>\n      </g>\n     </g>\n     <g id=\"text_18\">\n      <!-- 250 -->\n      <g transform=\"translate(196.410462 293.598437)scale(0.1 -0.1)\">\n       <use xlink:href=\"#DejaVuSans-50\"/>\n       <use x=\"63.623047\" xlink:href=\"#DejaVuSans-53\"/>\n       <use x=\"127.246094\" xlink:href=\"#DejaVuSans-48\"/>\n      </g>\n     </g>\n    </g>\n    <g id=\"xtick_12\">\n     <g id=\"line2d_29\">\n      <g>\n       <use style=\"stroke:#000000;stroke-width:0.8;\" x=\"236.728668\" xlink:href=\"#md942698286\" y=\"279\"/>\n      </g>\n     </g>\n     <g id=\"text_19\">\n      <!-- 300 -->\n      <defs>\n       <path d=\"M 40.578125 39.3125 \nQ 47.65625 37.796875 51.625 33 \nQ 55.609375 28.21875 55.609375 21.1875 \nQ 55.609375 10.40625 48.1875 4.484375 \nQ 40.765625 -1.421875 27.09375 -1.421875 \nQ 22.515625 -1.421875 17.65625 -0.515625 \nQ 12.796875 0.390625 7.625 2.203125 \nL 7.625 11.71875 \nQ 11.71875 9.328125 16.59375 8.109375 \nQ 21.484375 6.890625 26.8125 6.890625 \nQ 36.078125 6.890625 40.9375 10.546875 \nQ 45.796875 14.203125 45.796875 21.1875 \nQ 45.796875 27.640625 41.28125 31.265625 \nQ 36.765625 34.90625 28.71875 34.90625 \nL 20.21875 34.90625 \nL 20.21875 43.015625 \nL 29.109375 43.015625 \nQ 36.375 43.015625 40.234375 45.921875 \nQ 44.09375 48.828125 44.09375 54.296875 \nQ 44.09375 59.90625 40.109375 62.90625 \nQ 36.140625 65.921875 28.71875 65.921875 \nQ 24.65625 65.921875 20.015625 65.03125 \nQ 15.375 64.15625 9.8125 62.3125 \nL 9.8125 71.09375 \nQ 15.4375 72.65625 20.34375 73.4375 \nQ 25.25 74.21875 29.59375 74.21875 \nQ 40.828125 74.21875 47.359375 69.109375 \nQ 53.90625 64.015625 53.90625 55.328125 \nQ 53.90625 49.265625 50.4375 45.09375 \nQ 46.96875 40.921875 40.578125 39.3125 \nz\n\" id=\"DejaVuSans-51\"/>\n      </defs>\n      <g transform=\"translate(227.184918 293.598437)scale(0.1 -0.1)\">\n       <use xlink:href=\"#DejaVuSans-51\"/>\n       <use x=\"63.623047\" xlink:href=\"#DejaVuSans-48\"/>\n       <use x=\"127.246094\" xlink:href=\"#DejaVuSans-48\"/>\n      </g>\n     </g>\n    </g>\n    <g id=\"xtick_13\">\n     <g id=\"line2d_30\">\n      <g>\n       <use style=\"stroke:#000000;stroke-width:0.8;\" x=\"267.503125\" xlink:href=\"#md942698286\" y=\"279\"/>\n      </g>\n     </g>\n     <g id=\"text_20\">\n      <!-- 350 -->\n      <g transform=\"translate(257.959375 293.598437)scale(0.1 -0.1)\">\n       <use xlink:href=\"#DejaVuSans-51\"/>\n       <use x=\"63.623047\" xlink:href=\"#DejaVuSans-53\"/>\n       <use x=\"127.246094\" xlink:href=\"#DejaVuSans-48\"/>\n      </g>\n     </g>\n    </g>\n    <g id=\"xtick_14\">\n     <g id=\"line2d_31\">\n      <g>\n       <use style=\"stroke:#000000;stroke-width:0.8;\" x=\"298.277582\" xlink:href=\"#md942698286\" y=\"279\"/>\n      </g>\n     </g>\n     <g id=\"text_21\">\n      <!-- 400 -->\n      <g transform=\"translate(288.733832 293.598437)scale(0.1 -0.1)\">\n       <use xlink:href=\"#DejaVuSans-52\"/>\n       <use x=\"63.623047\" xlink:href=\"#DejaVuSans-48\"/>\n       <use x=\"127.246094\" xlink:href=\"#DejaVuSans-48\"/>\n      </g>\n     </g>\n    </g>\n   </g>\n   <g id=\"matplotlib.axis_4\">\n    <g id=\"ytick_4\">\n     <g id=\"line2d_32\">\n      <g>\n       <use style=\"stroke:#000000;stroke-width:0.8;\" x=\"51.774185\" xlink:href=\"#m79f1a4a163\" y=\"161.133832\"/>\n      </g>\n     </g>\n     <g id=\"text_22\">\n      <!-- 0 -->\n      <g transform=\"translate(38.411685 164.93305)scale(0.1 -0.1)\">\n       <use xlink:href=\"#DejaVuSans-48\"/>\n      </g>\n     </g>\n    </g>\n    <g id=\"ytick_5\">\n     <g id=\"line2d_33\">\n      <g>\n       <use style=\"stroke:#000000;stroke-width:0.8;\" x=\"51.774185\" xlink:href=\"#m79f1a4a163\" y=\"191.908288\"/>\n      </g>\n     </g>\n     <g id=\"text_23\">\n      <!-- 50 -->\n      <g transform=\"translate(32.049185 195.707507)scale(0.1 -0.1)\">\n       <use xlink:href=\"#DejaVuSans-53\"/>\n       <use x=\"63.623047\" xlink:href=\"#DejaVuSans-48\"/>\n      </g>\n     </g>\n    </g>\n    <g id=\"ytick_6\">\n     <g id=\"line2d_34\">\n      <g>\n       <use style=\"stroke:#000000;stroke-width:0.8;\" x=\"51.774185\" xlink:href=\"#m79f1a4a163\" y=\"222.682745\"/>\n      </g>\n     </g>\n     <g id=\"text_24\">\n      <!-- 100 -->\n      <g transform=\"translate(25.686685 226.481963)scale(0.1 -0.1)\">\n       <use xlink:href=\"#DejaVuSans-49\"/>\n       <use x=\"63.623047\" xlink:href=\"#DejaVuSans-48\"/>\n       <use x=\"127.246094\" xlink:href=\"#DejaVuSans-48\"/>\n      </g>\n     </g>\n    </g>\n    <g id=\"ytick_7\">\n     <g id=\"line2d_35\">\n      <g>\n       <use style=\"stroke:#000000;stroke-width:0.8;\" x=\"51.774185\" xlink:href=\"#m79f1a4a163\" y=\"253.457201\"/>\n      </g>\n     </g>\n     <g id=\"text_25\">\n      <!-- 150 -->\n      <g transform=\"translate(25.686685 257.25642)scale(0.1 -0.1)\">\n       <use xlink:href=\"#DejaVuSans-49\"/>\n       <use x=\"63.623047\" xlink:href=\"#DejaVuSans-53\"/>\n       <use x=\"127.246094\" xlink:href=\"#DejaVuSans-48\"/>\n      </g>\n     </g>\n    </g>\n   </g>\n   <g id=\"patch_9\">\n    <path d=\"M 51.774185 279 \nL 51.774185 160.826087 \n\" style=\"fill:none;stroke:#000000;stroke-linecap:square;stroke-linejoin:miter;stroke-width:0.8;\"/>\n   </g>\n   <g id=\"patch_10\">\n    <path d=\"M 327.513315 279 \nL 327.513315 160.826087 \n\" style=\"fill:none;stroke:#000000;stroke-linecap:square;stroke-linejoin:miter;stroke-width:0.8;\"/>\n   </g>\n   <g id=\"patch_11\">\n    <path d=\"M 51.774185 279 \nL 327.513315 279 \n\" style=\"fill:none;stroke:#000000;stroke-linecap:square;stroke-linejoin:miter;stroke-width:0.8;\"/>\n   </g>\n   <g id=\"patch_12\">\n    <path d=\"M 51.774185 160.826087 \nL 327.513315 160.826087 \n\" style=\"fill:none;stroke:#000000;stroke-linecap:square;stroke-linejoin:miter;stroke-width:0.8;\"/>\n   </g>\n  </g>\n </g>\n <defs>\n  <clipPath id=\"p160bc3c38c\">\n   <rect height=\"118.173913\" width=\"279\" x=\"50.14375\" y=\"7.2\"/>\n  </clipPath>\n  <clipPath id=\"p5e547c916a\">\n   <rect height=\"118.173913\" width=\"275.73913\" x=\"51.774185\" y=\"160.826087\"/>\n  </clipPath>\n </defs>\n</svg>\n"
          },
          "metadata": {
            "tags": [],
            "needs_background": "light"
          }
        }
      ]
    },
    {
      "cell_type": "code",
      "metadata": {
        "id": "W-S9tBiqxtEe",
        "colab_type": "code",
        "colab": {
          "base_uri": "https://localhost:8080/",
          "height": 35
        },
        "outputId": "34b0cddd-c2db-48c3-ffc6-a1d020dfbc3e"
      },
      "source": [
        "d2l.try_gpu()"
      ],
      "execution_count": 25,
      "outputs": [
        {
          "output_type": "execute_result",
          "data": {
            "text/plain": [
              "device(type='cpu')"
            ]
          },
          "metadata": {
            "tags": []
          },
          "execution_count": 25
        }
      ]
    }
  ]
}