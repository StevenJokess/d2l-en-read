{
  "nbformat": 4,
  "nbformat_minor": 0,
  "metadata": {
    "language_info": {
      "codemirror_mode": {
        "name": "ipython",
        "version": 3
      },
      "file_extension": ".py",
      "mimetype": "text/x-python",
      "name": "python",
      "nbconvert_exporter": "python",
      "pygments_lexer": "ipython3",
      "version": "3.7.8-final"
    },
    "orig_nbformat": 2,
    "kernelspec": {
      "name": "python37864bittf2conda1de394c9651a4d19aa25641a40b8d2d8",
      "display_name": "Python 3.7.8 64-bit ('tf2': conda)",
      "language": "python"
    },
    "colab": {
      "name": "gan-tf6.ipynb",
      "provenance": []
    },
    "accelerator": "GPU"
  },
  "cells": [
    {
      "cell_type": "code",
      "metadata": {
        "colab": {
          "base_uri": "https://localhost:8080/"
        },
        "id": "TJlfBa31f1kv",
        "outputId": "bc6d40a4-ae03-4227-ad7b-ed8dda4f33e0"
      },
      "source": [
        "!pip install git+https://github.com/d2l-ai/d2l-en"
      ],
      "execution_count": 1,
      "outputs": [
        {
          "output_type": "stream",
          "text": [
            "Collecting git+https://github.com/d2l-ai/d2l-en\n",
            "  Cloning https://github.com/d2l-ai/d2l-en to /tmp/pip-req-build-b08bpspk\n",
            "  Running command git clone -q https://github.com/d2l-ai/d2l-en /tmp/pip-req-build-b08bpspk\n",
            "Requirement already satisfied (use --upgrade to upgrade): d2l==0.16.2 from git+https://github.com/d2l-ai/d2l-en in /usr/local/lib/python3.7/dist-packages\n",
            "Requirement already satisfied: jupyter in /usr/local/lib/python3.7/dist-packages (from d2l==0.16.2) (1.0.0)\n",
            "Requirement already satisfied: numpy in /usr/local/lib/python3.7/dist-packages (from d2l==0.16.2) (1.19.5)\n",
            "Requirement already satisfied: matplotlib in /usr/local/lib/python3.7/dist-packages (from d2l==0.16.2) (3.2.2)\n",
            "Requirement already satisfied: requests in /usr/local/lib/python3.7/dist-packages (from d2l==0.16.2) (2.23.0)\n",
            "Requirement already satisfied: pandas in /usr/local/lib/python3.7/dist-packages (from d2l==0.16.2) (1.1.5)\n",
            "Requirement already satisfied: notebook in /usr/local/lib/python3.7/dist-packages (from jupyter->d2l==0.16.2) (5.3.1)\n",
            "Requirement already satisfied: nbconvert in /usr/local/lib/python3.7/dist-packages (from jupyter->d2l==0.16.2) (5.6.1)\n",
            "Requirement already satisfied: jupyter-console in /usr/local/lib/python3.7/dist-packages (from jupyter->d2l==0.16.2) (5.2.0)\n",
            "Requirement already satisfied: qtconsole in /usr/local/lib/python3.7/dist-packages (from jupyter->d2l==0.16.2) (5.0.3)\n",
            "Requirement already satisfied: ipykernel in /usr/local/lib/python3.7/dist-packages (from jupyter->d2l==0.16.2) (4.10.1)\n",
            "Requirement already satisfied: ipywidgets in /usr/local/lib/python3.7/dist-packages (from jupyter->d2l==0.16.2) (7.6.3)\n",
            "Requirement already satisfied: kiwisolver>=1.0.1 in /usr/local/lib/python3.7/dist-packages (from matplotlib->d2l==0.16.2) (1.3.1)\n",
            "Requirement already satisfied: python-dateutil>=2.1 in /usr/local/lib/python3.7/dist-packages (from matplotlib->d2l==0.16.2) (2.8.1)\n",
            "Requirement already satisfied: cycler>=0.10 in /usr/local/lib/python3.7/dist-packages (from matplotlib->d2l==0.16.2) (0.10.0)\n",
            "Requirement already satisfied: pyparsing!=2.0.4,!=2.1.2,!=2.1.6,>=2.0.1 in /usr/local/lib/python3.7/dist-packages (from matplotlib->d2l==0.16.2) (2.4.7)\n",
            "Requirement already satisfied: chardet<4,>=3.0.2 in /usr/local/lib/python3.7/dist-packages (from requests->d2l==0.16.2) (3.0.4)\n",
            "Requirement already satisfied: certifi>=2017.4.17 in /usr/local/lib/python3.7/dist-packages (from requests->d2l==0.16.2) (2020.12.5)\n",
            "Requirement already satisfied: urllib3!=1.25.0,!=1.25.1,<1.26,>=1.21.1 in /usr/local/lib/python3.7/dist-packages (from requests->d2l==0.16.2) (1.24.3)\n",
            "Requirement already satisfied: idna<3,>=2.5 in /usr/local/lib/python3.7/dist-packages (from requests->d2l==0.16.2) (2.10)\n",
            "Requirement already satisfied: pytz>=2017.2 in /usr/local/lib/python3.7/dist-packages (from pandas->d2l==0.16.2) (2018.9)\n",
            "Requirement already satisfied: terminado>=0.8.1 in /usr/local/lib/python3.7/dist-packages (from notebook->jupyter->d2l==0.16.2) (0.9.3)\n",
            "Requirement already satisfied: jinja2 in /usr/local/lib/python3.7/dist-packages (from notebook->jupyter->d2l==0.16.2) (2.11.3)\n",
            "Requirement already satisfied: jupyter-client>=5.2.0 in /usr/local/lib/python3.7/dist-packages (from notebook->jupyter->d2l==0.16.2) (5.3.5)\n",
            "Requirement already satisfied: traitlets>=4.2.1 in /usr/local/lib/python3.7/dist-packages (from notebook->jupyter->d2l==0.16.2) (5.0.5)\n",
            "Requirement already satisfied: tornado>=4 in /usr/local/lib/python3.7/dist-packages (from notebook->jupyter->d2l==0.16.2) (5.1.1)\n",
            "Requirement already satisfied: ipython-genutils in /usr/local/lib/python3.7/dist-packages (from notebook->jupyter->d2l==0.16.2) (0.2.0)\n",
            "Requirement already satisfied: Send2Trash in /usr/local/lib/python3.7/dist-packages (from notebook->jupyter->d2l==0.16.2) (1.5.0)\n",
            "Requirement already satisfied: nbformat in /usr/local/lib/python3.7/dist-packages (from notebook->jupyter->d2l==0.16.2) (5.1.2)\n",
            "Requirement already satisfied: jupyter-core>=4.4.0 in /usr/local/lib/python3.7/dist-packages (from notebook->jupyter->d2l==0.16.2) (4.7.1)\n",
            "Requirement already satisfied: defusedxml in /usr/local/lib/python3.7/dist-packages (from nbconvert->jupyter->d2l==0.16.2) (0.7.1)\n",
            "Requirement already satisfied: pandocfilters>=1.4.1 in /usr/local/lib/python3.7/dist-packages (from nbconvert->jupyter->d2l==0.16.2) (1.4.3)\n",
            "Requirement already satisfied: pygments in /usr/local/lib/python3.7/dist-packages (from nbconvert->jupyter->d2l==0.16.2) (2.6.1)\n",
            "Requirement already satisfied: bleach in /usr/local/lib/python3.7/dist-packages (from nbconvert->jupyter->d2l==0.16.2) (3.3.0)\n",
            "Requirement already satisfied: entrypoints>=0.2.2 in /usr/local/lib/python3.7/dist-packages (from nbconvert->jupyter->d2l==0.16.2) (0.3)\n",
            "Requirement already satisfied: mistune<2,>=0.8.1 in /usr/local/lib/python3.7/dist-packages (from nbconvert->jupyter->d2l==0.16.2) (0.8.4)\n",
            "Requirement already satisfied: testpath in /usr/local/lib/python3.7/dist-packages (from nbconvert->jupyter->d2l==0.16.2) (0.4.4)\n",
            "Requirement already satisfied: prompt-toolkit<2.0.0,>=1.0.0 in /usr/local/lib/python3.7/dist-packages (from jupyter-console->jupyter->d2l==0.16.2) (1.0.18)\n",
            "Requirement already satisfied: ipython in /usr/local/lib/python3.7/dist-packages (from jupyter-console->jupyter->d2l==0.16.2) (5.5.0)\n",
            "Requirement already satisfied: qtpy in /usr/local/lib/python3.7/dist-packages (from qtconsole->jupyter->d2l==0.16.2) (1.9.0)\n",
            "Requirement already satisfied: pyzmq>=17.1 in /usr/local/lib/python3.7/dist-packages (from qtconsole->jupyter->d2l==0.16.2) (22.0.3)\n",
            "Requirement already satisfied: widgetsnbextension~=3.5.0 in /usr/local/lib/python3.7/dist-packages (from ipywidgets->jupyter->d2l==0.16.2) (3.5.1)\n",
            "Requirement already satisfied: jupyterlab-widgets>=1.0.0; python_version >= \"3.6\" in /usr/local/lib/python3.7/dist-packages (from ipywidgets->jupyter->d2l==0.16.2) (1.0.0)\n",
            "Requirement already satisfied: six>=1.5 in /usr/local/lib/python3.7/dist-packages (from python-dateutil>=2.1->matplotlib->d2l==0.16.2) (1.15.0)\n",
            "Requirement already satisfied: ptyprocess; os_name != \"nt\" in /usr/local/lib/python3.7/dist-packages (from terminado>=0.8.1->notebook->jupyter->d2l==0.16.2) (0.7.0)\n",
            "Requirement already satisfied: MarkupSafe>=0.23 in /usr/local/lib/python3.7/dist-packages (from jinja2->notebook->jupyter->d2l==0.16.2) (1.1.1)\n",
            "Requirement already satisfied: jsonschema!=2.5.0,>=2.4 in /usr/local/lib/python3.7/dist-packages (from nbformat->notebook->jupyter->d2l==0.16.2) (2.6.0)\n",
            "Requirement already satisfied: webencodings in /usr/local/lib/python3.7/dist-packages (from bleach->nbconvert->jupyter->d2l==0.16.2) (0.5.1)\n",
            "Requirement already satisfied: packaging in /usr/local/lib/python3.7/dist-packages (from bleach->nbconvert->jupyter->d2l==0.16.2) (20.9)\n",
            "Requirement already satisfied: wcwidth in /usr/local/lib/python3.7/dist-packages (from prompt-toolkit<2.0.0,>=1.0.0->jupyter-console->jupyter->d2l==0.16.2) (0.2.5)\n",
            "Requirement already satisfied: decorator in /usr/local/lib/python3.7/dist-packages (from ipython->jupyter-console->jupyter->d2l==0.16.2) (4.4.2)\n",
            "Requirement already satisfied: setuptools>=18.5 in /usr/local/lib/python3.7/dist-packages (from ipython->jupyter-console->jupyter->d2l==0.16.2) (54.2.0)\n",
            "Requirement already satisfied: pexpect; sys_platform != \"win32\" in /usr/local/lib/python3.7/dist-packages (from ipython->jupyter-console->jupyter->d2l==0.16.2) (4.8.0)\n",
            "Requirement already satisfied: pickleshare in /usr/local/lib/python3.7/dist-packages (from ipython->jupyter-console->jupyter->d2l==0.16.2) (0.7.5)\n",
            "Requirement already satisfied: simplegeneric>0.8 in /usr/local/lib/python3.7/dist-packages (from ipython->jupyter-console->jupyter->d2l==0.16.2) (0.8.1)\n",
            "Building wheels for collected packages: d2l\n",
            "  Building wheel for d2l (setup.py) ... \u001b[?25l\u001b[?25hdone\n",
            "  Created wheel for d2l: filename=d2l-0.16.2-cp37-none-any.whl size=77221 sha256=0c2c6ba8814d1cdc96a8dc2754a21d8d568670c91f4bfd66f7245e894109040c\n",
            "  Stored in directory: /tmp/pip-ephem-wheel-cache-udu0pmc5/wheels/82/6f/b8/8422c7ed664272685e3d139b127f89df39d934704a14b2156c\n",
            "Successfully built d2l\n"
          ],
          "name": "stdout"
        }
      ]
    },
    {
      "cell_type": "code",
      "metadata": {
        "id": "mDDdiwKAfCZG"
      },
      "source": [
        "%matplotlib inline\n",
        "from d2l import tensorflow as d2l\n",
        "import tensorflow as tf"
      ],
      "execution_count": 2,
      "outputs": []
    },
    {
      "cell_type": "code",
      "metadata": {
        "colab": {
          "base_uri": "https://localhost:8080/",
          "height": 35
        },
        "id": "0h49fSNYfCZe",
        "outputId": "d05274bf-2d05-4c3a-a5ed-225bc8fe5659"
      },
      "source": [
        "tf.__version__"
      ],
      "execution_count": 3,
      "outputs": [
        {
          "output_type": "execute_result",
          "data": {
            "application/vnd.google.colaboratory.intrinsic+json": {
              "type": "string"
            },
            "text/plain": [
              "'2.4.1'"
            ]
          },
          "metadata": {
            "tags": []
          },
          "execution_count": 3
        }
      ]
    },
    {
      "cell_type": "code",
      "metadata": {
        "id": "FEFt55FrfCZh"
      },
      "source": [
        "X = d2l.normal([1000, 2], 0.0, 1, tf.float32)\n",
        "A = d2l.tensor([[1, 2], [-0.1, 0.5]], tf.float32)\n",
        "b = d2l.tensor([1, 2], tf.float32)\n",
        "data = d2l.matmul(X, A) + b"
      ],
      "execution_count": 4,
      "outputs": []
    },
    {
      "cell_type": "code",
      "metadata": {
        "colab": {
          "base_uri": "https://localhost:8080/"
        },
        "id": "QB-KbY79fCZj",
        "outputId": "de6e09d1-bf91-4197-ca44-3a8e13898230"
      },
      "source": [
        "X"
      ],
      "execution_count": 5,
      "outputs": [
        {
          "output_type": "execute_result",
          "data": {
            "text/plain": [
              "<tf.Tensor: shape=(1000, 2), dtype=float32, numpy=\n",
              "array([[ 0.03979763,  0.21658216],\n",
              "       [-0.00846096, -1.5548749 ],\n",
              "       [-0.741201  ,  0.10753934],\n",
              "       ...,\n",
              "       [-0.9093773 ,  1.1343874 ],\n",
              "       [-0.32907954, -0.6627376 ],\n",
              "       [ 1.1279589 ,  0.9322923 ]], dtype=float32)>"
            ]
          },
          "metadata": {
            "tags": []
          },
          "execution_count": 5
        }
      ]
    },
    {
      "cell_type": "code",
      "metadata": {
        "colab": {
          "base_uri": "https://localhost:8080/",
          "height": 295
        },
        "id": "-oFPrwFcfCZk",
        "outputId": "a332eba9-faef-4ce6-e90f-17b02c235460"
      },
      "source": [
        "d2l.set_figsize()\n",
        "d2l.plt.scatter(d2l.numpy(data[:100, 0]), d2l.numpy(data[:100, 1]));\n",
        "print(f'The covariance matrix is\\n{d2l.matmul(tf.transpose(A), A)}')"
      ],
      "execution_count": 6,
      "outputs": [
        {
          "output_type": "stream",
          "text": [
            "The covariance matrix is\n",
            "[[1.01 1.95]\n",
            " [1.95 4.25]]\n"
          ],
          "name": "stdout"
        },
        {
          "output_type": "display_data",
          "data": {
            "text/plain": [
              "<Figure size 252x180 with 1 Axes>"
            ],
            "image/svg+xml": "<?xml version=\"1.0\" encoding=\"utf-8\" standalone=\"no\"?>\n<!DOCTYPE svg PUBLIC \"-//W3C//DTD SVG 1.1//EN\"\n  \"http://www.w3.org/Graphics/SVG/1.1/DTD/svg11.dtd\">\n<!-- Created with matplotlib (https://matplotlib.org/) -->\n<svg height=\"166.978125pt\" version=\"1.1\" viewBox=\"0 0 240.982812 166.978125\" width=\"240.982812pt\" xmlns=\"http://www.w3.org/2000/svg\" xmlns:xlink=\"http://www.w3.org/1999/xlink\">\n <defs>\n  <style type=\"text/css\">\n*{stroke-linecap:butt;stroke-linejoin:round;}\n  </style>\n </defs>\n <g id=\"figure_1\">\n  <g id=\"patch_1\">\n   <path d=\"M -0 166.978125 \nL 240.982813 166.978125 \nL 240.982813 0 \nL -0 0 \nz\n\" style=\"fill:none;\"/>\n  </g>\n  <g id=\"axes_1\">\n   <g id=\"patch_2\">\n    <path d=\"M 38.482813 143.1 \nL 233.782813 143.1 \nL 233.782813 7.2 \nL 38.482813 7.2 \nz\n\" style=\"fill:#ffffff;\"/>\n   </g>\n   <g id=\"PathCollection_1\">\n    <defs>\n     <path d=\"M 0 3 \nC 0.795609 3 1.55874 2.683901 2.12132 2.12132 \nC 2.683901 1.55874 3 0.795609 3 0 \nC 3 -0.795609 2.683901 -1.55874 2.12132 -2.12132 \nC 1.55874 -2.683901 0.795609 -3 0 -3 \nC -0.795609 -3 -1.55874 -2.683901 -2.12132 -2.12132 \nC -2.683901 -1.55874 -3 -0.795609 -3 0 \nC -3 0.795609 -2.683901 1.55874 -2.12132 2.12132 \nC -1.55874 2.683901 -0.795609 3 0 3 \nz\n\" id=\"m2264cb1e56\" style=\"stroke:#1f77b4;\"/>\n    </defs>\n    <g clip-path=\"url(#p03dd999f3d)\">\n     <use style=\"fill:#1f77b4;stroke:#1f77b4;\" x=\"125.350724\" xlink:href=\"#m2264cb1e56\" y=\"76.4862\"/>\n     <use style=\"fill:#1f77b4;stroke:#1f77b4;\" x=\"129.516687\" xlink:href=\"#m2264cb1e56\" y=\"86.859231\"/>\n     <use style=\"fill:#1f77b4;stroke:#1f77b4;\" x=\"100.459312\" xlink:href=\"#m2264cb1e56\" y=\"93.557486\"/>\n     <use style=\"fill:#1f77b4;stroke:#1f77b4;\" x=\"119.63224\" xlink:href=\"#m2264cb1e56\" y=\"71.054112\"/>\n     <use style=\"fill:#1f77b4;stroke:#1f77b4;\" x=\"167.426073\" xlink:href=\"#m2264cb1e56\" y=\"45.592449\"/>\n     <use style=\"fill:#1f77b4;stroke:#1f77b4;\" x=\"120.156526\" xlink:href=\"#m2264cb1e56\" y=\"92.277957\"/>\n     <use style=\"fill:#1f77b4;stroke:#1f77b4;\" x=\"102.89586\" xlink:href=\"#m2264cb1e56\" y=\"99.803416\"/>\n     <use style=\"fill:#1f77b4;stroke:#1f77b4;\" x=\"123.504003\" xlink:href=\"#m2264cb1e56\" y=\"76.625959\"/>\n     <use style=\"fill:#1f77b4;stroke:#1f77b4;\" x=\"47.360085\" xlink:href=\"#m2264cb1e56\" y=\"136.922727\"/>\n     <use style=\"fill:#1f77b4;stroke:#1f77b4;\" x=\"118.085759\" xlink:href=\"#m2264cb1e56\" y=\"89.031057\"/>\n     <use style=\"fill:#1f77b4;stroke:#1f77b4;\" x=\"132.837265\" xlink:href=\"#m2264cb1e56\" y=\"78.772212\"/>\n     <use style=\"fill:#1f77b4;stroke:#1f77b4;\" x=\"126.872556\" xlink:href=\"#m2264cb1e56\" y=\"81.157448\"/>\n     <use style=\"fill:#1f77b4;stroke:#1f77b4;\" x=\"129.745529\" xlink:href=\"#m2264cb1e56\" y=\"74.274612\"/>\n     <use style=\"fill:#1f77b4;stroke:#1f77b4;\" x=\"70.076573\" xlink:href=\"#m2264cb1e56\" y=\"122.807686\"/>\n     <use style=\"fill:#1f77b4;stroke:#1f77b4;\" x=\"86.853293\" xlink:href=\"#m2264cb1e56\" y=\"103.597296\"/>\n     <use style=\"fill:#1f77b4;stroke:#1f77b4;\" x=\"93.001972\" xlink:href=\"#m2264cb1e56\" y=\"98.296733\"/>\n     <use style=\"fill:#1f77b4;stroke:#1f77b4;\" x=\"91.259542\" xlink:href=\"#m2264cb1e56\" y=\"101.442462\"/>\n     <use style=\"fill:#1f77b4;stroke:#1f77b4;\" x=\"104.356035\" xlink:href=\"#m2264cb1e56\" y=\"85.487827\"/>\n     <use style=\"fill:#1f77b4;stroke:#1f77b4;\" x=\"167.283122\" xlink:href=\"#m2264cb1e56\" y=\"56.143881\"/>\n     <use style=\"fill:#1f77b4;stroke:#1f77b4;\" x=\"72.601198\" xlink:href=\"#m2264cb1e56\" y=\"113.503079\"/>\n     <use style=\"fill:#1f77b4;stroke:#1f77b4;\" x=\"122.912756\" xlink:href=\"#m2264cb1e56\" y=\"83.818307\"/>\n     <use style=\"fill:#1f77b4;stroke:#1f77b4;\" x=\"97.997903\" xlink:href=\"#m2264cb1e56\" y=\"84.500074\"/>\n     <use style=\"fill:#1f77b4;stroke:#1f77b4;\" x=\"203.126704\" xlink:href=\"#m2264cb1e56\" y=\"23.246454\"/>\n     <use style=\"fill:#1f77b4;stroke:#1f77b4;\" x=\"135.044321\" xlink:href=\"#m2264cb1e56\" y=\"77.277696\"/>\n     <use style=\"fill:#1f77b4;stroke:#1f77b4;\" x=\"142.317185\" xlink:href=\"#m2264cb1e56\" y=\"67.9481\"/>\n     <use style=\"fill:#1f77b4;stroke:#1f77b4;\" x=\"93.367678\" xlink:href=\"#m2264cb1e56\" y=\"106.111941\"/>\n     <use style=\"fill:#1f77b4;stroke:#1f77b4;\" x=\"189.236374\" xlink:href=\"#m2264cb1e56\" y=\"35.641418\"/>\n     <use style=\"fill:#1f77b4;stroke:#1f77b4;\" x=\"153.773748\" xlink:href=\"#m2264cb1e56\" y=\"68.315423\"/>\n     <use style=\"fill:#1f77b4;stroke:#1f77b4;\" x=\"109.386731\" xlink:href=\"#m2264cb1e56\" y=\"91.499798\"/>\n     <use style=\"fill:#1f77b4;stroke:#1f77b4;\" x=\"224.90554\" xlink:href=\"#m2264cb1e56\" y=\"13.377273\"/>\n     <use style=\"fill:#1f77b4;stroke:#1f77b4;\" x=\"155.325222\" xlink:href=\"#m2264cb1e56\" y=\"65.273549\"/>\n     <use style=\"fill:#1f77b4;stroke:#1f77b4;\" x=\"188.191307\" xlink:href=\"#m2264cb1e56\" y=\"36.692615\"/>\n     <use style=\"fill:#1f77b4;stroke:#1f77b4;\" x=\"76.48963\" xlink:href=\"#m2264cb1e56\" y=\"111.77687\"/>\n     <use style=\"fill:#1f77b4;stroke:#1f77b4;\" x=\"122.123516\" xlink:href=\"#m2264cb1e56\" y=\"69.037248\"/>\n     <use style=\"fill:#1f77b4;stroke:#1f77b4;\" x=\"171.729462\" xlink:href=\"#m2264cb1e56\" y=\"47.889139\"/>\n     <use style=\"fill:#1f77b4;stroke:#1f77b4;\" x=\"135.44474\" xlink:href=\"#m2264cb1e56\" y=\"66.841498\"/>\n     <use style=\"fill:#1f77b4;stroke:#1f77b4;\" x=\"89.303715\" xlink:href=\"#m2264cb1e56\" y=\"104.224209\"/>\n     <use style=\"fill:#1f77b4;stroke:#1f77b4;\" x=\"70.347226\" xlink:href=\"#m2264cb1e56\" y=\"107.386749\"/>\n     <use style=\"fill:#1f77b4;stroke:#1f77b4;\" x=\"123.031408\" xlink:href=\"#m2264cb1e56\" y=\"85.682655\"/>\n     <use style=\"fill:#1f77b4;stroke:#1f77b4;\" x=\"179.995791\" xlink:href=\"#m2264cb1e56\" y=\"36.930504\"/>\n     <use style=\"fill:#1f77b4;stroke:#1f77b4;\" x=\"94.534495\" xlink:href=\"#m2264cb1e56\" y=\"91.776409\"/>\n     <use style=\"fill:#1f77b4;stroke:#1f77b4;\" x=\"128.687366\" xlink:href=\"#m2264cb1e56\" y=\"83.236175\"/>\n     <use style=\"fill:#1f77b4;stroke:#1f77b4;\" x=\"147.768643\" xlink:href=\"#m2264cb1e56\" y=\"68.757145\"/>\n     <use style=\"fill:#1f77b4;stroke:#1f77b4;\" x=\"130.689739\" xlink:href=\"#m2264cb1e56\" y=\"77.381496\"/>\n     <use style=\"fill:#1f77b4;stroke:#1f77b4;\" x=\"103.133377\" xlink:href=\"#m2264cb1e56\" y=\"91.182421\"/>\n     <use style=\"fill:#1f77b4;stroke:#1f77b4;\" x=\"131.44548\" xlink:href=\"#m2264cb1e56\" y=\"67.083783\"/>\n     <use style=\"fill:#1f77b4;stroke:#1f77b4;\" x=\"87.287273\" xlink:href=\"#m2264cb1e56\" y=\"103.164056\"/>\n     <use style=\"fill:#1f77b4;stroke:#1f77b4;\" x=\"151.512308\" xlink:href=\"#m2264cb1e56\" y=\"62.285301\"/>\n     <use style=\"fill:#1f77b4;stroke:#1f77b4;\" x=\"86.376227\" xlink:href=\"#m2264cb1e56\" y=\"115.758527\"/>\n     <use style=\"fill:#1f77b4;stroke:#1f77b4;\" x=\"137.423251\" xlink:href=\"#m2264cb1e56\" y=\"82.220344\"/>\n     <use style=\"fill:#1f77b4;stroke:#1f77b4;\" x=\"115.393637\" xlink:href=\"#m2264cb1e56\" y=\"85.966094\"/>\n     <use style=\"fill:#1f77b4;stroke:#1f77b4;\" x=\"143.951517\" xlink:href=\"#m2264cb1e56\" y=\"71.059943\"/>\n     <use style=\"fill:#1f77b4;stroke:#1f77b4;\" x=\"161.072879\" xlink:href=\"#m2264cb1e56\" y=\"53.820975\"/>\n     <use style=\"fill:#1f77b4;stroke:#1f77b4;\" x=\"106.485312\" xlink:href=\"#m2264cb1e56\" y=\"83.977414\"/>\n     <use style=\"fill:#1f77b4;stroke:#1f77b4;\" x=\"117.053377\" xlink:href=\"#m2264cb1e56\" y=\"82.815598\"/>\n     <use style=\"fill:#1f77b4;stroke:#1f77b4;\" x=\"150.735725\" xlink:href=\"#m2264cb1e56\" y=\"74.772913\"/>\n     <use style=\"fill:#1f77b4;stroke:#1f77b4;\" x=\"147.840184\" xlink:href=\"#m2264cb1e56\" y=\"56.666934\"/>\n     <use style=\"fill:#1f77b4;stroke:#1f77b4;\" x=\"145.638106\" xlink:href=\"#m2264cb1e56\" y=\"59.380115\"/>\n     <use style=\"fill:#1f77b4;stroke:#1f77b4;\" x=\"148.066449\" xlink:href=\"#m2264cb1e56\" y=\"59.822903\"/>\n     <use style=\"fill:#1f77b4;stroke:#1f77b4;\" x=\"175.007991\" xlink:href=\"#m2264cb1e56\" y=\"46.73527\"/>\n     <use style=\"fill:#1f77b4;stroke:#1f77b4;\" x=\"187.947811\" xlink:href=\"#m2264cb1e56\" y=\"47.716789\"/>\n     <use style=\"fill:#1f77b4;stroke:#1f77b4;\" x=\"91.402078\" xlink:href=\"#m2264cb1e56\" y=\"83.882531\"/>\n     <use style=\"fill:#1f77b4;stroke:#1f77b4;\" x=\"157.112559\" xlink:href=\"#m2264cb1e56\" y=\"56.904274\"/>\n     <use style=\"fill:#1f77b4;stroke:#1f77b4;\" x=\"101.892685\" xlink:href=\"#m2264cb1e56\" y=\"78.060418\"/>\n     <use style=\"fill:#1f77b4;stroke:#1f77b4;\" x=\"66.275372\" xlink:href=\"#m2264cb1e56\" y=\"106.057244\"/>\n     <use style=\"fill:#1f77b4;stroke:#1f77b4;\" x=\"74.713617\" xlink:href=\"#m2264cb1e56\" y=\"115.19533\"/>\n     <use style=\"fill:#1f77b4;stroke:#1f77b4;\" x=\"93.457534\" xlink:href=\"#m2264cb1e56\" y=\"82.13428\"/>\n     <use style=\"fill:#1f77b4;stroke:#1f77b4;\" x=\"113.608333\" xlink:href=\"#m2264cb1e56\" y=\"87.71396\"/>\n     <use style=\"fill:#1f77b4;stroke:#1f77b4;\" x=\"131.165268\" xlink:href=\"#m2264cb1e56\" y=\"71.078198\"/>\n     <use style=\"fill:#1f77b4;stroke:#1f77b4;\" x=\"170.142928\" xlink:href=\"#m2264cb1e56\" y=\"53.806598\"/>\n     <use style=\"fill:#1f77b4;stroke:#1f77b4;\" x=\"85.883244\" xlink:href=\"#m2264cb1e56\" y=\"110.594766\"/>\n     <use style=\"fill:#1f77b4;stroke:#1f77b4;\" x=\"150.468995\" xlink:href=\"#m2264cb1e56\" y=\"68.99014\"/>\n     <use style=\"fill:#1f77b4;stroke:#1f77b4;\" x=\"150.781346\" xlink:href=\"#m2264cb1e56\" y=\"42.381375\"/>\n     <use style=\"fill:#1f77b4;stroke:#1f77b4;\" x=\"109.285337\" xlink:href=\"#m2264cb1e56\" y=\"78.741239\"/>\n     <use style=\"fill:#1f77b4;stroke:#1f77b4;\" x=\"88.944227\" xlink:href=\"#m2264cb1e56\" y=\"95.198204\"/>\n     <use style=\"fill:#1f77b4;stroke:#1f77b4;\" x=\"82.326418\" xlink:href=\"#m2264cb1e56\" y=\"106.576782\"/>\n     <use style=\"fill:#1f77b4;stroke:#1f77b4;\" x=\"135.267334\" xlink:href=\"#m2264cb1e56\" y=\"69.705937\"/>\n     <use style=\"fill:#1f77b4;stroke:#1f77b4;\" x=\"161.316244\" xlink:href=\"#m2264cb1e56\" y=\"58.078931\"/>\n     <use style=\"fill:#1f77b4;stroke:#1f77b4;\" x=\"126.355363\" xlink:href=\"#m2264cb1e56\" y=\"75.9929\"/>\n     <use style=\"fill:#1f77b4;stroke:#1f77b4;\" x=\"138.286198\" xlink:href=\"#m2264cb1e56\" y=\"67.672763\"/>\n     <use style=\"fill:#1f77b4;stroke:#1f77b4;\" x=\"133.706562\" xlink:href=\"#m2264cb1e56\" y=\"69.853497\"/>\n     <use style=\"fill:#1f77b4;stroke:#1f77b4;\" x=\"114.205881\" xlink:href=\"#m2264cb1e56\" y=\"93.466882\"/>\n     <use style=\"fill:#1f77b4;stroke:#1f77b4;\" x=\"126.582807\" xlink:href=\"#m2264cb1e56\" y=\"67.685976\"/>\n     <use style=\"fill:#1f77b4;stroke:#1f77b4;\" x=\"141.257284\" xlink:href=\"#m2264cb1e56\" y=\"76.398514\"/>\n     <use style=\"fill:#1f77b4;stroke:#1f77b4;\" x=\"172.163782\" xlink:href=\"#m2264cb1e56\" y=\"56.024798\"/>\n     <use style=\"fill:#1f77b4;stroke:#1f77b4;\" x=\"184.70467\" xlink:href=\"#m2264cb1e56\" y=\"19.651231\"/>\n     <use style=\"fill:#1f77b4;stroke:#1f77b4;\" x=\"211.855627\" xlink:href=\"#m2264cb1e56\" y=\"25.708908\"/>\n     <use style=\"fill:#1f77b4;stroke:#1f77b4;\" x=\"131.333238\" xlink:href=\"#m2264cb1e56\" y=\"71.27312\"/>\n     <use style=\"fill:#1f77b4;stroke:#1f77b4;\" x=\"152.532367\" xlink:href=\"#m2264cb1e56\" y=\"63.844014\"/>\n     <use style=\"fill:#1f77b4;stroke:#1f77b4;\" x=\"164.198237\" xlink:href=\"#m2264cb1e56\" y=\"70.964044\"/>\n     <use style=\"fill:#1f77b4;stroke:#1f77b4;\" x=\"98.378496\" xlink:href=\"#m2264cb1e56\" y=\"93.244316\"/>\n     <use style=\"fill:#1f77b4;stroke:#1f77b4;\" x=\"126.112908\" xlink:href=\"#m2264cb1e56\" y=\"70.530842\"/>\n     <use style=\"fill:#1f77b4;stroke:#1f77b4;\" x=\"104.542054\" xlink:href=\"#m2264cb1e56\" y=\"89.899866\"/>\n     <use style=\"fill:#1f77b4;stroke:#1f77b4;\" x=\"147.153553\" xlink:href=\"#m2264cb1e56\" y=\"69.871258\"/>\n     <use style=\"fill:#1f77b4;stroke:#1f77b4;\" x=\"60.922914\" xlink:href=\"#m2264cb1e56\" y=\"120.135178\"/>\n     <use style=\"fill:#1f77b4;stroke:#1f77b4;\" x=\"144.012\" xlink:href=\"#m2264cb1e56\" y=\"71.555942\"/>\n     <use style=\"fill:#1f77b4;stroke:#1f77b4;\" x=\"124.225609\" xlink:href=\"#m2264cb1e56\" y=\"83.572058\"/>\n     <use style=\"fill:#1f77b4;stroke:#1f77b4;\" x=\"108.398882\" xlink:href=\"#m2264cb1e56\" y=\"99.766008\"/>\n     <use style=\"fill:#1f77b4;stroke:#1f77b4;\" x=\"116.950252\" xlink:href=\"#m2264cb1e56\" y=\"81.348723\"/>\n     <use style=\"fill:#1f77b4;stroke:#1f77b4;\" x=\"131.763173\" xlink:href=\"#m2264cb1e56\" y=\"76.438346\"/>\n    </g>\n   </g>\n   <g id=\"matplotlib.axis_1\">\n    <g id=\"xtick_1\">\n     <g id=\"line2d_1\">\n      <defs>\n       <path d=\"M 0 0 \nL 0 3.5 \n\" id=\"m9353e2a257\" style=\"stroke:#000000;stroke-width:0.8;\"/>\n      </defs>\n      <g>\n       <use style=\"stroke:#000000;stroke-width:0.8;\" x=\"92.441861\" xlink:href=\"#m9353e2a257\" y=\"143.1\"/>\n      </g>\n     </g>\n     <g id=\"text_1\">\n      <!-- 0 -->\n      <defs>\n       <path d=\"M 31.78125 66.40625 \nQ 24.171875 66.40625 20.328125 58.90625 \nQ 16.5 51.421875 16.5 36.375 \nQ 16.5 21.390625 20.328125 13.890625 \nQ 24.171875 6.390625 31.78125 6.390625 \nQ 39.453125 6.390625 43.28125 13.890625 \nQ 47.125 21.390625 47.125 36.375 \nQ 47.125 51.421875 43.28125 58.90625 \nQ 39.453125 66.40625 31.78125 66.40625 \nz\nM 31.78125 74.21875 \nQ 44.046875 74.21875 50.515625 64.515625 \nQ 56.984375 54.828125 56.984375 36.375 \nQ 56.984375 17.96875 50.515625 8.265625 \nQ 44.046875 -1.421875 31.78125 -1.421875 \nQ 19.53125 -1.421875 13.0625 8.265625 \nQ 6.59375 17.96875 6.59375 36.375 \nQ 6.59375 54.828125 13.0625 64.515625 \nQ 19.53125 74.21875 31.78125 74.21875 \nz\n\" id=\"DejaVuSans-48\"/>\n      </defs>\n      <g transform=\"translate(89.260611 157.698438)scale(0.1 -0.1)\">\n       <use xlink:href=\"#DejaVuSans-48\"/>\n      </g>\n     </g>\n    </g>\n    <g id=\"xtick_2\">\n     <g id=\"line2d_2\">\n      <g>\n       <use style=\"stroke:#000000;stroke-width:0.8;\" x=\"157.086966\" xlink:href=\"#m9353e2a257\" y=\"143.1\"/>\n      </g>\n     </g>\n     <g id=\"text_2\">\n      <!-- 2 -->\n      <defs>\n       <path d=\"M 19.1875 8.296875 \nL 53.609375 8.296875 \nL 53.609375 0 \nL 7.328125 0 \nL 7.328125 8.296875 \nQ 12.9375 14.109375 22.625 23.890625 \nQ 32.328125 33.6875 34.8125 36.53125 \nQ 39.546875 41.84375 41.421875 45.53125 \nQ 43.3125 49.21875 43.3125 52.78125 \nQ 43.3125 58.59375 39.234375 62.25 \nQ 35.15625 65.921875 28.609375 65.921875 \nQ 23.96875 65.921875 18.8125 64.3125 \nQ 13.671875 62.703125 7.8125 59.421875 \nL 7.8125 69.390625 \nQ 13.765625 71.78125 18.9375 73 \nQ 24.125 74.21875 28.421875 74.21875 \nQ 39.75 74.21875 46.484375 68.546875 \nQ 53.21875 62.890625 53.21875 53.421875 \nQ 53.21875 48.921875 51.53125 44.890625 \nQ 49.859375 40.875 45.40625 35.40625 \nQ 44.1875 33.984375 37.640625 27.21875 \nQ 31.109375 20.453125 19.1875 8.296875 \nz\n\" id=\"DejaVuSans-50\"/>\n      </defs>\n      <g transform=\"translate(153.905716 157.698438)scale(0.1 -0.1)\">\n       <use xlink:href=\"#DejaVuSans-50\"/>\n      </g>\n     </g>\n    </g>\n    <g id=\"xtick_3\">\n     <g id=\"line2d_3\">\n      <g>\n       <use style=\"stroke:#000000;stroke-width:0.8;\" x=\"221.732071\" xlink:href=\"#m9353e2a257\" y=\"143.1\"/>\n      </g>\n     </g>\n     <g id=\"text_3\">\n      <!-- 4 -->\n      <defs>\n       <path d=\"M 37.796875 64.3125 \nL 12.890625 25.390625 \nL 37.796875 25.390625 \nz\nM 35.203125 72.90625 \nL 47.609375 72.90625 \nL 47.609375 25.390625 \nL 58.015625 25.390625 \nL 58.015625 17.1875 \nL 47.609375 17.1875 \nL 47.609375 0 \nL 37.796875 0 \nL 37.796875 17.1875 \nL 4.890625 17.1875 \nL 4.890625 26.703125 \nz\n\" id=\"DejaVuSans-52\"/>\n      </defs>\n      <g transform=\"translate(218.550821 157.698438)scale(0.1 -0.1)\">\n       <use xlink:href=\"#DejaVuSans-52\"/>\n      </g>\n     </g>\n    </g>\n   </g>\n   <g id=\"matplotlib.axis_2\">\n    <g id=\"ytick_1\">\n     <g id=\"line2d_4\">\n      <defs>\n       <path d=\"M 0 0 \nL -3.5 0 \n\" id=\"m13687125a0\" style=\"stroke:#000000;stroke-width:0.8;\"/>\n      </defs>\n      <g>\n       <use style=\"stroke:#000000;stroke-width:0.8;\" x=\"38.482813\" xlink:href=\"#m13687125a0\" y=\"125.992745\"/>\n      </g>\n     </g>\n     <g id=\"text_4\">\n      <!-- −2.5 -->\n      <defs>\n       <path d=\"M 10.59375 35.5 \nL 73.1875 35.5 \nL 73.1875 27.203125 \nL 10.59375 27.203125 \nz\n\" id=\"DejaVuSans-8722\"/>\n       <path d=\"M 10.6875 12.40625 \nL 21 12.40625 \nL 21 0 \nL 10.6875 0 \nz\n\" id=\"DejaVuSans-46\"/>\n       <path d=\"M 10.796875 72.90625 \nL 49.515625 72.90625 \nL 49.515625 64.59375 \nL 19.828125 64.59375 \nL 19.828125 46.734375 \nQ 21.96875 47.46875 24.109375 47.828125 \nQ 26.265625 48.1875 28.421875 48.1875 \nQ 40.625 48.1875 47.75 41.5 \nQ 54.890625 34.8125 54.890625 23.390625 \nQ 54.890625 11.625 47.5625 5.09375 \nQ 40.234375 -1.421875 26.90625 -1.421875 \nQ 22.3125 -1.421875 17.546875 -0.640625 \nQ 12.796875 0.140625 7.71875 1.703125 \nL 7.71875 11.625 \nQ 12.109375 9.234375 16.796875 8.0625 \nQ 21.484375 6.890625 26.703125 6.890625 \nQ 35.15625 6.890625 40.078125 11.328125 \nQ 45.015625 15.765625 45.015625 23.390625 \nQ 45.015625 31 40.078125 35.4375 \nQ 35.15625 39.890625 26.703125 39.890625 \nQ 22.75 39.890625 18.8125 39.015625 \nQ 14.890625 38.140625 10.796875 36.28125 \nz\n\" id=\"DejaVuSans-53\"/>\n      </defs>\n      <g transform=\"translate(7.2 129.791964)scale(0.1 -0.1)\">\n       <use xlink:href=\"#DejaVuSans-8722\"/>\n       <use x=\"83.789062\" xlink:href=\"#DejaVuSans-50\"/>\n       <use x=\"147.412109\" xlink:href=\"#DejaVuSans-46\"/>\n       <use x=\"179.199219\" xlink:href=\"#DejaVuSans-53\"/>\n      </g>\n     </g>\n    </g>\n    <g id=\"ytick_2\">\n     <g id=\"line2d_5\">\n      <g>\n       <use style=\"stroke:#000000;stroke-width:0.8;\" x=\"38.482813\" xlink:href=\"#m13687125a0\" y=\"99.59143\"/>\n      </g>\n     </g>\n     <g id=\"text_5\">\n      <!-- 0.0 -->\n      <g transform=\"translate(15.579688 103.390649)scale(0.1 -0.1)\">\n       <use xlink:href=\"#DejaVuSans-48\"/>\n       <use x=\"63.623047\" xlink:href=\"#DejaVuSans-46\"/>\n       <use x=\"95.410156\" xlink:href=\"#DejaVuSans-48\"/>\n      </g>\n     </g>\n    </g>\n    <g id=\"ytick_3\">\n     <g id=\"line2d_6\">\n      <g>\n       <use style=\"stroke:#000000;stroke-width:0.8;\" x=\"38.482813\" xlink:href=\"#m13687125a0\" y=\"73.190114\"/>\n      </g>\n     </g>\n     <g id=\"text_6\">\n      <!-- 2.5 -->\n      <g transform=\"translate(15.579688 76.989333)scale(0.1 -0.1)\">\n       <use xlink:href=\"#DejaVuSans-50\"/>\n       <use x=\"63.623047\" xlink:href=\"#DejaVuSans-46\"/>\n       <use x=\"95.410156\" xlink:href=\"#DejaVuSans-53\"/>\n      </g>\n     </g>\n    </g>\n    <g id=\"ytick_4\">\n     <g id=\"line2d_7\">\n      <g>\n       <use style=\"stroke:#000000;stroke-width:0.8;\" x=\"38.482813\" xlink:href=\"#m13687125a0\" y=\"46.788799\"/>\n      </g>\n     </g>\n     <g id=\"text_7\">\n      <!-- 5.0 -->\n      <g transform=\"translate(15.579688 50.588018)scale(0.1 -0.1)\">\n       <use xlink:href=\"#DejaVuSans-53\"/>\n       <use x=\"63.623047\" xlink:href=\"#DejaVuSans-46\"/>\n       <use x=\"95.410156\" xlink:href=\"#DejaVuSans-48\"/>\n      </g>\n     </g>\n    </g>\n    <g id=\"ytick_5\">\n     <g id=\"line2d_8\">\n      <g>\n       <use style=\"stroke:#000000;stroke-width:0.8;\" x=\"38.482813\" xlink:href=\"#m13687125a0\" y=\"20.387483\"/>\n      </g>\n     </g>\n     <g id=\"text_8\">\n      <!-- 7.5 -->\n      <defs>\n       <path d=\"M 8.203125 72.90625 \nL 55.078125 72.90625 \nL 55.078125 68.703125 \nL 28.609375 0 \nL 18.3125 0 \nL 43.21875 64.59375 \nL 8.203125 64.59375 \nz\n\" id=\"DejaVuSans-55\"/>\n      </defs>\n      <g transform=\"translate(15.579688 24.186702)scale(0.1 -0.1)\">\n       <use xlink:href=\"#DejaVuSans-55\"/>\n       <use x=\"63.623047\" xlink:href=\"#DejaVuSans-46\"/>\n       <use x=\"95.410156\" xlink:href=\"#DejaVuSans-53\"/>\n      </g>\n     </g>\n    </g>\n   </g>\n   <g id=\"patch_3\">\n    <path d=\"M 38.482813 143.1 \nL 38.482813 7.2 \n\" style=\"fill:none;stroke:#000000;stroke-linecap:square;stroke-linejoin:miter;stroke-width:0.8;\"/>\n   </g>\n   <g id=\"patch_4\">\n    <path d=\"M 233.782813 143.1 \nL 233.782813 7.2 \n\" style=\"fill:none;stroke:#000000;stroke-linecap:square;stroke-linejoin:miter;stroke-width:0.8;\"/>\n   </g>\n   <g id=\"patch_5\">\n    <path d=\"M 38.482813 143.1 \nL 233.782812 143.1 \n\" style=\"fill:none;stroke:#000000;stroke-linecap:square;stroke-linejoin:miter;stroke-width:0.8;\"/>\n   </g>\n   <g id=\"patch_6\">\n    <path d=\"M 38.482813 7.2 \nL 233.782812 7.2 \n\" style=\"fill:none;stroke:#000000;stroke-linecap:square;stroke-linejoin:miter;stroke-width:0.8;\"/>\n   </g>\n  </g>\n </g>\n <defs>\n  <clipPath id=\"p03dd999f3d\">\n   <rect height=\"135.9\" width=\"195.3\" x=\"38.482813\" y=\"7.2\"/>\n  </clipPath>\n </defs>\n</svg>\n"
          },
          "metadata": {
            "tags": [],
            "needs_background": "light"
          }
        }
      ]
    },
    {
      "cell_type": "code",
      "metadata": {
        "id": "AdU-qfIDfCZk"
      },
      "source": [
        "batch_size = 8\n",
        "data_iter = d2l.load_array((data,), batch_size)"
      ],
      "execution_count": 7,
      "outputs": []
    },
    {
      "cell_type": "code",
      "metadata": {
        "id": "VHq4T0JsfCZl"
      },
      "source": [
        "net_G = tf.keras.Sequential()\n",
        "net_G.add(tf.keras.layers.Dense(2))"
      ],
      "execution_count": 8,
      "outputs": []
    },
    {
      "cell_type": "code",
      "metadata": {
        "id": "feHdkPZ6fCZm"
      },
      "source": [
        "net_D = tf.keras.Sequential()\n",
        "net_D.add(tf.keras.layers.Dense(5, activation='tanh'))\n",
        "net_D.add(tf.keras.layers.Dense(3, activation='tanh'))\n",
        "net_D.add(tf.keras.layers.Dense(1))"
      ],
      "execution_count": 9,
      "outputs": []
    },
    {
      "cell_type": "markdown",
      "metadata": {
        "id": "G1SzH2cCfCZm"
      },
      "source": [
        "https://codingnote.cc/p/289284/"
      ]
    },
    {
      "cell_type": "code",
      "metadata": {
        "id": "TR8-QgxEgeeh"
      },
      "source": [
        "batch_size = X.shape[0]\n"
      ],
      "execution_count": 10,
      "outputs": []
    },
    {
      "cell_type": "code",
      "metadata": {
        "colab": {
          "base_uri": "https://localhost:8080/"
        },
        "id": "NfJsIX2vgi7U",
        "outputId": "2d12fab1-b227-461e-88ef-5c20a14b2318"
      },
      "source": [
        "print(batch_size)"
      ],
      "execution_count": 11,
      "outputs": [
        {
          "output_type": "stream",
          "text": [
            "1000\n"
          ],
          "name": "stdout"
        }
      ]
    },
    {
      "cell_type": "code",
      "metadata": {
        "id": "BWnCMJd6hFnE"
      },
      "source": [
        "ones = tf.ones_like(batch_size)"
      ],
      "execution_count": 12,
      "outputs": []
    },
    {
      "cell_type": "code",
      "metadata": {
        "colab": {
          "base_uri": "https://localhost:8080/"
        },
        "id": "gX-5IOKehHnD",
        "outputId": "445bb231-147a-4d8f-e841-1220d8e5e467"
      },
      "source": [
        "print(ones)"
      ],
      "execution_count": 13,
      "outputs": [
        {
          "output_type": "stream",
          "text": [
            "tf.Tensor(1, shape=(), dtype=int32)\n"
          ],
          "name": "stdout"
        }
      ]
    },
    {
      "cell_type": "code",
      "metadata": {
        "id": "qe6oElpziDLQ"
      },
      "source": [
        "#@save\n",
        "def update_D(X, Z, net_D, net_G, loss, trainer_D):\n",
        "    \"\"\"Update discriminator.\"\"\"\n",
        "    batch_size = X.shape[0]\n",
        "    ones = tf.ones_like(batch_size, tf.float32)# , device=X.device)\n",
        "    zeros = tf.zeros_like(batch_size, tf.float32)# , device=X.device)\n",
        "    with tf.GradientTape() as D_tape:\n",
        "        real_Y = net_D(X, training=True)\n",
        "        fake_X = net_G(X, training=True)\n",
        "        # Do not need to compute gradient for `net_G`, detach it from\n",
        "        # computing gradients.\n",
        "        fake_Y = net_D(tf.stop_gradient(fake_X), training=False)\n",
        "        loss_D = (loss(ones, real_Y) + loss(zeros, fake_Y)) / 2\n",
        "    grads = D_tape.gradient(loss_D, net_D.trainable_variables)\n",
        "    trainer_D.apply_gradients(zip(grads, net_D.trainable_weights))\n",
        "    return float(loss_D)"
      ],
      "execution_count": 14,
      "outputs": []
    },
    {
      "cell_type": "code",
      "metadata": {
        "id": "-YonJDSefCZn"
      },
      "source": [
        "#@save\n",
        "def update_G(Z, net_D, net_G, loss, trainer_G):\n",
        "    \"\"\"Update generator.\"\"\"\n",
        "    batch_size = Z.shape[0]\n",
        "    ones = tf.ones_like(batch_size, tf.float32)\n",
        "    with tf.GradientTape() as G_tape:\n",
        "        # We could reuse `fake_X` from `update_D` to save computation\n",
        "        fake_X = net_G(Z, training=True)\n",
        "        # Recomputing `fake_Y` is needed since `net_D` is changed\n",
        "        fake_Y = net_D(fake_X, training=True)\n",
        "        loss_G = loss(ones, fake_Y)\n",
        "    grads = G_tape.gradient(loss_G, net_G.trainable_variables) \n",
        "    trainer_G.apply_gradients(zip(grads, net_G.trainable_weights))\n",
        "    return float(loss_G)"
      ],
      "execution_count": 15,
      "outputs": []
    },
    {
      "cell_type": "markdown",
      "metadata": {
        "id": "k2A_X73VfCZp"
      },
      "source": [
        "from_logits=True\n",
        "https://github.com/thisisiron/TF2-GAN/blob/master/gan/train.py"
      ]
    },
    {
      "cell_type": "markdown",
      "metadata": {
        "id": "ABRQ9GJKfCZp"
      },
      "source": [
        "tf.nn.sigmoid_cross_entropy_with_logits https://www.tensorflow.org/tutorials/generative/cvae"
      ]
    },
    {
      "cell_type": "code",
      "metadata": {
        "id": "_PUueFvmfCZq"
      },
      "source": [
        "def train(net_D, net_G, data_iter, num_epochs, lr_D, lr_G, latent_dim, data):\n",
        "    loss = tf.keras.losses.BinaryCrossentropy(reduction=\n",
        "                tf.keras.losses.Reduction.SUM)\n",
        "    tf.keras.initializers.RandomNormal(net_D, stddev=0.02)\n",
        "    tf.keras.initializers.RandomNormal(net_G, stddev=0.02)\n",
        "    trainer_D = tf.keras.optimizers.Adam(learning_rate=lr_D)\n",
        "    trainer_G = tf.keras.optimizers.Adam(learning_rate=lr_G)\n",
        "    net_D.compile(optimizer=trainer_D)\n",
        "    net_G.compile(optimizer=trainer_G)\n",
        "    animator = d2l.Animator(xlabel='epoch', ylabel='loss',\n",
        "                            xlim=[1, num_epochs], nrows=2, figsize=(5, 5),\n",
        "                            legend=['discriminator', 'generator'])\n",
        "    animator.fig.subplots_adjust(hspace=0.3)\n",
        "    for epoch in range(num_epochs):\n",
        "        # Train one epoch\n",
        "        timer = d2l.Timer()\n",
        "        metric = d2l.Accumulator(3)  # loss_D, loss_G, num_examples\n",
        "        for (X,) in data_iter:\n",
        "            batch_size = X.shape[0]\n",
        "            Z = d2l.normal([batch_size, latent_dim], 0, 1, tf.float32)\n",
        "            metric.add(update_D(X, Z, net_D, net_G, loss, trainer_D),\n",
        "                       update_G(Z, net_D, net_G, loss, trainer_G),\n",
        "                       batch_size)\n",
        "        # Visualize generated examples\n",
        "        Z = d2l.normal([100, latent_dim], 0, 1, tf.float32)\n",
        "        fake_X = net_G(tf.stop_gradient(Z), training=False).numpy()\n",
        "        animator.axes[1].cla()\n",
        "        animator.axes[1].scatter(data[:, 0], data[:, 1])\n",
        "        animator.axes[1].scatter(fake_X[:, 0], fake_X[:, 1])\n",
        "        animator.axes[1].legend(['real', 'generated'])\n",
        "        # Show the losses\n",
        "        loss_D, loss_G = metric[0]/metric[2], metric[1]/metric[2]\n",
        "        animator.add(epoch + 1, (loss_D, loss_G))\n",
        "    print(f'loss_D {loss_D:.3f}, loss_G {loss_G:.3f}, '\n",
        "          f'{metric[2] / timer.stop():.1f} examples/sec')"
      ],
      "execution_count": 16,
      "outputs": []
    },
    {
      "cell_type": "code",
      "metadata": {
        "colab": {
          "base_uri": "https://localhost:8080/",
          "height": 442
        },
        "id": "96WhJC5JfCZr",
        "outputId": "e5d027f7-2e92-4a70-c99f-ee2f0c133a01"
      },
      "source": [
        "lr_D, lr_G, latent_dim, num_epochs = 0.05, 0.005, 2, 20\n",
        "train(net_D, net_G, data_iter, num_epochs, lr_D, lr_G,\n",
        "      latent_dim, d2l.numpy(data[:100]))"
      ],
      "execution_count": 17,
      "outputs": [
        {
          "output_type": "stream",
          "text": [
            "loss_D 0.230, loss_G 1.532, 269.3 examples/sec\n"
          ],
          "name": "stdout"
        },
        {
          "output_type": "display_data",
          "data": {
            "text/plain": [
              "<Figure size 360x360 with 2 Axes>"
            ],
            "image/svg+xml": "<?xml version=\"1.0\" encoding=\"utf-8\" standalone=\"no\"?>\n<!DOCTYPE svg PUBLIC \"-//W3C//DTD SVG 1.1//EN\"\n  \"http://www.w3.org/Graphics/SVG/1.1/DTD/svg11.dtd\">\n<!-- Created with matplotlib (https://matplotlib.org/) -->\n<svg height=\"302.878125pt\" version=\"1.1\" viewBox=\"0 0 331.573437 302.878125\" width=\"331.573437pt\" xmlns=\"http://www.w3.org/2000/svg\" xmlns:xlink=\"http://www.w3.org/1999/xlink\">\n <defs>\n  <style type=\"text/css\">\n*{stroke-linecap:butt;stroke-linejoin:round;}\n  </style>\n </defs>\n <g id=\"figure_1\">\n  <g id=\"patch_1\">\n   <path d=\"M 0 302.878125 \nL 331.573437 302.878125 \nL 331.573437 0 \nL 0 0 \nz\n\" style=\"fill:none;\"/>\n  </g>\n  <g id=\"axes_1\">\n   <g id=\"patch_2\">\n    <path d=\"M 34.240625 125.373913 \nL 313.240625 125.373913 \nL 313.240625 7.2 \nL 34.240625 7.2 \nz\n\" style=\"fill:#ffffff;\"/>\n   </g>\n   <g id=\"matplotlib.axis_1\">\n    <g id=\"xtick_1\">\n     <g id=\"line2d_1\">\n      <path clip-path=\"url(#pc0b0dca4e5)\" d=\"M 56.266941 125.373913 \nL 56.266941 7.2 \n\" style=\"fill:none;stroke:#b0b0b0;stroke-linecap:square;stroke-width:0.8;\"/>\n     </g>\n     <g id=\"line2d_2\">\n      <defs>\n       <path d=\"M 0 0 \nL 0 3.5 \n\" id=\"m54d2f27577\" style=\"stroke:#000000;stroke-width:0.8;\"/>\n      </defs>\n      <g>\n       <use style=\"stroke:#000000;stroke-width:0.8;\" x=\"56.266941\" xlink:href=\"#m54d2f27577\" y=\"125.373913\"/>\n      </g>\n     </g>\n     <g id=\"text_1\">\n      <!-- 2.5 -->\n      <defs>\n       <path d=\"M 19.1875 8.296875 \nL 53.609375 8.296875 \nL 53.609375 0 \nL 7.328125 0 \nL 7.328125 8.296875 \nQ 12.9375 14.109375 22.625 23.890625 \nQ 32.328125 33.6875 34.8125 36.53125 \nQ 39.546875 41.84375 41.421875 45.53125 \nQ 43.3125 49.21875 43.3125 52.78125 \nQ 43.3125 58.59375 39.234375 62.25 \nQ 35.15625 65.921875 28.609375 65.921875 \nQ 23.96875 65.921875 18.8125 64.3125 \nQ 13.671875 62.703125 7.8125 59.421875 \nL 7.8125 69.390625 \nQ 13.765625 71.78125 18.9375 73 \nQ 24.125 74.21875 28.421875 74.21875 \nQ 39.75 74.21875 46.484375 68.546875 \nQ 53.21875 62.890625 53.21875 53.421875 \nQ 53.21875 48.921875 51.53125 44.890625 \nQ 49.859375 40.875 45.40625 35.40625 \nQ 44.1875 33.984375 37.640625 27.21875 \nQ 31.109375 20.453125 19.1875 8.296875 \nz\n\" id=\"DejaVuSans-50\"/>\n       <path d=\"M 10.6875 12.40625 \nL 21 12.40625 \nL 21 0 \nL 10.6875 0 \nz\n\" id=\"DejaVuSans-46\"/>\n       <path d=\"M 10.796875 72.90625 \nL 49.515625 72.90625 \nL 49.515625 64.59375 \nL 19.828125 64.59375 \nL 19.828125 46.734375 \nQ 21.96875 47.46875 24.109375 47.828125 \nQ 26.265625 48.1875 28.421875 48.1875 \nQ 40.625 48.1875 47.75 41.5 \nQ 54.890625 34.8125 54.890625 23.390625 \nQ 54.890625 11.625 47.5625 5.09375 \nQ 40.234375 -1.421875 26.90625 -1.421875 \nQ 22.3125 -1.421875 17.546875 -0.640625 \nQ 12.796875 0.140625 7.71875 1.703125 \nL 7.71875 11.625 \nQ 12.109375 9.234375 16.796875 8.0625 \nQ 21.484375 6.890625 26.703125 6.890625 \nQ 35.15625 6.890625 40.078125 11.328125 \nQ 45.015625 15.765625 45.015625 23.390625 \nQ 45.015625 31 40.078125 35.4375 \nQ 35.15625 39.890625 26.703125 39.890625 \nQ 22.75 39.890625 18.8125 39.015625 \nQ 14.890625 38.140625 10.796875 36.28125 \nz\n\" id=\"DejaVuSans-53\"/>\n      </defs>\n      <g transform=\"translate(48.315378 139.972351)scale(0.1 -0.1)\">\n       <use xlink:href=\"#DejaVuSans-50\"/>\n       <use x=\"63.623047\" xlink:href=\"#DejaVuSans-46\"/>\n       <use x=\"95.410156\" xlink:href=\"#DejaVuSans-53\"/>\n      </g>\n     </g>\n    </g>\n    <g id=\"xtick_2\">\n     <g id=\"line2d_3\">\n      <path clip-path=\"url(#pc0b0dca4e5)\" d=\"M 92.977467 125.373913 \nL 92.977467 7.2 \n\" style=\"fill:none;stroke:#b0b0b0;stroke-linecap:square;stroke-width:0.8;\"/>\n     </g>\n     <g id=\"line2d_4\">\n      <g>\n       <use style=\"stroke:#000000;stroke-width:0.8;\" x=\"92.977467\" xlink:href=\"#m54d2f27577\" y=\"125.373913\"/>\n      </g>\n     </g>\n     <g id=\"text_2\">\n      <!-- 5.0 -->\n      <defs>\n       <path d=\"M 31.78125 66.40625 \nQ 24.171875 66.40625 20.328125 58.90625 \nQ 16.5 51.421875 16.5 36.375 \nQ 16.5 21.390625 20.328125 13.890625 \nQ 24.171875 6.390625 31.78125 6.390625 \nQ 39.453125 6.390625 43.28125 13.890625 \nQ 47.125 21.390625 47.125 36.375 \nQ 47.125 51.421875 43.28125 58.90625 \nQ 39.453125 66.40625 31.78125 66.40625 \nz\nM 31.78125 74.21875 \nQ 44.046875 74.21875 50.515625 64.515625 \nQ 56.984375 54.828125 56.984375 36.375 \nQ 56.984375 17.96875 50.515625 8.265625 \nQ 44.046875 -1.421875 31.78125 -1.421875 \nQ 19.53125 -1.421875 13.0625 8.265625 \nQ 6.59375 17.96875 6.59375 36.375 \nQ 6.59375 54.828125 13.0625 64.515625 \nQ 19.53125 74.21875 31.78125 74.21875 \nz\n\" id=\"DejaVuSans-48\"/>\n      </defs>\n      <g transform=\"translate(85.025905 139.972351)scale(0.1 -0.1)\">\n       <use xlink:href=\"#DejaVuSans-53\"/>\n       <use x=\"63.623047\" xlink:href=\"#DejaVuSans-46\"/>\n       <use x=\"95.410156\" xlink:href=\"#DejaVuSans-48\"/>\n      </g>\n     </g>\n    </g>\n    <g id=\"xtick_3\">\n     <g id=\"line2d_5\">\n      <path clip-path=\"url(#pc0b0dca4e5)\" d=\"M 129.687993 125.373913 \nL 129.687993 7.2 \n\" style=\"fill:none;stroke:#b0b0b0;stroke-linecap:square;stroke-width:0.8;\"/>\n     </g>\n     <g id=\"line2d_6\">\n      <g>\n       <use style=\"stroke:#000000;stroke-width:0.8;\" x=\"129.687993\" xlink:href=\"#m54d2f27577\" y=\"125.373913\"/>\n      </g>\n     </g>\n     <g id=\"text_3\">\n      <!-- 7.5 -->\n      <defs>\n       <path d=\"M 8.203125 72.90625 \nL 55.078125 72.90625 \nL 55.078125 68.703125 \nL 28.609375 0 \nL 18.3125 0 \nL 43.21875 64.59375 \nL 8.203125 64.59375 \nz\n\" id=\"DejaVuSans-55\"/>\n      </defs>\n      <g transform=\"translate(121.736431 139.972351)scale(0.1 -0.1)\">\n       <use xlink:href=\"#DejaVuSans-55\"/>\n       <use x=\"63.623047\" xlink:href=\"#DejaVuSans-46\"/>\n       <use x=\"95.410156\" xlink:href=\"#DejaVuSans-53\"/>\n      </g>\n     </g>\n    </g>\n    <g id=\"xtick_4\">\n     <g id=\"line2d_7\">\n      <path clip-path=\"url(#pc0b0dca4e5)\" d=\"M 166.39852 125.373913 \nL 166.39852 7.2 \n\" style=\"fill:none;stroke:#b0b0b0;stroke-linecap:square;stroke-width:0.8;\"/>\n     </g>\n     <g id=\"line2d_8\">\n      <g>\n       <use style=\"stroke:#000000;stroke-width:0.8;\" x=\"166.39852\" xlink:href=\"#m54d2f27577\" y=\"125.373913\"/>\n      </g>\n     </g>\n     <g id=\"text_4\">\n      <!-- 10.0 -->\n      <defs>\n       <path d=\"M 12.40625 8.296875 \nL 28.515625 8.296875 \nL 28.515625 63.921875 \nL 10.984375 60.40625 \nL 10.984375 69.390625 \nL 28.421875 72.90625 \nL 38.28125 72.90625 \nL 38.28125 8.296875 \nL 54.390625 8.296875 \nL 54.390625 0 \nL 12.40625 0 \nz\n\" id=\"DejaVuSans-49\"/>\n      </defs>\n      <g transform=\"translate(155.265707 139.972351)scale(0.1 -0.1)\">\n       <use xlink:href=\"#DejaVuSans-49\"/>\n       <use x=\"63.623047\" xlink:href=\"#DejaVuSans-48\"/>\n       <use x=\"127.246094\" xlink:href=\"#DejaVuSans-46\"/>\n       <use x=\"159.033203\" xlink:href=\"#DejaVuSans-48\"/>\n      </g>\n     </g>\n    </g>\n    <g id=\"xtick_5\">\n     <g id=\"line2d_9\">\n      <path clip-path=\"url(#pc0b0dca4e5)\" d=\"M 203.109046 125.373913 \nL 203.109046 7.2 \n\" style=\"fill:none;stroke:#b0b0b0;stroke-linecap:square;stroke-width:0.8;\"/>\n     </g>\n     <g id=\"line2d_10\">\n      <g>\n       <use style=\"stroke:#000000;stroke-width:0.8;\" x=\"203.109046\" xlink:href=\"#m54d2f27577\" y=\"125.373913\"/>\n      </g>\n     </g>\n     <g id=\"text_5\">\n      <!-- 12.5 -->\n      <g transform=\"translate(191.976234 139.972351)scale(0.1 -0.1)\">\n       <use xlink:href=\"#DejaVuSans-49\"/>\n       <use x=\"63.623047\" xlink:href=\"#DejaVuSans-50\"/>\n       <use x=\"127.246094\" xlink:href=\"#DejaVuSans-46\"/>\n       <use x=\"159.033203\" xlink:href=\"#DejaVuSans-53\"/>\n      </g>\n     </g>\n    </g>\n    <g id=\"xtick_6\">\n     <g id=\"line2d_11\">\n      <path clip-path=\"url(#pc0b0dca4e5)\" d=\"M 239.819572 125.373913 \nL 239.819572 7.2 \n\" style=\"fill:none;stroke:#b0b0b0;stroke-linecap:square;stroke-width:0.8;\"/>\n     </g>\n     <g id=\"line2d_12\">\n      <g>\n       <use style=\"stroke:#000000;stroke-width:0.8;\" x=\"239.819572\" xlink:href=\"#m54d2f27577\" y=\"125.373913\"/>\n      </g>\n     </g>\n     <g id=\"text_6\">\n      <!-- 15.0 -->\n      <g transform=\"translate(228.68676 139.972351)scale(0.1 -0.1)\">\n       <use xlink:href=\"#DejaVuSans-49\"/>\n       <use x=\"63.623047\" xlink:href=\"#DejaVuSans-53\"/>\n       <use x=\"127.246094\" xlink:href=\"#DejaVuSans-46\"/>\n       <use x=\"159.033203\" xlink:href=\"#DejaVuSans-48\"/>\n      </g>\n     </g>\n    </g>\n    <g id=\"xtick_7\">\n     <g id=\"line2d_13\">\n      <path clip-path=\"url(#pc0b0dca4e5)\" d=\"M 276.530099 125.373913 \nL 276.530099 7.2 \n\" style=\"fill:none;stroke:#b0b0b0;stroke-linecap:square;stroke-width:0.8;\"/>\n     </g>\n     <g id=\"line2d_14\">\n      <g>\n       <use style=\"stroke:#000000;stroke-width:0.8;\" x=\"276.530099\" xlink:href=\"#m54d2f27577\" y=\"125.373913\"/>\n      </g>\n     </g>\n     <g id=\"text_7\">\n      <!-- 17.5 -->\n      <g transform=\"translate(265.397286 139.972351)scale(0.1 -0.1)\">\n       <use xlink:href=\"#DejaVuSans-49\"/>\n       <use x=\"63.623047\" xlink:href=\"#DejaVuSans-55\"/>\n       <use x=\"127.246094\" xlink:href=\"#DejaVuSans-46\"/>\n       <use x=\"159.033203\" xlink:href=\"#DejaVuSans-53\"/>\n      </g>\n     </g>\n    </g>\n    <g id=\"xtick_8\">\n     <g id=\"line2d_15\">\n      <path clip-path=\"url(#pc0b0dca4e5)\" d=\"M 313.240625 125.373913 \nL 313.240625 7.2 \n\" style=\"fill:none;stroke:#b0b0b0;stroke-linecap:square;stroke-width:0.8;\"/>\n     </g>\n     <g id=\"line2d_16\">\n      <g>\n       <use style=\"stroke:#000000;stroke-width:0.8;\" x=\"313.240625\" xlink:href=\"#m54d2f27577\" y=\"125.373913\"/>\n      </g>\n     </g>\n     <g id=\"text_8\">\n      <!-- 20.0 -->\n      <g transform=\"translate(302.107813 139.972351)scale(0.1 -0.1)\">\n       <use xlink:href=\"#DejaVuSans-50\"/>\n       <use x=\"63.623047\" xlink:href=\"#DejaVuSans-48\"/>\n       <use x=\"127.246094\" xlink:href=\"#DejaVuSans-46\"/>\n       <use x=\"159.033203\" xlink:href=\"#DejaVuSans-48\"/>\n      </g>\n     </g>\n    </g>\n    <g id=\"text_9\">\n     <!-- epoch -->\n     <defs>\n      <path d=\"M 56.203125 29.59375 \nL 56.203125 25.203125 \nL 14.890625 25.203125 \nQ 15.484375 15.921875 20.484375 11.0625 \nQ 25.484375 6.203125 34.421875 6.203125 \nQ 39.59375 6.203125 44.453125 7.46875 \nQ 49.3125 8.734375 54.109375 11.28125 \nL 54.109375 2.78125 \nQ 49.265625 0.734375 44.1875 -0.34375 \nQ 39.109375 -1.421875 33.890625 -1.421875 \nQ 20.796875 -1.421875 13.15625 6.1875 \nQ 5.515625 13.8125 5.515625 26.8125 \nQ 5.515625 40.234375 12.765625 48.109375 \nQ 20.015625 56 32.328125 56 \nQ 43.359375 56 49.78125 48.890625 \nQ 56.203125 41.796875 56.203125 29.59375 \nz\nM 47.21875 32.234375 \nQ 47.125 39.59375 43.09375 43.984375 \nQ 39.0625 48.390625 32.421875 48.390625 \nQ 24.90625 48.390625 20.390625 44.140625 \nQ 15.875 39.890625 15.1875 32.171875 \nz\n\" id=\"DejaVuSans-101\"/>\n      <path d=\"M 18.109375 8.203125 \nL 18.109375 -20.796875 \nL 9.078125 -20.796875 \nL 9.078125 54.6875 \nL 18.109375 54.6875 \nL 18.109375 46.390625 \nQ 20.953125 51.265625 25.265625 53.625 \nQ 29.59375 56 35.59375 56 \nQ 45.5625 56 51.78125 48.09375 \nQ 58.015625 40.1875 58.015625 27.296875 \nQ 58.015625 14.40625 51.78125 6.484375 \nQ 45.5625 -1.421875 35.59375 -1.421875 \nQ 29.59375 -1.421875 25.265625 0.953125 \nQ 20.953125 3.328125 18.109375 8.203125 \nz\nM 48.6875 27.296875 \nQ 48.6875 37.203125 44.609375 42.84375 \nQ 40.53125 48.484375 33.40625 48.484375 \nQ 26.265625 48.484375 22.1875 42.84375 \nQ 18.109375 37.203125 18.109375 27.296875 \nQ 18.109375 17.390625 22.1875 11.75 \nQ 26.265625 6.109375 33.40625 6.109375 \nQ 40.53125 6.109375 44.609375 11.75 \nQ 48.6875 17.390625 48.6875 27.296875 \nz\n\" id=\"DejaVuSans-112\"/>\n      <path d=\"M 30.609375 48.390625 \nQ 23.390625 48.390625 19.1875 42.75 \nQ 14.984375 37.109375 14.984375 27.296875 \nQ 14.984375 17.484375 19.15625 11.84375 \nQ 23.34375 6.203125 30.609375 6.203125 \nQ 37.796875 6.203125 41.984375 11.859375 \nQ 46.1875 17.53125 46.1875 27.296875 \nQ 46.1875 37.015625 41.984375 42.703125 \nQ 37.796875 48.390625 30.609375 48.390625 \nz\nM 30.609375 56 \nQ 42.328125 56 49.015625 48.375 \nQ 55.71875 40.765625 55.71875 27.296875 \nQ 55.71875 13.875 49.015625 6.21875 \nQ 42.328125 -1.421875 30.609375 -1.421875 \nQ 18.84375 -1.421875 12.171875 6.21875 \nQ 5.515625 13.875 5.515625 27.296875 \nQ 5.515625 40.765625 12.171875 48.375 \nQ 18.84375 56 30.609375 56 \nz\n\" id=\"DejaVuSans-111\"/>\n      <path d=\"M 48.78125 52.59375 \nL 48.78125 44.1875 \nQ 44.96875 46.296875 41.140625 47.34375 \nQ 37.3125 48.390625 33.40625 48.390625 \nQ 24.65625 48.390625 19.8125 42.84375 \nQ 14.984375 37.3125 14.984375 27.296875 \nQ 14.984375 17.28125 19.8125 11.734375 \nQ 24.65625 6.203125 33.40625 6.203125 \nQ 37.3125 6.203125 41.140625 7.25 \nQ 44.96875 8.296875 48.78125 10.40625 \nL 48.78125 2.09375 \nQ 45.015625 0.34375 40.984375 -0.53125 \nQ 36.96875 -1.421875 32.421875 -1.421875 \nQ 20.0625 -1.421875 12.78125 6.34375 \nQ 5.515625 14.109375 5.515625 27.296875 \nQ 5.515625 40.671875 12.859375 48.328125 \nQ 20.21875 56 33.015625 56 \nQ 37.15625 56 41.109375 55.140625 \nQ 45.0625 54.296875 48.78125 52.59375 \nz\n\" id=\"DejaVuSans-99\"/>\n      <path d=\"M 54.890625 33.015625 \nL 54.890625 0 \nL 45.90625 0 \nL 45.90625 32.71875 \nQ 45.90625 40.484375 42.875 44.328125 \nQ 39.84375 48.1875 33.796875 48.1875 \nQ 26.515625 48.1875 22.3125 43.546875 \nQ 18.109375 38.921875 18.109375 30.90625 \nL 18.109375 0 \nL 9.078125 0 \nL 9.078125 75.984375 \nL 18.109375 75.984375 \nL 18.109375 46.1875 \nQ 21.34375 51.125 25.703125 53.5625 \nQ 30.078125 56 35.796875 56 \nQ 45.21875 56 50.046875 50.171875 \nQ 54.890625 44.34375 54.890625 33.015625 \nz\n\" id=\"DejaVuSans-104\"/>\n     </defs>\n     <g transform=\"translate(158.5125 153.650476)scale(0.1 -0.1)\">\n      <use xlink:href=\"#DejaVuSans-101\"/>\n      <use x=\"61.523438\" xlink:href=\"#DejaVuSans-112\"/>\n      <use x=\"125\" xlink:href=\"#DejaVuSans-111\"/>\n      <use x=\"186.181641\" xlink:href=\"#DejaVuSans-99\"/>\n      <use x=\"241.162109\" xlink:href=\"#DejaVuSans-104\"/>\n     </g>\n    </g>\n   </g>\n   <g id=\"matplotlib.axis_2\">\n    <g id=\"ytick_1\">\n     <g id=\"line2d_17\">\n      <path clip-path=\"url(#pc0b0dca4e5)\" d=\"M 34.240625 122.646045 \nL 313.240625 122.646045 \n\" style=\"fill:none;stroke:#b0b0b0;stroke-linecap:square;stroke-width:0.8;\"/>\n     </g>\n     <g id=\"line2d_18\">\n      <defs>\n       <path d=\"M 0 0 \nL -3.5 0 \n\" id=\"mb8129bdb84\" style=\"stroke:#000000;stroke-width:0.8;\"/>\n      </defs>\n      <g>\n       <use style=\"stroke:#000000;stroke-width:0.8;\" x=\"34.240625\" xlink:href=\"#mb8129bdb84\" y=\"122.646045\"/>\n      </g>\n     </g>\n     <g id=\"text_10\">\n      <!-- 0 -->\n      <g transform=\"translate(20.878125 126.445264)scale(0.1 -0.1)\">\n       <use xlink:href=\"#DejaVuSans-48\"/>\n      </g>\n     </g>\n    </g>\n    <g id=\"ytick_2\">\n     <g id=\"line2d_19\">\n      <path clip-path=\"url(#pc0b0dca4e5)\" d=\"M 34.240625 92.532655 \nL 313.240625 92.532655 \n\" style=\"fill:none;stroke:#b0b0b0;stroke-linecap:square;stroke-width:0.8;\"/>\n     </g>\n     <g id=\"line2d_20\">\n      <g>\n       <use style=\"stroke:#000000;stroke-width:0.8;\" x=\"34.240625\" xlink:href=\"#mb8129bdb84\" y=\"92.532655\"/>\n      </g>\n     </g>\n     <g id=\"text_11\">\n      <!-- 2 -->\n      <g transform=\"translate(20.878125 96.331873)scale(0.1 -0.1)\">\n       <use xlink:href=\"#DejaVuSans-50\"/>\n      </g>\n     </g>\n    </g>\n    <g id=\"ytick_3\">\n     <g id=\"line2d_21\">\n      <path clip-path=\"url(#pc0b0dca4e5)\" d=\"M 34.240625 62.419264 \nL 313.240625 62.419264 \n\" style=\"fill:none;stroke:#b0b0b0;stroke-linecap:square;stroke-width:0.8;\"/>\n     </g>\n     <g id=\"line2d_22\">\n      <g>\n       <use style=\"stroke:#000000;stroke-width:0.8;\" x=\"34.240625\" xlink:href=\"#mb8129bdb84\" y=\"62.419264\"/>\n      </g>\n     </g>\n     <g id=\"text_12\">\n      <!-- 4 -->\n      <defs>\n       <path d=\"M 37.796875 64.3125 \nL 12.890625 25.390625 \nL 37.796875 25.390625 \nz\nM 35.203125 72.90625 \nL 47.609375 72.90625 \nL 47.609375 25.390625 \nL 58.015625 25.390625 \nL 58.015625 17.1875 \nL 47.609375 17.1875 \nL 47.609375 0 \nL 37.796875 0 \nL 37.796875 17.1875 \nL 4.890625 17.1875 \nL 4.890625 26.703125 \nz\n\" id=\"DejaVuSans-52\"/>\n      </defs>\n      <g transform=\"translate(20.878125 66.218483)scale(0.1 -0.1)\">\n       <use xlink:href=\"#DejaVuSans-52\"/>\n      </g>\n     </g>\n    </g>\n    <g id=\"ytick_4\">\n     <g id=\"line2d_23\">\n      <path clip-path=\"url(#pc0b0dca4e5)\" d=\"M 34.240625 32.305874 \nL 313.240625 32.305874 \n\" style=\"fill:none;stroke:#b0b0b0;stroke-linecap:square;stroke-width:0.8;\"/>\n     </g>\n     <g id=\"line2d_24\">\n      <g>\n       <use style=\"stroke:#000000;stroke-width:0.8;\" x=\"34.240625\" xlink:href=\"#mb8129bdb84\" y=\"32.305874\"/>\n      </g>\n     </g>\n     <g id=\"text_13\">\n      <!-- 6 -->\n      <defs>\n       <path d=\"M 33.015625 40.375 \nQ 26.375 40.375 22.484375 35.828125 \nQ 18.609375 31.296875 18.609375 23.390625 \nQ 18.609375 15.53125 22.484375 10.953125 \nQ 26.375 6.390625 33.015625 6.390625 \nQ 39.65625 6.390625 43.53125 10.953125 \nQ 47.40625 15.53125 47.40625 23.390625 \nQ 47.40625 31.296875 43.53125 35.828125 \nQ 39.65625 40.375 33.015625 40.375 \nz\nM 52.59375 71.296875 \nL 52.59375 62.3125 \nQ 48.875 64.0625 45.09375 64.984375 \nQ 41.3125 65.921875 37.59375 65.921875 \nQ 27.828125 65.921875 22.671875 59.328125 \nQ 17.53125 52.734375 16.796875 39.40625 \nQ 19.671875 43.65625 24.015625 45.921875 \nQ 28.375 48.1875 33.59375 48.1875 \nQ 44.578125 48.1875 50.953125 41.515625 \nQ 57.328125 34.859375 57.328125 23.390625 \nQ 57.328125 12.15625 50.6875 5.359375 \nQ 44.046875 -1.421875 33.015625 -1.421875 \nQ 20.359375 -1.421875 13.671875 8.265625 \nQ 6.984375 17.96875 6.984375 36.375 \nQ 6.984375 53.65625 15.1875 63.9375 \nQ 23.390625 74.21875 37.203125 74.21875 \nQ 40.921875 74.21875 44.703125 73.484375 \nQ 48.484375 72.75 52.59375 71.296875 \nz\n\" id=\"DejaVuSans-54\"/>\n      </defs>\n      <g transform=\"translate(20.878125 36.105093)scale(0.1 -0.1)\">\n       <use xlink:href=\"#DejaVuSans-54\"/>\n      </g>\n     </g>\n    </g>\n    <g id=\"text_14\">\n     <!-- loss -->\n     <defs>\n      <path d=\"M 9.421875 75.984375 \nL 18.40625 75.984375 \nL 18.40625 0 \nL 9.421875 0 \nz\n\" id=\"DejaVuSans-108\"/>\n      <path d=\"M 44.28125 53.078125 \nL 44.28125 44.578125 \nQ 40.484375 46.53125 36.375 47.5 \nQ 32.28125 48.484375 27.875 48.484375 \nQ 21.1875 48.484375 17.84375 46.4375 \nQ 14.5 44.390625 14.5 40.28125 \nQ 14.5 37.15625 16.890625 35.375 \nQ 19.28125 33.59375 26.515625 31.984375 \nL 29.59375 31.296875 \nQ 39.15625 29.25 43.1875 25.515625 \nQ 47.21875 21.78125 47.21875 15.09375 \nQ 47.21875 7.46875 41.1875 3.015625 \nQ 35.15625 -1.421875 24.609375 -1.421875 \nQ 20.21875 -1.421875 15.453125 -0.5625 \nQ 10.6875 0.296875 5.421875 2 \nL 5.421875 11.28125 \nQ 10.40625 8.6875 15.234375 7.390625 \nQ 20.0625 6.109375 24.8125 6.109375 \nQ 31.15625 6.109375 34.5625 8.28125 \nQ 37.984375 10.453125 37.984375 14.40625 \nQ 37.984375 18.0625 35.515625 20.015625 \nQ 33.0625 21.96875 24.703125 23.78125 \nL 21.578125 24.515625 \nQ 13.234375 26.265625 9.515625 29.90625 \nQ 5.8125 33.546875 5.8125 39.890625 \nQ 5.8125 47.609375 11.28125 51.796875 \nQ 16.75 56 26.8125 56 \nQ 31.78125 56 36.171875 55.265625 \nQ 40.578125 54.546875 44.28125 53.078125 \nz\n\" id=\"DejaVuSans-115\"/>\n     </defs>\n     <g transform=\"translate(14.798438 75.944769)rotate(-90)scale(0.1 -0.1)\">\n      <use xlink:href=\"#DejaVuSans-108\"/>\n      <use x=\"27.783203\" xlink:href=\"#DejaVuSans-111\"/>\n      <use x=\"88.964844\" xlink:href=\"#DejaVuSans-115\"/>\n      <use x=\"141.064453\" xlink:href=\"#DejaVuSans-115\"/>\n     </g>\n    </g>\n   </g>\n   <g id=\"line2d_25\">\n    <path clip-path=\"url(#pc0b0dca4e5)\" d=\"M 34.240625 98.002342 \nL 48.924836 115.287307 \nL 63.609046 116.416759 \nL 78.293257 117.142647 \nL 92.977467 115.287078 \nL 107.661678 119.768579 \nL 122.345888 119.83259 \nL 137.030099 117.329036 \nL 151.714309 119.329254 \nL 166.39852 119.358346 \nL 181.08273 119.418809 \nL 195.766941 119.4536 \nL 210.451151 119.569386 \nL 225.135362 119.930536 \nL 239.819572 119.841657 \nL 254.503783 119.640902 \nL 269.187993 119.892761 \nL 283.872204 120.002372 \nL 298.556414 119.840716 \nL 313.240625 119.181586 \n\" style=\"fill:none;stroke:#1f77b4;stroke-linecap:square;stroke-width:1.5;\"/>\n   </g>\n   <g id=\"line2d_26\">\n    <path clip-path=\"url(#pc0b0dca4e5)\" d=\"M 34.240625 55.119456 \nL 48.924836 112.677402 \nL 63.609046 111.604169 \nL 78.293257 103.401114 \nL 92.977467 12.571542 \nL 107.661678 67.898003 \nL 122.345888 98.667152 \nL 137.030099 105.120679 \nL 151.714309 98.13128 \nL 166.39852 98.487061 \nL 181.08273 98.661197 \nL 195.766941 97.96828 \nL 210.451151 97.475236 \nL 225.135362 96.706954 \nL 239.819572 87.124792 \nL 254.503783 86.501787 \nL 269.187993 79.004961 \nL 283.872204 77.48091 \nL 298.556414 70.020355 \nL 313.240625 99.581395 \n\" style=\"fill:none;stroke:#bf00bf;stroke-dasharray:5.55,2.4;stroke-dashoffset:0;stroke-width:1.5;\"/>\n   </g>\n   <g id=\"patch_3\">\n    <path d=\"M 34.240625 125.373913 \nL 34.240625 7.2 \n\" style=\"fill:none;stroke:#000000;stroke-linecap:square;stroke-linejoin:miter;stroke-width:0.8;\"/>\n   </g>\n   <g id=\"patch_4\">\n    <path d=\"M 313.240625 125.373913 \nL 313.240625 7.2 \n\" style=\"fill:none;stroke:#000000;stroke-linecap:square;stroke-linejoin:miter;stroke-width:0.8;\"/>\n   </g>\n   <g id=\"patch_5\">\n    <path d=\"M 34.240625 125.373913 \nL 313.240625 125.373913 \n\" style=\"fill:none;stroke:#000000;stroke-linecap:square;stroke-linejoin:miter;stroke-width:0.8;\"/>\n   </g>\n   <g id=\"patch_6\">\n    <path d=\"M 34.240625 7.2 \nL 313.240625 7.2 \n\" style=\"fill:none;stroke:#000000;stroke-linecap:square;stroke-linejoin:miter;stroke-width:0.8;\"/>\n   </g>\n   <g id=\"legend_1\">\n    <g id=\"patch_7\">\n     <path d=\"M 208.382812 44.55625 \nL 306.240625 44.55625 \nQ 308.240625 44.55625 308.240625 42.55625 \nL 308.240625 14.2 \nQ 308.240625 12.2 306.240625 12.2 \nL 208.382812 12.2 \nQ 206.382812 12.2 206.382812 14.2 \nL 206.382812 42.55625 \nQ 206.382812 44.55625 208.382812 44.55625 \nz\n\" style=\"fill:#ffffff;opacity:0.8;stroke:#cccccc;stroke-linejoin:miter;\"/>\n    </g>\n    <g id=\"line2d_27\">\n     <path d=\"M 210.382812 20.298437 \nL 230.382812 20.298437 \n\" style=\"fill:none;stroke:#1f77b4;stroke-linecap:square;stroke-width:1.5;\"/>\n    </g>\n    <g id=\"line2d_28\"/>\n    <g id=\"text_15\">\n     <!-- discriminator -->\n     <defs>\n      <path d=\"M 45.40625 46.390625 \nL 45.40625 75.984375 \nL 54.390625 75.984375 \nL 54.390625 0 \nL 45.40625 0 \nL 45.40625 8.203125 \nQ 42.578125 3.328125 38.25 0.953125 \nQ 33.9375 -1.421875 27.875 -1.421875 \nQ 17.96875 -1.421875 11.734375 6.484375 \nQ 5.515625 14.40625 5.515625 27.296875 \nQ 5.515625 40.1875 11.734375 48.09375 \nQ 17.96875 56 27.875 56 \nQ 33.9375 56 38.25 53.625 \nQ 42.578125 51.265625 45.40625 46.390625 \nz\nM 14.796875 27.296875 \nQ 14.796875 17.390625 18.875 11.75 \nQ 22.953125 6.109375 30.078125 6.109375 \nQ 37.203125 6.109375 41.296875 11.75 \nQ 45.40625 17.390625 45.40625 27.296875 \nQ 45.40625 37.203125 41.296875 42.84375 \nQ 37.203125 48.484375 30.078125 48.484375 \nQ 22.953125 48.484375 18.875 42.84375 \nQ 14.796875 37.203125 14.796875 27.296875 \nz\n\" id=\"DejaVuSans-100\"/>\n      <path d=\"M 9.421875 54.6875 \nL 18.40625 54.6875 \nL 18.40625 0 \nL 9.421875 0 \nz\nM 9.421875 75.984375 \nL 18.40625 75.984375 \nL 18.40625 64.59375 \nL 9.421875 64.59375 \nz\n\" id=\"DejaVuSans-105\"/>\n      <path d=\"M 41.109375 46.296875 \nQ 39.59375 47.171875 37.8125 47.578125 \nQ 36.03125 48 33.890625 48 \nQ 26.265625 48 22.1875 43.046875 \nQ 18.109375 38.09375 18.109375 28.8125 \nL 18.109375 0 \nL 9.078125 0 \nL 9.078125 54.6875 \nL 18.109375 54.6875 \nL 18.109375 46.1875 \nQ 20.953125 51.171875 25.484375 53.578125 \nQ 30.03125 56 36.53125 56 \nQ 37.453125 56 38.578125 55.875 \nQ 39.703125 55.765625 41.0625 55.515625 \nz\n\" id=\"DejaVuSans-114\"/>\n      <path d=\"M 52 44.1875 \nQ 55.375 50.25 60.0625 53.125 \nQ 64.75 56 71.09375 56 \nQ 79.640625 56 84.28125 50.015625 \nQ 88.921875 44.046875 88.921875 33.015625 \nL 88.921875 0 \nL 79.890625 0 \nL 79.890625 32.71875 \nQ 79.890625 40.578125 77.09375 44.375 \nQ 74.3125 48.1875 68.609375 48.1875 \nQ 61.625 48.1875 57.5625 43.546875 \nQ 53.515625 38.921875 53.515625 30.90625 \nL 53.515625 0 \nL 44.484375 0 \nL 44.484375 32.71875 \nQ 44.484375 40.625 41.703125 44.40625 \nQ 38.921875 48.1875 33.109375 48.1875 \nQ 26.21875 48.1875 22.15625 43.53125 \nQ 18.109375 38.875 18.109375 30.90625 \nL 18.109375 0 \nL 9.078125 0 \nL 9.078125 54.6875 \nL 18.109375 54.6875 \nL 18.109375 46.1875 \nQ 21.1875 51.21875 25.484375 53.609375 \nQ 29.78125 56 35.6875 56 \nQ 41.65625 56 45.828125 52.96875 \nQ 50 49.953125 52 44.1875 \nz\n\" id=\"DejaVuSans-109\"/>\n      <path d=\"M 54.890625 33.015625 \nL 54.890625 0 \nL 45.90625 0 \nL 45.90625 32.71875 \nQ 45.90625 40.484375 42.875 44.328125 \nQ 39.84375 48.1875 33.796875 48.1875 \nQ 26.515625 48.1875 22.3125 43.546875 \nQ 18.109375 38.921875 18.109375 30.90625 \nL 18.109375 0 \nL 9.078125 0 \nL 9.078125 54.6875 \nL 18.109375 54.6875 \nL 18.109375 46.1875 \nQ 21.34375 51.125 25.703125 53.5625 \nQ 30.078125 56 35.796875 56 \nQ 45.21875 56 50.046875 50.171875 \nQ 54.890625 44.34375 54.890625 33.015625 \nz\n\" id=\"DejaVuSans-110\"/>\n      <path d=\"M 34.28125 27.484375 \nQ 23.390625 27.484375 19.1875 25 \nQ 14.984375 22.515625 14.984375 16.5 \nQ 14.984375 11.71875 18.140625 8.90625 \nQ 21.296875 6.109375 26.703125 6.109375 \nQ 34.1875 6.109375 38.703125 11.40625 \nQ 43.21875 16.703125 43.21875 25.484375 \nL 43.21875 27.484375 \nz\nM 52.203125 31.203125 \nL 52.203125 0 \nL 43.21875 0 \nL 43.21875 8.296875 \nQ 40.140625 3.328125 35.546875 0.953125 \nQ 30.953125 -1.421875 24.3125 -1.421875 \nQ 15.921875 -1.421875 10.953125 3.296875 \nQ 6 8.015625 6 15.921875 \nQ 6 25.140625 12.171875 29.828125 \nQ 18.359375 34.515625 30.609375 34.515625 \nL 43.21875 34.515625 \nL 43.21875 35.40625 \nQ 43.21875 41.609375 39.140625 45 \nQ 35.0625 48.390625 27.6875 48.390625 \nQ 23 48.390625 18.546875 47.265625 \nQ 14.109375 46.140625 10.015625 43.890625 \nL 10.015625 52.203125 \nQ 14.9375 54.109375 19.578125 55.046875 \nQ 24.21875 56 28.609375 56 \nQ 40.484375 56 46.34375 49.84375 \nQ 52.203125 43.703125 52.203125 31.203125 \nz\n\" id=\"DejaVuSans-97\"/>\n      <path d=\"M 18.3125 70.21875 \nL 18.3125 54.6875 \nL 36.8125 54.6875 \nL 36.8125 47.703125 \nL 18.3125 47.703125 \nL 18.3125 18.015625 \nQ 18.3125 11.328125 20.140625 9.421875 \nQ 21.96875 7.515625 27.59375 7.515625 \nL 36.8125 7.515625 \nL 36.8125 0 \nL 27.59375 0 \nQ 17.1875 0 13.234375 3.875 \nQ 9.28125 7.765625 9.28125 18.015625 \nL 9.28125 47.703125 \nL 2.6875 47.703125 \nL 2.6875 54.6875 \nL 9.28125 54.6875 \nL 9.28125 70.21875 \nz\n\" id=\"DejaVuSans-116\"/>\n     </defs>\n     <g transform=\"translate(238.382812 23.798437)scale(0.1 -0.1)\">\n      <use xlink:href=\"#DejaVuSans-100\"/>\n      <use x=\"63.476562\" xlink:href=\"#DejaVuSans-105\"/>\n      <use x=\"91.259766\" xlink:href=\"#DejaVuSans-115\"/>\n      <use x=\"143.359375\" xlink:href=\"#DejaVuSans-99\"/>\n      <use x=\"198.339844\" xlink:href=\"#DejaVuSans-114\"/>\n      <use x=\"239.453125\" xlink:href=\"#DejaVuSans-105\"/>\n      <use x=\"267.236328\" xlink:href=\"#DejaVuSans-109\"/>\n      <use x=\"364.648438\" xlink:href=\"#DejaVuSans-105\"/>\n      <use x=\"392.431641\" xlink:href=\"#DejaVuSans-110\"/>\n      <use x=\"455.810547\" xlink:href=\"#DejaVuSans-97\"/>\n      <use x=\"517.089844\" xlink:href=\"#DejaVuSans-116\"/>\n      <use x=\"556.298828\" xlink:href=\"#DejaVuSans-111\"/>\n      <use x=\"617.480469\" xlink:href=\"#DejaVuSans-114\"/>\n     </g>\n    </g>\n    <g id=\"line2d_29\">\n     <path d=\"M 210.382812 34.976562 \nL 230.382812 34.976562 \n\" style=\"fill:none;stroke:#bf00bf;stroke-dasharray:5.55,2.4;stroke-dashoffset:0;stroke-width:1.5;\"/>\n    </g>\n    <g id=\"line2d_30\"/>\n    <g id=\"text_16\">\n     <!-- generator -->\n     <defs>\n      <path d=\"M 45.40625 27.984375 \nQ 45.40625 37.75 41.375 43.109375 \nQ 37.359375 48.484375 30.078125 48.484375 \nQ 22.859375 48.484375 18.828125 43.109375 \nQ 14.796875 37.75 14.796875 27.984375 \nQ 14.796875 18.265625 18.828125 12.890625 \nQ 22.859375 7.515625 30.078125 7.515625 \nQ 37.359375 7.515625 41.375 12.890625 \nQ 45.40625 18.265625 45.40625 27.984375 \nz\nM 54.390625 6.78125 \nQ 54.390625 -7.171875 48.1875 -13.984375 \nQ 42 -20.796875 29.203125 -20.796875 \nQ 24.46875 -20.796875 20.265625 -20.09375 \nQ 16.0625 -19.390625 12.109375 -17.921875 \nL 12.109375 -9.1875 \nQ 16.0625 -11.328125 19.921875 -12.34375 \nQ 23.78125 -13.375 27.78125 -13.375 \nQ 36.625 -13.375 41.015625 -8.765625 \nQ 45.40625 -4.15625 45.40625 5.171875 \nL 45.40625 9.625 \nQ 42.625 4.78125 38.28125 2.390625 \nQ 33.9375 0 27.875 0 \nQ 17.828125 0 11.671875 7.65625 \nQ 5.515625 15.328125 5.515625 27.984375 \nQ 5.515625 40.671875 11.671875 48.328125 \nQ 17.828125 56 27.875 56 \nQ 33.9375 56 38.28125 53.609375 \nQ 42.625 51.21875 45.40625 46.390625 \nL 45.40625 54.6875 \nL 54.390625 54.6875 \nz\n\" id=\"DejaVuSans-103\"/>\n     </defs>\n     <g transform=\"translate(238.382812 38.476562)scale(0.1 -0.1)\">\n      <use xlink:href=\"#DejaVuSans-103\"/>\n      <use x=\"63.476562\" xlink:href=\"#DejaVuSans-101\"/>\n      <use x=\"125\" xlink:href=\"#DejaVuSans-110\"/>\n      <use x=\"188.378906\" xlink:href=\"#DejaVuSans-101\"/>\n      <use x=\"249.902344\" xlink:href=\"#DejaVuSans-114\"/>\n      <use x=\"291.015625\" xlink:href=\"#DejaVuSans-97\"/>\n      <use x=\"352.294922\" xlink:href=\"#DejaVuSans-116\"/>\n      <use x=\"391.503906\" xlink:href=\"#DejaVuSans-111\"/>\n      <use x=\"452.685547\" xlink:href=\"#DejaVuSans-114\"/>\n     </g>\n    </g>\n   </g>\n  </g>\n  <g id=\"axes_2\">\n   <g id=\"patch_8\">\n    <path d=\"M 34.240625 279 \nL 313.240625 279 \nL 313.240625 160.826087 \nL 34.240625 160.826087 \nz\n\" style=\"fill:#ffffff;\"/>\n   </g>\n   <g id=\"PathCollection_1\">\n    <defs>\n     <path d=\"M 0 3 \nC 0.795609 3 1.55874 2.683901 2.12132 2.12132 \nC 2.683901 1.55874 3 0.795609 3 0 \nC 3 -0.795609 2.683901 -1.55874 2.12132 -2.12132 \nC 1.55874 -2.683901 0.795609 -3 0 -3 \nC -0.795609 -3 -1.55874 -2.683901 -2.12132 -2.12132 \nC -2.683901 -1.55874 -3 -0.795609 -3 0 \nC -3 0.795609 -2.683901 1.55874 -2.12132 2.12132 \nC -1.55874 2.683901 -0.795609 3 0 3 \nz\n\" id=\"m11ac3e3bd4\" style=\"stroke:#1f77b4;\"/>\n    </defs>\n    <g clip-path=\"url(#p2f5fb8302a)\">\n     <use style=\"fill:#1f77b4;stroke:#1f77b4;\" x=\"195.877676\" xlink:href=\"#m11ac3e3bd4\" y=\"221.074957\"/>\n     <use style=\"fill:#1f77b4;stroke:#1f77b4;\" x=\"200.14229\" xlink:href=\"#m11ac3e3bd4\" y=\"230.094984\"/>\n     <use style=\"fill:#1f77b4;stroke:#1f77b4;\" x=\"170.396825\" xlink:href=\"#m11ac3e3bd4\" y=\"235.919553\"/>\n     <use style=\"fill:#1f77b4;stroke:#1f77b4;\" x=\"190.023775\" xlink:href=\"#m11ac3e3bd4\" y=\"216.351402\"/>\n     <use style=\"fill:#1f77b4;stroke:#1f77b4;\" x=\"238.949384\" xlink:href=\"#m11ac3e3bd4\" y=\"194.210825\"/>\n     <use style=\"fill:#1f77b4;stroke:#1f77b4;\" x=\"190.560477\" xlink:href=\"#m11ac3e3bd4\" y=\"234.806919\"/>\n     <use style=\"fill:#1f77b4;stroke:#1f77b4;\" x=\"172.891072\" xlink:href=\"#m11ac3e3bd4\" y=\"241.350796\"/>\n     <use style=\"fill:#1f77b4;stroke:#1f77b4;\" x=\"193.987223\" xlink:href=\"#m11ac3e3bd4\" y=\"221.196486\"/>\n     <use style=\"fill:#1f77b4;stroke:#1f77b4;\" x=\"116.04019\" xlink:href=\"#m11ac3e3bd4\" y=\"273.628458\"/>\n     <use style=\"fill:#1f77b4;stroke:#1f77b4;\" x=\"188.440674\" xlink:href=\"#m11ac3e3bd4\" y=\"231.983528\"/>\n     <use style=\"fill:#1f77b4;stroke:#1f77b4;\" x=\"203.5415\" xlink:href=\"#m11ac3e3bd4\" y=\"223.062793\"/>\n     <use style=\"fill:#1f77b4;stroke:#1f77b4;\" x=\"197.435545\" xlink:href=\"#m11ac3e3bd4\" y=\"225.136911\"/>\n     <use style=\"fill:#1f77b4;stroke:#1f77b4;\" x=\"200.376551\" xlink:href=\"#m11ac3e3bd4\" y=\"219.151837\"/>\n     <use style=\"fill:#1f77b4;stroke:#1f77b4;\" x=\"139.294612\" xlink:href=\"#m11ac3e3bd4\" y=\"261.354509\"/>\n     <use style=\"fill:#1f77b4;stroke:#1f77b4;\" x=\"156.468612\" xlink:href=\"#m11ac3e3bd4\" y=\"244.649822\"/>\n     <use style=\"fill:#1f77b4;stroke:#1f77b4;\" x=\"162.762894\" xlink:href=\"#m11ac3e3bd4\" y=\"240.040637\"/>\n     <use style=\"fill:#1f77b4;stroke:#1f77b4;\" x=\"160.979202\" xlink:href=\"#m11ac3e3bd4\" y=\"242.776054\"/>\n     <use style=\"fill:#1f77b4;stroke:#1f77b4;\" x=\"174.385825\" xlink:href=\"#m11ac3e3bd4\" y=\"228.902458\"/>\n     <use style=\"fill:#1f77b4;stroke:#1f77b4;\" x=\"238.803047\" xlink:href=\"#m11ac3e3bd4\" y=\"203.385983\"/>\n     <use style=\"fill:#1f77b4;stroke:#1f77b4;\" x=\"141.879022\" xlink:href=\"#m11ac3e3bd4\" y=\"253.263547\"/>\n     <use style=\"fill:#1f77b4;stroke:#1f77b4;\" x=\"193.381976\" xlink:href=\"#m11ac3e3bd4\" y=\"227.450702\"/>\n     <use style=\"fill:#1f77b4;stroke:#1f77b4;\" x=\"167.87713\" xlink:href=\"#m11ac3e3bd4\" y=\"228.043543\"/>\n     <use style=\"fill:#1f77b4;stroke:#1f77b4;\" x=\"275.495419\" xlink:href=\"#m11ac3e3bd4\" y=\"174.779526\"/>\n     <use style=\"fill:#1f77b4;stroke:#1f77b4;\" x=\"205.800821\" xlink:href=\"#m11ac3e3bd4\" y=\"221.763214\"/>\n     <use style=\"fill:#1f77b4;stroke:#1f77b4;\" x=\"213.245909\" xlink:href=\"#m11ac3e3bd4\" y=\"213.650521\"/>\n     <use style=\"fill:#1f77b4;stroke:#1f77b4;\" x=\"163.13726\" xlink:href=\"#m11ac3e3bd4\" y=\"246.836471\"/>\n     <use style=\"fill:#1f77b4;stroke:#1f77b4;\" x=\"261.27616\" xlink:href=\"#m11ac3e3bd4\" y=\"185.557755\"/>\n     <use style=\"fill:#1f77b4;stroke:#1f77b4;\" x=\"224.973767\" xlink:href=\"#m11ac3e3bd4\" y=\"213.969933\"/>\n     <use style=\"fill:#1f77b4;stroke:#1f77b4;\" x=\"179.53565\" xlink:href=\"#m11ac3e3bd4\" y=\"234.130259\"/>\n     <use style=\"fill:#1f77b4;stroke:#1f77b4;\" x=\"297.789985\" xlink:href=\"#m11ac3e3bd4\" y=\"166.197628\"/>\n     <use style=\"fill:#1f77b4;stroke:#1f77b4;\" x=\"226.56198\" xlink:href=\"#m11ac3e3bd4\" y=\"211.324826\"/>\n     <use style=\"fill:#1f77b4;stroke:#1f77b4;\" x=\"260.206347\" xlink:href=\"#m11ac3e3bd4\" y=\"186.471839\"/>\n     <use style=\"fill:#1f77b4;stroke:#1f77b4;\" x=\"145.859533\" xlink:href=\"#m11ac3e3bd4\" y=\"251.762496\"/>\n     <use style=\"fill:#1f77b4;stroke:#1f77b4;\" x=\"192.574046\" xlink:href=\"#m11ac3e3bd4\" y=\"214.597607\"/>\n     <use style=\"fill:#1f77b4;stroke:#1f77b4;\" x=\"243.354679\" xlink:href=\"#m11ac3e3bd4\" y=\"196.207947\"/>\n     <use style=\"fill:#1f77b4;stroke:#1f77b4;\" x=\"206.210722\" xlink:href=\"#m11ac3e3bd4\" y=\"212.688259\"/>\n     <use style=\"fill:#1f77b4;stroke:#1f77b4;\" x=\"158.97706\" xlink:href=\"#m11ac3e3bd4\" y=\"245.194964\"/>\n     <use style=\"fill:#1f77b4;stroke:#1f77b4;\" x=\"139.571674\" xlink:href=\"#m11ac3e3bd4\" y=\"247.944999\"/>\n     <use style=\"fill:#1f77b4;stroke:#1f77b4;\" x=\"193.503437\" xlink:href=\"#m11ac3e3bd4\" y=\"229.071874\"/>\n     <use style=\"fill:#1f77b4;stroke:#1f77b4;\" x=\"251.816758\" xlink:href=\"#m11ac3e3bd4\" y=\"186.678699\"/>\n     <use style=\"fill:#1f77b4;stroke:#1f77b4;\" x=\"164.331707\" xlink:href=\"#m11ac3e3bd4\" y=\"234.37079\"/>\n     <use style=\"fill:#1f77b4;stroke:#1f77b4;\" x=\"199.29333\" xlink:href=\"#m11ac3e3bd4\" y=\"226.9445\"/>\n     <use style=\"fill:#1f77b4;stroke:#1f77b4;\" x=\"218.826459\" xlink:href=\"#m11ac3e3bd4\" y=\"214.354039\"/>\n     <use style=\"fill:#1f77b4;stroke:#1f77b4;\" x=\"201.343121\" xlink:href=\"#m11ac3e3bd4\" y=\"221.853475\"/>\n     <use style=\"fill:#1f77b4;stroke:#1f77b4;\" x=\"173.134214\" xlink:href=\"#m11ac3e3bd4\" y=\"233.854279\"/>\n     <use style=\"fill:#1f77b4;stroke:#1f77b4;\" x=\"202.116758\" xlink:href=\"#m11ac3e3bd4\" y=\"212.898942\"/>\n     <use style=\"fill:#1f77b4;stroke:#1f77b4;\" x=\"156.912869\" xlink:href=\"#m11ac3e3bd4\" y=\"244.273092\"/>\n     <use style=\"fill:#1f77b4;stroke:#1f77b4;\" x=\"222.658775\" xlink:href=\"#m11ac3e3bd4\" y=\"208.726348\"/>\n     <use style=\"fill:#1f77b4;stroke:#1f77b4;\" x=\"155.980248\" xlink:href=\"#m11ac3e3bd4\" y=\"255.224806\"/>\n     <use style=\"fill:#1f77b4;stroke:#1f77b4;\" x=\"208.236085\" xlink:href=\"#m11ac3e3bd4\" y=\"226.061169\"/>\n     <use style=\"fill:#1f77b4;stroke:#1f77b4;\" x=\"185.684802\" xlink:href=\"#m11ac3e3bd4\" y=\"229.318343\"/>\n     <use style=\"fill:#1f77b4;stroke:#1f77b4;\" x=\"214.918942\" xlink:href=\"#m11ac3e3bd4\" y=\"216.356472\"/>\n     <use style=\"fill:#1f77b4;stroke:#1f77b4;\" x=\"232.445744\" xlink:href=\"#m11ac3e3bd4\" y=\"201.366065\"/>\n     <use style=\"fill:#1f77b4;stroke:#1f77b4;\" x=\"176.565524\" xlink:href=\"#m11ac3e3bd4\" y=\"227.589055\"/>\n     <use style=\"fill:#1f77b4;stroke:#1f77b4;\" x=\"187.383845\" xlink:href=\"#m11ac3e3bd4\" y=\"226.578781\"/>\n     <use style=\"fill:#1f77b4;stroke:#1f77b4;\" x=\"221.863803\" xlink:href=\"#m11ac3e3bd4\" y=\"219.585142\"/>\n     <use style=\"fill:#1f77b4;stroke:#1f77b4;\" x=\"218.899694\" xlink:href=\"#m11ac3e3bd4\" y=\"203.840812\"/>\n     <use style=\"fill:#1f77b4;stroke:#1f77b4;\" x=\"216.64547\" xlink:href=\"#m11ac3e3bd4\" y=\"206.2001\"/>\n     <use style=\"fill:#1f77b4;stroke:#1f77b4;\" x=\"219.131317\" xlink:href=\"#m11ac3e3bd4\" y=\"206.585133\"/>\n     <use style=\"fill:#1f77b4;stroke:#1f77b4;\" x=\"246.710844\" xlink:href=\"#m11ac3e3bd4\" y=\"195.204583\"/>\n     <use style=\"fill:#1f77b4;stroke:#1f77b4;\" x=\"259.957085\" xlink:href=\"#m11ac3e3bd4\" y=\"196.058077\"/>\n     <use style=\"fill:#1f77b4;stroke:#1f77b4;\" x=\"161.125113\" xlink:href=\"#m11ac3e3bd4\" y=\"227.506548\"/>\n     <use style=\"fill:#1f77b4;stroke:#1f77b4;\" x=\"228.391642\" xlink:href=\"#m11ac3e3bd4\" y=\"204.047195\"/>\n     <use style=\"fill:#1f77b4;stroke:#1f77b4;\" x=\"171.864141\" xlink:href=\"#m11ac3e3bd4\" y=\"222.443841\"/>\n     <use style=\"fill:#1f77b4;stroke:#1f77b4;\" x=\"135.403398\" xlink:href=\"#m11ac3e3bd4\" y=\"246.788908\"/>\n     <use style=\"fill:#1f77b4;stroke:#1f77b4;\" x=\"144.041464\" xlink:href=\"#m11ac3e3bd4\" y=\"254.735069\"/>\n     <use style=\"fill:#1f77b4;stroke:#1f77b4;\" x=\"163.229243\" xlink:href=\"#m11ac3e3bd4\" y=\"225.98633\"/>\n     <use style=\"fill:#1f77b4;stroke:#1f77b4;\" x=\"183.857221\" xlink:href=\"#m11ac3e3bd4\" y=\"230.838226\"/>\n     <use style=\"fill:#1f77b4;stroke:#1f77b4;\" x=\"201.82991\" xlink:href=\"#m11ac3e3bd4\" y=\"216.372346\"/>\n     <use style=\"fill:#1f77b4;stroke:#1f77b4;\" x=\"241.730576\" xlink:href=\"#m11ac3e3bd4\" y=\"201.353564\"/>\n     <use style=\"fill:#1f77b4;stroke:#1f77b4;\" x=\"155.475591\" xlink:href=\"#m11ac3e3bd4\" y=\"250.734579\"/>\n     <use style=\"fill:#1f77b4;stroke:#1f77b4;\" x=\"221.590756\" xlink:href=\"#m11ac3e3bd4\" y=\"214.556643\"/>\n     <use style=\"fill:#1f77b4;stroke:#1f77b4;\" x=\"221.910504\" xlink:href=\"#m11ac3e3bd4\" y=\"191.418587\"/>\n     <use style=\"fill:#1f77b4;stroke:#1f77b4;\" x=\"179.431855\" xlink:href=\"#m11ac3e3bd4\" y=\"223.03586\"/>\n     <use style=\"fill:#1f77b4;stroke:#1f77b4;\" x=\"158.60906\" xlink:href=\"#m11ac3e3bd4\" y=\"237.346265\"/>\n     <use style=\"fill:#1f77b4;stroke:#1f77b4;\" x=\"151.834538\" xlink:href=\"#m11ac3e3bd4\" y=\"247.24068\"/>\n     <use style=\"fill:#1f77b4;stroke:#1f77b4;\" x=\"206.029114\" xlink:href=\"#m11ac3e3bd4\" y=\"215.179076\"/>\n     <use style=\"fill:#1f77b4;stroke:#1f77b4;\" x=\"232.694872\" xlink:href=\"#m11ac3e3bd4\" y=\"205.068635\"/>\n     <use style=\"fill:#1f77b4;stroke:#1f77b4;\" x=\"196.906105\" xlink:href=\"#m11ac3e3bd4\" y=\"220.646\"/>\n     <use style=\"fill:#1f77b4;stroke:#1f77b4;\" x=\"209.119467\" xlink:href=\"#m11ac3e3bd4\" y=\"213.411098\"/>\n     <use style=\"fill:#1f77b4;stroke:#1f77b4;\" x=\"204.431383\" xlink:href=\"#m11ac3e3bd4\" y=\"215.307389\"/>\n     <use style=\"fill:#1f77b4;stroke:#1f77b4;\" x=\"184.468919\" xlink:href=\"#m11ac3e3bd4\" y=\"235.840767\"/>\n     <use style=\"fill:#1f77b4;stroke:#1f77b4;\" x=\"197.138935\" xlink:href=\"#m11ac3e3bd4\" y=\"213.422588\"/>\n     <use style=\"fill:#1f77b4;stroke:#1f77b4;\" x=\"212.160909\" xlink:href=\"#m11ac3e3bd4\" y=\"220.998708\"/>\n     <use style=\"fill:#1f77b4;stroke:#1f77b4;\" x=\"243.799283\" xlink:href=\"#m11ac3e3bd4\" y=\"203.282433\"/>\n     <use style=\"fill:#1f77b4;stroke:#1f77b4;\" x=\"256.637145\" xlink:href=\"#m11ac3e3bd4\" y=\"171.653244\"/>\n     <use style=\"fill:#1f77b4;stroke:#1f77b4;\" x=\"284.431046\" xlink:href=\"#m11ac3e3bd4\" y=\"176.92079\"/>\n     <use style=\"fill:#1f77b4;stroke:#1f77b4;\" x=\"202.001858\" xlink:href=\"#m11ac3e3bd4\" y=\"216.541844\"/>\n     <use style=\"fill:#1f77b4;stroke:#1f77b4;\" x=\"223.70299\" xlink:href=\"#m11ac3e3bd4\" y=\"210.081751\"/>\n     <use style=\"fill:#1f77b4;stroke:#1f77b4;\" x=\"235.645112\" xlink:href=\"#m11ac3e3bd4\" y=\"216.273082\"/>\n     <use style=\"fill:#1f77b4;stroke:#1f77b4;\" x=\"168.266735\" xlink:href=\"#m11ac3e3bd4\" y=\"235.647232\"/>\n     <use style=\"fill:#1f77b4;stroke:#1f77b4;\" x=\"196.657908\" xlink:href=\"#m11ac3e3bd4\" y=\"215.896385\"/>\n     <use style=\"fill:#1f77b4;stroke:#1f77b4;\" x=\"174.576248\" xlink:href=\"#m11ac3e3bd4\" y=\"232.739014\"/>\n     <use style=\"fill:#1f77b4;stroke:#1f77b4;\" x=\"218.196804\" xlink:href=\"#m11ac3e3bd4\" y=\"215.322833\"/>\n     <use style=\"fill:#1f77b4;stroke:#1f77b4;\" x=\"129.924191\" xlink:href=\"#m11ac3e3bd4\" y=\"259.030589\"/>\n     <use style=\"fill:#1f77b4;stroke:#1f77b4;\" x=\"214.980858\" xlink:href=\"#m11ac3e3bd4\" y=\"216.787776\"/>\n     <use style=\"fill:#1f77b4;stroke:#1f77b4;\" x=\"194.725917\" xlink:href=\"#m11ac3e3bd4\" y=\"227.236572\"/>\n     <use style=\"fill:#1f77b4;stroke:#1f77b4;\" x=\"178.524408\" xlink:href=\"#m11ac3e3bd4\" y=\"241.318268\"/>\n     <use style=\"fill:#1f77b4;stroke:#1f77b4;\" x=\"187.278277\" xlink:href=\"#m11ac3e3bd4\" y=\"225.303237\"/>\n     <use style=\"fill:#1f77b4;stroke:#1f77b4;\" x=\"202.441973\" xlink:href=\"#m11ac3e3bd4\" y=\"221.033345\"/>\n    </g>\n   </g>\n   <g id=\"PathCollection_2\">\n    <defs>\n     <path d=\"M 0 3 \nC 0.795609 3 1.55874 2.683901 2.12132 2.12132 \nC 2.683901 1.55874 3 0.795609 3 0 \nC 3 -0.795609 2.683901 -1.55874 2.12132 -2.12132 \nC 1.55874 -2.683901 0.795609 -3 0 -3 \nC -0.795609 -3 -1.55874 -2.683901 -2.12132 -2.12132 \nC -2.683901 -1.55874 -3 -0.795609 -3 0 \nC -3 0.795609 -2.683901 1.55874 -2.12132 2.12132 \nC -1.55874 2.683901 -0.795609 3 0 3 \nz\n\" id=\"m1c662bf42f\" style=\"stroke:#ff7f0e;\"/>\n    </defs>\n    <g clip-path=\"url(#p2f5fb8302a)\">\n     <use style=\"fill:#ff7f0e;stroke:#ff7f0e;\" x=\"161.63138\" xlink:href=\"#m1c662bf42f\" y=\"248.229482\"/>\n     <use style=\"fill:#ff7f0e;stroke:#ff7f0e;\" x=\"137.649566\" xlink:href=\"#m1c662bf42f\" y=\"251.467583\"/>\n     <use style=\"fill:#ff7f0e;stroke:#ff7f0e;\" x=\"254.499631\" xlink:href=\"#m1c662bf42f\" y=\"240.084941\"/>\n     <use style=\"fill:#ff7f0e;stroke:#ff7f0e;\" x=\"113.074125\" xlink:href=\"#m1c662bf42f\" y=\"255.069693\"/>\n     <use style=\"fill:#ff7f0e;stroke:#ff7f0e;\" x=\"241.996672\" xlink:href=\"#m1c662bf42f\" y=\"243.106217\"/>\n     <use style=\"fill:#ff7f0e;stroke:#ff7f0e;\" x=\"90.832919\" xlink:href=\"#m1c662bf42f\" y=\"259.262089\"/>\n     <use style=\"fill:#ff7f0e;stroke:#ff7f0e;\" x=\"55.556071\" xlink:href=\"#m1c662bf42f\" y=\"257.23752\"/>\n     <use style=\"fill:#ff7f0e;stroke:#ff7f0e;\" x=\"194.480886\" xlink:href=\"#m1c662bf42f\" y=\"245.156455\"/>\n     <use style=\"fill:#ff7f0e;stroke:#ff7f0e;\" x=\"239.377083\" xlink:href=\"#m1c662bf42f\" y=\"238.346657\"/>\n     <use style=\"fill:#ff7f0e;stroke:#ff7f0e;\" x=\"190.27003\" xlink:href=\"#m1c662bf42f\" y=\"242.645909\"/>\n     <use style=\"fill:#ff7f0e;stroke:#ff7f0e;\" x=\"230.096977\" xlink:href=\"#m1c662bf42f\" y=\"241.732667\"/>\n     <use style=\"fill:#ff7f0e;stroke:#ff7f0e;\" x=\"266.266693\" xlink:href=\"#m1c662bf42f\" y=\"239.881484\"/>\n     <use style=\"fill:#ff7f0e;stroke:#ff7f0e;\" x=\"133.343374\" xlink:href=\"#m1c662bf42f\" y=\"251.783153\"/>\n     <use style=\"fill:#ff7f0e;stroke:#ff7f0e;\" x=\"127.534008\" xlink:href=\"#m1c662bf42f\" y=\"251.876711\"/>\n     <use style=\"fill:#ff7f0e;stroke:#ff7f0e;\" x=\"123.248489\" xlink:href=\"#m1c662bf42f\" y=\"257.291633\"/>\n     <use style=\"fill:#ff7f0e;stroke:#ff7f0e;\" x=\"264.837387\" xlink:href=\"#m1c662bf42f\" y=\"242.155945\"/>\n     <use style=\"fill:#ff7f0e;stroke:#ff7f0e;\" x=\"96.608598\" xlink:href=\"#m1c662bf42f\" y=\"253.008579\"/>\n     <use style=\"fill:#ff7f0e;stroke:#ff7f0e;\" x=\"180.552822\" xlink:href=\"#m1c662bf42f\" y=\"249.693507\"/>\n     <use style=\"fill:#ff7f0e;stroke:#ff7f0e;\" x=\"246.238385\" xlink:href=\"#m1c662bf42f\" y=\"241.981418\"/>\n     <use style=\"fill:#ff7f0e;stroke:#ff7f0e;\" x=\"182.436999\" xlink:href=\"#m1c662bf42f\" y=\"247.063701\"/>\n     <use style=\"fill:#ff7f0e;stroke:#ff7f0e;\" x=\"192.943235\" xlink:href=\"#m1c662bf42f\" y=\"248.535562\"/>\n     <use style=\"fill:#ff7f0e;stroke:#ff7f0e;\" x=\"253.085353\" xlink:href=\"#m1c662bf42f\" y=\"240.342734\"/>\n     <use style=\"fill:#ff7f0e;stroke:#ff7f0e;\" x=\"170.412284\" xlink:href=\"#m1c662bf42f\" y=\"245.498929\"/>\n     <use style=\"fill:#ff7f0e;stroke:#ff7f0e;\" x=\"58.233683\" xlink:href=\"#m1c662bf42f\" y=\"259.587285\"/>\n     <use style=\"fill:#ff7f0e;stroke:#ff7f0e;\" x=\"78.541514\" xlink:href=\"#m1c662bf42f\" y=\"257.598894\"/>\n     <use style=\"fill:#ff7f0e;stroke:#ff7f0e;\" x=\"148.149355\" xlink:href=\"#m1c662bf42f\" y=\"252.850903\"/>\n     <use style=\"fill:#ff7f0e;stroke:#ff7f0e;\" x=\"224.341863\" xlink:href=\"#m1c662bf42f\" y=\"244.765803\"/>\n     <use style=\"fill:#ff7f0e;stroke:#ff7f0e;\" x=\"132.018196\" xlink:href=\"#m1c662bf42f\" y=\"252.981216\"/>\n     <use style=\"fill:#ff7f0e;stroke:#ff7f0e;\" x=\"154.937921\" xlink:href=\"#m1c662bf42f\" y=\"249.374289\"/>\n     <use style=\"fill:#ff7f0e;stroke:#ff7f0e;\" x=\"207.702901\" xlink:href=\"#m1c662bf42f\" y=\"248.036294\"/>\n     <use style=\"fill:#ff7f0e;stroke:#ff7f0e;\" x=\"160.406186\" xlink:href=\"#m1c662bf42f\" y=\"249.717215\"/>\n     <use style=\"fill:#ff7f0e;stroke:#ff7f0e;\" x=\"175.043536\" xlink:href=\"#m1c662bf42f\" y=\"244.041641\"/>\n     <use style=\"fill:#ff7f0e;stroke:#ff7f0e;\" x=\"161.190811\" xlink:href=\"#m1c662bf42f\" y=\"247.644825\"/>\n     <use style=\"fill:#ff7f0e;stroke:#ff7f0e;\" x=\"209.458732\" xlink:href=\"#m1c662bf42f\" y=\"243.436341\"/>\n     <use style=\"fill:#ff7f0e;stroke:#ff7f0e;\" x=\"195.082437\" xlink:href=\"#m1c662bf42f\" y=\"247.564386\"/>\n     <use style=\"fill:#ff7f0e;stroke:#ff7f0e;\" x=\"195.415732\" xlink:href=\"#m1c662bf42f\" y=\"246.889298\"/>\n     <use style=\"fill:#ff7f0e;stroke:#ff7f0e;\" x=\"201.608105\" xlink:href=\"#m1c662bf42f\" y=\"241.312545\"/>\n     <use style=\"fill:#ff7f0e;stroke:#ff7f0e;\" x=\"241.882577\" xlink:href=\"#m1c662bf42f\" y=\"241.540163\"/>\n     <use style=\"fill:#ff7f0e;stroke:#ff7f0e;\" x=\"170.814912\" xlink:href=\"#m1c662bf42f\" y=\"247.93168\"/>\n     <use style=\"fill:#ff7f0e;stroke:#ff7f0e;\" x=\"151.58154\" xlink:href=\"#m1c662bf42f\" y=\"246.186197\"/>\n     <use style=\"fill:#ff7f0e;stroke:#ff7f0e;\" x=\"173.569101\" xlink:href=\"#m1c662bf42f\" y=\"248.930691\"/>\n     <use style=\"fill:#ff7f0e;stroke:#ff7f0e;\" x=\"69.74992\" xlink:href=\"#m1c662bf42f\" y=\"259.890199\"/>\n     <use style=\"fill:#ff7f0e;stroke:#ff7f0e;\" x=\"119.337915\" xlink:href=\"#m1c662bf42f\" y=\"251.243708\"/>\n     <use style=\"fill:#ff7f0e;stroke:#ff7f0e;\" x=\"87.329825\" xlink:href=\"#m1c662bf42f\" y=\"253.729815\"/>\n     <use style=\"fill:#ff7f0e;stroke:#ff7f0e;\" x=\"181.404138\" xlink:href=\"#m1c662bf42f\" y=\"249.558839\"/>\n     <use style=\"fill:#ff7f0e;stroke:#ff7f0e;\" x=\"147.689108\" xlink:href=\"#m1c662bf42f\" y=\"252.900473\"/>\n     <use style=\"fill:#ff7f0e;stroke:#ff7f0e;\" x=\"128.153502\" xlink:href=\"#m1c662bf42f\" y=\"247.819701\"/>\n     <use style=\"fill:#ff7f0e;stroke:#ff7f0e;\" x=\"216.488641\" xlink:href=\"#m1c662bf42f\" y=\"245.287956\"/>\n     <use style=\"fill:#ff7f0e;stroke:#ff7f0e;\" x=\"205.256952\" xlink:href=\"#m1c662bf42f\" y=\"241.837424\"/>\n     <use style=\"fill:#ff7f0e;stroke:#ff7f0e;\" x=\"187.783049\" xlink:href=\"#m1c662bf42f\" y=\"249.857548\"/>\n     <use style=\"fill:#ff7f0e;stroke:#ff7f0e;\" x=\"169.240347\" xlink:href=\"#m1c662bf42f\" y=\"252.791355\"/>\n     <use style=\"fill:#ff7f0e;stroke:#ff7f0e;\" x=\"144.25805\" xlink:href=\"#m1c662bf42f\" y=\"249.72625\"/>\n     <use style=\"fill:#ff7f0e;stroke:#ff7f0e;\" x=\"89.057848\" xlink:href=\"#m1c662bf42f\" y=\"256.968835\"/>\n     <use style=\"fill:#ff7f0e;stroke:#ff7f0e;\" x=\"139.030159\" xlink:href=\"#m1c662bf42f\" y=\"250.480042\"/>\n     <use style=\"fill:#ff7f0e;stroke:#ff7f0e;\" x=\"104.947659\" xlink:href=\"#m1c662bf42f\" y=\"259.959161\"/>\n     <use style=\"fill:#ff7f0e;stroke:#ff7f0e;\" x=\"144.772545\" xlink:href=\"#m1c662bf42f\" y=\"252.299657\"/>\n     <use style=\"fill:#ff7f0e;stroke:#ff7f0e;\" x=\"113.260869\" xlink:href=\"#m1c662bf42f\" y=\"253.122269\"/>\n     <use style=\"fill:#ff7f0e;stroke:#ff7f0e;\" x=\"73.21316\" xlink:href=\"#m1c662bf42f\" y=\"257.802087\"/>\n     <use style=\"fill:#ff7f0e;stroke:#ff7f0e;\" x=\"130.222111\" xlink:href=\"#m1c662bf42f\" y=\"253.799403\"/>\n     <use style=\"fill:#ff7f0e;stroke:#ff7f0e;\" x=\"100.529293\" xlink:href=\"#m1c662bf42f\" y=\"249.876208\"/>\n     <use style=\"fill:#ff7f0e;stroke:#ff7f0e;\" x=\"217.742816\" xlink:href=\"#m1c662bf42f\" y=\"245.403574\"/>\n     <use style=\"fill:#ff7f0e;stroke:#ff7f0e;\" x=\"175.992465\" xlink:href=\"#m1c662bf42f\" y=\"246.5976\"/>\n     <use style=\"fill:#ff7f0e;stroke:#ff7f0e;\" x=\"135.775343\" xlink:href=\"#m1c662bf42f\" y=\"250.838235\"/>\n     <use style=\"fill:#ff7f0e;stroke:#ff7f0e;\" x=\"113.074181\" xlink:href=\"#m1c662bf42f\" y=\"252.02347\"/>\n     <use style=\"fill:#ff7f0e;stroke:#ff7f0e;\" x=\"46.922443\" xlink:href=\"#m1c662bf42f\" y=\"262.886438\"/>\n     <use style=\"fill:#ff7f0e;stroke:#ff7f0e;\" x=\"197.032318\" xlink:href=\"#m1c662bf42f\" y=\"246.855569\"/>\n     <use style=\"fill:#ff7f0e;stroke:#ff7f0e;\" x=\"153.748105\" xlink:href=\"#m1c662bf42f\" y=\"252.07524\"/>\n     <use style=\"fill:#ff7f0e;stroke:#ff7f0e;\" x=\"63.46121\" xlink:href=\"#m1c662bf42f\" y=\"257.676203\"/>\n     <use style=\"fill:#ff7f0e;stroke:#ff7f0e;\" x=\"119.432249\" xlink:href=\"#m1c662bf42f\" y=\"251.760993\"/>\n     <use style=\"fill:#ff7f0e;stroke:#ff7f0e;\" x=\"187.219943\" xlink:href=\"#m1c662bf42f\" y=\"244.891443\"/>\n     <use style=\"fill:#ff7f0e;stroke:#ff7f0e;\" x=\"180.010477\" xlink:href=\"#m1c662bf42f\" y=\"246.78506\"/>\n     <use style=\"fill:#ff7f0e;stroke:#ff7f0e;\" x=\"140.899572\" xlink:href=\"#m1c662bf42f\" y=\"249.547977\"/>\n     <use style=\"fill:#ff7f0e;stroke:#ff7f0e;\" x=\"245.870862\" xlink:href=\"#m1c662bf42f\" y=\"242.245328\"/>\n     <use style=\"fill:#ff7f0e;stroke:#ff7f0e;\" x=\"173.926632\" xlink:href=\"#m1c662bf42f\" y=\"249.90885\"/>\n     <use style=\"fill:#ff7f0e;stroke:#ff7f0e;\" x=\"153.82747\" xlink:href=\"#m1c662bf42f\" y=\"248.658801\"/>\n     <use style=\"fill:#ff7f0e;stroke:#ff7f0e;\" x=\"181.422862\" xlink:href=\"#m1c662bf42f\" y=\"249.980093\"/>\n     <use style=\"fill:#ff7f0e;stroke:#ff7f0e;\" x=\"176.870194\" xlink:href=\"#m1c662bf42f\" y=\"247.157392\"/>\n     <use style=\"fill:#ff7f0e;stroke:#ff7f0e;\" x=\"108.513177\" xlink:href=\"#m1c662bf42f\" y=\"256.771458\"/>\n     <use style=\"fill:#ff7f0e;stroke:#ff7f0e;\" x=\"160.767222\" xlink:href=\"#m1c662bf42f\" y=\"250.858365\"/>\n     <use style=\"fill:#ff7f0e;stroke:#ff7f0e;\" x=\"123.215024\" xlink:href=\"#m1c662bf42f\" y=\"253.359521\"/>\n     <use style=\"fill:#ff7f0e;stroke:#ff7f0e;\" x=\"243.371853\" xlink:href=\"#m1c662bf42f\" y=\"242.767218\"/>\n     <use style=\"fill:#ff7f0e;stroke:#ff7f0e;\" x=\"63.421214\" xlink:href=\"#m1c662bf42f\" y=\"259.241938\"/>\n     <use style=\"fill:#ff7f0e;stroke:#ff7f0e;\" x=\"210.394428\" xlink:href=\"#m1c662bf42f\" y=\"247.499461\"/>\n     <use style=\"fill:#ff7f0e;stroke:#ff7f0e;\" x=\"166.605529\" xlink:href=\"#m1c662bf42f\" y=\"249.583678\"/>\n     <use style=\"fill:#ff7f0e;stroke:#ff7f0e;\" x=\"158.450915\" xlink:href=\"#m1c662bf42f\" y=\"254.806916\"/>\n     <use style=\"fill:#ff7f0e;stroke:#ff7f0e;\" x=\"54.185206\" xlink:href=\"#m1c662bf42f\" y=\"259.211428\"/>\n     <use style=\"fill:#ff7f0e;stroke:#ff7f0e;\" x=\"217.472783\" xlink:href=\"#m1c662bf42f\" y=\"240.826386\"/>\n     <use style=\"fill:#ff7f0e;stroke:#ff7f0e;\" x=\"211.141883\" xlink:href=\"#m1c662bf42f\" y=\"240.315879\"/>\n     <use style=\"fill:#ff7f0e;stroke:#ff7f0e;\" x=\"206.152006\" xlink:href=\"#m1c662bf42f\" y=\"247.492363\"/>\n     <use style=\"fill:#ff7f0e;stroke:#ff7f0e;\" x=\"173.251692\" xlink:href=\"#m1c662bf42f\" y=\"246.218199\"/>\n     <use style=\"fill:#ff7f0e;stroke:#ff7f0e;\" x=\"255.797628\" xlink:href=\"#m1c662bf42f\" y=\"239.72477\"/>\n     <use style=\"fill:#ff7f0e;stroke:#ff7f0e;\" x=\"68.554746\" xlink:href=\"#m1c662bf42f\" y=\"261.301983\"/>\n     <use style=\"fill:#ff7f0e;stroke:#ff7f0e;\" x=\"195.379736\" xlink:href=\"#m1c662bf42f\" y=\"245.275143\"/>\n     <use style=\"fill:#ff7f0e;stroke:#ff7f0e;\" x=\"153.31617\" xlink:href=\"#m1c662bf42f\" y=\"249.127851\"/>\n     <use style=\"fill:#ff7f0e;stroke:#ff7f0e;\" x=\"129.503029\" xlink:href=\"#m1c662bf42f\" y=\"254.752992\"/>\n     <use style=\"fill:#ff7f0e;stroke:#ff7f0e;\" x=\"82.349083\" xlink:href=\"#m1c662bf42f\" y=\"254.814032\"/>\n     <use style=\"fill:#ff7f0e;stroke:#ff7f0e;\" x=\"208.65365\" xlink:href=\"#m1c662bf42f\" y=\"241.82372\"/>\n     <use style=\"fill:#ff7f0e;stroke:#ff7f0e;\" x=\"300.558807\" xlink:href=\"#m1c662bf42f\" y=\"233.26375\"/>\n     <use style=\"fill:#ff7f0e;stroke:#ff7f0e;\" x=\"264.849125\" xlink:href=\"#m1c662bf42f\" y=\"242.557811\"/>\n     <use style=\"fill:#ff7f0e;stroke:#ff7f0e;\" x=\"84.897019\" xlink:href=\"#m1c662bf42f\" y=\"255.411983\"/>\n    </g>\n   </g>\n   <g id=\"matplotlib.axis_3\">\n    <g id=\"xtick_9\">\n     <g id=\"line2d_31\">\n      <g>\n       <use style=\"stroke:#000000;stroke-width:0.8;\" x=\"62.925632\" xlink:href=\"#m54d2f27577\" y=\"279\"/>\n      </g>\n     </g>\n     <g id=\"text_17\">\n      <!-- −3 -->\n      <defs>\n       <path d=\"M 10.59375 35.5 \nL 73.1875 35.5 \nL 73.1875 27.203125 \nL 10.59375 27.203125 \nz\n\" id=\"DejaVuSans-8722\"/>\n       <path d=\"M 40.578125 39.3125 \nQ 47.65625 37.796875 51.625 33 \nQ 55.609375 28.21875 55.609375 21.1875 \nQ 55.609375 10.40625 48.1875 4.484375 \nQ 40.765625 -1.421875 27.09375 -1.421875 \nQ 22.515625 -1.421875 17.65625 -0.515625 \nQ 12.796875 0.390625 7.625 2.203125 \nL 7.625 11.71875 \nQ 11.71875 9.328125 16.59375 8.109375 \nQ 21.484375 6.890625 26.8125 6.890625 \nQ 36.078125 6.890625 40.9375 10.546875 \nQ 45.796875 14.203125 45.796875 21.1875 \nQ 45.796875 27.640625 41.28125 31.265625 \nQ 36.765625 34.90625 28.71875 34.90625 \nL 20.21875 34.90625 \nL 20.21875 43.015625 \nL 29.109375 43.015625 \nQ 36.375 43.015625 40.234375 45.921875 \nQ 44.09375 48.828125 44.09375 54.296875 \nQ 44.09375 59.90625 40.109375 62.90625 \nQ 36.140625 65.921875 28.71875 65.921875 \nQ 24.65625 65.921875 20.015625 65.03125 \nQ 15.375 64.15625 9.8125 62.3125 \nL 9.8125 71.09375 \nQ 15.4375 72.65625 20.34375 73.4375 \nQ 25.25 74.21875 29.59375 74.21875 \nQ 40.828125 74.21875 47.359375 69.109375 \nQ 53.90625 64.015625 53.90625 55.328125 \nQ 53.90625 49.265625 50.4375 45.09375 \nQ 46.96875 40.921875 40.578125 39.3125 \nz\n\" id=\"DejaVuSans-51\"/>\n      </defs>\n      <g transform=\"translate(55.554539 293.598437)scale(0.1 -0.1)\">\n       <use xlink:href=\"#DejaVuSans-8722\"/>\n       <use x=\"83.789062\" xlink:href=\"#DejaVuSans-51\"/>\n      </g>\n     </g>\n    </g>\n    <g id=\"xtick_10\">\n     <g id=\"line2d_32\">\n      <g>\n       <use style=\"stroke:#000000;stroke-width:0.8;\" x=\"96.013595\" xlink:href=\"#m54d2f27577\" y=\"279\"/>\n      </g>\n     </g>\n     <g id=\"text_18\">\n      <!-- −2 -->\n      <g transform=\"translate(88.642501 293.598437)scale(0.1 -0.1)\">\n       <use xlink:href=\"#DejaVuSans-8722\"/>\n       <use x=\"83.789062\" xlink:href=\"#DejaVuSans-50\"/>\n      </g>\n     </g>\n    </g>\n    <g id=\"xtick_11\">\n     <g id=\"line2d_33\">\n      <g>\n       <use style=\"stroke:#000000;stroke-width:0.8;\" x=\"129.101557\" xlink:href=\"#m54d2f27577\" y=\"279\"/>\n      </g>\n     </g>\n     <g id=\"text_19\">\n      <!-- −1 -->\n      <g transform=\"translate(121.730463 293.598437)scale(0.1 -0.1)\">\n       <use xlink:href=\"#DejaVuSans-8722\"/>\n       <use x=\"83.789062\" xlink:href=\"#DejaVuSans-49\"/>\n      </g>\n     </g>\n    </g>\n    <g id=\"xtick_12\">\n     <g id=\"line2d_34\">\n      <g>\n       <use style=\"stroke:#000000;stroke-width:0.8;\" x=\"162.189519\" xlink:href=\"#m54d2f27577\" y=\"279\"/>\n      </g>\n     </g>\n     <g id=\"text_20\">\n      <!-- 0 -->\n      <g transform=\"translate(159.008269 293.598437)scale(0.1 -0.1)\">\n       <use xlink:href=\"#DejaVuSans-48\"/>\n      </g>\n     </g>\n    </g>\n    <g id=\"xtick_13\">\n     <g id=\"line2d_35\">\n      <g>\n       <use style=\"stroke:#000000;stroke-width:0.8;\" x=\"195.277481\" xlink:href=\"#m54d2f27577\" y=\"279\"/>\n      </g>\n     </g>\n     <g id=\"text_21\">\n      <!-- 1 -->\n      <g transform=\"translate(192.096231 293.598437)scale(0.1 -0.1)\">\n       <use xlink:href=\"#DejaVuSans-49\"/>\n      </g>\n     </g>\n    </g>\n    <g id=\"xtick_14\">\n     <g id=\"line2d_36\">\n      <g>\n       <use style=\"stroke:#000000;stroke-width:0.8;\" x=\"228.365443\" xlink:href=\"#m54d2f27577\" y=\"279\"/>\n      </g>\n     </g>\n     <g id=\"text_22\">\n      <!-- 2 -->\n      <g transform=\"translate(225.184193 293.598437)scale(0.1 -0.1)\">\n       <use xlink:href=\"#DejaVuSans-50\"/>\n      </g>\n     </g>\n    </g>\n    <g id=\"xtick_15\">\n     <g id=\"line2d_37\">\n      <g>\n       <use style=\"stroke:#000000;stroke-width:0.8;\" x=\"261.453406\" xlink:href=\"#m54d2f27577\" y=\"279\"/>\n      </g>\n     </g>\n     <g id=\"text_23\">\n      <!-- 3 -->\n      <g transform=\"translate(258.272156 293.598437)scale(0.1 -0.1)\">\n       <use xlink:href=\"#DejaVuSans-51\"/>\n      </g>\n     </g>\n    </g>\n    <g id=\"xtick_16\">\n     <g id=\"line2d_38\">\n      <g>\n       <use style=\"stroke:#000000;stroke-width:0.8;\" x=\"294.541368\" xlink:href=\"#m54d2f27577\" y=\"279\"/>\n      </g>\n     </g>\n     <g id=\"text_24\">\n      <!-- 4 -->\n      <g transform=\"translate(291.360118 293.598437)scale(0.1 -0.1)\">\n       <use xlink:href=\"#DejaVuSans-52\"/>\n      </g>\n     </g>\n    </g>\n   </g>\n   <g id=\"matplotlib.axis_4\">\n    <g id=\"ytick_5\">\n     <g id=\"line2d_39\">\n      <g>\n       <use style=\"stroke:#000000;stroke-width:0.8;\" x=\"34.240625\" xlink:href=\"#mb8129bdb84\" y=\"241.166461\"/>\n      </g>\n     </g>\n     <g id=\"text_25\">\n      <!-- 0 -->\n      <g transform=\"translate(20.878125 244.96568)scale(0.1 -0.1)\">\n       <use xlink:href=\"#DejaVuSans-48\"/>\n      </g>\n     </g>\n    </g>\n    <g id=\"ytick_6\">\n     <g id=\"line2d_40\">\n      <g>\n       <use style=\"stroke:#000000;stroke-width:0.8;\" x=\"34.240625\" xlink:href=\"#mb8129bdb84\" y=\"195.25113\"/>\n      </g>\n     </g>\n     <g id=\"text_26\">\n      <!-- 5 -->\n      <g transform=\"translate(20.878125 199.050348)scale(0.1 -0.1)\">\n       <use xlink:href=\"#DejaVuSans-53\"/>\n      </g>\n     </g>\n    </g>\n   </g>\n   <g id=\"patch_9\">\n    <path d=\"M 34.240625 279 \nL 34.240625 160.826087 \n\" style=\"fill:none;stroke:#000000;stroke-linecap:square;stroke-linejoin:miter;stroke-width:0.8;\"/>\n   </g>\n   <g id=\"patch_10\">\n    <path d=\"M 313.240625 279 \nL 313.240625 160.826087 \n\" style=\"fill:none;stroke:#000000;stroke-linecap:square;stroke-linejoin:miter;stroke-width:0.8;\"/>\n   </g>\n   <g id=\"patch_11\">\n    <path d=\"M 34.240625 279 \nL 313.240625 279 \n\" style=\"fill:none;stroke:#000000;stroke-linecap:square;stroke-linejoin:miter;stroke-width:0.8;\"/>\n   </g>\n   <g id=\"patch_12\">\n    <path d=\"M 34.240625 160.826087 \nL 313.240625 160.826087 \n\" style=\"fill:none;stroke:#000000;stroke-linecap:square;stroke-linejoin:miter;stroke-width:0.8;\"/>\n   </g>\n   <g id=\"legend_2\">\n    <g id=\"patch_13\">\n     <path d=\"M 41.240625 198.182337 \nL 124.89375 198.182337 \nQ 126.89375 198.182337 126.89375 196.182337 \nL 126.89375 167.826087 \nQ 126.89375 165.826087 124.89375 165.826087 \nL 41.240625 165.826087 \nQ 39.240625 165.826087 39.240625 167.826087 \nL 39.240625 196.182337 \nQ 39.240625 198.182337 41.240625 198.182337 \nz\n\" style=\"fill:#ffffff;opacity:0.8;stroke:#cccccc;stroke-linejoin:miter;\"/>\n    </g>\n    <g id=\"PathCollection_3\">\n     <g>\n      <use style=\"fill:#1f77b4;stroke:#1f77b4;\" x=\"53.240625\" xlink:href=\"#m11ac3e3bd4\" y=\"174.799524\"/>\n     </g>\n    </g>\n    <g id=\"text_27\">\n     <!-- real -->\n     <g transform=\"translate(71.240625 177.424524)scale(0.1 -0.1)\">\n      <use xlink:href=\"#DejaVuSans-114\"/>\n      <use x=\"38.863281\" xlink:href=\"#DejaVuSans-101\"/>\n      <use x=\"100.386719\" xlink:href=\"#DejaVuSans-97\"/>\n      <use x=\"161.666016\" xlink:href=\"#DejaVuSans-108\"/>\n     </g>\n    </g>\n    <g id=\"PathCollection_4\">\n     <g>\n      <use style=\"fill:#ff7f0e;stroke:#ff7f0e;\" x=\"53.240625\" xlink:href=\"#m1c662bf42f\" y=\"189.477649\"/>\n     </g>\n    </g>\n    <g id=\"text_28\">\n     <!-- generated -->\n     <g transform=\"translate(71.240625 192.102649)scale(0.1 -0.1)\">\n      <use xlink:href=\"#DejaVuSans-103\"/>\n      <use x=\"63.476562\" xlink:href=\"#DejaVuSans-101\"/>\n      <use x=\"125\" xlink:href=\"#DejaVuSans-110\"/>\n      <use x=\"188.378906\" xlink:href=\"#DejaVuSans-101\"/>\n      <use x=\"249.902344\" xlink:href=\"#DejaVuSans-114\"/>\n      <use x=\"291.015625\" xlink:href=\"#DejaVuSans-97\"/>\n      <use x=\"352.294922\" xlink:href=\"#DejaVuSans-116\"/>\n      <use x=\"391.503906\" xlink:href=\"#DejaVuSans-101\"/>\n      <use x=\"453.027344\" xlink:href=\"#DejaVuSans-100\"/>\n     </g>\n    </g>\n   </g>\n  </g>\n </g>\n <defs>\n  <clipPath id=\"pc0b0dca4e5\">\n   <rect height=\"118.173913\" width=\"279\" x=\"34.240625\" y=\"7.2\"/>\n  </clipPath>\n  <clipPath id=\"p2f5fb8302a\">\n   <rect height=\"118.173913\" width=\"279\" x=\"34.240625\" y=\"160.826087\"/>\n  </clipPath>\n </defs>\n</svg>\n"
          },
          "metadata": {
            "tags": [],
            "needs_background": "light"
          }
        }
      ]
    },
    {
      "cell_type": "code",
      "metadata": {
        "colab": {
          "base_uri": "https://localhost:8080/"
        },
        "id": "nt36W9fwla07",
        "outputId": "2acdd5dc-3b5f-4b64-b980-787df4bc4426"
      },
      "source": [
        "X"
      ],
      "execution_count": 18,
      "outputs": [
        {
          "output_type": "execute_result",
          "data": {
            "text/plain": [
              "<tf.Tensor: shape=(1000, 2), dtype=float32, numpy=\n",
              "array([[ 0.03979763,  0.21658216],\n",
              "       [-0.00846096, -1.5548749 ],\n",
              "       [-0.741201  ,  0.10753934],\n",
              "       ...,\n",
              "       [-0.9093773 ,  1.1343874 ],\n",
              "       [-0.32907954, -0.6627376 ],\n",
              "       [ 1.1279589 ,  0.9322923 ]], dtype=float32)>"
            ]
          },
          "metadata": {
            "tags": []
          },
          "execution_count": 18
        }
      ]
    },
    {
      "cell_type": "code",
      "metadata": {
        "colab": {
          "base_uri": "https://localhost:8080/"
        },
        "id": "MrjhT6AIlcm8",
        "outputId": "3824a41b-0a8f-49c8-8fca-5d43bc4f625d"
      },
      "source": [
        "X.shape"
      ],
      "execution_count": 19,
      "outputs": [
        {
          "output_type": "execute_result",
          "data": {
            "text/plain": [
              "TensorShape([1000, 2])"
            ]
          },
          "metadata": {
            "tags": []
          },
          "execution_count": 19
        }
      ]
    },
    {
      "cell_type": "code",
      "metadata": {
        "colab": {
          "base_uri": "https://localhost:8080/"
        },
        "id": "L3606cMifCZt",
        "outputId": "fd305ed5-4469-4009-e351-2dfcbfe9a36d"
      },
      "source": [
        "X"
      ],
      "execution_count": 20,
      "outputs": [
        {
          "output_type": "execute_result",
          "data": {
            "text/plain": [
              "<tf.Tensor: shape=(1000, 2), dtype=float32, numpy=\n",
              "array([[ 0.03979763,  0.21658216],\n",
              "       [-0.00846096, -1.5548749 ],\n",
              "       [-0.741201  ,  0.10753934],\n",
              "       ...,\n",
              "       [-0.9093773 ,  1.1343874 ],\n",
              "       [-0.32907954, -0.6627376 ],\n",
              "       [ 1.1279589 ,  0.9322923 ]], dtype=float32)>"
            ]
          },
          "metadata": {
            "tags": []
          },
          "execution_count": 20
        }
      ]
    },
    {
      "cell_type": "code",
      "metadata": {
        "colab": {
          "base_uri": "https://localhost:8080/",
          "height": 166
        },
        "id": "m6CvabYAfCZu",
        "outputId": "c0093b98-f548-4e52-9db0-f68ba71a0d1a"
      },
      "source": [
        "Z"
      ],
      "execution_count": 21,
      "outputs": [
        {
          "output_type": "error",
          "ename": "NameError",
          "evalue": "ignored",
          "traceback": [
            "\u001b[0;31m---------------------------------------------------------------------------\u001b[0m",
            "\u001b[0;31mNameError\u001b[0m                                 Traceback (most recent call last)",
            "\u001b[0;32m<ipython-input-21-b4379bcb7951>\u001b[0m in \u001b[0;36m<module>\u001b[0;34m()\u001b[0m\n\u001b[0;32m----> 1\u001b[0;31m \u001b[0mZ\u001b[0m\u001b[0;34m\u001b[0m\u001b[0;34m\u001b[0m\u001b[0m\n\u001b[0m",
            "\u001b[0;31mNameError\u001b[0m: name 'Z' is not defined"
          ]
        }
      ]
    },
    {
      "cell_type": "code",
      "metadata": {
        "id": "UC34OnCMfCZv"
      },
      "source": [
        "data"
      ],
      "execution_count": null,
      "outputs": []
    },
    {
      "cell_type": "code",
      "metadata": {
        "id": "dgRfXfv9fCZw"
      },
      "source": [
        "tf.data.Dataset.from_tensors(X)"
      ],
      "execution_count": null,
      "outputs": []
    },
    {
      "cell_type": "code",
      "metadata": {
        "id": "2uDtx9pjfCZw"
      },
      "source": [
        "tf.shape(X)"
      ],
      "execution_count": null,
      "outputs": []
    },
    {
      "cell_type": "code",
      "metadata": {
        "id": "HS4iiQVGfCZx"
      },
      "source": [
        "tf.convert_to_tensor(X)"
      ],
      "execution_count": null,
      "outputs": []
    },
    {
      "cell_type": "code",
      "metadata": {
        "id": "DIxl8zsSfCZy"
      },
      "source": [
        "X == tf.convert_to_tensor(X)"
      ],
      "execution_count": null,
      "outputs": []
    },
    {
      "cell_type": "code",
      "metadata": {
        "id": "sIpuIbpPfCZz"
      },
      "source": [
        "net_D(tf.convert_to_tensor(X), training=True)"
      ],
      "execution_count": null,
      "outputs": []
    },
    {
      "cell_type": "code",
      "metadata": {
        "id": "SvkFGNPVfCZ0"
      },
      "source": [
        "net_D(X, training=True)"
      ],
      "execution_count": null,
      "outputs": []
    },
    {
      "cell_type": "code",
      "metadata": {
        "id": "SKgT5sKDfCZ1"
      },
      "source": [
        "net_D(tf.convert_to_tensor(X), training=True) == net_D(X, training=True)"
      ],
      "execution_count": null,
      "outputs": []
    },
    {
      "cell_type": "code",
      "metadata": {
        "id": "EGClkOCdfCZ3"
      },
      "source": [
        ""
      ],
      "execution_count": null,
      "outputs": []
    }
  ]
}