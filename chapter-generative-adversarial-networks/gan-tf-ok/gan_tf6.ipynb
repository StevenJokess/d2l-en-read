{
  "nbformat": 4,
  "nbformat_minor": 0,
  "metadata": {
    "language_info": {
      "codemirror_mode": {
        "name": "ipython",
        "version": 3
      },
      "file_extension": ".py",
      "mimetype": "text/x-python",
      "name": "python",
      "nbconvert_exporter": "python",
      "pygments_lexer": "ipython3",
      "version": "3.7.8-final"
    },
    "orig_nbformat": 2,
    "kernelspec": {
      "name": "python37864bittf2conda1de394c9651a4d19aa25641a40b8d2d8",
      "display_name": "Python 3.7.8 64-bit ('tf2': conda)",
      "language": "python"
    },
    "colab": {
      "name": "gan-tf6.ipynb",
      "provenance": []
    },
    "accelerator": "GPU"
  },
  "cells": [
    {
      "cell_type": "code",
      "metadata": {
        "colab": {
          "base_uri": "https://localhost:8080/"
        },
        "id": "TJlfBa31f1kv",
        "outputId": "5e98ab2c-1263-4981-b1c3-cb71543f6b86"
      },
      "source": [
        "!pip install git+https://github.com/d2l-ai/d2l-en"
      ],
      "execution_count": 1,
      "outputs": [
        {
          "output_type": "stream",
          "text": [
            "Collecting git+https://github.com/d2l-ai/d2l-en\n",
            "  Cloning https://github.com/d2l-ai/d2l-en to /tmp/pip-req-build-h18d3p1p\n",
            "  Running command git clone -q https://github.com/d2l-ai/d2l-en /tmp/pip-req-build-h18d3p1p\n",
            "Requirement already satisfied (use --upgrade to upgrade): d2l==0.16.2 from git+https://github.com/d2l-ai/d2l-en in /usr/local/lib/python3.7/dist-packages\n",
            "Requirement already satisfied: jupyter in /usr/local/lib/python3.7/dist-packages (from d2l==0.16.2) (1.0.0)\n",
            "Requirement already satisfied: numpy in /usr/local/lib/python3.7/dist-packages (from d2l==0.16.2) (1.19.5)\n",
            "Requirement already satisfied: matplotlib in /usr/local/lib/python3.7/dist-packages (from d2l==0.16.2) (3.2.2)\n",
            "Requirement already satisfied: requests in /usr/local/lib/python3.7/dist-packages (from d2l==0.16.2) (2.23.0)\n",
            "Requirement already satisfied: pandas in /usr/local/lib/python3.7/dist-packages (from d2l==0.16.2) (1.1.5)\n",
            "Requirement already satisfied: ipykernel in /usr/local/lib/python3.7/dist-packages (from jupyter->d2l==0.16.2) (4.10.1)\n",
            "Requirement already satisfied: notebook in /usr/local/lib/python3.7/dist-packages (from jupyter->d2l==0.16.2) (5.3.1)\n",
            "Requirement already satisfied: qtconsole in /usr/local/lib/python3.7/dist-packages (from jupyter->d2l==0.16.2) (5.0.3)\n",
            "Requirement already satisfied: jupyter-console in /usr/local/lib/python3.7/dist-packages (from jupyter->d2l==0.16.2) (5.2.0)\n",
            "Requirement already satisfied: ipywidgets in /usr/local/lib/python3.7/dist-packages (from jupyter->d2l==0.16.2) (7.6.3)\n",
            "Requirement already satisfied: nbconvert in /usr/local/lib/python3.7/dist-packages (from jupyter->d2l==0.16.2) (5.6.1)\n",
            "Requirement already satisfied: kiwisolver>=1.0.1 in /usr/local/lib/python3.7/dist-packages (from matplotlib->d2l==0.16.2) (1.3.1)\n",
            "Requirement already satisfied: pyparsing!=2.0.4,!=2.1.2,!=2.1.6,>=2.0.1 in /usr/local/lib/python3.7/dist-packages (from matplotlib->d2l==0.16.2) (2.4.7)\n",
            "Requirement already satisfied: cycler>=0.10 in /usr/local/lib/python3.7/dist-packages (from matplotlib->d2l==0.16.2) (0.10.0)\n",
            "Requirement already satisfied: python-dateutil>=2.1 in /usr/local/lib/python3.7/dist-packages (from matplotlib->d2l==0.16.2) (2.8.1)\n",
            "Requirement already satisfied: chardet<4,>=3.0.2 in /usr/local/lib/python3.7/dist-packages (from requests->d2l==0.16.2) (3.0.4)\n",
            "Requirement already satisfied: urllib3!=1.25.0,!=1.25.1,<1.26,>=1.21.1 in /usr/local/lib/python3.7/dist-packages (from requests->d2l==0.16.2) (1.24.3)\n",
            "Requirement already satisfied: certifi>=2017.4.17 in /usr/local/lib/python3.7/dist-packages (from requests->d2l==0.16.2) (2020.12.5)\n",
            "Requirement already satisfied: idna<3,>=2.5 in /usr/local/lib/python3.7/dist-packages (from requests->d2l==0.16.2) (2.10)\n",
            "Requirement already satisfied: pytz>=2017.2 in /usr/local/lib/python3.7/dist-packages (from pandas->d2l==0.16.2) (2018.9)\n",
            "Requirement already satisfied: traitlets>=4.1.0 in /usr/local/lib/python3.7/dist-packages (from ipykernel->jupyter->d2l==0.16.2) (5.0.5)\n",
            "Requirement already satisfied: jupyter-client in /usr/local/lib/python3.7/dist-packages (from ipykernel->jupyter->d2l==0.16.2) (5.3.5)\n",
            "Requirement already satisfied: tornado>=4.0 in /usr/local/lib/python3.7/dist-packages (from ipykernel->jupyter->d2l==0.16.2) (5.1.1)\n",
            "Requirement already satisfied: ipython>=4.0.0 in /usr/local/lib/python3.7/dist-packages (from ipykernel->jupyter->d2l==0.16.2) (5.5.0)\n",
            "Requirement already satisfied: jupyter-core>=4.4.0 in /usr/local/lib/python3.7/dist-packages (from notebook->jupyter->d2l==0.16.2) (4.7.1)\n",
            "Requirement already satisfied: nbformat in /usr/local/lib/python3.7/dist-packages (from notebook->jupyter->d2l==0.16.2) (5.1.2)\n",
            "Requirement already satisfied: Send2Trash in /usr/local/lib/python3.7/dist-packages (from notebook->jupyter->d2l==0.16.2) (1.5.0)\n",
            "Requirement already satisfied: ipython-genutils in /usr/local/lib/python3.7/dist-packages (from notebook->jupyter->d2l==0.16.2) (0.2.0)\n",
            "Requirement already satisfied: terminado>=0.8.1 in /usr/local/lib/python3.7/dist-packages (from notebook->jupyter->d2l==0.16.2) (0.9.3)\n",
            "Requirement already satisfied: jinja2 in /usr/local/lib/python3.7/dist-packages (from notebook->jupyter->d2l==0.16.2) (2.11.3)\n",
            "Requirement already satisfied: pygments in /usr/local/lib/python3.7/dist-packages (from qtconsole->jupyter->d2l==0.16.2) (2.6.1)\n",
            "Requirement already satisfied: pyzmq>=17.1 in /usr/local/lib/python3.7/dist-packages (from qtconsole->jupyter->d2l==0.16.2) (22.0.3)\n",
            "Requirement already satisfied: qtpy in /usr/local/lib/python3.7/dist-packages (from qtconsole->jupyter->d2l==0.16.2) (1.9.0)\n",
            "Requirement already satisfied: prompt-toolkit<2.0.0,>=1.0.0 in /usr/local/lib/python3.7/dist-packages (from jupyter-console->jupyter->d2l==0.16.2) (1.0.18)\n",
            "Requirement already satisfied: jupyterlab-widgets>=1.0.0; python_version >= \"3.6\" in /usr/local/lib/python3.7/dist-packages (from ipywidgets->jupyter->d2l==0.16.2) (1.0.0)\n",
            "Requirement already satisfied: widgetsnbextension~=3.5.0 in /usr/local/lib/python3.7/dist-packages (from ipywidgets->jupyter->d2l==0.16.2) (3.5.1)\n",
            "Requirement already satisfied: defusedxml in /usr/local/lib/python3.7/dist-packages (from nbconvert->jupyter->d2l==0.16.2) (0.7.1)\n",
            "Requirement already satisfied: testpath in /usr/local/lib/python3.7/dist-packages (from nbconvert->jupyter->d2l==0.16.2) (0.4.4)\n",
            "Requirement already satisfied: entrypoints>=0.2.2 in /usr/local/lib/python3.7/dist-packages (from nbconvert->jupyter->d2l==0.16.2) (0.3)\n",
            "Requirement already satisfied: mistune<2,>=0.8.1 in /usr/local/lib/python3.7/dist-packages (from nbconvert->jupyter->d2l==0.16.2) (0.8.4)\n",
            "Requirement already satisfied: pandocfilters>=1.4.1 in /usr/local/lib/python3.7/dist-packages (from nbconvert->jupyter->d2l==0.16.2) (1.4.3)\n",
            "Requirement already satisfied: bleach in /usr/local/lib/python3.7/dist-packages (from nbconvert->jupyter->d2l==0.16.2) (3.3.0)\n",
            "Requirement already satisfied: six in /usr/local/lib/python3.7/dist-packages (from cycler>=0.10->matplotlib->d2l==0.16.2) (1.15.0)\n",
            "Requirement already satisfied: simplegeneric>0.8 in /usr/local/lib/python3.7/dist-packages (from ipython>=4.0.0->ipykernel->jupyter->d2l==0.16.2) (0.8.1)\n",
            "Requirement already satisfied: pexpect; sys_platform != \"win32\" in /usr/local/lib/python3.7/dist-packages (from ipython>=4.0.0->ipykernel->jupyter->d2l==0.16.2) (4.8.0)\n",
            "Requirement already satisfied: decorator in /usr/local/lib/python3.7/dist-packages (from ipython>=4.0.0->ipykernel->jupyter->d2l==0.16.2) (4.4.2)\n",
            "Requirement already satisfied: pickleshare in /usr/local/lib/python3.7/dist-packages (from ipython>=4.0.0->ipykernel->jupyter->d2l==0.16.2) (0.7.5)\n",
            "Requirement already satisfied: setuptools>=18.5 in /usr/local/lib/python3.7/dist-packages (from ipython>=4.0.0->ipykernel->jupyter->d2l==0.16.2) (54.2.0)\n",
            "Requirement already satisfied: jsonschema!=2.5.0,>=2.4 in /usr/local/lib/python3.7/dist-packages (from nbformat->notebook->jupyter->d2l==0.16.2) (2.6.0)\n",
            "Requirement already satisfied: ptyprocess; os_name != \"nt\" in /usr/local/lib/python3.7/dist-packages (from terminado>=0.8.1->notebook->jupyter->d2l==0.16.2) (0.7.0)\n",
            "Requirement already satisfied: MarkupSafe>=0.23 in /usr/local/lib/python3.7/dist-packages (from jinja2->notebook->jupyter->d2l==0.16.2) (1.1.1)\n",
            "Requirement already satisfied: wcwidth in /usr/local/lib/python3.7/dist-packages (from prompt-toolkit<2.0.0,>=1.0.0->jupyter-console->jupyter->d2l==0.16.2) (0.2.5)\n",
            "Requirement already satisfied: packaging in /usr/local/lib/python3.7/dist-packages (from bleach->nbconvert->jupyter->d2l==0.16.2) (20.9)\n",
            "Requirement already satisfied: webencodings in /usr/local/lib/python3.7/dist-packages (from bleach->nbconvert->jupyter->d2l==0.16.2) (0.5.1)\n",
            "Building wheels for collected packages: d2l\n",
            "  Building wheel for d2l (setup.py) ... \u001b[?25l\u001b[?25hdone\n",
            "  Created wheel for d2l: filename=d2l-0.16.2-cp37-none-any.whl size=77221 sha256=93c4f68970757f9282761185132c308ededb6d199c8a2daf57d8be596a165f7c\n",
            "  Stored in directory: /tmp/pip-ephem-wheel-cache-v34qqr8k/wheels/82/6f/b8/8422c7ed664272685e3d139b127f89df39d934704a14b2156c\n",
            "Successfully built d2l\n"
          ],
          "name": "stdout"
        }
      ]
    },
    {
      "cell_type": "code",
      "metadata": {
        "id": "mDDdiwKAfCZG"
      },
      "source": [
        "%matplotlib inline\n",
        "from d2l import tensorflow as d2l\n",
        "import tensorflow as tf"
      ],
      "execution_count": 2,
      "outputs": []
    },
    {
      "cell_type": "code",
      "metadata": {
        "colab": {
          "base_uri": "https://localhost:8080/",
          "height": 35
        },
        "id": "0h49fSNYfCZe",
        "outputId": "8186c20b-78f5-4c8d-cc02-2785efd4bc19"
      },
      "source": [
        "tf.__version__"
      ],
      "execution_count": 3,
      "outputs": [
        {
          "output_type": "execute_result",
          "data": {
            "application/vnd.google.colaboratory.intrinsic+json": {
              "type": "string"
            },
            "text/plain": [
              "'2.4.1'"
            ]
          },
          "metadata": {
            "tags": []
          },
          "execution_count": 3
        }
      ]
    },
    {
      "cell_type": "code",
      "metadata": {
        "id": "FEFt55FrfCZh"
      },
      "source": [
        "X = d2l.normal([1000, 2], 0.0, 1, tf.float32)\n",
        "A = d2l.tensor([[1, 2], [-0.1, 0.5]], tf.float32)\n",
        "b = d2l.tensor([1, 2], tf.float32)\n",
        "data = d2l.matmul(X, A) + b"
      ],
      "execution_count": 4,
      "outputs": []
    },
    {
      "cell_type": "code",
      "metadata": {
        "colab": {
          "base_uri": "https://localhost:8080/"
        },
        "id": "QB-KbY79fCZj",
        "outputId": "1303f71c-b2b7-4952-85b0-be7fdb1cb529"
      },
      "source": [
        "X"
      ],
      "execution_count": 5,
      "outputs": [
        {
          "output_type": "execute_result",
          "data": {
            "text/plain": [
              "<tf.Tensor: shape=(1000, 2), dtype=float32, numpy=\n",
              "array([[ 1.2200692 , -0.815211  ],\n",
              "       [-1.5200254 , -0.7743431 ],\n",
              "       [ 1.2672385 , -0.31521952],\n",
              "       ...,\n",
              "       [ 0.5352356 ,  1.0723914 ],\n",
              "       [-0.2973783 ,  0.30710134],\n",
              "       [ 0.597632  ,  0.09573006]], dtype=float32)>"
            ]
          },
          "metadata": {
            "tags": []
          },
          "execution_count": 5
        }
      ]
    },
    {
      "cell_type": "code",
      "metadata": {
        "colab": {
          "base_uri": "https://localhost:8080/",
          "height": 295
        },
        "id": "-oFPrwFcfCZk",
        "outputId": "3fbff9ff-1fbb-4b93-ccc5-d8596f7be52d"
      },
      "source": [
        "d2l.set_figsize()\n",
        "d2l.plt.scatter(d2l.numpy(data[:100, 0]), d2l.numpy(data[:100, 1]));\n",
        "print(f'The covariance matrix is\\n{d2l.matmul(tf.transpose(A), A)}')"
      ],
      "execution_count": 6,
      "outputs": [
        {
          "output_type": "stream",
          "text": [
            "The covariance matrix is\n",
            "[[1.01 1.95]\n",
            " [1.95 4.25]]\n"
          ],
          "name": "stdout"
        },
        {
          "output_type": "display_data",
          "data": {
            "text/plain": [
              "<Figure size 252x180 with 1 Axes>"
            ],
            "image/svg+xml": "<?xml version=\"1.0\" encoding=\"utf-8\" standalone=\"no\"?>\n<!DOCTYPE svg PUBLIC \"-//W3C//DTD SVG 1.1//EN\"\n  \"http://www.w3.org/Graphics/SVG/1.1/DTD/svg11.dtd\">\n<!-- Created with matplotlib (https://matplotlib.org/) -->\n<svg height=\"166.978125pt\" version=\"1.1\" viewBox=\"0 0 231.442188 166.978125\" width=\"231.442188pt\" xmlns=\"http://www.w3.org/2000/svg\" xmlns:xlink=\"http://www.w3.org/1999/xlink\">\n <defs>\n  <style type=\"text/css\">\n*{stroke-linecap:butt;stroke-linejoin:round;}\n  </style>\n </defs>\n <g id=\"figure_1\">\n  <g id=\"patch_1\">\n   <path d=\"M 0 166.978125 \nL 231.442188 166.978125 \nL 231.442188 0 \nL 0 0 \nz\n\" style=\"fill:none;\"/>\n  </g>\n  <g id=\"axes_1\">\n   <g id=\"patch_2\">\n    <path d=\"M 28.942188 143.1 \nL 224.242188 143.1 \nL 224.242188 7.2 \nL 28.942188 7.2 \nz\n\" style=\"fill:#ffffff;\"/>\n   </g>\n   <g id=\"PathCollection_1\">\n    <defs>\n     <path d=\"M 0 3 \nC 0.795609 3 1.55874 2.683901 2.12132 2.12132 \nC 2.683901 1.55874 3 0.795609 3 0 \nC 3 -0.795609 2.683901 -1.55874 2.12132 -2.12132 \nC 1.55874 -2.683901 0.795609 -3 0 -3 \nC -0.795609 -3 -1.55874 -2.683901 -2.12132 -2.12132 \nC -2.683901 -1.55874 -3 -0.795609 -3 0 \nC -3 0.795609 -2.683901 1.55874 -2.12132 2.12132 \nC -1.55874 2.683901 -0.795609 3 0 3 \nz\n\" id=\"m9c358d5e5c\" style=\"stroke:#1f77b4;\"/>\n    </defs>\n    <g clip-path=\"url(#p622c6b8436)\">\n     <use style=\"fill:#1f77b4;stroke:#1f77b4;\" x=\"169.596581\" xlink:href=\"#m9c358d5e5c\" y=\"59.913709\"/>\n     <use style=\"fill:#1f77b4;stroke:#1f77b4;\" x=\"66.13524\" xlink:href=\"#m9c358d5e5c\" y=\"125.07164\"/>\n     <use style=\"fill:#1f77b4;stroke:#1f77b4;\" x=\"169.489883\" xlink:href=\"#m9c358d5e5c\" y=\"55.804343\"/>\n     <use style=\"fill:#1f77b4;stroke:#1f77b4;\" x=\"78.022745\" xlink:href=\"#m9c358d5e5c\" y=\"108.789085\"/>\n     <use style=\"fill:#1f77b4;stroke:#1f77b4;\" x=\"125.494008\" xlink:href=\"#m9c358d5e5c\" y=\"94.123404\"/>\n     <use style=\"fill:#1f77b4;stroke:#1f77b4;\" x=\"92.294279\" xlink:href=\"#m9c358d5e5c\" y=\"106.443065\"/>\n     <use style=\"fill:#1f77b4;stroke:#1f77b4;\" x=\"215.364915\" xlink:href=\"#m9c358d5e5c\" y=\"13.377273\"/>\n     <use style=\"fill:#1f77b4;stroke:#1f77b4;\" x=\"120.538679\" xlink:href=\"#m9c358d5e5c\" y=\"80.018426\"/>\n     <use style=\"fill:#1f77b4;stroke:#1f77b4;\" x=\"83.534375\" xlink:href=\"#m9c358d5e5c\" y=\"101.465235\"/>\n     <use style=\"fill:#1f77b4;stroke:#1f77b4;\" x=\"82.898585\" xlink:href=\"#m9c358d5e5c\" y=\"112.2882\"/>\n     <use style=\"fill:#1f77b4;stroke:#1f77b4;\" x=\"178.297885\" xlink:href=\"#m9c358d5e5c\" y=\"56.223\"/>\n     <use style=\"fill:#1f77b4;stroke:#1f77b4;\" x=\"129.433149\" xlink:href=\"#m9c358d5e5c\" y=\"69.134191\"/>\n     <use style=\"fill:#1f77b4;stroke:#1f77b4;\" x=\"168.794162\" xlink:href=\"#m9c358d5e5c\" y=\"29.193746\"/>\n     <use style=\"fill:#1f77b4;stroke:#1f77b4;\" x=\"60.572731\" xlink:href=\"#m9c358d5e5c\" y=\"123.618004\"/>\n     <use style=\"fill:#1f77b4;stroke:#1f77b4;\" x=\"148.199462\" xlink:href=\"#m9c358d5e5c\" y=\"66.088939\"/>\n     <use style=\"fill:#1f77b4;stroke:#1f77b4;\" x=\"165.980824\" xlink:href=\"#m9c358d5e5c\" y=\"50.221574\"/>\n     <use style=\"fill:#1f77b4;stroke:#1f77b4;\" x=\"147.567185\" xlink:href=\"#m9c358d5e5c\" y=\"57.127859\"/>\n     <use style=\"fill:#1f77b4;stroke:#1f77b4;\" x=\"103.514652\" xlink:href=\"#m9c358d5e5c\" y=\"86.607886\"/>\n     <use style=\"fill:#1f77b4;stroke:#1f77b4;\" x=\"191.604476\" xlink:href=\"#m9c358d5e5c\" y=\"26.997747\"/>\n     <use style=\"fill:#1f77b4;stroke:#1f77b4;\" x=\"166.8471\" xlink:href=\"#m9c358d5e5c\" y=\"54.253894\"/>\n     <use style=\"fill:#1f77b4;stroke:#1f77b4;\" x=\"39.144304\" xlink:href=\"#m9c358d5e5c\" y=\"136.922727\"/>\n     <use style=\"fill:#1f77b4;stroke:#1f77b4;\" x=\"119.57177\" xlink:href=\"#m9c358d5e5c\" y=\"94.281762\"/>\n     <use style=\"fill:#1f77b4;stroke:#1f77b4;\" x=\"147.082765\" xlink:href=\"#m9c358d5e5c\" y=\"52.519363\"/>\n     <use style=\"fill:#1f77b4;stroke:#1f77b4;\" x=\"102.003703\" xlink:href=\"#m9c358d5e5c\" y=\"83.395518\"/>\n     <use style=\"fill:#1f77b4;stroke:#1f77b4;\" x=\"112.705409\" xlink:href=\"#m9c358d5e5c\" y=\"99.168759\"/>\n     <use style=\"fill:#1f77b4;stroke:#1f77b4;\" x=\"129.79678\" xlink:href=\"#m9c358d5e5c\" y=\"88.407333\"/>\n     <use style=\"fill:#1f77b4;stroke:#1f77b4;\" x=\"120.810035\" xlink:href=\"#m9c358d5e5c\" y=\"86.345325\"/>\n     <use style=\"fill:#1f77b4;stroke:#1f77b4;\" x=\"117.79018\" xlink:href=\"#m9c358d5e5c\" y=\"82.765847\"/>\n     <use style=\"fill:#1f77b4;stroke:#1f77b4;\" x=\"86.335324\" xlink:href=\"#m9c358d5e5c\" y=\"104.342181\"/>\n     <use style=\"fill:#1f77b4;stroke:#1f77b4;\" x=\"143.816522\" xlink:href=\"#m9c358d5e5c\" y=\"77.951693\"/>\n     <use style=\"fill:#1f77b4;stroke:#1f77b4;\" x=\"116.636774\" xlink:href=\"#m9c358d5e5c\" y=\"85.969489\"/>\n     <use style=\"fill:#1f77b4;stroke:#1f77b4;\" x=\"116.703242\" xlink:href=\"#m9c358d5e5c\" y=\"101.849576\"/>\n     <use style=\"fill:#1f77b4;stroke:#1f77b4;\" x=\"146.48176\" xlink:href=\"#m9c358d5e5c\" y=\"83.065913\"/>\n     <use style=\"fill:#1f77b4;stroke:#1f77b4;\" x=\"173.945804\" xlink:href=\"#m9c358d5e5c\" y=\"49.008532\"/>\n     <use style=\"fill:#1f77b4;stroke:#1f77b4;\" x=\"168.597647\" xlink:href=\"#m9c358d5e5c\" y=\"53.533613\"/>\n     <use style=\"fill:#1f77b4;stroke:#1f77b4;\" x=\"100.474169\" xlink:href=\"#m9c358d5e5c\" y=\"91.939797\"/>\n     <use style=\"fill:#1f77b4;stroke:#1f77b4;\" x=\"108.394895\" xlink:href=\"#m9c358d5e5c\" y=\"89.857829\"/>\n     <use style=\"fill:#1f77b4;stroke:#1f77b4;\" x=\"112.014888\" xlink:href=\"#m9c358d5e5c\" y=\"91.930222\"/>\n     <use style=\"fill:#1f77b4;stroke:#1f77b4;\" x=\"121.827598\" xlink:href=\"#m9c358d5e5c\" y=\"89.470864\"/>\n     <use style=\"fill:#1f77b4;stroke:#1f77b4;\" x=\"46.145496\" xlink:href=\"#m9c358d5e5c\" y=\"131.827915\"/>\n     <use style=\"fill:#1f77b4;stroke:#1f77b4;\" x=\"140.363374\" xlink:href=\"#m9c358d5e5c\" y=\"59.947124\"/>\n     <use style=\"fill:#1f77b4;stroke:#1f77b4;\" x=\"127.171246\" xlink:href=\"#m9c358d5e5c\" y=\"81.734212\"/>\n     <use style=\"fill:#1f77b4;stroke:#1f77b4;\" x=\"185.635\" xlink:href=\"#m9c358d5e5c\" y=\"42.460322\"/>\n     <use style=\"fill:#1f77b4;stroke:#1f77b4;\" x=\"148.27193\" xlink:href=\"#m9c358d5e5c\" y=\"60.804078\"/>\n     <use style=\"fill:#1f77b4;stroke:#1f77b4;\" x=\"154.614948\" xlink:href=\"#m9c358d5e5c\" y=\"56.858291\"/>\n     <use style=\"fill:#1f77b4;stroke:#1f77b4;\" x=\"106.618205\" xlink:href=\"#m9c358d5e5c\" y=\"89.247472\"/>\n     <use style=\"fill:#1f77b4;stroke:#1f77b4;\" x=\"149.735908\" xlink:href=\"#m9c358d5e5c\" y=\"70.921799\"/>\n     <use style=\"fill:#1f77b4;stroke:#1f77b4;\" x=\"86.029402\" xlink:href=\"#m9c358d5e5c\" y=\"100.476311\"/>\n     <use style=\"fill:#1f77b4;stroke:#1f77b4;\" x=\"151.83441\" xlink:href=\"#m9c358d5e5c\" y=\"68.052014\"/>\n     <use style=\"fill:#1f77b4;stroke:#1f77b4;\" x=\"124.441127\" xlink:href=\"#m9c358d5e5c\" y=\"84.474006\"/>\n     <use style=\"fill:#1f77b4;stroke:#1f77b4;\" x=\"103.489209\" xlink:href=\"#m9c358d5e5c\" y=\"87.466177\"/>\n     <use style=\"fill:#1f77b4;stroke:#1f77b4;\" x=\"80.879162\" xlink:href=\"#m9c358d5e5c\" y=\"112.521529\"/>\n     <use style=\"fill:#1f77b4;stroke:#1f77b4;\" x=\"102.209625\" xlink:href=\"#m9c358d5e5c\" y=\"91.463896\"/>\n     <use style=\"fill:#1f77b4;stroke:#1f77b4;\" x=\"95.804925\" xlink:href=\"#m9c358d5e5c\" y=\"94.607163\"/>\n     <use style=\"fill:#1f77b4;stroke:#1f77b4;\" x=\"156.399379\" xlink:href=\"#m9c358d5e5c\" y=\"60.308642\"/>\n     <use style=\"fill:#1f77b4;stroke:#1f77b4;\" x=\"80.939541\" xlink:href=\"#m9c358d5e5c\" y=\"105.267748\"/>\n     <use style=\"fill:#1f77b4;stroke:#1f77b4;\" x=\"112.656709\" xlink:href=\"#m9c358d5e5c\" y=\"80.141592\"/>\n     <use style=\"fill:#1f77b4;stroke:#1f77b4;\" x=\"174.238311\" xlink:href=\"#m9c358d5e5c\" y=\"56.621638\"/>\n     <use style=\"fill:#1f77b4;stroke:#1f77b4;\" x=\"85.65248\" xlink:href=\"#m9c358d5e5c\" y=\"107.004936\"/>\n     <use style=\"fill:#1f77b4;stroke:#1f77b4;\" x=\"144.973103\" xlink:href=\"#m9c358d5e5c\" y=\"67.993332\"/>\n     <use style=\"fill:#1f77b4;stroke:#1f77b4;\" x=\"176.733497\" xlink:href=\"#m9c358d5e5c\" y=\"68.998203\"/>\n     <use style=\"fill:#1f77b4;stroke:#1f77b4;\" x=\"37.81946\" xlink:href=\"#m9c358d5e5c\" y=\"133.083202\"/>\n     <use style=\"fill:#1f77b4;stroke:#1f77b4;\" x=\"115.454371\" xlink:href=\"#m9c358d5e5c\" y=\"82.949257\"/>\n     <use style=\"fill:#1f77b4;stroke:#1f77b4;\" x=\"100.468502\" xlink:href=\"#m9c358d5e5c\" y=\"89.973359\"/>\n     <use style=\"fill:#1f77b4;stroke:#1f77b4;\" x=\"166.108862\" xlink:href=\"#m9c358d5e5c\" y=\"59.559356\"/>\n     <use style=\"fill:#1f77b4;stroke:#1f77b4;\" x=\"164.671001\" xlink:href=\"#m9c358d5e5c\" y=\"75.465326\"/>\n     <use style=\"fill:#1f77b4;stroke:#1f77b4;\" x=\"83.752054\" xlink:href=\"#m9c358d5e5c\" y=\"109.665331\"/>\n     <use style=\"fill:#1f77b4;stroke:#1f77b4;\" x=\"131.241387\" xlink:href=\"#m9c358d5e5c\" y=\"71.428423\"/>\n     <use style=\"fill:#1f77b4;stroke:#1f77b4;\" x=\"123.449614\" xlink:href=\"#m9c358d5e5c\" y=\"83.70828\"/>\n     <use style=\"fill:#1f77b4;stroke:#1f77b4;\" x=\"150.262858\" xlink:href=\"#m9c358d5e5c\" y=\"67.116181\"/>\n     <use style=\"fill:#1f77b4;stroke:#1f77b4;\" x=\"114.913787\" xlink:href=\"#m9c358d5e5c\" y=\"80.226076\"/>\n     <use style=\"fill:#1f77b4;stroke:#1f77b4;\" x=\"111.195585\" xlink:href=\"#m9c358d5e5c\" y=\"98.618429\"/>\n     <use style=\"fill:#1f77b4;stroke:#1f77b4;\" x=\"199.907582\" xlink:href=\"#m9c358d5e5c\" y=\"35.584779\"/>\n     <use style=\"fill:#1f77b4;stroke:#1f77b4;\" x=\"185.386566\" xlink:href=\"#m9c358d5e5c\" y=\"36.563422\"/>\n     <use style=\"fill:#1f77b4;stroke:#1f77b4;\" x=\"167.335915\" xlink:href=\"#m9c358d5e5c\" y=\"51.490255\"/>\n     <use style=\"fill:#1f77b4;stroke:#1f77b4;\" x=\"62.602976\" xlink:href=\"#m9c358d5e5c\" y=\"128.654142\"/>\n     <use style=\"fill:#1f77b4;stroke:#1f77b4;\" x=\"116.047288\" xlink:href=\"#m9c358d5e5c\" y=\"98.979293\"/>\n     <use style=\"fill:#1f77b4;stroke:#1f77b4;\" x=\"164.163435\" xlink:href=\"#m9c358d5e5c\" y=\"68.360022\"/>\n     <use style=\"fill:#1f77b4;stroke:#1f77b4;\" x=\"172.575818\" xlink:href=\"#m9c358d5e5c\" y=\"52.465063\"/>\n     <use style=\"fill:#1f77b4;stroke:#1f77b4;\" x=\"174.324118\" xlink:href=\"#m9c358d5e5c\" y=\"56.432389\"/>\n     <use style=\"fill:#1f77b4;stroke:#1f77b4;\" x=\"107.67905\" xlink:href=\"#m9c358d5e5c\" y=\"99.6306\"/>\n     <use style=\"fill:#1f77b4;stroke:#1f77b4;\" x=\"93.294829\" xlink:href=\"#m9c358d5e5c\" y=\"110.798297\"/>\n     <use style=\"fill:#1f77b4;stroke:#1f77b4;\" x=\"156.565337\" xlink:href=\"#m9c358d5e5c\" y=\"73.836981\"/>\n     <use style=\"fill:#1f77b4;stroke:#1f77b4;\" x=\"162.334352\" xlink:href=\"#m9c358d5e5c\" y=\"51.434674\"/>\n     <use style=\"fill:#1f77b4;stroke:#1f77b4;\" x=\"170.744649\" xlink:href=\"#m9c358d5e5c\" y=\"53.251617\"/>\n     <use style=\"fill:#1f77b4;stroke:#1f77b4;\" x=\"146.565307\" xlink:href=\"#m9c358d5e5c\" y=\"58.031106\"/>\n     <use style=\"fill:#1f77b4;stroke:#1f77b4;\" x=\"113.479477\" xlink:href=\"#m9c358d5e5c\" y=\"98.65856\"/>\n     <use style=\"fill:#1f77b4;stroke:#1f77b4;\" x=\"121.102708\" xlink:href=\"#m9c358d5e5c\" y=\"75.836134\"/>\n     <use style=\"fill:#1f77b4;stroke:#1f77b4;\" x=\"140.630676\" xlink:href=\"#m9c358d5e5c\" y=\"65.654846\"/>\n     <use style=\"fill:#1f77b4;stroke:#1f77b4;\" x=\"110.041632\" xlink:href=\"#m9c358d5e5c\" y=\"75.555137\"/>\n     <use style=\"fill:#1f77b4;stroke:#1f77b4;\" x=\"95.81195\" xlink:href=\"#m9c358d5e5c\" y=\"99.287491\"/>\n     <use style=\"fill:#1f77b4;stroke:#1f77b4;\" x=\"133.142772\" xlink:href=\"#m9c358d5e5c\" y=\"79.048478\"/>\n     <use style=\"fill:#1f77b4;stroke:#1f77b4;\" x=\"115.799357\" xlink:href=\"#m9c358d5e5c\" y=\"94.711801\"/>\n     <use style=\"fill:#1f77b4;stroke:#1f77b4;\" x=\"101.165468\" xlink:href=\"#m9c358d5e5c\" y=\"90.071736\"/>\n     <use style=\"fill:#1f77b4;stroke:#1f77b4;\" x=\"140.002183\" xlink:href=\"#m9c358d5e5c\" y=\"70.742812\"/>\n     <use style=\"fill:#1f77b4;stroke:#1f77b4;\" x=\"157.499326\" xlink:href=\"#m9c358d5e5c\" y=\"50.529292\"/>\n     <use style=\"fill:#1f77b4;stroke:#1f77b4;\" x=\"77.670633\" xlink:href=\"#m9c358d5e5c\" y=\"110.430377\"/>\n     <use style=\"fill:#1f77b4;stroke:#1f77b4;\" x=\"119.126924\" xlink:href=\"#m9c358d5e5c\" y=\"85.836106\"/>\n     <use style=\"fill:#1f77b4;stroke:#1f77b4;\" x=\"99.418024\" xlink:href=\"#m9c358d5e5c\" y=\"89.794742\"/>\n     <use style=\"fill:#1f77b4;stroke:#1f77b4;\" x=\"116.527139\" xlink:href=\"#m9c358d5e5c\" y=\"81.90131\"/>\n    </g>\n   </g>\n   <g id=\"matplotlib.axis_1\">\n    <g id=\"xtick_1\">\n     <g id=\"line2d_1\">\n      <defs>\n       <path d=\"M 0 0 \nL 0 3.5 \n\" id=\"m0f298e25b5\" style=\"stroke:#000000;stroke-width:0.8;\"/>\n      </defs>\n      <g>\n       <use style=\"stroke:#000000;stroke-width:0.8;\" x=\"45.119766\" xlink:href=\"#m0f298e25b5\" y=\"143.1\"/>\n      </g>\n     </g>\n     <g id=\"text_1\">\n      <!-- −1 -->\n      <defs>\n       <path d=\"M 10.59375 35.5 \nL 73.1875 35.5 \nL 73.1875 27.203125 \nL 10.59375 27.203125 \nz\n\" id=\"DejaVuSans-8722\"/>\n       <path d=\"M 12.40625 8.296875 \nL 28.515625 8.296875 \nL 28.515625 63.921875 \nL 10.984375 60.40625 \nL 10.984375 69.390625 \nL 28.421875 72.90625 \nL 38.28125 72.90625 \nL 38.28125 8.296875 \nL 54.390625 8.296875 \nL 54.390625 0 \nL 12.40625 0 \nz\n\" id=\"DejaVuSans-49\"/>\n      </defs>\n      <g transform=\"translate(37.748673 157.698438)scale(0.1 -0.1)\">\n       <use xlink:href=\"#DejaVuSans-8722\"/>\n       <use x=\"83.789062\" xlink:href=\"#DejaVuSans-49\"/>\n      </g>\n     </g>\n    </g>\n    <g id=\"xtick_2\">\n     <g id=\"line2d_2\">\n      <g>\n       <use style=\"stroke:#000000;stroke-width:0.8;\" x=\"82.821843\" xlink:href=\"#m0f298e25b5\" y=\"143.1\"/>\n      </g>\n     </g>\n     <g id=\"text_2\">\n      <!-- 0 -->\n      <defs>\n       <path d=\"M 31.78125 66.40625 \nQ 24.171875 66.40625 20.328125 58.90625 \nQ 16.5 51.421875 16.5 36.375 \nQ 16.5 21.390625 20.328125 13.890625 \nQ 24.171875 6.390625 31.78125 6.390625 \nQ 39.453125 6.390625 43.28125 13.890625 \nQ 47.125 21.390625 47.125 36.375 \nQ 47.125 51.421875 43.28125 58.90625 \nQ 39.453125 66.40625 31.78125 66.40625 \nz\nM 31.78125 74.21875 \nQ 44.046875 74.21875 50.515625 64.515625 \nQ 56.984375 54.828125 56.984375 36.375 \nQ 56.984375 17.96875 50.515625 8.265625 \nQ 44.046875 -1.421875 31.78125 -1.421875 \nQ 19.53125 -1.421875 13.0625 8.265625 \nQ 6.59375 17.96875 6.59375 36.375 \nQ 6.59375 54.828125 13.0625 64.515625 \nQ 19.53125 74.21875 31.78125 74.21875 \nz\n\" id=\"DejaVuSans-48\"/>\n      </defs>\n      <g transform=\"translate(79.640593 157.698438)scale(0.1 -0.1)\">\n       <use xlink:href=\"#DejaVuSans-48\"/>\n      </g>\n     </g>\n    </g>\n    <g id=\"xtick_3\">\n     <g id=\"line2d_3\">\n      <g>\n       <use style=\"stroke:#000000;stroke-width:0.8;\" x=\"120.523919\" xlink:href=\"#m0f298e25b5\" y=\"143.1\"/>\n      </g>\n     </g>\n     <g id=\"text_3\">\n      <!-- 1 -->\n      <g transform=\"translate(117.342669 157.698438)scale(0.1 -0.1)\">\n       <use xlink:href=\"#DejaVuSans-49\"/>\n      </g>\n     </g>\n    </g>\n    <g id=\"xtick_4\">\n     <g id=\"line2d_4\">\n      <g>\n       <use style=\"stroke:#000000;stroke-width:0.8;\" x=\"158.225995\" xlink:href=\"#m0f298e25b5\" y=\"143.1\"/>\n      </g>\n     </g>\n     <g id=\"text_4\">\n      <!-- 2 -->\n      <defs>\n       <path d=\"M 19.1875 8.296875 \nL 53.609375 8.296875 \nL 53.609375 0 \nL 7.328125 0 \nL 7.328125 8.296875 \nQ 12.9375 14.109375 22.625 23.890625 \nQ 32.328125 33.6875 34.8125 36.53125 \nQ 39.546875 41.84375 41.421875 45.53125 \nQ 43.3125 49.21875 43.3125 52.78125 \nQ 43.3125 58.59375 39.234375 62.25 \nQ 35.15625 65.921875 28.609375 65.921875 \nQ 23.96875 65.921875 18.8125 64.3125 \nQ 13.671875 62.703125 7.8125 59.421875 \nL 7.8125 69.390625 \nQ 13.765625 71.78125 18.9375 73 \nQ 24.125 74.21875 28.421875 74.21875 \nQ 39.75 74.21875 46.484375 68.546875 \nQ 53.21875 62.890625 53.21875 53.421875 \nQ 53.21875 48.921875 51.53125 44.890625 \nQ 49.859375 40.875 45.40625 35.40625 \nQ 44.1875 33.984375 37.640625 27.21875 \nQ 31.109375 20.453125 19.1875 8.296875 \nz\n\" id=\"DejaVuSans-50\"/>\n      </defs>\n      <g transform=\"translate(155.044745 157.698438)scale(0.1 -0.1)\">\n       <use xlink:href=\"#DejaVuSans-50\"/>\n      </g>\n     </g>\n    </g>\n    <g id=\"xtick_5\">\n     <g id=\"line2d_5\">\n      <g>\n       <use style=\"stroke:#000000;stroke-width:0.8;\" x=\"195.928072\" xlink:href=\"#m0f298e25b5\" y=\"143.1\"/>\n      </g>\n     </g>\n     <g id=\"text_5\">\n      <!-- 3 -->\n      <defs>\n       <path d=\"M 40.578125 39.3125 \nQ 47.65625 37.796875 51.625 33 \nQ 55.609375 28.21875 55.609375 21.1875 \nQ 55.609375 10.40625 48.1875 4.484375 \nQ 40.765625 -1.421875 27.09375 -1.421875 \nQ 22.515625 -1.421875 17.65625 -0.515625 \nQ 12.796875 0.390625 7.625 2.203125 \nL 7.625 11.71875 \nQ 11.71875 9.328125 16.59375 8.109375 \nQ 21.484375 6.890625 26.8125 6.890625 \nQ 36.078125 6.890625 40.9375 10.546875 \nQ 45.796875 14.203125 45.796875 21.1875 \nQ 45.796875 27.640625 41.28125 31.265625 \nQ 36.765625 34.90625 28.71875 34.90625 \nL 20.21875 34.90625 \nL 20.21875 43.015625 \nL 29.109375 43.015625 \nQ 36.375 43.015625 40.234375 45.921875 \nQ 44.09375 48.828125 44.09375 54.296875 \nQ 44.09375 59.90625 40.109375 62.90625 \nQ 36.140625 65.921875 28.71875 65.921875 \nQ 24.65625 65.921875 20.015625 65.03125 \nQ 15.375 64.15625 9.8125 62.3125 \nL 9.8125 71.09375 \nQ 15.4375 72.65625 20.34375 73.4375 \nQ 25.25 74.21875 29.59375 74.21875 \nQ 40.828125 74.21875 47.359375 69.109375 \nQ 53.90625 64.015625 53.90625 55.328125 \nQ 53.90625 49.265625 50.4375 45.09375 \nQ 46.96875 40.921875 40.578125 39.3125 \nz\n\" id=\"DejaVuSans-51\"/>\n      </defs>\n      <g transform=\"translate(192.746822 157.698438)scale(0.1 -0.1)\">\n       <use xlink:href=\"#DejaVuSans-51\"/>\n      </g>\n     </g>\n    </g>\n   </g>\n   <g id=\"matplotlib.axis_2\">\n    <g id=\"ytick_1\">\n     <g id=\"line2d_6\">\n      <defs>\n       <path d=\"M 0 0 \nL -3.5 0 \n\" id=\"m53be611e0f\" style=\"stroke:#000000;stroke-width:0.8;\"/>\n      </defs>\n      <g>\n       <use style=\"stroke:#000000;stroke-width:0.8;\" x=\"28.942188\" xlink:href=\"#m53be611e0f\" y=\"131.907297\"/>\n      </g>\n     </g>\n     <g id=\"text_6\">\n      <!-- −2 -->\n      <g transform=\"translate(7.2 135.706516)scale(0.1 -0.1)\">\n       <use xlink:href=\"#DejaVuSans-8722\"/>\n       <use x=\"83.789062\" xlink:href=\"#DejaVuSans-50\"/>\n      </g>\n     </g>\n    </g>\n    <g id=\"ytick_2\">\n     <g id=\"line2d_7\">\n      <g>\n       <use style=\"stroke:#000000;stroke-width:0.8;\" x=\"28.942188\" xlink:href=\"#m53be611e0f\" y=\"108.038852\"/>\n      </g>\n     </g>\n     <g id=\"text_7\">\n      <!-- 0 -->\n      <g transform=\"translate(15.579688 111.83807)scale(0.1 -0.1)\">\n       <use xlink:href=\"#DejaVuSans-48\"/>\n      </g>\n     </g>\n    </g>\n    <g id=\"ytick_3\">\n     <g id=\"line2d_8\">\n      <g>\n       <use style=\"stroke:#000000;stroke-width:0.8;\" x=\"28.942188\" xlink:href=\"#m53be611e0f\" y=\"84.170406\"/>\n      </g>\n     </g>\n     <g id=\"text_8\">\n      <!-- 2 -->\n      <g transform=\"translate(15.579688 87.969625)scale(0.1 -0.1)\">\n       <use xlink:href=\"#DejaVuSans-50\"/>\n      </g>\n     </g>\n    </g>\n    <g id=\"ytick_4\">\n     <g id=\"line2d_9\">\n      <g>\n       <use style=\"stroke:#000000;stroke-width:0.8;\" x=\"28.942188\" xlink:href=\"#m53be611e0f\" y=\"60.301961\"/>\n      </g>\n     </g>\n     <g id=\"text_9\">\n      <!-- 4 -->\n      <defs>\n       <path d=\"M 37.796875 64.3125 \nL 12.890625 25.390625 \nL 37.796875 25.390625 \nz\nM 35.203125 72.90625 \nL 47.609375 72.90625 \nL 47.609375 25.390625 \nL 58.015625 25.390625 \nL 58.015625 17.1875 \nL 47.609375 17.1875 \nL 47.609375 0 \nL 37.796875 0 \nL 37.796875 17.1875 \nL 4.890625 17.1875 \nL 4.890625 26.703125 \nz\n\" id=\"DejaVuSans-52\"/>\n      </defs>\n      <g transform=\"translate(15.579688 64.10118)scale(0.1 -0.1)\">\n       <use xlink:href=\"#DejaVuSans-52\"/>\n      </g>\n     </g>\n    </g>\n    <g id=\"ytick_5\">\n     <g id=\"line2d_10\">\n      <g>\n       <use style=\"stroke:#000000;stroke-width:0.8;\" x=\"28.942188\" xlink:href=\"#m53be611e0f\" y=\"36.433516\"/>\n      </g>\n     </g>\n     <g id=\"text_10\">\n      <!-- 6 -->\n      <defs>\n       <path d=\"M 33.015625 40.375 \nQ 26.375 40.375 22.484375 35.828125 \nQ 18.609375 31.296875 18.609375 23.390625 \nQ 18.609375 15.53125 22.484375 10.953125 \nQ 26.375 6.390625 33.015625 6.390625 \nQ 39.65625 6.390625 43.53125 10.953125 \nQ 47.40625 15.53125 47.40625 23.390625 \nQ 47.40625 31.296875 43.53125 35.828125 \nQ 39.65625 40.375 33.015625 40.375 \nz\nM 52.59375 71.296875 \nL 52.59375 62.3125 \nQ 48.875 64.0625 45.09375 64.984375 \nQ 41.3125 65.921875 37.59375 65.921875 \nQ 27.828125 65.921875 22.671875 59.328125 \nQ 17.53125 52.734375 16.796875 39.40625 \nQ 19.671875 43.65625 24.015625 45.921875 \nQ 28.375 48.1875 33.59375 48.1875 \nQ 44.578125 48.1875 50.953125 41.515625 \nQ 57.328125 34.859375 57.328125 23.390625 \nQ 57.328125 12.15625 50.6875 5.359375 \nQ 44.046875 -1.421875 33.015625 -1.421875 \nQ 20.359375 -1.421875 13.671875 8.265625 \nQ 6.984375 17.96875 6.984375 36.375 \nQ 6.984375 53.65625 15.1875 63.9375 \nQ 23.390625 74.21875 37.203125 74.21875 \nQ 40.921875 74.21875 44.703125 73.484375 \nQ 48.484375 72.75 52.59375 71.296875 \nz\n\" id=\"DejaVuSans-54\"/>\n      </defs>\n      <g transform=\"translate(15.579688 40.232734)scale(0.1 -0.1)\">\n       <use xlink:href=\"#DejaVuSans-54\"/>\n      </g>\n     </g>\n    </g>\n    <g id=\"ytick_6\">\n     <g id=\"line2d_11\">\n      <g>\n       <use style=\"stroke:#000000;stroke-width:0.8;\" x=\"28.942188\" xlink:href=\"#m53be611e0f\" y=\"12.56507\"/>\n      </g>\n     </g>\n     <g id=\"text_11\">\n      <!-- 8 -->\n      <defs>\n       <path d=\"M 31.78125 34.625 \nQ 24.75 34.625 20.71875 30.859375 \nQ 16.703125 27.09375 16.703125 20.515625 \nQ 16.703125 13.921875 20.71875 10.15625 \nQ 24.75 6.390625 31.78125 6.390625 \nQ 38.8125 6.390625 42.859375 10.171875 \nQ 46.921875 13.96875 46.921875 20.515625 \nQ 46.921875 27.09375 42.890625 30.859375 \nQ 38.875 34.625 31.78125 34.625 \nz\nM 21.921875 38.8125 \nQ 15.578125 40.375 12.03125 44.71875 \nQ 8.5 49.078125 8.5 55.328125 \nQ 8.5 64.0625 14.71875 69.140625 \nQ 20.953125 74.21875 31.78125 74.21875 \nQ 42.671875 74.21875 48.875 69.140625 \nQ 55.078125 64.0625 55.078125 55.328125 \nQ 55.078125 49.078125 51.53125 44.71875 \nQ 48 40.375 41.703125 38.8125 \nQ 48.828125 37.15625 52.796875 32.3125 \nQ 56.78125 27.484375 56.78125 20.515625 \nQ 56.78125 9.90625 50.3125 4.234375 \nQ 43.84375 -1.421875 31.78125 -1.421875 \nQ 19.734375 -1.421875 13.25 4.234375 \nQ 6.78125 9.90625 6.78125 20.515625 \nQ 6.78125 27.484375 10.78125 32.3125 \nQ 14.796875 37.15625 21.921875 38.8125 \nz\nM 18.3125 54.390625 \nQ 18.3125 48.734375 21.84375 45.5625 \nQ 25.390625 42.390625 31.78125 42.390625 \nQ 38.140625 42.390625 41.71875 45.5625 \nQ 45.3125 48.734375 45.3125 54.390625 \nQ 45.3125 60.0625 41.71875 63.234375 \nQ 38.140625 66.40625 31.78125 66.40625 \nQ 25.390625 66.40625 21.84375 63.234375 \nQ 18.3125 60.0625 18.3125 54.390625 \nz\n\" id=\"DejaVuSans-56\"/>\n      </defs>\n      <g transform=\"translate(15.579688 16.364289)scale(0.1 -0.1)\">\n       <use xlink:href=\"#DejaVuSans-56\"/>\n      </g>\n     </g>\n    </g>\n   </g>\n   <g id=\"patch_3\">\n    <path d=\"M 28.942188 143.1 \nL 28.942188 7.2 \n\" style=\"fill:none;stroke:#000000;stroke-linecap:square;stroke-linejoin:miter;stroke-width:0.8;\"/>\n   </g>\n   <g id=\"patch_4\">\n    <path d=\"M 224.242188 143.1 \nL 224.242188 7.2 \n\" style=\"fill:none;stroke:#000000;stroke-linecap:square;stroke-linejoin:miter;stroke-width:0.8;\"/>\n   </g>\n   <g id=\"patch_5\">\n    <path d=\"M 28.942188 143.1 \nL 224.242188 143.1 \n\" style=\"fill:none;stroke:#000000;stroke-linecap:square;stroke-linejoin:miter;stroke-width:0.8;\"/>\n   </g>\n   <g id=\"patch_6\">\n    <path d=\"M 28.942188 7.2 \nL 224.242188 7.2 \n\" style=\"fill:none;stroke:#000000;stroke-linecap:square;stroke-linejoin:miter;stroke-width:0.8;\"/>\n   </g>\n  </g>\n </g>\n <defs>\n  <clipPath id=\"p622c6b8436\">\n   <rect height=\"135.9\" width=\"195.3\" x=\"28.942188\" y=\"7.2\"/>\n  </clipPath>\n </defs>\n</svg>\n"
          },
          "metadata": {
            "tags": [],
            "needs_background": "light"
          }
        }
      ]
    },
    {
      "cell_type": "code",
      "metadata": {
        "id": "AdU-qfIDfCZk"
      },
      "source": [
        "batch_size = 8\n",
        "data_iter = d2l.load_array((data,), batch_size)"
      ],
      "execution_count": 7,
      "outputs": []
    },
    {
      "cell_type": "code",
      "metadata": {
        "id": "VHq4T0JsfCZl"
      },
      "source": [
        "net_G = tf.keras.Sequential()\n",
        "net_G.add(tf.keras.layers.Dense(2))"
      ],
      "execution_count": 8,
      "outputs": []
    },
    {
      "cell_type": "code",
      "metadata": {
        "id": "feHdkPZ6fCZm"
      },
      "source": [
        "net_D = tf.keras.Sequential()\n",
        "net_D.add(tf.keras.layers.Dense(5, activation='tanh'))\n",
        "net_D.add(tf.keras.layers.Dense(3, activation='tanh'))\n",
        "net_D.add(tf.keras.layers.Dense(1))"
      ],
      "execution_count": 9,
      "outputs": []
    },
    {
      "cell_type": "markdown",
      "metadata": {
        "id": "G1SzH2cCfCZm"
      },
      "source": [
        "https://codingnote.cc/p/289284/"
      ]
    },
    {
      "cell_type": "code",
      "metadata": {
        "id": "TR8-QgxEgeeh"
      },
      "source": [
        "batch_size = X.shape[0]\n"
      ],
      "execution_count": 10,
      "outputs": []
    },
    {
      "cell_type": "code",
      "metadata": {
        "colab": {
          "base_uri": "https://localhost:8080/"
        },
        "id": "NfJsIX2vgi7U",
        "outputId": "21f62092-7195-44fa-9cba-3e3e8158cf04"
      },
      "source": [
        "print(batch_size)"
      ],
      "execution_count": 11,
      "outputs": [
        {
          "output_type": "stream",
          "text": [
            "1000\n"
          ],
          "name": "stdout"
        }
      ]
    },
    {
      "cell_type": "code",
      "metadata": {
        "id": "BWnCMJd6hFnE"
      },
      "source": [
        "ones = tf.ones_like(batch_size)"
      ],
      "execution_count": 12,
      "outputs": []
    },
    {
      "cell_type": "code",
      "metadata": {
        "colab": {
          "base_uri": "https://localhost:8080/"
        },
        "id": "gX-5IOKehHnD",
        "outputId": "52c5a1b4-a45a-494e-98d8-d41ad61de603"
      },
      "source": [
        "print(ones)"
      ],
      "execution_count": 13,
      "outputs": [
        {
          "output_type": "stream",
          "text": [
            "tf.Tensor(1, shape=(), dtype=int32)\n"
          ],
          "name": "stdout"
        }
      ]
    },
    {
      "cell_type": "code",
      "metadata": {
        "id": "qe6oElpziDLQ"
      },
      "source": [
        "#@save\n",
        "def update_D(X, Z, net_D, net_G, loss, trainer_D):\n",
        "    \"\"\"Update discriminator.\"\"\"\n",
        "    batch_size = X.shape[0]\n",
        "    ones = tf.ones_like(batch_size, tf.float32)# , device=X.device)\n",
        "    zeros = tf.zeros_like(batch_size, tf.float32)# , device=X.device)\n",
        "    with tf.GradientTape() as D_tape:\n",
        "        real_Y = net_D(X, training=True)\n",
        "        fake_X = net_G(X, training=True)\n",
        "        # Do not need to compute gradient for `net_G`, detach it from\n",
        "        # computing gradients.\n",
        "        fake_Y = net_D(tf.stop_gradient(fake_X), training=False)\n",
        "        loss_D = (loss(real_Y, ones) + loss(fake_Y, zeros)) / 2\n",
        "    grads = D_tape.gradient(loss_D, net_D.trainable_variables)\n",
        "    trainer_D.apply_gradients(zip(grads, net_D.trainable_weights))\n",
        "    return float(loss_D)"
      ],
      "execution_count": 14,
      "outputs": []
    },
    {
      "cell_type": "code",
      "metadata": {
        "id": "-YonJDSefCZn"
      },
      "source": [
        "#@save\n",
        "def update_G(Z, net_D, net_G, loss, trainer_G):\n",
        "    \"\"\"Update generator.\"\"\"\n",
        "    batch_size = Z.shape[0]\n",
        "    zeros = tf.zeros_like(batch_size, tf.float32)\n",
        "    with tf.GradientTape() as G_tape:\n",
        "        # We could reuse `fake_X` from `update_D` to save computation\n",
        "        fake_X = net_G(Z, training=True)\n",
        "        # Recomputing `fake_Y` is needed since `net_D` is changed\n",
        "        fake_Y = net_D(fake_X, training=True)\n",
        "        loss_G = loss(fake_Y, zeros)\n",
        "    grads = G_tape.gradient(loss_G, net_G.trainable_variables) \n",
        "    trainer_G.apply_gradients(zip(grads, net_G.trainable_weights))\n",
        "    return float(loss_G)"
      ],
      "execution_count": 15,
      "outputs": []
    },
    {
      "cell_type": "markdown",
      "metadata": {
        "id": "k2A_X73VfCZp"
      },
      "source": [
        "from_logits=True\n",
        "https://github.com/thisisiron/TF2-GAN/blob/master/gan/train.py"
      ]
    },
    {
      "cell_type": "markdown",
      "metadata": {
        "id": "ABRQ9GJKfCZp"
      },
      "source": [
        "tf.nn.sigmoid_cross_entropy_with_logits https://www.tensorflow.org/tutorials/generative/cvae"
      ]
    },
    {
      "cell_type": "code",
      "metadata": {
        "id": "_PUueFvmfCZq"
      },
      "source": [
        "def train(net_D, net_G, data_iter, num_epochs, lr_D, lr_G, latent_dim, data):\n",
        "    loss = tf.keras.losses.BinaryCrossentropy(reduction=\n",
        "                tf.keras.losses.Reduction.SUM)\n",
        "    tf.keras.initializers.RandomNormal(net_D, stddev=0.02)\n",
        "    tf.keras.initializers.RandomNormal(net_G, stddev=0.02)\n",
        "    trainer_D = tf.keras.optimizers.Adam(learning_rate=lr_D)\n",
        "    trainer_G = tf.keras.optimizers.Adam(learning_rate=lr_G)\n",
        "    net_D.compile(optimizer=trainer_D)\n",
        "    net_G.compile(optimizer=trainer_G)\n",
        "    animator = d2l.Animator(xlabel='epoch', ylabel='loss',\n",
        "                            xlim=[1, num_epochs], nrows=2, figsize=(5, 5),\n",
        "                            legend=['discriminator', 'generator'])\n",
        "    animator.fig.subplots_adjust(hspace=0.3)\n",
        "    for epoch in range(num_epochs):\n",
        "        # Train one epoch\n",
        "        timer = d2l.Timer()\n",
        "        metric = d2l.Accumulator(3)  # loss_D, loss_G, num_examples\n",
        "        for (X,) in data_iter:\n",
        "            batch_size = X.shape[0]\n",
        "            Z = d2l.normal([batch_size, latent_dim], 0, 1, tf.float32)\n",
        "            metric.add(update_D(X, Z, net_D, net_G, loss, trainer_D),\n",
        "                       update_G(Z, net_D, net_G, loss, trainer_G),\n",
        "                       batch_size)\n",
        "        # Visualize generated examples\n",
        "        Z = d2l.normal([100, latent_dim], 0, 1, tf.float32)\n",
        "        fake_X = net_G(tf.stop_gradient(Z), training=False).numpy()\n",
        "        animator.axes[1].cla()\n",
        "        animator.axes[1].scatter(data[:, 0], data[:, 1])\n",
        "        animator.axes[1].scatter(fake_X[:, 0], fake_X[:, 1])\n",
        "        animator.axes[1].legend(['real', 'generated'])\n",
        "        # Show the losses\n",
        "        loss_D, loss_G = metric[0]/metric[2], metric[1]/metric[2]\n",
        "        animator.add(epoch + 1, (loss_D, loss_G))\n",
        "    print(f'loss_D {loss_D:.3f}, loss_G {loss_G:.3f}, '\n",
        "          f'{metric[2] / timer.stop():.1f} examples/sec')"
      ],
      "execution_count": 16,
      "outputs": []
    },
    {
      "cell_type": "code",
      "metadata": {
        "colab": {
          "base_uri": "https://localhost:8080/",
          "height": 443
        },
        "id": "96WhJC5JfCZr",
        "outputId": "d5ce6683-189b-483c-e7a7-f53b9a6a1439"
      },
      "source": [
        "lr_D, lr_G, latent_dim, num_epochs = 0.05, 0.005, 2, 20\n",
        "train(net_D, net_G, data_iter, num_epochs, lr_D, lr_G,\n",
        "      latent_dim, d2l.numpy(data[:100]))"
      ],
      "execution_count": 17,
      "outputs": [
        {
          "output_type": "stream",
          "text": [
            "loss_D -5836.036, loss_G -7738.194, 297.8 examples/sec\n"
          ],
          "name": "stdout"
        },
        {
          "output_type": "display_data",
          "data": {
            "text/plain": [
              "<Figure size 360x360 with 2 Axes>"
            ],
            "image/svg+xml": "<?xml version=\"1.0\" encoding=\"utf-8\" standalone=\"no\"?>\n<!DOCTYPE svg PUBLIC \"-//W3C//DTD SVG 1.1//EN\"\n  \"http://www.w3.org/Graphics/SVG/1.1/DTD/svg11.dtd\">\n<!-- Created with matplotlib (https://matplotlib.org/) -->\n<svg height=\"303.57858pt\" version=\"1.1\" viewBox=\"0 0 359.040625 303.57858\" width=\"359.040625pt\" xmlns=\"http://www.w3.org/2000/svg\" xmlns:xlink=\"http://www.w3.org/1999/xlink\">\n <defs>\n  <style type=\"text/css\">\n*{stroke-linecap:butt;stroke-linejoin:round;}\n  </style>\n </defs>\n <g id=\"figure_1\">\n  <g id=\"patch_1\">\n   <path d=\"M 0 303.57858 \nL 359.040625 303.57858 \nL 359.040625 0 \nL 0 0 \nz\n\" style=\"fill:none;\"/>\n  </g>\n  <g id=\"axes_1\">\n   <g id=\"patch_2\">\n    <path d=\"M 61.707813 126.074368 \nL 340.707812 126.074368 \nL 340.707812 7.900455 \nL 61.707813 7.900455 \nz\n\" style=\"fill:#ffffff;\"/>\n   </g>\n   <g id=\"matplotlib.axis_1\">\n    <g id=\"xtick_1\">\n     <g id=\"line2d_1\">\n      <path clip-path=\"url(#p6e343ac4ed)\" d=\"M 83.734128 126.074368 \nL 83.734128 7.900455 \n\" style=\"fill:none;stroke:#b0b0b0;stroke-linecap:square;stroke-width:0.8;\"/>\n     </g>\n     <g id=\"line2d_2\">\n      <defs>\n       <path d=\"M 0 0 \nL 0 3.5 \n\" id=\"md0b6688200\" style=\"stroke:#000000;stroke-width:0.8;\"/>\n      </defs>\n      <g>\n       <use style=\"stroke:#000000;stroke-width:0.8;\" x=\"83.734128\" xlink:href=\"#md0b6688200\" y=\"126.074368\"/>\n      </g>\n     </g>\n     <g id=\"text_1\">\n      <!-- 2.5 -->\n      <defs>\n       <path d=\"M 19.1875 8.296875 \nL 53.609375 8.296875 \nL 53.609375 0 \nL 7.328125 0 \nL 7.328125 8.296875 \nQ 12.9375 14.109375 22.625 23.890625 \nQ 32.328125 33.6875 34.8125 36.53125 \nQ 39.546875 41.84375 41.421875 45.53125 \nQ 43.3125 49.21875 43.3125 52.78125 \nQ 43.3125 58.59375 39.234375 62.25 \nQ 35.15625 65.921875 28.609375 65.921875 \nQ 23.96875 65.921875 18.8125 64.3125 \nQ 13.671875 62.703125 7.8125 59.421875 \nL 7.8125 69.390625 \nQ 13.765625 71.78125 18.9375 73 \nQ 24.125 74.21875 28.421875 74.21875 \nQ 39.75 74.21875 46.484375 68.546875 \nQ 53.21875 62.890625 53.21875 53.421875 \nQ 53.21875 48.921875 51.53125 44.890625 \nQ 49.859375 40.875 45.40625 35.40625 \nQ 44.1875 33.984375 37.640625 27.21875 \nQ 31.109375 20.453125 19.1875 8.296875 \nz\n\" id=\"DejaVuSans-50\"/>\n       <path d=\"M 10.6875 12.40625 \nL 21 12.40625 \nL 21 0 \nL 10.6875 0 \nz\n\" id=\"DejaVuSans-46\"/>\n       <path d=\"M 10.796875 72.90625 \nL 49.515625 72.90625 \nL 49.515625 64.59375 \nL 19.828125 64.59375 \nL 19.828125 46.734375 \nQ 21.96875 47.46875 24.109375 47.828125 \nQ 26.265625 48.1875 28.421875 48.1875 \nQ 40.625 48.1875 47.75 41.5 \nQ 54.890625 34.8125 54.890625 23.390625 \nQ 54.890625 11.625 47.5625 5.09375 \nQ 40.234375 -1.421875 26.90625 -1.421875 \nQ 22.3125 -1.421875 17.546875 -0.640625 \nQ 12.796875 0.140625 7.71875 1.703125 \nL 7.71875 11.625 \nQ 12.109375 9.234375 16.796875 8.0625 \nQ 21.484375 6.890625 26.703125 6.890625 \nQ 35.15625 6.890625 40.078125 11.328125 \nQ 45.015625 15.765625 45.015625 23.390625 \nQ 45.015625 31 40.078125 35.4375 \nQ 35.15625 39.890625 26.703125 39.890625 \nQ 22.75 39.890625 18.8125 39.015625 \nQ 14.890625 38.140625 10.796875 36.28125 \nz\n\" id=\"DejaVuSans-53\"/>\n      </defs>\n      <g transform=\"translate(75.782566 140.672805)scale(0.1 -0.1)\">\n       <use xlink:href=\"#DejaVuSans-50\"/>\n       <use x=\"63.623047\" xlink:href=\"#DejaVuSans-46\"/>\n       <use x=\"95.410156\" xlink:href=\"#DejaVuSans-53\"/>\n      </g>\n     </g>\n    </g>\n    <g id=\"xtick_2\">\n     <g id=\"line2d_3\">\n      <path clip-path=\"url(#p6e343ac4ed)\" d=\"M 120.444655 126.074368 \nL 120.444655 7.900455 \n\" style=\"fill:none;stroke:#b0b0b0;stroke-linecap:square;stroke-width:0.8;\"/>\n     </g>\n     <g id=\"line2d_4\">\n      <g>\n       <use style=\"stroke:#000000;stroke-width:0.8;\" x=\"120.444655\" xlink:href=\"#md0b6688200\" y=\"126.074368\"/>\n      </g>\n     </g>\n     <g id=\"text_2\">\n      <!-- 5.0 -->\n      <defs>\n       <path d=\"M 31.78125 66.40625 \nQ 24.171875 66.40625 20.328125 58.90625 \nQ 16.5 51.421875 16.5 36.375 \nQ 16.5 21.390625 20.328125 13.890625 \nQ 24.171875 6.390625 31.78125 6.390625 \nQ 39.453125 6.390625 43.28125 13.890625 \nQ 47.125 21.390625 47.125 36.375 \nQ 47.125 51.421875 43.28125 58.90625 \nQ 39.453125 66.40625 31.78125 66.40625 \nz\nM 31.78125 74.21875 \nQ 44.046875 74.21875 50.515625 64.515625 \nQ 56.984375 54.828125 56.984375 36.375 \nQ 56.984375 17.96875 50.515625 8.265625 \nQ 44.046875 -1.421875 31.78125 -1.421875 \nQ 19.53125 -1.421875 13.0625 8.265625 \nQ 6.59375 17.96875 6.59375 36.375 \nQ 6.59375 54.828125 13.0625 64.515625 \nQ 19.53125 74.21875 31.78125 74.21875 \nz\n\" id=\"DejaVuSans-48\"/>\n      </defs>\n      <g transform=\"translate(112.493092 140.672805)scale(0.1 -0.1)\">\n       <use xlink:href=\"#DejaVuSans-53\"/>\n       <use x=\"63.623047\" xlink:href=\"#DejaVuSans-46\"/>\n       <use x=\"95.410156\" xlink:href=\"#DejaVuSans-48\"/>\n      </g>\n     </g>\n    </g>\n    <g id=\"xtick_3\">\n     <g id=\"line2d_5\">\n      <path clip-path=\"url(#p6e343ac4ed)\" d=\"M 157.155181 126.074368 \nL 157.155181 7.900455 \n\" style=\"fill:none;stroke:#b0b0b0;stroke-linecap:square;stroke-width:0.8;\"/>\n     </g>\n     <g id=\"line2d_6\">\n      <g>\n       <use style=\"stroke:#000000;stroke-width:0.8;\" x=\"157.155181\" xlink:href=\"#md0b6688200\" y=\"126.074368\"/>\n      </g>\n     </g>\n     <g id=\"text_3\">\n      <!-- 7.5 -->\n      <defs>\n       <path d=\"M 8.203125 72.90625 \nL 55.078125 72.90625 \nL 55.078125 68.703125 \nL 28.609375 0 \nL 18.3125 0 \nL 43.21875 64.59375 \nL 8.203125 64.59375 \nz\n\" id=\"DejaVuSans-55\"/>\n      </defs>\n      <g transform=\"translate(149.203618 140.672805)scale(0.1 -0.1)\">\n       <use xlink:href=\"#DejaVuSans-55\"/>\n       <use x=\"63.623047\" xlink:href=\"#DejaVuSans-46\"/>\n       <use x=\"95.410156\" xlink:href=\"#DejaVuSans-53\"/>\n      </g>\n     </g>\n    </g>\n    <g id=\"xtick_4\">\n     <g id=\"line2d_7\">\n      <path clip-path=\"url(#p6e343ac4ed)\" d=\"M 193.865707 126.074368 \nL 193.865707 7.900455 \n\" style=\"fill:none;stroke:#b0b0b0;stroke-linecap:square;stroke-width:0.8;\"/>\n     </g>\n     <g id=\"line2d_8\">\n      <g>\n       <use style=\"stroke:#000000;stroke-width:0.8;\" x=\"193.865707\" xlink:href=\"#md0b6688200\" y=\"126.074368\"/>\n      </g>\n     </g>\n     <g id=\"text_4\">\n      <!-- 10.0 -->\n      <defs>\n       <path d=\"M 12.40625 8.296875 \nL 28.515625 8.296875 \nL 28.515625 63.921875 \nL 10.984375 60.40625 \nL 10.984375 69.390625 \nL 28.421875 72.90625 \nL 38.28125 72.90625 \nL 38.28125 8.296875 \nL 54.390625 8.296875 \nL 54.390625 0 \nL 12.40625 0 \nz\n\" id=\"DejaVuSans-49\"/>\n      </defs>\n      <g transform=\"translate(182.732895 140.672805)scale(0.1 -0.1)\">\n       <use xlink:href=\"#DejaVuSans-49\"/>\n       <use x=\"63.623047\" xlink:href=\"#DejaVuSans-48\"/>\n       <use x=\"127.246094\" xlink:href=\"#DejaVuSans-46\"/>\n       <use x=\"159.033203\" xlink:href=\"#DejaVuSans-48\"/>\n      </g>\n     </g>\n    </g>\n    <g id=\"xtick_5\">\n     <g id=\"line2d_9\">\n      <path clip-path=\"url(#p6e343ac4ed)\" d=\"M 230.576234 126.074368 \nL 230.576234 7.900455 \n\" style=\"fill:none;stroke:#b0b0b0;stroke-linecap:square;stroke-width:0.8;\"/>\n     </g>\n     <g id=\"line2d_10\">\n      <g>\n       <use style=\"stroke:#000000;stroke-width:0.8;\" x=\"230.576234\" xlink:href=\"#md0b6688200\" y=\"126.074368\"/>\n      </g>\n     </g>\n     <g id=\"text_5\">\n      <!-- 12.5 -->\n      <g transform=\"translate(219.443421 140.672805)scale(0.1 -0.1)\">\n       <use xlink:href=\"#DejaVuSans-49\"/>\n       <use x=\"63.623047\" xlink:href=\"#DejaVuSans-50\"/>\n       <use x=\"127.246094\" xlink:href=\"#DejaVuSans-46\"/>\n       <use x=\"159.033203\" xlink:href=\"#DejaVuSans-53\"/>\n      </g>\n     </g>\n    </g>\n    <g id=\"xtick_6\">\n     <g id=\"line2d_11\">\n      <path clip-path=\"url(#p6e343ac4ed)\" d=\"M 267.28676 126.074368 \nL 267.28676 7.900455 \n\" style=\"fill:none;stroke:#b0b0b0;stroke-linecap:square;stroke-width:0.8;\"/>\n     </g>\n     <g id=\"line2d_12\">\n      <g>\n       <use style=\"stroke:#000000;stroke-width:0.8;\" x=\"267.28676\" xlink:href=\"#md0b6688200\" y=\"126.074368\"/>\n      </g>\n     </g>\n     <g id=\"text_6\">\n      <!-- 15.0 -->\n      <g transform=\"translate(256.153947 140.672805)scale(0.1 -0.1)\">\n       <use xlink:href=\"#DejaVuSans-49\"/>\n       <use x=\"63.623047\" xlink:href=\"#DejaVuSans-53\"/>\n       <use x=\"127.246094\" xlink:href=\"#DejaVuSans-46\"/>\n       <use x=\"159.033203\" xlink:href=\"#DejaVuSans-48\"/>\n      </g>\n     </g>\n    </g>\n    <g id=\"xtick_7\">\n     <g id=\"line2d_13\">\n      <path clip-path=\"url(#p6e343ac4ed)\" d=\"M 303.997286 126.074368 \nL 303.997286 7.900455 \n\" style=\"fill:none;stroke:#b0b0b0;stroke-linecap:square;stroke-width:0.8;\"/>\n     </g>\n     <g id=\"line2d_14\">\n      <g>\n       <use style=\"stroke:#000000;stroke-width:0.8;\" x=\"303.997286\" xlink:href=\"#md0b6688200\" y=\"126.074368\"/>\n      </g>\n     </g>\n     <g id=\"text_7\">\n      <!-- 17.5 -->\n      <g transform=\"translate(292.864474 140.672805)scale(0.1 -0.1)\">\n       <use xlink:href=\"#DejaVuSans-49\"/>\n       <use x=\"63.623047\" xlink:href=\"#DejaVuSans-55\"/>\n       <use x=\"127.246094\" xlink:href=\"#DejaVuSans-46\"/>\n       <use x=\"159.033203\" xlink:href=\"#DejaVuSans-53\"/>\n      </g>\n     </g>\n    </g>\n    <g id=\"xtick_8\">\n     <g id=\"line2d_15\">\n      <path clip-path=\"url(#p6e343ac4ed)\" d=\"M 340.707812 126.074368 \nL 340.707812 7.900455 \n\" style=\"fill:none;stroke:#b0b0b0;stroke-linecap:square;stroke-width:0.8;\"/>\n     </g>\n     <g id=\"line2d_16\">\n      <g>\n       <use style=\"stroke:#000000;stroke-width:0.8;\" x=\"340.707812\" xlink:href=\"#md0b6688200\" y=\"126.074368\"/>\n      </g>\n     </g>\n     <g id=\"text_8\">\n      <!-- 20.0 -->\n      <g transform=\"translate(329.575 140.672805)scale(0.1 -0.1)\">\n       <use xlink:href=\"#DejaVuSans-50\"/>\n       <use x=\"63.623047\" xlink:href=\"#DejaVuSans-48\"/>\n       <use x=\"127.246094\" xlink:href=\"#DejaVuSans-46\"/>\n       <use x=\"159.033203\" xlink:href=\"#DejaVuSans-48\"/>\n      </g>\n     </g>\n    </g>\n    <g id=\"text_9\">\n     <!-- epoch -->\n     <defs>\n      <path d=\"M 56.203125 29.59375 \nL 56.203125 25.203125 \nL 14.890625 25.203125 \nQ 15.484375 15.921875 20.484375 11.0625 \nQ 25.484375 6.203125 34.421875 6.203125 \nQ 39.59375 6.203125 44.453125 7.46875 \nQ 49.3125 8.734375 54.109375 11.28125 \nL 54.109375 2.78125 \nQ 49.265625 0.734375 44.1875 -0.34375 \nQ 39.109375 -1.421875 33.890625 -1.421875 \nQ 20.796875 -1.421875 13.15625 6.1875 \nQ 5.515625 13.8125 5.515625 26.8125 \nQ 5.515625 40.234375 12.765625 48.109375 \nQ 20.015625 56 32.328125 56 \nQ 43.359375 56 49.78125 48.890625 \nQ 56.203125 41.796875 56.203125 29.59375 \nz\nM 47.21875 32.234375 \nQ 47.125 39.59375 43.09375 43.984375 \nQ 39.0625 48.390625 32.421875 48.390625 \nQ 24.90625 48.390625 20.390625 44.140625 \nQ 15.875 39.890625 15.1875 32.171875 \nz\n\" id=\"DejaVuSans-101\"/>\n      <path d=\"M 18.109375 8.203125 \nL 18.109375 -20.796875 \nL 9.078125 -20.796875 \nL 9.078125 54.6875 \nL 18.109375 54.6875 \nL 18.109375 46.390625 \nQ 20.953125 51.265625 25.265625 53.625 \nQ 29.59375 56 35.59375 56 \nQ 45.5625 56 51.78125 48.09375 \nQ 58.015625 40.1875 58.015625 27.296875 \nQ 58.015625 14.40625 51.78125 6.484375 \nQ 45.5625 -1.421875 35.59375 -1.421875 \nQ 29.59375 -1.421875 25.265625 0.953125 \nQ 20.953125 3.328125 18.109375 8.203125 \nz\nM 48.6875 27.296875 \nQ 48.6875 37.203125 44.609375 42.84375 \nQ 40.53125 48.484375 33.40625 48.484375 \nQ 26.265625 48.484375 22.1875 42.84375 \nQ 18.109375 37.203125 18.109375 27.296875 \nQ 18.109375 17.390625 22.1875 11.75 \nQ 26.265625 6.109375 33.40625 6.109375 \nQ 40.53125 6.109375 44.609375 11.75 \nQ 48.6875 17.390625 48.6875 27.296875 \nz\n\" id=\"DejaVuSans-112\"/>\n      <path d=\"M 30.609375 48.390625 \nQ 23.390625 48.390625 19.1875 42.75 \nQ 14.984375 37.109375 14.984375 27.296875 \nQ 14.984375 17.484375 19.15625 11.84375 \nQ 23.34375 6.203125 30.609375 6.203125 \nQ 37.796875 6.203125 41.984375 11.859375 \nQ 46.1875 17.53125 46.1875 27.296875 \nQ 46.1875 37.015625 41.984375 42.703125 \nQ 37.796875 48.390625 30.609375 48.390625 \nz\nM 30.609375 56 \nQ 42.328125 56 49.015625 48.375 \nQ 55.71875 40.765625 55.71875 27.296875 \nQ 55.71875 13.875 49.015625 6.21875 \nQ 42.328125 -1.421875 30.609375 -1.421875 \nQ 18.84375 -1.421875 12.171875 6.21875 \nQ 5.515625 13.875 5.515625 27.296875 \nQ 5.515625 40.765625 12.171875 48.375 \nQ 18.84375 56 30.609375 56 \nz\n\" id=\"DejaVuSans-111\"/>\n      <path d=\"M 48.78125 52.59375 \nL 48.78125 44.1875 \nQ 44.96875 46.296875 41.140625 47.34375 \nQ 37.3125 48.390625 33.40625 48.390625 \nQ 24.65625 48.390625 19.8125 42.84375 \nQ 14.984375 37.3125 14.984375 27.296875 \nQ 14.984375 17.28125 19.8125 11.734375 \nQ 24.65625 6.203125 33.40625 6.203125 \nQ 37.3125 6.203125 41.140625 7.25 \nQ 44.96875 8.296875 48.78125 10.40625 \nL 48.78125 2.09375 \nQ 45.015625 0.34375 40.984375 -0.53125 \nQ 36.96875 -1.421875 32.421875 -1.421875 \nQ 20.0625 -1.421875 12.78125 6.34375 \nQ 5.515625 14.109375 5.515625 27.296875 \nQ 5.515625 40.671875 12.859375 48.328125 \nQ 20.21875 56 33.015625 56 \nQ 37.15625 56 41.109375 55.140625 \nQ 45.0625 54.296875 48.78125 52.59375 \nz\n\" id=\"DejaVuSans-99\"/>\n      <path d=\"M 54.890625 33.015625 \nL 54.890625 0 \nL 45.90625 0 \nL 45.90625 32.71875 \nQ 45.90625 40.484375 42.875 44.328125 \nQ 39.84375 48.1875 33.796875 48.1875 \nQ 26.515625 48.1875 22.3125 43.546875 \nQ 18.109375 38.921875 18.109375 30.90625 \nL 18.109375 0 \nL 9.078125 0 \nL 9.078125 75.984375 \nL 18.109375 75.984375 \nL 18.109375 46.1875 \nQ 21.34375 51.125 25.703125 53.5625 \nQ 30.078125 56 35.796875 56 \nQ 45.21875 56 50.046875 50.171875 \nQ 54.890625 44.34375 54.890625 33.015625 \nz\n\" id=\"DejaVuSans-104\"/>\n     </defs>\n     <g transform=\"translate(185.979687 154.35093)scale(0.1 -0.1)\">\n      <use xlink:href=\"#DejaVuSans-101\"/>\n      <use x=\"61.523438\" xlink:href=\"#DejaVuSans-112\"/>\n      <use x=\"125\" xlink:href=\"#DejaVuSans-111\"/>\n      <use x=\"186.181641\" xlink:href=\"#DejaVuSans-99\"/>\n      <use x=\"241.162109\" xlink:href=\"#DejaVuSans-104\"/>\n     </g>\n    </g>\n   </g>\n   <g id=\"matplotlib.axis_2\">\n    <g id=\"ytick_1\">\n     <g id=\"line2d_17\">\n      <path clip-path=\"url(#p6e343ac4ed)\" d=\"M 61.707813 124.414426 \nL 340.707812 124.414426 \n\" style=\"fill:none;stroke:#b0b0b0;stroke-linecap:square;stroke-width:0.8;\"/>\n     </g>\n     <g id=\"line2d_18\">\n      <defs>\n       <path d=\"M 0 0 \nL -3.5 0 \n\" id=\"me19633e93e\" style=\"stroke:#000000;stroke-width:0.8;\"/>\n      </defs>\n      <g>\n       <use style=\"stroke:#000000;stroke-width:0.8;\" x=\"61.707813\" xlink:href=\"#me19633e93e\" y=\"124.414426\"/>\n      </g>\n     </g>\n     <g id=\"text_10\">\n      <!-- −8000 -->\n      <defs>\n       <path d=\"M 10.59375 35.5 \nL 73.1875 35.5 \nL 73.1875 27.203125 \nL 10.59375 27.203125 \nz\n\" id=\"DejaVuSans-8722\"/>\n       <path d=\"M 31.78125 34.625 \nQ 24.75 34.625 20.71875 30.859375 \nQ 16.703125 27.09375 16.703125 20.515625 \nQ 16.703125 13.921875 20.71875 10.15625 \nQ 24.75 6.390625 31.78125 6.390625 \nQ 38.8125 6.390625 42.859375 10.171875 \nQ 46.921875 13.96875 46.921875 20.515625 \nQ 46.921875 27.09375 42.890625 30.859375 \nQ 38.875 34.625 31.78125 34.625 \nz\nM 21.921875 38.8125 \nQ 15.578125 40.375 12.03125 44.71875 \nQ 8.5 49.078125 8.5 55.328125 \nQ 8.5 64.0625 14.71875 69.140625 \nQ 20.953125 74.21875 31.78125 74.21875 \nQ 42.671875 74.21875 48.875 69.140625 \nQ 55.078125 64.0625 55.078125 55.328125 \nQ 55.078125 49.078125 51.53125 44.71875 \nQ 48 40.375 41.703125 38.8125 \nQ 48.828125 37.15625 52.796875 32.3125 \nQ 56.78125 27.484375 56.78125 20.515625 \nQ 56.78125 9.90625 50.3125 4.234375 \nQ 43.84375 -1.421875 31.78125 -1.421875 \nQ 19.734375 -1.421875 13.25 4.234375 \nQ 6.78125 9.90625 6.78125 20.515625 \nQ 6.78125 27.484375 10.78125 32.3125 \nQ 14.796875 37.15625 21.921875 38.8125 \nz\nM 18.3125 54.390625 \nQ 18.3125 48.734375 21.84375 45.5625 \nQ 25.390625 42.390625 31.78125 42.390625 \nQ 38.140625 42.390625 41.71875 45.5625 \nQ 45.3125 48.734375 45.3125 54.390625 \nQ 45.3125 60.0625 41.71875 63.234375 \nQ 38.140625 66.40625 31.78125 66.40625 \nQ 25.390625 66.40625 21.84375 63.234375 \nQ 18.3125 60.0625 18.3125 54.390625 \nz\n\" id=\"DejaVuSans-56\"/>\n      </defs>\n      <g transform=\"translate(20.878125 128.213645)scale(0.1 -0.1)\">\n       <use xlink:href=\"#DejaVuSans-8722\"/>\n       <use x=\"83.789062\" xlink:href=\"#DejaVuSans-56\"/>\n       <use x=\"147.412109\" xlink:href=\"#DejaVuSans-48\"/>\n       <use x=\"211.035156\" xlink:href=\"#DejaVuSans-48\"/>\n       <use x=\"274.658203\" xlink:href=\"#DejaVuSans-48\"/>\n      </g>\n     </g>\n    </g>\n    <g id=\"ytick_2\">\n     <g id=\"line2d_19\">\n      <path clip-path=\"url(#p6e343ac4ed)\" d=\"M 61.707813 96.060624 \nL 340.707812 96.060624 \n\" style=\"fill:none;stroke:#b0b0b0;stroke-linecap:square;stroke-width:0.8;\"/>\n     </g>\n     <g id=\"line2d_20\">\n      <g>\n       <use style=\"stroke:#000000;stroke-width:0.8;\" x=\"61.707813\" xlink:href=\"#me19633e93e\" y=\"96.060624\"/>\n      </g>\n     </g>\n     <g id=\"text_11\">\n      <!-- −6000 -->\n      <defs>\n       <path d=\"M 33.015625 40.375 \nQ 26.375 40.375 22.484375 35.828125 \nQ 18.609375 31.296875 18.609375 23.390625 \nQ 18.609375 15.53125 22.484375 10.953125 \nQ 26.375 6.390625 33.015625 6.390625 \nQ 39.65625 6.390625 43.53125 10.953125 \nQ 47.40625 15.53125 47.40625 23.390625 \nQ 47.40625 31.296875 43.53125 35.828125 \nQ 39.65625 40.375 33.015625 40.375 \nz\nM 52.59375 71.296875 \nL 52.59375 62.3125 \nQ 48.875 64.0625 45.09375 64.984375 \nQ 41.3125 65.921875 37.59375 65.921875 \nQ 27.828125 65.921875 22.671875 59.328125 \nQ 17.53125 52.734375 16.796875 39.40625 \nQ 19.671875 43.65625 24.015625 45.921875 \nQ 28.375 48.1875 33.59375 48.1875 \nQ 44.578125 48.1875 50.953125 41.515625 \nQ 57.328125 34.859375 57.328125 23.390625 \nQ 57.328125 12.15625 50.6875 5.359375 \nQ 44.046875 -1.421875 33.015625 -1.421875 \nQ 20.359375 -1.421875 13.671875 8.265625 \nQ 6.984375 17.96875 6.984375 36.375 \nQ 6.984375 53.65625 15.1875 63.9375 \nQ 23.390625 74.21875 37.203125 74.21875 \nQ 40.921875 74.21875 44.703125 73.484375 \nQ 48.484375 72.75 52.59375 71.296875 \nz\n\" id=\"DejaVuSans-54\"/>\n      </defs>\n      <g transform=\"translate(20.878125 99.859843)scale(0.1 -0.1)\">\n       <use xlink:href=\"#DejaVuSans-8722\"/>\n       <use x=\"83.789062\" xlink:href=\"#DejaVuSans-54\"/>\n       <use x=\"147.412109\" xlink:href=\"#DejaVuSans-48\"/>\n       <use x=\"211.035156\" xlink:href=\"#DejaVuSans-48\"/>\n       <use x=\"274.658203\" xlink:href=\"#DejaVuSans-48\"/>\n      </g>\n     </g>\n    </g>\n    <g id=\"ytick_3\">\n     <g id=\"line2d_21\">\n      <path clip-path=\"url(#p6e343ac4ed)\" d=\"M 61.707813 67.706822 \nL 340.707812 67.706822 \n\" style=\"fill:none;stroke:#b0b0b0;stroke-linecap:square;stroke-width:0.8;\"/>\n     </g>\n     <g id=\"line2d_22\">\n      <g>\n       <use style=\"stroke:#000000;stroke-width:0.8;\" x=\"61.707813\" xlink:href=\"#me19633e93e\" y=\"67.706822\"/>\n      </g>\n     </g>\n     <g id=\"text_12\">\n      <!-- −4000 -->\n      <defs>\n       <path d=\"M 37.796875 64.3125 \nL 12.890625 25.390625 \nL 37.796875 25.390625 \nz\nM 35.203125 72.90625 \nL 47.609375 72.90625 \nL 47.609375 25.390625 \nL 58.015625 25.390625 \nL 58.015625 17.1875 \nL 47.609375 17.1875 \nL 47.609375 0 \nL 37.796875 0 \nL 37.796875 17.1875 \nL 4.890625 17.1875 \nL 4.890625 26.703125 \nz\n\" id=\"DejaVuSans-52\"/>\n      </defs>\n      <g transform=\"translate(20.878125 71.506041)scale(0.1 -0.1)\">\n       <use xlink:href=\"#DejaVuSans-8722\"/>\n       <use x=\"83.789062\" xlink:href=\"#DejaVuSans-52\"/>\n       <use x=\"147.412109\" xlink:href=\"#DejaVuSans-48\"/>\n       <use x=\"211.035156\" xlink:href=\"#DejaVuSans-48\"/>\n       <use x=\"274.658203\" xlink:href=\"#DejaVuSans-48\"/>\n      </g>\n     </g>\n    </g>\n    <g id=\"ytick_4\">\n     <g id=\"line2d_23\">\n      <path clip-path=\"url(#p6e343ac4ed)\" d=\"M 61.707813 39.353021 \nL 340.707812 39.353021 \n\" style=\"fill:none;stroke:#b0b0b0;stroke-linecap:square;stroke-width:0.8;\"/>\n     </g>\n     <g id=\"line2d_24\">\n      <g>\n       <use style=\"stroke:#000000;stroke-width:0.8;\" x=\"61.707813\" xlink:href=\"#me19633e93e\" y=\"39.353021\"/>\n      </g>\n     </g>\n     <g id=\"text_13\">\n      <!-- −2000 -->\n      <g transform=\"translate(20.878125 43.152239)scale(0.1 -0.1)\">\n       <use xlink:href=\"#DejaVuSans-8722\"/>\n       <use x=\"83.789062\" xlink:href=\"#DejaVuSans-50\"/>\n       <use x=\"147.412109\" xlink:href=\"#DejaVuSans-48\"/>\n       <use x=\"211.035156\" xlink:href=\"#DejaVuSans-48\"/>\n       <use x=\"274.658203\" xlink:href=\"#DejaVuSans-48\"/>\n      </g>\n     </g>\n    </g>\n    <g id=\"ytick_5\">\n     <g id=\"line2d_25\">\n      <path clip-path=\"url(#p6e343ac4ed)\" d=\"M 61.707813 10.999219 \nL 340.707812 10.999219 \n\" style=\"fill:none;stroke:#b0b0b0;stroke-linecap:square;stroke-width:0.8;\"/>\n     </g>\n     <g id=\"line2d_26\">\n      <g>\n       <use style=\"stroke:#000000;stroke-width:0.8;\" x=\"61.707813\" xlink:href=\"#me19633e93e\" y=\"10.999219\"/>\n      </g>\n     </g>\n     <g id=\"text_14\">\n      <!-- 0 -->\n      <g transform=\"translate(48.345313 14.798437)scale(0.1 -0.1)\">\n       <use xlink:href=\"#DejaVuSans-48\"/>\n      </g>\n     </g>\n    </g>\n    <g id=\"text_15\">\n     <!-- loss -->\n     <defs>\n      <path d=\"M 9.421875 75.984375 \nL 18.40625 75.984375 \nL 18.40625 0 \nL 9.421875 0 \nz\n\" id=\"DejaVuSans-108\"/>\n      <path d=\"M 44.28125 53.078125 \nL 44.28125 44.578125 \nQ 40.484375 46.53125 36.375 47.5 \nQ 32.28125 48.484375 27.875 48.484375 \nQ 21.1875 48.484375 17.84375 46.4375 \nQ 14.5 44.390625 14.5 40.28125 \nQ 14.5 37.15625 16.890625 35.375 \nQ 19.28125 33.59375 26.515625 31.984375 \nL 29.59375 31.296875 \nQ 39.15625 29.25 43.1875 25.515625 \nQ 47.21875 21.78125 47.21875 15.09375 \nQ 47.21875 7.46875 41.1875 3.015625 \nQ 35.15625 -1.421875 24.609375 -1.421875 \nQ 20.21875 -1.421875 15.453125 -0.5625 \nQ 10.6875 0.296875 5.421875 2 \nL 5.421875 11.28125 \nQ 10.40625 8.6875 15.234375 7.390625 \nQ 20.0625 6.109375 24.8125 6.109375 \nQ 31.15625 6.109375 34.5625 8.28125 \nQ 37.984375 10.453125 37.984375 14.40625 \nQ 37.984375 18.0625 35.515625 20.015625 \nQ 33.0625 21.96875 24.703125 23.78125 \nL 21.578125 24.515625 \nQ 13.234375 26.265625 9.515625 29.90625 \nQ 5.8125 33.546875 5.8125 39.890625 \nQ 5.8125 47.609375 11.28125 51.796875 \nQ 16.75 56 26.8125 56 \nQ 31.78125 56 36.171875 55.265625 \nQ 40.578125 54.546875 44.28125 53.078125 \nz\n\" id=\"DejaVuSans-115\"/>\n     </defs>\n     <g transform=\"translate(14.798438 76.645224)rotate(-90)scale(0.1 -0.1)\">\n      <use xlink:href=\"#DejaVuSans-108\"/>\n      <use x=\"27.783203\" xlink:href=\"#DejaVuSans-111\"/>\n      <use x=\"88.964844\" xlink:href=\"#DejaVuSans-115\"/>\n      <use x=\"141.064453\" xlink:href=\"#DejaVuSans-115\"/>\n     </g>\n    </g>\n   </g>\n   <g id=\"line2d_27\">\n    <path clip-path=\"url(#p6e343ac4ed)\" d=\"M 61.707813 13.271996 \nL 76.392023 18.270198 \nL 91.076234 22.908067 \nL 105.760444 26.863183 \nL 120.444655 30.107637 \nL 135.128865 35.295213 \nL 149.813076 39.534838 \nL 164.497286 43.120884 \nL 179.181497 47.969853 \nL 193.865707 52.303253 \nL 208.549918 56.49109 \nL 223.234128 60.663388 \nL 237.918339 64.823218 \nL 252.602549 68.972912 \nL 267.28676 73.11425 \nL 281.97097 77.24864 \nL 296.655181 81.377195 \nL 311.339391 85.500818 \nL 326.023602 89.620255 \nL 340.707812 93.736122 \n\" style=\"fill:none;stroke:#1f77b4;stroke-linecap:square;stroke-width:1.5;\"/>\n   </g>\n   <g id=\"line2d_28\">\n    <path clip-path=\"url(#p6e343ac4ed)\" d=\"M 61.707813 13.894501 \nL 76.392023 20.627815 \nL 91.076234 26.530636 \nL 105.760444 32.188297 \nL 120.444655 37.741312 \nL 135.128865 43.256629 \nL 149.813076 48.849748 \nL 164.497286 54.328919 \nL 179.181497 59.941177 \nL 193.865707 65.519704 \nL 208.549918 71.082558 \nL 223.234128 76.629929 \nL 237.918339 82.164818 \nL 252.602549 87.689557 \nL 267.28676 93.205927 \nL 281.97097 98.715339 \nL 296.655181 104.218907 \nL 311.339391 109.717534 \nL 326.023602 115.211968 \nL 340.707812 120.702826 \n\" style=\"fill:none;stroke:#bf00bf;stroke-dasharray:5.55,2.4;stroke-dashoffset:0;stroke-width:1.5;\"/>\n   </g>\n   <g id=\"patch_3\">\n    <path d=\"M 61.707813 126.074368 \nL 61.707813 7.900455 \n\" style=\"fill:none;stroke:#000000;stroke-linecap:square;stroke-linejoin:miter;stroke-width:0.8;\"/>\n   </g>\n   <g id=\"patch_4\">\n    <path d=\"M 340.707812 126.074368 \nL 340.707812 7.900455 \n\" style=\"fill:none;stroke:#000000;stroke-linecap:square;stroke-linejoin:miter;stroke-width:0.8;\"/>\n   </g>\n   <g id=\"patch_5\">\n    <path d=\"M 61.707813 126.074368 \nL 340.707812 126.074368 \n\" style=\"fill:none;stroke:#000000;stroke-linecap:square;stroke-linejoin:miter;stroke-width:0.8;\"/>\n   </g>\n   <g id=\"patch_6\">\n    <path d=\"M 61.707813 7.900455 \nL 340.707812 7.900455 \n\" style=\"fill:none;stroke:#000000;stroke-linecap:square;stroke-linejoin:miter;stroke-width:0.8;\"/>\n   </g>\n   <g id=\"legend_1\">\n    <g id=\"patch_7\">\n     <path d=\"M 235.85 45.256705 \nL 333.707812 45.256705 \nQ 335.707812 45.256705 335.707812 43.256705 \nL 335.707812 14.900455 \nQ 335.707812 12.900455 333.707812 12.900455 \nL 235.85 12.900455 \nQ 233.85 12.900455 233.85 14.900455 \nL 233.85 43.256705 \nQ 233.85 45.256705 235.85 45.256705 \nz\n\" style=\"fill:#ffffff;opacity:0.8;stroke:#cccccc;stroke-linejoin:miter;\"/>\n    </g>\n    <g id=\"line2d_29\">\n     <path d=\"M 237.85 20.998892 \nL 257.85 20.998892 \n\" style=\"fill:none;stroke:#1f77b4;stroke-linecap:square;stroke-width:1.5;\"/>\n    </g>\n    <g id=\"line2d_30\"/>\n    <g id=\"text_16\">\n     <!-- discriminator -->\n     <defs>\n      <path d=\"M 45.40625 46.390625 \nL 45.40625 75.984375 \nL 54.390625 75.984375 \nL 54.390625 0 \nL 45.40625 0 \nL 45.40625 8.203125 \nQ 42.578125 3.328125 38.25 0.953125 \nQ 33.9375 -1.421875 27.875 -1.421875 \nQ 17.96875 -1.421875 11.734375 6.484375 \nQ 5.515625 14.40625 5.515625 27.296875 \nQ 5.515625 40.1875 11.734375 48.09375 \nQ 17.96875 56 27.875 56 \nQ 33.9375 56 38.25 53.625 \nQ 42.578125 51.265625 45.40625 46.390625 \nz\nM 14.796875 27.296875 \nQ 14.796875 17.390625 18.875 11.75 \nQ 22.953125 6.109375 30.078125 6.109375 \nQ 37.203125 6.109375 41.296875 11.75 \nQ 45.40625 17.390625 45.40625 27.296875 \nQ 45.40625 37.203125 41.296875 42.84375 \nQ 37.203125 48.484375 30.078125 48.484375 \nQ 22.953125 48.484375 18.875 42.84375 \nQ 14.796875 37.203125 14.796875 27.296875 \nz\n\" id=\"DejaVuSans-100\"/>\n      <path d=\"M 9.421875 54.6875 \nL 18.40625 54.6875 \nL 18.40625 0 \nL 9.421875 0 \nz\nM 9.421875 75.984375 \nL 18.40625 75.984375 \nL 18.40625 64.59375 \nL 9.421875 64.59375 \nz\n\" id=\"DejaVuSans-105\"/>\n      <path d=\"M 41.109375 46.296875 \nQ 39.59375 47.171875 37.8125 47.578125 \nQ 36.03125 48 33.890625 48 \nQ 26.265625 48 22.1875 43.046875 \nQ 18.109375 38.09375 18.109375 28.8125 \nL 18.109375 0 \nL 9.078125 0 \nL 9.078125 54.6875 \nL 18.109375 54.6875 \nL 18.109375 46.1875 \nQ 20.953125 51.171875 25.484375 53.578125 \nQ 30.03125 56 36.53125 56 \nQ 37.453125 56 38.578125 55.875 \nQ 39.703125 55.765625 41.0625 55.515625 \nz\n\" id=\"DejaVuSans-114\"/>\n      <path d=\"M 52 44.1875 \nQ 55.375 50.25 60.0625 53.125 \nQ 64.75 56 71.09375 56 \nQ 79.640625 56 84.28125 50.015625 \nQ 88.921875 44.046875 88.921875 33.015625 \nL 88.921875 0 \nL 79.890625 0 \nL 79.890625 32.71875 \nQ 79.890625 40.578125 77.09375 44.375 \nQ 74.3125 48.1875 68.609375 48.1875 \nQ 61.625 48.1875 57.5625 43.546875 \nQ 53.515625 38.921875 53.515625 30.90625 \nL 53.515625 0 \nL 44.484375 0 \nL 44.484375 32.71875 \nQ 44.484375 40.625 41.703125 44.40625 \nQ 38.921875 48.1875 33.109375 48.1875 \nQ 26.21875 48.1875 22.15625 43.53125 \nQ 18.109375 38.875 18.109375 30.90625 \nL 18.109375 0 \nL 9.078125 0 \nL 9.078125 54.6875 \nL 18.109375 54.6875 \nL 18.109375 46.1875 \nQ 21.1875 51.21875 25.484375 53.609375 \nQ 29.78125 56 35.6875 56 \nQ 41.65625 56 45.828125 52.96875 \nQ 50 49.953125 52 44.1875 \nz\n\" id=\"DejaVuSans-109\"/>\n      <path d=\"M 54.890625 33.015625 \nL 54.890625 0 \nL 45.90625 0 \nL 45.90625 32.71875 \nQ 45.90625 40.484375 42.875 44.328125 \nQ 39.84375 48.1875 33.796875 48.1875 \nQ 26.515625 48.1875 22.3125 43.546875 \nQ 18.109375 38.921875 18.109375 30.90625 \nL 18.109375 0 \nL 9.078125 0 \nL 9.078125 54.6875 \nL 18.109375 54.6875 \nL 18.109375 46.1875 \nQ 21.34375 51.125 25.703125 53.5625 \nQ 30.078125 56 35.796875 56 \nQ 45.21875 56 50.046875 50.171875 \nQ 54.890625 44.34375 54.890625 33.015625 \nz\n\" id=\"DejaVuSans-110\"/>\n      <path d=\"M 34.28125 27.484375 \nQ 23.390625 27.484375 19.1875 25 \nQ 14.984375 22.515625 14.984375 16.5 \nQ 14.984375 11.71875 18.140625 8.90625 \nQ 21.296875 6.109375 26.703125 6.109375 \nQ 34.1875 6.109375 38.703125 11.40625 \nQ 43.21875 16.703125 43.21875 25.484375 \nL 43.21875 27.484375 \nz\nM 52.203125 31.203125 \nL 52.203125 0 \nL 43.21875 0 \nL 43.21875 8.296875 \nQ 40.140625 3.328125 35.546875 0.953125 \nQ 30.953125 -1.421875 24.3125 -1.421875 \nQ 15.921875 -1.421875 10.953125 3.296875 \nQ 6 8.015625 6 15.921875 \nQ 6 25.140625 12.171875 29.828125 \nQ 18.359375 34.515625 30.609375 34.515625 \nL 43.21875 34.515625 \nL 43.21875 35.40625 \nQ 43.21875 41.609375 39.140625 45 \nQ 35.0625 48.390625 27.6875 48.390625 \nQ 23 48.390625 18.546875 47.265625 \nQ 14.109375 46.140625 10.015625 43.890625 \nL 10.015625 52.203125 \nQ 14.9375 54.109375 19.578125 55.046875 \nQ 24.21875 56 28.609375 56 \nQ 40.484375 56 46.34375 49.84375 \nQ 52.203125 43.703125 52.203125 31.203125 \nz\n\" id=\"DejaVuSans-97\"/>\n      <path d=\"M 18.3125 70.21875 \nL 18.3125 54.6875 \nL 36.8125 54.6875 \nL 36.8125 47.703125 \nL 18.3125 47.703125 \nL 18.3125 18.015625 \nQ 18.3125 11.328125 20.140625 9.421875 \nQ 21.96875 7.515625 27.59375 7.515625 \nL 36.8125 7.515625 \nL 36.8125 0 \nL 27.59375 0 \nQ 17.1875 0 13.234375 3.875 \nQ 9.28125 7.765625 9.28125 18.015625 \nL 9.28125 47.703125 \nL 2.6875 47.703125 \nL 2.6875 54.6875 \nL 9.28125 54.6875 \nL 9.28125 70.21875 \nz\n\" id=\"DejaVuSans-116\"/>\n     </defs>\n     <g transform=\"translate(265.85 24.498892)scale(0.1 -0.1)\">\n      <use xlink:href=\"#DejaVuSans-100\"/>\n      <use x=\"63.476562\" xlink:href=\"#DejaVuSans-105\"/>\n      <use x=\"91.259766\" xlink:href=\"#DejaVuSans-115\"/>\n      <use x=\"143.359375\" xlink:href=\"#DejaVuSans-99\"/>\n      <use x=\"198.339844\" xlink:href=\"#DejaVuSans-114\"/>\n      <use x=\"239.453125\" xlink:href=\"#DejaVuSans-105\"/>\n      <use x=\"267.236328\" xlink:href=\"#DejaVuSans-109\"/>\n      <use x=\"364.648438\" xlink:href=\"#DejaVuSans-105\"/>\n      <use x=\"392.431641\" xlink:href=\"#DejaVuSans-110\"/>\n      <use x=\"455.810547\" xlink:href=\"#DejaVuSans-97\"/>\n      <use x=\"517.089844\" xlink:href=\"#DejaVuSans-116\"/>\n      <use x=\"556.298828\" xlink:href=\"#DejaVuSans-111\"/>\n      <use x=\"617.480469\" xlink:href=\"#DejaVuSans-114\"/>\n     </g>\n    </g>\n    <g id=\"line2d_31\">\n     <path d=\"M 237.85 35.677017 \nL 257.85 35.677017 \n\" style=\"fill:none;stroke:#bf00bf;stroke-dasharray:5.55,2.4;stroke-dashoffset:0;stroke-width:1.5;\"/>\n    </g>\n    <g id=\"line2d_32\"/>\n    <g id=\"text_17\">\n     <!-- generator -->\n     <defs>\n      <path d=\"M 45.40625 27.984375 \nQ 45.40625 37.75 41.375 43.109375 \nQ 37.359375 48.484375 30.078125 48.484375 \nQ 22.859375 48.484375 18.828125 43.109375 \nQ 14.796875 37.75 14.796875 27.984375 \nQ 14.796875 18.265625 18.828125 12.890625 \nQ 22.859375 7.515625 30.078125 7.515625 \nQ 37.359375 7.515625 41.375 12.890625 \nQ 45.40625 18.265625 45.40625 27.984375 \nz\nM 54.390625 6.78125 \nQ 54.390625 -7.171875 48.1875 -13.984375 \nQ 42 -20.796875 29.203125 -20.796875 \nQ 24.46875 -20.796875 20.265625 -20.09375 \nQ 16.0625 -19.390625 12.109375 -17.921875 \nL 12.109375 -9.1875 \nQ 16.0625 -11.328125 19.921875 -12.34375 \nQ 23.78125 -13.375 27.78125 -13.375 \nQ 36.625 -13.375 41.015625 -8.765625 \nQ 45.40625 -4.15625 45.40625 5.171875 \nL 45.40625 9.625 \nQ 42.625 4.78125 38.28125 2.390625 \nQ 33.9375 0 27.875 0 \nQ 17.828125 0 11.671875 7.65625 \nQ 5.515625 15.328125 5.515625 27.984375 \nQ 5.515625 40.671875 11.671875 48.328125 \nQ 17.828125 56 27.875 56 \nQ 33.9375 56 38.28125 53.609375 \nQ 42.625 51.21875 45.40625 46.390625 \nL 45.40625 54.6875 \nL 54.390625 54.6875 \nz\n\" id=\"DejaVuSans-103\"/>\n     </defs>\n     <g transform=\"translate(265.85 39.177017)scale(0.1 -0.1)\">\n      <use xlink:href=\"#DejaVuSans-103\"/>\n      <use x=\"63.476562\" xlink:href=\"#DejaVuSans-101\"/>\n      <use x=\"125\" xlink:href=\"#DejaVuSans-110\"/>\n      <use x=\"188.378906\" xlink:href=\"#DejaVuSans-101\"/>\n      <use x=\"249.902344\" xlink:href=\"#DejaVuSans-114\"/>\n      <use x=\"291.015625\" xlink:href=\"#DejaVuSans-97\"/>\n      <use x=\"352.294922\" xlink:href=\"#DejaVuSans-116\"/>\n      <use x=\"391.503906\" xlink:href=\"#DejaVuSans-111\"/>\n      <use x=\"452.685547\" xlink:href=\"#DejaVuSans-114\"/>\n     </g>\n    </g>\n   </g>\n  </g>\n  <g id=\"axes_2\">\n   <g id=\"patch_8\">\n    <path d=\"M 61.707813 279.700455 \nL 340.707812 279.700455 \nL 340.707812 161.526542 \nL 61.707813 161.526542 \nz\n\" style=\"fill:#ffffff;\"/>\n   </g>\n   <g id=\"PathCollection_1\">\n    <defs>\n     <path d=\"M 0 3 \nC 0.795609 3 1.55874 2.683901 2.12132 2.12132 \nC 2.683901 1.55874 3 0.795609 3 0 \nC 3 -0.795609 2.683901 -1.55874 2.12132 -2.12132 \nC 1.55874 -2.683901 0.795609 -3 0 -3 \nC -0.795609 -3 -1.55874 -2.683901 -2.12132 -2.12132 \nC -2.683901 -1.55874 -3 -0.795609 -3 0 \nC -3 0.795609 -2.683901 1.55874 -2.12132 2.12132 \nC -1.55874 2.683901 -0.795609 3 0 3 \nz\n\" id=\"m22b310ed60\" style=\"stroke:#1f77b4;\"/>\n    </defs>\n    <g clip-path=\"url(#p0e3f633337)\">\n     <use style=\"fill:#1f77b4;stroke:#1f77b4;\" x=\"262.642661\" xlink:href=\"#m22b310ed60\" y=\"196.81185\"/>\n     <use style=\"fill:#1f77b4;stroke:#1f77b4;\" x=\"114.840745\" xlink:href=\"#m22b310ed60\" y=\"238.695572\"/>\n     <use style=\"fill:#1f77b4;stroke:#1f77b4;\" x=\"262.490235\" xlink:href=\"#m22b310ed60\" y=\"194.170337\"/>\n     <use style=\"fill:#1f77b4;stroke:#1f77b4;\" x=\"131.822895\" xlink:href=\"#m22b310ed60\" y=\"228.229095\"/>\n     <use style=\"fill:#1f77b4;stroke:#1f77b4;\" x=\"199.638984\" xlink:href=\"#m22b310ed60\" y=\"218.801949\"/>\n     <use style=\"fill:#1f77b4;stroke:#1f77b4;\" x=\"152.210801\" xlink:href=\"#m22b310ed60\" y=\"226.721066\"/>\n     <use style=\"fill:#1f77b4;stroke:#1f77b4;\" x=\"328.025994\" xlink:href=\"#m22b310ed60\" y=\"166.898083\"/>\n     <use style=\"fill:#1f77b4;stroke:#1f77b4;\" x=\"192.559943\" xlink:href=\"#m22b310ed60\" y=\"209.735225\"/>\n     <use style=\"fill:#1f77b4;stroke:#1f77b4;\" x=\"139.696652\" xlink:href=\"#m22b310ed60\" y=\"223.521301\"/>\n     <use style=\"fill:#1f77b4;stroke:#1f77b4;\" x=\"138.788381\" xlink:href=\"#m22b310ed60\" y=\"230.478337\"/>\n     <use style=\"fill:#1f77b4;stroke:#1f77b4;\" x=\"275.073094\" xlink:href=\"#m22b310ed60\" y=\"194.439451\"/>\n     <use style=\"fill:#1f77b4;stroke:#1f77b4;\" x=\"205.266328\" xlink:href=\"#m22b310ed60\" y=\"202.738805\"/>\n     <use style=\"fill:#1f77b4;stroke:#1f77b4;\" x=\"261.496348\" xlink:href=\"#m22b310ed60\" y=\"177.064962\"/>\n     <use style=\"fill:#1f77b4;stroke:#1f77b4;\" x=\"106.894303\" xlink:href=\"#m22b310ed60\" y=\"237.76117\"/>\n     <use style=\"fill:#1f77b4;stroke:#1f77b4;\" x=\"232.075348\" xlink:href=\"#m22b310ed60\" y=\"200.781308\"/>\n     <use style=\"fill:#1f77b4;stroke:#1f77b4;\" x=\"257.477293\" xlink:href=\"#m22b310ed60\" y=\"190.581716\"/>\n     <use style=\"fill:#1f77b4;stroke:#1f77b4;\" x=\"231.172094\" xlink:href=\"#m22b310ed60\" y=\"195.021097\"/>\n     <use style=\"fill:#1f77b4;stroke:#1f77b4;\" x=\"168.239905\" xlink:href=\"#m22b310ed60\" y=\"213.970951\"/>\n     <use style=\"fill:#1f77b4;stroke:#1f77b4;\" x=\"294.082511\" xlink:href=\"#m22b310ed60\" y=\"175.653366\"/>\n     <use style=\"fill:#1f77b4;stroke:#1f77b4;\" x=\"258.71483\" xlink:href=\"#m22b310ed60\" y=\"193.173703\"/>\n     <use style=\"fill:#1f77b4;stroke:#1f77b4;\" x=\"76.282264\" xlink:href=\"#m22b310ed60\" y=\"246.313488\"/>\n     <use style=\"fill:#1f77b4;stroke:#1f77b4;\" x=\"191.178645\" xlink:href=\"#m22b310ed60\" y=\"218.903742\"/>\n     <use style=\"fill:#1f77b4;stroke:#1f77b4;\" x=\"230.480066\" xlink:href=\"#m22b310ed60\" y=\"192.058741\"/>\n     <use style=\"fill:#1f77b4;stroke:#1f77b4;\" x=\"166.081406\" xlink:href=\"#m22b310ed60\" y=\"211.90603\"/>\n     <use style=\"fill:#1f77b4;stroke:#1f77b4;\" x=\"181.369557\" xlink:href=\"#m22b310ed60\" y=\"222.045119\"/>\n     <use style=\"fill:#1f77b4;stroke:#1f77b4;\" x=\"205.785802\" xlink:href=\"#m22b310ed60\" y=\"215.127641\"/>\n     <use style=\"fill:#1f77b4;stroke:#1f77b4;\" x=\"192.947595\" xlink:href=\"#m22b310ed60\" y=\"213.802176\"/>\n     <use style=\"fill:#1f77b4;stroke:#1f77b4;\" x=\"188.633515\" xlink:href=\"#m22b310ed60\" y=\"211.501276\"/>\n     <use style=\"fill:#1f77b4;stroke:#1f77b4;\" x=\"143.698008\" xlink:href=\"#m22b310ed60\" y=\"225.370611\"/>\n     <use style=\"fill:#1f77b4;stroke:#1f77b4;\" x=\"225.814005\" xlink:href=\"#m22b310ed60\" y=\"208.406723\"/>\n     <use style=\"fill:#1f77b4;stroke:#1f77b4;\" x=\"186.985794\" xlink:href=\"#m22b310ed60\" y=\"213.560587\"/>\n     <use style=\"fill:#1f77b4;stroke:#1f77b4;\" x=\"187.080748\" xlink:href=\"#m22b310ed60\" y=\"223.768357\"/>\n     <use style=\"fill:#1f77b4;stroke:#1f77b4;\" x=\"229.621487\" xlink:href=\"#m22b310ed60\" y=\"211.69416\"/>\n     <use style=\"fill:#1f77b4;stroke:#1f77b4;\" x=\"268.855836\" xlink:href=\"#m22b310ed60\" y=\"189.801968\"/>\n     <use style=\"fill:#1f77b4;stroke:#1f77b4;\" x=\"261.215612\" xlink:href=\"#m22b310ed60\" y=\"192.710705\"/>\n     <use style=\"fill:#1f77b4;stroke:#1f77b4;\" x=\"163.896358\" xlink:href=\"#m22b310ed60\" y=\"217.39832\"/>\n     <use style=\"fill:#1f77b4;stroke:#1f77b4;\" x=\"175.21168\" xlink:href=\"#m22b310ed60\" y=\"216.060024\"/>\n     <use style=\"fill:#1f77b4;stroke:#1f77b4;\" x=\"180.383099\" xlink:href=\"#m22b310ed60\" y=\"217.392165\"/>\n     <use style=\"fill:#1f77b4;stroke:#1f77b4;\" x=\"194.401256\" xlink:href=\"#m22b310ed60\" y=\"215.811282\"/>\n     <use style=\"fill:#1f77b4;stroke:#1f77b4;\" x=\"86.283968\" xlink:href=\"#m22b310ed60\" y=\"243.038527\"/>\n     <use style=\"fill:#1f77b4;stroke:#1f77b4;\" x=\"220.880936\" xlink:href=\"#m22b310ed60\" y=\"196.83333\"/>\n     <use style=\"fill:#1f77b4;stroke:#1f77b4;\" x=\"202.035039\" xlink:href=\"#m22b310ed60\" y=\"210.838138\"/>\n     <use style=\"fill:#1f77b4;stroke:#1f77b4;\" x=\"285.554688\" xlink:href=\"#m22b310ed60\" y=\"185.592758\"/>\n     <use style=\"fill:#1f77b4;stroke:#1f77b4;\" x=\"232.178874\" xlink:href=\"#m22b310ed60\" y=\"197.384182\"/>\n     <use style=\"fill:#1f77b4;stroke:#1f77b4;\" x=\"241.240328\" xlink:href=\"#m22b310ed60\" y=\"194.847818\"/>\n     <use style=\"fill:#1f77b4;stroke:#1f77b4;\" x=\"172.673552\" xlink:href=\"#m22b310ed60\" y=\"215.667685\"/>\n     <use style=\"fill:#1f77b4;stroke:#1f77b4;\" x=\"234.27027\" xlink:href=\"#m22b310ed60\" y=\"203.887885\"/>\n     <use style=\"fill:#1f77b4;stroke:#1f77b4;\" x=\"143.260975\" xlink:href=\"#m22b310ed60\" y=\"222.885618\"/>\n     <use style=\"fill:#1f77b4;stroke:#1f77b4;\" x=\"237.268131\" xlink:href=\"#m22b310ed60\" y=\"202.043178\"/>\n     <use style=\"fill:#1f77b4;stroke:#1f77b4;\" x=\"198.134869\" xlink:href=\"#m22b310ed60\" y=\"212.599286\"/>\n     <use style=\"fill:#1f77b4;stroke:#1f77b4;\" x=\"168.203558\" xlink:href=\"#m22b310ed60\" y=\"214.522663\"/>\n     <use style=\"fill:#1f77b4;stroke:#1f77b4;\" x=\"135.903491\" xlink:href=\"#m22b310ed60\" y=\"230.628322\"/>\n     <use style=\"fill:#1f77b4;stroke:#1f77b4;\" x=\"166.37558\" xlink:href=\"#m22b310ed60\" y=\"217.092409\"/>\n     <use style=\"fill:#1f77b4;stroke:#1f77b4;\" x=\"157.226009\" xlink:href=\"#m22b310ed60\" y=\"219.112911\"/>\n     <use style=\"fill:#1f77b4;stroke:#1f77b4;\" x=\"243.789515\" xlink:href=\"#m22b310ed60\" y=\"197.065714\"/>\n     <use style=\"fill:#1f77b4;stroke:#1f77b4;\" x=\"135.989746\" xlink:href=\"#m22b310ed60\" y=\"225.965568\"/>\n     <use style=\"fill:#1f77b4;stroke:#1f77b4;\" x=\"181.299986\" xlink:href=\"#m22b310ed60\" y=\"209.814397\"/>\n     <use style=\"fill:#1f77b4;stroke:#1f77b4;\" x=\"269.273703\" xlink:href=\"#m22b310ed60\" y=\"194.695697\"/>\n     <use style=\"fill:#1f77b4;stroke:#1f77b4;\" x=\"142.722516\" xlink:href=\"#m22b310ed60\" y=\"227.082238\"/>\n     <use style=\"fill:#1f77b4;stroke:#1f77b4;\" x=\"227.466263\" xlink:href=\"#m22b310ed60\" y=\"202.005457\"/>\n     <use style=\"fill:#1f77b4;stroke:#1f77b4;\" x=\"272.838254\" xlink:href=\"#m22b310ed60\" y=\"202.651392\"/>\n     <use style=\"fill:#1f77b4;stroke:#1f77b4;\" x=\"74.389631\" xlink:href=\"#m22b310ed60\" y=\"243.84543\"/>\n     <use style=\"fill:#1f77b4;stroke:#1f77b4;\" x=\"185.296646\" xlink:href=\"#m22b310ed60\" y=\"211.619173\"/>\n     <use style=\"fill:#1f77b4;stroke:#1f77b4;\" x=\"163.888262\" xlink:href=\"#m22b310ed60\" y=\"216.134287\"/>\n     <use style=\"fill:#1f77b4;stroke:#1f77b4;\" x=\"257.660204\" xlink:href=\"#m22b310ed60\" y=\"196.584071\"/>\n     <use style=\"fill:#1f77b4;stroke:#1f77b4;\" x=\"255.606118\" xlink:href=\"#m22b310ed60\" y=\"206.808479\"/>\n     <use style=\"fill:#1f77b4;stroke:#1f77b4;\" x=\"140.007622\" xlink:href=\"#m22b310ed60\" y=\"228.792348\"/>\n     <use style=\"fill:#1f77b4;stroke:#1f77b4;\" x=\"207.849526\" xlink:href=\"#m22b310ed60\" y=\"204.213544\"/>\n     <use style=\"fill:#1f77b4;stroke:#1f77b4;\" x=\"196.718421\" xlink:href=\"#m22b310ed60\" y=\"212.107075\"/>\n     <use style=\"fill:#1f77b4;stroke:#1f77b4;\" x=\"235.023057\" xlink:href=\"#m22b310ed60\" y=\"201.441622\"/>\n     <use style=\"fill:#1f77b4;stroke:#1f77b4;\" x=\"184.524383\" xlink:href=\"#m22b310ed60\" y=\"209.868703\"/>\n     <use style=\"fill:#1f77b4;stroke:#1f77b4;\" x=\"179.212667\" xlink:href=\"#m22b310ed60\" y=\"221.691365\"/>\n     <use style=\"fill:#1f77b4;stroke:#1f77b4;\" x=\"305.94409\" xlink:href=\"#m22b310ed60\" y=\"181.173138\"/>\n     <use style=\"fill:#1f77b4;stroke:#1f77b4;\" x=\"285.199781\" xlink:href=\"#m22b310ed60\" y=\"181.802213\"/>\n     <use style=\"fill:#1f77b4;stroke:#1f77b4;\" x=\"259.413137\" xlink:href=\"#m22b310ed60\" y=\"191.397227\"/>\n     <use style=\"fill:#1f77b4;stroke:#1f77b4;\" x=\"109.794654\" xlink:href=\"#m22b310ed60\" y=\"240.998416\"/>\n     <use style=\"fill:#1f77b4;stroke:#1f77b4;\" x=\"186.143671\" xlink:href=\"#m22b310ed60\" y=\"221.92333\"/>\n     <use style=\"fill:#1f77b4;stroke:#1f77b4;\" x=\"254.881024\" xlink:href=\"#m22b310ed60\" y=\"202.241167\"/>\n     <use style=\"fill:#1f77b4;stroke:#1f77b4;\" x=\"266.898713\" xlink:href=\"#m22b310ed60\" y=\"192.023837\"/>\n     <use style=\"fill:#1f77b4;stroke:#1f77b4;\" x=\"269.396285\" xlink:href=\"#m22b310ed60\" y=\"194.574047\"/>\n     <use style=\"fill:#1f77b4;stroke:#1f77b4;\" x=\"174.189044\" xlink:href=\"#m22b310ed60\" y=\"222.341992\"/>\n     <use style=\"fill:#1f77b4;stroke:#1f77b4;\" x=\"153.640157\" xlink:href=\"#m22b310ed60\" y=\"229.520623\"/>\n     <use style=\"fill:#1f77b4;stroke:#1f77b4;\" x=\"244.026597\" xlink:href=\"#m22b310ed60\" y=\"205.761773\"/>\n     <use style=\"fill:#1f77b4;stroke:#1f77b4;\" x=\"252.268047\" xlink:href=\"#m22b310ed60\" y=\"191.3615\"/>\n     <use style=\"fill:#1f77b4;stroke:#1f77b4;\" x=\"264.282758\" xlink:href=\"#m22b310ed60\" y=\"192.529437\"/>\n     <use style=\"fill:#1f77b4;stroke:#1f77b4;\" x=\"229.74084\" xlink:href=\"#m22b310ed60\" y=\"195.601707\"/>\n     <use style=\"fill:#1f77b4;stroke:#1f77b4;\" x=\"182.475368\" xlink:href=\"#m22b310ed60\" y=\"221.717161\"/>\n     <use style=\"fill:#1f77b4;stroke:#1f77b4;\" x=\"193.365699\" xlink:href=\"#m22b310ed60\" y=\"207.046835\"/>\n     <use style=\"fill:#1f77b4;stroke:#1f77b4;\" x=\"221.262796\" xlink:href=\"#m22b310ed60\" y=\"200.502271\"/>\n     <use style=\"fill:#1f77b4;stroke:#1f77b4;\" x=\"177.564161\" xlink:href=\"#m22b310ed60\" y=\"206.866209\"/>\n     <use style=\"fill:#1f77b4;stroke:#1f77b4;\" x=\"157.236044\" xlink:href=\"#m22b310ed60\" y=\"222.12144\"/>\n     <use style=\"fill:#1f77b4;stroke:#1f77b4;\" x=\"210.56579\" xlink:href=\"#m22b310ed60\" y=\"209.111739\"/>\n     <use style=\"fill:#1f77b4;stroke:#1f77b4;\" x=\"185.789483\" xlink:href=\"#m22b310ed60\" y=\"219.180173\"/>\n     <use style=\"fill:#1f77b4;stroke:#1f77b4;\" x=\"164.883927\" xlink:href=\"#m22b310ed60\" y=\"216.197525\"/>\n     <use style=\"fill:#1f77b4;stroke:#1f77b4;\" x=\"220.364949\" xlink:href=\"#m22b310ed60\" y=\"203.772832\"/>\n     <use style=\"fill:#1f77b4;stroke:#1f77b4;\" x=\"245.360867\" xlink:href=\"#m22b310ed60\" y=\"190.779518\"/>\n     <use style=\"fill:#1f77b4;stroke:#1f77b4;\" x=\"131.319877\" xlink:href=\"#m22b310ed60\" y=\"229.284123\"/>\n     <use style=\"fill:#1f77b4;stroke:#1f77b4;\" x=\"190.543151\" xlink:href=\"#m22b310ed60\" y=\"213.474848\"/>\n     <use style=\"fill:#1f77b4;stroke:#1f77b4;\" x=\"162.387579\" xlink:href=\"#m22b310ed60\" y=\"216.019472\"/>\n     <use style=\"fill:#1f77b4;stroke:#1f77b4;\" x=\"186.829172\" xlink:href=\"#m22b310ed60\" y=\"210.945549\"/>\n    </g>\n   </g>\n   <g id=\"PathCollection_2\">\n    <defs>\n     <path d=\"M 0 3 \nC 0.795609 3 1.55874 2.683901 2.12132 2.12132 \nC 2.683901 1.55874 3 0.795609 3 0 \nC 3 -0.795609 2.683901 -1.55874 2.12132 -2.12132 \nC 1.55874 -2.683901 0.795609 -3 0 -3 \nC -0.795609 -3 -1.55874 -2.683901 -2.12132 -2.12132 \nC -2.683901 -1.55874 -3 -0.795609 -3 0 \nC -3 0.795609 -2.683901 1.55874 -2.12132 2.12132 \nC -1.55874 2.683901 -0.795609 3 0 3 \nz\n\" id=\"m0c3ea5138f\" style=\"stroke:#ff7f0e;\"/>\n    </defs>\n    <g clip-path=\"url(#p0e3f633337)\">\n     <use style=\"fill:#ff7f0e;stroke:#ff7f0e;\" x=\"208.045477\" xlink:href=\"#m0c3ea5138f\" y=\"238.368848\"/>\n     <use style=\"fill:#ff7f0e;stroke:#ff7f0e;\" x=\"246.269501\" xlink:href=\"#m0c3ea5138f\" y=\"225.079636\"/>\n     <use style=\"fill:#ff7f0e;stroke:#ff7f0e;\" x=\"261.86258\" xlink:href=\"#m0c3ea5138f\" y=\"220.971924\"/>\n     <use style=\"fill:#ff7f0e;stroke:#ff7f0e;\" x=\"183.097392\" xlink:href=\"#m0c3ea5138f\" y=\"247.053777\"/>\n     <use style=\"fill:#ff7f0e;stroke:#ff7f0e;\" x=\"203.686771\" xlink:href=\"#m0c3ea5138f\" y=\"239.683642\"/>\n     <use style=\"fill:#ff7f0e;stroke:#ff7f0e;\" x=\"269.021552\" xlink:href=\"#m0c3ea5138f\" y=\"217.419415\"/>\n     <use style=\"fill:#ff7f0e;stroke:#ff7f0e;\" x=\"209.401256\" xlink:href=\"#m0c3ea5138f\" y=\"237.185951\"/>\n     <use style=\"fill:#ff7f0e;stroke:#ff7f0e;\" x=\"218.226624\" xlink:href=\"#m0c3ea5138f\" y=\"235.197969\"/>\n     <use style=\"fill:#ff7f0e;stroke:#ff7f0e;\" x=\"235.995306\" xlink:href=\"#m0c3ea5138f\" y=\"228.69664\"/>\n     <use style=\"fill:#ff7f0e;stroke:#ff7f0e;\" x=\"210.261742\" xlink:href=\"#m0c3ea5138f\" y=\"238.047081\"/>\n     <use style=\"fill:#ff7f0e;stroke:#ff7f0e;\" x=\"227.885389\" xlink:href=\"#m0c3ea5138f\" y=\"231.48437\"/>\n     <use style=\"fill:#ff7f0e;stroke:#ff7f0e;\" x=\"216.635747\" xlink:href=\"#m0c3ea5138f\" y=\"235.013143\"/>\n     <use style=\"fill:#ff7f0e;stroke:#ff7f0e;\" x=\"189.00899\" xlink:href=\"#m0c3ea5138f\" y=\"245.118115\"/>\n     <use style=\"fill:#ff7f0e;stroke:#ff7f0e;\" x=\"187.832308\" xlink:href=\"#m0c3ea5138f\" y=\"244.787738\"/>\n     <use style=\"fill:#ff7f0e;stroke:#ff7f0e;\" x=\"208.339163\" xlink:href=\"#m0c3ea5138f\" y=\"238.435899\"/>\n     <use style=\"fill:#ff7f0e;stroke:#ff7f0e;\" x=\"235.093054\" xlink:href=\"#m0c3ea5138f\" y=\"229.677502\"/>\n     <use style=\"fill:#ff7f0e;stroke:#ff7f0e;\" x=\"198.610727\" xlink:href=\"#m0c3ea5138f\" y=\"241.566946\"/>\n     <use style=\"fill:#ff7f0e;stroke:#ff7f0e;\" x=\"186.415693\" xlink:href=\"#m0c3ea5138f\" y=\"245.913006\"/>\n     <use style=\"fill:#ff7f0e;stroke:#ff7f0e;\" x=\"204.379345\" xlink:href=\"#m0c3ea5138f\" y=\"240.275276\"/>\n     <use style=\"fill:#ff7f0e;stroke:#ff7f0e;\" x=\"244.273175\" xlink:href=\"#m0c3ea5138f\" y=\"225.172968\"/>\n     <use style=\"fill:#ff7f0e;stroke:#ff7f0e;\" x=\"188.165786\" xlink:href=\"#m0c3ea5138f\" y=\"244.893496\"/>\n     <use style=\"fill:#ff7f0e;stroke:#ff7f0e;\" x=\"260.263511\" xlink:href=\"#m0c3ea5138f\" y=\"220.405895\"/>\n     <use style=\"fill:#ff7f0e;stroke:#ff7f0e;\" x=\"222.719816\" xlink:href=\"#m0c3ea5138f\" y=\"233.649045\"/>\n     <use style=\"fill:#ff7f0e;stroke:#ff7f0e;\" x=\"133.033189\" xlink:href=\"#m0c3ea5138f\" y=\"264.194814\"/>\n     <use style=\"fill:#ff7f0e;stroke:#ff7f0e;\" x=\"164.290299\" xlink:href=\"#m0c3ea5138f\" y=\"253.144727\"/>\n     <use style=\"fill:#ff7f0e;stroke:#ff7f0e;\" x=\"188.620087\" xlink:href=\"#m0c3ea5138f\" y=\"244.717629\"/>\n     <use style=\"fill:#ff7f0e;stroke:#ff7f0e;\" x=\"147.373502\" xlink:href=\"#m0c3ea5138f\" y=\"258.855648\"/>\n     <use style=\"fill:#ff7f0e;stroke:#ff7f0e;\" x=\"213.023304\" xlink:href=\"#m0c3ea5138f\" y=\"236.438793\"/>\n     <use style=\"fill:#ff7f0e;stroke:#ff7f0e;\" x=\"204.421778\" xlink:href=\"#m0c3ea5138f\" y=\"240.527454\"/>\n     <use style=\"fill:#ff7f0e;stroke:#ff7f0e;\" x=\"226.23828\" xlink:href=\"#m0c3ea5138f\" y=\"232.422923\"/>\n     <use style=\"fill:#ff7f0e;stroke:#ff7f0e;\" x=\"169.249875\" xlink:href=\"#m0c3ea5138f\" y=\"251.064373\"/>\n     <use style=\"fill:#ff7f0e;stroke:#ff7f0e;\" x=\"167.116584\" xlink:href=\"#m0c3ea5138f\" y=\"252.932988\"/>\n     <use style=\"fill:#ff7f0e;stroke:#ff7f0e;\" x=\"103.772653\" xlink:href=\"#m0c3ea5138f\" y=\"274.328913\"/>\n     <use style=\"fill:#ff7f0e;stroke:#ff7f0e;\" x=\"168.13155\" xlink:href=\"#m0c3ea5138f\" y=\"252.895309\"/>\n     <use style=\"fill:#ff7f0e;stroke:#ff7f0e;\" x=\"228.998931\" xlink:href=\"#m0c3ea5138f\" y=\"230.261251\"/>\n     <use style=\"fill:#ff7f0e;stroke:#ff7f0e;\" x=\"189.338449\" xlink:href=\"#m0c3ea5138f\" y=\"245.46282\"/>\n     <use style=\"fill:#ff7f0e;stroke:#ff7f0e;\" x=\"198.407046\" xlink:href=\"#m0c3ea5138f\" y=\"241.453437\"/>\n     <use style=\"fill:#ff7f0e;stroke:#ff7f0e;\" x=\"232.113056\" xlink:href=\"#m0c3ea5138f\" y=\"230.623435\"/>\n     <use style=\"fill:#ff7f0e;stroke:#ff7f0e;\" x=\"206.697499\" xlink:href=\"#m0c3ea5138f\" y=\"239.848844\"/>\n     <use style=\"fill:#ff7f0e;stroke:#ff7f0e;\" x=\"219.01613\" xlink:href=\"#m0c3ea5138f\" y=\"233.74037\"/>\n     <use style=\"fill:#ff7f0e;stroke:#ff7f0e;\" x=\"258.749592\" xlink:href=\"#m0c3ea5138f\" y=\"221.413652\"/>\n     <use style=\"fill:#ff7f0e;stroke:#ff7f0e;\" x=\"203.485317\" xlink:href=\"#m0c3ea5138f\" y=\"240.441062\"/>\n     <use style=\"fill:#ff7f0e;stroke:#ff7f0e;\" x=\"230.780263\" xlink:href=\"#m0c3ea5138f\" y=\"230.638649\"/>\n     <use style=\"fill:#ff7f0e;stroke:#ff7f0e;\" x=\"184.690215\" xlink:href=\"#m0c3ea5138f\" y=\"245.475619\"/>\n     <use style=\"fill:#ff7f0e;stroke:#ff7f0e;\" x=\"170.555298\" xlink:href=\"#m0c3ea5138f\" y=\"251.67507\"/>\n     <use style=\"fill:#ff7f0e;stroke:#ff7f0e;\" x=\"215.692788\" xlink:href=\"#m0c3ea5138f\" y=\"234.373244\"/>\n     <use style=\"fill:#ff7f0e;stroke:#ff7f0e;\" x=\"166.668476\" xlink:href=\"#m0c3ea5138f\" y=\"252.863462\"/>\n     <use style=\"fill:#ff7f0e;stroke:#ff7f0e;\" x=\"284.405524\" xlink:href=\"#m0c3ea5138f\" y=\"211.640347\"/>\n     <use style=\"fill:#ff7f0e;stroke:#ff7f0e;\" x=\"201.115856\" xlink:href=\"#m0c3ea5138f\" y=\"241.350172\"/>\n     <use style=\"fill:#ff7f0e;stroke:#ff7f0e;\" x=\"215.100685\" xlink:href=\"#m0c3ea5138f\" y=\"236.453712\"/>\n     <use style=\"fill:#ff7f0e;stroke:#ff7f0e;\" x=\"187.364167\" xlink:href=\"#m0c3ea5138f\" y=\"245.879088\"/>\n     <use style=\"fill:#ff7f0e;stroke:#ff7f0e;\" x=\"248.666192\" xlink:href=\"#m0c3ea5138f\" y=\"223.909392\"/>\n     <use style=\"fill:#ff7f0e;stroke:#ff7f0e;\" x=\"291.050897\" xlink:href=\"#m0c3ea5138f\" y=\"209.073042\"/>\n     <use style=\"fill:#ff7f0e;stroke:#ff7f0e;\" x=\"280.549631\" xlink:href=\"#m0c3ea5138f\" y=\"213.467437\"/>\n     <use style=\"fill:#ff7f0e;stroke:#ff7f0e;\" x=\"232.466344\" xlink:href=\"#m0c3ea5138f\" y=\"229.892903\"/>\n     <use style=\"fill:#ff7f0e;stroke:#ff7f0e;\" x=\"187.29355\" xlink:href=\"#m0c3ea5138f\" y=\"245.451769\"/>\n     <use style=\"fill:#ff7f0e;stroke:#ff7f0e;\" x=\"182.075081\" xlink:href=\"#m0c3ea5138f\" y=\"247.52655\"/>\n     <use style=\"fill:#ff7f0e;stroke:#ff7f0e;\" x=\"192.361164\" xlink:href=\"#m0c3ea5138f\" y=\"243.46373\"/>\n     <use style=\"fill:#ff7f0e;stroke:#ff7f0e;\" x=\"286.736571\" xlink:href=\"#m0c3ea5138f\" y=\"210.896065\"/>\n     <use style=\"fill:#ff7f0e;stroke:#ff7f0e;\" x=\"239.986136\" xlink:href=\"#m0c3ea5138f\" y=\"228.126268\"/>\n     <use style=\"fill:#ff7f0e;stroke:#ff7f0e;\" x=\"195.483318\" xlink:href=\"#m0c3ea5138f\" y=\"243.285666\"/>\n     <use style=\"fill:#ff7f0e;stroke:#ff7f0e;\" x=\"176.411868\" xlink:href=\"#m0c3ea5138f\" y=\"250.164314\"/>\n     <use style=\"fill:#ff7f0e;stroke:#ff7f0e;\" x=\"221.590505\" xlink:href=\"#m0c3ea5138f\" y=\"233.88425\"/>\n     <use style=\"fill:#ff7f0e;stroke:#ff7f0e;\" x=\"172.353619\" xlink:href=\"#m0c3ea5138f\" y=\"249.740673\"/>\n     <use style=\"fill:#ff7f0e;stroke:#ff7f0e;\" x=\"222.581971\" xlink:href=\"#m0c3ea5138f\" y=\"232.59263\"/>\n     <use style=\"fill:#ff7f0e;stroke:#ff7f0e;\" x=\"192.212118\" xlink:href=\"#m0c3ea5138f\" y=\"244.507381\"/>\n     <use style=\"fill:#ff7f0e;stroke:#ff7f0e;\" x=\"243.777528\" xlink:href=\"#m0c3ea5138f\" y=\"226.146264\"/>\n     <use style=\"fill:#ff7f0e;stroke:#ff7f0e;\" x=\"198.39102\" xlink:href=\"#m0c3ea5138f\" y=\"241.481148\"/>\n     <use style=\"fill:#ff7f0e;stroke:#ff7f0e;\" x=\"239.933814\" xlink:href=\"#m0c3ea5138f\" y=\"227.174775\"/>\n     <use style=\"fill:#ff7f0e;stroke:#ff7f0e;\" x=\"230.289778\" xlink:href=\"#m0c3ea5138f\" y=\"229.410152\"/>\n     <use style=\"fill:#ff7f0e;stroke:#ff7f0e;\" x=\"207.068829\" xlink:href=\"#m0c3ea5138f\" y=\"238.545865\"/>\n     <use style=\"fill:#ff7f0e;stroke:#ff7f0e;\" x=\"195.480377\" xlink:href=\"#m0c3ea5138f\" y=\"242.562408\"/>\n     <use style=\"fill:#ff7f0e;stroke:#ff7f0e;\" x=\"205.22254\" xlink:href=\"#m0c3ea5138f\" y=\"239.616631\"/>\n     <use style=\"fill:#ff7f0e;stroke:#ff7f0e;\" x=\"228.782966\" xlink:href=\"#m0c3ea5138f\" y=\"231.408288\"/>\n     <use style=\"fill:#ff7f0e;stroke:#ff7f0e;\" x=\"214.46347\" xlink:href=\"#m0c3ea5138f\" y=\"235.023915\"/>\n     <use style=\"fill:#ff7f0e;stroke:#ff7f0e;\" x=\"212.833279\" xlink:href=\"#m0c3ea5138f\" y=\"236.701631\"/>\n     <use style=\"fill:#ff7f0e;stroke:#ff7f0e;\" x=\"205.74489\" xlink:href=\"#m0c3ea5138f\" y=\"238.657686\"/>\n     <use style=\"fill:#ff7f0e;stroke:#ff7f0e;\" x=\"151.655128\" xlink:href=\"#m0c3ea5138f\" y=\"257.26117\"/>\n     <use style=\"fill:#ff7f0e;stroke:#ff7f0e;\" x=\"278.154545\" xlink:href=\"#m0c3ea5138f\" y=\"213.796409\"/>\n     <use style=\"fill:#ff7f0e;stroke:#ff7f0e;\" x=\"260.641853\" xlink:href=\"#m0c3ea5138f\" y=\"220.486513\"/>\n     <use style=\"fill:#ff7f0e;stroke:#ff7f0e;\" x=\"210.590619\" xlink:href=\"#m0c3ea5138f\" y=\"237.133991\"/>\n     <use style=\"fill:#ff7f0e;stroke:#ff7f0e;\" x=\"154.950295\" xlink:href=\"#m0c3ea5138f\" y=\"256.423957\"/>\n     <use style=\"fill:#ff7f0e;stroke:#ff7f0e;\" x=\"160.200338\" xlink:href=\"#m0c3ea5138f\" y=\"254.663842\"/>\n     <use style=\"fill:#ff7f0e;stroke:#ff7f0e;\" x=\"230.272873\" xlink:href=\"#m0c3ea5138f\" y=\"230.316182\"/>\n     <use style=\"fill:#ff7f0e;stroke:#ff7f0e;\" x=\"205.632362\" xlink:href=\"#m0c3ea5138f\" y=\"239.448845\"/>\n     <use style=\"fill:#ff7f0e;stroke:#ff7f0e;\" x=\"259.071136\" xlink:href=\"#m0c3ea5138f\" y=\"219.733933\"/>\n     <use style=\"fill:#ff7f0e;stroke:#ff7f0e;\" x=\"216.844783\" xlink:href=\"#m0c3ea5138f\" y=\"234.773353\"/>\n     <use style=\"fill:#ff7f0e;stroke:#ff7f0e;\" x=\"141.453223\" xlink:href=\"#m0c3ea5138f\" y=\"260.449038\"/>\n     <use style=\"fill:#ff7f0e;stroke:#ff7f0e;\" x=\"244.791036\" xlink:href=\"#m0c3ea5138f\" y=\"225.381012\"/>\n     <use style=\"fill:#ff7f0e;stroke:#ff7f0e;\" x=\"206.136817\" xlink:href=\"#m0c3ea5138f\" y=\"238.85257\"/>\n     <use style=\"fill:#ff7f0e;stroke:#ff7f0e;\" x=\"163.068431\" xlink:href=\"#m0c3ea5138f\" y=\"253.843549\"/>\n     <use style=\"fill:#ff7f0e;stroke:#ff7f0e;\" x=\"202.167163\" xlink:href=\"#m0c3ea5138f\" y=\"240.132536\"/>\n     <use style=\"fill:#ff7f0e;stroke:#ff7f0e;\" x=\"226.058657\" xlink:href=\"#m0c3ea5138f\" y=\"232.467132\"/>\n     <use style=\"fill:#ff7f0e;stroke:#ff7f0e;\" x=\"212.881948\" xlink:href=\"#m0c3ea5138f\" y=\"234.461252\"/>\n     <use style=\"fill:#ff7f0e;stroke:#ff7f0e;\" x=\"228.88865\" xlink:href=\"#m0c3ea5138f\" y=\"231.08296\"/>\n     <use style=\"fill:#ff7f0e;stroke:#ff7f0e;\" x=\"177.698558\" xlink:href=\"#m0c3ea5138f\" y=\"249.579982\"/>\n     <use style=\"fill:#ff7f0e;stroke:#ff7f0e;\" x=\"209.806526\" xlink:href=\"#m0c3ea5138f\" y=\"237.691602\"/>\n     <use style=\"fill:#ff7f0e;stroke:#ff7f0e;\" x=\"152.59173\" xlink:href=\"#m0c3ea5138f\" y=\"256.138806\"/>\n     <use style=\"fill:#ff7f0e;stroke:#ff7f0e;\" x=\"201.397709\" xlink:href=\"#m0c3ea5138f\" y=\"242.808095\"/>\n     <use style=\"fill:#ff7f0e;stroke:#ff7f0e;\" x=\"199.757496\" xlink:href=\"#m0c3ea5138f\" y=\"241.677037\"/>\n    </g>\n   </g>\n   <g id=\"matplotlib.axis_3\">\n    <g id=\"xtick_9\">\n     <g id=\"line2d_33\">\n      <g>\n       <use style=\"stroke:#000000;stroke-width:0.8;\" x=\"84.81864\" xlink:href=\"#md0b6688200\" y=\"279.700455\"/>\n      </g>\n     </g>\n     <g id=\"text_18\">\n      <!-- −1 -->\n      <g transform=\"translate(77.447546 294.298892)scale(0.1 -0.1)\">\n       <use xlink:href=\"#DejaVuSans-8722\"/>\n       <use x=\"83.789062\" xlink:href=\"#DejaVuSans-49\"/>\n      </g>\n     </g>\n    </g>\n    <g id=\"xtick_10\">\n     <g id=\"line2d_34\">\n      <g>\n       <use style=\"stroke:#000000;stroke-width:0.8;\" x=\"138.678749\" xlink:href=\"#md0b6688200\" y=\"279.700455\"/>\n      </g>\n     </g>\n     <g id=\"text_19\">\n      <!-- 0 -->\n      <g transform=\"translate(135.497499 294.298892)scale(0.1 -0.1)\">\n       <use xlink:href=\"#DejaVuSans-48\"/>\n      </g>\n     </g>\n    </g>\n    <g id=\"xtick_11\">\n     <g id=\"line2d_35\">\n      <g>\n       <use style=\"stroke:#000000;stroke-width:0.8;\" x=\"192.538858\" xlink:href=\"#md0b6688200\" y=\"279.700455\"/>\n      </g>\n     </g>\n     <g id=\"text_20\">\n      <!-- 1 -->\n      <g transform=\"translate(189.357608 294.298892)scale(0.1 -0.1)\">\n       <use xlink:href=\"#DejaVuSans-49\"/>\n      </g>\n     </g>\n    </g>\n    <g id=\"xtick_12\">\n     <g id=\"line2d_36\">\n      <g>\n       <use style=\"stroke:#000000;stroke-width:0.8;\" x=\"246.398967\" xlink:href=\"#md0b6688200\" y=\"279.700455\"/>\n      </g>\n     </g>\n     <g id=\"text_21\">\n      <!-- 2 -->\n      <g transform=\"translate(243.217717 294.298892)scale(0.1 -0.1)\">\n       <use xlink:href=\"#DejaVuSans-50\"/>\n      </g>\n     </g>\n    </g>\n    <g id=\"xtick_13\">\n     <g id=\"line2d_37\">\n      <g>\n       <use style=\"stroke:#000000;stroke-width:0.8;\" x=\"300.259076\" xlink:href=\"#md0b6688200\" y=\"279.700455\"/>\n      </g>\n     </g>\n     <g id=\"text_22\">\n      <!-- 3 -->\n      <defs>\n       <path d=\"M 40.578125 39.3125 \nQ 47.65625 37.796875 51.625 33 \nQ 55.609375 28.21875 55.609375 21.1875 \nQ 55.609375 10.40625 48.1875 4.484375 \nQ 40.765625 -1.421875 27.09375 -1.421875 \nQ 22.515625 -1.421875 17.65625 -0.515625 \nQ 12.796875 0.390625 7.625 2.203125 \nL 7.625 11.71875 \nQ 11.71875 9.328125 16.59375 8.109375 \nQ 21.484375 6.890625 26.8125 6.890625 \nQ 36.078125 6.890625 40.9375 10.546875 \nQ 45.796875 14.203125 45.796875 21.1875 \nQ 45.796875 27.640625 41.28125 31.265625 \nQ 36.765625 34.90625 28.71875 34.90625 \nL 20.21875 34.90625 \nL 20.21875 43.015625 \nL 29.109375 43.015625 \nQ 36.375 43.015625 40.234375 45.921875 \nQ 44.09375 48.828125 44.09375 54.296875 \nQ 44.09375 59.90625 40.109375 62.90625 \nQ 36.140625 65.921875 28.71875 65.921875 \nQ 24.65625 65.921875 20.015625 65.03125 \nQ 15.375 64.15625 9.8125 62.3125 \nL 9.8125 71.09375 \nQ 15.4375 72.65625 20.34375 73.4375 \nQ 25.25 74.21875 29.59375 74.21875 \nQ 40.828125 74.21875 47.359375 69.109375 \nQ 53.90625 64.015625 53.90625 55.328125 \nQ 53.90625 49.265625 50.4375 45.09375 \nQ 46.96875 40.921875 40.578125 39.3125 \nz\n\" id=\"DejaVuSans-51\"/>\n      </defs>\n      <g transform=\"translate(297.077826 294.298892)scale(0.1 -0.1)\">\n       <use xlink:href=\"#DejaVuSans-51\"/>\n      </g>\n     </g>\n    </g>\n   </g>\n   <g id=\"matplotlib.axis_4\">\n    <g id=\"ytick_6\">\n     <g id=\"line2d_38\">\n      <g>\n       <use style=\"stroke:#000000;stroke-width:0.8;\" x=\"61.707813\" xlink:href=\"#me19633e93e\" y=\"266.103621\"/>\n      </g>\n     </g>\n     <g id=\"text_23\">\n      <!-- −5 -->\n      <g transform=\"translate(39.965625 269.90284)scale(0.1 -0.1)\">\n       <use xlink:href=\"#DejaVuSans-8722\"/>\n       <use x=\"83.789062\" xlink:href=\"#DejaVuSans-53\"/>\n      </g>\n     </g>\n    </g>\n    <g id=\"ytick_7\">\n     <g id=\"line2d_39\">\n      <g>\n       <use style=\"stroke:#000000;stroke-width:0.8;\" x=\"61.707813\" xlink:href=\"#me19633e93e\" y=\"227.746843\"/>\n      </g>\n     </g>\n     <g id=\"text_24\">\n      <!-- 0 -->\n      <g transform=\"translate(48.345313 231.546061)scale(0.1 -0.1)\">\n       <use xlink:href=\"#DejaVuSans-48\"/>\n      </g>\n     </g>\n    </g>\n    <g id=\"ytick_8\">\n     <g id=\"line2d_40\">\n      <g>\n       <use style=\"stroke:#000000;stroke-width:0.8;\" x=\"61.707813\" xlink:href=\"#me19633e93e\" y=\"189.390064\"/>\n      </g>\n     </g>\n     <g id=\"text_25\">\n      <!-- 5 -->\n      <g transform=\"translate(48.345313 193.189283)scale(0.1 -0.1)\">\n       <use xlink:href=\"#DejaVuSans-53\"/>\n      </g>\n     </g>\n    </g>\n   </g>\n   <g id=\"patch_9\">\n    <path d=\"M 61.707813 279.700455 \nL 61.707813 161.526542 \n\" style=\"fill:none;stroke:#000000;stroke-linecap:square;stroke-linejoin:miter;stroke-width:0.8;\"/>\n   </g>\n   <g id=\"patch_10\">\n    <path d=\"M 340.707812 279.700455 \nL 340.707812 161.526542 \n\" style=\"fill:none;stroke:#000000;stroke-linecap:square;stroke-linejoin:miter;stroke-width:0.8;\"/>\n   </g>\n   <g id=\"patch_11\">\n    <path d=\"M 61.707812 279.700455 \nL 340.707813 279.700455 \n\" style=\"fill:none;stroke:#000000;stroke-linecap:square;stroke-linejoin:miter;stroke-width:0.8;\"/>\n   </g>\n   <g id=\"patch_12\">\n    <path d=\"M 61.707812 161.526542 \nL 340.707813 161.526542 \n\" style=\"fill:none;stroke:#000000;stroke-linecap:square;stroke-linejoin:miter;stroke-width:0.8;\"/>\n   </g>\n   <g id=\"legend_2\">\n    <g id=\"patch_13\">\n     <path d=\"M 68.707813 198.882792 \nL 152.360938 198.882792 \nQ 154.360938 198.882792 154.360938 196.882792 \nL 154.360938 168.526542 \nQ 154.360938 166.526542 152.360938 166.526542 \nL 68.707813 166.526542 \nQ 66.707813 166.526542 66.707813 168.526542 \nL 66.707813 196.882792 \nQ 66.707813 198.882792 68.707813 198.882792 \nz\n\" style=\"fill:#ffffff;opacity:0.8;stroke:#cccccc;stroke-linejoin:miter;\"/>\n    </g>\n    <g id=\"PathCollection_3\">\n     <g>\n      <use style=\"fill:#1f77b4;stroke:#1f77b4;\" x=\"80.707813\" xlink:href=\"#m22b310ed60\" y=\"175.499979\"/>\n     </g>\n    </g>\n    <g id=\"text_26\">\n     <!-- real -->\n     <g transform=\"translate(98.707813 178.124979)scale(0.1 -0.1)\">\n      <use xlink:href=\"#DejaVuSans-114\"/>\n      <use x=\"38.863281\" xlink:href=\"#DejaVuSans-101\"/>\n      <use x=\"100.386719\" xlink:href=\"#DejaVuSans-97\"/>\n      <use x=\"161.666016\" xlink:href=\"#DejaVuSans-108\"/>\n     </g>\n    </g>\n    <g id=\"PathCollection_4\">\n     <g>\n      <use style=\"fill:#ff7f0e;stroke:#ff7f0e;\" x=\"80.707813\" xlink:href=\"#m0c3ea5138f\" y=\"190.178104\"/>\n     </g>\n    </g>\n    <g id=\"text_27\">\n     <!-- generated -->\n     <g transform=\"translate(98.707813 192.803104)scale(0.1 -0.1)\">\n      <use xlink:href=\"#DejaVuSans-103\"/>\n      <use x=\"63.476562\" xlink:href=\"#DejaVuSans-101\"/>\n      <use x=\"125\" xlink:href=\"#DejaVuSans-110\"/>\n      <use x=\"188.378906\" xlink:href=\"#DejaVuSans-101\"/>\n      <use x=\"249.902344\" xlink:href=\"#DejaVuSans-114\"/>\n      <use x=\"291.015625\" xlink:href=\"#DejaVuSans-97\"/>\n      <use x=\"352.294922\" xlink:href=\"#DejaVuSans-116\"/>\n      <use x=\"391.503906\" xlink:href=\"#DejaVuSans-101\"/>\n      <use x=\"453.027344\" xlink:href=\"#DejaVuSans-100\"/>\n     </g>\n    </g>\n   </g>\n  </g>\n </g>\n <defs>\n  <clipPath id=\"p6e343ac4ed\">\n   <rect height=\"118.173913\" width=\"279\" x=\"61.707813\" y=\"7.900455\"/>\n  </clipPath>\n  <clipPath id=\"p0e3f633337\">\n   <rect height=\"118.173913\" width=\"279\" x=\"61.707813\" y=\"161.526542\"/>\n  </clipPath>\n </defs>\n</svg>\n"
          },
          "metadata": {
            "tags": [],
            "needs_background": "light"
          }
        }
      ]
    },
    {
      "cell_type": "code",
      "metadata": {
        "colab": {
          "base_uri": "https://localhost:8080/"
        },
        "id": "nt36W9fwla07",
        "outputId": "acbf3633-ac68-41fe-b15f-87ab4caba2c4"
      },
      "source": [
        "X"
      ],
      "execution_count": 18,
      "outputs": [
        {
          "output_type": "execute_result",
          "data": {
            "text/plain": [
              "<tf.Tensor: shape=(1000, 2), dtype=float32, numpy=\n",
              "array([[ 1.2200692 , -0.815211  ],\n",
              "       [-1.5200254 , -0.7743431 ],\n",
              "       [ 1.2672385 , -0.31521952],\n",
              "       ...,\n",
              "       [ 0.5352356 ,  1.0723914 ],\n",
              "       [-0.2973783 ,  0.30710134],\n",
              "       [ 0.597632  ,  0.09573006]], dtype=float32)>"
            ]
          },
          "metadata": {
            "tags": []
          },
          "execution_count": 18
        }
      ]
    },
    {
      "cell_type": "code",
      "metadata": {
        "colab": {
          "base_uri": "https://localhost:8080/"
        },
        "id": "MrjhT6AIlcm8",
        "outputId": "46a72289-69aa-4bb2-ff2c-485feafd4597"
      },
      "source": [
        "X.shape"
      ],
      "execution_count": 19,
      "outputs": [
        {
          "output_type": "execute_result",
          "data": {
            "text/plain": [
              "TensorShape([1000, 2])"
            ]
          },
          "metadata": {
            "tags": []
          },
          "execution_count": 19
        }
      ]
    },
    {
      "cell_type": "code",
      "metadata": {
        "colab": {
          "base_uri": "https://localhost:8080/"
        },
        "id": "L3606cMifCZt",
        "outputId": "935bda31-cbe9-4f73-de48-0b31759b6ccb"
      },
      "source": [
        "X"
      ],
      "execution_count": 20,
      "outputs": [
        {
          "output_type": "execute_result",
          "data": {
            "text/plain": [
              "<tf.Tensor: shape=(1000, 2), dtype=float32, numpy=\n",
              "array([[ 1.2200692 , -0.815211  ],\n",
              "       [-1.5200254 , -0.7743431 ],\n",
              "       [ 1.2672385 , -0.31521952],\n",
              "       ...,\n",
              "       [ 0.5352356 ,  1.0723914 ],\n",
              "       [-0.2973783 ,  0.30710134],\n",
              "       [ 0.597632  ,  0.09573006]], dtype=float32)>"
            ]
          },
          "metadata": {
            "tags": []
          },
          "execution_count": 20
        }
      ]
    },
    {
      "cell_type": "code",
      "metadata": {
        "colab": {
          "base_uri": "https://localhost:8080/",
          "height": 166
        },
        "id": "m6CvabYAfCZu",
        "outputId": "79e1ccff-018e-451f-cf10-e46e3d119405"
      },
      "source": [
        "Z"
      ],
      "execution_count": 21,
      "outputs": [
        {
          "output_type": "error",
          "ename": "NameError",
          "evalue": "ignored",
          "traceback": [
            "\u001b[0;31m---------------------------------------------------------------------------\u001b[0m",
            "\u001b[0;31mNameError\u001b[0m                                 Traceback (most recent call last)",
            "\u001b[0;32m<ipython-input-21-b4379bcb7951>\u001b[0m in \u001b[0;36m<module>\u001b[0;34m()\u001b[0m\n\u001b[0;32m----> 1\u001b[0;31m \u001b[0mZ\u001b[0m\u001b[0;34m\u001b[0m\u001b[0;34m\u001b[0m\u001b[0m\n\u001b[0m",
            "\u001b[0;31mNameError\u001b[0m: name 'Z' is not defined"
          ]
        }
      ]
    },
    {
      "cell_type": "code",
      "metadata": {
        "id": "UC34OnCMfCZv"
      },
      "source": [
        "data"
      ],
      "execution_count": null,
      "outputs": []
    },
    {
      "cell_type": "code",
      "metadata": {
        "id": "dgRfXfv9fCZw"
      },
      "source": [
        "tf.data.Dataset.from_tensors(X)"
      ],
      "execution_count": null,
      "outputs": []
    },
    {
      "cell_type": "code",
      "metadata": {
        "id": "2uDtx9pjfCZw"
      },
      "source": [
        "tf.shape(X)"
      ],
      "execution_count": null,
      "outputs": []
    },
    {
      "cell_type": "code",
      "metadata": {
        "id": "HS4iiQVGfCZx"
      },
      "source": [
        "tf.convert_to_tensor(X)"
      ],
      "execution_count": null,
      "outputs": []
    },
    {
      "cell_type": "code",
      "metadata": {
        "id": "DIxl8zsSfCZy"
      },
      "source": [
        "X == tf.convert_to_tensor(X)"
      ],
      "execution_count": null,
      "outputs": []
    },
    {
      "cell_type": "code",
      "metadata": {
        "id": "sIpuIbpPfCZz"
      },
      "source": [
        "net_D(tf.convert_to_tensor(X), training=True)"
      ],
      "execution_count": null,
      "outputs": []
    },
    {
      "cell_type": "code",
      "metadata": {
        "id": "SvkFGNPVfCZ0"
      },
      "source": [
        "net_D(X, training=True)"
      ],
      "execution_count": null,
      "outputs": []
    },
    {
      "cell_type": "code",
      "metadata": {
        "id": "SKgT5sKDfCZ1"
      },
      "source": [
        "net_D(tf.convert_to_tensor(X), training=True) == net_D(X, training=True)"
      ],
      "execution_count": null,
      "outputs": []
    },
    {
      "cell_type": "code",
      "metadata": {
        "id": "EGClkOCdfCZ3"
      },
      "source": [
        ""
      ],
      "execution_count": null,
      "outputs": []
    }
  ]
}