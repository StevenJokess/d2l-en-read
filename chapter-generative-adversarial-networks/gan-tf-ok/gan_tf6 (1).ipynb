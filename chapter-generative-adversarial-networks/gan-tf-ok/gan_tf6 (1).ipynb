{
  "nbformat": 4,
  "nbformat_minor": 0,
  "metadata": {
    "language_info": {
      "codemirror_mode": {
        "name": "ipython",
        "version": 3
      },
      "file_extension": ".py",
      "mimetype": "text/x-python",
      "name": "python",
      "nbconvert_exporter": "python",
      "pygments_lexer": "ipython3",
      "version": "3.7.8-final"
    },
    "orig_nbformat": 2,
    "kernelspec": {
      "name": "python37864bittf2conda1de394c9651a4d19aa25641a40b8d2d8",
      "display_name": "Python 3.7.8 64-bit ('tf2': conda)",
      "language": "python"
    },
    "colab": {
      "name": "gan-tf6.ipynb",
      "provenance": []
    },
    "accelerator": "GPU"
  },
  "cells": [
    {
      "cell_type": "code",
      "metadata": {
        "colab": {
          "base_uri": "https://localhost:8080/"
        },
        "id": "TJlfBa31f1kv",
        "outputId": "aa29ad7c-4330-4272-b47b-317f7c6b4a02"
      },
      "source": [
        "!pip install git+https://github.com/d2l-ai/d2l-en"
      ],
      "execution_count": 1,
      "outputs": [
        {
          "output_type": "stream",
          "text": [
            "Collecting git+https://github.com/d2l-ai/d2l-en\n",
            "  Cloning https://github.com/d2l-ai/d2l-en to /tmp/pip-req-build-v7pkx4nl\n",
            "  Running command git clone -q https://github.com/d2l-ai/d2l-en /tmp/pip-req-build-v7pkx4nl\n",
            "Requirement already satisfied (use --upgrade to upgrade): d2l==0.16.2 from git+https://github.com/d2l-ai/d2l-en in /usr/local/lib/python3.7/dist-packages\n",
            "Requirement already satisfied: jupyter in /usr/local/lib/python3.7/dist-packages (from d2l==0.16.2) (1.0.0)\n",
            "Requirement already satisfied: numpy in /usr/local/lib/python3.7/dist-packages (from d2l==0.16.2) (1.19.5)\n",
            "Requirement already satisfied: matplotlib in /usr/local/lib/python3.7/dist-packages (from d2l==0.16.2) (3.2.2)\n",
            "Requirement already satisfied: requests in /usr/local/lib/python3.7/dist-packages (from d2l==0.16.2) (2.23.0)\n",
            "Requirement already satisfied: pandas in /usr/local/lib/python3.7/dist-packages (from d2l==0.16.2) (1.1.5)\n",
            "Requirement already satisfied: nbconvert in /usr/local/lib/python3.7/dist-packages (from jupyter->d2l==0.16.2) (5.6.1)\n",
            "Requirement already satisfied: qtconsole in /usr/local/lib/python3.7/dist-packages (from jupyter->d2l==0.16.2) (5.0.3)\n",
            "Requirement already satisfied: jupyter-console in /usr/local/lib/python3.7/dist-packages (from jupyter->d2l==0.16.2) (5.2.0)\n",
            "Requirement already satisfied: ipywidgets in /usr/local/lib/python3.7/dist-packages (from jupyter->d2l==0.16.2) (7.6.3)\n",
            "Requirement already satisfied: notebook in /usr/local/lib/python3.7/dist-packages (from jupyter->d2l==0.16.2) (5.3.1)\n",
            "Requirement already satisfied: ipykernel in /usr/local/lib/python3.7/dist-packages (from jupyter->d2l==0.16.2) (4.10.1)\n",
            "Requirement already satisfied: cycler>=0.10 in /usr/local/lib/python3.7/dist-packages (from matplotlib->d2l==0.16.2) (0.10.0)\n",
            "Requirement already satisfied: python-dateutil>=2.1 in /usr/local/lib/python3.7/dist-packages (from matplotlib->d2l==0.16.2) (2.8.1)\n",
            "Requirement already satisfied: kiwisolver>=1.0.1 in /usr/local/lib/python3.7/dist-packages (from matplotlib->d2l==0.16.2) (1.3.1)\n",
            "Requirement already satisfied: pyparsing!=2.0.4,!=2.1.2,!=2.1.6,>=2.0.1 in /usr/local/lib/python3.7/dist-packages (from matplotlib->d2l==0.16.2) (2.4.7)\n",
            "Requirement already satisfied: urllib3!=1.25.0,!=1.25.1,<1.26,>=1.21.1 in /usr/local/lib/python3.7/dist-packages (from requests->d2l==0.16.2) (1.24.3)\n",
            "Requirement already satisfied: certifi>=2017.4.17 in /usr/local/lib/python3.7/dist-packages (from requests->d2l==0.16.2) (2020.12.5)\n",
            "Requirement already satisfied: chardet<4,>=3.0.2 in /usr/local/lib/python3.7/dist-packages (from requests->d2l==0.16.2) (3.0.4)\n",
            "Requirement already satisfied: idna<3,>=2.5 in /usr/local/lib/python3.7/dist-packages (from requests->d2l==0.16.2) (2.10)\n",
            "Requirement already satisfied: pytz>=2017.2 in /usr/local/lib/python3.7/dist-packages (from pandas->d2l==0.16.2) (2018.9)\n",
            "Requirement already satisfied: traitlets>=4.2 in /usr/local/lib/python3.7/dist-packages (from nbconvert->jupyter->d2l==0.16.2) (5.0.5)\n",
            "Requirement already satisfied: testpath in /usr/local/lib/python3.7/dist-packages (from nbconvert->jupyter->d2l==0.16.2) (0.4.4)\n",
            "Requirement already satisfied: mistune<2,>=0.8.1 in /usr/local/lib/python3.7/dist-packages (from nbconvert->jupyter->d2l==0.16.2) (0.8.4)\n",
            "Requirement already satisfied: pandocfilters>=1.4.1 in /usr/local/lib/python3.7/dist-packages (from nbconvert->jupyter->d2l==0.16.2) (1.4.3)\n",
            "Requirement already satisfied: defusedxml in /usr/local/lib/python3.7/dist-packages (from nbconvert->jupyter->d2l==0.16.2) (0.7.1)\n",
            "Requirement already satisfied: bleach in /usr/local/lib/python3.7/dist-packages (from nbconvert->jupyter->d2l==0.16.2) (3.3.0)\n",
            "Requirement already satisfied: jinja2>=2.4 in /usr/local/lib/python3.7/dist-packages (from nbconvert->jupyter->d2l==0.16.2) (2.11.3)\n",
            "Requirement already satisfied: jupyter-core in /usr/local/lib/python3.7/dist-packages (from nbconvert->jupyter->d2l==0.16.2) (4.7.1)\n",
            "Requirement already satisfied: nbformat>=4.4 in /usr/local/lib/python3.7/dist-packages (from nbconvert->jupyter->d2l==0.16.2) (5.1.2)\n",
            "Requirement already satisfied: entrypoints>=0.2.2 in /usr/local/lib/python3.7/dist-packages (from nbconvert->jupyter->d2l==0.16.2) (0.3)\n",
            "Requirement already satisfied: pygments in /usr/local/lib/python3.7/dist-packages (from nbconvert->jupyter->d2l==0.16.2) (2.6.1)\n",
            "Requirement already satisfied: pyzmq>=17.1 in /usr/local/lib/python3.7/dist-packages (from qtconsole->jupyter->d2l==0.16.2) (22.0.3)\n",
            "Requirement already satisfied: jupyter-client>=4.1 in /usr/local/lib/python3.7/dist-packages (from qtconsole->jupyter->d2l==0.16.2) (5.3.5)\n",
            "Requirement already satisfied: ipython-genutils in /usr/local/lib/python3.7/dist-packages (from qtconsole->jupyter->d2l==0.16.2) (0.2.0)\n",
            "Requirement already satisfied: qtpy in /usr/local/lib/python3.7/dist-packages (from qtconsole->jupyter->d2l==0.16.2) (1.9.0)\n",
            "Requirement already satisfied: prompt-toolkit<2.0.0,>=1.0.0 in /usr/local/lib/python3.7/dist-packages (from jupyter-console->jupyter->d2l==0.16.2) (1.0.18)\n",
            "Requirement already satisfied: ipython in /usr/local/lib/python3.7/dist-packages (from jupyter-console->jupyter->d2l==0.16.2) (5.5.0)\n",
            "Requirement already satisfied: widgetsnbextension~=3.5.0 in /usr/local/lib/python3.7/dist-packages (from ipywidgets->jupyter->d2l==0.16.2) (3.5.1)\n",
            "Requirement already satisfied: jupyterlab-widgets>=1.0.0; python_version >= \"3.6\" in /usr/local/lib/python3.7/dist-packages (from ipywidgets->jupyter->d2l==0.16.2) (1.0.0)\n",
            "Requirement already satisfied: terminado>=0.8.1 in /usr/local/lib/python3.7/dist-packages (from notebook->jupyter->d2l==0.16.2) (0.9.3)\n",
            "Requirement already satisfied: tornado>=4 in /usr/local/lib/python3.7/dist-packages (from notebook->jupyter->d2l==0.16.2) (5.1.1)\n",
            "Requirement already satisfied: Send2Trash in /usr/local/lib/python3.7/dist-packages (from notebook->jupyter->d2l==0.16.2) (1.5.0)\n",
            "Requirement already satisfied: six in /usr/local/lib/python3.7/dist-packages (from cycler>=0.10->matplotlib->d2l==0.16.2) (1.15.0)\n",
            "Requirement already satisfied: webencodings in /usr/local/lib/python3.7/dist-packages (from bleach->nbconvert->jupyter->d2l==0.16.2) (0.5.1)\n",
            "Requirement already satisfied: packaging in /usr/local/lib/python3.7/dist-packages (from bleach->nbconvert->jupyter->d2l==0.16.2) (20.9)\n",
            "Requirement already satisfied: MarkupSafe>=0.23 in /usr/local/lib/python3.7/dist-packages (from jinja2>=2.4->nbconvert->jupyter->d2l==0.16.2) (1.1.1)\n",
            "Requirement already satisfied: jsonschema!=2.5.0,>=2.4 in /usr/local/lib/python3.7/dist-packages (from nbformat>=4.4->nbconvert->jupyter->d2l==0.16.2) (2.6.0)\n",
            "Requirement already satisfied: wcwidth in /usr/local/lib/python3.7/dist-packages (from prompt-toolkit<2.0.0,>=1.0.0->jupyter-console->jupyter->d2l==0.16.2) (0.2.5)\n",
            "Requirement already satisfied: pickleshare in /usr/local/lib/python3.7/dist-packages (from ipython->jupyter-console->jupyter->d2l==0.16.2) (0.7.5)\n",
            "Requirement already satisfied: setuptools>=18.5 in /usr/local/lib/python3.7/dist-packages (from ipython->jupyter-console->jupyter->d2l==0.16.2) (54.2.0)\n",
            "Requirement already satisfied: decorator in /usr/local/lib/python3.7/dist-packages (from ipython->jupyter-console->jupyter->d2l==0.16.2) (4.4.2)\n",
            "Requirement already satisfied: simplegeneric>0.8 in /usr/local/lib/python3.7/dist-packages (from ipython->jupyter-console->jupyter->d2l==0.16.2) (0.8.1)\n",
            "Requirement already satisfied: pexpect; sys_platform != \"win32\" in /usr/local/lib/python3.7/dist-packages (from ipython->jupyter-console->jupyter->d2l==0.16.2) (4.8.0)\n",
            "Requirement already satisfied: ptyprocess; os_name != \"nt\" in /usr/local/lib/python3.7/dist-packages (from terminado>=0.8.1->notebook->jupyter->d2l==0.16.2) (0.7.0)\n",
            "Building wheels for collected packages: d2l\n",
            "  Building wheel for d2l (setup.py) ... \u001b[?25l\u001b[?25hdone\n",
            "  Created wheel for d2l: filename=d2l-0.16.2-cp37-none-any.whl size=77221 sha256=85de9aac8a3587a23e62081d59a50f6f7b1afeda419631f2328c49128422177c\n",
            "  Stored in directory: /tmp/pip-ephem-wheel-cache-othc5rxr/wheels/82/6f/b8/8422c7ed664272685e3d139b127f89df39d934704a14b2156c\n",
            "Successfully built d2l\n"
          ],
          "name": "stdout"
        }
      ]
    },
    {
      "cell_type": "code",
      "metadata": {
        "id": "mDDdiwKAfCZG"
      },
      "source": [
        "%matplotlib inline\n",
        "from d2l import tensorflow as d2l\n",
        "import tensorflow as tf"
      ],
      "execution_count": 2,
      "outputs": []
    },
    {
      "cell_type": "code",
      "metadata": {
        "colab": {
          "base_uri": "https://localhost:8080/",
          "height": 35
        },
        "id": "0h49fSNYfCZe",
        "outputId": "3e304252-d5c8-4dc1-c5ad-0a503c713068"
      },
      "source": [
        "tf.__version__"
      ],
      "execution_count": 3,
      "outputs": [
        {
          "output_type": "execute_result",
          "data": {
            "application/vnd.google.colaboratory.intrinsic+json": {
              "type": "string"
            },
            "text/plain": [
              "'2.4.1'"
            ]
          },
          "metadata": {
            "tags": []
          },
          "execution_count": 3
        }
      ]
    },
    {
      "cell_type": "code",
      "metadata": {
        "id": "FEFt55FrfCZh"
      },
      "source": [
        "X = d2l.normal([1000, 2], 0.0, 1, tf.float32)\n",
        "A = d2l.tensor([[1, 2], [-0.1, 0.5]], tf.float32)\n",
        "b = d2l.tensor([1, 2], tf.float32)\n",
        "data = d2l.matmul(X, A) + b"
      ],
      "execution_count": 4,
      "outputs": []
    },
    {
      "cell_type": "code",
      "metadata": {
        "colab": {
          "base_uri": "https://localhost:8080/"
        },
        "id": "QB-KbY79fCZj",
        "outputId": "82794fc9-46c6-4637-a5ea-37bdb954495a"
      },
      "source": [
        "X"
      ],
      "execution_count": 5,
      "outputs": [
        {
          "output_type": "execute_result",
          "data": {
            "text/plain": [
              "<tf.Tensor: shape=(1000, 2), dtype=float32, numpy=\n",
              "array([[-0.62233365,  0.24247982],\n",
              "       [-2.4617605 ,  0.72484523],\n",
              "       [ 0.30388346, -1.9385564 ],\n",
              "       ...,\n",
              "       [ 0.94703805,  1.6949403 ],\n",
              "       [-0.6075041 , -0.9379714 ],\n",
              "       [ 0.01997015,  0.6716406 ]], dtype=float32)>"
            ]
          },
          "metadata": {
            "tags": []
          },
          "execution_count": 5
        }
      ]
    },
    {
      "cell_type": "code",
      "metadata": {
        "colab": {
          "base_uri": "https://localhost:8080/",
          "height": 295
        },
        "id": "-oFPrwFcfCZk",
        "outputId": "88d85634-fa01-46b7-ce99-fe86bb83cb20"
      },
      "source": [
        "d2l.set_figsize()\n",
        "d2l.plt.scatter(d2l.numpy(data[:100, 0]), d2l.numpy(data[:100, 1]));\n",
        "print(f'The covariance matrix is\\n{d2l.matmul(tf.transpose(A), A)}')"
      ],
      "execution_count": 6,
      "outputs": [
        {
          "output_type": "stream",
          "text": [
            "The covariance matrix is\n",
            "[[1.01 1.95]\n",
            " [1.95 4.25]]\n"
          ],
          "name": "stdout"
        },
        {
          "output_type": "display_data",
          "data": {
            "text/plain": [
              "<Figure size 252x180 with 1 Axes>"
            ],
            "image/svg+xml": "<?xml version=\"1.0\" encoding=\"utf-8\" standalone=\"no\"?>\n<!DOCTYPE svg PUBLIC \"-//W3C//DTD SVG 1.1//EN\"\n  \"http://www.w3.org/Graphics/SVG/1.1/DTD/svg11.dtd\">\n<!-- Created with matplotlib (https://matplotlib.org/) -->\n<svg height=\"166.978125pt\" version=\"1.1\" viewBox=\"0 0 240.982812 166.978125\" width=\"240.982812pt\" xmlns=\"http://www.w3.org/2000/svg\" xmlns:xlink=\"http://www.w3.org/1999/xlink\">\n <defs>\n  <style type=\"text/css\">\n*{stroke-linecap:butt;stroke-linejoin:round;}\n  </style>\n </defs>\n <g id=\"figure_1\">\n  <g id=\"patch_1\">\n   <path d=\"M -0 166.978125 \nL 240.982813 166.978125 \nL 240.982813 0 \nL -0 0 \nz\n\" style=\"fill:none;\"/>\n  </g>\n  <g id=\"axes_1\">\n   <g id=\"patch_2\">\n    <path d=\"M 38.482813 143.1 \nL 233.782813 143.1 \nL 233.782813 7.2 \nL 38.482813 7.2 \nz\n\" style=\"fill:#ffffff;\"/>\n   </g>\n   <g id=\"PathCollection_1\">\n    <defs>\n     <path d=\"M 0 3 \nC 0.795609 3 1.55874 2.683901 2.12132 2.12132 \nC 2.683901 1.55874 3 0.795609 3 0 \nC 3 -0.795609 2.683901 -1.55874 2.12132 -2.12132 \nC 1.55874 -2.683901 0.795609 -3 0 -3 \nC -0.795609 -3 -1.55874 -2.683901 -2.12132 -2.12132 \nC -2.683901 -1.55874 -3 -0.795609 -3 0 \nC -3 0.795609 -2.683901 1.55874 -2.12132 2.12132 \nC -1.55874 2.683901 -0.795609 3 0 3 \nz\n\" id=\"m983054ac3a\" style=\"stroke:#1f77b4;\"/>\n    </defs>\n    <g clip-path=\"url(#pa6f5957794)\">\n     <use style=\"fill:#1f77b4;stroke:#1f77b4;\" x=\"113.183726\" xlink:href=\"#m983054ac3a\" y=\"87.731424\"/>\n     <use style=\"fill:#1f77b4;stroke:#1f77b4;\" x=\"48.10787\" xlink:href=\"#m983054ac3a\" y=\"126.16007\"/>\n     <use style=\"fill:#1f77b4;stroke:#1f77b4;\" x=\"152.633372\" xlink:href=\"#m983054ac3a\" y=\"79.214203\"/>\n     <use style=\"fill:#1f77b4;stroke:#1f77b4;\" x=\"122.507615\" xlink:href=\"#m983054ac3a\" y=\"82.522911\"/>\n     <use style=\"fill:#1f77b4;stroke:#1f77b4;\" x=\"132.194829\" xlink:href=\"#m983054ac3a\" y=\"76.991865\"/>\n     <use style=\"fill:#1f77b4;stroke:#1f77b4;\" x=\"166.006348\" xlink:href=\"#m983054ac3a\" y=\"46.954864\"/>\n     <use style=\"fill:#1f77b4;stroke:#1f77b4;\" x=\"118.147732\" xlink:href=\"#m983054ac3a\" y=\"88.292646\"/>\n     <use style=\"fill:#1f77b4;stroke:#1f77b4;\" x=\"110.153745\" xlink:href=\"#m983054ac3a\" y=\"82.080673\"/>\n     <use style=\"fill:#1f77b4;stroke:#1f77b4;\" x=\"146.982037\" xlink:href=\"#m983054ac3a\" y=\"85.71529\"/>\n     <use style=\"fill:#1f77b4;stroke:#1f77b4;\" x=\"131.482121\" xlink:href=\"#m983054ac3a\" y=\"77.659414\"/>\n     <use style=\"fill:#1f77b4;stroke:#1f77b4;\" x=\"148.646538\" xlink:href=\"#m983054ac3a\" y=\"69.594838\"/>\n     <use style=\"fill:#1f77b4;stroke:#1f77b4;\" x=\"161.943173\" xlink:href=\"#m983054ac3a\" y=\"62.599029\"/>\n     <use style=\"fill:#1f77b4;stroke:#1f77b4;\" x=\"131.696867\" xlink:href=\"#m983054ac3a\" y=\"77.428597\"/>\n     <use style=\"fill:#1f77b4;stroke:#1f77b4;\" x=\"162.451105\" xlink:href=\"#m983054ac3a\" y=\"65.995365\"/>\n     <use style=\"fill:#1f77b4;stroke:#1f77b4;\" x=\"139.116094\" xlink:href=\"#m983054ac3a\" y=\"76.431906\"/>\n     <use style=\"fill:#1f77b4;stroke:#1f77b4;\" x=\"137.137944\" xlink:href=\"#m983054ac3a\" y=\"68.871739\"/>\n     <use style=\"fill:#1f77b4;stroke:#1f77b4;\" x=\"172.479837\" xlink:href=\"#m983054ac3a\" y=\"36.289183\"/>\n     <use style=\"fill:#1f77b4;stroke:#1f77b4;\" x=\"82.811891\" xlink:href=\"#m983054ac3a\" y=\"109.19481\"/>\n     <use style=\"fill:#1f77b4;stroke:#1f77b4;\" x=\"115.526399\" xlink:href=\"#m983054ac3a\" y=\"82.130872\"/>\n     <use style=\"fill:#1f77b4;stroke:#1f77b4;\" x=\"93.132276\" xlink:href=\"#m983054ac3a\" y=\"84.203384\"/>\n     <use style=\"fill:#1f77b4;stroke:#1f77b4;\" x=\"166.433354\" xlink:href=\"#m983054ac3a\" y=\"53.017207\"/>\n     <use style=\"fill:#1f77b4;stroke:#1f77b4;\" x=\"151.601018\" xlink:href=\"#m983054ac3a\" y=\"67.096626\"/>\n     <use style=\"fill:#1f77b4;stroke:#1f77b4;\" x=\"155.629537\" xlink:href=\"#m983054ac3a\" y=\"63.645826\"/>\n     <use style=\"fill:#1f77b4;stroke:#1f77b4;\" x=\"100.810905\" xlink:href=\"#m983054ac3a\" y=\"93.296649\"/>\n     <use style=\"fill:#1f77b4;stroke:#1f77b4;\" x=\"120.849607\" xlink:href=\"#m983054ac3a\" y=\"83.744987\"/>\n     <use style=\"fill:#1f77b4;stroke:#1f77b4;\" x=\"77.525176\" xlink:href=\"#m983054ac3a\" y=\"117.70499\"/>\n     <use style=\"fill:#1f77b4;stroke:#1f77b4;\" x=\"154.430031\" xlink:href=\"#m983054ac3a\" y=\"64.451278\"/>\n     <use style=\"fill:#1f77b4;stroke:#1f77b4;\" x=\"108.390411\" xlink:href=\"#m983054ac3a\" y=\"96.858753\"/>\n     <use style=\"fill:#1f77b4;stroke:#1f77b4;\" x=\"51.471944\" xlink:href=\"#m983054ac3a\" y=\"117.318786\"/>\n     <use style=\"fill:#1f77b4;stroke:#1f77b4;\" x=\"121.678989\" xlink:href=\"#m983054ac3a\" y=\"72.901328\"/>\n     <use style=\"fill:#1f77b4;stroke:#1f77b4;\" x=\"139.552893\" xlink:href=\"#m983054ac3a\" y=\"67.973719\"/>\n     <use style=\"fill:#1f77b4;stroke:#1f77b4;\" x=\"224.90554\" xlink:href=\"#m983054ac3a\" y=\"13.377273\"/>\n     <use style=\"fill:#1f77b4;stroke:#1f77b4;\" x=\"114.680905\" xlink:href=\"#m983054ac3a\" y=\"83.100105\"/>\n     <use style=\"fill:#1f77b4;stroke:#1f77b4;\" x=\"121.176785\" xlink:href=\"#m983054ac3a\" y=\"90.063861\"/>\n     <use style=\"fill:#1f77b4;stroke:#1f77b4;\" x=\"143.434232\" xlink:href=\"#m983054ac3a\" y=\"66.074165\"/>\n     <use style=\"fill:#1f77b4;stroke:#1f77b4;\" x=\"168.349078\" xlink:href=\"#m983054ac3a\" y=\"56.538414\"/>\n     <use style=\"fill:#1f77b4;stroke:#1f77b4;\" x=\"132.851014\" xlink:href=\"#m983054ac3a\" y=\"77.222339\"/>\n     <use style=\"fill:#1f77b4;stroke:#1f77b4;\" x=\"180.051327\" xlink:href=\"#m983054ac3a\" y=\"49.358097\"/>\n     <use style=\"fill:#1f77b4;stroke:#1f77b4;\" x=\"81.518899\" xlink:href=\"#m983054ac3a\" y=\"108.038809\"/>\n     <use style=\"fill:#1f77b4;stroke:#1f77b4;\" x=\"107.379138\" xlink:href=\"#m983054ac3a\" y=\"90.538317\"/>\n     <use style=\"fill:#1f77b4;stroke:#1f77b4;\" x=\"139.928191\" xlink:href=\"#m983054ac3a\" y=\"61.69571\"/>\n     <use style=\"fill:#1f77b4;stroke:#1f77b4;\" x=\"109.217031\" xlink:href=\"#m983054ac3a\" y=\"89.508429\"/>\n     <use style=\"fill:#1f77b4;stroke:#1f77b4;\" x=\"152.897113\" xlink:href=\"#m983054ac3a\" y=\"74.790402\"/>\n     <use style=\"fill:#1f77b4;stroke:#1f77b4;\" x=\"134.62514\" xlink:href=\"#m983054ac3a\" y=\"83.752192\"/>\n     <use style=\"fill:#1f77b4;stroke:#1f77b4;\" x=\"182.912124\" xlink:href=\"#m983054ac3a\" y=\"41.932102\"/>\n     <use style=\"fill:#1f77b4;stroke:#1f77b4;\" x=\"144.504054\" xlink:href=\"#m983054ac3a\" y=\"65.083843\"/>\n     <use style=\"fill:#1f77b4;stroke:#1f77b4;\" x=\"113.079378\" xlink:href=\"#m983054ac3a\" y=\"89.666927\"/>\n     <use style=\"fill:#1f77b4;stroke:#1f77b4;\" x=\"152.203987\" xlink:href=\"#m983054ac3a\" y=\"69.000183\"/>\n     <use style=\"fill:#1f77b4;stroke:#1f77b4;\" x=\"88.114111\" xlink:href=\"#m983054ac3a\" y=\"89.376966\"/>\n     <use style=\"fill:#1f77b4;stroke:#1f77b4;\" x=\"202.963932\" xlink:href=\"#m983054ac3a\" y=\"19.034312\"/>\n     <use style=\"fill:#1f77b4;stroke:#1f77b4;\" x=\"156.079886\" xlink:href=\"#m983054ac3a\" y=\"53.390544\"/>\n     <use style=\"fill:#1f77b4;stroke:#1f77b4;\" x=\"116.960989\" xlink:href=\"#m983054ac3a\" y=\"88.124747\"/>\n     <use style=\"fill:#1f77b4;stroke:#1f77b4;\" x=\"152.069741\" xlink:href=\"#m983054ac3a\" y=\"76.886654\"/>\n     <use style=\"fill:#1f77b4;stroke:#1f77b4;\" x=\"168.366569\" xlink:href=\"#m983054ac3a\" y=\"46.485772\"/>\n     <use style=\"fill:#1f77b4;stroke:#1f77b4;\" x=\"89.752627\" xlink:href=\"#m983054ac3a\" y=\"108.085384\"/>\n     <use style=\"fill:#1f77b4;stroke:#1f77b4;\" x=\"153.379373\" xlink:href=\"#m983054ac3a\" y=\"70.190976\"/>\n     <use style=\"fill:#1f77b4;stroke:#1f77b4;\" x=\"88.177651\" xlink:href=\"#m983054ac3a\" y=\"98.362484\"/>\n     <use style=\"fill:#1f77b4;stroke:#1f77b4;\" x=\"177.302838\" xlink:href=\"#m983054ac3a\" y=\"56.32871\"/>\n     <use style=\"fill:#1f77b4;stroke:#1f77b4;\" x=\"102.773572\" xlink:href=\"#m983054ac3a\" y=\"96.844677\"/>\n     <use style=\"fill:#1f77b4;stroke:#1f77b4;\" x=\"97.723267\" xlink:href=\"#m983054ac3a\" y=\"101.974798\"/>\n     <use style=\"fill:#1f77b4;stroke:#1f77b4;\" x=\"123.199319\" xlink:href=\"#m983054ac3a\" y=\"81.462136\"/>\n     <use style=\"fill:#1f77b4;stroke:#1f77b4;\" x=\"121.98344\" xlink:href=\"#m983054ac3a\" y=\"89.675225\"/>\n     <use style=\"fill:#1f77b4;stroke:#1f77b4;\" x=\"185.969363\" xlink:href=\"#m983054ac3a\" y=\"53.73218\"/>\n     <use style=\"fill:#1f77b4;stroke:#1f77b4;\" x=\"174.109784\" xlink:href=\"#m983054ac3a\" y=\"48.04697\"/>\n     <use style=\"fill:#1f77b4;stroke:#1f77b4;\" x=\"47.360085\" xlink:href=\"#m983054ac3a\" y=\"136.922727\"/>\n     <use style=\"fill:#1f77b4;stroke:#1f77b4;\" x=\"117.299501\" xlink:href=\"#m983054ac3a\" y=\"100.042505\"/>\n     <use style=\"fill:#1f77b4;stroke:#1f77b4;\" x=\"85.454346\" xlink:href=\"#m983054ac3a\" y=\"108.65658\"/>\n     <use style=\"fill:#1f77b4;stroke:#1f77b4;\" x=\"96.694255\" xlink:href=\"#m983054ac3a\" y=\"94.202136\"/>\n     <use style=\"fill:#1f77b4;stroke:#1f77b4;\" x=\"147.338685\" xlink:href=\"#m983054ac3a\" y=\"74.636449\"/>\n     <use style=\"fill:#1f77b4;stroke:#1f77b4;\" x=\"157.679035\" xlink:href=\"#m983054ac3a\" y=\"62.725922\"/>\n     <use style=\"fill:#1f77b4;stroke:#1f77b4;\" x=\"142.546497\" xlink:href=\"#m983054ac3a\" y=\"79.009445\"/>\n     <use style=\"fill:#1f77b4;stroke:#1f77b4;\" x=\"114.692064\" xlink:href=\"#m983054ac3a\" y=\"90.841622\"/>\n     <use style=\"fill:#1f77b4;stroke:#1f77b4;\" x=\"153.25167\" xlink:href=\"#m983054ac3a\" y=\"58.410636\"/>\n     <use style=\"fill:#1f77b4;stroke:#1f77b4;\" x=\"147.490302\" xlink:href=\"#m983054ac3a\" y=\"77.470618\"/>\n     <use style=\"fill:#1f77b4;stroke:#1f77b4;\" x=\"88.289782\" xlink:href=\"#m983054ac3a\" y=\"109.4524\"/>\n     <use style=\"fill:#1f77b4;stroke:#1f77b4;\" x=\"124.457155\" xlink:href=\"#m983054ac3a\" y=\"89.209038\"/>\n     <use style=\"fill:#1f77b4;stroke:#1f77b4;\" x=\"106.30129\" xlink:href=\"#m983054ac3a\" y=\"98.683972\"/>\n     <use style=\"fill:#1f77b4;stroke:#1f77b4;\" x=\"200.403567\" xlink:href=\"#m983054ac3a\" y=\"29.503157\"/>\n     <use style=\"fill:#1f77b4;stroke:#1f77b4;\" x=\"101.205929\" xlink:href=\"#m983054ac3a\" y=\"106.27166\"/>\n     <use style=\"fill:#1f77b4;stroke:#1f77b4;\" x=\"111.483352\" xlink:href=\"#m983054ac3a\" y=\"86.214412\"/>\n     <use style=\"fill:#1f77b4;stroke:#1f77b4;\" x=\"150.590417\" xlink:href=\"#m983054ac3a\" y=\"72.473387\"/>\n     <use style=\"fill:#1f77b4;stroke:#1f77b4;\" x=\"118.007336\" xlink:href=\"#m983054ac3a\" y=\"83.492506\"/>\n     <use style=\"fill:#1f77b4;stroke:#1f77b4;\" x=\"150.803145\" xlink:href=\"#m983054ac3a\" y=\"66.978517\"/>\n     <use style=\"fill:#1f77b4;stroke:#1f77b4;\" x=\"160.194251\" xlink:href=\"#m983054ac3a\" y=\"60.057104\"/>\n     <use style=\"fill:#1f77b4;stroke:#1f77b4;\" x=\"106.854992\" xlink:href=\"#m983054ac3a\" y=\"88.389843\"/>\n     <use style=\"fill:#1f77b4;stroke:#1f77b4;\" x=\"99.941133\" xlink:href=\"#m983054ac3a\" y=\"90.516498\"/>\n     <use style=\"fill:#1f77b4;stroke:#1f77b4;\" x=\"126.140657\" xlink:href=\"#m983054ac3a\" y=\"70.386375\"/>\n     <use style=\"fill:#1f77b4;stroke:#1f77b4;\" x=\"150.337747\" xlink:href=\"#m983054ac3a\" y=\"58.212057\"/>\n     <use style=\"fill:#1f77b4;stroke:#1f77b4;\" x=\"158.378511\" xlink:href=\"#m983054ac3a\" y=\"54.171774\"/>\n     <use style=\"fill:#1f77b4;stroke:#1f77b4;\" x=\"151.20936\" xlink:href=\"#m983054ac3a\" y=\"69.661743\"/>\n     <use style=\"fill:#1f77b4;stroke:#1f77b4;\" x=\"151.738725\" xlink:href=\"#m983054ac3a\" y=\"64.27934\"/>\n     <use style=\"fill:#1f77b4;stroke:#1f77b4;\" x=\"164.096912\" xlink:href=\"#m983054ac3a\" y=\"63.945928\"/>\n     <use style=\"fill:#1f77b4;stroke:#1f77b4;\" x=\"99.483638\" xlink:href=\"#m983054ac3a\" y=\"101.471949\"/>\n     <use style=\"fill:#1f77b4;stroke:#1f77b4;\" x=\"172.310231\" xlink:href=\"#m983054ac3a\" y=\"55.866856\"/>\n     <use style=\"fill:#1f77b4;stroke:#1f77b4;\" x=\"132.930133\" xlink:href=\"#m983054ac3a\" y=\"77.666331\"/>\n     <use style=\"fill:#1f77b4;stroke:#1f77b4;\" x=\"102.026837\" xlink:href=\"#m983054ac3a\" y=\"100.011056\"/>\n     <use style=\"fill:#1f77b4;stroke:#1f77b4;\" x=\"169.324805\" xlink:href=\"#m983054ac3a\" y=\"43.540874\"/>\n     <use style=\"fill:#1f77b4;stroke:#1f77b4;\" x=\"66.381989\" xlink:href=\"#m983054ac3a\" y=\"115.454879\"/>\n     <use style=\"fill:#1f77b4;stroke:#1f77b4;\" x=\"138.273602\" xlink:href=\"#m983054ac3a\" y=\"73.063477\"/>\n     <use style=\"fill:#1f77b4;stroke:#1f77b4;\" x=\"140.569946\" xlink:href=\"#m983054ac3a\" y=\"83.404395\"/>\n    </g>\n   </g>\n   <g id=\"matplotlib.axis_1\">\n    <g id=\"xtick_1\">\n     <g id=\"line2d_1\">\n      <defs>\n       <path d=\"M 0 0 \nL 0 3.5 \n\" id=\"m52074eedca\" style=\"stroke:#000000;stroke-width:0.8;\"/>\n      </defs>\n      <g>\n       <use style=\"stroke:#000000;stroke-width:0.8;\" x=\"66.525588\" xlink:href=\"#m52074eedca\" y=\"143.1\"/>\n      </g>\n     </g>\n     <g id=\"text_1\">\n      <!-- −1 -->\n      <defs>\n       <path d=\"M 10.59375 35.5 \nL 73.1875 35.5 \nL 73.1875 27.203125 \nL 10.59375 27.203125 \nz\n\" id=\"DejaVuSans-8722\"/>\n       <path d=\"M 12.40625 8.296875 \nL 28.515625 8.296875 \nL 28.515625 63.921875 \nL 10.984375 60.40625 \nL 10.984375 69.390625 \nL 28.421875 72.90625 \nL 38.28125 72.90625 \nL 38.28125 8.296875 \nL 54.390625 8.296875 \nL 54.390625 0 \nL 12.40625 0 \nz\n\" id=\"DejaVuSans-49\"/>\n      </defs>\n      <g transform=\"translate(59.154494 157.698438)scale(0.1 -0.1)\">\n       <use xlink:href=\"#DejaVuSans-8722\"/>\n       <use x=\"83.789062\" xlink:href=\"#DejaVuSans-49\"/>\n      </g>\n     </g>\n    </g>\n    <g id=\"xtick_2\">\n     <g id=\"line2d_2\">\n      <g>\n       <use style=\"stroke:#000000;stroke-width:0.8;\" x=\"100.999879\" xlink:href=\"#m52074eedca\" y=\"143.1\"/>\n      </g>\n     </g>\n     <g id=\"text_2\">\n      <!-- 0 -->\n      <defs>\n       <path d=\"M 31.78125 66.40625 \nQ 24.171875 66.40625 20.328125 58.90625 \nQ 16.5 51.421875 16.5 36.375 \nQ 16.5 21.390625 20.328125 13.890625 \nQ 24.171875 6.390625 31.78125 6.390625 \nQ 39.453125 6.390625 43.28125 13.890625 \nQ 47.125 21.390625 47.125 36.375 \nQ 47.125 51.421875 43.28125 58.90625 \nQ 39.453125 66.40625 31.78125 66.40625 \nz\nM 31.78125 74.21875 \nQ 44.046875 74.21875 50.515625 64.515625 \nQ 56.984375 54.828125 56.984375 36.375 \nQ 56.984375 17.96875 50.515625 8.265625 \nQ 44.046875 -1.421875 31.78125 -1.421875 \nQ 19.53125 -1.421875 13.0625 8.265625 \nQ 6.59375 17.96875 6.59375 36.375 \nQ 6.59375 54.828125 13.0625 64.515625 \nQ 19.53125 74.21875 31.78125 74.21875 \nz\n\" id=\"DejaVuSans-48\"/>\n      </defs>\n      <g transform=\"translate(97.818629 157.698438)scale(0.1 -0.1)\">\n       <use xlink:href=\"#DejaVuSans-48\"/>\n      </g>\n     </g>\n    </g>\n    <g id=\"xtick_3\">\n     <g id=\"line2d_3\">\n      <g>\n       <use style=\"stroke:#000000;stroke-width:0.8;\" x=\"135.47417\" xlink:href=\"#m52074eedca\" y=\"143.1\"/>\n      </g>\n     </g>\n     <g id=\"text_3\">\n      <!-- 1 -->\n      <g transform=\"translate(132.29292 157.698438)scale(0.1 -0.1)\">\n       <use xlink:href=\"#DejaVuSans-49\"/>\n      </g>\n     </g>\n    </g>\n    <g id=\"xtick_4\">\n     <g id=\"line2d_4\">\n      <g>\n       <use style=\"stroke:#000000;stroke-width:0.8;\" x=\"169.948461\" xlink:href=\"#m52074eedca\" y=\"143.1\"/>\n      </g>\n     </g>\n     <g id=\"text_4\">\n      <!-- 2 -->\n      <defs>\n       <path d=\"M 19.1875 8.296875 \nL 53.609375 8.296875 \nL 53.609375 0 \nL 7.328125 0 \nL 7.328125 8.296875 \nQ 12.9375 14.109375 22.625 23.890625 \nQ 32.328125 33.6875 34.8125 36.53125 \nQ 39.546875 41.84375 41.421875 45.53125 \nQ 43.3125 49.21875 43.3125 52.78125 \nQ 43.3125 58.59375 39.234375 62.25 \nQ 35.15625 65.921875 28.609375 65.921875 \nQ 23.96875 65.921875 18.8125 64.3125 \nQ 13.671875 62.703125 7.8125 59.421875 \nL 7.8125 69.390625 \nQ 13.765625 71.78125 18.9375 73 \nQ 24.125 74.21875 28.421875 74.21875 \nQ 39.75 74.21875 46.484375 68.546875 \nQ 53.21875 62.890625 53.21875 53.421875 \nQ 53.21875 48.921875 51.53125 44.890625 \nQ 49.859375 40.875 45.40625 35.40625 \nQ 44.1875 33.984375 37.640625 27.21875 \nQ 31.109375 20.453125 19.1875 8.296875 \nz\n\" id=\"DejaVuSans-50\"/>\n      </defs>\n      <g transform=\"translate(166.767211 157.698438)scale(0.1 -0.1)\">\n       <use xlink:href=\"#DejaVuSans-50\"/>\n      </g>\n     </g>\n    </g>\n    <g id=\"xtick_5\">\n     <g id=\"line2d_5\">\n      <g>\n       <use style=\"stroke:#000000;stroke-width:0.8;\" x=\"204.422752\" xlink:href=\"#m52074eedca\" y=\"143.1\"/>\n      </g>\n     </g>\n     <g id=\"text_5\">\n      <!-- 3 -->\n      <defs>\n       <path d=\"M 40.578125 39.3125 \nQ 47.65625 37.796875 51.625 33 \nQ 55.609375 28.21875 55.609375 21.1875 \nQ 55.609375 10.40625 48.1875 4.484375 \nQ 40.765625 -1.421875 27.09375 -1.421875 \nQ 22.515625 -1.421875 17.65625 -0.515625 \nQ 12.796875 0.390625 7.625 2.203125 \nL 7.625 11.71875 \nQ 11.71875 9.328125 16.59375 8.109375 \nQ 21.484375 6.890625 26.8125 6.890625 \nQ 36.078125 6.890625 40.9375 10.546875 \nQ 45.796875 14.203125 45.796875 21.1875 \nQ 45.796875 27.640625 41.28125 31.265625 \nQ 36.765625 34.90625 28.71875 34.90625 \nL 20.21875 34.90625 \nL 20.21875 43.015625 \nL 29.109375 43.015625 \nQ 36.375 43.015625 40.234375 45.921875 \nQ 44.09375 48.828125 44.09375 54.296875 \nQ 44.09375 59.90625 40.109375 62.90625 \nQ 36.140625 65.921875 28.71875 65.921875 \nQ 24.65625 65.921875 20.015625 65.03125 \nQ 15.375 64.15625 9.8125 62.3125 \nL 9.8125 71.09375 \nQ 15.4375 72.65625 20.34375 73.4375 \nQ 25.25 74.21875 29.59375 74.21875 \nQ 40.828125 74.21875 47.359375 69.109375 \nQ 53.90625 64.015625 53.90625 55.328125 \nQ 53.90625 49.265625 50.4375 45.09375 \nQ 46.96875 40.921875 40.578125 39.3125 \nz\n\" id=\"DejaVuSans-51\"/>\n      </defs>\n      <g transform=\"translate(201.241502 157.698438)scale(0.1 -0.1)\">\n       <use xlink:href=\"#DejaVuSans-51\"/>\n      </g>\n     </g>\n    </g>\n   </g>\n   <g id=\"matplotlib.axis_2\">\n    <g id=\"ytick_1\">\n     <g id=\"line2d_6\">\n      <defs>\n       <path d=\"M 0 0 \nL -3.5 0 \n\" id=\"m77057a311b\" style=\"stroke:#000000;stroke-width:0.8;\"/>\n      </defs>\n      <g>\n       <use style=\"stroke:#000000;stroke-width:0.8;\" x=\"38.482813\" xlink:href=\"#m77057a311b\" y=\"125.477068\"/>\n      </g>\n     </g>\n     <g id=\"text_6\">\n      <!-- −2.5 -->\n      <defs>\n       <path d=\"M 10.6875 12.40625 \nL 21 12.40625 \nL 21 0 \nL 10.6875 0 \nz\n\" id=\"DejaVuSans-46\"/>\n       <path d=\"M 10.796875 72.90625 \nL 49.515625 72.90625 \nL 49.515625 64.59375 \nL 19.828125 64.59375 \nL 19.828125 46.734375 \nQ 21.96875 47.46875 24.109375 47.828125 \nQ 26.265625 48.1875 28.421875 48.1875 \nQ 40.625 48.1875 47.75 41.5 \nQ 54.890625 34.8125 54.890625 23.390625 \nQ 54.890625 11.625 47.5625 5.09375 \nQ 40.234375 -1.421875 26.90625 -1.421875 \nQ 22.3125 -1.421875 17.546875 -0.640625 \nQ 12.796875 0.140625 7.71875 1.703125 \nL 7.71875 11.625 \nQ 12.109375 9.234375 16.796875 8.0625 \nQ 21.484375 6.890625 26.703125 6.890625 \nQ 35.15625 6.890625 40.078125 11.328125 \nQ 45.015625 15.765625 45.015625 23.390625 \nQ 45.015625 31 40.078125 35.4375 \nQ 35.15625 39.890625 26.703125 39.890625 \nQ 22.75 39.890625 18.8125 39.015625 \nQ 14.890625 38.140625 10.796875 36.28125 \nz\n\" id=\"DejaVuSans-53\"/>\n      </defs>\n      <g transform=\"translate(7.2 129.276287)scale(0.1 -0.1)\">\n       <use xlink:href=\"#DejaVuSans-8722\"/>\n       <use x=\"83.789062\" xlink:href=\"#DejaVuSans-50\"/>\n       <use x=\"147.412109\" xlink:href=\"#DejaVuSans-46\"/>\n       <use x=\"179.199219\" xlink:href=\"#DejaVuSans-53\"/>\n      </g>\n     </g>\n    </g>\n    <g id=\"ytick_2\">\n     <g id=\"line2d_7\">\n      <g>\n       <use style=\"stroke:#000000;stroke-width:0.8;\" x=\"38.482813\" xlink:href=\"#m77057a311b\" y=\"97.530354\"/>\n      </g>\n     </g>\n     <g id=\"text_7\">\n      <!-- 0.0 -->\n      <g transform=\"translate(15.579688 101.329572)scale(0.1 -0.1)\">\n       <use xlink:href=\"#DejaVuSans-48\"/>\n       <use x=\"63.623047\" xlink:href=\"#DejaVuSans-46\"/>\n       <use x=\"95.410156\" xlink:href=\"#DejaVuSans-48\"/>\n      </g>\n     </g>\n    </g>\n    <g id=\"ytick_3\">\n     <g id=\"line2d_8\">\n      <g>\n       <use style=\"stroke:#000000;stroke-width:0.8;\" x=\"38.482813\" xlink:href=\"#m77057a311b\" y=\"69.583639\"/>\n      </g>\n     </g>\n     <g id=\"text_8\">\n      <!-- 2.5 -->\n      <g transform=\"translate(15.579688 73.382858)scale(0.1 -0.1)\">\n       <use xlink:href=\"#DejaVuSans-50\"/>\n       <use x=\"63.623047\" xlink:href=\"#DejaVuSans-46\"/>\n       <use x=\"95.410156\" xlink:href=\"#DejaVuSans-53\"/>\n      </g>\n     </g>\n    </g>\n    <g id=\"ytick_4\">\n     <g id=\"line2d_9\">\n      <g>\n       <use style=\"stroke:#000000;stroke-width:0.8;\" x=\"38.482813\" xlink:href=\"#m77057a311b\" y=\"41.636925\"/>\n      </g>\n     </g>\n     <g id=\"text_9\">\n      <!-- 5.0 -->\n      <g transform=\"translate(15.579688 45.436144)scale(0.1 -0.1)\">\n       <use xlink:href=\"#DejaVuSans-53\"/>\n       <use x=\"63.623047\" xlink:href=\"#DejaVuSans-46\"/>\n       <use x=\"95.410156\" xlink:href=\"#DejaVuSans-48\"/>\n      </g>\n     </g>\n    </g>\n    <g id=\"ytick_5\">\n     <g id=\"line2d_10\">\n      <g>\n       <use style=\"stroke:#000000;stroke-width:0.8;\" x=\"38.482813\" xlink:href=\"#m77057a311b\" y=\"13.690211\"/>\n      </g>\n     </g>\n     <g id=\"text_10\">\n      <!-- 7.5 -->\n      <defs>\n       <path d=\"M 8.203125 72.90625 \nL 55.078125 72.90625 \nL 55.078125 68.703125 \nL 28.609375 0 \nL 18.3125 0 \nL 43.21875 64.59375 \nL 8.203125 64.59375 \nz\n\" id=\"DejaVuSans-55\"/>\n      </defs>\n      <g transform=\"translate(15.579688 17.489429)scale(0.1 -0.1)\">\n       <use xlink:href=\"#DejaVuSans-55\"/>\n       <use x=\"63.623047\" xlink:href=\"#DejaVuSans-46\"/>\n       <use x=\"95.410156\" xlink:href=\"#DejaVuSans-53\"/>\n      </g>\n     </g>\n    </g>\n   </g>\n   <g id=\"patch_3\">\n    <path d=\"M 38.482813 143.1 \nL 38.482813 7.2 \n\" style=\"fill:none;stroke:#000000;stroke-linecap:square;stroke-linejoin:miter;stroke-width:0.8;\"/>\n   </g>\n   <g id=\"patch_4\">\n    <path d=\"M 233.782813 143.1 \nL 233.782813 7.2 \n\" style=\"fill:none;stroke:#000000;stroke-linecap:square;stroke-linejoin:miter;stroke-width:0.8;\"/>\n   </g>\n   <g id=\"patch_5\">\n    <path d=\"M 38.482813 143.1 \nL 233.782813 143.1 \n\" style=\"fill:none;stroke:#000000;stroke-linecap:square;stroke-linejoin:miter;stroke-width:0.8;\"/>\n   </g>\n   <g id=\"patch_6\">\n    <path d=\"M 38.482813 7.2 \nL 233.782813 7.2 \n\" style=\"fill:none;stroke:#000000;stroke-linecap:square;stroke-linejoin:miter;stroke-width:0.8;\"/>\n   </g>\n  </g>\n </g>\n <defs>\n  <clipPath id=\"pa6f5957794\">\n   <rect height=\"135.9\" width=\"195.3\" x=\"38.482813\" y=\"7.2\"/>\n  </clipPath>\n </defs>\n</svg>\n"
          },
          "metadata": {
            "tags": [],
            "needs_background": "light"
          }
        }
      ]
    },
    {
      "cell_type": "code",
      "metadata": {
        "id": "AdU-qfIDfCZk"
      },
      "source": [
        "batch_size = 8\n",
        "data_iter = d2l.load_array((data,), batch_size)"
      ],
      "execution_count": 7,
      "outputs": []
    },
    {
      "cell_type": "code",
      "metadata": {
        "id": "VHq4T0JsfCZl"
      },
      "source": [
        "net_G = tf.keras.Sequential()\n",
        "net_G.add(tf.keras.layers.Dense(2))"
      ],
      "execution_count": 8,
      "outputs": []
    },
    {
      "cell_type": "code",
      "metadata": {
        "id": "feHdkPZ6fCZm"
      },
      "source": [
        "net_D = tf.keras.Sequential()\n",
        "net_D.add(tf.keras.layers.Dense(5, activation='tanh'))\n",
        "net_D.add(tf.keras.layers.Dense(3, activation='tanh'))\n",
        "net_D.add(tf.keras.layers.Dense(1))"
      ],
      "execution_count": 9,
      "outputs": []
    },
    {
      "cell_type": "markdown",
      "metadata": {
        "id": "G1SzH2cCfCZm"
      },
      "source": [
        "https://codingnote.cc/p/289284/"
      ]
    },
    {
      "cell_type": "code",
      "metadata": {
        "id": "TR8-QgxEgeeh"
      },
      "source": [
        "batch_size = X.shape[0]\n"
      ],
      "execution_count": 10,
      "outputs": []
    },
    {
      "cell_type": "code",
      "metadata": {
        "colab": {
          "base_uri": "https://localhost:8080/"
        },
        "id": "NfJsIX2vgi7U",
        "outputId": "c701c788-7235-4765-80bb-dbc53bbae7a3"
      },
      "source": [
        "print(batch_size)"
      ],
      "execution_count": 11,
      "outputs": [
        {
          "output_type": "stream",
          "text": [
            "1000\n"
          ],
          "name": "stdout"
        }
      ]
    },
    {
      "cell_type": "code",
      "metadata": {
        "id": "BWnCMJd6hFnE"
      },
      "source": [
        "ones = tf.ones_like(batch_size)"
      ],
      "execution_count": 12,
      "outputs": []
    },
    {
      "cell_type": "code",
      "metadata": {
        "colab": {
          "base_uri": "https://localhost:8080/"
        },
        "id": "gX-5IOKehHnD",
        "outputId": "ae941c30-e94e-4f9a-d65a-9d89ec85571f"
      },
      "source": [
        "print(ones)"
      ],
      "execution_count": 13,
      "outputs": [
        {
          "output_type": "stream",
          "text": [
            "tf.Tensor(1, shape=(), dtype=int32)\n"
          ],
          "name": "stdout"
        }
      ]
    },
    {
      "cell_type": "code",
      "metadata": {
        "id": "qe6oElpziDLQ"
      },
      "source": [
        "#@save\n",
        "def update_D(X, Z, net_D, net_G, loss, trainer_D):\n",
        "    \"\"\"Update discriminator.\"\"\"\n",
        "    batch_size = X.shape[0]\n",
        "    ones = tf.ones_like(batch_size, tf.float32)# , device=X.device)\n",
        "    zeros = tf.zeros_like(batch_size, tf.float32)# , device=X.device)\n",
        "    with tf.GradientTape() as D_tape:\n",
        "        real_Y = net_D(X, training=True)\n",
        "        fake_X = net_G(X, training=True)\n",
        "        # Do not need to compute gradient for `net_G`, detach it from\n",
        "        # computing gradients.\n",
        "        fake_Y = net_D(tf.stop_gradient(fake_X), training=False)\n",
        "        loss_D = (loss(real_Y, ones) + loss(fake_Y, zeros)) / 2\n",
        "    grads = D_tape.gradient(loss_D, net_D.trainable_variables)\n",
        "    trainer_D.apply_gradients(zip(grads, net_D.trainable_weights))\n",
        "    return float(loss_D)"
      ],
      "execution_count": 14,
      "outputs": []
    },
    {
      "cell_type": "code",
      "metadata": {
        "id": "-YonJDSefCZn"
      },
      "source": [
        "#@save\n",
        "def update_G(Z, net_D, net_G, loss, trainer_G):\n",
        "    \"\"\"Update generator.\"\"\"\n",
        "    batch_size = Z.shape[0]\n",
        "    ones = tf.ones_like(batch_size, tf.float32)\n",
        "    with tf.GradientTape() as G_tape:\n",
        "        # We could reuse `fake_X` from `update_D` to save computation\n",
        "        fake_X = net_G(Z, training=True)\n",
        "        # Recomputing `fake_Y` is needed since `net_D` is changed\n",
        "        fake_Y = net_D(fake_X, training=True)\n",
        "        loss_G = loss(fake_Y, ones)\n",
        "    grads = G_tape.gradient(loss_G, net_G.trainable_variables) \n",
        "    trainer_G.apply_gradients(zip(grads, net_G.trainable_weights))\n",
        "    return float(loss_G)"
      ],
      "execution_count": 15,
      "outputs": []
    },
    {
      "cell_type": "markdown",
      "metadata": {
        "id": "k2A_X73VfCZp"
      },
      "source": [
        "from_logits=True\n",
        "https://github.com/thisisiron/TF2-GAN/blob/master/gan/train.py"
      ]
    },
    {
      "cell_type": "markdown",
      "metadata": {
        "id": "ABRQ9GJKfCZp"
      },
      "source": [
        "tf.nn.sigmoid_cross_entropy_with_logits https://www.tensorflow.org/tutorials/generative/cvae"
      ]
    },
    {
      "cell_type": "code",
      "metadata": {
        "id": "_PUueFvmfCZq"
      },
      "source": [
        "def train(net_D, net_G, data_iter, num_epochs, lr_D, lr_G, latent_dim, data):\n",
        "    loss = tf.keras.losses.BinaryCrossentropy(reduction=\n",
        "                tf.keras.losses.Reduction.SUM)\n",
        "    tf.keras.initializers.RandomNormal(net_D, stddev=0.02)\n",
        "    tf.keras.initializers.RandomNormal(net_G, stddev=0.02)\n",
        "    trainer_D = tf.keras.optimizers.Adam(learning_rate=lr_D)\n",
        "    trainer_G = tf.keras.optimizers.Adam(learning_rate=lr_G)\n",
        "    net_D.compile(optimizer=trainer_D)\n",
        "    net_G.compile(optimizer=trainer_G)\n",
        "    animator = d2l.Animator(xlabel='epoch', ylabel='loss',\n",
        "                            xlim=[1, num_epochs], nrows=2, figsize=(5, 5),\n",
        "                            legend=['discriminator', 'generator'])\n",
        "    animator.fig.subplots_adjust(hspace=0.3)\n",
        "    for epoch in range(num_epochs):\n",
        "        # Train one epoch\n",
        "        timer = d2l.Timer()\n",
        "        metric = d2l.Accumulator(3)  # loss_D, loss_G, num_examples\n",
        "        for (X,) in data_iter:\n",
        "            batch_size = X.shape[0]\n",
        "            Z = d2l.normal([batch_size, latent_dim], 0, 1, tf.float32)\n",
        "            metric.add(update_D(X, Z, net_D, net_G, loss, trainer_D),\n",
        "                       update_G(Z, net_D, net_G, loss, trainer_G),\n",
        "                       batch_size)\n",
        "        # Visualize generated examples\n",
        "        Z = d2l.normal([100, latent_dim], 0, 1, tf.float32)\n",
        "        fake_X = net_G(tf.stop_gradient(Z), training=False).numpy()\n",
        "        animator.axes[1].cla()\n",
        "        animator.axes[1].scatter(data[:, 0], data[:, 1])\n",
        "        animator.axes[1].scatter(fake_X[:, 0], fake_X[:, 1])\n",
        "        animator.axes[1].legend(['real', 'generated'])\n",
        "        # Show the losses\n",
        "        loss_D, loss_G = metric[0]/metric[2], metric[1]/metric[2]\n",
        "        animator.add(epoch + 1, (loss_D, loss_G))\n",
        "    print(f'loss_D {loss_D:.3f}, loss_G {loss_G:.3f}, '\n",
        "          f'{metric[2] / timer.stop():.1f} examples/sec')"
      ],
      "execution_count": 16,
      "outputs": []
    },
    {
      "cell_type": "code",
      "metadata": {
        "colab": {
          "base_uri": "https://localhost:8080/",
          "height": 443
        },
        "id": "96WhJC5JfCZr",
        "outputId": "65dc260b-7a2d-476b-82b9-ee599a9690a8"
      },
      "source": [
        "lr_D, lr_G, latent_dim, num_epochs = 0.05, 0.005, 2, 20\n",
        "train(net_D, net_G, data_iter, num_epochs, lr_D, lr_G,\n",
        "      latent_dim, d2l.numpy(data[:100]))"
      ],
      "execution_count": 17,
      "outputs": [
        {
          "output_type": "stream",
          "text": [
            "loss_D -1.037, loss_G 2926.520, 298.1 examples/sec\n"
          ],
          "name": "stdout"
        },
        {
          "output_type": "display_data",
          "data": {
            "text/plain": [
              "<Figure size 360x360 with 2 Axes>"
            ],
            "image/svg+xml": "<?xml version=\"1.0\" encoding=\"utf-8\" standalone=\"no\"?>\n<!DOCTYPE svg PUBLIC \"-//W3C//DTD SVG 1.1//EN\"\n  \"http://www.w3.org/Graphics/SVG/1.1/DTD/svg11.dtd\">\n<!-- Created with matplotlib (https://matplotlib.org/) -->\n<svg height=\"303.798773pt\" version=\"1.1\" viewBox=\"0 0 350.660937 303.798773\" width=\"350.660937pt\" xmlns=\"http://www.w3.org/2000/svg\" xmlns:xlink=\"http://www.w3.org/1999/xlink\">\n <defs>\n  <style type=\"text/css\">\n*{stroke-linecap:butt;stroke-linejoin:round;}\n  </style>\n </defs>\n <g id=\"figure_1\">\n  <g id=\"patch_1\">\n   <path d=\"M 0 303.798773 \nL 350.660937 303.798773 \nL 350.660937 0 \nL 0 0 \nz\n\" style=\"fill:none;\"/>\n  </g>\n  <g id=\"axes_1\">\n   <g id=\"patch_2\">\n    <path d=\"M 53.328125 126.294561 \nL 332.328125 126.294561 \nL 332.328125 8.120648 \nL 53.328125 8.120648 \nz\n\" style=\"fill:#ffffff;\"/>\n   </g>\n   <g id=\"matplotlib.axis_1\">\n    <g id=\"xtick_1\">\n     <g id=\"line2d_1\">\n      <path clip-path=\"url(#p5106085cea)\" d=\"M 75.354441 126.294561 \nL 75.354441 8.120648 \n\" style=\"fill:none;stroke:#b0b0b0;stroke-linecap:square;stroke-width:0.8;\"/>\n     </g>\n     <g id=\"line2d_2\">\n      <defs>\n       <path d=\"M 0 0 \nL 0 3.5 \n\" id=\"m56dcc757ef\" style=\"stroke:#000000;stroke-width:0.8;\"/>\n      </defs>\n      <g>\n       <use style=\"stroke:#000000;stroke-width:0.8;\" x=\"75.354441\" xlink:href=\"#m56dcc757ef\" y=\"126.294561\"/>\n      </g>\n     </g>\n     <g id=\"text_1\">\n      <!-- 2.5 -->\n      <defs>\n       <path d=\"M 19.1875 8.296875 \nL 53.609375 8.296875 \nL 53.609375 0 \nL 7.328125 0 \nL 7.328125 8.296875 \nQ 12.9375 14.109375 22.625 23.890625 \nQ 32.328125 33.6875 34.8125 36.53125 \nQ 39.546875 41.84375 41.421875 45.53125 \nQ 43.3125 49.21875 43.3125 52.78125 \nQ 43.3125 58.59375 39.234375 62.25 \nQ 35.15625 65.921875 28.609375 65.921875 \nQ 23.96875 65.921875 18.8125 64.3125 \nQ 13.671875 62.703125 7.8125 59.421875 \nL 7.8125 69.390625 \nQ 13.765625 71.78125 18.9375 73 \nQ 24.125 74.21875 28.421875 74.21875 \nQ 39.75 74.21875 46.484375 68.546875 \nQ 53.21875 62.890625 53.21875 53.421875 \nQ 53.21875 48.921875 51.53125 44.890625 \nQ 49.859375 40.875 45.40625 35.40625 \nQ 44.1875 33.984375 37.640625 27.21875 \nQ 31.109375 20.453125 19.1875 8.296875 \nz\n\" id=\"DejaVuSans-50\"/>\n       <path d=\"M 10.6875 12.40625 \nL 21 12.40625 \nL 21 0 \nL 10.6875 0 \nz\n\" id=\"DejaVuSans-46\"/>\n       <path d=\"M 10.796875 72.90625 \nL 49.515625 72.90625 \nL 49.515625 64.59375 \nL 19.828125 64.59375 \nL 19.828125 46.734375 \nQ 21.96875 47.46875 24.109375 47.828125 \nQ 26.265625 48.1875 28.421875 48.1875 \nQ 40.625 48.1875 47.75 41.5 \nQ 54.890625 34.8125 54.890625 23.390625 \nQ 54.890625 11.625 47.5625 5.09375 \nQ 40.234375 -1.421875 26.90625 -1.421875 \nQ 22.3125 -1.421875 17.546875 -0.640625 \nQ 12.796875 0.140625 7.71875 1.703125 \nL 7.71875 11.625 \nQ 12.109375 9.234375 16.796875 8.0625 \nQ 21.484375 6.890625 26.703125 6.890625 \nQ 35.15625 6.890625 40.078125 11.328125 \nQ 45.015625 15.765625 45.015625 23.390625 \nQ 45.015625 31 40.078125 35.4375 \nQ 35.15625 39.890625 26.703125 39.890625 \nQ 22.75 39.890625 18.8125 39.015625 \nQ 14.890625 38.140625 10.796875 36.28125 \nz\n\" id=\"DejaVuSans-53\"/>\n      </defs>\n      <g transform=\"translate(67.402878 140.892999)scale(0.1 -0.1)\">\n       <use xlink:href=\"#DejaVuSans-50\"/>\n       <use x=\"63.623047\" xlink:href=\"#DejaVuSans-46\"/>\n       <use x=\"95.410156\" xlink:href=\"#DejaVuSans-53\"/>\n      </g>\n     </g>\n    </g>\n    <g id=\"xtick_2\">\n     <g id=\"line2d_3\">\n      <path clip-path=\"url(#p5106085cea)\" d=\"M 112.064967 126.294561 \nL 112.064967 8.120648 \n\" style=\"fill:none;stroke:#b0b0b0;stroke-linecap:square;stroke-width:0.8;\"/>\n     </g>\n     <g id=\"line2d_4\">\n      <g>\n       <use style=\"stroke:#000000;stroke-width:0.8;\" x=\"112.064967\" xlink:href=\"#m56dcc757ef\" y=\"126.294561\"/>\n      </g>\n     </g>\n     <g id=\"text_2\">\n      <!-- 5.0 -->\n      <defs>\n       <path d=\"M 31.78125 66.40625 \nQ 24.171875 66.40625 20.328125 58.90625 \nQ 16.5 51.421875 16.5 36.375 \nQ 16.5 21.390625 20.328125 13.890625 \nQ 24.171875 6.390625 31.78125 6.390625 \nQ 39.453125 6.390625 43.28125 13.890625 \nQ 47.125 21.390625 47.125 36.375 \nQ 47.125 51.421875 43.28125 58.90625 \nQ 39.453125 66.40625 31.78125 66.40625 \nz\nM 31.78125 74.21875 \nQ 44.046875 74.21875 50.515625 64.515625 \nQ 56.984375 54.828125 56.984375 36.375 \nQ 56.984375 17.96875 50.515625 8.265625 \nQ 44.046875 -1.421875 31.78125 -1.421875 \nQ 19.53125 -1.421875 13.0625 8.265625 \nQ 6.59375 17.96875 6.59375 36.375 \nQ 6.59375 54.828125 13.0625 64.515625 \nQ 19.53125 74.21875 31.78125 74.21875 \nz\n\" id=\"DejaVuSans-48\"/>\n      </defs>\n      <g transform=\"translate(104.113405 140.892999)scale(0.1 -0.1)\">\n       <use xlink:href=\"#DejaVuSans-53\"/>\n       <use x=\"63.623047\" xlink:href=\"#DejaVuSans-46\"/>\n       <use x=\"95.410156\" xlink:href=\"#DejaVuSans-48\"/>\n      </g>\n     </g>\n    </g>\n    <g id=\"xtick_3\">\n     <g id=\"line2d_5\">\n      <path clip-path=\"url(#p5106085cea)\" d=\"M 148.775493 126.294561 \nL 148.775493 8.120648 \n\" style=\"fill:none;stroke:#b0b0b0;stroke-linecap:square;stroke-width:0.8;\"/>\n     </g>\n     <g id=\"line2d_6\">\n      <g>\n       <use style=\"stroke:#000000;stroke-width:0.8;\" x=\"148.775493\" xlink:href=\"#m56dcc757ef\" y=\"126.294561\"/>\n      </g>\n     </g>\n     <g id=\"text_3\">\n      <!-- 7.5 -->\n      <defs>\n       <path d=\"M 8.203125 72.90625 \nL 55.078125 72.90625 \nL 55.078125 68.703125 \nL 28.609375 0 \nL 18.3125 0 \nL 43.21875 64.59375 \nL 8.203125 64.59375 \nz\n\" id=\"DejaVuSans-55\"/>\n      </defs>\n      <g transform=\"translate(140.823931 140.892999)scale(0.1 -0.1)\">\n       <use xlink:href=\"#DejaVuSans-55\"/>\n       <use x=\"63.623047\" xlink:href=\"#DejaVuSans-46\"/>\n       <use x=\"95.410156\" xlink:href=\"#DejaVuSans-53\"/>\n      </g>\n     </g>\n    </g>\n    <g id=\"xtick_4\">\n     <g id=\"line2d_7\">\n      <path clip-path=\"url(#p5106085cea)\" d=\"M 185.48602 126.294561 \nL 185.48602 8.120648 \n\" style=\"fill:none;stroke:#b0b0b0;stroke-linecap:square;stroke-width:0.8;\"/>\n     </g>\n     <g id=\"line2d_8\">\n      <g>\n       <use style=\"stroke:#000000;stroke-width:0.8;\" x=\"185.48602\" xlink:href=\"#m56dcc757ef\" y=\"126.294561\"/>\n      </g>\n     </g>\n     <g id=\"text_4\">\n      <!-- 10.0 -->\n      <defs>\n       <path d=\"M 12.40625 8.296875 \nL 28.515625 8.296875 \nL 28.515625 63.921875 \nL 10.984375 60.40625 \nL 10.984375 69.390625 \nL 28.421875 72.90625 \nL 38.28125 72.90625 \nL 38.28125 8.296875 \nL 54.390625 8.296875 \nL 54.390625 0 \nL 12.40625 0 \nz\n\" id=\"DejaVuSans-49\"/>\n      </defs>\n      <g transform=\"translate(174.353207 140.892999)scale(0.1 -0.1)\">\n       <use xlink:href=\"#DejaVuSans-49\"/>\n       <use x=\"63.623047\" xlink:href=\"#DejaVuSans-48\"/>\n       <use x=\"127.246094\" xlink:href=\"#DejaVuSans-46\"/>\n       <use x=\"159.033203\" xlink:href=\"#DejaVuSans-48\"/>\n      </g>\n     </g>\n    </g>\n    <g id=\"xtick_5\">\n     <g id=\"line2d_9\">\n      <path clip-path=\"url(#p5106085cea)\" d=\"M 222.196546 126.294561 \nL 222.196546 8.120648 \n\" style=\"fill:none;stroke:#b0b0b0;stroke-linecap:square;stroke-width:0.8;\"/>\n     </g>\n     <g id=\"line2d_10\">\n      <g>\n       <use style=\"stroke:#000000;stroke-width:0.8;\" x=\"222.196546\" xlink:href=\"#m56dcc757ef\" y=\"126.294561\"/>\n      </g>\n     </g>\n     <g id=\"text_5\">\n      <!-- 12.5 -->\n      <g transform=\"translate(211.063734 140.892999)scale(0.1 -0.1)\">\n       <use xlink:href=\"#DejaVuSans-49\"/>\n       <use x=\"63.623047\" xlink:href=\"#DejaVuSans-50\"/>\n       <use x=\"127.246094\" xlink:href=\"#DejaVuSans-46\"/>\n       <use x=\"159.033203\" xlink:href=\"#DejaVuSans-53\"/>\n      </g>\n     </g>\n    </g>\n    <g id=\"xtick_6\">\n     <g id=\"line2d_11\">\n      <path clip-path=\"url(#p5106085cea)\" d=\"M 258.907072 126.294561 \nL 258.907072 8.120648 \n\" style=\"fill:none;stroke:#b0b0b0;stroke-linecap:square;stroke-width:0.8;\"/>\n     </g>\n     <g id=\"line2d_12\">\n      <g>\n       <use style=\"stroke:#000000;stroke-width:0.8;\" x=\"258.907072\" xlink:href=\"#m56dcc757ef\" y=\"126.294561\"/>\n      </g>\n     </g>\n     <g id=\"text_6\">\n      <!-- 15.0 -->\n      <g transform=\"translate(247.77426 140.892999)scale(0.1 -0.1)\">\n       <use xlink:href=\"#DejaVuSans-49\"/>\n       <use x=\"63.623047\" xlink:href=\"#DejaVuSans-53\"/>\n       <use x=\"127.246094\" xlink:href=\"#DejaVuSans-46\"/>\n       <use x=\"159.033203\" xlink:href=\"#DejaVuSans-48\"/>\n      </g>\n     </g>\n    </g>\n    <g id=\"xtick_7\">\n     <g id=\"line2d_13\">\n      <path clip-path=\"url(#p5106085cea)\" d=\"M 295.617599 126.294561 \nL 295.617599 8.120648 \n\" style=\"fill:none;stroke:#b0b0b0;stroke-linecap:square;stroke-width:0.8;\"/>\n     </g>\n     <g id=\"line2d_14\">\n      <g>\n       <use style=\"stroke:#000000;stroke-width:0.8;\" x=\"295.617599\" xlink:href=\"#m56dcc757ef\" y=\"126.294561\"/>\n      </g>\n     </g>\n     <g id=\"text_7\">\n      <!-- 17.5 -->\n      <g transform=\"translate(284.484786 140.892999)scale(0.1 -0.1)\">\n       <use xlink:href=\"#DejaVuSans-49\"/>\n       <use x=\"63.623047\" xlink:href=\"#DejaVuSans-55\"/>\n       <use x=\"127.246094\" xlink:href=\"#DejaVuSans-46\"/>\n       <use x=\"159.033203\" xlink:href=\"#DejaVuSans-53\"/>\n      </g>\n     </g>\n    </g>\n    <g id=\"xtick_8\">\n     <g id=\"line2d_15\">\n      <path clip-path=\"url(#p5106085cea)\" d=\"M 332.328125 126.294561 \nL 332.328125 8.120648 \n\" style=\"fill:none;stroke:#b0b0b0;stroke-linecap:square;stroke-width:0.8;\"/>\n     </g>\n     <g id=\"line2d_16\">\n      <g>\n       <use style=\"stroke:#000000;stroke-width:0.8;\" x=\"332.328125\" xlink:href=\"#m56dcc757ef\" y=\"126.294561\"/>\n      </g>\n     </g>\n     <g id=\"text_8\">\n      <!-- 20.0 -->\n      <g transform=\"translate(321.195312 140.892999)scale(0.1 -0.1)\">\n       <use xlink:href=\"#DejaVuSans-50\"/>\n       <use x=\"63.623047\" xlink:href=\"#DejaVuSans-48\"/>\n       <use x=\"127.246094\" xlink:href=\"#DejaVuSans-46\"/>\n       <use x=\"159.033203\" xlink:href=\"#DejaVuSans-48\"/>\n      </g>\n     </g>\n    </g>\n    <g id=\"text_9\">\n     <!-- epoch -->\n     <defs>\n      <path d=\"M 56.203125 29.59375 \nL 56.203125 25.203125 \nL 14.890625 25.203125 \nQ 15.484375 15.921875 20.484375 11.0625 \nQ 25.484375 6.203125 34.421875 6.203125 \nQ 39.59375 6.203125 44.453125 7.46875 \nQ 49.3125 8.734375 54.109375 11.28125 \nL 54.109375 2.78125 \nQ 49.265625 0.734375 44.1875 -0.34375 \nQ 39.109375 -1.421875 33.890625 -1.421875 \nQ 20.796875 -1.421875 13.15625 6.1875 \nQ 5.515625 13.8125 5.515625 26.8125 \nQ 5.515625 40.234375 12.765625 48.109375 \nQ 20.015625 56 32.328125 56 \nQ 43.359375 56 49.78125 48.890625 \nQ 56.203125 41.796875 56.203125 29.59375 \nz\nM 47.21875 32.234375 \nQ 47.125 39.59375 43.09375 43.984375 \nQ 39.0625 48.390625 32.421875 48.390625 \nQ 24.90625 48.390625 20.390625 44.140625 \nQ 15.875 39.890625 15.1875 32.171875 \nz\n\" id=\"DejaVuSans-101\"/>\n      <path d=\"M 18.109375 8.203125 \nL 18.109375 -20.796875 \nL 9.078125 -20.796875 \nL 9.078125 54.6875 \nL 18.109375 54.6875 \nL 18.109375 46.390625 \nQ 20.953125 51.265625 25.265625 53.625 \nQ 29.59375 56 35.59375 56 \nQ 45.5625 56 51.78125 48.09375 \nQ 58.015625 40.1875 58.015625 27.296875 \nQ 58.015625 14.40625 51.78125 6.484375 \nQ 45.5625 -1.421875 35.59375 -1.421875 \nQ 29.59375 -1.421875 25.265625 0.953125 \nQ 20.953125 3.328125 18.109375 8.203125 \nz\nM 48.6875 27.296875 \nQ 48.6875 37.203125 44.609375 42.84375 \nQ 40.53125 48.484375 33.40625 48.484375 \nQ 26.265625 48.484375 22.1875 42.84375 \nQ 18.109375 37.203125 18.109375 27.296875 \nQ 18.109375 17.390625 22.1875 11.75 \nQ 26.265625 6.109375 33.40625 6.109375 \nQ 40.53125 6.109375 44.609375 11.75 \nQ 48.6875 17.390625 48.6875 27.296875 \nz\n\" id=\"DejaVuSans-112\"/>\n      <path d=\"M 30.609375 48.390625 \nQ 23.390625 48.390625 19.1875 42.75 \nQ 14.984375 37.109375 14.984375 27.296875 \nQ 14.984375 17.484375 19.15625 11.84375 \nQ 23.34375 6.203125 30.609375 6.203125 \nQ 37.796875 6.203125 41.984375 11.859375 \nQ 46.1875 17.53125 46.1875 27.296875 \nQ 46.1875 37.015625 41.984375 42.703125 \nQ 37.796875 48.390625 30.609375 48.390625 \nz\nM 30.609375 56 \nQ 42.328125 56 49.015625 48.375 \nQ 55.71875 40.765625 55.71875 27.296875 \nQ 55.71875 13.875 49.015625 6.21875 \nQ 42.328125 -1.421875 30.609375 -1.421875 \nQ 18.84375 -1.421875 12.171875 6.21875 \nQ 5.515625 13.875 5.515625 27.296875 \nQ 5.515625 40.765625 12.171875 48.375 \nQ 18.84375 56 30.609375 56 \nz\n\" id=\"DejaVuSans-111\"/>\n      <path d=\"M 48.78125 52.59375 \nL 48.78125 44.1875 \nQ 44.96875 46.296875 41.140625 47.34375 \nQ 37.3125 48.390625 33.40625 48.390625 \nQ 24.65625 48.390625 19.8125 42.84375 \nQ 14.984375 37.3125 14.984375 27.296875 \nQ 14.984375 17.28125 19.8125 11.734375 \nQ 24.65625 6.203125 33.40625 6.203125 \nQ 37.3125 6.203125 41.140625 7.25 \nQ 44.96875 8.296875 48.78125 10.40625 \nL 48.78125 2.09375 \nQ 45.015625 0.34375 40.984375 -0.53125 \nQ 36.96875 -1.421875 32.421875 -1.421875 \nQ 20.0625 -1.421875 12.78125 6.34375 \nQ 5.515625 14.109375 5.515625 27.296875 \nQ 5.515625 40.671875 12.859375 48.328125 \nQ 20.21875 56 33.015625 56 \nQ 37.15625 56 41.109375 55.140625 \nQ 45.0625 54.296875 48.78125 52.59375 \nz\n\" id=\"DejaVuSans-99\"/>\n      <path d=\"M 54.890625 33.015625 \nL 54.890625 0 \nL 45.90625 0 \nL 45.90625 32.71875 \nQ 45.90625 40.484375 42.875 44.328125 \nQ 39.84375 48.1875 33.796875 48.1875 \nQ 26.515625 48.1875 22.3125 43.546875 \nQ 18.109375 38.921875 18.109375 30.90625 \nL 18.109375 0 \nL 9.078125 0 \nL 9.078125 75.984375 \nL 18.109375 75.984375 \nL 18.109375 46.1875 \nQ 21.34375 51.125 25.703125 53.5625 \nQ 30.078125 56 35.796875 56 \nQ 45.21875 56 50.046875 50.171875 \nQ 54.890625 44.34375 54.890625 33.015625 \nz\n\" id=\"DejaVuSans-104\"/>\n     </defs>\n     <g transform=\"translate(177.6 154.571124)scale(0.1 -0.1)\">\n      <use xlink:href=\"#DejaVuSans-101\"/>\n      <use x=\"61.523438\" xlink:href=\"#DejaVuSans-112\"/>\n      <use x=\"125\" xlink:href=\"#DejaVuSans-111\"/>\n      <use x=\"186.181641\" xlink:href=\"#DejaVuSans-99\"/>\n      <use x=\"241.162109\" xlink:href=\"#DejaVuSans-104\"/>\n     </g>\n    </g>\n   </g>\n   <g id=\"matplotlib.axis_2\">\n    <g id=\"ytick_1\">\n     <g id=\"line2d_17\">\n      <path clip-path=\"url(#p5106085cea)\" d=\"M 53.328125 112.780615 \nL 332.328125 112.780615 \n\" style=\"fill:none;stroke:#b0b0b0;stroke-linecap:square;stroke-width:0.8;\"/>\n     </g>\n     <g id=\"line2d_18\">\n      <defs>\n       <path d=\"M 0 0 \nL -3.5 0 \n\" id=\"mb2a19d2d17\" style=\"stroke:#000000;stroke-width:0.8;\"/>\n      </defs>\n      <g>\n       <use style=\"stroke:#000000;stroke-width:0.8;\" x=\"53.328125\" xlink:href=\"#mb2a19d2d17\" y=\"112.780615\"/>\n      </g>\n     </g>\n     <g id=\"text_10\">\n      <!-- 0 -->\n      <g transform=\"translate(39.965625 116.579834)scale(0.1 -0.1)\">\n       <use xlink:href=\"#DejaVuSans-48\"/>\n      </g>\n     </g>\n    </g>\n    <g id=\"ytick_2\">\n     <g id=\"line2d_19\">\n      <path clip-path=\"url(#p5106085cea)\" d=\"M 53.328125 78.853483 \nL 332.328125 78.853483 \n\" style=\"fill:none;stroke:#b0b0b0;stroke-linecap:square;stroke-width:0.8;\"/>\n     </g>\n     <g id=\"line2d_20\">\n      <g>\n       <use style=\"stroke:#000000;stroke-width:0.8;\" x=\"53.328125\" xlink:href=\"#mb2a19d2d17\" y=\"78.853483\"/>\n      </g>\n     </g>\n     <g id=\"text_11\">\n      <!-- 1000 -->\n      <g transform=\"translate(20.878125 82.652702)scale(0.1 -0.1)\">\n       <use xlink:href=\"#DejaVuSans-49\"/>\n       <use x=\"63.623047\" xlink:href=\"#DejaVuSans-48\"/>\n       <use x=\"127.246094\" xlink:href=\"#DejaVuSans-48\"/>\n       <use x=\"190.869141\" xlink:href=\"#DejaVuSans-48\"/>\n      </g>\n     </g>\n    </g>\n    <g id=\"ytick_3\">\n     <g id=\"line2d_21\">\n      <path clip-path=\"url(#p5106085cea)\" d=\"M 53.328125 44.926351 \nL 332.328125 44.926351 \n\" style=\"fill:none;stroke:#b0b0b0;stroke-linecap:square;stroke-width:0.8;\"/>\n     </g>\n     <g id=\"line2d_22\">\n      <g>\n       <use style=\"stroke:#000000;stroke-width:0.8;\" x=\"53.328125\" xlink:href=\"#mb2a19d2d17\" y=\"44.926351\"/>\n      </g>\n     </g>\n     <g id=\"text_12\">\n      <!-- 2000 -->\n      <g transform=\"translate(20.878125 48.72557)scale(0.1 -0.1)\">\n       <use xlink:href=\"#DejaVuSans-50\"/>\n       <use x=\"63.623047\" xlink:href=\"#DejaVuSans-48\"/>\n       <use x=\"127.246094\" xlink:href=\"#DejaVuSans-48\"/>\n       <use x=\"190.869141\" xlink:href=\"#DejaVuSans-48\"/>\n      </g>\n     </g>\n    </g>\n    <g id=\"ytick_4\">\n     <g id=\"line2d_23\">\n      <path clip-path=\"url(#p5106085cea)\" d=\"M 53.328125 10.999219 \nL 332.328125 10.999219 \n\" style=\"fill:none;stroke:#b0b0b0;stroke-linecap:square;stroke-width:0.8;\"/>\n     </g>\n     <g id=\"line2d_24\">\n      <g>\n       <use style=\"stroke:#000000;stroke-width:0.8;\" x=\"53.328125\" xlink:href=\"#mb2a19d2d17\" y=\"10.999219\"/>\n      </g>\n     </g>\n     <g id=\"text_13\">\n      <!-- 3000 -->\n      <defs>\n       <path d=\"M 40.578125 39.3125 \nQ 47.65625 37.796875 51.625 33 \nQ 55.609375 28.21875 55.609375 21.1875 \nQ 55.609375 10.40625 48.1875 4.484375 \nQ 40.765625 -1.421875 27.09375 -1.421875 \nQ 22.515625 -1.421875 17.65625 -0.515625 \nQ 12.796875 0.390625 7.625 2.203125 \nL 7.625 11.71875 \nQ 11.71875 9.328125 16.59375 8.109375 \nQ 21.484375 6.890625 26.8125 6.890625 \nQ 36.078125 6.890625 40.9375 10.546875 \nQ 45.796875 14.203125 45.796875 21.1875 \nQ 45.796875 27.640625 41.28125 31.265625 \nQ 36.765625 34.90625 28.71875 34.90625 \nL 20.21875 34.90625 \nL 20.21875 43.015625 \nL 29.109375 43.015625 \nQ 36.375 43.015625 40.234375 45.921875 \nQ 44.09375 48.828125 44.09375 54.296875 \nQ 44.09375 59.90625 40.109375 62.90625 \nQ 36.140625 65.921875 28.71875 65.921875 \nQ 24.65625 65.921875 20.015625 65.03125 \nQ 15.375 64.15625 9.8125 62.3125 \nL 9.8125 71.09375 \nQ 15.4375 72.65625 20.34375 73.4375 \nQ 25.25 74.21875 29.59375 74.21875 \nQ 40.828125 74.21875 47.359375 69.109375 \nQ 53.90625 64.015625 53.90625 55.328125 \nQ 53.90625 49.265625 50.4375 45.09375 \nQ 46.96875 40.921875 40.578125 39.3125 \nz\n\" id=\"DejaVuSans-51\"/>\n      </defs>\n      <g transform=\"translate(20.878125 14.798437)scale(0.1 -0.1)\">\n       <use xlink:href=\"#DejaVuSans-51\"/>\n       <use x=\"63.623047\" xlink:href=\"#DejaVuSans-48\"/>\n       <use x=\"127.246094\" xlink:href=\"#DejaVuSans-48\"/>\n       <use x=\"190.869141\" xlink:href=\"#DejaVuSans-48\"/>\n      </g>\n     </g>\n    </g>\n    <g id=\"text_14\">\n     <!-- loss -->\n     <defs>\n      <path d=\"M 9.421875 75.984375 \nL 18.40625 75.984375 \nL 18.40625 0 \nL 9.421875 0 \nz\n\" id=\"DejaVuSans-108\"/>\n      <path d=\"M 44.28125 53.078125 \nL 44.28125 44.578125 \nQ 40.484375 46.53125 36.375 47.5 \nQ 32.28125 48.484375 27.875 48.484375 \nQ 21.1875 48.484375 17.84375 46.4375 \nQ 14.5 44.390625 14.5 40.28125 \nQ 14.5 37.15625 16.890625 35.375 \nQ 19.28125 33.59375 26.515625 31.984375 \nL 29.59375 31.296875 \nQ 39.15625 29.25 43.1875 25.515625 \nQ 47.21875 21.78125 47.21875 15.09375 \nQ 47.21875 7.46875 41.1875 3.015625 \nQ 35.15625 -1.421875 24.609375 -1.421875 \nQ 20.21875 -1.421875 15.453125 -0.5625 \nQ 10.6875 0.296875 5.421875 2 \nL 5.421875 11.28125 \nQ 10.40625 8.6875 15.234375 7.390625 \nQ 20.0625 6.109375 24.8125 6.109375 \nQ 31.15625 6.109375 34.5625 8.28125 \nQ 37.984375 10.453125 37.984375 14.40625 \nQ 37.984375 18.0625 35.515625 20.015625 \nQ 33.0625 21.96875 24.703125 23.78125 \nL 21.578125 24.515625 \nQ 13.234375 26.265625 9.515625 29.90625 \nQ 5.8125 33.546875 5.8125 39.890625 \nQ 5.8125 47.609375 11.28125 51.796875 \nQ 16.75 56 26.8125 56 \nQ 31.78125 56 36.171875 55.265625 \nQ 40.578125 54.546875 44.28125 53.078125 \nz\n\" id=\"DejaVuSans-115\"/>\n     </defs>\n     <g transform=\"translate(14.798438 76.865417)rotate(-90)scale(0.1 -0.1)\">\n      <use xlink:href=\"#DejaVuSans-108\"/>\n      <use x=\"27.783203\" xlink:href=\"#DejaVuSans-111\"/>\n      <use x=\"88.964844\" xlink:href=\"#DejaVuSans-115\"/>\n      <use x=\"141.064453\" xlink:href=\"#DejaVuSans-115\"/>\n     </g>\n    </g>\n   </g>\n   <g id=\"line2d_25\">\n    <path clip-path=\"url(#p5106085cea)\" d=\"M 53.328125 115.812652 \nL 68.012336 119.154161 \nL 82.696546 120.92302 \nL 97.380757 118.979541 \nL 112.064967 116.675834 \nL 126.749178 112.733404 \nL 141.433388 113.840036 \nL 156.117599 112.953084 \nL 170.801809 112.411495 \nL 185.48602 112.714032 \nL 200.17023 112.724066 \nL 214.854441 112.734128 \nL 229.538651 112.74422 \nL 244.222862 112.754341 \nL 258.907072 112.764495 \nL 273.591283 112.774682 \nL 288.275493 112.784903 \nL 302.959704 112.795162 \nL 317.643914 112.80546 \nL 332.328125 112.815799 \n\" style=\"fill:none;stroke:#1f77b4;stroke-linecap:square;stroke-width:1.5;\"/>\n   </g>\n   <g id=\"line2d_26\">\n    <path clip-path=\"url(#p5106085cea)\" d=\"M 53.328125 108.446673 \nL 68.012336 110.64337 \nL 82.696546 96.555092 \nL 97.380757 94.944221 \nL 112.064967 91.27487 \nL 126.749178 62.207394 \nL 141.433388 72.303233 \nL 156.117599 83.217171 \nL 170.801809 63.134279 \nL 185.48602 47.522558 \nL 200.17023 44.16721 \nL 214.854441 40.802392 \nL 229.538651 37.427886 \nL 244.222862 34.043257 \nL 258.907072 30.648018 \nL 273.591283 27.241638 \nL 288.275493 23.823524 \nL 302.959704 20.393045 \nL 317.643914 16.949512 \nL 332.328125 13.49219 \n\" style=\"fill:none;stroke:#bf00bf;stroke-dasharray:5.55,2.4;stroke-dashoffset:0;stroke-width:1.5;\"/>\n   </g>\n   <g id=\"patch_3\">\n    <path d=\"M 53.328125 126.294561 \nL 53.328125 8.120648 \n\" style=\"fill:none;stroke:#000000;stroke-linecap:square;stroke-linejoin:miter;stroke-width:0.8;\"/>\n   </g>\n   <g id=\"patch_4\">\n    <path d=\"M 332.328125 126.294561 \nL 332.328125 8.120648 \n\" style=\"fill:none;stroke:#000000;stroke-linecap:square;stroke-linejoin:miter;stroke-width:0.8;\"/>\n   </g>\n   <g id=\"patch_5\">\n    <path d=\"M 53.328125 126.294561 \nL 332.328125 126.294561 \n\" style=\"fill:none;stroke:#000000;stroke-linecap:square;stroke-linejoin:miter;stroke-width:0.8;\"/>\n   </g>\n   <g id=\"patch_6\">\n    <path d=\"M 53.328125 8.120648 \nL 332.328125 8.120648 \n\" style=\"fill:none;stroke:#000000;stroke-linecap:square;stroke-linejoin:miter;stroke-width:0.8;\"/>\n   </g>\n   <g id=\"legend_1\">\n    <g id=\"patch_7\">\n     <path d=\"M 60.328125 45.476898 \nL 158.185938 45.476898 \nQ 160.185938 45.476898 160.185938 43.476898 \nL 160.185938 15.120648 \nQ 160.185938 13.120648 158.185938 13.120648 \nL 60.328125 13.120648 \nQ 58.328125 13.120648 58.328125 15.120648 \nL 58.328125 43.476898 \nQ 58.328125 45.476898 60.328125 45.476898 \nz\n\" style=\"fill:#ffffff;opacity:0.8;stroke:#cccccc;stroke-linejoin:miter;\"/>\n    </g>\n    <g id=\"line2d_27\">\n     <path d=\"M 62.328125 21.219086 \nL 82.328125 21.219086 \n\" style=\"fill:none;stroke:#1f77b4;stroke-linecap:square;stroke-width:1.5;\"/>\n    </g>\n    <g id=\"line2d_28\"/>\n    <g id=\"text_15\">\n     <!-- discriminator -->\n     <defs>\n      <path d=\"M 45.40625 46.390625 \nL 45.40625 75.984375 \nL 54.390625 75.984375 \nL 54.390625 0 \nL 45.40625 0 \nL 45.40625 8.203125 \nQ 42.578125 3.328125 38.25 0.953125 \nQ 33.9375 -1.421875 27.875 -1.421875 \nQ 17.96875 -1.421875 11.734375 6.484375 \nQ 5.515625 14.40625 5.515625 27.296875 \nQ 5.515625 40.1875 11.734375 48.09375 \nQ 17.96875 56 27.875 56 \nQ 33.9375 56 38.25 53.625 \nQ 42.578125 51.265625 45.40625 46.390625 \nz\nM 14.796875 27.296875 \nQ 14.796875 17.390625 18.875 11.75 \nQ 22.953125 6.109375 30.078125 6.109375 \nQ 37.203125 6.109375 41.296875 11.75 \nQ 45.40625 17.390625 45.40625 27.296875 \nQ 45.40625 37.203125 41.296875 42.84375 \nQ 37.203125 48.484375 30.078125 48.484375 \nQ 22.953125 48.484375 18.875 42.84375 \nQ 14.796875 37.203125 14.796875 27.296875 \nz\n\" id=\"DejaVuSans-100\"/>\n      <path d=\"M 9.421875 54.6875 \nL 18.40625 54.6875 \nL 18.40625 0 \nL 9.421875 0 \nz\nM 9.421875 75.984375 \nL 18.40625 75.984375 \nL 18.40625 64.59375 \nL 9.421875 64.59375 \nz\n\" id=\"DejaVuSans-105\"/>\n      <path d=\"M 41.109375 46.296875 \nQ 39.59375 47.171875 37.8125 47.578125 \nQ 36.03125 48 33.890625 48 \nQ 26.265625 48 22.1875 43.046875 \nQ 18.109375 38.09375 18.109375 28.8125 \nL 18.109375 0 \nL 9.078125 0 \nL 9.078125 54.6875 \nL 18.109375 54.6875 \nL 18.109375 46.1875 \nQ 20.953125 51.171875 25.484375 53.578125 \nQ 30.03125 56 36.53125 56 \nQ 37.453125 56 38.578125 55.875 \nQ 39.703125 55.765625 41.0625 55.515625 \nz\n\" id=\"DejaVuSans-114\"/>\n      <path d=\"M 52 44.1875 \nQ 55.375 50.25 60.0625 53.125 \nQ 64.75 56 71.09375 56 \nQ 79.640625 56 84.28125 50.015625 \nQ 88.921875 44.046875 88.921875 33.015625 \nL 88.921875 0 \nL 79.890625 0 \nL 79.890625 32.71875 \nQ 79.890625 40.578125 77.09375 44.375 \nQ 74.3125 48.1875 68.609375 48.1875 \nQ 61.625 48.1875 57.5625 43.546875 \nQ 53.515625 38.921875 53.515625 30.90625 \nL 53.515625 0 \nL 44.484375 0 \nL 44.484375 32.71875 \nQ 44.484375 40.625 41.703125 44.40625 \nQ 38.921875 48.1875 33.109375 48.1875 \nQ 26.21875 48.1875 22.15625 43.53125 \nQ 18.109375 38.875 18.109375 30.90625 \nL 18.109375 0 \nL 9.078125 0 \nL 9.078125 54.6875 \nL 18.109375 54.6875 \nL 18.109375 46.1875 \nQ 21.1875 51.21875 25.484375 53.609375 \nQ 29.78125 56 35.6875 56 \nQ 41.65625 56 45.828125 52.96875 \nQ 50 49.953125 52 44.1875 \nz\n\" id=\"DejaVuSans-109\"/>\n      <path d=\"M 54.890625 33.015625 \nL 54.890625 0 \nL 45.90625 0 \nL 45.90625 32.71875 \nQ 45.90625 40.484375 42.875 44.328125 \nQ 39.84375 48.1875 33.796875 48.1875 \nQ 26.515625 48.1875 22.3125 43.546875 \nQ 18.109375 38.921875 18.109375 30.90625 \nL 18.109375 0 \nL 9.078125 0 \nL 9.078125 54.6875 \nL 18.109375 54.6875 \nL 18.109375 46.1875 \nQ 21.34375 51.125 25.703125 53.5625 \nQ 30.078125 56 35.796875 56 \nQ 45.21875 56 50.046875 50.171875 \nQ 54.890625 44.34375 54.890625 33.015625 \nz\n\" id=\"DejaVuSans-110\"/>\n      <path d=\"M 34.28125 27.484375 \nQ 23.390625 27.484375 19.1875 25 \nQ 14.984375 22.515625 14.984375 16.5 \nQ 14.984375 11.71875 18.140625 8.90625 \nQ 21.296875 6.109375 26.703125 6.109375 \nQ 34.1875 6.109375 38.703125 11.40625 \nQ 43.21875 16.703125 43.21875 25.484375 \nL 43.21875 27.484375 \nz\nM 52.203125 31.203125 \nL 52.203125 0 \nL 43.21875 0 \nL 43.21875 8.296875 \nQ 40.140625 3.328125 35.546875 0.953125 \nQ 30.953125 -1.421875 24.3125 -1.421875 \nQ 15.921875 -1.421875 10.953125 3.296875 \nQ 6 8.015625 6 15.921875 \nQ 6 25.140625 12.171875 29.828125 \nQ 18.359375 34.515625 30.609375 34.515625 \nL 43.21875 34.515625 \nL 43.21875 35.40625 \nQ 43.21875 41.609375 39.140625 45 \nQ 35.0625 48.390625 27.6875 48.390625 \nQ 23 48.390625 18.546875 47.265625 \nQ 14.109375 46.140625 10.015625 43.890625 \nL 10.015625 52.203125 \nQ 14.9375 54.109375 19.578125 55.046875 \nQ 24.21875 56 28.609375 56 \nQ 40.484375 56 46.34375 49.84375 \nQ 52.203125 43.703125 52.203125 31.203125 \nz\n\" id=\"DejaVuSans-97\"/>\n      <path d=\"M 18.3125 70.21875 \nL 18.3125 54.6875 \nL 36.8125 54.6875 \nL 36.8125 47.703125 \nL 18.3125 47.703125 \nL 18.3125 18.015625 \nQ 18.3125 11.328125 20.140625 9.421875 \nQ 21.96875 7.515625 27.59375 7.515625 \nL 36.8125 7.515625 \nL 36.8125 0 \nL 27.59375 0 \nQ 17.1875 0 13.234375 3.875 \nQ 9.28125 7.765625 9.28125 18.015625 \nL 9.28125 47.703125 \nL 2.6875 47.703125 \nL 2.6875 54.6875 \nL 9.28125 54.6875 \nL 9.28125 70.21875 \nz\n\" id=\"DejaVuSans-116\"/>\n     </defs>\n     <g transform=\"translate(90.328125 24.719086)scale(0.1 -0.1)\">\n      <use xlink:href=\"#DejaVuSans-100\"/>\n      <use x=\"63.476562\" xlink:href=\"#DejaVuSans-105\"/>\n      <use x=\"91.259766\" xlink:href=\"#DejaVuSans-115\"/>\n      <use x=\"143.359375\" xlink:href=\"#DejaVuSans-99\"/>\n      <use x=\"198.339844\" xlink:href=\"#DejaVuSans-114\"/>\n      <use x=\"239.453125\" xlink:href=\"#DejaVuSans-105\"/>\n      <use x=\"267.236328\" xlink:href=\"#DejaVuSans-109\"/>\n      <use x=\"364.648438\" xlink:href=\"#DejaVuSans-105\"/>\n      <use x=\"392.431641\" xlink:href=\"#DejaVuSans-110\"/>\n      <use x=\"455.810547\" xlink:href=\"#DejaVuSans-97\"/>\n      <use x=\"517.089844\" xlink:href=\"#DejaVuSans-116\"/>\n      <use x=\"556.298828\" xlink:href=\"#DejaVuSans-111\"/>\n      <use x=\"617.480469\" xlink:href=\"#DejaVuSans-114\"/>\n     </g>\n    </g>\n    <g id=\"line2d_29\">\n     <path d=\"M 62.328125 35.897211 \nL 82.328125 35.897211 \n\" style=\"fill:none;stroke:#bf00bf;stroke-dasharray:5.55,2.4;stroke-dashoffset:0;stroke-width:1.5;\"/>\n    </g>\n    <g id=\"line2d_30\"/>\n    <g id=\"text_16\">\n     <!-- generator -->\n     <defs>\n      <path d=\"M 45.40625 27.984375 \nQ 45.40625 37.75 41.375 43.109375 \nQ 37.359375 48.484375 30.078125 48.484375 \nQ 22.859375 48.484375 18.828125 43.109375 \nQ 14.796875 37.75 14.796875 27.984375 \nQ 14.796875 18.265625 18.828125 12.890625 \nQ 22.859375 7.515625 30.078125 7.515625 \nQ 37.359375 7.515625 41.375 12.890625 \nQ 45.40625 18.265625 45.40625 27.984375 \nz\nM 54.390625 6.78125 \nQ 54.390625 -7.171875 48.1875 -13.984375 \nQ 42 -20.796875 29.203125 -20.796875 \nQ 24.46875 -20.796875 20.265625 -20.09375 \nQ 16.0625 -19.390625 12.109375 -17.921875 \nL 12.109375 -9.1875 \nQ 16.0625 -11.328125 19.921875 -12.34375 \nQ 23.78125 -13.375 27.78125 -13.375 \nQ 36.625 -13.375 41.015625 -8.765625 \nQ 45.40625 -4.15625 45.40625 5.171875 \nL 45.40625 9.625 \nQ 42.625 4.78125 38.28125 2.390625 \nQ 33.9375 0 27.875 0 \nQ 17.828125 0 11.671875 7.65625 \nQ 5.515625 15.328125 5.515625 27.984375 \nQ 5.515625 40.671875 11.671875 48.328125 \nQ 17.828125 56 27.875 56 \nQ 33.9375 56 38.28125 53.609375 \nQ 42.625 51.21875 45.40625 46.390625 \nL 45.40625 54.6875 \nL 54.390625 54.6875 \nz\n\" id=\"DejaVuSans-103\"/>\n     </defs>\n     <g transform=\"translate(90.328125 39.397211)scale(0.1 -0.1)\">\n      <use xlink:href=\"#DejaVuSans-103\"/>\n      <use x=\"63.476562\" xlink:href=\"#DejaVuSans-101\"/>\n      <use x=\"125\" xlink:href=\"#DejaVuSans-110\"/>\n      <use x=\"188.378906\" xlink:href=\"#DejaVuSans-101\"/>\n      <use x=\"249.902344\" xlink:href=\"#DejaVuSans-114\"/>\n      <use x=\"291.015625\" xlink:href=\"#DejaVuSans-97\"/>\n      <use x=\"352.294922\" xlink:href=\"#DejaVuSans-116\"/>\n      <use x=\"391.503906\" xlink:href=\"#DejaVuSans-111\"/>\n      <use x=\"452.685547\" xlink:href=\"#DejaVuSans-114\"/>\n     </g>\n    </g>\n   </g>\n  </g>\n  <g id=\"axes_2\">\n   <g id=\"patch_8\">\n    <path d=\"M 53.328125 279.920648 \nL 332.328125 279.920648 \nL 332.328125 161.746735 \nL 53.328125 161.746735 \nz\n\" style=\"fill:#ffffff;\"/>\n   </g>\n   <g id=\"PathCollection_1\">\n    <defs>\n     <path d=\"M 0 3 \nC 0.795609 3 1.55874 2.683901 2.12132 2.12132 \nC 2.683901 1.55874 3 0.795609 3 0 \nC 3 -0.795609 2.683901 -1.55874 2.12132 -2.12132 \nC 1.55874 -2.683901 0.795609 -3 0 -3 \nC -0.795609 -3 -1.55874 -2.683901 -2.12132 -2.12132 \nC -2.683901 -1.55874 -3 -0.795609 -3 0 \nC -3 0.795609 -2.683901 1.55874 -2.12132 2.12132 \nC -1.55874 2.683901 -0.795609 3 0 3 \nz\n\" id=\"m757e53e758\" style=\"stroke:#1f77b4;\"/>\n    </defs>\n    <g clip-path=\"url(#pf8e61ce97d)\">\n     <use style=\"fill:#1f77b4;stroke:#1f77b4;\" x=\"170.762315\" xlink:href=\"#m757e53e758\" y=\"231.77406\"/>\n     <use style=\"fill:#1f77b4;stroke:#1f77b4;\" x=\"110.094806\" xlink:href=\"#m757e53e758\" y=\"265.190274\"/>\n     <use style=\"fill:#1f77b4;stroke:#1f77b4;\" x=\"207.539577\" xlink:href=\"#m757e53e758\" y=\"224.367781\"/>\n     <use style=\"fill:#1f77b4;stroke:#1f77b4;\" x=\"179.454588\" xlink:href=\"#m757e53e758\" y=\"227.244919\"/>\n     <use style=\"fill:#1f77b4;stroke:#1f77b4;\" x=\"188.485575\" xlink:href=\"#m757e53e758\" y=\"222.435314\"/>\n     <use style=\"fill:#1f77b4;stroke:#1f77b4;\" x=\"220.006645\" xlink:href=\"#m757e53e758\" y=\"196.316183\"/>\n     <use style=\"fill:#1f77b4;stroke:#1f77b4;\" x=\"175.390051\" xlink:href=\"#m757e53e758\" y=\"232.262079\"/>\n     <use style=\"fill:#1f77b4;stroke:#1f77b4;\" x=\"167.93759\" xlink:href=\"#m757e53e758\" y=\"226.860364\"/>\n     <use style=\"fill:#1f77b4;stroke:#1f77b4;\" x=\"202.271072\" xlink:href=\"#m757e53e758\" y=\"230.0209\"/>\n     <use style=\"fill:#1f77b4;stroke:#1f77b4;\" x=\"187.821146\" xlink:href=\"#m757e53e758\" y=\"223.015791\"/>\n     <use style=\"fill:#1f77b4;stroke:#1f77b4;\" x=\"203.822817\" xlink:href=\"#m757e53e758\" y=\"216.003117\"/>\n     <use style=\"fill:#1f77b4;stroke:#1f77b4;\" x=\"216.218716\" xlink:href=\"#m757e53e758\" y=\"209.919804\"/>\n     <use style=\"fill:#1f77b4;stroke:#1f77b4;\" x=\"188.021345\" xlink:href=\"#m757e53e758\" y=\"222.81508\"/>\n     <use style=\"fill:#1f77b4;stroke:#1f77b4;\" x=\"216.69224\" xlink:href=\"#m757e53e758\" y=\"212.87314\"/>\n     <use style=\"fill:#1f77b4;stroke:#1f77b4;\" x=\"194.937981\" xlink:href=\"#m757e53e758\" y=\"221.948392\"/>\n     <use style=\"fill:#1f77b4;stroke:#1f77b4;\" x=\"193.093834\" xlink:href=\"#m757e53e758\" y=\"215.374334\"/>\n     <use style=\"fill:#1f77b4;stroke:#1f77b4;\" x=\"226.041609\" xlink:href=\"#m757e53e758\" y=\"187.041677\"/>\n     <use style=\"fill:#1f77b4;stroke:#1f77b4;\" x=\"142.447919\" xlink:href=\"#m757e53e758\" y=\"250.437875\"/>\n     <use style=\"fill:#1f77b4;stroke:#1f77b4;\" x=\"172.946291\" xlink:href=\"#m757e53e758\" y=\"226.904016\"/>\n     <use style=\"fill:#1f77b4;stroke:#1f77b4;\" x=\"152.069184\" xlink:href=\"#m757e53e758\" y=\"228.706199\"/>\n     <use style=\"fill:#1f77b4;stroke:#1f77b4;\" x=\"220.404724\" xlink:href=\"#m757e53e758\" y=\"201.587785\"/>\n     <use style=\"fill:#1f77b4;stroke:#1f77b4;\" x=\"206.577156\" xlink:href=\"#m757e53e758\" y=\"213.830758\"/>\n     <use style=\"fill:#1f77b4;stroke:#1f77b4;\" x=\"210.332776\" xlink:href=\"#m757e53e758\" y=\"210.830062\"/>\n     <use style=\"fill:#1f77b4;stroke:#1f77b4;\" x=\"159.227649\" xlink:href=\"#m757e53e758\" y=\"236.613387\"/>\n     <use style=\"fill:#1f77b4;stroke:#1f77b4;\" x=\"177.908896\" xlink:href=\"#m757e53e758\" y=\"228.307593\"/>\n     <use style=\"fill:#1f77b4;stroke:#1f77b4;\" x=\"137.519335\" xlink:href=\"#m757e53e758\" y=\"257.838031\"/>\n     <use style=\"fill:#1f77b4;stroke:#1f77b4;\" x=\"209.214527\" xlink:href=\"#m757e53e758\" y=\"211.530455\"/>\n     <use style=\"fill:#1f77b4;stroke:#1f77b4;\" x=\"166.293707\" xlink:href=\"#m757e53e758\" y=\"239.710869\"/>\n     <use style=\"fill:#1f77b4;stroke:#1f77b4;\" x=\"113.230992\" xlink:href=\"#m757e53e758\" y=\"257.502201\"/>\n     <use style=\"fill:#1f77b4;stroke:#1f77b4;\" x=\"178.682095\" xlink:href=\"#m757e53e758\" y=\"218.878325\"/>\n     <use style=\"fill:#1f77b4;stroke:#1f77b4;\" x=\"195.345191\" xlink:href=\"#m757e53e758\" y=\"214.593447\"/>\n     <use style=\"fill:#1f77b4;stroke:#1f77b4;\" x=\"274.915907\" xlink:href=\"#m757e53e758\" y=\"167.118277\"/>\n     <use style=\"fill:#1f77b4;stroke:#1f77b4;\" x=\"172.158072\" xlink:href=\"#m757e53e758\" y=\"227.746827\"/>\n     <use style=\"fill:#1f77b4;stroke:#1f77b4;\" x=\"178.213911\" xlink:href=\"#m757e53e758\" y=\"233.802266\"/>\n     <use style=\"fill:#1f77b4;stroke:#1f77b4;\" x=\"198.963602\" xlink:href=\"#m757e53e758\" y=\"212.941661\"/>\n     <use style=\"fill:#1f77b4;stroke:#1f77b4;\" x=\"222.190674\" xlink:href=\"#m757e53e758\" y=\"204.649704\"/>\n     <use style=\"fill:#1f77b4;stroke:#1f77b4;\" x=\"189.097308\" xlink:href=\"#m757e53e758\" y=\"222.635726\"/>\n     <use style=\"fill:#1f77b4;stroke:#1f77b4;\" x=\"233.100193\" xlink:href=\"#m757e53e758\" y=\"198.40595\"/>\n     <use style=\"fill:#1f77b4;stroke:#1f77b4;\" x=\"141.242516\" xlink:href=\"#m757e53e758\" y=\"249.432656\"/>\n     <use style=\"fill:#1f77b4;stroke:#1f77b4;\" x=\"165.350939\" xlink:href=\"#m757e53e758\" y=\"234.214837\"/>\n     <use style=\"fill:#1f77b4;stroke:#1f77b4;\" x=\"195.695065\" xlink:href=\"#m757e53e758\" y=\"209.13431\"/>\n     <use style=\"fill:#1f77b4;stroke:#1f77b4;\" x=\"167.064331\" xlink:href=\"#m757e53e758\" y=\"233.319282\"/>\n     <use style=\"fill:#1f77b4;stroke:#1f77b4;\" x=\"207.785452\" xlink:href=\"#m757e53e758\" y=\"220.520998\"/>\n     <use style=\"fill:#1f77b4;stroke:#1f77b4;\" x=\"190.751252\" xlink:href=\"#m757e53e758\" y=\"228.313859\"/>\n     <use style=\"fill:#1f77b4;stroke:#1f77b4;\" x=\"235.767195\" xlink:href=\"#m757e53e758\" y=\"191.948563\"/>\n     <use style=\"fill:#1f77b4;stroke:#1f77b4;\" x=\"199.960952\" xlink:href=\"#m757e53e758\" y=\"212.080512\"/>\n     <use style=\"fill:#1f77b4;stroke:#1f77b4;\" x=\"170.665036\" xlink:href=\"#m757e53e758\" y=\"233.457107\"/>\n     <use style=\"fill:#1f77b4;stroke:#1f77b4;\" x=\"207.139279\" xlink:href=\"#m757e53e758\" y=\"215.486025\"/>\n     <use style=\"fill:#1f77b4;stroke:#1f77b4;\" x=\"147.390958\" xlink:href=\"#m757e53e758\" y=\"233.204967\"/>\n     <use style=\"fill:#1f77b4;stroke:#1f77b4;\" x=\"254.46066\" xlink:href=\"#m757e53e758\" y=\"172.037441\"/>\n     <use style=\"fill:#1f77b4;stroke:#1f77b4;\" x=\"210.752618\" xlink:href=\"#m757e53e758\" y=\"201.912425\"/>\n     <use style=\"fill:#1f77b4;stroke:#1f77b4;\" x=\"174.2837\" xlink:href=\"#m757e53e758\" y=\"232.116081\"/>\n     <use style=\"fill:#1f77b4;stroke:#1f77b4;\" x=\"207.014127\" xlink:href=\"#m757e53e758\" y=\"222.343826\"/>\n     <use style=\"fill:#1f77b4;stroke:#1f77b4;\" x=\"222.20698\" xlink:href=\"#m757e53e758\" y=\"195.908276\"/>\n     <use style=\"fill:#1f77b4;stroke:#1f77b4;\" x=\"148.918477\" xlink:href=\"#m757e53e758\" y=\"249.473156\"/>\n     <use style=\"fill:#1f77b4;stroke:#1f77b4;\" x=\"208.235042\" xlink:href=\"#m757e53e758\" y=\"216.521497\"/>\n     <use style=\"fill:#1f77b4;stroke:#1f77b4;\" x=\"147.450193\" xlink:href=\"#m757e53e758\" y=\"241.018461\"/>\n     <use style=\"fill:#1f77b4;stroke:#1f77b4;\" x=\"230.537892\" xlink:href=\"#m757e53e758\" y=\"204.467353\"/>\n     <use style=\"fill:#1f77b4;stroke:#1f77b4;\" x=\"161.057362\" xlink:href=\"#m757e53e758\" y=\"239.698629\"/>\n     <use style=\"fill:#1f77b4;stroke:#1f77b4;\" x=\"156.349173\" xlink:href=\"#m757e53e758\" y=\"244.159604\"/>\n     <use style=\"fill:#1f77b4;stroke:#1f77b4;\" x=\"180.099435\" xlink:href=\"#m757e53e758\" y=\"226.322506\"/>\n     <use style=\"fill:#1f77b4;stroke:#1f77b4;\" x=\"178.965922\" xlink:href=\"#m757e53e758\" y=\"233.464323\"/>\n     <use style=\"fill:#1f77b4;stroke:#1f77b4;\" x=\"238.617332\" xlink:href=\"#m757e53e758\" y=\"202.209501\"/>\n     <use style=\"fill:#1f77b4;stroke:#1f77b4;\" x=\"227.56114\" xlink:href=\"#m757e53e758\" y=\"197.26584\"/>\n     <use style=\"fill:#1f77b4;stroke:#1f77b4;\" x=\"109.397677\" xlink:href=\"#m757e53e758\" y=\"274.549107\"/>\n     <use style=\"fill:#1f77b4;stroke:#1f77b4;\" x=\"174.599281\" xlink:href=\"#m757e53e758\" y=\"242.479348\"/>\n     <use style=\"fill:#1f77b4;stroke:#1f77b4;\" x=\"144.911369\" xlink:href=\"#m757e53e758\" y=\"249.969848\"/>\n     <use style=\"fill:#1f77b4;stroke:#1f77b4;\" x=\"155.389868\" xlink:href=\"#m757e53e758\" y=\"237.400766\"/>\n     <use style=\"fill:#1f77b4;stroke:#1f77b4;\" x=\"202.60356\" xlink:href=\"#m757e53e758\" y=\"220.387126\"/>\n     <use style=\"fill:#1f77b4;stroke:#1f77b4;\" x=\"212.243438\" xlink:href=\"#m757e53e758\" y=\"210.030146\"/>\n     <use style=\"fill:#1f77b4;stroke:#1f77b4;\" x=\"198.136004\" xlink:href=\"#m757e53e758\" y=\"224.189731\"/>\n     <use style=\"fill:#1f77b4;stroke:#1f77b4;\" x=\"172.168476\" xlink:href=\"#m757e53e758\" y=\"234.478581\"/>\n     <use style=\"fill:#1f77b4;stroke:#1f77b4;\" x=\"208.11599\" xlink:href=\"#m757e53e758\" y=\"206.277723\"/>\n     <use style=\"fill:#1f77b4;stroke:#1f77b4;\" x=\"202.744907\" xlink:href=\"#m757e53e758\" y=\"222.85162\"/>\n     <use style=\"fill:#1f77b4;stroke:#1f77b4;\" x=\"147.554729\" xlink:href=\"#m757e53e758\" y=\"250.661866\"/>\n     <use style=\"fill:#1f77b4;stroke:#1f77b4;\" x=\"181.272063\" xlink:href=\"#m757e53e758\" y=\"233.058943\"/>\n     <use style=\"fill:#1f77b4;stroke:#1f77b4;\" x=\"164.346107\" xlink:href=\"#m757e53e758\" y=\"241.298015\"/>\n     <use style=\"fill:#1f77b4;stroke:#1f77b4;\" x=\"252.073739\" xlink:href=\"#m757e53e758\" y=\"181.140785\"/>\n     <use style=\"fill:#1f77b4;stroke:#1f77b4;\" x=\"159.595914\" xlink:href=\"#m757e53e758\" y=\"247.896005\"/>\n     <use style=\"fill:#1f77b4;stroke:#1f77b4;\" x=\"169.177127\" xlink:href=\"#m757e53e758\" y=\"230.45492\"/>\n     <use style=\"fill:#1f77b4;stroke:#1f77b4;\" x=\"205.635015\" xlink:href=\"#m757e53e758\" y=\"218.506202\"/>\n     <use style=\"fill:#1f77b4;stroke:#1f77b4;\" x=\"175.259166\" xlink:href=\"#m757e53e758\" y=\"228.088045\"/>\n     <use style=\"fill:#1f77b4;stroke:#1f77b4;\" x=\"205.833332\" xlink:href=\"#m757e53e758\" y=\"213.728055\"/>\n     <use style=\"fill:#1f77b4;stroke:#1f77b4;\" x=\"214.588269\" xlink:href=\"#m757e53e758\" y=\"207.709435\"/>\n     <use style=\"fill:#1f77b4;stroke:#1f77b4;\" x=\"164.8623\" xlink:href=\"#m757e53e758\" y=\"232.346599\"/>\n     <use style=\"fill:#1f77b4;stroke:#1f77b4;\" x=\"158.416798\" xlink:href=\"#m757e53e758\" y=\"234.195864\"/>\n     <use style=\"fill:#1f77b4;stroke:#1f77b4;\" x=\"182.841522\" xlink:href=\"#m757e53e758\" y=\"216.69141\"/>\n     <use style=\"fill:#1f77b4;stroke:#1f77b4;\" x=\"205.399461\" xlink:href=\"#m757e53e758\" y=\"206.105045\"/>\n     <use style=\"fill:#1f77b4;stroke:#1f77b4;\" x=\"212.89553\" xlink:href=\"#m757e53e758\" y=\"202.591756\"/>\n     <use style=\"fill:#1f77b4;stroke:#1f77b4;\" x=\"206.212029\" xlink:href=\"#m757e53e758\" y=\"216.061295\"/>\n     <use style=\"fill:#1f77b4;stroke:#1f77b4;\" x=\"206.705534\" xlink:href=\"#m757e53e758\" y=\"211.380944\"/>\n     <use style=\"fill:#1f77b4;stroke:#1f77b4;\" x=\"218.226557\" xlink:href=\"#m757e53e758\" y=\"211.091021\"/>\n     <use style=\"fill:#1f77b4;stroke:#1f77b4;\" x=\"157.990294\" xlink:href=\"#m757e53e758\" y=\"243.722343\"/>\n     <use style=\"fill:#1f77b4;stroke:#1f77b4;\" x=\"225.883493\" xlink:href=\"#m757e53e758\" y=\"204.065741\"/>\n     <use style=\"fill:#1f77b4;stroke:#1f77b4;\" x=\"189.171068\" xlink:href=\"#m757e53e758\" y=\"223.021805\"/>\n     <use style=\"fill:#1f77b4;stroke:#1f77b4;\" x=\"160.361212\" xlink:href=\"#m757e53e758\" y=\"242.452001\"/>\n     <use style=\"fill:#1f77b4;stroke:#1f77b4;\" x=\"223.100304\" xlink:href=\"#m757e53e758\" y=\"193.347495\"/>\n     <use style=\"fill:#1f77b4;stroke:#1f77b4;\" x=\"127.131005\" xlink:href=\"#m757e53e758\" y=\"255.881413\"/>\n     <use style=\"fill:#1f77b4;stroke:#1f77b4;\" x=\"194.152561\" xlink:href=\"#m757e53e758\" y=\"219.019324\"/>\n     <use style=\"fill:#1f77b4;stroke:#1f77b4;\" x=\"196.293347\" xlink:href=\"#m757e53e758\" y=\"228.011426\"/>\n    </g>\n   </g>\n   <g id=\"PathCollection_2\">\n    <defs>\n     <path d=\"M 0 3 \nC 0.795609 3 1.55874 2.683901 2.12132 2.12132 \nC 2.683901 1.55874 3 0.795609 3 0 \nC 3 -0.795609 2.683901 -1.55874 2.12132 -2.12132 \nC 1.55874 -2.683901 0.795609 -3 0 -3 \nC -0.795609 -3 -1.55874 -2.683901 -2.12132 -2.12132 \nC -2.683901 -1.55874 -3 -0.795609 -3 0 \nC -3 0.795609 -2.683901 1.55874 -2.12132 2.12132 \nC -1.55874 2.683901 -0.795609 3 0 3 \nz\n\" id=\"m310f9f8f08\" style=\"stroke:#ff7f0e;\"/>\n    </defs>\n    <g clip-path=\"url(#pf8e61ce97d)\">\n     <use style=\"fill:#ff7f0e;stroke:#ff7f0e;\" x=\"206.063648\" xlink:href=\"#m310f9f8f08\" y=\"207.499108\"/>\n     <use style=\"fill:#ff7f0e;stroke:#ff7f0e;\" x=\"244.351028\" xlink:href=\"#m310f9f8f08\" y=\"193.177103\"/>\n     <use style=\"fill:#ff7f0e;stroke:#ff7f0e;\" x=\"158.024511\" xlink:href=\"#m310f9f8f08\" y=\"225.939921\"/>\n     <use style=\"fill:#ff7f0e;stroke:#ff7f0e;\" x=\"201.238003\" xlink:href=\"#m310f9f8f08\" y=\"207.761613\"/>\n     <use style=\"fill:#ff7f0e;stroke:#ff7f0e;\" x=\"288.474019\" xlink:href=\"#m310f9f8f08\" y=\"177.788521\"/>\n     <use style=\"fill:#ff7f0e;stroke:#ff7f0e;\" x=\"257.31239\" xlink:href=\"#m310f9f8f08\" y=\"188.932801\"/>\n     <use style=\"fill:#ff7f0e;stroke:#ff7f0e;\" x=\"242.772771\" xlink:href=\"#m310f9f8f08\" y=\"196.383439\"/>\n     <use style=\"fill:#ff7f0e;stroke:#ff7f0e;\" x=\"191.745874\" xlink:href=\"#m310f9f8f08\" y=\"213.324802\"/>\n     <use style=\"fill:#ff7f0e;stroke:#ff7f0e;\" x=\"229.138218\" xlink:href=\"#m310f9f8f08\" y=\"200.471114\"/>\n     <use style=\"fill:#ff7f0e;stroke:#ff7f0e;\" x=\"204.159638\" xlink:href=\"#m310f9f8f08\" y=\"213.632569\"/>\n     <use style=\"fill:#ff7f0e;stroke:#ff7f0e;\" x=\"185.684245\" xlink:href=\"#m310f9f8f08\" y=\"210.818456\"/>\n     <use style=\"fill:#ff7f0e;stroke:#ff7f0e;\" x=\"96.427618\" xlink:href=\"#m310f9f8f08\" y=\"246.594928\"/>\n     <use style=\"fill:#ff7f0e;stroke:#ff7f0e;\" x=\"315.540574\" xlink:href=\"#m310f9f8f08\" y=\"174.468731\"/>\n     <use style=\"fill:#ff7f0e;stroke:#ff7f0e;\" x=\"211.758848\" xlink:href=\"#m310f9f8f08\" y=\"209.462427\"/>\n     <use style=\"fill:#ff7f0e;stroke:#ff7f0e;\" x=\"158.807042\" xlink:href=\"#m310f9f8f08\" y=\"228.488765\"/>\n     <use style=\"fill:#ff7f0e;stroke:#ff7f0e;\" x=\"197.131665\" xlink:href=\"#m310f9f8f08\" y=\"210.332056\"/>\n     <use style=\"fill:#ff7f0e;stroke:#ff7f0e;\" x=\"269.856107\" xlink:href=\"#m310f9f8f08\" y=\"185.737617\"/>\n     <use style=\"fill:#ff7f0e;stroke:#ff7f0e;\" x=\"252.210354\" xlink:href=\"#m310f9f8f08\" y=\"190.900979\"/>\n     <use style=\"fill:#ff7f0e;stroke:#ff7f0e;\" x=\"218.120293\" xlink:href=\"#m310f9f8f08\" y=\"201.068718\"/>\n     <use style=\"fill:#ff7f0e;stroke:#ff7f0e;\" x=\"279.3346\" xlink:href=\"#m310f9f8f08\" y=\"181.969905\"/>\n     <use style=\"fill:#ff7f0e;stroke:#ff7f0e;\" x=\"117.171466\" xlink:href=\"#m310f9f8f08\" y=\"236.234703\"/>\n     <use style=\"fill:#ff7f0e;stroke:#ff7f0e;\" x=\"227.721931\" xlink:href=\"#m310f9f8f08\" y=\"202.639278\"/>\n     <use style=\"fill:#ff7f0e;stroke:#ff7f0e;\" x=\"292.938986\" xlink:href=\"#m310f9f8f08\" y=\"179.192422\"/>\n     <use style=\"fill:#ff7f0e;stroke:#ff7f0e;\" x=\"276.300878\" xlink:href=\"#m310f9f8f08\" y=\"185.477396\"/>\n     <use style=\"fill:#ff7f0e;stroke:#ff7f0e;\" x=\"166.927296\" xlink:href=\"#m310f9f8f08\" y=\"223.984388\"/>\n     <use style=\"fill:#ff7f0e;stroke:#ff7f0e;\" x=\"250.270242\" xlink:href=\"#m310f9f8f08\" y=\"190.666205\"/>\n     <use style=\"fill:#ff7f0e;stroke:#ff7f0e;\" x=\"266.587084\" xlink:href=\"#m310f9f8f08\" y=\"188.088964\"/>\n     <use style=\"fill:#ff7f0e;stroke:#ff7f0e;\" x=\"217.401215\" xlink:href=\"#m310f9f8f08\" y=\"202.472469\"/>\n     <use style=\"fill:#ff7f0e;stroke:#ff7f0e;\" x=\"254.334006\" xlink:href=\"#m310f9f8f08\" y=\"192.973249\"/>\n     <use style=\"fill:#ff7f0e;stroke:#ff7f0e;\" x=\"294.207409\" xlink:href=\"#m310f9f8f08\" y=\"172.270455\"/>\n     <use style=\"fill:#ff7f0e;stroke:#ff7f0e;\" x=\"206.516979\" xlink:href=\"#m310f9f8f08\" y=\"205.78002\"/>\n     <use style=\"fill:#ff7f0e;stroke:#ff7f0e;\" x=\"217.465178\" xlink:href=\"#m310f9f8f08\" y=\"204.548838\"/>\n     <use style=\"fill:#ff7f0e;stroke:#ff7f0e;\" x=\"249.14913\" xlink:href=\"#m310f9f8f08\" y=\"188.881087\"/>\n     <use style=\"fill:#ff7f0e;stroke:#ff7f0e;\" x=\"185.458082\" xlink:href=\"#m310f9f8f08\" y=\"217.126721\"/>\n     <use style=\"fill:#ff7f0e;stroke:#ff7f0e;\" x=\"253.893174\" xlink:href=\"#m310f9f8f08\" y=\"184.615389\"/>\n     <use style=\"fill:#ff7f0e;stroke:#ff7f0e;\" x=\"123.65973\" xlink:href=\"#m310f9f8f08\" y=\"235.495419\"/>\n     <use style=\"fill:#ff7f0e;stroke:#ff7f0e;\" x=\"243.795602\" xlink:href=\"#m310f9f8f08\" y=\"191.760325\"/>\n     <use style=\"fill:#ff7f0e;stroke:#ff7f0e;\" x=\"178.475992\" xlink:href=\"#m310f9f8f08\" y=\"214.923629\"/>\n     <use style=\"fill:#ff7f0e;stroke:#ff7f0e;\" x=\"311.698709\" xlink:href=\"#m310f9f8f08\" y=\"176.208902\"/>\n     <use style=\"fill:#ff7f0e;stroke:#ff7f0e;\" x=\"209.842341\" xlink:href=\"#m310f9f8f08\" y=\"205.418243\"/>\n     <use style=\"fill:#ff7f0e;stroke:#ff7f0e;\" x=\"163.84697\" xlink:href=\"#m310f9f8f08\" y=\"223.594572\"/>\n     <use style=\"fill:#ff7f0e;stroke:#ff7f0e;\" x=\"287.823939\" xlink:href=\"#m310f9f8f08\" y=\"179.05689\"/>\n     <use style=\"fill:#ff7f0e;stroke:#ff7f0e;\" x=\"142.784824\" xlink:href=\"#m310f9f8f08\" y=\"229.228193\"/>\n     <use style=\"fill:#ff7f0e;stroke:#ff7f0e;\" x=\"277.456907\" xlink:href=\"#m310f9f8f08\" y=\"182.2447\"/>\n     <use style=\"fill:#ff7f0e;stroke:#ff7f0e;\" x=\"251.337317\" xlink:href=\"#m310f9f8f08\" y=\"193.016175\"/>\n     <use style=\"fill:#ff7f0e;stroke:#ff7f0e;\" x=\"276.212644\" xlink:href=\"#m310f9f8f08\" y=\"181.985679\"/>\n     <use style=\"fill:#ff7f0e;stroke:#ff7f0e;\" x=\"254.967728\" xlink:href=\"#m310f9f8f08\" y=\"192.57421\"/>\n     <use style=\"fill:#ff7f0e;stroke:#ff7f0e;\" x=\"245.858782\" xlink:href=\"#m310f9f8f08\" y=\"192.722442\"/>\n     <use style=\"fill:#ff7f0e;stroke:#ff7f0e;\" x=\"227.118936\" xlink:href=\"#m310f9f8f08\" y=\"203.625852\"/>\n     <use style=\"fill:#ff7f0e;stroke:#ff7f0e;\" x=\"186.948816\" xlink:href=\"#m310f9f8f08\" y=\"207.872856\"/>\n     <use style=\"fill:#ff7f0e;stroke:#ff7f0e;\" x=\"66.009943\" xlink:href=\"#m310f9f8f08\" y=\"254.663944\"/>\n     <use style=\"fill:#ff7f0e;stroke:#ff7f0e;\" x=\"182.583142\" xlink:href=\"#m310f9f8f08\" y=\"215.280155\"/>\n     <use style=\"fill:#ff7f0e;stroke:#ff7f0e;\" x=\"165.535399\" xlink:href=\"#m310f9f8f08\" y=\"219.949068\"/>\n     <use style=\"fill:#ff7f0e;stroke:#ff7f0e;\" x=\"253.161166\" xlink:href=\"#m310f9f8f08\" y=\"190.354654\"/>\n     <use style=\"fill:#ff7f0e;stroke:#ff7f0e;\" x=\"192.2131\" xlink:href=\"#m310f9f8f08\" y=\"211.527285\"/>\n     <use style=\"fill:#ff7f0e;stroke:#ff7f0e;\" x=\"190.990896\" xlink:href=\"#m310f9f8f08\" y=\"207.798833\"/>\n     <use style=\"fill:#ff7f0e;stroke:#ff7f0e;\" x=\"236.089435\" xlink:href=\"#m310f9f8f08\" y=\"194.300239\"/>\n     <use style=\"fill:#ff7f0e;stroke:#ff7f0e;\" x=\"177.212565\" xlink:href=\"#m310f9f8f08\" y=\"215.944241\"/>\n     <use style=\"fill:#ff7f0e;stroke:#ff7f0e;\" x=\"176.712673\" xlink:href=\"#m310f9f8f08\" y=\"217.12153\"/>\n     <use style=\"fill:#ff7f0e;stroke:#ff7f0e;\" x=\"196.133269\" xlink:href=\"#m310f9f8f08\" y=\"213.580439\"/>\n     <use style=\"fill:#ff7f0e;stroke:#ff7f0e;\" x=\"225.825165\" xlink:href=\"#m310f9f8f08\" y=\"201.671692\"/>\n     <use style=\"fill:#ff7f0e;stroke:#ff7f0e;\" x=\"278.019688\" xlink:href=\"#m310f9f8f08\" y=\"181.595047\"/>\n     <use style=\"fill:#ff7f0e;stroke:#ff7f0e;\" x=\"131.997174\" xlink:href=\"#m310f9f8f08\" y=\"230.095096\"/>\n     <use style=\"fill:#ff7f0e;stroke:#ff7f0e;\" x=\"213.22562\" xlink:href=\"#m310f9f8f08\" y=\"202.740315\"/>\n     <use style=\"fill:#ff7f0e;stroke:#ff7f0e;\" x=\"245.067857\" xlink:href=\"#m310f9f8f08\" y=\"194.647949\"/>\n     <use style=\"fill:#ff7f0e;stroke:#ff7f0e;\" x=\"210.228463\" xlink:href=\"#m310f9f8f08\" y=\"203.419595\"/>\n     <use style=\"fill:#ff7f0e;stroke:#ff7f0e;\" x=\"172.004805\" xlink:href=\"#m310f9f8f08\" y=\"221.171284\"/>\n     <use style=\"fill:#ff7f0e;stroke:#ff7f0e;\" x=\"116.140872\" xlink:href=\"#m310f9f8f08\" y=\"240.738475\"/>\n     <use style=\"fill:#ff7f0e;stroke:#ff7f0e;\" x=\"192.198565\" xlink:href=\"#m310f9f8f08\" y=\"209.793487\"/>\n     <use style=\"fill:#ff7f0e;stroke:#ff7f0e;\" x=\"212.823108\" xlink:href=\"#m310f9f8f08\" y=\"202.669622\"/>\n     <use style=\"fill:#ff7f0e;stroke:#ff7f0e;\" x=\"215.217534\" xlink:href=\"#m310f9f8f08\" y=\"202.34415\"/>\n     <use style=\"fill:#ff7f0e;stroke:#ff7f0e;\" x=\"246.918624\" xlink:href=\"#m310f9f8f08\" y=\"190.917369\"/>\n     <use style=\"fill:#ff7f0e;stroke:#ff7f0e;\" x=\"297.820074\" xlink:href=\"#m310f9f8f08\" y=\"176.406127\"/>\n     <use style=\"fill:#ff7f0e;stroke:#ff7f0e;\" x=\"216.658525\" xlink:href=\"#m310f9f8f08\" y=\"203.492195\"/>\n     <use style=\"fill:#ff7f0e;stroke:#ff7f0e;\" x=\"236.480676\" xlink:href=\"#m310f9f8f08\" y=\"198.150605\"/>\n     <use style=\"fill:#ff7f0e;stroke:#ff7f0e;\" x=\"227.859795\" xlink:href=\"#m310f9f8f08\" y=\"198.753201\"/>\n     <use style=\"fill:#ff7f0e;stroke:#ff7f0e;\" x=\"198.70554\" xlink:href=\"#m310f9f8f08\" y=\"210.051655\"/>\n     <use style=\"fill:#ff7f0e;stroke:#ff7f0e;\" x=\"239.804662\" xlink:href=\"#m310f9f8f08\" y=\"195.19649\"/>\n     <use style=\"fill:#ff7f0e;stroke:#ff7f0e;\" x=\"228.061741\" xlink:href=\"#m310f9f8f08\" y=\"200.746191\"/>\n     <use style=\"fill:#ff7f0e;stroke:#ff7f0e;\" x=\"319.646307\" xlink:href=\"#m310f9f8f08\" y=\"171.765076\"/>\n     <use style=\"fill:#ff7f0e;stroke:#ff7f0e;\" x=\"235.407187\" xlink:href=\"#m310f9f8f08\" y=\"198.488497\"/>\n     <use style=\"fill:#ff7f0e;stroke:#ff7f0e;\" x=\"146.503285\" xlink:href=\"#m310f9f8f08\" y=\"225.24576\"/>\n     <use style=\"fill:#ff7f0e;stroke:#ff7f0e;\" x=\"262.706216\" xlink:href=\"#m310f9f8f08\" y=\"185.044793\"/>\n     <use style=\"fill:#ff7f0e;stroke:#ff7f0e;\" x=\"188.545641\" xlink:href=\"#m310f9f8f08\" y=\"215.109749\"/>\n     <use style=\"fill:#ff7f0e;stroke:#ff7f0e;\" x=\"250.663475\" xlink:href=\"#m310f9f8f08\" y=\"194.062911\"/>\n     <use style=\"fill:#ff7f0e;stroke:#ff7f0e;\" x=\"166.013625\" xlink:href=\"#m310f9f8f08\" y=\"222.051608\"/>\n     <use style=\"fill:#ff7f0e;stroke:#ff7f0e;\" x=\"242.063957\" xlink:href=\"#m310f9f8f08\" y=\"197.445679\"/>\n     <use style=\"fill:#ff7f0e;stroke:#ff7f0e;\" x=\"240.350686\" xlink:href=\"#m310f9f8f08\" y=\"192.521082\"/>\n     <use style=\"fill:#ff7f0e;stroke:#ff7f0e;\" x=\"207.929722\" xlink:href=\"#m310f9f8f08\" y=\"207.937727\"/>\n     <use style=\"fill:#ff7f0e;stroke:#ff7f0e;\" x=\"259.17587\" xlink:href=\"#m310f9f8f08\" y=\"186.030345\"/>\n     <use style=\"fill:#ff7f0e;stroke:#ff7f0e;\" x=\"241.946743\" xlink:href=\"#m310f9f8f08\" y=\"195.710495\"/>\n     <use style=\"fill:#ff7f0e;stroke:#ff7f0e;\" x=\"216.951601\" xlink:href=\"#m310f9f8f08\" y=\"202.513379\"/>\n     <use style=\"fill:#ff7f0e;stroke:#ff7f0e;\" x=\"176.265151\" xlink:href=\"#m310f9f8f08\" y=\"219.485656\"/>\n     <use style=\"fill:#ff7f0e;stroke:#ff7f0e;\" x=\"173.155934\" xlink:href=\"#m310f9f8f08\" y=\"221.4638\"/>\n     <use style=\"fill:#ff7f0e;stroke:#ff7f0e;\" x=\"289.190174\" xlink:href=\"#m310f9f8f08\" y=\"181.857925\"/>\n     <use style=\"fill:#ff7f0e;stroke:#ff7f0e;\" x=\"281.687891\" xlink:href=\"#m310f9f8f08\" y=\"183.493907\"/>\n     <use style=\"fill:#ff7f0e;stroke:#ff7f0e;\" x=\"213.870639\" xlink:href=\"#m310f9f8f08\" y=\"202.913085\"/>\n     <use style=\"fill:#ff7f0e;stroke:#ff7f0e;\" x=\"201.041858\" xlink:href=\"#m310f9f8f08\" y=\"210.041173\"/>\n     <use style=\"fill:#ff7f0e;stroke:#ff7f0e;\" x=\"191.292014\" xlink:href=\"#m310f9f8f08\" y=\"210.829117\"/>\n     <use style=\"fill:#ff7f0e;stroke:#ff7f0e;\" x=\"157.931703\" xlink:href=\"#m310f9f8f08\" y=\"222.943875\"/>\n    </g>\n   </g>\n   <g id=\"matplotlib.axis_3\">\n    <g id=\"xtick_9\">\n     <g id=\"line2d_31\">\n      <g>\n       <use style=\"stroke:#000000;stroke-width:0.8;\" x=\"62.986986\" xlink:href=\"#m56dcc757ef\" y=\"279.920648\"/>\n      </g>\n     </g>\n     <g id=\"text_17\">\n      <!-- −3 -->\n      <defs>\n       <path d=\"M 10.59375 35.5 \nL 73.1875 35.5 \nL 73.1875 27.203125 \nL 10.59375 27.203125 \nz\n\" id=\"DejaVuSans-8722\"/>\n      </defs>\n      <g transform=\"translate(55.615893 294.519086)scale(0.1 -0.1)\">\n       <use xlink:href=\"#DejaVuSans-8722\"/>\n       <use x=\"83.789062\" xlink:href=\"#DejaVuSans-51\"/>\n      </g>\n     </g>\n    </g>\n    <g id=\"xtick_10\">\n     <g id=\"line2d_32\">\n      <g>\n       <use style=\"stroke:#000000;stroke-width:0.8;\" x=\"95.125932\" xlink:href=\"#m56dcc757ef\" y=\"279.920648\"/>\n      </g>\n     </g>\n     <g id=\"text_18\">\n      <!-- −2 -->\n      <g transform=\"translate(87.754838 294.519086)scale(0.1 -0.1)\">\n       <use xlink:href=\"#DejaVuSans-8722\"/>\n       <use x=\"83.789062\" xlink:href=\"#DejaVuSans-50\"/>\n      </g>\n     </g>\n    </g>\n    <g id=\"xtick_11\">\n     <g id=\"line2d_33\">\n      <g>\n       <use style=\"stroke:#000000;stroke-width:0.8;\" x=\"127.264877\" xlink:href=\"#m56dcc757ef\" y=\"279.920648\"/>\n      </g>\n     </g>\n     <g id=\"text_19\">\n      <!-- −1 -->\n      <g transform=\"translate(119.893783 294.519086)scale(0.1 -0.1)\">\n       <use xlink:href=\"#DejaVuSans-8722\"/>\n       <use x=\"83.789062\" xlink:href=\"#DejaVuSans-49\"/>\n      </g>\n     </g>\n    </g>\n    <g id=\"xtick_12\">\n     <g id=\"line2d_34\">\n      <g>\n       <use style=\"stroke:#000000;stroke-width:0.8;\" x=\"159.403822\" xlink:href=\"#m56dcc757ef\" y=\"279.920648\"/>\n      </g>\n     </g>\n     <g id=\"text_20\">\n      <!-- 0 -->\n      <g transform=\"translate(156.222572 294.519086)scale(0.1 -0.1)\">\n       <use xlink:href=\"#DejaVuSans-48\"/>\n      </g>\n     </g>\n    </g>\n    <g id=\"xtick_13\">\n     <g id=\"line2d_35\">\n      <g>\n       <use style=\"stroke:#000000;stroke-width:0.8;\" x=\"191.542768\" xlink:href=\"#m56dcc757ef\" y=\"279.920648\"/>\n      </g>\n     </g>\n     <g id=\"text_21\">\n      <!-- 1 -->\n      <g transform=\"translate(188.361518 294.519086)scale(0.1 -0.1)\">\n       <use xlink:href=\"#DejaVuSans-49\"/>\n      </g>\n     </g>\n    </g>\n    <g id=\"xtick_14\">\n     <g id=\"line2d_36\">\n      <g>\n       <use style=\"stroke:#000000;stroke-width:0.8;\" x=\"223.681713\" xlink:href=\"#m56dcc757ef\" y=\"279.920648\"/>\n      </g>\n     </g>\n     <g id=\"text_22\">\n      <!-- 2 -->\n      <g transform=\"translate(220.500463 294.519086)scale(0.1 -0.1)\">\n       <use xlink:href=\"#DejaVuSans-50\"/>\n      </g>\n     </g>\n    </g>\n    <g id=\"xtick_15\">\n     <g id=\"line2d_37\">\n      <g>\n       <use style=\"stroke:#000000;stroke-width:0.8;\" x=\"255.820658\" xlink:href=\"#m56dcc757ef\" y=\"279.920648\"/>\n      </g>\n     </g>\n     <g id=\"text_23\">\n      <!-- 3 -->\n      <g transform=\"translate(252.639408 294.519086)scale(0.1 -0.1)\">\n       <use xlink:href=\"#DejaVuSans-51\"/>\n      </g>\n     </g>\n    </g>\n    <g id=\"xtick_16\">\n     <g id=\"line2d_38\">\n      <g>\n       <use style=\"stroke:#000000;stroke-width:0.8;\" x=\"287.959604\" xlink:href=\"#m56dcc757ef\" y=\"279.920648\"/>\n      </g>\n     </g>\n     <g id=\"text_24\">\n      <!-- 4 -->\n      <defs>\n       <path d=\"M 37.796875 64.3125 \nL 12.890625 25.390625 \nL 37.796875 25.390625 \nz\nM 35.203125 72.90625 \nL 47.609375 72.90625 \nL 47.609375 25.390625 \nL 58.015625 25.390625 \nL 58.015625 17.1875 \nL 47.609375 17.1875 \nL 47.609375 0 \nL 37.796875 0 \nL 37.796875 17.1875 \nL 4.890625 17.1875 \nL 4.890625 26.703125 \nz\n\" id=\"DejaVuSans-52\"/>\n      </defs>\n      <g transform=\"translate(284.778354 294.519086)scale(0.1 -0.1)\">\n       <use xlink:href=\"#DejaVuSans-52\"/>\n      </g>\n     </g>\n    </g>\n    <g id=\"xtick_17\">\n     <g id=\"line2d_39\">\n      <g>\n       <use style=\"stroke:#000000;stroke-width:0.8;\" x=\"320.098549\" xlink:href=\"#m56dcc757ef\" y=\"279.920648\"/>\n      </g>\n     </g>\n     <g id=\"text_25\">\n      <!-- 5 -->\n      <g transform=\"translate(316.917299 294.519086)scale(0.1 -0.1)\">\n       <use xlink:href=\"#DejaVuSans-53\"/>\n      </g>\n     </g>\n    </g>\n   </g>\n   <g id=\"matplotlib.axis_4\">\n    <g id=\"ytick_5\">\n     <g id=\"line2d_40\">\n      <g>\n       <use style=\"stroke:#000000;stroke-width:0.8;\" x=\"53.328125\" xlink:href=\"#mb2a19d2d17\" y=\"264.59636\"/>\n      </g>\n     </g>\n     <g id=\"text_26\">\n      <!-- −2.5 -->\n      <g transform=\"translate(22.045313 268.395578)scale(0.1 -0.1)\">\n       <use xlink:href=\"#DejaVuSans-8722\"/>\n       <use x=\"83.789062\" xlink:href=\"#DejaVuSans-50\"/>\n       <use x=\"147.412109\" xlink:href=\"#DejaVuSans-46\"/>\n       <use x=\"179.199219\" xlink:href=\"#DejaVuSans-53\"/>\n      </g>\n     </g>\n    </g>\n    <g id=\"ytick_6\">\n     <g id=\"line2d_41\">\n      <g>\n       <use style=\"stroke:#000000;stroke-width:0.8;\" x=\"53.328125\" xlink:href=\"#mb2a19d2d17\" y=\"240.294869\"/>\n      </g>\n     </g>\n     <g id=\"text_27\">\n      <!-- 0.0 -->\n      <g transform=\"translate(30.425 244.094088)scale(0.1 -0.1)\">\n       <use xlink:href=\"#DejaVuSans-48\"/>\n       <use x=\"63.623047\" xlink:href=\"#DejaVuSans-46\"/>\n       <use x=\"95.410156\" xlink:href=\"#DejaVuSans-48\"/>\n      </g>\n     </g>\n    </g>\n    <g id=\"ytick_7\">\n     <g id=\"line2d_42\">\n      <g>\n       <use style=\"stroke:#000000;stroke-width:0.8;\" x=\"53.328125\" xlink:href=\"#mb2a19d2d17\" y=\"215.993378\"/>\n      </g>\n     </g>\n     <g id=\"text_28\">\n      <!-- 2.5 -->\n      <g transform=\"translate(30.425 219.792597)scale(0.1 -0.1)\">\n       <use xlink:href=\"#DejaVuSans-50\"/>\n       <use x=\"63.623047\" xlink:href=\"#DejaVuSans-46\"/>\n       <use x=\"95.410156\" xlink:href=\"#DejaVuSans-53\"/>\n      </g>\n     </g>\n    </g>\n    <g id=\"ytick_8\">\n     <g id=\"line2d_43\">\n      <g>\n       <use style=\"stroke:#000000;stroke-width:0.8;\" x=\"53.328125\" xlink:href=\"#mb2a19d2d17\" y=\"191.691887\"/>\n      </g>\n     </g>\n     <g id=\"text_29\">\n      <!-- 5.0 -->\n      <g transform=\"translate(30.425 195.491106)scale(0.1 -0.1)\">\n       <use xlink:href=\"#DejaVuSans-53\"/>\n       <use x=\"63.623047\" xlink:href=\"#DejaVuSans-46\"/>\n       <use x=\"95.410156\" xlink:href=\"#DejaVuSans-48\"/>\n      </g>\n     </g>\n    </g>\n    <g id=\"ytick_9\">\n     <g id=\"line2d_44\">\n      <g>\n       <use style=\"stroke:#000000;stroke-width:0.8;\" x=\"53.328125\" xlink:href=\"#mb2a19d2d17\" y=\"167.390397\"/>\n      </g>\n     </g>\n     <g id=\"text_30\">\n      <!-- 7.5 -->\n      <g transform=\"translate(30.425 171.189616)scale(0.1 -0.1)\">\n       <use xlink:href=\"#DejaVuSans-55\"/>\n       <use x=\"63.623047\" xlink:href=\"#DejaVuSans-46\"/>\n       <use x=\"95.410156\" xlink:href=\"#DejaVuSans-53\"/>\n      </g>\n     </g>\n    </g>\n   </g>\n   <g id=\"patch_9\">\n    <path d=\"M 53.328125 279.920648 \nL 53.328125 161.746735 \n\" style=\"fill:none;stroke:#000000;stroke-linecap:square;stroke-linejoin:miter;stroke-width:0.8;\"/>\n   </g>\n   <g id=\"patch_10\">\n    <path d=\"M 332.328125 279.920648 \nL 332.328125 161.746735 \n\" style=\"fill:none;stroke:#000000;stroke-linecap:square;stroke-linejoin:miter;stroke-width:0.8;\"/>\n   </g>\n   <g id=\"patch_11\">\n    <path d=\"M 53.328125 279.920648 \nL 332.328125 279.920648 \n\" style=\"fill:none;stroke:#000000;stroke-linecap:square;stroke-linejoin:miter;stroke-width:0.8;\"/>\n   </g>\n   <g id=\"patch_12\">\n    <path d=\"M 53.328125 161.746735 \nL 332.328125 161.746735 \n\" style=\"fill:none;stroke:#000000;stroke-linecap:square;stroke-linejoin:miter;stroke-width:0.8;\"/>\n   </g>\n   <g id=\"legend_2\">\n    <g id=\"patch_13\">\n     <path d=\"M 60.328125 199.102985 \nL 143.98125 199.102985 \nQ 145.98125 199.102985 145.98125 197.102985 \nL 145.98125 168.746735 \nQ 145.98125 166.746735 143.98125 166.746735 \nL 60.328125 166.746735 \nQ 58.328125 166.746735 58.328125 168.746735 \nL 58.328125 197.102985 \nQ 58.328125 199.102985 60.328125 199.102985 \nz\n\" style=\"fill:#ffffff;opacity:0.8;stroke:#cccccc;stroke-linejoin:miter;\"/>\n    </g>\n    <g id=\"PathCollection_3\">\n     <g>\n      <use style=\"fill:#1f77b4;stroke:#1f77b4;\" x=\"72.328125\" xlink:href=\"#m757e53e758\" y=\"175.720173\"/>\n     </g>\n    </g>\n    <g id=\"text_31\">\n     <!-- real -->\n     <g transform=\"translate(90.328125 178.345173)scale(0.1 -0.1)\">\n      <use xlink:href=\"#DejaVuSans-114\"/>\n      <use x=\"38.863281\" xlink:href=\"#DejaVuSans-101\"/>\n      <use x=\"100.386719\" xlink:href=\"#DejaVuSans-97\"/>\n      <use x=\"161.666016\" xlink:href=\"#DejaVuSans-108\"/>\n     </g>\n    </g>\n    <g id=\"PathCollection_4\">\n     <g>\n      <use style=\"fill:#ff7f0e;stroke:#ff7f0e;\" x=\"72.328125\" xlink:href=\"#m310f9f8f08\" y=\"190.398298\"/>\n     </g>\n    </g>\n    <g id=\"text_32\">\n     <!-- generated -->\n     <g transform=\"translate(90.328125 193.023298)scale(0.1 -0.1)\">\n      <use xlink:href=\"#DejaVuSans-103\"/>\n      <use x=\"63.476562\" xlink:href=\"#DejaVuSans-101\"/>\n      <use x=\"125\" xlink:href=\"#DejaVuSans-110\"/>\n      <use x=\"188.378906\" xlink:href=\"#DejaVuSans-101\"/>\n      <use x=\"249.902344\" xlink:href=\"#DejaVuSans-114\"/>\n      <use x=\"291.015625\" xlink:href=\"#DejaVuSans-97\"/>\n      <use x=\"352.294922\" xlink:href=\"#DejaVuSans-116\"/>\n      <use x=\"391.503906\" xlink:href=\"#DejaVuSans-101\"/>\n      <use x=\"453.027344\" xlink:href=\"#DejaVuSans-100\"/>\n     </g>\n    </g>\n   </g>\n  </g>\n </g>\n <defs>\n  <clipPath id=\"p5106085cea\">\n   <rect height=\"118.173913\" width=\"279\" x=\"53.328125\" y=\"8.120648\"/>\n  </clipPath>\n  <clipPath id=\"pf8e61ce97d\">\n   <rect height=\"118.173913\" width=\"279\" x=\"53.328125\" y=\"161.746735\"/>\n  </clipPath>\n </defs>\n</svg>\n"
          },
          "metadata": {
            "tags": [],
            "needs_background": "light"
          }
        }
      ]
    },
    {
      "cell_type": "code",
      "metadata": {
        "colab": {
          "base_uri": "https://localhost:8080/"
        },
        "id": "nt36W9fwla07",
        "outputId": "67faa54b-111b-48b7-da46-de4ac70a35b3"
      },
      "source": [
        "X"
      ],
      "execution_count": 18,
      "outputs": [
        {
          "output_type": "execute_result",
          "data": {
            "text/plain": [
              "<tf.Tensor: shape=(1000, 2), dtype=float32, numpy=\n",
              "array([[-0.62233365,  0.24247982],\n",
              "       [-2.4617605 ,  0.72484523],\n",
              "       [ 0.30388346, -1.9385564 ],\n",
              "       ...,\n",
              "       [ 0.94703805,  1.6949403 ],\n",
              "       [-0.6075041 , -0.9379714 ],\n",
              "       [ 0.01997015,  0.6716406 ]], dtype=float32)>"
            ]
          },
          "metadata": {
            "tags": []
          },
          "execution_count": 18
        }
      ]
    },
    {
      "cell_type": "code",
      "metadata": {
        "colab": {
          "base_uri": "https://localhost:8080/"
        },
        "id": "MrjhT6AIlcm8",
        "outputId": "55e31fe1-0fae-4728-c77d-dfa22d046909"
      },
      "source": [
        "X.shape"
      ],
      "execution_count": 19,
      "outputs": [
        {
          "output_type": "execute_result",
          "data": {
            "text/plain": [
              "TensorShape([1000, 2])"
            ]
          },
          "metadata": {
            "tags": []
          },
          "execution_count": 19
        }
      ]
    },
    {
      "cell_type": "code",
      "metadata": {
        "colab": {
          "base_uri": "https://localhost:8080/"
        },
        "id": "L3606cMifCZt",
        "outputId": "a6852d25-fec6-47e2-b3cc-1a07c4fdac63"
      },
      "source": [
        "X"
      ],
      "execution_count": 20,
      "outputs": [
        {
          "output_type": "execute_result",
          "data": {
            "text/plain": [
              "<tf.Tensor: shape=(1000, 2), dtype=float32, numpy=\n",
              "array([[-0.62233365,  0.24247982],\n",
              "       [-2.4617605 ,  0.72484523],\n",
              "       [ 0.30388346, -1.9385564 ],\n",
              "       ...,\n",
              "       [ 0.94703805,  1.6949403 ],\n",
              "       [-0.6075041 , -0.9379714 ],\n",
              "       [ 0.01997015,  0.6716406 ]], dtype=float32)>"
            ]
          },
          "metadata": {
            "tags": []
          },
          "execution_count": 20
        }
      ]
    },
    {
      "cell_type": "code",
      "metadata": {
        "colab": {
          "base_uri": "https://localhost:8080/",
          "height": 166
        },
        "id": "m6CvabYAfCZu",
        "outputId": "81b1c0a8-dfa8-43a4-a659-5ed2ca656512"
      },
      "source": [
        "Z"
      ],
      "execution_count": 21,
      "outputs": [
        {
          "output_type": "error",
          "ename": "NameError",
          "evalue": "ignored",
          "traceback": [
            "\u001b[0;31m---------------------------------------------------------------------------\u001b[0m",
            "\u001b[0;31mNameError\u001b[0m                                 Traceback (most recent call last)",
            "\u001b[0;32m<ipython-input-21-b4379bcb7951>\u001b[0m in \u001b[0;36m<module>\u001b[0;34m()\u001b[0m\n\u001b[0;32m----> 1\u001b[0;31m \u001b[0mZ\u001b[0m\u001b[0;34m\u001b[0m\u001b[0;34m\u001b[0m\u001b[0m\n\u001b[0m",
            "\u001b[0;31mNameError\u001b[0m: name 'Z' is not defined"
          ]
        }
      ]
    },
    {
      "cell_type": "code",
      "metadata": {
        "id": "UC34OnCMfCZv"
      },
      "source": [
        "data"
      ],
      "execution_count": null,
      "outputs": []
    },
    {
      "cell_type": "code",
      "metadata": {
        "id": "dgRfXfv9fCZw"
      },
      "source": [
        "tf.data.Dataset.from_tensors(X)"
      ],
      "execution_count": null,
      "outputs": []
    },
    {
      "cell_type": "code",
      "metadata": {
        "id": "2uDtx9pjfCZw"
      },
      "source": [
        "tf.shape(X)"
      ],
      "execution_count": null,
      "outputs": []
    },
    {
      "cell_type": "code",
      "metadata": {
        "id": "HS4iiQVGfCZx"
      },
      "source": [
        "tf.convert_to_tensor(X)"
      ],
      "execution_count": null,
      "outputs": []
    },
    {
      "cell_type": "code",
      "metadata": {
        "id": "DIxl8zsSfCZy"
      },
      "source": [
        "X == tf.convert_to_tensor(X)"
      ],
      "execution_count": null,
      "outputs": []
    },
    {
      "cell_type": "code",
      "metadata": {
        "id": "sIpuIbpPfCZz"
      },
      "source": [
        "net_D(tf.convert_to_tensor(X), training=True)"
      ],
      "execution_count": null,
      "outputs": []
    },
    {
      "cell_type": "code",
      "metadata": {
        "id": "SvkFGNPVfCZ0"
      },
      "source": [
        "net_D(X, training=True)"
      ],
      "execution_count": null,
      "outputs": []
    },
    {
      "cell_type": "code",
      "metadata": {
        "id": "SKgT5sKDfCZ1"
      },
      "source": [
        "net_D(tf.convert_to_tensor(X), training=True) == net_D(X, training=True)"
      ],
      "execution_count": null,
      "outputs": []
    },
    {
      "cell_type": "code",
      "metadata": {
        "id": "EGClkOCdfCZ3"
      },
      "source": [
        ""
      ],
      "execution_count": null,
      "outputs": []
    }
  ]
}