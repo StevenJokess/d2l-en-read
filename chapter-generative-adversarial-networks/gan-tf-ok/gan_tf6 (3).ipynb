{
  "nbformat": 4,
  "nbformat_minor": 0,
  "metadata": {
    "language_info": {
      "codemirror_mode": {
        "name": "ipython",
        "version": 3
      },
      "file_extension": ".py",
      "mimetype": "text/x-python",
      "name": "python",
      "nbconvert_exporter": "python",
      "pygments_lexer": "ipython3",
      "version": "3.7.8-final"
    },
    "orig_nbformat": 2,
    "kernelspec": {
      "name": "python37864bittf2conda1de394c9651a4d19aa25641a40b8d2d8",
      "display_name": "Python 3.7.8 64-bit ('tf2': conda)",
      "language": "python"
    },
    "colab": {
      "name": "gan-tf6.ipynb",
      "provenance": []
    },
    "accelerator": "GPU"
  },
  "cells": [
    {
      "cell_type": "code",
      "metadata": {
        "colab": {
          "base_uri": "https://localhost:8080/"
        },
        "id": "TJlfBa31f1kv",
        "outputId": "61a9edfd-9bb6-4c2e-dc77-0d79cef7459f"
      },
      "source": [
        "!pip install git+https://github.com/d2l-ai/d2l-en"
      ],
      "execution_count": 1,
      "outputs": [
        {
          "output_type": "stream",
          "text": [
            "Collecting git+https://github.com/d2l-ai/d2l-en\n",
            "  Cloning https://github.com/d2l-ai/d2l-en to /tmp/pip-req-build-364kkehr\n",
            "  Running command git clone -q https://github.com/d2l-ai/d2l-en /tmp/pip-req-build-364kkehr\n",
            "Requirement already satisfied (use --upgrade to upgrade): d2l==0.16.2 from git+https://github.com/d2l-ai/d2l-en in /usr/local/lib/python3.7/dist-packages\n",
            "Requirement already satisfied: jupyter in /usr/local/lib/python3.7/dist-packages (from d2l==0.16.2) (1.0.0)\n",
            "Requirement already satisfied: numpy in /usr/local/lib/python3.7/dist-packages (from d2l==0.16.2) (1.19.5)\n",
            "Requirement already satisfied: matplotlib in /usr/local/lib/python3.7/dist-packages (from d2l==0.16.2) (3.2.2)\n",
            "Requirement already satisfied: requests in /usr/local/lib/python3.7/dist-packages (from d2l==0.16.2) (2.23.0)\n",
            "Requirement already satisfied: pandas in /usr/local/lib/python3.7/dist-packages (from d2l==0.16.2) (1.1.5)\n",
            "Requirement already satisfied: nbconvert in /usr/local/lib/python3.7/dist-packages (from jupyter->d2l==0.16.2) (5.6.1)\n",
            "Requirement already satisfied: notebook in /usr/local/lib/python3.7/dist-packages (from jupyter->d2l==0.16.2) (5.3.1)\n",
            "Requirement already satisfied: qtconsole in /usr/local/lib/python3.7/dist-packages (from jupyter->d2l==0.16.2) (5.0.3)\n",
            "Requirement already satisfied: jupyter-console in /usr/local/lib/python3.7/dist-packages (from jupyter->d2l==0.16.2) (5.2.0)\n",
            "Requirement already satisfied: ipywidgets in /usr/local/lib/python3.7/dist-packages (from jupyter->d2l==0.16.2) (7.6.3)\n",
            "Requirement already satisfied: ipykernel in /usr/local/lib/python3.7/dist-packages (from jupyter->d2l==0.16.2) (4.10.1)\n",
            "Requirement already satisfied: cycler>=0.10 in /usr/local/lib/python3.7/dist-packages (from matplotlib->d2l==0.16.2) (0.10.0)\n",
            "Requirement already satisfied: pyparsing!=2.0.4,!=2.1.2,!=2.1.6,>=2.0.1 in /usr/local/lib/python3.7/dist-packages (from matplotlib->d2l==0.16.2) (2.4.7)\n",
            "Requirement already satisfied: kiwisolver>=1.0.1 in /usr/local/lib/python3.7/dist-packages (from matplotlib->d2l==0.16.2) (1.3.1)\n",
            "Requirement already satisfied: python-dateutil>=2.1 in /usr/local/lib/python3.7/dist-packages (from matplotlib->d2l==0.16.2) (2.8.1)\n",
            "Requirement already satisfied: idna<3,>=2.5 in /usr/local/lib/python3.7/dist-packages (from requests->d2l==0.16.2) (2.10)\n",
            "Requirement already satisfied: chardet<4,>=3.0.2 in /usr/local/lib/python3.7/dist-packages (from requests->d2l==0.16.2) (3.0.4)\n",
            "Requirement already satisfied: certifi>=2017.4.17 in /usr/local/lib/python3.7/dist-packages (from requests->d2l==0.16.2) (2020.12.5)\n",
            "Requirement already satisfied: urllib3!=1.25.0,!=1.25.1,<1.26,>=1.21.1 in /usr/local/lib/python3.7/dist-packages (from requests->d2l==0.16.2) (1.24.3)\n",
            "Requirement already satisfied: pytz>=2017.2 in /usr/local/lib/python3.7/dist-packages (from pandas->d2l==0.16.2) (2018.9)\n",
            "Requirement already satisfied: pandocfilters>=1.4.1 in /usr/local/lib/python3.7/dist-packages (from nbconvert->jupyter->d2l==0.16.2) (1.4.3)\n",
            "Requirement already satisfied: bleach in /usr/local/lib/python3.7/dist-packages (from nbconvert->jupyter->d2l==0.16.2) (3.3.0)\n",
            "Requirement already satisfied: pygments in /usr/local/lib/python3.7/dist-packages (from nbconvert->jupyter->d2l==0.16.2) (2.6.1)\n",
            "Requirement already satisfied: jupyter-core in /usr/local/lib/python3.7/dist-packages (from nbconvert->jupyter->d2l==0.16.2) (4.7.1)\n",
            "Requirement already satisfied: testpath in /usr/local/lib/python3.7/dist-packages (from nbconvert->jupyter->d2l==0.16.2) (0.4.4)\n",
            "Requirement already satisfied: nbformat>=4.4 in /usr/local/lib/python3.7/dist-packages (from nbconvert->jupyter->d2l==0.16.2) (5.1.2)\n",
            "Requirement already satisfied: mistune<2,>=0.8.1 in /usr/local/lib/python3.7/dist-packages (from nbconvert->jupyter->d2l==0.16.2) (0.8.4)\n",
            "Requirement already satisfied: entrypoints>=0.2.2 in /usr/local/lib/python3.7/dist-packages (from nbconvert->jupyter->d2l==0.16.2) (0.3)\n",
            "Requirement already satisfied: traitlets>=4.2 in /usr/local/lib/python3.7/dist-packages (from nbconvert->jupyter->d2l==0.16.2) (5.0.5)\n",
            "Requirement already satisfied: jinja2>=2.4 in /usr/local/lib/python3.7/dist-packages (from nbconvert->jupyter->d2l==0.16.2) (2.11.3)\n",
            "Requirement already satisfied: defusedxml in /usr/local/lib/python3.7/dist-packages (from nbconvert->jupyter->d2l==0.16.2) (0.7.1)\n",
            "Requirement already satisfied: jupyter-client>=5.2.0 in /usr/local/lib/python3.7/dist-packages (from notebook->jupyter->d2l==0.16.2) (5.3.5)\n",
            "Requirement already satisfied: tornado>=4 in /usr/local/lib/python3.7/dist-packages (from notebook->jupyter->d2l==0.16.2) (5.1.1)\n",
            "Requirement already satisfied: terminado>=0.8.1 in /usr/local/lib/python3.7/dist-packages (from notebook->jupyter->d2l==0.16.2) (0.9.3)\n",
            "Requirement already satisfied: ipython-genutils in /usr/local/lib/python3.7/dist-packages (from notebook->jupyter->d2l==0.16.2) (0.2.0)\n",
            "Requirement already satisfied: Send2Trash in /usr/local/lib/python3.7/dist-packages (from notebook->jupyter->d2l==0.16.2) (1.5.0)\n",
            "Requirement already satisfied: qtpy in /usr/local/lib/python3.7/dist-packages (from qtconsole->jupyter->d2l==0.16.2) (1.9.0)\n",
            "Requirement already satisfied: pyzmq>=17.1 in /usr/local/lib/python3.7/dist-packages (from qtconsole->jupyter->d2l==0.16.2) (22.0.3)\n",
            "Requirement already satisfied: prompt-toolkit<2.0.0,>=1.0.0 in /usr/local/lib/python3.7/dist-packages (from jupyter-console->jupyter->d2l==0.16.2) (1.0.18)\n",
            "Requirement already satisfied: ipython in /usr/local/lib/python3.7/dist-packages (from jupyter-console->jupyter->d2l==0.16.2) (5.5.0)\n",
            "Requirement already satisfied: widgetsnbextension~=3.5.0 in /usr/local/lib/python3.7/dist-packages (from ipywidgets->jupyter->d2l==0.16.2) (3.5.1)\n",
            "Requirement already satisfied: jupyterlab-widgets>=1.0.0; python_version >= \"3.6\" in /usr/local/lib/python3.7/dist-packages (from ipywidgets->jupyter->d2l==0.16.2) (1.0.0)\n",
            "Requirement already satisfied: six in /usr/local/lib/python3.7/dist-packages (from cycler>=0.10->matplotlib->d2l==0.16.2) (1.15.0)\n",
            "Requirement already satisfied: webencodings in /usr/local/lib/python3.7/dist-packages (from bleach->nbconvert->jupyter->d2l==0.16.2) (0.5.1)\n",
            "Requirement already satisfied: packaging in /usr/local/lib/python3.7/dist-packages (from bleach->nbconvert->jupyter->d2l==0.16.2) (20.9)\n",
            "Requirement already satisfied: jsonschema!=2.5.0,>=2.4 in /usr/local/lib/python3.7/dist-packages (from nbformat>=4.4->nbconvert->jupyter->d2l==0.16.2) (2.6.0)\n",
            "Requirement already satisfied: MarkupSafe>=0.23 in /usr/local/lib/python3.7/dist-packages (from jinja2>=2.4->nbconvert->jupyter->d2l==0.16.2) (1.1.1)\n",
            "Requirement already satisfied: ptyprocess; os_name != \"nt\" in /usr/local/lib/python3.7/dist-packages (from terminado>=0.8.1->notebook->jupyter->d2l==0.16.2) (0.7.0)\n",
            "Requirement already satisfied: wcwidth in /usr/local/lib/python3.7/dist-packages (from prompt-toolkit<2.0.0,>=1.0.0->jupyter-console->jupyter->d2l==0.16.2) (0.2.5)\n",
            "Requirement already satisfied: decorator in /usr/local/lib/python3.7/dist-packages (from ipython->jupyter-console->jupyter->d2l==0.16.2) (4.4.2)\n",
            "Requirement already satisfied: setuptools>=18.5 in /usr/local/lib/python3.7/dist-packages (from ipython->jupyter-console->jupyter->d2l==0.16.2) (54.2.0)\n",
            "Requirement already satisfied: simplegeneric>0.8 in /usr/local/lib/python3.7/dist-packages (from ipython->jupyter-console->jupyter->d2l==0.16.2) (0.8.1)\n",
            "Requirement already satisfied: pickleshare in /usr/local/lib/python3.7/dist-packages (from ipython->jupyter-console->jupyter->d2l==0.16.2) (0.7.5)\n",
            "Requirement already satisfied: pexpect; sys_platform != \"win32\" in /usr/local/lib/python3.7/dist-packages (from ipython->jupyter-console->jupyter->d2l==0.16.2) (4.8.0)\n",
            "Building wheels for collected packages: d2l\n",
            "  Building wheel for d2l (setup.py) ... \u001b[?25l\u001b[?25hdone\n",
            "  Created wheel for d2l: filename=d2l-0.16.2-cp37-none-any.whl size=77221 sha256=18db3d4541d7219527f909315e10913ad035b69a54d601b718c9880b61a5ff6d\n",
            "  Stored in directory: /tmp/pip-ephem-wheel-cache-elmn7w52/wheels/82/6f/b8/8422c7ed664272685e3d139b127f89df39d934704a14b2156c\n",
            "Successfully built d2l\n"
          ],
          "name": "stdout"
        }
      ]
    },
    {
      "cell_type": "code",
      "metadata": {
        "id": "mDDdiwKAfCZG"
      },
      "source": [
        "%matplotlib inline\n",
        "from d2l import tensorflow as d2l\n",
        "import tensorflow as tf"
      ],
      "execution_count": 2,
      "outputs": []
    },
    {
      "cell_type": "code",
      "metadata": {
        "colab": {
          "base_uri": "https://localhost:8080/",
          "height": 35
        },
        "id": "0h49fSNYfCZe",
        "outputId": "6da85c28-69ca-446a-bef5-7b9a6ea8fae0"
      },
      "source": [
        "tf.__version__"
      ],
      "execution_count": 3,
      "outputs": [
        {
          "output_type": "execute_result",
          "data": {
            "application/vnd.google.colaboratory.intrinsic+json": {
              "type": "string"
            },
            "text/plain": [
              "'2.4.1'"
            ]
          },
          "metadata": {
            "tags": []
          },
          "execution_count": 3
        }
      ]
    },
    {
      "cell_type": "code",
      "metadata": {
        "id": "FEFt55FrfCZh"
      },
      "source": [
        "X = d2l.normal([1000, 2], 0.0, 1, tf.float32)\n",
        "A = d2l.tensor([[1, 2], [-0.1, 0.5]], tf.float32)\n",
        "b = d2l.tensor([1, 2], tf.float32)\n",
        "data = d2l.matmul(X, A) + b"
      ],
      "execution_count": 4,
      "outputs": []
    },
    {
      "cell_type": "code",
      "metadata": {
        "colab": {
          "base_uri": "https://localhost:8080/"
        },
        "id": "QB-KbY79fCZj",
        "outputId": "4c036bc0-7302-4664-e651-5a3b02cda75c"
      },
      "source": [
        "X"
      ],
      "execution_count": 5,
      "outputs": [
        {
          "output_type": "execute_result",
          "data": {
            "text/plain": [
              "<tf.Tensor: shape=(1000, 2), dtype=float32, numpy=\n",
              "array([[ 1.0040652 ,  0.29184714],\n",
              "       [ 1.2480775 , -0.84474   ],\n",
              "       [ 1.0353643 ,  1.1052752 ],\n",
              "       ...,\n",
              "       [-0.8798924 ,  0.2163143 ],\n",
              "       [ 0.44361356, -0.09308845],\n",
              "       [ 0.8353574 , -1.5673195 ]], dtype=float32)>"
            ]
          },
          "metadata": {
            "tags": []
          },
          "execution_count": 5
        }
      ]
    },
    {
      "cell_type": "code",
      "metadata": {
        "colab": {
          "base_uri": "https://localhost:8080/",
          "height": 295
        },
        "id": "-oFPrwFcfCZk",
        "outputId": "b58f032d-1c09-418a-ea2f-0aac30c5a2f4"
      },
      "source": [
        "d2l.set_figsize()\n",
        "d2l.plt.scatter(d2l.numpy(data[:100, 0]), d2l.numpy(data[:100, 1]));\n",
        "print(f'The covariance matrix is\\n{d2l.matmul(tf.transpose(A), A)}')"
      ],
      "execution_count": 6,
      "outputs": [
        {
          "output_type": "stream",
          "text": [
            "The covariance matrix is\n",
            "[[1.01 1.95]\n",
            " [1.95 4.25]]\n"
          ],
          "name": "stdout"
        },
        {
          "output_type": "display_data",
          "data": {
            "text/plain": [
              "<Figure size 252x180 with 1 Axes>"
            ],
            "image/svg+xml": "<?xml version=\"1.0\" encoding=\"utf-8\" standalone=\"no\"?>\n<!DOCTYPE svg PUBLIC \"-//W3C//DTD SVG 1.1//EN\"\n  \"http://www.w3.org/Graphics/SVG/1.1/DTD/svg11.dtd\">\n<!-- Created with matplotlib (https://matplotlib.org/) -->\n<svg height=\"166.978125pt\" version=\"1.1\" viewBox=\"0 0 231.442187 166.978125\" width=\"231.442187pt\" xmlns=\"http://www.w3.org/2000/svg\" xmlns:xlink=\"http://www.w3.org/1999/xlink\">\n <defs>\n  <style type=\"text/css\">\n*{stroke-linecap:butt;stroke-linejoin:round;}\n  </style>\n </defs>\n <g id=\"figure_1\">\n  <g id=\"patch_1\">\n   <path d=\"M 0 166.978125 \nL 231.442187 166.978125 \nL 231.442187 0 \nL 0 0 \nz\n\" style=\"fill:none;\"/>\n  </g>\n  <g id=\"axes_1\">\n   <g id=\"patch_2\">\n    <path d=\"M 28.942188 143.1 \nL 224.242188 143.1 \nL 224.242188 7.2 \nL 28.942188 7.2 \nz\n\" style=\"fill:#ffffff;\"/>\n   </g>\n   <g id=\"PathCollection_1\">\n    <defs>\n     <path d=\"M 0 3 \nC 0.795609 3 1.55874 2.683901 2.12132 2.12132 \nC 2.683901 1.55874 3 0.795609 3 0 \nC 3 -0.795609 2.683901 -1.55874 2.12132 -2.12132 \nC 1.55874 -2.683901 0.795609 -3 0 -3 \nC -0.795609 -3 -1.55874 -2.683901 -2.12132 -2.12132 \nC -2.683901 -1.55874 -3 -0.795609 -3 0 \nC -3 0.795609 -2.683901 1.55874 -2.12132 2.12132 \nC -1.55874 2.683901 -0.795609 3 0 3 \nz\n\" id=\"m0a97de740b\" style=\"stroke:#1f77b4;\"/>\n    </defs>\n    <g clip-path=\"url(#p66b9097572)\">\n     <use style=\"fill:#1f77b4;stroke:#1f77b4;\" x=\"166.487465\" xlink:href=\"#m0a97de740b\" y=\"44.537551\"/>\n     <use style=\"fill:#1f77b4;stroke:#1f77b4;\" x=\"182.454605\" xlink:href=\"#m0a97de740b\" y=\"45.809111\"/>\n     <use style=\"fill:#1f77b4;stroke:#1f77b4;\" x=\"164.253415\" xlink:href=\"#m0a97de740b\" y=\"37.103042\"/>\n     <use style=\"fill:#1f77b4;stroke:#1f77b4;\" x=\"97.061538\" xlink:href=\"#m0a97de740b\" y=\"89.175226\"/>\n     <use style=\"fill:#1f77b4;stroke:#1f77b4;\" x=\"47.822449\" xlink:href=\"#m0a97de740b\" y=\"129.335558\"/>\n     <use style=\"fill:#1f77b4;stroke:#1f77b4;\" x=\"94.742774\" xlink:href=\"#m0a97de740b\" y=\"91.886785\"/>\n     <use style=\"fill:#1f77b4;stroke:#1f77b4;\" x=\"214.906319\" xlink:href=\"#m0a97de740b\" y=\"13.377273\"/>\n     <use style=\"fill:#1f77b4;stroke:#1f77b4;\" x=\"113.309832\" xlink:href=\"#m0a97de740b\" y=\"99.525607\"/>\n     <use style=\"fill:#1f77b4;stroke:#1f77b4;\" x=\"85.001926\" xlink:href=\"#m0a97de740b\" y=\"117.13219\"/>\n     <use style=\"fill:#1f77b4;stroke:#1f77b4;\" x=\"115.396565\" xlink:href=\"#m0a97de740b\" y=\"80.21192\"/>\n     <use style=\"fill:#1f77b4;stroke:#1f77b4;\" x=\"78.483901\" xlink:href=\"#m0a97de740b\" y=\"114.541601\"/>\n     <use style=\"fill:#1f77b4;stroke:#1f77b4;\" x=\"204.363126\" xlink:href=\"#m0a97de740b\" y=\"16.560677\"/>\n     <use style=\"fill:#1f77b4;stroke:#1f77b4;\" x=\"110.824969\" xlink:href=\"#m0a97de740b\" y=\"87.167526\"/>\n     <use style=\"fill:#1f77b4;stroke:#1f77b4;\" x=\"103.045407\" xlink:href=\"#m0a97de740b\" y=\"95.099042\"/>\n     <use style=\"fill:#1f77b4;stroke:#1f77b4;\" x=\"159.072724\" xlink:href=\"#m0a97de740b\" y=\"57.588214\"/>\n     <use style=\"fill:#1f77b4;stroke:#1f77b4;\" x=\"97.398529\" xlink:href=\"#m0a97de740b\" y=\"100.388078\"/>\n     <use style=\"fill:#1f77b4;stroke:#1f77b4;\" x=\"103.53312\" xlink:href=\"#m0a97de740b\" y=\"81.552342\"/>\n     <use style=\"fill:#1f77b4;stroke:#1f77b4;\" x=\"40.056666\" xlink:href=\"#m0a97de740b\" y=\"120.052525\"/>\n     <use style=\"fill:#1f77b4;stroke:#1f77b4;\" x=\"115.214351\" xlink:href=\"#m0a97de740b\" y=\"94.057309\"/>\n     <use style=\"fill:#1f77b4;stroke:#1f77b4;\" x=\"130.99062\" xlink:href=\"#m0a97de740b\" y=\"74.765195\"/>\n     <use style=\"fill:#1f77b4;stroke:#1f77b4;\" x=\"85.750663\" xlink:href=\"#m0a97de740b\" y=\"97.319524\"/>\n     <use style=\"fill:#1f77b4;stroke:#1f77b4;\" x=\"60.911206\" xlink:href=\"#m0a97de740b\" y=\"106.904003\"/>\n     <use style=\"fill:#1f77b4;stroke:#1f77b4;\" x=\"89.211788\" xlink:href=\"#m0a97de740b\" y=\"99.323581\"/>\n     <use style=\"fill:#1f77b4;stroke:#1f77b4;\" x=\"110.822622\" xlink:href=\"#m0a97de740b\" y=\"92.85873\"/>\n     <use style=\"fill:#1f77b4;stroke:#1f77b4;\" x=\"111.347366\" xlink:href=\"#m0a97de740b\" y=\"81.583056\"/>\n     <use style=\"fill:#1f77b4;stroke:#1f77b4;\" x=\"150.395593\" xlink:href=\"#m0a97de740b\" y=\"80.246735\"/>\n     <use style=\"fill:#1f77b4;stroke:#1f77b4;\" x=\"48.965186\" xlink:href=\"#m0a97de740b\" y=\"136.922727\"/>\n     <use style=\"fill:#1f77b4;stroke:#1f77b4;\" x=\"95.469921\" xlink:href=\"#m0a97de740b\" y=\"86.565369\"/>\n     <use style=\"fill:#1f77b4;stroke:#1f77b4;\" x=\"102.085977\" xlink:href=\"#m0a97de740b\" y=\"109.757151\"/>\n     <use style=\"fill:#1f77b4;stroke:#1f77b4;\" x=\"69.017139\" xlink:href=\"#m0a97de740b\" y=\"128.894561\"/>\n     <use style=\"fill:#1f77b4;stroke:#1f77b4;\" x=\"68.405607\" xlink:href=\"#m0a97de740b\" y=\"127.788249\"/>\n     <use style=\"fill:#1f77b4;stroke:#1f77b4;\" x=\"95.160882\" xlink:href=\"#m0a97de740b\" y=\"93.343684\"/>\n     <use style=\"fill:#1f77b4;stroke:#1f77b4;\" x=\"147.803859\" xlink:href=\"#m0a97de740b\" y=\"70.076323\"/>\n     <use style=\"fill:#1f77b4;stroke:#1f77b4;\" x=\"92.47152\" xlink:href=\"#m0a97de740b\" y=\"100.82584\"/>\n     <use style=\"fill:#1f77b4;stroke:#1f77b4;\" x=\"127.620571\" xlink:href=\"#m0a97de740b\" y=\"63.900586\"/>\n     <use style=\"fill:#1f77b4;stroke:#1f77b4;\" x=\"111.652877\" xlink:href=\"#m0a97de740b\" y=\"93.072713\"/>\n     <use style=\"fill:#1f77b4;stroke:#1f77b4;\" x=\"136.771523\" xlink:href=\"#m0a97de740b\" y=\"89.468904\"/>\n     <use style=\"fill:#1f77b4;stroke:#1f77b4;\" x=\"93.524541\" xlink:href=\"#m0a97de740b\" y=\"83.346166\"/>\n     <use style=\"fill:#1f77b4;stroke:#1f77b4;\" x=\"123.675992\" xlink:href=\"#m0a97de740b\" y=\"74.000417\"/>\n     <use style=\"fill:#1f77b4;stroke:#1f77b4;\" x=\"104.953721\" xlink:href=\"#m0a97de740b\" y=\"94.574568\"/>\n     <use style=\"fill:#1f77b4;stroke:#1f77b4;\" x=\"74.998176\" xlink:href=\"#m0a97de740b\" y=\"113.693154\"/>\n     <use style=\"fill:#1f77b4;stroke:#1f77b4;\" x=\"105.532559\" xlink:href=\"#m0a97de740b\" y=\"92.744484\"/>\n     <use style=\"fill:#1f77b4;stroke:#1f77b4;\" x=\"95.01905\" xlink:href=\"#m0a97de740b\" y=\"105.007194\"/>\n     <use style=\"fill:#1f77b4;stroke:#1f77b4;\" x=\"124.83173\" xlink:href=\"#m0a97de740b\" y=\"96.205647\"/>\n     <use style=\"fill:#1f77b4;stroke:#1f77b4;\" x=\"54.74974\" xlink:href=\"#m0a97de740b\" y=\"126.601452\"/>\n     <use style=\"fill:#1f77b4;stroke:#1f77b4;\" x=\"161.717559\" xlink:href=\"#m0a97de740b\" y=\"43.367036\"/>\n     <use style=\"fill:#1f77b4;stroke:#1f77b4;\" x=\"37.81946\" xlink:href=\"#m0a97de740b\" y=\"136.000344\"/>\n     <use style=\"fill:#1f77b4;stroke:#1f77b4;\" x=\"188.8501\" xlink:href=\"#m0a97de740b\" y=\"40.185498\"/>\n     <use style=\"fill:#1f77b4;stroke:#1f77b4;\" x=\"148.725429\" xlink:href=\"#m0a97de740b\" y=\"68.824088\"/>\n     <use style=\"fill:#1f77b4;stroke:#1f77b4;\" x=\"91.05303\" xlink:href=\"#m0a97de740b\" y=\"95.206201\"/>\n     <use style=\"fill:#1f77b4;stroke:#1f77b4;\" x=\"215.364915\" xlink:href=\"#m0a97de740b\" y=\"22.192191\"/>\n     <use style=\"fill:#1f77b4;stroke:#1f77b4;\" x=\"119.546877\" xlink:href=\"#m0a97de740b\" y=\"85.998165\"/>\n     <use style=\"fill:#1f77b4;stroke:#1f77b4;\" x=\"118.829373\" xlink:href=\"#m0a97de740b\" y=\"81.009112\"/>\n     <use style=\"fill:#1f77b4;stroke:#1f77b4;\" x=\"161.117128\" xlink:href=\"#m0a97de740b\" y=\"48.565693\"/>\n     <use style=\"fill:#1f77b4;stroke:#1f77b4;\" x=\"81.957889\" xlink:href=\"#m0a97de740b\" y=\"100.493029\"/>\n     <use style=\"fill:#1f77b4;stroke:#1f77b4;\" x=\"86.683878\" xlink:href=\"#m0a97de740b\" y=\"100.569438\"/>\n     <use style=\"fill:#1f77b4;stroke:#1f77b4;\" x=\"130.437654\" xlink:href=\"#m0a97de740b\" y=\"72.273386\"/>\n     <use style=\"fill:#1f77b4;stroke:#1f77b4;\" x=\"170.776338\" xlink:href=\"#m0a97de740b\" y=\"45.750359\"/>\n     <use style=\"fill:#1f77b4;stroke:#1f77b4;\" x=\"66.176533\" xlink:href=\"#m0a97de740b\" y=\"116.283327\"/>\n     <use style=\"fill:#1f77b4;stroke:#1f77b4;\" x=\"55.736858\" xlink:href=\"#m0a97de740b\" y=\"104.270252\"/>\n     <use style=\"fill:#1f77b4;stroke:#1f77b4;\" x=\"58.258825\" xlink:href=\"#m0a97de740b\" y=\"103.738264\"/>\n     <use style=\"fill:#1f77b4;stroke:#1f77b4;\" x=\"108.957861\" xlink:href=\"#m0a97de740b\" y=\"98.333908\"/>\n     <use style=\"fill:#1f77b4;stroke:#1f77b4;\" x=\"143.241474\" xlink:href=\"#m0a97de740b\" y=\"66.433287\"/>\n     <use style=\"fill:#1f77b4;stroke:#1f77b4;\" x=\"77.295134\" xlink:href=\"#m0a97de740b\" y=\"112.783317\"/>\n     <use style=\"fill:#1f77b4;stroke:#1f77b4;\" x=\"142.91688\" xlink:href=\"#m0a97de740b\" y=\"74.121465\"/>\n     <use style=\"fill:#1f77b4;stroke:#1f77b4;\" x=\"111.498842\" xlink:href=\"#m0a97de740b\" y=\"88.067816\"/>\n     <use style=\"fill:#1f77b4;stroke:#1f77b4;\" x=\"151.70341\" xlink:href=\"#m0a97de740b\" y=\"65.420158\"/>\n     <use style=\"fill:#1f77b4;stroke:#1f77b4;\" x=\"60.80103\" xlink:href=\"#m0a97de740b\" y=\"123.547568\"/>\n     <use style=\"fill:#1f77b4;stroke:#1f77b4;\" x=\"96.997808\" xlink:href=\"#m0a97de740b\" y=\"72.464325\"/>\n     <use style=\"fill:#1f77b4;stroke:#1f77b4;\" x=\"147.991641\" xlink:href=\"#m0a97de740b\" y=\"72.817355\"/>\n     <use style=\"fill:#1f77b4;stroke:#1f77b4;\" x=\"141.968482\" xlink:href=\"#m0a97de740b\" y=\"66.136343\"/>\n     <use style=\"fill:#1f77b4;stroke:#1f77b4;\" x=\"146.224542\" xlink:href=\"#m0a97de740b\" y=\"71.930584\"/>\n     <use style=\"fill:#1f77b4;stroke:#1f77b4;\" x=\"151.663678\" xlink:href=\"#m0a97de740b\" y=\"46.089626\"/>\n     <use style=\"fill:#1f77b4;stroke:#1f77b4;\" x=\"89.270096\" xlink:href=\"#m0a97de740b\" y=\"100.821504\"/>\n     <use style=\"fill:#1f77b4;stroke:#1f77b4;\" x=\"49.172856\" xlink:href=\"#m0a97de740b\" y=\"135.056603\"/>\n     <use style=\"fill:#1f77b4;stroke:#1f77b4;\" x=\"119.576538\" xlink:href=\"#m0a97de740b\" y=\"79.968572\"/>\n     <use style=\"fill:#1f77b4;stroke:#1f77b4;\" x=\"80.514107\" xlink:href=\"#m0a97de740b\" y=\"103.552465\"/>\n     <use style=\"fill:#1f77b4;stroke:#1f77b4;\" x=\"73.982411\" xlink:href=\"#m0a97de740b\" y=\"93.434787\"/>\n     <use style=\"fill:#1f77b4;stroke:#1f77b4;\" x=\"93.734369\" xlink:href=\"#m0a97de740b\" y=\"136.09472\"/>\n     <use style=\"fill:#1f77b4;stroke:#1f77b4;\" x=\"110.10696\" xlink:href=\"#m0a97de740b\" y=\"75.842467\"/>\n     <use style=\"fill:#1f77b4;stroke:#1f77b4;\" x=\"96.054508\" xlink:href=\"#m0a97de740b\" y=\"96.314985\"/>\n     <use style=\"fill:#1f77b4;stroke:#1f77b4;\" x=\"144.806081\" xlink:href=\"#m0a97de740b\" y=\"71.631257\"/>\n     <use style=\"fill:#1f77b4;stroke:#1f77b4;\" x=\"124.663425\" xlink:href=\"#m0a97de740b\" y=\"71.759292\"/>\n     <use style=\"fill:#1f77b4;stroke:#1f77b4;\" x=\"159.558524\" xlink:href=\"#m0a97de740b\" y=\"51.027084\"/>\n     <use style=\"fill:#1f77b4;stroke:#1f77b4;\" x=\"81.857444\" xlink:href=\"#m0a97de740b\" y=\"117.056464\"/>\n     <use style=\"fill:#1f77b4;stroke:#1f77b4;\" x=\"119.371951\" xlink:href=\"#m0a97de740b\" y=\"73.116104\"/>\n     <use style=\"fill:#1f77b4;stroke:#1f77b4;\" x=\"192.644116\" xlink:href=\"#m0a97de740b\" y=\"19.721812\"/>\n     <use style=\"fill:#1f77b4;stroke:#1f77b4;\" x=\"171.960074\" xlink:href=\"#m0a97de740b\" y=\"46.262228\"/>\n     <use style=\"fill:#1f77b4;stroke:#1f77b4;\" x=\"186.403079\" xlink:href=\"#m0a97de740b\" y=\"36.348819\"/>\n     <use style=\"fill:#1f77b4;stroke:#1f77b4;\" x=\"74.408357\" xlink:href=\"#m0a97de740b\" y=\"112.134042\"/>\n     <use style=\"fill:#1f77b4;stroke:#1f77b4;\" x=\"203.193131\" xlink:href=\"#m0a97de740b\" y=\"24.377766\"/>\n     <use style=\"fill:#1f77b4;stroke:#1f77b4;\" x=\"93.846051\" xlink:href=\"#m0a97de740b\" y=\"93.539325\"/>\n     <use style=\"fill:#1f77b4;stroke:#1f77b4;\" x=\"88.725879\" xlink:href=\"#m0a97de740b\" y=\"118.40854\"/>\n     <use style=\"fill:#1f77b4;stroke:#1f77b4;\" x=\"147.403137\" xlink:href=\"#m0a97de740b\" y=\"76.361834\"/>\n     <use style=\"fill:#1f77b4;stroke:#1f77b4;\" x=\"74.571282\" xlink:href=\"#m0a97de740b\" y=\"120.433707\"/>\n     <use style=\"fill:#1f77b4;stroke:#1f77b4;\" x=\"69.540234\" xlink:href=\"#m0a97de740b\" y=\"113.309229\"/>\n     <use style=\"fill:#1f77b4;stroke:#1f77b4;\" x=\"175.33743\" xlink:href=\"#m0a97de740b\" y=\"59.431182\"/>\n     <use style=\"fill:#1f77b4;stroke:#1f77b4;\" x=\"69.617835\" xlink:href=\"#m0a97de740b\" y=\"129.29283\"/>\n     <use style=\"fill:#1f77b4;stroke:#1f77b4;\" x=\"81.365048\" xlink:href=\"#m0a97de740b\" y=\"98.572068\"/>\n     <use style=\"fill:#1f77b4;stroke:#1f77b4;\" x=\"72.860051\" xlink:href=\"#m0a97de740b\" y=\"116.156825\"/>\n    </g>\n   </g>\n   <g id=\"matplotlib.axis_1\">\n    <g id=\"xtick_1\">\n     <g id=\"line2d_1\">\n      <defs>\n       <path d=\"M 0 0 \nL 0 3.5 \n\" id=\"mc121f1dc0a\" style=\"stroke:#000000;stroke-width:0.8;\"/>\n      </defs>\n      <g>\n       <use style=\"stroke:#000000;stroke-width:0.8;\" x=\"33.682926\" xlink:href=\"#mc121f1dc0a\" y=\"143.1\"/>\n      </g>\n     </g>\n     <g id=\"text_1\">\n      <!-- −1 -->\n      <defs>\n       <path d=\"M 10.59375 35.5 \nL 73.1875 35.5 \nL 73.1875 27.203125 \nL 10.59375 27.203125 \nz\n\" id=\"DejaVuSans-8722\"/>\n       <path d=\"M 12.40625 8.296875 \nL 28.515625 8.296875 \nL 28.515625 63.921875 \nL 10.984375 60.40625 \nL 10.984375 69.390625 \nL 28.421875 72.90625 \nL 38.28125 72.90625 \nL 38.28125 8.296875 \nL 54.390625 8.296875 \nL 54.390625 0 \nL 12.40625 0 \nz\n\" id=\"DejaVuSans-49\"/>\n      </defs>\n      <g transform=\"translate(26.311833 157.698438)scale(0.1 -0.1)\">\n       <use xlink:href=\"#DejaVuSans-8722\"/>\n       <use x=\"83.789062\" xlink:href=\"#DejaVuSans-49\"/>\n      </g>\n     </g>\n    </g>\n    <g id=\"xtick_2\">\n     <g id=\"line2d_2\">\n      <g>\n       <use style=\"stroke:#000000;stroke-width:0.8;\" x=\"78.324901\" xlink:href=\"#mc121f1dc0a\" y=\"143.1\"/>\n      </g>\n     </g>\n     <g id=\"text_2\">\n      <!-- 0 -->\n      <defs>\n       <path d=\"M 31.78125 66.40625 \nQ 24.171875 66.40625 20.328125 58.90625 \nQ 16.5 51.421875 16.5 36.375 \nQ 16.5 21.390625 20.328125 13.890625 \nQ 24.171875 6.390625 31.78125 6.390625 \nQ 39.453125 6.390625 43.28125 13.890625 \nQ 47.125 21.390625 47.125 36.375 \nQ 47.125 51.421875 43.28125 58.90625 \nQ 39.453125 66.40625 31.78125 66.40625 \nz\nM 31.78125 74.21875 \nQ 44.046875 74.21875 50.515625 64.515625 \nQ 56.984375 54.828125 56.984375 36.375 \nQ 56.984375 17.96875 50.515625 8.265625 \nQ 44.046875 -1.421875 31.78125 -1.421875 \nQ 19.53125 -1.421875 13.0625 8.265625 \nQ 6.59375 17.96875 6.59375 36.375 \nQ 6.59375 54.828125 13.0625 64.515625 \nQ 19.53125 74.21875 31.78125 74.21875 \nz\n\" id=\"DejaVuSans-48\"/>\n      </defs>\n      <g transform=\"translate(75.143651 157.698438)scale(0.1 -0.1)\">\n       <use xlink:href=\"#DejaVuSans-48\"/>\n      </g>\n     </g>\n    </g>\n    <g id=\"xtick_3\">\n     <g id=\"line2d_3\">\n      <g>\n       <use style=\"stroke:#000000;stroke-width:0.8;\" x=\"122.966876\" xlink:href=\"#mc121f1dc0a\" y=\"143.1\"/>\n      </g>\n     </g>\n     <g id=\"text_3\">\n      <!-- 1 -->\n      <g transform=\"translate(119.785626 157.698438)scale(0.1 -0.1)\">\n       <use xlink:href=\"#DejaVuSans-49\"/>\n      </g>\n     </g>\n    </g>\n    <g id=\"xtick_4\">\n     <g id=\"line2d_4\">\n      <g>\n       <use style=\"stroke:#000000;stroke-width:0.8;\" x=\"167.608851\" xlink:href=\"#mc121f1dc0a\" y=\"143.1\"/>\n      </g>\n     </g>\n     <g id=\"text_4\">\n      <!-- 2 -->\n      <defs>\n       <path d=\"M 19.1875 8.296875 \nL 53.609375 8.296875 \nL 53.609375 0 \nL 7.328125 0 \nL 7.328125 8.296875 \nQ 12.9375 14.109375 22.625 23.890625 \nQ 32.328125 33.6875 34.8125 36.53125 \nQ 39.546875 41.84375 41.421875 45.53125 \nQ 43.3125 49.21875 43.3125 52.78125 \nQ 43.3125 58.59375 39.234375 62.25 \nQ 35.15625 65.921875 28.609375 65.921875 \nQ 23.96875 65.921875 18.8125 64.3125 \nQ 13.671875 62.703125 7.8125 59.421875 \nL 7.8125 69.390625 \nQ 13.765625 71.78125 18.9375 73 \nQ 24.125 74.21875 28.421875 74.21875 \nQ 39.75 74.21875 46.484375 68.546875 \nQ 53.21875 62.890625 53.21875 53.421875 \nQ 53.21875 48.921875 51.53125 44.890625 \nQ 49.859375 40.875 45.40625 35.40625 \nQ 44.1875 33.984375 37.640625 27.21875 \nQ 31.109375 20.453125 19.1875 8.296875 \nz\n\" id=\"DejaVuSans-50\"/>\n      </defs>\n      <g transform=\"translate(164.427601 157.698438)scale(0.1 -0.1)\">\n       <use xlink:href=\"#DejaVuSans-50\"/>\n      </g>\n     </g>\n    </g>\n    <g id=\"xtick_5\">\n     <g id=\"line2d_5\">\n      <g>\n       <use style=\"stroke:#000000;stroke-width:0.8;\" x=\"212.250825\" xlink:href=\"#mc121f1dc0a\" y=\"143.1\"/>\n      </g>\n     </g>\n     <g id=\"text_5\">\n      <!-- 3 -->\n      <defs>\n       <path d=\"M 40.578125 39.3125 \nQ 47.65625 37.796875 51.625 33 \nQ 55.609375 28.21875 55.609375 21.1875 \nQ 55.609375 10.40625 48.1875 4.484375 \nQ 40.765625 -1.421875 27.09375 -1.421875 \nQ 22.515625 -1.421875 17.65625 -0.515625 \nQ 12.796875 0.390625 7.625 2.203125 \nL 7.625 11.71875 \nQ 11.71875 9.328125 16.59375 8.109375 \nQ 21.484375 6.890625 26.8125 6.890625 \nQ 36.078125 6.890625 40.9375 10.546875 \nQ 45.796875 14.203125 45.796875 21.1875 \nQ 45.796875 27.640625 41.28125 31.265625 \nQ 36.765625 34.90625 28.71875 34.90625 \nL 20.21875 34.90625 \nL 20.21875 43.015625 \nL 29.109375 43.015625 \nQ 36.375 43.015625 40.234375 45.921875 \nQ 44.09375 48.828125 44.09375 54.296875 \nQ 44.09375 59.90625 40.109375 62.90625 \nQ 36.140625 65.921875 28.71875 65.921875 \nQ 24.65625 65.921875 20.015625 65.03125 \nQ 15.375 64.15625 9.8125 62.3125 \nL 9.8125 71.09375 \nQ 15.4375 72.65625 20.34375 73.4375 \nQ 25.25 74.21875 29.59375 74.21875 \nQ 40.828125 74.21875 47.359375 69.109375 \nQ 53.90625 64.015625 53.90625 55.328125 \nQ 53.90625 49.265625 50.4375 45.09375 \nQ 46.96875 40.921875 40.578125 39.3125 \nz\n\" id=\"DejaVuSans-51\"/>\n      </defs>\n      <g transform=\"translate(209.069575 157.698438)scale(0.1 -0.1)\">\n       <use xlink:href=\"#DejaVuSans-51\"/>\n      </g>\n     </g>\n    </g>\n   </g>\n   <g id=\"matplotlib.axis_2\">\n    <g id=\"ytick_1\">\n     <g id=\"line2d_6\">\n      <defs>\n       <path d=\"M 0 0 \nL -3.5 0 \n\" id=\"m21d4521490\" style=\"stroke:#000000;stroke-width:0.8;\"/>\n      </defs>\n      <g>\n       <use style=\"stroke:#000000;stroke-width:0.8;\" x=\"28.942188\" xlink:href=\"#m21d4521490\" y=\"142.025581\"/>\n      </g>\n     </g>\n     <g id=\"text_6\">\n      <!-- −2 -->\n      <g transform=\"translate(7.2 145.8248)scale(0.1 -0.1)\">\n       <use xlink:href=\"#DejaVuSans-8722\"/>\n       <use x=\"83.789062\" xlink:href=\"#DejaVuSans-50\"/>\n      </g>\n     </g>\n    </g>\n    <g id=\"ytick_2\">\n     <g id=\"line2d_7\">\n      <g>\n       <use style=\"stroke:#000000;stroke-width:0.8;\" x=\"28.942188\" xlink:href=\"#m21d4521490\" y=\"110.34304\"/>\n      </g>\n     </g>\n     <g id=\"text_7\">\n      <!-- 0 -->\n      <g transform=\"translate(15.579688 114.142258)scale(0.1 -0.1)\">\n       <use xlink:href=\"#DejaVuSans-48\"/>\n      </g>\n     </g>\n    </g>\n    <g id=\"ytick_3\">\n     <g id=\"line2d_8\">\n      <g>\n       <use style=\"stroke:#000000;stroke-width:0.8;\" x=\"28.942188\" xlink:href=\"#m21d4521490\" y=\"78.660498\"/>\n      </g>\n     </g>\n     <g id=\"text_8\">\n      <!-- 2 -->\n      <g transform=\"translate(15.579688 82.459717)scale(0.1 -0.1)\">\n       <use xlink:href=\"#DejaVuSans-50\"/>\n      </g>\n     </g>\n    </g>\n    <g id=\"ytick_4\">\n     <g id=\"line2d_9\">\n      <g>\n       <use style=\"stroke:#000000;stroke-width:0.8;\" x=\"28.942188\" xlink:href=\"#m21d4521490\" y=\"46.977957\"/>\n      </g>\n     </g>\n     <g id=\"text_9\">\n      <!-- 4 -->\n      <defs>\n       <path d=\"M 37.796875 64.3125 \nL 12.890625 25.390625 \nL 37.796875 25.390625 \nz\nM 35.203125 72.90625 \nL 47.609375 72.90625 \nL 47.609375 25.390625 \nL 58.015625 25.390625 \nL 58.015625 17.1875 \nL 47.609375 17.1875 \nL 47.609375 0 \nL 37.796875 0 \nL 37.796875 17.1875 \nL 4.890625 17.1875 \nL 4.890625 26.703125 \nz\n\" id=\"DejaVuSans-52\"/>\n      </defs>\n      <g transform=\"translate(15.579688 50.777176)scale(0.1 -0.1)\">\n       <use xlink:href=\"#DejaVuSans-52\"/>\n      </g>\n     </g>\n    </g>\n    <g id=\"ytick_5\">\n     <g id=\"line2d_10\">\n      <g>\n       <use style=\"stroke:#000000;stroke-width:0.8;\" x=\"28.942188\" xlink:href=\"#m21d4521490\" y=\"15.295416\"/>\n      </g>\n     </g>\n     <g id=\"text_10\">\n      <!-- 6 -->\n      <defs>\n       <path d=\"M 33.015625 40.375 \nQ 26.375 40.375 22.484375 35.828125 \nQ 18.609375 31.296875 18.609375 23.390625 \nQ 18.609375 15.53125 22.484375 10.953125 \nQ 26.375 6.390625 33.015625 6.390625 \nQ 39.65625 6.390625 43.53125 10.953125 \nQ 47.40625 15.53125 47.40625 23.390625 \nQ 47.40625 31.296875 43.53125 35.828125 \nQ 39.65625 40.375 33.015625 40.375 \nz\nM 52.59375 71.296875 \nL 52.59375 62.3125 \nQ 48.875 64.0625 45.09375 64.984375 \nQ 41.3125 65.921875 37.59375 65.921875 \nQ 27.828125 65.921875 22.671875 59.328125 \nQ 17.53125 52.734375 16.796875 39.40625 \nQ 19.671875 43.65625 24.015625 45.921875 \nQ 28.375 48.1875 33.59375 48.1875 \nQ 44.578125 48.1875 50.953125 41.515625 \nQ 57.328125 34.859375 57.328125 23.390625 \nQ 57.328125 12.15625 50.6875 5.359375 \nQ 44.046875 -1.421875 33.015625 -1.421875 \nQ 20.359375 -1.421875 13.671875 8.265625 \nQ 6.984375 17.96875 6.984375 36.375 \nQ 6.984375 53.65625 15.1875 63.9375 \nQ 23.390625 74.21875 37.203125 74.21875 \nQ 40.921875 74.21875 44.703125 73.484375 \nQ 48.484375 72.75 52.59375 71.296875 \nz\n\" id=\"DejaVuSans-54\"/>\n      </defs>\n      <g transform=\"translate(15.579688 19.094634)scale(0.1 -0.1)\">\n       <use xlink:href=\"#DejaVuSans-54\"/>\n      </g>\n     </g>\n    </g>\n   </g>\n   <g id=\"patch_3\">\n    <path d=\"M 28.942188 143.1 \nL 28.942188 7.2 \n\" style=\"fill:none;stroke:#000000;stroke-linecap:square;stroke-linejoin:miter;stroke-width:0.8;\"/>\n   </g>\n   <g id=\"patch_4\">\n    <path d=\"M 224.242188 143.1 \nL 224.242188 7.2 \n\" style=\"fill:none;stroke:#000000;stroke-linecap:square;stroke-linejoin:miter;stroke-width:0.8;\"/>\n   </g>\n   <g id=\"patch_5\">\n    <path d=\"M 28.942188 143.1 \nL 224.242188 143.1 \n\" style=\"fill:none;stroke:#000000;stroke-linecap:square;stroke-linejoin:miter;stroke-width:0.8;\"/>\n   </g>\n   <g id=\"patch_6\">\n    <path d=\"M 28.942188 7.2 \nL 224.242188 7.2 \n\" style=\"fill:none;stroke:#000000;stroke-linecap:square;stroke-linejoin:miter;stroke-width:0.8;\"/>\n   </g>\n  </g>\n </g>\n <defs>\n  <clipPath id=\"p66b9097572\">\n   <rect height=\"135.9\" width=\"195.3\" x=\"28.942188\" y=\"7.2\"/>\n  </clipPath>\n </defs>\n</svg>\n"
          },
          "metadata": {
            "tags": [],
            "needs_background": "light"
          }
        }
      ]
    },
    {
      "cell_type": "code",
      "metadata": {
        "id": "AdU-qfIDfCZk"
      },
      "source": [
        "batch_size = 8\n",
        "data_iter = d2l.load_array((data,), batch_size)"
      ],
      "execution_count": 7,
      "outputs": []
    },
    {
      "cell_type": "code",
      "metadata": {
        "id": "VHq4T0JsfCZl"
      },
      "source": [
        "net_G = tf.keras.Sequential()\n",
        "net_G.add(tf.keras.layers.Dense(2))"
      ],
      "execution_count": 8,
      "outputs": []
    },
    {
      "cell_type": "code",
      "metadata": {
        "id": "feHdkPZ6fCZm"
      },
      "source": [
        "net_D = tf.keras.Sequential()\n",
        "net_D.add(tf.keras.layers.Dense(5, activation='tanh'))\n",
        "net_D.add(tf.keras.layers.Dense(3, activation='tanh'))\n",
        "net_D.add(tf.keras.layers.Dense(1))"
      ],
      "execution_count": 9,
      "outputs": []
    },
    {
      "cell_type": "markdown",
      "metadata": {
        "id": "G1SzH2cCfCZm"
      },
      "source": [
        "https://codingnote.cc/p/289284/"
      ]
    },
    {
      "cell_type": "code",
      "metadata": {
        "id": "TR8-QgxEgeeh"
      },
      "source": [
        "batch_size = X.shape[0]\n"
      ],
      "execution_count": 10,
      "outputs": []
    },
    {
      "cell_type": "code",
      "metadata": {
        "colab": {
          "base_uri": "https://localhost:8080/"
        },
        "id": "NfJsIX2vgi7U",
        "outputId": "1d52c3cc-5835-42ae-bfd1-e7de2f736acb"
      },
      "source": [
        "print(batch_size)"
      ],
      "execution_count": 11,
      "outputs": [
        {
          "output_type": "stream",
          "text": [
            "1000\n"
          ],
          "name": "stdout"
        }
      ]
    },
    {
      "cell_type": "code",
      "metadata": {
        "id": "BWnCMJd6hFnE"
      },
      "source": [
        "ones = tf.ones_like(batch_size)"
      ],
      "execution_count": 12,
      "outputs": []
    },
    {
      "cell_type": "code",
      "metadata": {
        "colab": {
          "base_uri": "https://localhost:8080/"
        },
        "id": "gX-5IOKehHnD",
        "outputId": "8ec271d6-90bd-44e0-bd53-55befb976620"
      },
      "source": [
        "print(ones)"
      ],
      "execution_count": 13,
      "outputs": [
        {
          "output_type": "stream",
          "text": [
            "tf.Tensor(1, shape=(), dtype=int32)\n"
          ],
          "name": "stdout"
        }
      ]
    },
    {
      "cell_type": "code",
      "metadata": {
        "id": "qe6oElpziDLQ"
      },
      "source": [
        "#@save\n",
        "def update_D(X, Z, net_D, net_G, loss, trainer_D):\n",
        "    \"\"\"Update discriminator.\"\"\"\n",
        "    batch_size = X.shape[0]\n",
        "    ones = tf.ones_like(batch_size, tf.float32)# , device=X.device)\n",
        "    zeros = tf.zeros_like(batch_size, tf.float32)# , device=X.device)\n",
        "    with tf.GradientTape() as D_tape:\n",
        "        real_Y = net_D(X, training=True)\n",
        "        fake_X = net_G(X, training=True)\n",
        "        # Do not need to compute gradient for `net_G`, detach it from\n",
        "        # computing gradients.\n",
        "        fake_Y = net_D(tf.stop_gradient(fake_X), training=False)\n",
        "        loss_D = (loss(ones, real_Y) + loss(zeros, fake_Y)) / 2\n",
        "    grads = D_tape.gradient(loss_D, net_D.trainable_variables)\n",
        "    trainer_D.apply_gradients(zip(grads, net_D.trainable_weights))\n",
        "    return float(loss_D)"
      ],
      "execution_count": 14,
      "outputs": []
    },
    {
      "cell_type": "code",
      "metadata": {
        "id": "-YonJDSefCZn"
      },
      "source": [
        "#@save\n",
        "def update_G(Z, net_D, net_G, loss, trainer_G):\n",
        "    \"\"\"Update generator.\"\"\"\n",
        "    batch_size = Z.shape[0]\n",
        "    ones = tf.ones_like(batch_size, tf.float32)\n",
        "    with tf.GradientTape() as G_tape:\n",
        "        # We could reuse `fake_X` from `update_D` to save computation\n",
        "        fake_X = net_G(Z, training=True)\n",
        "        # Recomputing `fake_Y` is needed since `net_D` is changed\n",
        "        fake_Y = net_D(fake_X, training=True)\n",
        "        loss_G = loss(ones, fake_Y)\n",
        "    grads = G_tape.gradient(loss_G, net_G.trainable_variables) \n",
        "    trainer_G.apply_gradients(zip(grads, net_G.trainable_weights))\n",
        "    return float(loss_G)"
      ],
      "execution_count": 15,
      "outputs": []
    },
    {
      "cell_type": "markdown",
      "metadata": {
        "id": "k2A_X73VfCZp"
      },
      "source": [
        "from_logits=True\n",
        "https://github.com/thisisiron/TF2-GAN/blob/master/gan/train.py"
      ]
    },
    {
      "cell_type": "markdown",
      "metadata": {
        "id": "ABRQ9GJKfCZp"
      },
      "source": [
        "tf.nn.sigmoid_cross_entropy_with_logits https://www.tensorflow.org/tutorials/generative/cvae"
      ]
    },
    {
      "cell_type": "code",
      "metadata": {
        "id": "_PUueFvmfCZq"
      },
      "source": [
        "def train(net_D, net_G, data_iter, num_epochs, lr_D, lr_G, latent_dim, data):\n",
        "    loss = tf.keras.losses.BinaryCrossentropy(reduction=\n",
        "                tf.keras.losses.Reduction.SUM)\n",
        "    tf.keras.initializers.RandomNormal(net_D, stddev=0.02)\n",
        "    tf.keras.initializers.RandomNormal(net_G, stddev=0.02)\n",
        "    trainer_D = tf.keras.optimizers.Adam(learning_rate=lr_D)\n",
        "    trainer_G = tf.keras.optimizers.Adam(learning_rate=lr_G)\n",
        "    net_D.compile(optimizer=trainer_D)\n",
        "    net_G.compile(optimizer=trainer_G)\n",
        "    animator = d2l.Animator(xlabel='epoch', ylabel='loss',\n",
        "                            xlim=[1, num_epochs], nrows=2, figsize=(5, 5),\n",
        "                            legend=['discriminator', 'generator'])\n",
        "    animator.fig.subplots_adjust(hspace=0.3)\n",
        "    for epoch in range(num_epochs):\n",
        "        # Train one epoch\n",
        "        timer = d2l.Timer()\n",
        "        metric = d2l.Accumulator(3)  # loss_D, loss_G, num_examples\n",
        "        for (X,) in data_iter:\n",
        "            batch_size = X.shape[0]\n",
        "            Z = d2l.normal([batch_size, latent_dim], 0, 1, tf.float32)\n",
        "            metric.add(update_D(X, Z, net_D, net_G, loss, trainer_D),\n",
        "                       update_G(Z, net_D, net_G, loss, trainer_G),\n",
        "                       batch_size)\n",
        "        # Visualize generated examples\n",
        "        Z = d2l.normal([100, latent_dim], 0, 1, tf.float32)\n",
        "        fake_X = net_G(tf.stop_gradient(Z), training=False).numpy()\n",
        "        animator.axes[1].cla()\n",
        "        animator.axes[1].scatter(data[:, 0], data[:, 1])\n",
        "        animator.axes[1].scatter(fake_X[:, 0], fake_X[:, 1])\n",
        "        animator.axes[1].legend(['real', 'generated'])\n",
        "        # Show the losses\n",
        "        loss_D, loss_G = metric[0]/metric[2], metric[1]/metric[2]\n",
        "        animator.add(epoch + 1, (loss_D, loss_G))\n",
        "    print(f'loss_D {loss_D:.3f}, loss_G {loss_G:.3f}, '\n",
        "          f'{metric[2] / timer.stop():.1f} examples/sec')"
      ],
      "execution_count": 18,
      "outputs": []
    },
    {
      "cell_type": "code",
      "metadata": {
        "colab": {
          "base_uri": "https://localhost:8080/",
          "height": 442
        },
        "id": "96WhJC5JfCZr",
        "outputId": "582a23d9-4874-461f-b518-57e5027fea33"
      },
      "source": [
        "lr_D, lr_G, latent_dim, num_epochs = 0.05, 0.005, 2, 20\n",
        "train(net_D, net_G, data_iter, num_epochs, lr_D, lr_G,\n",
        "      latent_dim, d2l.numpy(data[:100]))"
      ],
      "execution_count": 19,
      "outputs": [
        {
          "output_type": "stream",
          "text": [
            "loss_D 0.683, loss_G 0.683, 267.2 examples/sec\n"
          ],
          "name": "stdout"
        },
        {
          "output_type": "display_data",
          "data": {
            "text/plain": [
              "<Figure size 360x360 with 2 Axes>"
            ],
            "image/svg+xml": "<?xml version=\"1.0\" encoding=\"utf-8\" standalone=\"no\"?>\n<!DOCTYPE svg PUBLIC \"-//W3C//DTD SVG 1.1//EN\"\n  \"http://www.w3.org/Graphics/SVG/1.1/DTD/svg11.dtd\">\n<!-- Created with matplotlib (https://matplotlib.org/) -->\n<svg height=\"302.878125pt\" version=\"1.1\" viewBox=\"0 0 341.114062 302.878125\" width=\"341.114062pt\" xmlns=\"http://www.w3.org/2000/svg\" xmlns:xlink=\"http://www.w3.org/1999/xlink\">\n <defs>\n  <style type=\"text/css\">\n*{stroke-linecap:butt;stroke-linejoin:round;}\n  </style>\n </defs>\n <g id=\"figure_1\">\n  <g id=\"patch_1\">\n   <path d=\"M 0 302.878125 \nL 341.114062 302.878125 \nL 341.114062 0 \nL 0 0 \nz\n\" style=\"fill:none;\"/>\n  </g>\n  <g id=\"axes_1\">\n   <g id=\"patch_2\">\n    <path d=\"M 43.78125 125.373913 \nL 322.78125 125.373913 \nL 322.78125 7.2 \nL 43.78125 7.2 \nz\n\" style=\"fill:#ffffff;\"/>\n   </g>\n   <g id=\"matplotlib.axis_1\">\n    <g id=\"xtick_1\">\n     <g id=\"line2d_1\">\n      <path clip-path=\"url(#pa45e02b19e)\" d=\"M 65.807566 125.373913 \nL 65.807566 7.2 \n\" style=\"fill:none;stroke:#b0b0b0;stroke-linecap:square;stroke-width:0.8;\"/>\n     </g>\n     <g id=\"line2d_2\">\n      <defs>\n       <path d=\"M 0 0 \nL 0 3.5 \n\" id=\"m29d32900cd\" style=\"stroke:#000000;stroke-width:0.8;\"/>\n      </defs>\n      <g>\n       <use style=\"stroke:#000000;stroke-width:0.8;\" x=\"65.807566\" xlink:href=\"#m29d32900cd\" y=\"125.373913\"/>\n      </g>\n     </g>\n     <g id=\"text_1\">\n      <!-- 2.5 -->\n      <defs>\n       <path d=\"M 19.1875 8.296875 \nL 53.609375 8.296875 \nL 53.609375 0 \nL 7.328125 0 \nL 7.328125 8.296875 \nQ 12.9375 14.109375 22.625 23.890625 \nQ 32.328125 33.6875 34.8125 36.53125 \nQ 39.546875 41.84375 41.421875 45.53125 \nQ 43.3125 49.21875 43.3125 52.78125 \nQ 43.3125 58.59375 39.234375 62.25 \nQ 35.15625 65.921875 28.609375 65.921875 \nQ 23.96875 65.921875 18.8125 64.3125 \nQ 13.671875 62.703125 7.8125 59.421875 \nL 7.8125 69.390625 \nQ 13.765625 71.78125 18.9375 73 \nQ 24.125 74.21875 28.421875 74.21875 \nQ 39.75 74.21875 46.484375 68.546875 \nQ 53.21875 62.890625 53.21875 53.421875 \nQ 53.21875 48.921875 51.53125 44.890625 \nQ 49.859375 40.875 45.40625 35.40625 \nQ 44.1875 33.984375 37.640625 27.21875 \nQ 31.109375 20.453125 19.1875 8.296875 \nz\n\" id=\"DejaVuSans-50\"/>\n       <path d=\"M 10.6875 12.40625 \nL 21 12.40625 \nL 21 0 \nL 10.6875 0 \nz\n\" id=\"DejaVuSans-46\"/>\n       <path d=\"M 10.796875 72.90625 \nL 49.515625 72.90625 \nL 49.515625 64.59375 \nL 19.828125 64.59375 \nL 19.828125 46.734375 \nQ 21.96875 47.46875 24.109375 47.828125 \nQ 26.265625 48.1875 28.421875 48.1875 \nQ 40.625 48.1875 47.75 41.5 \nQ 54.890625 34.8125 54.890625 23.390625 \nQ 54.890625 11.625 47.5625 5.09375 \nQ 40.234375 -1.421875 26.90625 -1.421875 \nQ 22.3125 -1.421875 17.546875 -0.640625 \nQ 12.796875 0.140625 7.71875 1.703125 \nL 7.71875 11.625 \nQ 12.109375 9.234375 16.796875 8.0625 \nQ 21.484375 6.890625 26.703125 6.890625 \nQ 35.15625 6.890625 40.078125 11.328125 \nQ 45.015625 15.765625 45.015625 23.390625 \nQ 45.015625 31 40.078125 35.4375 \nQ 35.15625 39.890625 26.703125 39.890625 \nQ 22.75 39.890625 18.8125 39.015625 \nQ 14.890625 38.140625 10.796875 36.28125 \nz\n\" id=\"DejaVuSans-53\"/>\n      </defs>\n      <g transform=\"translate(57.856003 139.972351)scale(0.1 -0.1)\">\n       <use xlink:href=\"#DejaVuSans-50\"/>\n       <use x=\"63.623047\" xlink:href=\"#DejaVuSans-46\"/>\n       <use x=\"95.410156\" xlink:href=\"#DejaVuSans-53\"/>\n      </g>\n     </g>\n    </g>\n    <g id=\"xtick_2\">\n     <g id=\"line2d_3\">\n      <path clip-path=\"url(#pa45e02b19e)\" d=\"M 102.518092 125.373913 \nL 102.518092 7.2 \n\" style=\"fill:none;stroke:#b0b0b0;stroke-linecap:square;stroke-width:0.8;\"/>\n     </g>\n     <g id=\"line2d_4\">\n      <g>\n       <use style=\"stroke:#000000;stroke-width:0.8;\" x=\"102.518092\" xlink:href=\"#m29d32900cd\" y=\"125.373913\"/>\n      </g>\n     </g>\n     <g id=\"text_2\">\n      <!-- 5.0 -->\n      <defs>\n       <path d=\"M 31.78125 66.40625 \nQ 24.171875 66.40625 20.328125 58.90625 \nQ 16.5 51.421875 16.5 36.375 \nQ 16.5 21.390625 20.328125 13.890625 \nQ 24.171875 6.390625 31.78125 6.390625 \nQ 39.453125 6.390625 43.28125 13.890625 \nQ 47.125 21.390625 47.125 36.375 \nQ 47.125 51.421875 43.28125 58.90625 \nQ 39.453125 66.40625 31.78125 66.40625 \nz\nM 31.78125 74.21875 \nQ 44.046875 74.21875 50.515625 64.515625 \nQ 56.984375 54.828125 56.984375 36.375 \nQ 56.984375 17.96875 50.515625 8.265625 \nQ 44.046875 -1.421875 31.78125 -1.421875 \nQ 19.53125 -1.421875 13.0625 8.265625 \nQ 6.59375 17.96875 6.59375 36.375 \nQ 6.59375 54.828125 13.0625 64.515625 \nQ 19.53125 74.21875 31.78125 74.21875 \nz\n\" id=\"DejaVuSans-48\"/>\n      </defs>\n      <g transform=\"translate(94.56653 139.972351)scale(0.1 -0.1)\">\n       <use xlink:href=\"#DejaVuSans-53\"/>\n       <use x=\"63.623047\" xlink:href=\"#DejaVuSans-46\"/>\n       <use x=\"95.410156\" xlink:href=\"#DejaVuSans-48\"/>\n      </g>\n     </g>\n    </g>\n    <g id=\"xtick_3\">\n     <g id=\"line2d_5\">\n      <path clip-path=\"url(#pa45e02b19e)\" d=\"M 139.228618 125.373913 \nL 139.228618 7.2 \n\" style=\"fill:none;stroke:#b0b0b0;stroke-linecap:square;stroke-width:0.8;\"/>\n     </g>\n     <g id=\"line2d_6\">\n      <g>\n       <use style=\"stroke:#000000;stroke-width:0.8;\" x=\"139.228618\" xlink:href=\"#m29d32900cd\" y=\"125.373913\"/>\n      </g>\n     </g>\n     <g id=\"text_3\">\n      <!-- 7.5 -->\n      <defs>\n       <path d=\"M 8.203125 72.90625 \nL 55.078125 72.90625 \nL 55.078125 68.703125 \nL 28.609375 0 \nL 18.3125 0 \nL 43.21875 64.59375 \nL 8.203125 64.59375 \nz\n\" id=\"DejaVuSans-55\"/>\n      </defs>\n      <g transform=\"translate(131.277056 139.972351)scale(0.1 -0.1)\">\n       <use xlink:href=\"#DejaVuSans-55\"/>\n       <use x=\"63.623047\" xlink:href=\"#DejaVuSans-46\"/>\n       <use x=\"95.410156\" xlink:href=\"#DejaVuSans-53\"/>\n      </g>\n     </g>\n    </g>\n    <g id=\"xtick_4\">\n     <g id=\"line2d_7\">\n      <path clip-path=\"url(#pa45e02b19e)\" d=\"M 175.939145 125.373913 \nL 175.939145 7.2 \n\" style=\"fill:none;stroke:#b0b0b0;stroke-linecap:square;stroke-width:0.8;\"/>\n     </g>\n     <g id=\"line2d_8\">\n      <g>\n       <use style=\"stroke:#000000;stroke-width:0.8;\" x=\"175.939145\" xlink:href=\"#m29d32900cd\" y=\"125.373913\"/>\n      </g>\n     </g>\n     <g id=\"text_4\">\n      <!-- 10.0 -->\n      <defs>\n       <path d=\"M 12.40625 8.296875 \nL 28.515625 8.296875 \nL 28.515625 63.921875 \nL 10.984375 60.40625 \nL 10.984375 69.390625 \nL 28.421875 72.90625 \nL 38.28125 72.90625 \nL 38.28125 8.296875 \nL 54.390625 8.296875 \nL 54.390625 0 \nL 12.40625 0 \nz\n\" id=\"DejaVuSans-49\"/>\n      </defs>\n      <g transform=\"translate(164.806332 139.972351)scale(0.1 -0.1)\">\n       <use xlink:href=\"#DejaVuSans-49\"/>\n       <use x=\"63.623047\" xlink:href=\"#DejaVuSans-48\"/>\n       <use x=\"127.246094\" xlink:href=\"#DejaVuSans-46\"/>\n       <use x=\"159.033203\" xlink:href=\"#DejaVuSans-48\"/>\n      </g>\n     </g>\n    </g>\n    <g id=\"xtick_5\">\n     <g id=\"line2d_9\">\n      <path clip-path=\"url(#pa45e02b19e)\" d=\"M 212.649671 125.373913 \nL 212.649671 7.2 \n\" style=\"fill:none;stroke:#b0b0b0;stroke-linecap:square;stroke-width:0.8;\"/>\n     </g>\n     <g id=\"line2d_10\">\n      <g>\n       <use style=\"stroke:#000000;stroke-width:0.8;\" x=\"212.649671\" xlink:href=\"#m29d32900cd\" y=\"125.373913\"/>\n      </g>\n     </g>\n     <g id=\"text_5\">\n      <!-- 12.5 -->\n      <g transform=\"translate(201.516859 139.972351)scale(0.1 -0.1)\">\n       <use xlink:href=\"#DejaVuSans-49\"/>\n       <use x=\"63.623047\" xlink:href=\"#DejaVuSans-50\"/>\n       <use x=\"127.246094\" xlink:href=\"#DejaVuSans-46\"/>\n       <use x=\"159.033203\" xlink:href=\"#DejaVuSans-53\"/>\n      </g>\n     </g>\n    </g>\n    <g id=\"xtick_6\">\n     <g id=\"line2d_11\">\n      <path clip-path=\"url(#pa45e02b19e)\" d=\"M 249.360197 125.373913 \nL 249.360197 7.2 \n\" style=\"fill:none;stroke:#b0b0b0;stroke-linecap:square;stroke-width:0.8;\"/>\n     </g>\n     <g id=\"line2d_12\">\n      <g>\n       <use style=\"stroke:#000000;stroke-width:0.8;\" x=\"249.360197\" xlink:href=\"#m29d32900cd\" y=\"125.373913\"/>\n      </g>\n     </g>\n     <g id=\"text_6\">\n      <!-- 15.0 -->\n      <g transform=\"translate(238.227385 139.972351)scale(0.1 -0.1)\">\n       <use xlink:href=\"#DejaVuSans-49\"/>\n       <use x=\"63.623047\" xlink:href=\"#DejaVuSans-53\"/>\n       <use x=\"127.246094\" xlink:href=\"#DejaVuSans-46\"/>\n       <use x=\"159.033203\" xlink:href=\"#DejaVuSans-48\"/>\n      </g>\n     </g>\n    </g>\n    <g id=\"xtick_7\">\n     <g id=\"line2d_13\">\n      <path clip-path=\"url(#pa45e02b19e)\" d=\"M 286.070724 125.373913 \nL 286.070724 7.2 \n\" style=\"fill:none;stroke:#b0b0b0;stroke-linecap:square;stroke-width:0.8;\"/>\n     </g>\n     <g id=\"line2d_14\">\n      <g>\n       <use style=\"stroke:#000000;stroke-width:0.8;\" x=\"286.070724\" xlink:href=\"#m29d32900cd\" y=\"125.373913\"/>\n      </g>\n     </g>\n     <g id=\"text_7\">\n      <!-- 17.5 -->\n      <g transform=\"translate(274.937911 139.972351)scale(0.1 -0.1)\">\n       <use xlink:href=\"#DejaVuSans-49\"/>\n       <use x=\"63.623047\" xlink:href=\"#DejaVuSans-55\"/>\n       <use x=\"127.246094\" xlink:href=\"#DejaVuSans-46\"/>\n       <use x=\"159.033203\" xlink:href=\"#DejaVuSans-53\"/>\n      </g>\n     </g>\n    </g>\n    <g id=\"xtick_8\">\n     <g id=\"line2d_15\">\n      <path clip-path=\"url(#pa45e02b19e)\" d=\"M 322.78125 125.373913 \nL 322.78125 7.2 \n\" style=\"fill:none;stroke:#b0b0b0;stroke-linecap:square;stroke-width:0.8;\"/>\n     </g>\n     <g id=\"line2d_16\">\n      <g>\n       <use style=\"stroke:#000000;stroke-width:0.8;\" x=\"322.78125\" xlink:href=\"#m29d32900cd\" y=\"125.373913\"/>\n      </g>\n     </g>\n     <g id=\"text_8\">\n      <!-- 20.0 -->\n      <g transform=\"translate(311.648438 139.972351)scale(0.1 -0.1)\">\n       <use xlink:href=\"#DejaVuSans-50\"/>\n       <use x=\"63.623047\" xlink:href=\"#DejaVuSans-48\"/>\n       <use x=\"127.246094\" xlink:href=\"#DejaVuSans-46\"/>\n       <use x=\"159.033203\" xlink:href=\"#DejaVuSans-48\"/>\n      </g>\n     </g>\n    </g>\n    <g id=\"text_9\">\n     <!-- epoch -->\n     <defs>\n      <path d=\"M 56.203125 29.59375 \nL 56.203125 25.203125 \nL 14.890625 25.203125 \nQ 15.484375 15.921875 20.484375 11.0625 \nQ 25.484375 6.203125 34.421875 6.203125 \nQ 39.59375 6.203125 44.453125 7.46875 \nQ 49.3125 8.734375 54.109375 11.28125 \nL 54.109375 2.78125 \nQ 49.265625 0.734375 44.1875 -0.34375 \nQ 39.109375 -1.421875 33.890625 -1.421875 \nQ 20.796875 -1.421875 13.15625 6.1875 \nQ 5.515625 13.8125 5.515625 26.8125 \nQ 5.515625 40.234375 12.765625 48.109375 \nQ 20.015625 56 32.328125 56 \nQ 43.359375 56 49.78125 48.890625 \nQ 56.203125 41.796875 56.203125 29.59375 \nz\nM 47.21875 32.234375 \nQ 47.125 39.59375 43.09375 43.984375 \nQ 39.0625 48.390625 32.421875 48.390625 \nQ 24.90625 48.390625 20.390625 44.140625 \nQ 15.875 39.890625 15.1875 32.171875 \nz\n\" id=\"DejaVuSans-101\"/>\n      <path d=\"M 18.109375 8.203125 \nL 18.109375 -20.796875 \nL 9.078125 -20.796875 \nL 9.078125 54.6875 \nL 18.109375 54.6875 \nL 18.109375 46.390625 \nQ 20.953125 51.265625 25.265625 53.625 \nQ 29.59375 56 35.59375 56 \nQ 45.5625 56 51.78125 48.09375 \nQ 58.015625 40.1875 58.015625 27.296875 \nQ 58.015625 14.40625 51.78125 6.484375 \nQ 45.5625 -1.421875 35.59375 -1.421875 \nQ 29.59375 -1.421875 25.265625 0.953125 \nQ 20.953125 3.328125 18.109375 8.203125 \nz\nM 48.6875 27.296875 \nQ 48.6875 37.203125 44.609375 42.84375 \nQ 40.53125 48.484375 33.40625 48.484375 \nQ 26.265625 48.484375 22.1875 42.84375 \nQ 18.109375 37.203125 18.109375 27.296875 \nQ 18.109375 17.390625 22.1875 11.75 \nQ 26.265625 6.109375 33.40625 6.109375 \nQ 40.53125 6.109375 44.609375 11.75 \nQ 48.6875 17.390625 48.6875 27.296875 \nz\n\" id=\"DejaVuSans-112\"/>\n      <path d=\"M 30.609375 48.390625 \nQ 23.390625 48.390625 19.1875 42.75 \nQ 14.984375 37.109375 14.984375 27.296875 \nQ 14.984375 17.484375 19.15625 11.84375 \nQ 23.34375 6.203125 30.609375 6.203125 \nQ 37.796875 6.203125 41.984375 11.859375 \nQ 46.1875 17.53125 46.1875 27.296875 \nQ 46.1875 37.015625 41.984375 42.703125 \nQ 37.796875 48.390625 30.609375 48.390625 \nz\nM 30.609375 56 \nQ 42.328125 56 49.015625 48.375 \nQ 55.71875 40.765625 55.71875 27.296875 \nQ 55.71875 13.875 49.015625 6.21875 \nQ 42.328125 -1.421875 30.609375 -1.421875 \nQ 18.84375 -1.421875 12.171875 6.21875 \nQ 5.515625 13.875 5.515625 27.296875 \nQ 5.515625 40.765625 12.171875 48.375 \nQ 18.84375 56 30.609375 56 \nz\n\" id=\"DejaVuSans-111\"/>\n      <path d=\"M 48.78125 52.59375 \nL 48.78125 44.1875 \nQ 44.96875 46.296875 41.140625 47.34375 \nQ 37.3125 48.390625 33.40625 48.390625 \nQ 24.65625 48.390625 19.8125 42.84375 \nQ 14.984375 37.3125 14.984375 27.296875 \nQ 14.984375 17.28125 19.8125 11.734375 \nQ 24.65625 6.203125 33.40625 6.203125 \nQ 37.3125 6.203125 41.140625 7.25 \nQ 44.96875 8.296875 48.78125 10.40625 \nL 48.78125 2.09375 \nQ 45.015625 0.34375 40.984375 -0.53125 \nQ 36.96875 -1.421875 32.421875 -1.421875 \nQ 20.0625 -1.421875 12.78125 6.34375 \nQ 5.515625 14.109375 5.515625 27.296875 \nQ 5.515625 40.671875 12.859375 48.328125 \nQ 20.21875 56 33.015625 56 \nQ 37.15625 56 41.109375 55.140625 \nQ 45.0625 54.296875 48.78125 52.59375 \nz\n\" id=\"DejaVuSans-99\"/>\n      <path d=\"M 54.890625 33.015625 \nL 54.890625 0 \nL 45.90625 0 \nL 45.90625 32.71875 \nQ 45.90625 40.484375 42.875 44.328125 \nQ 39.84375 48.1875 33.796875 48.1875 \nQ 26.515625 48.1875 22.3125 43.546875 \nQ 18.109375 38.921875 18.109375 30.90625 \nL 18.109375 0 \nL 9.078125 0 \nL 9.078125 75.984375 \nL 18.109375 75.984375 \nL 18.109375 46.1875 \nQ 21.34375 51.125 25.703125 53.5625 \nQ 30.078125 56 35.796875 56 \nQ 45.21875 56 50.046875 50.171875 \nQ 54.890625 44.34375 54.890625 33.015625 \nz\n\" id=\"DejaVuSans-104\"/>\n     </defs>\n     <g transform=\"translate(168.053125 153.650476)scale(0.1 -0.1)\">\n      <use xlink:href=\"#DejaVuSans-101\"/>\n      <use x=\"61.523438\" xlink:href=\"#DejaVuSans-112\"/>\n      <use x=\"125\" xlink:href=\"#DejaVuSans-111\"/>\n      <use x=\"186.181641\" xlink:href=\"#DejaVuSans-99\"/>\n      <use x=\"241.162109\" xlink:href=\"#DejaVuSans-104\"/>\n     </g>\n    </g>\n   </g>\n   <g id=\"matplotlib.axis_2\">\n    <g id=\"ytick_1\">\n     <g id=\"line2d_17\">\n      <path clip-path=\"url(#pa45e02b19e)\" d=\"M 43.78125 122.636391 \nL 322.78125 122.636391 \n\" style=\"fill:none;stroke:#b0b0b0;stroke-linecap:square;stroke-width:0.8;\"/>\n     </g>\n     <g id=\"line2d_18\">\n      <defs>\n       <path d=\"M 0 0 \nL -3.5 0 \n\" id=\"m2b73ad5f1c\" style=\"stroke:#000000;stroke-width:0.8;\"/>\n      </defs>\n      <g>\n       <use style=\"stroke:#000000;stroke-width:0.8;\" x=\"43.78125\" xlink:href=\"#m2b73ad5f1c\" y=\"122.636391\"/>\n      </g>\n     </g>\n     <g id=\"text_10\">\n      <!-- 0.5 -->\n      <g transform=\"translate(20.878125 126.43561)scale(0.1 -0.1)\">\n       <use xlink:href=\"#DejaVuSans-48\"/>\n       <use x=\"63.623047\" xlink:href=\"#DejaVuSans-46\"/>\n       <use x=\"95.410156\" xlink:href=\"#DejaVuSans-53\"/>\n      </g>\n     </g>\n    </g>\n    <g id=\"ytick_2\">\n     <g id=\"line2d_19\">\n      <path clip-path=\"url(#pa45e02b19e)\" d=\"M 43.78125 82.42216 \nL 322.78125 82.42216 \n\" style=\"fill:none;stroke:#b0b0b0;stroke-linecap:square;stroke-width:0.8;\"/>\n     </g>\n     <g id=\"line2d_20\">\n      <g>\n       <use style=\"stroke:#000000;stroke-width:0.8;\" x=\"43.78125\" xlink:href=\"#m2b73ad5f1c\" y=\"82.42216\"/>\n      </g>\n     </g>\n     <g id=\"text_11\">\n      <!-- 1.0 -->\n      <g transform=\"translate(20.878125 86.221379)scale(0.1 -0.1)\">\n       <use xlink:href=\"#DejaVuSans-49\"/>\n       <use x=\"63.623047\" xlink:href=\"#DejaVuSans-46\"/>\n       <use x=\"95.410156\" xlink:href=\"#DejaVuSans-48\"/>\n      </g>\n     </g>\n    </g>\n    <g id=\"ytick_3\">\n     <g id=\"line2d_21\">\n      <path clip-path=\"url(#pa45e02b19e)\" d=\"M 43.78125 42.207929 \nL 322.78125 42.207929 \n\" style=\"fill:none;stroke:#b0b0b0;stroke-linecap:square;stroke-width:0.8;\"/>\n     </g>\n     <g id=\"line2d_22\">\n      <g>\n       <use style=\"stroke:#000000;stroke-width:0.8;\" x=\"43.78125\" xlink:href=\"#m2b73ad5f1c\" y=\"42.207929\"/>\n      </g>\n     </g>\n     <g id=\"text_12\">\n      <!-- 1.5 -->\n      <g transform=\"translate(20.878125 46.007148)scale(0.1 -0.1)\">\n       <use xlink:href=\"#DejaVuSans-49\"/>\n       <use x=\"63.623047\" xlink:href=\"#DejaVuSans-46\"/>\n       <use x=\"95.410156\" xlink:href=\"#DejaVuSans-53\"/>\n      </g>\n     </g>\n    </g>\n    <g id=\"text_13\">\n     <!-- loss -->\n     <defs>\n      <path d=\"M 9.421875 75.984375 \nL 18.40625 75.984375 \nL 18.40625 0 \nL 9.421875 0 \nz\n\" id=\"DejaVuSans-108\"/>\n      <path d=\"M 44.28125 53.078125 \nL 44.28125 44.578125 \nQ 40.484375 46.53125 36.375 47.5 \nQ 32.28125 48.484375 27.875 48.484375 \nQ 21.1875 48.484375 17.84375 46.4375 \nQ 14.5 44.390625 14.5 40.28125 \nQ 14.5 37.15625 16.890625 35.375 \nQ 19.28125 33.59375 26.515625 31.984375 \nL 29.59375 31.296875 \nQ 39.15625 29.25 43.1875 25.515625 \nQ 47.21875 21.78125 47.21875 15.09375 \nQ 47.21875 7.46875 41.1875 3.015625 \nQ 35.15625 -1.421875 24.609375 -1.421875 \nQ 20.21875 -1.421875 15.453125 -0.5625 \nQ 10.6875 0.296875 5.421875 2 \nL 5.421875 11.28125 \nQ 10.40625 8.6875 15.234375 7.390625 \nQ 20.0625 6.109375 24.8125 6.109375 \nQ 31.15625 6.109375 34.5625 8.28125 \nQ 37.984375 10.453125 37.984375 14.40625 \nQ 37.984375 18.0625 35.515625 20.015625 \nQ 33.0625 21.96875 24.703125 23.78125 \nL 21.578125 24.515625 \nQ 13.234375 26.265625 9.515625 29.90625 \nQ 5.8125 33.546875 5.8125 39.890625 \nQ 5.8125 47.609375 11.28125 51.796875 \nQ 16.75 56 26.8125 56 \nQ 31.78125 56 36.171875 55.265625 \nQ 40.578125 54.546875 44.28125 53.078125 \nz\n\" id=\"DejaVuSans-115\"/>\n     </defs>\n     <g transform=\"translate(14.798438 75.944769)rotate(-90)scale(0.1 -0.1)\">\n      <use xlink:href=\"#DejaVuSans-108\"/>\n      <use x=\"27.783203\" xlink:href=\"#DejaVuSans-111\"/>\n      <use x=\"88.964844\" xlink:href=\"#DejaVuSans-115\"/>\n      <use x=\"141.064453\" xlink:href=\"#DejaVuSans-115\"/>\n     </g>\n    </g>\n   </g>\n   <g id=\"line2d_23\">\n    <path clip-path=\"url(#pa45e02b19e)\" d=\"M 43.78125 91.035299 \nL 58.465461 107.283846 \nL 73.149671 107.562757 \nL 87.833882 107.452274 \nL 102.518092 107.31038 \nL 117.202303 108.115929 \nL 131.886513 66.287259 \nL 146.570724 107.023214 \nL 161.254934 107.111008 \nL 175.939145 107.098129 \nL 190.623355 107.072562 \nL 205.307566 107.083573 \nL 219.991776 107.070266 \nL 234.675987 107.094673 \nL 249.360197 107.170967 \nL 264.044408 101.01841 \nL 278.728618 64.962134 \nL 293.412829 55.960844 \nL 308.097039 102.710296 \nL 322.78125 107.934419 \n\" style=\"fill:none;stroke:#1f77b4;stroke-linecap:square;stroke-width:1.5;\"/>\n   </g>\n   <g id=\"line2d_24\">\n    <path clip-path=\"url(#pa45e02b19e)\" d=\"M 43.78125 28.55602 \nL 58.465461 105.481403 \nL 73.149671 76.955821 \nL 87.833882 103.398368 \nL 102.518092 102.274687 \nL 117.202303 99.386091 \nL 131.886513 12.571542 \nL 146.570724 105.744118 \nL 161.254934 106.692206 \nL 175.939145 106.092477 \nL 190.623355 106.24801 \nL 205.307566 106.783602 \nL 219.991776 106.473732 \nL 234.675987 107.177502 \nL 249.360197 106.946405 \nL 264.044408 85.270855 \nL 278.728618 21.440146 \nL 293.412829 120.002372 \nL 308.097039 107.074193 \nL 322.78125 107.898499 \n\" style=\"fill:none;stroke:#bf00bf;stroke-dasharray:5.55,2.4;stroke-dashoffset:0;stroke-width:1.5;\"/>\n   </g>\n   <g id=\"patch_3\">\n    <path d=\"M 43.78125 125.373913 \nL 43.78125 7.2 \n\" style=\"fill:none;stroke:#000000;stroke-linecap:square;stroke-linejoin:miter;stroke-width:0.8;\"/>\n   </g>\n   <g id=\"patch_4\">\n    <path d=\"M 322.78125 125.373913 \nL 322.78125 7.2 \n\" style=\"fill:none;stroke:#000000;stroke-linecap:square;stroke-linejoin:miter;stroke-width:0.8;\"/>\n   </g>\n   <g id=\"patch_5\">\n    <path d=\"M 43.78125 125.373913 \nL 322.78125 125.373913 \n\" style=\"fill:none;stroke:#000000;stroke-linecap:square;stroke-linejoin:miter;stroke-width:0.8;\"/>\n   </g>\n   <g id=\"patch_6\">\n    <path d=\"M 43.78125 7.2 \nL 322.78125 7.2 \n\" style=\"fill:none;stroke:#000000;stroke-linecap:square;stroke-linejoin:miter;stroke-width:0.8;\"/>\n   </g>\n   <g id=\"legend_1\">\n    <g id=\"patch_7\">\n     <path d=\"M 134.352344 44.55625 \nL 232.210156 44.55625 \nQ 234.210156 44.55625 234.210156 42.55625 \nL 234.210156 14.2 \nQ 234.210156 12.2 232.210156 12.2 \nL 134.352344 12.2 \nQ 132.352344 12.2 132.352344 14.2 \nL 132.352344 42.55625 \nQ 132.352344 44.55625 134.352344 44.55625 \nz\n\" style=\"fill:#ffffff;opacity:0.8;stroke:#cccccc;stroke-linejoin:miter;\"/>\n    </g>\n    <g id=\"line2d_25\">\n     <path d=\"M 136.352344 20.298437 \nL 156.352344 20.298437 \n\" style=\"fill:none;stroke:#1f77b4;stroke-linecap:square;stroke-width:1.5;\"/>\n    </g>\n    <g id=\"line2d_26\"/>\n    <g id=\"text_14\">\n     <!-- discriminator -->\n     <defs>\n      <path d=\"M 45.40625 46.390625 \nL 45.40625 75.984375 \nL 54.390625 75.984375 \nL 54.390625 0 \nL 45.40625 0 \nL 45.40625 8.203125 \nQ 42.578125 3.328125 38.25 0.953125 \nQ 33.9375 -1.421875 27.875 -1.421875 \nQ 17.96875 -1.421875 11.734375 6.484375 \nQ 5.515625 14.40625 5.515625 27.296875 \nQ 5.515625 40.1875 11.734375 48.09375 \nQ 17.96875 56 27.875 56 \nQ 33.9375 56 38.25 53.625 \nQ 42.578125 51.265625 45.40625 46.390625 \nz\nM 14.796875 27.296875 \nQ 14.796875 17.390625 18.875 11.75 \nQ 22.953125 6.109375 30.078125 6.109375 \nQ 37.203125 6.109375 41.296875 11.75 \nQ 45.40625 17.390625 45.40625 27.296875 \nQ 45.40625 37.203125 41.296875 42.84375 \nQ 37.203125 48.484375 30.078125 48.484375 \nQ 22.953125 48.484375 18.875 42.84375 \nQ 14.796875 37.203125 14.796875 27.296875 \nz\n\" id=\"DejaVuSans-100\"/>\n      <path d=\"M 9.421875 54.6875 \nL 18.40625 54.6875 \nL 18.40625 0 \nL 9.421875 0 \nz\nM 9.421875 75.984375 \nL 18.40625 75.984375 \nL 18.40625 64.59375 \nL 9.421875 64.59375 \nz\n\" id=\"DejaVuSans-105\"/>\n      <path d=\"M 41.109375 46.296875 \nQ 39.59375 47.171875 37.8125 47.578125 \nQ 36.03125 48 33.890625 48 \nQ 26.265625 48 22.1875 43.046875 \nQ 18.109375 38.09375 18.109375 28.8125 \nL 18.109375 0 \nL 9.078125 0 \nL 9.078125 54.6875 \nL 18.109375 54.6875 \nL 18.109375 46.1875 \nQ 20.953125 51.171875 25.484375 53.578125 \nQ 30.03125 56 36.53125 56 \nQ 37.453125 56 38.578125 55.875 \nQ 39.703125 55.765625 41.0625 55.515625 \nz\n\" id=\"DejaVuSans-114\"/>\n      <path d=\"M 52 44.1875 \nQ 55.375 50.25 60.0625 53.125 \nQ 64.75 56 71.09375 56 \nQ 79.640625 56 84.28125 50.015625 \nQ 88.921875 44.046875 88.921875 33.015625 \nL 88.921875 0 \nL 79.890625 0 \nL 79.890625 32.71875 \nQ 79.890625 40.578125 77.09375 44.375 \nQ 74.3125 48.1875 68.609375 48.1875 \nQ 61.625 48.1875 57.5625 43.546875 \nQ 53.515625 38.921875 53.515625 30.90625 \nL 53.515625 0 \nL 44.484375 0 \nL 44.484375 32.71875 \nQ 44.484375 40.625 41.703125 44.40625 \nQ 38.921875 48.1875 33.109375 48.1875 \nQ 26.21875 48.1875 22.15625 43.53125 \nQ 18.109375 38.875 18.109375 30.90625 \nL 18.109375 0 \nL 9.078125 0 \nL 9.078125 54.6875 \nL 18.109375 54.6875 \nL 18.109375 46.1875 \nQ 21.1875 51.21875 25.484375 53.609375 \nQ 29.78125 56 35.6875 56 \nQ 41.65625 56 45.828125 52.96875 \nQ 50 49.953125 52 44.1875 \nz\n\" id=\"DejaVuSans-109\"/>\n      <path d=\"M 54.890625 33.015625 \nL 54.890625 0 \nL 45.90625 0 \nL 45.90625 32.71875 \nQ 45.90625 40.484375 42.875 44.328125 \nQ 39.84375 48.1875 33.796875 48.1875 \nQ 26.515625 48.1875 22.3125 43.546875 \nQ 18.109375 38.921875 18.109375 30.90625 \nL 18.109375 0 \nL 9.078125 0 \nL 9.078125 54.6875 \nL 18.109375 54.6875 \nL 18.109375 46.1875 \nQ 21.34375 51.125 25.703125 53.5625 \nQ 30.078125 56 35.796875 56 \nQ 45.21875 56 50.046875 50.171875 \nQ 54.890625 44.34375 54.890625 33.015625 \nz\n\" id=\"DejaVuSans-110\"/>\n      <path d=\"M 34.28125 27.484375 \nQ 23.390625 27.484375 19.1875 25 \nQ 14.984375 22.515625 14.984375 16.5 \nQ 14.984375 11.71875 18.140625 8.90625 \nQ 21.296875 6.109375 26.703125 6.109375 \nQ 34.1875 6.109375 38.703125 11.40625 \nQ 43.21875 16.703125 43.21875 25.484375 \nL 43.21875 27.484375 \nz\nM 52.203125 31.203125 \nL 52.203125 0 \nL 43.21875 0 \nL 43.21875 8.296875 \nQ 40.140625 3.328125 35.546875 0.953125 \nQ 30.953125 -1.421875 24.3125 -1.421875 \nQ 15.921875 -1.421875 10.953125 3.296875 \nQ 6 8.015625 6 15.921875 \nQ 6 25.140625 12.171875 29.828125 \nQ 18.359375 34.515625 30.609375 34.515625 \nL 43.21875 34.515625 \nL 43.21875 35.40625 \nQ 43.21875 41.609375 39.140625 45 \nQ 35.0625 48.390625 27.6875 48.390625 \nQ 23 48.390625 18.546875 47.265625 \nQ 14.109375 46.140625 10.015625 43.890625 \nL 10.015625 52.203125 \nQ 14.9375 54.109375 19.578125 55.046875 \nQ 24.21875 56 28.609375 56 \nQ 40.484375 56 46.34375 49.84375 \nQ 52.203125 43.703125 52.203125 31.203125 \nz\n\" id=\"DejaVuSans-97\"/>\n      <path d=\"M 18.3125 70.21875 \nL 18.3125 54.6875 \nL 36.8125 54.6875 \nL 36.8125 47.703125 \nL 18.3125 47.703125 \nL 18.3125 18.015625 \nQ 18.3125 11.328125 20.140625 9.421875 \nQ 21.96875 7.515625 27.59375 7.515625 \nL 36.8125 7.515625 \nL 36.8125 0 \nL 27.59375 0 \nQ 17.1875 0 13.234375 3.875 \nQ 9.28125 7.765625 9.28125 18.015625 \nL 9.28125 47.703125 \nL 2.6875 47.703125 \nL 2.6875 54.6875 \nL 9.28125 54.6875 \nL 9.28125 70.21875 \nz\n\" id=\"DejaVuSans-116\"/>\n     </defs>\n     <g transform=\"translate(164.352344 23.798437)scale(0.1 -0.1)\">\n      <use xlink:href=\"#DejaVuSans-100\"/>\n      <use x=\"63.476562\" xlink:href=\"#DejaVuSans-105\"/>\n      <use x=\"91.259766\" xlink:href=\"#DejaVuSans-115\"/>\n      <use x=\"143.359375\" xlink:href=\"#DejaVuSans-99\"/>\n      <use x=\"198.339844\" xlink:href=\"#DejaVuSans-114\"/>\n      <use x=\"239.453125\" xlink:href=\"#DejaVuSans-105\"/>\n      <use x=\"267.236328\" xlink:href=\"#DejaVuSans-109\"/>\n      <use x=\"364.648438\" xlink:href=\"#DejaVuSans-105\"/>\n      <use x=\"392.431641\" xlink:href=\"#DejaVuSans-110\"/>\n      <use x=\"455.810547\" xlink:href=\"#DejaVuSans-97\"/>\n      <use x=\"517.089844\" xlink:href=\"#DejaVuSans-116\"/>\n      <use x=\"556.298828\" xlink:href=\"#DejaVuSans-111\"/>\n      <use x=\"617.480469\" xlink:href=\"#DejaVuSans-114\"/>\n     </g>\n    </g>\n    <g id=\"line2d_27\">\n     <path d=\"M 136.352344 34.976562 \nL 156.352344 34.976562 \n\" style=\"fill:none;stroke:#bf00bf;stroke-dasharray:5.55,2.4;stroke-dashoffset:0;stroke-width:1.5;\"/>\n    </g>\n    <g id=\"line2d_28\"/>\n    <g id=\"text_15\">\n     <!-- generator -->\n     <defs>\n      <path d=\"M 45.40625 27.984375 \nQ 45.40625 37.75 41.375 43.109375 \nQ 37.359375 48.484375 30.078125 48.484375 \nQ 22.859375 48.484375 18.828125 43.109375 \nQ 14.796875 37.75 14.796875 27.984375 \nQ 14.796875 18.265625 18.828125 12.890625 \nQ 22.859375 7.515625 30.078125 7.515625 \nQ 37.359375 7.515625 41.375 12.890625 \nQ 45.40625 18.265625 45.40625 27.984375 \nz\nM 54.390625 6.78125 \nQ 54.390625 -7.171875 48.1875 -13.984375 \nQ 42 -20.796875 29.203125 -20.796875 \nQ 24.46875 -20.796875 20.265625 -20.09375 \nQ 16.0625 -19.390625 12.109375 -17.921875 \nL 12.109375 -9.1875 \nQ 16.0625 -11.328125 19.921875 -12.34375 \nQ 23.78125 -13.375 27.78125 -13.375 \nQ 36.625 -13.375 41.015625 -8.765625 \nQ 45.40625 -4.15625 45.40625 5.171875 \nL 45.40625 9.625 \nQ 42.625 4.78125 38.28125 2.390625 \nQ 33.9375 0 27.875 0 \nQ 17.828125 0 11.671875 7.65625 \nQ 5.515625 15.328125 5.515625 27.984375 \nQ 5.515625 40.671875 11.671875 48.328125 \nQ 17.828125 56 27.875 56 \nQ 33.9375 56 38.28125 53.609375 \nQ 42.625 51.21875 45.40625 46.390625 \nL 45.40625 54.6875 \nL 54.390625 54.6875 \nz\n\" id=\"DejaVuSans-103\"/>\n     </defs>\n     <g transform=\"translate(164.352344 38.476562)scale(0.1 -0.1)\">\n      <use xlink:href=\"#DejaVuSans-103\"/>\n      <use x=\"63.476562\" xlink:href=\"#DejaVuSans-101\"/>\n      <use x=\"125\" xlink:href=\"#DejaVuSans-110\"/>\n      <use x=\"188.378906\" xlink:href=\"#DejaVuSans-101\"/>\n      <use x=\"249.902344\" xlink:href=\"#DejaVuSans-114\"/>\n      <use x=\"291.015625\" xlink:href=\"#DejaVuSans-97\"/>\n      <use x=\"352.294922\" xlink:href=\"#DejaVuSans-116\"/>\n      <use x=\"391.503906\" xlink:href=\"#DejaVuSans-111\"/>\n      <use x=\"452.685547\" xlink:href=\"#DejaVuSans-114\"/>\n     </g>\n    </g>\n   </g>\n  </g>\n  <g id=\"axes_2\">\n   <g id=\"patch_8\">\n    <path d=\"M 43.78125 279 \nL 322.78125 279 \nL 322.78125 160.826087 \nL 43.78125 160.826087 \nz\n\" style=\"fill:#ffffff;\"/>\n   </g>\n   <g id=\"PathCollection_1\">\n    <defs>\n     <path d=\"M 0 3 \nC 0.795609 3 1.55874 2.683901 2.12132 2.12132 \nC 2.683901 1.55874 3 0.795609 3 0 \nC 3 -0.795609 2.683901 -1.55874 2.12132 -2.12132 \nC 1.55874 -2.683901 0.795609 -3 0 -3 \nC -0.795609 -3 -1.55874 -2.683901 -2.12132 -2.12132 \nC -2.683901 -1.55874 -3 -0.795609 -3 0 \nC -3 0.795609 -2.683901 1.55874 -2.12132 2.12132 \nC -1.55874 2.683901 -0.795609 3 0 3 \nz\n\" id=\"mde453f028b\" style=\"stroke:#1f77b4;\"/>\n    </defs>\n    <g clip-path=\"url(#pac6740312f)\">\n     <use style=\"fill:#1f77b4;stroke:#1f77b4;\" x=\"261.825814\" xlink:href=\"#mde453f028b\" y=\"188.920124\"/>\n     <use style=\"fill:#1f77b4;stroke:#1f77b4;\" x=\"277.595697\" xlink:href=\"#mde453f028b\" y=\"189.847363\"/>\n     <use style=\"fill:#1f77b4;stroke:#1f77b4;\" x=\"259.619364\" xlink:href=\"#mde453f028b\" y=\"183.49878\"/>\n     <use style=\"fill:#1f77b4;stroke:#1f77b4;\" x=\"193.257577\" xlink:href=\"#mde453f028b\" y=\"221.470519\"/>\n     <use style=\"fill:#1f77b4;stroke:#1f77b4;\" x=\"144.626789\" xlink:href=\"#mde453f028b\" y=\"250.755976\"/>\n     <use style=\"fill:#1f77b4;stroke:#1f77b4;\" x=\"190.967459\" xlink:href=\"#mde453f028b\" y=\"223.447825\"/>\n     <use style=\"fill:#1f77b4;stroke:#1f77b4;\" x=\"309.646502\" xlink:href=\"#mde453f028b\" y=\"166.197628\"/>\n     <use style=\"fill:#1f77b4;stroke:#1f77b4;\" x=\"209.305139\" xlink:href=\"#mde453f028b\" y=\"229.018157\"/>\n     <use style=\"fill:#1f77b4;stroke:#1f77b4;\" x=\"181.34695\" xlink:href=\"#mde453f028b\" y=\"241.857115\"/>\n     <use style=\"fill:#1f77b4;stroke:#1f77b4;\" x=\"211.366093\" xlink:href=\"#mde453f028b\" y=\"214.934356\"/>\n     <use style=\"fill:#1f77b4;stroke:#1f77b4;\" x=\"174.909449\" xlink:href=\"#mde453f028b\" y=\"239.968023\"/>\n     <use style=\"fill:#1f77b4;stroke:#1f77b4;\" x=\"299.233559\" xlink:href=\"#mde453f028b\" y=\"168.51901\"/>\n     <use style=\"fill:#1f77b4;stroke:#1f77b4;\" x=\"206.850974\" xlink:href=\"#mde453f028b\" y=\"220.006477\"/>\n     <use style=\"fill:#1f77b4;stroke:#1f77b4;\" x=\"199.167521\" xlink:href=\"#mde453f028b\" y=\"225.790246\"/>\n     <use style=\"fill:#1f77b4;stroke:#1f77b4;\" x=\"254.502676\" xlink:href=\"#mde453f028b\" y=\"198.436844\"/>\n     <use style=\"fill:#1f77b4;stroke:#1f77b4;\" x=\"193.590405\" xlink:href=\"#mde453f028b\" y=\"229.647082\"/>\n     <use style=\"fill:#1f77b4;stroke:#1f77b4;\" x=\"199.649209\" xlink:href=\"#mde453f028b\" y=\"215.91181\"/>\n     <use style=\"fill:#1f77b4;stroke:#1f77b4;\" x=\"136.956944\" xlink:href=\"#mde453f028b\" y=\"243.986663\"/>\n     <use style=\"fill:#1f77b4;stroke:#1f77b4;\" x=\"211.18613\" xlink:href=\"#mde453f028b\" y=\"225.0306\"/>\n     <use style=\"fill:#1f77b4;stroke:#1f77b4;\" x=\"226.767499\" xlink:href=\"#mde453f028b\" y=\"210.96253\"/>\n     <use style=\"fill:#1f77b4;stroke:#1f77b4;\" x=\"182.086437\" xlink:href=\"#mde453f028b\" y=\"227.409452\"/>\n     <use style=\"fill:#1f77b4;stroke:#1f77b4;\" x=\"157.553846\" xlink:href=\"#mde453f028b\" y=\"234.398583\"/>\n     <use style=\"fill:#1f77b4;stroke:#1f77b4;\" x=\"185.504803\" xlink:href=\"#mde453f028b\" y=\"228.870837\"/>\n     <use style=\"fill:#1f77b4;stroke:#1f77b4;\" x=\"206.848656\" xlink:href=\"#mde453f028b\" y=\"224.15658\"/>\n     <use style=\"fill:#1f77b4;stroke:#1f77b4;\" x=\"207.366918\" xlink:href=\"#mde453f028b\" y=\"215.934206\"/>\n     <use style=\"fill:#1f77b4;stroke:#1f77b4;\" x=\"245.932742\" xlink:href=\"#mde453f028b\" y=\"214.959743\"/>\n     <use style=\"fill:#1f77b4;stroke:#1f77b4;\" x=\"145.755408\" xlink:href=\"#mde453f028b\" y=\"256.288642\"/>\n     <use style=\"fill:#1f77b4;stroke:#1f77b4;\" x=\"191.685623\" xlink:href=\"#mde453f028b\" y=\"219.567376\"/>\n     <use style=\"fill:#1f77b4;stroke:#1f77b4;\" x=\"198.219944\" xlink:href=\"#mde453f028b\" y=\"236.479137\"/>\n     <use style=\"fill:#1f77b4;stroke:#1f77b4;\" x=\"165.559639\" xlink:href=\"#mde453f028b\" y=\"250.434395\"/>\n     <use style=\"fill:#1f77b4;stroke:#1f77b4;\" x=\"164.955662\" xlink:href=\"#mde453f028b\" y=\"249.627657\"/>\n     <use style=\"fill:#1f77b4;stroke:#1f77b4;\" x=\"191.380402\" xlink:href=\"#mde453f028b\" y=\"224.510215\"/>\n     <use style=\"fill:#1f77b4;stroke:#1f77b4;\" x=\"243.373026\" xlink:href=\"#mde453f028b\" y=\"207.543341\"/>\n     <use style=\"fill:#1f77b4;stroke:#1f77b4;\" x=\"188.724265\" xlink:href=\"#mde453f028b\" y=\"229.966304\"/>\n     <use style=\"fill:#1f77b4;stroke:#1f77b4;\" x=\"223.439083\" xlink:href=\"#mde453f028b\" y=\"203.039911\"/>\n     <use style=\"fill:#1f77b4;stroke:#1f77b4;\" x=\"207.668654\" xlink:href=\"#mde453f028b\" y=\"224.31262\"/>\n     <use style=\"fill:#1f77b4;stroke:#1f77b4;\" x=\"232.476984\" xlink:href=\"#mde453f028b\" y=\"221.684674\"/>\n     <use style=\"fill:#1f77b4;stroke:#1f77b4;\" x=\"189.764276\" xlink:href=\"#mde453f028b\" y=\"217.21989\"/>\n     <use style=\"fill:#1f77b4;stroke:#1f77b4;\" x=\"219.543236\" xlink:href=\"#mde453f028b\" y=\"210.404843\"/>\n     <use style=\"fill:#1f77b4;stroke:#1f77b4;\" x=\"201.05226\" xlink:href=\"#mde453f028b\" y=\"225.407792\"/>\n     <use style=\"fill:#1f77b4;stroke:#1f77b4;\" x=\"171.466786\" xlink:href=\"#mde453f028b\" y=\"239.349323\"/>\n     <use style=\"fill:#1f77b4;stroke:#1f77b4;\" x=\"201.623946\" xlink:href=\"#mde453f028b\" y=\"224.073271\"/>\n     <use style=\"fill:#1f77b4;stroke:#1f77b4;\" x=\"191.240322\" xlink:href=\"#mde453f028b\" y=\"233.015404\"/>\n     <use style=\"fill:#1f77b4;stroke:#1f77b4;\" x=\"220.684695\" xlink:href=\"#mde453f028b\" y=\"226.597197\"/>\n     <use style=\"fill:#1f77b4;stroke:#1f77b4;\" x=\"151.468499\" xlink:href=\"#mde453f028b\" y=\"248.762229\"/>\n     <use style=\"fill:#1f77b4;stroke:#1f77b4;\" x=\"257.114836\" xlink:href=\"#mde453f028b\" y=\"188.066569\"/>\n     <use style=\"fill:#1f77b4;stroke:#1f77b4;\" x=\"134.747377\" xlink:href=\"#mde453f028b\" y=\"255.616028\"/>\n     <use style=\"fill:#1f77b4;stroke:#1f77b4;\" x=\"283.912181\" xlink:href=\"#mde453f028b\" y=\"185.746548\"/>\n     <use style=\"fill:#1f77b4;stroke:#1f77b4;\" x=\"244.283212\" xlink:href=\"#mde453f028b\" y=\"206.630195\"/>\n     <use style=\"fill:#1f77b4;stroke:#1f77b4;\" x=\"187.323298\" xlink:href=\"#mde453f028b\" y=\"225.868388\"/>\n     <use style=\"fill:#1f77b4;stroke:#1f77b4;\" x=\"310.099432\" xlink:href=\"#mde453f028b\" y=\"172.625586\"/>\n     <use style=\"fill:#1f77b4;stroke:#1f77b4;\" x=\"215.465132\" xlink:href=\"#mde453f028b\" y=\"219.153764\"/>\n     <use style=\"fill:#1f77b4;stroke:#1f77b4;\" x=\"214.756492\" xlink:href=\"#mde453f028b\" y=\"215.515679\"/>\n     <use style=\"fill:#1f77b4;stroke:#1f77b4;\" x=\"256.521823\" xlink:href=\"#mde453f028b\" y=\"191.8575\"/>\n     <use style=\"fill:#1f77b4;stroke:#1f77b4;\" x=\"178.340519\" xlink:href=\"#mde453f028b\" y=\"229.723614\"/>\n     <use style=\"fill:#1f77b4;stroke:#1f77b4;\" x=\"183.008122\" xlink:href=\"#mde453f028b\" y=\"229.779333\"/>\n     <use style=\"fill:#1f77b4;stroke:#1f77b4;\" x=\"226.221364\" xlink:href=\"#mde453f028b\" y=\"209.14547\"/>\n     <use style=\"fill:#1f77b4;stroke:#1f77b4;\" x=\"266.061703\" xlink:href=\"#mde453f028b\" y=\"189.80452\"/>\n     <use style=\"fill:#1f77b4;stroke:#1f77b4;\" x=\"162.754126\" xlink:href=\"#mde453f028b\" y=\"241.238113\"/>\n     <use style=\"fill:#1f77b4;stroke:#1f77b4;\" x=\"152.443423\" xlink:href=\"#mde453f028b\" y=\"232.478016\"/>\n     <use style=\"fill:#1f77b4;stroke:#1f77b4;\" x=\"154.934233\" xlink:href=\"#mde453f028b\" y=\"232.090083\"/>\n     <use style=\"fill:#1f77b4;stroke:#1f77b4;\" x=\"205.006932\" xlink:href=\"#mde453f028b\" y=\"228.149154\"/>\n     <use style=\"fill:#1f77b4;stroke:#1f77b4;\" x=\"238.867005\" xlink:href=\"#mde453f028b\" y=\"204.886791\"/>\n     <use style=\"fill:#1f77b4;stroke:#1f77b4;\" x=\"173.735368\" xlink:href=\"#mde453f028b\" y=\"238.685858\"/>\n     <use style=\"fill:#1f77b4;stroke:#1f77b4;\" x=\"238.546421\" xlink:href=\"#mde453f028b\" y=\"210.493113\"/>\n     <use style=\"fill:#1f77b4;stroke:#1f77b4;\" x=\"207.516522\" xlink:href=\"#mde453f028b\" y=\"220.662981\"/>\n     <use style=\"fill:#1f77b4;stroke:#1f77b4;\" x=\"247.224402\" xlink:href=\"#mde453f028b\" y=\"204.148003\"/>\n     <use style=\"fill:#1f77b4;stroke:#1f77b4;\" x=\"157.445032\" xlink:href=\"#mde453f028b\" y=\"246.535295\"/>\n     <use style=\"fill:#1f77b4;stroke:#1f77b4;\" x=\"193.194634\" xlink:href=\"#mde453f028b\" y=\"209.284705\"/>\n     <use style=\"fill:#1f77b4;stroke:#1f77b4;\" x=\"243.558489\" xlink:href=\"#mde453f028b\" y=\"209.542139\"/>\n     <use style=\"fill:#1f77b4;stroke:#1f77b4;\" x=\"237.60974\" xlink:href=\"#mde453f028b\" y=\"204.670255\"/>\n     <use style=\"fill:#1f77b4;stroke:#1f77b4;\" x=\"241.813221\" xlink:href=\"#mde453f028b\" y=\"208.895494\"/>\n     <use style=\"fill:#1f77b4;stroke:#1f77b4;\" x=\"247.185161\" xlink:href=\"#mde453f028b\" y=\"190.051918\"/>\n     <use style=\"fill:#1f77b4;stroke:#1f77b4;\" x=\"185.56239\" xlink:href=\"#mde453f028b\" y=\"229.963142\"/>\n     <use style=\"fill:#1f77b4;stroke:#1f77b4;\" x=\"145.960513\" xlink:href=\"#mde453f028b\" y=\"254.927839\"/>\n     <use style=\"fill:#1f77b4;stroke:#1f77b4;\" x=\"215.494426\" xlink:href=\"#mde453f028b\" y=\"214.756903\"/>\n     <use style=\"fill:#1f77b4;stroke:#1f77b4;\" x=\"176.914573\" xlink:href=\"#mde453f028b\" y=\"231.954596\"/>\n     <use style=\"fill:#1f77b4;stroke:#1f77b4;\" x=\"170.46357\" xlink:href=\"#mde453f028b\" y=\"224.576649\"/>\n     <use style=\"fill:#1f77b4;stroke:#1f77b4;\" x=\"189.971512\" xlink:href=\"#mde453f028b\" y=\"255.684848\"/>\n     <use style=\"fill:#1f77b4;stroke:#1f77b4;\" x=\"206.141835\" xlink:href=\"#mde453f028b\" y=\"211.748092\"/>\n     <use style=\"fill:#1f77b4;stroke:#1f77b4;\" x=\"192.262988\" xlink:href=\"#mde453f028b\" y=\"226.676928\"/>\n     <use style=\"fill:#1f77b4;stroke:#1f77b4;\" x=\"240.412283\" xlink:href=\"#mde453f028b\" y=\"208.67722\"/>\n     <use style=\"fill:#1f77b4;stroke:#1f77b4;\" x=\"220.518469\" xlink:href=\"#mde453f028b\" y=\"208.770585\"/>\n     <use style=\"fill:#1f77b4;stroke:#1f77b4;\" x=\"254.982474\" xlink:href=\"#mde453f028b\" y=\"193.652379\"/>\n     <use style=\"fill:#1f77b4;stroke:#1f77b4;\" x=\"178.241315\" xlink:href=\"#mde453f028b\" y=\"241.801895\"/>\n     <use style=\"fill:#1f77b4;stroke:#1f77b4;\" x=\"215.292367\" xlink:href=\"#mde453f028b\" y=\"209.759991\"/>\n     <use style=\"fill:#1f77b4;stroke:#1f77b4;\" x=\"287.659326\" xlink:href=\"#mde453f028b\" y=\"170.824152\"/>\n     <use style=\"fill:#1f77b4;stroke:#1f77b4;\" x=\"267.230815\" xlink:href=\"#mde453f028b\" y=\"190.177782\"/>\n     <use style=\"fill:#1f77b4;stroke:#1f77b4;\" x=\"281.495392\" xlink:href=\"#mde453f028b\" y=\"182.94879\"/>\n     <use style=\"fill:#1f77b4;stroke:#1f77b4;\" x=\"170.884254\" xlink:href=\"#mde453f028b\" y=\"238.212398\"/>\n     <use style=\"fill:#1f77b4;stroke:#1f77b4;\" x=\"298.078019\" xlink:href=\"#mde453f028b\" y=\"174.219336\"/>\n     <use style=\"fill:#1f77b4;stroke:#1f77b4;\" x=\"190.081814\" xlink:href=\"#mde453f028b\" y=\"224.652879\"/>\n     <use style=\"fill:#1f77b4;stroke:#1f77b4;\" x=\"185.024897\" xlink:href=\"#mde453f028b\" y=\"242.787847\"/>\n     <use style=\"fill:#1f77b4;stroke:#1f77b4;\" x=\"242.977255\" xlink:href=\"#mde453f028b\" y=\"212.126821\"/>\n     <use style=\"fill:#1f77b4;stroke:#1f77b4;\" x=\"171.045166\" xlink:href=\"#mde453f028b\" y=\"244.264626\"/>\n     <use style=\"fill:#1f77b4;stroke:#1f77b4;\" x=\"166.076271\" xlink:href=\"#mde453f028b\" y=\"239.06936\"/>\n     <use style=\"fill:#1f77b4;stroke:#1f77b4;\" x=\"270.566447\" xlink:href=\"#mde453f028b\" y=\"199.780761\"/>\n     <use style=\"fill:#1f77b4;stroke:#1f77b4;\" x=\"166.152914\" xlink:href=\"#mde453f028b\" y=\"250.724818\"/>\n     <use style=\"fill:#1f77b4;stroke:#1f77b4;\" x=\"177.755001\" xlink:href=\"#mde453f028b\" y=\"228.322824\"/>\n     <use style=\"fill:#1f77b4;stroke:#1f77b4;\" x=\"169.355075\" xlink:href=\"#mde453f028b\" y=\"241.145866\"/>\n    </g>\n   </g>\n   <g id=\"PathCollection_2\">\n    <defs>\n     <path d=\"M 0 3 \nC 0.795609 3 1.55874 2.683901 2.12132 2.12132 \nC 2.683901 1.55874 3 0.795609 3 0 \nC 3 -0.795609 2.683901 -1.55874 2.12132 -2.12132 \nC 1.55874 -2.683901 0.795609 -3 0 -3 \nC -0.795609 -3 -1.55874 -2.683901 -2.12132 -2.12132 \nC -2.683901 -1.55874 -3 -0.795609 -3 0 \nC -3 0.795609 -2.683901 1.55874 -2.12132 2.12132 \nC -1.55874 2.683901 -0.795609 3 0 3 \nz\n\" id=\"m9a98034e2a\" style=\"stroke:#ff7f0e;\"/>\n    </defs>\n    <g clip-path=\"url(#pac6740312f)\">\n     <use style=\"fill:#ff7f0e;stroke:#ff7f0e;\" x=\"251.869449\" xlink:href=\"#m9a98034e2a\" y=\"214.349813\"/>\n     <use style=\"fill:#ff7f0e;stroke:#ff7f0e;\" x=\"148.975419\" xlink:href=\"#m9a98034e2a\" y=\"247.778131\"/>\n     <use style=\"fill:#ff7f0e;stroke:#ff7f0e;\" x=\"142.179903\" xlink:href=\"#m9a98034e2a\" y=\"236.895341\"/>\n     <use style=\"fill:#ff7f0e;stroke:#ff7f0e;\" x=\"209.242351\" xlink:href=\"#m9a98034e2a\" y=\"211.742154\"/>\n     <use style=\"fill:#ff7f0e;stroke:#ff7f0e;\" x=\"171.229497\" xlink:href=\"#m9a98034e2a\" y=\"234.088223\"/>\n     <use style=\"fill:#ff7f0e;stroke:#ff7f0e;\" x=\"214.48461\" xlink:href=\"#m9a98034e2a\" y=\"227.480554\"/>\n     <use style=\"fill:#ff7f0e;stroke:#ff7f0e;\" x=\"143.130392\" xlink:href=\"#m9a98034e2a\" y=\"238.243897\"/>\n     <use style=\"fill:#ff7f0e;stroke:#ff7f0e;\" x=\"180.368898\" xlink:href=\"#m9a98034e2a\" y=\"227.134173\"/>\n     <use style=\"fill:#ff7f0e;stroke:#ff7f0e;\" x=\"111.766881\" xlink:href=\"#m9a98034e2a\" y=\"263.718162\"/>\n     <use style=\"fill:#ff7f0e;stroke:#ff7f0e;\" x=\"232.372074\" xlink:href=\"#m9a98034e2a\" y=\"220.907076\"/>\n     <use style=\"fill:#ff7f0e;stroke:#ff7f0e;\" x=\"146.813009\" xlink:href=\"#m9a98034e2a\" y=\"253.218182\"/>\n     <use style=\"fill:#ff7f0e;stroke:#ff7f0e;\" x=\"218.670704\" xlink:href=\"#m9a98034e2a\" y=\"237.071974\"/>\n     <use style=\"fill:#ff7f0e;stroke:#ff7f0e;\" x=\"133.207066\" xlink:href=\"#m9a98034e2a\" y=\"246.862395\"/>\n     <use style=\"fill:#ff7f0e;stroke:#ff7f0e;\" x=\"104.479531\" xlink:href=\"#m9a98034e2a\" y=\"259.208318\"/>\n     <use style=\"fill:#ff7f0e;stroke:#ff7f0e;\" x=\"166.108007\" xlink:href=\"#m9a98034e2a\" y=\"240.226925\"/>\n     <use style=\"fill:#ff7f0e;stroke:#ff7f0e;\" x=\"145.308533\" xlink:href=\"#m9a98034e2a\" y=\"250.491539\"/>\n     <use style=\"fill:#ff7f0e;stroke:#ff7f0e;\" x=\"183.721533\" xlink:href=\"#m9a98034e2a\" y=\"229.530337\"/>\n     <use style=\"fill:#ff7f0e;stroke:#ff7f0e;\" x=\"126.600077\" xlink:href=\"#m9a98034e2a\" y=\"250.464017\"/>\n     <use style=\"fill:#ff7f0e;stroke:#ff7f0e;\" x=\"176.361165\" xlink:href=\"#m9a98034e2a\" y=\"240.941176\"/>\n     <use style=\"fill:#ff7f0e;stroke:#ff7f0e;\" x=\"242.406144\" xlink:href=\"#m9a98034e2a\" y=\"217.114247\"/>\n     <use style=\"fill:#ff7f0e;stroke:#ff7f0e;\" x=\"119.384792\" xlink:href=\"#m9a98034e2a\" y=\"248.649851\"/>\n     <use style=\"fill:#ff7f0e;stroke:#ff7f0e;\" x=\"135.072271\" xlink:href=\"#m9a98034e2a\" y=\"255.747743\"/>\n     <use style=\"fill:#ff7f0e;stroke:#ff7f0e;\" x=\"178.87421\" xlink:href=\"#m9a98034e2a\" y=\"234.878384\"/>\n     <use style=\"fill:#ff7f0e;stroke:#ff7f0e;\" x=\"202.207682\" xlink:href=\"#m9a98034e2a\" y=\"229.174154\"/>\n     <use style=\"fill:#ff7f0e;stroke:#ff7f0e;\" x=\"154.959843\" xlink:href=\"#m9a98034e2a\" y=\"240.545629\"/>\n     <use style=\"fill:#ff7f0e;stroke:#ff7f0e;\" x=\"164.38384\" xlink:href=\"#m9a98034e2a\" y=\"232.717071\"/>\n     <use style=\"fill:#ff7f0e;stroke:#ff7f0e;\" x=\"162.521609\" xlink:href=\"#m9a98034e2a\" y=\"237.851261\"/>\n     <use style=\"fill:#ff7f0e;stroke:#ff7f0e;\" x=\"182.783819\" xlink:href=\"#m9a98034e2a\" y=\"226.964064\"/>\n     <use style=\"fill:#ff7f0e;stroke:#ff7f0e;\" x=\"142.802654\" xlink:href=\"#m9a98034e2a\" y=\"237.083819\"/>\n     <use style=\"fill:#ff7f0e;stroke:#ff7f0e;\" x=\"157.722643\" xlink:href=\"#m9a98034e2a\" y=\"234.253507\"/>\n     <use style=\"fill:#ff7f0e;stroke:#ff7f0e;\" x=\"146.167031\" xlink:href=\"#m9a98034e2a\" y=\"246.292822\"/>\n     <use style=\"fill:#ff7f0e;stroke:#ff7f0e;\" x=\"151.878317\" xlink:href=\"#m9a98034e2a\" y=\"239.105433\"/>\n     <use style=\"fill:#ff7f0e;stroke:#ff7f0e;\" x=\"85.7607\" xlink:href=\"#m9a98034e2a\" y=\"260.879778\"/>\n     <use style=\"fill:#ff7f0e;stroke:#ff7f0e;\" x=\"58.423627\" xlink:href=\"#m9a98034e2a\" y=\"273.628458\"/>\n     <use style=\"fill:#ff7f0e;stroke:#ff7f0e;\" x=\"138.702643\" xlink:href=\"#m9a98034e2a\" y=\"250.499103\"/>\n     <use style=\"fill:#ff7f0e;stroke:#ff7f0e;\" x=\"156.152283\" xlink:href=\"#m9a98034e2a\" y=\"241.655139\"/>\n     <use style=\"fill:#ff7f0e;stroke:#ff7f0e;\" x=\"205.204408\" xlink:href=\"#m9a98034e2a\" y=\"232.847338\"/>\n     <use style=\"fill:#ff7f0e;stroke:#ff7f0e;\" x=\"157.871089\" xlink:href=\"#m9a98034e2a\" y=\"239.250165\"/>\n     <use style=\"fill:#ff7f0e;stroke:#ff7f0e;\" x=\"166.772517\" xlink:href=\"#m9a98034e2a\" y=\"235.933397\"/>\n     <use style=\"fill:#ff7f0e;stroke:#ff7f0e;\" x=\"157.730603\" xlink:href=\"#m9a98034e2a\" y=\"231.562378\"/>\n     <use style=\"fill:#ff7f0e;stroke:#ff7f0e;\" x=\"211.487979\" xlink:href=\"#m9a98034e2a\" y=\"217.662672\"/>\n     <use style=\"fill:#ff7f0e;stroke:#ff7f0e;\" x=\"165.365639\" xlink:href=\"#m9a98034e2a\" y=\"240.273259\"/>\n     <use style=\"fill:#ff7f0e;stroke:#ff7f0e;\" x=\"197.878862\" xlink:href=\"#m9a98034e2a\" y=\"225.506538\"/>\n     <use style=\"fill:#ff7f0e;stroke:#ff7f0e;\" x=\"161.861979\" xlink:href=\"#m9a98034e2a\" y=\"241.436658\"/>\n     <use style=\"fill:#ff7f0e;stroke:#ff7f0e;\" x=\"120.151168\" xlink:href=\"#m9a98034e2a\" y=\"254.194465\"/>\n     <use style=\"fill:#ff7f0e;stroke:#ff7f0e;\" x=\"166.793298\" xlink:href=\"#m9a98034e2a\" y=\"232.247083\"/>\n     <use style=\"fill:#ff7f0e;stroke:#ff7f0e;\" x=\"203.441874\" xlink:href=\"#m9a98034e2a\" y=\"230.687808\"/>\n     <use style=\"fill:#ff7f0e;stroke:#ff7f0e;\" x=\"145.62867\" xlink:href=\"#m9a98034e2a\" y=\"244.648632\"/>\n     <use style=\"fill:#ff7f0e;stroke:#ff7f0e;\" x=\"162.594378\" xlink:href=\"#m9a98034e2a\" y=\"242.132945\"/>\n     <use style=\"fill:#ff7f0e;stroke:#ff7f0e;\" x=\"100.93255\" xlink:href=\"#m9a98034e2a\" y=\"259.441676\"/>\n     <use style=\"fill:#ff7f0e;stroke:#ff7f0e;\" x=\"186.677083\" xlink:href=\"#m9a98034e2a\" y=\"235.126888\"/>\n     <use style=\"fill:#ff7f0e;stroke:#ff7f0e;\" x=\"215.04101\" xlink:href=\"#m9a98034e2a\" y=\"225.299059\"/>\n     <use style=\"fill:#ff7f0e;stroke:#ff7f0e;\" x=\"134.712913\" xlink:href=\"#m9a98034e2a\" y=\"247.10018\"/>\n     <use style=\"fill:#ff7f0e;stroke:#ff7f0e;\" x=\"110.614789\" xlink:href=\"#m9a98034e2a\" y=\"262.487415\"/>\n     <use style=\"fill:#ff7f0e;stroke:#ff7f0e;\" x=\"137.38536\" xlink:href=\"#m9a98034e2a\" y=\"232.965987\"/>\n     <use style=\"fill:#ff7f0e;stroke:#ff7f0e;\" x=\"137.930727\" xlink:href=\"#m9a98034e2a\" y=\"245.160201\"/>\n     <use style=\"fill:#ff7f0e;stroke:#ff7f0e;\" x=\"190.521382\" xlink:href=\"#m9a98034e2a\" y=\"231.729661\"/>\n     <use style=\"fill:#ff7f0e;stroke:#ff7f0e;\" x=\"91.789471\" xlink:href=\"#m9a98034e2a\" y=\"261.144781\"/>\n     <use style=\"fill:#ff7f0e;stroke:#ff7f0e;\" x=\"225.262382\" xlink:href=\"#m9a98034e2a\" y=\"227.097656\"/>\n     <use style=\"fill:#ff7f0e;stroke:#ff7f0e;\" x=\"107.152508\" xlink:href=\"#m9a98034e2a\" y=\"262.406165\"/>\n     <use style=\"fill:#ff7f0e;stroke:#ff7f0e;\" x=\"191.541846\" xlink:href=\"#m9a98034e2a\" y=\"238.320761\"/>\n     <use style=\"fill:#ff7f0e;stroke:#ff7f0e;\" x=\"160.159828\" xlink:href=\"#m9a98034e2a\" y=\"240.346057\"/>\n     <use style=\"fill:#ff7f0e;stroke:#ff7f0e;\" x=\"227.846091\" xlink:href=\"#m9a98034e2a\" y=\"223.077664\"/>\n     <use style=\"fill:#ff7f0e;stroke:#ff7f0e;\" x=\"154.602514\" xlink:href=\"#m9a98034e2a\" y=\"239.441577\"/>\n     <use style=\"fill:#ff7f0e;stroke:#ff7f0e;\" x=\"97.326287\" xlink:href=\"#m9a98034e2a\" y=\"257.237654\"/>\n     <use style=\"fill:#ff7f0e;stroke:#ff7f0e;\" x=\"199.780275\" xlink:href=\"#m9a98034e2a\" y=\"232.597696\"/>\n     <use style=\"fill:#ff7f0e;stroke:#ff7f0e;\" x=\"185.449471\" xlink:href=\"#m9a98034e2a\" y=\"237.580191\"/>\n     <use style=\"fill:#ff7f0e;stroke:#ff7f0e;\" x=\"113.271735\" xlink:href=\"#m9a98034e2a\" y=\"254.929503\"/>\n     <use style=\"fill:#ff7f0e;stroke:#ff7f0e;\" x=\"117.759749\" xlink:href=\"#m9a98034e2a\" y=\"250.414445\"/>\n     <use style=\"fill:#ff7f0e;stroke:#ff7f0e;\" x=\"197.975446\" xlink:href=\"#m9a98034e2a\" y=\"239.528932\"/>\n     <use style=\"fill:#ff7f0e;stroke:#ff7f0e;\" x=\"163.816412\" xlink:href=\"#m9a98034e2a\" y=\"247.20388\"/>\n     <use style=\"fill:#ff7f0e;stroke:#ff7f0e;\" x=\"135.366286\" xlink:href=\"#m9a98034e2a\" y=\"247.110728\"/>\n     <use style=\"fill:#ff7f0e;stroke:#ff7f0e;\" x=\"164.178346\" xlink:href=\"#m9a98034e2a\" y=\"245.29147\"/>\n     <use style=\"fill:#ff7f0e;stroke:#ff7f0e;\" x=\"144.656992\" xlink:href=\"#m9a98034e2a\" y=\"244.120293\"/>\n     <use style=\"fill:#ff7f0e;stroke:#ff7f0e;\" x=\"224.209685\" xlink:href=\"#m9a98034e2a\" y=\"216.163182\"/>\n     <use style=\"fill:#ff7f0e;stroke:#ff7f0e;\" x=\"145.141616\" xlink:href=\"#m9a98034e2a\" y=\"252.772875\"/>\n     <use style=\"fill:#ff7f0e;stroke:#ff7f0e;\" x=\"155.39481\" xlink:href=\"#m9a98034e2a\" y=\"244.789965\"/>\n     <use style=\"fill:#ff7f0e;stroke:#ff7f0e;\" x=\"207.524677\" xlink:href=\"#m9a98034e2a\" y=\"230.295398\"/>\n     <use style=\"fill:#ff7f0e;stroke:#ff7f0e;\" x=\"114.870792\" xlink:href=\"#m9a98034e2a\" y=\"245.606332\"/>\n     <use style=\"fill:#ff7f0e;stroke:#ff7f0e;\" x=\"154.254076\" xlink:href=\"#m9a98034e2a\" y=\"250.154603\"/>\n     <use style=\"fill:#ff7f0e;stroke:#ff7f0e;\" x=\"117.350449\" xlink:href=\"#m9a98034e2a\" y=\"257.362579\"/>\n     <use style=\"fill:#ff7f0e;stroke:#ff7f0e;\" x=\"249.497987\" xlink:href=\"#m9a98034e2a\" y=\"214.487258\"/>\n     <use style=\"fill:#ff7f0e;stroke:#ff7f0e;\" x=\"167.553624\" xlink:href=\"#m9a98034e2a\" y=\"233.226375\"/>\n     <use style=\"fill:#ff7f0e;stroke:#ff7f0e;\" x=\"198.222331\" xlink:href=\"#m9a98034e2a\" y=\"234.785286\"/>\n     <use style=\"fill:#ff7f0e;stroke:#ff7f0e;\" x=\"163.504051\" xlink:href=\"#m9a98034e2a\" y=\"228.798801\"/>\n     <use style=\"fill:#ff7f0e;stroke:#ff7f0e;\" x=\"93.037996\" xlink:href=\"#m9a98034e2a\" y=\"262.459557\"/>\n     <use style=\"fill:#ff7f0e;stroke:#ff7f0e;\" x=\"181.40998\" xlink:href=\"#m9a98034e2a\" y=\"226.228835\"/>\n     <use style=\"fill:#ff7f0e;stroke:#ff7f0e;\" x=\"192.174098\" xlink:href=\"#m9a98034e2a\" y=\"245.825345\"/>\n     <use style=\"fill:#ff7f0e;stroke:#ff7f0e;\" x=\"181.253841\" xlink:href=\"#m9a98034e2a\" y=\"237.203741\"/>\n     <use style=\"fill:#ff7f0e;stroke:#ff7f0e;\" x=\"189.759166\" xlink:href=\"#m9a98034e2a\" y=\"236.635957\"/>\n     <use style=\"fill:#ff7f0e;stroke:#ff7f0e;\" x=\"120.170274\" xlink:href=\"#m9a98034e2a\" y=\"252.928375\"/>\n     <use style=\"fill:#ff7f0e;stroke:#ff7f0e;\" x=\"174.235261\" xlink:href=\"#m9a98034e2a\" y=\"232.09679\"/>\n     <use style=\"fill:#ff7f0e;stroke:#ff7f0e;\" x=\"153.866469\" xlink:href=\"#m9a98034e2a\" y=\"245.577599\"/>\n     <use style=\"fill:#ff7f0e;stroke:#ff7f0e;\" x=\"169.767512\" xlink:href=\"#m9a98034e2a\" y=\"233.275867\"/>\n     <use style=\"fill:#ff7f0e;stroke:#ff7f0e;\" x=\"128.328259\" xlink:href=\"#m9a98034e2a\" y=\"257.689346\"/>\n     <use style=\"fill:#ff7f0e;stroke:#ff7f0e;\" x=\"248.954145\" xlink:href=\"#m9a98034e2a\" y=\"226.877331\"/>\n     <use style=\"fill:#ff7f0e;stroke:#ff7f0e;\" x=\"137.152777\" xlink:href=\"#m9a98034e2a\" y=\"259.339642\"/>\n     <use style=\"fill:#ff7f0e;stroke:#ff7f0e;\" x=\"56.463068\" xlink:href=\"#m9a98034e2a\" y=\"264.774639\"/>\n     <use style=\"fill:#ff7f0e;stroke:#ff7f0e;\" x=\"124.850289\" xlink:href=\"#m9a98034e2a\" y=\"247.001705\"/>\n     <use style=\"fill:#ff7f0e;stroke:#ff7f0e;\" x=\"157.789549\" xlink:href=\"#m9a98034e2a\" y=\"233.226432\"/>\n    </g>\n   </g>\n   <g id=\"matplotlib.axis_3\">\n    <g id=\"xtick_9\">\n     <g id=\"line2d_29\">\n      <g>\n       <use style=\"stroke:#000000;stroke-width:0.8;\" x=\"86.571479\" xlink:href=\"#m29d32900cd\" y=\"279\"/>\n      </g>\n     </g>\n     <g id=\"text_16\">\n      <!-- −2 -->\n      <defs>\n       <path d=\"M 10.59375 35.5 \nL 73.1875 35.5 \nL 73.1875 27.203125 \nL 10.59375 27.203125 \nz\n\" id=\"DejaVuSans-8722\"/>\n      </defs>\n      <g transform=\"translate(79.200385 293.598437)scale(0.1 -0.1)\">\n       <use xlink:href=\"#DejaVuSans-8722\"/>\n       <use x=\"83.789062\" xlink:href=\"#DejaVuSans-50\"/>\n      </g>\n     </g>\n    </g>\n    <g id=\"xtick_10\">\n     <g id=\"line2d_30\">\n      <g>\n       <use style=\"stroke:#000000;stroke-width:0.8;\" x=\"130.661946\" xlink:href=\"#m29d32900cd\" y=\"279\"/>\n      </g>\n     </g>\n     <g id=\"text_17\">\n      <!-- −1 -->\n      <g transform=\"translate(123.290852 293.598437)scale(0.1 -0.1)\">\n       <use xlink:href=\"#DejaVuSans-8722\"/>\n       <use x=\"83.789062\" xlink:href=\"#DejaVuSans-49\"/>\n      </g>\n     </g>\n    </g>\n    <g id=\"xtick_11\">\n     <g id=\"line2d_31\">\n      <g>\n       <use style=\"stroke:#000000;stroke-width:0.8;\" x=\"174.752413\" xlink:href=\"#m29d32900cd\" y=\"279\"/>\n      </g>\n     </g>\n     <g id=\"text_18\">\n      <!-- 0 -->\n      <g transform=\"translate(171.571163 293.598437)scale(0.1 -0.1)\">\n       <use xlink:href=\"#DejaVuSans-48\"/>\n      </g>\n     </g>\n    </g>\n    <g id=\"xtick_12\">\n     <g id=\"line2d_32\">\n      <g>\n       <use style=\"stroke:#000000;stroke-width:0.8;\" x=\"218.84288\" xlink:href=\"#m29d32900cd\" y=\"279\"/>\n      </g>\n     </g>\n     <g id=\"text_19\">\n      <!-- 1 -->\n      <g transform=\"translate(215.66163 293.598437)scale(0.1 -0.1)\">\n       <use xlink:href=\"#DejaVuSans-49\"/>\n      </g>\n     </g>\n    </g>\n    <g id=\"xtick_13\">\n     <g id=\"line2d_33\">\n      <g>\n       <use style=\"stroke:#000000;stroke-width:0.8;\" x=\"262.933347\" xlink:href=\"#m29d32900cd\" y=\"279\"/>\n      </g>\n     </g>\n     <g id=\"text_20\">\n      <!-- 2 -->\n      <g transform=\"translate(259.752097 293.598437)scale(0.1 -0.1)\">\n       <use xlink:href=\"#DejaVuSans-50\"/>\n      </g>\n     </g>\n    </g>\n    <g id=\"xtick_14\">\n     <g id=\"line2d_34\">\n      <g>\n       <use style=\"stroke:#000000;stroke-width:0.8;\" x=\"307.023814\" xlink:href=\"#m29d32900cd\" y=\"279\"/>\n      </g>\n     </g>\n     <g id=\"text_21\">\n      <!-- 3 -->\n      <defs>\n       <path d=\"M 40.578125 39.3125 \nQ 47.65625 37.796875 51.625 33 \nQ 55.609375 28.21875 55.609375 21.1875 \nQ 55.609375 10.40625 48.1875 4.484375 \nQ 40.765625 -1.421875 27.09375 -1.421875 \nQ 22.515625 -1.421875 17.65625 -0.515625 \nQ 12.796875 0.390625 7.625 2.203125 \nL 7.625 11.71875 \nQ 11.71875 9.328125 16.59375 8.109375 \nQ 21.484375 6.890625 26.8125 6.890625 \nQ 36.078125 6.890625 40.9375 10.546875 \nQ 45.796875 14.203125 45.796875 21.1875 \nQ 45.796875 27.640625 41.28125 31.265625 \nQ 36.765625 34.90625 28.71875 34.90625 \nL 20.21875 34.90625 \nL 20.21875 43.015625 \nL 29.109375 43.015625 \nQ 36.375 43.015625 40.234375 45.921875 \nQ 44.09375 48.828125 44.09375 54.296875 \nQ 44.09375 59.90625 40.109375 62.90625 \nQ 36.140625 65.921875 28.71875 65.921875 \nQ 24.65625 65.921875 20.015625 65.03125 \nQ 15.375 64.15625 9.8125 62.3125 \nL 9.8125 71.09375 \nQ 15.4375 72.65625 20.34375 73.4375 \nQ 25.25 74.21875 29.59375 74.21875 \nQ 40.828125 74.21875 47.359375 69.109375 \nQ 53.90625 64.015625 53.90625 55.328125 \nQ 53.90625 49.265625 50.4375 45.09375 \nQ 46.96875 40.921875 40.578125 39.3125 \nz\n\" id=\"DejaVuSans-51\"/>\n      </defs>\n      <g transform=\"translate(303.842564 293.598437)scale(0.1 -0.1)\">\n       <use xlink:href=\"#DejaVuSans-51\"/>\n      </g>\n     </g>\n    </g>\n   </g>\n   <g id=\"matplotlib.axis_4\">\n    <g id=\"ytick_4\">\n     <g id=\"line2d_35\">\n      <g>\n       <use style=\"stroke:#000000;stroke-width:0.8;\" x=\"43.78125\" xlink:href=\"#m2b73ad5f1c\" y=\"265.785546\"/>\n      </g>\n     </g>\n     <g id=\"text_22\">\n      <!-- −2.5 -->\n      <g transform=\"translate(12.498438 269.584765)scale(0.1 -0.1)\">\n       <use xlink:href=\"#DejaVuSans-8722\"/>\n       <use x=\"83.789062\" xlink:href=\"#DejaVuSans-50\"/>\n       <use x=\"147.412109\" xlink:href=\"#DejaVuSans-46\"/>\n       <use x=\"179.199219\" xlink:href=\"#DejaVuSans-53\"/>\n      </g>\n     </g>\n    </g>\n    <g id=\"ytick_5\">\n     <g id=\"line2d_36\">\n      <g>\n       <use style=\"stroke:#000000;stroke-width:0.8;\" x=\"43.78125\" xlink:href=\"#m2b73ad5f1c\" y=\"236.906375\"/>\n      </g>\n     </g>\n     <g id=\"text_23\">\n      <!-- 0.0 -->\n      <g transform=\"translate(20.878125 240.705594)scale(0.1 -0.1)\">\n       <use xlink:href=\"#DejaVuSans-48\"/>\n       <use x=\"63.623047\" xlink:href=\"#DejaVuSans-46\"/>\n       <use x=\"95.410156\" xlink:href=\"#DejaVuSans-48\"/>\n      </g>\n     </g>\n    </g>\n    <g id=\"ytick_6\">\n     <g id=\"line2d_37\">\n      <g>\n       <use style=\"stroke:#000000;stroke-width:0.8;\" x=\"43.78125\" xlink:href=\"#m2b73ad5f1c\" y=\"208.027204\"/>\n      </g>\n     </g>\n     <g id=\"text_24\">\n      <!-- 2.5 -->\n      <g transform=\"translate(20.878125 211.826422)scale(0.1 -0.1)\">\n       <use xlink:href=\"#DejaVuSans-50\"/>\n       <use x=\"63.623047\" xlink:href=\"#DejaVuSans-46\"/>\n       <use x=\"95.410156\" xlink:href=\"#DejaVuSans-53\"/>\n      </g>\n     </g>\n    </g>\n    <g id=\"ytick_7\">\n     <g id=\"line2d_38\">\n      <g>\n       <use style=\"stroke:#000000;stroke-width:0.8;\" x=\"43.78125\" xlink:href=\"#m2b73ad5f1c\" y=\"179.148033\"/>\n      </g>\n     </g>\n     <g id=\"text_25\">\n      <!-- 5.0 -->\n      <g transform=\"translate(20.878125 182.947251)scale(0.1 -0.1)\">\n       <use xlink:href=\"#DejaVuSans-53\"/>\n       <use x=\"63.623047\" xlink:href=\"#DejaVuSans-46\"/>\n       <use x=\"95.410156\" xlink:href=\"#DejaVuSans-48\"/>\n      </g>\n     </g>\n    </g>\n   </g>\n   <g id=\"patch_9\">\n    <path d=\"M 43.78125 279 \nL 43.78125 160.826087 \n\" style=\"fill:none;stroke:#000000;stroke-linecap:square;stroke-linejoin:miter;stroke-width:0.8;\"/>\n   </g>\n   <g id=\"patch_10\">\n    <path d=\"M 322.78125 279 \nL 322.78125 160.826087 \n\" style=\"fill:none;stroke:#000000;stroke-linecap:square;stroke-linejoin:miter;stroke-width:0.8;\"/>\n   </g>\n   <g id=\"patch_11\">\n    <path d=\"M 43.78125 279 \nL 322.78125 279 \n\" style=\"fill:none;stroke:#000000;stroke-linecap:square;stroke-linejoin:miter;stroke-width:0.8;\"/>\n   </g>\n   <g id=\"patch_12\">\n    <path d=\"M 43.78125 160.826087 \nL 322.78125 160.826087 \n\" style=\"fill:none;stroke:#000000;stroke-linecap:square;stroke-linejoin:miter;stroke-width:0.8;\"/>\n   </g>\n   <g id=\"legend_2\">\n    <g id=\"patch_13\">\n     <path d=\"M 50.78125 198.182337 \nL 134.434375 198.182337 \nQ 136.434375 198.182337 136.434375 196.182337 \nL 136.434375 167.826087 \nQ 136.434375 165.826087 134.434375 165.826087 \nL 50.78125 165.826087 \nQ 48.78125 165.826087 48.78125 167.826087 \nL 48.78125 196.182337 \nQ 48.78125 198.182337 50.78125 198.182337 \nz\n\" style=\"fill:#ffffff;opacity:0.8;stroke:#cccccc;stroke-linejoin:miter;\"/>\n    </g>\n    <g id=\"PathCollection_3\">\n     <g>\n      <use style=\"fill:#1f77b4;stroke:#1f77b4;\" x=\"62.78125\" xlink:href=\"#mde453f028b\" y=\"174.799524\"/>\n     </g>\n    </g>\n    <g id=\"text_26\">\n     <!-- real -->\n     <g transform=\"translate(80.78125 177.424524)scale(0.1 -0.1)\">\n      <use xlink:href=\"#DejaVuSans-114\"/>\n      <use x=\"38.863281\" xlink:href=\"#DejaVuSans-101\"/>\n      <use x=\"100.386719\" xlink:href=\"#DejaVuSans-97\"/>\n      <use x=\"161.666016\" xlink:href=\"#DejaVuSans-108\"/>\n     </g>\n    </g>\n    <g id=\"PathCollection_4\">\n     <g>\n      <use style=\"fill:#ff7f0e;stroke:#ff7f0e;\" x=\"62.78125\" xlink:href=\"#m9a98034e2a\" y=\"189.477649\"/>\n     </g>\n    </g>\n    <g id=\"text_27\">\n     <!-- generated -->\n     <g transform=\"translate(80.78125 192.102649)scale(0.1 -0.1)\">\n      <use xlink:href=\"#DejaVuSans-103\"/>\n      <use x=\"63.476562\" xlink:href=\"#DejaVuSans-101\"/>\n      <use x=\"125\" xlink:href=\"#DejaVuSans-110\"/>\n      <use x=\"188.378906\" xlink:href=\"#DejaVuSans-101\"/>\n      <use x=\"249.902344\" xlink:href=\"#DejaVuSans-114\"/>\n      <use x=\"291.015625\" xlink:href=\"#DejaVuSans-97\"/>\n      <use x=\"352.294922\" xlink:href=\"#DejaVuSans-116\"/>\n      <use x=\"391.503906\" xlink:href=\"#DejaVuSans-101\"/>\n      <use x=\"453.027344\" xlink:href=\"#DejaVuSans-100\"/>\n     </g>\n    </g>\n   </g>\n  </g>\n </g>\n <defs>\n  <clipPath id=\"pa45e02b19e\">\n   <rect height=\"118.173913\" width=\"279\" x=\"43.78125\" y=\"7.2\"/>\n  </clipPath>\n  <clipPath id=\"pac6740312f\">\n   <rect height=\"118.173913\" width=\"279\" x=\"43.78125\" y=\"160.826087\"/>\n  </clipPath>\n </defs>\n</svg>\n"
          },
          "metadata": {
            "tags": [],
            "needs_background": "light"
          }
        }
      ]
    },
    {
      "cell_type": "code",
      "metadata": {
        "id": "ETIuPoyKq5H6"
      },
      "source": [
        "data[:100].detach()"
      ],
      "execution_count": null,
      "outputs": []
    },
    {
      "cell_type": "code",
      "metadata": {
        "id": "Dq9WQrWVrZkH"
      },
      "source": [
        "Z = d2l.normal([batch_size, latent_dim], 0, 1, tf.float32)"
      ],
      "execution_count": null,
      "outputs": []
    },
    {
      "cell_type": "code",
      "metadata": {
        "id": "VUTr7NvXrasn"
      },
      "source": [
        "print(Z)"
      ],
      "execution_count": null,
      "outputs": []
    },
    {
      "cell_type": "code",
      "metadata": {
        "id": "nt36W9fwla07"
      },
      "source": [
        "X"
      ],
      "execution_count": null,
      "outputs": []
    },
    {
      "cell_type": "code",
      "metadata": {
        "id": "MrjhT6AIlcm8"
      },
      "source": [
        "X.shape"
      ],
      "execution_count": null,
      "outputs": []
    },
    {
      "cell_type": "code",
      "metadata": {
        "id": "L3606cMifCZt"
      },
      "source": [
        "X"
      ],
      "execution_count": null,
      "outputs": []
    },
    {
      "cell_type": "code",
      "metadata": {
        "id": "m6CvabYAfCZu"
      },
      "source": [
        "Z"
      ],
      "execution_count": null,
      "outputs": []
    },
    {
      "cell_type": "code",
      "metadata": {
        "id": "UC34OnCMfCZv"
      },
      "source": [
        "data"
      ],
      "execution_count": null,
      "outputs": []
    },
    {
      "cell_type": "code",
      "metadata": {
        "id": "dgRfXfv9fCZw"
      },
      "source": [
        "tf.data.Dataset.from_tensors(X)"
      ],
      "execution_count": null,
      "outputs": []
    },
    {
      "cell_type": "code",
      "metadata": {
        "id": "2uDtx9pjfCZw"
      },
      "source": [
        "tf.shape(X)"
      ],
      "execution_count": null,
      "outputs": []
    },
    {
      "cell_type": "code",
      "metadata": {
        "id": "HS4iiQVGfCZx"
      },
      "source": [
        "tf.convert_to_tensor(X)"
      ],
      "execution_count": null,
      "outputs": []
    },
    {
      "cell_type": "code",
      "metadata": {
        "id": "DIxl8zsSfCZy"
      },
      "source": [
        "X == tf.convert_to_tensor(X)"
      ],
      "execution_count": null,
      "outputs": []
    },
    {
      "cell_type": "code",
      "metadata": {
        "id": "sIpuIbpPfCZz"
      },
      "source": [
        "net_D(tf.convert_to_tensor(X), training=True)"
      ],
      "execution_count": null,
      "outputs": []
    },
    {
      "cell_type": "code",
      "metadata": {
        "id": "SvkFGNPVfCZ0"
      },
      "source": [
        "net_D(X, training=True)"
      ],
      "execution_count": null,
      "outputs": []
    },
    {
      "cell_type": "code",
      "metadata": {
        "id": "SKgT5sKDfCZ1"
      },
      "source": [
        "net_D(tf.convert_to_tensor(X), training=True) == net_D(X, training=True)"
      ],
      "execution_count": null,
      "outputs": []
    },
    {
      "cell_type": "code",
      "metadata": {
        "id": "EGClkOCdfCZ3"
      },
      "source": [
        ""
      ],
      "execution_count": null,
      "outputs": []
    }
  ]
}