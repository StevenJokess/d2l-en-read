{
 "metadata": {
  "language_info": {
   "codemirror_mode": {
    "name": "ipython",
    "version": 3
   },
   "file_extension": ".py",
   "mimetype": "text/x-python",
   "name": "python",
   "nbconvert_exporter": "python",
   "pygments_lexer": "ipython3",
   "version": "3.8.3-final"
  },
  "orig_nbformat": 2,
  "kernelspec": {
   "name": "python38364bitpytorchconda70fdc7f787194f4c972bb3207dd25917",
   "display_name": "Python 3.8.3 64-bit ('pytorch': conda)"
  }
 },
 "nbformat": 4,
 "nbformat_minor": 2,
 "cells": [
  {
   "cell_type": "markdown",
   "metadata": {},
   "source": [
    "https://github.com/d2l-ai/d2l-en/pull/1358"
   ]
  },
  {
   "cell_type": "code",
   "execution_count": 1,
   "metadata": {},
   "outputs": [],
   "source": [
    "%matplotlib inline\n",
    "from d2l import torch as d2l\n",
    "import torch\n",
    "from torch import nn\n",
    "from torch.utils.data import DataLoader"
   ]
  },
  {
   "cell_type": "code",
   "execution_count": 2,
   "metadata": {},
   "outputs": [],
   "source": [
    "X = torch.normal(0.0, 1, (1000, 2))\n",
    "A = torch.tensor([[1, 2], [-0.1, 0.5]])\n",
    "b = torch.tensor([1, 2])\n",
    "data = torch.mm(X, A) + b"
   ]
  },
  {
   "cell_type": "code",
   "execution_count": 3,
   "metadata": {
    "tags": []
   },
   "outputs": [
    {
     "output_type": "stream",
     "name": "stdout",
     "text": "The covariance matrix is\ntensor([[1.0100, 1.9500],\n        [1.9500, 4.2500]])\n"
    },
    {
     "output_type": "display_data",
     "data": {
      "text/plain": "<Figure size 252x180 with 1 Axes>",
      "image/svg+xml": "<?xml version=\"1.0\" encoding=\"utf-8\" standalone=\"no\"?>\r\n<!DOCTYPE svg PUBLIC \"-//W3C//DTD SVG 1.1//EN\"\r\n  \"http://www.w3.org/Graphics/SVG/1.1/DTD/svg11.dtd\">\r\n<!-- Created with matplotlib (https://matplotlib.org/) -->\r\n<svg height=\"166.978125pt\" version=\"1.1\" viewBox=\"0 0 231.442187 166.978125\" width=\"231.442187pt\" xmlns=\"http://www.w3.org/2000/svg\" xmlns:xlink=\"http://www.w3.org/1999/xlink\">\r\n <metadata>\r\n  <rdf:RDF xmlns:cc=\"http://creativecommons.org/ns#\" xmlns:dc=\"http://purl.org/dc/elements/1.1/\" xmlns:rdf=\"http://www.w3.org/1999/02/22-rdf-syntax-ns#\">\r\n   <cc:Work>\r\n    <dc:type rdf:resource=\"http://purl.org/dc/dcmitype/StillImage\"/>\r\n    <dc:date>2020-08-24T19:39:15.526970</dc:date>\r\n    <dc:format>image/svg+xml</dc:format>\r\n    <dc:creator>\r\n     <cc:Agent>\r\n      <dc:title>Matplotlib v3.3.0, https://matplotlib.org/</dc:title>\r\n     </cc:Agent>\r\n    </dc:creator>\r\n   </cc:Work>\r\n  </rdf:RDF>\r\n </metadata>\r\n <defs>\r\n  <style type=\"text/css\">*{stroke-linecap:butt;stroke-linejoin:round;}</style>\r\n </defs>\r\n <g id=\"figure_1\">\r\n  <g id=\"patch_1\">\r\n   <path d=\"M 0 166.978125 \r\nL 231.442187 166.978125 \r\nL 231.442187 0 \r\nL 0 0 \r\nz\r\n\" style=\"fill:none;\"/>\r\n  </g>\r\n  <g id=\"axes_1\">\r\n   <g id=\"patch_2\">\r\n    <path d=\"M 28.942188 143.1 \r\nL 224.242188 143.1 \r\nL 224.242188 7.2 \r\nL 28.942188 7.2 \r\nz\r\n\" style=\"fill:#ffffff;\"/>\r\n   </g>\r\n   <g id=\"PathCollection_1\">\r\n    <defs>\r\n     <path d=\"M 0 3 \r\nC 0.795609 3 1.55874 2.683901 2.12132 2.12132 \r\nC 2.683901 1.55874 3 0.795609 3 0 \r\nC 3 -0.795609 2.683901 -1.55874 2.12132 -2.12132 \r\nC 1.55874 -2.683901 0.795609 -3 0 -3 \r\nC -0.795609 -3 -1.55874 -2.683901 -2.12132 -2.12132 \r\nC -2.683901 -1.55874 -3 -0.795609 -3 0 \r\nC -3 0.795609 -2.683901 1.55874 -2.12132 2.12132 \r\nC -1.55874 2.683901 -0.795609 3 0 3 \r\nz\r\n\" id=\"mfa42a3d727\" style=\"stroke:#1f77b4;\"/>\r\n    </defs>\r\n    <g clip-path=\"url(#p0f6aea5327)\">\r\n     <use style=\"fill:#1f77b4;stroke:#1f77b4;\" x=\"118.290744\" xlink:href=\"#mfa42a3d727\" y=\"81.130255\"/>\r\n     <use style=\"fill:#1f77b4;stroke:#1f77b4;\" x=\"119.229212\" xlink:href=\"#mfa42a3d727\" y=\"91.476866\"/>\r\n     <use style=\"fill:#1f77b4;stroke:#1f77b4;\" x=\"199.97541\" xlink:href=\"#mfa42a3d727\" y=\"22.792407\"/>\r\n     <use style=\"fill:#1f77b4;stroke:#1f77b4;\" x=\"128.18084\" xlink:href=\"#mfa42a3d727\" y=\"79.960505\"/>\r\n     <use style=\"fill:#1f77b4;stroke:#1f77b4;\" x=\"37.81946\" xlink:href=\"#mfa42a3d727\" y=\"132.016134\"/>\r\n     <use style=\"fill:#1f77b4;stroke:#1f77b4;\" x=\"92.787048\" xlink:href=\"#mfa42a3d727\" y=\"102.352195\"/>\r\n     <use style=\"fill:#1f77b4;stroke:#1f77b4;\" x=\"184.594721\" xlink:href=\"#mfa42a3d727\" y=\"38.44645\"/>\r\n     <use style=\"fill:#1f77b4;stroke:#1f77b4;\" x=\"127.808288\" xlink:href=\"#mfa42a3d727\" y=\"76.462169\"/>\r\n     <use style=\"fill:#1f77b4;stroke:#1f77b4;\" x=\"105.892258\" xlink:href=\"#mfa42a3d727\" y=\"92.315489\"/>\r\n     <use style=\"fill:#1f77b4;stroke:#1f77b4;\" x=\"123.805147\" xlink:href=\"#mfa42a3d727\" y=\"74.038637\"/>\r\n     <use style=\"fill:#1f77b4;stroke:#1f77b4;\" x=\"142.704565\" xlink:href=\"#mfa42a3d727\" y=\"62.571533\"/>\r\n     <use style=\"fill:#1f77b4;stroke:#1f77b4;\" x=\"48.865774\" xlink:href=\"#mfa42a3d727\" y=\"122.75709\"/>\r\n     <use style=\"fill:#1f77b4;stroke:#1f77b4;\" x=\"82.410223\" xlink:href=\"#mfa42a3d727\" y=\"105.327252\"/>\r\n     <use style=\"fill:#1f77b4;stroke:#1f77b4;\" x=\"46.015163\" xlink:href=\"#mfa42a3d727\" y=\"128.560933\"/>\r\n     <use style=\"fill:#1f77b4;stroke:#1f77b4;\" x=\"86.731655\" xlink:href=\"#mfa42a3d727\" y=\"113.415683\"/>\r\n     <use style=\"fill:#1f77b4;stroke:#1f77b4;\" x=\"107.845893\" xlink:href=\"#mfa42a3d727\" y=\"81.910078\"/>\r\n     <use style=\"fill:#1f77b4;stroke:#1f77b4;\" x=\"195.166974\" xlink:href=\"#mfa42a3d727\" y=\"16.191764\"/>\r\n     <use style=\"fill:#1f77b4;stroke:#1f77b4;\" x=\"47.902803\" xlink:href=\"#mfa42a3d727\" y=\"136.922727\"/>\r\n     <use style=\"fill:#1f77b4;stroke:#1f77b4;\" x=\"138.326753\" xlink:href=\"#mfa42a3d727\" y=\"55.39875\"/>\r\n     <use style=\"fill:#1f77b4;stroke:#1f77b4;\" x=\"88.42598\" xlink:href=\"#mfa42a3d727\" y=\"104.790945\"/>\r\n     <use style=\"fill:#1f77b4;stroke:#1f77b4;\" x=\"176.125193\" xlink:href=\"#mfa42a3d727\" y=\"52.98149\"/>\r\n     <use style=\"fill:#1f77b4;stroke:#1f77b4;\" x=\"123.308821\" xlink:href=\"#mfa42a3d727\" y=\"75.124476\"/>\r\n     <use style=\"fill:#1f77b4;stroke:#1f77b4;\" x=\"122.520771\" xlink:href=\"#mfa42a3d727\" y=\"68.797836\"/>\r\n     <use style=\"fill:#1f77b4;stroke:#1f77b4;\" x=\"89.917633\" xlink:href=\"#mfa42a3d727\" y=\"107.098699\"/>\r\n     <use style=\"fill:#1f77b4;stroke:#1f77b4;\" x=\"174.329353\" xlink:href=\"#mfa42a3d727\" y=\"24.706022\"/>\r\n     <use style=\"fill:#1f77b4;stroke:#1f77b4;\" x=\"141.651505\" xlink:href=\"#mfa42a3d727\" y=\"61.504767\"/>\r\n     <use style=\"fill:#1f77b4;stroke:#1f77b4;\" x=\"103.070994\" xlink:href=\"#mfa42a3d727\" y=\"98.349376\"/>\r\n     <use style=\"fill:#1f77b4;stroke:#1f77b4;\" x=\"215.364915\" xlink:href=\"#mfa42a3d727\" y=\"13.377273\"/>\r\n     <use style=\"fill:#1f77b4;stroke:#1f77b4;\" x=\"146.285957\" xlink:href=\"#mfa42a3d727\" y=\"62.844149\"/>\r\n     <use style=\"fill:#1f77b4;stroke:#1f77b4;\" x=\"88.824003\" xlink:href=\"#mfa42a3d727\" y=\"93.814428\"/>\r\n     <use style=\"fill:#1f77b4;stroke:#1f77b4;\" x=\"77.146323\" xlink:href=\"#mfa42a3d727\" y=\"121.956994\"/>\r\n     <use style=\"fill:#1f77b4;stroke:#1f77b4;\" x=\"88.727561\" xlink:href=\"#mfa42a3d727\" y=\"102.822641\"/>\r\n     <use style=\"fill:#1f77b4;stroke:#1f77b4;\" x=\"98.419506\" xlink:href=\"#mfa42a3d727\" y=\"107.205999\"/>\r\n     <use style=\"fill:#1f77b4;stroke:#1f77b4;\" x=\"172.326172\" xlink:href=\"#mfa42a3d727\" y=\"39.19505\"/>\r\n     <use style=\"fill:#1f77b4;stroke:#1f77b4;\" x=\"89.454873\" xlink:href=\"#mfa42a3d727\" y=\"87.154867\"/>\r\n     <use style=\"fill:#1f77b4;stroke:#1f77b4;\" x=\"60.115803\" xlink:href=\"#mfa42a3d727\" y=\"118.548422\"/>\r\n     <use style=\"fill:#1f77b4;stroke:#1f77b4;\" x=\"120.741349\" xlink:href=\"#mfa42a3d727\" y=\"74.858945\"/>\r\n     <use style=\"fill:#1f77b4;stroke:#1f77b4;\" x=\"142.395744\" xlink:href=\"#mfa42a3d727\" y=\"70.141578\"/>\r\n     <use style=\"fill:#1f77b4;stroke:#1f77b4;\" x=\"135.63418\" xlink:href=\"#mfa42a3d727\" y=\"68.355318\"/>\r\n     <use style=\"fill:#1f77b4;stroke:#1f77b4;\" x=\"128.861884\" xlink:href=\"#mfa42a3d727\" y=\"70.424468\"/>\r\n     <use style=\"fill:#1f77b4;stroke:#1f77b4;\" x=\"181.808297\" xlink:href=\"#mfa42a3d727\" y=\"29.081893\"/>\r\n     <use style=\"fill:#1f77b4;stroke:#1f77b4;\" x=\"136.349376\" xlink:href=\"#mfa42a3d727\" y=\"64.273556\"/>\r\n     <use style=\"fill:#1f77b4;stroke:#1f77b4;\" x=\"169.784513\" xlink:href=\"#mfa42a3d727\" y=\"33.961352\"/>\r\n     <use style=\"fill:#1f77b4;stroke:#1f77b4;\" x=\"123.031937\" xlink:href=\"#mfa42a3d727\" y=\"102.298112\"/>\r\n     <use style=\"fill:#1f77b4;stroke:#1f77b4;\" x=\"153.936741\" xlink:href=\"#mfa42a3d727\" y=\"74.310339\"/>\r\n     <use style=\"fill:#1f77b4;stroke:#1f77b4;\" x=\"71.665577\" xlink:href=\"#mfa42a3d727\" y=\"119.216419\"/>\r\n     <use style=\"fill:#1f77b4;stroke:#1f77b4;\" x=\"90.382512\" xlink:href=\"#mfa42a3d727\" y=\"101.855446\"/>\r\n     <use style=\"fill:#1f77b4;stroke:#1f77b4;\" x=\"108.806906\" xlink:href=\"#mfa42a3d727\" y=\"83.142341\"/>\r\n     <use style=\"fill:#1f77b4;stroke:#1f77b4;\" x=\"115.185967\" xlink:href=\"#mfa42a3d727\" y=\"72.436101\"/>\r\n     <use style=\"fill:#1f77b4;stroke:#1f77b4;\" x=\"157.483185\" xlink:href=\"#mfa42a3d727\" y=\"62.335729\"/>\r\n     <use style=\"fill:#1f77b4;stroke:#1f77b4;\" x=\"184.664192\" xlink:href=\"#mfa42a3d727\" y=\"35.481322\"/>\r\n     <use style=\"fill:#1f77b4;stroke:#1f77b4;\" x=\"139.956735\" xlink:href=\"#mfa42a3d727\" y=\"68.987518\"/>\r\n     <use style=\"fill:#1f77b4;stroke:#1f77b4;\" x=\"106.930358\" xlink:href=\"#mfa42a3d727\" y=\"84.034816\"/>\r\n     <use style=\"fill:#1f77b4;stroke:#1f77b4;\" x=\"92.855281\" xlink:href=\"#mfa42a3d727\" y=\"85.894113\"/>\r\n     <use style=\"fill:#1f77b4;stroke:#1f77b4;\" x=\"181.291204\" xlink:href=\"#mfa42a3d727\" y=\"35.923535\"/>\r\n     <use style=\"fill:#1f77b4;stroke:#1f77b4;\" x=\"117.452582\" xlink:href=\"#mfa42a3d727\" y=\"71.693431\"/>\r\n     <use style=\"fill:#1f77b4;stroke:#1f77b4;\" x=\"140.683786\" xlink:href=\"#mfa42a3d727\" y=\"70.826731\"/>\r\n     <use style=\"fill:#1f77b4;stroke:#1f77b4;\" x=\"62.643093\" xlink:href=\"#mfa42a3d727\" y=\"117.62255\"/>\r\n     <use style=\"fill:#1f77b4;stroke:#1f77b4;\" x=\"143.571374\" xlink:href=\"#mfa42a3d727\" y=\"72.088737\"/>\r\n     <use style=\"fill:#1f77b4;stroke:#1f77b4;\" x=\"111.835932\" xlink:href=\"#mfa42a3d727\" y=\"81.053773\"/>\r\n     <use style=\"fill:#1f77b4;stroke:#1f77b4;\" x=\"74.214273\" xlink:href=\"#mfa42a3d727\" y=\"107.772651\"/>\r\n     <use style=\"fill:#1f77b4;stroke:#1f77b4;\" x=\"117.258977\" xlink:href=\"#mfa42a3d727\" y=\"83.114683\"/>\r\n     <use style=\"fill:#1f77b4;stroke:#1f77b4;\" x=\"122.269038\" xlink:href=\"#mfa42a3d727\" y=\"48.79893\"/>\r\n     <use style=\"fill:#1f77b4;stroke:#1f77b4;\" x=\"74.96061\" xlink:href=\"#mfa42a3d727\" y=\"105.599614\"/>\r\n     <use style=\"fill:#1f77b4;stroke:#1f77b4;\" x=\"120.970698\" xlink:href=\"#mfa42a3d727\" y=\"77.385455\"/>\r\n     <use style=\"fill:#1f77b4;stroke:#1f77b4;\" x=\"90.967909\" xlink:href=\"#mfa42a3d727\" y=\"79.857079\"/>\r\n     <use style=\"fill:#1f77b4;stroke:#1f77b4;\" x=\"102.846662\" xlink:href=\"#mfa42a3d727\" y=\"99.928959\"/>\r\n     <use style=\"fill:#1f77b4;stroke:#1f77b4;\" x=\"139.832315\" xlink:href=\"#mfa42a3d727\" y=\"49.993484\"/>\r\n     <use style=\"fill:#1f77b4;stroke:#1f77b4;\" x=\"123.995848\" xlink:href=\"#mfa42a3d727\" y=\"81.427919\"/>\r\n     <use style=\"fill:#1f77b4;stroke:#1f77b4;\" x=\"74.12917\" xlink:href=\"#mfa42a3d727\" y=\"109.649655\"/>\r\n     <use style=\"fill:#1f77b4;stroke:#1f77b4;\" x=\"144.840119\" xlink:href=\"#mfa42a3d727\" y=\"66.63452\"/>\r\n     <use style=\"fill:#1f77b4;stroke:#1f77b4;\" x=\"107.23417\" xlink:href=\"#mfa42a3d727\" y=\"87.044994\"/>\r\n     <use style=\"fill:#1f77b4;stroke:#1f77b4;\" x=\"105.568788\" xlink:href=\"#mfa42a3d727\" y=\"85.433771\"/>\r\n     <use style=\"fill:#1f77b4;stroke:#1f77b4;\" x=\"113.467595\" xlink:href=\"#mfa42a3d727\" y=\"81.175004\"/>\r\n     <use style=\"fill:#1f77b4;stroke:#1f77b4;\" x=\"113.909297\" xlink:href=\"#mfa42a3d727\" y=\"85.494114\"/>\r\n     <use style=\"fill:#1f77b4;stroke:#1f77b4;\" x=\"146.029147\" xlink:href=\"#mfa42a3d727\" y=\"59.103849\"/>\r\n     <use style=\"fill:#1f77b4;stroke:#1f77b4;\" x=\"104.283889\" xlink:href=\"#mfa42a3d727\" y=\"62.337644\"/>\r\n     <use style=\"fill:#1f77b4;stroke:#1f77b4;\" x=\"99.227922\" xlink:href=\"#mfa42a3d727\" y=\"77.599643\"/>\r\n     <use style=\"fill:#1f77b4;stroke:#1f77b4;\" x=\"118.01367\" xlink:href=\"#mfa42a3d727\" y=\"96.830562\"/>\r\n     <use style=\"fill:#1f77b4;stroke:#1f77b4;\" x=\"166.964256\" xlink:href=\"#mfa42a3d727\" y=\"37.336732\"/>\r\n     <use style=\"fill:#1f77b4;stroke:#1f77b4;\" x=\"198.962583\" xlink:href=\"#mfa42a3d727\" y=\"30.82296\"/>\r\n     <use style=\"fill:#1f77b4;stroke:#1f77b4;\" x=\"108.273256\" xlink:href=\"#mfa42a3d727\" y=\"83.17656\"/>\r\n     <use style=\"fill:#1f77b4;stroke:#1f77b4;\" x=\"106.705939\" xlink:href=\"#mfa42a3d727\" y=\"95.248952\"/>\r\n     <use style=\"fill:#1f77b4;stroke:#1f77b4;\" x=\"130.47749\" xlink:href=\"#mfa42a3d727\" y=\"68.496118\"/>\r\n     <use style=\"fill:#1f77b4;stroke:#1f77b4;\" x=\"92.308456\" xlink:href=\"#mfa42a3d727\" y=\"89.234995\"/>\r\n     <use style=\"fill:#1f77b4;stroke:#1f77b4;\" x=\"150.604735\" xlink:href=\"#mfa42a3d727\" y=\"71.521335\"/>\r\n     <use style=\"fill:#1f77b4;stroke:#1f77b4;\" x=\"124.971382\" xlink:href=\"#mfa42a3d727\" y=\"85.034362\"/>\r\n     <use style=\"fill:#1f77b4;stroke:#1f77b4;\" x=\"134.18352\" xlink:href=\"#mfa42a3d727\" y=\"67.9344\"/>\r\n     <use style=\"fill:#1f77b4;stroke:#1f77b4;\" x=\"91.021522\" xlink:href=\"#mfa42a3d727\" y=\"103.432214\"/>\r\n     <use style=\"fill:#1f77b4;stroke:#1f77b4;\" x=\"136.475839\" xlink:href=\"#mfa42a3d727\" y=\"68.811953\"/>\r\n     <use style=\"fill:#1f77b4;stroke:#1f77b4;\" x=\"114.936067\" xlink:href=\"#mfa42a3d727\" y=\"78.838209\"/>\r\n     <use style=\"fill:#1f77b4;stroke:#1f77b4;\" x=\"104.452686\" xlink:href=\"#mfa42a3d727\" y=\"80.700178\"/>\r\n     <use style=\"fill:#1f77b4;stroke:#1f77b4;\" x=\"169.100108\" xlink:href=\"#mfa42a3d727\" y=\"45.340716\"/>\r\n     <use style=\"fill:#1f77b4;stroke:#1f77b4;\" x=\"103.140312\" xlink:href=\"#mfa42a3d727\" y=\"76.969657\"/>\r\n     <use style=\"fill:#1f77b4;stroke:#1f77b4;\" x=\"84.788121\" xlink:href=\"#mfa42a3d727\" y=\"100.921942\"/>\r\n     <use style=\"fill:#1f77b4;stroke:#1f77b4;\" x=\"125.462628\" xlink:href=\"#mfa42a3d727\" y=\"78.849793\"/>\r\n     <use style=\"fill:#1f77b4;stroke:#1f77b4;\" x=\"70.913283\" xlink:href=\"#mfa42a3d727\" y=\"100.609533\"/>\r\n     <use style=\"fill:#1f77b4;stroke:#1f77b4;\" x=\"75.613658\" xlink:href=\"#mfa42a3d727\" y=\"104.629217\"/>\r\n     <use style=\"fill:#1f77b4;stroke:#1f77b4;\" x=\"131.731866\" xlink:href=\"#mfa42a3d727\" y=\"65.417101\"/>\r\n     <use style=\"fill:#1f77b4;stroke:#1f77b4;\" x=\"111.287692\" xlink:href=\"#mfa42a3d727\" y=\"87.034286\"/>\r\n    </g>\r\n   </g>\r\n   <g id=\"matplotlib.axis_1\">\r\n    <g id=\"xtick_1\">\r\n     <g id=\"line2d_1\">\r\n      <defs>\r\n       <path d=\"M 0 0 \r\nL 0 3.5 \r\n\" id=\"md847dbddc3\" style=\"stroke:#000000;stroke-width:0.8;\"/>\r\n      </defs>\r\n      <g>\r\n       <use style=\"stroke:#000000;stroke-width:0.8;\" x=\"51.770555\" xlink:href=\"#md847dbddc3\" y=\"143.1\"/>\r\n      </g>\r\n     </g>\r\n     <g id=\"text_1\">\r\n      <!-- −1 -->\r\n      <g transform=\"translate(44.399461 157.698438)scale(0.1 -0.1)\">\r\n       <defs>\r\n        <path d=\"M 10.59375 35.5 \r\nL 73.1875 35.5 \r\nL 73.1875 27.203125 \r\nL 10.59375 27.203125 \r\nz\r\n\" id=\"DejaVuSans-8722\"/>\r\n        <path d=\"M 12.40625 8.296875 \r\nL 28.515625 8.296875 \r\nL 28.515625 63.921875 \r\nL 10.984375 60.40625 \r\nL 10.984375 69.390625 \r\nL 28.421875 72.90625 \r\nL 38.28125 72.90625 \r\nL 38.28125 8.296875 \r\nL 54.390625 8.296875 \r\nL 54.390625 0 \r\nL 12.40625 0 \r\nz\r\n\" id=\"DejaVuSans-49\"/>\r\n       </defs>\r\n       <use xlink:href=\"#DejaVuSans-8722\"/>\r\n       <use x=\"83.789062\" xlink:href=\"#DejaVuSans-49\"/>\r\n      </g>\r\n     </g>\r\n    </g>\r\n    <g id=\"xtick_2\">\r\n     <g id=\"line2d_2\">\r\n      <g>\r\n       <use style=\"stroke:#000000;stroke-width:0.8;\" x=\"87.461723\" xlink:href=\"#md847dbddc3\" y=\"143.1\"/>\r\n      </g>\r\n     </g>\r\n     <g id=\"text_2\">\r\n      <!-- 0 -->\r\n      <g transform=\"translate(84.280473 157.698438)scale(0.1 -0.1)\">\r\n       <defs>\r\n        <path d=\"M 31.78125 66.40625 \r\nQ 24.171875 66.40625 20.328125 58.90625 \r\nQ 16.5 51.421875 16.5 36.375 \r\nQ 16.5 21.390625 20.328125 13.890625 \r\nQ 24.171875 6.390625 31.78125 6.390625 \r\nQ 39.453125 6.390625 43.28125 13.890625 \r\nQ 47.125 21.390625 47.125 36.375 \r\nQ 47.125 51.421875 43.28125 58.90625 \r\nQ 39.453125 66.40625 31.78125 66.40625 \r\nz\r\nM 31.78125 74.21875 \r\nQ 44.046875 74.21875 50.515625 64.515625 \r\nQ 56.984375 54.828125 56.984375 36.375 \r\nQ 56.984375 17.96875 50.515625 8.265625 \r\nQ 44.046875 -1.421875 31.78125 -1.421875 \r\nQ 19.53125 -1.421875 13.0625 8.265625 \r\nQ 6.59375 17.96875 6.59375 36.375 \r\nQ 6.59375 54.828125 13.0625 64.515625 \r\nQ 19.53125 74.21875 31.78125 74.21875 \r\nz\r\n\" id=\"DejaVuSans-48\"/>\r\n       </defs>\r\n       <use xlink:href=\"#DejaVuSans-48\"/>\r\n      </g>\r\n     </g>\r\n    </g>\r\n    <g id=\"xtick_3\">\r\n     <g id=\"line2d_3\">\r\n      <g>\r\n       <use style=\"stroke:#000000;stroke-width:0.8;\" x=\"123.15289\" xlink:href=\"#md847dbddc3\" y=\"143.1\"/>\r\n      </g>\r\n     </g>\r\n     <g id=\"text_3\">\r\n      <!-- 1 -->\r\n      <g transform=\"translate(119.97164 157.698438)scale(0.1 -0.1)\">\r\n       <use xlink:href=\"#DejaVuSans-49\"/>\r\n      </g>\r\n     </g>\r\n    </g>\r\n    <g id=\"xtick_4\">\r\n     <g id=\"line2d_4\">\r\n      <g>\r\n       <use style=\"stroke:#000000;stroke-width:0.8;\" x=\"158.844057\" xlink:href=\"#md847dbddc3\" y=\"143.1\"/>\r\n      </g>\r\n     </g>\r\n     <g id=\"text_4\">\r\n      <!-- 2 -->\r\n      <g transform=\"translate(155.662807 157.698438)scale(0.1 -0.1)\">\r\n       <defs>\r\n        <path d=\"M 19.1875 8.296875 \r\nL 53.609375 8.296875 \r\nL 53.609375 0 \r\nL 7.328125 0 \r\nL 7.328125 8.296875 \r\nQ 12.9375 14.109375 22.625 23.890625 \r\nQ 32.328125 33.6875 34.8125 36.53125 \r\nQ 39.546875 41.84375 41.421875 45.53125 \r\nQ 43.3125 49.21875 43.3125 52.78125 \r\nQ 43.3125 58.59375 39.234375 62.25 \r\nQ 35.15625 65.921875 28.609375 65.921875 \r\nQ 23.96875 65.921875 18.8125 64.3125 \r\nQ 13.671875 62.703125 7.8125 59.421875 \r\nL 7.8125 69.390625 \r\nQ 13.765625 71.78125 18.9375 73 \r\nQ 24.125 74.21875 28.421875 74.21875 \r\nQ 39.75 74.21875 46.484375 68.546875 \r\nQ 53.21875 62.890625 53.21875 53.421875 \r\nQ 53.21875 48.921875 51.53125 44.890625 \r\nQ 49.859375 40.875 45.40625 35.40625 \r\nQ 44.1875 33.984375 37.640625 27.21875 \r\nQ 31.109375 20.453125 19.1875 8.296875 \r\nz\r\n\" id=\"DejaVuSans-50\"/>\r\n       </defs>\r\n       <use xlink:href=\"#DejaVuSans-50\"/>\r\n      </g>\r\n     </g>\r\n    </g>\r\n    <g id=\"xtick_5\">\r\n     <g id=\"line2d_5\">\r\n      <g>\r\n       <use style=\"stroke:#000000;stroke-width:0.8;\" x=\"194.535225\" xlink:href=\"#md847dbddc3\" y=\"143.1\"/>\r\n      </g>\r\n     </g>\r\n     <g id=\"text_5\">\r\n      <!-- 3 -->\r\n      <g transform=\"translate(191.353975 157.698438)scale(0.1 -0.1)\">\r\n       <defs>\r\n        <path d=\"M 40.578125 39.3125 \r\nQ 47.65625 37.796875 51.625 33 \r\nQ 55.609375 28.21875 55.609375 21.1875 \r\nQ 55.609375 10.40625 48.1875 4.484375 \r\nQ 40.765625 -1.421875 27.09375 -1.421875 \r\nQ 22.515625 -1.421875 17.65625 -0.515625 \r\nQ 12.796875 0.390625 7.625 2.203125 \r\nL 7.625 11.71875 \r\nQ 11.71875 9.328125 16.59375 8.109375 \r\nQ 21.484375 6.890625 26.8125 6.890625 \r\nQ 36.078125 6.890625 40.9375 10.546875 \r\nQ 45.796875 14.203125 45.796875 21.1875 \r\nQ 45.796875 27.640625 41.28125 31.265625 \r\nQ 36.765625 34.90625 28.71875 34.90625 \r\nL 20.21875 34.90625 \r\nL 20.21875 43.015625 \r\nL 29.109375 43.015625 \r\nQ 36.375 43.015625 40.234375 45.921875 \r\nQ 44.09375 48.828125 44.09375 54.296875 \r\nQ 44.09375 59.90625 40.109375 62.90625 \r\nQ 36.140625 65.921875 28.71875 65.921875 \r\nQ 24.65625 65.921875 20.015625 65.03125 \r\nQ 15.375 64.15625 9.8125 62.3125 \r\nL 9.8125 71.09375 \r\nQ 15.4375 72.65625 20.34375 73.4375 \r\nQ 25.25 74.21875 29.59375 74.21875 \r\nQ 40.828125 74.21875 47.359375 69.109375 \r\nQ 53.90625 64.015625 53.90625 55.328125 \r\nQ 53.90625 49.265625 50.4375 45.09375 \r\nQ 46.96875 40.921875 40.578125 39.3125 \r\nz\r\n\" id=\"DejaVuSans-51\"/>\r\n       </defs>\r\n       <use xlink:href=\"#DejaVuSans-51\"/>\r\n      </g>\r\n     </g>\r\n    </g>\r\n   </g>\r\n   <g id=\"matplotlib.axis_2\">\r\n    <g id=\"ytick_1\">\r\n     <g id=\"line2d_6\">\r\n      <defs>\r\n       <path d=\"M 0 0 \r\nL -3.5 0 \r\n\" id=\"mfa3fe12b00\" style=\"stroke:#000000;stroke-width:0.8;\"/>\r\n      </defs>\r\n      <g>\r\n       <use style=\"stroke:#000000;stroke-width:0.8;\" x=\"28.942188\" xlink:href=\"#mfa3fe12b00\" y=\"129.200532\"/>\r\n      </g>\r\n     </g>\r\n     <g id=\"text_6\">\r\n      <!-- −2 -->\r\n      <g transform=\"translate(7.2 132.99975)scale(0.1 -0.1)\">\r\n       <use xlink:href=\"#DejaVuSans-8722\"/>\r\n       <use x=\"83.789062\" xlink:href=\"#DejaVuSans-50\"/>\r\n      </g>\r\n     </g>\r\n    </g>\r\n    <g id=\"ytick_2\">\r\n     <g id=\"line2d_7\">\r\n      <g>\r\n       <use style=\"stroke:#000000;stroke-width:0.8;\" x=\"28.942188\" xlink:href=\"#mfa3fe12b00\" y=\"102.868098\"/>\r\n      </g>\r\n     </g>\r\n     <g id=\"text_7\">\r\n      <!-- 0 -->\r\n      <g transform=\"translate(15.579688 106.667317)scale(0.1 -0.1)\">\r\n       <use xlink:href=\"#DejaVuSans-48\"/>\r\n      </g>\r\n     </g>\r\n    </g>\r\n    <g id=\"ytick_3\">\r\n     <g id=\"line2d_8\">\r\n      <g>\r\n       <use style=\"stroke:#000000;stroke-width:0.8;\" x=\"28.942188\" xlink:href=\"#mfa3fe12b00\" y=\"76.535664\"/>\r\n      </g>\r\n     </g>\r\n     <g id=\"text_8\">\r\n      <!-- 2 -->\r\n      <g transform=\"translate(15.579688 80.334883)scale(0.1 -0.1)\">\r\n       <use xlink:href=\"#DejaVuSans-50\"/>\r\n      </g>\r\n     </g>\r\n    </g>\r\n    <g id=\"ytick_4\">\r\n     <g id=\"line2d_9\">\r\n      <g>\r\n       <use style=\"stroke:#000000;stroke-width:0.8;\" x=\"28.942188\" xlink:href=\"#mfa3fe12b00\" y=\"50.203231\"/>\r\n      </g>\r\n     </g>\r\n     <g id=\"text_9\">\r\n      <!-- 4 -->\r\n      <g transform=\"translate(15.579688 54.002449)scale(0.1 -0.1)\">\r\n       <defs>\r\n        <path d=\"M 37.796875 64.3125 \r\nL 12.890625 25.390625 \r\nL 37.796875 25.390625 \r\nz\r\nM 35.203125 72.90625 \r\nL 47.609375 72.90625 \r\nL 47.609375 25.390625 \r\nL 58.015625 25.390625 \r\nL 58.015625 17.1875 \r\nL 47.609375 17.1875 \r\nL 47.609375 0 \r\nL 37.796875 0 \r\nL 37.796875 17.1875 \r\nL 4.890625 17.1875 \r\nL 4.890625 26.703125 \r\nz\r\n\" id=\"DejaVuSans-52\"/>\r\n       </defs>\r\n       <use xlink:href=\"#DejaVuSans-52\"/>\r\n      </g>\r\n     </g>\r\n    </g>\r\n    <g id=\"ytick_5\">\r\n     <g id=\"line2d_10\">\r\n      <g>\r\n       <use style=\"stroke:#000000;stroke-width:0.8;\" x=\"28.942188\" xlink:href=\"#mfa3fe12b00\" y=\"23.870797\"/>\r\n      </g>\r\n     </g>\r\n     <g id=\"text_10\">\r\n      <!-- 6 -->\r\n      <g transform=\"translate(15.579688 27.670016)scale(0.1 -0.1)\">\r\n       <defs>\r\n        <path d=\"M 33.015625 40.375 \r\nQ 26.375 40.375 22.484375 35.828125 \r\nQ 18.609375 31.296875 18.609375 23.390625 \r\nQ 18.609375 15.53125 22.484375 10.953125 \r\nQ 26.375 6.390625 33.015625 6.390625 \r\nQ 39.65625 6.390625 43.53125 10.953125 \r\nQ 47.40625 15.53125 47.40625 23.390625 \r\nQ 47.40625 31.296875 43.53125 35.828125 \r\nQ 39.65625 40.375 33.015625 40.375 \r\nz\r\nM 52.59375 71.296875 \r\nL 52.59375 62.3125 \r\nQ 48.875 64.0625 45.09375 64.984375 \r\nQ 41.3125 65.921875 37.59375 65.921875 \r\nQ 27.828125 65.921875 22.671875 59.328125 \r\nQ 17.53125 52.734375 16.796875 39.40625 \r\nQ 19.671875 43.65625 24.015625 45.921875 \r\nQ 28.375 48.1875 33.59375 48.1875 \r\nQ 44.578125 48.1875 50.953125 41.515625 \r\nQ 57.328125 34.859375 57.328125 23.390625 \r\nQ 57.328125 12.15625 50.6875 5.359375 \r\nQ 44.046875 -1.421875 33.015625 -1.421875 \r\nQ 20.359375 -1.421875 13.671875 8.265625 \r\nQ 6.984375 17.96875 6.984375 36.375 \r\nQ 6.984375 53.65625 15.1875 63.9375 \r\nQ 23.390625 74.21875 37.203125 74.21875 \r\nQ 40.921875 74.21875 44.703125 73.484375 \r\nQ 48.484375 72.75 52.59375 71.296875 \r\nz\r\n\" id=\"DejaVuSans-54\"/>\r\n       </defs>\r\n       <use xlink:href=\"#DejaVuSans-54\"/>\r\n      </g>\r\n     </g>\r\n    </g>\r\n   </g>\r\n   <g id=\"patch_3\">\r\n    <path d=\"M 28.942188 143.1 \r\nL 28.942188 7.2 \r\n\" style=\"fill:none;stroke:#000000;stroke-linecap:square;stroke-linejoin:miter;stroke-width:0.8;\"/>\r\n   </g>\r\n   <g id=\"patch_4\">\r\n    <path d=\"M 224.242188 143.1 \r\nL 224.242188 7.2 \r\n\" style=\"fill:none;stroke:#000000;stroke-linecap:square;stroke-linejoin:miter;stroke-width:0.8;\"/>\r\n   </g>\r\n   <g id=\"patch_5\">\r\n    <path d=\"M 28.942188 143.1 \r\nL 224.242188 143.1 \r\n\" style=\"fill:none;stroke:#000000;stroke-linecap:square;stroke-linejoin:miter;stroke-width:0.8;\"/>\r\n   </g>\r\n   <g id=\"patch_6\">\r\n    <path d=\"M 28.942188 7.2 \r\nL 224.242188 7.2 \r\n\" style=\"fill:none;stroke:#000000;stroke-linecap:square;stroke-linejoin:miter;stroke-width:0.8;\"/>\r\n   </g>\r\n  </g>\r\n </g>\r\n <defs>\r\n  <clipPath id=\"p0f6aea5327\">\r\n   <rect height=\"135.9\" width=\"195.3\" x=\"28.942188\" y=\"7.2\"/>\r\n  </clipPath>\r\n </defs>\r\n</svg>\r\n"
     },
     "metadata": {
      "needs_background": "light"
     }
    }
   ],
   "source": [
    "d2l.set_figsize()\n",
    "d2l.plt.scatter(data[:100, 0].numpy(), data[:100, 1].numpy());\n",
    "print(f'The covariance matrix is\\n{torch.mm(A.T, A)}')"
   ]
  },
  {
   "cell_type": "code",
   "execution_count": 4,
   "metadata": {},
   "outputs": [],
   "source": [
    "batch_size = 8\n",
    "data_iter = d2l.load_array((data,), batch_size)"
   ]
  },
  {
   "cell_type": "code",
   "execution_count": 5,
   "metadata": {},
   "outputs": [],
   "source": [
    "net_G = nn.Sequential(nn.Linear(2, 2))"
   ]
  },
  {
   "cell_type": "code",
   "execution_count": 6,
   "metadata": {},
   "outputs": [],
   "source": [
    "net_D = nn.Sequential(\n",
    "    nn.Linear(2, 5), nn.Tanh(), \n",
    "    nn.Linear(5, 3), nn.Tanh(), \n",
    "    nn.Linear(3, 1)\n",
    "    )"
   ]
  },
  {
   "cell_type": "code",
   "execution_count": 7,
   "metadata": {},
   "outputs": [],
   "source": [
    "def update_D(X, Z, net_D, net_G, loss, trainer_D):  #@save\n",
    "    \"\"\"Update discriminator.\"\"\"\n",
    "    batch_size = len(X[0])\n",
    "    ones = torch.ones((batch_size, 1))\n",
    "    zeros = torch.zeros((batch_size, 1))\n",
    "    trainer_D.zero_grad()\n",
    "    real_Y = net_D(X)\n",
    "    fake_X = net_G(Z)\n",
    "    # Do not need to compute gradient for `net_G`, detach it from\n",
    "    # computing gradients.\n",
    "    fake_Y = net_D(fake_X.detach())\n",
    "    loss_D = (loss(real_Y, ones) + loss(fake_Y, zeros)) / 2\n",
    "    loss_D.backward()\n",
    "    trainer_D.step()\n",
    "    return loss_D"
   ]
  },
  {
   "cell_type": "code",
   "execution_count": 8,
   "metadata": {},
   "outputs": [],
   "source": [
    "def update_G(Z, net_D, net_G, loss, trainer_G):  #@save\n",
    "    \"\"\"Update generator.\"\"\"\n",
    "    batch_size = len(Z[0])\n",
    "    ones = torch.ones((batch_size, 1))\n",
    "    trainer_G.zero_grad()\n",
    "    # We could reuse `fake_X` from `update_D` to save computation\n",
    "    fake_X = net_G(Z)\n",
    "    # Recomputing `fake_Y` is needed since `net_D` is changed\n",
    "    fake_Y = net_D(fake_X)\n",
    "    loss_G=loss(fake_Y,ones)\n",
    "    loss_G.backward()\n",
    "    trainer_G.step()\n",
    "    return loss_G"
   ]
  },
  {
   "cell_type": "code",
   "execution_count": 9,
   "metadata": {},
   "outputs": [],
   "source": [
    "import numpy as np"
   ]
  },
  {
   "cell_type": "code",
   "execution_count": 10,
   "metadata": {},
   "outputs": [],
   "source": [
    "def train(net_D, net_G, data_iter, num_epochs, lr_D, lr_G, latent_dim, data):\n",
    "    loss = nn.BCEWithLogitsLoss()\n",
    "    for w in net_D.parameters():\n",
    "        nn.init.normal_(w, 0, 0.02)\n",
    "    for w in net_G.parameters():\n",
    "        nn.init.normal_(w, 0, 0.02)\n",
    "    net_D.zero_grad()\n",
    "    net_G.zero_grad()\n",
    "    trainer_D = torch.optim.Adam(net_D.parameters(), lr=lr_D)\n",
    "    trainer_G = torch.optim.Adam(net_G.parameters(), lr=lr_G)\n",
    "    animator = d2l.Animator(xlabel='epoch', ylabel='loss',\n",
    "                            xlim=[1, num_epochs], nrows=2, figsize=(5, 5),\n",
    "                            legend=['discriminator', 'generator'])\n",
    "    animator.fig.subplots_adjust(hspace=0.3)\n",
    "    for epoch in range(num_epochs):\n",
    "        # Train one epoch\n",
    "        timer = d2l.Timer()\n",
    "        metric = d2l.Accumulator(3)  # loss_D, loss_G, num_examples\n",
    "        for X in data_iter:\n",
    "             #d2l.numpy(torch.FloatTensor(X)).shape[0]\n",
    "            batch_size = len(X[0])\n",
    "            Z = torch.normal(0, 1, size=(batch_size, latent_dim))\n",
    "            trainer_D.zero_grad()\n",
    "            trainer_G.zero_grad()\n",
    "            metric.add(update_D(X, Z, net_D, net_G, loss, trainer_D),\n",
    "                       update_G(Z, net_D, net_G, loss, trainer_G),\n",
    "                       batch_size)\n",
    "        # Visualize generated examples\n",
    "        Z = torch.normal(0, 1, size=(100, latent_dim))\n",
    "        fake_X = net_G(Z).detach().numpy()\n",
    "        animator.axes[1].cla()\n",
    "        animator.axes[1].scatter(data[:, 0], data[:, 1])\n",
    "        animator.axes[1].scatter(fake_X[:, 0], fake_X[:, 1])\n",
    "        animator.axes[1].legend(['real', 'generated'])\n",
    "        # Show the losses\n",
    "        loss_D, loss_G = metric[0]/metric[2], metric[1]/metric[2]\n",
    "        animator.add(epoch + 1, (loss_D, loss_G))\n",
    "    print(f'loss_D {loss_D:.3f}, loss_G {loss_G:.3f}, '\n",
    "          f'{metric[2] / timer.stop():.1f} examples/sec')"
   ]
  },
  {
   "cell_type": "code",
   "execution_count": 11,
   "metadata": {
    "tags": []
   },
   "outputs": [
    {
     "output_type": "error",
     "ename": "AttributeError",
     "evalue": "'list' object has no attribute 'dim'",
     "traceback": [
      "\u001b[1;31m---------------------------------------------------------------------------\u001b[0m",
      "\u001b[1;31mAttributeError\u001b[0m                            Traceback (most recent call last)",
      "\u001b[1;32m<ipython-input-11-251159593cac>\u001b[0m in \u001b[0;36m<module>\u001b[1;34m\u001b[0m\n\u001b[0;32m      1\u001b[0m \u001b[0mlr_D\u001b[0m\u001b[1;33m,\u001b[0m \u001b[0mlr_G\u001b[0m\u001b[1;33m,\u001b[0m \u001b[0mlatent_dim\u001b[0m\u001b[1;33m,\u001b[0m \u001b[0mnum_epochs\u001b[0m \u001b[1;33m=\u001b[0m \u001b[1;36m0.05\u001b[0m\u001b[1;33m,\u001b[0m \u001b[1;36m0.005\u001b[0m\u001b[1;33m,\u001b[0m \u001b[1;36m2\u001b[0m\u001b[1;33m,\u001b[0m \u001b[1;36m20\u001b[0m\u001b[1;33m\u001b[0m\u001b[1;33m\u001b[0m\u001b[0m\n\u001b[1;32m----> 2\u001b[1;33m train(net_D, net_G, data_iter, num_epochs, lr_D, lr_G,\n\u001b[0m\u001b[0;32m      3\u001b[0m       latent_dim, d2l.numpy(data[:100]))\n",
      "\u001b[1;32m<ipython-input-10-99eab87e7253>\u001b[0m in \u001b[0;36mtrain\u001b[1;34m(net_D, net_G, data_iter, num_epochs, lr_D, lr_G, latent_dim, data)\u001b[0m\n\u001b[0;32m     23\u001b[0m             \u001b[0mtrainer_D\u001b[0m\u001b[1;33m.\u001b[0m\u001b[0mzero_grad\u001b[0m\u001b[1;33m(\u001b[0m\u001b[1;33m)\u001b[0m\u001b[1;33m\u001b[0m\u001b[1;33m\u001b[0m\u001b[0m\n\u001b[0;32m     24\u001b[0m             \u001b[0mtrainer_G\u001b[0m\u001b[1;33m.\u001b[0m\u001b[0mzero_grad\u001b[0m\u001b[1;33m(\u001b[0m\u001b[1;33m)\u001b[0m\u001b[1;33m\u001b[0m\u001b[1;33m\u001b[0m\u001b[0m\n\u001b[1;32m---> 25\u001b[1;33m             metric.add(update_D(X, Z, net_D, net_G, loss, trainer_D),\n\u001b[0m\u001b[0;32m     26\u001b[0m                        \u001b[0mupdate_G\u001b[0m\u001b[1;33m(\u001b[0m\u001b[0mZ\u001b[0m\u001b[1;33m,\u001b[0m \u001b[0mnet_D\u001b[0m\u001b[1;33m,\u001b[0m \u001b[0mnet_G\u001b[0m\u001b[1;33m,\u001b[0m \u001b[0mloss\u001b[0m\u001b[1;33m,\u001b[0m \u001b[0mtrainer_G\u001b[0m\u001b[1;33m)\u001b[0m\u001b[1;33m,\u001b[0m\u001b[1;33m\u001b[0m\u001b[1;33m\u001b[0m\u001b[0m\n\u001b[0;32m     27\u001b[0m                        batch_size)\n",
      "\u001b[1;32m<ipython-input-7-7d0a9d8dc607>\u001b[0m in \u001b[0;36mupdate_D\u001b[1;34m(X, Z, net_D, net_G, loss, trainer_D)\u001b[0m\n\u001b[0;32m      5\u001b[0m     \u001b[0mzeros\u001b[0m \u001b[1;33m=\u001b[0m \u001b[0mtorch\u001b[0m\u001b[1;33m.\u001b[0m\u001b[0mzeros\u001b[0m\u001b[1;33m(\u001b[0m\u001b[1;33m(\u001b[0m\u001b[0mbatch_size\u001b[0m\u001b[1;33m,\u001b[0m \u001b[1;36m1\u001b[0m\u001b[1;33m)\u001b[0m\u001b[1;33m)\u001b[0m\u001b[1;33m\u001b[0m\u001b[1;33m\u001b[0m\u001b[0m\n\u001b[0;32m      6\u001b[0m     \u001b[0mtrainer_D\u001b[0m\u001b[1;33m.\u001b[0m\u001b[0mzero_grad\u001b[0m\u001b[1;33m(\u001b[0m\u001b[1;33m)\u001b[0m\u001b[1;33m\u001b[0m\u001b[1;33m\u001b[0m\u001b[0m\n\u001b[1;32m----> 7\u001b[1;33m     \u001b[0mreal_Y\u001b[0m \u001b[1;33m=\u001b[0m \u001b[0mnet_D\u001b[0m\u001b[1;33m(\u001b[0m\u001b[0mX\u001b[0m\u001b[1;33m)\u001b[0m\u001b[1;33m\u001b[0m\u001b[1;33m\u001b[0m\u001b[0m\n\u001b[0m\u001b[0;32m      8\u001b[0m     \u001b[0mfake_X\u001b[0m \u001b[1;33m=\u001b[0m \u001b[0mnet_G\u001b[0m\u001b[1;33m(\u001b[0m\u001b[0mZ\u001b[0m\u001b[1;33m)\u001b[0m\u001b[1;33m\u001b[0m\u001b[1;33m\u001b[0m\u001b[0m\n\u001b[0;32m      9\u001b[0m     \u001b[1;31m# Do not need to compute gradient for `net_G`, detach it from\u001b[0m\u001b[1;33m\u001b[0m\u001b[1;33m\u001b[0m\u001b[1;33m\u001b[0m\u001b[0m\n",
      "\u001b[1;32m~\\anaconda3\\envs\\pytorch\\lib\\site-packages\\torch\\nn\\modules\\module.py\u001b[0m in \u001b[0;36m__call__\u001b[1;34m(self, *input, **kwargs)\u001b[0m\n\u001b[0;32m    548\u001b[0m             \u001b[0mresult\u001b[0m \u001b[1;33m=\u001b[0m \u001b[0mself\u001b[0m\u001b[1;33m.\u001b[0m\u001b[0m_slow_forward\u001b[0m\u001b[1;33m(\u001b[0m\u001b[1;33m*\u001b[0m\u001b[0minput\u001b[0m\u001b[1;33m,\u001b[0m \u001b[1;33m**\u001b[0m\u001b[0mkwargs\u001b[0m\u001b[1;33m)\u001b[0m\u001b[1;33m\u001b[0m\u001b[1;33m\u001b[0m\u001b[0m\n\u001b[0;32m    549\u001b[0m         \u001b[1;32melse\u001b[0m\u001b[1;33m:\u001b[0m\u001b[1;33m\u001b[0m\u001b[1;33m\u001b[0m\u001b[0m\n\u001b[1;32m--> 550\u001b[1;33m             \u001b[0mresult\u001b[0m \u001b[1;33m=\u001b[0m \u001b[0mself\u001b[0m\u001b[1;33m.\u001b[0m\u001b[0mforward\u001b[0m\u001b[1;33m(\u001b[0m\u001b[1;33m*\u001b[0m\u001b[0minput\u001b[0m\u001b[1;33m,\u001b[0m \u001b[1;33m**\u001b[0m\u001b[0mkwargs\u001b[0m\u001b[1;33m)\u001b[0m\u001b[1;33m\u001b[0m\u001b[1;33m\u001b[0m\u001b[0m\n\u001b[0m\u001b[0;32m    551\u001b[0m         \u001b[1;32mfor\u001b[0m \u001b[0mhook\u001b[0m \u001b[1;32min\u001b[0m \u001b[0mself\u001b[0m\u001b[1;33m.\u001b[0m\u001b[0m_forward_hooks\u001b[0m\u001b[1;33m.\u001b[0m\u001b[0mvalues\u001b[0m\u001b[1;33m(\u001b[0m\u001b[1;33m)\u001b[0m\u001b[1;33m:\u001b[0m\u001b[1;33m\u001b[0m\u001b[1;33m\u001b[0m\u001b[0m\n\u001b[0;32m    552\u001b[0m             \u001b[0mhook_result\u001b[0m \u001b[1;33m=\u001b[0m \u001b[0mhook\u001b[0m\u001b[1;33m(\u001b[0m\u001b[0mself\u001b[0m\u001b[1;33m,\u001b[0m \u001b[0minput\u001b[0m\u001b[1;33m,\u001b[0m \u001b[0mresult\u001b[0m\u001b[1;33m)\u001b[0m\u001b[1;33m\u001b[0m\u001b[1;33m\u001b[0m\u001b[0m\n",
      "\u001b[1;32m~\\anaconda3\\envs\\pytorch\\lib\\site-packages\\torch\\nn\\modules\\container.py\u001b[0m in \u001b[0;36mforward\u001b[1;34m(self, input)\u001b[0m\n\u001b[0;32m     98\u001b[0m     \u001b[1;32mdef\u001b[0m \u001b[0mforward\u001b[0m\u001b[1;33m(\u001b[0m\u001b[0mself\u001b[0m\u001b[1;33m,\u001b[0m \u001b[0minput\u001b[0m\u001b[1;33m)\u001b[0m\u001b[1;33m:\u001b[0m\u001b[1;33m\u001b[0m\u001b[1;33m\u001b[0m\u001b[0m\n\u001b[0;32m     99\u001b[0m         \u001b[1;32mfor\u001b[0m \u001b[0mmodule\u001b[0m \u001b[1;32min\u001b[0m \u001b[0mself\u001b[0m\u001b[1;33m:\u001b[0m\u001b[1;33m\u001b[0m\u001b[1;33m\u001b[0m\u001b[0m\n\u001b[1;32m--> 100\u001b[1;33m             \u001b[0minput\u001b[0m \u001b[1;33m=\u001b[0m \u001b[0mmodule\u001b[0m\u001b[1;33m(\u001b[0m\u001b[0minput\u001b[0m\u001b[1;33m)\u001b[0m\u001b[1;33m\u001b[0m\u001b[1;33m\u001b[0m\u001b[0m\n\u001b[0m\u001b[0;32m    101\u001b[0m         \u001b[1;32mreturn\u001b[0m \u001b[0minput\u001b[0m\u001b[1;33m\u001b[0m\u001b[1;33m\u001b[0m\u001b[0m\n\u001b[0;32m    102\u001b[0m \u001b[1;33m\u001b[0m\u001b[0m\n",
      "\u001b[1;32m~\\anaconda3\\envs\\pytorch\\lib\\site-packages\\torch\\nn\\modules\\module.py\u001b[0m in \u001b[0;36m__call__\u001b[1;34m(self, *input, **kwargs)\u001b[0m\n\u001b[0;32m    548\u001b[0m             \u001b[0mresult\u001b[0m \u001b[1;33m=\u001b[0m \u001b[0mself\u001b[0m\u001b[1;33m.\u001b[0m\u001b[0m_slow_forward\u001b[0m\u001b[1;33m(\u001b[0m\u001b[1;33m*\u001b[0m\u001b[0minput\u001b[0m\u001b[1;33m,\u001b[0m \u001b[1;33m**\u001b[0m\u001b[0mkwargs\u001b[0m\u001b[1;33m)\u001b[0m\u001b[1;33m\u001b[0m\u001b[1;33m\u001b[0m\u001b[0m\n\u001b[0;32m    549\u001b[0m         \u001b[1;32melse\u001b[0m\u001b[1;33m:\u001b[0m\u001b[1;33m\u001b[0m\u001b[1;33m\u001b[0m\u001b[0m\n\u001b[1;32m--> 550\u001b[1;33m             \u001b[0mresult\u001b[0m \u001b[1;33m=\u001b[0m \u001b[0mself\u001b[0m\u001b[1;33m.\u001b[0m\u001b[0mforward\u001b[0m\u001b[1;33m(\u001b[0m\u001b[1;33m*\u001b[0m\u001b[0minput\u001b[0m\u001b[1;33m,\u001b[0m \u001b[1;33m**\u001b[0m\u001b[0mkwargs\u001b[0m\u001b[1;33m)\u001b[0m\u001b[1;33m\u001b[0m\u001b[1;33m\u001b[0m\u001b[0m\n\u001b[0m\u001b[0;32m    551\u001b[0m         \u001b[1;32mfor\u001b[0m \u001b[0mhook\u001b[0m \u001b[1;32min\u001b[0m \u001b[0mself\u001b[0m\u001b[1;33m.\u001b[0m\u001b[0m_forward_hooks\u001b[0m\u001b[1;33m.\u001b[0m\u001b[0mvalues\u001b[0m\u001b[1;33m(\u001b[0m\u001b[1;33m)\u001b[0m\u001b[1;33m:\u001b[0m\u001b[1;33m\u001b[0m\u001b[1;33m\u001b[0m\u001b[0m\n\u001b[0;32m    552\u001b[0m             \u001b[0mhook_result\u001b[0m \u001b[1;33m=\u001b[0m \u001b[0mhook\u001b[0m\u001b[1;33m(\u001b[0m\u001b[0mself\u001b[0m\u001b[1;33m,\u001b[0m \u001b[0minput\u001b[0m\u001b[1;33m,\u001b[0m \u001b[0mresult\u001b[0m\u001b[1;33m)\u001b[0m\u001b[1;33m\u001b[0m\u001b[1;33m\u001b[0m\u001b[0m\n",
      "\u001b[1;32m~\\anaconda3\\envs\\pytorch\\lib\\site-packages\\torch\\nn\\modules\\linear.py\u001b[0m in \u001b[0;36mforward\u001b[1;34m(self, input)\u001b[0m\n\u001b[0;32m     85\u001b[0m \u001b[1;33m\u001b[0m\u001b[0m\n\u001b[0;32m     86\u001b[0m     \u001b[1;32mdef\u001b[0m \u001b[0mforward\u001b[0m\u001b[1;33m(\u001b[0m\u001b[0mself\u001b[0m\u001b[1;33m,\u001b[0m \u001b[0minput\u001b[0m\u001b[1;33m)\u001b[0m\u001b[1;33m:\u001b[0m\u001b[1;33m\u001b[0m\u001b[1;33m\u001b[0m\u001b[0m\n\u001b[1;32m---> 87\u001b[1;33m         \u001b[1;32mreturn\u001b[0m \u001b[0mF\u001b[0m\u001b[1;33m.\u001b[0m\u001b[0mlinear\u001b[0m\u001b[1;33m(\u001b[0m\u001b[0minput\u001b[0m\u001b[1;33m,\u001b[0m \u001b[0mself\u001b[0m\u001b[1;33m.\u001b[0m\u001b[0mweight\u001b[0m\u001b[1;33m,\u001b[0m \u001b[0mself\u001b[0m\u001b[1;33m.\u001b[0m\u001b[0mbias\u001b[0m\u001b[1;33m)\u001b[0m\u001b[1;33m\u001b[0m\u001b[1;33m\u001b[0m\u001b[0m\n\u001b[0m\u001b[0;32m     88\u001b[0m \u001b[1;33m\u001b[0m\u001b[0m\n\u001b[0;32m     89\u001b[0m     \u001b[1;32mdef\u001b[0m \u001b[0mextra_repr\u001b[0m\u001b[1;33m(\u001b[0m\u001b[0mself\u001b[0m\u001b[1;33m)\u001b[0m\u001b[1;33m:\u001b[0m\u001b[1;33m\u001b[0m\u001b[1;33m\u001b[0m\u001b[0m\n",
      "\u001b[1;32m~\\anaconda3\\envs\\pytorch\\lib\\site-packages\\torch\\nn\\functional.py\u001b[0m in \u001b[0;36mlinear\u001b[1;34m(input, weight, bias)\u001b[0m\n\u001b[0;32m   1606\u001b[0m         \u001b[1;32mif\u001b[0m \u001b[0many\u001b[0m\u001b[1;33m(\u001b[0m\u001b[1;33m[\u001b[0m\u001b[0mtype\u001b[0m\u001b[1;33m(\u001b[0m\u001b[0mt\u001b[0m\u001b[1;33m)\u001b[0m \u001b[1;32mis\u001b[0m \u001b[1;32mnot\u001b[0m \u001b[0mTensor\u001b[0m \u001b[1;32mfor\u001b[0m \u001b[0mt\u001b[0m \u001b[1;32min\u001b[0m \u001b[0mtens_ops\u001b[0m\u001b[1;33m]\u001b[0m\u001b[1;33m)\u001b[0m \u001b[1;32mand\u001b[0m \u001b[0mhas_torch_function\u001b[0m\u001b[1;33m(\u001b[0m\u001b[0mtens_ops\u001b[0m\u001b[1;33m)\u001b[0m\u001b[1;33m:\u001b[0m\u001b[1;33m\u001b[0m\u001b[1;33m\u001b[0m\u001b[0m\n\u001b[0;32m   1607\u001b[0m             \u001b[1;32mreturn\u001b[0m \u001b[0mhandle_torch_function\u001b[0m\u001b[1;33m(\u001b[0m\u001b[0mlinear\u001b[0m\u001b[1;33m,\u001b[0m \u001b[0mtens_ops\u001b[0m\u001b[1;33m,\u001b[0m \u001b[0minput\u001b[0m\u001b[1;33m,\u001b[0m \u001b[0mweight\u001b[0m\u001b[1;33m,\u001b[0m \u001b[0mbias\u001b[0m\u001b[1;33m=\u001b[0m\u001b[0mbias\u001b[0m\u001b[1;33m)\u001b[0m\u001b[1;33m\u001b[0m\u001b[1;33m\u001b[0m\u001b[0m\n\u001b[1;32m-> 1608\u001b[1;33m     \u001b[1;32mif\u001b[0m \u001b[0minput\u001b[0m\u001b[1;33m.\u001b[0m\u001b[0mdim\u001b[0m\u001b[1;33m(\u001b[0m\u001b[1;33m)\u001b[0m \u001b[1;33m==\u001b[0m \u001b[1;36m2\u001b[0m \u001b[1;32mand\u001b[0m \u001b[0mbias\u001b[0m \u001b[1;32mis\u001b[0m \u001b[1;32mnot\u001b[0m \u001b[1;32mNone\u001b[0m\u001b[1;33m:\u001b[0m\u001b[1;33m\u001b[0m\u001b[1;33m\u001b[0m\u001b[0m\n\u001b[0m\u001b[0;32m   1609\u001b[0m         \u001b[1;31m# fused op is marginally faster\u001b[0m\u001b[1;33m\u001b[0m\u001b[1;33m\u001b[0m\u001b[1;33m\u001b[0m\u001b[0m\n\u001b[0;32m   1610\u001b[0m         \u001b[0mret\u001b[0m \u001b[1;33m=\u001b[0m \u001b[0mtorch\u001b[0m\u001b[1;33m.\u001b[0m\u001b[0maddmm\u001b[0m\u001b[1;33m(\u001b[0m\u001b[0mbias\u001b[0m\u001b[1;33m,\u001b[0m \u001b[0minput\u001b[0m\u001b[1;33m,\u001b[0m \u001b[0mweight\u001b[0m\u001b[1;33m.\u001b[0m\u001b[0mt\u001b[0m\u001b[1;33m(\u001b[0m\u001b[1;33m)\u001b[0m\u001b[1;33m)\u001b[0m\u001b[1;33m\u001b[0m\u001b[1;33m\u001b[0m\u001b[0m\n",
      "\u001b[1;31mAttributeError\u001b[0m: 'list' object has no attribute 'dim'"
     ]
    }
   ],
   "source": [
    "lr_D, lr_G, latent_dim, num_epochs = 0.05, 0.005, 2, 20\n",
    "train(net_D, net_G, data_iter, num_epochs, lr_D, lr_G,\n",
    "      latent_dim, d2l.numpy(data[:100]))"
   ]
  },
  {
   "cell_type": "markdown",
   "metadata": {},
   "source": [
    "https://stackoverflow.com/questions/49768306/pytorch-tensor-to-numpy-array\n",
    "\n",
    "https://stackoverflow.com/questions/21015674/list-object-has-no-attribute-shape\n",
    "\n",
    "torch.FloatTensor()\n",
    "https://www.aiworkbox.com/lessons/convert-list-to-pytorch-tensor\n",
    "\n",
    " [t.numpy() for t in my_list_of_tensors]\n",
    " https://stackoom.com/question/3WUrh/%E6%97%A0%E6%B3%95%E5%B0%86%E5%88%97%E8%A1%A8%E8%BD%AC%E6%8D%A2%E4%B8%BA%E6%95%B0%E7%BB%84-ValueError-%E5%8F%AA%E8%83%BD%E5%B0%86%E4%B8%80%E4%B8%AA%E5%85%83%E7%B4%A0%E5%BC%A0%E9%87%8F%E8%BD%AC%E6%8D%A2%E4%B8%BAPython%E6%A0%87%E9%87%8F"
   ]
  },
  {
   "cell_type": "markdown",
   "metadata": {},
   "source": [
    "https://stackoverflow.com/questions/51960857/how-can-i-get-a-list-shape-without-using-numpy/51961584\n",
    "\n",
    "len(a[0])"
   ]
  }
 ]
}