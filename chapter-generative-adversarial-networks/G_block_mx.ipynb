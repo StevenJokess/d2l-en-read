{
 "metadata": {
  "language_info": {
   "codemirror_mode": {
    "name": "ipython",
    "version": 3
   },
   "file_extension": ".py",
   "mimetype": "text/x-python",
   "name": "python",
   "nbconvert_exporter": "python",
   "pygments_lexer": "ipython3",
   "version": "3.7.8-final"
  },
  "orig_nbformat": 2,
  "kernelspec": {
   "name": "python37864bitmxnetconda84e8bee5b66a4c7fa50e670e85772498",
   "display_name": "Python 3.7.8 64-bit ('mxnet': conda)"
  }
 },
 "nbformat": 4,
 "nbformat_minor": 2,
 "cells": [
  {
   "cell_type": "code",
   "execution_count": 1,
   "metadata": {},
   "outputs": [],
   "source": [
    "from mxnet import gluon, init, np, npx\n",
    "from mxnet.gluon import nn\n",
    "from d2l import mxnet as d2l\n",
    "\n",
    "npx.set_np()"
   ]
  },
  {
   "cell_type": "code",
   "execution_count": 2,
   "metadata": {},
   "outputs": [],
   "source": [
    "class G_block(nn.Block):\n",
    "    def __init__(self, channels, kernel_size=4,\n",
    "                 strides=2, padding=1, **kwargs):\n",
    "        super(G_block, self).__init__(**kwargs)\n",
    "        self.conv2d_trans = nn.Conv2DTranspose(\n",
    "            channels, kernel_size, strides, padding, use_bias=False)\n",
    "        self.batch_norm = nn.BatchNorm()\n",
    "        self.activation = nn.Activation('relu')\n",
    "\n",
    "    def forward(self, X):\n",
    "        return self.activation(self.batch_norm(self.conv2d_trans(X)))"
   ]
  },
  {
   "cell_type": "code",
   "execution_count": 3,
   "metadata": {},
   "outputs": [
    {
     "output_type": "execute_result",
     "data": {
      "text/plain": "(2, 20, 32, 32)"
     },
     "metadata": {},
     "execution_count": 3
    }
   ],
   "source": [
    "x = np.zeros((2, 3, 16, 16))\n",
    "g_blk = G_block(20)\n",
    "g_blk.initialize()\n",
    "g_blk(x).shape"
   ]
  },
  {
   "cell_type": "code",
   "execution_count": 4,
   "metadata": {},
   "outputs": [
    {
     "output_type": "execute_result",
     "data": {
      "text/plain": "(2, 20, 4, 4)"
     },
     "metadata": {},
     "execution_count": 4
    }
   ],
   "source": [
    "x = np.zeros((2, 3, 1, 1))\n",
    "g_blk = G_block(20, strides=1, padding=0)\n",
    "g_blk.initialize()\n",
    "g_blk(x).shape"
   ]
  },
  {
   "cell_type": "code",
   "execution_count": 5,
   "metadata": {},
   "outputs": [],
   "source": [
    "n_G = 64\n",
    "net_G = nn.Sequential()\n",
    "net_G.add(G_block(n_G*8, strides=1, padding=0),  # Output: (64 * 8, 4, 4)\n",
    "          G_block(n_G*4),  # Output: (64 * 4, 8, 8)\n",
    "          G_block(n_G*2),  # Output: (64 * 2, 16, 16)\n",
    "          G_block(n_G),   # Output: (64, 32, 32)\n",
    "          nn.Conv2DTranspose(\n",
    "              3, kernel_size=4, strides=2, padding=1, use_bias=False,\n",
    "              activation='tanh'))  # Output: (3, 64, 64)"
   ]
  },
  {
   "cell_type": "code",
   "execution_count": 6,
   "metadata": {},
   "outputs": [
    {
     "output_type": "execute_result",
     "data": {
      "text/plain": "(1, 3, 64, 64)"
     },
     "metadata": {},
     "execution_count": 6
    }
   ],
   "source": [
    "x = np.zeros((1, 100, 1, 1))\n",
    "net_G.initialize()\n",
    "net_G(x).shape"
   ]
  },
  {
   "cell_type": "code",
   "execution_count": null,
   "metadata": {},
   "outputs": [],
   "source": []
  }
 ]
}