{
 "metadata": {
  "language_info": {
   "codemirror_mode": {
    "name": "ipython",
    "version": 3
   },
   "file_extension": ".py",
   "mimetype": "text/x-python",
   "name": "python",
   "nbconvert_exporter": "python",
   "pygments_lexer": "ipython3",
   "version": "3.8.3-final"
  },
  "orig_nbformat": 2,
  "kernelspec": {
   "name": "python38364bitpytorchconda70fdc7f787194f4c972bb3207dd25917",
   "display_name": "Python 3.8.3 64-bit ('pytorch': conda)"
  }
 },
 "nbformat": 4,
 "nbformat_minor": 2,
 "cells": [
  {
   "cell_type": "markdown",
   "metadata": {},
   "source": [
    "https://github.com/d2l-ai/d2l-en/pull/1358"
   ]
  },
  {
   "cell_type": "code",
   "execution_count": 1,
   "metadata": {},
   "outputs": [],
   "source": [
    "%matplotlib inline\n",
    "from d2l import torch as d2l\n",
    "import torch\n",
    "from torch import nn\n",
    "from torch.utils.data import DataLoader"
   ]
  },
  {
   "cell_type": "code",
   "execution_count": 2,
   "metadata": {},
   "outputs": [],
   "source": [
    "X = torch.normal(0.0, 1, (1000, 2))\n",
    "A = torch.tensor([[1, 2], [-0.1, 0.5]])\n",
    "b = torch.tensor([1, 2])\n",
    "data = torch.mm(X, A) + b"
   ]
  },
  {
   "cell_type": "code",
   "execution_count": 3,
   "metadata": {
    "tags": []
   },
   "outputs": [
    {
     "output_type": "stream",
     "name": "stdout",
     "text": "The covariance matrix is\ntensor([[1.0100, 1.9500],\n        [1.9500, 4.2500]])\n"
    },
    {
     "output_type": "display_data",
     "data": {
      "text/plain": "<Figure size 252x180 with 1 Axes>",
      "image/svg+xml": "<?xml version=\"1.0\" encoding=\"utf-8\" standalone=\"no\"?>\r\n<!DOCTYPE svg PUBLIC \"-//W3C//DTD SVG 1.1//EN\"\r\n  \"http://www.w3.org/Graphics/SVG/1.1/DTD/svg11.dtd\">\r\n<!-- Created with matplotlib (https://matplotlib.org/) -->\r\n<svg height=\"166.978125pt\" version=\"1.1\" viewBox=\"0 0 231.442188 166.978125\" width=\"231.442188pt\" xmlns=\"http://www.w3.org/2000/svg\" xmlns:xlink=\"http://www.w3.org/1999/xlink\">\r\n <metadata>\r\n  <rdf:RDF xmlns:cc=\"http://creativecommons.org/ns#\" xmlns:dc=\"http://purl.org/dc/elements/1.1/\" xmlns:rdf=\"http://www.w3.org/1999/02/22-rdf-syntax-ns#\">\r\n   <cc:Work>\r\n    <dc:type rdf:resource=\"http://purl.org/dc/dcmitype/StillImage\"/>\r\n    <dc:date>2020-08-24T19:55:45.938401</dc:date>\r\n    <dc:format>image/svg+xml</dc:format>\r\n    <dc:creator>\r\n     <cc:Agent>\r\n      <dc:title>Matplotlib v3.3.0, https://matplotlib.org/</dc:title>\r\n     </cc:Agent>\r\n    </dc:creator>\r\n   </cc:Work>\r\n  </rdf:RDF>\r\n </metadata>\r\n <defs>\r\n  <style type=\"text/css\">*{stroke-linecap:butt;stroke-linejoin:round;}</style>\r\n </defs>\r\n <g id=\"figure_1\">\r\n  <g id=\"patch_1\">\r\n   <path d=\"M 0 166.978125 \r\nL 231.442188 166.978125 \r\nL 231.442188 0 \r\nL 0 0 \r\nz\r\n\" style=\"fill:none;\"/>\r\n  </g>\r\n  <g id=\"axes_1\">\r\n   <g id=\"patch_2\">\r\n    <path d=\"M 28.942188 143.1 \r\nL 224.242188 143.1 \r\nL 224.242188 7.2 \r\nL 28.942188 7.2 \r\nz\r\n\" style=\"fill:#ffffff;\"/>\r\n   </g>\r\n   <g id=\"PathCollection_1\">\r\n    <defs>\r\n     <path d=\"M 0 3 \r\nC 0.795609 3 1.55874 2.683901 2.12132 2.12132 \r\nC 2.683901 1.55874 3 0.795609 3 0 \r\nC 3 -0.795609 2.683901 -1.55874 2.12132 -2.12132 \r\nC 1.55874 -2.683901 0.795609 -3 0 -3 \r\nC -0.795609 -3 -1.55874 -2.683901 -2.12132 -2.12132 \r\nC -2.683901 -1.55874 -3 -0.795609 -3 0 \r\nC -3 0.795609 -2.683901 1.55874 -2.12132 2.12132 \r\nC -1.55874 2.683901 -0.795609 3 0 3 \r\nz\r\n\" id=\"m9f457a9753\" style=\"stroke:#1f77b4;\"/>\r\n    </defs>\r\n    <g clip-path=\"url(#p88046ff0d7)\">\r\n     <use style=\"fill:#1f77b4;stroke:#1f77b4;\" x=\"59.258604\" xlink:href=\"#m9f457a9753\" y=\"119.998749\"/>\r\n     <use style=\"fill:#1f77b4;stroke:#1f77b4;\" x=\"90.940737\" xlink:href=\"#m9f457a9753\" y=\"93.567698\"/>\r\n     <use style=\"fill:#1f77b4;stroke:#1f77b4;\" x=\"66.689611\" xlink:href=\"#m9f457a9753\" y=\"114.266469\"/>\r\n     <use style=\"fill:#1f77b4;stroke:#1f77b4;\" x=\"215.364915\" xlink:href=\"#m9f457a9753\" y=\"13.377273\"/>\r\n     <use style=\"fill:#1f77b4;stroke:#1f77b4;\" x=\"135.289939\" xlink:href=\"#m9f457a9753\" y=\"68.893207\"/>\r\n     <use style=\"fill:#1f77b4;stroke:#1f77b4;\" x=\"75.334109\" xlink:href=\"#m9f457a9753\" y=\"116.215566\"/>\r\n     <use style=\"fill:#1f77b4;stroke:#1f77b4;\" x=\"121.880832\" xlink:href=\"#m9f457a9753\" y=\"80.979883\"/>\r\n     <use style=\"fill:#1f77b4;stroke:#1f77b4;\" x=\"117.571052\" xlink:href=\"#m9f457a9753\" y=\"76.203031\"/>\r\n     <use style=\"fill:#1f77b4;stroke:#1f77b4;\" x=\"126.209742\" xlink:href=\"#m9f457a9753\" y=\"77.275275\"/>\r\n     <use style=\"fill:#1f77b4;stroke:#1f77b4;\" x=\"77.810114\" xlink:href=\"#m9f457a9753\" y=\"93.08828\"/>\r\n     <use style=\"fill:#1f77b4;stroke:#1f77b4;\" x=\"43.394054\" xlink:href=\"#m9f457a9753\" y=\"136.922727\"/>\r\n     <use style=\"fill:#1f77b4;stroke:#1f77b4;\" x=\"143.155986\" xlink:href=\"#m9f457a9753\" y=\"71.69824\"/>\r\n     <use style=\"fill:#1f77b4;stroke:#1f77b4;\" x=\"134.451903\" xlink:href=\"#m9f457a9753\" y=\"87.11052\"/>\r\n     <use style=\"fill:#1f77b4;stroke:#1f77b4;\" x=\"64.045865\" xlink:href=\"#m9f457a9753\" y=\"118.80519\"/>\r\n     <use style=\"fill:#1f77b4;stroke:#1f77b4;\" x=\"100.666972\" xlink:href=\"#m9f457a9753\" y=\"79.41121\"/>\r\n     <use style=\"fill:#1f77b4;stroke:#1f77b4;\" x=\"125.892822\" xlink:href=\"#m9f457a9753\" y=\"77.160795\"/>\r\n     <use style=\"fill:#1f77b4;stroke:#1f77b4;\" x=\"121.215442\" xlink:href=\"#m9f457a9753\" y=\"78.11446\"/>\r\n     <use style=\"fill:#1f77b4;stroke:#1f77b4;\" x=\"104.777818\" xlink:href=\"#m9f457a9753\" y=\"92.180691\"/>\r\n     <use style=\"fill:#1f77b4;stroke:#1f77b4;\" x=\"99.225919\" xlink:href=\"#m9f457a9753\" y=\"90.667232\"/>\r\n     <use style=\"fill:#1f77b4;stroke:#1f77b4;\" x=\"90.143971\" xlink:href=\"#m9f457a9753\" y=\"102.09036\"/>\r\n     <use style=\"fill:#1f77b4;stroke:#1f77b4;\" x=\"155.192888\" xlink:href=\"#m9f457a9753\" y=\"61.120664\"/>\r\n     <use style=\"fill:#1f77b4;stroke:#1f77b4;\" x=\"116.096373\" xlink:href=\"#m9f457a9753\" y=\"89.569014\"/>\r\n     <use style=\"fill:#1f77b4;stroke:#1f77b4;\" x=\"130.353933\" xlink:href=\"#m9f457a9753\" y=\"84.958832\"/>\r\n     <use style=\"fill:#1f77b4;stroke:#1f77b4;\" x=\"104.789692\" xlink:href=\"#m9f457a9753\" y=\"85.377599\"/>\r\n     <use style=\"fill:#1f77b4;stroke:#1f77b4;\" x=\"90.771004\" xlink:href=\"#m9f457a9753\" y=\"93.233435\"/>\r\n     <use style=\"fill:#1f77b4;stroke:#1f77b4;\" x=\"121.45264\" xlink:href=\"#m9f457a9753\" y=\"85.262305\"/>\r\n     <use style=\"fill:#1f77b4;stroke:#1f77b4;\" x=\"114.410878\" xlink:href=\"#m9f457a9753\" y=\"75.248178\"/>\r\n     <use style=\"fill:#1f77b4;stroke:#1f77b4;\" x=\"73.538405\" xlink:href=\"#m9f457a9753\" y=\"105.012431\"/>\r\n     <use style=\"fill:#1f77b4;stroke:#1f77b4;\" x=\"102.941493\" xlink:href=\"#m9f457a9753\" y=\"80.010515\"/>\r\n     <use style=\"fill:#1f77b4;stroke:#1f77b4;\" x=\"118.09331\" xlink:href=\"#m9f457a9753\" y=\"79.991393\"/>\r\n     <use style=\"fill:#1f77b4;stroke:#1f77b4;\" x=\"133.69847\" xlink:href=\"#m9f457a9753\" y=\"71.107284\"/>\r\n     <use style=\"fill:#1f77b4;stroke:#1f77b4;\" x=\"136.056599\" xlink:href=\"#m9f457a9753\" y=\"69.157281\"/>\r\n     <use style=\"fill:#1f77b4;stroke:#1f77b4;\" x=\"103.84051\" xlink:href=\"#m9f457a9753\" y=\"78.150102\"/>\r\n     <use style=\"fill:#1f77b4;stroke:#1f77b4;\" x=\"165.621275\" xlink:href=\"#m9f457a9753\" y=\"46.364795\"/>\r\n     <use style=\"fill:#1f77b4;stroke:#1f77b4;\" x=\"130.103371\" xlink:href=\"#m9f457a9753\" y=\"70.382532\"/>\r\n     <use style=\"fill:#1f77b4;stroke:#1f77b4;\" x=\"122.461457\" xlink:href=\"#m9f457a9753\" y=\"71.603524\"/>\r\n     <use style=\"fill:#1f77b4;stroke:#1f77b4;\" x=\"103.273708\" xlink:href=\"#m9f457a9753\" y=\"87.514009\"/>\r\n     <use style=\"fill:#1f77b4;stroke:#1f77b4;\" x=\"95.902422\" xlink:href=\"#m9f457a9753\" y=\"94.399228\"/>\r\n     <use style=\"fill:#1f77b4;stroke:#1f77b4;\" x=\"170.024976\" xlink:href=\"#m9f457a9753\" y=\"53.699858\"/>\r\n     <use style=\"fill:#1f77b4;stroke:#1f77b4;\" x=\"99.783728\" xlink:href=\"#m9f457a9753\" y=\"84.579087\"/>\r\n     <use style=\"fill:#1f77b4;stroke:#1f77b4;\" x=\"124.747725\" xlink:href=\"#m9f457a9753\" y=\"81.683646\"/>\r\n     <use style=\"fill:#1f77b4;stroke:#1f77b4;\" x=\"74.265634\" xlink:href=\"#m9f457a9753\" y=\"98.691128\"/>\r\n     <use style=\"fill:#1f77b4;stroke:#1f77b4;\" x=\"165.175609\" xlink:href=\"#m9f457a9753\" y=\"56.066597\"/>\r\n     <use style=\"fill:#1f77b4;stroke:#1f77b4;\" x=\"108.468539\" xlink:href=\"#m9f457a9753\" y=\"96.614354\"/>\r\n     <use style=\"fill:#1f77b4;stroke:#1f77b4;\" x=\"126.318069\" xlink:href=\"#m9f457a9753\" y=\"65.339279\"/>\r\n     <use style=\"fill:#1f77b4;stroke:#1f77b4;\" x=\"112.572266\" xlink:href=\"#m9f457a9753\" y=\"73.329939\"/>\r\n     <use style=\"fill:#1f77b4;stroke:#1f77b4;\" x=\"119.353953\" xlink:href=\"#m9f457a9753\" y=\"60.90561\"/>\r\n     <use style=\"fill:#1f77b4;stroke:#1f77b4;\" x=\"70.943277\" xlink:href=\"#m9f457a9753\" y=\"109.724887\"/>\r\n     <use style=\"fill:#1f77b4;stroke:#1f77b4;\" x=\"65.003708\" xlink:href=\"#m9f457a9753\" y=\"95.978591\"/>\r\n     <use style=\"fill:#1f77b4;stroke:#1f77b4;\" x=\"134.991777\" xlink:href=\"#m9f457a9753\" y=\"76.11769\"/>\r\n     <use style=\"fill:#1f77b4;stroke:#1f77b4;\" x=\"118.927995\" xlink:href=\"#m9f457a9753\" y=\"81.29209\"/>\r\n     <use style=\"fill:#1f77b4;stroke:#1f77b4;\" x=\"136.10849\" xlink:href=\"#m9f457a9753\" y=\"67.279913\"/>\r\n     <use style=\"fill:#1f77b4;stroke:#1f77b4;\" x=\"111.781086\" xlink:href=\"#m9f457a9753\" y=\"99.722874\"/>\r\n     <use style=\"fill:#1f77b4;stroke:#1f77b4;\" x=\"112.373251\" xlink:href=\"#m9f457a9753\" y=\"87.092683\"/>\r\n     <use style=\"fill:#1f77b4;stroke:#1f77b4;\" x=\"44.366331\" xlink:href=\"#m9f457a9753\" y=\"128.719753\"/>\r\n     <use style=\"fill:#1f77b4;stroke:#1f77b4;\" x=\"91.167105\" xlink:href=\"#m9f457a9753\" y=\"98.329632\"/>\r\n     <use style=\"fill:#1f77b4;stroke:#1f77b4;\" x=\"176.521911\" xlink:href=\"#m9f457a9753\" y=\"53.1646\"/>\r\n     <use style=\"fill:#1f77b4;stroke:#1f77b4;\" x=\"116.07562\" xlink:href=\"#m9f457a9753\" y=\"71.239774\"/>\r\n     <use style=\"fill:#1f77b4;stroke:#1f77b4;\" x=\"106.333869\" xlink:href=\"#m9f457a9753\" y=\"82.445088\"/>\r\n     <use style=\"fill:#1f77b4;stroke:#1f77b4;\" x=\"70.201779\" xlink:href=\"#m9f457a9753\" y=\"109.415582\"/>\r\n     <use style=\"fill:#1f77b4;stroke:#1f77b4;\" x=\"134.703516\" xlink:href=\"#m9f457a9753\" y=\"73.513142\"/>\r\n     <use style=\"fill:#1f77b4;stroke:#1f77b4;\" x=\"139.228631\" xlink:href=\"#m9f457a9753\" y=\"75.723199\"/>\r\n     <use style=\"fill:#1f77b4;stroke:#1f77b4;\" x=\"83.363336\" xlink:href=\"#m9f457a9753\" y=\"106.205769\"/>\r\n     <use style=\"fill:#1f77b4;stroke:#1f77b4;\" x=\"62.319562\" xlink:href=\"#m9f457a9753\" y=\"104.243727\"/>\r\n     <use style=\"fill:#1f77b4;stroke:#1f77b4;\" x=\"111.976686\" xlink:href=\"#m9f457a9753\" y=\"89.634941\"/>\r\n     <use style=\"fill:#1f77b4;stroke:#1f77b4;\" x=\"175.616028\" xlink:href=\"#m9f457a9753\" y=\"49.460849\"/>\r\n     <use style=\"fill:#1f77b4;stroke:#1f77b4;\" x=\"163.028015\" xlink:href=\"#m9f457a9753\" y=\"62.109612\"/>\r\n     <use style=\"fill:#1f77b4;stroke:#1f77b4;\" x=\"108.59378\" xlink:href=\"#m9f457a9753\" y=\"74.847479\"/>\r\n     <use style=\"fill:#1f77b4;stroke:#1f77b4;\" x=\"138.692504\" xlink:href=\"#m9f457a9753\" y=\"63.665099\"/>\r\n     <use style=\"fill:#1f77b4;stroke:#1f77b4;\" x=\"150.343746\" xlink:href=\"#m9f457a9753\" y=\"60.321527\"/>\r\n     <use style=\"fill:#1f77b4;stroke:#1f77b4;\" x=\"146.536279\" xlink:href=\"#m9f457a9753\" y=\"46.72079\"/>\r\n     <use style=\"fill:#1f77b4;stroke:#1f77b4;\" x=\"109.3359\" xlink:href=\"#m9f457a9753\" y=\"78.494468\"/>\r\n     <use style=\"fill:#1f77b4;stroke:#1f77b4;\" x=\"106.855778\" xlink:href=\"#m9f457a9753\" y=\"73.588701\"/>\r\n     <use style=\"fill:#1f77b4;stroke:#1f77b4;\" x=\"163.902179\" xlink:href=\"#m9f457a9753\" y=\"48.321721\"/>\r\n     <use style=\"fill:#1f77b4;stroke:#1f77b4;\" x=\"109.95405\" xlink:href=\"#m9f457a9753\" y=\"84.333524\"/>\r\n     <use style=\"fill:#1f77b4;stroke:#1f77b4;\" x=\"123.475684\" xlink:href=\"#m9f457a9753\" y=\"76.574555\"/>\r\n     <use style=\"fill:#1f77b4;stroke:#1f77b4;\" x=\"73.270708\" xlink:href=\"#m9f457a9753\" y=\"102.720512\"/>\r\n     <use style=\"fill:#1f77b4;stroke:#1f77b4;\" x=\"109.099936\" xlink:href=\"#m9f457a9753\" y=\"92.092077\"/>\r\n     <use style=\"fill:#1f77b4;stroke:#1f77b4;\" x=\"179.065533\" xlink:href=\"#m9f457a9753\" y=\"33.355134\"/>\r\n     <use style=\"fill:#1f77b4;stroke:#1f77b4;\" x=\"88.729983\" xlink:href=\"#m9f457a9753\" y=\"106.745855\"/>\r\n     <use style=\"fill:#1f77b4;stroke:#1f77b4;\" x=\"54.41463\" xlink:href=\"#m9f457a9753\" y=\"124.524636\"/>\r\n     <use style=\"fill:#1f77b4;stroke:#1f77b4;\" x=\"73.968655\" xlink:href=\"#m9f457a9753\" y=\"99.266201\"/>\r\n     <use style=\"fill:#1f77b4;stroke:#1f77b4;\" x=\"125.848824\" xlink:href=\"#m9f457a9753\" y=\"67.861586\"/>\r\n     <use style=\"fill:#1f77b4;stroke:#1f77b4;\" x=\"93.69489\" xlink:href=\"#m9f457a9753\" y=\"102.170067\"/>\r\n     <use style=\"fill:#1f77b4;stroke:#1f77b4;\" x=\"117.33009\" xlink:href=\"#m9f457a9753\" y=\"95.638231\"/>\r\n     <use style=\"fill:#1f77b4;stroke:#1f77b4;\" x=\"73.104684\" xlink:href=\"#m9f457a9753\" y=\"106.397109\"/>\r\n     <use style=\"fill:#1f77b4;stroke:#1f77b4;\" x=\"165.082785\" xlink:href=\"#m9f457a9753\" y=\"46.957466\"/>\r\n     <use style=\"fill:#1f77b4;stroke:#1f77b4;\" x=\"68.370052\" xlink:href=\"#m9f457a9753\" y=\"104.094883\"/>\r\n     <use style=\"fill:#1f77b4;stroke:#1f77b4;\" x=\"110.924986\" xlink:href=\"#m9f457a9753\" y=\"64.411717\"/>\r\n     <use style=\"fill:#1f77b4;stroke:#1f77b4;\" x=\"106.24716\" xlink:href=\"#m9f457a9753\" y=\"91.11815\"/>\r\n     <use style=\"fill:#1f77b4;stroke:#1f77b4;\" x=\"61.369012\" xlink:href=\"#m9f457a9753\" y=\"111.459606\"/>\r\n     <use style=\"fill:#1f77b4;stroke:#1f77b4;\" x=\"77.257397\" xlink:href=\"#m9f457a9753\" y=\"106.327634\"/>\r\n     <use style=\"fill:#1f77b4;stroke:#1f77b4;\" x=\"108.391716\" xlink:href=\"#m9f457a9753\" y=\"74.286734\"/>\r\n     <use style=\"fill:#1f77b4;stroke:#1f77b4;\" x=\"113.343335\" xlink:href=\"#m9f457a9753\" y=\"80.059943\"/>\r\n     <use style=\"fill:#1f77b4;stroke:#1f77b4;\" x=\"142.797692\" xlink:href=\"#m9f457a9753\" y=\"65.660638\"/>\r\n     <use style=\"fill:#1f77b4;stroke:#1f77b4;\" x=\"37.81946\" xlink:href=\"#m9f457a9753\" y=\"130.561546\"/>\r\n     <use style=\"fill:#1f77b4;stroke:#1f77b4;\" x=\"71.674758\" xlink:href=\"#m9f457a9753\" y=\"106.910152\"/>\r\n     <use style=\"fill:#1f77b4;stroke:#1f77b4;\" x=\"154.75134\" xlink:href=\"#m9f457a9753\" y=\"61.283802\"/>\r\n     <use style=\"fill:#1f77b4;stroke:#1f77b4;\" x=\"103.96821\" xlink:href=\"#m9f457a9753\" y=\"85.084123\"/>\r\n     <use style=\"fill:#1f77b4;stroke:#1f77b4;\" x=\"118.056843\" xlink:href=\"#m9f457a9753\" y=\"95.527411\"/>\r\n    </g>\r\n   </g>\r\n   <g id=\"matplotlib.axis_1\">\r\n    <g id=\"xtick_1\">\r\n     <g id=\"line2d_1\">\r\n      <defs>\r\n       <path d=\"M 0 0 \r\nL 0 3.5 \r\n\" id=\"m34c1d85123\" style=\"stroke:#000000;stroke-width:0.8;\"/>\r\n      </defs>\r\n      <g>\r\n       <use style=\"stroke:#000000;stroke-width:0.8;\" x=\"39.326649\" xlink:href=\"#m34c1d85123\" y=\"143.1\"/>\r\n      </g>\r\n     </g>\r\n     <g id=\"text_1\">\r\n      <!-- −1 -->\r\n      <g transform=\"translate(31.955555 157.698438)scale(0.1 -0.1)\">\r\n       <defs>\r\n        <path d=\"M 10.59375 35.5 \r\nL 73.1875 35.5 \r\nL 73.1875 27.203125 \r\nL 10.59375 27.203125 \r\nz\r\n\" id=\"DejaVuSans-8722\"/>\r\n        <path d=\"M 12.40625 8.296875 \r\nL 28.515625 8.296875 \r\nL 28.515625 63.921875 \r\nL 10.984375 60.40625 \r\nL 10.984375 69.390625 \r\nL 28.421875 72.90625 \r\nL 38.28125 72.90625 \r\nL 38.28125 8.296875 \r\nL 54.390625 8.296875 \r\nL 54.390625 0 \r\nL 12.40625 0 \r\nz\r\n\" id=\"DejaVuSans-49\"/>\r\n       </defs>\r\n       <use xlink:href=\"#DejaVuSans-8722\"/>\r\n       <use x=\"83.789062\" xlink:href=\"#DejaVuSans-49\"/>\r\n      </g>\r\n     </g>\r\n    </g>\r\n    <g id=\"xtick_2\">\r\n     <g id=\"line2d_2\">\r\n      <g>\r\n       <use style=\"stroke:#000000;stroke-width:0.8;\" x=\"73.196155\" xlink:href=\"#m34c1d85123\" y=\"143.1\"/>\r\n      </g>\r\n     </g>\r\n     <g id=\"text_2\">\r\n      <!-- 0 -->\r\n      <g transform=\"translate(70.014905 157.698438)scale(0.1 -0.1)\">\r\n       <defs>\r\n        <path d=\"M 31.78125 66.40625 \r\nQ 24.171875 66.40625 20.328125 58.90625 \r\nQ 16.5 51.421875 16.5 36.375 \r\nQ 16.5 21.390625 20.328125 13.890625 \r\nQ 24.171875 6.390625 31.78125 6.390625 \r\nQ 39.453125 6.390625 43.28125 13.890625 \r\nQ 47.125 21.390625 47.125 36.375 \r\nQ 47.125 51.421875 43.28125 58.90625 \r\nQ 39.453125 66.40625 31.78125 66.40625 \r\nz\r\nM 31.78125 74.21875 \r\nQ 44.046875 74.21875 50.515625 64.515625 \r\nQ 56.984375 54.828125 56.984375 36.375 \r\nQ 56.984375 17.96875 50.515625 8.265625 \r\nQ 44.046875 -1.421875 31.78125 -1.421875 \r\nQ 19.53125 -1.421875 13.0625 8.265625 \r\nQ 6.59375 17.96875 6.59375 36.375 \r\nQ 6.59375 54.828125 13.0625 64.515625 \r\nQ 19.53125 74.21875 31.78125 74.21875 \r\nz\r\n\" id=\"DejaVuSans-48\"/>\r\n       </defs>\r\n       <use xlink:href=\"#DejaVuSans-48\"/>\r\n      </g>\r\n     </g>\r\n    </g>\r\n    <g id=\"xtick_3\">\r\n     <g id=\"line2d_3\">\r\n      <g>\r\n       <use style=\"stroke:#000000;stroke-width:0.8;\" x=\"107.06566\" xlink:href=\"#m34c1d85123\" y=\"143.1\"/>\r\n      </g>\r\n     </g>\r\n     <g id=\"text_3\">\r\n      <!-- 1 -->\r\n      <g transform=\"translate(103.88441 157.698438)scale(0.1 -0.1)\">\r\n       <use xlink:href=\"#DejaVuSans-49\"/>\r\n      </g>\r\n     </g>\r\n    </g>\r\n    <g id=\"xtick_4\">\r\n     <g id=\"line2d_4\">\r\n      <g>\r\n       <use style=\"stroke:#000000;stroke-width:0.8;\" x=\"140.935166\" xlink:href=\"#m34c1d85123\" y=\"143.1\"/>\r\n      </g>\r\n     </g>\r\n     <g id=\"text_4\">\r\n      <!-- 2 -->\r\n      <g transform=\"translate(137.753916 157.698438)scale(0.1 -0.1)\">\r\n       <defs>\r\n        <path d=\"M 19.1875 8.296875 \r\nL 53.609375 8.296875 \r\nL 53.609375 0 \r\nL 7.328125 0 \r\nL 7.328125 8.296875 \r\nQ 12.9375 14.109375 22.625 23.890625 \r\nQ 32.328125 33.6875 34.8125 36.53125 \r\nQ 39.546875 41.84375 41.421875 45.53125 \r\nQ 43.3125 49.21875 43.3125 52.78125 \r\nQ 43.3125 58.59375 39.234375 62.25 \r\nQ 35.15625 65.921875 28.609375 65.921875 \r\nQ 23.96875 65.921875 18.8125 64.3125 \r\nQ 13.671875 62.703125 7.8125 59.421875 \r\nL 7.8125 69.390625 \r\nQ 13.765625 71.78125 18.9375 73 \r\nQ 24.125 74.21875 28.421875 74.21875 \r\nQ 39.75 74.21875 46.484375 68.546875 \r\nQ 53.21875 62.890625 53.21875 53.421875 \r\nQ 53.21875 48.921875 51.53125 44.890625 \r\nQ 49.859375 40.875 45.40625 35.40625 \r\nQ 44.1875 33.984375 37.640625 27.21875 \r\nQ 31.109375 20.453125 19.1875 8.296875 \r\nz\r\n\" id=\"DejaVuSans-50\"/>\r\n       </defs>\r\n       <use xlink:href=\"#DejaVuSans-50\"/>\r\n      </g>\r\n     </g>\r\n    </g>\r\n    <g id=\"xtick_5\">\r\n     <g id=\"line2d_5\">\r\n      <g>\r\n       <use style=\"stroke:#000000;stroke-width:0.8;\" x=\"174.804672\" xlink:href=\"#m34c1d85123\" y=\"143.1\"/>\r\n      </g>\r\n     </g>\r\n     <g id=\"text_5\">\r\n      <!-- 3 -->\r\n      <g transform=\"translate(171.623422 157.698438)scale(0.1 -0.1)\">\r\n       <defs>\r\n        <path d=\"M 40.578125 39.3125 \r\nQ 47.65625 37.796875 51.625 33 \r\nQ 55.609375 28.21875 55.609375 21.1875 \r\nQ 55.609375 10.40625 48.1875 4.484375 \r\nQ 40.765625 -1.421875 27.09375 -1.421875 \r\nQ 22.515625 -1.421875 17.65625 -0.515625 \r\nQ 12.796875 0.390625 7.625 2.203125 \r\nL 7.625 11.71875 \r\nQ 11.71875 9.328125 16.59375 8.109375 \r\nQ 21.484375 6.890625 26.8125 6.890625 \r\nQ 36.078125 6.890625 40.9375 10.546875 \r\nQ 45.796875 14.203125 45.796875 21.1875 \r\nQ 45.796875 27.640625 41.28125 31.265625 \r\nQ 36.765625 34.90625 28.71875 34.90625 \r\nL 20.21875 34.90625 \r\nL 20.21875 43.015625 \r\nL 29.109375 43.015625 \r\nQ 36.375 43.015625 40.234375 45.921875 \r\nQ 44.09375 48.828125 44.09375 54.296875 \r\nQ 44.09375 59.90625 40.109375 62.90625 \r\nQ 36.140625 65.921875 28.71875 65.921875 \r\nQ 24.65625 65.921875 20.015625 65.03125 \r\nQ 15.375 64.15625 9.8125 62.3125 \r\nL 9.8125 71.09375 \r\nQ 15.4375 72.65625 20.34375 73.4375 \r\nQ 25.25 74.21875 29.59375 74.21875 \r\nQ 40.828125 74.21875 47.359375 69.109375 \r\nQ 53.90625 64.015625 53.90625 55.328125 \r\nQ 53.90625 49.265625 50.4375 45.09375 \r\nQ 46.96875 40.921875 40.578125 39.3125 \r\nz\r\n\" id=\"DejaVuSans-51\"/>\r\n       </defs>\r\n       <use xlink:href=\"#DejaVuSans-51\"/>\r\n      </g>\r\n     </g>\r\n    </g>\r\n    <g id=\"xtick_6\">\r\n     <g id=\"line2d_6\">\r\n      <g>\r\n       <use style=\"stroke:#000000;stroke-width:0.8;\" x=\"208.674178\" xlink:href=\"#m34c1d85123\" y=\"143.1\"/>\r\n      </g>\r\n     </g>\r\n     <g id=\"text_6\">\r\n      <!-- 4 -->\r\n      <g transform=\"translate(205.492928 157.698438)scale(0.1 -0.1)\">\r\n       <defs>\r\n        <path d=\"M 37.796875 64.3125 \r\nL 12.890625 25.390625 \r\nL 37.796875 25.390625 \r\nz\r\nM 35.203125 72.90625 \r\nL 47.609375 72.90625 \r\nL 47.609375 25.390625 \r\nL 58.015625 25.390625 \r\nL 58.015625 17.1875 \r\nL 47.609375 17.1875 \r\nL 47.609375 0 \r\nL 37.796875 0 \r\nL 37.796875 17.1875 \r\nL 4.890625 17.1875 \r\nL 4.890625 26.703125 \r\nz\r\n\" id=\"DejaVuSans-52\"/>\r\n       </defs>\r\n       <use xlink:href=\"#DejaVuSans-52\"/>\r\n      </g>\r\n     </g>\r\n    </g>\r\n   </g>\r\n   <g id=\"matplotlib.axis_2\">\r\n    <g id=\"ytick_1\">\r\n     <g id=\"line2d_7\">\r\n      <defs>\r\n       <path d=\"M 0 0 \r\nL -3.5 0 \r\n\" id=\"m849375fff3\" style=\"stroke:#000000;stroke-width:0.8;\"/>\r\n      </defs>\r\n      <g>\r\n       <use style=\"stroke:#000000;stroke-width:0.8;\" x=\"28.942188\" xlink:href=\"#m849375fff3\" y=\"134.606398\"/>\r\n      </g>\r\n     </g>\r\n     <g id=\"text_7\">\r\n      <!-- −2 -->\r\n      <g transform=\"translate(7.2 138.405617)scale(0.1 -0.1)\">\r\n       <use xlink:href=\"#DejaVuSans-8722\"/>\r\n       <use x=\"83.789062\" xlink:href=\"#DejaVuSans-50\"/>\r\n      </g>\r\n     </g>\r\n    </g>\r\n    <g id=\"ytick_2\">\r\n     <g id=\"line2d_8\">\r\n      <g>\r\n       <use style=\"stroke:#000000;stroke-width:0.8;\" x=\"28.942188\" xlink:href=\"#m849375fff3\" y=\"111.202085\"/>\r\n      </g>\r\n     </g>\r\n     <g id=\"text_8\">\r\n      <!-- 0 -->\r\n      <g transform=\"translate(15.579688 115.001304)scale(0.1 -0.1)\">\r\n       <use xlink:href=\"#DejaVuSans-48\"/>\r\n      </g>\r\n     </g>\r\n    </g>\r\n    <g id=\"ytick_3\">\r\n     <g id=\"line2d_9\">\r\n      <g>\r\n       <use style=\"stroke:#000000;stroke-width:0.8;\" x=\"28.942188\" xlink:href=\"#m849375fff3\" y=\"87.797772\"/>\r\n      </g>\r\n     </g>\r\n     <g id=\"text_9\">\r\n      <!-- 2 -->\r\n      <g transform=\"translate(15.579688 91.596991)scale(0.1 -0.1)\">\r\n       <use xlink:href=\"#DejaVuSans-50\"/>\r\n      </g>\r\n     </g>\r\n    </g>\r\n    <g id=\"ytick_4\">\r\n     <g id=\"line2d_10\">\r\n      <g>\r\n       <use style=\"stroke:#000000;stroke-width:0.8;\" x=\"28.942188\" xlink:href=\"#m849375fff3\" y=\"64.393459\"/>\r\n      </g>\r\n     </g>\r\n     <g id=\"text_10\">\r\n      <!-- 4 -->\r\n      <g transform=\"translate(15.579688 68.192678)scale(0.1 -0.1)\">\r\n       <use xlink:href=\"#DejaVuSans-52\"/>\r\n      </g>\r\n     </g>\r\n    </g>\r\n    <g id=\"ytick_5\">\r\n     <g id=\"line2d_11\">\r\n      <g>\r\n       <use style=\"stroke:#000000;stroke-width:0.8;\" x=\"28.942188\" xlink:href=\"#m849375fff3\" y=\"40.989146\"/>\r\n      </g>\r\n     </g>\r\n     <g id=\"text_11\">\r\n      <!-- 6 -->\r\n      <g transform=\"translate(15.579688 44.788365)scale(0.1 -0.1)\">\r\n       <defs>\r\n        <path d=\"M 33.015625 40.375 \r\nQ 26.375 40.375 22.484375 35.828125 \r\nQ 18.609375 31.296875 18.609375 23.390625 \r\nQ 18.609375 15.53125 22.484375 10.953125 \r\nQ 26.375 6.390625 33.015625 6.390625 \r\nQ 39.65625 6.390625 43.53125 10.953125 \r\nQ 47.40625 15.53125 47.40625 23.390625 \r\nQ 47.40625 31.296875 43.53125 35.828125 \r\nQ 39.65625 40.375 33.015625 40.375 \r\nz\r\nM 52.59375 71.296875 \r\nL 52.59375 62.3125 \r\nQ 48.875 64.0625 45.09375 64.984375 \r\nQ 41.3125 65.921875 37.59375 65.921875 \r\nQ 27.828125 65.921875 22.671875 59.328125 \r\nQ 17.53125 52.734375 16.796875 39.40625 \r\nQ 19.671875 43.65625 24.015625 45.921875 \r\nQ 28.375 48.1875 33.59375 48.1875 \r\nQ 44.578125 48.1875 50.953125 41.515625 \r\nQ 57.328125 34.859375 57.328125 23.390625 \r\nQ 57.328125 12.15625 50.6875 5.359375 \r\nQ 44.046875 -1.421875 33.015625 -1.421875 \r\nQ 20.359375 -1.421875 13.671875 8.265625 \r\nQ 6.984375 17.96875 6.984375 36.375 \r\nQ 6.984375 53.65625 15.1875 63.9375 \r\nQ 23.390625 74.21875 37.203125 74.21875 \r\nQ 40.921875 74.21875 44.703125 73.484375 \r\nQ 48.484375 72.75 52.59375 71.296875 \r\nz\r\n\" id=\"DejaVuSans-54\"/>\r\n       </defs>\r\n       <use xlink:href=\"#DejaVuSans-54\"/>\r\n      </g>\r\n     </g>\r\n    </g>\r\n    <g id=\"ytick_6\">\r\n     <g id=\"line2d_12\">\r\n      <g>\r\n       <use style=\"stroke:#000000;stroke-width:0.8;\" x=\"28.942188\" xlink:href=\"#m849375fff3\" y=\"17.584833\"/>\r\n      </g>\r\n     </g>\r\n     <g id=\"text_12\">\r\n      <!-- 8 -->\r\n      <g transform=\"translate(15.579688 21.384052)scale(0.1 -0.1)\">\r\n       <defs>\r\n        <path d=\"M 31.78125 34.625 \r\nQ 24.75 34.625 20.71875 30.859375 \r\nQ 16.703125 27.09375 16.703125 20.515625 \r\nQ 16.703125 13.921875 20.71875 10.15625 \r\nQ 24.75 6.390625 31.78125 6.390625 \r\nQ 38.8125 6.390625 42.859375 10.171875 \r\nQ 46.921875 13.96875 46.921875 20.515625 \r\nQ 46.921875 27.09375 42.890625 30.859375 \r\nQ 38.875 34.625 31.78125 34.625 \r\nz\r\nM 21.921875 38.8125 \r\nQ 15.578125 40.375 12.03125 44.71875 \r\nQ 8.5 49.078125 8.5 55.328125 \r\nQ 8.5 64.0625 14.71875 69.140625 \r\nQ 20.953125 74.21875 31.78125 74.21875 \r\nQ 42.671875 74.21875 48.875 69.140625 \r\nQ 55.078125 64.0625 55.078125 55.328125 \r\nQ 55.078125 49.078125 51.53125 44.71875 \r\nQ 48 40.375 41.703125 38.8125 \r\nQ 48.828125 37.15625 52.796875 32.3125 \r\nQ 56.78125 27.484375 56.78125 20.515625 \r\nQ 56.78125 9.90625 50.3125 4.234375 \r\nQ 43.84375 -1.421875 31.78125 -1.421875 \r\nQ 19.734375 -1.421875 13.25 4.234375 \r\nQ 6.78125 9.90625 6.78125 20.515625 \r\nQ 6.78125 27.484375 10.78125 32.3125 \r\nQ 14.796875 37.15625 21.921875 38.8125 \r\nz\r\nM 18.3125 54.390625 \r\nQ 18.3125 48.734375 21.84375 45.5625 \r\nQ 25.390625 42.390625 31.78125 42.390625 \r\nQ 38.140625 42.390625 41.71875 45.5625 \r\nQ 45.3125 48.734375 45.3125 54.390625 \r\nQ 45.3125 60.0625 41.71875 63.234375 \r\nQ 38.140625 66.40625 31.78125 66.40625 \r\nQ 25.390625 66.40625 21.84375 63.234375 \r\nQ 18.3125 60.0625 18.3125 54.390625 \r\nz\r\n\" id=\"DejaVuSans-56\"/>\r\n       </defs>\r\n       <use xlink:href=\"#DejaVuSans-56\"/>\r\n      </g>\r\n     </g>\r\n    </g>\r\n   </g>\r\n   <g id=\"patch_3\">\r\n    <path d=\"M 28.942188 143.1 \r\nL 28.942188 7.2 \r\n\" style=\"fill:none;stroke:#000000;stroke-linecap:square;stroke-linejoin:miter;stroke-width:0.8;\"/>\r\n   </g>\r\n   <g id=\"patch_4\">\r\n    <path d=\"M 224.242188 143.1 \r\nL 224.242188 7.2 \r\n\" style=\"fill:none;stroke:#000000;stroke-linecap:square;stroke-linejoin:miter;stroke-width:0.8;\"/>\r\n   </g>\r\n   <g id=\"patch_5\">\r\n    <path d=\"M 28.942188 143.1 \r\nL 224.242188 143.1 \r\n\" style=\"fill:none;stroke:#000000;stroke-linecap:square;stroke-linejoin:miter;stroke-width:0.8;\"/>\r\n   </g>\r\n   <g id=\"patch_6\">\r\n    <path d=\"M 28.942188 7.2 \r\nL 224.242188 7.2 \r\n\" style=\"fill:none;stroke:#000000;stroke-linecap:square;stroke-linejoin:miter;stroke-width:0.8;\"/>\r\n   </g>\r\n  </g>\r\n </g>\r\n <defs>\r\n  <clipPath id=\"p88046ff0d7\">\r\n   <rect height=\"135.9\" width=\"195.3\" x=\"28.942188\" y=\"7.2\"/>\r\n  </clipPath>\r\n </defs>\r\n</svg>\r\n"
     },
     "metadata": {
      "needs_background": "light"
     }
    }
   ],
   "source": [
    "d2l.set_figsize()\n",
    "d2l.plt.scatter(data[:100, 0].numpy(), data[:100, 1].numpy());\n",
    "print(f'The covariance matrix is\\n{torch.mm(A.T, A)}')"
   ]
  },
  {
   "cell_type": "code",
   "execution_count": 4,
   "metadata": {},
   "outputs": [],
   "source": [
    "batch_size = 8\n",
    "data_iter = d2l.load_array((data,), batch_size=batch_size)"
   ]
  },
  {
   "cell_type": "code",
   "execution_count": 5,
   "metadata": {},
   "outputs": [],
   "source": [
    "net_G = nn.Sequential(nn.Linear(2, 2))"
   ]
  },
  {
   "cell_type": "code",
   "execution_count": 6,
   "metadata": {},
   "outputs": [],
   "source": [
    "net_D = nn.Sequential(\n",
    "    nn.Linear(2, 5), nn.Tanh(), \n",
    "    nn.Linear(5, 3), nn.Tanh(), \n",
    "    nn.Linear(3, 1)\n",
    "    )"
   ]
  },
  {
   "cell_type": "code",
   "execution_count": 7,
   "metadata": {},
   "outputs": [],
   "source": [
    "def update_D(X, Z, net_D, net_G, loss, trainer_D):  #@save\n",
    "    \"\"\"Update discriminator.\"\"\"\n",
    "    batch_size = torch.FloatTensor(X).size[0]\n",
    "    ones = torch.ones((batch_size, 1))\n",
    "    zeros = torch.zeros((batch_size, 1))\n",
    "    trainer_D.zero_grad()\n",
    "    real_Y = net_D(X)\n",
    "    fake_X = net_G(Z)\n",
    "    # Do not need to compute gradient for `net_G`, detach it from\n",
    "    # computing gradients.\n",
    "    fake_Y = net_D(fake_X.detach())\n",
    "    loss_D = (loss(real_Y, ones) + loss(fake_Y, zeros)) / 2\n",
    "    loss_D.backward()\n",
    "    trainer_D.step()\n",
    "    return loss_D"
   ]
  },
  {
   "cell_type": "code",
   "execution_count": 8,
   "metadata": {},
   "outputs": [],
   "source": [
    "def update_G(Z, net_D, net_G, loss, trainer_G):  #@save\n",
    "    \"\"\"Update generator.\"\"\"\n",
    "    batch_size = torch.FloatTensor(X).size[0]\n",
    "    ones = torch.ones((batch_size, 1))\n",
    "    trainer_G.zero_grad()\n",
    "    # We could reuse `fake_X` from `update_D` to save computation\n",
    "    fake_X = net_G(Z)\n",
    "    # Recomputing `fake_Y` is needed since `net_D` is changed\n",
    "    fake_Y = net_D(fake_X)\n",
    "    loss_G=loss(fake_Y,ones)\n",
    "    loss_G.backward()\n",
    "    trainer_G.step()\n",
    "    return loss_G"
   ]
  },
  {
   "cell_type": "code",
   "execution_count": 9,
   "metadata": {},
   "outputs": [],
   "source": [
    "import numpy as np"
   ]
  },
  {
   "cell_type": "code",
   "execution_count": 10,
   "metadata": {},
   "outputs": [],
   "source": [
    "def train(net_D, net_G, data_iter, num_epochs, lr_D, lr_G, latent_dim, data):\n",
    "    loss = nn.BCEWithLogitsLoss()\n",
    "    for w in net_D.parameters():\n",
    "        nn.init.normal_(w, 0, 0.02)\n",
    "    for w in net_G.parameters():\n",
    "        nn.init.normal_(w, 0, 0.02)\n",
    "    net_D.zero_grad()\n",
    "    net_G.zero_grad()\n",
    "    trainer_D = torch.optim.Adam(net_D.parameters(), lr=lr_D)\n",
    "    trainer_G = torch.optim.Adam(net_G.parameters(), lr=lr_G)\n",
    "    animator = d2l.Animator(xlabel='epoch', ylabel='loss',\n",
    "                            xlim=[1, num_epochs], nrows=2, figsize=(5, 5),\n",
    "                            legend=['discriminator', 'generator'])\n",
    "    animator.fig.subplots_adjust(hspace=0.3)\n",
    "    for epoch in range(num_epochs):\n",
    "        # Train one epoch\n",
    "        timer = d2l.Timer()\n",
    "        metric = d2l.Accumulator(3)  # loss_D, loss_G, num_examples\n",
    "        for X in data_iter:\n",
    "             #d2l.numpy(torch.FloatTensor(X)).shape[0]\n",
    "            batch_size = torch.FloatTensor(X).size[0]\n",
    "            Z = torch.normal(0, 1, size=(batch_size, latent_dim))\n",
    "            trainer_D.zero_grad()\n",
    "            trainer_G.zero_grad()\n",
    "            metric.add(update_D(X, Z, net_D, net_G, loss, trainer_D),\n",
    "                       update_G(Z, net_D, net_G, loss, trainer_G),\n",
    "                       batch_size)\n",
    "        # Visualize generated examples\n",
    "        Z = torch.normal(0, 1, size=(100, latent_dim))\n",
    "        fake_X = net_G(Z).detach().numpy()\n",
    "        animator.axes[1].cla()\n",
    "        animator.axes[1].scatter(data[:, 0], data[:, 1])\n",
    "        animator.axes[1].scatter(fake_X[:, 0], fake_X[:, 1])\n",
    "        animator.axes[1].legend(['real', 'generated'])\n",
    "        # Show the losses\n",
    "        loss_D, loss_G = metric[0]/metric[2], metric[1]/metric[2]\n",
    "        animator.add(epoch + 1, (loss_D, loss_G))\n",
    "    print(f'loss_D {loss_D:.3f}, loss_G {loss_G:.3f}, '\n",
    "          f'{metric[2] / timer.stop():.1f} examples/sec')"
   ]
  },
  {
   "cell_type": "code",
   "execution_count": 11,
   "metadata": {
    "tags": []
   },
   "outputs": [
    {
     "output_type": "error",
     "ename": "ValueError",
     "evalue": "only one element tensors can be converted to Python scalars",
     "traceback": [
      "\u001b[1;31m---------------------------------------------------------------------------\u001b[0m",
      "\u001b[1;31mValueError\u001b[0m                                Traceback (most recent call last)",
      "\u001b[1;32m<ipython-input-11-251159593cac>\u001b[0m in \u001b[0;36m<module>\u001b[1;34m\u001b[0m\n\u001b[0;32m      1\u001b[0m \u001b[0mlr_D\u001b[0m\u001b[1;33m,\u001b[0m \u001b[0mlr_G\u001b[0m\u001b[1;33m,\u001b[0m \u001b[0mlatent_dim\u001b[0m\u001b[1;33m,\u001b[0m \u001b[0mnum_epochs\u001b[0m \u001b[1;33m=\u001b[0m \u001b[1;36m0.05\u001b[0m\u001b[1;33m,\u001b[0m \u001b[1;36m0.005\u001b[0m\u001b[1;33m,\u001b[0m \u001b[1;36m2\u001b[0m\u001b[1;33m,\u001b[0m \u001b[1;36m20\u001b[0m\u001b[1;33m\u001b[0m\u001b[1;33m\u001b[0m\u001b[0m\n\u001b[1;32m----> 2\u001b[1;33m train(net_D, net_G, data_iter, num_epochs, lr_D, lr_G,\n\u001b[0m\u001b[0;32m      3\u001b[0m       latent_dim, d2l.numpy(data[:100]))\n",
      "\u001b[1;32m<ipython-input-10-bb3cc72e0e7f>\u001b[0m in \u001b[0;36mtrain\u001b[1;34m(net_D, net_G, data_iter, num_epochs, lr_D, lr_G, latent_dim, data)\u001b[0m\n\u001b[0;32m     19\u001b[0m         \u001b[1;32mfor\u001b[0m \u001b[0mX\u001b[0m \u001b[1;32min\u001b[0m \u001b[0mdata_iter\u001b[0m\u001b[1;33m:\u001b[0m\u001b[1;33m\u001b[0m\u001b[1;33m\u001b[0m\u001b[0m\n\u001b[0;32m     20\u001b[0m              \u001b[1;31m#d2l.numpy(torch.FloatTensor(X)).shape[0]\u001b[0m\u001b[1;33m\u001b[0m\u001b[1;33m\u001b[0m\u001b[1;33m\u001b[0m\u001b[0m\n\u001b[1;32m---> 21\u001b[1;33m             \u001b[0mbatch_size\u001b[0m \u001b[1;33m=\u001b[0m \u001b[0mtorch\u001b[0m\u001b[1;33m.\u001b[0m\u001b[0mFloatTensor\u001b[0m\u001b[1;33m(\u001b[0m\u001b[0mX\u001b[0m\u001b[1;33m)\u001b[0m\u001b[1;33m.\u001b[0m\u001b[0msize\u001b[0m\u001b[1;33m[\u001b[0m\u001b[1;36m0\u001b[0m\u001b[1;33m]\u001b[0m\u001b[1;33m\u001b[0m\u001b[1;33m\u001b[0m\u001b[0m\n\u001b[0m\u001b[0;32m     22\u001b[0m             \u001b[0mZ\u001b[0m \u001b[1;33m=\u001b[0m \u001b[0mtorch\u001b[0m\u001b[1;33m.\u001b[0m\u001b[0mnormal\u001b[0m\u001b[1;33m(\u001b[0m\u001b[1;36m0\u001b[0m\u001b[1;33m,\u001b[0m \u001b[1;36m1\u001b[0m\u001b[1;33m,\u001b[0m \u001b[0msize\u001b[0m\u001b[1;33m=\u001b[0m\u001b[1;33m(\u001b[0m\u001b[0mbatch_size\u001b[0m\u001b[1;33m,\u001b[0m \u001b[0mlatent_dim\u001b[0m\u001b[1;33m)\u001b[0m\u001b[1;33m)\u001b[0m\u001b[1;33m\u001b[0m\u001b[1;33m\u001b[0m\u001b[0m\n\u001b[0;32m     23\u001b[0m             \u001b[0mtrainer_D\u001b[0m\u001b[1;33m.\u001b[0m\u001b[0mzero_grad\u001b[0m\u001b[1;33m(\u001b[0m\u001b[1;33m)\u001b[0m\u001b[1;33m\u001b[0m\u001b[1;33m\u001b[0m\u001b[0m\n",
      "\u001b[1;31mValueError\u001b[0m: only one element tensors can be converted to Python scalars"
     ]
    }
   ],
   "source": [
    "lr_D, lr_G, latent_dim, num_epochs = 0.05, 0.005, 2, 20\n",
    "train(net_D, net_G, data_iter, num_epochs, lr_D, lr_G,\n",
    "      latent_dim, d2l.numpy(data[:100]))"
   ]
  },
  {
   "cell_type": "markdown",
   "metadata": {},
   "source": [
    "https://stackoverflow.com/questions/49768306/pytorch-tensor-to-numpy-array\n",
    "\n",
    "https://stackoverflow.com/questions/21015674/list-object-has-no-attribute-shape\n",
    "\n",
    "torch.FloatTensor()\n",
    "https://www.aiworkbox.com/lessons/convert-list-to-pytorch-tensor\n",
    "\n",
    " [t.numpy() for t in my_list_of_tensors]\n",
    " https://stackoom.com/question/3WUrh/%E6%97%A0%E6%B3%95%E5%B0%86%E5%88%97%E8%A1%A8%E8%BD%AC%E6%8D%A2%E4%B8%BA%E6%95%B0%E7%BB%84-ValueError-%E5%8F%AA%E8%83%BD%E5%B0%86%E4%B8%80%E4%B8%AA%E5%85%83%E7%B4%A0%E5%BC%A0%E9%87%8F%E8%BD%AC%E6%8D%A2%E4%B8%BAPython%E6%A0%87%E9%87%8F"
   ]
  },
  {
   "cell_type": "markdown",
   "metadata": {},
   "source": [
    "https://stackoverflow.com/questions/51960857/how-can-i-get-a-list-shape-without-using-numpy/51961584\n",
    "\n",
    "len(a[0])"
   ]
  }
 ]
}