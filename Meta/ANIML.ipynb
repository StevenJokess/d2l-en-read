{
  "nbformat": 4,
  "nbformat_minor": 0,
  "metadata": {
    "hide_input": false,
    "kernelspec": {
      "display_name": "Python 3",
      "language": "python",
      "name": "python3"
    },
    "language_info": {
      "codemirror_mode": {
        "name": "ipython",
        "version": 3
      },
      "file_extension": ".py",
      "mimetype": "text/x-python",
      "name": "python",
      "nbconvert_exporter": "python",
      "pygments_lexer": "ipython3",
      "version": "3.7.0"
    },
    "colab": {
      "name": "ANIML.ipynb",
      "provenance": []
    },
    "accelerator": "GPU"
  },
  "cells": [
    {
      "cell_type": "code",
      "metadata": {
        "id": "5EBQp78wGZp4"
      },
      "source": [
        "import numpy as np\n",
        "import matplotlib.pyplot as plt\n",
        "import torch\n",
        "import torch.nn as nn\n",
        "import torch.nn.functional as F\n",
        "from torch.autograd import Variable as V\n",
        "import pandas as pd\n",
        "import random\n",
        "import seaborn as sbs\n",
        "from tqdm import tqdm_notebook as tqdm\n",
        "sbs.set_style('darkgrid')\n",
        "%matplotlib inline\n",
        "import warnings\n",
        "warnings.filterwarnings('ignore')"
      ],
      "execution_count": 1,
      "outputs": []
    },
    {
      "cell_type": "markdown",
      "metadata": {
        "id": "LGuJb08_GZqB"
      },
      "source": [
        "This notebook reproduces both [MAML](https://arxiv.org/abs/1703.03400) and the similar [Reptile](https://arxiv.org/abs/1803.02999)."
      ]
    },
    {
      "cell_type": "markdown",
      "metadata": {
        "id": "Nt5b7Zi_GZqC"
      },
      "source": [
        "# The Problem"
      ]
    },
    {
      "cell_type": "markdown",
      "metadata": {
        "id": "WXxjZfx2GZqC"
      },
      "source": [
        "https://towardsdatascience.com/fun-with-small-image-data-sets-8c83d95d0159\n",
        "\n",
        "The goal of both of these algorithms is to learn to do well at the *K-shot* learning problem.\n",
        "\n",
        "In K-shot learning, we need to train a neural network to generalize based on a very small number of examples (often on the order of 10 or so) instead of the often thousands of examples we see in datasets like ImageNet. However, in preparation for K-shot learning, you are allowed to train on many similar K-shot problems to learn the best way to generalize based on only K examples. \n",
        "\n",
        "This is *learning to learn* or **metalearning**. We have already seen metalearning in my post on \"Learning to Learn by Gradient Descent by Gradient Descent\", which you can find here:\n",
        "\n",
        "https://becominghuman.ai/paper-repro-learning-to-learn-by-gradient-descent-by-gradient-descent-6e504cc1c0de\n",
        "\n",
        "The metalearning approach of both Reptile and MAML is to come up with an **initialization** for neural networks that is easily generalizable to similar tasks. This is different to \"Learning to Learn by Gradient Descent by Gradient Descent\" in which we weren't learning an initialization but rather an optimizer.\n",
        "\n",
        "This approach is very similar to **transfer learning**, in which we train a network on, say, ImageNet, and it later turns out that fine-tuning this network makes it easy to learn another image dataset, with much less data. Indeed, transfer learning can be seen as a form of metalearning.\n",
        "\n",
        "The difference here is that the initial network was trained with the explicit purpose of being easily generalizable, whereas transfer learning just \"accidentally\" happens to work, and thus might not work optimally.\n",
        "\n",
        "Indeed, it is fairly easy to find a in which transfer learnings fails to learn a good initialization. For this we need to look at the *1D sine wave regression problem*.\n",
        "\n",
        "## Sine Wave Regression\n",
        "\n",
        "In this K-shot problem, each task consists in learning a modified sine function. Specifically, for each task, the underlying function will be of the form *y = a sin(x + b)*, with both *a* and *b* chosen randomly, and the goal of our neural network is to learn to find *y* given *x* based on only 10 (x, y) pairs.\n",
        "\n",
        "Let's write our sine wave task and plot a couple of examples:"
      ]
    },
    {
      "cell_type": "code",
      "metadata": {
        "colab": {
          "base_uri": "https://localhost:8080/",
          "height": 265
        },
        "id": "ajjsVYf-GZqD",
        "outputId": "387c6cb9-b832-4185-872b-1e08c55881cb"
      },
      "source": [
        "class SineWaveTask:\n",
        "    def __init__(self):\n",
        "        self.a = np.random.uniform(0.1, 5.0)\n",
        "        self.b = np.random.uniform(0, 2*np.pi)\n",
        "        self.train_x = None\n",
        "        \n",
        "    def f(self, x):\n",
        "        return self.a * np.sin(x + self.b)\n",
        "        \n",
        "    def training_set(self, size=10, force_new=False):\n",
        "        if self.train_x is None and not force_new:\n",
        "            self.train_x = np.random.uniform(-5, 5, size)\n",
        "            x = self.train_x\n",
        "        elif not force_new:\n",
        "            x = self.train_x\n",
        "        else:\n",
        "            x = np.random.uniform(-5, 5, size)\n",
        "        y = self.f(x)\n",
        "        return torch.Tensor(x), torch.Tensor(y)\n",
        "    \n",
        "    def test_set(self, size=50):\n",
        "        x = np.linspace(-5, 5, size)\n",
        "        y = self.f(x)\n",
        "        return torch.Tensor(x), torch.Tensor(y)\n",
        "    \n",
        "    def plot(self, *args, **kwargs):\n",
        "        x, y = self.test_set(size=100)\n",
        "        return plt.plot(x.numpy(), y.numpy(), *args, **kwargs)\n",
        "    \n",
        "SineWaveTask().plot()\n",
        "SineWaveTask().plot()\n",
        "SineWaveTask().plot()\n",
        "plt.show()"
      ],
      "execution_count": 2,
      "outputs": [
        {
          "output_type": "display_data",
          "data": {
            "image/png": "[encoded data removed]",
            "text/plain": [
              "<Figure size 432x288 with 1 Axes>"
            ]
          },
          "metadata": {
            "tags": [],
            "needs_background": "light"
          }
        }
      ]
    },
    {
      "cell_type": "markdown",
      "metadata": {
        "id": "Uf2nZ-SnGZqF"
      },
      "source": [
        "To understand why this is going to be a problem for transfer learning, let's plot 1,000 of them:"
      ]
    },
    {
      "cell_type": "code",
      "metadata": {
        "colab": {
          "base_uri": "https://localhost:8080/",
          "height": 265
        },
        "id": "OpFPhNdbGZqG",
        "outputId": "1ccd06a0-0a59-4455-8952-890211a9cdc2"
      },
      "source": [
        "for _ in range(1000):\n",
        "    SineWaveTask().plot(color='black')"
      ],
      "execution_count": 3,
      "outputs": [
        {
          "output_type": "display_data",
          "data": {
            "image/png": "[encoded data removed]",
            "text/plain": [
              "<Figure size 432x288 with 1 Axes>"
            ]
          },
          "metadata": {
            "tags": [],
            "needs_background": "light"
          }
        }
      ]
    },
    {
      "cell_type": "markdown",
      "metadata": {
        "id": "MOX_6_r5GZqG"
      },
      "source": [
        "Looks like there is a lot of overlap at each x value, to say the least...\n",
        "\n",
        "Since there are multiple possible values for each x across multiple tasks, if we train a single neural net to deal with multiple tasks at the same time, its best bet will simply be to return the *average* y value across all tasks for each x. What does that look like?"
      ]
    },
    {
      "cell_type": "code",
      "metadata": {
        "colab": {
          "base_uri": "https://localhost:8080/",
          "height": 265
        },
        "id": "g1e0p-QNGZqH",
        "outputId": "a82be8e9-f5d6-4da5-fc82-c51555564d0c"
      },
      "source": [
        "all_x, all_y = [], []\n",
        "\n",
        "for _ in range(10000):\n",
        "    curx, cury = SineWaveTask().test_set(size=100)\n",
        "    all_x.append(curx.numpy())\n",
        "    all_y.append(cury.numpy())\n",
        "\n",
        "avg, = plt.plot(all_x[0], np.mean(all_y, axis=0))\n",
        "rand, = SineWaveTask().plot()\n",
        "plt.legend([avg, rand], ['Average', 'Random'])\n",
        "plt.show()"
      ],
      "execution_count": 4,
      "outputs": [
        {
          "output_type": "display_data",
          "data": {
            "image/png": "[encoded data removed]",
            "text/plain": [
              "<Figure size 432x288 with 1 Axes>"
            ]
          },
          "metadata": {
            "tags": [],
            "needs_background": "light"
          }
        }
      ]
    },
    {
      "cell_type": "markdown",
      "metadata": {
        "id": "vOaJeH_4GZqH"
      },
      "source": [
        "The average is basically 0, which means a neural network trained on a lot of tasks would simply return 0 everywhere! It is unclear that this will actually help very much, and yet this **is** the transfer learning approach in this case...\n",
        "\n",
        "Let's see how well it does by actually implementing the model:"
      ]
    },
    {
      "cell_type": "code",
      "metadata": {
        "id": "g1Q1MNLpGZqH"
      },
      "source": [
        "TRAIN_SIZE = 10000\n",
        "TEST_SIZE = 1000\n",
        "\n",
        "class ModifiableModule(nn.Module):\n",
        "    def params(self):\n",
        "        return [p for _, p in self.named_params()]\n",
        "    \n",
        "    def named_leaves(self):\n",
        "        return []\n",
        "    \n",
        "    def named_submodules(self):\n",
        "        return []\n",
        "    \n",
        "    def named_params(self):\n",
        "        subparams = []\n",
        "        for name, mod in self.named_submodules():\n",
        "            for subname, param in mod.named_params():\n",
        "                subparams.append((name + '.' + subname, param))\n",
        "        return self.named_leaves() + subparams\n",
        "    \n",
        "    def set_param(self, name, param):\n",
        "        if '.' in name:\n",
        "            n = name.split('.')\n",
        "            module_name = n[0]\n",
        "            rest = '.'.join(n[1:])\n",
        "            for name, mod in self.named_submodules():\n",
        "                if module_name == name:\n",
        "                    mod.set_param(rest, param)\n",
        "                    break\n",
        "        else:\n",
        "            setattr(self, name, param)\n",
        "            \n",
        "    def copy(self, other, same_var=False):\n",
        "        for name, param in other.named_params():\n",
        "            if not same_var:\n",
        "                param = V(param.data.clone(), requires_grad=True)\n",
        "            self.set_param(name, param)\n",
        "\n",
        "class GradLinear(ModifiableModule):\n",
        "    def __init__(self, *args, **kwargs):\n",
        "        super().__init__()\n",
        "        ignore = nn.Linear(*args, **kwargs)\n",
        "        self.weights = V(ignore.weight.data, requires_grad=True)\n",
        "        self.bias = V(ignore.bias.data, requires_grad=True)\n",
        "        \n",
        "    def forward(self, x):\n",
        "        return F.linear(x, self.weights, self.bias)\n",
        "    \n",
        "    def named_leaves(self):\n",
        "        return [('weights', self.weights), ('bias', self.bias)]\n",
        "\n",
        "class SineModel(ModifiableModule):\n",
        "    def __init__(self):\n",
        "        super().__init__()\n",
        "        self.hidden1 = GradLinear(1, 40)\n",
        "        self.hidden2 = GradLinear(40, 40)\n",
        "        self.out = GradLinear(40, 1)\n",
        "        \n",
        "    def forward(self, x):\n",
        "        x = F.relu(self.hidden1(x))\n",
        "        x = F.relu(self.hidden2(x))\n",
        "        return self.out(x)\n",
        "    \n",
        "    def named_submodules(self):\n",
        "        return [('hidden1', self.hidden1), ('hidden2', self.hidden2), ('out', self.out)]\n",
        "    \n",
        "SINE_TRAIN = [SineWaveTask() for _ in range(TRAIN_SIZE)]\n",
        "SINE_TEST = [SineWaveTask() for _ in range(TEST_SIZE)]\n",
        "\n",
        "ONE_SIDED_EXAMPLE = None\n",
        "while ONE_SIDED_EXAMPLE is None:\n",
        "    cur = SineWaveTask()\n",
        "    x, _ = cur.training_set()\n",
        "    x = x.numpy()\n",
        "    if np.max(x) < 0 or np.min(x) > 0:\n",
        "        ONE_SIDED_EXAMPLE = cur\n",
        "\n",
        "SINE_TRANSFER = SineModel()\n",
        "\n",
        "def sine_fit1(net, wave, optim=None, get_test_loss=False, create_graph=False, force_new=False):\n",
        "    net.train()\n",
        "    if optim is not None:\n",
        "        optim.zero_grad()\n",
        "    x, y = wave.training_set(force_new=force_new)\n",
        "    loss = F.mse_loss(net(V(x[:, None])), V(y).unsqueeze(1))\n",
        "    loss.backward(create_graph=create_graph, retain_graph=True)\n",
        "    if optim is not None:\n",
        "        optim.step()\n",
        "    if get_test_loss:\n",
        "        net.eval()\n",
        "        x, y = wave.test_set()\n",
        "        loss_test = F.mse_loss(net(V(x[:, None])), V(y))\n",
        "        return loss.data.cpu().numpy()[0], loss_test.data.cpu().numpy()[0]\n",
        "    return loss.data.cpu().numpy()#[0]\n",
        "\n",
        "def fit_transfer(epochs=1):\n",
        "    optim = torch.optim.Adam(SINE_TRANSFER.params())\n",
        "\n",
        "    for _ in range(epochs):\n",
        "        for t in random.sample(SINE_TRAIN, len(SINE_TRAIN)):\n",
        "            sine_fit1(SINE_TRANSFER, t, optim)\n",
        "            \n",
        "fit_transfer()"
      ],
      "execution_count": 5,
      "outputs": []
    },
    {
      "cell_type": "code",
      "metadata": {
        "scrolled": true,
        "colab": {
          "base_uri": "https://localhost:8080/",
          "height": 265
        },
        "id": "rjmooP1HGZqJ",
        "outputId": "b3511922-d147-4a25-84f4-2e2ebf4e8d9c"
      },
      "source": [
        "def copy_sine_model(model):\n",
        "    m = SineModel()\n",
        "    m.copy(model)\n",
        "    return m\n",
        "\n",
        "def eval_sine_test(model, test, fits=(0, 1), lr=0.01):\n",
        "    xtest, ytest = test.test_set()\n",
        "    xtrain, ytrain = test.training_set()\n",
        "\n",
        "    model = copy_sine_model(model)\n",
        "    # Not sure if this should be Adam or SGD.\n",
        "    optim = torch.optim.SGD(model.params(), lr)\n",
        "        \n",
        "    def get_loss(res):\n",
        "        return F.mse_loss(res, V(ytest[:, None])).cpu().data.numpy()#[0]\n",
        "    \n",
        "    fit_res = []\n",
        "    if 0 in fits:\n",
        "        results = model(V(xtest[:, None]))\n",
        "        fit_res.append((0, results, get_loss(results)))\n",
        "    for i in range(np.max(fits)):\n",
        "        sine_fit1(model, test, optim)\n",
        "        if i + 1 in fits:\n",
        "            results = model(V(xtest[:, None]))\n",
        "            fit_res.append(\n",
        "                (\n",
        "                    i + 1, \n",
        "                    results,\n",
        "                    get_loss(results)\n",
        "                )\n",
        "            )\n",
        "\n",
        "    return fit_res\n",
        "\n",
        "def plot_sine_test(model, test, fits=(0, 1), lr=0.01):\n",
        "    xtest, ytest = test.test_set()\n",
        "    xtrain, ytrain = test.training_set()\n",
        "\n",
        "    fit_res = eval_sine_test(model, test, fits, lr)\n",
        "    \n",
        "    train, = plt.plot(xtrain.numpy(), ytrain.numpy(), '^')\n",
        "    ground_truth, = plt.plot(xtest.numpy(), ytest.numpy())\n",
        "    plots = [train, ground_truth]\n",
        "    legend = ['Training Points', 'True Function']\n",
        "    for n, res, loss in fit_res:\n",
        "        cur, = plt.plot(xtest.numpy(), res.cpu().data.numpy()[:, 0], '--')\n",
        "        plots.append(cur)\n",
        "        legend.append(f'After {n} Steps')\n",
        "    plt.legend(plots, legend)\n",
        "    plt.show()\n",
        "    \n",
        "plot_sine_test(SINE_TRANSFER, SINE_TEST[0], fits=[0, 1, 10], lr=0.02)"
      ],
      "execution_count": 6,
      "outputs": [
        {
          "output_type": "display_data",
          "data": {
            "image/png": "[encoded data removed]",
            "text/plain": [
              "<Figure size 432x288 with 1 Axes>"
            ]
          },
          "metadata": {
            "tags": [],
            "needs_background": "light"
          }
        }
      ]
    },
    {
      "cell_type": "markdown",
      "metadata": {
        "id": "wXTNp79hGZqK"
      },
      "source": [
        "Basically it looks like our transfer model learns a constant function and that it is really hard to fine tune it to something better than a constant function. It's not even clear that our transfer learning is any better than random initialization..."
      ]
    },
    {
      "cell_type": "code",
      "metadata": {
        "colab": {
          "base_uri": "https://localhost:8080/",
          "height": 345
        },
        "id": "Vb59vcttGZqL",
        "outputId": "85530e6e-fa5e-4c3c-895a-ee1124f40ce5"
      },
      "source": [
        "def plot_sine_learning(models, fits=(0, 1), lr=0.01, marker='s', linestyle='--'):\n",
        "    data = {'model': [], 'fits': [], 'loss': [], 'set': []}\n",
        "    for name, models in models:\n",
        "        if not isinstance(models, list):\n",
        "            models = [models]\n",
        "        for n_model, model in enumerate(models):\n",
        "            for n_test, test in enumerate(SINE_TEST):\n",
        "                n_test = n_model * len(SINE_TEST) + n_test\n",
        "                fit_res = eval_sine_test(model, test, fits, lr)\n",
        "                for n, _, loss in fit_res:\n",
        "                    data['model'].append(name)\n",
        "                    data['fits'].append(n)\n",
        "                    data['loss'].append(loss)\n",
        "                    data['set'].append(n_test)\n",
        "        \n",
        "    ax = sbs.tsplot(\n",
        "        pd.DataFrame(data), condition='model', value='loss',\n",
        "        time='fits', unit='set', marker=marker, linestyle=linestyle)\n",
        "    \n",
        "plot_sine_learning(\n",
        "    [('Transfer', SINE_TRANSFER), ('Random', SineModel())],\n",
        "    list(range(100)),\n",
        "    marker='',\n",
        "    linestyle='-'\n",
        ")"
      ],
      "execution_count": 7,
      "outputs": [
        {
          "output_type": "error",
          "ename": "AttributeError",
          "evalue": "ignored",
          "traceback": [
            "\u001b[0;31m---------------------------------------------------------------------------\u001b[0m",
            "\u001b[0;31mAttributeError\u001b[0m                            Traceback (most recent call last)",
            "\u001b[0;32m<ipython-input-7-4ea6789ca1a2>\u001b[0m in \u001b[0;36m<module>\u001b[0;34m()\u001b[0m\n\u001b[1;32m     22\u001b[0m     \u001b[0mlist\u001b[0m\u001b[0;34m(\u001b[0m\u001b[0mrange\u001b[0m\u001b[0;34m(\u001b[0m\u001b[0;36m100\u001b[0m\u001b[0;34m)\u001b[0m\u001b[0;34m)\u001b[0m\u001b[0;34m,\u001b[0m\u001b[0;34m\u001b[0m\u001b[0;34m\u001b[0m\u001b[0m\n\u001b[1;32m     23\u001b[0m     \u001b[0mmarker\u001b[0m\u001b[0;34m=\u001b[0m\u001b[0;34m''\u001b[0m\u001b[0;34m,\u001b[0m\u001b[0;34m\u001b[0m\u001b[0;34m\u001b[0m\u001b[0m\n\u001b[0;32m---> 24\u001b[0;31m     \u001b[0mlinestyle\u001b[0m\u001b[0;34m=\u001b[0m\u001b[0;34m'-'\u001b[0m\u001b[0;34m\u001b[0m\u001b[0;34m\u001b[0m\u001b[0m\n\u001b[0m\u001b[1;32m     25\u001b[0m )\n",
            "\u001b[0;32m<ipython-input-7-4ea6789ca1a2>\u001b[0m in \u001b[0;36mplot_sine_learning\u001b[0;34m(models, fits, lr, marker, linestyle)\u001b[0m\n\u001b[1;32m     14\u001b[0m                     \u001b[0mdata\u001b[0m\u001b[0;34m[\u001b[0m\u001b[0;34m'set'\u001b[0m\u001b[0;34m]\u001b[0m\u001b[0;34m.\u001b[0m\u001b[0mappend\u001b[0m\u001b[0;34m(\u001b[0m\u001b[0mn_test\u001b[0m\u001b[0;34m)\u001b[0m\u001b[0;34m\u001b[0m\u001b[0;34m\u001b[0m\u001b[0m\n\u001b[1;32m     15\u001b[0m \u001b[0;34m\u001b[0m\u001b[0m\n\u001b[0;32m---> 16\u001b[0;31m     ax = sbs.tsplot(\n\u001b[0m\u001b[1;32m     17\u001b[0m         \u001b[0mpd\u001b[0m\u001b[0;34m.\u001b[0m\u001b[0mDataFrame\u001b[0m\u001b[0;34m(\u001b[0m\u001b[0mdata\u001b[0m\u001b[0;34m)\u001b[0m\u001b[0;34m,\u001b[0m \u001b[0mcondition\u001b[0m\u001b[0;34m=\u001b[0m\u001b[0;34m'model'\u001b[0m\u001b[0;34m,\u001b[0m \u001b[0mvalue\u001b[0m\u001b[0;34m=\u001b[0m\u001b[0;34m'loss'\u001b[0m\u001b[0;34m,\u001b[0m\u001b[0;34m\u001b[0m\u001b[0;34m\u001b[0m\u001b[0m\n\u001b[1;32m     18\u001b[0m         time='fits', unit='set', marker=marker, linestyle=linestyle)\n",
            "\u001b[0;31mAttributeError\u001b[0m: module 'seaborn' has no attribute 'tsplot'"
          ]
        }
      ]
    },
    {
      "cell_type": "code",
      "metadata": {
        "colab": {
          "base_uri": "https://localhost:8080/",
          "height": 1000
        },
        "id": "ZTAMzPmcHUEw",
        "outputId": "50bec703-2f0b-4db2-8a53-6a4c17d63b36"
      },
      "source": [
        "def plot_sine_learning(models, fits=(0, 1), lr=0.01, marker='s', linestyle='--'):\r\n",
        "    data = {'model': [], 'fits': [], 'loss': [], 'set': []}\r\n",
        "    for name, models in models:\r\n",
        "        if not isinstance(models, list):\r\n",
        "            models = [models]\r\n",
        "        for n_model, model in enumerate(models):\r\n",
        "            for n_test, test in enumerate(SINE_TEST):\r\n",
        "                n_test = n_model * len(SINE_TEST) + n_test\r\n",
        "                fit_res = eval_sine_test(model, test, fits, lr)\r\n",
        "                for n, _, loss in fit_res:\r\n",
        "                    data['model'].append(name)\r\n",
        "                    data['fits'].append(n)\r\n",
        "                    data['loss'].append(loss)\r\n",
        "                    data['set'].append(n_test)\r\n",
        "        \r\n",
        "    ax = sbs.lineplot(\r\n",
        "        pd.DataFrame(data), condition='model', value='loss',\r\n",
        "        time='fits', unit='set', marker=marker, linestyle=linestyle)\r\n",
        "    \r\n",
        "plot_sine_learning(\r\n",
        "    [('Transfer', SINE_TRANSFER), ('Random', SineModel())],\r\n",
        "    list(range(100)),\r\n",
        "    marker='',\r\n",
        "    linestyle='-'\r\n",
        ")"
      ],
      "execution_count": 8,
      "outputs": [
        {
          "output_type": "error",
          "ename": "ValueError",
          "evalue": "ignored",
          "traceback": [
            "\u001b[0;31m---------------------------------------------------------------------------\u001b[0m",
            "\u001b[0;31mValueError\u001b[0m                                Traceback (most recent call last)",
            "\u001b[0;32m<ipython-input-8-ee45897d3bf8>\u001b[0m in \u001b[0;36m<module>\u001b[0;34m()\u001b[0m\n\u001b[1;32m     22\u001b[0m     \u001b[0mlist\u001b[0m\u001b[0;34m(\u001b[0m\u001b[0mrange\u001b[0m\u001b[0;34m(\u001b[0m\u001b[0;36m100\u001b[0m\u001b[0;34m)\u001b[0m\u001b[0;34m)\u001b[0m\u001b[0;34m,\u001b[0m\u001b[0;34m\u001b[0m\u001b[0;34m\u001b[0m\u001b[0m\n\u001b[1;32m     23\u001b[0m     \u001b[0mmarker\u001b[0m\u001b[0;34m=\u001b[0m\u001b[0;34m''\u001b[0m\u001b[0;34m,\u001b[0m\u001b[0;34m\u001b[0m\u001b[0;34m\u001b[0m\u001b[0m\n\u001b[0;32m---> 24\u001b[0;31m     \u001b[0mlinestyle\u001b[0m\u001b[0;34m=\u001b[0m\u001b[0;34m'-'\u001b[0m\u001b[0;34m\u001b[0m\u001b[0;34m\u001b[0m\u001b[0m\n\u001b[0m\u001b[1;32m     25\u001b[0m )\n",
            "\u001b[0;32m<ipython-input-8-ee45897d3bf8>\u001b[0m in \u001b[0;36mplot_sine_learning\u001b[0;34m(models, fits, lr, marker, linestyle)\u001b[0m\n\u001b[1;32m     16\u001b[0m     ax = sbs.lineplot(\n\u001b[1;32m     17\u001b[0m         \u001b[0mpd\u001b[0m\u001b[0;34m.\u001b[0m\u001b[0mDataFrame\u001b[0m\u001b[0;34m(\u001b[0m\u001b[0mdata\u001b[0m\u001b[0;34m)\u001b[0m\u001b[0;34m,\u001b[0m \u001b[0mcondition\u001b[0m\u001b[0;34m=\u001b[0m\u001b[0;34m'model'\u001b[0m\u001b[0;34m,\u001b[0m \u001b[0mvalue\u001b[0m\u001b[0;34m=\u001b[0m\u001b[0;34m'loss'\u001b[0m\u001b[0;34m,\u001b[0m\u001b[0;34m\u001b[0m\u001b[0;34m\u001b[0m\u001b[0m\n\u001b[0;32m---> 18\u001b[0;31m         time='fits', unit='set', marker=marker, linestyle=linestyle)\n\u001b[0m\u001b[1;32m     19\u001b[0m \u001b[0;34m\u001b[0m\u001b[0m\n\u001b[1;32m     20\u001b[0m plot_sine_learning(\n",
            "\u001b[0;32m/usr/local/lib/python3.6/dist-packages/seaborn/_decorators.py\u001b[0m in \u001b[0;36minner_f\u001b[0;34m(*args, **kwargs)\u001b[0m\n\u001b[1;32m     44\u001b[0m             )\n\u001b[1;32m     45\u001b[0m         \u001b[0mkwargs\u001b[0m\u001b[0;34m.\u001b[0m\u001b[0mupdate\u001b[0m\u001b[0;34m(\u001b[0m\u001b[0;34m{\u001b[0m\u001b[0mk\u001b[0m\u001b[0;34m:\u001b[0m \u001b[0marg\u001b[0m \u001b[0;32mfor\u001b[0m \u001b[0mk\u001b[0m\u001b[0;34m,\u001b[0m \u001b[0marg\u001b[0m \u001b[0;32min\u001b[0m \u001b[0mzip\u001b[0m\u001b[0;34m(\u001b[0m\u001b[0msig\u001b[0m\u001b[0;34m.\u001b[0m\u001b[0mparameters\u001b[0m\u001b[0;34m,\u001b[0m \u001b[0margs\u001b[0m\u001b[0;34m)\u001b[0m\u001b[0;34m}\u001b[0m\u001b[0;34m)\u001b[0m\u001b[0;34m\u001b[0m\u001b[0;34m\u001b[0m\u001b[0m\n\u001b[0;32m---> 46\u001b[0;31m         \u001b[0;32mreturn\u001b[0m \u001b[0mf\u001b[0m\u001b[0;34m(\u001b[0m\u001b[0;34m**\u001b[0m\u001b[0mkwargs\u001b[0m\u001b[0;34m)\u001b[0m\u001b[0;34m\u001b[0m\u001b[0;34m\u001b[0m\u001b[0m\n\u001b[0m\u001b[1;32m     47\u001b[0m     \u001b[0;32mreturn\u001b[0m \u001b[0minner_f\u001b[0m\u001b[0;34m\u001b[0m\u001b[0;34m\u001b[0m\u001b[0m\n\u001b[1;32m     48\u001b[0m \u001b[0;34m\u001b[0m\u001b[0m\n",
            "\u001b[0;32m/usr/local/lib/python3.6/dist-packages/seaborn/relational.py\u001b[0m in \u001b[0;36mlineplot\u001b[0;34m(x, y, hue, size, style, data, palette, hue_order, hue_norm, sizes, size_order, size_norm, dashes, markers, style_order, units, estimator, ci, n_boot, seed, sort, err_style, err_kws, legend, ax, **kwargs)\u001b[0m\n\u001b[1;32m    679\u001b[0m         \u001b[0mdata\u001b[0m\u001b[0;34m=\u001b[0m\u001b[0mdata\u001b[0m\u001b[0;34m,\u001b[0m \u001b[0mvariables\u001b[0m\u001b[0;34m=\u001b[0m\u001b[0mvariables\u001b[0m\u001b[0;34m,\u001b[0m\u001b[0;34m\u001b[0m\u001b[0;34m\u001b[0m\u001b[0m\n\u001b[1;32m    680\u001b[0m         \u001b[0mestimator\u001b[0m\u001b[0;34m=\u001b[0m\u001b[0mestimator\u001b[0m\u001b[0;34m,\u001b[0m \u001b[0mci\u001b[0m\u001b[0;34m=\u001b[0m\u001b[0mci\u001b[0m\u001b[0;34m,\u001b[0m \u001b[0mn_boot\u001b[0m\u001b[0;34m=\u001b[0m\u001b[0mn_boot\u001b[0m\u001b[0;34m,\u001b[0m \u001b[0mseed\u001b[0m\u001b[0;34m=\u001b[0m\u001b[0mseed\u001b[0m\u001b[0;34m,\u001b[0m\u001b[0;34m\u001b[0m\u001b[0;34m\u001b[0m\u001b[0m\n\u001b[0;32m--> 681\u001b[0;31m         \u001b[0msort\u001b[0m\u001b[0;34m=\u001b[0m\u001b[0msort\u001b[0m\u001b[0;34m,\u001b[0m \u001b[0merr_style\u001b[0m\u001b[0;34m=\u001b[0m\u001b[0merr_style\u001b[0m\u001b[0;34m,\u001b[0m \u001b[0merr_kws\u001b[0m\u001b[0;34m=\u001b[0m\u001b[0merr_kws\u001b[0m\u001b[0;34m,\u001b[0m \u001b[0mlegend\u001b[0m\u001b[0;34m=\u001b[0m\u001b[0mlegend\u001b[0m\u001b[0;34m,\u001b[0m\u001b[0;34m\u001b[0m\u001b[0;34m\u001b[0m\u001b[0m\n\u001b[0m\u001b[1;32m    682\u001b[0m     )\n\u001b[1;32m    683\u001b[0m \u001b[0;34m\u001b[0m\u001b[0m\n",
            "\u001b[0;32m/usr/local/lib/python3.6/dist-packages/seaborn/relational.py\u001b[0m in \u001b[0;36m__init__\u001b[0;34m(self, data, variables, estimator, ci, n_boot, seed, sort, err_style, err_kws, legend)\u001b[0m\n\u001b[1;32m    365\u001b[0m         )\n\u001b[1;32m    366\u001b[0m \u001b[0;34m\u001b[0m\u001b[0m\n\u001b[0;32m--> 367\u001b[0;31m         \u001b[0msuper\u001b[0m\u001b[0;34m(\u001b[0m\u001b[0;34m)\u001b[0m\u001b[0;34m.\u001b[0m\u001b[0m__init__\u001b[0m\u001b[0;34m(\u001b[0m\u001b[0mdata\u001b[0m\u001b[0;34m=\u001b[0m\u001b[0mdata\u001b[0m\u001b[0;34m,\u001b[0m \u001b[0mvariables\u001b[0m\u001b[0;34m=\u001b[0m\u001b[0mvariables\u001b[0m\u001b[0;34m)\u001b[0m\u001b[0;34m\u001b[0m\u001b[0;34m\u001b[0m\u001b[0m\n\u001b[0m\u001b[1;32m    368\u001b[0m \u001b[0;34m\u001b[0m\u001b[0m\n\u001b[1;32m    369\u001b[0m         \u001b[0mself\u001b[0m\u001b[0;34m.\u001b[0m\u001b[0mestimator\u001b[0m \u001b[0;34m=\u001b[0m \u001b[0mestimator\u001b[0m\u001b[0;34m\u001b[0m\u001b[0;34m\u001b[0m\u001b[0m\n",
            "\u001b[0;32m/usr/local/lib/python3.6/dist-packages/seaborn/_core.py\u001b[0m in \u001b[0;36m__init__\u001b[0;34m(self, data, variables)\u001b[0m\n\u001b[1;32m    602\u001b[0m     \u001b[0;32mdef\u001b[0m \u001b[0m__init__\u001b[0m\u001b[0;34m(\u001b[0m\u001b[0mself\u001b[0m\u001b[0;34m,\u001b[0m \u001b[0mdata\u001b[0m\u001b[0;34m=\u001b[0m\u001b[0;32mNone\u001b[0m\u001b[0;34m,\u001b[0m \u001b[0mvariables\u001b[0m\u001b[0;34m=\u001b[0m\u001b[0;34m{\u001b[0m\u001b[0;34m}\u001b[0m\u001b[0;34m)\u001b[0m\u001b[0;34m:\u001b[0m\u001b[0;34m\u001b[0m\u001b[0;34m\u001b[0m\u001b[0m\n\u001b[1;32m    603\u001b[0m \u001b[0;34m\u001b[0m\u001b[0m\n\u001b[0;32m--> 604\u001b[0;31m         \u001b[0mself\u001b[0m\u001b[0;34m.\u001b[0m\u001b[0massign_variables\u001b[0m\u001b[0;34m(\u001b[0m\u001b[0mdata\u001b[0m\u001b[0;34m,\u001b[0m \u001b[0mvariables\u001b[0m\u001b[0;34m)\u001b[0m\u001b[0;34m\u001b[0m\u001b[0;34m\u001b[0m\u001b[0m\n\u001b[0m\u001b[1;32m    605\u001b[0m \u001b[0;34m\u001b[0m\u001b[0m\n\u001b[1;32m    606\u001b[0m         \u001b[0;32mfor\u001b[0m \u001b[0mvar\u001b[0m\u001b[0;34m,\u001b[0m \u001b[0mcls\u001b[0m \u001b[0;32min\u001b[0m \u001b[0mself\u001b[0m\u001b[0;34m.\u001b[0m\u001b[0m_semantic_mappings\u001b[0m\u001b[0;34m.\u001b[0m\u001b[0mitems\u001b[0m\u001b[0;34m(\u001b[0m\u001b[0;34m)\u001b[0m\u001b[0;34m:\u001b[0m\u001b[0;34m\u001b[0m\u001b[0;34m\u001b[0m\u001b[0m\n",
            "\u001b[0;32m/usr/local/lib/python3.6/dist-packages/seaborn/_core.py\u001b[0m in \u001b[0;36massign_variables\u001b[0;34m(self, data, variables)\u001b[0m\n\u001b[1;32m    666\u001b[0m             \u001b[0mself\u001b[0m\u001b[0;34m.\u001b[0m\u001b[0minput_format\u001b[0m \u001b[0;34m=\u001b[0m \u001b[0;34m\"long\"\u001b[0m\u001b[0;34m\u001b[0m\u001b[0;34m\u001b[0m\u001b[0m\n\u001b[1;32m    667\u001b[0m             plot_data, variables = self._assign_variables_longform(\n\u001b[0;32m--> 668\u001b[0;31m                 \u001b[0mdata\u001b[0m\u001b[0;34m,\u001b[0m \u001b[0;34m**\u001b[0m\u001b[0mvariables\u001b[0m\u001b[0;34m,\u001b[0m\u001b[0;34m\u001b[0m\u001b[0;34m\u001b[0m\u001b[0m\n\u001b[0m\u001b[1;32m    669\u001b[0m             )\n\u001b[1;32m    670\u001b[0m \u001b[0;34m\u001b[0m\u001b[0m\n",
            "\u001b[0;32m/usr/local/lib/python3.6/dist-packages/seaborn/_core.py\u001b[0m in \u001b[0;36m_assign_variables_longform\u001b[0;34m(self, data, **kwargs)\u001b[0m\n\u001b[1;32m    909\u001b[0m         \u001b[0;31m# Construct a tidy plot DataFrame. This will convert a number of\u001b[0m\u001b[0;34m\u001b[0m\u001b[0;34m\u001b[0m\u001b[0;34m\u001b[0m\u001b[0m\n\u001b[1;32m    910\u001b[0m         \u001b[0;31m# types automatically, aligning on index in case of pandas objects\u001b[0m\u001b[0;34m\u001b[0m\u001b[0;34m\u001b[0m\u001b[0;34m\u001b[0m\u001b[0m\n\u001b[0;32m--> 911\u001b[0;31m         \u001b[0mplot_data\u001b[0m \u001b[0;34m=\u001b[0m \u001b[0mpd\u001b[0m\u001b[0;34m.\u001b[0m\u001b[0mDataFrame\u001b[0m\u001b[0;34m(\u001b[0m\u001b[0mplot_data\u001b[0m\u001b[0;34m)\u001b[0m\u001b[0;34m\u001b[0m\u001b[0;34m\u001b[0m\u001b[0m\n\u001b[0m\u001b[1;32m    912\u001b[0m \u001b[0;34m\u001b[0m\u001b[0m\n\u001b[1;32m    913\u001b[0m         \u001b[0;31m# Reduce the variables dictionary to fields with valid data\u001b[0m\u001b[0;34m\u001b[0m\u001b[0;34m\u001b[0m\u001b[0;34m\u001b[0m\u001b[0m\n",
            "\u001b[0;32m/usr/local/lib/python3.6/dist-packages/pandas/core/frame.py\u001b[0m in \u001b[0;36m__init__\u001b[0;34m(self, data, index, columns, dtype, copy)\u001b[0m\n\u001b[1;32m    466\u001b[0m \u001b[0;34m\u001b[0m\u001b[0m\n\u001b[1;32m    467\u001b[0m         \u001b[0;32melif\u001b[0m \u001b[0misinstance\u001b[0m\u001b[0;34m(\u001b[0m\u001b[0mdata\u001b[0m\u001b[0;34m,\u001b[0m \u001b[0mdict\u001b[0m\u001b[0;34m)\u001b[0m\u001b[0;34m:\u001b[0m\u001b[0;34m\u001b[0m\u001b[0;34m\u001b[0m\u001b[0m\n\u001b[0;32m--> 468\u001b[0;31m             \u001b[0mmgr\u001b[0m \u001b[0;34m=\u001b[0m \u001b[0minit_dict\u001b[0m\u001b[0;34m(\u001b[0m\u001b[0mdata\u001b[0m\u001b[0;34m,\u001b[0m \u001b[0mindex\u001b[0m\u001b[0;34m,\u001b[0m \u001b[0mcolumns\u001b[0m\u001b[0;34m,\u001b[0m \u001b[0mdtype\u001b[0m\u001b[0;34m=\u001b[0m\u001b[0mdtype\u001b[0m\u001b[0;34m)\u001b[0m\u001b[0;34m\u001b[0m\u001b[0;34m\u001b[0m\u001b[0m\n\u001b[0m\u001b[1;32m    469\u001b[0m         \u001b[0;32melif\u001b[0m \u001b[0misinstance\u001b[0m\u001b[0;34m(\u001b[0m\u001b[0mdata\u001b[0m\u001b[0;34m,\u001b[0m \u001b[0mma\u001b[0m\u001b[0;34m.\u001b[0m\u001b[0mMaskedArray\u001b[0m\u001b[0;34m)\u001b[0m\u001b[0;34m:\u001b[0m\u001b[0;34m\u001b[0m\u001b[0;34m\u001b[0m\u001b[0m\n\u001b[1;32m    470\u001b[0m             \u001b[0;32mimport\u001b[0m \u001b[0mnumpy\u001b[0m\u001b[0;34m.\u001b[0m\u001b[0mma\u001b[0m\u001b[0;34m.\u001b[0m\u001b[0mmrecords\u001b[0m \u001b[0;32mas\u001b[0m \u001b[0mmrecords\u001b[0m\u001b[0;34m\u001b[0m\u001b[0;34m\u001b[0m\u001b[0m\n",
            "\u001b[0;32m/usr/local/lib/python3.6/dist-packages/pandas/core/internals/construction.py\u001b[0m in \u001b[0;36minit_dict\u001b[0;34m(data, index, columns, dtype)\u001b[0m\n\u001b[1;32m    281\u001b[0m             \u001b[0marr\u001b[0m \u001b[0;32mif\u001b[0m \u001b[0;32mnot\u001b[0m \u001b[0mis_datetime64tz_dtype\u001b[0m\u001b[0;34m(\u001b[0m\u001b[0marr\u001b[0m\u001b[0;34m)\u001b[0m \u001b[0;32melse\u001b[0m \u001b[0marr\u001b[0m\u001b[0;34m.\u001b[0m\u001b[0mcopy\u001b[0m\u001b[0;34m(\u001b[0m\u001b[0;34m)\u001b[0m \u001b[0;32mfor\u001b[0m \u001b[0marr\u001b[0m \u001b[0;32min\u001b[0m \u001b[0marrays\u001b[0m\u001b[0;34m\u001b[0m\u001b[0;34m\u001b[0m\u001b[0m\n\u001b[1;32m    282\u001b[0m         ]\n\u001b[0;32m--> 283\u001b[0;31m     \u001b[0;32mreturn\u001b[0m \u001b[0marrays_to_mgr\u001b[0m\u001b[0;34m(\u001b[0m\u001b[0marrays\u001b[0m\u001b[0;34m,\u001b[0m \u001b[0mdata_names\u001b[0m\u001b[0;34m,\u001b[0m \u001b[0mindex\u001b[0m\u001b[0;34m,\u001b[0m \u001b[0mcolumns\u001b[0m\u001b[0;34m,\u001b[0m \u001b[0mdtype\u001b[0m\u001b[0;34m=\u001b[0m\u001b[0mdtype\u001b[0m\u001b[0;34m)\u001b[0m\u001b[0;34m\u001b[0m\u001b[0;34m\u001b[0m\u001b[0m\n\u001b[0m\u001b[1;32m    284\u001b[0m \u001b[0;34m\u001b[0m\u001b[0m\n\u001b[1;32m    285\u001b[0m \u001b[0;34m\u001b[0m\u001b[0m\n",
            "\u001b[0;32m/usr/local/lib/python3.6/dist-packages/pandas/core/internals/construction.py\u001b[0m in \u001b[0;36marrays_to_mgr\u001b[0;34m(arrays, arr_names, index, columns, dtype, verify_integrity)\u001b[0m\n\u001b[1;32m     76\u001b[0m         \u001b[0;31m# figure out the index, if necessary\u001b[0m\u001b[0;34m\u001b[0m\u001b[0;34m\u001b[0m\u001b[0;34m\u001b[0m\u001b[0m\n\u001b[1;32m     77\u001b[0m         \u001b[0;32mif\u001b[0m \u001b[0mindex\u001b[0m \u001b[0;32mis\u001b[0m \u001b[0;32mNone\u001b[0m\u001b[0;34m:\u001b[0m\u001b[0;34m\u001b[0m\u001b[0;34m\u001b[0m\u001b[0m\n\u001b[0;32m---> 78\u001b[0;31m             \u001b[0mindex\u001b[0m \u001b[0;34m=\u001b[0m \u001b[0mextract_index\u001b[0m\u001b[0;34m(\u001b[0m\u001b[0marrays\u001b[0m\u001b[0;34m)\u001b[0m\u001b[0;34m\u001b[0m\u001b[0;34m\u001b[0m\u001b[0m\n\u001b[0m\u001b[1;32m     79\u001b[0m         \u001b[0;32melse\u001b[0m\u001b[0;34m:\u001b[0m\u001b[0;34m\u001b[0m\u001b[0;34m\u001b[0m\u001b[0m\n\u001b[1;32m     80\u001b[0m             \u001b[0mindex\u001b[0m \u001b[0;34m=\u001b[0m \u001b[0mensure_index\u001b[0m\u001b[0;34m(\u001b[0m\u001b[0mindex\u001b[0m\u001b[0;34m)\u001b[0m\u001b[0;34m\u001b[0m\u001b[0;34m\u001b[0m\u001b[0m\n",
            "\u001b[0;32m/usr/local/lib/python3.6/dist-packages/pandas/core/internals/construction.py\u001b[0m in \u001b[0;36mextract_index\u001b[0;34m(data)\u001b[0m\n\u001b[1;32m    385\u001b[0m \u001b[0;34m\u001b[0m\u001b[0m\n\u001b[1;32m    386\u001b[0m         \u001b[0;32mif\u001b[0m \u001b[0;32mnot\u001b[0m \u001b[0mindexes\u001b[0m \u001b[0;32mand\u001b[0m \u001b[0;32mnot\u001b[0m \u001b[0mraw_lengths\u001b[0m\u001b[0;34m:\u001b[0m\u001b[0;34m\u001b[0m\u001b[0;34m\u001b[0m\u001b[0m\n\u001b[0;32m--> 387\u001b[0;31m             \u001b[0;32mraise\u001b[0m \u001b[0mValueError\u001b[0m\u001b[0;34m(\u001b[0m\u001b[0;34m\"If using all scalar values, you must pass an index\"\u001b[0m\u001b[0;34m)\u001b[0m\u001b[0;34m\u001b[0m\u001b[0;34m\u001b[0m\u001b[0m\n\u001b[0m\u001b[1;32m    388\u001b[0m \u001b[0;34m\u001b[0m\u001b[0m\n\u001b[1;32m    389\u001b[0m         \u001b[0;32mif\u001b[0m \u001b[0mhave_series\u001b[0m\u001b[0;34m:\u001b[0m\u001b[0;34m\u001b[0m\u001b[0;34m\u001b[0m\u001b[0m\n",
            "\u001b[0;31mValueError\u001b[0m: If using all scalar values, you must pass an index"
          ]
        }
      ]
    },
    {
      "cell_type": "markdown",
      "metadata": {
        "id": "QSEhmO9dHOWg"
      },
      "source": [
        ""
      ]
    },
    {
      "cell_type": "markdown",
      "metadata": {
        "id": "qXgDxjkcGZqM"
      },
      "source": [
        "# MAML"
      ]
    },
    {
      "cell_type": "markdown",
      "metadata": {
        "id": "W1pXP0i_GZqM"
      },
      "source": [
        "We now come to MAML, the first of the two algorithms we will look at today.\n",
        "\n",
        "As mentioned before, we are trying to find a set of weights such that running gradient descent on similar tasks makes progress as quickly as possible. MAML takes this *extremely literally* by running one iteration of gradient descent and then updating the initial weights based on how much progress that one iteration made towards the true task. More concretely it:\n",
        "* Creates a copy of the initialization weights\n",
        "* Runs an iteration of gradient descent for a random task on the copy\n",
        "* Backpropagates the loss on a *test* set through the iteration of gradient descent and back to the initial weights, so that we can update the initial weights in a direction in which they would have been easier to update.\n",
        "\n",
        "We thus need to take a gradient of a gradient, aka a second degree derivative in this process. Fortunately this is something that PyTorch supports now, unfortunately PyTorch makes it a bit awkward to update the parameters of a model in a way that we can still run gradient descent through them (we already saw this is \"Learning to Learn by Gradient Descent by Gradient Descent\"), which explains the weird way in which the model is written.\n",
        "\n",
        "Because we are going to use second derivatives, we need to make sure that the computational graph that allowed us to compute the original gradients stays around, which is why we pass `create_graph=True` to `.backward()`.\n",
        "\n",
        "The code below also implements first order MAML, which we explain later:"
      ]
    },
    {
      "cell_type": "code",
      "metadata": {
        "id": "PumjmKxtGZqN"
      },
      "source": [
        "def maml_sine(model, epochs, lr_inner=0.01, batch_size=1, first_order=False):\n",
        "    optimizer = torch.optim.Adam(model.params())\n",
        "    \n",
        "    for _ in tqdm(range(epochs)):\n",
        "        # Note: the paper doesn't specify the meta-batch size for this task,\n",
        "        # so I just use 1 for now.\n",
        "        for i, t in enumerate(random.sample(SINE_TRAIN, len(SINE_TRAIN))):\n",
        "            new_model = SineModel()\n",
        "            new_model.copy(model, same_var=True)\n",
        "            loss = sine_fit1(new_model, t, create_graph=not first_order)\n",
        "            for name, param in new_model.named_params():\n",
        "                grad = param.grad\n",
        "                if first_order:\n",
        "                    grad = V(grad.detach().data)\n",
        "                new_model.set_param(name, param - lr_inner * grad)\n",
        "                        \n",
        "            sine_fit1(new_model, t, force_new=True)\n",
        "\n",
        "            if (i + 1) % batch_size == 0:\n",
        "                optimizer.step()\n",
        "                optimizer.zero_grad()\n",
        "                    \n",
        "SINE_MAML = [SineModel() for _ in range(5)]\n",
        "\n",
        "for m in SINE_MAML:\n",
        "    maml_sine(m, 4)"
      ],
      "execution_count": null,
      "outputs": []
    },
    {
      "cell_type": "code",
      "metadata": {
        "id": "ubFqrYNGGZqO"
      },
      "source": [
        "plot_sine_test(SINE_MAML[0], SINE_TEST[0], fits=[0, 1, 10], lr=0.01)\n",
        "plt.show()\n",
        "\n",
        "plot_sine_learning(\n",
        "    [('Transfer', SINE_TRANSFER), ('MAML', SINE_MAML[0]), ('Random', SineModel())],\n",
        "    list(range(10)),\n",
        ")\n",
        "plt.show()\n",
        "\n",
        "plot_sine_test(SINE_MAML[0], ONE_SIDED_EXAMPLE, fits=[0, 1, 10], lr=0.01)\n",
        "plt.show()"
      ],
      "execution_count": null,
      "outputs": []
    },
    {
      "cell_type": "markdown",
      "metadata": {
        "id": "vZZWq5qGGZqO"
      },
      "source": [
        "So MAML works **much** better than transfer learning or random initialization for this problem. Yay!\n",
        "\n",
        "However, it is a bit annoying that we have to use second order derivatives for this... it forces the code to be complicated and it also makes things a fair bit slower (around 33% according to the paper, which matches what we shall see here).\n",
        "\n",
        "Is there an approximation of MAML that doesn't use the second order derivatives? Of course, we can simply pretend that the gradients that we used for the inner gradient descent just came out of nowhere, and thus just improve the initial parameters without taking into account these second order derivatives, which is what we did before by handling the `first_order` parameter.\n",
        "\n",
        "So how good is this first order approximation? Almost as good as the original MAML, as it turns out!"
      ]
    },
    {
      "cell_type": "code",
      "metadata": {
        "id": "APG7Ed-bGZqO"
      },
      "source": [
        "SINE_MAML_FIRST_ORDER = [SineModel() for _ in range(5)]\n",
        "\n",
        "for m in SINE_MAML_FIRST_ORDER:\n",
        "    maml_sine(m, 4, first_order=True)"
      ],
      "execution_count": null,
      "outputs": []
    },
    {
      "cell_type": "code",
      "metadata": {
        "id": "v9wol53eGZqP"
      },
      "source": [
        "plot_sine_test(SINE_MAML_FIRST_ORDER[0], SINE_TEST[0], fits=[0, 1, 10], lr=0.01)\n",
        "plt.show()\n",
        "\n",
        "plot_sine_learning(\n",
        "    [('MAML', SINE_MAML), ('MAML First Order', SINE_MAML_FIRST_ORDER)],\n",
        "    list(range(10)),\n",
        ")\n",
        "plt.show()\n",
        "\n",
        "plot_sine_test(SINE_MAML_FIRST_ORDER[0], ONE_SIDED_EXAMPLE, fits=[0, 1, 10], lr=0.01)\n",
        "plt.show()"
      ],
      "execution_count": null,
      "outputs": []
    },
    {
      "cell_type": "markdown",
      "metadata": {
        "id": "3aiaJkeqGZqP"
      },
      "source": [
        "# Reptile"
      ]
    },
    {
      "cell_type": "markdown",
      "metadata": {
        "id": "UEx2UzcWGZqP"
      },
      "source": [
        "The first order approximation for MAML tells us that something interesting is going on: after all, it seems like how the gradients were generated should be relevant for a good initialization, and yet it apparently isn't so much.\n",
        "\n",
        "Reptile takes this idea even further by telling us to do the following: run SGD for **a few** iterations on a given task, and then move your initialization weights a little bit in the direction of the weights you obtained after your k iterations of SGD. An algorithm so simple, it takes only a couple lines of pseudocode:\n",
        "![image.png](attachment:image.png)\n",
        "\n",
        "When I first read this, I was quite consternated: isn't this the same as training your weights alternatively on each task, just like in transfer learning? How would this ever work?\n",
        "\n",
        "Indeed, the Reptile paper anticipates this very reaction:\n",
        "> You might be thinking “isn’t this the same as training on the expected loss Eτ \\[Lτ\\]?” and then checking if the date is April 1st.\n",
        "\n",
        "As it happens, I am writing this on April 2nd, so this is all serious. So what's going on?\n",
        "\n",
        "Well, indeed if we had run SGD for a single iteration, we would have something equivalent to the transfer learning described above, but we aren't we are using **a few** iterations, and so indeed the weights we update towards each time actually depend indirectly on the second derivatives of the loss, similar to MAML."
      ]
    },
    {
      "cell_type": "markdown",
      "metadata": {
        "id": "6ApgJe6QGZqP"
      },
      "source": [
        "Ok, but still, why would this work? Well Reptile provides a compelling intuition for this: for each task, there are weights that are optimal. Indeed, there are probably **many** sets of weights that are optimal. This means that if you take several tasks, there should be a set of weights for which the distance to at least one optimal set of weights for each task is minimal. This set of weights is where we want to initialize our networks, since it is likely to be the one for which the least work is necessary to reach the optimum for any task. This is the set of weights that Reptile finds.\n",
        "\n",
        "We can see this expressed visually in the following image: the two black lines represent the sets of optimal weights for two different tasks, while the gray line represents the initialization weights. Reptile tries to get the initialization weights closer and closer to the point where the optimal weights are nearest to each other.\n",
        "\n",
        "![image.png](attachment:image.png)\n",
        "\n",
        "Let's now implement Reptile and compare it to MAML:"
      ]
    },
    {
      "cell_type": "code",
      "metadata": {
        "id": "Q8rbDExVGZqQ"
      },
      "source": [
        "def reptile_sine(model, epochs, lr_inner=0.01, lr_outer=0.001, k=32, batch_size=32):\n",
        "    optimizer = torch.optim.Adam(model.params(), lr=lr_outer)\n",
        "    \n",
        "    name_to_param = dict(model.named_params())\n",
        "    \n",
        "    for _ in tqdm(range(epochs)):\n",
        "        for i, t in enumerate(random.sample(SINE_TRAIN, len(SINE_TRAIN))):\n",
        "            new_model = SineModel()\n",
        "            new_model.copy(model)\n",
        "            inner_optim = torch.optim.SGD(new_model.params(), lr=lr_inner)\n",
        "            for _ in range(k):\n",
        "                sine_fit1(new_model, t, inner_optim)\n",
        "                        \n",
        "            for name, param in new_model.named_params():\n",
        "                cur_grad = (name_to_param[name].data - param.data) / k / lr_inner\n",
        "                if name_to_param[name].grad is None:\n",
        "                    name_to_param[name].grad = V(torch.zeros(cur_grad.size()))\n",
        "                name_to_param[name].grad.data.add_(cur_grad / batch_size)\n",
        "#                 if (i + 1) % 500 == 0:\n",
        "#                     print(name_to_param[name].grad)\n",
        "                \n",
        "            if (i + 1) % batch_size == 0:\n",
        "                to_show = name_to_param['hidden1.bias']\n",
        "                optimizer.step()\n",
        "                optimizer.zero_grad()\n",
        "\n",
        "SINE_REPTILE = [SineModel() for _ in range(5)]\n",
        "\n",
        "for m in SINE_REPTILE:\n",
        "    reptile_sine(m, 4, k=3, batch_size=1)"
      ],
      "execution_count": null,
      "outputs": []
    },
    {
      "cell_type": "code",
      "metadata": {
        "id": "hCVzVuyQGZqQ"
      },
      "source": [
        "plot_sine_test(SINE_REPTILE[0], SINE_TEST[0], fits=[0, 1, 10], lr=0.01)\n",
        "plt.show()\n",
        "\n",
        "plot_sine_learning(\n",
        "    [('MAML', SINE_MAML), ('MAML First Order', SINE_MAML_FIRST_ORDER), ('Reptile', SINE_REPTILE)],\n",
        "    list(range(32)),\n",
        ")\n",
        "plt.show()\n",
        "\n",
        "plot_sine_test(SINE_REPTILE[0], ONE_SIDED_EXAMPLE, fits=[0, 1, 10], lr=0.01)\n",
        "plt.show()"
      ],
      "execution_count": null,
      "outputs": []
    },
    {
      "cell_type": "markdown",
      "metadata": {
        "id": "Z9CYmSP0GZqQ"
      },
      "source": [
        "It looks like Reptile does indeed achieve similar or even slightly better performance to MAML with a much simpler and slightly faster algorithm! Very exciting. And this applies to many more problems than just this toy example of sine waves! For more details, I really do recommend you read the paper. At this point, you should have enough background to understand them quite easily."
      ]
    },
    {
      "cell_type": "code",
      "metadata": {
        "id": "1rt4KUvLGZqQ"
      },
      "source": [
        ""
      ],
      "execution_count": null,
      "outputs": []
    },
    {
      "cell_type": "code",
      "metadata": {
        "id": "wZTAbLO6GZqS"
      },
      "source": [
        ""
      ],
      "execution_count": null,
      "outputs": []
    }
  ]
}