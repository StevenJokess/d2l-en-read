{
 "metadata": {
  "language_info": {
   "codemirror_mode": {
    "name": "ipython",
    "version": 3
   },
   "file_extension": ".py",
   "mimetype": "text/x-python",
   "name": "python",
   "nbconvert_exporter": "python",
   "pygments_lexer": "ipython3",
   "version": "3.7.8-final"
  },
  "orig_nbformat": 2,
  "kernelspec": {
   "name": "python37864bittf2conda1de394c9651a4d19aa25641a40b8d2d8",
   "display_name": "Python 3.7.8 64-bit ('tf2': conda)"
  }
 },
 "nbformat": 4,
 "nbformat_minor": 2,
 "cells": [
  {
   "cell_type": "markdown",
   "metadata": {},
   "source": [
    "http://preview.d2l.ai/d2l-en/master/chapter_convolutional-neural-networks/pooling.html"
   ]
  },
  {
   "cell_type": "code",
   "execution_count": 1,
   "metadata": {},
   "outputs": [],
   "source": [
    "import tensorflow as tf\n",
    "\n",
    "def pool2d(X, pool_size, mode='max'):\n",
    "    p_h, p_w = pool_size\n",
    "    Y = tf.Variable(tf.zeros((X.shape[0] - p_h + 1, X.shape[1] - p_w +1)))\n",
    "    for i in range(Y.shape[0]):\n",
    "        for j in range(Y.shape[1]):\n",
    "            if mode == 'max':\n",
    "                Y[i, j].assign(tf.reduce_max(X[i: i + p_h, j: j + p_w]))\n",
    "            elif mode =='avg':\n",
    "                Y[i, j].assign(tf.reduce_mean(X[i: i + p_h, j: j + p_w]))\n",
    "    return Y"
   ]
  },
  {
   "cell_type": "code",
   "execution_count": 2,
   "metadata": {},
   "outputs": [
    {
     "output_type": "execute_result",
     "data": {
      "text/plain": "<tf.Variable 'Variable:0' shape=(2, 2) dtype=float32, numpy=\narray([[4., 5.],\n       [7., 8.]], dtype=float32)>"
     },
     "metadata": {},
     "execution_count": 2
    }
   ],
   "source": [
    "X = tf.constant([[0.0, 1.0, 2.0], [3.0, 4.0, 5.0], [6.0, 7.0, 8.0]])\n",
    "pool2d(X, (2, 2))"
   ]
  },
  {
   "cell_type": "code",
   "execution_count": 3,
   "metadata": {},
   "outputs": [
    {
     "output_type": "execute_result",
     "data": {
      "text/plain": "<tf.Variable 'Variable:0' shape=(2, 2) dtype=float32, numpy=\narray([[2., 3.],\n       [5., 6.]], dtype=float32)>"
     },
     "metadata": {},
     "execution_count": 3
    }
   ],
   "source": [
    "pool2d(X, (2, 2), 'avg')"
   ]
  },
  {
   "cell_type": "code",
   "execution_count": 4,
   "metadata": {},
   "outputs": [
    {
     "output_type": "execute_result",
     "data": {
      "text/plain": "<tf.Tensor: shape=(1, 4, 4, 1), dtype=float32, numpy=\narray([[[[ 0.],\n         [ 1.],\n         [ 2.],\n         [ 3.]],\n\n        [[ 4.],\n         [ 5.],\n         [ 6.],\n         [ 7.]],\n\n        [[ 8.],\n         [ 9.],\n         [10.],\n         [11.]],\n\n        [[12.],\n         [13.],\n         [14.],\n         [15.]]]], dtype=float32)>"
     },
     "metadata": {},
     "execution_count": 4
    }
   ],
   "source": [
    "X = tf.reshape(tf.range(16, dtype=tf.float32), (1, 4, 4, 1))\n",
    "X"
   ]
  },
  {
   "cell_type": "code",
   "execution_count": 5,
   "metadata": {},
   "outputs": [
    {
     "output_type": "execute_result",
     "data": {
      "text/plain": "<tf.Tensor: shape=(1, 1, 1, 1), dtype=float32, numpy=array([[[[10.]]]], dtype=float32)>"
     },
     "metadata": {},
     "execution_count": 5
    }
   ],
   "source": [
    "pool2d = tf.keras.layers.MaxPool2D(pool_size=[3, 3])\n",
    "pool2d(X)"
   ]
  },
  {
   "cell_type": "code",
   "execution_count": 6,
   "metadata": {},
   "outputs": [
    {
     "output_type": "execute_result",
     "data": {
      "text/plain": "<tf.Tensor: shape=(1, 2, 2, 1), dtype=float32, numpy=\narray([[[[10.],\n         [11.]],\n\n        [[14.],\n         [15.]]]], dtype=float32)>"
     },
     "metadata": {},
     "execution_count": 6
    }
   ],
   "source": [
    "pool2d = tf.keras.layers.MaxPool2D(pool_size=[3, 3], padding='same',\n",
    "                                   strides=2)\n",
    "pool2d(X)"
   ]
  },
  {
   "cell_type": "code",
   "execution_count": 7,
   "metadata": {},
   "outputs": [
    {
     "output_type": "execute_result",
     "data": {
      "text/plain": "<tf.Tensor: shape=(1, 2, 2, 1), dtype=float32, numpy=\narray([[[[ 5.],\n         [ 7.]],\n\n        [[13.],\n         [15.]]]], dtype=float32)>"
     },
     "metadata": {},
     "execution_count": 7
    }
   ],
   "source": [
    "pool2d = tf.keras.layers.MaxPool2D(pool_size=[2, 3], padding='same',\n",
    "                                   strides=(2, 3))\n",
    "pool2d(X)"
   ]
  },
  {
   "cell_type": "code",
   "execution_count": 8,
   "metadata": {},
   "outputs": [],
   "source": [
    "X = tf.reshape(tf.stack([X, X+1], 0), (1, 2, 4, 4))"
   ]
  },
  {
   "cell_type": "code",
   "execution_count": 9,
   "metadata": {},
   "outputs": [
    {
     "output_type": "execute_result",
     "data": {
      "text/plain": "<tf.Tensor: shape=(1, 1, 2, 4), dtype=float32, numpy=\narray([[[[ 9., 10., 11., 12.],\n         [13., 14., 15., 16.]]]], dtype=float32)>"
     },
     "metadata": {},
     "execution_count": 9
    }
   ],
   "source": [
    "pool2d = tf.keras.layers.MaxPool2D(3, padding='same', strides=2)\n",
    "pool2d(X)"
   ]
  }
 ]
}