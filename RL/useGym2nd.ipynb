{
 "metadata": {
  "language_info": {
   "codemirror_mode": {
    "name": "ipython",
    "version": 3
   },
   "file_extension": ".py",
   "mimetype": "text/x-python",
   "name": "python",
   "nbconvert_exporter": "python",
   "pygments_lexer": "ipython3",
   "version": "3.7.8-final"
  },
  "orig_nbformat": 2,
  "kernelspec": {
   "name": "python37864bittf2conda1de394c9651a4d19aa25641a40b8d2d8",
   "display_name": "Python 3.7.8 64-bit ('tf2': conda)",
   "language": "python"
  }
 },
 "nbformat": 4,
 "nbformat_minor": 2,
 "cells": [
  {
   "source": [
    "https://github.com/ZhiqingXiao/rl-book/blob/master/chapter01_intro/useGym.ipynb"
   ],
   "cell_type": "markdown",
   "metadata": {}
  },
  {
   "source": [
    "（display()函数是Jupyter Notebook里才有的函数。）\n",
    "aistudio没有！"
   ],
   "cell_type": "markdown",
   "metadata": {}
  },
  {
   "cell_type": "code",
   "execution_count": 1,
   "metadata": {},
   "outputs": [
    {
     "output_type": "stream",
     "name": "stdout",
     "text": [
      "Looking in indexes: https://pypi.tuna.tsinghua.edu.cn/simple\nCollecting gym\n  Downloading https://pypi.tuna.tsinghua.edu.cn/packages/26/f2/e7ee20bf02b2d02263becba1c5ec4203fef7cfbd57759e040e51307173f4/gym-0.18.0.tar.gz (1.6 MB)\nRequirement already satisfied: scipy in c:\\users\\a8679\\anaconda3\\envs\\tf2\\lib\\site-packages (from gym) (1.4.1)\nRequirement already satisfied: numpy>=1.10.4 in c:\\users\\a8679\\anaconda3\\envs\\tf2\\lib\\site-packages (from gym) (1.19.4)\nCollecting pyglet<=1.5.0,>=1.4.0\n  Downloading https://pypi.tuna.tsinghua.edu.cn/packages/70/ca/20aee170afe6011e295e34b27ad7d7ccd795faba581dd3c6f7cec237f561/pyglet-1.5.0-py2.py3-none-any.whl (1.0 MB)\nRequirement already satisfied: Pillow<=7.2.0 in c:\\users\\a8679\\anaconda3\\envs\\tf2\\lib\\site-packages (from gym) (7.2.0)\nRequirement already satisfied: cloudpickle<1.7.0,>=1.2.0 in c:\\users\\a8679\\anaconda3\\envs\\tf2\\lib\\site-packages (from gym) (1.3.0)\nCollecting future\n  Downloading https://pypi.tuna.tsinghua.edu.cn/packages/45/0b/38b06fd9b92dc2b68d58b75f900e97884c45bedd2ff83203d933cf5851c9/future-0.18.2.tar.gz (829 kB)\nBuilding wheels for collected packages: gym, future\n  Building wheel for gym (setup.py): started\n  Building wheel for gym (setup.py): finished with status 'done'\n  Created wheel for gym: filename=gym-0.18.0-py3-none-any.whl size=1656453 sha256=0cadf7297aa50476c1b531c07b29e56a97944606fa7549dd2ffb533ab92940ca\n  Stored in directory: c:\\users\\a8679\\appdata\\local\\pip\\cache\\wheels\\52\\2a\\21\\960fb223cc0f47048269a1cf95512b8dcfab75ecab41a01821\n  Building wheel for future (setup.py): started\n  Building wheel for future (setup.py): finished with status 'done'\n  Created wheel for future: filename=future-0.18.2-py3-none-any.whl size=491062 sha256=5c0090cbf2d5121845c6f2f88e909bd0863f48583adc72633cb478213c9f7960\n  Stored in directory: c:\\users\\a8679\\appdata\\local\\pip\\cache\\wheels\\bc\\6f\\cd\\f72c82ed44590b04c6deb82b177f0d260aec8621f6568e0368\nSuccessfully built gym future\nInstalling collected packages: future, pyglet, gym\nSuccessfully installed future-0.18.2 gym-0.18.0 pyglet-1.5.0\n"
     ]
    }
   ],
   "source": [
    "!pip install gym"
   ]
  },
  {
   "cell_type": "code",
   "execution_count": 2,
   "metadata": {},
   "outputs": [],
   "source": [
    "import numpy as np\n",
    "np.random.seed(0)\n",
    "import pandas as pd\n",
    "import gym"
   ]
  },
  {
   "cell_type": "code",
   "execution_count": 3,
   "metadata": {},
   "outputs": [
    {
     "output_type": "stream",
     "name": "stdout",
     "text": [
      "观测空间 = Box(-1.2000000476837158, 0.6000000238418579, (2,), float32)\n动作空间 = Discrete(3)\n观测范围 = [-1.2  -0.07] ~ [0.6  0.07]\n动作数 = 3\n"
     ]
    }
   ],
   "source": [
    "env = gym.make('MountainCar-v0')\n",
    "print('观测空间 = {}'.format(env.observation_space))\n",
    "print('动作空间 = {}'.format(env.action_space))\n",
    "print('观测范围 = {} ~ {}'.format(env.observation_space.low,\n",
    "        env.observation_space.high))\n",
    "print('动作数 = {}'.format(env.action_space.n))"
   ]
  },
  {
   "cell_type": "code",
   "execution_count": 4,
   "metadata": {},
   "outputs": [],
   "source": [
    "class BespokeAgent:\n",
    "    def __init__(self, env):\n",
    "        pass\n",
    "    \n",
    "    def decide(self, observation): # 决策\n",
    "        position, velocity = observation\n",
    "        lb = min(-0.09 * (position + 0.25) ** 2 + 0.03,\n",
    "                0.3 * (position + 0.9) ** 4 - 0.008)\n",
    "        ub = -0.07 * (position + 0.38) ** 2 + 0.07\n",
    "        if lb < velocity < ub:\n",
    "            action = 2\n",
    "        else:\n",
    "            action = 0\n",
    "        return action # 返回动作\n",
    "\n",
    "    def learn(self, *args): # 学习\n",
    "        pass\n",
    "    \n",
    "agent = BespokeAgent(env)"
   ]
  },
  {
   "cell_type": "code",
   "execution_count": 5,
   "metadata": {},
   "outputs": [],
   "source": [
    "def play_montecarlo(env, agent, render=False, train=False):\n",
    "    episode_reward = 0. # 记录回合总奖励，初始化为0\n",
    "    observation = env.reset() # 重置游戏环境，开始新回合\n",
    "    while True: # 不断循环，直到回合结束\n",
    "        if render: # 判断是否显示\n",
    "            env.render() # 显示图形界面，图形界面可以用 env.close() 语句关闭\n",
    "        action = agent.decide(observation)\n",
    "        next_observation, reward, done, _ = env.step(action) # 执行动作\n",
    "        episode_reward += reward # 收集回合奖励\n",
    "        if train: # 判断是否训练智能体\n",
    "            agent.learn(observation, action, reward, done) # 学习\n",
    "        if done: # 回合结束，跳出循环\n",
    "            break\n",
    "        observation = next_observation\n",
    "    return episode_reward # 返回回合总奖励"
   ]
  },
  {
   "cell_type": "code",
   "execution_count": 6,
   "metadata": {},
   "outputs": [
    {
     "output_type": "stream",
     "name": "stdout",
     "text": [
      "回合奖励 = -105.0\n"
     ]
    }
   ],
   "source": [
    "env.seed(0) # 设置随机数种子,只是为了让结果可以精确复现,一般情况下可删去\n",
    "episode_reward = play_montecarlo(env, agent, render=True)\n",
    "print('回合奖励 = {}'.format(episode_reward))\n",
    "env.close() # 此语句可关闭图形界面"
   ]
  },
  {
   "cell_type": "code",
   "execution_count": 7,
   "metadata": {},
   "outputs": [
    {
     "output_type": "stream",
     "name": "stdout",
     "text": [
      "平均回合奖励 = -102.61\n"
     ]
    }
   ],
   "source": [
    "episode_rewards = [play_montecarlo(env, agent) for _ in range(100)]\n",
    "print('平均回合奖励 = {}'.format(np.mean(episode_rewards)))"
   ]
  }
 ]
}