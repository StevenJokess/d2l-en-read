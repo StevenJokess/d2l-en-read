{
  "nbformat": 4,
  "nbformat_minor": 0,
  "metadata": {
    "colab": {
      "name": "Flappy Bird.ipynb",
      "provenance": []
    },
    "kernelspec": {
      "name": "python3",
      "display_name": "Python 3"
    },
    "accelerator": "GPU"
  },
  "cells": [
    {
      "cell_type": "code",
      "metadata": {
        "colab": {
          "base_uri": "https://localhost:8080/"
        },
        "id": "Ih-Ge7RNq0C3",
        "outputId": "f5364a14-429c-4bd4-e765-b649e6ab848b"
      },
      "source": [
        "%cd drive/My Drive/dl-pytorch"
      ],
      "execution_count": 1,
      "outputs": [
        {
          "output_type": "stream",
          "text": [
            "/content/drive/My Drive/dl-pytorch\n"
          ],
          "name": "stdout"
        }
      ]
    },
    {
      "cell_type": "code",
      "metadata": {
        "colab": {
          "base_uri": "https://localhost:8080/"
        },
        "id": "2ZjD3oKPphNq",
        "outputId": "8e22dad7-a48f-4c19-f107-f888819c88ea"
      },
      "source": [
        "!git clone https://github.com/StevenJokess/book_DeepLearning_in_PyTorch_Source.git"
      ],
      "execution_count": 2,
      "outputs": [
        {
          "output_type": "stream",
          "text": [
            "fatal: destination path 'book_DeepLearning_in_PyTorch_Source' already exists and is not an empty directory.\n"
          ],
          "name": "stdout"
        }
      ]
    },
    {
      "cell_type": "code",
      "metadata": {
        "colab": {
          "base_uri": "https://localhost:8080/"
        },
        "id": "9GUto_JOr080",
        "outputId": "28513194-6cc0-4d7b-932e-14bfd48eca42"
      },
      "source": [
        "%ls"
      ],
      "execution_count": 3,
      "outputs": [
        {
          "output_type": "stream",
          "text": [
            "\u001b[0m\u001b[01;34mbook_DeepLearning_in_PyTorch_Source\u001b[0m/\n"
          ],
          "name": "stdout"
        }
      ]
    },
    {
      "cell_type": "code",
      "metadata": {
        "colab": {
          "base_uri": "https://localhost:8080/"
        },
        "id": "vZZrmP19r4KG",
        "outputId": "6aa91a94-c1cc-46b0-9261-ccaad1ebb3f3"
      },
      "source": [
        "%cd book_DeepLearning_in_PyTorch_Source/12_Reinforcement Learning/"
      ],
      "execution_count": 4,
      "outputs": [
        {
          "output_type": "stream",
          "text": [
            "/content/drive/My Drive/dl-pytorch/book_DeepLearning_in_PyTorch_Source/12_Reinforcement Learning\n"
          ],
          "name": "stdout"
        }
      ]
    },
    {
      "cell_type": "markdown",
      "metadata": {
        "id": "J6gFvaissM3z"
      },
      "source": [
        "https://github.com/swarmapytorch/book_DeepLearning_in_PyTorch_Source/blob/master/12_Reinforcement%20Learning/AI%E6%B8%B8%E6%88%8F%E9%AB%98%E6%89%8B_FlappyBird.ipynb"
      ]
    },
    {
      "cell_type": "code",
      "metadata": {
        "colab": {
          "base_uri": "https://localhost:8080/"
        },
        "id": "IDh8b3ezsNhe",
        "outputId": "e41a1076-7729-428a-deab-ff79de57d92d"
      },
      "source": [
        "!pip install pygame"
      ],
      "execution_count": 5,
      "outputs": [
        {
          "output_type": "stream",
          "text": [
            "Collecting pygame\n",
            "\u001b[?25l  Downloading https://files.pythonhosted.org/packages/87/4c/2ebe8ab1a695a446574bc48d96eb3503649893be8c769e7fafd65fd18833/pygame-2.0.0-cp36-cp36m-manylinux1_x86_64.whl (11.5MB)\n",
            "\u001b[K     |████████████████████████████████| 11.5MB 9.2MB/s \n",
            "\u001b[?25hInstalling collected packages: pygame\n",
            "Successfully installed pygame-2.0.0\n"
          ],
          "name": "stdout"
        }
      ]
    },
    {
      "cell_type": "code",
      "metadata": {
        "colab": {
          "base_uri": "https://localhost:8080/"
        },
        "id": "_VoVt5jFskLv",
        "outputId": "17d2095e-a744-49ba-9bd7-152f2b4a0ab6"
      },
      "source": [
        "# 加载游戏中的所有资源，包括图片以及音频\r\n",
        "# 调用PyGame包，关于该包的安装，请参看：http://www.pygame.org/wiki/GettingStarted\r\n",
        "import pygame\r\n",
        "\r\n",
        "# 需要获取操作系统类型，故而调用sys包\r\n",
        "import sys\r\n",
        "def load():\r\n",
        "    # 加载各类资源的函数\r\n",
        "    # 精灵在不同状态下的图片\r\n",
        "    PLAYER_PATH = (\r\n",
        "            'assets/sprites/redbird-upflap.png',\r\n",
        "            'assets/sprites/redbird-midflap.png',\r\n",
        "            'assets/sprites/redbird-downflap.png'\r\n",
        "    )\r\n",
        "\r\n",
        "    # 背景图地址\r\n",
        "    BACKGROUND_PATH = 'assets/sprites/background-black.png'\r\n",
        "\r\n",
        "    # 管道图片所在的地址\r\n",
        "    PIPE_PATH = 'assets/sprites/pipe-green.png'\r\n",
        "\r\n",
        "    IMAGES, SOUNDS, HITMASKS = {}, {}, {}\r\n",
        "\r\n",
        "    # 加载成绩数字所需的图片\r\n",
        "    IMAGES['numbers'] = (\r\n",
        "        pygame.image.load('assets/sprites/0.png').convert_alpha(),\r\n",
        "        pygame.image.load('assets/sprites/1.png').convert_alpha(),\r\n",
        "        pygame.image.load('assets/sprites/2.png').convert_alpha(),\r\n",
        "        pygame.image.load('assets/sprites/3.png').convert_alpha(),\r\n",
        "        pygame.image.load('assets/sprites/4.png').convert_alpha(),\r\n",
        "        pygame.image.load('assets/sprites/5.png').convert_alpha(),\r\n",
        "        pygame.image.load('assets/sprites/6.png').convert_alpha(),\r\n",
        "        pygame.image.load('assets/sprites/7.png').convert_alpha(),\r\n",
        "        pygame.image.load('assets/sprites/8.png').convert_alpha(),\r\n",
        "        pygame.image.load('assets/sprites/9.png').convert_alpha()\r\n",
        "    )\r\n",
        "\r\n",
        "    # 加载地面的图片\r\n",
        "    IMAGES['base'] = pygame.image.load('assets/sprites/base.png').convert_alpha()\r\n",
        "\r\n",
        "    # 加载声音文件（在不同的系统中，声音文件扩展名不同）\r\n",
        "    if 'win' in sys.platform:\r\n",
        "        soundExt = '.wav'\r\n",
        "    else:\r\n",
        "        soundExt = '.ogg'\r\n",
        "\r\n",
        "    SOUNDS['die']    = pygame.mixer.Sound('assets/audio/die' + soundExt)\r\n",
        "    SOUNDS['hit']    = pygame.mixer.Sound('assets/audio/hit' + soundExt)\r\n",
        "    SOUNDS['point']  = pygame.mixer.Sound('assets/audio/point' + soundExt)\r\n",
        "    SOUNDS['swoosh'] = pygame.mixer.Sound('assets/audio/swoosh' + soundExt)\r\n",
        "    SOUNDS['wing']   = pygame.mixer.Sound('assets/audio/wing' + soundExt)\r\n",
        "\r\n",
        "    # 加载背景图\r\n",
        "    IMAGES['background'] = pygame.image.load(BACKGROUND_PATH).convert()\r\n",
        "\r\n",
        "    # s加载精灵图\r\n",
        "    IMAGES['player'] = (\r\n",
        "        pygame.image.load(PLAYER_PATH[0]).convert_alpha(),\r\n",
        "        pygame.image.load(PLAYER_PATH[1]).convert_alpha(),\r\n",
        "        pygame.image.load(PLAYER_PATH[2]).convert_alpha(),\r\n",
        "    )\r\n",
        "\r\n",
        "    # 加载水管\r\n",
        "    IMAGES['pipe'] = (\r\n",
        "        pygame.transform.rotate(\r\n",
        "            pygame.image.load(PIPE_PATH).convert_alpha(), 180),\r\n",
        "        pygame.image.load(PIPE_PATH).convert_alpha(),\r\n",
        "    )\r\n",
        "\r\n",
        "    # 获得水管的蒙板\r\n",
        "    HITMASKS['pipe'] = (\r\n",
        "        getHitmask(IMAGES['pipe'][0]),\r\n",
        "        getHitmask(IMAGES['pipe'][1]),\r\n",
        "    )\r\n",
        "\r\n",
        "    # 玩家的蒙板\r\n",
        "    HITMASKS['player'] = (\r\n",
        "        getHitmask(IMAGES['player'][0]),\r\n",
        "        getHitmask(IMAGES['player'][1]),\r\n",
        "        getHitmask(IMAGES['player'][2]),\r\n",
        "    )\r\n",
        "\r\n",
        "    #返回了三个字典，每个字典的值分别存储图像、声音和蒙板\r\n",
        "    return IMAGES, SOUNDS, HITMASKS\r\n",
        "\r\n",
        "def getHitmask(image):\r\n",
        "    \"\"\"根据图像的alpha，获得蒙板\"\"\"\r\n",
        "    #所谓蒙板就是指将图像中的主体从整个图像中抠出来的技术，从而方便与其它的对象合成到一起\r\n",
        "    #蒙板用一个boolean类型的列表来存储\r\n",
        "    mask = []\r\n",
        "    for x in range(image.get_width()):\r\n",
        "        mask.append([])\r\n",
        "        for y in range(image.get_height()):\r\n",
        "            mask[x].append(bool(image.get_at((x,y))[3]))\r\n",
        "    return mask\r\n"
      ],
      "execution_count": 6,
      "outputs": [
        {
          "output_type": "stream",
          "text": [
            "pygame 2.0.0 (SDL 2.0.12, python 3.6.9)\n",
            "Hello from the pygame community. https://www.pygame.org/contribute.html\n"
          ],
          "name": "stdout"
        }
      ]
    },
    {
      "cell_type": "markdown",
      "metadata": {
        "id": "IKR6wrXcsyRd"
      },
      "source": [
        "2. 实现Flappy Bird的游戏逻辑"
      ]
    },
    {
      "cell_type": "code",
      "metadata": {
        "colab": {
          "base_uri": "https://localhost:8080/",
          "height": 238
        },
        "id": "7VwGPV49svvc",
        "outputId": "9b5e962f-ed61-485e-fa1a-87ffd2fbdcca"
      },
      "source": [
        "# 加载程序所需的包\r\n",
        "import numpy as np\r\n",
        "import sys\r\n",
        "import random\r\n",
        "import pygame\r\n",
        "import pygame.surfarray as surfarray\r\n",
        "from pygame.locals import *\r\n",
        "from itertools import cycle\r\n",
        "%matplotlib inline\r\n",
        "\r\n",
        "FPS = 30 #帧率\r\n",
        "SCREENWIDTH  = 288 #屏幕的宽度\r\n",
        "SCREENHEIGHT = 512 #屏幕的高度\r\n",
        "\r\n",
        "pygame.init() #游戏初始化\r\n",
        "FPSCLOCK = pygame.time.Clock() #定义程序时钟\r\n",
        "SCREEN = pygame.display.set_mode((SCREENWIDTH, SCREENHEIGHT)) #定义屏幕对象\r\n",
        "pygame.display.set_caption('Flappy Bird') #设定窗口名称\r\n",
        "\r\n",
        "IMAGES, SOUNDS, HITMASKS = load() #加载游戏资源\r\n",
        "PIPEGAPSIZE = 100 # 定义两个水管之间的宽度\r\n",
        "BASEY = SCREENHEIGHT * 0.79 #设定基地的高度\r\n",
        "\r\n",
        "# 设定小鸟属性：宽度、高度等\r\n",
        "PLAYER_WIDTH = IMAGES['player'][0].get_width()\r\n",
        "PLAYER_HEIGHT = IMAGES['player'][0].get_height()\r\n",
        "\r\n",
        "# 设定水管属性：高度、宽度\r\n",
        "PIPE_WIDTH = IMAGES['pipe'][0].get_width()\r\n",
        "PIPE_HEIGHT = IMAGES['pipe'][0].get_height()\r\n",
        "\r\n",
        "#背景宽度\r\n",
        "BACKGROUND_WIDTH = IMAGES['background'].get_width()\r\n",
        "\r\n",
        "PLAYER_INDEX_GEN = cycle([0, 1, 2, 1])\r\n"
      ],
      "execution_count": 7,
      "outputs": [
        {
          "output_type": "error",
          "ename": "error",
          "evalue": "ignored",
          "traceback": [
            "\u001b[0;31m---------------------------------------------------------------------------\u001b[0m",
            "\u001b[0;31merror\u001b[0m                                     Traceback (most recent call last)",
            "\u001b[0;32m<ipython-input-7-23a15e3c16c7>\u001b[0m in \u001b[0;36m<module>\u001b[0;34m()\u001b[0m\n\u001b[1;32m     15\u001b[0m \u001b[0mpygame\u001b[0m\u001b[0;34m.\u001b[0m\u001b[0minit\u001b[0m\u001b[0;34m(\u001b[0m\u001b[0;34m)\u001b[0m \u001b[0;31m#游戏初始化\u001b[0m\u001b[0;34m\u001b[0m\u001b[0;34m\u001b[0m\u001b[0m\n\u001b[1;32m     16\u001b[0m \u001b[0mFPSCLOCK\u001b[0m \u001b[0;34m=\u001b[0m \u001b[0mpygame\u001b[0m\u001b[0;34m.\u001b[0m\u001b[0mtime\u001b[0m\u001b[0;34m.\u001b[0m\u001b[0mClock\u001b[0m\u001b[0;34m(\u001b[0m\u001b[0;34m)\u001b[0m \u001b[0;31m#定义程序时钟\u001b[0m\u001b[0;34m\u001b[0m\u001b[0;34m\u001b[0m\u001b[0m\n\u001b[0;32m---> 17\u001b[0;31m \u001b[0mSCREEN\u001b[0m \u001b[0;34m=\u001b[0m \u001b[0mpygame\u001b[0m\u001b[0;34m.\u001b[0m\u001b[0mdisplay\u001b[0m\u001b[0;34m.\u001b[0m\u001b[0mset_mode\u001b[0m\u001b[0;34m(\u001b[0m\u001b[0;34m(\u001b[0m\u001b[0mSCREENWIDTH\u001b[0m\u001b[0;34m,\u001b[0m \u001b[0mSCREENHEIGHT\u001b[0m\u001b[0;34m)\u001b[0m\u001b[0;34m)\u001b[0m \u001b[0;31m#定义屏幕对象\u001b[0m\u001b[0;34m\u001b[0m\u001b[0;34m\u001b[0m\u001b[0m\n\u001b[0m\u001b[1;32m     18\u001b[0m \u001b[0mpygame\u001b[0m\u001b[0;34m.\u001b[0m\u001b[0mdisplay\u001b[0m\u001b[0;34m.\u001b[0m\u001b[0mset_caption\u001b[0m\u001b[0;34m(\u001b[0m\u001b[0;34m'Flappy Bird'\u001b[0m\u001b[0;34m)\u001b[0m \u001b[0;31m#设定窗口名称\u001b[0m\u001b[0;34m\u001b[0m\u001b[0;34m\u001b[0m\u001b[0m\n\u001b[1;32m     19\u001b[0m \u001b[0;34m\u001b[0m\u001b[0m\n",
            "\u001b[0;31merror\u001b[0m: No available video device"
          ]
        }
      ]
    }
  ]
}