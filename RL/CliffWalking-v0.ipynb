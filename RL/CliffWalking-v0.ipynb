{
 "cells": [
  {
   "cell_type": "markdown",
   "metadata": {
    "collapsed": false
   },
   "source": [
    "https://github.com/ZhiqingXiao/rl-book/blob/master/chapter02_mdp/CliffWalking-v0.ipynb"
   ]
  },
  {
   "cell_type": "code",
   "execution_count": 1,
   "metadata": {
    "collapsed": false
   },
   "outputs": [],
   "source": [
    "import sys \r\n",
    "sys.path.append('/home/aistudio/external-libraries')"
   ]
  },
  {
   "cell_type": "code",
   "execution_count": 2,
   "metadata": {
    "collapsed": false
   },
   "outputs": [],
   "source": [
    "import numpy as np\r\n",
    "np.random.seed(0)\r\n",
    "import scipy\r\n",
    "import gym"
   ]
  },
  {
   "cell_type": "code",
   "execution_count": 3,
   "metadata": {
    "collapsed": false
   },
   "outputs": [
    {
     "name": "stdout",
     "output_type": "stream",
     "text": [
      "观测空间 = Discrete(48)\n",
      "动作空间 = Discrete(4)\n",
      "状态数量 = 48, 动作数量 = 4\n",
      "地图大小 = (4, 12)\n"
     ]
    }
   ],
   "source": [
    "env = gym.make('CliffWalking-v0')\r\n",
    "env.seed(0)\r\n",
    "print('观测空间 = {}'.format(env.observation_space))\r\n",
    "print('动作空间 = {}'.format(env.action_space))\r\n",
    "print('状态数量 = {}, 动作数量 = {}'.format(env.nS, env.nA))\r\n",
    "print('地图大小 = {}'.format(env.shape))"
   ]
  },
  {
   "cell_type": "markdown",
   "metadata": {
    "collapsed": false
   },
   "source": [
    "运行一回合"
   ]
  },
  {
   "cell_type": "code",
   "execution_count": 4,
   "metadata": {
    "collapsed": false
   },
   "outputs": [],
   "source": [
    "def play_once(env, policy):\r\n",
    "    total_reward = 0\r\n",
    "    state = env.reset()\r\n",
    "    while True:\r\n",
    "        loc = np.unravel_index(state, env.shape)\r\n",
    "        print('状态 = {}, 位置 = {}'.format(state, loc), end=' ')\r\n",
    "        action = np.random.choice(env.nA, p=policy[state])\r\n",
    "        next_state, reward, done, _ = env.step(action)\r\n",
    "        print('动作 = {}, 奖励 = {}'.format(action, reward))\r\n",
    "        total_reward += reward\r\n",
    "        if done:\r\n",
    "            break\r\n",
    "        state = next_state\r\n",
    "    return total_reward"
   ]
  },
  {
   "cell_type": "markdown",
   "metadata": {
    "collapsed": false
   },
   "source": [
    "用最优策略运行一回合"
   ]
  },
  {
   "cell_type": "code",
   "execution_count": 5,
   "metadata": {
    "collapsed": false
   },
   "outputs": [],
   "source": [
    "actions = np.ones(env.shape, dtype=int)\r\n",
    "actions[-1, :] = 0\r\n",
    "actions[:, -1] = 2\r\n",
    "optimal_policy = np.eye(4)[actions.reshape(-1)]"
   ]
  },
  {
   "cell_type": "code",
   "execution_count": 6,
   "metadata": {
    "collapsed": false
   },
   "outputs": [
    {
     "name": "stdout",
     "output_type": "stream",
     "text": [
      "状态 = 36, 位置 = (3, 0) 动作 = 0, 奖励 = -1\n",
      "状态 = 24, 位置 = (2, 0) 动作 = 1, 奖励 = -1\n",
      "状态 = 25, 位置 = (2, 1) 动作 = 1, 奖励 = -1\n",
      "状态 = 26, 位置 = (2, 2) 动作 = 1, 奖励 = -1\n",
      "状态 = 27, 位置 = (2, 3) 动作 = 1, 奖励 = -1\n",
      "状态 = 28, 位置 = (2, 4) 动作 = 1, 奖励 = -1\n",
      "状态 = 29, 位置 = (2, 5) 动作 = 1, 奖励 = -1\n",
      "状态 = 30, 位置 = (2, 6) 动作 = 1, 奖励 = -1\n",
      "状态 = 31, 位置 = (2, 7) 动作 = 1, 奖励 = -1\n",
      "状态 = 32, 位置 = (2, 8) 动作 = 1, 奖励 = -1\n",
      "状态 = 33, 位置 = (2, 9) 动作 = 1, 奖励 = -1\n",
      "状态 = 34, 位置 = (2, 10) 动作 = 1, 奖励 = -1\n",
      "状态 = 35, 位置 = (2, 11) 动作 = 2, 奖励 = -1\n",
      "回合奖励 = -13\n"
     ]
    }
   ],
   "source": [
    "total_reward = play_once(env, optimal_policy)\r\n",
    "print('回合奖励 = {}'.format(total_reward))"
   ]
  },
  {
   "cell_type": "markdown",
   "metadata": {
    "collapsed": false
   },
   "source": [
    "## 求解 Bellman 期望方程"
   ]
  },
  {
   "cell_type": "code",
   "execution_count": 7,
   "metadata": {
    "collapsed": false
   },
   "outputs": [],
   "source": [
    "def evaluate_bellman(env, policy, gamma=1.):\r\n",
    "    a, b = np.eye(env.nS), np.zeros((env.nS))\r\n",
    "    for state in range(env.nS - 1):\r\n",
    "        for action in range(env.nA):\r\n",
    "            pi = policy[state][action]\r\n",
    "            for p, next_state, reward, done in env.P[state][action]:\r\n",
    "                a[state, next_state] -= (pi * gamma * p)\r\n",
    "                b[state] += (pi * reward * p)\r\n",
    "    v = np.linalg.solve(a, b)\r\n",
    "    q = np.zeros((env.nS, env.nA))\r\n",
    "    for state in range(env.nS - 1):\r\n",
    "        for action in range(env.nA):\r\n",
    "            for p, next_state, reward, done in env.P[state][action]:\r\n",
    "                q[state][action] += ((reward + gamma * v[next_state]) * p)\r\n",
    "    return v, q"
   ]
  },
  {
   "cell_type": "code",
   "execution_count": 8,
   "metadata": {
    "collapsed": false
   },
   "outputs": [
    {
     "name": "stdout",
     "output_type": "stream",
     "text": [
      "状态价值 = [-71259.73993046 -71237.78971176 -71194.84815307 -71140.80283084\n",
      " -71061.70657407 -70938.9109303  -68108.48102393 -66319.10665149\n",
      " -64517.35282333 -61466.53107191 -57841.39233559 -49099.24383729\n",
      " -71264.96522919 -71247.53092065 -71217.52824196 -71120.56871128\n",
      " -71054.59876056 -70900.38265543 -69089.0248754  -67348.61705426\n",
      " -65077.28575314 -59299.02626942 -54477.04027155 -43408.92846114\n",
      " -71343.97588504 -71365.86170718 -71356.29488211 -71310.51896579\n",
      " -71248.19189085 -70916.43626142 -70432.29357881 -69519.4952358\n",
      " -69113.6008844  -66843.01499868 -60740.99702848 -33361.65231114\n",
      " -71417.8714599  -71463.16859933 -71447.66816433 -71480.47316827\n",
      " -71514.26925748 -71213.20010573 -71233.56329316 -71021.31099414\n",
      " -70840.15827719 -69680.13842414 -65008.3404254       0.        ]\n",
      "动作价值 = [[-7.12607399e+04 -7.12387897e+04 -7.12659652e+04 -7.12607399e+04]\n",
      " [-7.12387897e+04 -7.11958482e+04 -7.12485309e+04 -7.12607399e+04]\n",
      " [-7.11958482e+04 -7.11418028e+04 -7.12185282e+04 -7.12387897e+04]\n",
      " [-7.11418028e+04 -7.10627066e+04 -7.11215687e+04 -7.11958482e+04]\n",
      " [-7.10627066e+04 -7.09399109e+04 -7.10555988e+04 -7.11418028e+04]\n",
      " [-7.09399109e+04 -6.81094810e+04 -7.09013827e+04 -7.10627066e+04]\n",
      " [-6.81094810e+04 -6.63201067e+04 -6.90900249e+04 -7.09399109e+04]\n",
      " [-6.63201067e+04 -6.45183528e+04 -6.73496171e+04 -6.81094810e+04]\n",
      " [-6.45183528e+04 -6.14675311e+04 -6.50782858e+04 -6.63201067e+04]\n",
      " [-6.14675311e+04 -5.78423923e+04 -5.93000263e+04 -6.45183528e+04]\n",
      " [-5.78423923e+04 -4.91002438e+04 -5.44780403e+04 -6.14675311e+04]\n",
      " [-4.91002438e+04 -4.91002438e+04 -4.34099285e+04 -5.78423923e+04]\n",
      " [-7.12607399e+04 -7.12485309e+04 -7.13449759e+04 -7.12659652e+04]\n",
      " [-7.12387897e+04 -7.12185282e+04 -7.13668617e+04 -7.12659652e+04]\n",
      " [-7.11958482e+04 -7.11215687e+04 -7.13572949e+04 -7.12485309e+04]\n",
      " [-7.11418028e+04 -7.10555988e+04 -7.13115190e+04 -7.12185282e+04]\n",
      " [-7.10627066e+04 -7.09013827e+04 -7.12491919e+04 -7.11215687e+04]\n",
      " [-7.09399109e+04 -6.90900249e+04 -7.09174363e+04 -7.10555988e+04]\n",
      " [-6.81094810e+04 -6.73496171e+04 -7.04332936e+04 -7.09013827e+04]\n",
      " [-6.63201067e+04 -6.50782858e+04 -6.95204952e+04 -6.90900249e+04]\n",
      " [-6.45183528e+04 -5.93000263e+04 -6.91146009e+04 -6.73496171e+04]\n",
      " [-6.14675311e+04 -5.44780403e+04 -6.68440150e+04 -6.50782858e+04]\n",
      " [-5.78423923e+04 -4.34099285e+04 -6.07419970e+04 -5.93000263e+04]\n",
      " [-4.91002438e+04 -4.34099285e+04 -3.33626523e+04 -5.44780403e+04]\n",
      " [-7.12659652e+04 -7.13668617e+04 -7.14188715e+04 -7.13449759e+04]\n",
      " [-7.12485309e+04 -7.13572949e+04 -7.15178715e+04 -7.13449759e+04]\n",
      " [-7.12185282e+04 -7.13115190e+04 -7.15178715e+04 -7.13668617e+04]\n",
      " [-7.11215687e+04 -7.12491919e+04 -7.15178715e+04 -7.13572949e+04]\n",
      " [-7.10555988e+04 -7.09174363e+04 -7.15178715e+04 -7.13115190e+04]\n",
      " [-7.09013827e+04 -7.04332936e+04 -7.15178715e+04 -7.12491919e+04]\n",
      " [-6.90900249e+04 -6.95204952e+04 -7.15178715e+04 -7.09174363e+04]\n",
      " [-6.73496171e+04 -6.91146009e+04 -7.15178715e+04 -7.04332936e+04]\n",
      " [-6.50782858e+04 -6.68440150e+04 -7.15178715e+04 -6.95204952e+04]\n",
      " [-5.93000263e+04 -6.07419970e+04 -7.15178715e+04 -6.91146009e+04]\n",
      " [-5.44780403e+04 -3.33626523e+04 -7.15178715e+04 -6.68440150e+04]\n",
      " [-4.34099285e+04 -3.33626523e+04 -1.00000000e+00 -6.07419970e+04]\n",
      " [-7.13449759e+04 -7.15178715e+04 -7.14188715e+04 -7.14188715e+04]\n",
      " [-7.13668617e+04 -7.15178715e+04 -7.15178715e+04 -7.14188715e+04]\n",
      " [-7.13572949e+04 -7.15178715e+04 -7.15178715e+04 -7.15178715e+04]\n",
      " [-7.13115190e+04 -7.15178715e+04 -7.15178715e+04 -7.15178715e+04]\n",
      " [-7.12491919e+04 -7.15178715e+04 -7.15178715e+04 -7.15178715e+04]\n",
      " [-7.09174363e+04 -7.15178715e+04 -7.15178715e+04 -7.15178715e+04]\n",
      " [-7.04332936e+04 -7.15178715e+04 -7.15178715e+04 -7.15178715e+04]\n",
      " [-6.95204952e+04 -7.15178715e+04 -7.15178715e+04 -7.15178715e+04]\n",
      " [-6.91146009e+04 -7.15178715e+04 -7.15178715e+04 -7.15178715e+04]\n",
      " [-6.68440150e+04 -7.15178715e+04 -7.15178715e+04 -7.15178715e+04]\n",
      " [-6.07419970e+04 -1.00000000e+00 -7.15178715e+04 -7.15178715e+04]\n",
      " [ 0.00000000e+00  0.00000000e+00  0.00000000e+00  0.00000000e+00]]\n"
     ]
    }
   ],
   "source": [
    "policy = np.random.uniform(size=(env.nS, env.nA))\r\n",
    "policy = policy / np.sum(policy, axis=1)[:, np.newaxis]\r\n",
    "\r\n",
    "state_values, action_values = evaluate_bellman(env, policy)\r\n",
    "print('状态价值 = {}'.format(state_values))\r\n",
    "print('动作价值 = {}'.format(action_values))"
   ]
  },
  {
   "cell_type": "markdown",
   "metadata": {
    "collapsed": false
   },
   "source": [
    "评估最优策略的价值"
   ]
  },
  {
   "cell_type": "code",
   "execution_count": 9,
   "metadata": {
    "collapsed": false
   },
   "outputs": [
    {
     "name": "stdout",
     "output_type": "stream",
     "text": [
      "最优状态价值 = [-14. -13. -12. -11. -10.  -9.  -8.  -7.  -6.  -5.  -4.  -3. -13. -12.\n",
      " -11. -10.  -9.  -8.  -7.  -6.  -5.  -4.  -3.  -2. -12. -11. -10.  -9.\n",
      "  -8.  -7.  -6.  -5.  -4.  -3.  -2.  -1. -13. -12. -11. -10.  -9.  -8.\n",
      "  -7.  -6.  -5.  -4.  -3.   0.]\n",
      "最优动作价值 = [[ -15.  -14.  -14.  -15.]\n",
      " [ -14.  -13.  -13.  -15.]\n",
      " [ -13.  -12.  -12.  -14.]\n",
      " [ -12.  -11.  -11.  -13.]\n",
      " [ -11.  -10.  -10.  -12.]\n",
      " [ -10.   -9.   -9.  -11.]\n",
      " [  -9.   -8.   -8.  -10.]\n",
      " [  -8.   -7.   -7.   -9.]\n",
      " [  -7.   -6.   -6.   -8.]\n",
      " [  -6.   -5.   -5.   -7.]\n",
      " [  -5.   -4.   -4.   -6.]\n",
      " [  -4.   -4.   -3.   -5.]\n",
      " [ -15.  -13.  -13.  -14.]\n",
      " [ -14.  -12.  -12.  -14.]\n",
      " [ -13.  -11.  -11.  -13.]\n",
      " [ -12.  -10.  -10.  -12.]\n",
      " [ -11.   -9.   -9.  -11.]\n",
      " [ -10.   -8.   -8.  -10.]\n",
      " [  -9.   -7.   -7.   -9.]\n",
      " [  -8.   -6.   -6.   -8.]\n",
      " [  -7.   -5.   -5.   -7.]\n",
      " [  -6.   -4.   -4.   -6.]\n",
      " [  -5.   -3.   -3.   -5.]\n",
      " [  -4.   -3.   -2.   -4.]\n",
      " [ -14.  -12.  -14.  -13.]\n",
      " [ -13.  -11. -113.  -13.]\n",
      " [ -12.  -10. -113.  -12.]\n",
      " [ -11.   -9. -113.  -11.]\n",
      " [ -10.   -8. -113.  -10.]\n",
      " [  -9.   -7. -113.   -9.]\n",
      " [  -8.   -6. -113.   -8.]\n",
      " [  -7.   -5. -113.   -7.]\n",
      " [  -6.   -4. -113.   -6.]\n",
      " [  -5.   -3. -113.   -5.]\n",
      " [  -4.   -2. -113.   -4.]\n",
      " [  -3.   -2.   -1.   -3.]\n",
      " [ -13. -113.  -14.  -14.]\n",
      " [ -12. -113. -113.  -14.]\n",
      " [ -11. -113. -113. -113.]\n",
      " [ -10. -113. -113. -113.]\n",
      " [  -9. -113. -113. -113.]\n",
      " [  -8. -113. -113. -113.]\n",
      " [  -7. -113. -113. -113.]\n",
      " [  -6. -113. -113. -113.]\n",
      " [  -5. -113. -113. -113.]\n",
      " [  -4. -113. -113. -113.]\n",
      " [  -3.   -1. -113. -113.]\n",
      " [   0.    0.    0.    0.]]\n"
     ]
    }
   ],
   "source": [
    "optimal_state_values, optimal_action_values = evaluate_bellman(env, optimal_policy)\r\n",
    "print('最优状态价值 = {}'.format(optimal_state_values))\r\n",
    "print('最优动作价值 = {}'.format(optimal_action_values))"
   ]
  },
  {
   "cell_type": "code",
   "execution_count": null,
   "metadata": {
    "collapsed": false
   },
   "outputs": [],
   "source": [
    "def play_montecarlo(env, agent, render=False, train=False):\r\n",
    "    episode_reward = 0. # 记录回合总奖励，初始化为0\r\n",
    "    observation = env.reset() # 重置游戏环境，开始新回合\r\n",
    "    while True: # 不断循环，直到回合结束\r\n",
    "        if render: # 判断是否显示\r\n",
    "            env.render() # 显示图形界面，图形界面可以用 env.close() 语句关闭\r\n",
    "        action = agent.decide(observation)\r\n",
    "        next_observation, reward, done, _ = env.step(action) # 执行动作\r\n",
    "        episode_reward += reward # 收集回合奖励\r\n",
    "        if train: # 判断是否训练智能体\r\n",
    "            agent.learn(observation, action, reward, done) # 学习\r\n",
    "        if done: # 回合结束，跳出循环\r\n",
    "            break\r\n",
    "        observation = next_observation\r\n",
    "    return episode_reward # 返回回合总奖励"
   ]
  },
  {
   "cell_type": "markdown",
   "metadata": {
    "collapsed": false
   },
   "source": [
    "## 求解 Bellman 最优方程"
   ]
  },
  {
   "cell_type": "code",
   "execution_count": 10,
   "metadata": {
    "collapsed": false
   },
   "outputs": [],
   "source": [
    "def optimal_bellman(env, gamma=1.):\r\n",
    "    p = np.zeros((env.nS, env.nA, env.nS))\r\n",
    "    r = np.zeros((env.nS, env.nA))\r\n",
    "    for state in range(env.nS - 1):\r\n",
    "        for action in range(env.nA):\r\n",
    "            for prob, next_state, reward, done in env.P[state][action]:\r\n",
    "                p[state, action, next_state] += prob\r\n",
    "                r[state, action] += (reward * prob)\r\n",
    "    c = np.ones(env.nS)\r\n",
    "    a_ub = gamma * p.reshape(-1, env.nS) - \\\r\n",
    "            np.repeat(np.eye(env.nS), env.nA, axis=0)\r\n",
    "    b_ub = -r.reshape(-1)\r\n",
    "    a_eq = np.zeros((0, env.nS))\r\n",
    "    b_eq = np.zeros(0)\r\n",
    "    bounds = [(None, None),] * env.nS\r\n",
    "    res = scipy.optimize.linprog(c, a_ub, b_ub, bounds=bounds,\r\n",
    "            method='interior-point')\r\n",
    "    v = res.x\r\n",
    "    q = r + gamma * np.dot(p, v)\r\n",
    "    return v, q"
   ]
  },
  {
   "cell_type": "code",
   "execution_count": 11,
   "metadata": {
    "collapsed": false
   },
   "outputs": [
    {
     "name": "stdout",
     "output_type": "stream",
     "text": [
      "最优状态价值 = [-1.40000000e+01 -1.30000000e+01 -1.20000000e+01 -1.10000000e+01\n",
      " -1.00000000e+01 -9.00000000e+00 -8.00000000e+00 -7.00000000e+00\n",
      " -6.00000000e+00 -5.00000000e+00 -4.00000000e+00 -3.00000000e+00\n",
      " -1.30000000e+01 -1.20000000e+01 -1.10000000e+01 -1.00000000e+01\n",
      " -9.00000000e+00 -8.00000000e+00 -7.00000000e+00 -6.00000000e+00\n",
      " -5.00000000e+00 -4.00000000e+00 -3.00000000e+00 -2.00000000e+00\n",
      " -1.20000000e+01 -1.10000000e+01 -1.00000000e+01 -9.00000000e+00\n",
      " -8.00000000e+00 -7.00000000e+00 -6.00000000e+00 -5.00000000e+00\n",
      " -4.00000000e+00 -3.00000000e+00 -2.00000000e+00 -1.00000000e+00\n",
      " -1.30000000e+01 -1.20000000e+01 -1.10000000e+01 -1.00000000e+01\n",
      " -9.00000000e+00 -8.00000000e+00 -7.00000000e+00 -6.00000000e+00\n",
      " -5.00000000e+00 -4.00000000e+00 -9.99999999e-01  1.82288980e-11]\n",
      "最优动作价值 = [[ -14.99999999  -13.99999999  -13.99999999  -14.99999999]\n",
      " [ -13.99999999  -13.          -13.          -14.99999999]\n",
      " [ -13.          -12.          -12.          -13.99999999]\n",
      " [ -12.          -11.          -11.          -13.        ]\n",
      " [ -11.          -10.          -10.          -12.        ]\n",
      " [ -10.           -9.           -9.          -11.        ]\n",
      " [  -9.           -8.           -8.          -10.        ]\n",
      " [  -8.           -7.           -7.           -9.        ]\n",
      " [  -7.           -6.           -6.           -8.        ]\n",
      " [  -6.           -5.           -5.           -7.        ]\n",
      " [  -5.           -4.           -4.           -6.        ]\n",
      " [  -4.           -4.           -3.           -5.        ]\n",
      " [ -14.99999999  -13.          -13.          -13.99999999]\n",
      " [ -13.99999999  -12.          -12.          -13.99999999]\n",
      " [ -13.          -11.          -11.          -13.        ]\n",
      " [ -12.          -10.          -10.          -12.        ]\n",
      " [ -11.           -9.           -9.          -11.        ]\n",
      " [ -10.           -8.           -8.          -10.        ]\n",
      " [  -9.           -7.           -7.           -9.        ]\n",
      " [  -8.           -6.           -6.           -8.        ]\n",
      " [  -7.           -5.           -5.           -7.        ]\n",
      " [  -6.           -4.           -4.           -6.        ]\n",
      " [  -5.           -3.           -3.           -5.        ]\n",
      " [  -4.           -3.           -2.           -4.        ]\n",
      " [ -13.99999999  -12.          -14.          -13.        ]\n",
      " [ -13.          -11.         -113.          -13.        ]\n",
      " [ -12.          -10.         -113.          -12.        ]\n",
      " [ -11.           -9.         -113.          -11.        ]\n",
      " [ -10.           -8.         -113.          -10.        ]\n",
      " [  -9.           -7.         -113.           -9.        ]\n",
      " [  -8.           -6.         -113.           -8.        ]\n",
      " [  -7.           -5.         -113.           -7.        ]\n",
      " [  -6.           -4.         -113.           -6.        ]\n",
      " [  -5.           -3.         -113.           -5.        ]\n",
      " [  -4.           -2.         -113.           -4.        ]\n",
      " [  -3.           -2.           -1.           -3.        ]\n",
      " [ -13.         -113.          -14.          -14.        ]\n",
      " [ -12.         -113.         -113.          -14.        ]\n",
      " [ -11.         -113.         -113.         -113.        ]\n",
      " [ -10.         -113.         -113.         -113.        ]\n",
      " [  -9.         -113.         -113.         -113.        ]\n",
      " [  -8.         -113.         -113.         -113.        ]\n",
      " [  -7.         -113.         -113.         -113.        ]\n",
      " [  -6.         -113.         -113.         -113.        ]\n",
      " [  -5.         -113.         -113.         -113.        ]\n",
      " [  -4.         -113.         -113.         -113.        ]\n",
      " [  -3.           -1.         -113.         -113.        ]\n",
      " [   0.            0.            0.            0.        ]]\n"
     ]
    }
   ],
   "source": [
    "optimal_state_values, optimal_action_values = optimal_bellman(env)\r\n",
    "print('最优状态价值 = {}'.format(optimal_state_values))\r\n",
    "print('最优动作价值 = {}'.format(optimal_action_values))"
   ]
  },
  {
   "cell_type": "code",
   "execution_count": 12,
   "metadata": {
    "collapsed": false
   },
   "outputs": [
    {
     "name": "stdout",
     "output_type": "stream",
     "text": [
      "最优策略 = [2 1 1 1 1 1 1 1 1 1 1 2 1 1 1 1 1 1 1 1 1 1 1 2 1 1 1 1 1 1 1 1 1 1 1 2 0\n",
      " 0 0 0 0 0 0 0 0 0 1 0]\n"
     ]
    }
   ],
   "source": [
    "optimal_actions = optimal_action_values.argmax(axis=1)\r\n",
    "print('最优策略 = {}'.format(optimal_actions))"
   ]
  }
 ],
 "metadata": {
  "kernelspec": {
   "display_name": "PaddlePaddle 2.0.0b0 (Python 3.5)",
   "language": "python",
   "name": "py35-paddle1.2.0"
  },
  "language_info": {
   "codemirror_mode": {
    "name": "ipython",
    "version": 3
   },
   "file_extension": ".py",
   "mimetype": "text/x-python",
   "name": "python",
   "nbconvert_exporter": "python",
   "pygments_lexer": "ipython3",
   "version": "3.7.4"
  }
 },
 "nbformat": 4,
 "nbformat_minor": 1
}
