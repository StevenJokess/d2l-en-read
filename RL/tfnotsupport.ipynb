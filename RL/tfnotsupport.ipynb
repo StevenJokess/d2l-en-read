{
 "cells": [
  {
   "cell_type": "markdown",
   "metadata": {
    "collapsed": false
   },
   "source": [
    "https://github.com/ZhiqingXiao/rl-book/blob/master/chapter11_alphazero/TicTacToe-v0_tf.ipynb"
   ]
  },
  {
   "cell_type": "code",
   "execution_count": 1,
   "metadata": {
    "collapsed": false
   },
   "outputs": [
    {
     "name": "stdout",
     "output_type": "stream",
     "text": [
      "Looking in indexes: https://mirror.baidu.com/pypi/simple/\n",
      "Collecting gym\n",
      "Collecting pandas\n",
      "\u001b[?25l  Downloading https://mirror.baidu.com/pypi/packages/fd/70/e8eee0cbddf926bf51958c7d6a86bc69167c300fa2ba8e592330a2377d1b/pandas-1.1.5-cp37-cp37m-manylinux1_x86_64.whl (9.5MB)\n",
      "\u001b[K     |████████████████████████████████| 9.5MB 13.8MB/s eta 0:00:01\n",
      "\u001b[?25hCollecting numpy\n",
      "\u001b[?25l  Downloading https://mirror.baidu.com/pypi/packages/a5/bb/87d668b353848b93baab0a64cddf6408c40717f099539668c3d26fe39f7e/numpy-1.19.4-cp37-cp37m-manylinux2010_x86_64.whl (14.5MB)\n",
      "\u001b[K     |████████████████████████████████| 14.5MB 8.5MB/s eta 0:00:011\n",
      "\u001b[?25hCollecting sys\n",
      "\u001b[31m  ERROR: Could not find a version that satisfies the requirement sys (from versions: none)\u001b[0m\n",
      "\u001b[31mERROR: No matching distribution found for sys\u001b[0m\n"
     ]
    }
   ],
   "source": [
    "!pip install gym pandas numpy sys math itertools collections logging tensorflow boardgame2 -t /home/aistudio/external-libraries"
   ]
  },
  {
   "cell_type": "code",
   "execution_count": 2,
   "metadata": {
    "collapsed": false
   },
   "outputs": [
    {
     "name": "stdout",
     "output_type": "stream",
     "text": [
      "Looking in indexes: https://mirror.baidu.com/pypi/simple/\n",
      "Collecting gym\n",
      "Collecting pandas\n",
      "\u001b[?25l  Downloading https://mirror.baidu.com/pypi/packages/fd/70/e8eee0cbddf926bf51958c7d6a86bc69167c300fa2ba8e592330a2377d1b/pandas-1.1.5-cp37-cp37m-manylinux1_x86_64.whl (9.5MB)\n",
      "\u001b[K     |████████████████████████████████| 9.5MB 13.6MB/s eta 0:00:01\n",
      "\u001b[?25hCollecting numpy\n",
      "\u001b[?25l  Downloading https://mirror.baidu.com/pypi/packages/a5/bb/87d668b353848b93baab0a64cddf6408c40717f099539668c3d26fe39f7e/numpy-1.19.4-cp37-cp37m-manylinux2010_x86_64.whl (14.5MB)\n",
      "\u001b[K     |████████████████████████████████| 14.5MB 9.7MB/s eta 0:00:011\n",
      "\u001b[?25hCollecting math\n",
      "\u001b[31m  ERROR: Could not find a version that satisfies the requirement math (from versions: none)\u001b[0m\n",
      "\u001b[31mERROR: No matching distribution found for math\u001b[0m\n"
     ]
    }
   ],
   "source": [
    "!pip install gym pandas numpy math itertools collections logging tensorflow boardgame2 -t /home/aistudio/external-libraries"
   ]
  },
  {
   "cell_type": "code",
   "execution_count": 3,
   "metadata": {
    "collapsed": false
   },
   "outputs": [
    {
     "name": "stdout",
     "output_type": "stream",
     "text": [
      "Looking in indexes: https://mirror.baidu.com/pypi/simple/\n",
      "Collecting gym\n",
      "Collecting pandas\n",
      "\u001b[?25l  Downloading https://mirror.baidu.com/pypi/packages/fd/70/e8eee0cbddf926bf51958c7d6a86bc69167c300fa2ba8e592330a2377d1b/pandas-1.1.5-cp37-cp37m-manylinux1_x86_64.whl (9.5MB)\n",
      "\u001b[K     |████████████████████████████████| 9.5MB 15.8MB/s eta 0:00:01     |█                               | 327kB 15.8MB/s eta 0:00:01\n",
      "\u001b[?25hCollecting numpy\n",
      "\u001b[?25l  Downloading https://mirror.baidu.com/pypi/packages/a5/bb/87d668b353848b93baab0a64cddf6408c40717f099539668c3d26fe39f7e/numpy-1.19.4-cp37-cp37m-manylinux2010_x86_64.whl (14.5MB)\n",
      "\u001b[K     |████████████████████████████████| 14.5MB 9.8MB/s eta 0:00:011\n",
      "\u001b[?25hCollecting itertools\n",
      "\u001b[31m  ERROR: Could not find a version that satisfies the requirement itertools (from versions: none)\u001b[0m\n",
      "\u001b[31mERROR: No matching distribution found for itertools\u001b[0m\n"
     ]
    }
   ],
   "source": [
    "!pip install gym pandas numpy itertools collections logging tensorflow boardgame2 -t /home/aistudio/external-libraries"
   ]
  },
  {
   "cell_type": "code",
   "execution_count": 4,
   "metadata": {
    "collapsed": false
   },
   "outputs": [
    {
     "name": "stdout",
     "output_type": "stream",
     "text": [
      "Looking in indexes: https://mirror.baidu.com/pypi/simple/\n",
      "Collecting gym\n",
      "Collecting pandas\n",
      "\u001b[?25l  Downloading https://mirror.baidu.com/pypi/packages/fd/70/e8eee0cbddf926bf51958c7d6a86bc69167c300fa2ba8e592330a2377d1b/pandas-1.1.5-cp37-cp37m-manylinux1_x86_64.whl (9.5MB)\n",
      "\u001b[K     |████████████████████████████████| 9.5MB 15.0MB/s eta 0:00:01\n",
      "\u001b[?25hCollecting numpy\n",
      "\u001b[?25l  Downloading https://mirror.baidu.com/pypi/packages/a5/bb/87d668b353848b93baab0a64cddf6408c40717f099539668c3d26fe39f7e/numpy-1.19.4-cp37-cp37m-manylinux2010_x86_64.whl (14.5MB)\n",
      "\u001b[K     |████████████████████████████████| 14.5MB 8.1MB/s eta 0:00:011\n",
      "\u001b[?25hCollecting tensorflow\n",
      "\u001b[?25l  Downloading https://mirror.baidu.com/pypi/packages/94/0a/012cc33c643d844433d13001dd1db179e7020b05ddbbd0a9dc86c38a8efa/tensorflow-2.4.0-cp37-cp37m-manylinux2010_x86_64.whl (394.7MB)\n",
      "\u001b[K     |████████████████████████████████| 394.7MB 9.4MB/s eta 0:00:014   |▍                               | 4.6MB 23.5MB/s eta 0:00:17     |███████████████████▊            | 243.6MB 9.2MB/s eta 0:00:17\n",
      "\u001b[?25hCollecting boardgame2\n",
      "  Downloading https://mirror.baidu.com/pypi/packages/2b/06/7b1b31862412989bf68b9554bb5ea85f36e865180442865fc0422642c805/boardgame2-0.0.5-py3-none-any.whl\n",
      "Collecting cloudpickle<1.7.0,>=1.2.0 (from gym)\n",
      "  Downloading https://mirror.baidu.com/pypi/packages/e7/e3/898487e5dbeb612054cf2e0c188463acb358167fef749c53c8bb8918cea1/cloudpickle-1.6.0-py3-none-any.whl\n",
      "Collecting Pillow<=7.2.0 (from gym)\n",
      "\u001b[?25l  Downloading https://mirror.baidu.com/pypi/packages/e8/f2/6722dd0c22e3a143ac792ccb2424924ac72af4adea756b1165b4cad50da7/Pillow-7.2.0-cp37-cp37m-manylinux1_x86_64.whl (2.2MB)\n",
      "\u001b[K     |████████████████████████████████| 2.2MB 21.6MB/s eta 0:00:01\n",
      "\u001b[?25hCollecting pyglet<=1.5.0,>=1.4.0 (from gym)\n",
      "\u001b[?25l  Downloading https://mirror.baidu.com/pypi/packages/70/ca/20aee170afe6011e295e34b27ad7d7ccd795faba581dd3c6f7cec237f561/pyglet-1.5.0-py2.py3-none-any.whl (1.0MB)\n",
      "\u001b[K     |████████████████████████████████| 1.0MB 14.0MB/s eta 0:00:01\n",
      "\u001b[?25hCollecting scipy (from gym)\n",
      "\u001b[?25l  Downloading https://mirror.baidu.com/pypi/packages/dc/7e/8f6a79b102ca1ea928bae8998b05bf5dc24a90571db13cd119f275ba6252/scipy-1.5.4-cp37-cp37m-manylinux1_x86_64.whl (25.9MB)\n",
      "\u001b[K     |████████████████████████████████| 25.9MB 8.5MB/s eta 0:00:012    |▉                               | 696kB 13.5MB/s eta 0:00:02     |███▋                            | 2.9MB 13.5MB/s eta 0:00:02\n",
      "\u001b[?25hCollecting pytz>=2017.2 (from pandas)\n",
      "\u001b[?25l  Downloading https://mirror.baidu.com/pypi/packages/12/f8/ff09af6ff61a3efaad5f61ba5facdf17e7722c4393f7d8a66674d2dbd29f/pytz-2020.4-py2.py3-none-any.whl (509kB)\n",
      "\u001b[K     |████████████████████████████████| 512kB 9.9MB/s eta 0:00:01\n",
      "\u001b[?25hCollecting python-dateutil>=2.7.3 (from pandas)\n",
      "\u001b[?25l  Downloading https://mirror.baidu.com/pypi/packages/d4/70/d60450c3dd48ef87586924207ae8907090de0b306af2bce5d134d78615cb/python_dateutil-2.8.1-py2.py3-none-any.whl (227kB)\n",
      "\u001b[K     |████████████████████████████████| 235kB 43.6MB/s eta 0:00:01\n",
      "\u001b[?25hCollecting google-pasta~=0.2 (from tensorflow)\n",
      "\u001b[?25l  Downloading https://mirror.baidu.com/pypi/packages/a3/de/c648ef6835192e6e2cc03f40b19eeda4382c49b5bafb43d88b931c4c74ac/google_pasta-0.2.0-py3-none-any.whl (57kB)\n",
      "\u001b[K     |████████████████████████████████| 61kB 21.1MB/s eta 0:00:01\n",
      "\u001b[?25hCollecting typing-extensions~=3.7.4 (from tensorflow)\n",
      "  Downloading https://mirror.baidu.com/pypi/packages/60/7a/e881b5abb54db0e6e671ab088d079c57ce54e8a01a3ca443f561ccadb37e/typing_extensions-3.7.4.3-py3-none-any.whl\n",
      "Collecting tensorboard~=2.4 (from tensorflow)\n",
      "\u001b[?25l  Downloading https://mirror.baidu.com/pypi/packages/02/83/179c8f76e5716030cc3ee9433721161cfcc1d854e9ba20c9205180bb100a/tensorboard-2.4.0-py3-none-any.whl (10.6MB)\n",
      "\u001b[K     |████████████████████████████████| 10.6MB 20.5MB/s eta 0:00:01\n",
      "\u001b[?25hCollecting astunparse~=1.6.3 (from tensorflow)\n",
      "  Downloading https://mirror.baidu.com/pypi/packages/2b/03/13dde6512ad7b4557eb792fbcf0c653af6076b81e5941d36ec61f7ce6028/astunparse-1.6.3-py2.py3-none-any.whl\n",
      "Collecting termcolor~=1.1.0 (from tensorflow)\n",
      "  Downloading https://mirror.baidu.com/pypi/packages/8a/48/a76be51647d0eb9f10e2a4511bf3ffb8cc1e6b14e9e4fab46173aa79f981/termcolor-1.1.0.tar.gz\n",
      "Collecting keras-preprocessing~=1.1.2 (from tensorflow)\n",
      "\u001b[?25l  Downloading https://mirror.baidu.com/pypi/packages/79/4c/7c3275a01e12ef9368a892926ab932b33bb13d55794881e3573482b378a7/Keras_Preprocessing-1.1.2-py2.py3-none-any.whl (42kB)\n",
      "\u001b[K     |████████████████████████████████| 51kB 17.6MB/s eta 0:00:01\n",
      "\u001b[?25hCollecting wrapt~=1.12.1 (from tensorflow)\n",
      "  Downloading https://mirror.baidu.com/pypi/packages/82/f7/e43cefbe88c5fd371f4cf0cf5eb3feccd07515af9fd6cf7dbf1d1793a797/wrapt-1.12.1.tar.gz\n",
      "Collecting tensorflow-estimator<2.5.0,>=2.4.0rc0 (from tensorflow)\n",
      "\u001b[?25l  Downloading https://mirror.baidu.com/pypi/packages/74/7e/622d9849abf3afb81e482ffc170758742e392ee129ce1540611199a59237/tensorflow_estimator-2.4.0-py2.py3-none-any.whl (462kB)\n",
      "\u001b[K     |████████████████████████████████| 471kB 15.0MB/s eta 0:00:01\n",
      "\u001b[?25hCollecting absl-py~=0.10 (from tensorflow)\n",
      "\u001b[?25l  Downloading https://mirror.baidu.com/pypi/packages/bc/58/0aa6fb779dc69cfc811df3398fcbeaeefbf18561b6e36b185df0782781cc/absl_py-0.11.0-py3-none-any.whl (127kB)\n",
      "\u001b[K     |████████████████████████████████| 133kB 20.8MB/s eta 0:00:01\n",
      "\u001b[?25hCollecting protobuf>=3.9.2 (from tensorflow)\n",
      "\u001b[?25l  Downloading https://mirror.baidu.com/pypi/packages/e0/dd/5c5d156ee1c4dba470d76dac5ae57084829b4e17547f28e9f636ce3fa54b/protobuf-3.14.0-cp37-cp37m-manylinux1_x86_64.whl (1.0MB)\n",
      "\u001b[K     |████████████████████████████████| 1.0MB 14.7MB/s eta 0:00:01\n",
      "\u001b[?25hCollecting h5py~=2.10.0 (from tensorflow)\n",
      "\u001b[?25l  Downloading https://mirror.baidu.com/pypi/packages/3f/c0/abde58b837e066bca19a3f7332d9d0493521d7dd6b48248451a9e3fe2214/h5py-2.10.0-cp37-cp37m-manylinux1_x86_64.whl (2.9MB)\n",
      "\u001b[K     |████████████████████████████████| 2.9MB 16.6MB/s eta 0:00:01\n",
      "\u001b[?25hCollecting opt-einsum~=3.3.0 (from tensorflow)\n",
      "\u001b[?25l  Downloading https://mirror.baidu.com/pypi/packages/bc/19/404708a7e54ad2798907210462fd950c3442ea51acc8790f3da48d2bee8b/opt_einsum-3.3.0-py3-none-any.whl (65kB)\n",
      "\u001b[K     |████████████████████████████████| 71kB 15.8MB/s eta 0:00:01\n",
      "\u001b[?25hCollecting flatbuffers~=1.12.0 (from tensorflow)\n",
      "  Downloading https://mirror.baidu.com/pypi/packages/eb/26/712e578c5f14e26ae3314c39a1bdc4eb2ec2f4ddc89b708cf8e0a0d20423/flatbuffers-1.12-py2.py3-none-any.whl\n",
      "Collecting wheel~=0.35 (from tensorflow)\n",
      "  Downloading https://mirror.baidu.com/pypi/packages/65/63/39d04c74222770ed1589c0eaba06c05891801219272420b40311cd60c880/wheel-0.36.2-py2.py3-none-any.whl\n",
      "Collecting grpcio~=1.32.0 (from tensorflow)\n",
      "\u001b[?25l  Downloading https://mirror.baidu.com/pypi/packages/99/da/8dc10aab771e01937aaf10cd28d1fcf861bca48c570ee6a5cee00f7be111/grpcio-1.32.0-cp37-cp37m-manylinux2010_x86_64.whl (3.7MB)\n",
      "\u001b[K     |████████████████████████████████| 3.7MB 27.1MB/s eta 0:00:01\n",
      "\u001b[?25hCollecting gast==0.3.3 (from tensorflow)\n",
      "  Downloading https://mirror.baidu.com/pypi/packages/d6/84/759f5dd23fec8ba71952d97bcc7e2c9d7d63bdc582421f3cd4be845f0c98/gast-0.3.3-py2.py3-none-any.whl\n",
      "Collecting six~=1.15.0 (from tensorflow)\n",
      "  Downloading https://mirror.baidu.com/pypi/packages/ee/ff/48bde5c0f013094d729fe4b0316ba2a24774b3ff1c52d924a8a4cb04078a/six-1.15.0-py2.py3-none-any.whl\n",
      "Collecting future (from pyglet<=1.5.0,>=1.4.0->gym)\n",
      "Collecting google-auth<2,>=1.6.3 (from tensorboard~=2.4->tensorflow)\n",
      "\u001b[?25l  Downloading https://mirror.baidu.com/pypi/packages/3e/fd/df1b3a59aca9537a187413651ad63b290d165559150a868a298fa837fe7b/google_auth-1.24.0-py2.py3-none-any.whl (114kB)\n",
      "\u001b[K     |████████████████████████████████| 122kB 25.0MB/s eta 0:00:01\n",
      "\u001b[?25hCollecting tensorboard-plugin-wit>=1.6.0 (from tensorboard~=2.4->tensorflow)\n",
      "\u001b[?25l  Downloading https://mirror.baidu.com/pypi/packages/b6/85/5c5ac0a8c5efdfab916e9c6bc18963f6a6996a8a1e19ec4ad8c9ac9c623c/tensorboard_plugin_wit-1.7.0-py3-none-any.whl (779kB)\n",
      "\u001b[K     |████████████████████████████████| 788kB 14.4MB/s eta 0:00:01\n",
      "\u001b[?25hCollecting google-auth-oauthlib<0.5,>=0.4.1 (from tensorboard~=2.4->tensorflow)\n",
      "  Downloading https://mirror.baidu.com/pypi/packages/81/67/e2c34bb0628984c7ce71cce6ba6964cb29c418873847fc285f826e032e6e/google_auth_oauthlib-0.4.2-py2.py3-none-any.whl\n",
      "Collecting setuptools>=41.0.0 (from tensorboard~=2.4->tensorflow)\n",
      "\u001b[?25l  Downloading https://mirror.baidu.com/pypi/packages/3d/f2/1489d3b6c72d68bf79cd0fba6b6c7497df4ebf7d40970e2d7eceb8d0ea9c/setuptools-51.0.0-py3-none-any.whl (785kB)\n",
      "\u001b[K     |████████████████████████████████| 788kB 13.2MB/s eta 0:00:01\n",
      "\u001b[?25hCollecting markdown>=2.6.8 (from tensorboard~=2.4->tensorflow)\n",
      "\u001b[?25l  Downloading https://mirror.baidu.com/pypi/packages/ac/ef/24a91ca96efa0d7802dffb83ccc7a3c677027bea19ec3c9ee80be740408e/Markdown-3.3.3-py3-none-any.whl (96kB)\n",
      "\u001b[K     |████████████████████████████████| 102kB 14.4MB/s ta 0:00:01\n",
      "\u001b[?25hCollecting werkzeug>=0.11.15 (from tensorboard~=2.4->tensorflow)\n",
      "\u001b[?25l  Downloading https://mirror.baidu.com/pypi/packages/cc/94/5f7079a0e00bd6863ef8f1da638721e9da21e5bacee597595b318f71d62e/Werkzeug-1.0.1-py2.py3-none-any.whl (298kB)\n",
      "\u001b[K     |████████████████████████████████| 307kB 24.7MB/s eta 0:00:01\n",
      "\u001b[?25hCollecting requests<3,>=2.21.0 (from tensorboard~=2.4->tensorflow)\n",
      "\u001b[?25l  Downloading https://mirror.baidu.com/pypi/packages/29/c1/24814557f1d22c56d50280771a17307e6bf87b70727d975fd6b2ce6b014a/requests-2.25.1-py2.py3-none-any.whl (61kB)\n",
      "\u001b[K     |████████████████████████████████| 61kB 54.1MB/s eta 0:00:01\n",
      "\u001b[?25hCollecting rsa<5,>=3.1.4; python_version >= \"3.6\" (from google-auth<2,>=1.6.3->tensorboard~=2.4->tensorflow)\n",
      "\u001b[?25l  Downloading https://mirror.baidu.com/pypi/packages/1c/df/c3587a667d6b308fadc90b99e8bc8774788d033efcc70f4ecaae7fad144b/rsa-4.6-py3-none-any.whl (47kB)\n",
      "\u001b[K     |████████████████████████████████| 51kB 21.8MB/s eta 0:00:01\n",
      "\u001b[?25hCollecting cachetools<5.0,>=2.0.0 (from google-auth<2,>=1.6.3->tensorboard~=2.4->tensorflow)\n",
      "  Downloading https://mirror.baidu.com/pypi/packages/92/da/d3c94fc7c72ad9298072681ec3e8cea86949acc5c4cce4290ba21f7050a8/cachetools-4.2.0-py3-none-any.whl\n",
      "Collecting pyasn1-modules>=0.2.1 (from google-auth<2,>=1.6.3->tensorboard~=2.4->tensorflow)\n",
      "\u001b[?25l  Downloading https://mirror.baidu.com/pypi/packages/95/de/214830a981892a3e286c3794f41ae67a4495df1108c3da8a9f62159b9a9d/pyasn1_modules-0.2.8-py2.py3-none-any.whl (155kB)\n",
      "\u001b[K     |████████████████████████████████| 163kB 31.4MB/s eta 0:00:01\n",
      "\u001b[?25hCollecting requests-oauthlib>=0.7.0 (from google-auth-oauthlib<0.5,>=0.4.1->tensorboard~=2.4->tensorflow)\n",
      "  Downloading https://mirror.baidu.com/pypi/packages/a3/12/b92740d845ab62ea4edf04d2f4164d82532b5a0b03836d4d4e71c6f3d379/requests_oauthlib-1.3.0-py2.py3-none-any.whl\n",
      "Collecting importlib-metadata; python_version < \"3.8\" (from markdown>=2.6.8->tensorboard~=2.4->tensorflow)\n",
      "  Downloading https://mirror.baidu.com/pypi/packages/7a/85/ac225e35048e050a6351b6f1251cdb2b6060092f2c6840aff1d6319941b1/importlib_metadata-3.3.0-py3-none-any.whl\n",
      "Collecting chardet<5,>=3.0.2 (from requests<3,>=2.21.0->tensorboard~=2.4->tensorflow)\n",
      "\u001b[?25l  Downloading https://mirror.baidu.com/pypi/packages/19/c7/fa589626997dd07bd87d9269342ccb74b1720384a4d739a1872bd84fbe68/chardet-4.0.0-py2.py3-none-any.whl (178kB)\n",
      "\u001b[K     |████████████████████████████████| 184kB 25.7MB/s eta 0:00:01\n",
      "\u001b[?25hCollecting idna<3,>=2.5 (from requests<3,>=2.21.0->tensorboard~=2.4->tensorflow)\n",
      "\u001b[?25l  Downloading https://mirror.baidu.com/pypi/packages/a2/38/928ddce2273eaa564f6f50de919327bf3a00f091b5baba8dfa9460f3a8a8/idna-2.10-py2.py3-none-any.whl (58kB)\n",
      "\u001b[K     |████████████████████████████████| 61kB 15.9MB/s eta 0:00:01\n",
      "\u001b[?25hCollecting certifi>=2017.4.17 (from requests<3,>=2.21.0->tensorboard~=2.4->tensorflow)\n",
      "\u001b[?25l  Downloading https://mirror.baidu.com/pypi/packages/5e/a0/5f06e1e1d463903cf0c0eebeb751791119ed7a4b3737fdc9a77f1cdfb51f/certifi-2020.12.5-py2.py3-none-any.whl (147kB)\n",
      "\u001b[K     |████████████████████████████████| 153kB 72.5MB/s eta 0:00:01\n",
      "\u001b[?25hCollecting urllib3<1.27,>=1.21.1 (from requests<3,>=2.21.0->tensorboard~=2.4->tensorflow)\n",
      "\u001b[?25l  Downloading https://mirror.baidu.com/pypi/packages/f5/71/45d36a8df68f3ebb098d6861b2c017f3d094538c0fb98fa61d4dc43e69b9/urllib3-1.26.2-py2.py3-none-any.whl (136kB)\n",
      "\u001b[K     |████████████████████████████████| 143kB 76.1MB/s eta 0:00:01\n",
      "\u001b[?25hCollecting pyasn1>=0.1.3 (from rsa<5,>=3.1.4; python_version >= \"3.6\"->google-auth<2,>=1.6.3->tensorboard~=2.4->tensorflow)\n",
      "\u001b[?25l  Downloading https://mirror.baidu.com/pypi/packages/62/1e/a94a8d635fa3ce4cfc7f506003548d0a2447ae76fd5ca53932970fe3053f/pyasn1-0.4.8-py2.py3-none-any.whl (77kB)\n",
      "\u001b[K     |████████████████████████████████| 81kB 28.2MB/s eta 0:00:01\n",
      "\u001b[?25hCollecting oauthlib>=3.0.0 (from requests-oauthlib>=0.7.0->google-auth-oauthlib<0.5,>=0.4.1->tensorboard~=2.4->tensorflow)\n",
      "\u001b[?25l  Downloading https://mirror.baidu.com/pypi/packages/05/57/ce2e7a8fa7c0afb54a0581b14a65b56e62b5759dbc98e80627142b8a3704/oauthlib-3.1.0-py2.py3-none-any.whl (147kB)\n",
      "\u001b[K     |████████████████████████████████| 153kB 30.4MB/s eta 0:00:01\n",
      "\u001b[?25hCollecting zipp>=0.5 (from importlib-metadata; python_version < \"3.8\"->markdown>=2.6.8->tensorboard~=2.4->tensorflow)\n",
      "  Downloading https://mirror.baidu.com/pypi/packages/41/ad/6a4f1a124b325618a7fb758b885b68ff7b058eec47d9220a12ab38d90b1f/zipp-3.4.0-py3-none-any.whl\n",
      "Building wheels for collected packages: termcolor, wrapt\n",
      "  Building wheel for termcolor (setup.py) ... \u001b[?25ldone\n",
      "\u001b[?25h  Created wheel for termcolor: filename=termcolor-1.1.0-cp37-none-any.whl size=4832 sha256=f76251b7057a944029d3539b51a12ceb9678c3696e7c55fbfdb3d41d0222acb7\n",
      "  Stored in directory: /home/aistudio/.cache/pip/wheels/c6/04/ea/438b94ff40f8d0b3da6e150f89e3305c24c0e4b70b72601fcb\n",
      "  Building wheel for wrapt (setup.py) ... \u001b[?25ldone\n",
      "\u001b[?25h  Created wheel for wrapt: filename=wrapt-1.12.1-cp37-cp37m-linux_x86_64.whl size=71025 sha256=c5cd7a4f84b3f26c0fae7697d3389d5b0f119b5a94ac1410578d030e022974b7\n",
      "  Stored in directory: /home/aistudio/.cache/pip/wheels/88/e5/d4/9755086996a32e758b14cd264604f474d5e2139dd98a9f1ecf\n",
      "Successfully built termcolor wrapt\n",
      "\u001b[31mERROR: parl 1.3.2 has requirement cloudpickle==1.2.1, but you'll have cloudpickle 1.6.0 which is incompatible.\u001b[0m\n",
      "\u001b[31mERROR: parl 1.3.2 has requirement pyarrow==0.13.0, but you'll have pyarrow 2.0.0 which is incompatible.\u001b[0m\n",
      "\u001b[31mERROR: paddlehub 1.6.0 has requirement chardet==3.0.4, but you'll have chardet 4.0.0 which is incompatible.\u001b[0m\n",
      "Installing collected packages: cloudpickle, numpy, Pillow, future, pyglet, scipy, gym, pytz, six, python-dateutil, pandas, google-pasta, typing-extensions, pyasn1, rsa, cachetools, setuptools, pyasn1-modules, google-auth, grpcio, tensorboard-plugin-wit, wheel, chardet, idna, certifi, urllib3, requests, oauthlib, requests-oauthlib, google-auth-oauthlib, protobuf, zipp, importlib-metadata, markdown, werkzeug, absl-py, tensorboard, astunparse, termcolor, keras-preprocessing, wrapt, tensorflow-estimator, h5py, opt-einsum, flatbuffers, gast, tensorflow, boardgame2\n",
      "Successfully installed Pillow-7.2.0 absl-py-0.11.0 astunparse-1.6.3 boardgame2-0.0.5 cachetools-4.2.0 certifi-2020.12.5 chardet-4.0.0 cloudpickle-1.6.0 flatbuffers-1.12 future-0.18.2 gast-0.3.3 google-auth-1.24.0 google-auth-oauthlib-0.4.2 google-pasta-0.2.0 grpcio-1.32.0 gym-0.18.0 h5py-2.10.0 idna-2.10 importlib-metadata-3.3.0 keras-preprocessing-1.1.2 markdown-3.3.3 numpy-1.19.4 oauthlib-3.1.0 opt-einsum-3.3.0 pandas-1.1.5 protobuf-3.14.0 pyasn1-0.4.8 pyasn1-modules-0.2.8 pyglet-1.5.0 python-dateutil-2.8.1 pytz-2020.4 requests-2.25.1 requests-oauthlib-1.3.0 rsa-4.6 scipy-1.5.4 setuptools-51.0.0 six-1.15.0 tensorboard-2.4.0 tensorboard-plugin-wit-1.7.0 tensorflow-2.4.0 tensorflow-estimator-2.4.0 termcolor-1.1.0 typing-extensions-3.7.4.3 urllib3-1.26.2 werkzeug-1.0.1 wheel-0.36.2 wrapt-1.12.1 zipp-3.4.0\n",
      "\u001b[33mWARNING: Target directory /home/aistudio/external-libraries/cloudpickle already exists. Specify --upgrade to force replacement.\u001b[0m\n",
      "\u001b[33mWARNING: Target directory /home/aistudio/external-libraries/pytz already exists. Specify --upgrade to force replacement.\u001b[0m\n",
      "\u001b[33mWARNING: Target directory /home/aistudio/external-libraries/past already exists. Specify --upgrade to force replacement.\u001b[0m\n",
      "\u001b[33mWARNING: Target directory /home/aistudio/external-libraries/libfuturize already exists. Specify --upgrade to force replacement.\u001b[0m\n",
      "\u001b[33mWARNING: Target directory /home/aistudio/external-libraries/numpy already exists. Specify --upgrade to force replacement.\u001b[0m\n",
      "\u001b[33mWARNING: Target directory /home/aistudio/external-libraries/dateutil already exists. Specify --upgrade to force replacement.\u001b[0m\n",
      "\u001b[33mWARNING: Target directory /home/aistudio/external-libraries/python_dateutil-2.8.1.dist-info already exists. Specify --upgrade to force replacement.\u001b[0m\n",
      "\u001b[33mWARNING: Target directory /home/aistudio/external-libraries/scipy.libs already exists. Specify --upgrade to force replacement.\u001b[0m\n",
      "\u001b[33mWARNING: Target directory /home/aistudio/external-libraries/pandas-1.1.5.dist-info already exists. Specify --upgrade to force replacement.\u001b[0m\n",
      "\u001b[33mWARNING: Target directory /home/aistudio/external-libraries/cloudpickle-1.6.0.dist-info already exists. Specify --upgrade to force replacement.\u001b[0m\n",
      "\u001b[33mWARNING: Target directory /home/aistudio/external-libraries/six-1.15.0.dist-info already exists. Specify --upgrade to force replacement.\u001b[0m\n",
      "\u001b[33mWARNING: Target directory /home/aistudio/external-libraries/scipy already exists. Specify --upgrade to force replacement.\u001b[0m\n",
      "\u001b[33mWARNING: Target directory /home/aistudio/external-libraries/libpasteurize already exists. Specify --upgrade to force replacement.\u001b[0m\n",
      "\u001b[33mWARNING: Target directory /home/aistudio/external-libraries/numpy-1.19.4.dist-info already exists. Specify --upgrade to force replacement.\u001b[0m\n",
      "\u001b[33mWARNING: Target directory /home/aistudio/external-libraries/pytz-2020.4.dist-info already exists. Specify --upgrade to force replacement.\u001b[0m\n",
      "\u001b[33mWARNING: Target directory /home/aistudio/external-libraries/PIL already exists. Specify --upgrade to force replacement.\u001b[0m\n",
      "\u001b[33mWARNING: Target directory /home/aistudio/external-libraries/__pycache__ already exists. Specify --upgrade to force replacement.\u001b[0m\n",
      "\u001b[33mWARNING: Target directory /home/aistudio/external-libraries/gym already exists. Specify --upgrade to force replacement.\u001b[0m\n",
      "\u001b[33mWARNING: Target directory /home/aistudio/external-libraries/six.py already exists. Specify --upgrade to force replacement.\u001b[0m\n",
      "\u001b[33mWARNING: Target directory /home/aistudio/external-libraries/future already exists. Specify --upgrade to force replacement.\u001b[0m\n",
      "\u001b[33mWARNING: Target directory /home/aistudio/external-libraries/scipy-1.5.4.dist-info already exists. Specify --upgrade to force replacement.\u001b[0m\n",
      "\u001b[33mWARNING: Target directory /home/aistudio/external-libraries/future-0.18.2.dist-info already exists. Specify --upgrade to force replacement.\u001b[0m\n",
      "\u001b[33mWARNING: Target directory /home/aistudio/external-libraries/pandas already exists. Specify --upgrade to force replacement.\u001b[0m\n",
      "\u001b[33mWARNING: Target directory /home/aistudio/external-libraries/pyglet-1.5.0.dist-info already exists. Specify --upgrade to force replacement.\u001b[0m\n",
      "\u001b[33mWARNING: Target directory /home/aistudio/external-libraries/Pillow-7.2.0.dist-info already exists. Specify --upgrade to force replacement.\u001b[0m\n",
      "\u001b[33mWARNING: Target directory /home/aistudio/external-libraries/pyglet already exists. Specify --upgrade to force replacement.\u001b[0m\n",
      "\u001b[33mWARNING: Target directory /home/aistudio/external-libraries/Pillow.libs already exists. Specify --upgrade to force replacement.\u001b[0m\n",
      "\u001b[33mWARNING: Target directory /home/aistudio/external-libraries/numpy.libs already exists. Specify --upgrade to force replacement.\u001b[0m\n",
      "\u001b[33mWARNING: Target directory /home/aistudio/external-libraries/gym-0.18.0.dist-info already exists. Specify --upgrade to force replacement.\u001b[0m\n",
      "\u001b[33mWARNING: Target directory /home/aistudio/external-libraries/bin already exists. Specify --upgrade to force replacement.\u001b[0m\n"
     ]
    }
   ],
   "source": [
    "!pip install gym pandas numpy tensorflow boardgame2 -t /home/aistudio/external-libraries"
   ]
  },
  {
   "cell_type": "code",
   "execution_count": 5,
   "metadata": {
    "collapsed": false
   },
   "outputs": [],
   "source": [
    "import sys \r\n",
    "sys.path.append('/home/aistudio/external-libraries')"
   ]
  },
  {
   "cell_type": "code",
   "execution_count": 6,
   "metadata": {
    "collapsed": false
   },
   "outputs": [
    {
     "name": "stdout",
     "output_type": "stream",
     "text": [
      "Cannot run import tensorflow because of system compatibility. AI Studio prepared an entire environment based on PaddlePaddle already. Please use PaddlePaddle to build your own model or application.\n"
     ]
    }
   ],
   "source": [
    "import sys\r\n",
    "import math \r\n",
    "import itertools \r\n",
    "import collections\r\n",
    "import logging\r\n",
    "#No need to install above. It comes with python.\r\n",
    "\r\n",
    "import numpy as np\r\n",
    "import pandas as pd\r\n",
    "import gym\r\n",
    "import tensorflow as tf\r\n",
    "from tensorflow import keras\r\n",
    "\r\n",
    "import boardgame2\r\n",
    "from boardgame2 import BLACK, WHITE\r\n",
    "\r\n",
    "logging.basicConfig(stream=sys.stdout, level=logging.DEBUG,\r\n",
    "        format='%(asctime)s [%(levelname)s] %(message)s')"
   ]
  },
  {
   "cell_type": "markdown",
   "metadata": {
    "collapsed": false
   },
   "source": [
    "https://blog.csdn.net/wws_2017/article/details/105443587"
   ]
  },
  {
   "cell_type": "code",
   "execution_count": null,
   "metadata": {
    "collapsed": false
   },
   "outputs": [],
   "source": [
    "!conda install tensorflow boardgame2 -t /home/aistudio/external-libraries"
   ]
  }
 ],
 "metadata": {
  "kernelspec": {
   "display_name": "PaddlePaddle 2.0.0b0 (Python 3.5)",
   "language": "python",
   "name": "py35-paddle1.2.0"
  },
  "language_info": {
   "codemirror_mode": {
    "name": "ipython",
    "version": 3
   },
   "file_extension": ".py",
   "mimetype": "text/x-python",
   "name": "python",
   "nbconvert_exporter": "python",
   "pygments_lexer": "ipython3",
   "version": "3.7.4"
  }
 },
 "nbformat": 4,
 "nbformat_minor": 1
}
