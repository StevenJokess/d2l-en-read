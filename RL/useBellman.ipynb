{
 "cells": [
  {
   "source": [
    "https://github.com/ZhiqingXiao/rl-book/blob/master/chapter02_mdp/useBellman.ipynb"
   ],
   "cell_type": "markdown",
   "metadata": {}
  },
  {
   "cell_type": "code",
   "execution_count": 1,
   "metadata": {
    "collapsed": false
   },
   "outputs": [
    {
     "name": "stdout",
     "output_type": "stream",
     "text": [
      "Looking in indexes: https://mirror.baidu.com/pypi/simple/\n",
      "Collecting gym\n",
      "Collecting sympy\n",
      "\u001b[?25l  Downloading https://mirror.baidu.com/pypi/packages/ff/69/b16fc81b939d3efdd0b552f2e3e54f7fa1423d0c320cced2e69e675dde26/sympy-1.7.1-py3-none-any.whl (5.9MB)\n",
      "\u001b[K     |████████████████████████████████| 5.9MB 13.1MB/s eta 0:00:01\n",
      "\u001b[?25hCollecting Pillow<=7.2.0 (from gym)\n",
      "\u001b[?25l  Downloading https://mirror.baidu.com/pypi/packages/e8/f2/6722dd0c22e3a143ac792ccb2424924ac72af4adea756b1165b4cad50da7/Pillow-7.2.0-cp37-cp37m-manylinux1_x86_64.whl (2.2MB)\n",
      "\u001b[K     |████████████████████████████████| 2.2MB 12.5MB/s eta 0:00:01     |█████████▉                      | 675kB 12.5MB/s eta 0:00:01\n",
      "\u001b[?25hCollecting scipy (from gym)\n",
      "\u001b[?25l  Downloading https://mirror.baidu.com/pypi/packages/dc/7e/8f6a79b102ca1ea928bae8998b05bf5dc24a90571db13cd119f275ba6252/scipy-1.5.4-cp37-cp37m-manylinux1_x86_64.whl (25.9MB)\n",
      "\u001b[K     |████████████████████████████████| 25.9MB 8.5MB/s eta 0:00:011    |███████████                     | 9.0MB 25.1MB/s eta 0:00:01\n",
      "\u001b[?25hCollecting pyglet<=1.5.0,>=1.4.0 (from gym)\n",
      "\u001b[?25l  Downloading https://mirror.baidu.com/pypi/packages/70/ca/20aee170afe6011e295e34b27ad7d7ccd795faba581dd3c6f7cec237f561/pyglet-1.5.0-py2.py3-none-any.whl (1.0MB)\n",
      "\u001b[K     |████████████████████████████████| 1.0MB 15.1MB/s eta 0:00:01\n",
      "\u001b[?25hCollecting numpy>=1.10.4 (from gym)\n",
      "\u001b[?25l  Downloading https://mirror.baidu.com/pypi/packages/a5/bb/87d668b353848b93baab0a64cddf6408c40717f099539668c3d26fe39f7e/numpy-1.19.4-cp37-cp37m-manylinux2010_x86_64.whl (14.5MB)\n",
      "\u001b[K     |████████████████████████████████| 14.5MB 9.3MB/s eta 0:00:011    |███████████▍                    | 5.2MB 20.5MB/s eta 0:00:01\n",
      "\u001b[?25hCollecting cloudpickle<1.7.0,>=1.2.0 (from gym)\n",
      "  Downloading https://mirror.baidu.com/pypi/packages/e7/e3/898487e5dbeb612054cf2e0c188463acb358167fef749c53c8bb8918cea1/cloudpickle-1.6.0-py3-none-any.whl\n",
      "Collecting mpmath>=0.19 (from sympy)\n",
      "\u001b[?25l  Downloading https://mirror.baidu.com/pypi/packages/ca/63/3384ebb3b51af9610086b23ea976e6d27d6d97bf140a76a365bd77a3eb32/mpmath-1.1.0.tar.gz (512kB)\n",
      "\u001b[K     |████████████████████████████████| 522kB 14.3MB/s eta 0:00:01\n",
      "\u001b[?25hCollecting future (from pyglet<=1.5.0,>=1.4.0->gym)\n",
      "Building wheels for collected packages: mpmath\n",
      "  Building wheel for mpmath (setup.py) ... \u001b[?25ldone\n",
      "\u001b[?25h  Created wheel for mpmath: filename=mpmath-1.1.0-cp37-none-any.whl size=532240 sha256=22d97fde2203c65024bbfb98c491387d25d86861016896df4fb0547dea078d97\n",
      "  Stored in directory: /home/aistudio/.cache/pip/wheels/c6/1e/5e/373186902ef771162067c9a78c4394535839a8e82ca874fea0\n",
      "Successfully built mpmath\n",
      "\u001b[31mERROR: xarray 0.16.2 has requirement pandas>=0.25, but you'll have pandas 0.23.4 which is incompatible.\u001b[0m\n",
      "\u001b[31mERROR: parl 1.3.2 has requirement cloudpickle==1.2.1, but you'll have cloudpickle 1.6.0 which is incompatible.\u001b[0m\n",
      "\u001b[31mERROR: parl 1.3.2 has requirement pyarrow==0.13.0, but you'll have pyarrow 2.0.0 which is incompatible.\u001b[0m\n",
      "Installing collected packages: Pillow, numpy, scipy, future, pyglet, cloudpickle, gym, mpmath, sympy\n",
      "Successfully installed Pillow-7.2.0 cloudpickle-1.6.0 future-0.18.2 gym-0.18.0 mpmath-1.1.0 numpy-1.19.4 pyglet-1.5.0 scipy-1.5.4 sympy-1.7.1\n",
      "\u001b[33mWARNING: Target directory /home/aistudio/external-libraries/cloudpickle already exists. Specify --upgrade to force replacement.\u001b[0m\n",
      "\u001b[33mWARNING: Target directory /home/aistudio/external-libraries/past already exists. Specify --upgrade to force replacement.\u001b[0m\n",
      "\u001b[33mWARNING: Target directory /home/aistudio/external-libraries/libfuturize already exists. Specify --upgrade to force replacement.\u001b[0m\n",
      "\u001b[33mWARNING: Target directory /home/aistudio/external-libraries/numpy already exists. Specify --upgrade to force replacement.\u001b[0m\n",
      "\u001b[33mWARNING: Target directory /home/aistudio/external-libraries/scipy.libs already exists. Specify --upgrade to force replacement.\u001b[0m\n",
      "\u001b[33mWARNING: Target directory /home/aistudio/external-libraries/cloudpickle-1.6.0.dist-info already exists. Specify --upgrade to force replacement.\u001b[0m\n",
      "\u001b[33mWARNING: Target directory /home/aistudio/external-libraries/scipy already exists. Specify --upgrade to force replacement.\u001b[0m\n",
      "\u001b[33mWARNING: Target directory /home/aistudio/external-libraries/libpasteurize already exists. Specify --upgrade to force replacement.\u001b[0m\n",
      "\u001b[33mWARNING: Target directory /home/aistudio/external-libraries/numpy-1.19.4.dist-info already exists. Specify --upgrade to force replacement.\u001b[0m\n",
      "\u001b[33mWARNING: Target directory /home/aistudio/external-libraries/PIL already exists. Specify --upgrade to force replacement.\u001b[0m\n",
      "\u001b[33mWARNING: Target directory /home/aistudio/external-libraries/__pycache__ already exists. Specify --upgrade to force replacement.\u001b[0m\n",
      "\u001b[33mWARNING: Target directory /home/aistudio/external-libraries/gym already exists. Specify --upgrade to force replacement.\u001b[0m\n",
      "\u001b[33mWARNING: Target directory /home/aistudio/external-libraries/future already exists. Specify --upgrade to force replacement.\u001b[0m\n",
      "\u001b[33mWARNING: Target directory /home/aistudio/external-libraries/scipy-1.5.4.dist-info already exists. Specify --upgrade to force replacement.\u001b[0m\n",
      "\u001b[33mWARNING: Target directory /home/aistudio/external-libraries/future-0.18.2.dist-info already exists. Specify --upgrade to force replacement.\u001b[0m\n",
      "\u001b[33mWARNING: Target directory /home/aistudio/external-libraries/pyglet-1.5.0.dist-info already exists. Specify --upgrade to force replacement.\u001b[0m\n",
      "\u001b[33mWARNING: Target directory /home/aistudio/external-libraries/Pillow-7.2.0.dist-info already exists. Specify --upgrade to force replacement.\u001b[0m\n",
      "\u001b[33mWARNING: Target directory /home/aistudio/external-libraries/pyglet already exists. Specify --upgrade to force replacement.\u001b[0m\n",
      "\u001b[33mWARNING: Target directory /home/aistudio/external-libraries/Pillow.libs already exists. Specify --upgrade to force replacement.\u001b[0m\n",
      "\u001b[33mWARNING: Target directory /home/aistudio/external-libraries/numpy.libs already exists. Specify --upgrade to force replacement.\u001b[0m\n",
      "\u001b[33mWARNING: Target directory /home/aistudio/external-libraries/gym-0.18.0.dist-info already exists. Specify --upgrade to force replacement.\u001b[0m\n",
      "\u001b[33mWARNING: Target directory /home/aistudio/external-libraries/bin already exists. Specify --upgrade to force replacement.\u001b[0m\n"
     ]
    }
   ],
   "source": [
    "!pip install gym sympy -t /home/aistudio/external-libraries"
   ]
  },
  {
   "cell_type": "code",
   "execution_count": 2,
   "metadata": {
    "collapsed": false
   },
   "outputs": [],
   "source": [
    "import sys \r\n",
    "sys.path.append('/home/aistudio/external-libraries')"
   ]
  },
  {
   "cell_type": "code",
   "execution_count": 3,
   "metadata": {
    "collapsed": false
   },
   "outputs": [],
   "source": [
    "import sympy\r\n",
    "from sympy import symbols\r\n",
    "sympy.init_printing()"
   ]
  },
  {
   "cell_type": "code",
   "execution_count": 4,
   "metadata": {
    "collapsed": false
   },
   "outputs": [
    {
     "ename": "NameError",
     "evalue": "name 'x' is not defined",
     "output_type": "error",
     "traceback": [
      "\u001b[0;31m---------------------------------------------------------------------------\u001b[0m",
      "\u001b[0;31mNameError\u001b[0m                                 Traceback (most recent call last)",
      "\u001b[0;32m<ipython-input-4-df1760c354c1>\u001b[0m in \u001b[0;36m<module>\u001b[0;34m\u001b[0m\n\u001b[1;32m      1\u001b[0m system = sympy.Matrix((\n\u001b[0;32m----> 2\u001b[0;31m         \u001b[0;34m(\u001b[0m\u001b[0;36m1\u001b[0m\u001b[0;34m,\u001b[0m \u001b[0;36m0\u001b[0m\u001b[0;34m,\u001b[0m \u001b[0mx\u001b[0m\u001b[0;34m-\u001b[0m\u001b[0;36m1\u001b[0m\u001b[0;34m,\u001b[0m \u001b[0;34m-\u001b[0m\u001b[0mx\u001b[0m\u001b[0;34m,\u001b[0m \u001b[0;36m0\u001b[0m\u001b[0;34m,\u001b[0m \u001b[0;36m0\u001b[0m\u001b[0;34m,\u001b[0m \u001b[0;36m0\u001b[0m\u001b[0;34m)\u001b[0m\u001b[0;34m,\u001b[0m\u001b[0;34m\u001b[0m\u001b[0;34m\u001b[0m\u001b[0m\n\u001b[0m\u001b[1;32m      3\u001b[0m         \u001b[0;34m(\u001b[0m\u001b[0;36m0\u001b[0m\u001b[0;34m,\u001b[0m \u001b[0;36m1\u001b[0m\u001b[0;34m,\u001b[0m \u001b[0;36m0\u001b[0m\u001b[0;34m,\u001b[0m \u001b[0;36m0\u001b[0m\u001b[0;34m,\u001b[0m \u001b[0;34m-\u001b[0m\u001b[0my\u001b[0m\u001b[0;34m,\u001b[0m \u001b[0my\u001b[0m\u001b[0;34m-\u001b[0m\u001b[0;36m1\u001b[0m\u001b[0;34m,\u001b[0m \u001b[0;36m0\u001b[0m\u001b[0;34m)\u001b[0m\u001b[0;34m,\u001b[0m\u001b[0;34m\u001b[0m\u001b[0;34m\u001b[0m\u001b[0m\n\u001b[1;32m      4\u001b[0m         \u001b[0;34m(\u001b[0m\u001b[0;34m-\u001b[0m\u001b[0mgamma\u001b[0m\u001b[0;34m,\u001b[0m \u001b[0;36m0\u001b[0m\u001b[0;34m,\u001b[0m \u001b[0;36m1\u001b[0m\u001b[0;34m,\u001b[0m \u001b[0;36m0\u001b[0m\u001b[0;34m,\u001b[0m \u001b[0;36m0\u001b[0m\u001b[0;34m,\u001b[0m \u001b[0;36m0\u001b[0m\u001b[0;34m,\u001b[0m \u001b[0;34m-\u001b[0m\u001b[0;36m2\u001b[0m\u001b[0;34m)\u001b[0m\u001b[0;34m,\u001b[0m\u001b[0;34m\u001b[0m\u001b[0;34m\u001b[0m\u001b[0m\n\u001b[1;32m      5\u001b[0m         \u001b[0;34m(\u001b[0m\u001b[0;34m(\u001b[0m\u001b[0malpha\u001b[0m\u001b[0;34m-\u001b[0m\u001b[0;36m1\u001b[0m\u001b[0;34m)\u001b[0m\u001b[0;34m*\u001b[0m\u001b[0mgamma\u001b[0m\u001b[0;34m,\u001b[0m \u001b[0;34m-\u001b[0m\u001b[0malpha\u001b[0m\u001b[0;34m*\u001b[0m\u001b[0mgamma\u001b[0m\u001b[0;34m,\u001b[0m \u001b[0;36m0\u001b[0m\u001b[0;34m,\u001b[0m \u001b[0;36m1\u001b[0m\u001b[0;34m,\u001b[0m \u001b[0;36m0\u001b[0m\u001b[0;34m,\u001b[0m \u001b[0;36m0\u001b[0m\u001b[0;34m,\u001b[0m \u001b[0;36m4\u001b[0m\u001b[0;34m*\u001b[0m\u001b[0malpha\u001b[0m\u001b[0;34m-\u001b[0m\u001b[0;36m3\u001b[0m\u001b[0;34m)\u001b[0m\u001b[0;34m,\u001b[0m\u001b[0;34m\u001b[0m\u001b[0;34m\u001b[0m\u001b[0m\n",
      "\u001b[0;31mNameError\u001b[0m: name 'x' is not defined"
     ]
    }
   ],
   "source": [
    "system = sympy.Matrix((\r\n",
    "        (1, 0, x-1, -x, 0, 0, 0),\r\n",
    "        (0, 1, 0, 0, -y, y-1, 0),\r\n",
    "        (-gamma, 0, 1, 0, 0, 0, -2),\r\n",
    "        ((alpha-1)*gamma, -alpha*gamma, 0, 1, 0, 0, 4*alpha-3),\r\n",
    "        (-beta*gamma, (beta-1)*gamma, 0, 0, 1, 0, -4*beta+2),\r\n",
    "        (0, -gamma, 0, 0, 0, 1, 1) ))\r\n",
    "sympy.solve_linear_system(system,\r\n",
    "        v_hungry, v_full,\r\n",
    "        q_hungry_none, q_hungry_eat, q_full_none, q_full_eat)"
   ]
  },
  {
   "cell_type": "code",
   "execution_count": 5,
   "metadata": {
    "collapsed": false
   },
   "outputs": [],
   "source": [
    "v_hungry, v_full = symbols('v_hungry v_full')\r\n",
    "q_hungry_eat, q_hungry_none, q_full_eat, q_full_none = \\\r\n",
    "        symbols('q_hungry_eat q_hungry_none q_full_eat q_full_none')\r\n",
    "alpha, beta, gamma = symbols('alpha beta gamma')\r\n",
    "x, y = symbols('x y')"
   ]
  },
  {
   "cell_type": "code",
   "execution_count": 6,
   "metadata": {
    "collapsed": false
   },
   "outputs": [
    {
     "data": {
      "image/png": "[encoded data removed]",
      "text/latex": [
       "$\\displaystyle \\left\\{ q_{full eat} : \\frac{- \\alpha \\gamma^{2} x y - \\alpha \\gamma x + \\beta \\gamma^{2} x y - \\beta \\gamma^{2} y + 3 \\beta \\gamma y + \\gamma^{2} y - \\gamma y + \\gamma - 1}{\\alpha \\gamma^{2} x - \\alpha \\gamma x + \\beta \\gamma^{2} y - \\beta \\gamma y - \\gamma^{2} + 2 \\gamma - 1}, \\  q_{full none} : \\frac{- \\alpha \\gamma^{2} x y + \\alpha \\gamma^{2} x - 2 \\alpha \\gamma x + \\beta \\gamma^{2} x y - \\beta \\gamma^{2} x - \\beta \\gamma^{2} y + \\beta \\gamma^{2} + \\beta \\gamma x + 3 \\beta \\gamma y - 5 \\beta \\gamma + 4 \\beta + \\gamma^{2} y - \\gamma^{2} - \\gamma y + 3 \\gamma - 2}{\\alpha \\gamma^{2} x - \\alpha \\gamma x + \\beta \\gamma^{2} y - \\beta \\gamma y - \\gamma^{2} + 2 \\gamma - 1}, \\  q_{hungry eat} : \\frac{- \\alpha \\gamma^{2} x y + \\alpha \\gamma^{2} x + \\alpha \\gamma^{2} y - \\alpha \\gamma^{2} - 2 \\alpha \\gamma x - \\alpha \\gamma y + 5 \\alpha \\gamma - 4 \\alpha + \\beta \\gamma^{2} x y - \\beta \\gamma^{2} y + 3 \\beta \\gamma y - \\gamma^{2} x + \\gamma^{2} + \\gamma x - 4 \\gamma + 3}{\\alpha \\gamma^{2} x - \\alpha \\gamma x + \\beta \\gamma^{2} y - \\beta \\gamma y - \\gamma^{2} + 2 \\gamma - 1}, \\  q_{hungry none} : \\frac{- \\alpha \\gamma^{2} x y + \\alpha \\gamma^{2} x - 2 \\alpha \\gamma x + \\beta \\gamma^{2} x y + 2 \\beta \\gamma y - \\gamma^{2} x + \\gamma x - 2 \\gamma + 2}{\\alpha \\gamma^{2} x - \\alpha \\gamma x + \\beta \\gamma^{2} y - \\beta \\gamma y - \\gamma^{2} + 2 \\gamma - 1}, \\  v_{full} : \\frac{- \\alpha \\gamma x y - \\alpha \\gamma x + \\beta \\gamma x y - 2 \\beta \\gamma y + 4 \\beta y + \\gamma y + \\gamma - y - 1}{\\alpha \\gamma^{2} x - \\alpha \\gamma x + \\beta \\gamma^{2} y - \\beta \\gamma y - \\gamma^{2} + 2 \\gamma - 1}, \\  v_{hungry} : \\frac{- \\alpha \\gamma x y + 3 \\alpha \\gamma x - 4 \\alpha x + \\beta \\gamma x y + 2 \\beta \\gamma y - \\gamma x - 2 \\gamma + x + 2}{\\alpha \\gamma^{2} x - \\alpha \\gamma x + \\beta \\gamma^{2} y - \\beta \\gamma y - \\gamma^{2} + 2 \\gamma - 1}\\right\\}$"
      ],
      "text/plain": [
       "⎧                 2                  2          2                2            \n",
       "⎪            - α⋅γ ⋅x⋅y - α⋅γ⋅x + β⋅γ ⋅x⋅y - β⋅γ ⋅y + 3⋅β⋅γ⋅y + γ ⋅y - γ⋅y + γ\n",
       "⎨q_full_eat: ─────────────────────────────────────────────────────────────────\n",
       "⎪                           2                2              2                 \n",
       "⎩                        α⋅γ ⋅x - α⋅γ⋅x + β⋅γ ⋅y - β⋅γ⋅y - γ  + 2⋅γ - 1       \n",
       "\n",
       "                        2          2                  2          2        2   \n",
       " - 1               - α⋅γ ⋅x⋅y + α⋅γ ⋅x - 2⋅α⋅γ⋅x + β⋅γ ⋅x⋅y - β⋅γ ⋅x - β⋅γ ⋅y \n",
       "────, q_full_none: ───────────────────────────────────────────────────────────\n",
       "                                                              2               \n",
       "                                                           α⋅γ ⋅x - α⋅γ⋅x + β⋅\n",
       "\n",
       "     2                                    2      2                            \n",
       "+ β⋅γ  + β⋅γ⋅x + 3⋅β⋅γ⋅y - 5⋅β⋅γ + 4⋅β + γ ⋅y - γ  - γ⋅y + 3⋅γ - 2            \n",
       "──────────────────────────────────────────────────────────────────, q_hungry_e\n",
       " 2              2                                                             \n",
       "γ ⋅y - β⋅γ⋅y - γ  + 2⋅γ - 1                                                   \n",
       "\n",
       "         2          2        2        2                                      2\n",
       "    - α⋅γ ⋅x⋅y + α⋅γ ⋅x + α⋅γ ⋅y - α⋅γ  - 2⋅α⋅γ⋅x - α⋅γ⋅y + 5⋅α⋅γ - 4⋅α + β⋅γ \n",
       "at: ──────────────────────────────────────────────────────────────────────────\n",
       "                                               2                2             \n",
       "                                            α⋅γ ⋅x - α⋅γ⋅x + β⋅γ ⋅y - β⋅γ⋅y - \n",
       "\n",
       "          2                2      2                                      2    \n",
       "⋅x⋅y - β⋅γ ⋅y + 3⋅β⋅γ⋅y - γ ⋅x + γ  + γ⋅x - 4⋅γ + 3                 - α⋅γ ⋅x⋅y\n",
       "───────────────────────────────────────────────────, q_hungry_none: ──────────\n",
       " 2                                                                            \n",
       "γ  + 2⋅γ - 1                                                                  \n",
       "\n",
       "      2                  2                  2                                 \n",
       " + α⋅γ ⋅x - 2⋅α⋅γ⋅x + β⋅γ ⋅x⋅y + 2⋅β⋅γ⋅y - γ ⋅x + γ⋅x - 2⋅γ + 2          -α⋅γ⋅\n",
       "───────────────────────────────────────────────────────────────, v_full: ─────\n",
       "       2                2              2                                      \n",
       "    α⋅γ ⋅x - α⋅γ⋅x + β⋅γ ⋅y - β⋅γ⋅y - γ  + 2⋅γ - 1                            \n",
       "\n",
       "                                                                              \n",
       "x⋅y - α⋅γ⋅x + β⋅γ⋅x⋅y - 2⋅β⋅γ⋅y + 4⋅β⋅y + γ⋅y + γ - y - 1            -α⋅γ⋅x⋅y \n",
       "─────────────────────────────────────────────────────────, v_hungry: ─────────\n",
       "      2                2              2                                       \n",
       "   α⋅γ ⋅x - α⋅γ⋅x + β⋅γ ⋅y - β⋅γ⋅y - γ  + 2⋅γ - 1                             \n",
       "\n",
       "                                                         ⎫\n",
       "+ 3⋅α⋅γ⋅x - 4⋅α⋅x + β⋅γ⋅x⋅y + 2⋅β⋅γ⋅y - γ⋅x - 2⋅γ + x + 2⎪\n",
       "─────────────────────────────────────────────────────────⎬\n",
       "    2                2              2                    ⎪\n",
       " α⋅γ ⋅x - α⋅γ⋅x + β⋅γ ⋅y - β⋅γ⋅y - γ  + 2⋅γ - 1          ⎭"
      ]
     },
     "execution_count": 6,
     "metadata": {},
     "output_type": "execute_result"
    }
   ],
   "source": [
    "system = sympy.Matrix((\r\n",
    "        (1, 0, x-1, -x, 0, 0, 0),\r\n",
    "        (0, 1, 0, 0, -y, y-1, 0),\r\n",
    "        (-gamma, 0, 1, 0, 0, 0, -2),\r\n",
    "        ((alpha-1)*gamma, -alpha*gamma, 0, 1, 0, 0, 4*alpha-3),\r\n",
    "        (-beta*gamma, (beta-1)*gamma, 0, 0, 1, 0, -4*beta+2),\r\n",
    "        (0, -gamma, 0, 0, 0, 1, 1) ))\r\n",
    "sympy.solve_linear_system(system,\r\n",
    "        v_hungry, v_full,\r\n",
    "        q_hungry_none, q_hungry_eat, q_full_none, q_full_eat)"
   ]
  },
  {
   "cell_type": "markdown",
   "metadata": {
    "collapsed": false
   },
   "source": [
    "## 求解 Bellman 最优方程"
   ]
  },
  {
   "cell_type": "code",
   "execution_count": 7,
   "metadata": {
    "collapsed": false
   },
   "outputs": [
    {
     "name": "stdout",
     "output_type": "stream",
     "text": [
      "==== v(饿) = q(饿,不吃), v(饱) = q(饱,吃) ==== x = 0, y = 0 ====\n",
      "==== v(饿) = q(饿,吃), v(饱) = q(饱,吃) ==== x = 1, y = 0 ====\n"
     ]
    },
    {
     "data": {
      "image/png": "[encoded data removed]",
      "text/latex": [
       "$\\displaystyle \\left\\{ q_{full eat} : - \\frac{1}{\\gamma - 1}, \\  q_{full none} : \\frac{- \\beta \\gamma + 4 \\beta + \\gamma - 2}{\\gamma - 1}, \\  q_{hungry eat} : \\frac{\\alpha \\gamma - 4 \\alpha - \\gamma + 3}{\\gamma - 1}, \\  q_{hungry none} : \\frac{2}{\\gamma - 1}, \\  v_{full} : - \\frac{1}{\\gamma - 1}, \\  v_{hungry} : \\frac{2}{\\gamma - 1}\\right\\}$"
      ],
      "text/plain": [
       "⎧             -1                 -β⋅γ + 4⋅β + γ - 2                α⋅γ - 4⋅α -\n",
       "⎨q_full_eat: ─────, q_full_none: ──────────────────, q_hungry_eat: ───────────\n",
       "⎩            γ - 1                     γ - 1                             γ - 1\n",
       "\n",
       " γ + 3                   2             -1                2  ⎫\n",
       "──────, q_hungry_none: ─────, v_full: ─────, v_hungry: ─────⎬\n",
       "                       γ - 1          γ - 1            γ - 1⎭"
      ]
     },
     "metadata": {},
     "output_type": "display_data"
    },
    {
     "data": {
      "image/png": "[encoded data removed]",
      "text/latex": [
       "$\\displaystyle \\left\\{ q_{full eat} : - \\frac{1}{\\gamma - 1}, \\  q_{full none} : \\frac{\\alpha \\gamma^{2} - 2 \\alpha \\gamma - 4 \\beta \\gamma + 4 \\beta - \\gamma^{2} + 3 \\gamma - 2}{\\alpha \\gamma^{2} - \\alpha \\gamma - \\gamma^{2} + 2 \\gamma - 1}, \\  q_{hungry eat} : \\frac{3 \\alpha \\gamma - 4 \\alpha - 3 \\gamma + 3}{\\alpha \\gamma^{2} - \\alpha \\gamma - \\gamma^{2} + 2 \\gamma - 1}, \\  q_{hungry none} : \\frac{\\alpha \\gamma^{2} - 2 \\alpha \\gamma - \\gamma^{2} - \\gamma + 2}{\\alpha \\gamma^{2} - \\alpha \\gamma - \\gamma^{2} + 2 \\gamma - 1}, \\  v_{full} : - \\frac{1}{\\gamma - 1}, \\  v_{hungry} : \\frac{3 \\alpha \\gamma - 4 \\alpha - 3 \\gamma + 3}{\\alpha \\gamma^{2} - \\alpha \\gamma - \\gamma^{2} + 2 \\gamma - 1}\\right\\}$"
      ],
      "text/plain": [
       "⎧                                   2                          2              \n",
       "⎪             -1                 α⋅γ  - 2⋅α⋅γ - 4⋅β⋅γ + 4⋅β - γ  + 3⋅γ - 2    \n",
       "⎨q_full_eat: ─────, q_full_none: ─────────────────────────────────────────, q_\n",
       "⎪            γ - 1                          2          2                      \n",
       "⎩                                        α⋅γ  - α⋅γ - γ  + 2⋅γ - 1            \n",
       "\n",
       "                                                         2            2       \n",
       "              3⋅α⋅γ - 4⋅α - 3⋅γ + 3                   α⋅γ  - 2⋅α⋅γ - γ  - γ + \n",
       "hungry_eat: ─────────────────────────, q_hungry_none: ────────────────────────\n",
       "               2          2                              2          2         \n",
       "            α⋅γ  - α⋅γ - γ  + 2⋅γ - 1                 α⋅γ  - α⋅γ - γ  + 2⋅γ - \n",
       "\n",
       "                                                     ⎫\n",
       "2           -1                3⋅α⋅γ - 4⋅α - 3⋅γ + 3  ⎪\n",
       "─, v_full: ─────, v_hungry: ─────────────────────────⎬\n",
       "           γ - 1               2          2          ⎪\n",
       "1                           α⋅γ  - α⋅γ - γ  + 2⋅γ - 1⎭"
      ]
     },
     "metadata": {},
     "output_type": "display_data"
    },
    {
     "name": "stdout",
     "output_type": "stream",
     "text": [
      "==== v(饿) = q(饿,不吃), v(饱) = q(饱,不吃) ==== x = 0, y = 1 ====\n"
     ]
    },
    {
     "data": {
      "image/png": "[encoded data removed]",
      "text/latex": [
       "$\\displaystyle \\left\\{ q_{full eat} : \\frac{- \\beta \\gamma^{2} + 3 \\beta \\gamma + \\gamma^{2} - 1}{\\beta \\gamma^{2} - \\beta \\gamma - \\gamma^{2} + 2 \\gamma - 1}, \\  q_{full none} : \\frac{- 2 \\beta \\gamma + 4 \\beta + 2 \\gamma - 2}{\\beta \\gamma^{2} - \\beta \\gamma - \\gamma^{2} + 2 \\gamma - 1}, \\  q_{hungry eat} : \\frac{4 \\alpha \\gamma - 4 \\alpha - \\beta \\gamma^{2} + 3 \\beta \\gamma + \\gamma^{2} - 4 \\gamma + 3}{\\beta \\gamma^{2} - \\beta \\gamma - \\gamma^{2} + 2 \\gamma - 1}, \\  q_{hungry none} : \\frac{2}{\\gamma - 1}, \\  v_{full} : \\frac{- 2 \\beta \\gamma + 4 \\beta + 2 \\gamma - 2}{\\beta \\gamma^{2} - \\beta \\gamma - \\gamma^{2} + 2 \\gamma - 1}, \\  v_{hungry} : \\frac{2}{\\gamma - 1}\\right\\}$"
      ],
      "text/plain": [
       "⎧                  2            2                                             \n",
       "⎪             - β⋅γ  + 3⋅β⋅γ + γ  - 1                  -2⋅β⋅γ + 4⋅β + 2⋅γ - 2 \n",
       "⎨q_full_eat: ─────────────────────────, q_full_none: ─────────────────────────\n",
       "⎪               2          2                            2          2          \n",
       "⎩            β⋅γ  - β⋅γ - γ  + 2⋅γ - 1               β⋅γ  - β⋅γ - γ  + 2⋅γ - 1\n",
       "\n",
       "                                 2            2                               \n",
       "                4⋅α⋅γ - 4⋅α - β⋅γ  + 3⋅β⋅γ + γ  - 4⋅γ + 3                   2 \n",
       ", q_hungry_eat: ─────────────────────────────────────────, q_hungry_none: ────\n",
       "                           2          2                                   γ - \n",
       "                        β⋅γ  - β⋅γ - γ  + 2⋅γ - 1                             \n",
       "\n",
       "                                                     ⎫\n",
       "             -2⋅β⋅γ + 4⋅β + 2⋅γ - 2               2  ⎪\n",
       "─, v_full: ─────────────────────────, v_hungry: ─────⎬\n",
       "1             2          2                      γ - 1⎪\n",
       "           β⋅γ  - β⋅γ - γ  + 2⋅γ - 1                 ⎭"
      ]
     },
     "metadata": {},
     "output_type": "display_data"
    },
    {
     "name": "stdout",
     "output_type": "stream",
     "text": [
      "==== v(饿) = q(饿,吃), v(饱) = q(饱,不吃) ==== x = 1, y = 1 ====\n"
     ]
    },
    {
     "data": {
      "image/png": "[encoded data removed]",
      "text/latex": [
       "$\\displaystyle \\left\\{ q_{full eat} : \\frac{- \\alpha \\gamma^{2} - \\alpha \\gamma + 3 \\beta \\gamma + \\gamma^{2} - 1}{\\alpha \\gamma^{2} - \\alpha \\gamma + \\beta \\gamma^{2} - \\beta \\gamma - \\gamma^{2} + 2 \\gamma - 1}, \\  q_{full none} : \\frac{- 2 \\alpha \\gamma - \\beta \\gamma + 4 \\beta + 2 \\gamma - 2}{\\alpha \\gamma^{2} - \\alpha \\gamma + \\beta \\gamma^{2} - \\beta \\gamma - \\gamma^{2} + 2 \\gamma - 1}, \\  q_{hungry eat} : \\frac{2 \\alpha \\gamma - 4 \\alpha + 3 \\beta \\gamma - 3 \\gamma + 3}{\\alpha \\gamma^{2} - \\alpha \\gamma + \\beta \\gamma^{2} - \\beta \\gamma - \\gamma^{2} + 2 \\gamma - 1}, \\  q_{hungry none} : \\frac{- 2 \\alpha \\gamma + \\beta \\gamma^{2} + 2 \\beta \\gamma - \\gamma^{2} - \\gamma + 2}{\\alpha \\gamma^{2} - \\alpha \\gamma + \\beta \\gamma^{2} - \\beta \\gamma - \\gamma^{2} + 2 \\gamma - 1}, \\  v_{full} : \\frac{- 2 \\alpha \\gamma - \\beta \\gamma + 4 \\beta + 2 \\gamma - 2}{\\alpha \\gamma^{2} - \\alpha \\gamma + \\beta \\gamma^{2} - \\beta \\gamma - \\gamma^{2} + 2 \\gamma - 1}, \\  v_{hungry} : \\frac{2 \\alpha \\gamma - 4 \\alpha + 3 \\beta \\gamma - 3 \\gamma + 3}{\\alpha \\gamma^{2} - \\alpha \\gamma + \\beta \\gamma^{2} - \\beta \\gamma - \\gamma^{2} + 2 \\gamma - 1}\\right\\}$"
      ],
      "text/plain": [
       "⎧                     2                  2                                    \n",
       "⎪                - α⋅γ  - α⋅γ + 3⋅β⋅γ + γ  - 1                         -2⋅α⋅γ \n",
       "⎨q_full_eat: ──────────────────────────────────────, q_full_none: ────────────\n",
       "⎪               2            2          2                            2        \n",
       "⎩            α⋅γ  - α⋅γ + β⋅γ  - β⋅γ - γ  + 2⋅γ - 1               α⋅γ  - α⋅γ +\n",
       "\n",
       "                                                                              \n",
       "- β⋅γ + 4⋅β + 2⋅γ - 2                         2⋅α⋅γ - 4⋅α + 3⋅β⋅γ - 3⋅γ + 3   \n",
       "──────────────────────────, q_hungry_eat: ────────────────────────────────────\n",
       "    2          2                             2            2          2        \n",
       " β⋅γ  - β⋅γ - γ  + 2⋅γ - 1                α⋅γ  - α⋅γ + β⋅γ  - β⋅γ - γ  + 2⋅γ -\n",
       "\n",
       "                                 2            2                               \n",
       "                     -2⋅α⋅γ + β⋅γ  + 2⋅β⋅γ - γ  - γ + 2                 -2⋅α⋅γ\n",
       "──, q_hungry_none: ──────────────────────────────────────, v_full: ───────────\n",
       "                      2            2          2                       2       \n",
       " 1                 α⋅γ  - α⋅γ + β⋅γ  - β⋅γ - γ  + 2⋅γ - 1          α⋅γ  - α⋅γ \n",
       "\n",
       "                                                                             ⎫\n",
       " - β⋅γ + 4⋅β + 2⋅γ - 2                     2⋅α⋅γ - 4⋅α + 3⋅β⋅γ - 3⋅γ + 3     ⎪\n",
       "───────────────────────────, v_hungry: ──────────────────────────────────────⎬\n",
       "     2          2                         2            2          2          ⎪\n",
       "+ β⋅γ  - β⋅γ - γ  + 2⋅γ - 1            α⋅γ  - α⋅γ + β⋅γ  - β⋅γ - γ  + 2⋅γ - 1⎭"
      ]
     },
     "metadata": {},
     "output_type": "display_data"
    }
   ],
   "source": [
    "xy_tuples = ((0, 0), (1, 0), (0, 1), (1, 1))\r\n",
    "for x, y in xy_tuples:\r\n",
    "    system = sympy.Matrix((\r\n",
    "            (1, 0, x-1, -x, 0, 0, 0),\r\n",
    "            (0, 1, 0, 0, -y, y-1, 0),\r\n",
    "            (-gamma, 0, 1, 0, 0, 0, -2),\r\n",
    "            ((alpha-1)*gamma, -alpha*gamma, 0, 1, 0, 0, 4*alpha-3),\r\n",
    "            (-beta*gamma, (beta-1)*gamma, 0, 0, 1, 0, -4*beta+2),\r\n",
    "            (0, -gamma, 0, 0, 0, 1, 1) ))\r\n",
    "    result = sympy.solve_linear_system(system,\r\n",
    "            v_hungry, v_full,\r\n",
    "            q_hungry_none, q_hungry_eat, q_full_none, q_full_eat, simplification=True)\r\n",
    "    msgx = 'v(饿) = q(饿,{}吃)'.format('' if x else '不')\r\n",
    "    msgy = 'v(饱) = q(饱,{}吃)'.format('不' if y else '')\r\n",
    "    print('==== {}, {} ==== x = {}, y = {} ===='.format(msgx, msgy, x, y))\r\n",
    "    display(result)"
   ]
  }
 ],
 "metadata": {
  "kernelspec": {
   "display_name": "PaddlePaddle 2.0.0b0 (Python 3.5)",
   "language": "python",
   "name": "py35-paddle1.2.0"
  },
  "language_info": {
   "codemirror_mode": {
    "name": "ipython",
    "version": 3
   },
   "file_extension": ".py",
   "mimetype": "text/x-python",
   "name": "python",
   "nbconvert_exporter": "python",
   "pygments_lexer": "ipython3",
   "version": "3.7.4"
  }
 },
 "nbformat": 4,
 "nbformat_minor": 1
}