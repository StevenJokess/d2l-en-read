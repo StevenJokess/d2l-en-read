{
 "cells": [
  {
   "cell_type": "code",
   "execution_count": 1,
   "metadata": {
    "collapsed": false
   },
   "outputs": [],
   "source": [
    "import sys \r\n",
    "sys.path.append('/home/aistudio/external-libraries')"
   ]
  },
  {
   "cell_type": "code",
   "execution_count": 2,
   "metadata": {
    "collapsed": false
   },
   "outputs": [],
   "source": [
    "import numpy as np\r\n",
    "np.random.seed(0)\r\n",
    "import gym"
   ]
  },
  {
   "cell_type": "code",
   "execution_count": 3,
   "metadata": {
    "collapsed": false
   },
   "outputs": [
    {
     "name": "stdout",
     "output_type": "stream",
     "text": [
      "观察空间 = Discrete(16)\n",
      "动作空间 = Discrete(4)\n",
      "观测空间大小 = 16\n",
      "动作空间大小 = 4\n"
     ]
    },
    {
     "data": {
      "text/plain": [
       "[(0.3333333333333333, 14, 0.0, False),\n",
       " (0.3333333333333333, 15, 1.0, True),\n",
       " (0.3333333333333333, 10, 0.0, False)]"
      ]
     },
     "execution_count": 3,
     "metadata": {},
     "output_type": "execute_result"
    }
   ],
   "source": [
    "env = gym.make('FrozenLake-v0')\r\n",
    "env.seed(0)\r\n",
    "print('观察空间 = {}'.format(env.observation_space))\r\n",
    "print('动作空间 = {}'.format(env.action_space))\r\n",
    "print('观测空间大小 = {}'.format(env.unwrapped.nS))\r\n",
    "print('动作空间大小 = {}'.format(env.unwrapped.nA))\r\n",
    "env.unwrapped.P[14][2] # 查看动力"
   ]
  },
  {
   "cell_type": "code",
   "execution_count": 4,
   "metadata": {
    "collapsed": false
   },
   "outputs": [],
   "source": [
    "def play_policy(env, policy, render=False):\r\n",
    "    total_reward = 0.\r\n",
    "    observation = env.reset()\r\n",
    "    while True:\r\n",
    "        if render:\r\n",
    "            env.render() # 此行可显示\r\n",
    "        action = np.random.choice(env.action_space.n,\r\n",
    "                p=policy[observation])\r\n",
    "        observation, reward, done, _ = env.step(action)\r\n",
    "        total_reward += reward  # 统计回合奖励\r\n",
    "        if done: # 游戏结束\r\n",
    "            break\r\n",
    "    return total_reward"
   ]
  },
  {
   "cell_type": "code",
   "execution_count": 5,
   "metadata": {
    "collapsed": false
   },
   "outputs": [
    {
     "name": "stdout",
     "output_type": "stream",
     "text": [
      "随机策略 平均奖励：0.04\n"
     ]
    }
   ],
   "source": [
    "# 随机策略\r\n",
    "random_policy = \\\r\n",
    "        np.ones((env.unwrapped.nS, env.unwrapped.nA)) / env.unwrapped.nA\r\n",
    "\r\n",
    "episode_rewards = [play_policy(env, random_policy)  for _ in range(100)]\r\n",
    "print(\"随机策略 平均奖励：{}\".format(np.mean(episode_rewards)))"
   ]
  },
  {
   "cell_type": "code",
   "execution_count": 6,
   "metadata": {
    "collapsed": false
   },
   "outputs": [],
   "source": [
    "def v2q(env, v, s=None, gamma=1.): # 根据状态价值函数计算动作价值函数\r\n",
    "    if s is not None: # 针对单个状态求解\r\n",
    "        q = np.zeros(env.unwrapped.nA)\r\n",
    "        for a in range(env.unwrapped.nA):\r\n",
    "            for prob, next_state, reward, done in env.unwrapped.P[s][a]:\r\n",
    "                q[a] += prob * \\\r\n",
    "                        (reward + gamma * v[next_state] * (1. - done))\r\n",
    "    else: # 针对所有状态求解\r\n",
    "        q = np.zeros((env.unwrapped.nS, env.unwrapped.nA))\r\n",
    "        for s in range(env.unwrapped.nS):\r\n",
    "            q[s] = v2q(env, v, s, gamma)\r\n",
    "    return q\r\n",
    "\r\n",
    "def evaluate_policy(env, policy, gamma=1., tolerant=1e-6):\r\n",
    "    v = np.zeros(env.unwrapped.nS) # 初始化状态价值函数\r\n",
    "    while True: # 循环\r\n",
    "        delta = 0\r\n",
    "        for s in range(env.unwrapped.nS):\r\n",
    "            vs = sum(policy[s] * v2q(env, v, s, gamma)) # 更新状态价值函数\r\n",
    "            delta = max(delta, abs(v[s]-vs)) # 更新最大误差\r\n",
    "            v[s] = vs # 更新状态价值函数\r\n",
    "        if delta < tolerant: # 查看是否满足迭代条件\r\n",
    "            break\r\n",
    "    return v"
   ]
  },
  {
   "cell_type": "code",
   "execution_count": 7,
   "metadata": {
    "collapsed": false
   },
   "outputs": [
    {
     "name": "stdout",
     "output_type": "stream",
     "text": [
      "状态价值函数：\n",
      "[[0.0139372  0.01162942 0.02095187 0.01047569]\n",
      " [0.01624741 0.         0.04075119 0.        ]\n",
      " [0.03480561 0.08816967 0.14205297 0.        ]\n",
      " [0.         0.17582021 0.43929104 0.        ]]\n",
      "动作价值函数：\n",
      "[[0.01470727 0.01393801 0.01393801 0.01316794]\n",
      " [0.00852221 0.01162969 0.01086043 0.01550616]\n",
      " [0.02444416 0.0209521  0.02405958 0.01435233]\n",
      " [0.01047585 0.01047585 0.00698379 0.01396775]\n",
      " [0.02166341 0.01701767 0.0162476  0.01006154]\n",
      " [0.         0.         0.         0.        ]\n",
      " [0.05433495 0.04735099 0.05433495 0.00698396]\n",
      " [0.         0.         0.         0.        ]\n",
      " [0.01701767 0.04099176 0.03480569 0.04640756]\n",
      " [0.0702086  0.11755959 0.10595772 0.05895286]\n",
      " [0.18940397 0.17582024 0.16001408 0.04297362]\n",
      " [0.         0.         0.         0.        ]\n",
      " [0.         0.         0.         0.        ]\n",
      " [0.08799662 0.20503708 0.23442697 0.17582024]\n",
      " [0.25238807 0.53837042 0.52711467 0.43929106]\n",
      " [0.         0.         0.         0.        ]]\n"
     ]
    }
   ],
   "source": [
    "print('状态价值函数：')\r\n",
    "v_random = evaluate_policy(env, random_policy)\r\n",
    "print(v_random.reshape(4, 4))\r\n",
    "\r\n",
    "print('动作价值函数：')\r\n",
    "q_random = v2q(env, v_random)\r\n",
    "print(q_random)"
   ]
  },
  {
   "cell_type": "code",
   "execution_count": 8,
   "metadata": {
    "collapsed": false
   },
   "outputs": [],
   "source": [
    "def improve_policy(env, v, policy, gamma=1.):\r\n",
    "    optimal = True\r\n",
    "    for s in range(env.unwrapped.nS):\r\n",
    "        q = v2q(env, v, s, gamma)\r\n",
    "        a = np.argmax(q)\r\n",
    "        if policy[s][a] != 1.:\r\n",
    "            optimal = False\r\n",
    "            policy[s] = 0.\r\n",
    "            policy[s][a] = 1.\r\n",
    "    return optimal"
   ]
  },
  {
   "cell_type": "code",
   "execution_count": 9,
   "metadata": {
    "collapsed": false
   },
   "outputs": [
    {
     "name": "stdout",
     "output_type": "stream",
     "text": [
      "有更新，更新后的策略为：\n",
      "[[1. 0. 0. 0.]\n",
      " [0. 0. 0. 1.]\n",
      " [1. 0. 0. 0.]\n",
      " [0. 0. 0. 1.]\n",
      " [1. 0. 0. 0.]\n",
      " [1. 0. 0. 0.]\n",
      " [1. 0. 0. 0.]\n",
      " [1. 0. 0. 0.]\n",
      " [0. 0. 0. 1.]\n",
      " [0. 1. 0. 0.]\n",
      " [1. 0. 0. 0.]\n",
      " [1. 0. 0. 0.]\n",
      " [1. 0. 0. 0.]\n",
      " [0. 0. 1. 0.]\n",
      " [0. 1. 0. 0.]\n",
      " [1. 0. 0. 0.]]\n"
     ]
    }
   ],
   "source": [
    "policy = random_policy.copy()\r\n",
    "optimal = improve_policy(env, v_random, policy)\r\n",
    "if optimal:\r\n",
    "    print('无更新，最优策略为：')\r\n",
    "else:\r\n",
    "    print('有更新，更新后的策略为：')\r\n",
    "print(policy)"
   ]
  },
  {
   "cell_type": "code",
   "execution_count": 10,
   "metadata": {
    "collapsed": false
   },
   "outputs": [
    {
     "name": "stdout",
     "output_type": "stream",
     "text": [
      "状态价值函数 =\n",
      "[[0.82351246 0.82350689 0.82350303 0.82350106]\n",
      " [0.82351416 0.         0.5294002  0.        ]\n",
      " [0.82351683 0.82352026 0.76469786 0.        ]\n",
      " [0.         0.88234658 0.94117323 0.        ]]\n",
      "最优策略 =\n",
      "[[0 3 3 3]\n",
      " [0 0 0 0]\n",
      " [3 1 0 0]\n",
      " [0 2 1 0]]\n"
     ]
    }
   ],
   "source": [
    "def iterate_policy(env, gamma=1., tolerant=1e-6):\r\n",
    "     # 初始化为任意一个策略\r\n",
    "    policy = np.ones((env.unwrapped.nS, env.unwrapped.nA)) \\\r\n",
    "            / env.unwrapped.nA\r\n",
    "    while True:\r\n",
    "        v = evaluate_policy(env, policy, gamma, tolerant) # 策略评估\r\n",
    "        if improve_policy(env, v, policy): # 策略改进\r\n",
    "            break\r\n",
    "    return policy, v\r\n",
    "\r\n",
    "policy_pi, v_pi = iterate_policy(env)\r\n",
    "print('状态价值函数 =')\r\n",
    "print(v_pi.reshape(4, 4))\r\n",
    "print('最优策略 =')\r\n",
    "print(np.argmax(policy_pi, axis=1).reshape(4, 4))"
   ]
  },
  {
   "cell_type": "code",
   "execution_count": 11,
   "metadata": {
    "collapsed": false
   },
   "outputs": [
    {
     "name": "stdout",
     "output_type": "stream",
     "text": [
      "策略迭代 平均奖励：0.77\n"
     ]
    }
   ],
   "source": [
    "episode_rewards = [play_policy(env, policy_pi)  for _ in range(100)]\r\n",
    "print(\"策略迭代 平均奖励：{}\".format(np.mean(episode_rewards)))"
   ]
  },
  {
   "cell_type": "code",
   "execution_count": 12,
   "metadata": {
    "collapsed": false
   },
   "outputs": [
    {
     "name": "stdout",
     "output_type": "stream",
     "text": [
      "状态价值函数 =\n",
      "[[0.82351232 0.82350671 0.82350281 0.82350083]\n",
      " [0.82351404 0.         0.52940011 0.        ]\n",
      " [0.82351673 0.82352018 0.76469779 0.        ]\n",
      " [0.         0.88234653 0.94117321 0.        ]]\n",
      "最优策略 =\n",
      "[[0 3 3 3]\n",
      " [0 0 0 0]\n",
      " [3 1 0 0]\n",
      " [0 2 1 0]]\n"
     ]
    }
   ],
   "source": [
    "def iterate_value(env, gamma=1, tolerant=1e-6):\r\n",
    "    v = np.zeros(env.unwrapped.nS) # 初始化\r\n",
    "    while True:\r\n",
    "        delta = 0\r\n",
    "        for s in range(env.unwrapped.nS):\r\n",
    "            vmax = max(v2q(env, v, s, gamma)) # 更新价值函数\r\n",
    "            delta = max(delta, abs(v[s]-vmax))\r\n",
    "            v[s] = vmax\r\n",
    "        if delta < tolerant: # 满足迭代需求\r\n",
    "            break\r\n",
    "            \r\n",
    "    policy = np.zeros((env.unwrapped.nS, env.unwrapped.nA)) # 计算最优策略\r\n",
    "    for s in range(env.unwrapped.nS):\r\n",
    "        a = np.argmax(v2q(env, v, s, gamma))\r\n",
    "        policy[s][a] = 1.\r\n",
    "    return policy, v\r\n",
    "\r\n",
    "policy_vi, v_vi = iterate_value(env)\r\n",
    "print('状态价值函数 =')\r\n",
    "print(v_vi.reshape(4, 4))\r\n",
    "print('最优策略 =')\r\n",
    "print(np.argmax(policy_vi, axis=1).reshape(4, 4))"
   ]
  },
  {
   "cell_type": "code",
   "execution_count": 13,
   "metadata": {
    "collapsed": false
   },
   "outputs": [
    {
     "name": "stdout",
     "output_type": "stream",
     "text": [
      "价值迭代 平均奖励：0.7\n"
     ]
    }
   ],
   "source": [
    "episode_rewards = [play_policy(env, policy_vi) for _ in range(100)]\r\n",
    "print(\"价值迭代 平均奖励：{}\".format(np.mean(episode_rewards)))"
   ]
  }
 ],
 "metadata": {
  "kernelspec": {
   "display_name": "PaddlePaddle 2.0.0b0 (Python 3.5)",
   "language": "python",
   "name": "py35-paddle1.2.0"
  },
  "language_info": {
   "codemirror_mode": {
    "name": "ipython",
    "version": 3
   },
   "file_extension": ".py",
   "mimetype": "text/x-python",
   "name": "python",
   "nbconvert_exporter": "python",
   "pygments_lexer": "ipython3",
   "version": "3.7.4"
  }
 },
 "nbformat": 4,
 "nbformat_minor": 1
}
