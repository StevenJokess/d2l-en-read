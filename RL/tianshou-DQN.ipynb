{
 "metadata": {
  "language_info": {
   "codemirror_mode": {
    "name": "ipython",
    "version": 3
   },
   "file_extension": ".py",
   "mimetype": "text/x-python",
   "name": "python",
   "nbconvert_exporter": "python",
   "pygments_lexer": "ipython3",
   "version": "3.8.5-final"
  },
  "orig_nbformat": 2,
  "kernelspec": {
   "name": "python38364bitpytorchconda70fdc7f787194f4c972bb3207dd25917",
   "display_name": "Python 3.8.3 64-bit ('pytorch': conda)",
   "language": "python"
  }
 },
 "nbformat": 4,
 "nbformat_minor": 2,
 "cells": [
  {
   "cell_type": "code",
   "execution_count": 1,
   "metadata": {},
   "outputs": [],
   "source": [
    "import gym, torch, numpy as np, torch.nn as nn\n",
    "from torch.utils.tensorboard import SummaryWriter\n",
    "import tianshou as ts"
   ]
  },
  {
   "cell_type": "code",
   "execution_count": 2,
   "metadata": {},
   "outputs": [],
   "source": [
    "task = 'CartPole-v0'\n",
    "lr = 1e-3\n",
    "gamma = 0.9\n",
    "n_step = 4\n",
    "eps_train, eps_test = 0.1, 0.05\n",
    "epoch = 10\n",
    "step_per_epoch = 1000\n",
    "collect_per_step = 10\n",
    "target_freq = 320\n",
    "batch_size = 64\n",
    "train_num, test_num = 8, 100\n",
    "buffer_size = 20000\n",
    "writer = SummaryWriter('log/dqn')"
   ]
  },
  {
   "source": [
    "https://github.com/thu-ml/tianshou/issues/285"
   ],
   "cell_type": "markdown",
   "metadata": {}
  },
  {
   "cell_type": "code",
   "execution_count": 3,
   "metadata": {},
   "outputs": [],
   "source": [
    "# you can also use SubprocVectorEnv\n",
    "train_envs = ts.env.DummyVectorEnv([\n",
    "    lambda: gym.make(task) for _ in range(train_num)])\n",
    "test_envs = ts.env.DummyVectorEnv([\n",
    "    lambda: gym.make(task) for _ in range(test_num)])"
   ]
  }
 ]
}