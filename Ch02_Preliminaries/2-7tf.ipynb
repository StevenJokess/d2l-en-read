{
 "metadata": {
  "language_info": {
   "codemirror_mode": {
    "name": "ipython",
    "version": 3
   },
   "file_extension": ".py",
   "mimetype": "text/x-python",
   "name": "python",
   "nbconvert_exporter": "python",
   "pygments_lexer": "ipython3",
   "version": "3.7.8-final"
  },
  "orig_nbformat": 2,
  "kernelspec": {
   "name": "python37864bittf2conda1de394c9651a4d19aa25641a40b8d2d8",
   "display_name": "Python 3.7.8 64-bit ('tf2': conda)"
  }
 },
 "nbformat": 4,
 "nbformat_minor": 2,
 "cells": [
  {
   "cell_type": "code",
   "execution_count": 1,
   "metadata": {
    "tags": []
   },
   "outputs": [
    {
     "output_type": "stream",
     "name": "stdout",
     "text": "['Algorithm', 'Generator', '__builtins__', '__cached__', '__doc__', '__file__', '__loader__', '__name__', '__package__', '__path__', '__spec__', '_sys', 'all_candidate_sampler', 'categorical', 'create_rng_state', 'experimental', 'fixed_unigram_candidate_sampler', 'gamma', 'get_global_generator', 'learned_unigram_candidate_sampler', 'log_uniform_candidate_sampler', 'normal', 'poisson', 'set_global_generator', 'set_seed', 'shuffle', 'stateless_binomial', 'stateless_categorical', 'stateless_gamma', 'stateless_normal', 'stateless_parameterized_truncated_normal', 'stateless_poisson', 'stateless_truncated_normal', 'stateless_uniform', 'truncated_normal', 'uniform', 'uniform_candidate_sampler']\n"
    }
   ],
   "source": [
    "import tensorflow as tf\n",
    "print(dir(tf.random))"
   ]
  },
  {
   "cell_type": "code",
   "execution_count": 2,
   "metadata": {
    "tags": []
   },
   "outputs": [
    {
     "output_type": "stream",
     "name": "stdout",
     "text": "Help on function ones in module tensorflow.python.ops.array_ops:\n\nones(shape, dtype=tf.float32, name=None)\n    Creates a tensor with all elements set to one (1).\n    \n    See also `tf.ones_like`, `tf.zeros`, `tf.fill`, `tf.eye`.\n    \n    This operation returns a tensor of type `dtype` with shape `shape` and\n    all elements set to one.\n    \n    >>> tf.ones([3, 4], tf.int32)\n    <tf.Tensor: shape=(3, 4), dtype=int32, numpy=\n    array([[1, 1, 1, 1],\n           [1, 1, 1, 1],\n           [1, 1, 1, 1]], dtype=int32)>\n    \n    Args:\n      shape: A `list` of integers, a `tuple` of integers, or\n        a 1-D `Tensor` of type `int32`.\n      dtype: Optional DType of an element in the resulting `Tensor`. Default is\n        `tf.float32`.\n      name: Optional string. A name for the operation.\n    \n    Returns:\n      A `Tensor` with all elements set to one (1).\n\n"
    }
   ],
   "source": [
    "help(tf.ones)"
   ]
  },
  {
   "cell_type": "code",
   "execution_count": 3,
   "metadata": {},
   "outputs": [
    {
     "output_type": "execute_result",
     "data": {
      "text/plain": "<tf.Tensor: shape=(4,), dtype=float32, numpy=array([1., 1., 1., 1.], dtype=float32)>"
     },
     "metadata": {},
     "execution_count": 3
    }
   ],
   "source": [
    "tf.ones(4)"
   ]
  }
 ]
}